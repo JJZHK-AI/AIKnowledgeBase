{
 "cells": [
  {
   "cell_type": "markdown",
   "metadata": {
    "collapsed": true,
    "pycharm": {}
   },
   "source": [
    "Bagging与随机森林之二\n",
    "==="
   ]
  },
  {
   "cell_type": "markdown",
   "metadata": {
    "pycharm": {}
   },
   "source": [
    "# 4.总结\n",
    "决策树是一个很流行的机器学习算法。这个算法的性能在特征值的缩放和各种转换的情况下依然保持不变，即使在包含不相关特征的前提下，它依然很健壮。然而，决策树很容易过拟合训练集。它有低的偏差，但是有很高的方差，因此它的准确性不怎么好。bagging是早期的集成方法(ensemble method)，它可以重复地构建多个决策树基于有放回地重新采样，然后集成这些决策树模型进行投票，从而得到更好地准确性。"
   ]
  },
  {
   "cell_type": "markdown",
   "metadata": {
    "pycharm": {}
   },
   "source": [
    "## 4.1.正确采样率\n",
    "下面的程序模拟了采样次数以及正确采样率"
   ]
  },
  {
   "cell_type": "code",
   "execution_count": 1,
   "metadata": {
    "pycharm": {
     "name": "#%%\n"
    }
   },
   "outputs": [
    {
     "name": "stderr",
     "output_type": "stream",
     "text": [
      "/Users/JJZHK/miniconda3/lib/python3.7/site-packages/ipykernel_launcher.py:24: DeprecationWarning: `np.float` is a deprecated alias for the builtin `float`. To silence this warning, use `float` by itself. Doing this will not modify any behavior and is safe. If you specifically wanted the numpy scalar type, use `np.float64` here.\n",
      "Deprecated in NumPy 1.20; for more details and guidance: https://numpy.org/devdocs/release/1.20.0-notes.html#deprecations\n"
     ]
    },
    {
     "name": "stdout",
     "output_type": "stream",
     "text": [
      "9 次采样正确率： 0.6214209454492188\n",
      "109 次采样正确率： 0.8529248106496278\n",
      "209 次采样正确率： 0.9266174850684462\n",
      "309 次采样正确率： 0.9611075441817517\n",
      "409 次采样正确率： 0.9787555232982922\n",
      "509 次采样正确率： 0.9881786394306903\n",
      "609 次采样正确率： 0.9933384209653018\n",
      "709 次采样正确率： 0.9962112837399784\n"
     ]
    },
    {
     "data": {
      "image/png": "[encoded data removed]",
      "text/plain": [
       "<Figure size 432x288 with 1 Axes>"
      ]
     },
     "metadata": {},
     "output_type": "display_data"
    }
   ],
   "source": [
    "import operator\n",
    "import numpy as np\n",
    "import matplotlib.pyplot as plt\n",
    "import matplotlib as mpl\n",
    "from functools import reduce\n",
    "%matplotlib inline\n",
    "\n",
    "def c(n, k):\n",
    "    len1 = n - k + 1\n",
    "    len2 = n + 1\n",
    "    len3 = k + 1\n",
    "    c1 = reduce(operator.mul, range(len1, len2))\n",
    "    c2 = reduce(operator.mul, range(1, len3))\n",
    "    return  c1 / c2;\n",
    "\n",
    "def bagging(n, p):\n",
    "    s = 0\n",
    "    for i in range(int(n / 2 + 1), int(n + 1)):\n",
    "        s += c(n, i) * p ** i * (1 - p) ** (n - i)\n",
    "    return s\n",
    "\n",
    "n = 800\n",
    "x = np.arange(1, n, 2)\n",
    "y = np.empty_like(x, dtype=np.float)\n",
    "for i, t in enumerate(x):\n",
    "    y[i] = bagging(t, 0.55)\n",
    "    if t % 100 == 9:\n",
    "        print(t, '次采样正确率：', y[i])\n",
    "mpl.rcParams[u'font.sans-serif'] = u'SimHei'\n",
    "mpl.rcParams[u'axes.unicode_minus'] = False\n",
    "plt.figure(facecolor='w')\n",
    "plt.plot(x, y, 'ro-', lw=2)\n",
    "plt.xlim(0,100)\n",
    "plt.ylim(0.55, 1)\n",
    "plt.xlabel(u'采样次数', fontsize=16)\n",
    "plt.ylabel(u'正确率', fontsize=16)\n",
    "plt.title(u'Bagging', fontsize=20)\n",
    "plt.grid(b=True)"
   ]
  }
 ],
 "metadata": {
  "interpreter": {
   "hash": "962ff1a08bbd29f414ba67199d725d5b08f35603471a3d6cc67d6569664ed27c"
  },
  "kernelspec": {
   "display_name": "Python 3",
   "language": "python",
   "name": "python3"
  },
  "language_info": {
   "codemirror_mode": {
    "name": "ipython",
    "version": 3
   },
   "file_extension": ".py",
   "mimetype": "text/x-python",
   "name": "python",
   "nbconvert_exporter": "python",
   "pygments_lexer": "ipython3",
   "version": "3.7.10"
  }
 },
 "nbformat": 4,
 "nbformat_minor": 2
}
