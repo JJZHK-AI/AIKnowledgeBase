{
 "nbformat": 4,
 "nbformat_minor": 2,
 "metadata": {
  "language_info": {
   "name": "python",
   "codemirror_mode": {
    "name": "ipython",
    "version": 3
   },
   "version": "3.6.10-final"
  },
  "orig_nbformat": 2,
  "file_extension": ".py",
  "mimetype": "text/x-python",
  "name": "python",
  "npconvert_exporter": "python",
  "pygments_lexer": "ipython3",
  "version": 3,
  "kernelspec": {
   "name": "python36964bitanaconda3virtualenv5d618e8c7b894374a565943176146b80",
   "display_name": "Python 3.6.9 64-bit ('anaconda3': virtualenv)"
  }
 },
 "cells": [
  {
   "cell_type": "markdown",
   "source": [
    "使用Pytorch对非线性数据进行分类\n",
    "==="
   ],
   "metadata": {}
  },
  {
   "cell_type": "code",
   "execution_count": 14,
   "source": [
    "import numpy as np\n",
    "import pandas as pd\n",
    "import matplotlib as mpl\n",
    "import torch\n",
    "\n",
    "import torch.nn.functional as F\n",
    "from sklearn.model_selection import train_test_split\n",
    "from matplotlib import pyplot as plt\n",
    "import matplotlib.animation as animation\n",
    "from torch.autograd import Variable\n",
    "from sklearn.datasets import make_circles\n",
    "STEPS = 30000\n",
    "DECAY_STEP = 100\n",
    "\n",
    "cm_light = mpl.colors.ListedColormap(['#A0FFA0', '#FFA0A0'])\n",
    "cm_dark = mpl.colors.ListedColormap(['g', 'r'])\n",
    "\n",
    "x_data, y_data = make_circles(n_samples=200, noise=0.2, factor=0.1)\n",
    "\n",
    "x_data = pd.DataFrame(x_data)\n",
    "x_train, x_test, y_train, y_test = train_test_split(x_data, y_data, test_size=0.2, random_state=1)\n",
    "\n",
    "x_train = torch.FloatTensor(x_train.values[:])\n",
    "y_train = torch.LongTensor(y_train)\n",
    "\n",
    "x, y = Variable(x_train), Variable(y_train)\n",
    "\n",
    "class Net(torch.nn.Module):\n",
    "    def __init__(self, n_feature, n_hidden, n_output):\n",
    "        super(Net, self).__init__()\n",
    "        self.hidden = torch.nn.Linear(n_feature, n_hidden)   # hidden layer\n",
    "        self.out = torch.nn.Linear(n_hidden, n_output)   # output layer\n",
    "\n",
    "    def forward(self, x):\n",
    "        x = F.relu(self.hidden(x))      # activation function for hidden layer\n",
    "        x = self.out(x)\n",
    "        return x\n",
    "\n",
    "net = Net(n_feature=2, n_hidden=10, n_output=2)     # define the network\n",
    "\n",
    "optimizer = torch.optim.RMSprop(net.parameters(), lr=0.01)\n",
    "loss_func = torch.nn.CrossEntropyLoss()  # the target label is NOT an one-hotted\n",
    "\n",
    "predict = []\n",
    "myloss = []\n",
    "N, M = 50,50 # 横纵各采样多少个值\n",
    "x1_min, x2_min = x_data.min()\n",
    "x1_max, x2_max = x_data.max()\n",
    "t1 = np.linspace(x1_min, x1_max, N)\n",
    "t2 = np.linspace(x2_min, x2_max, M)\n",
    "x1, x2 = np.meshgrid(t1, t2)  # 生成网格采样点\n",
    "x_show = np.stack((x1.flat, x2.flat), axis=1)  # 测试点\n",
    "\n",
    "for step in range(STEPS):\n",
    "    out = net(x)                 # input x and predict based on x\n",
    "    loss = loss_func(out, y)     # must be (1. nn output, 2. target), the target label is NOT one-hotted\n",
    "\n",
    "    optimizer.zero_grad()   # clear gradients for next train\n",
    "    loss.backward()         # backpropagation, compute gradients\n",
    "    optimizer.step()        # apply gradients\n",
    "\n",
    "    _, prediction = torch.max(F.softmax(out, dim=None), 1)\n",
    "    pred_y = prediction.data.numpy().squeeze()\n",
    "    target_y = y.data.numpy()\n",
    "    accuracy = sum(pred_y == target_y)/x.shape[0]\n",
    "\n",
    "    if (step + 1) % DECAY_STEP == 0:\n",
    "        out = net(Variable(torch.FloatTensor(x_show)))\n",
    "        _, prediction = torch.max(F.softmax(out, dim=None), 1)\n",
    "        pred_y = prediction.data.numpy().squeeze()\n",
    "        predict.append(pred_y)\n",
    "        myloss.append(loss.item())\n",
    "\n",
    "fig, axes = plt.subplots()\n",
    "plt.xlabel(\"X1\", fontsize=15)\n",
    "plt.ylabel(\"X2\", fontsize=15)\n",
    "plt.xlim(x1_min, x1_max)\n",
    "plt.ylim(x2_min, x2_max)\n",
    "plt.suptitle(\"Pytorch\")\n",
    "time_template = 'step = %d, train loss=%.9f'\n",
    "\n",
    "def animate(i):\n",
    "    plt.title(time_template % (i * DECAY_STEP, myloss[i]))\n",
    "    plt.pcolormesh(x1, x2, predict[i].reshape(x1.shape), cmap=cm_light)\n",
    "    plt.scatter(x_data[0], x_data[1], c=y_data.ravel(), edgecolors='k', s=40, cmap=cm_dark)\n",
    "\n",
    "\n",
    "# anim = animation.FuncAnimation(fig, animate, frames=range(int(STEPS / DECAY_STEP)),\n",
    "#                                blit=False,interval=50)\n",
    "# anim.save(\"02_13_05.gif\", writer='imagemagick', fps=100)\n",
    "# plt.show()\n"
   ],
   "outputs": [
    {
     "output_type": "display_data",
     "data": {
      "text/plain": [
       "<Figure size 432x288 with 1 Axes>"
      ],
      "image/svg+xml": "<?xml version=\"1.0\" encoding=\"utf-8\" standalone=\"no\"?>\n<!DOCTYPE svg PUBLIC \"-//W3C//DTD SVG 1.1//EN\"\n  \"http://www.w3.org/Graphics/SVG/1.1/DTD/svg11.dtd\">\n<!-- Created with matplotlib (https://matplotlib.org/) -->\n<svg height=\"291.9525pt\" version=\"1.1\" viewBox=\"0 0 392.3875 291.9525\" width=\"392.3875pt\" xmlns=\"http://www.w3.org/2000/svg\" xmlns:xlink=\"http://www.w3.org/1999/xlink\">\n <defs>\n  <style type=\"text/css\">\n*{stroke-linecap:butt;stroke-linejoin:round;}\n  </style>\n </defs>\n <g id=\"figure_1\">\n  <g id=\"patch_1\">\n   <path d=\"M -0 291.9525 \nL 392.3875 291.9525 \nL 392.3875 0 \nL -0 0 \nz\n\" style=\"fill:none;\"/>\n  </g>\n  <g id=\"axes_1\">\n   <g id=\"patch_2\">\n    <path d=\"M 50.3875 253.44 \nL 385.1875 253.44 \nL 385.1875 36 \nL 50.3875 36 \nz\n\" style=\"fill:#ffffff;\"/>\n   </g>\n   <g id=\"matplotlib.axis_1\">\n    <g id=\"xtick_1\">\n     <g id=\"line2d_1\">\n      <defs>\n       <path d=\"M 0 0 \nL 0 3.5 \n\" id=\"m41e268cfaf\" style=\"stroke:#000000;stroke-width:0.8;\"/>\n      </defs>\n      <g>\n       <use style=\"stroke:#000000;stroke-width:0.8;\" x=\"87.566248\" xlink:href=\"#m41e268cfaf\" y=\"253.44\"/>\n      </g>\n     </g>\n     <g id=\"text_1\">\n      <!-- -1.0 -->\n      <defs>\n       <path d=\"M 46.875 32.8125 \nL 2.34375 32.8125 \nL 2.34375 39.0625 \nL 46.875 39.0625 \nz\n\" id=\"SimHei-45\"/>\n       <path d=\"M 30.46875 1.5625 \nL 21.484375 1.5625 \nL 21.484375 53.515625 \nL 9.765625 53.515625 \nL 9.765625 58.203125 \nQ 16.796875 58.203125 20.703125 60.9375 \nQ 24.609375 63.671875 25.78125 69.140625 \nL 30.46875 69.140625 \nz\n\" id=\"SimHei-49\"/>\n       <path d=\"M 17.1875 1.5625 \nL 8.203125 1.5625 \nL 8.203125 10.15625 \nL 17.1875 10.15625 \nz\n\" id=\"SimHei-46\"/>\n       <path d=\"M 46.484375 35.15625 \nQ 46.484375 21.09375 41.40625 10.9375 \nQ 36.328125 0.78125 25 0.78125 \nQ 13.671875 0.78125 8.390625 10.9375 \nQ 3.125 21.09375 3.125 35.15625 \nQ 3.125 49.21875 8.390625 59.171875 \nQ 13.671875 69.140625 25 69.140625 \nQ 36.328125 69.140625 41.40625 59.171875 \nQ 46.484375 49.21875 46.484375 35.15625 \nz\nM 37.109375 35.15625 \nQ 37.109375 47.65625 34.171875 54.6875 \nQ 31.25 61.71875 25 61.71875 \nQ 18.75 61.71875 15.625 54.6875 \nQ 12.5 47.65625 12.5 35.15625 \nQ 12.5 22.65625 15.625 15.421875 \nQ 18.75 8.203125 25 8.203125 \nQ 31.25 8.203125 34.171875 15.421875 \nQ 37.109375 22.65625 37.109375 35.15625 \nz\n\" id=\"SimHei-48\"/>\n      </defs>\n      <g transform=\"translate(77.566248 267.275937)scale(0.1 -0.1)\">\n       <use xlink:href=\"#SimHei-45\"/>\n       <use x=\"50\" xlink:href=\"#SimHei-49\"/>\n       <use x=\"100\" xlink:href=\"#SimHei-46\"/>\n       <use x=\"150\" xlink:href=\"#SimHei-48\"/>\n      </g>\n     </g>\n    </g>\n    <g id=\"xtick_2\">\n     <g id=\"line2d_2\">\n      <g>\n       <use style=\"stroke:#000000;stroke-width:0.8;\" x=\"148.422286\" xlink:href=\"#m41e268cfaf\" y=\"253.44\"/>\n      </g>\n     </g>\n     <g id=\"text_2\">\n      <!-- -0.5 -->\n      <defs>\n       <path d=\"M 44.140625 25.78125 \nQ 44.140625 14.0625 38.46875 7.421875 \nQ 32.8125 0.78125 23.4375 0.78125 \nQ 15.234375 0.78125 9.953125 6.25 \nQ 4.6875 11.71875 4.296875 21.09375 \nL 13.28125 21.09375 \nQ 13.28125 15.234375 16.015625 11.71875 \nQ 18.75 8.203125 23.828125 8.203125 \nQ 28.90625 8.203125 31.828125 12.5 \nQ 34.765625 16.796875 34.765625 25.78125 \nQ 34.765625 33.59375 32.21875 37.296875 \nQ 29.6875 41.015625 25.390625 41.015625 \nQ 21.875 41.015625 19.328125 39.453125 \nQ 16.796875 37.890625 14.453125 33.984375 \nL 6.640625 33.984375 \nL 8.984375 68.359375 \nL 42.578125 68.359375 \nL 42.578125 60.9375 \nL 16.40625 60.9375 \nL 14.84375 42.96875 \nQ 17.1875 45.3125 19.921875 46.484375 \nQ 22.65625 47.65625 27.34375 47.65625 \nQ 34.765625 47.65625 39.453125 41.984375 \nQ 44.140625 36.328125 44.140625 25.78125 \nz\n\" id=\"SimHei-53\"/>\n      </defs>\n      <g transform=\"translate(138.422286 267.275937)scale(0.1 -0.1)\">\n       <use xlink:href=\"#SimHei-45\"/>\n       <use x=\"50\" xlink:href=\"#SimHei-48\"/>\n       <use x=\"100\" xlink:href=\"#SimHei-46\"/>\n       <use x=\"150\" xlink:href=\"#SimHei-53\"/>\n      </g>\n     </g>\n    </g>\n    <g id=\"xtick_3\">\n     <g id=\"line2d_3\">\n      <g>\n       <use style=\"stroke:#000000;stroke-width:0.8;\" x=\"209.278323\" xlink:href=\"#m41e268cfaf\" y=\"253.44\"/>\n      </g>\n     </g>\n     <g id=\"text_3\">\n      <!-- 0.0 -->\n      <g transform=\"translate(201.778323 267.275937)scale(0.1 -0.1)\">\n       <use xlink:href=\"#SimHei-48\"/>\n       <use x=\"50\" xlink:href=\"#SimHei-46\"/>\n       <use x=\"100\" xlink:href=\"#SimHei-48\"/>\n      </g>\n     </g>\n    </g>\n    <g id=\"xtick_4\">\n     <g id=\"line2d_4\">\n      <g>\n       <use style=\"stroke:#000000;stroke-width:0.8;\" x=\"270.13436\" xlink:href=\"#m41e268cfaf\" y=\"253.44\"/>\n      </g>\n     </g>\n     <g id=\"text_4\">\n      <!-- 0.5 -->\n      <g transform=\"translate(262.63436 267.275937)scale(0.1 -0.1)\">\n       <use xlink:href=\"#SimHei-48\"/>\n       <use x=\"50\" xlink:href=\"#SimHei-46\"/>\n       <use x=\"100\" xlink:href=\"#SimHei-53\"/>\n      </g>\n     </g>\n    </g>\n    <g id=\"xtick_5\">\n     <g id=\"line2d_5\">\n      <g>\n       <use style=\"stroke:#000000;stroke-width:0.8;\" x=\"330.990397\" xlink:href=\"#m41e268cfaf\" y=\"253.44\"/>\n      </g>\n     </g>\n     <g id=\"text_5\">\n      <!-- 1.0 -->\n      <g transform=\"translate(323.490397 267.275937)scale(0.1 -0.1)\">\n       <use xlink:href=\"#SimHei-49\"/>\n       <use x=\"50\" xlink:href=\"#SimHei-46\"/>\n       <use x=\"100\" xlink:href=\"#SimHei-48\"/>\n      </g>\n     </g>\n    </g>\n    <g id=\"text_6\">\n     <!-- X1 -->\n     <defs>\n      <path d=\"M 47.265625 1.5625 \nL 37.890625 1.5625 \nL 24.609375 28.90625 \nL 11.328125 1.5625 \nL 1.953125 1.5625 \nL 20.3125 36.71875 \nL 3.90625 68.359375 \nL 13.28125 68.359375 \nL 24.609375 44.140625 \nL 35.9375 68.359375 \nL 45.3125 68.359375 \nL 28.90625 36.71875 \nz\n\" id=\"SimHei-88\"/>\n     </defs>\n     <g transform=\"translate(210.2875 282.818906)scale(0.15 -0.15)\">\n      <use xlink:href=\"#SimHei-88\"/>\n      <use x=\"50\" xlink:href=\"#SimHei-49\"/>\n     </g>\n    </g>\n   </g>\n   <g id=\"matplotlib.axis_2\">\n    <g id=\"ytick_1\">\n     <g id=\"line2d_6\">\n      <defs>\n       <path d=\"M 0 0 \nL -3.5 0 \n\" id=\"mb3786dbd65\" style=\"stroke:#000000;stroke-width:0.8;\"/>\n      </defs>\n      <g>\n       <use style=\"stroke:#000000;stroke-width:0.8;\" x=\"50.3875\" xlink:href=\"#mb3786dbd65\" y=\"219.61945\"/>\n      </g>\n     </g>\n     <g id=\"text_7\">\n      <!-- -1.0 -->\n      <g transform=\"translate(23.3875 223.037419)scale(0.1 -0.1)\">\n       <use xlink:href=\"#SimHei-45\"/>\n       <use x=\"50\" xlink:href=\"#SimHei-49\"/>\n       <use x=\"100\" xlink:href=\"#SimHei-46\"/>\n       <use x=\"150\" xlink:href=\"#SimHei-48\"/>\n      </g>\n     </g>\n    </g>\n    <g id=\"ytick_2\">\n     <g id=\"line2d_7\">\n      <g>\n       <use style=\"stroke:#000000;stroke-width:0.8;\" x=\"50.3875\" xlink:href=\"#mb3786dbd65\" y=\"179.8542\"/>\n      </g>\n     </g>\n     <g id=\"text_8\">\n      <!-- -0.5 -->\n      <g transform=\"translate(23.3875 183.272169)scale(0.1 -0.1)\">\n       <use xlink:href=\"#SimHei-45\"/>\n       <use x=\"50\" xlink:href=\"#SimHei-48\"/>\n       <use x=\"100\" xlink:href=\"#SimHei-46\"/>\n       <use x=\"150\" xlink:href=\"#SimHei-53\"/>\n      </g>\n     </g>\n    </g>\n    <g id=\"ytick_3\">\n     <g id=\"line2d_8\">\n      <g>\n       <use style=\"stroke:#000000;stroke-width:0.8;\" x=\"50.3875\" xlink:href=\"#mb3786dbd65\" y=\"140.088951\"/>\n      </g>\n     </g>\n     <g id=\"text_9\">\n      <!-- 0.0 -->\n      <g transform=\"translate(28.3875 143.50692)scale(0.1 -0.1)\">\n       <use xlink:href=\"#SimHei-48\"/>\n       <use x=\"50\" xlink:href=\"#SimHei-46\"/>\n       <use x=\"100\" xlink:href=\"#SimHei-48\"/>\n      </g>\n     </g>\n    </g>\n    <g id=\"ytick_4\">\n     <g id=\"line2d_9\">\n      <g>\n       <use style=\"stroke:#000000;stroke-width:0.8;\" x=\"50.3875\" xlink:href=\"#mb3786dbd65\" y=\"100.323702\"/>\n      </g>\n     </g>\n     <g id=\"text_10\">\n      <!-- 0.5 -->\n      <g transform=\"translate(28.3875 103.74167)scale(0.1 -0.1)\">\n       <use xlink:href=\"#SimHei-48\"/>\n       <use x=\"50\" xlink:href=\"#SimHei-46\"/>\n       <use x=\"100\" xlink:href=\"#SimHei-53\"/>\n      </g>\n     </g>\n    </g>\n    <g id=\"ytick_5\">\n     <g id=\"line2d_10\">\n      <g>\n       <use style=\"stroke:#000000;stroke-width:0.8;\" x=\"50.3875\" xlink:href=\"#mb3786dbd65\" y=\"60.558452\"/>\n      </g>\n     </g>\n     <g id=\"text_11\">\n      <!-- 1.0 -->\n      <g transform=\"translate(28.3875 63.976421)scale(0.1 -0.1)\">\n       <use xlink:href=\"#SimHei-49\"/>\n       <use x=\"50\" xlink:href=\"#SimHei-46\"/>\n       <use x=\"100\" xlink:href=\"#SimHei-48\"/>\n      </g>\n     </g>\n    </g>\n    <g id=\"text_12\">\n     <!-- X2 -->\n     <defs>\n      <path d=\"M 44.53125 1.5625 \nL 4.6875 1.5625 \nL 4.6875 7.8125 \nQ 7.03125 14.0625 11.125 19.328125 \nQ 15.234375 24.609375 23.046875 31.25 \nQ 28.90625 36.328125 31.4375 40.625 \nQ 33.984375 44.921875 33.984375 50 \nQ 33.984375 55.078125 31.828125 58.390625 \nQ 29.6875 61.71875 25 61.71875 \nQ 21.09375 61.71875 18.15625 58.203125 \nQ 15.234375 54.6875 15.234375 45.703125 \nL 6.25 45.703125 \nQ 6.640625 57.03125 11.515625 63.078125 \nQ 16.40625 69.140625 25.390625 69.140625 \nQ 33.984375 69.140625 38.671875 63.859375 \nQ 43.359375 58.59375 43.359375 49.609375 \nQ 43.359375 42.1875 39.0625 36.71875 \nQ 34.765625 31.25 28.515625 25.78125 \nQ 21.484375 19.53125 18.75 16.40625 \nQ 16.015625 13.28125 13.671875 8.984375 \nL 44.53125 8.984375 \nz\n\" id=\"SimHei-50\"/>\n     </defs>\n     <g transform=\"translate(17.453906 152.22)rotate(-90)scale(0.15 -0.15)\">\n      <use xlink:href=\"#SimHei-88\"/>\n      <use x=\"50\" xlink:href=\"#SimHei-50\"/>\n     </g>\n    </g>\n   </g>\n   <g id=\"patch_3\">\n    <path d=\"M 50.3875 253.44 \nL 50.3875 36 \n\" style=\"fill:none;stroke:#000000;stroke-linecap:square;stroke-linejoin:miter;stroke-width:0.8;\"/>\n   </g>\n   <g id=\"patch_4\">\n    <path d=\"M 385.1875 253.44 \nL 385.1875 36 \n\" style=\"fill:none;stroke:#000000;stroke-linecap:square;stroke-linejoin:miter;stroke-width:0.8;\"/>\n   </g>\n   <g id=\"patch_5\">\n    <path d=\"M 50.3875 253.44 \nL 385.1875 253.44 \n\" style=\"fill:none;stroke:#000000;stroke-linecap:square;stroke-linejoin:miter;stroke-width:0.8;\"/>\n   </g>\n   <g id=\"patch_6\">\n    <path d=\"M 50.3875 36 \nL 385.1875 36 \n\" style=\"fill:none;stroke:#000000;stroke-linecap:square;stroke-linejoin:miter;stroke-width:0.8;\"/>\n   </g>\n  </g>\n  <g id=\"text_13\">\n   <!-- Pytorch -->\n   <defs>\n    <path d=\"M 46.484375 48.046875 \nQ 46.484375 38.671875 41.015625 33.203125 \nQ 35.546875 27.734375 25.78125 27.734375 \nL 14.453125 27.734375 \nL 14.453125 1.5625 \nL 5.46875 1.5625 \nL 5.46875 68.359375 \nL 25.78125 68.359375 \nQ 35.546875 68.359375 41.015625 62.890625 \nQ 46.484375 57.421875 46.484375 48.046875 \nz\nM 37.5 48.046875 \nQ 37.5 55.46875 33.984375 58.203125 \nQ 30.46875 60.9375 23.4375 60.9375 \nL 14.453125 60.9375 \nL 14.453125 35.15625 \nL 23.4375 35.15625 \nQ 30.46875 35.15625 33.984375 37.890625 \nQ 37.5 40.625 37.5 48.046875 \nz\n\" id=\"SimHei-80\"/>\n    <path d=\"M 45.703125 45.3125 \nL 27.734375 -1.953125 \nQ 26.171875 -7.421875 23.046875 -10.15625 \nQ 19.921875 -12.890625 15.234375 -12.890625 \nQ 13.28125 -12.890625 11.515625 -12.6875 \nQ 9.765625 -12.5 8.203125 -11.71875 \nL 8.203125 -3.90625 \nQ 9.765625 -4.6875 11.328125 -5.078125 \nQ 12.890625 -5.46875 14.0625 -5.46875 \nQ 17.1875 -5.46875 18.359375 -4.484375 \nQ 19.53125 -3.515625 20.703125 0 \nL 3.515625 45.3125 \nL 12.109375 45.3125 \nL 24.609375 10.9375 \nL 25 10.9375 \nL 37.109375 45.3125 \nz\n\" id=\"SimHei-121\"/>\n    <path d=\"M 43.359375 2.734375 \nQ 41.40625 1.953125 38.859375 1.359375 \nQ 36.328125 0.78125 32.03125 0.78125 \nQ 25 0.78125 20.703125 4.6875 \nQ 16.40625 8.59375 16.40625 15.625 \nL 16.40625 39.0625 \nL 3.125 39.0625 \nL 3.125 45.3125 \nL 16.40625 45.3125 \nL 16.40625 60.546875 \nL 24.21875 60.546875 \nL 24.21875 45.3125 \nL 40.234375 45.3125 \nL 40.234375 39.0625 \nL 24.21875 39.0625 \nL 24.21875 15.234375 \nQ 24.21875 12.109375 25.78125 9.953125 \nQ 27.34375 7.8125 31.640625 7.8125 \nQ 35.9375 7.8125 38.671875 8.59375 \nQ 41.40625 9.375 43.359375 10.546875 \nz\n\" id=\"SimHei-116\"/>\n    <path d=\"M 46.09375 23.4375 \nQ 46.09375 13.28125 39.84375 7.03125 \nQ 33.59375 0.78125 25 0.78125 \nQ 16.40625 0.78125 10.15625 7.03125 \nQ 3.90625 13.28125 3.90625 23.4375 \nQ 3.90625 33.59375 10.15625 39.84375 \nQ 16.40625 46.09375 25 46.09375 \nQ 33.59375 46.09375 39.84375 39.84375 \nQ 46.09375 33.59375 46.09375 23.4375 \nz\nM 37.5 23.4375 \nQ 37.5 31.25 33.59375 35.15625 \nQ 29.6875 39.0625 25 39.0625 \nQ 20.3125 39.0625 16.40625 35.15625 \nQ 12.5 31.25 12.5 23.4375 \nQ 12.5 15.625 16.40625 11.71875 \nQ 20.3125 7.8125 25 7.8125 \nQ 29.6875 7.8125 33.59375 11.71875 \nQ 37.5 15.625 37.5 23.4375 \nz\n\" id=\"SimHei-111\"/>\n    <path d=\"M 39.453125 37.5 \nQ 32.03125 38.671875 26.953125 35.34375 \nQ 21.875 32.03125 18.359375 23.828125 \nL 18.359375 1.5625 \nL 10.546875 1.5625 \nL 10.546875 45.3125 \nL 18.359375 45.3125 \nL 18.359375 33.984375 \nQ 21.875 40.234375 27.140625 43.15625 \nQ 32.421875 46.09375 39.453125 46.09375 \nz\n\" id=\"SimHei-114\"/>\n    <path d=\"M 44.921875 19.140625 \nQ 44.921875 10.9375 39.25 5.859375 \nQ 33.59375 0.78125 25 0.78125 \nQ 16.40625 0.78125 10.15625 6.828125 \nQ 3.90625 12.890625 3.90625 23.4375 \nQ 3.90625 33.984375 10.15625 40.03125 \nQ 16.40625 46.09375 25 46.09375 \nQ 33.59375 46.09375 38.671875 41.59375 \nQ 43.75 37.109375 43.75 30.859375 \nL 35.15625 30.859375 \nQ 34.765625 35.546875 31.828125 37.296875 \nQ 28.90625 39.0625 25 39.0625 \nQ 20.3125 39.0625 16.40625 35.34375 \nQ 12.5 31.640625 12.5 23.4375 \nQ 12.5 15.234375 16.40625 11.515625 \nQ 20.3125 7.8125 25 7.8125 \nQ 30.078125 7.8125 33.203125 10.546875 \nQ 36.328125 13.28125 36.328125 19.140625 \nz\n\" id=\"SimHei-99\"/>\n    <path d=\"M 44.140625 1.5625 \nL 36.328125 1.5625 \nL 36.328125 29.6875 \nQ 36.328125 34.375 33.984375 37.109375 \nQ 31.640625 39.84375 27.734375 39.84375 \nQ 22.65625 39.84375 18.15625 34.5625 \nQ 13.671875 29.296875 13.671875 21.484375 \nL 13.671875 1.5625 \nL 5.859375 1.5625 \nL 5.859375 68.359375 \nL 13.671875 68.359375 \nL 13.671875 37.109375 \nQ 16.796875 41.40625 20.5 43.75 \nQ 24.21875 46.09375 30.078125 46.09375 \nQ 37.109375 46.09375 40.625 42.1875 \nQ 44.140625 38.28125 44.140625 32.421875 \nz\n\" id=\"SimHei-104\"/>\n   </defs>\n   <g transform=\"translate(191.3875 15.403125)scale(0.12 -0.12)\">\n    <use xlink:href=\"#SimHei-80\"/>\n    <use x=\"50\" xlink:href=\"#SimHei-121\"/>\n    <use x=\"100\" xlink:href=\"#SimHei-116\"/>\n    <use x=\"150\" xlink:href=\"#SimHei-111\"/>\n    <use x=\"200\" xlink:href=\"#SimHei-114\"/>\n    <use x=\"250\" xlink:href=\"#SimHei-99\"/>\n    <use x=\"300\" xlink:href=\"#SimHei-104\"/>\n   </g>\n  </g>\n </g>\n</svg>\n",
      "image/png": "[encoded data removed]"
     },
     "metadata": {
      "needs_background": "light"
     }
    }
   ],
   "metadata": {}
  },
  {
   "cell_type": "markdown",
   "source": [
    "![Images](../../images/14_01_002.gif)"
   ],
   "metadata": {}
  }
 ]
}