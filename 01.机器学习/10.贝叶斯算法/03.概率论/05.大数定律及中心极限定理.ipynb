{
 "cells": [
  {
   "cell_type": "markdown",
   "metadata": {
    "collapsed": true
   },
   "source": [
    "大数定律即中心极限定理\n",
    "===\n",
    "中心极限定理"
   ]
  },
  {
   "cell_type": "markdown",
   "metadata": {},
   "source": [
    "# 1.切比雪夫不等式"
   ]
  },
  {
   "cell_type": "markdown",
   "metadata": {},
   "source": [
    "## 1.1.切比雪夫不等式\n",
    "设随机变量X的数学期望$E(X)$和方差$D(X)$都存在，则对任意$\\epsilon>0$都有\n",
    "$$P\\{|X-E(X)| \\geq \\epsilon\\} \\leq \\frac{D(X)}{\\epsilon^2}$$\n",
    "也可以写成\n",
    "$$P\\{|X-\\mu|<\\epsilon\\} \\geq 1-\\frac{\\sigma^2}{\\epsilon^2}$$\n",
    "其中$\\mu$为均值,$\\sigma^2$是方差。这就告诉我们随机变量X落入以均值$\\mu$为中心的$\\epsilon$邻域$(\\mu-\\epsilon,\\mu+\\epsilon)$的概率不低于$1-\\frac{\\sigma^2}{\\epsilon^2}$,另外还有以下两种形式\n",
    "$$P\\{|X-\\mu|\\geq \\epsilon\\}\\leq \\frac{\\sigma^2}{\\epsilon^2}$$\n",
    "$$P\\{|X-\\mu|\\geq \\epsilon \\sigma\\}\\leq \\frac{1}{\\epsilon^2}$$"
   ]
  },
  {
   "cell_type": "markdown",
   "metadata": {},
   "source": [
    "## 1.2.切比雪夫不等式的意义\n",
    "在随机变量X的分布未知，而只知道X的均值和方差(或已知分布但很复杂)的情况下，切比雪夫不等式给出了概率$P\\{|X-E(X)|\\geq \\epsilon\\}$的一个估计范围"
   ]
  },
  {
   "cell_type": "markdown",
   "metadata": {},
   "source": [
    "# 2.大数定律"
   ]
  },
  {
   "cell_type": "markdown",
   "metadata": {},
   "source": [
    "## 2.1.依概率收敛\n",
    "设$X_1,X_2,...,X_n$是一个随机变量序列，a是一个常数，若对于任意实数$\\epsilon>0$都有\n",
    "$$\\lim\\limits_{n \\to \\infty}P\\{|X_n-a|<\\epsilon\\}=1$$\n",
    "则称序列$X_1,X_2,...,X_n$依概率收敛于a，记为$X\\stackrel{P}{\\rightarrow}a$。以上极限也等价于$\\lim\\limits_{n \\to \\infty}P\\{|X_n-a|\\geq \\epsilon\\}=0$。$\\{X_n\\}$依概率收敛于a是指当n充分大后，随机变量$X_n$几乎总是取值a，或者取值与a非常接近"
   ]
  },
  {
   "cell_type": "markdown",
   "metadata": {},
   "source": [
    "## 2.2.大数定律-LLN(the law of large numbers)\n",
    "设$\\{X_k\\}$为随机变量序列，它们的数学期望都存在。若对于任意$\\epsilon>0$，都有\n",
    "$$\n",
    "\\lim\\limits_{n \\to \\infty}\\lgroup|\\frac{1}{n}\\sum_{k=1}^nX_k-\\frac{1}{n}\\sum_{k=1}^nE(X_k)|<\\epsilon\\rgroup=1\n",
    "$$\n",
    "则称随机变量序列$\\{X_k\\}$服从大数定律。以上极限表明\n",
    "$$\n",
    "\\frac{1}{n}\\sum_{k=1}^nX_k \\stackrel{P}{\\rightarrow} \\frac{1}{n}\\sum_{k=1}^nE(X_k)\n",
    "$$"
   ]
  },
  {
   "cell_type": "markdown",
   "metadata": {},
   "source": [
    "## 2.3.切比雪夫大数定律-独立不同分布\n",
    "设$X_1,X_2,...,X_n$是相互独立的随机变量序列，它们的徐雪期望$E(X_k)$和方差$D(X_k)$都存在，且存在常数C，使得$D(X_k)\\leq C$，则对于任意的$\\epsilon>0$，有\n",
    "$$\n",
    "\\lim\\limits_{n \\to \\infty}\\lgroup|\\frac{1}{n}\\sum_{k=1}^nX_k-\\frac{1}{n}\\sum_{k=1}^nE(X_k)|<\\epsilon\\rgroup=1\n",
    "$$\n",
    "这个定理说明，在定理的条件下，当n充分大时，n个相互独立的随机变量的算术平均值将比较密集的聚集在它的数学期望附近，算术平均值与其数学期望之差依概率收敛域0"
   ]
  },
  {
   "cell_type": "markdown",
   "metadata": {},
   "source": [
    "## 2.4.辛钦大数定律-独立同分布\n",
    "设$X_1,X_2,...,X_n$是相互独立，且服从同一分布的随机变量序列，且具有数学期望$E(X_k)=\\mu$，那么对于任意的$\\epsilon>0$，有\n",
    "$$\n",
    "\\lim\\limits_{n \\to \\infty}\\lgroup|\\frac{1}{n}\\sum_{k=1}^nX_k-\\mu|<\\epsilon\\rgroup=1\n",
    "$$"
   ]
  },
  {
   "cell_type": "markdown",
   "metadata": {},
   "source": [
    "## 2.5.伯努利大数定律-频率稳定性\n",
    "这在n次独立试验中事件A发生的次数为$f_A$，p是事件A在每次事件中发生的概率，对于任意$\\epsilon>0$，都有\n",
    "$$\n",
    "\\lim\\limits_{n \\to \\infty}\\lgroup|\\frac{f_A}{n}-p|<\\epsilon\\rgroup=1\n",
    "$$\n",
    "即频率$\\frac{f_A}{n} \\stackrel{P} {\\rightarrow} p$概率"
   ]
  },
  {
   "cell_type": "markdown",
   "metadata": {},
   "source": [
    "# 3.中心极限定理"
   ]
  },
  {
   "cell_type": "markdown",
   "metadata": {},
   "source": [
    "## 3.1.独立同分布中心极限定理-列维林德伯格定理\n",
    "设随机变量$X_1,X_2,...,X_n$是相互独立，且服从同一分布的随机变量序列，且$E(X_k)=\\mu,D(X_k)=\\sigma^2>0$，则随机变量\n",
    "$$Y_n=\\frac{\\sum_{k=1}^nX_k=n\\mu}{\\sqrt{n}\\sigma}$$\n",
    "的分布函数$F_n(x)=P\\{Y_n \\leq x\\}$满足\n",
    "$$\n",
    "\\lim\\limits_{n \\to \\infty}F_n(x)=\\int_{-\\infty}^x\\frac{1}{\\sqrt{2\\pi}}e^{-\\frac{t^2}{2}}dt\n",
    "$$\n",
    "即当n很大时，$Y_n$近似的服从标准正态分布$N(0,1)$,也就有$\\frac{\\overline{X}-\\mu}{\\frac{\\sigma}{\\sqrt{n}}} \\sim N(0,1)$"
   ]
  },
  {
   "cell_type": "markdown",
   "metadata": {},
   "source": [
    "## 3.2.独立不同分布中心极限定理-李雅普诺夫定理"
   ]
  },
  {
   "cell_type": "markdown",
   "metadata": {},
   "source": [
    "## 3.3.二项分布的极限分布-迪莫夫拉普拉斯定理\n",
    "设随机变量$X_n$服从参数为n,p(0<p<1)的二项分布，则对任何x，有\n",
    "$$\n",
    "\\lim\\limits_{n \\to \\infty}P\\{\\frac{X_n-np}{\\sqrt{np(1-p)}} \\leq x\\}=\\int_{-\\infty}^x\\frac{1}{\\sqrt{2\\pi}}e^{-\\frac{t^2}{2}}dt\n",
    "$$"
   ]
  }
 ],
 "metadata": {
  "kernelspec": {
   "display_name": "Python 3",
   "language": "python",
   "name": "python3"
  },
  "language_info": {
   "codemirror_mode": {
    "name": "ipython",
    "version": 3
   },
   "file_extension": ".py",
   "mimetype": "text/x-python",
   "name": "python",
   "nbconvert_exporter": "python",
   "pygments_lexer": "ipython3",
   "version": "3.6.8"
  }
 },
 "nbformat": 4,
 "nbformat_minor": 1
}