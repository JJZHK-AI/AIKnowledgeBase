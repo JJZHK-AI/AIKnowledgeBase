{
 "cells": [
  {
   "cell_type": "markdown",
   "source": [
    "最小二乘法\n",
    "==="
   ],
   "metadata": {
    "collapsed": true
   }
  },
  {
   "cell_type": "markdown",
   "source": [
    "# 1.问题的引入\n",
    "设函数y=f(x)在m个互异点的观测数据为$\\{(x_1,y_1),(x_2,y_2),...,(x_m,y_m)\\}$，求一个简单的近似函数$\\varphi{(x)}$,使之\"最好\"的逼近\n",
    "f(x)，而不必满足插值原则。一般我们是无法也没必要找到完全符合$\\varphi{(x_i)}=y_i$的曲线，而是需要找到使得\n",
    "$\\xi_i=\\varphi{(x_i)}-y_i$总体上尽可能的小，这也就是\"最好\"的含义.这种构造近似函数的方法叫做曲线拟合，称函数$y=\\varphi(x)$为经\n",
    "验公式或拟合曲线"
   ],
   "metadata": {}
  },
  {
   "cell_type": "markdown",
   "source": [
    "# 2.残差\n",
    "为了更好的定义\"最好\"的逼近f(x)呢？这个时候就引入了残差的概念：若令$\\xi_i=\\varphi(x_i)-y_i,i = 0,1,2,...,m$，称$\\xi=(\\xi_0,\\xi_1,...,\\xi_m)^T$为残向量，或残差。所谓最好，就是使$\\xi_i=\\varphi(x_i)-y_i$尽可能的小"
   ],
   "metadata": {}
  },
  {
   "cell_type": "markdown",
   "source": [
    "# 3.残差的选择与最小二乘法\n",
    "## 3.1.残差的选择\n",
    "残差的一般选择有\n",
    "- 使得$max_{1 \\leq i \\leq m}|\\varphi(x_i)-y_i|$最小\n",
    "- 使得$\\sum_{i=1}^m|\\varphi(x_i)-y_i|$最小\n",
    "- 使得$\\sum_{i=1}^m|\\varphi(x_i)-y_i|^2$"
   ],
   "metadata": {}
  },
  {
   "cell_type": "markdown",
   "source": [
    "## 3.2.最小二乘法\n",
    "使得\"偏差平方和最小\"的原则成为最小二乘原则，按照最小二乘原则选取拟合曲线的方法，成为最小二乘法"
   ],
   "metadata": {}
  },
  {
   "cell_type": "markdown",
   "source": [
    "## 3.3.为何选取最小二乘法而不是别的"
   ],
   "metadata": {}
  },
  {
   "cell_type": "markdown",
   "source": [
    "# 4.最小二乘法"
   ],
   "metadata": {}
  },
  {
   "cell_type": "markdown",
   "source": [
    "## 4.1.定义\n",
    "在某个函数类$\\Phi=\\{\\varphi_0(x),\\varphi_1(x),...,\\varphi(x)\\}$来寻求一个函数\n",
    "$$\\varphi(x)=\\alpha_0^*\\varphi_0(x)+\\alpha_1^*\\varphi_1(x)+...+\\alpha_n^*\\varphi_n(x)$$\n",
    "使其满足\n",
    "$$\\sum_{i=1}^m[\\varphi^*(x_i)-y_i]^2=min_{\\varphi(x) \\in \\Phi}\\sum_{i=1}^m[\\varphi(x_i)-y_i]^2$$\n",
    "其中\n",
    "$$\\varphi(x)=\\alpha_0\\varphi_0(x)+\\alpha_1\\varphi_1(x)+...+\\alpha_n\\varphi_n(x)$$\n",
    "是函数类$\\Phi$中任一函数。$\\alpha_0,\\alpha_1,...,\\alpha_n$是待定常数，满足上述关系式的函数$\\varphi(x)$称为上述最小二乘问题的最小二乘解。"
   ],
   "metadata": {}
  },
  {
   "cell_type": "markdown",
   "source": [
    "将$\\varphi(x)$展开，有$L(\\alpha)=\\frac{1}{2}\\sum_{i=1}^n(\\sum_{j=0}^m\\alpha_jx_i^j-y_i)^2$,加上$\\frac{1}{2}$是为了求导方便"
   ],
   "metadata": {}
  },
  {
   "cell_type": "markdown",
   "source": [
    "## 4.2.解法\n",
    "怎么理解上面的定义呢，假设我们现在的样本X有n条记录，每条记录有m个特征，那么最小二乘法要求的是残差的平方和最小，则有$L$最小，其中$x_0=1$,x,y都是已知数，所以L是一个关于$\\alpha$的方程，我们需要叫L最小,有\n",
    "$$\n",
    "\\begin{aligned}\n",
    "\\frac{\\partial{L}}{\\partial{\\alpha_j}}&=0\\\\\n",
    "&\\Rightarrow \\frac{1}{2}\\sum_{i=1}^n2(\\sum_{j=0}^m\\alpha_jx_i^j-y_i)x_i^k=0\\\\\n",
    "&\\Rightarrow \\sum_{i=1}^n\\sum_{j=0}^m\\alpha_jx_i^j=\\sum_{i=1}^nx_i^ky_i,k=0,1,2,...,m\n",
    "\\end{aligned}\n",
    "$$"
   ],
   "metadata": {}
  },
  {
   "cell_type": "markdown",
   "source": [
    "$$\n",
    "\\begin{cases}\n",
    "\\alpha_0n+\\alpha_1\\sum{x_i}+...+\\alpha_m\\sum{x_i^m}=\\sum{y_i} \\\\\\\\\n",
    "\\alpha_0\\sum{x_i}+\\alpha_1\\sum{x_i^2}+...+\\alpha_m\\sum{x_i^{m+1}}=\\sum{x_iy_i} \\\\\\\\\n",
    "... \\\\\\\\\n",
    "\\alpha_0\\sum{x_i^m}+\\alpha_1\\sum{x_i^{m+1}}+...+\\alpha_m\\sum{x_i^{2m}}=\\sum{x_i^my_i}\n",
    "\\end{cases}\n",
    "$$"
   ],
   "metadata": {}
  },
  {
   "cell_type": "markdown",
   "source": [
    "\n",
    "\n",
    "也可以转换成$\\alpha=(X^TX)^{-1}X^Ty$。转化为矩阵，形式如下:\n",
    "$$\n",
    "\\begin{bmatrix}\n",
    "N&\\sum{x_i}&\\sum{x_i^2}&...&\\sum{x_i^M}\\\\\\\\\n",
    "\\sum{x_i}&\\sum{x_i^2}&\\sum{x_i^3}&...&\\sum{x_i^{M+1}}\\\\\\\\\n",
    "\\vdots&\\vdots&\\vdots&\\vdots&\\vdots\\\\\\\\\n",
    "\\sum{x_i^M}&\\sum{x_i^{M+1}}&\\sum{x_i^{M+2}}&...&\\sum{x_i^{2M}}\n",
    "\\end{bmatrix} \\bullet \\begin{bmatrix}\n",
    "\\alpha_0\\\\\\\\\n",
    "\\alpha_1\\\\\\\\\n",
    "\\alpha_2\\\\\\\\\n",
    "\\vdots\\\\\\\\\n",
    "\\alpha_m\n",
    "\\end{bmatrix}=\n",
    "\\begin{bmatrix}\n",
    "\\sum{y_i}\\\\\\\\\n",
    "\\sum{x_iy_i}\\\\\\\\\n",
    "\\sum{x_i^2y_i}\\\\\\\\\n",
    "\\vdots\\\\\\\\\n",
    "\\sum{x_i^My_i}\n",
    "\\end{bmatrix}\n",
    "$$"
   ],
   "metadata": {}
  },
  {
   "cell_type": "markdown",
   "source": [
    "## 4.3.具体解法\n",
    "最小二乘法的解法有直接法和梯度下降法两种方法\n",
    "\n",
    "### 4.3.1.直接法\n",
    "我们根据上面的推导可以知道\n",
    "$$\n",
    "\\alpha=(X^TX)^{-1}X^Ty\n",
    "$$\n",
    "直接法就是直接根据这个矩阵式子，带入X与Y进行计算。但是直接法有一个限制，就是$X^TX$必须可逆，也就是说$X^TX$不能是奇异矩阵，而且误差分布必须满足某种正态分布"
   ],
   "metadata": {}
  },
  {
   "cell_type": "markdown",
   "source": [
    "### 4.3.2.梯度下降法"
   ],
   "metadata": {}
  },
  {
   "cell_type": "code",
   "execution_count": 1,
   "source": [
    "import numpy as np\n",
    "from matplotlib import pyplot as plt\n",
    "%matplotlib inline\n",
    "X = np.array([1.40015721,1.76405235,2.97873798,4.02272212,5.2408932,5.86755799,6.84864279,6.95008842,7.89678115])\n",
    "y = np.array([-6.22959012,-6.80028513,-4.58779845,-2.1475575,3.62506375,8.40186804,16.84301125,18.99745441,27.56686965])\n",
    "\n",
    "X.shape = -1, 1\n",
    "y.shape = -1, 1\n",
    "\n",
    "ones = np.ones(X.shape[0])\n",
    "A = np.insert(X, 0, 1, axis=1)\n",
    "b = y.reshape(-1,1)\n",
    "x = np.linalg.inv(A.T @ A) @ A.T @ b\n",
    "print(x)\n",
    "plt.figure(facecolor='w')\n",
    "plt.scatter(X,y)\n",
    "y_pred = A @ x\n",
    "plt.plot(X,y_pred,'r--')\n",
    "plt.grid()"
   ],
   "outputs": [
    {
     "output_type": "stream",
     "name": "stdout",
     "text": [
      "[[-17.94304379]\n",
      " [  5.05371849]]\n"
     ]
    },
    {
     "output_type": "stream",
     "name": "stderr",
     "text": [
      "/Users/JJZHK/anaconda3/lib/python3.6/site-packages/matplotlib/backends/backend_agg.py:211: RuntimeWarning: Glyph 8722 missing from current font.\n",
      "  font.set_text(s, 0.0, flags=flags)\n",
      "/Users/JJZHK/anaconda3/lib/python3.6/site-packages/matplotlib/backends/backend_agg.py:180: RuntimeWarning: Glyph 8722 missing from current font.\n",
      "  font.set_text(s, 0, flags=flags)\n"
     ]
    },
    {
     "output_type": "display_data",
     "data": {
      "text/plain": [
       "<Figure size 432x288 with 1 Axes>"
      ],
      "image/png": "[encoded data removed]"
     },
     "metadata": {}
    }
   ],
   "metadata": {
    "pycharm": {
     "is_executing": false
    }
   }
  },
  {
   "cell_type": "markdown",
   "source": [
    "### 4.3.2.梯度下降法\n",
    "具体参考[梯度下降法](01.基础-03.凸优化-03.梯度下降法.ipynb)"
   ],
   "metadata": {}
  },
  {
   "cell_type": "code",
   "execution_count": 2,
   "source": [
    "class LinearRegression(object):\n",
    "    def __init__(self):\n",
    "        pass\n",
    "    def fit(self,X,y):\n",
    "        X = np.insert(X, 0, 1, axis=1)\n",
    "        y = y.reshape(-1,1)\n",
    "        self.w = np.random.randn(X.shape[1],1)\n",
    "\n",
    "        for _ in range(50):\n",
    "            y_pred = X @ self.w  # 100 * 1\n",
    "            mse = np.mean(0.5*(y_pred-y)**2)\n",
    "            grad_w = X.T @ (y_pred - y)\n",
    "            self.w -= 0.01 * grad_w\n",
    "            print(_,mse,self.w[0][0],self.w[1][0])\n",
    "\n",
    "    def predict(self,X):\n",
    "        X = np.insert(X, 0, 1, axis=1)\n",
    "        return X @ self.w\n",
    "\n",
    "X = np.array([1.40015721,1.76405235,2.97873798,4.02272212,5.2408932,5.86755799,6.84864279,6.95008842,7.89678115])\n",
    "y = np.array([-6.22959012,-6.80028513,-4.58779845,-2.1475575,3.62506375,8.40186804,16.84301125,18.99745441,27.56686965])\n",
    "\n",
    "X.shape = -1, 1\n",
    "y.shape = -1, 1\n",
    "\n",
    "lr = LinearRegression()\n",
    "lr.fit(X,y)\n",
    "y_pred = lr.predict(X)\n",
    "plt.figure(facecolor='w')\n",
    "plt.scatter(X,y)\n",
    "plt.plot(X,y_pred,'r--')\n",
    "plt.grid()"
   ],
   "outputs": [
    {
     "output_type": "stream",
     "name": "stdout",
     "text": [
      "0 127.46748565457763 1.862041180105535 5.559855088513151\n",
      "1 254.18476561517238 -0.13790150564558523 -4.2135809857563515\n",
      "2 568.2197345305028 2.241760283448324 11.265819453308701\n",
      "3 1344.1236392111296 -2.2441890802496016 -12.91226743129656\n",
      "4 3258.928957381888 4.062832250295283 25.183203498034995\n",
      "5 7982.168687617275 -6.56726246686482 -34.513718084210595\n",
      "6 19630.83731443148 9.410899582071748 59.354310423969196\n",
      "7 48357.25894207917 -16.383720504819074 -87.92814486385313\n",
      "8 119196.6083287452 23.42990603596978 143.47477080001445\n",
      "9 293884.49880340375 -39.772677909921896 -219.7874214965449\n",
      "10 724658.1702656426 58.80540231975313 350.77252896644507\n",
      "11 1786927.792777154 -96.6560626283471 -545.0837852510545\n",
      "12 4406437.918770302 146.8201765767663 861.8242564252096\n",
      "13 10866032.87174554 -236.1596708568651 -1347.3830430644184\n",
      "14 26795103.815923817 364.61694141776957 2121.9237494989757\n",
      "15 66075475.52134129 -579.4247451064189 -3325.9458191409203\n",
      "16 162939101.9090408 902.4268915603423 5229.145301730442\n",
      "17 401800437.75305414 -1425.179394492607 -8205.117408403832\n",
      "18 990821722.0883601 2229.352296211713 12891.290481436878\n",
      "19 2443321649.8698525 -3510.0729559974097 -20237.055676465094\n",
      "20 6025120976.155941 5502.1788970818925 31785.67573414159\n",
      "21 14857676604.199978 -8650.648789577095 -49907.39029967078\n",
      "22 36638360503.87201 13573.488848295496 78378.26220188927\n",
      "23 90348544860.95622 -21326.42024221599 -123073.21135461185\n",
      "24 222795437572.5831 33477.62176878723 193273.36745983374\n",
      "25 549403502670.17926 -52583.66459015067 -303496.9371273926\n",
      "26 1354804263705.0315 82560.94260054681 476599.4075975856\n",
      "27 3340886223075.2837 -129662.0028688588 -748413.8160283181\n",
      "28 8238474777954.281 203598.80572002998 1175268.5415685421\n",
      "29 20315707310938.617 -319733.11164893257 -1845558.880649246\n",
      "30 50097618147540.945 502073.3067793931 2898155.019420455\n",
      "31 123538467336866.56 -788439.3158425674 -4551069.237613762\n",
      "32 304640289823706.44 1238098.5378093994 7146715.286153385\n",
      "33 751229217785364.9 -1944247.1189261992 -11222735.877569107\n",
      "34 1852497376433718.2 3053104.1211860375 17623473.23097238\n",
      "35 4568174996987846.0 -4794416.499241715 -27674765.06541717\n",
      "36 1.1264913553226632e+16 7528826.582719373 43458685.809384376\n",
      "37 2.77787688618197e+16 -11822805.1432138 -68244727.27478455\n",
      "38 6.850119140571443e+16 18565756.87150555 107167154.96963634\n",
      "39 1.6892084913279837e+17 -29154494.10228461 -168288424.78023517\n",
      "40 4.165511969382375e+17 45782329.78656517 264269367.07266104\n",
      "41 1.0271964684138446e+18 -71893657.05504629 -414991671.7178197\n",
      "42 2.533020172495915e+18 112897171.82579264 651676337.9400966\n",
      "43 6.246313525764805e+18 -177286505.21105793 -1023350754.3415198\n",
      "44 1.540312749412786e+19 278399346.4069469 1607004458.9605775\n",
      "45 3.798341783865352e+19 -437180515.8966932 -2523536819.8847957\n",
      "46 9.366539563187796e+19 686520246.5144944 3962800527.411506\n",
      "47 2.3097464204361934e+20 -1078067426.5877895 -6222928010.808985\n",
      "48 5.695730521104132e+20 1692927983.5287719 9772087403.96029\n",
      "49 1.4045414631667938e+21 -2658465648.874475 -15345459873.78565\n"
     ]
    },
    {
     "output_type": "stream",
     "name": "stderr",
     "text": [
      "/Users/JJZHK/anaconda3/lib/python3.6/site-packages/matplotlib/backends/backend_agg.py:211: RuntimeWarning: Glyph 8722 missing from current font.\n",
      "  font.set_text(s, 0.0, flags=flags)\n",
      "/Users/JJZHK/anaconda3/lib/python3.6/site-packages/matplotlib/backends/backend_agg.py:180: RuntimeWarning: Glyph 8722 missing from current font.\n",
      "  font.set_text(s, 0, flags=flags)\n"
     ]
    },
    {
     "output_type": "display_data",
     "data": {
      "text/plain": [
       "<Figure size 432x288 with 1 Axes>"
      ],
      "image/png": "[encoded data removed]"
     },
     "metadata": {}
    }
   ],
   "metadata": {
    "pycharm": {
     "is_executing": false
    }
   }
  },
  {
   "cell_type": "markdown",
   "source": [
    "### 4.3.3.闭式解"
   ],
   "metadata": {}
  },
  {
   "cell_type": "code",
   "execution_count": 3,
   "source": [
    "x_mean = np.mean(X)\n",
    "Y = y.reshape(-1,1)\n",
    "w = np.sum(Y*(X-x_mean))/(np.sum(X**2)-1./X.shape[0]*(np.sum(X))**2)\n",
    "b = np.sum(Y-w*X)/X.shape[0]\n",
    "plt.figure(facecolor='w')\n",
    "plt.scatter(X,y)\n",
    "y_pred = w * X + b\n",
    "plt.plot(X,y_pred,'r--')\n",
    "plt.grid()"
   ],
   "outputs": [
    {
     "output_type": "display_data",
     "data": {
      "text/plain": [
       "<Figure size 432x288 with 1 Axes>"
      ],
      "image/png": "[encoded data removed]"
     },
     "metadata": {}
    }
   ],
   "metadata": {
    "pycharm": {
     "is_executing": false
    }
   }
  },
  {
   "cell_type": "markdown",
   "source": [
    "# 5.注意\n",
    "最小二乘法对$\\alpha$的估计，是基于模型中变量之间相互独立的基本假设的，即输入向量x中的任意两项$x_i$和$x_j$之间是相互独立的。如果输入矩阵X中存在线性相关或者近似线性相关的列，那么输入矩阵X就会变成或者近似变成奇异矩阵（singular matrix）。这是一种病态矩阵，矩阵中任何一个元素发生一点变动，整个矩阵的行列式的值和逆矩阵都会发生巨大变化。这将导致最小二乘法对观测数据的随机误差极为敏感，进而使得最后的线性模型产生非常大的方差，这个在数学上称为多重共线性（multicollinearity）"
   ],
   "metadata": {}
  }
 ],
 "metadata": {
  "kernelspec": {
   "name": "python3",
   "display_name": "Python 3.7.10 64-bit ('base': conda)"
  },
  "language_info": {
   "codemirror_mode": {
    "name": "ipython",
    "version": 2
   },
   "file_extension": ".py",
   "mimetype": "text/x-python",
   "name": "python",
   "nbconvert_exporter": "python",
   "pygments_lexer": "ipython2",
   "version": "3.7.10"
  },
  "interpreter": {
   "hash": "962ff1a08bbd29f414ba67199d725d5b08f35603471a3d6cc67d6569664ed27c"
  }
 },
 "nbformat": 4,
 "nbformat_minor": 2
}