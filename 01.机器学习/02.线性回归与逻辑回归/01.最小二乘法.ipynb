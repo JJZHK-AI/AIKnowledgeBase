{
 "cells": [
  {
   "cell_type": "markdown",
   "metadata": {
    "collapsed": true
   },
   "source": [
    "最小二乘法\n",
    "==="
   ]
  },
  {
   "cell_type": "markdown",
   "metadata": {},
   "source": [
    "# 1.问题的引入\n",
    "设函数y=f(x)在m个互异点的观测数据为$\\{(x_1,y_1),(x_2,y_2),...,(x_m,y_m)\\}$，求一个简单的近似函数$\\varphi{(x)}$,使之\"最好\"的逼近\n",
    "f(x)，而不必满足插值原则。一般我们是无法也没必要找到完全符合$\\varphi{(x_i)}=y_i$的曲线，而是需要找到使得\n",
    "$\\xi_i=\\varphi{(x_i)}-y_i$总体上尽可能的小，这也就是\"最好\"的含义.这种构造近似函数的方法叫做曲线拟合，称函数$y=\\varphi(x)$为经\n",
    "验公式或拟合曲线"
   ]
  },
  {
   "cell_type": "markdown",
   "metadata": {},
   "source": [
    "# 2.残差\n",
    "为了更好的定义\"最好\"的逼近f(x)呢？这个时候就引入了残差的概念：若令$\\xi_i=\\varphi(x_i)-y_i,i = 0,1,2,...,m$，称$\\xi=(\\xi_0,\\xi_1,...,\\xi_m)^T$为残向量，或残差。所谓最好，就是使$\\xi_i=\\varphi(x_i)-y_i$尽可能的小"
   ]
  },
  {
   "cell_type": "markdown",
   "metadata": {},
   "source": [
    "# 3.残差的选择与最小二乘法\n",
    "## 3.1.残差的选择\n",
    "残差的一般选择有\n",
    "- 使得$max_{1 \\leq i \\leq m}|\\varphi(x_i)-y_i|$最小\n",
    "- 使得$\\sum_{i=1}^m|\\varphi(x_i)-y_i|$最小\n",
    "- 使得$\\sum_{i=1}^m|\\varphi(x_i)-y_i|^2$"
   ]
  },
  {
   "cell_type": "markdown",
   "metadata": {},
   "source": [
    "## 3.2.最小二乘法\n",
    "使得\"偏差平方和最小\"的原则成为最小二乘原则，按照最小二乘原则选取拟合曲线的方法，成为最小二乘法"
   ]
  },
  {
   "cell_type": "markdown",
   "metadata": {},
   "source": [
    "## 3.3.为何选取最小二乘法而不是别的"
   ]
  },
  {
   "cell_type": "markdown",
   "metadata": {},
   "source": [
    "# 4.最小二乘法"
   ]
  },
  {
   "cell_type": "markdown",
   "metadata": {},
   "source": [
    "## 4.1.定义\n",
    "在某个函数类$\\Phi=\\{\\varphi_0(x),\\varphi_1(x),...,\\varphi(x)\\}$来寻求一个函数\n",
    "$$\\varphi(x)=\\alpha_0^*\\varphi_0(x)+\\alpha_1^*\\varphi_1(x)+...+\\alpha_n^*\\varphi_n(x)$$\n",
    "使其满足\n",
    "$$\\sum_{i=1}^m[\\varphi^*(x_i)-y_i]^2=min_{\\varphi(x) \\in \\Phi}\\sum_{i=1}^m[\\varphi(x_i)-y_i]^2$$\n",
    "其中\n",
    "$$\\varphi(x)=\\alpha_0\\varphi_0(x)+\\alpha_1\\varphi_1(x)+...+\\alpha_n\\varphi_n(x)$$\n",
    "是函数类$\\Phi$中任一函数。$\\alpha_0,\\alpha_1,...,\\alpha_n$是待定常数，满足上述关系式的函数$\\varphi(x)$称为上述最小二乘问题的最小二乘解。"
   ]
  },
  {
   "cell_type": "markdown",
   "metadata": {},
   "source": [
    "将$\\varphi(x)$展开，有$L(\\alpha)=\\frac{1}{2}\\sum_{i=1}^n(\\sum_{j=0}^m\\alpha_jx_i^j-y_i)^2$,加上$\\frac{1}{2}$是为了求导方便"
   ]
  },
  {
   "cell_type": "markdown",
   "metadata": {},
   "source": [
    "## 4.2.解法\n",
    "怎么理解上面的定义呢，假设我们现在的样本X有n条记录，每条记录有m个特征，那么最小二乘法要求的是残差的平方和最小，则有$L$最小，其中$x_0=1$,x,y都是已知数，所以L是一个关于$\\alpha$的方程，我们需要叫L最小,有\n",
    "$$\n",
    "\\begin{aligned}\n",
    "\\frac{\\partial{L}}{\\partial{\\alpha_j}}&=0\\\\\n",
    "&\\Rightarrow \\frac{1}{2}\\sum_{i=1}^n2(\\sum_{j=0}^m\\alpha_jx_i^j-y_i)x_i^k=0\\\\\n",
    "&\\Rightarrow \\sum_{i=1}^n\\sum_{j=0}^m\\alpha_jx_i^j=\\sum_{i=1}^nx_i^ky_i,k=0,1,2,...,m\n",
    "\\end{aligned}\n",
    "$$"
   ]
  },
  {
   "cell_type": "markdown",
   "metadata": {},
   "source": [
    "$$\n",
    "\\begin{cases}\n",
    "\\alpha_0n+\\alpha_1\\sum{x_i}+...+\\alpha_m\\sum{x_i^m}=\\sum{y_i} \\\\\\\\\n",
    "\\alpha_0\\sum{x_i}+\\alpha_1\\sum{x_i^2}+...+\\alpha_m\\sum{x_i^{m+1}}=\\sum{x_iy_i} \\\\\\\\\n",
    "... \\\\\\\\\n",
    "\\alpha_0\\sum{x_i^m}+\\alpha_1\\sum{x_i^{m+1}}+...+\\alpha_m\\sum{x_i^{2m}}=\\sum{x_i^my_i}\n",
    "\\end{cases}\n",
    "$$"
   ]
  },
  {
   "cell_type": "markdown",
   "metadata": {},
   "source": [
    "\n",
    "\n",
    "也可以转换成$\\alpha=(X^TX)^{-1}X^Ty$。转化为矩阵，形式如下:\n",
    "$$\n",
    "\\begin{bmatrix}\n",
    "N&\\sum{x_i}&\\sum{x_i^2}&...&\\sum{x_i^M}\\\\\\\\\n",
    "\\sum{x_i}&\\sum{x_i^2}&\\sum{x_i^3}&...&\\sum{x_i^{M+1}}\\\\\\\\\n",
    "\\vdots&\\vdots&\\vdots&\\vdots&\\vdots\\\\\\\\\n",
    "\\sum{x_i^M}&\\sum{x_i^{M+1}}&\\sum{x_i^{M+2}}&...&\\sum{x_i^{2M}}\n",
    "\\end{bmatrix} \\bullet \\begin{bmatrix}\n",
    "\\alpha_0\\\\\\\\\n",
    "\\alpha_1\\\\\\\\\n",
    "\\alpha_2\\\\\\\\\n",
    "\\vdots\\\\\\\\\n",
    "\\alpha_m\n",
    "\\end{bmatrix}=\n",
    "\\begin{bmatrix}\n",
    "\\sum{y_i}\\\\\\\\\n",
    "\\sum{x_iy_i}\\\\\\\\\n",
    "\\sum{x_i^2y_i}\\\\\\\\\n",
    "\\vdots\\\\\\\\\n",
    "\\sum{x_i^My_i}\n",
    "\\end{bmatrix}\n",
    "$$"
   ]
  },
  {
   "cell_type": "markdown",
   "metadata": {},
   "source": [
    "## 4.3.具体解法\n",
    "最小二乘法的解法有直接法和梯度下降法两种方法\n",
    "\n",
    "### 4.3.1.直接法\n",
    "我们根据上面的推导可以知道\n",
    "$$\n",
    "\\alpha=(X^TX)^{-1}X^Ty\n",
    "$$\n",
    "直接法就是直接根据这个矩阵式子，带入X与Y进行计算。但是直接法有一个限制，就是$X^TX$必须可逆，也就是说$X^TX$不能是奇异矩阵，而且误差分布必须满足某种正态分布"
   ]
  },
  {
   "cell_type": "markdown",
   "metadata": {},
   "source": [
    "### 4.3.2.梯度下降法"
   ]
  },
  {
   "cell_type": "code",
   "execution_count": 2,
   "metadata": {
    "pycharm": {
     "is_executing": false
    }
   },
   "outputs": [
    {
     "name": "stdout",
     "output_type": "stream",
     "text": [
      "[[-17.94304379]\n",
      " [  5.05371849]]\n"
     ]
    },
    {
     "data": {
      "image/png": "[encoded data removed]",
      "text/plain": [
       "<Figure size 432x288 with 1 Axes>"
      ]
     },
     "metadata": {},
     "output_type": "display_data"
    }
   ],
   "source": [
    "import numpy as np\n",
    "from matplotlib import pyplot as plt\n",
    "%matplotlib inline\n",
    "X = np.array([1.40015721,1.76405235,2.97873798,4.02272212,5.2408932,5.86755799,6.84864279,6.95008842,7.89678115])\n",
    "y = np.array([-6.22959012,-6.80028513,-4.58779845,-2.1475575,3.62506375,8.40186804,16.84301125,18.99745441,27.56686965])\n",
    "\n",
    "X.shape = -1, 1\n",
    "y.shape = -1, 1\n",
    "\n",
    "ones = np.ones(X.shape[0])\n",
    "A = np.insert(X, 0, 1, axis=1)\n",
    "b = y.reshape(-1,1)\n",
    "x = np.linalg.inv(A.T @ A) @ A.T @ b\n",
    "print(x)\n",
    "plt.figure(facecolor='w')\n",
    "plt.scatter(X,y)\n",
    "y_pred = A @ x\n",
    "plt.plot(X,y_pred,'r--')\n",
    "plt.grid()"
   ]
  },
  {
   "cell_type": "markdown",
   "metadata": {},
   "source": [
    "### 4.3.2.梯度下降法\n",
    "具体参考[梯度下降法](01.基础-03.凸优化-03.梯度下降法.ipynb)"
   ]
  },
  {
   "cell_type": "code",
   "execution_count": 11,
   "metadata": {
    "pycharm": {
     "is_executing": false
    }
   },
   "outputs": [
    {
     "data": {
      "image/png": "[encoded data removed]",
      "text/plain": [
       "<Figure size 432x288 with 1 Axes>"
      ]
     },
     "metadata": {},
     "output_type": "display_data"
    }
   ],
   "source": [
    "class LinearRegression(object):\n",
    "    def __init__(self):\n",
    "        pass\n",
    "    def fit(self,X,y):\n",
    "        X = np.insert(X, 0, 1, axis=1)\n",
    "        y = y.reshape(-1,1)\n",
    "        self.w = np.random.randn(X.shape[1],1)\n",
    "\n",
    "        for _ in range(10000):\n",
    "            y_pred = X @ self.w  # 100 * 1\n",
    "            mse = np.mean(0.5*(y_pred-y)**2)\n",
    "            grad_w = X.T @ (y_pred - y)\n",
    "            self.w -= 0.0001 * grad_w\n",
    "            # print(_,mse,self.w[0][0],self.w[1][0])\n",
    "\n",
    "    def predict(self,X):\n",
    "        X = np.insert(X, 0, 1, axis=1)\n",
    "        return X @ self.w\n",
    "\n",
    "X = np.array([1.40015721,1.76405235,2.97873798,4.02272212,5.2408932,5.86755799,6.84864279,6.95008842,7.89678115])\n",
    "y = np.array([-6.22959012,-6.80028513,-4.58779845,-2.1475575,3.62506375,8.40186804,16.84301125,18.99745441,27.56686965])\n",
    "\n",
    "X.shape = -1, 1\n",
    "y.shape = -1, 1\n",
    "\n",
    "lr = LinearRegression()\n",
    "lr.fit(X,y)\n",
    "y_pred = lr.predict(X)\n",
    "plt.figure(facecolor='w')\n",
    "plt.scatter(X,y)\n",
    "plt.plot(X,y_pred,'r--')\n",
    "plt.grid()"
   ]
  },
  {
   "cell_type": "markdown",
   "metadata": {},
   "source": [
    "### 4.3.3.闭式解"
   ]
  },
  {
   "cell_type": "code",
   "execution_count": 3,
   "metadata": {
    "pycharm": {
     "is_executing": false
    }
   },
   "outputs": [
    {
     "data": {
      "image/png": "[encoded data removed]",
      "text/plain": [
       "<Figure size 432x288 with 1 Axes>"
      ]
     },
     "metadata": {},
     "output_type": "display_data"
    }
   ],
   "source": [
    "x_mean = np.mean(X)\n",
    "Y = y.reshape(-1,1)\n",
    "w = np.sum(Y*(X-x_mean))/(np.sum(X**2)-1./X.shape[0]*(np.sum(X))**2)\n",
    "b = np.sum(Y-w*X)/X.shape[0]\n",
    "plt.figure(facecolor='w')\n",
    "plt.scatter(X,y)\n",
    "y_pred = w * X + b\n",
    "plt.plot(X,y_pred,'r--')\n",
    "plt.grid()"
   ]
  },
  {
   "cell_type": "markdown",
   "metadata": {},
   "source": [
    "# 5.注意\n",
    "最小二乘法对$\\alpha$的估计，是基于模型中变量之间相互独立的基本假设的，即输入向量x中的任意两项$x_i$和$x_j$之间是相互独立的。如果输入矩阵X中存在线性相关或者近似线性相关的列，那么输入矩阵X就会变成或者近似变成奇异矩阵（singular matrix）。这是一种病态矩阵，矩阵中任何一个元素发生一点变动，整个矩阵的行列式的值和逆矩阵都会发生巨大变化。这将导致最小二乘法对观测数据的随机误差极为敏感，进而使得最后的线性模型产生非常大的方差，这个在数学上称为多重共线性（multicollinearity）"
   ]
  }
 ],
 "metadata": {
  "interpreter": {
   "hash": "962ff1a08bbd29f414ba67199d725d5b08f35603471a3d6cc67d6569664ed27c"
  },
  "kernelspec": {
   "display_name": "Python 3",
   "language": "python",
   "name": "python3"
  },
  "language_info": {
   "codemirror_mode": {
    "name": "ipython",
    "version": 3
   },
   "file_extension": ".py",
   "mimetype": "text/x-python",
   "name": "python",
   "nbconvert_exporter": "python",
   "pygments_lexer": "ipython3",
   "version": "3.7.10"
  }
 },
 "nbformat": 4,
 "nbformat_minor": 2
}
