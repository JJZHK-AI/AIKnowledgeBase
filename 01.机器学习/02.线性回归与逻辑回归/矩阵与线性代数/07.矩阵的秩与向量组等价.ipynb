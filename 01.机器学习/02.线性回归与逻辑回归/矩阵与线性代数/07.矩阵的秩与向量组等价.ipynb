{
 "cells": [
  {
   "cell_type": "markdown",
   "metadata": {
    "collapsed": true,
    "pycharm": {
     "name": "#%% md\n"
    }
   },
   "source": [
    "矩阵的秩与向量组等价\n",
    "==="
   ]
  },
  {
   "cell_type": "markdown",
   "metadata": {
    "pycharm": {
     "name": "#%% md\n"
    }
   },
   "source": [
    "# 1.矩阵的秩\n",
    "## 1.1.K阶子式\n",
    "在$m \\times n$矩阵A中，任取K行K列，不改变这$K^2$个元素在A中的次数，得到一个K阶方阵，称为矩阵A的K阶子式。显然$m \\times n$矩阵的K阶子式有$C_m^KC_n^K$个"
   ]
  },
  {
   "cell_type": "markdown",
   "metadata": {
    "pycharm": {
     "name": "#%% md\n"
    }
   },
   "source": [
    "## 1.2.矩阵的秩\n",
    "设在矩阵A中有一个不等于0的r阶子式D，且所有r+1阶子式(如果存在的话)全等于0，那么D称为矩阵A的最高阶非零子式，r称为矩阵A的秩，记作$R(A)=r$\n",
    "- $n \\times n$的可逆矩阵，秩为n\n",
    "- 可逆矩阵又称满秩矩阵\n",
    "- 矩阵的秩等于它行(列)向量组的秩"
   ]
  },
  {
   "cell_type": "markdown",
   "metadata": {
    "pycharm": {
     "name": "#%% md\n"
    }
   },
   "source": [
    "假设有如下方程组\n",
    "$$\n",
    "\\begin{cases}\n",
    "a_{11}x_1+a_{12}x_2+...+a_{1n}x_n=b_1 \\\\\\\\\n",
    "a_{21}x_1+a_{22}x_2+...+a_{2n}x_n=b_2 \\\\\\\\\n",
    "\\cdots \\\\\\\\\n",
    "a_{m1}x_1+a_{m2}x_2+...+a_{mn}x_n=b_m\n",
    "\\end{cases}\n",
    "$$"
   ]
  },
  {
   "cell_type": "markdown",
   "metadata": {},
   "source": [
    "可以表示为$A \\bullet \\overrightarrow{x}=\\overrightarrow{b}$的形式，那么对于n元线性方程组来说，有如下性质\n",
    "- 无解的充要条件是$R(A)<R(A,b)$\n",
    "- 有唯一解的充要条件是$R(A)=R(A,b)=n$\n",
    "- 有无限多解的充要条件是R(A)=R(A,b)<n"
   ]
  },
  {
   "cell_type": "markdown",
   "metadata": {
    "pycharm": {
     "name": "#%% md\n"
    }
   },
   "source": [
    "其中A是一个$m \\times n$的矩阵，如下\n",
    "$$\n",
    "\\begin{bmatrix}\n",
    "a_{11}&a_{12}&\\dots&a_{1n} \\\\\\\\\n",
    "a_{21}&a_{22}&\\dots&a_{2n} \\\\\\\\\n",
    "\\vdots&\\vdots&\\ddots&\\vdots \\\\\\\\\n",
    "a_{m1}&a_{m2}&\\dots&a_{mn}\n",
    "\\end{bmatrix}\n",
    "$$"
   ]
  },
  {
   "cell_type": "markdown",
   "metadata": {},
   "source": [
    "R(A)就是矩阵A的秩,R(A,b)就是如下矩阵的秩\n",
    "$$\n",
    "\\begin{bmatrix}\n",
    "a_{11}&a_{12}&\\dots&a_{1n}&b_1 \\\\\\\\\n",
    "a_{21}&a_{22}&\\dots&a_{2n}&b_2 \\\\\\\\\n",
    "\\vdots&\\vdots&\\ddots&\\vdots&\\vdots \\\\\\\\\n",
    "a_{m1}&a_{m2}&\\dots&a_{mn}&b_m\n",
    "\\end{bmatrix}\n",
    "$$\n",
    "推论：\n",
    "- AX=0有非零解的充要条件是$R(A)<n$\n",
    "- AX=b有解的充要条件是$R(A)=R(A,b)$"
   ]
  },
  {
   "cell_type": "markdown",
   "metadata": {
    "pycharm": {
     "name": "#%% md\n"
    }
   },
   "source": [
    "# 2.向量组等价\n",
    "向量B能由向量组$A:\\{a_1,a_2,...,a_m\\}$线性表示的充要条件是矩阵$A=(a_1,a_2,...,a_m)$的秩等于矩阵$B=(a_1,a_2,...,a_m,b)$的秩"
   ]
  },
  {
   "cell_type": "markdown",
   "metadata": {
    "pycharm": {
     "name": "#%% md\n"
    }
   },
   "source": [
    "当两个向量组$A=(a_1,a_2,...,a_m)$以及$B=(b_1,b_2,...,b_n)$中的每个向量都能有另一个向量组线性表示，就称为两个向量组等价线性表示"
   ]
  },
  {
   "cell_type": "markdown",
   "metadata": {},
   "source": [
    "比如有两个向量组$A=(a_1,a_2,...,a_m)$以及$B=(b_1,b_2,...,b_n)$，如果B组能有A组线性表示，也就是说对于每个向量$b_j$，存在一个系数列表$k_{1j},k_{2j},...,k_{mj}$，使得\n",
    "$$\n",
    "b_j=k_{1j}a_1+k_{2j}a_2+...+k_{mj}a_m=\\begin{bmatrix}\n",
    "a_1&a_2&\\dots&a_m\n",
    "\\end{bmatrix} \\bullet \\begin{bmatrix}\n",
    "k_{1j}\\\\\\\\\n",
    "k_{2j}\\\\\\\\\n",
    "\\vdots\\\\\\\\\n",
    "k_{mj}\n",
    "\\end{bmatrix}\n",
    "$$\n",
    "\n"
   ]
  }
 ],
 "metadata": {
  "kernelspec": {
   "display_name": "Python 3",
   "language": "python",
   "name": "python3"
  },
  "language_info": {
   "codemirror_mode": {
    "name": "ipython",
    "version": 3
   },
   "file_extension": ".py",
   "mimetype": "text/x-python",
   "name": "python",
   "nbconvert_exporter": "python",
   "pygments_lexer": "ipython3",
   "version": "3.7.10"
  },
  "pycharm": {
   "stem_cell": {
    "cell_type": "raw",
    "metadata": {
     "collapsed": false
    },
    "source": []
   }
  }
 },
 "nbformat": 4,
 "nbformat_minor": 2
}
