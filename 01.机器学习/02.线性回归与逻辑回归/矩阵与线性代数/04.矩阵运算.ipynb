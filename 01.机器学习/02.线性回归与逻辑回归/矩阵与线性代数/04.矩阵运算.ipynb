{
 "cells": [
  {
   "cell_type": "markdown",
   "metadata": {
    "collapsed": true
   },
   "source": [
    "矩阵运算\n",
    "==="
   ]
  },
  {
   "cell_type": "markdown",
   "metadata": {},
   "source": [
    "# 1.矩阵乘法"
   ]
  },
  {
   "cell_type": "markdown",
   "metadata": {},
   "source": [
    "## 1.1.矩阵乘以列向量\n",
    "$$\n",
    "\\begin{bmatrix}\n",
    "b_{11}&b_{12}&b_{13}\\\\\\\\\n",
    "b_{21}&b_{22}&b_{23}\\\\\\\\\n",
    "b_{31}&b_{32}&b_{33}\n",
    "\\end{bmatrix} \\times \\begin{bmatrix}\n",
    "a_1\\\\\\\\\n",
    "a_2\\\\\\\\\n",
    "a_3\n",
    "\\end{bmatrix}=\\begin{bmatrix}\n",
    "b_{11}a_1+b_{12}a_2+b_{13}a_3\\\\\\\\\n",
    "b_{21}a_1+b_{22}a_2+b_{23}a_3\\\\\\\\\n",
    "b_{31}a_1+b_{32}a_2+b_{33}a_3\n",
    "\\end{bmatrix}\n",
    "$$"
   ]
  },
  {
   "cell_type": "markdown",
   "execution_count": null,
   "metadata": {},
   "outputs": [],
   "source": [
    "也就是$m \\times n$的矩阵，乘以$n \\times 1$的列向量，结果就是$m \\times 1$的列向量"
   ]
  },
  {
   "cell_type": "markdown",
   "metadata": {},
   "source": [
    "## 1.2.行向量乘以矩阵"
   ]
  },
  {
   "cell_type": "markdown",
   "execution_count": null,
   "metadata": {},
   "outputs": [],
   "source": [
    "$$\n",
    "\\begin{bmatrix}\n",
    "a_1&a_2&a_3\n",
    "\\end{bmatrix} \\times \\begin{bmatrix}\n",
    "b_{11}&b_{12}&b_{13}\\\\\\\\\n",
    "b_{21}&b_{22}&b_{23}\\\\\\\\\n",
    "b_{31}&b_{32}&b_{33}\n",
    "\\end{bmatrix}=\\begin{bmatrix}\n",
    "a_1b_{11}+a_2b_{21}+a_3b_{31}&a_1b_{12}+a_2b_{22}+a_3b_{32}&a_1b_{13}+a_2b_{23}+a_3b_{33}\n",
    "\\end{bmatrix}\n",
    "$$"
   ]
  },
  {
   "cell_type": "markdown",
   "execution_count": null,
   "metadata": {},
   "outputs": [],
   "source": [
    "也就是$1 \\times m$的行向量，乘以$m \\times n$的矩阵，就是$1 \\times n$的行向量"
   ]
  },
  {
   "cell_type": "markdown",
   "metadata": {},
   "source": [
    "## 1.3.矩阵通用乘法\n",
    "$$C_{ij}=A_{i1}B_{1j}+A_{i2}B_{2j}+\\dots+A_{in}B_{nj}$$\n",
    "假设矩阵A与矩阵B相乘，那么结果矩阵的第i行第j个元素的值$C_{ij}$就是矩阵A的第i行与矩阵B的第j列的点乘.$C_{ij}=A_{row-i} \\cdot B_{column-j}$"
   ]
  },
  {
   "cell_type": "markdown",
   "metadata": {},
   "source": [
    "> 假设矩阵A与矩阵B相乘，那么就相当于矩阵A中的每一行，与矩阵B的每一列进行点乘的结果。由此可知，矩阵A的列数目与矩阵B的行数目需要一致,即$m \\times n$和$n \\times p$相乘"
   ]
  },
  {
   "cell_type": "markdown",
   "metadata": {},
   "source": [
    "# 2.矩阵转化"
   ]
  },
  {
   "cell_type": "markdown",
   "metadata": {},
   "source": [
    "## 2.1.矩阵行转化\n",
    "$$\n",
    "\\begin{bmatrix}\n",
    "0&1\\\\\\\\\n",
    "1&0\n",
    "\\end{bmatrix} \\times \\begin{bmatrix}\n",
    "a&b\\\\\\\\\n",
    "c&d\n",
    "\\end{bmatrix}=\\begin{bmatrix}\n",
    "c&d\\\\\\\\\n",
    "a&b\n",
    "\\end{bmatrix}\n",
    "$$"
   ]
  },
  {
   "cell_type": "markdown",
   "metadata": {},
   "source": [
    "## 2.2.矩阵列转化\n",
    "$$\n",
    "\\begin{bmatrix}\n",
    "a&b\\\\\\\\\n",
    "c&d\n",
    "\\end{bmatrix} \\times \\begin{bmatrix}\n",
    "0&1\\\\\\\\\n",
    "1&0\n",
    "\\end{bmatrix}=\\begin{bmatrix}\n",
    "b&a\\\\\\\\\n",
    "d&c\n",
    "\\end{bmatrix}\n",
    "$$"
   ]
  },
  {
   "cell_type": "markdown",
   "metadata": {},
   "source": [
    "# 3.矩阵的逆\n",
    "> 如果某一个矩阵与矩阵A的乘积是单位阵I，那么这个矩阵就是矩阵A的逆矩阵，记作$A^{-1}$.如果A是方阵，那么A与$A^{-1}$是互为逆矩阵的，即$A^{-1}A=I=AA^{-1}$\n",
    "\n",
    "> 如果A的逆矩阵存在，那么就是A是可逆的，或非奇异的"
   ]
  },
  {
   "cell_type": "markdown",
   "metadata": {},
   "source": [
    "## 3.1.矩阵不存在逆矩阵的条件\n",
    "如果能够找到一个非零向量$\\overrightarrow{X}$，使得$A\\overrightarrow{X}=0$，那么矩阵A就不可逆"
   ]
  },
  {
   "cell_type": "markdown",
   "metadata": {},
   "source": [
    "比如下面这个例子\n",
    "$$\n",
    "\\begin{bmatrix}\n",
    "1&3\\\\\\\\\n",
    "2&6\n",
    "\\end{bmatrix} \\cdot \\begin{bmatrix}\n",
    "3\\\\\\\\\n",
    "-1\n",
    "\\end{bmatrix}=\\begin{bmatrix}\n",
    "0\\\\\\\\\n",
    "0\n",
    "\\end{bmatrix}\n",
    "$$\n",
    "所以此矩阵不可逆"
   ]
  },
  {
   "cell_type": "markdown",
   "metadata": {},
   "source": [
    "如果矩阵中每一列的列向量的方向都不一样，那么这个矩阵一定是可逆的。在上面这个例子中，第一列的列向量和第二列的列向量方向是一样的，所以它不可逆"
   ]
  },
  {
   "cell_type": "markdown",
   "metadata": {},
   "source": [
    "## 3.2.使用Gauss-Jordan方法求逆矩阵\n",
    "求矩阵$\\begin{bmatrix}\n",
    "1&3\\\\\\\\\n",
    "2&7\n",
    "\\end{bmatrix}$的逆矩阵\n",
    "\n",
    "我们可以将这个矩阵与一个单位阵做成一个增广矩阵，然后使用消元法来求出逆矩阵"
   ]
  },
  {
   "cell_type": "markdown",
   "metadata": {},
   "source": [
    "$$\n",
    "\\begin{bmatrix}\n",
    "1&3&1&0\\\\\\\\\n",
    "2&7&0&1\n",
    "\\end{bmatrix} \\Rightarrow \\begin{bmatrix}\n",
    "1&3&1&0\\\\\\\\\n",
    "0&1&-2&1\n",
    "\\end{bmatrix} \\Rightarrow \\begin{bmatrix}\n",
    "1&0&7&-3\\\\\\\\\n",
    "0&1&-2&1\n",
    "\\end{bmatrix}\n",
    "$$"
   ]
  },
  {
   "cell_type": "markdown",
   "metadata": {},
   "source": [
    "将原始矩阵变为了单位阵，那么单位阵对应的矩阵就是原始矩阵的逆矩阵，也就是\n",
    "$$\n",
    "\\begin{bmatrix}\n",
    "7&-3\\\\\\\\\n",
    "-2&1\n",
    "\\end{bmatrix}\n",
    "$$"
   ]
  },
  {
   "cell_type": "markdown",
   "metadata": {},
   "source": [
    "## 3.3.矩阵的逆的一些性质"
   ]
  },
  {
   "cell_type": "markdown",
   "metadata": {},
   "source": [
    "如果$AA^{-1}=I,BB^{-1}=I$，那么就有$(AB) \\cdot (B^{-1}A^{-1})=I$"
   ]
  },
  {
   "cell_type": "markdown",
   "metadata": {},
   "source": [
    "# 4.转置(Transposes)与置换(Permutations)"
   ]
  },
  {
   "cell_type": "markdown",
   "metadata": {},
   "source": [
    "## 4.1.置换\n",
    "置换矩阵可以用来进行行与行互换。对于$3 \\times 3$的矩阵来说，$\\begin{bmatrix}\n",
    "1&0&0\\\\\\\\\n",
    "0&1&0\\\\\\\\\n",
    "0&0&1\n",
    "\\end{bmatrix}$是不做任何置换动作的置换矩阵，交换1，2两行的矩阵$P_{12}$为$\\begin{bmatrix}\n",
    "0&1&0\\\\\\\n",
    "1&0&0\\\\\\\n",
    "0&0&1\n",
    "\\end{bmatrix}$等等。置换矩阵两两相乘，结果仍然是置换矩阵,而且置换矩阵的逆仍然是置换矩阵。\n",
    "$$P^{-1}=P^T$$\n",
    "$n \\times n$矩阵的置换矩阵个数是$n!$"
   ]
  },
  {
   "cell_type": "markdown",
   "metadata": {},
   "source": [
    "## 4.2.转置\n",
    "矩阵A的转置记作$A^T$，规则就是将矩阵A中的元素$A_{ij}$，转置后就成了$A_{ji}$。比如\n",
    "$$\n",
    "\\begin{bmatrix}\n",
    "1&3\\\\\\\\\n",
    "2&3\\\\\\\\\n",
    "4&1\n",
    "\\end{bmatrix}^T=\\begin{bmatrix}\n",
    "1&2&4\\\\\\\\\n",
    "3&3&1\n",
    "\\end{bmatrix}\n",
    "$$\n",
    "矩阵转置后不变的，叫做对称矩阵.所有矩阵R都有$R^T \\cdot R$是对称矩阵"
   ]
  },
  {
   "cell_type": "markdown",
   "metadata": {},
   "source": [
    "# 5.矩阵的LU分解"
   ]
  },
  {
   "cell_type": "markdown",
   "metadata": {},
   "source": [
    "## 5.1.没有加入置换矩阵的LU分解"
   ]
  },
  {
   "cell_type": "markdown",
   "metadata": {},
   "source": [
    "我们知道在一个$2 \\times 2$的方阵中，如果使用消元法，我们会先找到一个矩阵$E_{21}$来消去原始矩阵的第2行第1列，即\n",
    "$$E_{21} \\cdot A = U$$\n",
    "U就是消元之后的矩阵，它的是一个上三角阵，如下\n",
    "$$\n",
    "\\begin{bmatrix}\n",
    "a&b\\\\\\\\\n",
    "0&d\n",
    "\\end{bmatrix}\n",
    "$$"
   ]
  },
  {
   "cell_type": "markdown",
   "execution_count": null,
   "metadata": {},
   "outputs": [],
   "source": [
    "举例如下\n",
    "$$\n",
    "\\begin{bmatrix}\n",
    "1&0\\\\\\\\\n",
    "-4&1\n",
    "\\end{bmatrix} \\cdot \\begin{bmatrix}\n",
    "2&1\\\\\\\\\n",
    "8&7\n",
    "\\end{bmatrix}=\\begin{bmatrix}\n",
    "2&1\\\\\\\\\n",
    "0&3\n",
    "\\end{bmatrix}\n",
    "$$"
   ]
  },
  {
   "cell_type": "markdown",
   "execution_count": null,
   "metadata": {},
   "outputs": [],
   "source": [
    "我们设置第一个矩阵是$E_{21}$，第二个矩阵是A，第三个矩阵叫做U，矩阵的LU分解，就是要找到一个矩阵L，使得$A=LU$成立。其实我们很容易就可以知道$L=E_{21}^{-1}$。因为两边同时乘以$E_{21}^{-1}$就可以了。于是就有了\n",
    "$$\n",
    "\\begin{bmatrix}\n",
    "2&1\\\\\\\\\n",
    "8&7\n",
    "\\end{bmatrix}=\\begin{bmatrix}\n",
    "1&0\\\\\\\\\n",
    "4&1\n",
    "\\end{bmatrix} \\cdot \\begin{bmatrix}\n",
    "2&1\\\\\\\\\n",
    "0&3\n",
    "\\end{bmatrix}\n",
    "$$"
   ]
  },
  {
   "cell_type": "markdown",
   "execution_count": null,
   "metadata": {},
   "outputs": [],
   "source": [
    "我们可以看到L是一个下三角矩阵\n",
    "\n",
    "扩展到$3 \\times 3$的情况，有如下等式成立\n",
    "$$E_{32} \\cdot E_{31} \\cdot E_{21} \\cdot A=U$$\n",
    "那么根据矩阵逆的特性有\n",
    "$$A=(E_{21})^{-1} \\cdot (E_{31})^{-1} \\cdot (E_{32})^{-1} \\cdot U$$"
   ]
  },
  {
   "cell_type": "markdown",
   "metadata": {},
   "source": [
    "## 5.2.加入置换矩阵后的LU分解"
   ]
  },
  {
   "cell_type": "markdown",
   "metadata": {},
   "source": [
    "我们知道矩阵的LU分解的目的是要找到适合的L矩阵和U矩阵，使得原始矩阵有$A=L \\cdot U$的形式，其中L是一个下三角阵，U是一个上三角阵。在上面的章节中，做LU分解的时候，每一步都没有出现主元是0的情况，所以进行的很顺利；但是很多情况下，在进行LU分解的过程中会出现主元为0的情况，这种情况下，我们就需要引入置换矩阵P来解决了。对于$m \\times n$的矩阵来说，L阵是如下形式\n",
    "$$\n",
    "\\begin{bmatrix}\n",
    "1&0&0&\\cdots&0\\\\\\\\\n",
    "a_{21}&1&0&\\cdots&0\\\\\\\n",
    "\\vdots&\\vdots&1&\\cdots&0\\\\\\\\\n",
    "\\vdots&\\vdots&\\vdots&\\ddots&0\\\\\\\\\n",
    "a_{m1}&\\cdots&\\cdots&\\cdots&1\n",
    "\\end{bmatrix}\n",
    "$$"
   ]
  },
  {
   "cell_type": "markdown",
   "execution_count": null,
   "metadata": {},
   "outputs": [],
   "source": [
    "也就是对角线是1，右上方全是0，左下方是数。U阵是如下形式\n",
    "$$\n",
    "\\begin{bmatrix}\n",
    "a_{11}&a_{12}&a_{13}&\\cdots&a_{1n}\\\\\\\\\n",
    "0&a_{22}&a_{23}&\\cdots&a_{2n}\\\\\\\n",
    "0&\\vdots&a_{ij}&\\cdots&a_{in}\\\\\\\\\n",
    "0&0&\\vdots&\\ddots&a_{jn}\\\\\\\\\n",
    "0&0&\\cdots&\\cdots&a_{mn}\n",
    "\\end{bmatrix}\n",
    "$$\n",
    "也就是左下角都是0的矩阵。并且我们知道我们的目标就是$A=L \\cdot U$，如果加入置换矩阵，那就变成了\n",
    "$$P \\cdot A=L \\cdot U$$\n",
    "而且前提是A一定要可逆"
   ]
  },
  {
   "cell_type": "markdown",
   "metadata": {
    "collapsed": false,
    "pycharm": {
     "name": "#%% md\n"
    }
   },
   "source": [
    "## 5.3.矩阵可以做LU分解的条件\n",
    "1. 矩阵是方阵（LU分解主要是针对方阵）；\n",
    "2. 矩阵是可逆的，也就是该矩阵是满秩矩阵，每一行都是独立向量；\n",
    "3. 消元过程中没有0主元出现，也就是消元过程中不能出现行交换的初等变换。如果出现0主元，就需要加入转置矩阵。"
   ]
  }
 ],
 "metadata": {
  "kernelspec": {
   "display_name": "Python 3",
   "language": "python",
   "name": "python3"
  },
  "language_info": {
   "codemirror_mode": {
    "name": "ipython",
    "version": 3
   },
   "file_extension": ".py",
   "mimetype": "text/x-python",
   "name": "python",
   "nbconvert_exporter": "python",
   "pygments_lexer": "ipython3",
   "version": "3.6.8"
  },
  "pycharm": {
   "stem_cell": {
    "cell_type": "raw",
    "source": [],
    "metadata": {
     "collapsed": false
    }
   }
  }
 },
 "nbformat": 4,
 "nbformat_minor": 1
}