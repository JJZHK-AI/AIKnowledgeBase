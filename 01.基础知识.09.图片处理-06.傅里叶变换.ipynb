{
 "cells": [
  {
   "cell_type": "markdown",
   "execution_count": null,
   "metadata": {
    "collapsed": true
   },
   "outputs": [],
   "source": [
    "傅里叶变换\n",
    "==="
   ]
  },
  {
   "cell_type": "markdown",
   "execution_count": null,
   "metadata": {},
   "outputs": [],
   "source": [
    "二维离散傅里叶变换是将图像从空间域转至频域，在图像增强、图像去噪、图像边缘检测、图像特征提取、图像压缩等等应用中都起着极其重要的作用。傅里叶变换的理论基础是**任意函数都可以表示成正弦函数的线性组合的形式**"
   ]
  },
  {
   "cell_type": "markdown",
   "execution_count": null,
   "metadata": {},
   "outputs": [],
   "source": [
    "傅里叶变换的公式如下"
   ]
  },
  {
   "cell_type": "markdown",
   "execution_count": null,
   "metadata": {},
   "outputs": [],
   "source": [
    "$$F(\\mu,\\nu)=\\sum_{x=0}^{M-1}\\sum_{y=0}^{N-1}f(x,y)e^{-j2\\pi(\\frac{\\mu x}{M}+\\frac{\\nu y}{N})}$$"
   ]
  },
  {
   "cell_type": "markdown",
   "execution_count": null,
   "metadata": {},
   "outputs": [],
   "source": [
    "1. $f(x,y)$代表一副大小为$M \\times N$的图像,$x=0,1,2,...,M-1$，$y=0,1,2,...,N-1$\n",
    "2. $F(\\mu,\\nu)$表示$f(x,y)$的傅里叶变换"
   ]
  },
  {
   "cell_type": "markdown",
   "execution_count": null,
   "metadata": {},
   "outputs": [],
   "source": [
    "二维离散傅里叶逆变换公式如下"
   ]
  },
  {
   "cell_type": "markdown",
   "execution_count": null,
   "metadata": {},
   "outputs": [],
   "source": [
    "$$f(x,y)=\\frac{1}{MN}\\ \\sum\\limits_{\\mu=0}^{M-1}\\ \\sum\\limits_{\\nu=0}^{N-1}\\ F(\\mu,\\nu)\\ e^{j2\\pi(\\frac{\\mu x}{M}+\\frac{\\nu y}{N})}$$"
   ]
  },
  {
   "cell_type": "markdown",
   "execution_count": null,
   "metadata": {},
   "outputs": [],
   "source": [
    "# 1.傅里叶变换"
   ]
  },
  {
   "cell_type": "code",
   "execution_count": null,
   "metadata": {},
   "outputs": [],
   "source": [
    "import cv2\n",
    "import numpy as np\n",
    "import matplotlib.pyplot as plt\n",
    "import matplotlib as mpl\n",
    "import math\n",
    "\n",
    "mpl.rcParams['font.sans-serif'] = [u'SimHei']\n",
    "mpl.rcParams['axes.unicode_minus'] = False\n",
    "image = cv2.imread(\"Images/01/09/02.jpg\", 1)\n",
    "\n",
    "def dft(img):\n",
    "\tH, W, _ = img.shape\n",
    "\n",
    "\t# Prepare DFT coefficient\n",
    "\tG = np.zeros((L, K, channel), dtype=np.complex)\n",
    "\n",
    "\t# prepare processed index corresponding to original image positions\n",
    "\tx = np.tile(np.arange(W), (H, 1))\n",
    "\ty = np.arange(H).repeat(W).reshape(H, -1)\n",
    "\n",
    "\t# dft\n",
    "\tfor c in range(channel):\n",
    "\t\tfor l in range(L):\n",
    "\t\t\tfor k in range(K):\n",
    "\t\t\t\tG[l, k, c] = np.sum(img[..., c] * np.exp(-2j * np.pi * (x * k / K + y * l / L))) / np.sqrt(K * L)\n",
    "\t\t\t\t#for n in range(N):\n",
    "\t\t\t\t#    for m in range(M):\n",
    "\t\t\t\t#        v += gray[n, m] * np.exp(-2j * np.pi * (m * k / M + n * l / N))\n",
    "\t\t\t\t#G[l, k] = v / np.sqrt(M * N)\n",
    "\n",
    "\treturn G\n",
    "\n",
    "plt.figure(figsize=(10,10), facecolor='w')\n",
    "\n",
    "plt.subplot(3, 3, 1)\n",
    "plt.title(u\"原始图像\")\n",
    "show_img1 = cv2.cvtColor(image, cv2.COLOR_BGR2RGB) \n",
    "plt.imshow(show_img1)\n",
    "\n",
    "plt.subplot(3, 3, 1)\n",
    "plt.title(u\"原始图像\")\n",
    "show_img1 = cv2.cvtColor(dft(image), cv2.COLOR_BGR2RGB) \n",
    "plt.imshow(show_img1)"
   ]
  },
  {
   "cell_type": "code",
   "execution_count": null,
   "metadata": {},
   "outputs": [],
   "source": []
  },
  {
   "cell_type": "code",
   "execution_count": null,
   "metadata": {},
   "outputs": [],
   "source": []
  },
  {
   "cell_type": "code",
   "execution_count": null,
   "metadata": {},
   "outputs": [],
   "source": []
  }
 ],
 "metadata": {
  "kernelspec": {
   "display_name": "Python 3",
   "language": "python",
   "name": "python3"
  },
  "language_info": {
   "codemirror_mode": {
    "name": "ipython",
    "version": 2
   },
   "file_extension": ".py",
   "mimetype": "text/x-python",
   "name": "python",
   "nbconvert_exporter": "python",
   "pygments_lexer": "ipython2",
   "version": "2.7.6"
  }
 },
 "nbformat": 4,
 "nbformat_minor": 0
}