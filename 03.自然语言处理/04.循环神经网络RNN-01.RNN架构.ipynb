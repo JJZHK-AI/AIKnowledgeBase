{
 "cells": [
  {
   "cell_type": "markdown",
   "metadata": {},
   "source": [
    "RNN架构解析\n",
    "==="
   ]
  },
  {
   "cell_type": "markdown",
   "metadata": {},
   "source": [
    "# 1.什么是RNN模型\n",
    "RNN(Recurrent Neural Network)，循环神经网络，他一般以序列数据为输入，通过网络内部的结构设计有效捕捉序列之间的关系特征，一般也是以序列形式进行输出。"
   ]
  },
  {
   "cell_type": "markdown",
   "metadata": {},
   "source": [
    "以时间步对RNN进行展开后的单层网络结构如下图"
   ]
  },
  {
   "cell_type": "markdown",
   "metadata": {},
   "source": [
    "![Images](images/007.png)"
   ]
  },
  {
   "cell_type": "markdown",
   "metadata": {},
   "source": [
    "RNN的循环机制使模型隐层上一时间步产生的结果，能够作为当下时间步输入的一部分(当下时间步的输入除了正常的输入外还包括上一步的隐层输出)对当下时间步的输出产生影响"
   ]
  },
  {
   "cell_type": "markdown",
   "metadata": {},
   "source": [
    "# 2.RNN模型的作用\n",
    "- 由于RNN结构能够很好利用序列之间的关系，因此针对自然界具有连续性的输入序列，如人类的语言，语音等进行很好的处理，广泛应用于NLP领域的各项任务，如文本分类，情感分析，意图识别，机器翻译等"
   ]
  },
  {
   "source": [
    "# 3.RNN模型的分类\n"
   ],
   "cell_type": "markdown",
   "metadata": {}
  },
  {
   "source": [
    "## 3.1.按照输入输出的结构来分类"
   ],
   "cell_type": "markdown",
   "metadata": {}
  },
  {
   "source": [
    "### 3.1.1.N vs N-RNN\n",
    "他是RNN最基础的结构形式，最大的特点就是输入和输出的序列是等长的，由于限制的存在，使其适用的范围比较小，可用于生成等长度的合辙诗句。如下图所示，输入是$x_1,x_2,x_3,x_4$四个维度，那么输出也是四个维度$y_1,y_2,y_3,y_4$"
   ],
   "cell_type": "markdown",
   "metadata": {}
  },
  {
   "source": [
    "![images](images/008.png)"
   ],
   "cell_type": "markdown",
   "metadata": {}
  },
  {
   "source": [
    "第一个时间步，输入是$h_0$和$x_1$"
   ],
   "cell_type": "markdown",
   "metadata": {}
  },
  {
   "source": [
    "### 3.1.2.N vs 1-RNN\n",
    "有时候我们要处理的问题输入是一个序列，而要求输出的是一个单独的值而不是一个序列，就应该使用这个模型。我们只要在最后一个隐层输出$h$上进行线性变换就可以了，大部分情况下，为了更好的明确结果，还要使用$sigmoid$或者$softmax$进行处理，这种结构经常被应用在文本分类问题上"
   ],
   "cell_type": "markdown",
   "metadata": {}
  },
  {
   "source": [
    "![images](images/009.png)"
   ],
   "cell_type": "markdown",
   "metadata": {}
  },
  {
   "source": [
    "### 3.1.3.1 vs N-RNN:\n",
    "如果输入不是序列而输出是序列，我们最常采用的一种方式就是使该输入作用于每次的输出之上，这种结构可用于将图片生成文字任务等"
   ],
   "cell_type": "markdown",
   "metadata": {}
  },
  {
   "source": [
    "![images](images/010.png)"
   ],
   "cell_type": "markdown",
   "metadata": {}
  },
  {
   "source": [
    "### 3.1.4.N vs M-RNN:\n",
    "这是一种不限输入输出长度的RNN结构，它由编码和解码器两部分组成，两者的内部结构都是某类RNN，他也被称为seq2seq架构，输入数据首先通过编码器，最终输出一个隐含变量$c$，之后最常用的做法是使用这个隐含变量在$c$作用在解码器进行解码的每一步上，以保证输入信息被有效利用"
   ],
   "cell_type": "markdown",
   "metadata": {}
  },
  {
   "source": [
    "![images](images/011.png)"
   ],
   "cell_type": "markdown",
   "metadata": {}
  },
  {
   "source": [
    "seq2seq架构最早被提出应用于机器翻译，如果也是应用最广的RNN模型结构，在机器翻译，阅读理解，文本摘要等众多领域都进行了非常多的应用实践。"
   ],
   "cell_type": "markdown",
   "metadata": {}
  },
  {
   "source": [
    "## 3.2.按照RNN的内部构造进行分类\n",
    "- 传统的RNN\n",
    "- LSTM：长短时网络\n",
    "- Bi-LSTM: 双向长短时网络\n",
    "- GRU\n",
    "- Bi-GRU"
   ],
   "cell_type": "markdown",
   "metadata": {}
  }
 ],
 "metadata": {
  "kernelspec": {
   "display_name": "Python 3.8.5 64-bit ('base': conda)",
   "name": "python385jvsc74a57bd0962ff1a08bbd29f414ba67199d725d5b08f35603471a3d6cc67d6569664ed27c"
  },
  "language_info": {
   "name": "python",
   "version": ""
  },
  "orig_nbformat": 2
 },
 "nbformat": 4,
 "nbformat_minor": 2
}