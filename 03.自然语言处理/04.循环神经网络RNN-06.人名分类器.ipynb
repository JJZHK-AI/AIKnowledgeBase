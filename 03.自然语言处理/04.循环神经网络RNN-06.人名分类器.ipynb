{
 "cells": [
  {
   "cell_type": "markdown",
   "metadata": {},
   "source": [
    "人名分类器\n",
    "===\n",
    "以一个人名为输入，使用模型帮助我们判断它最优可能是来自哪一个国家的人名"
   ]
  },
  {
   "cell_type": "markdown",
   "metadata": {},
   "source": [
    "# 1.导入必备的工具包"
   ]
  },
  {
   "cell_type": "code",
   "execution_count": 2,
   "metadata": {},
   "outputs": [],
   "source": [
    "from io import open\n",
    "import glob\n",
    "import os\n",
    "import string\n",
    "import unicodedata\n",
    "import random\n",
    "import time\n",
    "import math\n",
    "import torch\n",
    "import matplotlib.pyplot as plt"
   ]
  },
  {
   "cell_type": "markdown",
   "metadata": {},
   "source": [
    "# 2.文件数据处理"
   ]
  },
  {
   "cell_type": "code",
   "execution_count": 3,
   "metadata": {},
   "outputs": [
    {
     "data": {
      "text/plain": "57"
     },
     "execution_count": 3,
     "metadata": {},
     "output_type": "execute_result"
    }
   ],
   "source": [
    "all_letters = string.ascii_letters + \" .,;'\"\n",
    "n_letters = len(all_letters)\n",
    "n_letters"
   ]
  },
  {
   "cell_type": "code",
   "execution_count": 4,
   "metadata": {},
   "outputs": [],
   "source": [
    "def unicodeToAscii(s):\n",
    "    return ''.join(\n",
    "        c for c in unicodedata.normalize('NFD', s)\n",
    "        if unicodedata.category(c) != 'Mn' and c in all_letters\n",
    "    )"
   ]
  },
  {
   "cell_type": "code",
   "execution_count": 5,
   "metadata": {},
   "outputs": [
    {
     "name": "stdout",
     "output_type": "stream",
     "text": [
      "Slusarski\n"
     ]
    }
   ],
   "source": [
    "s = \"Ślusàrski\"\n",
    "a = unicodeToAscii(s)\n",
    "print(a)"
   ]
  },
  {
   "cell_type": "code",
   "execution_count": 6,
   "metadata": {},
   "outputs": [],
   "source": [
    "data_path = \"data/names/\"\n",
    "\n",
    "def readLines(filename):\n",
    "    \"\"\"从文件中读取每一行加载到内存中形成列表\"\"\"\n",
    "    # 打开指定文件并读取所有内容, 使用strip()去除两侧空白符, 然后以'\\n'进行切分\n",
    "    lines = open(filename, encoding='utf-8').read().strip().split('\\n')\n",
    "    # 对应每一个lines列表中的名字进行Ascii转换, 使其规范化.最后返回一个名字列表\n",
    "    return [unicodeToAscii(line) for line in lines]"
   ]
  },
  {
   "cell_type": "code",
   "execution_count": 7,
   "metadata": {},
   "outputs": [
    {
     "name": "stdout",
     "output_type": "stream",
     "text": [
      "['Ang', 'AuYong', 'Bai', 'Ban', 'Bao', 'Bei', 'Bian', 'Bui', 'Cai', 'Cao', 'Cen', 'Chai', 'Chaim', 'Chan', 'Chang', 'Chao', 'Che', 'Chen', 'Cheng', 'Cheung', 'Chew', 'Chieu', 'Chin', 'Chong', 'Chou', 'Chu', 'Cui', 'Dai', 'Deng', 'Ding', 'Dong', 'Dou', 'Duan', 'Eng', 'Fan', 'Fei', 'Feng', 'Foong', 'Fung', 'Gan', 'Gauk', 'Geng', 'Gim', 'Gok', 'Gong', 'Guan', 'Guang', 'Guo', 'Gwock', 'Han', 'Hang', 'Hao', 'Hew', 'Hiu', 'Hong', 'Hor', 'Hsiao', 'Hua', 'Huan', 'Huang', 'Hui', 'Huie', 'Huo', 'Jia', 'Jiang', 'Jin', 'Jing', 'Joe', 'Kang', 'Kau', 'Khoo', 'Khu', 'Kong', 'Koo', 'Kwan', 'Kwei', 'Kwong', 'Lai', 'Lam', 'Lang', 'Lau', 'Law', 'Lew', 'Lian', 'Liao', 'Lim', 'Lin', 'Ling', 'Liu', 'Loh', 'Long', 'Loong', 'Luo', 'Mah', 'Mai', 'Mak', 'Mao', 'Mar', 'Mei', 'Meng', 'Miao', 'Min', 'Ming', 'Moy', 'Mui', 'Nie', 'Niu', 'OuYang', 'OwYang', 'Pan', 'Pang', 'Pei', 'Peng', 'Ping', 'Qian', 'Qin', 'Qiu', 'Quan', 'Que', 'Ran', 'Rao', 'Rong', 'Ruan', 'Sam', 'Seah', 'See ', 'Seow', 'Seto', 'Sha', 'Shan', 'Shang', 'Shao', 'Shaw', 'She', 'Shen', 'Sheng', 'Shi', 'Shu', 'Shuai', 'Shui', 'Shum', 'Siew', 'Siu', 'Song', 'Sum', 'Sun', 'Sze ', 'Tan', 'Tang', 'Tao', 'Teng', 'Teoh', 'Thean', 'Thian', 'Thien', 'Tian', 'Tong', 'Tow', 'Tsang', 'Tse', 'Tsen', 'Tso', 'Tze', 'Wan', 'Wang', 'Wei', 'Wen', 'Weng', 'Won', 'Wong', 'Woo', 'Xiang', 'Xiao', 'Xie', 'Xing', 'Xue', 'Xun', 'Yan', 'Yang', 'Yao', 'Yap', 'Yau', 'Yee', 'Yep', 'Yim', 'Yin', 'Ying', 'Yong', 'You', 'Yuan', 'Zang', 'Zeng', 'Zha', 'Zhan', 'Zhang', 'Zhao', 'Zhen', 'Zheng', 'Zhong', 'Zhou', 'Zhu', 'Zhuo', 'Zong', 'Zou', 'Bing', 'Chi', 'Chu', 'Cong', 'Cuan', 'Dan', 'Fei', 'Feng', 'Gai', 'Gao', 'Gou', 'Guan', 'Gui', 'Guo', 'Hong', 'Hou', 'Huan', 'Jian', 'Jiao', 'Jin', 'Jiu', 'Juan', 'Jue', 'Kan', 'Kuai', 'Kuang', 'Kui', 'Lao', 'Liang', 'Lu', 'Luo', 'Man', 'Nao', 'Pian', 'Qiao', 'Qing', 'Qiu', 'Rang', 'Rui', 'She', 'Shi', 'Shuo', 'Sui', 'Tai', 'Wan', 'Wei', 'Xian', 'Xie', 'Xin', 'Xing', 'Xiong', 'Xuan', 'Yan', 'Yin', 'Ying', 'Yuan', 'Yue', 'Yun', 'Zha', 'Zhai', 'Zhang', 'Zhi', 'Zhuan', 'Zhui']\n"
     ]
    }
   ],
   "source": [
    "filename = data_path + \"Chinese.txt\"\n",
    "lines = readLines(filename)\n",
    "print(lines)"
   ]
  },
  {
   "cell_type": "markdown",
   "metadata": {},
   "source": [
    "构建人名类别（所属的语言）列表与人名对应关系字典"
   ]
  },
  {
   "cell_type": "code",
   "execution_count": 8,
   "metadata": {},
   "outputs": [
    {
     "name": "stdout",
     "output_type": "stream",
     "text": [
      "n_categories: 18\n",
      "['Abandonato', 'Abatangelo', 'Abatantuono', 'Abate', 'Abategiovanni']\n"
     ]
    }
   ],
   "source": [
    "# 构建的category_lines形如：{\"English\":[\"Lily\", \"Susan\", \"Kobe\"], \"Chinese\":[\"Zhang San\", \"Xiao Ming\"]}\n",
    "category_lines = {}\n",
    "\n",
    "# all_categories形如： [\"English\",...,\"Chinese\"]\n",
    "all_categories = []\n",
    "\n",
    "# 读取指定路径下的txt文件， 使用glob，path中可以使用正则表达式\n",
    "for filename in glob.glob(data_path + '*.txt'):\n",
    "    # 获取每个文件的文件名, 就是对应的名字类别\n",
    "    category = os.path.splitext(os.path.basename(filename))[0]\n",
    "    # 将其逐一装到all_categories列表中\n",
    "    all_categories.append(category)\n",
    "    # 然后读取每个文件的内容，形成名字列表\n",
    "    lines = readLines(filename)\n",
    "    # 按照对应的类别，将名字列表写入到category_lines字典中\n",
    "    category_lines[category] = lines\n",
    "\n",
    "# 查看类别总数\n",
    "n_categories = len(all_categories)\n",
    "print(\"n_categories:\", n_categories)\n",
    "\n",
    "# 随便查看其中的一些内容\n",
    "print(category_lines['Italian'][:5])"
   ]
  },
  {
   "cell_type": "code",
   "execution_count": 9,
   "metadata": {},
   "outputs": [],
   "source": [
    "# 将字符串(单词粒度)转化为张量表示，如：\"ab\" --->\n",
    "# tensor([[[1., 0., 0., 0., 0., 0., 0., 0., 0., 0., 0., 0., 0., 0., 0., 0., 0.,\n",
    "#          0., 0., 0., 0., 0., 0., 0., 0., 0., 0., 0., 0., 0., 0., 0., 0., 0.,\n",
    "#          0., 0., 0., 0., 0., 0., 0., 0., 0., 0., 0., 0., 0., 0., 0., 0., 0.,\n",
    "#          0., 0., 0., 0., 0., 0.]],\n",
    "\n",
    "#        [[0., 1., 0., 0., 0., 0., 0., 0., 0., 0., 0., 0., 0., 0., 0., 0., 0.,\n",
    "#          0., 0., 0., 0., 0., 0., 0., 0., 0., 0., 0., 0., 0., 0., 0., 0., 0.,\n",
    "#          0., 0., 0., 0., 0., 0., 0., 0., 0., 0., 0., 0., 0., 0., 0., 0., 0.,\n",
    "#          0., 0., 0., 0., 0., 0.]]])\n",
    "def lineToTensor(line):\n",
    "    \"\"\"将人名转化为对应onehot张量表示, 参数line是输入的人名\"\"\"\n",
    "    # 首先初始化一个0张量, 它的形状(len(line), 1, n_letters) \n",
    "    # 代表人名中的每个字母用一个1 x n_letters的张量表示.\n",
    "    tensor = torch.zeros(len(line), 1, n_letters)\n",
    "    # 遍历这个人名中的每个字符索引和字符\n",
    "    for li, letter in enumerate(line):\n",
    "        # 使用字符串方法find找到每个字符在all_letters中的索引\n",
    "        # 它也是我们生成onehot张量中1的索引位置\n",
    "        tensor[li][0][all_letters.find(letter)] = 1\n",
    "    # 返回结果\n",
    "    return tensor"
   ]
  },
  {
   "cell_type": "code",
   "execution_count": 10,
   "metadata": {},
   "outputs": [
    {
     "name": "stdout",
     "output_type": "stream",
     "text": [
      "line_tensot: tensor([[[0., 0., 0., 0., 0., 0., 0., 0., 0., 0., 0., 0., 0., 0., 0., 0., 0.,\n",
      "          0., 0., 0., 0., 0., 0., 0., 0., 0., 0., 1., 0., 0., 0., 0., 0., 0.,\n",
      "          0., 0., 0., 0., 0., 0., 0., 0., 0., 0., 0., 0., 0., 0., 0., 0., 0.,\n",
      "          0., 0., 0., 0., 0., 0.]],\n",
      "\n",
      "        [[1., 0., 0., 0., 0., 0., 0., 0., 0., 0., 0., 0., 0., 0., 0., 0., 0.,\n",
      "          0., 0., 0., 0., 0., 0., 0., 0., 0., 0., 0., 0., 0., 0., 0., 0., 0.,\n",
      "          0., 0., 0., 0., 0., 0., 0., 0., 0., 0., 0., 0., 0., 0., 0., 0., 0.,\n",
      "          0., 0., 0., 0., 0., 0.]],\n",
      "\n",
      "        [[0., 0., 0., 0., 0., 0., 0., 0., 1., 0., 0., 0., 0., 0., 0., 0., 0.,\n",
      "          0., 0., 0., 0., 0., 0., 0., 0., 0., 0., 0., 0., 0., 0., 0., 0., 0.,\n",
      "          0., 0., 0., 0., 0., 0., 0., 0., 0., 0., 0., 0., 0., 0., 0., 0., 0.,\n",
      "          0., 0., 0., 0., 0., 0.]]])\n"
     ]
    }
   ],
   "source": [
    "line = \"Bai\"\n",
    "line_tensor = lineToTensor(line)\n",
    "print(\"line_tensot:\", line_tensor)"
   ]
  },
  {
   "cell_type": "code",
   "execution_count": 11,
   "metadata": {},
   "outputs": [],
   "source": [
    "# 因为是onehot编码, 输入张量最后一维的尺寸就是n_letters\n",
    "input_size = n_letters\n",
    "# 定义隐层的最后一维尺寸大小\n",
    "n_hidden = 128\n",
    "# 输出尺寸为语言类别总数n_categories\n",
    "output_size = n_categories\n",
    "# num_layer使用默认值, num_layers = 1\n",
    "# 假如我们以一个字母B作为RNN的首次输入, 它通过lineToTensor转为张量\n",
    "# 因为我们的lineToTensor输出是三维张量, 而RNN类需要的二维张量\n",
    "# 因此需要使用squeeze(0)降低一个维度\n",
    "input = lineToTensor('B').squeeze(0)\n",
    "# 初始化一个三维的隐层0张量, 也是初始的细胞状态张量\n",
    "hidden = c = torch.zeros(1, 1, n_hidden)"
   ]
  },
  {
   "cell_type": "code",
   "execution_count": 12,
   "metadata": {},
   "outputs": [],
   "source": [
    "def categoryFromOutput(output):\n",
    "    \"\"\"从输出结果中获得指定类别, 参数为输出张量output\"\"\"\n",
    "    # 从输出张量中返回最大的值和索引对象, 我们这里主要需要这个索引\n",
    "    top_n, top_i = output.topk(1)\n",
    "    # top_i对象中取出索引的值\n",
    "    category_i = top_i[0].item()\n",
    "    # 根据索引值获得对应语言类别, 返回语言类别和索引值\n",
    "    return all_categories[category_i], category_i"
   ]
  },
  {
   "cell_type": "code",
   "execution_count": 13,
   "metadata": {},
   "outputs": [
    {
     "data": {
      "text/plain": "tensor([1., 2., 3., 4., 5.])"
     },
     "execution_count": 13,
     "metadata": {},
     "output_type": "execute_result"
    }
   ],
   "source": [
    "x = torch.arange(1., 6.)\n",
    "x"
   ]
  },
  {
   "cell_type": "code",
   "execution_count": 15,
   "metadata": {},
   "outputs": [],
   "source": [
    "def randomTrainingExample():\n",
    "    \"\"\"该函数用于随机产生训练数据\"\"\"\n",
    "    # 首先使用random的choice方法从all_categories随机选择一个类别\n",
    "    category = random.choice(all_categories)\n",
    "    # 然后在通过category_lines字典取category类别对应的名字列表\n",
    "    # 之后再从列表中随机取一个名字\n",
    "    line = random.choice(category_lines[category])\n",
    "    # 接着将这个类别在所有类别列表中的索引封装成tensor, 得到类别张量category_tensor\n",
    "    category_tensor = torch.tensor([all_categories.index(category)], dtype=torch.long)\n",
    "    # 最后, 将随机取到的名字通过函数lineToTensor转化为onehot张量表示\n",
    "    line_tensor = lineToTensor(line)\n",
    "    return category, line, category_tensor, line_tensor"
   ]
  },
  {
   "cell_type": "code",
   "execution_count": 16,
   "metadata": {},
   "outputs": [
    {
     "name": "stdout",
     "output_type": "stream",
     "text": [
      "category = Czech / line = Cermak / category_tensor = tensor([0])\n",
      "category = Chinese / line = Yan / category_tensor = tensor([4])\n",
      "category = Arabic / line = Hanania / category_tensor = tensor([2])\n",
      "category = Spanish / line = Porra / category_tensor = tensor([10])\n",
      "category = Scottish / line = Kelly / category_tensor = tensor([14])\n",
      "category = Scottish / line = Stewart / category_tensor = tensor([14])\n",
      "category = Scottish / line = Graham / category_tensor = tensor([14])\n",
      "category = Dutch / line = Haanraats / category_tensor = tensor([15])\n",
      "category = Italian / line = Negri / category_tensor = tensor([12])\n",
      "category = French / line = Rome / category_tensor = tensor([7])\n"
     ]
    }
   ],
   "source": [
    "# 我们随机取出十个进行结果查看\n",
    "for i in range(10):\n",
    "    category, line, category_tensor, line_tensor = randomTrainingExample()\n",
    "    print('category =', category, '/ line =', line, '/ category_tensor =', category_tensor)"
   ]
  },
  {
   "cell_type": "markdown",
   "metadata": {},
   "source": [
    "# 3. 构建辅助函数"
   ]
  },
  {
   "cell_type": "code",
   "execution_count": 17,
   "metadata": {},
   "outputs": [],
   "source": [
    "def timeSince(since):\n",
    "    \"获得每次打印的训练耗时, since是训练开始时间\"\n",
    "    # 获得当前时间\n",
    "    now = time.time()\n",
    "    # 获得时间差，就是训练耗时\n",
    "    s = now - since\n",
    "    # 将秒转化为分钟, 并取整\n",
    "    m = math.floor(s / 60)\n",
    "    # 计算剩下不够凑成1分钟的秒数\n",
    "    s -= m * 60\n",
    "    # 返回指定格式的耗时\n",
    "    return '%dm %ds' % (m, s)"
   ]
  },
  {
   "cell_type": "code",
   "execution_count": 18,
   "metadata": {},
   "outputs": [
    {
     "name": "stdout",
     "output_type": "stream",
     "text": [
      "10m 0s\n"
     ]
    }
   ],
   "source": [
    "since = time.time() - 10*60\n",
    "period = timeSince(since)\n",
    "print(period)"
   ]
  },
  {
   "cell_type": "code",
   "execution_count": 19,
   "metadata": {},
   "outputs": [],
   "source": [
    "# 设置训练迭代次数\n",
    "n_iters = 1000\n",
    "# 设置结果的打印间隔\n",
    "print_every = 50\n",
    "# 设置绘制损失曲线上的制图间隔\n",
    "plot_every = 10\n",
    "\n",
    "def train(train_type_fn):\n",
    "    \"\"\"训练过程的日志打印函数, 参数train_type_fn代表选择哪种模型训练函数, 如trainRNN\"\"\"\n",
    "    # 每个制图间隔损失保存列表\n",
    "    all_losses = []\n",
    "    # 获得训练开始时间戳\n",
    "    start = time.time()\n",
    "    # 设置初始间隔损失为0\n",
    "    current_loss = 0\n",
    "    # 从1开始进行训练迭代, 共n_iters次 \n",
    "    for iter in range(1, n_iters + 1):\n",
    "        # 通过randomTrainingExample函数随机获取一组训练数据和对应的类别\n",
    "        category, line, category_tensor, line_tensor = randomTrainingExample()\n",
    "        # 将训练数据和对应类别的张量表示传入到train函数中\n",
    "        output, loss = train_type_fn(category_tensor, line_tensor)      \n",
    "        # 计算制图间隔中的总损失\n",
    "        current_loss += loss   \n",
    "        # 如果迭代数能够整除打印间隔\n",
    "        if iter % print_every == 0:\n",
    "            # 取该迭代步上的output通过categoryFromOutput函数获得对应的类别和类别索引\n",
    "            guess, guess_i = categoryFromOutput(output)\n",
    "            # 然后和真实的类别category做比较, 如果相同则打对号, 否则打叉号.\n",
    "            correct = '✓' if guess == category else '✗ (%s)' % category\n",
    "            # 打印迭代步, 迭代步百分比, 当前训练耗时, 损失, 该步预测的名字, 以及是否正确                                \n",
    "            print('%d %d%% (%s) %.4f %s / %s %s' % (iter, iter / n_iters * 100, timeSince(start), loss, line, guess, correct))\n",
    "\n",
    "        # 如果迭代数能够整除制图间隔\n",
    "        if iter % plot_every == 0:\n",
    "            # 将保存该间隔中的平均损失到all_losses列表中\n",
    "            all_losses.append(current_loss / plot_every)\n",
    "            # 间隔损失重置为0\n",
    "            current_loss = 0\n",
    "    # 返回对应的总损失列表和训练耗时\n",
    "    return all_losses, int(time.time() - start)"
   ]
  },
  {
   "cell_type": "markdown",
   "metadata": {},
   "source": [
    "# 4. 使用RNN解决问题"
   ]
  },
  {
   "cell_type": "code",
   "execution_count": 20,
   "metadata": {},
   "outputs": [],
   "source": [
    "# 使用nn.RNN构建完成传统RNN使用类\n",
    "class RNN(torch.nn.Module):\n",
    "    def __init__(self, input_size, hidden_size, output_size, num_layers=1):\n",
    "        \"\"\"初始化函数中有4个参数, 分别代表RNN输入最后一维尺寸, RNN的隐层最后一维尺寸, RNN层数\"\"\"\n",
    "        super(RNN, self).__init__()       \n",
    "        # 将hidden_size与num_layers传入其中\n",
    "        self.hidden_size = hidden_size\n",
    "        self.num_layers = num_layers  \n",
    "\n",
    "        # 实例化预定义的nn.RNN, 它的三个参数分别是input_size, hidden_size, num_layers\n",
    "        self.rnn = torch.nn.RNN(input_size, hidden_size, num_layers)\n",
    "        # 实例化nn.Linear, 这个线性层用于将nn.RNN的输出维度转化为指定的输出维度\n",
    "        self.linear = torch.nn.Linear(hidden_size, output_size)\n",
    "        # 实例化nn中预定的Softmax层, 用于从输出层获得类别结果\n",
    "        self.softmax = torch.nn.LogSoftmax(dim=-1)\n",
    "\n",
    "    def forward(self, input, hidden):\n",
    "        \"\"\"完成传统RNN中的主要逻辑, 输入参数input代表输入张量, 它的形状是1 x n_letters\n",
    "           hidden代表RNN的隐层张量, 它的形状是self.num_layers x 1 x self.hidden_size\"\"\"\n",
    "        # 因为预定义的nn.RNN要求输入维度一定是三维张量, 因此在这里使用unsqueeze(0)扩展一个维度\n",
    "        input = input.unsqueeze(0)\n",
    "        # 将input和hidden输入到传统RNN的实例化对象中，如果num_layers=1, rr恒等于hn\n",
    "        rr, hn = self.rnn(input, hidden)\n",
    "        # 将从RNN中获得的结果通过线性变换和softmax返回，同时返回hn作为后续RNN的输入\n",
    "        return self.softmax(self.linear(rr)), hn\n",
    "\n",
    "\n",
    "    def initHidden(self):\n",
    "        \"\"\"初始化隐层张量\"\"\"\n",
    "        # 初始化一个（self.num_layers, 1, self.hidden_size）形状的0张量     \n",
    "        return torch.zeros(self.num_layers, 1, self.hidden_size)  "
   ]
  },
  {
   "cell_type": "code",
   "execution_count": 21,
   "metadata": {},
   "outputs": [
    {
     "name": "stdout",
     "output_type": "stream",
     "text": [
      "tensor([[1, 2, 3, 4]])\n",
      "tensor([[1],\n",
      "        [2],\n",
      "        [3],\n",
      "        [4]])\n"
     ]
    }
   ],
   "source": [
    "x = torch.tensor([1, 2, 3, 4])\n",
    "print(torch.unsqueeze(x, 0))\n",
    "print(torch.unsqueeze(x, 1))"
   ]
  },
  {
   "cell_type": "code",
   "execution_count": 22,
   "metadata": {},
   "outputs": [
    {
     "name": "stdout",
     "output_type": "stream",
     "text": [
      "rnn: tensor([[[-2.8547, -2.8680, -2.8657, -3.0458, -2.8060, -2.8230, -2.8990,\n",
      "          -2.8622, -2.9806, -2.8730, -2.8865, -3.0292, -2.9244, -2.8250,\n",
      "          -2.8356, -2.9481, -2.8011, -2.9427]]], grad_fn=<LogSoftmaxBackward>)\n"
     ]
    }
   ],
   "source": [
    "rnn = RNN(n_letters, n_hidden, n_categories)\n",
    "rnn_output, next_hidden = rnn(input, hidden)\n",
    "print(\"rnn:\", rnn_output)"
   ]
  },
  {
   "cell_type": "code",
   "execution_count": 23,
   "metadata": {},
   "outputs": [],
   "source": [
    "# 定义损失函数为nn.NLLLoss，因为RNN的最后一层是nn.LogSoftmax, 两者的内部计算逻辑正好能够吻合.  \n",
    "criterion = torch.nn.NLLLoss()\n",
    "\n",
    "# 设置学习率为0.005\n",
    "learning_rate = 0.005 \n",
    "\n",
    "def trainRNN(category_tensor, line_tensor):\n",
    "    \"\"\"定义训练函数, 它的两个参数是category_tensor类别的张量表示, 相当于训练数据的标签,\n",
    "       line_tensor名字的张量表示, 相当于对应训练数据\"\"\"\n",
    "\n",
    "    # 在函数中, 首先通过实例化对象rnn初始化隐层张量\n",
    "    hidden = rnn.initHidden()\n",
    "\n",
    "    # 然后将模型结构中的梯度归0\n",
    "    rnn.zero_grad()\n",
    "\n",
    "    # 下面开始进行训练, 将训练数据line_tensor的每个字符逐个传入rnn之中, 得到最终结果\n",
    "    for i in range(line_tensor.size()[0]):\n",
    "        output, hidden = rnn(line_tensor[i], hidden)\n",
    "\n",
    "    # 因为我们的rnn对象由nn.RNN实例化得到, 最终输出形状是三维张量, 为了满足于category_tensor\n",
    "    # 进行对比计算损失, 需要减少第一个维度, 这里使用squeeze()方法\n",
    "    loss = criterion(output.squeeze(0), category_tensor)\n",
    "\n",
    "    # 损失进行反向传播\n",
    "    loss.backward()\n",
    "    # 更新模型中所有的参数\n",
    "    for p in rnn.parameters():\n",
    "        # 将参数的张量表示与参数的梯度乘以学习率的结果相加以此来更新参数\n",
    "        p.data.add_(-learning_rate, p.grad.data)\n",
    "    # 返回结果和损失的值\n",
    "    return output, loss.item()"
   ]
  },
  {
   "cell_type": "code",
   "execution_count": 25,
   "metadata": {},
   "outputs": [
    {
     "name": "stdout",
     "output_type": "stream",
     "text": [
      "50 5% (0m 0s) 2.8670 Prescott / Portuguese ✗ (English)\n",
      "100 10% (0m 0s) 2.6976 Yakushev / Russian ✓\n",
      "150 15% (0m 0s) 2.8175 Wan / French ✗ (Chinese)\n",
      "200 20% (0m 0s) 2.8990 Berger / French ✗ (German)\n",
      "250 25% (0m 0s) 2.8109 Luc / Czech ✗ (Vietnamese)\n",
      "300 30% (0m 0s) 2.9844 O'Neal / Scottish ✗ (Irish)\n",
      "350 35% (0m 0s) 2.7810 Zhaivoronok / Korean ✗ (Russian)\n",
      "400 40% (0m 0s) 2.9252 Alves / Greek ✗ (Spanish)\n",
      "450 45% (0m 1s) 2.8990 Almeida / Arabic ✗ (Portuguese)\n",
      "500 50% (0m 1s) 2.9730 Iwasa / French ✗ (Japanese)\n",
      "550 55% (0m 1s) 2.7811 Araullo / French ✗ (Portuguese)\n",
      "600 60% (0m 1s) 2.7315 Mitchell / French ✗ (Scottish)\n",
      "650 65% (0m 1s) 2.5866 Xydis / Greek ✓\n",
      "700 70% (0m 1s) 2.7149 Poulin / French ✓\n",
      "750 75% (0m 1s) 2.7649 La / Vietnamese ✓\n",
      "800 80% (0m 1s) 2.9598 Daal / Scottish ✗ (Dutch)\n",
      "850 85% (0m 1s) 2.7974 Dieter / French ✗ (German)\n",
      "900 90% (0m 2s) 2.7517 Ma / Vietnamese ✓\n",
      "950 95% (0m 2s) 2.7431 Giang / Arabic ✗ (Vietnamese)\n",
      "1000 100% (0m 2s) 2.8694 Peter / French ✗ (Dutch)\n"
     ]
    }
   ],
   "source": [
    "# 调用train函数, 分别进行RNN, LSTM, GRU模型的训练\n",
    "# 并返回各自的全部损失, 以及训练耗时用于制图\n",
    "all_losses1, period1 = train(trainRNN)"
   ]
  },
  {
   "cell_type": "markdown",
   "metadata": {},
   "source": [
    "# 5. 使用LSTM模型解决问题"
   ]
  },
  {
   "cell_type": "code",
   "execution_count": 26,
   "metadata": {},
   "outputs": [],
   "source": [
    "# 使用nn.LSTM构建完成LSTM使用类\n",
    "\n",
    "class LSTM(torch.nn.Module):\n",
    "    def __init__(self, input_size, hidden_size, output_size, num_layers=1):\n",
    "        \"\"\"初始化函数的参数与传统RNN相同\"\"\"\n",
    "        super(LSTM, self).__init__()\n",
    "        # 将hidden_size与num_layers传入其中\n",
    "        self.hidden_size = hidden_size\n",
    "        self.num_layers = num_layers\n",
    "\n",
    "        # 实例化预定义的nn.LSTM\n",
    "        self.lstm = torch.nn.LSTM(input_size, hidden_size, num_layers)\n",
    "        # 实例化nn.Linear, 这个线性层用于将nn.RNN的输出维度转化为指定的输出维度\n",
    "        self.linear = torch.nn.Linear(hidden_size, output_size)\n",
    "        # 实例化nn中预定的Softmax层, 用于从输出层获得类别结果\n",
    "        self.softmax = torch.nn.LogSoftmax(dim=-1)\n",
    "\n",
    "\n",
    "    def forward(self, input, hidden, c):\n",
    "        \"\"\"在主要逻辑函数中多出一个参数c, 也就是LSTM中的细胞状态张量\"\"\"\n",
    "        # 使用unsqueeze(0)扩展一个维度\n",
    "        input = input.unsqueeze(0)\n",
    "        # 将input, hidden以及初始化的c传入lstm中\n",
    "        rr, (hn, c) = self.lstm(input, (hidden, c))\n",
    "        # 最后返回处理后的rr, hn, c\n",
    "        return self.softmax(self.linear(rr)), hn, c\n",
    "\n",
    "    def initHiddenAndC(self):  \n",
    "        \"\"\"初始化函数不仅初始化hidden还要初始化细胞状态c, 它们形状相同\"\"\"\n",
    "        c = hidden = torch.zeros(self.num_layers, 1, self.hidden_size)\n",
    "        return hidden, c"
   ]
  },
  {
   "cell_type": "code",
   "execution_count": 27,
   "metadata": {},
   "outputs": [
    {
     "name": "stdout",
     "output_type": "stream",
     "text": [
      "lstm: tensor([[[-2.8460, -2.8630, -2.7889, -2.9906, -2.8660, -2.8571, -2.8756,\n",
      "          -2.8414, -2.8086, -2.8706, -2.9799, -2.9097, -2.9780, -2.9793,\n",
      "          -2.8561, -2.9242, -2.8348, -2.9939]]], grad_fn=<LogSoftmaxBackward>)\n"
     ]
    }
   ],
   "source": [
    "lstm = LSTM(n_letters, n_hidden, n_categories)\n",
    "lstm_output, next_hidden, c = lstm(input, hidden, c)\n",
    "print(\"lstm:\", lstm_output)"
   ]
  },
  {
   "cell_type": "code",
   "execution_count": 28,
   "metadata": {},
   "outputs": [],
   "source": [
    "# 与传统RNN相比多出细胞状态c\n",
    "\n",
    "def trainLSTM(category_tensor, line_tensor):\n",
    "    hidden, c = lstm.initHiddenAndC()\n",
    "    lstm.zero_grad()\n",
    "    for i in range(line_tensor.size()[0]):\n",
    "        # 返回output, hidden以及细胞状态c\n",
    "        output, hidden, c = lstm(line_tensor[i], hidden, c)\n",
    "    loss = criterion(output.squeeze(0), category_tensor)\n",
    "    loss.backward()\n",
    "\n",
    "    for p in lstm.parameters():\n",
    "        p.data.add_(-learning_rate, p.grad.data)\n",
    "    return output, loss.item()"
   ]
  },
  {
   "cell_type": "code",
   "execution_count": 29,
   "metadata": {},
   "outputs": [
    {
     "name": "stdout",
     "output_type": "stream",
     "text": [
      "50 5% (0m 0s) 2.8395 Ryom / Arabic ✗ (Korean)\n",
      "100 10% (0m 0s) 2.8084 O'Connor / Arabic ✗ (Irish)\n",
      "150 15% (0m 0s) 2.8534 Cunningham / Arabic ✗ (Scottish)\n",
      "200 20% (0m 0s) 2.8410 Shon / Irish ✗ (Korean)\n",
      "250 25% (0m 0s) 2.8756 Qing / Irish ✗ (Chinese)\n",
      "300 30% (0m 1s) 2.7843 Domhnall / Arabic ✗ (Irish)\n",
      "350 35% (0m 1s) 3.0045 Olguin / Irish ✗ (Spanish)\n",
      "400 40% (0m 1s) 2.8528 Cheng / Arabic ✗ (Chinese)\n",
      "450 45% (0m 1s) 2.8647 Sai / Irish ✗ (Vietnamese)\n",
      "500 50% (0m 1s) 2.8515 Taylor / Arabic ✗ (Scottish)\n",
      "550 55% (0m 1s) 2.9041 Darchinyants / Arabic ✗ (Russian)\n",
      "600 60% (0m 2s) 2.9387 Glatter / Arabic ✗ (Czech)\n",
      "650 65% (0m 2s) 2.8325 Gil / Arabic ✗ (Korean)\n",
      "700 70% (0m 2s) 2.9002 Singleton / Arabic ✗ (English)\n",
      "750 75% (0m 2s) 2.8902 Leon / Arabic ✗ (French)\n",
      "800 80% (0m 2s) 2.8950 Severin / Arabic ✗ (French)\n",
      "850 85% (0m 3s) 2.8631 Thach / Arabic ✗ (Vietnamese)\n",
      "900 90% (0m 3s) 2.8988 Kitano / Arabic ✗ (Japanese)\n",
      "950 95% (0m 3s) 2.8686 King / Arabic ✗ (English)\n",
      "1000 100% (0m 3s) 2.8880 Katsumata / Arabic ✗ (Japanese)\n"
     ]
    }
   ],
   "source": [
    "all_losses2, period2 = train(trainLSTM)"
   ]
  },
  {
   "cell_type": "markdown",
   "metadata": {},
   "source": [
    "# 6. 使用GRU模型构建问题"
   ]
  },
  {
   "cell_type": "code",
   "execution_count": 30,
   "metadata": {},
   "outputs": [],
   "source": [
    "# 使用nn.GRU构建完成传统RNN使用类\n",
    "# GRU与传统RNN的外部形式相同, 都是只传递隐层张量, 因此只需要更改预定义层的名字\n",
    "class GRU(torch.nn.Module):\n",
    "    def __init__(self, input_size, hidden_size, output_size, num_layers=1):\n",
    "        super(GRU, self).__init__()\n",
    "        self.hidden_size = hidden_size\n",
    "        self.num_layers = num_layers\n",
    "\n",
    "        # 实例化预定义的nn.GRU, 它的三个参数分别是input_size, hidden_size, num_layers\n",
    "        self.gru = torch.nn.GRU(input_size, hidden_size, num_layers)\n",
    "        self.linear = torch.nn.Linear(hidden_size, output_size)\n",
    "        self.softmax = torch.nn.LogSoftmax(dim=-1)\n",
    "\n",
    "    def forward(self, input, hidden):\n",
    "        input = input.unsqueeze(0)\n",
    "        rr, hn = self.gru(input, hidden)\n",
    "        return self.softmax(self.linear(rr)), hn\n",
    "\n",
    "    def initHidden(self):\n",
    "        return torch.zeros(self.num_layers, 1, self.hidden_size)"
   ]
  },
  {
   "cell_type": "code",
   "execution_count": 31,
   "metadata": {},
   "outputs": [
    {
     "name": "stdout",
     "output_type": "stream",
     "text": [
      "gru: tensor([[[-2.8084, -2.8013, -2.9020, -2.8224, -2.9233, -2.9539, -2.9528,\n",
      "          -2.8659, -2.8182, -2.9428, -2.9374, -2.8925, -2.9843, -2.9554,\n",
      "          -2.8804, -2.8853, -2.8480, -2.8796]]], grad_fn=<LogSoftmaxBackward>)\n"
     ]
    }
   ],
   "source": [
    "gru = GRU(n_letters, n_hidden, n_categories)\n",
    "gru_output, next_hidden = gru(input, hidden)\n",
    "print(\"gru:\", gru_output)"
   ]
  },
  {
   "cell_type": "code",
   "execution_count": 32,
   "metadata": {},
   "outputs": [],
   "source": [
    "def trainGRU(category_tensor, line_tensor):\n",
    "    hidden = gru.initHidden()\n",
    "    gru.zero_grad()\n",
    "    for i in range(line_tensor.size()[0]):\n",
    "        output, hidden= gru(line_tensor[i], hidden)\n",
    "    loss = criterion(output.squeeze(0), category_tensor)\n",
    "    loss.backward()\n",
    "\n",
    "    for p in gru.parameters():\n",
    "        p.data.add_(-learning_rate, p.grad.data)\n",
    "    return output, loss.item()"
   ]
  },
  {
   "cell_type": "code",
   "execution_count": 33,
   "metadata": {},
   "outputs": [
    {
     "name": "stdout",
     "output_type": "stream",
     "text": [
      "50 5% (0m 0s) 2.8493 Gravari / Irish ✗ (Greek)\n",
      "100 10% (0m 0s) 2.8833 Dickson / German ✗ (Scottish)\n",
      "150 15% (0m 0s) 2.8546 Ivor / German ✗ (Irish)\n",
      "200 20% (0m 0s) 2.8861 Dertilis / German ✗ (Greek)\n",
      "250 25% (0m 0s) 2.9171 Grec / German ✗ (Spanish)\n",
      "300 30% (0m 1s) 2.9920 Banh / German ✗ (Vietnamese)\n",
      "350 35% (0m 1s) 2.8758 Shaw / German ✗ (Scottish)\n",
      "400 40% (0m 1s) 2.6842 Teufel / German ✓\n",
      "450 45% (0m 1s) 2.8237 Poingdestre / German ✗ (French)\n",
      "500 50% (0m 1s) 2.8405 Watson / German ✗ (Scottish)\n",
      "550 55% (0m 2s) 2.9001 Yuan / German ✗ (Chinese)\n",
      "600 60% (0m 2s) 2.8303 Thibault / German ✗ (French)\n",
      "650 65% (0m 2s) 2.8162 Bellamy / German ✗ (French)\n",
      "700 70% (0m 2s) 2.9167 Mayer / German ✗ (Czech)\n",
      "750 75% (0m 2s) 2.9027 Alagona / German ✗ (Italian)\n",
      "800 80% (0m 2s) 2.8875 Kong / German ✗ (Chinese)\n",
      "850 85% (0m 3s) 2.7550 Perrot / French ✓\n",
      "900 90% (0m 3s) 2.9420 Vigo / French ✗ (Italian)\n",
      "950 95% (0m 3s) 2.8008 Kawachi / French ✗ (Japanese)\n",
      "1000 100% (0m 3s) 2.7385 Lange / German ✓\n"
     ]
    }
   ],
   "source": [
    "all_losses3, period3 = train(trainGRU)"
   ]
  },
  {
   "cell_type": "markdown",
   "metadata": {},
   "source": [
    "# 7. 绘制损失图与时间对比图"
   ]
  },
  {
   "cell_type": "code",
   "execution_count": 34,
   "metadata": {},
   "outputs": [
    {
     "data": {
      "text/plain": "<BarContainer object of 3 artists>"
     },
     "execution_count": 34,
     "metadata": {},
     "output_type": "execute_result"
    },
    {
     "data": {
      "image/png": "[encoded data removed]",
      "text/plain": "<Figure size 432x288 with 1 Axes>"
     },
     "metadata": {
      "needs_background": "light"
     },
     "output_type": "display_data"
    },
    {
     "data": {
      "image/png": "[encoded data removed]",
      "text/plain": "<Figure size 432x288 with 1 Axes>"
     },
     "metadata": {
      "needs_background": "light"
     },
     "output_type": "display_data"
    }
   ],
   "source": [
    "# 绘制损失对比曲线, 训练耗时对比柱张图\n",
    "# 创建画布0\n",
    "plt.figure(0)\n",
    "# 绘制损失对比曲线\n",
    "plt.plot(all_losses1, label=\"RNN\")\n",
    "plt.plot(all_losses2, color=\"red\", label=\"LSTM\")\n",
    "plt.plot(all_losses3, color=\"orange\", label=\"GRU\") \n",
    "plt.legend(loc='upper left') \n",
    "\n",
    "# 创建画布1\n",
    "plt.figure(1)\n",
    "x_data=[\"RNN\", \"LSTM\", \"GRU\"] \n",
    "y_data = [period1, period2, period3]\n",
    "# 绘制训练耗时对比柱状图\n",
    "plt.bar(range(len(x_data)), y_data, tick_label=x_data)"
   ]
  },
  {
   "cell_type": "markdown",
   "metadata": {},
   "source": [
    "# 8. 构建评估函数并进行预测"
   ]
  },
  {
   "cell_type": "code",
   "execution_count": 35,
   "metadata": {},
   "outputs": [],
   "source": [
    "def evaluateRNN(line_tensor):\n",
    "    \"\"\"评估函数, 和训练函数逻辑相同, 参数是line_tensor代表名字的张量表示\"\"\"\n",
    "    # 初始化隐层张量\n",
    "    hidden = rnn.initHidden()\n",
    "    # 将评估数据line_tensor的每个字符逐个传入rnn之中\n",
    "    for i in range(line_tensor.size()[0]):\n",
    "        output, hidden = rnn(line_tensor[i], hidden)\n",
    "    # 获得输出结果\n",
    "    return output.squeeze(0)"
   ]
  },
  {
   "cell_type": "code",
   "execution_count": 36,
   "metadata": {},
   "outputs": [],
   "source": [
    "def evaluateLSTM(line_tensor):\n",
    "    # 初始化隐层张量和细胞状态张量\n",
    "    hidden, c = lstm.initHiddenAndC()\n",
    "    # 将评估数据line_tensor的每个字符逐个传入lstm之中\n",
    "    for i in range(line_tensor.size()[0]):\n",
    "        output, hidden, c = lstm(line_tensor[i], hidden, c)\n",
    "    return output.squeeze(0)"
   ]
  },
  {
   "cell_type": "code",
   "execution_count": 37,
   "metadata": {},
   "outputs": [],
   "source": [
    "def evaluateGRU(line_tensor):\n",
    "    hidden = gru.initHidden()\n",
    "    # 将评估数据line_tensor的每个字符逐个传入gru之中\n",
    "    for i in range(line_tensor.size()[0]):\n",
    "        output, hidden = gru(line_tensor[i], hidden)\n",
    "    return output.squeeze(0)"
   ]
  },
  {
   "cell_type": "code",
   "execution_count": 38,
   "metadata": {},
   "outputs": [
    {
     "name": "stdout",
     "output_type": "stream",
     "text": [
      "rnn_output: tensor([[-3.0423, -2.9684, -2.7266, -2.9670, -2.7551, -2.5885, -3.0765, -2.9335,\n",
      "         -2.9198, -3.0803, -2.7874, -2.9898, -2.6691, -2.9373, -2.8322, -3.0915,\n",
      "         -2.9129, -2.9336]], grad_fn=<SqueezeBackward1>)\n",
      "gru_output: tensor([[-2.9638, -2.8393, -2.7941, -2.8741, -2.9085, -2.8788, -2.8632, -2.9411,\n",
      "         -2.8358, -2.8844, -2.9754, -2.8993, -2.9415, -2.9550, -2.8575, -2.8920,\n",
      "         -2.8354, -2.9090]], grad_fn=<SqueezeBackward1>)\n",
      "gru_output: tensor([[-2.8990, -2.7631, -2.9123, -2.7882, -2.8574, -2.9747, -2.9629, -2.7745,\n",
      "         -2.9046, -2.9752, -2.8848, -2.9126, -2.9721, -2.9463, -2.8860, -2.9770,\n",
      "         -2.8803, -2.7999]], grad_fn=<SqueezeBackward1>)\n"
     ]
    }
   ],
   "source": [
    "line = \"Bai\"\n",
    "line_tensor = lineToTensor(line)\n",
    "rnn_output = evaluateRNN(line_tensor)\n",
    "lstm_output = evaluateLSTM(line_tensor)\n",
    "gru_output = evaluateGRU(line_tensor)\n",
    "print(\"rnn_output:\", rnn_output)\n",
    "print(\"gru_output:\", lstm_output)\n",
    "print(\"gru_output:\", gru_output)"
   ]
  },
  {
   "cell_type": "code",
   "execution_count": 39,
   "metadata": {},
   "outputs": [],
   "source": [
    "def predict(input_line, evaluate, n_predictions=3):\n",
    "    \"\"\"预测函数, 输入参数input_line代表输入的名字, \n",
    "       n_predictions代表需要取最有可能的top个\"\"\"\n",
    "    # 首先打印输入\n",
    "    print('\\n> %s' % input_line)\n",
    "\n",
    "    # 以下操作的相关张量不进行求梯度\n",
    "    with torch.no_grad():\n",
    "        # 使输入的名字转换为张量表示, 并使用evaluate函数获得预测输出\n",
    "        output = evaluate(lineToTensor(input_line))\n",
    "\n",
    "        # 从预测的输出中取前3个最大的值及其索引\n",
    "        topv, topi = output.topk(n_predictions, 1, True)\n",
    "        # 创建盛装结果的列表\n",
    "        predictions = []\n",
    "        # 遍历n_predictions\n",
    "        for i in range(n_predictions):\n",
    "            # 从topv中取出的output值\n",
    "            value = topv[0][i].item()\n",
    "            # 取出索引并找到对应的类别\n",
    "            category_index = topi[0][i].item()\n",
    "            # 打印ouput的值, 和对应的类别\n",
    "            print('(%.2f) %s' % (value, all_categories[category_index]))\n",
    "            # 将结果装进predictions中\n",
    "            predictions.append([value, all_categories[category_index]])"
   ]
  },
  {
   "cell_type": "code",
   "execution_count": 44,
   "metadata": {},
   "outputs": [
    {
     "name": "stdout",
     "output_type": "stream",
     "text": [
      "------------------\n",
      "\n",
      "> Dovesky\n",
      "(-2.68) Irish\n",
      "(-2.71) Scottish\n",
      "(-2.72) Arabic\n",
      "\n",
      "> Jackson\n",
      "(-2.66) Irish\n",
      "(-2.71) Scottish\n",
      "(-2.74) Greek\n",
      "\n",
      "> Satoshi\n",
      "(-2.62) Italian\n",
      "(-2.69) Scottish\n",
      "(-2.76) Arabic\n",
      "\n",
      "> Zhang\n",
      "(-2.71) Vietnamese\n",
      "(-2.72) Arabic\n",
      "(-2.78) Scottish\n",
      "------------------\n",
      "\n",
      "> Dovesky\n",
      "(-2.78) Arabic\n",
      "(-2.84) Korean\n",
      "(-2.85) German\n",
      "\n",
      "> Jackson\n",
      "(-2.81) Arabic\n",
      "(-2.84) Korean\n",
      "(-2.84) Irish\n",
      "\n",
      "> Satoshi\n",
      "(-2.79) Arabic\n",
      "(-2.84) Irish\n",
      "(-2.84) German\n",
      "\n",
      "> Zhang\n",
      "(-2.79) Arabic\n",
      "(-2.83) Irish\n",
      "(-2.85) Korean\n",
      "------------------\n",
      "\n",
      "> Dovesky\n",
      "(-2.74) German\n",
      "(-2.76) French\n",
      "(-2.81) Chinese\n",
      "\n",
      "> Jackson\n",
      "(-2.73) German\n",
      "(-2.77) French\n",
      "(-2.82) Polish\n",
      "\n",
      "> Satoshi\n",
      "(-2.76) German\n",
      "(-2.77) French\n",
      "(-2.79) Japanese\n",
      "\n",
      "> Zhang\n",
      "(-2.74) German\n",
      "(-2.77) French\n",
      "(-2.81) Polish\n"
     ]
    }
   ],
   "source": [
    "for evaluate_fn in [evaluateRNN, evaluateLSTM, evaluateGRU]: \n",
    "    print(\"-\"*18)\n",
    "    predict('Dovesky', evaluate_fn)\n",
    "    predict('Jackson', evaluate_fn)\n",
    "    predict('Satoshi', evaluate_fn)\n",
    "    predict(\"Zhang\", evaluate_fn)"
   ]
  }
 ],
 "metadata": {
  "kernelspec": {
   "display_name": "Python 3.8.5 64-bit ('base': conda)",
   "name": "python385jvsc74a57bd0962ff1a08bbd29f414ba67199d725d5b08f35603471a3d6cc67d6569664ed27c"
  },
  "language_info": {
   "codemirror_mode": {
    "name": "ipython",
    "version": 3
   },
   "file_extension": ".py",
   "mimetype": "text/x-python",
   "name": "python",
   "nbconvert_exporter": "python",
   "pygments_lexer": "ipython3",
   "version": "3.8.5"
  },
  "orig_nbformat": 2
 },
 "nbformat": 4,
 "nbformat_minor": 2
}