{
 "cells": [
  {
   "cell_type": "markdown",
   "source": [
    "目标检测之SSD\n",
    "==="
   ],
   "metadata": {
    "collapsed": false
   }
  },
  {
   "cell_type": "markdown",
   "source": [
    "# 1.什么是SSD\n",
    "SSD,Single Shot MultiBox Detector。Single Shot说明SSD算法是One-Stage算法，MultiBox指明了SSD是多框预测。SSD的速度与准确度都强于YOLO v1.相比Yolo，SSD采用CNN来直接进行检测，而不是像Yolo那样在全连接层之后做检测。其实采用卷积直接做检测只是SSD相比Yolo的其中一个不同点，另外还有两个重要的改变，一是SSD提取了不同尺度的特征图来做检测，大尺度特征图（较靠前的特征图）可以用来检测小物体，而小尺度特征图（较靠后的特征图）用来检测大物体；二是SSD采用了不同尺度和长宽比的先验框（Prior boxes, Default boxes，在Faster R-CNN中叫做锚，Anchors）。Yolo算法缺点是难以检测小目标，而且定位不准，但是这几点重要改进使得SSD在一定程度上克服这些缺点。"
   ],
   "metadata": {
    "collapsed": false
   }
  },
  {
   "cell_type": "markdown",
   "source": [
    "# 2.算法概述\n",
    "总体思路就是，保存六个层次的特征图:$38 \\times 38$，$19 \\times 19$，$10 \\times 10$，$5 \\times 5$，$3 \\times 3$，$1 \\times 1$，然后经过一定的计算将这些特征图分成两支，一支负责预测location(shape=BS,8732,4)，一支负责预测conf(shape=BS,8732,21)。这两支再加上通过公式计算出来的先验框Priors(shape=8732,4)一起组成pred和target进行MultiLoss计算。Loss的计算同样也是分开Loc和Conf两部分，首先找到每个Ground truth box对应的的先验框，然后根据这个位置找到预测值中对应的预测值，同样也找到真实值中的对应位置的真实值，两者做Loss。"
   ],
   "metadata": {
    "collapsed": false
   }
  },
  {
   "cell_type": "markdown",
   "source": [
    "## 2.1.采用多尺度特征图用于检测\n",
    "其实就是采用金字塔网络。所谓多尺度采用大小不同的特征图，CNN网络一般前面的特征图比较大，后面会逐渐采用stride=2的卷积或者pool来降低特征图大小。一个比较大的特征图和一个比较小的特征图，它们都用来做检测。这样做的好处是比较大的特征图来用来检测相对较小的目标，而小的特征图负责检测大目标，如图4所示，8x8的特征图可以划分更多的单元，但是其每个单元的先验框尺度比较小。具体来说，就是检测$38 \\times 38$，$19 \\times 19$，$10 \\times 10$，$5 \\times 5$，$3 \\times 3$，$1 \\times 1$这六种大小的特征图。"
   ],
   "metadata": {
    "collapsed": false
   }
  },
  {
   "cell_type": "markdown",
   "source": [
    "## 2.2.采用卷积进行检测\n",
    "与Yolo最后采用全连接层不同，SSD直接采用卷积对不同的特征图来进行提取检测结果。对于形状为$m\\times n \\times p$的特征图，只需要采用$3\\times 3 \\times p$这样比较小的卷积核得到检测值。"
   ],
   "metadata": {
    "collapsed": false
   }
  },
  {
   "cell_type": "markdown",
   "source": [
    "## 2.3.设置先验框\n",
    "在Yolo中，每个单元预测多个边界框，但是其都是相对这个单元本身（正方块），但是真实目标的形状是多变的，Yolo需要在训练过程中自适应目标的形状。而SSD借鉴了Faster R-CNN中anchor的理念，每个单元设置尺度或者长宽比不同的先验框，预测的边界框（bounding boxes）是以这些先验框为基准的，在一定程度上减少训练难度。一般情况下，每个单元会设置多个先验框，其尺度和长宽比存在差异，目标分别采用最适合它们形状的先验框来进行训练\n",
    "\n",
    "### 2.3.1.先验框的匹配规则\n",
    "确定训练图片中的ground truth与哪个先验框来进行匹配，与之匹配的先验框所对应的边界框将负责预测它。在Yolo中，ground truth的中心落在哪个单元格，该单元格中与其IOU最大的边界框负责预测它。但是在SSD中却完全不一样，SSD的先验框与ground truth的匹配原则主要有两点\n",
    "1. 对于图片中每个ground truth，找到与其IOU最大的先验框，该先验框与其匹配，这样，可以保证每个ground truth一定与某个先验框匹配。通常称与ground truth匹配的先验框为正样本。若一个先验框没有与任何ground truth进行匹配，那么该先验框只能与背景匹配，就是负样本。\n",
    "2. 对于剩余的未匹配先验框，若某个ground truth的IOU大于某个阈值(一般是0.5)，那么该先验框也与这个ground truth进行匹配。\n",
    "\n",
    "第一个原则保证每个ground truth都有一个先验框与之相对应，也就是说都会存在正样本，但是这个原则会导致正样本极少，负样本极多，这样正负样本极不平衡。所以有了第二个原则。但是第二个会导致的一个结果就是一个ground truth有可能对应多个先验框，这是可以的。如果多个ground truth与某个先验框 \\text{IOU} 大于阈值，那么先验框只与IOU最大的那个先验框进行匹配。第二个原则一定在第一个原则之后进行。下图是一个匹配示意图，其中绿色的GT是ground truth，红色为先验框，FP表示负样本，TP表示正样本<br/>\n",
    "![images](Images/03/02/02_02_001.png)\n",
    "\n",
    "### 2.3.2.负样本的处理\n",
    "尽管一个ground truth可以与多个先验框匹配，但是ground truth相对先验框还是太少了，所以负样本相对正样本会很多。为了保证正负样本尽量平衡，SSD采用了hard negative mining，就是对负样本进行抽样，抽样时按照置信度误差（预测背景的置信度越小，误差越大）进行降序排列，选取误差的较大的top-k作为训练的负样本，以保证正负样本比例接近1:3。而对于正负样本数量不均衡的数据集(这里假设负样本数量圆圆大于正样本数量)，通常的做法有四种，可以参考[](../01.Basic/数据不均衡.ipynb)"
   ],
   "metadata": {
    "collapsed": false
   }
  },
  {
   "cell_type": "markdown",
   "source": [
    "具体来说，在$38 \\times 38$的特征图上通过$3 \\times 3$卷积层预测4个不同宽高比的box，$19 \\times 19$特征图上预测6个，$10 \\times 10$特征图预测6个，$5 \\times 5$特征图预测6个，$3 \\times 3$特征图预测4个，$1 \\times 1$特征图预测4个，所以就有$38 \\times 38 \\times 4+19 \\times 19 \\times 6+10 \\times 10 \\times 6+5 \\times 5 \\times 6+3 \\times 3 \\times 4+4 = 8732$，这个8732是最终预测框的个数,同时也是先验框的个数"
   ],
   "metadata": {
    "collapsed": false
   }
  },
  {
   "cell_type": "markdown",
   "source": [
    "## 2.4.anchor box的维度\n",
    "SSD300网络的输出是一个包含3个值的tuple\n",
    "1. Loc的信息，维度为?,8732,4\n",
    "2. conf置信度信息，维度为?,8732,21\n",
    "3. 概率信息，维度为8732,4\n",
    "\n",
    "8372是怎么来的？我们知道SSD是多尺度特征检测，其中在$38 \\times 38$的特征图上通过$3 \\times 3$卷积层预测4个不同宽高比的box，$19 \\times 19$特征图上预测6个，$10 \\times 10$特征图预测6个，$5 \\times 5$特征图预测6个，$3 \\times 3$特征图预测4个，$1 \\times 1$特征图预测4个，所以就有$38 \\times 38 \\times 4+19 \\times 19 \\times 6+10 \\times 10 \\times 6+5 \\times 5 \\times 6+3 \\times 3 \\times 4+4 = 8732$，这个8732是最终预测框的个数"
   ],
   "metadata": {
    "collapsed": false
   }
  },
  {
   "cell_type": "markdown",
   "source": [
    "## 2.5.anchor box的计算方法\n",
    "SSD300的输入图片是$300 \\times 300$的,无论特征图的尺寸多大，每个单元格的中心点的计算公式都是一样的，假设单元格的宽度为$\\omega_d$，单元格的横纵坐标为$(i,j)$.$(i,j)$一定是从零开始，并且等于特征图尺寸-1.那么当前单元格的中心点坐标就是$[\\frac{j+0.5}{\\omega_d}, \\frac{i+0.5}{\\omega_d}]$\n",
    "\n",
    "### 2.5.1.38*38的特征图\n",
    "单元格宽度为$\\omega_d=\\frac{300}{8}=37.5$。每个单元格上有4个default box，分为小正方形B1，大正方形B2，长方形B3，以及长方形B4，四个default box的中心点坐标可以通过上面的公式计算出来，那么四个default box的宽度和长度如下\n",
    "$$\\begin{eqnarray}\n",
    "B1&=&(\\omega_{min}^w,\\omega_{min}^h)=(\\frac{30}{300}, \\frac{30}{300}) \\\\\n",
    "B2&=&(\\omega_{max}^w,\\omega_{max}^h)=(\\sqrt{\\omega_{min}^w \\times \\frac{60}{300}}, \\sqrt{\\omega_{min}^h \\times \\frac{60}{300}}) \\\\\n",
    "B3&=&(w_3,h_3)=(\\omega_{min}^w \\times \\sqrt{2}, \\frac{\\omega_{min}^h}{\\sqrt{2}}) \\\\\n",
    "B4&=&(w_4,h_4)=(h_3,w_3)\n",
    "\\end{eqnarray}$$\n",
    "\n",
    "### 2.5.2.19*19的特征图\n",
    "单元格宽度为$\\omega_d=\\frac{300}{16}=18.75$。每个单元格上有6个default box，分为小正方形B1，大正方形B2，长方形B3、B4、B5，B6，6个default box的宽度和长度如下\n",
    "$$\\begin{eqnarray}\n",
    "B1&=&(\\omega_{min}^w,\\omega_{min}^h)=(\\frac{60}{300}, \\frac{60}{300}) \\\\\n",
    "B2&=&(\\omega_{max}^w,\\omega_{max}^h)=(\\sqrt{\\omega_{min}^w \\times \\frac{111}{300}}, \\sqrt{\\omega_{min}^h \\times \\frac{111}{300}}) \\\\\n",
    "B3&=&(w_3,h_3)=(\\omega_{min}^w \\times \\sqrt{2}, \\frac{\\omega_{min}^h}{\\sqrt{2}}) \\\\\n",
    "B4&=&(w_4,h_4)=(h_3,w_3) \\\\\n",
    "B5&=&(w_5,h_5)=(\\omega_{min}^w \\times \\sqrt{3}, \\frac{\\omega_{min}^h}{\\sqrt{3}}) \\\\\n",
    "B4&=&(w_6,h_6)=(h_5,w_5)\n",
    "\\end{eqnarray}$$\n",
    "\n",
    "### 2.5.3.10*10的特征图\n",
    "单元格宽度为$\\omega_d=\\frac{300}{32}=9.375$。每个单元格上有6个default box，分为小正方形B1，大正方形B2，长方形B3、B4、B5，B6，6个default box的宽度和长度如下\n",
    "$$\\begin{eqnarray}\n",
    "B1&=&(\\omega_{min}^w,\\omega_{min}^h)=(\\frac{111}{300}, \\frac{111}{300}) \\\\\n",
    "B2&=&(\\omega_{max}^w,\\omega_{max}^h)=(\\sqrt{\\omega_{min}^w \\times \\frac{162}{300}}, \\sqrt{\\omega_{min}^h \\times \\frac{162}{300}}) \\\\\n",
    "B3&=&(w_3,h_3)=(\\omega_{min}^w \\times \\sqrt{2}, \\frac{\\omega_{min}^h}{\\sqrt{2}}) \\\\\n",
    "B4&=&(w_4,h_4)=(h_3,w_3) \\\\\n",
    "B5&=&(w_5,h_5)=(\\omega_{min}^w \\times \\sqrt{3}, \\frac{\\omega_{min}^h}{\\sqrt{3}}) \\\\\n",
    "B4&=&(w_6,h_6)=(h_5,w_5)\n",
    "\\end{eqnarray}$$\n",
    "\n",
    "### 2.5.4.5*5的特征图\n",
    "单元格宽度为$\\omega_d=\\frac{300}{64}=4.6875$。每个单元格上有6个default box，分为小正方形B1，大正方形B2，长方形B3、B4、B5，B6，6个default box的宽度和长度如下\n",
    "$$\\begin{eqnarray}\n",
    "B1&=&(\\omega_{min}^w,\\omega_{min}^h)=(\\frac{162}{300}, \\frac{162}{300}) \\\\\n",
    "B2&=&(\\omega_{max}^w,\\omega_{max}^h)=(\\sqrt{\\omega_{min}^w \\times \\frac{213}{300}}, \\sqrt{\\omega_{min}^h \\times \\frac{213}{300}}) \\\\\n",
    "B3&=&(w_3,h_3)=(\\omega_{min}^w \\times \\sqrt{2}, \\frac{\\omega_{min}^h}{\\sqrt{2}}) \\\\\n",
    "B4&=&(w_4,h_4)=(h_3,w_3) \\\\\n",
    "B5&=&(w_5,h_5)=(\\omega_{min}^w \\times \\sqrt{3}, \\frac{\\omega_{min}^h}{\\sqrt{3}}) \\\\\n",
    "B4&=&(w_6,h_6)=(h_5,w_5)\n",
    "\\end{eqnarray}$$\n",
    "\n",
    "### 2.5.5.3*3的特征图\n",
    "单元格宽度为$\\omega_d=\\frac{300}{100}=3$。每个单元格上有4个default box，分为小正方形B1，大正方形B2，长方形B3、B4,4个default box的宽度和长度如下\n",
    "$$\\begin{eqnarray}\n",
    "B1&=&(\\omega_{min}^w,\\omega_{min}^h)=(\\frac{213}{300}, \\frac{213}{300}) \\\\\n",
    "B2&=&(\\omega_{max}^w,\\omega_{max}^h)=(\\sqrt{\\omega_{min}^w \\times \\frac{264}{300}}, \\sqrt{\\omega_{min}^h \\times \\frac{264}{300}}) \\\\\n",
    "B3&=&(w_3,h_3)=(\\omega_{min}^w \\times \\sqrt{2}, \\frac{\\omega_{min}^h}{\\sqrt{2}}) \\\\\n",
    "B4&=&(w_4,h_4)=(h_3,w_3)\n",
    "\\end{eqnarray}$$\n",
    "\n",
    "### 2.5.6.1*1的特征图\n",
    "单元格宽度为$\\omega_d=\\frac{300}{300}=1$。每个单元格上有4个default box，分为小正方形B1，大正方形B2，长方形B3、B4,4个default box的宽度和长度如下\n",
    "$$\\begin{eqnarray}\n",
    "B1&=&(\\omega_{min}^w,\\omega_{min}^h)=(\\frac{264}{300}, \\frac{264}{300}) \\\\\n",
    "B2&=&(\\omega_{max}^w,\\omega_{max}^h)=(\\sqrt{\\omega_{min}^w \\times \\frac{315}{300}}, \\sqrt{\\omega_{min}^h \\times \\frac{315}{300}}) \\\\\n",
    "B3&=&(w_3,h_3)=(\\omega_{min}^w \\times \\sqrt{2}, \\frac{\\omega_{min}^h}{\\sqrt{2}}) \\\\\n",
    "B4&=&(w_4,h_4)=(h_3,w_3)\n",
    "\\end{eqnarray}$$"
   ],
   "metadata": {
    "collapsed": false
   }
  },
  {
   "cell_type": "markdown",
   "source": [
    "# 3.网络结构\n",
    "SSD的基础架构是VGG16(也有人将它的基础架构变为Resnet50,Darknet19或者Darknet53).SSD根据输入图片的大小分为SSD300和SSD512两种结构，我们主要介绍SSD300结构。在神经网络进行计算的过程中，我们会把过程中生成的6种特征图的结果保存下来。然后利用网络中的vgg以及extras对其进行前向传播，可以得到用于loc预测的结果，和用于conf预测的结果"
   ],
   "metadata": {
    "collapsed": false
   }
  },
  {
   "cell_type": "markdown",
   "source": [
    "# 4.数据集\n",
    "数据集的操作很简单，主要就是进行了一些图像增强的功能，然后返回归一化的image以及targets"
   ],
   "metadata": {
    "collapsed": false
   }
  },
  {
   "cell_type": "markdown",
   "source": [
    "# 5.损失函数\n",
    "损失函数定义为位置误差(locatization loss， loc)与置信度误差(confidence loss, conf)的加权和\n",
    "$$L(x,c,\\ell,g)=\\frac{1}{N}[L_{conf}(x,c)+\\alpha L_{loc}(x,\\ell,g)]$$\n",
    "其中N是先验框的正样本数量。这里$x_{ij}^p \\in \\{1,0\\}$为一个指示参数，当$x_{ij}^p=1$时表示第i个先验框与第j个ground truth匹配，并且ground truth的类别为p。c为类别置信度预测值，$\\ell$为先验框所对应的边界框的位置预测值，而g是ground truth的位置参数。<br/>\n",
    "预测值包括三个部分:loc_data(BS,8732,4),conf_data(BS,8732,21),priors(8732,4)，真实值包括label和ground truth box"
   ],
   "metadata": {
    "collapsed": false
   }
  },
  {
   "cell_type": "code",
   "execution_count": null,
   "outputs": [],
   "source": [
    "import torch\n",
    "loc_t = torch.Tensor(num, num_priors, 4)\n",
    "conf_t = torch.LongTensor(num, num_priors)\n",
    "for idx in range(num):\n",
    "    truths = targets[idx][:, :-1].data\n",
    "    labels = targets[idx][:, -1].data\n",
    "    defaults = priors.data\n",
    "    lpsu.match(self.threshold, truths, defaults, self.variance, labels, loc_t, conf_t, idx)"
   ],
   "metadata": {
    "collapsed": false,
    "pycharm": {
     "name": "#%%\n"
    }
   }
  },
  {
   "cell_type": "markdown",
   "source": [
    "1. loc_t的shape就是$BS,8732,4$，conf_t的shape就是$BS,8732,21$。然后开始操作每一张图片\n",
    "2. truths就是当前图片上的所有ground truth box，labels就是当前图片上的所有labels\n",
    "3. 开始找到与每个ground truth box相对应的先验框的index等信息。threshold就是阈值~0.5，self.variance=[0.1,0.2],对应于每个锚框的方差。真正核心的就是这一步"
   ],
   "metadata": {
    "collapsed": false
   }
  },
  {
   "cell_type": "markdown",
   "source": [
    "## 5.1.loc_t与conf_t的填充"
   ],
   "metadata": {
    "collapsed": false
   }
  },
  {
   "cell_type": "code",
   "execution_count": null,
   "outputs": [],
   "source": [
    "overlaps = jaccard(truths,point_form(priors))\n",
    "best_prior_overlap, best_prior_idx = overlaps.max(1, keepdim=True)\n",
    "best_truth_overlap, best_truth_idx = overlaps.max(0, keepdim=True)\n",
    "best_truth_idx.squeeze_(0)\n",
    "best_truth_overlap.squeeze_(0)\n",
    "best_prior_idx.squeeze_(1)\n",
    "best_prior_overlap.squeeze_(1)"
   ],
   "metadata": {
    "collapsed": false,
    "pycharm": {
     "name": "#%%\n"
    }
   }
  },
  {
   "cell_type": "markdown",
   "source": [
    "以下我们假设这张图片上有5个ground truth box\n",
    "1. 首先将priors原先的坐标$x,y,w,h$转化为$x,y,xmax,ymax$的形式\n",
    "2. 计算IOU重叠率。具体的jaccard就是首先找到每个truth和每个prior box的公共面积，然后计算出每个truth和每个prior box的总体面积，那IOU重叠率就是$IOU=\\frac{A_{t \\cap p}}{A_{t \\cup p} - A_{t \\cap p}}$，其中$A_{t \\cap p}$就是真实框t和先验框p的重叠面积,$A_{t \\cup p}$就是真实框t和先验框p的总体面积，计算出来的结果overlaps的shape是$num,8732$，这里的$num$表示这张图片上的ground truth box的数量，如果有5个ground truth box，那么num就是5，每一个元素里面又是一个8732维的向量，每个元素代表的含义就是这个位置的prior box与当前ground truth box的IOU重叠率\n",
    "3. best_prior_overlap和best_prior_idx的含义。首先best_prior_overlap的shape是$5,1$，每一个元素的含义就是跟当前的ground truth box的IOU重叠率最高的prior的IOU重叠率。best_prior_idx的shape也是$5,1$，每一个元素的含义就是跟当前的ground truth box的IOU重叠率最高的prior的index位置。这个其实就是相当于找到overlaps的每一行的最大值及其最大值所在的位置。\n",
    "4. 那么接下来best_truth_overlap和best_truth_idx呢，我们可以看出来这是找到overlaps的每一列的最大值以及最大值所在的位置。具体什么含义呢。具体的含义就是找到哪一个ground truth box跟当前的这个prior有着最高的IOU重叠率，以及IOU重叠率到底是多少。所以它俩的shape都是$1,8732$\n",
    "5. 接下来对这四个变量进行压缩，将他们的1维那个维度去掉，于是就变成了best_truth_idx.shape=8732,best_truth_overlap.shape=8732,best_prior_idx.shape=5,best_prior_overlap.shape=5"
   ],
   "metadata": {
    "collapsed": false
   }
  },
  {
   "cell_type": "code",
   "execution_count": null,
   "outputs": [],
   "source": [
    "best_truth_overlap.index_fill_(0, best_prior_idx, 2)\n",
    "for j in range(best_prior_idx.size(0)):\n",
    "    best_truth_idx[best_prior_idx[j]] = j\n",
    "matches = truths[best_truth_idx]\n",
    "conf = labels[best_truth_idx] + 1\n",
    "conf[best_truth_overlap < threshold] = 0\n",
    "loc = encode(matches, priors, variances)\n",
    "loc_t[idx] = loc\n",
    "conf_t[idx] = conf "
   ],
   "metadata": {
    "collapsed": false,
    "pycharm": {
     "name": "#%%\n"
    }
   }
  },
  {
   "cell_type": "markdown",
   "source": [
    "6. 接下来的这一句是将best_truth_overlap上的某些位置的元素设置为2.我们知道best_truth_overlap里面的元素都是在0~1之间的。某些位置具体是哪些位置呢，就是best_prior_idx的元素所指引的那些个位置。这是什么意思呢。首先我们知道best_truth_overlap里面的每个元素的含义就是当前prior跟每一个ground truth box的IOU覆盖率的最大值。best_prior_idx的含义是每个ground truth box跟每一个prior的IOU覆盖率最大值的那个prior的index位置。做一个index_fill_操作之后的结果，就是将那些个需要负责预测的prior的位置上的值赋值为2了，比别的不需要负责预测的prior的位置上的值大了。\n",
    "7. 然后将truths真值扩充到8732维，每一维上的5个坐标，就是当前位置的prior所负责预测的ground truth box的坐标。\n",
    "8. 然后将conf上小于阈值的位置设置为0~背景。大于阈值的就是真正需要负责预测的label的值。\n",
    "9. 然后将方差应用到priors上进行编码。\n",
    "\n",
    "$$\\begin{eqnarray}\n",
    "\\hat{g_x}&=\\frac{\\frac{T_x+T_w}{2}-P_x}{V[0] \\times P_w} \\\\\n",
    "\\hat{g_y}&=\\frac{\\frac{T_y+T_h}{2}-P_y}{V[0] \\times P_h} \\\\\n",
    "\\hat{g_w}&=\\frac{log(\\frac{T_w-T_x}{2}-P_w)}{V[1]} \\\\\n",
    "\\hat{g_h}&=\\frac{log(\\frac{T_h-T_y}{2}-P_h)}{V[1]}\n",
    "\\end{eqnarray}$$"
   ],
   "metadata": {
    "collapsed": false
   }
  },
  {
   "cell_type": "code",
   "execution_count": null,
   "outputs": [],
   "source": [
    "pos = conf_t > 0\n",
    "pos_idx = pos.unsqueeze(pos.dim()).expand_as(loc_data)"
   ],
   "metadata": {
    "collapsed": false,
    "pycharm": {
     "name": "#%%\n"
    }
   }
  },
  {
   "cell_type": "markdown",
   "source": [
    "找到每一幅图片的每个ground truth box对应的prior的位置以及loc之后，我们就要计算损失了。我们可以很方便的找到需要负责预测的prior的坐标~pos"
   ],
   "metadata": {
    "collapsed": false
   }
  },
  {
   "cell_type": "markdown",
   "source": [
    "## 5.1.位置误差$L_{loc}$\n",
    "采用Smooth L1 Loss，定义如下：\n",
    "$$L_{loc}(x,\\ell,g)=\\sum_{i \\in Pos}^N \\sum_{m \\in \\{cx,cy,w,h\\}}x_{ij}^kS_{L1}(\\ell_i^m-\\hat{g}_j^m)$$\n",
    "$\\ell$为预测框，$g$为ground truth box。$(cx,cy)$为补偿后的默认框d的中心\n",
    "$L_{conf}$为预测框$\\ell$和ground truth box $g$的Smooth L1 Loss，$\\alpha$的值通过交叉验证设置为1"
   ],
   "metadata": {
    "collapsed": false
   }
  },
  {
   "cell_type": "code",
   "execution_count": null,
   "outputs": [],
   "source": [
    "loc_p = loc_data[pos_idx].view(-1, 4)\n",
    "# loc_t [461,4]\n",
    "loc_t = loc_t[pos_idx].view(-1, 4)\n",
    "# 计算算定位损失   loc_p 通过网络输出的预测框   loc_t 通过与真值框匹配的锚\n",
    "loss_l = torch.nn.functional.smooth_l1_loss(loc_p, loc_t, size_average=False)"
   ],
   "metadata": {
    "collapsed": false,
    "pycharm": {
     "name": "#%%\n"
    }
   }
  },
  {
   "cell_type": "markdown",
   "source": [
    "## 5.2.1.encode的解释"
   ],
   "metadata": {
    "collapsed": false,
    "pycharm": {
     "name": "#%% md\n"
    }
   }
  },
  {
   "cell_type": "code",
   "execution_count": null,
   "outputs": [],
   "source": [
    "def encode(matched, priors, variances):\n",
    "    '''\n",
    "    将 来自锚框层的方差编码到与这些锚框相匹配到的真值框中\n",
    "    :param matched:\n",
    "    :param priors:\n",
    "    :param variances:\n",
    "    :return:\n",
    "    '''\n",
    "    # dist b/t match center and prior's center\n",
    "    g_cxcy = (matched[:, :2] + matched[:, 2:])/2 - priors[:, :2]\n",
    "    # encode variance\n",
    "    g_cxcy /= (variances[0] * priors[:, 2:])\n",
    "    # match wh / prior wh\n",
    "    g_wh = (matched[:, 2:] - matched[:, :2]) / priors[:, 2:]\n",
    "    g_wh = torch.log(g_wh) / variances[1]\n",
    "    # return target for smooth_l1_loss\n",
    "    return torch.cat([g_cxcy, g_wh], 1)  # [num_priors,4]"
   ],
   "metadata": {
    "collapsed": false,
    "pycharm": {
     "name": "#%%\n"
    }
   }
  },
  {
   "cell_type": "markdown",
   "source": [
    "真实预测值其实只是边界框相对于先验框的转换值。先验框位置用$d=(d^{cx},d^{cy},d^w,d^h)$表示"
   ],
   "metadata": {
    "collapsed": false,
    "pycharm": {
     "name": "#%% md\n"
    }
   }
  },
  {
   "cell_type": "markdown",
   "source": [
    "其对应边界框用$b=(b^{cx},b^{cy},b^w,b^h)$表示，那么边界框的预测值$l$其实是$b$相对于$d$的转换值"
   ],
   "metadata": {
    "collapsed": false,
    "pycharm": {
     "name": "#%% md\n"
    }
   }
  },
  {
   "cell_type": "markdown",
   "source": [
    "$$\n",
    "\\begin{split}\n",
    "l^{cx}&=\\frac{b^{cx}-d^{cx}}{d^w} \\\\\n",
    "l^{cy}&=\\frac{b^{cy}-d^{cy}}{d^h} \\\\\n",
    "l^w&=log(\\frac{b^w}{d^w}) \\\\\n",
    "l^h&=log(\\frac{b^h}{d^h})\n",
    "\\end{split}\n",
    "$$\n",
    "预测时，你需要反向这个过程，即进行解码(decode)，从预测值$l$中得到边界框的真实位置$b$\n",
    "$$\n",
    "\\begin{split}\n",
    "b^{cx}&=d^wl^{cx} + d^{cx} \\\\\n",
    "b^{cy}&=d^yl^{cy} + d^{cy} \\\\\n",
    "b^w&=d^we^{l^w} \\\\\n",
    "b^h&=d^he^{l^h}\n",
    "\\end{split}\n",
    "$$"
   ],
   "metadata": {
    "collapsed": false,
    "pycharm": {
     "name": "#%% md\n"
    }
   }
  },
  {
   "cell_type": "markdown",
   "source": [
    "具体实现中还有trick，那就是设置variance超参数来调整检测值，通过bool参数variance_encoded_in_target来控制两种模式"
   ],
   "metadata": {
    "collapsed": false,
    "pycharm": {
     "name": "#%% md\n"
    }
   }
  },
  {
   "cell_type": "markdown",
   "source": [
    "当其为True时，表示variance被包含在预测值中，就是上面那种情况。但是如果是False，就需要手动设置超参数variance，用来对$l$的4个值进行放缩，此时边界框需要这样解码\n",
    "$$\n",
    "\\begin{split}\n",
    "b^{cx}&=d^w(variance[0] * l^{cx}) + d^{cx} \\\\\n",
    "b^{cy}&=d^y(variance[1] * l^{cy}) + d^{cy} \\\\\n",
    "b^w&=d^we^{variance[2] * l^w} \\\\\n",
    "b^h&=d^he^{variance[3] * l^h}\n",
    "\\end{split}\n",
    "$$"
   ],
   "metadata": {
    "collapsed": false,
    "pycharm": {
     "name": "#%% md\n"
    }
   }
  },
  {
   "cell_type": "markdown",
   "source": [
    "找到预测值中对应的prior的预测坐标，同样找到真实值中相应位置的坐标，两者做smooth L1损失。"
   ],
   "metadata": {
    "collapsed": false
   }
  },
  {
   "cell_type": "markdown",
   "source": [
    "## 5.2.置信度误差$L_{conf}$\n",
    "采用Softmax Loss\n",
    "$$\n",
    "L_{conf}(x,c)=-\\sum_{i \\in Pos}^Nx_{ij}^plog(\\hat{c}_j^p)-\\sum_{i \\in N_{eg}}log(\\hat{c}_i^0)\n",
    "$$\n",
    "其中\n",
    "$$\\hat{c}_j^p=\\frac{e^{c_i^p}}{\\sum_pe^{c_i^p}}$$\n",
    "这里的置信度误差，就是分类损失，由于正样本很少，负样本太多，对于负样本采用了硬性负开采来进行过滤(按照置信度误差进行排序，取出当前批次正样本的3倍的负样本)。"
   ],
   "metadata": {
    "collapsed": false
   }
  },
  {
   "cell_type": "markdown",
   "source": [
    "# 6.网络结构"
   ],
   "metadata": {
    "collapsed": false
   }
  },
  {
   "cell_type": "code",
   "execution_count": 1,
   "outputs": [
    {
     "data": {
      "text/plain": "<graphviz.dot.Digraph at 0x7f91302e1898>",
      "image/svg+xml": "<?xml version=\"1.0\" encoding=\"UTF-8\" standalone=\"no\"?>\n<!DOCTYPE svg PUBLIC \"-//W3C//DTD SVG 1.1//EN\"\n \"http://www.w3.org/Graphics/SVG/1.1/DTD/svg11.dtd\">\n<!-- Generated by graphviz version 2.40.1 (20161225.0304)\n -->\n<!-- Title: SSD Pages: 1 -->\n<svg width=\"1703pt\" height=\"2415pt\"\n viewBox=\"0.00 0.00 1702.75 2414.53\" xmlns=\"http://www.w3.org/2000/svg\" xmlns:xlink=\"http://www.w3.org/1999/xlink\">\n<g id=\"graph0\" class=\"graph\" transform=\"scale(1 1) rotate(0) translate(21.6 2392.9327)\">\n<title>SSD</title>\n<polygon fill=\"#ffffff\" stroke=\"transparent\" points=\"-21.6,21.6 -21.6,-2392.9327 1681.1481,-2392.9327 1681.1481,21.6 -21.6,21.6\"/>\n<g id=\"clust2\" class=\"cluster\">\n<title>cluster1</title>\n<polygon fill=\"#f9fafe\" stroke=\"#e3e5ef\" points=\"8,-1129 8,-2235 258,-2235 258,-1129 8,-1129\"/>\n<text text-anchor=\"middle\" x=\"133\" y=\"-2211.8\" font-family=\"Fira Code Retina\" font-size=\"24.00\" fill=\"#aa4936\">Main</text>\n</g>\n<g id=\"clust4\" class=\"cluster\">\n<title>cluster2</title>\n<polygon fill=\"#f7fbf7\" stroke=\"#e4ece0\" points=\"25.5,-8 25.5,-1066 240.5,-1066 240.5,-8 25.5,-8\"/>\n<text text-anchor=\"middle\" x=\"133\" y=\"-1042.8\" font-family=\"Fira Code Retina\" font-size=\"24.00\" fill=\"#aa4936\">Extension</text>\n</g>\n<g id=\"clust6\" class=\"cluster\">\n<title>cluster3</title>\n<polygon fill=\"#f9fafe\" stroke=\"#e3e5ef\" points=\"644.3447,-555 644.3447,-1947 745.2678,-1947 745.2678,-555 644.3447,-555\"/>\n</g>\n<g id=\"clust8\" class=\"cluster\">\n<title>cluster4</title>\n<polygon fill=\"#f7fbf7\" stroke=\"#e4ece0\" points=\"892.716,-1820 892.716,-2140 1064.716,-2140 1064.716,-1820 892.716,-1820\"/>\n</g>\n<g id=\"clust10\" class=\"cluster\">\n<title>cluster5</title>\n<polygon fill=\"#f7fbf7\" stroke=\"#e4ece0\" points=\"892.716,-1458 892.716,-1778 1064.716,-1778 1064.716,-1458 892.716,-1458\"/>\n</g>\n<g id=\"clust12\" class=\"cluster\">\n<title>cluster6</title>\n<polygon fill=\"#f7fbf7\" stroke=\"#e4ece0\" points=\"892.716,-1096 892.716,-1416 1064.716,-1416 1064.716,-1096 892.716,-1096\"/>\n</g>\n<g id=\"clust14\" class=\"cluster\">\n<title>cluster7</title>\n<polygon fill=\"#f7fbf7\" stroke=\"#e4ece0\" points=\"892.716,-734 892.716,-1054 1064.716,-1054 1064.716,-734 892.716,-734\"/>\n</g>\n<g id=\"clust16\" class=\"cluster\">\n<title>cluster8</title>\n<polygon fill=\"#f7fbf7\" stroke=\"#e4ece0\" points=\"896.716,-372 896.716,-692 1060.716,-692 1060.716,-372 896.716,-372\"/>\n</g>\n<g id=\"clust18\" class=\"cluster\">\n<title>cluster9</title>\n<polygon fill=\"#f7fbf7\" stroke=\"#e4ece0\" points=\"896.716,-10 896.716,-330 1060.716,-330 1060.716,-10 896.716,-10\"/>\n</g>\n<!-- block1 -->\n<g id=\"node1\" class=\"node\">\n<title>block1</title>\n<polygon fill=\"#e4e7eb\" stroke=\"transparent\" points=\"37,-1656.5 37,-2185.5 229,-2185.5 229,-1656.5 37,-1656.5\"/>\n<polygon fill=\"none\" stroke=\"#acc7d2\" points=\"37,-2162 37,-2185 120,-2185 120,-2162 37,-2162\"/>\n<text text-anchor=\"start\" x=\"61.2692\" y=\"-2170.8\" font-family=\"Fira Code Retina\" font-size=\"14.00\" fill=\"#000000\">Conv</text>\n<polygon fill=\"none\" stroke=\"#acc7d2\" points=\"120,-2162 120,-2185 229,-2185 229,-2162 120,-2162\"/>\n<text text-anchor=\"start\" x=\"131.4231\" y=\"-2170.8\" font-family=\"Fira Code Retina\" font-size=\"14.00\" fill=\"#000000\">64 k3*3 p1</text>\n<polygon fill=\"none\" stroke=\"#acc7d2\" points=\"37,-2139 37,-2162 120,-2162 120,-2139 37,-2139\"/>\n<text text-anchor=\"start\" x=\"44.0385\" y=\"-2147.8\" font-family=\"Fira Code Retina\" font-size=\"14.00\" fill=\"#000000\">LeakReLU</text>\n<polygon fill=\"none\" stroke=\"#acc7d2\" points=\"120,-2139 120,-2162 229,-2162 229,-2139 120,-2139\"/>\n<text text-anchor=\"start\" x=\"161.5769\" y=\"-2147.8\" font-family=\"Fira Code Retina\" font-size=\"14.00\" fill=\"#000000\">0.1</text>\n<polygon fill=\"none\" stroke=\"#acc7d2\" points=\"37,-2116 37,-2139 120,-2139 120,-2116 37,-2116\"/>\n<text text-anchor=\"start\" x=\"61.2692\" y=\"-2124.8\" font-family=\"Fira Code Retina\" font-size=\"14.00\" fill=\"#000000\">Conv</text>\n<polygon fill=\"none\" stroke=\"#acc7d2\" points=\"120,-2116 120,-2139 229,-2139 229,-2116 120,-2116\"/>\n<text text-anchor=\"start\" x=\"131.4231\" y=\"-2124.8\" font-family=\"Fira Code Retina\" font-size=\"14.00\" fill=\"#000000\">64 k3*3 p1</text>\n<polygon fill=\"none\" stroke=\"#acc7d2\" points=\"37,-2093 37,-2116 120,-2116 120,-2093 37,-2093\"/>\n<text text-anchor=\"start\" x=\"44.0385\" y=\"-2101.8\" font-family=\"Fira Code Retina\" font-size=\"14.00\" fill=\"#000000\">LeakReLU</text>\n<polygon fill=\"none\" stroke=\"#acc7d2\" points=\"120,-2093 120,-2116 229,-2116 229,-2093 120,-2093\"/>\n<text text-anchor=\"start\" x=\"161.5769\" y=\"-2101.8\" font-family=\"Fira Code Retina\" font-size=\"14.00\" fill=\"#000000\">0.1</text>\n<polygon fill=\"none\" stroke=\"#acc7d2\" points=\"37,-2070 37,-2093 120,-2093 120,-2070 37,-2070\"/>\n<text text-anchor=\"start\" x=\"48.3462\" y=\"-2078.8\" font-family=\"Fira Code Retina\" font-size=\"14.00\" fill=\"#000000\">MaxPool</text>\n<polygon fill=\"none\" stroke=\"#acc7d2\" points=\"120,-2070 120,-2093 229,-2093 229,-2070 120,-2070\"/>\n<text text-anchor=\"start\" x=\"135.7308\" y=\"-2078.8\" font-family=\"Fira Code Retina\" font-size=\"14.00\" fill=\"#000000\">k2*2 s2*2</text>\n<polygon fill=\"none\" stroke=\"#acc7d2\" points=\"37,-2047 37,-2070 120,-2070 120,-2047 37,-2047\"/>\n<text text-anchor=\"start\" x=\"61.2692\" y=\"-2055.8\" font-family=\"Fira Code Retina\" font-size=\"14.00\" fill=\"#000000\">Conv</text>\n<polygon fill=\"none\" stroke=\"#acc7d2\" points=\"120,-2047 120,-2070 229,-2070 229,-2047 120,-2047\"/>\n<text text-anchor=\"start\" x=\"127.1154\" y=\"-2055.8\" font-family=\"Fira Code Retina\" font-size=\"14.00\" fill=\"#000000\">128 k3*3 p1</text>\n<polygon fill=\"none\" stroke=\"#acc7d2\" points=\"37,-2024 37,-2047 120,-2047 120,-2024 37,-2024\"/>\n<text text-anchor=\"start\" x=\"39.7308\" y=\"-2032.8\" font-family=\"Fira Code Retina\" font-size=\"14.00\" fill=\"#000000\">LeakyReLU</text>\n<polygon fill=\"none\" stroke=\"#acc7d2\" points=\"120,-2024 120,-2047 229,-2047 229,-2024 120,-2024\"/>\n<text text-anchor=\"start\" x=\"161.5769\" y=\"-2032.8\" font-family=\"Fira Code Retina\" font-size=\"14.00\" fill=\"#000000\">0.1</text>\n<polygon fill=\"none\" stroke=\"#acc7d2\" points=\"37,-2001 37,-2024 120,-2024 120,-2001 37,-2001\"/>\n<text text-anchor=\"start\" x=\"61.2692\" y=\"-2009.8\" font-family=\"Fira Code Retina\" font-size=\"14.00\" fill=\"#000000\">Conv</text>\n<polygon fill=\"none\" stroke=\"#acc7d2\" points=\"120,-2001 120,-2024 229,-2024 229,-2001 120,-2001\"/>\n<text text-anchor=\"start\" x=\"127.1154\" y=\"-2009.8\" font-family=\"Fira Code Retina\" font-size=\"14.00\" fill=\"#000000\">128 k3*3 p1</text>\n<polygon fill=\"none\" stroke=\"#acc7d2\" points=\"37,-1978 37,-2001 120,-2001 120,-1978 37,-1978\"/>\n<text text-anchor=\"start\" x=\"39.7308\" y=\"-1986.8\" font-family=\"Fira Code Retina\" font-size=\"14.00\" fill=\"#000000\">LeakyReLU</text>\n<polygon fill=\"none\" stroke=\"#acc7d2\" points=\"120,-1978 120,-2001 229,-2001 229,-1978 120,-1978\"/>\n<text text-anchor=\"start\" x=\"161.5769\" y=\"-1986.8\" font-family=\"Fira Code Retina\" font-size=\"14.00\" fill=\"#000000\">0.1</text>\n<polygon fill=\"none\" stroke=\"#acc7d2\" points=\"37,-1955 37,-1978 120,-1978 120,-1955 37,-1955\"/>\n<text text-anchor=\"start\" x=\"48.3462\" y=\"-1963.8\" font-family=\"Fira Code Retina\" font-size=\"14.00\" fill=\"#000000\">MaxPool</text>\n<polygon fill=\"none\" stroke=\"#acc7d2\" points=\"120,-1955 120,-1978 229,-1978 229,-1955 120,-1955\"/>\n<text text-anchor=\"start\" x=\"135.7308\" y=\"-1963.8\" font-family=\"Fira Code Retina\" font-size=\"14.00\" fill=\"#000000\">k2*2 s2*2</text>\n<polygon fill=\"none\" stroke=\"#acc7d2\" points=\"37,-1932 37,-1955 120,-1955 120,-1932 37,-1932\"/>\n<text text-anchor=\"start\" x=\"61.2692\" y=\"-1940.8\" font-family=\"Fira Code Retina\" font-size=\"14.00\" fill=\"#000000\">Conv</text>\n<polygon fill=\"none\" stroke=\"#acc7d2\" points=\"120,-1932 120,-1955 229,-1955 229,-1932 120,-1932\"/>\n<text text-anchor=\"start\" x=\"127.1154\" y=\"-1940.8\" font-family=\"Fira Code Retina\" font-size=\"14.00\" fill=\"#000000\">256 k3*3 p1</text>\n<polygon fill=\"none\" stroke=\"#acc7d2\" points=\"37,-1909 37,-1932 120,-1932 120,-1909 37,-1909\"/>\n<text text-anchor=\"start\" x=\"39.7308\" y=\"-1917.8\" font-family=\"Fira Code Retina\" font-size=\"14.00\" fill=\"#000000\">LeakyReLU</text>\n<polygon fill=\"none\" stroke=\"#acc7d2\" points=\"120,-1909 120,-1932 229,-1932 229,-1909 120,-1909\"/>\n<text text-anchor=\"start\" x=\"161.5769\" y=\"-1917.8\" font-family=\"Fira Code Retina\" font-size=\"14.00\" fill=\"#000000\">0.1</text>\n<polygon fill=\"none\" stroke=\"#acc7d2\" points=\"37,-1886 37,-1909 120,-1909 120,-1886 37,-1886\"/>\n<text text-anchor=\"start\" x=\"61.2692\" y=\"-1894.8\" font-family=\"Fira Code Retina\" font-size=\"14.00\" fill=\"#000000\">Conv</text>\n<polygon fill=\"none\" stroke=\"#acc7d2\" points=\"120,-1886 120,-1909 229,-1909 229,-1886 120,-1886\"/>\n<text text-anchor=\"start\" x=\"127.1154\" y=\"-1894.8\" font-family=\"Fira Code Retina\" font-size=\"14.00\" fill=\"#000000\">256 k3*3 p1</text>\n<polygon fill=\"none\" stroke=\"#acc7d2\" points=\"37,-1863 37,-1886 120,-1886 120,-1863 37,-1863\"/>\n<text text-anchor=\"start\" x=\"39.7308\" y=\"-1871.8\" font-family=\"Fira Code Retina\" font-size=\"14.00\" fill=\"#000000\">LeakyReLU</text>\n<polygon fill=\"none\" stroke=\"#acc7d2\" points=\"120,-1863 120,-1886 229,-1886 229,-1863 120,-1863\"/>\n<text text-anchor=\"start\" x=\"161.5769\" y=\"-1871.8\" font-family=\"Fira Code Retina\" font-size=\"14.00\" fill=\"#000000\">0.1</text>\n<polygon fill=\"none\" stroke=\"#acc7d2\" points=\"37,-1840 37,-1863 120,-1863 120,-1840 37,-1840\"/>\n<text text-anchor=\"start\" x=\"61.2692\" y=\"-1848.8\" font-family=\"Fira Code Retina\" font-size=\"14.00\" fill=\"#000000\">Conv</text>\n<polygon fill=\"none\" stroke=\"#acc7d2\" points=\"120,-1840 120,-1863 229,-1863 229,-1840 120,-1840\"/>\n<text text-anchor=\"start\" x=\"127.1154\" y=\"-1848.8\" font-family=\"Fira Code Retina\" font-size=\"14.00\" fill=\"#000000\">256 k3*3 p1</text>\n<polygon fill=\"none\" stroke=\"#acc7d2\" points=\"37,-1817 37,-1840 120,-1840 120,-1817 37,-1817\"/>\n<text text-anchor=\"start\" x=\"39.7308\" y=\"-1825.8\" font-family=\"Fira Code Retina\" font-size=\"14.00\" fill=\"#000000\">LeakyReLU</text>\n<polygon fill=\"none\" stroke=\"#acc7d2\" points=\"120,-1817 120,-1840 229,-1840 229,-1817 120,-1817\"/>\n<text text-anchor=\"start\" x=\"161.5769\" y=\"-1825.8\" font-family=\"Fira Code Retina\" font-size=\"14.00\" fill=\"#000000\">0.1</text>\n<polygon fill=\"none\" stroke=\"#acc7d2\" points=\"37,-1794 37,-1817 120,-1817 120,-1794 37,-1794\"/>\n<text text-anchor=\"start\" x=\"48.3462\" y=\"-1802.8\" font-family=\"Fira Code Retina\" font-size=\"14.00\" fill=\"#000000\">MaxPool</text>\n<polygon fill=\"none\" stroke=\"#acc7d2\" points=\"120,-1794 120,-1817 229,-1817 229,-1794 120,-1794\"/>\n<text text-anchor=\"start\" x=\"122.8077\" y=\"-1802.8\" font-family=\"Fira Code Retina\" font-size=\"14.00\" fill=\"#000000\">k2*2 s2*2 cT</text>\n<polygon fill=\"none\" stroke=\"#acc7d2\" points=\"37,-1771 37,-1794 120,-1794 120,-1771 37,-1771\"/>\n<text text-anchor=\"start\" x=\"61.2692\" y=\"-1779.8\" font-family=\"Fira Code Retina\" font-size=\"14.00\" fill=\"#000000\">Conv</text>\n<polygon fill=\"none\" stroke=\"#acc7d2\" points=\"120,-1771 120,-1794 229,-1794 229,-1771 120,-1771\"/>\n<text text-anchor=\"start\" x=\"127.1154\" y=\"-1779.8\" font-family=\"Fira Code Retina\" font-size=\"14.00\" fill=\"#000000\">512 k3*3 p1</text>\n<polygon fill=\"none\" stroke=\"#acc7d2\" points=\"37,-1748 37,-1771 120,-1771 120,-1748 37,-1748\"/>\n<text text-anchor=\"start\" x=\"39.7308\" y=\"-1756.8\" font-family=\"Fira Code Retina\" font-size=\"14.00\" fill=\"#000000\">LeakyReLU</text>\n<polygon fill=\"none\" stroke=\"#acc7d2\" points=\"120,-1748 120,-1771 229,-1771 229,-1748 120,-1748\"/>\n<text text-anchor=\"start\" x=\"161.5769\" y=\"-1756.8\" font-family=\"Fira Code Retina\" font-size=\"14.00\" fill=\"#000000\">0.1</text>\n<polygon fill=\"none\" stroke=\"#acc7d2\" points=\"37,-1725 37,-1748 120,-1748 120,-1725 37,-1725\"/>\n<text text-anchor=\"start\" x=\"61.2692\" y=\"-1733.8\" font-family=\"Fira Code Retina\" font-size=\"14.00\" fill=\"#000000\">Conv</text>\n<polygon fill=\"none\" stroke=\"#acc7d2\" points=\"120,-1725 120,-1748 229,-1748 229,-1725 120,-1725\"/>\n<text text-anchor=\"start\" x=\"127.1154\" y=\"-1733.8\" font-family=\"Fira Code Retina\" font-size=\"14.00\" fill=\"#000000\">512 k3*3 p1</text>\n<polygon fill=\"none\" stroke=\"#acc7d2\" points=\"37,-1702 37,-1725 120,-1725 120,-1702 37,-1702\"/>\n<text text-anchor=\"start\" x=\"39.7308\" y=\"-1710.8\" font-family=\"Fira Code Retina\" font-size=\"14.00\" fill=\"#000000\">LeakyReLU</text>\n<polygon fill=\"none\" stroke=\"#acc7d2\" points=\"120,-1702 120,-1725 229,-1725 229,-1702 120,-1702\"/>\n<text text-anchor=\"start\" x=\"161.5769\" y=\"-1710.8\" font-family=\"Fira Code Retina\" font-size=\"14.00\" fill=\"#000000\">0.1</text>\n<polygon fill=\"none\" stroke=\"#acc7d2\" points=\"37,-1679 37,-1702 120,-1702 120,-1679 37,-1679\"/>\n<text text-anchor=\"start\" x=\"61.2692\" y=\"-1687.8\" font-family=\"Fira Code Retina\" font-size=\"14.00\" fill=\"#000000\">Conv</text>\n<polygon fill=\"none\" stroke=\"#acc7d2\" points=\"120,-1679 120,-1702 229,-1702 229,-1679 120,-1679\"/>\n<text text-anchor=\"start\" x=\"127.1154\" y=\"-1687.8\" font-family=\"Fira Code Retina\" font-size=\"14.00\" fill=\"#000000\">512 k3*3 p1</text>\n<polygon fill=\"none\" stroke=\"#acc7d2\" points=\"37,-1656 37,-1679 120,-1679 120,-1656 37,-1656\"/>\n<text text-anchor=\"start\" x=\"39.7308\" y=\"-1664.8\" font-family=\"Fira Code Retina\" font-size=\"14.00\" fill=\"#000000\">LeakyReLU</text>\n<polygon fill=\"none\" stroke=\"#acc7d2\" points=\"120,-1656 120,-1679 229,-1679 229,-1656 120,-1656\"/>\n<text text-anchor=\"start\" x=\"161.5769\" y=\"-1664.8\" font-family=\"Fira Code Retina\" font-size=\"14.00\" fill=\"#000000\">0.1</text>\n</g>\n<!-- block5 -->\n<g id=\"node2\" class=\"node\">\n<title>block5</title>\n<polygon fill=\"#e6ece5\" stroke=\"transparent\" points=\"24,-1141 24,-1417 242,-1417 242,-1141 24,-1141\"/>\n<polygon fill=\"none\" stroke=\"#a2bba0\" points=\"24,-1394 24,-1417 107,-1417 107,-1394 24,-1394\"/>\n<text text-anchor=\"start\" x=\"35.3462\" y=\"-1402.8\" font-family=\"Fira Code Retina\" font-size=\"14.00\" fill=\"#000000\">MaxPool</text>\n<polygon fill=\"none\" stroke=\"#a2bba0\" points=\"107,-1394 107,-1417 242,-1417 242,-1394 107,-1394\"/>\n<text text-anchor=\"start\" x=\"135.7308\" y=\"-1402.8\" font-family=\"Fira Code Retina\" font-size=\"14.00\" fill=\"#000000\">k2*2 s2*2</text>\n<polygon fill=\"none\" stroke=\"#a2bba0\" points=\"24,-1371 24,-1394 107,-1394 107,-1371 24,-1371\"/>\n<text text-anchor=\"start\" x=\"48.2692\" y=\"-1379.8\" font-family=\"Fira Code Retina\" font-size=\"14.00\" fill=\"#000000\">Conv</text>\n<polygon fill=\"none\" stroke=\"#a2bba0\" points=\"107,-1371 107,-1394 242,-1394 242,-1371 107,-1371\"/>\n<text text-anchor=\"start\" x=\"127.1154\" y=\"-1379.8\" font-family=\"Fira Code Retina\" font-size=\"14.00\" fill=\"#000000\">512 k3*3 p1</text>\n<polygon fill=\"none\" stroke=\"#a2bba0\" points=\"24,-1348 24,-1371 107,-1371 107,-1348 24,-1348\"/>\n<text text-anchor=\"start\" x=\"26.7308\" y=\"-1356.8\" font-family=\"Fira Code Retina\" font-size=\"14.00\" fill=\"#000000\">LeakyReLU</text>\n<polygon fill=\"none\" stroke=\"#a2bba0\" points=\"107,-1348 107,-1371 242,-1371 242,-1348 107,-1348\"/>\n<text text-anchor=\"start\" x=\"161.5769\" y=\"-1356.8\" font-family=\"Fira Code Retina\" font-size=\"14.00\" fill=\"#000000\">0.1</text>\n<polygon fill=\"none\" stroke=\"#a2bba0\" points=\"24,-1325 24,-1348 107,-1348 107,-1325 24,-1325\"/>\n<text text-anchor=\"start\" x=\"48.2692\" y=\"-1333.8\" font-family=\"Fira Code Retina\" font-size=\"14.00\" fill=\"#000000\">Conv</text>\n<polygon fill=\"none\" stroke=\"#a2bba0\" points=\"107,-1325 107,-1348 242,-1348 242,-1325 107,-1325\"/>\n<text text-anchor=\"start\" x=\"127.1154\" y=\"-1333.8\" font-family=\"Fira Code Retina\" font-size=\"14.00\" fill=\"#000000\">512 k3*3 p1</text>\n<polygon fill=\"none\" stroke=\"#a2bba0\" points=\"24,-1302 24,-1325 107,-1325 107,-1302 24,-1302\"/>\n<text text-anchor=\"start\" x=\"26.7308\" y=\"-1310.8\" font-family=\"Fira Code Retina\" font-size=\"14.00\" fill=\"#000000\">LeakyReLU</text>\n<polygon fill=\"none\" stroke=\"#a2bba0\" points=\"107,-1302 107,-1325 242,-1325 242,-1302 107,-1302\"/>\n<text text-anchor=\"start\" x=\"161.5769\" y=\"-1310.8\" font-family=\"Fira Code Retina\" font-size=\"14.00\" fill=\"#000000\">0.1</text>\n<polygon fill=\"none\" stroke=\"#a2bba0\" points=\"24,-1279 24,-1302 107,-1302 107,-1279 24,-1279\"/>\n<text text-anchor=\"start\" x=\"48.2692\" y=\"-1287.8\" font-family=\"Fira Code Retina\" font-size=\"14.00\" fill=\"#000000\">Conv</text>\n<polygon fill=\"none\" stroke=\"#a2bba0\" points=\"107,-1279 107,-1302 242,-1302 242,-1279 107,-1279\"/>\n<text text-anchor=\"start\" x=\"127.1154\" y=\"-1287.8\" font-family=\"Fira Code Retina\" font-size=\"14.00\" fill=\"#000000\">512 k3*3 p1</text>\n<polygon fill=\"none\" stroke=\"#a2bba0\" points=\"24,-1256 24,-1279 107,-1279 107,-1256 24,-1256\"/>\n<text text-anchor=\"start\" x=\"26.7308\" y=\"-1264.8\" font-family=\"Fira Code Retina\" font-size=\"14.00\" fill=\"#000000\">LeakyReLU</text>\n<polygon fill=\"none\" stroke=\"#a2bba0\" points=\"107,-1256 107,-1279 242,-1279 242,-1256 107,-1256\"/>\n<text text-anchor=\"start\" x=\"161.5769\" y=\"-1264.8\" font-family=\"Fira Code Retina\" font-size=\"14.00\" fill=\"#000000\">0.1</text>\n<polygon fill=\"none\" stroke=\"#a2bba0\" points=\"24,-1233 24,-1256 107,-1256 107,-1233 24,-1233\"/>\n<text text-anchor=\"start\" x=\"35.3462\" y=\"-1241.8\" font-family=\"Fira Code Retina\" font-size=\"14.00\" fill=\"#000000\">MaxPool</text>\n<polygon fill=\"none\" stroke=\"#a2bba0\" points=\"107,-1233 107,-1256 242,-1256 242,-1233 107,-1233\"/>\n<text text-anchor=\"start\" x=\"122.8077\" y=\"-1241.8\" font-family=\"Fira Code Retina\" font-size=\"14.00\" fill=\"#000000\">k2*2 s2*2 p1</text>\n<polygon fill=\"none\" stroke=\"#a2bba0\" points=\"24,-1210 24,-1233 107,-1233 107,-1210 24,-1210\"/>\n<text text-anchor=\"start\" x=\"48.2692\" y=\"-1218.8\" font-family=\"Fira Code Retina\" font-size=\"14.00\" fill=\"#000000\">Conv</text>\n<polygon fill=\"none\" stroke=\"#a2bba0\" points=\"107,-1210 107,-1233 242,-1233 242,-1210 107,-1210\"/>\n<text text-anchor=\"start\" x=\"109.8846\" y=\"-1218.8\" font-family=\"Fira Code Retina\" font-size=\"14.00\" fill=\"#000000\">1024 k3*3 p6 d6</text>\n<polygon fill=\"none\" stroke=\"#a2bba0\" points=\"24,-1187 24,-1210 107,-1210 107,-1187 24,-1187\"/>\n<text text-anchor=\"start\" x=\"31.0385\" y=\"-1195.8\" font-family=\"Fira Code Retina\" font-size=\"14.00\" fill=\"#000000\">LeakReLU</text>\n<polygon fill=\"none\" stroke=\"#a2bba0\" points=\"107,-1187 107,-1210 242,-1210 242,-1187 107,-1187\"/>\n<text text-anchor=\"start\" x=\"161.5769\" y=\"-1195.8\" font-family=\"Fira Code Retina\" font-size=\"14.00\" fill=\"#000000\">0.1</text>\n<polygon fill=\"none\" stroke=\"#a2bba0\" points=\"24,-1164 24,-1187 107,-1187 107,-1164 24,-1164\"/>\n<text text-anchor=\"start\" x=\"48.2692\" y=\"-1172.8\" font-family=\"Fira Code Retina\" font-size=\"14.00\" fill=\"#000000\">Conv</text>\n<polygon fill=\"none\" stroke=\"#a2bba0\" points=\"107,-1164 107,-1187 242,-1187 242,-1164 107,-1164\"/>\n<text text-anchor=\"start\" x=\"157.2692\" y=\"-1172.8\" font-family=\"Fira Code Retina\" font-size=\"14.00\" fill=\"#000000\">1024</text>\n<polygon fill=\"none\" stroke=\"#a2bba0\" points=\"24,-1141 24,-1164 107,-1164 107,-1141 24,-1141\"/>\n<text text-anchor=\"start\" x=\"31.0385\" y=\"-1149.8\" font-family=\"Fira Code Retina\" font-size=\"14.00\" fill=\"#000000\">LeakReLU</text>\n<polygon fill=\"none\" stroke=\"#a2bba0\" points=\"107,-1141 107,-1164 242,-1164 242,-1141 107,-1141\"/>\n<text text-anchor=\"start\" x=\"161.5769\" y=\"-1149.8\" font-family=\"Fira Code Retina\" font-size=\"14.00\" fill=\"#000000\">0.1</text>\n</g>\n<!-- block1&#45;&gt;block5 -->\n<g id=\"edge1\" class=\"edge\">\n<title>block1&#45;&gt;block5</title>\n<path fill=\"none\" stroke=\"#7d88c7\" d=\"M133,-1652.3635C133,-1576.8234 133,-1497.3071 133,-1431.161\"/>\n<polygon fill=\"#7d88c7\" stroke=\"#7d88c7\" points=\"136.5001,-1431.0823 133,-1421.0823 129.5001,-1431.0824 136.5001,-1431.0823\"/>\n<text text-anchor=\"middle\" x=\"121.3846\" y=\"-1534.1654\" font-family=\"Fira Code Retina\" font-size=\"14.00\" fill=\"#000000\">bs*512*38*38</text>\n</g>\n<!-- L2Norm -->\n<g id=\"node8\" class=\"node\">\n<title>L2Norm</title>\n<polygon fill=\"#e6ece5\" stroke=\"#a2bba0\" points=\"484.8654,-1939 417.4794,-1939 417.4794,-1903 484.8654,-1903 484.8654,-1939\"/>\n<text text-anchor=\"middle\" x=\"451.1724\" y=\"-1918.4154\" font-family=\"Fira Code Retina\" font-size=\"14.00\" fill=\"#000000\">L2Norm</text>\n</g>\n<!-- block1&#45;&gt;L2Norm -->\n<g id=\"edge9\" class=\"edge\">\n<title>block1&#45;&gt;L2Norm</title>\n<path fill=\"none\" stroke=\"#ac5553\" d=\"M237.021,-1959.3695C253.5148,-1963.5181 270.5579,-1966.7099 287,-1968 323.5314,-1970.8663 332.9169,-1970.8663 369.4482,-1968 377.9711,-1967.3313 380.5223,-1968.204 388.4482,-1965 400.3951,-1960.1705 412.2822,-1952.6954 422.4441,-1945.2685\"/>\n<polygon fill=\"#ac5553\" stroke=\"#ac5553\" points=\"424.7056,-1947.9455 430.5376,-1939.1003 420.4626,-1942.378 424.7056,-1947.9455\"/>\n<text text-anchor=\"middle\" x=\"328.2241\" y=\"-1972.8\" font-family=\"Times,serif\" font-size=\"14.00\" fill=\"#000000\">bs*512*38*38</text>\n</g>\n<!-- T1 -->\n<!-- block1&#45;&gt;T1 -->\n<!-- block8 -->\n<g id=\"node4\" class=\"node\">\n<title>block8</title>\n<polygon fill=\"#e4e7eb\" stroke=\"transparent\" points=\"41.5,-947.5 41.5,-1016.5 224.5,-1016.5 224.5,-947.5 41.5,-947.5\"/>\n<polygon fill=\"none\" stroke=\"#acc7d2\" points=\"42,-993 42,-1016 82,-1016 82,-993 42,-993\"/>\n<text text-anchor=\"start\" x=\"44.7692\" y=\"-1001.8\" font-family=\"Fira Code Retina\" font-size=\"14.00\" fill=\"#000000\">Conv</text>\n<polygon fill=\"none\" stroke=\"#acc7d2\" points=\"82,-993 82,-1016 225,-1016 225,-993 82,-993\"/>\n<text text-anchor=\"start\" x=\"140.5769\" y=\"-1001.8\" font-family=\"Fira Code Retina\" font-size=\"14.00\" fill=\"#000000\">256</text>\n<polygon fill=\"none\" stroke=\"#acc7d2\" points=\"42,-970 42,-993 82,-993 82,-970 42,-970\"/>\n<text text-anchor=\"start\" x=\"44.7692\" y=\"-978.8\" font-family=\"Fira Code Retina\" font-size=\"14.00\" fill=\"#000000\">Conv</text>\n<polygon fill=\"none\" stroke=\"#acc7d2\" points=\"82,-970 82,-993 225,-993 225,-970 82,-970\"/>\n<text text-anchor=\"start\" x=\"84.5769\" y=\"-978.8\" font-family=\"Fira Code Retina\" font-size=\"14.00\" fill=\"#000000\">512 k3*3 s2*2 p1</text>\n<polygon fill=\"none\" stroke=\"#acc7d2\" points=\"42,-947 42,-970 82,-970 82,-947 42,-947\"/>\n<text text-anchor=\"start\" x=\"44.7692\" y=\"-955.8\" font-family=\"Fira Code Retina\" font-size=\"14.00\" fill=\"#000000\">ReLU</text>\n<polygon fill=\"none\" stroke=\"#acc7d2\" points=\"82,-947 82,-970 225,-970 225,-947 82,-947\"/>\n</g>\n<!-- block5&#45;&gt;block8 -->\n<g id=\"edge6\" class=\"edge\">\n<title>block5&#45;&gt;block8</title>\n<path fill=\"none\" stroke=\"#ac5553\" d=\"M153.0956,-1136.6463C153.1417,-1136.0128 153.1868,-1135.3807 153.2308,-1134.75 156.4592,-1088.4875 163.539,-1073.2773 154.9241,-1030.7312\"/>\n<polygon fill=\"#ac5553\" stroke=\"#ac5553\" points=\"158.3291,-1029.9182 152.7665,-1020.9011 151.4918,-1031.419 158.3291,-1029.9182\"/>\n<path fill=\"none\" stroke=\"#ac5553\" d=\"M133,-1136.9485C133,-1098.7722 133,-1060.0265 133,-1030.8292\"/>\n<polygon fill=\"#ac5553\" stroke=\"#ac5553\" points=\"136.4999,-1030.5231 133,-1020.5231 129.4999,-1030.523 136.4999,-1030.5231\"/>\n<text text-anchor=\"middle\" x=\"144.6154\" y=\"-1076.1654\" font-family=\"Fira Code Retina\" font-size=\"14.00\" fill=\"#000000\">bs*1024*19*19</text>\n</g>\n<!-- sources2 -->\n<g id=\"node11\" class=\"node\">\n<title>sources2</title>\n<polygon fill=\"#f1cfcd\" stroke=\"#a25954\" points=\"737.2294,-1671 652.3832,-1671 652.3832,-1635 737.2294,-1635 737.2294,-1671\"/>\n<text text-anchor=\"middle\" x=\"694.8063\" y=\"-1650.4154\" font-family=\"Fira Code Retina\" font-size=\"14.00\" fill=\"#000000\">sources2</text>\n</g>\n<!-- block5&#45;&gt;sources2 -->\n<g id=\"edge18\" class=\"edge\">\n<title>block5&#45;&gt;sources2</title>\n<path fill=\"none\" stroke=\"#ac5553\" d=\"M250.0891,-1356.9474C379.0084,-1442.7702 578.6884,-1575.6992 659.2811,-1629.3505\"/>\n<polygon fill=\"#ac5553\" stroke=\"#ac5553\" points=\"657.3435,-1632.2653 667.6073,-1634.8934 661.2226,-1626.4384 657.3435,-1632.2653\"/>\n<text text-anchor=\"middle\" x=\"451.1724\" y=\"-1522.8\" font-family=\"Times,serif\" font-size=\"14.00\" fill=\"#000000\">bs*1024*19*19</text>\n</g>\n<!-- img -->\n<g id=\"node3\" class=\"node\">\n<title>img</title>\n<ellipse fill=\"none\" stroke=\"#c0c0c0\" cx=\"133\" cy=\"-2338\" rx=\"29.1862\" ry=\"29.1862\"/>\n<ellipse fill=\"none\" stroke=\"#c0c0c0\" cx=\"133\" cy=\"-2338\" rx=\"33.1662\" ry=\"33.1662\"/>\n<text text-anchor=\"middle\" x=\"133\" y=\"-2335.4154\" font-family=\"Fira Code Retina\" font-size=\"14.00\" fill=\"#000000\">img</text>\n</g>\n<!-- img&#45;&gt;block1 -->\n<g id=\"edge2\" class=\"edge\">\n<title>img&#45;&gt;block1</title>\n<path fill=\"none\" stroke=\"#ac5553\" d=\"M133,-2304.5619C133,-2279.169 133,-2241.5566 133,-2199.6666\"/>\n<polygon fill=\"#ac5553\" stroke=\"#ac5553\" points=\"136.5001,-2199.5134 133,-2189.5134 129.5001,-2199.5135 136.5001,-2199.5134\"/>\n<text text-anchor=\"middle\" x=\"121.3846\" y=\"-2244.4991\" font-family=\"Fira Code Retina\" font-size=\"14.00\" fill=\"#000000\">bs*3*300*300</text>\n</g>\n<!-- block9 -->\n<g id=\"node5\" class=\"node\">\n<title>block9</title>\n<polygon fill=\"#f1e3dd\" stroke=\"transparent\" points=\"41.5,-638.5 41.5,-707.5 224.5,-707.5 224.5,-638.5 41.5,-638.5\"/>\n<polygon fill=\"none\" stroke=\"#ddbf9a\" points=\"42,-684 42,-707 82,-707 82,-684 42,-684\"/>\n<text text-anchor=\"start\" x=\"44.7692\" y=\"-692.8\" font-family=\"Fira Code Retina\" font-size=\"14.00\" fill=\"#000000\">Conv</text>\n<polygon fill=\"none\" stroke=\"#ddbf9a\" points=\"82,-684 82,-707 225,-707 225,-684 82,-684\"/>\n<text text-anchor=\"start\" x=\"140.5769\" y=\"-692.8\" font-family=\"Fira Code Retina\" font-size=\"14.00\" fill=\"#000000\">128</text>\n<polygon fill=\"none\" stroke=\"#ddbf9a\" points=\"42,-661 42,-684 82,-684 82,-661 42,-661\"/>\n<text text-anchor=\"start\" x=\"44.7692\" y=\"-669.8\" font-family=\"Fira Code Retina\" font-size=\"14.00\" fill=\"#000000\">Conv</text>\n<polygon fill=\"none\" stroke=\"#ddbf9a\" points=\"82,-661 82,-684 225,-684 225,-661 82,-661\"/>\n<text text-anchor=\"start\" x=\"84.5769\" y=\"-669.8\" font-family=\"Fira Code Retina\" font-size=\"14.00\" fill=\"#000000\">256 k3*3 s2*2 p1</text>\n<polygon fill=\"none\" stroke=\"#ddbf9a\" points=\"42,-638 42,-661 82,-661 82,-638 42,-638\"/>\n<text text-anchor=\"start\" x=\"44.7692\" y=\"-646.8\" font-family=\"Fira Code Retina\" font-size=\"14.00\" fill=\"#000000\">ReLU</text>\n<polygon fill=\"none\" stroke=\"#ddbf9a\" points=\"82,-638 82,-661 225,-661 225,-638 82,-638\"/>\n</g>\n<!-- block8&#45;&gt;block9 -->\n<g id=\"edge3\" class=\"edge\">\n<title>block8&#45;&gt;block9</title>\n<path fill=\"none\" stroke=\"#7d88c7\" d=\"M133,-943.4909C133,-887.3643 133,-783.1084 133,-721.717\"/>\n<polygon fill=\"#7d88c7\" stroke=\"#7d88c7\" points=\"136.5001,-721.5103 133,-711.5103 129.5001,-721.5103 136.5001,-721.5103\"/>\n<text text-anchor=\"middle\" x=\"121.3846\" y=\"-824.9154\" font-family=\"Fira Code Retina\" font-size=\"14.00\" fill=\"#000000\">bs*512*10*10</text>\n</g>\n<!-- sources3 -->\n<g id=\"node12\" class=\"node\">\n<title>sources3</title>\n<polygon fill=\"#f1cfcd\" stroke=\"#a25954\" points=\"737.2294,-1403 652.3832,-1403 652.3832,-1367 737.2294,-1367 737.2294,-1403\"/>\n<text text-anchor=\"middle\" x=\"694.8063\" y=\"-1382.4154\" font-family=\"Fira Code Retina\" font-size=\"14.00\" fill=\"#000000\">sources3</text>\n</g>\n<!-- block8&#45;&gt;sources3 -->\n<g id=\"edge19\" class=\"edge\">\n<title>block8&#45;&gt;sources3</title>\n<path fill=\"none\" stroke=\"#ac5553\" d=\"M186.3998,-1020.5664C241.4845,-1060.3271 329.906,-1124.0882 406.4482,-1179 498.5054,-1245.0423 607.3303,-1322.6639 661.1662,-1361.0335\"/>\n<polygon fill=\"#ac5553\" stroke=\"#ac5553\" points=\"659.1485,-1363.8934 669.3234,-1366.8468 663.2111,-1358.1929 659.1485,-1363.8934\"/>\n<text text-anchor=\"middle\" x=\"451.1724\" y=\"-1244.8\" font-family=\"Times,serif\" font-size=\"14.00\" fill=\"#000000\">bs*512*10*10</text>\n</g>\n<!-- block10 -->\n<g id=\"node6\" class=\"node\">\n<title>block10</title>\n<polygon fill=\"#e9e1f0\" stroke=\"transparent\" points=\"76,-329.5 76,-398.5 190,-398.5 190,-329.5 76,-329.5\"/>\n<polygon fill=\"none\" stroke=\"#a592c5\" points=\"76,-375 76,-398 116,-398 116,-375 76,-375\"/>\n<text text-anchor=\"start\" x=\"78.7692\" y=\"-383.8\" font-family=\"Fira Code Retina\" font-size=\"14.00\" fill=\"#000000\">Conv</text>\n<polygon fill=\"none\" stroke=\"#a592c5\" points=\"116,-375 116,-398 190,-398 190,-375 116,-375\"/>\n<text text-anchor=\"start\" x=\"140.0769\" y=\"-383.8\" font-family=\"Fira Code Retina\" font-size=\"14.00\" fill=\"#000000\">128</text>\n<polygon fill=\"none\" stroke=\"#a592c5\" points=\"76,-352 76,-375 116,-375 116,-352 76,-352\"/>\n<text text-anchor=\"start\" x=\"78.7692\" y=\"-360.8\" font-family=\"Fira Code Retina\" font-size=\"14.00\" fill=\"#000000\">Conv</text>\n<polygon fill=\"none\" stroke=\"#a592c5\" points=\"116,-352 116,-375 190,-375 190,-352 116,-352\"/>\n<text text-anchor=\"start\" x=\"118.5385\" y=\"-360.8\" font-family=\"Fira Code Retina\" font-size=\"14.00\" fill=\"#000000\">256 k3*3</text>\n<polygon fill=\"none\" stroke=\"#a592c5\" points=\"76,-329 76,-352 116,-352 116,-329 76,-329\"/>\n<text text-anchor=\"start\" x=\"78.7692\" y=\"-337.8\" font-family=\"Fira Code Retina\" font-size=\"14.00\" fill=\"#000000\">ReLU</text>\n<polygon fill=\"none\" stroke=\"#a592c5\" points=\"116,-329 116,-352 190,-352 190,-329 116,-329\"/>\n</g>\n<!-- block9&#45;&gt;block10 -->\n<g id=\"edge4\" class=\"edge\">\n<title>block9&#45;&gt;block10</title>\n<path fill=\"none\" stroke=\"#7d88c7\" d=\"M133,-634.4909C133,-578.3643 133,-474.1084 133,-412.717\"/>\n<polygon fill=\"#7d88c7\" stroke=\"#7d88c7\" points=\"136.5001,-412.5103 133,-402.5103 129.5001,-412.5103 136.5001,-412.5103\"/>\n<text text-anchor=\"middle\" x=\"121.3846\" y=\"-515.9154\" font-family=\"Fira Code Retina\" font-size=\"14.00\" fill=\"#000000\">bs*512*5*5</text>\n</g>\n<!-- sources4 -->\n<g id=\"node13\" class=\"node\">\n<title>sources4</title>\n<polygon fill=\"#f1cfcd\" stroke=\"#a25954\" points=\"737.2294,-1135 652.3832,-1135 652.3832,-1099 737.2294,-1099 737.2294,-1135\"/>\n<text text-anchor=\"middle\" x=\"694.8063\" y=\"-1114.4154\" font-family=\"Fira Code Retina\" font-size=\"14.00\" fill=\"#000000\">sources4</text>\n</g>\n<!-- block9&#45;&gt;sources4 -->\n<g id=\"edge20\" class=\"edge\">\n<title>block9&#45;&gt;sources4</title>\n<path fill=\"none\" stroke=\"#ac5553\" d=\"M181.8738,-711.6254C294.8588,-800.9183 571.5361,-1019.5786 664.0832,-1092.7193\"/>\n<polygon fill=\"#ac5553\" stroke=\"#ac5553\" points=\"661.9341,-1095.4819 671.9499,-1098.9365 666.2744,-1089.99 661.9341,-1095.4819\"/>\n<text text-anchor=\"middle\" x=\"451.1724\" y=\"-961.8\" font-family=\"Times,serif\" font-size=\"14.00\" fill=\"#000000\">bs*512*5*5</text>\n</g>\n<!-- block11 -->\n<g id=\"node7\" class=\"node\">\n<title>block11</title>\n<polygon fill=\"#e6ece5\" stroke=\"transparent\" points=\"76,-20.5 76,-89.5 190,-89.5 190,-20.5 76,-20.5\"/>\n<polygon fill=\"none\" stroke=\"#a2bba0\" points=\"76,-66 76,-89 116,-89 116,-66 76,-66\"/>\n<text text-anchor=\"start\" x=\"78.7692\" y=\"-74.8\" font-family=\"Fira Code Retina\" font-size=\"14.00\" fill=\"#000000\">Conv</text>\n<polygon fill=\"none\" stroke=\"#a2bba0\" points=\"116,-66 116,-89 190,-89 190,-66 116,-66\"/>\n<text text-anchor=\"start\" x=\"140.0769\" y=\"-74.8\" font-family=\"Fira Code Retina\" font-size=\"14.00\" fill=\"#000000\">128</text>\n<polygon fill=\"none\" stroke=\"#a2bba0\" points=\"76,-43 76,-66 116,-66 116,-43 76,-43\"/>\n<text text-anchor=\"start\" x=\"78.7692\" y=\"-51.8\" font-family=\"Fira Code Retina\" font-size=\"14.00\" fill=\"#000000\">Conv</text>\n<polygon fill=\"none\" stroke=\"#a2bba0\" points=\"116,-43 116,-66 190,-66 190,-43 116,-43\"/>\n<text text-anchor=\"start\" x=\"118.5385\" y=\"-51.8\" font-family=\"Fira Code Retina\" font-size=\"14.00\" fill=\"#000000\">256 k3*3</text>\n<polygon fill=\"none\" stroke=\"#a2bba0\" points=\"76,-20 76,-43 116,-43 116,-20 76,-20\"/>\n<text text-anchor=\"start\" x=\"78.7692\" y=\"-28.8\" font-family=\"Fira Code Retina\" font-size=\"14.00\" fill=\"#000000\">ReLU</text>\n<polygon fill=\"none\" stroke=\"#a2bba0\" points=\"116,-20 116,-43 190,-43 190,-20 116,-20\"/>\n</g>\n<!-- block10&#45;&gt;block11 -->\n<g id=\"edge5\" class=\"edge\">\n<title>block10&#45;&gt;block11</title>\n<path fill=\"none\" stroke=\"#7d88c7\" d=\"M133,-325.4909C133,-269.3643 133,-165.1084 133,-103.717\"/>\n<polygon fill=\"#7d88c7\" stroke=\"#7d88c7\" points=\"136.5001,-103.5103 133,-93.5103 129.5001,-103.5103 136.5001,-103.5103\"/>\n<text text-anchor=\"middle\" x=\"121.3846\" y=\"-206.9154\" font-family=\"Fira Code Retina\" font-size=\"14.00\" fill=\"#000000\">bs*512*3*3</text>\n</g>\n<!-- sources5 -->\n<g id=\"node14\" class=\"node\">\n<title>sources5</title>\n<polygon fill=\"#f1cfcd\" stroke=\"#a25954\" points=\"737.2294,-867 652.3832,-867 652.3832,-831 737.2294,-831 737.2294,-867\"/>\n<text text-anchor=\"middle\" x=\"694.8063\" y=\"-846.4154\" font-family=\"Fira Code Retina\" font-size=\"14.00\" fill=\"#000000\">sources5</text>\n</g>\n<!-- block10&#45;&gt;sources5 -->\n<g id=\"edge21\" class=\"edge\">\n<title>block10&#45;&gt;sources5</title>\n<path fill=\"none\" stroke=\"#ac5553\" d=\"M178.0253,-402.8697C289.236,-498.8765 574.524,-745.1619 666.0694,-824.1919\"/>\n<polygon fill=\"#ac5553\" stroke=\"#ac5553\" points=\"663.962,-826.9963 673.8187,-830.8817 668.5363,-821.6977 663.962,-826.9963\"/>\n<text text-anchor=\"middle\" x=\"451.1724\" y=\"-679.8\" font-family=\"Times,serif\" font-size=\"14.00\" fill=\"#000000\">bs*512*3*3</text>\n</g>\n<!-- sources6 -->\n<g id=\"node15\" class=\"node\">\n<title>sources6</title>\n<polygon fill=\"#f1cfcd\" stroke=\"#a25954\" points=\"737.2294,-599 652.3832,-599 652.3832,-563 737.2294,-563 737.2294,-599\"/>\n<text text-anchor=\"middle\" x=\"694.8063\" y=\"-578.4154\" font-family=\"Fira Code Retina\" font-size=\"14.00\" fill=\"#000000\">sources6</text>\n</g>\n<!-- block11&#45;&gt;sources6 -->\n<g id=\"edge22\" class=\"edge\">\n<title>block11&#45;&gt;sources6</title>\n<path fill=\"none\" stroke=\"#ac5553\" d=\"M174.311,-93.678C283.5123,-195.9196 577.6202,-471.2827 668.0096,-555.9112\"/>\n<polygon fill=\"#ac5553\" stroke=\"#ac5553\" points=\"665.6922,-558.5361 675.3842,-562.8158 670.4764,-553.4262 665.6922,-558.5361\"/>\n<text text-anchor=\"middle\" x=\"451.1724\" y=\"-396.8\" font-family=\"Times,serif\" font-size=\"14.00\" fill=\"#000000\">bs*256*1*1</text>\n</g>\n<!-- sources1 -->\n<g id=\"node10\" class=\"node\">\n<title>sources1</title>\n<polygon fill=\"#f1cfcd\" stroke=\"#a25954\" points=\"737.2294,-1939 652.3832,-1939 652.3832,-1903 737.2294,-1903 737.2294,-1939\"/>\n<text text-anchor=\"middle\" x=\"694.8063\" y=\"-1918.4154\" font-family=\"Fira Code Retina\" font-size=\"14.00\" fill=\"#000000\">sources1</text>\n</g>\n<!-- L2Norm&#45;&gt;sources1 -->\n<g id=\"edge17\" class=\"edge\">\n<title>L2Norm&#45;&gt;sources1</title>\n<path fill=\"none\" stroke=\"#ac5553\" d=\"M471.8071,-1939.1003C483.4104,-1948.3019 498.6045,-1958.8183 513.8965,-1965 521.8224,-1968.204 524.3736,-1967.3313 532.8965,-1968 577.8661,-1971.5284 592.6731,-1982.2683 634.3447,-1965 645.8469,-1960.2336 657.2167,-1952.8631 666.9389,-1945.5086\"/>\n<polygon fill=\"#ac5553\" stroke=\"#ac5553\" points=\"669.3492,-1948.0647 675.0205,-1939.1156 665.0063,-1942.5747 669.3492,-1948.0647\"/>\n<text text-anchor=\"middle\" x=\"574.1206\" y=\"-1976.8\" font-family=\"Times,serif\" font-size=\"14.00\" fill=\"#000000\">bs*512*38*38</text>\n</g>\n<!-- T2 -->\n<!-- L2Norm&#45;&gt;T2 -->\n<!-- T1&#45;&gt;L2Norm -->\n<!-- sources1&#45;&gt;sources2 -->\n<g id=\"edge10\" class=\"edge\">\n<title>sources1&#45;&gt;sources2</title>\n<path fill=\"none\" stroke=\"#ffffff\" d=\"M694.8063,-1902.9378C694.8063,-1829.1169 694.8063,-1755.296 694.8063,-1681.475\"/>\n<polygon fill=\"#ffffff\" stroke=\"#ffffff\" points=\"698.3064,-1681.0586 694.8063,-1671.0586 691.3064,-1681.0586 698.3064,-1681.0586\"/>\n</g>\n<!-- block12 -->\n<g id=\"node17\" class=\"node\">\n<title>block12</title>\n<polygon fill=\"#e6ece5\" stroke=\"transparent\" points=\"912.716,-2102.5 912.716,-2125.5 1044.716,-2125.5 1044.716,-2102.5 912.716,-2102.5\"/>\n<polygon fill=\"none\" stroke=\"#a2bba0\" points=\"912.716,-2102 912.716,-2125 952.716,-2125 952.716,-2102 912.716,-2102\"/>\n<text text-anchor=\"start\" x=\"915.4853\" y=\"-2110.8\" font-family=\"Fira Code Retina\" font-size=\"14.00\" fill=\"#000000\">Conv</text>\n<polygon fill=\"none\" stroke=\"#a2bba0\" points=\"952.716,-2102 952.716,-2125 1044.716,-2125 1044.716,-2102 952.716,-2102\"/>\n<text text-anchor=\"start\" x=\"955.6391\" y=\"-2110.8\" font-family=\"Fira Code Retina\" font-size=\"14.00\" fill=\"#000000\">24 k3*3 p1</text>\n</g>\n<!-- sources1&#45;&gt;block12 -->\n<g id=\"edge26\" class=\"edge\">\n<title>sources1&#45;&gt;block12</title>\n<path fill=\"none\" stroke=\"#ac5553\" d=\"M696.5156,-1939.0466C702.532,-1997.7037 725.0759,-2180.5996 774.2678,-2205 809.882,-2222.6655 826.1674,-2218.0592 863.716,-2205 900.7147,-2192.1321 934.7799,-2161.861 956.0733,-2139.7539\"/>\n<polygon fill=\"#ac5553\" stroke=\"#ac5553\" points=\"958.7628,-2142.0027 963.0562,-2132.3168 953.6597,-2137.2113 958.7628,-2142.0027\"/>\n<text text-anchor=\"middle\" x=\"818.9919\" y=\"-2218.8\" font-family=\"Times,serif\" font-size=\"14.00\" fill=\"#000000\">bs*512*38*38</text>\n</g>\n<!-- block13 -->\n<g id=\"node18\" class=\"node\">\n<title>block13</title>\n<polygon fill=\"#e6ece5\" stroke=\"transparent\" points=\"908.716,-1834.5 908.716,-1857.5 1048.716,-1857.5 1048.716,-1834.5 908.716,-1834.5\"/>\n<polygon fill=\"none\" stroke=\"#a2bba0\" points=\"908.716,-1834 908.716,-1857 948.716,-1857 948.716,-1834 908.716,-1834\"/>\n<text text-anchor=\"start\" x=\"911.4853\" y=\"-1842.8\" font-family=\"Fira Code Retina\" font-size=\"14.00\" fill=\"#000000\">Conv</text>\n<polygon fill=\"none\" stroke=\"#a2bba0\" points=\"948.716,-1834 948.716,-1857 1048.716,-1857 1048.716,-1834 948.716,-1834\"/>\n<text text-anchor=\"start\" x=\"951.3314\" y=\"-1842.8\" font-family=\"Fira Code Retina\" font-size=\"14.00\" fill=\"#000000\">126 k3*3 p1</text>\n</g>\n<!-- sources1&#45;&gt;block13 -->\n<g id=\"edge27\" class=\"edge\">\n<title>sources1&#45;&gt;block13</title>\n<path fill=\"none\" stroke=\"#ac5553\" d=\"M698.0421,-1939.1393C707.5566,-1990.2043 737.1206,-2133.204 774.2678,-2160 806.5096,-2183.2575 831.6932,-2183.558 863.716,-2160 898.5916,-2134.3434 878.4124,-2107.8653 892.716,-2067 917.3441,-1996.6377 950.1573,-1915.2485 967.2558,-1873.6321\"/>\n<polygon fill=\"#ac5553\" stroke=\"#ac5553\" points=\"970.5777,-1874.757 971.1513,-1864.1777 964.1056,-1872.0902 970.5777,-1874.757\"/>\n<text text-anchor=\"middle\" x=\"818.9919\" y=\"-2179.8\" font-family=\"Times,serif\" font-size=\"14.00\" fill=\"#000000\">bs*512*38*38</text>\n</g>\n<!-- T3 -->\n<!-- sources1&#45;&gt;T3 -->\n<!-- sources2&#45;&gt;sources3 -->\n<g id=\"edge11\" class=\"edge\">\n<title>sources2&#45;&gt;sources3</title>\n<path fill=\"none\" stroke=\"#ffffff\" d=\"M694.8063,-1634.9378C694.8063,-1561.1169 694.8063,-1487.296 694.8063,-1413.475\"/>\n<polygon fill=\"#ffffff\" stroke=\"#ffffff\" points=\"698.3064,-1413.0586 694.8063,-1403.0586 691.3064,-1413.0586 698.3064,-1413.0586\"/>\n</g>\n<!-- block14 -->\n<g id=\"node20\" class=\"node\">\n<title>block14</title>\n<polygon fill=\"#e6ece5\" stroke=\"transparent\" points=\"912.716,-1740.5 912.716,-1763.5 1044.716,-1763.5 1044.716,-1740.5 912.716,-1740.5\"/>\n<polygon fill=\"none\" stroke=\"#a2bba0\" points=\"912.716,-1740 912.716,-1763 952.716,-1763 952.716,-1740 912.716,-1740\"/>\n<text text-anchor=\"start\" x=\"915.4853\" y=\"-1748.8\" font-family=\"Fira Code Retina\" font-size=\"14.00\" fill=\"#000000\">Conv</text>\n<polygon fill=\"none\" stroke=\"#a2bba0\" points=\"952.716,-1740 952.716,-1763 1044.716,-1763 1044.716,-1740 952.716,-1740\"/>\n<text text-anchor=\"start\" x=\"955.6391\" y=\"-1748.8\" font-family=\"Fira Code Retina\" font-size=\"14.00\" fill=\"#000000\">24 k3*3 p1</text>\n</g>\n<!-- sources2&#45;&gt;block14 -->\n<g id=\"edge31\" class=\"edge\">\n<title>sources2&#45;&gt;block14</title>\n<path fill=\"none\" stroke=\"#ac5553\" d=\"M697.9659,-1671.3277C707.608,-1725.2287 738.2041,-1881.6538 774.2678,-1917 809.6775,-1951.7052 832.5936,-1940.2711 881.716,-1947 882.1564,-1947.0603 882.3908,-1947.3029 882.716,-1947 905.7,-1925.5884 876.5537,-1832.935 892.716,-1806 900.3074,-1793.3488 912.1259,-1783.1983 924.5967,-1775.2655\"/>\n<polygon fill=\"#ac5553\" stroke=\"#ac5553\" points=\"926.4645,-1778.2272 933.2905,-1770.1244 922.9014,-1772.2019 926.4645,-1778.2272\"/>\n<text text-anchor=\"middle\" x=\"818.9919\" y=\"-1947.8\" font-family=\"Times,serif\" font-size=\"14.00\" fill=\"#000000\">bs*1024*19*19</text>\n</g>\n<!-- block15 -->\n<g id=\"node21\" class=\"node\">\n<title>block15</title>\n<polygon fill=\"#e6ece5\" stroke=\"transparent\" points=\"908.716,-1472.5 908.716,-1495.5 1048.716,-1495.5 1048.716,-1472.5 908.716,-1472.5\"/>\n<polygon fill=\"none\" stroke=\"#a2bba0\" points=\"908.716,-1472 908.716,-1495 948.716,-1495 948.716,-1472 908.716,-1472\"/>\n<text text-anchor=\"start\" x=\"911.4853\" y=\"-1480.8\" font-family=\"Fira Code Retina\" font-size=\"14.00\" fill=\"#000000\">Conv</text>\n<polygon fill=\"none\" stroke=\"#a2bba0\" points=\"948.716,-1472 948.716,-1495 1048.716,-1495 1048.716,-1472 948.716,-1472\"/>\n<text text-anchor=\"start\" x=\"951.3314\" y=\"-1480.8\" font-family=\"Fira Code Retina\" font-size=\"14.00\" fill=\"#000000\">126 k3*3 p1</text>\n</g>\n<!-- sources2&#45;&gt;block15 -->\n<g id=\"edge32\" class=\"edge\">\n<title>sources2&#45;&gt;block15</title>\n<path fill=\"none\" stroke=\"#ac5553\" d=\"M698.6534,-1671.1571C706.5149,-1703.1199 727.757,-1768.6358 774.2678,-1796 808.5322,-1816.1592 831.6199,-1819.4581 863.716,-1796 897.987,-1770.9524 878.5677,-1745.0213 892.716,-1705 917.5633,-1634.7148 950.2856,-1553.2936 967.3121,-1511.652\"/>\n<polygon fill=\"#ac5553\" stroke=\"#ac5553\" points=\"970.6357,-1512.7717 971.1904,-1502.1914 964.1588,-1510.1165 970.6357,-1512.7717\"/>\n<text text-anchor=\"middle\" x=\"818.9919\" y=\"-1814.8\" font-family=\"Times,serif\" font-size=\"14.00\" fill=\"#000000\">bs*1024*19*19</text>\n</g>\n<!-- T4 -->\n<!-- sources2&#45;&gt;T4 -->\n<!-- sources3&#45;&gt;sources4 -->\n<g id=\"edge12\" class=\"edge\">\n<title>sources3&#45;&gt;sources4</title>\n<path fill=\"none\" stroke=\"#ffffff\" d=\"M694.8063,-1366.9378C694.8063,-1293.1169 694.8063,-1219.296 694.8063,-1145.475\"/>\n<polygon fill=\"#ffffff\" stroke=\"#ffffff\" points=\"698.3064,-1145.0586 694.8063,-1135.0586 691.3064,-1145.0586 698.3064,-1145.0586\"/>\n</g>\n<!-- block16 -->\n<g id=\"node23\" class=\"node\">\n<title>block16</title>\n<polygon fill=\"#e6ece5\" stroke=\"transparent\" points=\"912.716,-1378.5 912.716,-1401.5 1044.716,-1401.5 1044.716,-1378.5 912.716,-1378.5\"/>\n<polygon fill=\"none\" stroke=\"#a2bba0\" points=\"912.716,-1378 912.716,-1401 952.716,-1401 952.716,-1378 912.716,-1378\"/>\n<text text-anchor=\"start\" x=\"915.4853\" y=\"-1386.8\" font-family=\"Fira Code Retina\" font-size=\"14.00\" fill=\"#000000\">Conv</text>\n<polygon fill=\"none\" stroke=\"#a2bba0\" points=\"952.716,-1378 952.716,-1401 1044.716,-1401 1044.716,-1378 952.716,-1378\"/>\n<text text-anchor=\"start\" x=\"955.6391\" y=\"-1386.8\" font-family=\"Fira Code Retina\" font-size=\"14.00\" fill=\"#000000\">24 k3*3 p1</text>\n</g>\n<!-- sources3&#45;&gt;block16 -->\n<g id=\"edge36\" class=\"edge\">\n<title>sources3&#45;&gt;block16</title>\n<path fill=\"none\" stroke=\"#ac5553\" d=\"M697.8045,-1403.072C705.4005,-1446.412 726.8358,-1554.2107 755.2678,-1575 794.9681,-1604.0285 820.7097,-1576.8585 863.716,-1553 874.4373,-1547.0522 877.5401,-1544.1144 882.716,-1533 899.5199,-1496.9164 871.5388,-1477.7034 892.716,-1444 900.6419,-1431.3862 912.7052,-1421.216 925.3112,-1413.2507\"/>\n<polygon fill=\"#ac5553\" stroke=\"#ac5553\" points=\"927.2406,-1416.1763 934.0809,-1408.0855 923.6881,-1410.1447 927.2406,-1416.1763\"/>\n<text text-anchor=\"middle\" x=\"818.9919\" y=\"-1589.8\" font-family=\"Times,serif\" font-size=\"14.00\" fill=\"#000000\">bs*512*10*10</text>\n</g>\n<!-- block17 -->\n<g id=\"node24\" class=\"node\">\n<title>block17</title>\n<polygon fill=\"#e6ece5\" stroke=\"transparent\" points=\"908.716,-1110.5 908.716,-1133.5 1048.716,-1133.5 1048.716,-1110.5 908.716,-1110.5\"/>\n<polygon fill=\"none\" stroke=\"#a2bba0\" points=\"908.716,-1110 908.716,-1133 948.716,-1133 948.716,-1110 908.716,-1110\"/>\n<text text-anchor=\"start\" x=\"911.4853\" y=\"-1118.8\" font-family=\"Fira Code Retina\" font-size=\"14.00\" fill=\"#000000\">Conv</text>\n<polygon fill=\"none\" stroke=\"#a2bba0\" points=\"948.716,-1110 948.716,-1133 1048.716,-1133 1048.716,-1110 948.716,-1110\"/>\n<text text-anchor=\"start\" x=\"951.3314\" y=\"-1118.8\" font-family=\"Fira Code Retina\" font-size=\"14.00\" fill=\"#000000\">126 k3*3 p1</text>\n</g>\n<!-- sources3&#45;&gt;block17 -->\n<g id=\"edge37\" class=\"edge\">\n<title>sources3&#45;&gt;block17</title>\n<path fill=\"none\" stroke=\"#ac5553\" d=\"M715.0644,-1403.1658C726.2415,-1412.3592 740.7655,-1423.0201 755.2678,-1430 790.6189,-1447.0145 862.2852,-1436.0493 863.716,-1435 898.2892,-1409.648 878.4901,-1383.4431 892.716,-1343 917.4527,-1272.6758 950.2208,-1191.2708 967.2837,-1149.6419\"/>\n<polygon fill=\"#ac5553\" stroke=\"#ac5553\" points=\"970.6064,-1150.7643 971.1707,-1140.1845 964.1319,-1148.1032 970.6064,-1150.7643\"/>\n<text text-anchor=\"middle\" x=\"818.9919\" y=\"-1441.8\" font-family=\"Times,serif\" font-size=\"14.00\" fill=\"#000000\">bs*512*10*10</text>\n</g>\n<!-- T5 -->\n<!-- sources3&#45;&gt;T5 -->\n<!-- sources4&#45;&gt;sources5 -->\n<g id=\"edge13\" class=\"edge\">\n<title>sources4&#45;&gt;sources5</title>\n<path fill=\"none\" stroke=\"#ffffff\" d=\"M694.8063,-1098.9378C694.8063,-1025.1169 694.8063,-951.296 694.8063,-877.475\"/>\n<polygon fill=\"#ffffff\" stroke=\"#ffffff\" points=\"698.3064,-877.0586 694.8063,-867.0586 691.3064,-877.0586 698.3064,-877.0586\"/>\n</g>\n<!-- block18 -->\n<g id=\"node26\" class=\"node\">\n<title>block18</title>\n<polygon fill=\"#e6ece5\" stroke=\"transparent\" points=\"912.716,-1016.5 912.716,-1039.5 1044.716,-1039.5 1044.716,-1016.5 912.716,-1016.5\"/>\n<polygon fill=\"none\" stroke=\"#a2bba0\" points=\"912.716,-1016 912.716,-1039 952.716,-1039 952.716,-1016 912.716,-1016\"/>\n<text text-anchor=\"start\" x=\"915.4853\" y=\"-1024.8\" font-family=\"Fira Code Retina\" font-size=\"14.00\" fill=\"#000000\">Conv</text>\n<polygon fill=\"none\" stroke=\"#a2bba0\" points=\"952.716,-1016 952.716,-1039 1044.716,-1039 1044.716,-1016 952.716,-1016\"/>\n<text text-anchor=\"start\" x=\"955.6391\" y=\"-1024.8\" font-family=\"Fira Code Retina\" font-size=\"14.00\" fill=\"#000000\">24 k3*3 p1</text>\n</g>\n<!-- sources4&#45;&gt;block18 -->\n<g id=\"edge41\" class=\"edge\">\n<title>sources4&#45;&gt;block18</title>\n<path fill=\"none\" stroke=\"#ac5553\" d=\"M696.7595,-1135.2476C701.2751,-1167.5684 715.3863,-1230.9583 756.2678,-1225 816.3983,-1216.2362 857.1304,-1228.1167 882.716,-1173 899.8478,-1136.0946 871.1108,-1116.4778 892.716,-1082 900.6265,-1069.3765 912.6846,-1059.2031 925.2905,-1051.2377\"/>\n<polygon fill=\"#ac5553\" stroke=\"#ac5553\" points=\"927.22,-1054.1633 934.0609,-1046.073 923.6679,-1048.1314 927.22,-1054.1633\"/>\n<text text-anchor=\"middle\" x=\"818.9919\" y=\"-1224.8\" font-family=\"Times,serif\" font-size=\"14.00\" fill=\"#000000\">bs*512*5*5</text>\n</g>\n<!-- block19 -->\n<g id=\"node27\" class=\"node\">\n<title>block19</title>\n<polygon fill=\"#e6ece5\" stroke=\"transparent\" points=\"908.716,-748.5 908.716,-771.5 1048.716,-771.5 1048.716,-748.5 908.716,-748.5\"/>\n<polygon fill=\"none\" stroke=\"#a2bba0\" points=\"908.716,-748 908.716,-771 948.716,-771 948.716,-748 908.716,-748\"/>\n<text text-anchor=\"start\" x=\"911.4853\" y=\"-756.8\" font-family=\"Fira Code Retina\" font-size=\"14.00\" fill=\"#000000\">Conv</text>\n<polygon fill=\"none\" stroke=\"#a2bba0\" points=\"948.716,-748 948.716,-771 1048.716,-771 1048.716,-748 948.716,-748\"/>\n<text text-anchor=\"start\" x=\"951.3314\" y=\"-756.8\" font-family=\"Fira Code Retina\" font-size=\"14.00\" fill=\"#000000\">126 k3*3 p1</text>\n</g>\n<!-- sources4&#45;&gt;block19 -->\n<g id=\"edge42\" class=\"edge\">\n<title>sources4&#45;&gt;block19</title>\n<path fill=\"none\" stroke=\"#ac5553\" d=\"M737.3253,-1119.2066C775.9632,-1118.7314 831.6773,-1111.4037 863.716,-1077 894.0914,-1044.3824 878.1788,-1023.1336 892.716,-981 917.0306,-910.5287 949.9737,-829.1847 967.1752,-787.6041\"/>\n<polygon fill=\"#ac5553\" stroke=\"#ac5553\" points=\"970.4948,-788.7361 971.0954,-778.1582 964.0295,-786.0528 970.4948,-788.7361\"/>\n<text text-anchor=\"middle\" x=\"818.9919\" y=\"-1118.8\" font-family=\"Times,serif\" font-size=\"14.00\" fill=\"#000000\">bs*512*5*5</text>\n</g>\n<!-- T6 -->\n<!-- sources4&#45;&gt;T6 -->\n<!-- sources5&#45;&gt;sources6 -->\n<g id=\"edge14\" class=\"edge\">\n<title>sources5&#45;&gt;sources6</title>\n<path fill=\"none\" stroke=\"#ffffff\" d=\"M694.8063,-830.9378C694.8063,-757.1169 694.8063,-683.296 694.8063,-609.475\"/>\n<polygon fill=\"#ffffff\" stroke=\"#ffffff\" points=\"698.3064,-609.0586 694.8063,-599.0586 691.3064,-609.0586 698.3064,-609.0586\"/>\n</g>\n<!-- block20 -->\n<g id=\"node29\" class=\"node\">\n<title>block20</title>\n<polygon fill=\"#e6ece5\" stroke=\"transparent\" points=\"912.716,-654.5 912.716,-677.5 1044.716,-677.5 1044.716,-654.5 912.716,-654.5\"/>\n<polygon fill=\"none\" stroke=\"#a2bba0\" points=\"912.716,-654 912.716,-677 952.716,-677 952.716,-654 912.716,-654\"/>\n<text text-anchor=\"start\" x=\"915.4853\" y=\"-662.8\" font-family=\"Fira Code Retina\" font-size=\"14.00\" fill=\"#000000\">Conv</text>\n<polygon fill=\"none\" stroke=\"#a2bba0\" points=\"952.716,-654 952.716,-677 1044.716,-677 1044.716,-654 952.716,-654\"/>\n<text text-anchor=\"start\" x=\"955.6391\" y=\"-662.8\" font-family=\"Fira Code Retina\" font-size=\"14.00\" fill=\"#000000\">16 k3*3 p1</text>\n</g>\n<!-- sources5&#45;&gt;block20 -->\n<g id=\"edge46\" class=\"edge\">\n<title>sources5&#45;&gt;block20</title>\n<path fill=\"none\" stroke=\"#ac5553\" d=\"M737.5258,-854.5479C773.0088,-857.256 823.9307,-856.6346 863.716,-838 912.6223,-815.0933 864.2172,-765.8733 892.716,-720 900.5774,-707.3459 912.6189,-697.1621 925.2244,-689.1965\"/>\n<polygon fill=\"#ac5553\" stroke=\"#ac5553\" points=\"927.1543,-692.1219 933.997,-684.0331 923.6036,-686.0893 927.1543,-692.1219\"/>\n<text text-anchor=\"middle\" x=\"818.9919\" y=\"-857.8\" font-family=\"Times,serif\" font-size=\"14.00\" fill=\"#000000\">bs*512*3*3</text>\n</g>\n<!-- block21 -->\n<g id=\"node30\" class=\"node\">\n<title>block21</title>\n<polygon fill=\"#e6ece5\" stroke=\"transparent\" points=\"912.716,-386.5 912.716,-409.5 1044.716,-409.5 1044.716,-386.5 912.716,-386.5\"/>\n<polygon fill=\"none\" stroke=\"#a2bba0\" points=\"912.716,-386 912.716,-409 952.716,-409 952.716,-386 912.716,-386\"/>\n<text text-anchor=\"start\" x=\"915.4853\" y=\"-394.8\" font-family=\"Fira Code Retina\" font-size=\"14.00\" fill=\"#000000\">Conv</text>\n<polygon fill=\"none\" stroke=\"#a2bba0\" points=\"952.716,-386 952.716,-409 1044.716,-409 1044.716,-386 952.716,-386\"/>\n<text text-anchor=\"start\" x=\"955.6391\" y=\"-394.8\" font-family=\"Fira Code Retina\" font-size=\"14.00\" fill=\"#000000\">84 k3*3 p1</text>\n</g>\n<!-- sources5&#45;&gt;block21 -->\n<g id=\"edge47\" class=\"edge\">\n<title>sources5&#45;&gt;block21</title>\n<path fill=\"none\" stroke=\"#ac5553\" d=\"M731.7811,-830.8612C770.3774,-810.0497 829.8963,-772.3376 863.716,-723 890.8469,-683.4205 877.552,-664.5266 892.716,-619 916.2742,-548.2722 949.5309,-467.0346 966.9808,-425.5382\"/>\n<polygon fill=\"#ac5553\" stroke=\"#ac5553\" points=\"970.2951,-426.6864 970.9605,-416.1125 963.8464,-423.9636 970.2951,-426.6864\"/>\n<text text-anchor=\"middle\" x=\"818.9919\" y=\"-806.8\" font-family=\"Times,serif\" font-size=\"14.00\" fill=\"#000000\">bs*512*3*3</text>\n</g>\n<!-- T7 -->\n<!-- sources5&#45;&gt;T7 -->\n<!-- block22 -->\n<g id=\"node32\" class=\"node\">\n<title>block22</title>\n<polygon fill=\"#e6ece5\" stroke=\"transparent\" points=\"912.716,-292.5 912.716,-315.5 1044.716,-315.5 1044.716,-292.5 912.716,-292.5\"/>\n<polygon fill=\"none\" stroke=\"#a2bba0\" points=\"912.716,-292 912.716,-315 952.716,-315 952.716,-292 912.716,-292\"/>\n<text text-anchor=\"start\" x=\"915.4853\" y=\"-300.8\" font-family=\"Fira Code Retina\" font-size=\"14.00\" fill=\"#000000\">Conv</text>\n<polygon fill=\"none\" stroke=\"#a2bba0\" points=\"952.716,-292 952.716,-315 1044.716,-315 1044.716,-292 952.716,-292\"/>\n<text text-anchor=\"start\" x=\"955.6391\" y=\"-300.8\" font-family=\"Fira Code Retina\" font-size=\"14.00\" fill=\"#000000\">16 k3*3 p1</text>\n</g>\n<!-- sources6&#45;&gt;block22 -->\n<g id=\"edge51\" class=\"edge\">\n<title>sources6&#45;&gt;block22</title>\n<path fill=\"none\" stroke=\"#ac5553\" d=\"M732.9797,-562.9292C768.7884,-544.9686 822.8045,-515.2145 863.716,-481 873.6266,-472.7118 877.6193,-470.8717 882.716,-459 900.5113,-417.5501 868.9695,-396.3519 892.716,-358 900.5584,-345.3341 912.5935,-335.1463 925.1989,-327.1806\"/>\n<polygon fill=\"#ac5553\" stroke=\"#ac5553\" points=\"927.1289,-330.106 933.9723,-322.0178 923.5787,-324.073 927.1289,-330.106\"/>\n<text text-anchor=\"middle\" x=\"818.9919\" y=\"-542.8\" font-family=\"Times,serif\" font-size=\"14.00\" fill=\"#000000\">bs*256*1*1</text>\n</g>\n<!-- block23 -->\n<g id=\"node33\" class=\"node\">\n<title>block23</title>\n<polygon fill=\"#e6ece5\" stroke=\"transparent\" points=\"912.716,-24.5 912.716,-47.5 1044.716,-47.5 1044.716,-24.5 912.716,-24.5\"/>\n<polygon fill=\"none\" stroke=\"#a2bba0\" points=\"912.716,-24 912.716,-47 952.716,-47 952.716,-24 912.716,-24\"/>\n<text text-anchor=\"start\" x=\"915.4853\" y=\"-32.8\" font-family=\"Fira Code Retina\" font-size=\"14.00\" fill=\"#000000\">Conv</text>\n<polygon fill=\"none\" stroke=\"#a2bba0\" points=\"952.716,-24 952.716,-47 1044.716,-47 1044.716,-24 952.716,-24\"/>\n<text text-anchor=\"start\" x=\"955.6391\" y=\"-32.8\" font-family=\"Fira Code Retina\" font-size=\"14.00\" fill=\"#000000\">84 k3*3 p1</text>\n</g>\n<!-- sources6&#45;&gt;block23 -->\n<g id=\"edge52\" class=\"edge\">\n<title>sources6&#45;&gt;block23</title>\n<path fill=\"none\" stroke=\"#ac5553\" d=\"M704.4282,-562.7867C718.3183,-537.1878 745.4955,-489.6031 774.2678,-453 809.315,-408.4142 835.383,-411.1267 863.716,-362 887.9036,-320.0612 877.4733,-302.9517 892.716,-257 916.1869,-186.2433 949.4799,-105.0176 966.9584,-63.5308\"/>\n<polygon fill=\"#ac5553\" stroke=\"#ac5553\" points=\"970.2721,-64.6808 970.9449,-54.1073 963.8253,-61.9534 970.2721,-64.6808\"/>\n<text text-anchor=\"middle\" x=\"818.9919\" y=\"-455.8\" font-family=\"Times,serif\" font-size=\"14.00\" fill=\"#000000\">bs*256*1*1</text>\n</g>\n<!-- T8 -->\n<!-- sources6&#45;&gt;T8 -->\n<!-- T2&#45;&gt;sources1 -->\n<!-- block12&#45;&gt;block13 -->\n<g id=\"edge23\" class=\"edge\">\n<title>block12&#45;&gt;block13</title>\n<path fill=\"none\" stroke=\"#ffffff\" d=\"M978.716,-2095.9378C978.716,-2022.1169 978.716,-1948.296 978.716,-1874.475\"/>\n<polygon fill=\"#ffffff\" stroke=\"#ffffff\" points=\"982.2161,-1874.0586 978.716,-1864.0586 975.2161,-1874.0586 982.2161,-1874.0586\"/>\n</g>\n<!-- block24 -->\n<g id=\"node35\" class=\"node\">\n<title>block24</title>\n<polygon fill=\"#f1cfcd\" stroke=\"#a25954\" points=\"1267.1643,-1408 1213.1643,-1408 1213.1643,-1372 1267.1643,-1372 1267.1643,-1408\"/>\n<text text-anchor=\"middle\" x=\"1240.1643\" y=\"-1387.4154\" font-family=\"Fira Code Retina\" font-size=\"14.00\" fill=\"#000000\">cat</text>\n</g>\n<!-- block12&#45;&gt;block24 -->\n<g id=\"edge55\" class=\"edge\">\n<title>block12&#45;&gt;block24</title>\n<path fill=\"none\" stroke=\"#609f60\" d=\"M1006.9182,-2095.8045C1048.8964,-2067.4617 1128.0246,-2009.0142 1176.1643,-1942 1189.0694,-1924.035 1189.9021,-1917.4847 1195.1643,-1896 1217.6924,-1804.0217 1234.0904,-1510.2942 1238.7903,-1418.0183\"/>\n<polygon fill=\"#609f60\" stroke=\"#609f60\" points=\"1242.2858,-1418.1934 1239.2932,-1408.03 1235.2947,-1417.8413 1242.2858,-1418.1934\"/>\n<text text-anchor=\"middle\" x=\"1134.9402\" y=\"-2031.8\" font-family=\"Times,serif\" font-size=\"14.00\" fill=\"#000000\">bs*38*38*24</text>\n</g>\n<!-- block25 -->\n<g id=\"node37\" class=\"node\">\n<title>block25</title>\n<polygon fill=\"#f1cfcd\" stroke=\"#a25954\" points=\"1267.1643,-1140 1213.1643,-1140 1213.1643,-1104 1267.1643,-1104 1267.1643,-1140\"/>\n<text text-anchor=\"middle\" x=\"1240.1643\" y=\"-1119.4154\" font-family=\"Fira Code Retina\" font-size=\"14.00\" fill=\"#000000\">cat</text>\n</g>\n<!-- block13&#45;&gt;block25 -->\n<g id=\"edge63\" class=\"edge\">\n<title>block13&#45;&gt;block25</title>\n<path fill=\"none\" stroke=\"#bf8060\" d=\"M1057.0719,-1829.556C1099.3669,-1816.4333 1148.4523,-1793.4585 1176.1643,-1754 1228.8684,-1678.9556 1203.4916,-1434.1911 1213.1643,-1343 1220.5343,-1273.5182 1230.9582,-1191.971 1236.4486,-1150.0406\"/>\n<polygon fill=\"#bf8060\" stroke=\"#bf8060\" points=\"1239.9319,-1150.3962 1237.765,-1140.0253 1232.9916,-1149.4839 1239.9319,-1150.3962\"/>\n<text text-anchor=\"middle\" x=\"1134.9402\" y=\"-1817.8\" font-family=\"Times,serif\" font-size=\"14.00\" fill=\"#000000\">bs*38*38*126</text>\n</g>\n<!-- T3&#45;&gt;block12 -->\n<!-- block14&#45;&gt;block15 -->\n<g id=\"edge28\" class=\"edge\">\n<title>block14&#45;&gt;block15</title>\n<path fill=\"none\" stroke=\"#ffffff\" d=\"M978.716,-1733.9378C978.716,-1660.1169 978.716,-1586.296 978.716,-1512.475\"/>\n<polygon fill=\"#ffffff\" stroke=\"#ffffff\" points=\"982.2161,-1512.0586 978.716,-1502.0586 975.2161,-1512.0586 982.2161,-1512.0586\"/>\n</g>\n<!-- block14&#45;&gt;block24 -->\n<g id=\"edge56\" class=\"edge\">\n<title>block14&#45;&gt;block24</title>\n<path fill=\"none\" stroke=\"#609f60\" d=\"M1053.1384,-1738.924C1093.1479,-1728.8359 1141.2819,-1711.4378 1176.1643,-1682 1216.3645,-1648.0744 1233.0294,-1484.7831 1238.2252,-1418.2764\"/>\n<polygon fill=\"#609f60\" stroke=\"#609f60\" points=\"1241.7301,-1418.3419 1238.9884,-1408.1079 1234.7497,-1417.8179 1241.7301,-1418.3419\"/>\n<text text-anchor=\"middle\" x=\"1134.9402\" y=\"-1728.8\" font-family=\"Times,serif\" font-size=\"14.00\" fill=\"#000000\">bs*19*19*24</text>\n</g>\n<!-- block15&#45;&gt;block25 -->\n<g id=\"edge64\" class=\"edge\">\n<title>block15&#45;&gt;block25</title>\n<path fill=\"none\" stroke=\"#bf8060\" d=\"M1057.1268,-1498.2527C1097.594,-1500.9212 1144.8963,-1496.0256 1176.1643,-1467 1199.5102,-1445.3284 1227.4305,-1228.7639 1236.8656,-1150.2439\"/>\n<polygon fill=\"#bf8060\" stroke=\"#bf8060\" points=\"1240.3646,-1150.459 1238.0718,-1140.1152 1233.4137,-1149.6311 1240.3646,-1150.459\"/>\n<text text-anchor=\"middle\" x=\"1134.9402\" y=\"-1500.8\" font-family=\"Times,serif\" font-size=\"14.00\" fill=\"#000000\">bs*19*19*126</text>\n</g>\n<!-- T4&#45;&gt;block14 -->\n<!-- block16&#45;&gt;block17 -->\n<g id=\"edge33\" class=\"edge\">\n<title>block16&#45;&gt;block17</title>\n<path fill=\"none\" stroke=\"#ffffff\" d=\"M978.716,-1371.9378C978.716,-1298.1169 978.716,-1224.296 978.716,-1150.475\"/>\n<polygon fill=\"#ffffff\" stroke=\"#ffffff\" points=\"982.2161,-1150.0586 978.716,-1140.0586 975.2161,-1150.0586 982.2161,-1150.0586\"/>\n</g>\n<!-- block16&#45;&gt;block24 -->\n<g id=\"edge57\" class=\"edge\">\n<title>block16&#45;&gt;block24</title>\n<path fill=\"none\" stroke=\"#609f60\" d=\"M1012.0462,-1408.0112C1030.1227,-1417.0709 1053.1277,-1427.4829 1074.716,-1434 1107.2495,-1443.8212 1170.3629,-1437.4552 1176.1643,-1437 1184.6872,-1436.3313 1187.5244,-1437.8365 1195.1643,-1434 1204.056,-1429.5348 1212.3159,-1422.6789 1219.2683,-1415.6981\"/>\n<polygon fill=\"#609f60\" stroke=\"#609f60\" points=\"1222.0143,-1417.885 1226.2673,-1408.1813 1216.8912,-1413.1149 1222.0143,-1417.885\"/>\n<text text-anchor=\"middle\" x=\"1134.9402\" y=\"-1441.8\" font-family=\"Times,serif\" font-size=\"14.00\" fill=\"#000000\">bs*10*10*24</text>\n</g>\n<!-- T9 -->\n<!-- block16&#45;&gt;T9 -->\n<!-- block17&#45;&gt;block25 -->\n<g id=\"edge65\" class=\"edge\">\n<title>block17&#45;&gt;block25</title>\n<path fill=\"none\" stroke=\"#bf8060\" d=\"M1012.0462,-1140.0112C1030.1227,-1149.0709 1053.1277,-1159.4829 1074.716,-1166 1107.2495,-1175.8212 1170.3629,-1169.4552 1176.1643,-1169 1184.6872,-1168.3313 1187.5244,-1169.8365 1195.1643,-1166 1204.056,-1161.5348 1212.3159,-1154.6789 1219.2683,-1147.6981\"/>\n<polygon fill=\"#bf8060\" stroke=\"#bf8060\" points=\"1222.0143,-1149.885 1226.2673,-1140.1813 1216.8912,-1145.1149 1222.0143,-1149.885\"/>\n<text text-anchor=\"middle\" x=\"1134.9402\" y=\"-1173.8\" font-family=\"Times,serif\" font-size=\"14.00\" fill=\"#000000\">bs*10*10*126</text>\n</g>\n<!-- T10 -->\n<!-- block17&#45;&gt;T10 -->\n<!-- T5&#45;&gt;block16 -->\n<!-- block18&#45;&gt;block19 -->\n<g id=\"edge38\" class=\"edge\">\n<title>block18&#45;&gt;block19</title>\n<path fill=\"none\" stroke=\"#ffffff\" d=\"M978.716,-1009.9378C978.716,-936.1169 978.716,-862.296 978.716,-788.475\"/>\n<polygon fill=\"#ffffff\" stroke=\"#ffffff\" points=\"982.2161,-788.0586 978.716,-778.0586 975.2161,-788.0586 982.2161,-788.0586\"/>\n</g>\n<!-- block18&#45;&gt;block24 -->\n<g id=\"edge58\" class=\"edge\">\n<title>block18&#45;&gt;block24</title>\n<path fill=\"none\" stroke=\"#609f60\" d=\"M1053.0523,-1021.2173C1094.5455,-1021.6495 1144.169,-1029.8424 1176.1643,-1061 1197.8191,-1082.0879 1226.483,-1285.6788 1236.5127,-1361.6252\"/>\n<polygon fill=\"#609f60\" stroke=\"#609f60\" points=\"1233.0851,-1362.4066 1237.8543,-1371.8673 1240.0258,-1361.4974 1233.0851,-1362.4066\"/>\n<text text-anchor=\"middle\" x=\"1134.9402\" y=\"-1063.8\" font-family=\"Times,serif\" font-size=\"14.00\" fill=\"#000000\">bs*5*5*24</text>\n</g>\n<!-- block19&#45;&gt;block25 -->\n<g id=\"edge66\" class=\"edge\">\n<title>block19&#45;&gt;block25</title>\n<path fill=\"none\" stroke=\"#bf8060\" d=\"M996.3862,-778.1214C1032.9555,-816.2281 1118.3448,-908.3871 1176.1643,-996 1197.3747,-1028.1397 1216.6333,-1068.2305 1228.361,-1094.4427\"/>\n<polygon fill=\"#bf8060\" stroke=\"#bf8060\" points=\"1225.2352,-1096.0287 1232.4754,-1103.7637 1231.6391,-1093.2019 1225.2352,-1096.0287\"/>\n<text text-anchor=\"middle\" x=\"1134.9402\" y=\"-998.8\" font-family=\"Times,serif\" font-size=\"14.00\" fill=\"#000000\">bs*5*5*126</text>\n</g>\n<!-- T6&#45;&gt;block18 -->\n<!-- block20&#45;&gt;block21 -->\n<g id=\"edge43\" class=\"edge\">\n<title>block20&#45;&gt;block21</title>\n<path fill=\"none\" stroke=\"#ffffff\" d=\"M978.716,-647.9378C978.716,-574.1169 978.716,-500.296 978.716,-426.475\"/>\n<polygon fill=\"#ffffff\" stroke=\"#ffffff\" points=\"982.2161,-426.0586 978.716,-416.0586 975.2161,-426.0586 982.2161,-426.0586\"/>\n</g>\n<!-- block20&#45;&gt;block24 -->\n<g id=\"edge59\" class=\"edge\">\n<title>block20&#45;&gt;block24</title>\n<path fill=\"none\" stroke=\"#609f60\" d=\"M1013.2045,-684.093C1029.6986,-693.6064 1049.1839,-706.1607 1064.716,-720 1123.8359,-772.6765 1145.5252,-785.9849 1176.1643,-859 1229.8544,-986.9473 1196.5286,-1031.2452 1213.1643,-1169 1221.5413,-1238.3676 1231.5502,-1319.9619 1236.7096,-1361.9298\"/>\n<polygon fill=\"#609f60\" stroke=\"#609f60\" points=\"1233.2479,-1362.4566 1237.9424,-1371.9546 1240.1956,-1361.6021 1233.2479,-1362.4566\"/>\n<text text-anchor=\"middle\" x=\"1134.9402\" y=\"-861.8\" font-family=\"Times,serif\" font-size=\"14.00\" fill=\"#000000\">bs*3*3*16</text>\n</g>\n<!-- block21&#45;&gt;block25 -->\n<g id=\"edge67\" class=\"edge\">\n<title>block21&#45;&gt;block25</title>\n<path fill=\"none\" stroke=\"#bf8060\" d=\"M993.5697,-416.0334C1031.0344,-462.5674 1129.6927,-591.8268 1176.1643,-717 1226.2709,-851.9643 1237.1515,-1026.4473 1239.5116,-1093.7768\"/>\n<polygon fill=\"#bf8060\" stroke=\"#bf8060\" points=\"1236.0204,-1094.1145 1239.8319,-1104 1243.0169,-1093.8952 1236.0204,-1094.1145\"/>\n<text text-anchor=\"middle\" x=\"1134.9402\" y=\"-719.8\" font-family=\"Times,serif\" font-size=\"14.00\" fill=\"#000000\">bs*3*3*84</text>\n</g>\n<!-- T7&#45;&gt;block20 -->\n<!-- block22&#45;&gt;block23 -->\n<g id=\"edge48\" class=\"edge\">\n<title>block22&#45;&gt;block23</title>\n<path fill=\"none\" stroke=\"#ffffff\" d=\"M978.716,-285.9378C978.716,-212.1169 978.716,-138.296 978.716,-64.475\"/>\n<polygon fill=\"#ffffff\" stroke=\"#ffffff\" points=\"982.2161,-64.0586 978.716,-54.0586 975.2161,-64.0586 982.2161,-64.0586\"/>\n</g>\n<!-- block22&#45;&gt;block24 -->\n<g id=\"edge60\" class=\"edge\">\n<title>block22&#45;&gt;block24</title>\n<path fill=\"none\" stroke=\"#609f60\" d=\"M1015.0701,-322.1806C1031.4153,-331.4663 1050.2401,-343.8051 1064.716,-358 1129.2222,-421.2541 1147.8331,-442.2127 1176.1643,-528 1220.9079,-663.4844 1200.3951,-1026.891 1213.1643,-1169 1219.4174,-1238.5912 1230.3017,-1320.0933 1236.1592,-1361.9877\"/>\n<polygon fill=\"#609f60\" stroke=\"#609f60\" points=\"1232.708,-1362.5797 1237.5683,-1371.9939 1239.6396,-1361.6036 1232.708,-1362.5797\"/>\n<text text-anchor=\"middle\" x=\"1134.9402\" y=\"-530.8\" font-family=\"Times,serif\" font-size=\"14.00\" fill=\"#000000\">bs*1*1*16</text>\n</g>\n<!-- block23&#45;&gt;block25 -->\n<g id=\"edge68\" class=\"edge\">\n<title>block23&#45;&gt;block25</title>\n<path fill=\"none\" stroke=\"#bf8060\" d=\"M994.1131,-54.169C1032.8529,-101.0873 1134.2567,-231.6297 1176.1643,-360 1222.01,-500.4334 1236.5129,-972.586 1239.5201,-1093.5672\"/>\n<polygon fill=\"#bf8060\" stroke=\"#bf8060\" points=\"1236.0279,-1093.9378 1239.7687,-1103.8502 1243.0258,-1093.7685 1236.0279,-1093.9378\"/>\n<text text-anchor=\"middle\" x=\"1134.9402\" y=\"-362.8\" font-family=\"Times,serif\" font-size=\"14.00\" fill=\"#000000\">bs*1*1*84</text>\n</g>\n<!-- T8&#45;&gt;block22 -->\n<!-- block26 -->\n<g id=\"node39\" class=\"node\">\n<title>block26</title>\n<polygon fill=\"#f1cfcd\" stroke=\"#a25954\" points=\"1456.6125,-1408 1402.6125,-1408 1402.6125,-1372 1456.6125,-1372 1456.6125,-1408\"/>\n<text text-anchor=\"middle\" x=\"1429.6125\" y=\"-1387.4154\" font-family=\"Fira Code Retina\" font-size=\"14.00\" fill=\"#000000\">view</text>\n</g>\n<!-- block24&#45;&gt;block26 -->\n<g id=\"edge73\" class=\"edge\">\n<title>block24&#45;&gt;block26</title>\n<path fill=\"none\" stroke=\"#ac5553\" d=\"M1254.0613,-1408.1813C1262.1201,-1417.4065 1273.0564,-1427.9198 1285.1643,-1434 1292.8042,-1437.8365 1295.6414,-1436.3313 1304.1643,-1437 1339.8343,-1439.7987 1352.6381,-1450.0566 1384.6125,-1434 1393.5043,-1429.5348 1401.7641,-1422.6789 1408.7165,-1415.6981\"/>\n<polygon fill=\"#ac5553\" stroke=\"#ac5553\" points=\"1411.4625,-1417.885 1415.7155,-1408.1813 1406.3395,-1413.1149 1411.4625,-1417.885\"/>\n<text text-anchor=\"middle\" x=\"1334.8884\" y=\"-1444.8\" font-family=\"Times,serif\" font-size=\"14.00\" fill=\"#000000\">bs*46480</text>\n</g>\n<!-- T11 -->\n<!-- block24&#45;&gt;T11 -->\n<!-- T9&#45;&gt;block24 -->\n<!-- block27 -->\n<g id=\"node40\" class=\"node\">\n<title>block27</title>\n<polygon fill=\"#f1cfcd\" stroke=\"#a25954\" points=\"1456.6125,-1140 1402.6125,-1140 1402.6125,-1104 1456.6125,-1104 1456.6125,-1140\"/>\n<text text-anchor=\"middle\" x=\"1429.6125\" y=\"-1119.4154\" font-family=\"Fira Code Retina\" font-size=\"14.00\" fill=\"#000000\">view</text>\n</g>\n<!-- block25&#45;&gt;block27 -->\n<g id=\"edge74\" class=\"edge\">\n<title>block25&#45;&gt;block27</title>\n<path fill=\"none\" stroke=\"#ac5553\" d=\"M1254.0613,-1140.1813C1262.1201,-1149.4065 1273.0564,-1159.9198 1285.1643,-1166 1302.6304,-1174.771 1344.784,-1170.6342 1365.6125,-1169 1374.1354,-1168.3313 1376.9727,-1169.8365 1384.6125,-1166 1393.5043,-1161.5348 1401.7641,-1154.6789 1408.7165,-1147.6981\"/>\n<polygon fill=\"#ac5553\" stroke=\"#ac5553\" points=\"1411.4625,-1149.885 1415.7155,-1140.1813 1406.3395,-1145.1149 1411.4625,-1149.885\"/>\n<text text-anchor=\"middle\" x=\"1334.8884\" y=\"-1173.8\" font-family=\"Times,serif\" font-size=\"14.00\" fill=\"#000000\">bs*244020</text>\n</g>\n<!-- T12 -->\n<!-- block25&#45;&gt;T12 -->\n<!-- T10&#45;&gt;block25 -->\n<!-- block28 -->\n<g id=\"node43\" class=\"node\">\n<title>block28</title>\n<polygon fill=\"#f1cfcd\" stroke=\"#a25954\" points=\"1659.5481,-1408 1605.5481,-1408 1605.5481,-1372 1659.5481,-1372 1659.5481,-1408\"/>\n<text text-anchor=\"middle\" x=\"1632.5481\" y=\"-1387.4154\" font-family=\"Fira Code Retina\" font-size=\"14.00\" fill=\"#000000\">loc</text>\n</g>\n<!-- block26&#45;&gt;block28 -->\n<g id=\"edge79\" class=\"edge\">\n<title>block26&#45;&gt;block28</title>\n<path fill=\"none\" stroke=\"#ac5553\" d=\"M1443.5095,-1408.1813C1451.5684,-1417.4065 1462.5046,-1427.9198 1474.6125,-1434 1482.2524,-1437.8365 1485.0897,-1436.3313 1493.6125,-1437 1535.255,-1440.2673 1550.2199,-1452.7451 1587.5481,-1434 1596.4398,-1429.5348 1604.6997,-1422.6789 1611.6521,-1415.6981\"/>\n<polygon fill=\"#ac5553\" stroke=\"#ac5553\" points=\"1614.3981,-1417.885 1618.6511,-1408.1813 1609.275,-1413.1149 1614.3981,-1417.885\"/>\n<text text-anchor=\"middle\" x=\"1531.0803\" y=\"-1446.8\" font-family=\"Times,serif\" font-size=\"14.00\" fill=\"#000000\">bs*11620*4</text>\n</g>\n<!-- T13 -->\n<!-- block26&#45;&gt;T13 -->\n<!-- block29 -->\n<g id=\"node44\" class=\"node\">\n<title>block29</title>\n<polygon fill=\"#f1cfcd\" stroke=\"#a25954\" points=\"1659.5481,-1140 1605.5481,-1140 1605.5481,-1104 1659.5481,-1104 1659.5481,-1140\"/>\n<text text-anchor=\"middle\" x=\"1632.5481\" y=\"-1119.4154\" font-family=\"Fira Code Retina\" font-size=\"14.00\" fill=\"#000000\">conf</text>\n</g>\n<!-- block27&#45;&gt;block29 -->\n<g id=\"edge80\" class=\"edge\">\n<title>block27&#45;&gt;block29</title>\n<path fill=\"none\" stroke=\"#ac5553\" d=\"M1443.5095,-1140.1813C1451.5684,-1149.4065 1462.5046,-1159.9198 1474.6125,-1166 1494.554,-1176.014 1527.8481,-1172.1934 1568.5481,-1169 1577.0709,-1168.3313 1579.9082,-1169.8365 1587.5481,-1166 1596.4398,-1161.5348 1604.6997,-1154.6789 1611.6521,-1147.6981\"/>\n<polygon fill=\"#ac5553\" stroke=\"#ac5553\" points=\"1614.3981,-1149.885 1618.6511,-1140.1813 1609.275,-1145.1149 1614.3981,-1149.885\"/>\n<text text-anchor=\"middle\" x=\"1531.0803\" y=\"-1174.8\" font-family=\"Times,serif\" font-size=\"14.00\" fill=\"#000000\">bs*11620*21</text>\n</g>\n<!-- T14 -->\n<!-- block27&#45;&gt;T14 -->\n<!-- T11&#45;&gt;block26 -->\n<!-- T12&#45;&gt;block27 -->\n<!-- T13&#45;&gt;block28 -->\n<!-- T14&#45;&gt;block29 -->\n</g>\n</svg>\n"
     },
     "metadata": {},
     "output_type": "execute_result",
     "execution_count": 1
    }
   ],
   "source": [
    "import graphviz\n",
    "\n",
    "FONT_NAME = \"Fira Code Retina\"\n",
    "graph = graphviz.Digraph(name=\"SSD\", format='png', node_attr={'shape': 'plaintext'}, edge_attr = {\"constraint\":\"false\"})\n",
    "graph.attr(rankdir=\"LR\", ranksep=\"0.5\", nodesep=\"0.8\", pad=\"0.3\")\n",
    "\n",
    "with graph.subgraph(name=\"cluster1\") as sub1:\n",
    "    sub1.attr(color=\"#E3E5EF\", bgcolor=\"#F9FAFE\")\n",
    "    with graph.subgraph() as s:\n",
    "        s.node('block1', '''<\n",
    "                    <table border=\"0\" CELLBORDER=\"1\" CELLSPACING=\"0\" bgcolor=\"#E4E7EB\" color=\"#ACC7D2\">\n",
    "                    <tr><td>Conv</td><td>64 k3*3 p1</td></tr>\n",
    "                    <tr><td>LeakReLU</td><td>0.1</td></tr>\n",
    "                    <tr><td>Conv</td><td>64 k3*3 p1</td></tr>\n",
    "                    <tr><td>LeakReLU</td><td>0.1</td></tr>\n",
    "                    <tr><td>MaxPool</td><td>k2*2 s2*2</td></tr>\n",
    "                    <tr><td>Conv</td><td>128 k3*3 p1</td></tr>\n",
    "                    <tr><td>LeakyReLU</td><td>0.1</td></tr>\n",
    "                    <tr><td>Conv</td><td>128 k3*3 p1</td></tr>\n",
    "                    <tr><td>LeakyReLU</td><td>0.1</td></tr>\n",
    "                    <tr><td>MaxPool</td><td>k2*2 s2*2</td></tr>\n",
    "                    <tr><td>Conv</td><td>256 k3*3 p1</td></tr>\n",
    "                    <tr><td>LeakyReLU</td><td>0.1</td></tr>\n",
    "                    <tr><td>Conv</td><td>256 k3*3 p1</td></tr>\n",
    "                    <tr><td>LeakyReLU</td><td>0.1</td></tr>\n",
    "                    <tr><td>Conv</td><td>256 k3*3 p1</td></tr>\n",
    "                    <tr><td>LeakyReLU</td><td>0.1</td></tr>\n",
    "                    <tr><td>MaxPool</td><td>k2*2 s2*2 cT</td></tr>\n",
    "                    <tr><td>Conv</td><td>512 k3*3 p1</td></tr>\n",
    "                    <tr><td>LeakyReLU</td><td>0.1</td></tr>\n",
    "                    <tr><td>Conv</td><td>512 k3*3 p1</td></tr>\n",
    "                    <tr><td>LeakyReLU</td><td>0.1</td></tr>\n",
    "                    <tr><td>Conv</td><td>512 k3*3 p1</td></tr>\n",
    "                    <tr><td>LeakyReLU</td><td>0.1</td></tr>\n",
    "                    </table>\n",
    "                    >''', fontname=FONT_NAME)\n",
    "        s.node('block5', '''<\n",
    "                    <table border=\"0\" CELLBORDER=\"1\" CELLSPACING=\"0\" bgcolor=\"#E6ECE5\" color=\"#A2BBA0\">\n",
    "                    <tr><td>MaxPool</td><td>k2*2 s2*2</td></tr>\n",
    "                    <tr><td>Conv</td><td>512 k3*3 p1</td></tr>\n",
    "                    <tr><td>LeakyReLU</td><td>0.1</td></tr>\n",
    "                    <tr><td>Conv</td><td>512 k3*3 p1</td></tr>\n",
    "                    <tr><td>LeakyReLU</td><td>0.1</td></tr>\n",
    "                    <tr><td>Conv</td><td>512 k3*3 p1</td></tr>\n",
    "                    <tr><td>LeakyReLU</td><td>0.1</td></tr>\n",
    "                    <tr><td>MaxPool</td><td>k2*2 s2*2 p1</td></tr>\n",
    "                    <tr><td>Conv</td><td>1024 k3*3 p6 d6</td></tr>\n",
    "                    <tr><td>LeakReLU</td><td>0.1</td></tr>\n",
    "                    <tr><td>Conv</td><td>1024</td></tr>\n",
    "                    <tr><td>LeakReLU</td><td>0.1</td></tr>\n",
    "                    </table>\n",
    "                    >''', fontname=FONT_NAME)\n",
    "    sub1.edge(\"block1\", \"block5\", color=\"#7D88C7\", label=\"bs*512*38*38\", fontname=FONT_NAME)\n",
    "    sub1.attr(label=\"Main\", fontsize=\"24\", fontcolor=\"#AA4936\", fontname=FONT_NAME, nodesep=\"0.1\")\n",
    "\n",
    "graph.node('img', shape=\"doublecircle\", color=\"grey\", fontname=FONT_NAME)\n",
    "graph.edge(\"img\", \"block1\", label=\"bs*3*300*300\", color=\"#AC5553\", fontname=FONT_NAME)\n",
    "\n",
    "with graph.subgraph(name=\"cluster2\") as sub2:\n",
    "    sub2.attr(color=\"#E4ECE0\", bgcolor=\"#F7FBF7\")\n",
    "    with graph.subgraph() as s:\n",
    "        s.node('block8', '''<\n",
    "                    <table border=\"0\" CELLBORDER=\"1\" CELLSPACING=\"0\" bgcolor=\"#E4E7EB\" color=\"#ACC7D2\">\n",
    "                    <tr><td>Conv</td><td>256</td></tr>\n",
    "                    <tr><td>Conv</td><td>512 k3*3 s2*2 p1</td></tr>\n",
    "                    <tr><td>ReLU</td><td></td></tr>\n",
    "                    </table>\n",
    "                    >''', fontname=FONT_NAME)\n",
    "        s.node('block9', '''<\n",
    "                        <table border=\"0\" CELLBORDER=\"1\" CELLSPACING=\"0\" bgcolor=\"#F1E3DD\" color=\"#DDBF9A\">\n",
    "                        <tr><td>Conv</td><td>128</td></tr>\n",
    "                        <tr><td>Conv</td><td>256 k3*3 s2*2 p1</td></tr>\n",
    "                        <tr><td>ReLU</td><td></td></tr>\n",
    "                        </table>\n",
    "                        >''', fontname=FONT_NAME)\n",
    "        s.node('block10', '''<\n",
    "                        <table border=\"0\" CELLBORDER=\"1\" CELLSPACING=\"0\" bgcolor=\"#E9E1F0\" color=\"#A592C5\">\n",
    "                        <tr><td>Conv</td><td>128</td></tr>\n",
    "                        <tr><td>Conv</td><td>256 k3*3</td></tr>\n",
    "                        <tr><td>ReLU</td><td></td></tr>\n",
    "                        </table>\n",
    "                        >''', fontname=FONT_NAME)\n",
    "        s.node('block11', '''<\n",
    "                    <table border=\"0\" CELLBORDER=\"1\" CELLSPACING=\"0\" bgcolor=\"#E6ECE5\" color=\"#A2BBA0\">\n",
    "                    <tr><td>Conv</td><td>128</td></tr>\n",
    "                    <tr><td>Conv</td><td>256 k3*3</td></tr>\n",
    "                    <tr><td>ReLU</td><td></td></tr>\n",
    "                    </table>\n",
    "                    >''', fontname=FONT_NAME)\n",
    "    sub2.edge(\"block8\", \"block9\", color=\"#7D88C7\", label=\"bs*512*10*10\", linewidth='10', fontname=FONT_NAME)\n",
    "    sub2.edge(\"block9\", \"block10\", color=\"#7D88C7\", label=\"bs*512*5*5\", fontname=FONT_NAME)\n",
    "    sub2.edge(\"block10\", \"block11\", color=\"#7D88C7\", label=\"bs*512*3*3\", fontname=FONT_NAME)\n",
    "    sub2.attr(label=\"Extension\", fontsize=\"24\", fontcolor=\"#AA4936\", fontname=FONT_NAME)\n",
    "\n",
    "graph.edge(\"block5\", \"block8\", color=\"#AC5553\", label=\"bs*1024*19*19\", fontname=FONT_NAME)\n",
    "\n",
    "graph.node(\"L2Norm\", shape=\"box\", label=\"L2Norm\", color=\"#A2BBA0\", style=\"filled\", fillcolor=\"#E6ECE5\", fontname=FONT_NAME)\n",
    "graph.node(\"T1\", style=\"invis\")\n",
    "graph.edge(\"block1\", \"T1\", constraint=\"true\", style=\"invis\")\n",
    "graph.edge(\"T1\", \"L2Norm\", constraint=\"true\", style=\"invis\")\n",
    "graph.edge(\"block1\", \"L2Norm\", color =\"#AC5553\", label=\"bs*512*38*38\")\n",
    "\n",
    "with graph.subgraph(name=\"cluster3\") as sub3:\n",
    "    sub3.attr(color=\"#E3E5EF\", bgcolor=\"#F9FAFE\")\n",
    "    with graph.subgraph() as s:\n",
    "        s.node(\"sources1\", shape=\"box\", label=\"sources1\", color=\"#A25954\", style=\"filled\", fillcolor=\"#F1CFCD\",\n",
    "               fontname=FONT_NAME)\n",
    "        s.node(\"sources2\", shape=\"box\", label=\"sources2\", color=\"#A25954\", style=\"filled\", fillcolor=\"#F1CFCD\",\n",
    "               fontname=FONT_NAME)\n",
    "        s.node(\"sources3\", shape=\"box\", label=\"sources3\", color=\"#A25954\", style=\"filled\", fillcolor=\"#F1CFCD\",\n",
    "               fontname=FONT_NAME)\n",
    "        s.node(\"sources4\", shape=\"box\", label=\"sources4\", color=\"#A25954\", style=\"filled\", fillcolor=\"#F1CFCD\",\n",
    "               fontname=FONT_NAME)\n",
    "        s.node(\"sources5\", shape=\"box\", label=\"sources5\", color=\"#A25954\", style=\"filled\", fillcolor=\"#F1CFCD\",\n",
    "               fontname=FONT_NAME)\n",
    "        s.node(\"sources6\", shape=\"box\", label=\"sources6\", color=\"#A25954\", style=\"filled\", fillcolor=\"#F1CFCD\",\n",
    "               fontname=FONT_NAME)\n",
    "    sub3.edge(\"sources1\", \"sources2\", color =\"white\")\n",
    "    sub3.edge(\"sources2\", \"sources3\", color =\"white\")\n",
    "    sub3.edge(\"sources3\", \"sources4\", color =\"white\")\n",
    "    sub3.edge(\"sources4\", \"sources5\", color =\"white\")\n",
    "    sub3.edge(\"sources5\", \"sources6\", color =\"white\")\n",
    "graph.node(\"T2\", style=\"invis\")\n",
    "graph.edge(\"L2Norm\", \"T2\", constraint=\"true\", style=\"invis\")\n",
    "graph.edge(\"T2\", \"sources1\", constraint=\"true\", style=\"invis\")\n",
    "\n",
    "graph.edge(\"L2Norm\", \"sources1\", color =\"#AC5553\", label=\"bs*512*38*38\")\n",
    "graph.edge(\"block5\", \"sources2\", color =\"#AC5553\", label=\"bs*1024*19*19\")\n",
    "graph.edge(\"block8\", \"sources3\", color =\"#AC5553\", label=\"bs*512*10*10\")\n",
    "graph.edge(\"block9\", \"sources4\", color =\"#AC5553\", label=\"bs*512*5*5\")\n",
    "graph.edge(\"block10\", \"sources5\", color =\"#AC5553\", label=\"bs*512*3*3\")\n",
    "graph.edge(\"block11\", \"sources6\", color =\"#AC5553\", label=\"bs*256*1*1\")\n",
    "\n",
    "with graph.subgraph(name=\"cluster4\") as sub4:\n",
    "    sub4.attr(color=\"#E4ECE0\", bgcolor=\"#F7FBF7\")\n",
    "    with graph.subgraph() as s:\n",
    "        s.node('block12', '''<\n",
    "                        <table border=\"0\" CELLBORDER=\"1\" CELLSPACING=\"0\" bgcolor=\"#E6ECE5\" color=\"#A2BBA0\">\n",
    "                        <tr><td>Conv</td><td>24 k3*3 p1</td></tr>\n",
    "                        </table>\n",
    "                        >''', fontname=FONT_NAME)\n",
    "        s.node('block13', '''<\n",
    "                        <table border=\"0\" CELLBORDER=\"1\" CELLSPACING=\"0\" bgcolor=\"#E6ECE5\" color=\"#A2BBA0\">\n",
    "                        <tr><td>Conv</td><td>126 k3*3 p1</td></tr>\n",
    "                        </table>\n",
    "                        >''', fontname=FONT_NAME)\n",
    "    sub4.edge(\"block12\", \"block13\", color=\"#FFFFFF\")\n",
    "graph.node(\"T3\", style=\"invis\")\n",
    "graph.edge(\"sources1\", \"T3\", constraint=\"true\", style=\"invis\")\n",
    "graph.edge(\"T3\", \"block12\", constraint=\"true\", style=\"invis\")\n",
    "graph.edge(\"sources1\", \"block12\", color =\"#AC5553\", label=\"bs*512*38*38\")\n",
    "graph.edge(\"sources1\", \"block13\", color =\"#AC5553\", label=\"bs*512*38*38\")\n",
    "\n",
    "with graph.subgraph(name=\"cluster5\") as sub5:\n",
    "    sub5.attr(color=\"#E4ECE0\", bgcolor=\"#F7FBF7\")\n",
    "    with graph.subgraph() as s:\n",
    "        s.node('block14', '''<\n",
    "                        <table border=\"0\" CELLBORDER=\"1\" CELLSPACING=\"0\" bgcolor=\"#E6ECE5\" color=\"#A2BBA0\">\n",
    "                        <tr><td>Conv</td><td>24 k3*3 p1</td></tr>\n",
    "                        </table>\n",
    "                        >''', fontname=FONT_NAME)\n",
    "        s.node('block15', '''<\n",
    "                        <table border=\"0\" CELLBORDER=\"1\" CELLSPACING=\"0\" bgcolor=\"#E6ECE5\" color=\"#A2BBA0\">\n",
    "                        <tr><td>Conv</td><td>126 k3*3 p1</td></tr>\n",
    "                        </table>\n",
    "                        >''', fontname=FONT_NAME)\n",
    "    sub5.edge(\"block14\", \"block15\", color=\"#FFFFFF\")\n",
    "graph.node(\"T4\", style=\"invis\")\n",
    "graph.edge(\"sources2\", \"T4\", constraint=\"true\", style=\"invis\")\n",
    "graph.edge(\"T4\", \"block14\", constraint=\"true\", style=\"invis\")\n",
    "graph.edge(\"sources2\", \"block14\", color =\"#AC5553\", label=\"bs*1024*19*19\")\n",
    "graph.edge(\"sources2\", \"block15\", color =\"#AC5553\", label=\"bs*1024*19*19\")\n",
    "\n",
    "with graph.subgraph(name=\"cluster6\") as sub6:\n",
    "    sub6.attr(color=\"#E4ECE0\", bgcolor=\"#F7FBF7\")\n",
    "    with graph.subgraph() as s:\n",
    "        s.node('block16', '''<\n",
    "                        <table border=\"0\" CELLBORDER=\"1\" CELLSPACING=\"0\" bgcolor=\"#E6ECE5\" color=\"#A2BBA0\">\n",
    "                        <tr><td>Conv</td><td>24 k3*3 p1</td></tr>\n",
    "                        </table>\n",
    "                        >''', fontname=FONT_NAME)\n",
    "        s.node('block17', '''<\n",
    "                        <table border=\"0\" CELLBORDER=\"1\" CELLSPACING=\"0\" bgcolor=\"#E6ECE5\" color=\"#A2BBA0\">\n",
    "                        <tr><td>Conv</td><td>126 k3*3 p1</td></tr>\n",
    "                        </table>\n",
    "                        >''', fontname=FONT_NAME)\n",
    "    sub6.edge(\"block16\", \"block17\", color=\"#FFFFFF\")\n",
    "graph.node(\"T5\", style=\"invis\")\n",
    "graph.edge(\"sources3\", \"T5\", constraint=\"true\", style=\"invis\")\n",
    "graph.edge(\"T5\", \"block16\", constraint=\"true\", style=\"invis\")\n",
    "graph.edge(\"sources3\", \"block16\", color =\"#AC5553\", label=\"bs*512*10*10\")\n",
    "graph.edge(\"sources3\", \"block17\", color =\"#AC5553\", label=\"bs*512*10*10\")\n",
    "\n",
    "with graph.subgraph(name=\"cluster7\") as sub7:\n",
    "    sub7.attr(color=\"#E4ECE0\", bgcolor=\"#F7FBF7\")\n",
    "    with graph.subgraph() as s:\n",
    "        s.node('block18', '''<\n",
    "                        <table border=\"0\" CELLBORDER=\"1\" CELLSPACING=\"0\" bgcolor=\"#E6ECE5\" color=\"#A2BBA0\">\n",
    "                        <tr><td>Conv</td><td>24 k3*3 p1</td></tr>\n",
    "                        </table>\n",
    "                        >''', fontname=FONT_NAME)\n",
    "        s.node('block19', '''<\n",
    "                        <table border=\"0\" CELLBORDER=\"1\" CELLSPACING=\"0\" bgcolor=\"#E6ECE5\" color=\"#A2BBA0\">\n",
    "                        <tr><td>Conv</td><td>126 k3*3 p1</td></tr>\n",
    "                        </table>\n",
    "                        >''', fontname=FONT_NAME)\n",
    "    sub7.edge(\"block18\", \"block19\", color=\"#FFFFFF\")\n",
    "graph.node(\"T6\", style=\"invis\")\n",
    "graph.edge(\"sources4\", \"T6\", constraint=\"true\", style=\"invis\")\n",
    "graph.edge(\"T6\", \"block18\", constraint=\"true\", style=\"invis\")\n",
    "graph.edge(\"sources4\", \"block18\", color =\"#AC5553\", label=\"bs*512*5*5\")\n",
    "graph.edge(\"sources4\", \"block19\", color =\"#AC5553\", label=\"bs*512*5*5\")\n",
    "\n",
    "with graph.subgraph(name=\"cluster8\") as sub8:\n",
    "    sub8.attr(color=\"#E4ECE0\", bgcolor=\"#F7FBF7\")\n",
    "    with graph.subgraph() as s:\n",
    "        s.node('block20', '''<\n",
    "                        <table border=\"0\" CELLBORDER=\"1\" CELLSPACING=\"0\" bgcolor=\"#E6ECE5\" color=\"#A2BBA0\">\n",
    "                        <tr><td>Conv</td><td>16 k3*3 p1</td></tr>\n",
    "                        </table>\n",
    "                        >''', fontname=FONT_NAME)\n",
    "        s.node('block21', '''<\n",
    "                        <table border=\"0\" CELLBORDER=\"1\" CELLSPACING=\"0\" bgcolor=\"#E6ECE5\" color=\"#A2BBA0\">\n",
    "                        <tr><td>Conv</td><td>84 k3*3 p1</td></tr>\n",
    "                        </table>\n",
    "                        >''', fontname=FONT_NAME)\n",
    "    sub8.edge(\"block20\", \"block21\", color=\"#FFFFFF\")\n",
    "graph.node(\"T7\", style=\"invis\")\n",
    "graph.edge(\"sources5\", \"T7\", constraint=\"true\", style=\"invis\")\n",
    "graph.edge(\"T7\", \"block20\", constraint=\"true\", style=\"invis\")\n",
    "graph.edge(\"sources5\", \"block20\", color =\"#AC5553\", label=\"bs*512*3*3\")\n",
    "graph.edge(\"sources5\", \"block21\", color =\"#AC5553\", label=\"bs*512*3*3\")\n",
    "\n",
    "with graph.subgraph(name=\"cluster9\") as sub9:\n",
    "    sub9.attr(color=\"#E4ECE0\", bgcolor=\"#F7FBF7\")\n",
    "    with graph.subgraph() as s:\n",
    "        s.node('block22', '''<\n",
    "                        <table border=\"0\" CELLBORDER=\"1\" CELLSPACING=\"0\" bgcolor=\"#E6ECE5\" color=\"#A2BBA0\">\n",
    "                        <tr><td>Conv</td><td>16 k3*3 p1</td></tr>\n",
    "                        </table>\n",
    "                        >''', fontname=FONT_NAME)\n",
    "        s.node('block23', '''<\n",
    "                        <table border=\"0\" CELLBORDER=\"1\" CELLSPACING=\"0\" bgcolor=\"#E6ECE5\" color=\"#A2BBA0\">\n",
    "                        <tr><td>Conv</td><td>84 k3*3 p1</td></tr>\n",
    "                        </table>\n",
    "                        >''', fontname=FONT_NAME)\n",
    "    sub9.edge(\"block22\", \"block23\", color=\"#FFFFFF\")\n",
    "graph.node(\"T8\", style=\"invis\")\n",
    "graph.edge(\"sources6\", \"T8\", constraint=\"true\", style=\"invis\")\n",
    "graph.edge(\"T8\", \"block22\", constraint=\"true\", style=\"invis\")\n",
    "graph.edge(\"sources6\", \"block22\", color =\"#AC5553\", label=\"bs*256*1*1\")\n",
    "graph.edge(\"sources6\", \"block23\", color =\"#AC5553\", label=\"bs*256*1*1\")\n",
    "\n",
    "graph.node(\"block24\", shape=\"box\", label=\"cat\",color = \"#A25954\", style = \"filled\", fillcolor = \"#F1CFCD\", fontname=FONT_NAME)\n",
    "graph.node(\"T9\", style=\"invis\")\n",
    "graph.edge(\"block16\", \"T9\", constraint=\"true\", style=\"invis\")\n",
    "graph.edge(\"T9\", \"block24\", constraint=\"true\", style=\"invis\")\n",
    "\n",
    "graph.edge(\"block12\", \"block24\", color=\"#609f60\", label=\"bs*38*38*24\")\n",
    "graph.edge(\"block14\", \"block24\", color=\"#609f60\", label=\"bs*19*19*24\")\n",
    "graph.edge(\"block16\", \"block24\", color=\"#609f60\", label=\"bs*10*10*24\")\n",
    "graph.edge(\"block18\", \"block24\", color=\"#609f60\", label=\"bs*5*5*24\")\n",
    "graph.edge(\"block20\", \"block24\", color=\"#609f60\", label=\"bs*3*3*16\")\n",
    "graph.edge(\"block22\", \"block24\", color=\"#609f60\", label=\"bs*1*1*16\")\n",
    "\n",
    "graph.node(\"block25\", shape=\"box\", label=\"cat\",color = \"#A25954\", style = \"filled\", fillcolor = \"#F1CFCD\", fontname=FONT_NAME)\n",
    "graph.node(\"T10\", style=\"invis\")\n",
    "graph.edge(\"block17\", \"T10\", constraint=\"true\", style=\"invis\")\n",
    "graph.edge(\"T10\", \"block25\", constraint=\"true\", style=\"invis\")\n",
    "\n",
    "graph.edge(\"block13\", \"block25\", color=\"#BF8060\", label=\"bs*38*38*126\")\n",
    "graph.edge(\"block15\", \"block25\", color=\"#BF8060\", label=\"bs*19*19*126\")\n",
    "graph.edge(\"block17\", \"block25\", color=\"#BF8060\", label=\"bs*10*10*126\")\n",
    "graph.edge(\"block19\", \"block25\", color=\"#BF8060\", label=\"bs*5*5*126\")\n",
    "graph.edge(\"block21\", \"block25\", color=\"#BF8060\", label=\"bs*3*3*84\")\n",
    "graph.edge(\"block23\", \"block25\", color=\"#BF8060\", label=\"bs*1*1*84\")\n",
    "\n",
    "graph.node(\"block26\", shape=\"box\",color=\"#A25954\",style=\"filled\",fillcolor=\"#F1CFCD\",label=\"view\",    fontname=FONT_NAME)\n",
    "graph.node(\"block27\", shape=\"box\",color=\"#A25954\",style=\"filled\",fillcolor=\"#F1CFCD\",label=\"view\",    fontname=FONT_NAME)\n",
    "\n",
    "graph.node(\"T11\", style=\"invis\")\n",
    "graph.edge(\"block24\", \"T11\", constraint=\"true\", style=\"invis\")\n",
    "graph.edge(\"T11\", \"block26\", constraint=\"true\", style=\"invis\")\n",
    "\n",
    "graph.node(\"T12\", style=\"invis\")\n",
    "graph.edge(\"block25\", \"T12\", constraint=\"true\", style=\"invis\")\n",
    "graph.edge(\"T12\", \"block27\", constraint=\"true\", style=\"invis\")\n",
    "\n",
    "graph.edge(\"block24\", \"block26\", color=\"#AC5553\", label=\"bs*46480\")\n",
    "graph.edge(\"block25\", \"block27\", color=\"#AC5553\", label=\"bs*244020\")\n",
    "\n",
    "graph.node(\"block28\", shape=\"box\",color=\"#A25954\",style=\"filled\",fillcolor=\"#F1CFCD\",label=\"loc\",    fontname=FONT_NAME)\n",
    "graph.node(\"block29\", shape=\"box\",color=\"#A25954\",style=\"filled\",fillcolor=\"#F1CFCD\",label=\"conf\",    fontname=FONT_NAME)\n",
    "\n",
    "\n",
    "graph.node(\"T13\", style=\"invis\")\n",
    "graph.edge(\"block26\", \"T13\", constraint=\"true\", style=\"invis\")\n",
    "graph.edge(\"T13\", \"block28\", constraint=\"true\", style=\"invis\")\n",
    "\n",
    "graph.node(\"T14\", style=\"invis\")\n",
    "graph.edge(\"block27\", \"T14\", constraint=\"true\", style=\"invis\")\n",
    "graph.edge(\"T14\", \"block29\", constraint=\"true\", style=\"invis\")\n",
    "\n",
    "graph.edge(\"block26\", \"block28\", color=\"#AC5553\", label=\"bs*11620*4\")\n",
    "graph.edge(\"block27\", \"block29\", color=\"#AC5553\", label=\"bs*11620*21\")\n",
    "\n",
    "graph"
   ],
   "metadata": {
    "collapsed": false,
    "pycharm": {
     "name": "#%%\n",
     "is_executing": false
    }
   }
  },
  {
   "cell_type": "markdown",
   "source": [
    "对于主干网络(Main)来说，可以放入Vgg16，也可以放入Resnet等等网络。"
   ],
   "metadata": {
    "collapsed": false,
    "pycharm": {
     "name": "#%% md\n"
    }
   }
  }
 ],
 "metadata": {
  "language_info": {
   "codemirror_mode": {
    "name": "ipython",
    "version": 2
   },
   "file_extension": ".py",
   "mimetype": "text/x-python",
   "name": "python",
   "nbconvert_exporter": "python",
   "pygments_lexer": "ipython2",
   "version": "2.7.6"
  },
  "kernelspec": {
   "name": "python3",
   "language": "python",
   "display_name": "Python 3"
  },
  "pycharm": {
   "stem_cell": {
    "cell_type": "raw",
    "source": [],
    "metadata": {
     "collapsed": false
    }
   }
  }
 },
 "nbformat": 4,
 "nbformat_minor": 0
}