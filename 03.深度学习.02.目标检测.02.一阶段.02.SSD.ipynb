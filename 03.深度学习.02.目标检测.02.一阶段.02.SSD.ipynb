{
 "cells": [
  {
   "cell_type": "markdown",
   "source": [
    "目标检测之SSD\n",
    "==="
   ],
   "metadata": {
    "collapsed": false
   }
  },
  {
   "cell_type": "markdown",
   "source": [
    "# 1.什么是SSD\n",
    "SSD,Single Shot MultiBox Detector。Single Shot说明SSD算法是One-Stage算法，MultiBox指明了SSD是多框预测。SSD的速度与准确度都强于YOLO v1.相比Yolo，SSD采用CNN来直接进行检测，而不是像Yolo那样在全连接层之后做检测。其实采用卷积直接做检测只是SSD相比Yolo的其中一个不同点，另外还有两个重要的改变，一是SSD提取了不同尺度的特征图来做检测，大尺度特征图（较靠前的特征图）可以用来检测小物体，而小尺度特征图（较靠后的特征图）用来检测大物体；二是SSD采用了不同尺度和长宽比的先验框（Prior boxes, Default boxes，在Faster R-CNN中叫做锚，Anchors）。Yolo算法缺点是难以检测小目标，而且定位不准，但是这几点重要改进使得SSD在一定程度上克服这些缺点。"
   ],
   "metadata": {
    "collapsed": false
   }
  },
  {
   "cell_type": "markdown",
   "source": [
    "# 2.算法概述\n",
    "总体思路就是，保存六个层次的特征图:$38 \\times 38$，$19 \\times 19$，$10 \\times 10$，$5 \\times 5$，$3 \\times 3$，$1 \\times 1$，然后经过一定的计算将这些特征图分成两支，一支负责预测location(shape=BS,8732,4)，一支负责预测conf(shape=BS,8732,21)。这两支再加上通过公式计算出来的先验框Priors(shape=8732,4)一起组成pred和target进行MultiLoss计算。Loss的计算同样也是分开Loc和Conf两部分，首先找到每个Ground truth box对应的的先验框，然后根据这个位置找到预测值中对应的预测值，同样也找到真实值中的对应位置的真实值，两者做Loss。"
   ],
   "metadata": {
    "collapsed": false
   }
  },
  {
   "cell_type": "markdown",
   "source": [
    "## 2.1.采用多尺度特征图用于检测\n",
    "其实就是采用金字塔网络。所谓多尺度采用大小不同的特征图，CNN网络一般前面的特征图比较大，后面会逐渐采用stride=2的卷积或者pool来降低特征图大小。一个比较大的特征图和一个比较小的特征图，它们都用来做检测。这样做的好处是比较大的特征图来用来检测相对较小的目标，而小的特征图负责检测大目标，如图4所示，8x8的特征图可以划分更多的单元，但是其每个单元的先验框尺度比较小。具体来说，就是检测$38 \\times 38$，$19 \\times 19$，$10 \\times 10$，$5 \\times 5$，$3 \\times 3$，$1 \\times 1$这六种大小的特征图。"
   ],
   "metadata": {
    "collapsed": false
   }
  },
  {
   "cell_type": "markdown",
   "source": [
    "## 2.2.采用卷积进行检测\n",
    "与Yolo最后采用全连接层不同，SSD直接采用卷积对不同的特征图来进行提取检测结果。对于形状为$m\\times n \\times p$的特征图，只需要采用$3\\times 3 \\times p$这样比较小的卷积核得到检测值。"
   ],
   "metadata": {
    "collapsed": false
   }
  },
  {
   "cell_type": "markdown",
   "source": [
    "## 2.3.设置先验框\n",
    "在Yolo中，每个单元预测多个边界框，但是其都是相对这个单元本身（正方块），但是真实目标的形状是多变的，Yolo需要在训练过程中自适应目标的形状。而SSD借鉴了Faster R-CNN中anchor的理念，每个单元设置尺度或者长宽比不同的先验框，预测的边界框（bounding boxes）是以这些先验框为基准的，在一定程度上减少训练难度。一般情况下，每个单元会设置多个先验框，其尺度和长宽比存在差异，目标分别采用最适合它们形状的先验框来进行训练\n",
    "\n",
    "### 2.3.1.先验框的匹配规则\n",
    "确定训练图片中的ground truth与哪个先验框来进行匹配，与之匹配的先验框所对应的边界框将负责预测它。在Yolo中，ground truth的中心落在哪个单元格，该单元格中与其IOU最大的边界框负责预测它。但是在SSD中却完全不一样，SSD的先验框与ground truth的匹配原则主要有两点\n",
    "1. 对于图片中每个ground truth，找到与其IOU最大的先验框，该先验框与其匹配，这样，可以保证每个ground truth一定与某个先验框匹配。通常称与ground truth匹配的先验框为正样本。若一个先验框没有与任何ground truth进行匹配，那么该先验框只能与背景匹配，就是负样本。\n",
    "2. 对于剩余的未匹配先验框，若某个ground truth的IOU大于某个阈值(一般是0.5)，那么该先验框也与这个ground truth进行匹配。\n",
    "\n",
    "第一个原则保证每个ground truth都有一个先验框与之相对应，也就是说都会存在正样本，但是这个原则会导致正样本极少，负样本极多，这样正负样本极不平衡。所以有了第二个原则。但是第二个会导致的一个结果就是一个ground truth有可能对应多个先验框，这是可以的。如果多个ground truth与某个先验框 \\text{IOU} 大于阈值，那么先验框只与IOU最大的那个先验框进行匹配。第二个原则一定在第一个原则之后进行。下图是一个匹配示意图，其中绿色的GT是ground truth，红色为先验框，FP表示负样本，TP表示正样本<br/>\n",
    "![images](Images/03/02/02_02_001.png)\n",
    "\n",
    "### 2.3.2.负样本的处理\n",
    "尽管一个ground truth可以与多个先验框匹配，但是ground truth相对先验框还是太少了，所以负样本相对正样本会很多。为了保证正负样本尽量平衡，SSD采用了hard negative mining，就是对负样本进行抽样，抽样时按照置信度误差（预测背景的置信度越小，误差越大）进行降序排列，选取误差的较大的top-k作为训练的负样本，以保证正负样本比例接近1:3。而对于正负样本数量不均衡的数据集(这里假设负样本数量圆圆大于正样本数量)，通常的做法有四种，可以参考[](../01.Basic/数据不均衡.ipynb)"
   ],
   "metadata": {
    "collapsed": false
   }
  },
  {
   "cell_type": "markdown",
   "source": [
    "具体来说，在$38 \\times 38$的特征图上通过$3 \\times 3$卷积层预测4个不同宽高比的box，$19 \\times 19$特征图上预测6个，$10 \\times 10$特征图预测6个，$5 \\times 5$特征图预测6个，$3 \\times 3$特征图预测4个，$1 \\times 1$特征图预测4个，所以就有$38 \\times 38 \\times 4+19 \\times 19 \\times 6+10 \\times 10 \\times 6+5 \\times 5 \\times 6+3 \\times 3 \\times 4+4 = 8732$，这个8732是最终预测框的个数,同时也是先验框的个数"
   ],
   "metadata": {
    "collapsed": false
   }
  },
  {
   "cell_type": "markdown",
   "source": [
    "## 2.4.anchor box的维度\n",
    "SSD300网络的输出是一个包含3个值的tuple\n",
    "1. Loc的信息，维度为?,8732,4\n",
    "2. conf置信度信息，维度为?,8732,21\n",
    "3. 概率信息，维度为8732,4\n",
    "\n",
    "8372是怎么来的？我们知道SSD是多尺度特征检测，其中在$38 \\times 38$的特征图上通过$3 \\times 3$卷积层预测4个不同宽高比的box，$19 \\times 19$特征图上预测6个，$10 \\times 10$特征图预测6个，$5 \\times 5$特征图预测6个，$3 \\times 3$特征图预测4个，$1 \\times 1$特征图预测4个，所以就有$38 \\times 38 \\times 4+19 \\times 19 \\times 6+10 \\times 10 \\times 6+5 \\times 5 \\times 6+3 \\times 3 \\times 4+4 = 8732$，这个8732是最终预测框的个数"
   ],
   "metadata": {
    "collapsed": false
   }
  },
  {
   "cell_type": "markdown",
   "source": [
    "## 2.5.anchor box的计算方法\n",
    "SSD300的输入图片是$300 \\times 300$的,无论特征图的尺寸多大，每个单元格的中心点的计算公式都是一样的，假设单元格的宽度为$\\omega_d$，单元格的横纵坐标为$(i,j)$.$(i,j)$一定是从零开始，并且等于特征图尺寸-1.那么当前单元格的中心点坐标就是$[\\frac{j+0.5}{\\omega_d}, \\frac{i+0.5}{\\omega_d}]$\n",
    "\n",
    "### 2.5.1.38*38的特征图\n",
    "单元格宽度为$\\omega_d=\\frac{300}{8}=37.5$。每个单元格上有4个default box，分为小正方形B1，大正方形B2，长方形B3，以及长方形B4，四个default box的中心点坐标可以通过上面的公式计算出来，那么四个default box的宽度和长度如下\n",
    "$$\\begin{eqnarray}\n",
    "B1&=&(\\omega_{min}^w,\\omega_{min}^h)=(\\frac{30}{300}, \\frac{30}{300}) \\\\\n",
    "B2&=&(\\omega_{max}^w,\\omega_{max}^h)=(\\sqrt{\\omega_{min}^w \\times \\frac{60}{300}}, \\sqrt{\\omega_{min}^h \\times \\frac{60}{300}}) \\\\\n",
    "B3&=&(w_3,h_3)=(\\omega_{min}^w \\times \\sqrt{2}, \\frac{\\omega_{min}^h}{\\sqrt{2}}) \\\\\n",
    "B4&=&(w_4,h_4)=(h_3,w_3)\n",
    "\\end{eqnarray}$$\n",
    "\n",
    "### 2.5.2.19*19的特征图\n",
    "单元格宽度为$\\omega_d=\\frac{300}{16}=18.75$。每个单元格上有6个default box，分为小正方形B1，大正方形B2，长方形B3、B4、B5，B6，6个default box的宽度和长度如下\n",
    "$$\\begin{eqnarray}\n",
    "B1&=&(\\omega_{min}^w,\\omega_{min}^h)=(\\frac{60}{300}, \\frac{60}{300}) \\\\\n",
    "B2&=&(\\omega_{max}^w,\\omega_{max}^h)=(\\sqrt{\\omega_{min}^w \\times \\frac{111}{300}}, \\sqrt{\\omega_{min}^h \\times \\frac{111}{300}}) \\\\\n",
    "B3&=&(w_3,h_3)=(\\omega_{min}^w \\times \\sqrt{2}, \\frac{\\omega_{min}^h}{\\sqrt{2}}) \\\\\n",
    "B4&=&(w_4,h_4)=(h_3,w_3) \\\\\n",
    "B5&=&(w_5,h_5)=(\\omega_{min}^w \\times \\sqrt{3}, \\frac{\\omega_{min}^h}{\\sqrt{3}}) \\\\\n",
    "B4&=&(w_6,h_6)=(h_5,w_5)\n",
    "\\end{eqnarray}$$\n",
    "\n",
    "### 2.5.3.10*10的特征图\n",
    "单元格宽度为$\\omega_d=\\frac{300}{32}=9.375$。每个单元格上有6个default box，分为小正方形B1，大正方形B2，长方形B3、B4、B5，B6，6个default box的宽度和长度如下\n",
    "$$\\begin{eqnarray}\n",
    "B1&=&(\\omega_{min}^w,\\omega_{min}^h)=(\\frac{111}{300}, \\frac{111}{300}) \\\\\n",
    "B2&=&(\\omega_{max}^w,\\omega_{max}^h)=(\\sqrt{\\omega_{min}^w \\times \\frac{162}{300}}, \\sqrt{\\omega_{min}^h \\times \\frac{162}{300}}) \\\\\n",
    "B3&=&(w_3,h_3)=(\\omega_{min}^w \\times \\sqrt{2}, \\frac{\\omega_{min}^h}{\\sqrt{2}}) \\\\\n",
    "B4&=&(w_4,h_4)=(h_3,w_3) \\\\\n",
    "B5&=&(w_5,h_5)=(\\omega_{min}^w \\times \\sqrt{3}, \\frac{\\omega_{min}^h}{\\sqrt{3}}) \\\\\n",
    "B4&=&(w_6,h_6)=(h_5,w_5)\n",
    "\\end{eqnarray}$$\n",
    "\n",
    "### 2.5.4.5*5的特征图\n",
    "单元格宽度为$\\omega_d=\\frac{300}{64}=4.6875$。每个单元格上有6个default box，分为小正方形B1，大正方形B2，长方形B3、B4、B5，B6，6个default box的宽度和长度如下\n",
    "$$\\begin{eqnarray}\n",
    "B1&=&(\\omega_{min}^w,\\omega_{min}^h)=(\\frac{162}{300}, \\frac{162}{300}) \\\\\n",
    "B2&=&(\\omega_{max}^w,\\omega_{max}^h)=(\\sqrt{\\omega_{min}^w \\times \\frac{213}{300}}, \\sqrt{\\omega_{min}^h \\times \\frac{213}{300}}) \\\\\n",
    "B3&=&(w_3,h_3)=(\\omega_{min}^w \\times \\sqrt{2}, \\frac{\\omega_{min}^h}{\\sqrt{2}}) \\\\\n",
    "B4&=&(w_4,h_4)=(h_3,w_3) \\\\\n",
    "B5&=&(w_5,h_5)=(\\omega_{min}^w \\times \\sqrt{3}, \\frac{\\omega_{min}^h}{\\sqrt{3}}) \\\\\n",
    "B4&=&(w_6,h_6)=(h_5,w_5)\n",
    "\\end{eqnarray}$$\n",
    "\n",
    "### 2.5.5.3*3的特征图\n",
    "单元格宽度为$\\omega_d=\\frac{300}{100}=3$。每个单元格上有4个default box，分为小正方形B1，大正方形B2，长方形B3、B4,4个default box的宽度和长度如下\n",
    "$$\\begin{eqnarray}\n",
    "B1&=&(\\omega_{min}^w,\\omega_{min}^h)=(\\frac{213}{300}, \\frac{213}{300}) \\\\\n",
    "B2&=&(\\omega_{max}^w,\\omega_{max}^h)=(\\sqrt{\\omega_{min}^w \\times \\frac{264}{300}}, \\sqrt{\\omega_{min}^h \\times \\frac{264}{300}}) \\\\\n",
    "B3&=&(w_3,h_3)=(\\omega_{min}^w \\times \\sqrt{2}, \\frac{\\omega_{min}^h}{\\sqrt{2}}) \\\\\n",
    "B4&=&(w_4,h_4)=(h_3,w_3)\n",
    "\\end{eqnarray}$$\n",
    "\n",
    "### 2.5.6.1*1的特征图\n",
    "单元格宽度为$\\omega_d=\\frac{300}{300}=1$。每个单元格上有4个default box，分为小正方形B1，大正方形B2，长方形B3、B4,4个default box的宽度和长度如下\n",
    "$$\\begin{eqnarray}\n",
    "B1&=&(\\omega_{min}^w,\\omega_{min}^h)=(\\frac{264}{300}, \\frac{264}{300}) \\\\\n",
    "B2&=&(\\omega_{max}^w,\\omega_{max}^h)=(\\sqrt{\\omega_{min}^w \\times \\frac{315}{300}}, \\sqrt{\\omega_{min}^h \\times \\frac{315}{300}}) \\\\\n",
    "B3&=&(w_3,h_3)=(\\omega_{min}^w \\times \\sqrt{2}, \\frac{\\omega_{min}^h}{\\sqrt{2}}) \\\\\n",
    "B4&=&(w_4,h_4)=(h_3,w_3)\n",
    "\\end{eqnarray}$$"
   ],
   "metadata": {
    "collapsed": false
   }
  },
  {
   "cell_type": "markdown",
   "source": [
    "# 3.网络结构\n",
    "SSD的基础架构是VGG16(也有人将它的基础架构变为Resnet50,Darknet19或者Darknet53).SSD根据输入图片的大小分为SSD300和SSD512两种结构，我们主要介绍SSD300结构。在神经网络进行计算的过程中，我们会把过程中生成的6种特征图的结果保存下来。然后利用网络中的vgg以及extras对其进行前向传播，可以得到用于loc预测的结果，和用于conf预测的结果"
   ],
   "metadata": {
    "collapsed": false
   }
  },
  {
   "cell_type": "markdown",
   "source": [
    "# 4.数据集\n",
    "数据集的操作很简单，主要就是进行了一些图像增强的功能，然后返回归一化的image以及targets"
   ],
   "metadata": {
    "collapsed": false
   }
  },
  {
   "cell_type": "markdown",
   "source": [
    "# 5.损失函数\n",
    "损失函数定义为位置误差(locatization loss， loc)与置信度误差(confidence loss, conf)的加权和\n",
    "$$L(x,c,\\ell,g)=\\frac{1}{N}[L_{conf}(x,c)+\\alpha L_{loc}(x,\\ell,g)]$$\n",
    "其中N是先验框的正样本数量。这里$x_{ij}^p \\in \\{1,0\\}$为一个指示参数，当$x_{ij}^p=1$时表示第i个先验框与第j个ground truth匹配，并且ground truth的类别为p。c为类别置信度预测值，$\\ell$为先验框所对应的边界框的位置预测值，而g是ground truth的位置参数。<br/>\n",
    "预测值包括三个部分:loc_data(BS,8732,4),conf_data(BS,8732,21),priors(8732,4)，真实值包括label和ground truth box"
   ],
   "metadata": {
    "collapsed": false
   }
  },
  {
   "cell_type": "code",
   "execution_count": null,
   "outputs": [],
   "source": [
    "import torch\n",
    "loc_t = torch.Tensor(num, num_priors, 4)\n",
    "conf_t = torch.LongTensor(num, num_priors)\n",
    "for idx in range(num):\n",
    "    truths = targets[idx][:, :-1].data\n",
    "    labels = targets[idx][:, -1].data\n",
    "    defaults = priors.data\n",
    "    lpsu.match(self.threshold, truths, defaults, self.variance, labels, loc_t, conf_t, idx)"
   ],
   "metadata": {
    "collapsed": false,
    "pycharm": {
     "name": "#%%\n"
    }
   }
  },
  {
   "cell_type": "markdown",
   "source": [
    "1. loc_t的shape就是$BS,8732,4$，conf_t的shape就是$BS,8732,21$。然后开始操作每一张图片\n",
    "2. truths就是当前图片上的所有ground truth box，labels就是当前图片上的所有labels\n",
    "3. 开始找到与每个ground truth box相对应的先验框的index等信息。threshold就是阈值~0.5，self.variance=[0.1,0.2],对应于每个锚框的方差。真正核心的就是这一步"
   ],
   "metadata": {
    "collapsed": false
   }
  },
  {
   "cell_type": "markdown",
   "source": [
    "## 5.1.loc_t与conf_t的填充"
   ],
   "metadata": {
    "collapsed": false
   }
  },
  {
   "cell_type": "code",
   "execution_count": null,
   "outputs": [],
   "source": [
    "overlaps = jaccard(truths,point_form(priors))\n",
    "best_prior_overlap, best_prior_idx = overlaps.max(1, keepdim=True)\n",
    "best_truth_overlap, best_truth_idx = overlaps.max(0, keepdim=True)\n",
    "best_truth_idx.squeeze_(0)\n",
    "best_truth_overlap.squeeze_(0)\n",
    "best_prior_idx.squeeze_(1)\n",
    "best_prior_overlap.squeeze_(1)"
   ],
   "metadata": {
    "collapsed": false,
    "pycharm": {
     "name": "#%%\n"
    }
   }
  },
  {
   "cell_type": "markdown",
   "source": [
    "以下我们假设这张图片上有5个ground truth box\n",
    "1. 首先将priors原先的坐标$x,y,w,h$转化为$x,y,xmax,ymax$的形式\n",
    "2. 计算IOU重叠率。具体的jaccard就是首先找到每个truth和每个prior box的公共面积，然后计算出每个truth和每个prior box的总体面积，那IOU重叠率就是$IOU=\\frac{A_{t \\cap p}}{A_{t \\cup p} - A_{t \\cap p}}$，其中$A_{t \\cap p}$就是真实框t和先验框p的重叠面积,$A_{t \\cup p}$就是真实框t和先验框p的总体面积，计算出来的结果overlaps的shape是$num,8732$，这里的$num$表示这张图片上的ground truth box的数量，如果有5个ground truth box，那么num就是5，每一个元素里面又是一个8732维的向量，每个元素代表的含义就是这个位置的prior box与当前ground truth box的IOU重叠率\n",
    "3. best_prior_overlap和best_prior_idx的含义。首先best_prior_overlap的shape是$5,1$，每一个元素的含义就是跟当前的ground truth box的IOU重叠率最高的prior的IOU重叠率。best_prior_idx的shape也是$5,1$，每一个元素的含义就是跟当前的ground truth box的IOU重叠率最高的prior的index位置。这个其实就是相当于找到overlaps的每一行的最大值及其最大值所在的位置。\n",
    "4. 那么接下来best_truth_overlap和best_truth_idx呢，我们可以看出来这是找到overlaps的每一列的最大值以及最大值所在的位置。具体什么含义呢。具体的含义就是找到哪一个ground truth box跟当前的这个prior有着最高的IOU重叠率，以及IOU重叠率到底是多少。所以它俩的shape都是$1,8732$\n",
    "5. 接下来对这四个变量进行压缩，将他们的1维那个维度去掉，于是就变成了best_truth_idx.shape=8732,best_truth_overlap.shape=8732,best_prior_idx.shape=5,best_prior_overlap.shape=5"
   ],
   "metadata": {
    "collapsed": false
   }
  },
  {
   "cell_type": "code",
   "execution_count": null,
   "outputs": [],
   "source": [
    "best_truth_overlap.index_fill_(0, best_prior_idx, 2)\n",
    "for j in range(best_prior_idx.size(0)):\n",
    "    best_truth_idx[best_prior_idx[j]] = j\n",
    "matches = truths[best_truth_idx]\n",
    "conf = labels[best_truth_idx] + 1\n",
    "conf[best_truth_overlap < threshold] = 0\n",
    "loc = encode(matches, priors, variances)\n",
    "loc_t[idx] = loc\n",
    "conf_t[idx] = conf "
   ],
   "metadata": {
    "collapsed": false,
    "pycharm": {
     "name": "#%%\n"
    }
   }
  },
  {
   "cell_type": "markdown",
   "source": [
    "6. 接下来的这一句是将best_truth_overlap上的某些位置的元素设置为2.我们知道best_truth_overlap里面的元素都是在0~1之间的。某些位置具体是哪些位置呢，就是best_prior_idx的元素所指引的那些个位置。这是什么意思呢。首先我们知道best_truth_overlap里面的每个元素的含义就是当前prior跟每一个ground truth box的IOU覆盖率的最大值。best_prior_idx的含义是每个ground truth box跟每一个prior的IOU覆盖率最大值的那个prior的index位置。做一个index_fill_操作之后的结果，就是将那些个需要负责预测的prior的位置上的值赋值为2了，比别的不需要负责预测的prior的位置上的值大了。\n",
    "7. 然后将truths真值扩充到8732维，每一维上的5个坐标，就是当前位置的prior所负责预测的ground truth box的坐标。\n",
    "8. 然后将conf上小于阈值的位置设置为0~背景。大于阈值的就是真正需要负责预测的label的值。\n",
    "9. 然后将方差应用到priors上进行编码。\n",
    "\n",
    "$$\\begin{eqnarray}\n",
    "\\hat{g_x}&=\\frac{\\frac{T_x+T_w}{2}-P_x}{V[0] \\times P_w} \\\\\n",
    "\\hat{g_y}&=\\frac{\\frac{T_y+T_h}{2}-P_y}{V[0] \\times P_h} \\\\\n",
    "\\hat{g_w}&=\\frac{log(\\frac{T_w-T_x}{2}-P_w)}{V[1]} \\\\\n",
    "\\hat{g_h}&=\\frac{log(\\frac{T_h-T_y}{2}-P_h)}{V[1]}\n",
    "\\end{eqnarray}$$"
   ],
   "metadata": {
    "collapsed": false
   }
  },
  {
   "cell_type": "code",
   "execution_count": null,
   "outputs": [],
   "source": [
    "pos = conf_t > 0\n",
    "pos_idx = pos.unsqueeze(pos.dim()).expand_as(loc_data)"
   ],
   "metadata": {
    "collapsed": false,
    "pycharm": {
     "name": "#%%\n"
    }
   }
  },
  {
   "cell_type": "markdown",
   "source": [
    "找到每一幅图片的每个ground truth box对应的prior的位置以及loc之后，我们就要计算损失了。我们可以很方便的找到需要负责预测的prior的坐标~pos"
   ],
   "metadata": {
    "collapsed": false
   }
  },
  {
   "cell_type": "markdown",
   "source": [
    "## 5.1.位置误差$L_{loc}$\n",
    "采用Smooth L1 Loss，定义如下：\n",
    "$$L_{loc}(x,\\ell,g)=\\sum_{i \\in Pos}^N \\sum_{m \\in \\{cx,cy,w,h\\}}x_{ij}^kS_{L1}(\\ell_i^m-\\hat{g}_j^m)$$\n",
    "$\\ell$为预测框，$g$为ground truth box。$(cx,cy)$为补偿后的默认框d的中心\n",
    "$L_{conf}$为预测框$\\ell$和ground truth box $g$的Smooth L1 Loss，$\\alpha$的值通过交叉验证设置为1"
   ],
   "metadata": {
    "collapsed": false
   }
  },
  {
   "cell_type": "code",
   "execution_count": null,
   "outputs": [],
   "source": [
    "loc_p = loc_data[pos_idx].view(-1, 4)\n",
    "# loc_t [461,4]\n",
    "loc_t = loc_t[pos_idx].view(-1, 4)\n",
    "# 计算算定位损失   loc_p 通过网络输出的预测框   loc_t 通过与真值框匹配的锚\n",
    "loss_l = torch.nn.functional.smooth_l1_loss(loc_p, loc_t, size_average=False)"
   ],
   "metadata": {
    "collapsed": false,
    "pycharm": {
     "name": "#%%\n"
    }
   }
  },
  {
   "cell_type": "markdown",
   "source": [
    "## 5.2.1.encode的解释"
   ],
   "metadata": {
    "collapsed": false,
    "pycharm": {
     "name": "#%% md\n"
    }
   }
  },
  {
   "cell_type": "code",
   "execution_count": null,
   "outputs": [],
   "source": [
    "def encode(matched, priors, variances):\n",
    "    '''\n",
    "    将 来自锚框层的方差编码到与这些锚框相匹配到的真值框中\n",
    "    :param matched:\n",
    "    :param priors:\n",
    "    :param variances:\n",
    "    :return:\n",
    "    '''\n",
    "    # dist b/t match center and prior's center\n",
    "    g_cxcy = (matched[:, :2] + matched[:, 2:])/2 - priors[:, :2]\n",
    "    # encode variance\n",
    "    g_cxcy /= (variances[0] * priors[:, 2:])\n",
    "    # match wh / prior wh\n",
    "    g_wh = (matched[:, 2:] - matched[:, :2]) / priors[:, 2:]\n",
    "    g_wh = torch.log(g_wh) / variances[1]\n",
    "    # return target for smooth_l1_loss\n",
    "    return torch.cat([g_cxcy, g_wh], 1)  # [num_priors,4]"
   ],
   "metadata": {
    "collapsed": false,
    "pycharm": {
     "name": "#%%\n"
    }
   }
  },
  {
   "cell_type": "markdown",
   "source": [
    "真实预测值其实只是边界框相对于先验框的转换值。先验框位置用$d=(d^{cx},d^{cy},d^w,d^h)$表示"
   ],
   "metadata": {
    "collapsed": false,
    "pycharm": {
     "name": "#%% md\n"
    }
   }
  },
  {
   "cell_type": "markdown",
   "source": [
    "其对应边界框用$b=(b^{cx},b^{cy},b^w,b^h)$表示，那么边界框的预测值$l$其实是$b$相对于$d$的转换值"
   ],
   "metadata": {
    "collapsed": false,
    "pycharm": {
     "name": "#%% md\n"
    }
   }
  },
  {
   "cell_type": "markdown",
   "source": [
    "$$\n",
    "\\begin{split}\n",
    "l^{cx}&=\\frac{b^{cx}-d^{cx}}{d^w} \\\\\n",
    "l^{cy}&=\\frac{b^{cy}-d^{cy}}{d^h} \\\\\n",
    "l^w&=log(\\frac{b^w}{d^w}) \\\\\n",
    "l^h&=log(\\frac{b^h}{d^h})\n",
    "\\end{split}\n",
    "$$\n",
    "预测时，你需要反向这个过程，即进行解码(decode)，从预测值$l$中得到边界框的真实位置$b$\n",
    "$$\n",
    "\\begin{split}\n",
    "b^{cx}&=d^wl^{cx} + d^{cx} \\\\\n",
    "b^{cy}&=d^yl^{cy} + d^{cy} \\\\\n",
    "b^w&=d^we^{l^w} \\\\\n",
    "b^h&=d^he^{l^h}\n",
    "\\end{split}\n",
    "$$"
   ],
   "metadata": {
    "collapsed": false,
    "pycharm": {
     "name": "#%% md\n"
    }
   }
  },
  {
   "cell_type": "markdown",
   "source": [
    "具体实现中还有trick，那就是设置variance超参数来调整检测值，通过bool参数variance_encoded_in_target来控制两种模式"
   ],
   "metadata": {
    "collapsed": false,
    "pycharm": {
     "name": "#%% md\n"
    }
   }
  },
  {
   "cell_type": "markdown",
   "source": [
    "当其为True时，表示variance被包含在预测值中，就是上面那种情况。但是如果是False，就需要手动设置超参数variance，用来对$l$的4个值进行放缩，此时边界框需要这样解码\n",
    "$$\n",
    "\\begin{split}\n",
    "b^{cx}&=d^w(variance[0] * l^{cx}) + d^{cx} \\\\\n",
    "b^{cy}&=d^y(variance[1] * l^{cy}) + d^{cy} \\\\\n",
    "b^w&=d^we^{variance[2] * l^w} \\\\\n",
    "b^h&=d^he^{variance[3] * l^h}\n",
    "\\end{split}\n",
    "$$"
   ],
   "metadata": {
    "collapsed": false,
    "pycharm": {
     "name": "#%% md\n"
    }
   }
  },
  {
   "cell_type": "markdown",
   "source": [
    "找到预测值中对应的prior的预测坐标，同样找到真实值中相应位置的坐标，两者做smooth L1损失。"
   ],
   "metadata": {
    "collapsed": false
   }
  },
  {
   "cell_type": "markdown",
   "source": [
    "## 5.2.置信度误差$L_{conf}$\n",
    "采用Softmax Loss\n",
    "$$\n",
    "L_{conf}(x,c)=-\\sum_{i \\in Pos}^Nx_{ij}^plog(\\hat{c}_j^p)-\\sum_{i \\in N_{eg}}log(\\hat{c}_i^0)\n",
    "$$\n",
    "其中\n",
    "$$\\hat{c}_j^p=\\frac{e^{c_i^p}}{\\sum_pe^{c_i^p}}$$\n",
    "这里的置信度误差，就是分类损失，由于正样本很少，负样本太多，对于负样本采用了硬性负开采来进行过滤(按照置信度误差进行排序，取出当前批次正样本的3倍的负样本)。"
   ],
   "metadata": {
    "collapsed": false
   }
  },
  {
   "cell_type": "markdown",
   "source": [
    "# 6.网络结构"
   ],
   "metadata": {
    "collapsed": false
   }
  },
  {
   "cell_type": "code",
   "execution_count": 1,
   "outputs": [
    {
     "data": {
      "text/plain": "<graphviz.dot.Digraph at 0x7feaa07ed048>",
      "image/svg+xml": "<?xml version=\"1.0\" encoding=\"UTF-8\" standalone=\"no\"?>\n<!DOCTYPE svg PUBLIC \"-//W3C//DTD SVG 1.1//EN\"\n \"http://www.w3.org/Graphics/SVG/1.1/DTD/svg11.dtd\">\n<!-- Generated by graphviz version 2.40.1 (20161225.0304)\n -->\n<!-- Title: SSD Pages: 1 -->\n<svg width=\"1777pt\" height=\"1815pt\"\n viewBox=\"0.00 0.00 1777.45 1814.59\" xmlns=\"http://www.w3.org/2000/svg\" xmlns:xlink=\"http://www.w3.org/1999/xlink\">\n<g id=\"graph0\" class=\"graph\" transform=\"scale(1 1) rotate(0) translate(4 1810.5887)\">\n<title>SSD</title>\n<polygon fill=\"#ffffff\" stroke=\"transparent\" points=\"-4,4 -4,-1810.5887 1773.4482,-1810.5887 1773.4482,4 -4,4\"/>\n<!-- img -->\n<g id=\"node1\" class=\"node\">\n<title>img</title>\n<ellipse fill=\"none\" stroke=\"#c0c0c0\" cx=\"91\" cy=\"-1773.256\" rx=\"29.1862\" ry=\"29.1862\"/>\n<ellipse fill=\"none\" stroke=\"#c0c0c0\" cx=\"91\" cy=\"-1773.256\" rx=\"33.1662\" ry=\"33.1662\"/>\n<text text-anchor=\"middle\" x=\"91\" y=\"-1770.6715\" font-family=\"Fira Code Retina\" font-size=\"14.00\" fill=\"#000000\">img</text>\n</g>\n<!-- block1 -->\n<g id=\"node2\" class=\"node\">\n<title>block1</title>\n<polygon fill=\"#e4e7eb\" stroke=\"transparent\" points=\"8,-1544.6925 8,-1659.6925 174,-1659.6925 174,-1544.6925 8,-1544.6925\"/>\n<polygon fill=\"none\" stroke=\"#acc7d2\" points=\"8,-1636.1925 8,-1659.1925 82,-1659.1925 82,-1636.1925 8,-1636.1925\"/>\n<text text-anchor=\"start\" x=\"27.7692\" y=\"-1644.9925\" font-family=\"Fira Code Retina\" font-size=\"14.00\" fill=\"#000000\">Conv</text>\n<polygon fill=\"none\" stroke=\"#acc7d2\" points=\"82,-1636.1925 82,-1659.1925 174,-1659.1925 174,-1636.1925 82,-1636.1925\"/>\n<text text-anchor=\"start\" x=\"84.9231\" y=\"-1644.9925\" font-family=\"Fira Code Retina\" font-size=\"14.00\" fill=\"#000000\">64 k3*3 p1</text>\n<polygon fill=\"none\" stroke=\"#acc7d2\" points=\"8,-1613.1925 8,-1636.1925 82,-1636.1925 82,-1613.1925 8,-1613.1925\"/>\n<text text-anchor=\"start\" x=\"10.5385\" y=\"-1621.9925\" font-family=\"Fira Code Retina\" font-size=\"14.00\" fill=\"#000000\">LeakReLU</text>\n<polygon fill=\"none\" stroke=\"#acc7d2\" points=\"82,-1613.1925 82,-1636.1925 174,-1636.1925 174,-1613.1925 82,-1613.1925\"/>\n<text text-anchor=\"start\" x=\"115.0769\" y=\"-1621.9925\" font-family=\"Fira Code Retina\" font-size=\"14.00\" fill=\"#000000\">0.1</text>\n<polygon fill=\"none\" stroke=\"#acc7d2\" points=\"8,-1590.1925 8,-1613.1925 82,-1613.1925 82,-1590.1925 8,-1590.1925\"/>\n<text text-anchor=\"start\" x=\"27.7692\" y=\"-1598.9925\" font-family=\"Fira Code Retina\" font-size=\"14.00\" fill=\"#000000\">Conv</text>\n<polygon fill=\"none\" stroke=\"#acc7d2\" points=\"82,-1590.1925 82,-1613.1925 174,-1613.1925 174,-1590.1925 82,-1590.1925\"/>\n<text text-anchor=\"start\" x=\"84.9231\" y=\"-1598.9925\" font-family=\"Fira Code Retina\" font-size=\"14.00\" fill=\"#000000\">64 k3*3 p1</text>\n<polygon fill=\"none\" stroke=\"#acc7d2\" points=\"8,-1567.1925 8,-1590.1925 82,-1590.1925 82,-1567.1925 8,-1567.1925\"/>\n<text text-anchor=\"start\" x=\"10.5385\" y=\"-1575.9925\" font-family=\"Fira Code Retina\" font-size=\"14.00\" fill=\"#000000\">LeakReLU</text>\n<polygon fill=\"none\" stroke=\"#acc7d2\" points=\"82,-1567.1925 82,-1590.1925 174,-1590.1925 174,-1567.1925 82,-1567.1925\"/>\n<text text-anchor=\"start\" x=\"115.0769\" y=\"-1575.9925\" font-family=\"Fira Code Retina\" font-size=\"14.00\" fill=\"#000000\">0.1</text>\n<polygon fill=\"none\" stroke=\"#acc7d2\" points=\"8,-1544.1925 8,-1567.1925 82,-1567.1925 82,-1544.1925 8,-1544.1925\"/>\n<text text-anchor=\"start\" x=\"14.8462\" y=\"-1552.9925\" font-family=\"Fira Code Retina\" font-size=\"14.00\" fill=\"#000000\">MaxPool</text>\n<polygon fill=\"none\" stroke=\"#acc7d2\" points=\"82,-1544.1925 82,-1567.1925 174,-1567.1925 174,-1544.1925 82,-1544.1925\"/>\n<text text-anchor=\"start\" x=\"89.2308\" y=\"-1552.9925\" font-family=\"Fira Code Retina\" font-size=\"14.00\" fill=\"#000000\">k2*2 s2*2</text>\n</g>\n<!-- img&#45;&gt;block1 -->\n<g id=\"edge7\" class=\"edge\">\n<title>img&#45;&gt;block1</title>\n<path fill=\"none\" stroke=\"#ac5553\" d=\"M91,-1739.8672C91,-1721.0642 91,-1696.8247 91,-1673.9377\"/>\n<polygon fill=\"#ac5553\" stroke=\"#ac5553\" points=\"94.5001,-1673.888 91,-1663.888 87.5001,-1673.8881 94.5001,-1673.888\"/>\n<text text-anchor=\"middle\" x=\"142.6923\" y=\"-1710.7233\" font-family=\"Fira Code Retina\" font-size=\"14.00\" fill=\"#000000\">bs*3*300*300</text>\n</g>\n<!-- block2 -->\n<g id=\"node3\" class=\"node\">\n<title>block2</title>\n<polygon fill=\"#f1e3dd\" stroke=\"transparent\" points=\"319.5,-1544.6925 319.5,-1659.6925 502.5,-1659.6925 502.5,-1544.6925 319.5,-1544.6925\"/>\n<polygon fill=\"none\" stroke=\"#ddbf9a\" points=\"320,-1636.1925 320,-1659.1925 403,-1659.1925 403,-1636.1925 320,-1636.1925\"/>\n<text text-anchor=\"start\" x=\"344.2692\" y=\"-1644.9925\" font-family=\"Fira Code Retina\" font-size=\"14.00\" fill=\"#000000\">Conv</text>\n<polygon fill=\"none\" stroke=\"#ddbf9a\" points=\"403,-1636.1925 403,-1659.1925 503,-1659.1925 503,-1636.1925 403,-1636.1925\"/>\n<text text-anchor=\"start\" x=\"405.6154\" y=\"-1644.9925\" font-family=\"Fira Code Retina\" font-size=\"14.00\" fill=\"#000000\">128 k3*3 p1</text>\n<polygon fill=\"none\" stroke=\"#ddbf9a\" points=\"320,-1613.1925 320,-1636.1925 403,-1636.1925 403,-1613.1925 320,-1613.1925\"/>\n<text text-anchor=\"start\" x=\"322.7308\" y=\"-1621.9925\" font-family=\"Fira Code Retina\" font-size=\"14.00\" fill=\"#000000\">LeakyReLU</text>\n<polygon fill=\"none\" stroke=\"#ddbf9a\" points=\"403,-1613.1925 403,-1636.1925 503,-1636.1925 503,-1613.1925 403,-1613.1925\"/>\n<text text-anchor=\"start\" x=\"440.0769\" y=\"-1621.9925\" font-family=\"Fira Code Retina\" font-size=\"14.00\" fill=\"#000000\">0.1</text>\n<polygon fill=\"none\" stroke=\"#ddbf9a\" points=\"320,-1590.1925 320,-1613.1925 403,-1613.1925 403,-1590.1925 320,-1590.1925\"/>\n<text text-anchor=\"start\" x=\"344.2692\" y=\"-1598.9925\" font-family=\"Fira Code Retina\" font-size=\"14.00\" fill=\"#000000\">Conv</text>\n<polygon fill=\"none\" stroke=\"#ddbf9a\" points=\"403,-1590.1925 403,-1613.1925 503,-1613.1925 503,-1590.1925 403,-1590.1925\"/>\n<text text-anchor=\"start\" x=\"405.6154\" y=\"-1598.9925\" font-family=\"Fira Code Retina\" font-size=\"14.00\" fill=\"#000000\">128 k3*3 p1</text>\n<polygon fill=\"none\" stroke=\"#ddbf9a\" points=\"320,-1567.1925 320,-1590.1925 403,-1590.1925 403,-1567.1925 320,-1567.1925\"/>\n<text text-anchor=\"start\" x=\"322.7308\" y=\"-1575.9925\" font-family=\"Fira Code Retina\" font-size=\"14.00\" fill=\"#000000\">LeakyReLU</text>\n<polygon fill=\"none\" stroke=\"#ddbf9a\" points=\"403,-1567.1925 403,-1590.1925 503,-1590.1925 503,-1567.1925 403,-1567.1925\"/>\n<text text-anchor=\"start\" x=\"440.0769\" y=\"-1575.9925\" font-family=\"Fira Code Retina\" font-size=\"14.00\" fill=\"#000000\">0.1</text>\n<polygon fill=\"none\" stroke=\"#ddbf9a\" points=\"320,-1544.1925 320,-1567.1925 403,-1567.1925 403,-1544.1925 320,-1544.1925\"/>\n<text text-anchor=\"start\" x=\"331.3462\" y=\"-1552.9925\" font-family=\"Fira Code Retina\" font-size=\"14.00\" fill=\"#000000\">MaxPool</text>\n<polygon fill=\"none\" stroke=\"#ddbf9a\" points=\"403,-1544.1925 403,-1567.1925 503,-1567.1925 503,-1544.1925 403,-1544.1925\"/>\n<text text-anchor=\"start\" x=\"414.2308\" y=\"-1552.9925\" font-family=\"Fira Code Retina\" font-size=\"14.00\" fill=\"#000000\">k2*2 s2*2</text>\n</g>\n<!-- block1&#45;&gt;block2 -->\n<g id=\"edge1\" class=\"edge\">\n<title>block1&#45;&gt;block2</title>\n<path fill=\"none\" stroke=\"#7d88c7\" d=\"M182.2709,-1602.1925C219.3239,-1602.1925 262.4486,-1602.1925 301.2012,-1602.1925\"/>\n<polygon fill=\"#7d88c7\" stroke=\"#7d88c7\" points=\"301.4781,-1605.6926 311.478,-1602.1925 301.478,-1598.6926 301.4781,-1605.6926\"/>\n<text text-anchor=\"middle\" x=\"246.75\" y=\"-1611.2233\" font-family=\"Fira Code Retina\" font-size=\"14.00\" fill=\"#000000\">bs*64*150*150</text>\n</g>\n<!-- block3 -->\n<g id=\"node4\" class=\"node\">\n<title>block3</title>\n<polygon fill=\"#e9e1f0\" stroke=\"transparent\" points=\"639,-1521.6925 639,-1682.6925 831,-1682.6925 831,-1521.6925 639,-1521.6925\"/>\n<polygon fill=\"none\" stroke=\"#a592c5\" points=\"639,-1659.1925 639,-1682.1925 722,-1682.1925 722,-1659.1925 639,-1659.1925\"/>\n<text text-anchor=\"start\" x=\"663.2692\" y=\"-1667.9925\" font-family=\"Fira Code Retina\" font-size=\"14.00\" fill=\"#000000\">Conv</text>\n<polygon fill=\"none\" stroke=\"#a592c5\" points=\"722,-1659.1925 722,-1682.1925 831,-1682.1925 831,-1659.1925 722,-1659.1925\"/>\n<text text-anchor=\"start\" x=\"729.1154\" y=\"-1667.9925\" font-family=\"Fira Code Retina\" font-size=\"14.00\" fill=\"#000000\">256 k3*3 p1</text>\n<polygon fill=\"none\" stroke=\"#a592c5\" points=\"639,-1636.1925 639,-1659.1925 722,-1659.1925 722,-1636.1925 639,-1636.1925\"/>\n<text text-anchor=\"start\" x=\"641.7308\" y=\"-1644.9925\" font-family=\"Fira Code Retina\" font-size=\"14.00\" fill=\"#000000\">LeakyReLU</text>\n<polygon fill=\"none\" stroke=\"#a592c5\" points=\"722,-1636.1925 722,-1659.1925 831,-1659.1925 831,-1636.1925 722,-1636.1925\"/>\n<text text-anchor=\"start\" x=\"763.5769\" y=\"-1644.9925\" font-family=\"Fira Code Retina\" font-size=\"14.00\" fill=\"#000000\">0.1</text>\n<polygon fill=\"none\" stroke=\"#a592c5\" points=\"639,-1613.1925 639,-1636.1925 722,-1636.1925 722,-1613.1925 639,-1613.1925\"/>\n<text text-anchor=\"start\" x=\"663.2692\" y=\"-1621.9925\" font-family=\"Fira Code Retina\" font-size=\"14.00\" fill=\"#000000\">Conv</text>\n<polygon fill=\"none\" stroke=\"#a592c5\" points=\"722,-1613.1925 722,-1636.1925 831,-1636.1925 831,-1613.1925 722,-1613.1925\"/>\n<text text-anchor=\"start\" x=\"729.1154\" y=\"-1621.9925\" font-family=\"Fira Code Retina\" font-size=\"14.00\" fill=\"#000000\">256 k3*3 p1</text>\n<polygon fill=\"none\" stroke=\"#a592c5\" points=\"639,-1590.1925 639,-1613.1925 722,-1613.1925 722,-1590.1925 639,-1590.1925\"/>\n<text text-anchor=\"start\" x=\"641.7308\" y=\"-1598.9925\" font-family=\"Fira Code Retina\" font-size=\"14.00\" fill=\"#000000\">LeakyReLU</text>\n<polygon fill=\"none\" stroke=\"#a592c5\" points=\"722,-1590.1925 722,-1613.1925 831,-1613.1925 831,-1590.1925 722,-1590.1925\"/>\n<text text-anchor=\"start\" x=\"763.5769\" y=\"-1598.9925\" font-family=\"Fira Code Retina\" font-size=\"14.00\" fill=\"#000000\">0.1</text>\n<polygon fill=\"none\" stroke=\"#a592c5\" points=\"639,-1567.1925 639,-1590.1925 722,-1590.1925 722,-1567.1925 639,-1567.1925\"/>\n<text text-anchor=\"start\" x=\"663.2692\" y=\"-1575.9925\" font-family=\"Fira Code Retina\" font-size=\"14.00\" fill=\"#000000\">Conv</text>\n<polygon fill=\"none\" stroke=\"#a592c5\" points=\"722,-1567.1925 722,-1590.1925 831,-1590.1925 831,-1567.1925 722,-1567.1925\"/>\n<text text-anchor=\"start\" x=\"729.1154\" y=\"-1575.9925\" font-family=\"Fira Code Retina\" font-size=\"14.00\" fill=\"#000000\">256 k3*3 p1</text>\n<polygon fill=\"none\" stroke=\"#a592c5\" points=\"639,-1544.1925 639,-1567.1925 722,-1567.1925 722,-1544.1925 639,-1544.1925\"/>\n<text text-anchor=\"start\" x=\"641.7308\" y=\"-1552.9925\" font-family=\"Fira Code Retina\" font-size=\"14.00\" fill=\"#000000\">LeakyReLU</text>\n<polygon fill=\"none\" stroke=\"#a592c5\" points=\"722,-1544.1925 722,-1567.1925 831,-1567.1925 831,-1544.1925 722,-1544.1925\"/>\n<text text-anchor=\"start\" x=\"763.5769\" y=\"-1552.9925\" font-family=\"Fira Code Retina\" font-size=\"14.00\" fill=\"#000000\">0.1</text>\n<polygon fill=\"none\" stroke=\"#a592c5\" points=\"639,-1521.1925 639,-1544.1925 722,-1544.1925 722,-1521.1925 639,-1521.1925\"/>\n<text text-anchor=\"start\" x=\"650.3462\" y=\"-1529.9925\" font-family=\"Fira Code Retina\" font-size=\"14.00\" fill=\"#000000\">MaxPool</text>\n<polygon fill=\"none\" stroke=\"#a592c5\" points=\"722,-1521.1925 722,-1544.1925 831,-1544.1925 831,-1521.1925 722,-1521.1925\"/>\n<text text-anchor=\"start\" x=\"724.8077\" y=\"-1529.9925\" font-family=\"Fira Code Retina\" font-size=\"14.00\" fill=\"#000000\">k2*2 s2*2 cT</text>\n</g>\n<!-- block2&#45;&gt;block3 -->\n<g id=\"edge2\" class=\"edge\">\n<title>block2&#45;&gt;block3</title>\n<path fill=\"none\" stroke=\"#7d88c7\" d=\"M510.8544,-1602.1925C545.6955,-1602.1925 585.0569,-1602.1925 620.9631,-1602.1925\"/>\n<polygon fill=\"#7d88c7\" stroke=\"#7d88c7\" points=\"620.9923,-1605.6926 630.9923,-1602.1925 620.9922,-1598.6926 620.9923,-1605.6926\"/>\n<text text-anchor=\"middle\" x=\"570.75\" y=\"-1611.2233\" font-family=\"Fira Code Retina\" font-size=\"14.00\" fill=\"#000000\">bs*128*75*75</text>\n</g>\n<!-- block4 -->\n<g id=\"node5\" class=\"node\">\n<title>block4</title>\n<polygon fill=\"#e6ece5\" stroke=\"transparent\" points=\"967.5,-1533.1925 967.5,-1671.1925 1150.5,-1671.1925 1150.5,-1533.1925 967.5,-1533.1925\"/>\n<polygon fill=\"none\" stroke=\"#a2bba0\" points=\"968,-1648.1925 968,-1671.1925 1051,-1671.1925 1051,-1648.1925 968,-1648.1925\"/>\n<text text-anchor=\"start\" x=\"992.2692\" y=\"-1656.9925\" font-family=\"Fira Code Retina\" font-size=\"14.00\" fill=\"#000000\">Conv</text>\n<polygon fill=\"none\" stroke=\"#a2bba0\" points=\"1051,-1648.1925 1051,-1671.1925 1151,-1671.1925 1151,-1648.1925 1051,-1648.1925\"/>\n<text text-anchor=\"start\" x=\"1053.6154\" y=\"-1656.9925\" font-family=\"Fira Code Retina\" font-size=\"14.00\" fill=\"#000000\">512 k3*3 p1</text>\n<polygon fill=\"none\" stroke=\"#a2bba0\" points=\"968,-1625.1925 968,-1648.1925 1051,-1648.1925 1051,-1625.1925 968,-1625.1925\"/>\n<text text-anchor=\"start\" x=\"970.7308\" y=\"-1633.9925\" font-family=\"Fira Code Retina\" font-size=\"14.00\" fill=\"#000000\">LeakyReLU</text>\n<polygon fill=\"none\" stroke=\"#a2bba0\" points=\"1051,-1625.1925 1051,-1648.1925 1151,-1648.1925 1151,-1625.1925 1051,-1625.1925\"/>\n<text text-anchor=\"start\" x=\"1088.0769\" y=\"-1633.9925\" font-family=\"Fira Code Retina\" font-size=\"14.00\" fill=\"#000000\">0.1</text>\n<polygon fill=\"none\" stroke=\"#a2bba0\" points=\"968,-1602.1925 968,-1625.1925 1051,-1625.1925 1051,-1602.1925 968,-1602.1925\"/>\n<text text-anchor=\"start\" x=\"992.2692\" y=\"-1610.9925\" font-family=\"Fira Code Retina\" font-size=\"14.00\" fill=\"#000000\">Conv</text>\n<polygon fill=\"none\" stroke=\"#a2bba0\" points=\"1051,-1602.1925 1051,-1625.1925 1151,-1625.1925 1151,-1602.1925 1051,-1602.1925\"/>\n<text text-anchor=\"start\" x=\"1053.6154\" y=\"-1610.9925\" font-family=\"Fira Code Retina\" font-size=\"14.00\" fill=\"#000000\">512 k3*3 p1</text>\n<polygon fill=\"none\" stroke=\"#a2bba0\" points=\"968,-1579.1925 968,-1602.1925 1051,-1602.1925 1051,-1579.1925 968,-1579.1925\"/>\n<text text-anchor=\"start\" x=\"970.7308\" y=\"-1587.9925\" font-family=\"Fira Code Retina\" font-size=\"14.00\" fill=\"#000000\">LeakyReLU</text>\n<polygon fill=\"none\" stroke=\"#a2bba0\" points=\"1051,-1579.1925 1051,-1602.1925 1151,-1602.1925 1151,-1579.1925 1051,-1579.1925\"/>\n<text text-anchor=\"start\" x=\"1088.0769\" y=\"-1587.9925\" font-family=\"Fira Code Retina\" font-size=\"14.00\" fill=\"#000000\">0.1</text>\n<polygon fill=\"none\" stroke=\"#a2bba0\" points=\"968,-1556.1925 968,-1579.1925 1051,-1579.1925 1051,-1556.1925 968,-1556.1925\"/>\n<text text-anchor=\"start\" x=\"992.2692\" y=\"-1564.9925\" font-family=\"Fira Code Retina\" font-size=\"14.00\" fill=\"#000000\">Conv</text>\n<polygon fill=\"none\" stroke=\"#a2bba0\" points=\"1051,-1556.1925 1051,-1579.1925 1151,-1579.1925 1151,-1556.1925 1051,-1556.1925\"/>\n<text text-anchor=\"start\" x=\"1053.6154\" y=\"-1564.9925\" font-family=\"Fira Code Retina\" font-size=\"14.00\" fill=\"#000000\">512 k3*3 p1</text>\n<polygon fill=\"none\" stroke=\"#a2bba0\" points=\"968,-1533.1925 968,-1556.1925 1051,-1556.1925 1051,-1533.1925 968,-1533.1925\"/>\n<text text-anchor=\"start\" x=\"970.7308\" y=\"-1541.9925\" font-family=\"Fira Code Retina\" font-size=\"14.00\" fill=\"#000000\">LeakyReLU</text>\n<polygon fill=\"none\" stroke=\"#a2bba0\" points=\"1051,-1533.1925 1051,-1556.1925 1151,-1556.1925 1151,-1533.1925 1051,-1533.1925\"/>\n<text text-anchor=\"start\" x=\"1088.0769\" y=\"-1541.9925\" font-family=\"Fira Code Retina\" font-size=\"14.00\" fill=\"#000000\">0.1</text>\n</g>\n<!-- block3&#45;&gt;block4 -->\n<g id=\"edge3\" class=\"edge\">\n<title>block3&#45;&gt;block4</title>\n<path fill=\"none\" stroke=\"#7d88c7\" d=\"M839.2991,-1602.1925C874.3202,-1602.1925 913.4798,-1602.1925 948.9294,-1602.1925\"/>\n<polygon fill=\"#7d88c7\" stroke=\"#7d88c7\" points=\"949.3114,-1605.6926 959.3113,-1602.1925 949.3113,-1598.6926 949.3114,-1605.6926\"/>\n<text text-anchor=\"middle\" x=\"899.25\" y=\"-1611.2233\" font-family=\"Fira Code Retina\" font-size=\"14.00\" fill=\"#000000\">bs*256*38*38</text>\n</g>\n<!-- block5 -->\n<g id=\"node6\" class=\"node\">\n<title>block5</title>\n<polygon fill=\"#e6ece5\" stroke=\"transparent\" points=\"984.5,-1434.9617 984.5,-1457.9617 1133.5,-1457.9617 1133.5,-1434.9617 984.5,-1434.9617\"/>\n<polygon fill=\"none\" stroke=\"#a2bba0\" points=\"985,-1434.4617 985,-1457.4617 1051,-1457.4617 1051,-1434.4617 985,-1434.4617\"/>\n<text text-anchor=\"start\" x=\"987.8462\" y=\"-1443.2617\" font-family=\"Fira Code Retina\" font-size=\"14.00\" fill=\"#000000\">MaxPool</text>\n<polygon fill=\"none\" stroke=\"#a2bba0\" points=\"1051,-1434.4617 1051,-1457.4617 1134,-1457.4617 1134,-1434.4617 1051,-1434.4617\"/>\n<text text-anchor=\"start\" x=\"1053.7308\" y=\"-1443.2617\" font-family=\"Fira Code Retina\" font-size=\"14.00\" fill=\"#000000\">k2*2 s2*2</text>\n</g>\n<!-- block4&#45;&gt;block5 -->\n<g id=\"edge4\" class=\"edge\">\n<title>block4&#45;&gt;block5</title>\n<path fill=\"none\" stroke=\"#7d88c7\" d=\"M1059,-1528.8872C1059,-1509.7156 1059,-1490.1742 1059,-1474.933\"/>\n<polygon fill=\"#7d88c7\" stroke=\"#7d88c7\" points=\"1062.5001,-1474.6618 1059,-1464.6618 1055.5001,-1474.6619 1062.5001,-1474.6618\"/>\n<text text-anchor=\"middle\" x=\"1110.6923\" y=\"-1488.4925\" font-family=\"Fira Code Retina\" font-size=\"14.00\" fill=\"#000000\">bs*512*38*38</text>\n</g>\n<!-- block12 -->\n<g id=\"node13\" class=\"node\">\n<title>block12</title>\n<polygon fill=\"#e6ece5\" stroke=\"transparent\" points=\"1442.5,-1360.4617 1442.5,-1406.4617 1591.5,-1406.4617 1591.5,-1360.4617 1442.5,-1360.4617\"/>\n<polygon fill=\"none\" stroke=\"#a2bba0\" points=\"1443,-1383.4617 1443,-1406.4617 1500,-1406.4617 1500,-1383.4617 1443,-1383.4617\"/>\n<text text-anchor=\"start\" x=\"1445.6538\" y=\"-1392.2617\" font-family=\"Fira Code Retina\" font-size=\"14.00\" fill=\"#000000\">L2Norm</text>\n<polygon fill=\"none\" stroke=\"#a2bba0\" points=\"1500,-1383.4617 1500,-1406.4617 1592,-1406.4617 1592,-1383.4617 1500,-1383.4617\"/>\n<polygon fill=\"none\" stroke=\"#a2bba0\" points=\"1443,-1360.4617 1443,-1383.4617 1500,-1383.4617 1500,-1360.4617 1443,-1360.4617\"/>\n<text text-anchor=\"start\" x=\"1454.2692\" y=\"-1369.2617\" font-family=\"Fira Code Retina\" font-size=\"14.00\" fill=\"#000000\">Conv</text>\n<polygon fill=\"none\" stroke=\"#a2bba0\" points=\"1500,-1360.4617 1500,-1383.4617 1592,-1383.4617 1592,-1360.4617 1500,-1360.4617\"/>\n<text text-anchor=\"start\" x=\"1502.9231\" y=\"-1369.2617\" font-family=\"Fira Code Retina\" font-size=\"14.00\" fill=\"#000000\">24 k3*3 p1</text>\n</g>\n<!-- block4&#45;&gt;block12 -->\n<g id=\"edge12\" class=\"edge\">\n<title>block4&#45;&gt;block12</title>\n<path fill=\"none\" stroke=\"#7d88c7\" d=\"M1158.6615,-1554.5963C1247.4185,-1512.208 1374.7449,-1451.3996 1451.3059,-1414.8358\"/>\n<polygon fill=\"#7d88c7\" stroke=\"#7d88c7\" points=\"1452.8695,-1417.9677 1460.3849,-1410.4998 1449.8528,-1411.6511 1452.8695,-1417.9677\"/>\n<text text-anchor=\"middle\" x=\"1348.2241\" y=\"-1486.8771\" font-family=\"Times,serif\" font-size=\"14.00\" fill=\"#000000\">bs*512*38*38</text>\n</g>\n<!-- block13 -->\n<g id=\"node14\" class=\"node\">\n<title>block13</title>\n<polygon fill=\"#e6ece5\" stroke=\"transparent\" points=\"724.5,-1360.4617 724.5,-1406.4617 881.5,-1406.4617 881.5,-1360.4617 724.5,-1360.4617\"/>\n<polygon fill=\"none\" stroke=\"#a2bba0\" points=\"725,-1383.4617 725,-1406.4617 782,-1406.4617 782,-1383.4617 725,-1383.4617\"/>\n<text text-anchor=\"start\" x=\"727.6538\" y=\"-1392.2617\" font-family=\"Fira Code Retina\" font-size=\"14.00\" fill=\"#000000\">L2Norm</text>\n<polygon fill=\"none\" stroke=\"#a2bba0\" points=\"782,-1383.4617 782,-1406.4617 882,-1406.4617 882,-1383.4617 782,-1383.4617\"/>\n<polygon fill=\"none\" stroke=\"#a2bba0\" points=\"725,-1360.4617 725,-1383.4617 782,-1383.4617 782,-1360.4617 725,-1360.4617\"/>\n<text text-anchor=\"start\" x=\"736.2692\" y=\"-1369.2617\" font-family=\"Fira Code Retina\" font-size=\"14.00\" fill=\"#000000\">Conv</text>\n<polygon fill=\"none\" stroke=\"#a2bba0\" points=\"782,-1360.4617 782,-1383.4617 882,-1383.4617 882,-1360.4617 782,-1360.4617\"/>\n<text text-anchor=\"start\" x=\"784.6154\" y=\"-1369.2617\" font-family=\"Fira Code Retina\" font-size=\"14.00\" fill=\"#000000\">126 k3*3 p1</text>\n</g>\n<!-- block4&#45;&gt;block13 -->\n<g id=\"edge13\" class=\"edge\">\n<title>block4&#45;&gt;block13</title>\n<path fill=\"none\" stroke=\"#7d88c7\" d=\"M973.3998,-1529.0542C929.2623,-1491.3423 877.542,-1447.1516 842.7583,-1417.4319\"/>\n<polygon fill=\"#7d88c7\" stroke=\"#7d88c7\" points=\"844.6082,-1414.4089 834.7318,-1410.5739 840.061,-1419.7309 844.6082,-1414.4089\"/>\n<text text-anchor=\"middle\" x=\"978.2241\" y=\"-1486.8771\" font-family=\"Times,serif\" font-size=\"14.00\" fill=\"#000000\">bs*512*38*38</text>\n</g>\n<!-- block6 -->\n<g id=\"node7\" class=\"node\">\n<title>block6</title>\n<polygon fill=\"#efe0df\" stroke=\"transparent\" points=\"963,-1173.4617 963,-1334.4617 1155,-1334.4617 1155,-1173.4617 963,-1173.4617\"/>\n<polygon fill=\"none\" stroke=\"#c08b7b\" points=\"963,-1310.9617 963,-1333.9617 1046,-1333.9617 1046,-1310.9617 963,-1310.9617\"/>\n<text text-anchor=\"start\" x=\"987.2692\" y=\"-1319.7617\" font-family=\"Fira Code Retina\" font-size=\"14.00\" fill=\"#000000\">Conv</text>\n<polygon fill=\"none\" stroke=\"#c08b7b\" points=\"1046,-1310.9617 1046,-1333.9617 1155,-1333.9617 1155,-1310.9617 1046,-1310.9617\"/>\n<text text-anchor=\"start\" x=\"1053.1154\" y=\"-1319.7617\" font-family=\"Fira Code Retina\" font-size=\"14.00\" fill=\"#000000\">512 k3*3 p1</text>\n<polygon fill=\"none\" stroke=\"#c08b7b\" points=\"963,-1287.9617 963,-1310.9617 1046,-1310.9617 1046,-1287.9617 963,-1287.9617\"/>\n<text text-anchor=\"start\" x=\"965.7308\" y=\"-1296.7617\" font-family=\"Fira Code Retina\" font-size=\"14.00\" fill=\"#000000\">LeakyReLU</text>\n<polygon fill=\"none\" stroke=\"#c08b7b\" points=\"1046,-1287.9617 1046,-1310.9617 1155,-1310.9617 1155,-1287.9617 1046,-1287.9617\"/>\n<text text-anchor=\"start\" x=\"1087.5769\" y=\"-1296.7617\" font-family=\"Fira Code Retina\" font-size=\"14.00\" fill=\"#000000\">0.1</text>\n<polygon fill=\"none\" stroke=\"#c08b7b\" points=\"963,-1264.9617 963,-1287.9617 1046,-1287.9617 1046,-1264.9617 963,-1264.9617\"/>\n<text text-anchor=\"start\" x=\"987.2692\" y=\"-1273.7617\" font-family=\"Fira Code Retina\" font-size=\"14.00\" fill=\"#000000\">Conv</text>\n<polygon fill=\"none\" stroke=\"#c08b7b\" points=\"1046,-1264.9617 1046,-1287.9617 1155,-1287.9617 1155,-1264.9617 1046,-1264.9617\"/>\n<text text-anchor=\"start\" x=\"1053.1154\" y=\"-1273.7617\" font-family=\"Fira Code Retina\" font-size=\"14.00\" fill=\"#000000\">512 k3*3 p1</text>\n<polygon fill=\"none\" stroke=\"#c08b7b\" points=\"963,-1241.9617 963,-1264.9617 1046,-1264.9617 1046,-1241.9617 963,-1241.9617\"/>\n<text text-anchor=\"start\" x=\"965.7308\" y=\"-1250.7617\" font-family=\"Fira Code Retina\" font-size=\"14.00\" fill=\"#000000\">LeakyReLU</text>\n<polygon fill=\"none\" stroke=\"#c08b7b\" points=\"1046,-1241.9617 1046,-1264.9617 1155,-1264.9617 1155,-1241.9617 1046,-1241.9617\"/>\n<text text-anchor=\"start\" x=\"1087.5769\" y=\"-1250.7617\" font-family=\"Fira Code Retina\" font-size=\"14.00\" fill=\"#000000\">0.1</text>\n<polygon fill=\"none\" stroke=\"#c08b7b\" points=\"963,-1218.9617 963,-1241.9617 1046,-1241.9617 1046,-1218.9617 963,-1218.9617\"/>\n<text text-anchor=\"start\" x=\"987.2692\" y=\"-1227.7617\" font-family=\"Fira Code Retina\" font-size=\"14.00\" fill=\"#000000\">Conv</text>\n<polygon fill=\"none\" stroke=\"#c08b7b\" points=\"1046,-1218.9617 1046,-1241.9617 1155,-1241.9617 1155,-1218.9617 1046,-1218.9617\"/>\n<text text-anchor=\"start\" x=\"1053.1154\" y=\"-1227.7617\" font-family=\"Fira Code Retina\" font-size=\"14.00\" fill=\"#000000\">512 k3*3 p1</text>\n<polygon fill=\"none\" stroke=\"#c08b7b\" points=\"963,-1195.9617 963,-1218.9617 1046,-1218.9617 1046,-1195.9617 963,-1195.9617\"/>\n<text text-anchor=\"start\" x=\"965.7308\" y=\"-1204.7617\" font-family=\"Fira Code Retina\" font-size=\"14.00\" fill=\"#000000\">LeakyReLU</text>\n<polygon fill=\"none\" stroke=\"#c08b7b\" points=\"1046,-1195.9617 1046,-1218.9617 1155,-1218.9617 1155,-1195.9617 1046,-1195.9617\"/>\n<text text-anchor=\"start\" x=\"1087.5769\" y=\"-1204.7617\" font-family=\"Fira Code Retina\" font-size=\"14.00\" fill=\"#000000\">0.1</text>\n<polygon fill=\"none\" stroke=\"#c08b7b\" points=\"963,-1172.9617 963,-1195.9617 1046,-1195.9617 1046,-1172.9617 963,-1172.9617\"/>\n<text text-anchor=\"start\" x=\"974.3462\" y=\"-1181.7617\" font-family=\"Fira Code Retina\" font-size=\"14.00\" fill=\"#000000\">MaxPool</text>\n<polygon fill=\"none\" stroke=\"#c08b7b\" points=\"1046,-1172.9617 1046,-1195.9617 1155,-1195.9617 1155,-1172.9617 1046,-1172.9617\"/>\n<text text-anchor=\"start\" x=\"1048.8077\" y=\"-1181.7617\" font-family=\"Fira Code Retina\" font-size=\"14.00\" fill=\"#000000\">k2*2 s2*2 p1</text>\n</g>\n<!-- block5&#45;&gt;block6 -->\n<g id=\"edge5\" class=\"edge\">\n<title>block5&#45;&gt;block6</title>\n<path fill=\"none\" stroke=\"#7d88c7\" d=\"M1059,-1428.3517C1059,-1409.7682 1059,-1379.3715 1059,-1349.1188\"/>\n<polygon fill=\"#7d88c7\" stroke=\"#7d88c7\" points=\"1062.5001,-1348.8819 1059,-1338.882 1055.5001,-1348.882 1062.5001,-1348.8819\"/>\n<text text-anchor=\"middle\" x=\"1110.6923\" y=\"-1380.8771\" font-family=\"Fira Code Retina\" font-size=\"14.00\" fill=\"#000000\">bs*512*19*19</text>\n</g>\n<!-- block7 -->\n<g id=\"node8\" class=\"node\">\n<title>block7</title>\n<polygon fill=\"#e4e7eb\" stroke=\"transparent\" points=\"954.5,-1020.2308 954.5,-1112.2308 1163.5,-1112.2308 1163.5,-1020.2308 954.5,-1020.2308\"/>\n<polygon fill=\"none\" stroke=\"#acc7d2\" points=\"955,-1089.2308 955,-1112.2308 1029,-1112.2308 1029,-1089.2308 955,-1089.2308\"/>\n<text text-anchor=\"start\" x=\"974.7692\" y=\"-1098.0308\" font-family=\"Fira Code Retina\" font-size=\"14.00\" fill=\"#000000\">Conv</text>\n<polygon fill=\"none\" stroke=\"#acc7d2\" points=\"1029,-1089.2308 1029,-1112.2308 1164,-1112.2308 1164,-1089.2308 1029,-1089.2308\"/>\n<text text-anchor=\"start\" x=\"1031.8846\" y=\"-1098.0308\" font-family=\"Fira Code Retina\" font-size=\"14.00\" fill=\"#000000\">1024 k3*3 p6 d6</text>\n<polygon fill=\"none\" stroke=\"#acc7d2\" points=\"955,-1066.2308 955,-1089.2308 1029,-1089.2308 1029,-1066.2308 955,-1066.2308\"/>\n<text text-anchor=\"start\" x=\"957.5385\" y=\"-1075.0308\" font-family=\"Fira Code Retina\" font-size=\"14.00\" fill=\"#000000\">LeakReLU</text>\n<polygon fill=\"none\" stroke=\"#acc7d2\" points=\"1029,-1066.2308 1029,-1089.2308 1164,-1089.2308 1164,-1066.2308 1029,-1066.2308\"/>\n<text text-anchor=\"start\" x=\"1083.5769\" y=\"-1075.0308\" font-family=\"Fira Code Retina\" font-size=\"14.00\" fill=\"#000000\">0.1</text>\n<polygon fill=\"none\" stroke=\"#acc7d2\" points=\"955,-1043.2308 955,-1066.2308 1029,-1066.2308 1029,-1043.2308 955,-1043.2308\"/>\n<text text-anchor=\"start\" x=\"974.7692\" y=\"-1052.0308\" font-family=\"Fira Code Retina\" font-size=\"14.00\" fill=\"#000000\">Conv</text>\n<polygon fill=\"none\" stroke=\"#acc7d2\" points=\"1029,-1043.2308 1029,-1066.2308 1164,-1066.2308 1164,-1043.2308 1029,-1043.2308\"/>\n<text text-anchor=\"start\" x=\"1079.2692\" y=\"-1052.0308\" font-family=\"Fira Code Retina\" font-size=\"14.00\" fill=\"#000000\">1024</text>\n<polygon fill=\"none\" stroke=\"#acc7d2\" points=\"955,-1020.2308 955,-1043.2308 1029,-1043.2308 1029,-1020.2308 955,-1020.2308\"/>\n<text text-anchor=\"start\" x=\"957.5385\" y=\"-1029.0308\" font-family=\"Fira Code Retina\" font-size=\"14.00\" fill=\"#000000\">LeakReLU</text>\n<polygon fill=\"none\" stroke=\"#acc7d2\" points=\"1029,-1020.2308 1029,-1043.2308 1164,-1043.2308 1164,-1020.2308 1029,-1020.2308\"/>\n<text text-anchor=\"start\" x=\"1083.5769\" y=\"-1029.0308\" font-family=\"Fira Code Retina\" font-size=\"14.00\" fill=\"#000000\">0.1</text>\n</g>\n<!-- block6&#45;&gt;block7 -->\n<g id=\"edge6\" class=\"edge\">\n<title>block6&#45;&gt;block7</title>\n<path fill=\"none\" stroke=\"#7d88c7\" d=\"M1059,-1169.4324C1059,-1155.0075 1059,-1140.2856 1059,-1126.6475\"/>\n<polygon fill=\"#7d88c7\" stroke=\"#7d88c7\" points=\"1062.5001,-1126.4525 1059,-1116.4525 1055.5001,-1126.4525 1062.5001,-1126.4525\"/>\n<text text-anchor=\"middle\" x=\"1110.6923\" y=\"-1140.2617\" font-family=\"Fira Code Retina\" font-size=\"14.00\" fill=\"#000000\">bs*512*19*19</text>\n</g>\n<!-- block8 -->\n<g id=\"node9\" class=\"node\">\n<title>block8</title>\n<polygon fill=\"#e4e7eb\" stroke=\"transparent\" points=\"1064.5,-890 1064.5,-959 1247.5,-959 1247.5,-890 1064.5,-890\"/>\n<polygon fill=\"none\" stroke=\"#acc7d2\" points=\"1065,-935.5 1065,-958.5 1105,-958.5 1105,-935.5 1065,-935.5\"/>\n<text text-anchor=\"start\" x=\"1067.7692\" y=\"-944.3\" font-family=\"Fira Code Retina\" font-size=\"14.00\" fill=\"#000000\">Conv</text>\n<polygon fill=\"none\" stroke=\"#acc7d2\" points=\"1105,-935.5 1105,-958.5 1248,-958.5 1248,-935.5 1105,-935.5\"/>\n<text text-anchor=\"start\" x=\"1163.5769\" y=\"-944.3\" font-family=\"Fira Code Retina\" font-size=\"14.00\" fill=\"#000000\">256</text>\n<polygon fill=\"none\" stroke=\"#acc7d2\" points=\"1065,-912.5 1065,-935.5 1105,-935.5 1105,-912.5 1065,-912.5\"/>\n<text text-anchor=\"start\" x=\"1067.7692\" y=\"-921.3\" font-family=\"Fira Code Retina\" font-size=\"14.00\" fill=\"#000000\">Conv</text>\n<polygon fill=\"none\" stroke=\"#acc7d2\" points=\"1105,-912.5 1105,-935.5 1248,-935.5 1248,-912.5 1105,-912.5\"/>\n<text text-anchor=\"start\" x=\"1107.5769\" y=\"-921.3\" font-family=\"Fira Code Retina\" font-size=\"14.00\" fill=\"#000000\">512 k3*3 s2*2 p1</text>\n<polygon fill=\"none\" stroke=\"#acc7d2\" points=\"1065,-889.5 1065,-912.5 1105,-912.5 1105,-889.5 1065,-889.5\"/>\n<text text-anchor=\"start\" x=\"1067.7692\" y=\"-898.3\" font-family=\"Fira Code Retina\" font-size=\"14.00\" fill=\"#000000\">ReLU</text>\n<polygon fill=\"none\" stroke=\"#acc7d2\" points=\"1105,-889.5 1105,-912.5 1248,-912.5 1248,-889.5 1105,-889.5\"/>\n</g>\n<!-- block7&#45;&gt;block8 -->\n<g id=\"edge11\" class=\"edge\">\n<title>block7&#45;&gt;block8</title>\n<path fill=\"none\" stroke=\"#7d88c7\" d=\"M1093.4717,-1015.8628C1103.3024,-1001.4987 1113.9744,-985.9054 1123.6723,-971.7354\"/>\n<polygon fill=\"#7d88c7\" stroke=\"#7d88c7\" points=\"1126.8088,-973.3495 1129.5684,-963.1203 1121.0322,-969.3959 1126.8088,-973.3495\"/>\n<text text-anchor=\"middle\" x=\"1173\" y=\"-987.0308\" font-family=\"Fira Code Retina\" font-size=\"14.00\" fill=\"#000000\">bs*1024*19*19</text>\n</g>\n<!-- block14 -->\n<g id=\"node15\" class=\"node\">\n<title>block14</title>\n<polygon fill=\"#e6ece5\" stroke=\"transparent\" points=\"1498,-838.5 1498,-861.5 1630,-861.5 1630,-838.5 1498,-838.5\"/>\n<polygon fill=\"none\" stroke=\"#a2bba0\" points=\"1498,-838 1498,-861 1538,-861 1538,-838 1498,-838\"/>\n<text text-anchor=\"start\" x=\"1500.7692\" y=\"-846.8\" font-family=\"Fira Code Retina\" font-size=\"14.00\" fill=\"#000000\">Conv</text>\n<polygon fill=\"none\" stroke=\"#a2bba0\" points=\"1538,-838 1538,-861 1630,-861 1630,-838 1538,-838\"/>\n<text text-anchor=\"start\" x=\"1540.9231\" y=\"-846.8\" font-family=\"Fira Code Retina\" font-size=\"14.00\" fill=\"#000000\">24 k3*3 p1</text>\n</g>\n<!-- block7&#45;&gt;block14 -->\n<g id=\"edge14\" class=\"edge\">\n<title>block7&#45;&gt;block14</title>\n<path fill=\"none\" stroke=\"#7d88c7\" d=\"M1171.642,-1023.1306C1192.1291,-1015.0304 1213.2573,-1006.5036 1233,-998.2308 1334.4975,-955.7007 1451.689,-902.1509 1515.8356,-872.4521\"/>\n<polygon fill=\"#7d88c7\" stroke=\"#7d88c7\" points=\"1517.685,-875.4526 1525.2858,-868.0716 1514.7412,-869.1017 1517.685,-875.4526\"/>\n<text text-anchor=\"middle\" x=\"1315.7241\" y=\"-985.4154\" font-family=\"Times,serif\" font-size=\"14.00\" fill=\"#000000\">bs*1024*19*19</text>\n</g>\n<!-- block15 -->\n<g id=\"node16\" class=\"node\">\n<title>block15</title>\n<polygon fill=\"#e6ece5\" stroke=\"transparent\" points=\"741,-838.5 741,-861.5 881,-861.5 881,-838.5 741,-838.5\"/>\n<polygon fill=\"none\" stroke=\"#a2bba0\" points=\"741,-838 741,-861 781,-861 781,-838 741,-838\"/>\n<text text-anchor=\"start\" x=\"743.7692\" y=\"-846.8\" font-family=\"Fira Code Retina\" font-size=\"14.00\" fill=\"#000000\">Conv</text>\n<polygon fill=\"none\" stroke=\"#a2bba0\" points=\"781,-838 781,-861 881,-861 881,-838 781,-838\"/>\n<text text-anchor=\"start\" x=\"783.6154\" y=\"-846.8\" font-family=\"Fira Code Retina\" font-size=\"14.00\" fill=\"#000000\">126 k3*3 p1</text>\n</g>\n<!-- block7&#45;&gt;block15 -->\n<g id=\"edge15\" class=\"edge\">\n<title>block7&#45;&gt;block15</title>\n<path fill=\"none\" stroke=\"#7d88c7\" d=\"M946.4067,-1021.7228C934.3895,-1014.7479 922.822,-1006.924 912.5518,-998.2308 872.2011,-964.0763 840.7709,-910.1827 824.1335,-877.6515\"/>\n<polygon fill=\"#7d88c7\" stroke=\"#7d88c7\" points=\"827.0541,-875.6662 819.4516,-868.287 820.793,-878.7966 827.0541,-875.6662\"/>\n<text text-anchor=\"middle\" x=\"957.7241\" y=\"-985.4154\" font-family=\"Times,serif\" font-size=\"14.00\" fill=\"#000000\">bs*1024*19*19</text>\n</g>\n<!-- comment01 -->\n<g id=\"node31\" class=\"node\">\n<title>comment01</title>\n<defs>\n<linearGradient id=\"l_0\" gradientUnits=\"userSpaceOnUse\" x1=\"969\" y1=\"-948.2003\" x2=\"969\" y2=\"-900.7997\" >\n<stop offset=\"0\" style=\"stop-color:#0000ff;stop-opacity:1.;\"/>\n<stop offset=\"1\" style=\"stop-color:#00ffff;stop-opacity:1.;\"/>\n</linearGradient>\n</defs>\n<polygon fill=\"url(#l_0)\" stroke=\"#000000\" points=\"1038.1104,-948.2003 899.8896,-948.2003 899.8896,-900.7997 1038.1104,-900.7997 1038.1104,-948.2003\"/>\n<text text-anchor=\"middle\" x=\"969\" y=\"-932.8999\" font-family=\"Times,serif\" font-size=\"14.00\" fill=\"#ffffff\">从这里之上的是</text>\n<text text-anchor=\"middle\" x=\"969\" y=\"-913.3\" font-family=\"Times,serif\" font-size=\"14.00\" fill=\"#ffffff\">修改后的Vgg16主干</text>\n</g>\n<!-- block7&#45;&gt;comment01 -->\n<g id=\"edge40\" class=\"edge\">\n<title>block7&#45;&gt;comment01</title>\n<path fill=\"none\" stroke=\"#7d88c7\" d=\"M1027.016,-1015.8628C1012.3638,-992.7888 995.6974,-966.5427 983.9991,-948.1203\"/>\n</g>\n<!-- block9 -->\n<g id=\"node10\" class=\"node\">\n<title>block9</title>\n<polygon fill=\"#f1e3dd\" stroke=\"transparent\" points=\"1064.5,-741 1064.5,-810 1247.5,-810 1247.5,-741 1064.5,-741\"/>\n<polygon fill=\"none\" stroke=\"#ddbf9a\" points=\"1065,-786.5 1065,-809.5 1105,-809.5 1105,-786.5 1065,-786.5\"/>\n<text text-anchor=\"start\" x=\"1067.7692\" y=\"-795.3\" font-family=\"Fira Code Retina\" font-size=\"14.00\" fill=\"#000000\">Conv</text>\n<polygon fill=\"none\" stroke=\"#ddbf9a\" points=\"1105,-786.5 1105,-809.5 1248,-809.5 1248,-786.5 1105,-786.5\"/>\n<text text-anchor=\"start\" x=\"1163.5769\" y=\"-795.3\" font-family=\"Fira Code Retina\" font-size=\"14.00\" fill=\"#000000\">128</text>\n<polygon fill=\"none\" stroke=\"#ddbf9a\" points=\"1065,-763.5 1065,-786.5 1105,-786.5 1105,-763.5 1065,-763.5\"/>\n<text text-anchor=\"start\" x=\"1067.7692\" y=\"-772.3\" font-family=\"Fira Code Retina\" font-size=\"14.00\" fill=\"#000000\">Conv</text>\n<polygon fill=\"none\" stroke=\"#ddbf9a\" points=\"1105,-763.5 1105,-786.5 1248,-786.5 1248,-763.5 1105,-763.5\"/>\n<text text-anchor=\"start\" x=\"1107.5769\" y=\"-772.3\" font-family=\"Fira Code Retina\" font-size=\"14.00\" fill=\"#000000\">256 k3*3 s2*2 p1</text>\n<polygon fill=\"none\" stroke=\"#ddbf9a\" points=\"1065,-740.5 1065,-763.5 1105,-763.5 1105,-740.5 1065,-740.5\"/>\n<text text-anchor=\"start\" x=\"1067.7692\" y=\"-749.3\" font-family=\"Fira Code Retina\" font-size=\"14.00\" fill=\"#000000\">ReLU</text>\n<polygon fill=\"none\" stroke=\"#ddbf9a\" points=\"1105,-740.5 1105,-763.5 1248,-763.5 1248,-740.5 1105,-740.5\"/>\n</g>\n<!-- block8&#45;&gt;block9 -->\n<g id=\"edge8\" class=\"edge\">\n<title>block8&#45;&gt;block9</title>\n<path fill=\"none\" stroke=\"#7d88c7\" d=\"M1156,-885.741C1156,-866.9436 1156,-844.1678 1156,-824.2092\"/>\n<polygon fill=\"#7d88c7\" stroke=\"#7d88c7\" points=\"1159.5001,-824.0649 1156,-814.065 1152.5001,-824.065 1159.5001,-824.0649\"/>\n<text text-anchor=\"middle\" x=\"1207.6923\" y=\"-847.4154\" font-family=\"Fira Code Retina\" font-size=\"14.00\" fill=\"#000000\">bs*512*10*10</text>\n</g>\n<!-- block16 -->\n<g id=\"node17\" class=\"node\">\n<title>block16</title>\n<polygon fill=\"#e6ece5\" stroke=\"transparent\" points=\"1413,-689.5 1413,-712.5 1545,-712.5 1545,-689.5 1413,-689.5\"/>\n<polygon fill=\"none\" stroke=\"#a2bba0\" points=\"1413,-689 1413,-712 1453,-712 1453,-689 1413,-689\"/>\n<text text-anchor=\"start\" x=\"1415.7692\" y=\"-697.8\" font-family=\"Fira Code Retina\" font-size=\"14.00\" fill=\"#000000\">Conv</text>\n<polygon fill=\"none\" stroke=\"#a2bba0\" points=\"1453,-689 1453,-712 1545,-712 1545,-689 1453,-689\"/>\n<text text-anchor=\"start\" x=\"1455.9231\" y=\"-697.8\" font-family=\"Fira Code Retina\" font-size=\"14.00\" fill=\"#000000\">24 k3*3 p1</text>\n</g>\n<!-- block8&#45;&gt;block16 -->\n<g id=\"edge16\" class=\"edge\">\n<title>block8&#45;&gt;block16</title>\n<path fill=\"none\" stroke=\"#7d88c7\" d=\"M1232.9097,-885.9508C1243.1866,-880.2044 1253.4618,-874.1405 1263,-868 1333.659,-822.5113 1410.0432,-759.9352 1450.3357,-725.7545\"/>\n<polygon fill=\"#7d88c7\" stroke=\"#7d88c7\" points=\"1452.7935,-728.2585 1458.1357,-719.1092 1448.2539,-722.9301 1452.7935,-728.2585\"/>\n<text text-anchor=\"middle\" x=\"1352.2241\" y=\"-845.8\" font-family=\"Times,serif\" font-size=\"14.00\" fill=\"#000000\">bs*512*10*10</text>\n</g>\n<!-- block17 -->\n<g id=\"node18\" class=\"node\">\n<title>block17</title>\n<polygon fill=\"#e6ece5\" stroke=\"transparent\" points=\"823,-689.5 823,-712.5 963,-712.5 963,-689.5 823,-689.5\"/>\n<polygon fill=\"none\" stroke=\"#a2bba0\" points=\"823,-689 823,-712 863,-712 863,-689 823,-689\"/>\n<text text-anchor=\"start\" x=\"825.7692\" y=\"-697.8\" font-family=\"Fira Code Retina\" font-size=\"14.00\" fill=\"#000000\">Conv</text>\n<polygon fill=\"none\" stroke=\"#a2bba0\" points=\"863,-689 863,-712 963,-712 963,-689 863,-689\"/>\n<text text-anchor=\"start\" x=\"865.6154\" y=\"-697.8\" font-family=\"Fira Code Retina\" font-size=\"14.00\" fill=\"#000000\">126 k3*3 p1</text>\n</g>\n<!-- block8&#45;&gt;block17 -->\n<g id=\"edge17\" class=\"edge\">\n<title>block8&#45;&gt;block17</title>\n<path fill=\"none\" stroke=\"#7d88c7\" d=\"M1093.6632,-885.6866C1085.3912,-879.9811 1077.1512,-873.999 1069.5518,-868 1011.3625,-822.0657 949.8777,-760.5128 917.0345,-726.4215\"/>\n<polygon fill=\"#7d88c7\" stroke=\"#7d88c7\" points=\"919.5351,-723.9724 910.088,-719.1763 914.4823,-728.8169 919.5351,-723.9724\"/>\n<text text-anchor=\"middle\" x=\"1111.2241\" y=\"-845.8\" font-family=\"Times,serif\" font-size=\"14.00\" fill=\"#000000\">bs*512*10*10</text>\n</g>\n<!-- block10 -->\n<g id=\"node11\" class=\"node\">\n<title>block10</title>\n<polygon fill=\"#e9e1f0\" stroke=\"transparent\" points=\"1099,-592 1099,-661 1213,-661 1213,-592 1099,-592\"/>\n<polygon fill=\"none\" stroke=\"#a592c5\" points=\"1099,-637.5 1099,-660.5 1139,-660.5 1139,-637.5 1099,-637.5\"/>\n<text text-anchor=\"start\" x=\"1101.7692\" y=\"-646.3\" font-family=\"Fira Code Retina\" font-size=\"14.00\" fill=\"#000000\">Conv</text>\n<polygon fill=\"none\" stroke=\"#a592c5\" points=\"1139,-637.5 1139,-660.5 1213,-660.5 1213,-637.5 1139,-637.5\"/>\n<text text-anchor=\"start\" x=\"1163.0769\" y=\"-646.3\" font-family=\"Fira Code Retina\" font-size=\"14.00\" fill=\"#000000\">128</text>\n<polygon fill=\"none\" stroke=\"#a592c5\" points=\"1099,-614.5 1099,-637.5 1139,-637.5 1139,-614.5 1099,-614.5\"/>\n<text text-anchor=\"start\" x=\"1101.7692\" y=\"-623.3\" font-family=\"Fira Code Retina\" font-size=\"14.00\" fill=\"#000000\">Conv</text>\n<polygon fill=\"none\" stroke=\"#a592c5\" points=\"1139,-614.5 1139,-637.5 1213,-637.5 1213,-614.5 1139,-614.5\"/>\n<text text-anchor=\"start\" x=\"1141.5385\" y=\"-623.3\" font-family=\"Fira Code Retina\" font-size=\"14.00\" fill=\"#000000\">256 k3*3</text>\n<polygon fill=\"none\" stroke=\"#a592c5\" points=\"1099,-591.5 1099,-614.5 1139,-614.5 1139,-591.5 1099,-591.5\"/>\n<text text-anchor=\"start\" x=\"1101.7692\" y=\"-600.3\" font-family=\"Fira Code Retina\" font-size=\"14.00\" fill=\"#000000\">ReLU</text>\n<polygon fill=\"none\" stroke=\"#a592c5\" points=\"1139,-591.5 1139,-614.5 1213,-614.5 1213,-591.5 1139,-591.5\"/>\n</g>\n<!-- block9&#45;&gt;block10 -->\n<g id=\"edge9\" class=\"edge\">\n<title>block9&#45;&gt;block10</title>\n<path fill=\"none\" stroke=\"#7d88c7\" d=\"M1156,-736.741C1156,-717.9436 1156,-695.1678 1156,-675.2092\"/>\n<polygon fill=\"#7d88c7\" stroke=\"#7d88c7\" points=\"1159.5001,-675.0649 1156,-665.065 1152.5001,-675.065 1159.5001,-675.0649\"/>\n<text text-anchor=\"middle\" x=\"1199.0769\" y=\"-698.4154\" font-family=\"Fira Code Retina\" font-size=\"14.00\" fill=\"#000000\">bs*512*5*5</text>\n</g>\n<!-- block18 -->\n<g id=\"node19\" class=\"node\">\n<title>block18</title>\n<polygon fill=\"#e6ece5\" stroke=\"transparent\" points=\"1346,-540.5 1346,-563.5 1478,-563.5 1478,-540.5 1346,-540.5\"/>\n<polygon fill=\"none\" stroke=\"#a2bba0\" points=\"1346,-540 1346,-563 1386,-563 1386,-540 1346,-540\"/>\n<text text-anchor=\"start\" x=\"1348.7692\" y=\"-548.8\" font-family=\"Fira Code Retina\" font-size=\"14.00\" fill=\"#000000\">Conv</text>\n<polygon fill=\"none\" stroke=\"#a2bba0\" points=\"1386,-540 1386,-563 1478,-563 1478,-540 1386,-540\"/>\n<text text-anchor=\"start\" x=\"1388.9231\" y=\"-548.8\" font-family=\"Fira Code Retina\" font-size=\"14.00\" fill=\"#000000\">24 k3*3 p1</text>\n</g>\n<!-- block9&#45;&gt;block18 -->\n<g id=\"edge18\" class=\"edge\">\n<title>block9&#45;&gt;block18</title>\n<path fill=\"none\" stroke=\"#7d88c7\" d=\"M1221.6187,-736.7813C1230.0311,-731.1059 1238.3633,-725.1063 1246,-719 1302.013,-674.2119 1359.2136,-612.3818 1389.6688,-577.9012\"/>\n<polygon fill=\"#7d88c7\" stroke=\"#7d88c7\" points=\"1392.4981,-579.9834 1396.4633,-570.1585 1387.2367,-575.3662 1392.4981,-579.9834\"/>\n<text text-anchor=\"middle\" x=\"1318.2241\" y=\"-696.8\" font-family=\"Times,serif\" font-size=\"14.00\" fill=\"#000000\">bs*512*5*5</text>\n</g>\n<!-- block19 -->\n<g id=\"node20\" class=\"node\">\n<title>block19</title>\n<polygon fill=\"#e6ece5\" stroke=\"transparent\" points=\"893,-540.5 893,-563.5 1033,-563.5 1033,-540.5 893,-540.5\"/>\n<polygon fill=\"none\" stroke=\"#a2bba0\" points=\"893,-540 893,-563 933,-563 933,-540 893,-540\"/>\n<text text-anchor=\"start\" x=\"895.7692\" y=\"-548.8\" font-family=\"Fira Code Retina\" font-size=\"14.00\" fill=\"#000000\">Conv</text>\n<polygon fill=\"none\" stroke=\"#a2bba0\" points=\"933,-540 933,-563 1033,-563 1033,-540 933,-540\"/>\n<text text-anchor=\"start\" x=\"935.6154\" y=\"-548.8\" font-family=\"Fira Code Retina\" font-size=\"14.00\" fill=\"#000000\">126 k3*3 p1</text>\n</g>\n<!-- block9&#45;&gt;block19 -->\n<g id=\"edge19\" class=\"edge\">\n<title>block9&#45;&gt;block19</title>\n<path fill=\"none\" stroke=\"#7d88c7\" d=\"M1102.6471,-736.7459C1095.9599,-731.0762 1089.4176,-725.0875 1083.5518,-719 1040.3911,-674.208 1000.2237,-613.1794 978.9104,-578.6622\"/>\n<polygon fill=\"#7d88c7\" stroke=\"#7d88c7\" points=\"981.8622,-576.7802 973.6597,-570.0743 975.89,-580.4317 981.8622,-576.7802\"/>\n<text text-anchor=\"middle\" x=\"1118.2241\" y=\"-696.8\" font-family=\"Times,serif\" font-size=\"14.00\" fill=\"#000000\">bs*512*5*5</text>\n</g>\n<!-- block11 -->\n<g id=\"node12\" class=\"node\">\n<title>block11</title>\n<polygon fill=\"#e6ece5\" stroke=\"transparent\" points=\"1100,-443 1100,-512 1214,-512 1214,-443 1100,-443\"/>\n<polygon fill=\"none\" stroke=\"#a2bba0\" points=\"1100,-488.5 1100,-511.5 1140,-511.5 1140,-488.5 1100,-488.5\"/>\n<text text-anchor=\"start\" x=\"1102.7692\" y=\"-497.3\" font-family=\"Fira Code Retina\" font-size=\"14.00\" fill=\"#000000\">Conv</text>\n<polygon fill=\"none\" stroke=\"#a2bba0\" points=\"1140,-488.5 1140,-511.5 1214,-511.5 1214,-488.5 1140,-488.5\"/>\n<text text-anchor=\"start\" x=\"1164.0769\" y=\"-497.3\" font-family=\"Fira Code Retina\" font-size=\"14.00\" fill=\"#000000\">128</text>\n<polygon fill=\"none\" stroke=\"#a2bba0\" points=\"1100,-465.5 1100,-488.5 1140,-488.5 1140,-465.5 1100,-465.5\"/>\n<text text-anchor=\"start\" x=\"1102.7692\" y=\"-474.3\" font-family=\"Fira Code Retina\" font-size=\"14.00\" fill=\"#000000\">Conv</text>\n<polygon fill=\"none\" stroke=\"#a2bba0\" points=\"1140,-465.5 1140,-488.5 1214,-488.5 1214,-465.5 1140,-465.5\"/>\n<text text-anchor=\"start\" x=\"1142.5385\" y=\"-474.3\" font-family=\"Fira Code Retina\" font-size=\"14.00\" fill=\"#000000\">256 k3*3</text>\n<polygon fill=\"none\" stroke=\"#a2bba0\" points=\"1100,-442.5 1100,-465.5 1140,-465.5 1140,-442.5 1100,-442.5\"/>\n<text text-anchor=\"start\" x=\"1102.7692\" y=\"-451.3\" font-family=\"Fira Code Retina\" font-size=\"14.00\" fill=\"#000000\">ReLU</text>\n<polygon fill=\"none\" stroke=\"#a2bba0\" points=\"1140,-442.5 1140,-465.5 1214,-465.5 1214,-442.5 1140,-442.5\"/>\n</g>\n<!-- block10&#45;&gt;block11 -->\n<g id=\"edge10\" class=\"edge\">\n<title>block10&#45;&gt;block11</title>\n<path fill=\"none\" stroke=\"#7d88c7\" d=\"M1156.2601,-587.741C1156.3863,-568.9436 1156.5391,-546.1678 1156.6731,-526.2092\"/>\n<polygon fill=\"#7d88c7\" stroke=\"#7d88c7\" points=\"1160.1739,-526.0883 1156.7412,-516.065 1153.174,-526.0412 1160.1739,-526.0883\"/>\n<text text-anchor=\"middle\" x=\"1200.0769\" y=\"-549.4154\" font-family=\"Fira Code Retina\" font-size=\"14.00\" fill=\"#000000\">bs*512*3*3</text>\n</g>\n<!-- block20 -->\n<g id=\"node21\" class=\"node\">\n<title>block20</title>\n<polygon fill=\"#e6ece5\" stroke=\"transparent\" points=\"1283,-391.5 1283,-414.5 1415,-414.5 1415,-391.5 1283,-391.5\"/>\n<polygon fill=\"none\" stroke=\"#a2bba0\" points=\"1283,-391 1283,-414 1323,-414 1323,-391 1283,-391\"/>\n<text text-anchor=\"start\" x=\"1285.7692\" y=\"-399.8\" font-family=\"Fira Code Retina\" font-size=\"14.00\" fill=\"#000000\">Conv</text>\n<polygon fill=\"none\" stroke=\"#a2bba0\" points=\"1323,-391 1323,-414 1415,-414 1415,-391 1323,-391\"/>\n<text text-anchor=\"start\" x=\"1325.9231\" y=\"-399.8\" font-family=\"Fira Code Retina\" font-size=\"14.00\" fill=\"#000000\">16 k3*3 p1</text>\n</g>\n<!-- block10&#45;&gt;block20 -->\n<g id=\"edge20\" class=\"edge\">\n<title>block10&#45;&gt;block20</title>\n<path fill=\"none\" stroke=\"#7d88c7\" d=\"M1221.427,-589.749C1229.2411,-583.7603 1236.6757,-577.1494 1243,-570 1254.7938,-556.6674 1251.6492,-549.4142 1260.5518,-534 1282.2536,-496.4248 1310.8911,-455.2886 1329.6165,-429.3263\"/>\n<polygon fill=\"#7d88c7\" stroke=\"#7d88c7\" points=\"1332.5232,-431.2801 1335.5626,-421.1305 1326.8573,-427.1694 1332.5232,-431.2801\"/>\n<text text-anchor=\"middle\" x=\"1294.2241\" y=\"-547.8\" font-family=\"Times,serif\" font-size=\"14.00\" fill=\"#000000\">bs*512*3*3</text>\n</g>\n<!-- block21 -->\n<g id=\"node22\" class=\"node\">\n<title>block21</title>\n<polygon fill=\"#e6ece5\" stroke=\"transparent\" points=\"948,-391.5 948,-414.5 1080,-414.5 1080,-391.5 948,-391.5\"/>\n<polygon fill=\"none\" stroke=\"#a2bba0\" points=\"948,-391 948,-414 988,-414 988,-391 948,-391\"/>\n<text text-anchor=\"start\" x=\"950.7692\" y=\"-399.8\" font-family=\"Fira Code Retina\" font-size=\"14.00\" fill=\"#000000\">Conv</text>\n<polygon fill=\"none\" stroke=\"#a2bba0\" points=\"988,-391 988,-414 1080,-414 1080,-391 988,-391\"/>\n<text text-anchor=\"start\" x=\"990.9231\" y=\"-399.8\" font-family=\"Fira Code Retina\" font-size=\"14.00\" fill=\"#000000\">84 k3*3 p1</text>\n</g>\n<!-- block10&#45;&gt;block21 -->\n<g id=\"edge21\" class=\"edge\">\n<title>block10&#45;&gt;block21</title>\n<path fill=\"none\" stroke=\"#7d88c7\" d=\"M1100.968,-587.8451C1094.9857,-582.2802 1089.3414,-576.2912 1084.5518,-570 1051.7232,-526.8799 1031.1384,-466.2147 1021.1786,-431.1138\"/>\n<polygon fill=\"#7d88c7\" stroke=\"#7d88c7\" points=\"1024.4491,-429.8058 1018.4269,-421.089 1017.6988,-431.6587 1024.4491,-429.8058\"/>\n<text text-anchor=\"middle\" x=\"1119.2241\" y=\"-547.8\" font-family=\"Times,serif\" font-size=\"14.00\" fill=\"#000000\">bs*512*3*3</text>\n</g>\n<!-- block22 -->\n<g id=\"node23\" class=\"node\">\n<title>block22</title>\n<polygon fill=\"#e6ece5\" stroke=\"transparent\" points=\"1178,-337.5 1178,-360.5 1310,-360.5 1310,-337.5 1178,-337.5\"/>\n<polygon fill=\"none\" stroke=\"#a2bba0\" points=\"1178,-337 1178,-360 1218,-360 1218,-337 1178,-337\"/>\n<text text-anchor=\"start\" x=\"1180.7692\" y=\"-345.8\" font-family=\"Fira Code Retina\" font-size=\"14.00\" fill=\"#000000\">Conv</text>\n<polygon fill=\"none\" stroke=\"#a2bba0\" points=\"1218,-337 1218,-360 1310,-360 1310,-337 1218,-337\"/>\n<text text-anchor=\"start\" x=\"1220.9231\" y=\"-345.8\" font-family=\"Fira Code Retina\" font-size=\"14.00\" fill=\"#000000\">16 k3*3 p1</text>\n</g>\n<!-- block11&#45;&gt;block22 -->\n<g id=\"edge22\" class=\"edge\">\n<title>block11&#45;&gt;block22</title>\n<path fill=\"none\" stroke=\"#7d88c7\" d=\"M1172.8539,-438.9347C1182.5874,-415.7035 1193.8722,-389.7185 1197.5518,-385 1200.6867,-380.9798 1204.3675,-377.1575 1208.2616,-373.6089\"/>\n<polygon fill=\"#7d88c7\" stroke=\"#7d88c7\" points=\"1210.5399,-376.266 1215.9256,-367.1422 1206.0256,-370.9161 1210.5399,-376.266\"/>\n<text text-anchor=\"middle\" x=\"1232.2241\" y=\"-398.8\" font-family=\"Times,serif\" font-size=\"14.00\" fill=\"#000000\">bs*256*1*1</text>\n</g>\n<!-- block23 -->\n<g id=\"node24\" class=\"node\">\n<title>block23</title>\n<polygon fill=\"#e6ece5\" stroke=\"transparent\" points=\"1008,-337.5 1008,-360.5 1140,-360.5 1140,-337.5 1008,-337.5\"/>\n<polygon fill=\"none\" stroke=\"#a2bba0\" points=\"1008,-337 1008,-360 1048,-360 1048,-337 1008,-337\"/>\n<text text-anchor=\"start\" x=\"1010.7692\" y=\"-345.8\" font-family=\"Fira Code Retina\" font-size=\"14.00\" fill=\"#000000\">Conv</text>\n<polygon fill=\"none\" stroke=\"#a2bba0\" points=\"1048,-337 1048,-360 1140,-360 1140,-337 1048,-337\"/>\n<text text-anchor=\"start\" x=\"1050.9231\" y=\"-345.8\" font-family=\"Fira Code Retina\" font-size=\"14.00\" fill=\"#000000\">84 k3*3 p1</text>\n</g>\n<!-- block11&#45;&gt;block23 -->\n<g id=\"edge23\" class=\"edge\">\n<title>block11&#45;&gt;block23</title>\n<path fill=\"none\" stroke=\"#7d88c7\" d=\"M1124.1887,-438.7318C1119.7545,-432.9229 1115.4097,-426.9003 1111.5518,-421 1102.2116,-406.7152 1093.3075,-389.8392 1086.5158,-376.0175\"/>\n<polygon fill=\"#7d88c7\" stroke=\"#7d88c7\" points=\"1089.667,-374.4942 1082.172,-367.0059 1083.3613,-377.5337 1089.667,-374.4942\"/>\n<text text-anchor=\"middle\" x=\"1146.2241\" y=\"-398.8\" font-family=\"Times,serif\" font-size=\"14.00\" fill=\"#000000\">bs*256*1*1</text>\n</g>\n<!-- block24 -->\n<g id=\"node25\" class=\"node\">\n<title>block24</title>\n<polygon fill=\"#f1cfcd\" stroke=\"#a25954\" points=\"1473,-281 1419,-281 1419,-245 1473,-245 1473,-281\"/>\n<text text-anchor=\"middle\" x=\"1446\" y=\"-260.4154\" font-family=\"Fira Code Retina\" font-size=\"14.00\" fill=\"#000000\">cat</text>\n</g>\n<!-- block12&#45;&gt;block24 -->\n<g id=\"edge24\" class=\"edge\">\n<title>block12&#45;&gt;block24</title>\n<path fill=\"none\" stroke=\"#ac5553\" d=\"M1555.4064,-1356.4456C1607.4635,-1316.3259 1694,-1235.673 1694,-1142.8463 1694,-1142.8463 1694,-1142.8463 1694,-349 1694,-304.8957 1552.2188,-278.3205 1483.06,-267.981\"/>\n<polygon fill=\"#ac5553\" stroke=\"#ac5553\" points=\"1483.4127,-264.4955 1473.0124,-266.5169 1482.4032,-271.4224 1483.4127,-264.4955\"/>\n<text text-anchor=\"middle\" x=\"1731.7241\" y=\"-771.3\" font-family=\"Times,serif\" font-size=\"14.00\" fill=\"#000000\">bs*38*38*24</text>\n</g>\n<!-- block25 -->\n<g id=\"node26\" class=\"node\">\n<title>block25</title>\n<polygon fill=\"#f1cfcd\" stroke=\"#a25954\" points=\"894,-281 840,-281 840,-245 894,-245 894,-281\"/>\n<text text-anchor=\"middle\" x=\"867\" y=\"-260.4154\" font-family=\"Fira Code Retina\" font-size=\"14.00\" fill=\"#000000\">cat</text>\n</g>\n<!-- block13&#45;&gt;block25 -->\n<g id=\"edge30\" class=\"edge\">\n<title>block13&#45;&gt;block25</title>\n<path fill=\"none\" stroke=\"#ac5553\" d=\"M773.9919,-1356.1307C732.985,-1314.3845 663,-1230.3235 663,-1142.8463 663,-1142.8463 663,-1142.8463 663,-349 663,-313.1951 771.0535,-283.9549 829.8806,-270.6889\"/>\n<polygon fill=\"#ac5553\" stroke=\"#ac5553\" points=\"830.9003,-274.0482 839.9104,-268.4742 829.3909,-267.2128 830.9003,-274.0482\"/>\n<text text-anchor=\"middle\" x=\"704.2241\" y=\"-771.3\" font-family=\"Times,serif\" font-size=\"14.00\" fill=\"#000000\">bs*38*38*126</text>\n</g>\n<!-- block14&#45;&gt;block24 -->\n<g id=\"edge25\" class=\"edge\">\n<title>block14&#45;&gt;block24</title>\n<path fill=\"none\" stroke=\"#ac5553\" d=\"M1572.288,-831.6101C1584.0043,-803.8898 1604,-749.479 1604,-701 1604,-701 1604,-701 1604,-349 1604,-294.2694 1529.9587,-274.1701 1483.2468,-266.9356\"/>\n<polygon fill=\"#ac5553\" stroke=\"#ac5553\" points=\"1483.5535,-263.4442 1473.1612,-265.5055 1482.5707,-270.3748 1483.5535,-263.4442\"/>\n<text text-anchor=\"middle\" x=\"1641.7241\" y=\"-547.8\" font-family=\"Times,serif\" font-size=\"14.00\" fill=\"#000000\">bs*19*19*24</text>\n</g>\n<!-- block15&#45;&gt;block25 -->\n<g id=\"edge31\" class=\"edge\">\n<title>block15&#45;&gt;block25</title>\n<path fill=\"none\" stroke=\"#ac5553\" d=\"M803.1264,-831.5691C791.9959,-803.7965 773,-749.3199 773,-701 773,-701 773,-701 773,-349 773,-316.353 804.2469,-292.7639 830.7097,-278.6403\"/>\n<polygon fill=\"#ac5553\" stroke=\"#ac5553\" points=\"832.4653,-281.6746 839.8113,-274.04 829.3077,-275.4273 832.4653,-281.6746\"/>\n<text text-anchor=\"middle\" x=\"814.2241\" y=\"-547.8\" font-family=\"Times,serif\" font-size=\"14.00\" fill=\"#000000\">bs*19*19*126</text>\n</g>\n<!-- block16&#45;&gt;block24 -->\n<g id=\"edge26\" class=\"edge\">\n<title>block16&#45;&gt;block24</title>\n<path fill=\"none\" stroke=\"#ac5553\" d=\"M1483.0456,-682.9646C1493.2985,-634.3236 1517.9782,-496.5828 1496,-385 1489.2829,-350.8977 1472.9435,-314.3288 1460.7596,-290.2172\"/>\n<polygon fill=\"#ac5553\" stroke=\"#ac5553\" points=\"1463.8575,-288.5881 1456.1595,-281.3086 1457.6378,-291.7998 1463.8575,-288.5881\"/>\n<text text-anchor=\"middle\" x=\"1541.7241\" y=\"-473.3\" font-family=\"Times,serif\" font-size=\"14.00\" fill=\"#000000\">bs*10*10*24</text>\n</g>\n<!-- block17&#45;&gt;block25 -->\n<g id=\"edge32\" class=\"edge\">\n<title>block17&#45;&gt;block25</title>\n<path fill=\"none\" stroke=\"#ac5553\" d=\"M893.2847,-682.94C892.9344,-650.2988 888.1384,-580.5555 856,-534 847.7123,-521.9944 835.4841,-528.836 828.5518,-516 812.2896,-485.8885 826.2778,-473.1466 828.5518,-439 832.7259,-376.3191 828.2206,-358.6246 848,-299 848.97,-296.0759 850.1606,-293.1037 851.4686,-290.1847\"/>\n<polygon fill=\"#ac5553\" stroke=\"#ac5553\" points=\"854.6329,-291.6815 855.92,-281.1652 848.3557,-288.5836 854.6329,-291.6815\"/>\n<text text-anchor=\"middle\" x=\"870.2241\" y=\"-473.3\" font-family=\"Times,serif\" font-size=\"14.00\" fill=\"#000000\">bs*10*10*126</text>\n</g>\n<!-- block18&#45;&gt;block24 -->\n<g id=\"edge27\" class=\"edge\">\n<title>block18&#45;&gt;block24</title>\n<path fill=\"none\" stroke=\"#ac5553\" d=\"M1414.1269,-533.9218C1419.875,-485.0623 1435.7532,-350.0975 1442.6877,-291.1547\"/>\n<polygon fill=\"#ac5553\" stroke=\"#ac5553\" points=\"1446.1815,-291.4119 1443.874,-281.0714 1439.2294,-290.5939 1446.1815,-291.4119\"/>\n<text text-anchor=\"middle\" x=\"1461.7241\" y=\"-398.8\" font-family=\"Times,serif\" font-size=\"14.00\" fill=\"#000000\">bs*5*5*24</text>\n</g>\n<!-- block19&#45;&gt;block25 -->\n<g id=\"edge33\" class=\"edge\">\n<title>block19&#45;&gt;block25</title>\n<path fill=\"none\" stroke=\"#ac5553\" d=\"M959.9954,-533.7043C954.9854,-508.888 942.608,-464.7121 915,-439 896.9652,-422.2037 876.8733,-441.0566 862.5518,-421 835.2382,-382.7488 846.4651,-324.9539 856.8871,-290.8907\"/>\n<polygon fill=\"#ac5553\" stroke=\"#ac5553\" points=\"860.2972,-291.7212 860.0521,-281.1292 853.6384,-289.5621 860.2972,-291.7212\"/>\n<text text-anchor=\"middle\" x=\"897.2241\" y=\"-398.8\" font-family=\"Times,serif\" font-size=\"14.00\" fill=\"#000000\">bs*5*5*126</text>\n</g>\n<!-- block20&#45;&gt;block24 -->\n<g id=\"edge28\" class=\"edge\">\n<title>block20&#45;&gt;block24</title>\n<path fill=\"none\" stroke=\"#ac5553\" d=\"M1351.6432,-384.6972C1354.4874,-369.4165 1360.0882,-347.5401 1370.5518,-331 1381.1118,-314.3074 1396.8758,-299.2036 1411.2679,-287.4941\"/>\n<polygon fill=\"#ac5553\" stroke=\"#ac5553\" points=\"1413.8287,-289.9335 1419.5334,-281.0057 1409.5063,-284.4274 1413.8287,-289.9335\"/>\n<text text-anchor=\"middle\" x=\"1400.7241\" y=\"-344.8\" font-family=\"Times,serif\" font-size=\"14.00\" fill=\"#000000\">bs*3*3*16</text>\n</g>\n<!-- block21&#45;&gt;block25 -->\n<g id=\"edge34\" class=\"edge\">\n<title>block21&#45;&gt;block25</title>\n<path fill=\"none\" stroke=\"#ac5553\" d=\"M957.9286,-384.9924C947.806,-380.1622 937.8474,-374.2193 929.5518,-367 905.4923,-346.0621 888.015,-313.5226 877.748,-290.4225\"/>\n<polygon fill=\"#ac5553\" stroke=\"#ac5553\" points=\"880.9388,-288.9823 873.7911,-281.1618 874.5018,-291.7328 880.9388,-288.9823\"/>\n<text text-anchor=\"middle\" x=\"960.7241\" y=\"-344.8\" font-family=\"Times,serif\" font-size=\"14.00\" fill=\"#000000\">bs*3*3*84</text>\n</g>\n<!-- block22&#45;&gt;block24 -->\n<g id=\"edge29\" class=\"edge\">\n<title>block22&#45;&gt;block24</title>\n<path fill=\"none\" stroke=\"#ac5553\" d=\"M1253.046,-330.6204C1259.309,-319.7931 1268.6553,-306.7416 1280.5518,-299 1301.3346,-285.4757 1366.5761,-274.1424 1408.6545,-267.9856\"/>\n<polygon fill=\"#ac5553\" stroke=\"#ac5553\" points=\"1409.4081,-271.4136 1418.8122,-266.5337 1408.4175,-264.484 1409.4081,-271.4136\"/>\n<text text-anchor=\"middle\" x=\"1310.7241\" y=\"-301.8\" font-family=\"Times,serif\" font-size=\"14.00\" fill=\"#000000\">bs*1*1*16</text>\n</g>\n<!-- block23&#45;&gt;block25 -->\n<g id=\"edge35\" class=\"edge\">\n<title>block23&#45;&gt;block25</title>\n<path fill=\"none\" stroke=\"#ac5553\" d=\"M1030.606,-330.9716C993.0035,-315.3493 939.2028,-292.9973 903.7039,-278.249\"/>\n<polygon fill=\"#ac5553\" stroke=\"#ac5553\" points=\"904.783,-274.9073 894.2054,-274.3027 902.0973,-281.3716 904.783,-274.9073\"/>\n<text text-anchor=\"middle\" x=\"1013.7241\" y=\"-301.8\" font-family=\"Times,serif\" font-size=\"14.00\" fill=\"#000000\">bs*1*1*84</text>\n</g>\n<!-- block26 -->\n<g id=\"node27\" class=\"node\">\n<title>block26</title>\n<polygon fill=\"#f1cfcd\" stroke=\"#a25954\" points=\"1428,-195 1374,-195 1374,-159 1428,-159 1428,-195\"/>\n<text text-anchor=\"middle\" x=\"1401\" y=\"-174.4154\" font-family=\"Fira Code Retina\" font-size=\"14.00\" fill=\"#000000\">view</text>\n</g>\n<!-- block24&#45;&gt;block26 -->\n<g id=\"edge36\" class=\"edge\">\n<title>block24&#45;&gt;block26</title>\n<path fill=\"none\" stroke=\"#ac5553\" d=\"M1436.4567,-244.7616C1430.3115,-233.0176 1422.2104,-217.5355 1415.3031,-204.3349\"/>\n<polygon fill=\"#ac5553\" stroke=\"#ac5553\" points=\"1418.267,-202.4497 1410.5296,-195.2121 1412.0647,-205.6951 1418.267,-202.4497\"/>\n<text text-anchor=\"middle\" x=\"1453.2241\" y=\"-215.8\" font-family=\"Times,serif\" font-size=\"14.00\" fill=\"#000000\">bs*46480</text>\n</g>\n<!-- block27 -->\n<g id=\"node28\" class=\"node\">\n<title>block27</title>\n<polygon fill=\"#f1cfcd\" stroke=\"#a25954\" points=\"1142,-195 1088,-195 1088,-159 1142,-159 1142,-195\"/>\n<text text-anchor=\"middle\" x=\"1115\" y=\"-174.4154\" font-family=\"Fira Code Retina\" font-size=\"14.00\" fill=\"#000000\">view</text>\n</g>\n<!-- block25&#45;&gt;block27 -->\n<g id=\"edge37\" class=\"edge\">\n<title>block25&#45;&gt;block27</title>\n<path fill=\"none\" stroke=\"#ac5553\" d=\"M894.0124,-253.6328C938.6182,-238.1647 1027.7401,-207.2595 1078.1106,-189.7923\"/>\n<polygon fill=\"#ac5553\" stroke=\"#ac5553\" points=\"1079.3421,-193.0698 1087.6434,-186.4866 1077.0486,-186.4562 1079.3421,-193.0698\"/>\n<text text-anchor=\"middle\" x=\"1036.7241\" y=\"-215.8\" font-family=\"Times,serif\" font-size=\"14.00\" fill=\"#000000\">bs*244020</text>\n</g>\n<!-- block28 -->\n<g id=\"node29\" class=\"node\">\n<title>block28</title>\n<polygon fill=\"#f1cfcd\" stroke=\"#a25954\" points=\"1353,-109 1299,-109 1299,-73 1353,-73 1353,-109\"/>\n<text text-anchor=\"middle\" x=\"1326\" y=\"-88.4154\" font-family=\"Fira Code Retina\" font-size=\"14.00\" fill=\"#000000\">loc</text>\n</g>\n<!-- block26&#45;&gt;block28 -->\n<g id=\"edge38\" class=\"edge\">\n<title>block26&#45;&gt;block28</title>\n<path fill=\"none\" stroke=\"#ac5553\" d=\"M1385.0944,-158.7616C1374.4548,-146.5615 1360.2971,-130.3273 1348.5066,-116.8076\"/>\n<polygon fill=\"#ac5553\" stroke=\"#ac5553\" points=\"1351.0931,-114.4483 1341.8826,-109.2121 1345.8175,-119.0492 1351.0931,-114.4483\"/>\n<text text-anchor=\"middle\" x=\"1400.9678\" y=\"-129.8\" font-family=\"Times,serif\" font-size=\"14.00\" fill=\"#000000\">bs*11620*4</text>\n</g>\n<!-- block29 -->\n<g id=\"node30\" class=\"node\">\n<title>block29</title>\n<polygon fill=\"#f1cfcd\" stroke=\"#a25954\" points=\"1275,-109 1221,-109 1221,-73 1275,-73 1275,-109\"/>\n<text text-anchor=\"middle\" x=\"1248\" y=\"-88.4154\" font-family=\"Fira Code Retina\" font-size=\"14.00\" fill=\"#000000\">conf</text>\n</g>\n<!-- block27&#45;&gt;block29 -->\n<g id=\"edge39\" class=\"edge\">\n<title>block27&#45;&gt;block29</title>\n<path fill=\"none\" stroke=\"#ac5553\" d=\"M1142.2355,-159.3891C1162.4972,-146.2875 1190.3356,-128.2867 1212.3661,-114.0415\"/>\n<polygon fill=\"#ac5553\" stroke=\"#ac5553\" points=\"1214.304,-116.9564 1220.8009,-108.5874 1210.5031,-111.0782 1214.304,-116.9564\"/>\n<text text-anchor=\"middle\" x=\"1227.4678\" y=\"-129.8\" font-family=\"Times,serif\" font-size=\"14.00\" fill=\"#000000\">bs*11620*21</text>\n</g>\n<!-- comment02 -->\n<g id=\"node32\" class=\"node\">\n<title>comment02</title>\n<defs>\n<linearGradient id=\"l_1\" gradientUnits=\"userSpaceOnUse\" x1=\"1283\" y1=\"-36\" x2=\"1283\" y2=\"0\" >\n<stop offset=\"0\" style=\"stop-color:#0000ff;stop-opacity:1.;\"/>\n<stop offset=\"1\" style=\"stop-color:#00ffff;stop-opacity:1.;\"/>\n</linearGradient>\n</defs>\n<polygon fill=\"url(#l_1)\" stroke=\"#000000\" points=\"1391.8117,-36 1174.1883,-36 1174.1883,0 1391.8117,0 1391.8117,-36\"/>\n<text text-anchor=\"middle\" x=\"1283\" y=\"-16.6\" font-family=\"Times,serif\" font-size=\"14.00\" fill=\"#ffffff\">11620也是生成Anchor Box的数量</text>\n</g>\n<!-- block28&#45;&gt;comment02 -->\n<g id=\"edge41\" class=\"edge\">\n<title>block28&#45;&gt;comment02</title>\n<path fill=\"none\" stroke=\"#7d88c7\" d=\"M1315.3708,-72.9551C1308.7553,-61.7241 1300.2764,-47.3298 1293.656,-36.0904\"/>\n</g>\n<!-- block29&#45;&gt;comment02 -->\n<g id=\"edge42\" class=\"edge\">\n<title>block29&#45;&gt;comment02</title>\n<path fill=\"none\" stroke=\"#7d88c7\" d=\"M1256.6517,-72.9551C1262.0364,-61.7241 1268.9378,-47.3298 1274.3265,-36.0904\"/>\n</g>\n</g>\n</svg>\n"
     },
     "metadata": {},
     "output_type": "execute_result",
     "execution_count": 1
    }
   ],
   "source": [
    "import graphviz\n",
    "\n",
    "FONT_NAME = \"Fira Code Retina\"\n",
    "graph = graphviz.Digraph(name=\"SSD\", format='png',node_attr={'shape': 'plaintext'})\n",
    "graph.node('img', shape=\"doublecircle\", color=\"grey\", fontname=FONT_NAME)\n",
    "\n",
    "with graph.subgraph() as s:\n",
    "    s.attr(rank=\"same\")\n",
    "    s.node('block1', '''<\n",
    "                <table border=\"0\" CELLBORDER=\"1\" CELLSPACING=\"0\" bgcolor=\"#E4E7EB\" color=\"#ACC7D2\">\n",
    "                <tr><td>Conv</td><td>64 k3*3 p1</td></tr>\n",
    "                <tr><td>LeakReLU</td><td>0.1</td></tr>\n",
    "                <tr><td>Conv</td><td>64 k3*3 p1</td></tr>\n",
    "                <tr><td>LeakReLU</td><td>0.1</td></tr>\n",
    "                <tr><td>MaxPool</td><td>k2*2 s2*2</td></tr>\n",
    "                </table>\n",
    "                >''', fontname=FONT_NAME)\n",
    "    s.node('block2', '''<\n",
    "                    <table border=\"0\" CELLBORDER=\"1\" CELLSPACING=\"0\" bgcolor=\"#F1E3DD\" color=\"#DDBF9A\">\n",
    "                    <tr><td>Conv</td><td>128 k3*3 p1</td></tr>\n",
    "                    <tr><td>LeakyReLU</td><td>0.1</td></tr>\n",
    "                    <tr><td>Conv</td><td>128 k3*3 p1</td></tr>\n",
    "                    <tr><td>LeakyReLU</td><td>0.1</td></tr>\n",
    "                    <tr><td>MaxPool</td><td>k2*2 s2*2</td></tr>\n",
    "                    </table>\n",
    "                    >''', fontname=FONT_NAME)\n",
    "    s.node('block3', '''<\n",
    "                    <table border=\"0\" CELLBORDER=\"1\" CELLSPACING=\"0\" bgcolor=\"#E9E1F0\" color=\"#A592C5\">\n",
    "                    <tr><td>Conv</td><td>256 k3*3 p1</td></tr>\n",
    "                    <tr><td>LeakyReLU</td><td>0.1</td></tr>\n",
    "                    <tr><td>Conv</td><td>256 k3*3 p1</td></tr>\n",
    "                    <tr><td>LeakyReLU</td><td>0.1</td></tr>\n",
    "                    <tr><td>Conv</td><td>256 k3*3 p1</td></tr>\n",
    "                    <tr><td>LeakyReLU</td><td>0.1</td></tr>\n",
    "                    <tr><td>MaxPool</td><td>k2*2 s2*2 cT</td></tr>\n",
    "                    </table>\n",
    "                    >''', fontname=FONT_NAME)\n",
    "    s.node('block4', '''<\n",
    "                    <table border=\"0\" CELLBORDER=\"1\" CELLSPACING=\"0\" bgcolor=\"#E6ECE5\" color=\"#A2BBA0\">\n",
    "                    <tr><td>Conv</td><td>512 k3*3 p1</td></tr>\n",
    "                    <tr><td>LeakyReLU</td><td>0.1</td></tr>\n",
    "                    <tr><td>Conv</td><td>512 k3*3 p1</td></tr>\n",
    "                    <tr><td>LeakyReLU</td><td>0.1</td></tr>\n",
    "                    <tr><td>Conv</td><td>512 k3*3 p1</td></tr>\n",
    "                    <tr><td>LeakyReLU</td><td>0.1</td></tr>\n",
    "                    </table>\n",
    "                    >''', fontname=FONT_NAME)\n",
    "\n",
    "    graph.edge(\"block1\", \"block2\", color=\"#7D88C7\", label=\"bs*64*150*150\", fontname=FONT_NAME)\n",
    "    graph.edge(\"block2\", \"block3\", color=\"#7D88C7\", label=\"bs*128*75*75\", fontname=FONT_NAME)\n",
    "    graph.edge(\"block3\", \"block4\", color=\"#7D88C7\", label=\"bs*256*38*38\", fontname=FONT_NAME)\n",
    "\n",
    "graph.node('block5', '''<\n",
    "                    <table border=\"0\" CELLBORDER=\"1\" CELLSPACING=\"0\" bgcolor=\"#E6ECE5\" color=\"#A2BBA0\">\n",
    "                    <tr><td>MaxPool</td><td>k2*2 s2*2</td></tr>\n",
    "                    </table>\n",
    "                    >''', fontname=FONT_NAME)\n",
    "graph.node('block6', '''<\n",
    "                <table border=\"0\" CELLBORDER=\"1\" CELLSPACING=\"0\" bgcolor=\"#EFE0DF\" color=\"#C08B7B\">\n",
    "                <tr><td>Conv</td><td>512 k3*3 p1</td></tr>\n",
    "                <tr><td>LeakyReLU</td><td>0.1</td></tr>\n",
    "                <tr><td>Conv</td><td>512 k3*3 p1</td></tr>\n",
    "                <tr><td>LeakyReLU</td><td>0.1</td></tr>\n",
    "                <tr><td>Conv</td><td>512 k3*3 p1</td></tr>\n",
    "                <tr><td>LeakyReLU</td><td>0.1</td></tr>\n",
    "                <tr><td>MaxPool</td><td>k2*2 s2*2 p1</td></tr>\n",
    "                </table>\n",
    "                >''', fontname=FONT_NAME)\n",
    "graph.node('block7', '''<\n",
    "            <table border=\"0\" CELLBORDER=\"1\" CELLSPACING=\"0\" bgcolor=\"#E4E7EB\" color=\"#ACC7D2\">\n",
    "            <tr><td>Conv</td><td>1024 k3*3 p6 d6</td></tr>\n",
    "            <tr><td>LeakReLU</td><td>0.1</td></tr>\n",
    "            <tr><td>Conv</td><td>1024</td></tr>\n",
    "            <tr><td>LeakReLU</td><td>0.1</td></tr>\n",
    "            </table>\n",
    "            >''', fontname=FONT_NAME)\n",
    "\n",
    "graph.edge(\"block4\", \"block5\", color=\"#7D88C7\", label=\"bs*512*38*38\", fontname=FONT_NAME)\n",
    "graph.edge(\"block5\", \"block6\", color=\"#7D88C7\", label=\"bs*512*19*19\", fontname=FONT_NAME)\n",
    "graph.edge(\"block6\", \"block7\", color=\"#7D88C7\", label=\"bs*512*19*19\", fontname=FONT_NAME)\n",
    "\n",
    "graph.edge(\"img\", \"block1\", label=\"bs*3*300*300\", color=\"#AC5553\", fontname=FONT_NAME)\n",
    "\n",
    "graph.node('block8', '''<\n",
    "            <table border=\"0\" CELLBORDER=\"1\" CELLSPACING=\"0\" bgcolor=\"#E4E7EB\" color=\"#ACC7D2\">\n",
    "            <tr><td>Conv</td><td>256</td></tr>\n",
    "            <tr><td>Conv</td><td>512 k3*3 s2*2 p1</td></tr>\n",
    "            <tr><td>ReLU</td><td></td></tr>\n",
    "            </table>\n",
    "            >''', fontname=FONT_NAME)\n",
    "graph.node('block9', '''<\n",
    "                <table border=\"0\" CELLBORDER=\"1\" CELLSPACING=\"0\" bgcolor=\"#F1E3DD\" color=\"#DDBF9A\">\n",
    "                <tr><td>Conv</td><td>128</td></tr>\n",
    "                <tr><td>Conv</td><td>256 k3*3 s2*2 p1</td></tr>\n",
    "                <tr><td>ReLU</td><td></td></tr>\n",
    "                </table>\n",
    "                >''', fontname=FONT_NAME)\n",
    "graph.node('block10', '''<\n",
    "                <table border=\"0\" CELLBORDER=\"1\" CELLSPACING=\"0\" bgcolor=\"#E9E1F0\" color=\"#A592C5\">\n",
    "                <tr><td>Conv</td><td>128</td></tr>\n",
    "                <tr><td>Conv</td><td>256 k3*3</td></tr>\n",
    "                <tr><td>ReLU</td><td></td></tr>\n",
    "                </table>\n",
    "                >''', fontname=FONT_NAME)\n",
    "graph.node('block11', '''<\n",
    "            <table border=\"0\" CELLBORDER=\"1\" CELLSPACING=\"0\" bgcolor=\"#E6ECE5\" color=\"#A2BBA0\">\n",
    "            <tr><td>Conv</td><td>128</td></tr>\n",
    "            <tr><td>Conv</td><td>256 k3*3</td></tr>\n",
    "            <tr><td>ReLU</td><td></td></tr>\n",
    "            </table>\n",
    "            >''', fontname=FONT_NAME)\n",
    "\n",
    "graph.edge(\"block8\", \"block9\", color=\"#7D88C7\", label=\"bs*512*10*10\", fontname=FONT_NAME)\n",
    "graph.edge(\"block9\", \"block10\", color=\"#7D88C7\", label=\"bs*512*5*5\", fontname=FONT_NAME)\n",
    "graph.edge(\"block10\", \"block11\", color=\"#7D88C7\", label=\"bs*512*3*3\", fontname=FONT_NAME)\n",
    "\n",
    "graph.edge(\"block7\", \"block8\", color=\"#7D88C7\", label=\"bs*1024*19*19\", fontname=FONT_NAME)\n",
    "\n",
    "with graph.subgraph(name=\"concat\") as s:\n",
    "    s.attr(color=\"#E4ECE0\", bgcolor=\"#F7FBF7\", rankdir=\"TB\")\n",
    "    with graph.subgraph() as sub1:\n",
    "        sub1.attr(rank=\"same\")\n",
    "        sub1.node('block12', '''<\n",
    "                        <table border=\"0\" CELLBORDER=\"1\" CELLSPACING=\"0\" bgcolor=\"#E6ECE5\" color=\"#A2BBA0\">\n",
    "                        <tr><td>L2Norm</td><td></td></tr>\n",
    "                        <tr><td>Conv</td><td>24 k3*3 p1</td></tr>\n",
    "                        </table>\n",
    "                        >''', fontname=FONT_NAME)\n",
    "        sub1.node('block13', '''<\n",
    "                        <table border=\"0\" CELLBORDER=\"1\" CELLSPACING=\"0\" bgcolor=\"#E6ECE5\" color=\"#A2BBA0\">\n",
    "                        <tr><td>L2Norm</td><td></td></tr>\n",
    "                        <tr><td>Conv</td><td>126 k3*3 p1</td></tr>\n",
    "                        </table>\n",
    "                        >''', fontname=FONT_NAME)\n",
    "\n",
    "    with graph.subgraph() as sub1:\n",
    "        sub1.attr(rank=\"same\")\n",
    "        sub1.node('block14', '''<\n",
    "                        <table border=\"0\" CELLBORDER=\"1\" CELLSPACING=\"0\" bgcolor=\"#E6ECE5\" color=\"#A2BBA0\">\n",
    "                        <tr><td>Conv</td><td>24 k3*3 p1</td></tr>\n",
    "                        </table>\n",
    "                        >''', fontname=FONT_NAME)\n",
    "        sub1.node('block15', '''<\n",
    "                    <table border=\"0\" CELLBORDER=\"1\" CELLSPACING=\"0\" bgcolor=\"#E6ECE5\" color=\"#A2BBA0\">\n",
    "                    <tr><td>Conv</td><td>126 k3*3 p1</td></tr>\n",
    "                    </table>\n",
    "                    >''', fontname=FONT_NAME)\n",
    "\n",
    "    with graph.subgraph() as sub1:\n",
    "        sub1.attr(rank=\"same\")\n",
    "        sub1.node('block16', '''<\n",
    "                        <table border=\"0\" CELLBORDER=\"1\" CELLSPACING=\"0\" bgcolor=\"#E6ECE5\" color=\"#A2BBA0\">\n",
    "                        <tr><td>Conv</td><td>24 k3*3 p1</td></tr>\n",
    "                        </table>\n",
    "                        >''', fontname=FONT_NAME)\n",
    "        sub1.node('block17', '''<\n",
    "                    <table border=\"0\" CELLBORDER=\"1\" CELLSPACING=\"0\" bgcolor=\"#E6ECE5\" color=\"#A2BBA0\">\n",
    "                    <tr><td>Conv</td><td>126 k3*3 p1</td></tr>\n",
    "                    </table>\n",
    "                    >''', fontname=FONT_NAME)\n",
    "\n",
    "    with graph.subgraph() as sub1:\n",
    "        sub1.attr(rank=\"same\")\n",
    "        sub1.node('block18', '''<\n",
    "                        <table border=\"0\" CELLBORDER=\"1\" CELLSPACING=\"0\" bgcolor=\"#E6ECE5\" color=\"#A2BBA0\">\n",
    "                        <tr><td>Conv</td><td>24 k3*3 p1</td></tr>\n",
    "                        </table>\n",
    "                        >''', fontname=FONT_NAME)\n",
    "        sub1.node('block19', '''<\n",
    "                    <table border=\"0\" CELLBORDER=\"1\" CELLSPACING=\"0\" bgcolor=\"#E6ECE5\" color=\"#A2BBA0\">\n",
    "                    <tr><td>Conv</td><td>126 k3*3 p1</td></tr>\n",
    "                    </table>\n",
    "                    >''', fontname=FONT_NAME)\n",
    "\n",
    "    with graph.subgraph() as sub1:\n",
    "        sub1.attr(rank=\"same\")\n",
    "        sub1.node('block20', '''<\n",
    "                        <table border=\"0\" CELLBORDER=\"1\" CELLSPACING=\"0\" bgcolor=\"#E6ECE5\" color=\"#A2BBA0\">\n",
    "                        <tr><td>Conv</td><td>16 k3*3 p1</td></tr>\n",
    "                        </table>\n",
    "                        >''', fontname=FONT_NAME)\n",
    "        sub1.node('block21', '''<\n",
    "                    <table border=\"0\" CELLBORDER=\"1\" CELLSPACING=\"0\" bgcolor=\"#E6ECE5\" color=\"#A2BBA0\">\n",
    "                    <tr><td>Conv</td><td>84 k3*3 p1</td></tr>\n",
    "                    </table>\n",
    "                    >''', fontname=FONT_NAME)\n",
    "\n",
    "    with graph.subgraph() as sub1:\n",
    "        sub1.attr(rank=\"same\")\n",
    "        sub1.node('block22', '''<\n",
    "                        <table border=\"0\" CELLBORDER=\"1\" CELLSPACING=\"0\" bgcolor=\"#E6ECE5\" color=\"#A2BBA0\">\n",
    "                        <tr><td>Conv</td><td>16 k3*3 p1</td></tr>\n",
    "                        </table>\n",
    "                        >''', fontname=FONT_NAME)\n",
    "        sub1.node('block23', '''<\n",
    "                    <table border=\"0\" CELLBORDER=\"1\" CELLSPACING=\"0\" bgcolor=\"#E6ECE5\" color=\"#A2BBA0\">\n",
    "                    <tr><td>Conv</td><td>84 k3*3 p1</td></tr>\n",
    "                    </table>\n",
    "                    >''', fontname=FONT_NAME)\n",
    "\n",
    "graph.edge(\"block4\", \"block12\", color =\"#7D88C7\", label=\"bs*512*38*38\")\n",
    "graph.edge(\"block4\", \"block13\", color =\"#7D88C7\", label=\"bs*512*38*38\")\n",
    "graph.edge(\"block7\", \"block14\", color =\"#7D88C7\", label=\"bs*1024*19*19\")\n",
    "graph.edge(\"block7\", \"block15\", color =\"#7D88C7\", label=\"bs*1024*19*19\")\n",
    "graph.edge(\"block8\", \"block16\", color =\"#7D88C7\", label=\"bs*512*10*10\")\n",
    "graph.edge(\"block8\", \"block17\", color =\"#7D88C7\", label=\"bs*512*10*10\")\n",
    "graph.edge(\"block9\", \"block18\", color =\"#7D88C7\", label=\"bs*512*5*5\")\n",
    "graph.edge(\"block9\", \"block19\", color =\"#7D88C7\", label=\"bs*512*5*5\")\n",
    "graph.edge(\"block10\", \"block20\", color =\"#7D88C7\", label=\"bs*512*3*3\")\n",
    "graph.edge(\"block10\", \"block21\", color =\"#7D88C7\", label=\"bs*512*3*3\")\n",
    "graph.edge(\"block11\", \"block22\", color =\"#7D88C7\", label=\"bs*256*1*1\")\n",
    "graph.edge(\"block11\", \"block23\", color =\"#7D88C7\", label=\"bs*256*1*1\")\n",
    "\n",
    "graph.node(\"block24\", shape=\"box\", label=\"cat\",color = \"#A25954\", style = \"filled\", fillcolor = \"#F1CFCD\", fontname=FONT_NAME)\n",
    "graph.edge(\"block12\", \"block24\", color=\"#AC5553\", label=\"bs*38*38*24\")\n",
    "graph.edge(\"block14\", \"block24\", color=\"#AC5553\", label=\"bs*19*19*24\")\n",
    "graph.edge(\"block16\", \"block24\", color=\"#AC5553\", label=\"bs*10*10*24\")\n",
    "graph.edge(\"block18\", \"block24\", color=\"#AC5553\", label=\"bs*5*5*24\")\n",
    "graph.edge(\"block20\", \"block24\", color=\"#AC5553\", label=\"bs*3*3*16\")\n",
    "graph.edge(\"block22\", \"block24\", color=\"#AC5553\", label=\"bs*1*1*16\")\n",
    "\n",
    "graph.node(\"block25\", shape=\"box\", label=\"cat\",color = \"#A25954\", style = \"filled\", fillcolor = \"#F1CFCD\", fontname=FONT_NAME)\n",
    "graph.edge(\"block13\", \"block25\", color=\"#AC5553\", label=\"bs*38*38*126\")\n",
    "graph.edge(\"block15\", \"block25\", color=\"#AC5553\", label=\"bs*19*19*126\")\n",
    "graph.edge(\"block17\", \"block25\", color=\"#AC5553\", label=\"bs*10*10*126\")\n",
    "graph.edge(\"block19\", \"block25\", color=\"#AC5553\", label=\"bs*5*5*126\")\n",
    "graph.edge(\"block21\", \"block25\", color=\"#AC5553\", label=\"bs*3*3*84\")\n",
    "graph.edge(\"block23\", \"block25\", color=\"#AC5553\", label=\"bs*1*1*84\")\n",
    "\n",
    "graph.node(\"block26\", shape=\"box\",color=\"#A25954\",style=\"filled\",fillcolor=\"#F1CFCD\",label=\"view\",    fontname=FONT_NAME)\n",
    "graph.node(\"block27\", shape=\"box\",color=\"#A25954\",style=\"filled\",fillcolor=\"#F1CFCD\",label=\"view\",    fontname=FONT_NAME)\n",
    "\n",
    "graph.edge(\"block24\", \"block26\", color=\"#AC5553\", label=\"bs*46480\")\n",
    "graph.edge(\"block25\", \"block27\", color=\"#AC5553\", label=\"bs*244020\")\n",
    "\n",
    "graph.node(\"block28\", shape=\"box\",color=\"#A25954\",style=\"filled\",fillcolor=\"#F1CFCD\",label=\"loc\",    fontname=FONT_NAME)\n",
    "graph.node(\"block29\", shape=\"box\",color=\"#A25954\",style=\"filled\",fillcolor=\"#F1CFCD\",label=\"conf\",    fontname=FONT_NAME)\n",
    "\n",
    "graph.edge(\"block26\", \"block28\", color=\"#AC5553\", label=\"bs*11620*4\")\n",
    "graph.edge(\"block27\", \"block29\", color=\"#AC5553\", label=\"bs*11620*21\")\n",
    "\n",
    "graph.node(\"comment01\", label=\"从这里之上的是\\n修改后的Vgg16主干\", shape=\"box\", fillcolor='blue:cyan',fontcolor='white', style=\"filled\", gradientangle='270')\n",
    "graph.edge(\"block7\", \"comment01\", color=\"#7D88C7\", arrowhead=\"none\")\n",
    "\n",
    "graph.node(\"comment02\", label=\"11620也是生成Anchor Box的数量\", shape=\"box\", fillcolor='blue:cyan',fontcolor='white', style=\"filled\", gradientangle='270')\n",
    "graph.edge(\"block28\", \"comment02\", color=\"#7D88C7\", arrowhead=\"none\")\n",
    "graph.edge(\"block29\", \"comment02\", color=\"#7D88C7\", arrowhead=\"none\")\n",
    "\n",
    "graph"
   ],
   "metadata": {
    "collapsed": false,
    "pycharm": {
     "name": "#%%\n",
     "is_executing": false
    }
   }
  }
 ],
 "metadata": {
  "language_info": {
   "codemirror_mode": {
    "name": "ipython",
    "version": 2
   },
   "file_extension": ".py",
   "mimetype": "text/x-python",
   "name": "python",
   "nbconvert_exporter": "python",
   "pygments_lexer": "ipython2",
   "version": "2.7.6"
  },
  "kernelspec": {
   "name": "python3",
   "language": "python",
   "display_name": "Python 3"
  },
  "pycharm": {
   "stem_cell": {
    "cell_type": "raw",
    "source": [],
    "metadata": {
     "collapsed": false
    }
   }
  }
 },
 "nbformat": 4,
 "nbformat_minor": 0
}