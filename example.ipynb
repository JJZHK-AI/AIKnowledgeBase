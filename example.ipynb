{
 "metadata": {
  "language_info": {
   "codemirror_mode": {
    "name": "ipython",
    "version": 3
   },
   "file_extension": ".py",
   "mimetype": "text/x-python",
   "name": "python",
   "nbconvert_exporter": "python",
   "pygments_lexer": "ipython3",
   "version": 3
  },
  "orig_nbformat": 2
 },
 "nbformat": 4,
 "nbformat_minor": 2,
 "cells": [
  {
   "source": [
    "$$\n",
    "\\begin{equation}\n",
    "D(x) = \\begin{cases}\n",
    "1, & \\text{if } x \\in \\mathbb{Q}; \\\\\n",
    "0, & \\text{if } x \\in\n",
    "     \\mathbb{R}\\setminus\\mathbb{Q}.\n",
    "\\end{cases}\n",
    "\\end{equation}\n",
    "$$"
   ],
   "cell_type": "markdown",
   "metadata": {}
  },
  {
   "source": [
    "$$\n",
    "\\begin{cases}\n",
    "2x-y=0 & \\tag{1} \\\\\\\\\n",
    "-x+2y=3\n",
    "\\end{cases}\n",
    "$$"
   ],
   "cell_type": "markdown",
   "metadata": {}
  },
  {
   "source": [
    "$$\n",
    "\\left. \\begin{gathered}\n",
    "S \\subseteq T \\\\\n",
    "S \\supseteq T\n",
    "\\end{gathered} \\right\\}\n",
    "\\implies S = T  \n",
    "$$"
   ],
   "cell_type": "markdown",
   "metadata": {}
  },
  {
   "source": [
    "$$\n",
    "\\begin{align}\n",
    "0 + S(a) &= S(0 + a) \\tag{1} \\\\\\\\\n",
    "         &= S(a) \\tag{2}\n",
    "\\end{align}\n",
    "$$"
   ],
   "cell_type": "markdown",
   "metadata": {}
  },
  {
   "source": [
    "$$\n",
    "\\begin{split}\n",
    "F_X(x)&=P{X \\leq x}=P{X \\leq x, Y < +\\infty}=F(x, +\\infty)\\\\\n",
    "F_Y(y)&=P{Y \\leq y}=P{X < +\\infty, Y \\leq y}=F(+\\infty, y)\n",
    "\\end{split}\n",
    "$$"
   ],
   "cell_type": "markdown",
   "metadata": {}
  },
  {
   "source": [
    "$$F(x,y)=P{X \\leq x, Y \\leq y}=\\int_{-\\infty}^y\\int_{-\\infty}^xf(\\mu,\\nu)d\\mu d\\nu$$"
   ],
   "cell_type": "markdown",
   "metadata": {}
  },
  {
   "source": [
    "$$E(X)=\\sum_{k=1}^\\infty x_kp_k$$"
   ],
   "cell_type": "markdown",
   "metadata": {}
  },
  {
   "source": [
    "$\\lim\\limits_{n \\to \\infty}\\lgroup|\\frac{1}{n}\\sum_{k=1}^nX_k-\\frac{1}{n}\\sum_{k=1}^nE(X_k)|<\\epsilon\\rgroup=1$"
   ],
   "cell_type": "markdown",
   "metadata": {}
  },
  {
   "source": [
    "$$\n",
    "\\begin{bmatrix}\n",
    "N&\\sum{x_i}&\\sum{x_i^2}&...&\\sum{x_i^M}\\\\\n",
    "\\sum{x_i}&\\sum{x_i^2}&\\sum{x_i^3}&...&\\sum{x_i^{M+1}}\\\\\n",
    "\\vdots&\\vdots&\\vdots&\\vdots&\\vdots\\\\\n",
    "\\sum{x_i^M}&\\sum{x_i^{M+1}}&\\sum{x_i^{M+2}}&...&\\sum{x_i^{2M}}\n",
    "\\end{bmatrix} \\bullet \\begin{bmatrix}\n",
    "\\alpha_0\\\\\n",
    "\\alpha_1\\\\\n",
    "\\alpha_2\\\\\n",
    "\\vdots\\\\\n",
    "\\alpha_m\n",
    "\\end{bmatrix}=\n",
    "\\begin{bmatrix}\n",
    "\\sum{y_i}\\\\\n",
    "\\sum{x_iy_i}\\\\\n",
    "\\sum{x_i^2y_i}\\\\\n",
    "\\vdots\\\\\n",
    "\\sum{x_i^My_i}\n",
    "\\end{bmatrix}\n",
    "$$"
   ],
   "cell_type": "markdown",
   "metadata": {}
  },
  {
   "source": [
    "$L(\\theta)=L(x_1,x_2,...,x_n;\\theta)=\\prod_{i=1}^nf(x_i;\\theta),\\theta \\in \\Theta$"
   ],
   "cell_type": "markdown",
   "metadata": {}
  },
  {
   "source": [
    "$f(x+\\nu) \\approx f(x)+\\nabla{f(x)}^T\\nu$"
   ],
   "cell_type": "markdown",
   "metadata": {}
  },
  {
   "source": [
    "$\n",
    "\\begin{cases}\n",
    "f_i(x^*) \\leq 0 &i=1,...,m\\\\\n",
    "h_i(x^*) = 0 & i=1,...,p\\\\\n",
    "\\lambda_i^* \\geq 0 & i=1,...,m\\\\\n",
    "\\lambda_i^*f_i(x^*) = 0 & i=1,...,m\\\\\n",
    "\\nabla{f_0(x^*)} + \\sum_{i=1}^m\\lambda_i^*\\nabla{f_i(x^*)} + \\sum_{i=1}^p\\nu_i^*\\nabla{h_i(x^*)}=0\n",
    "\\end{cases}\n",
    "$"
   ],
   "cell_type": "markdown",
   "metadata": {}
  },
  {
   "source": [
    "$$\n",
    "\\begin{array}\n",
    "\\overline{a+b+c} \\\\\n",
    "\\underline{a+b+c} \\\\\n",
    "\\overleftarrow{a+b} \\\\\n",
    "\\underleftarrow{a+b} \\\\\n",
    "\\underleftrightarrow{a+b} \\\\\n",
    "\\vec x = \\vec{AB} \\\\\n",
    "\\overbrace {a+b}^\\text{a,b} \\\\\n",
    "a+\\rlap{\\overbrace{\\phantom{b+c+d}}^m}b+\\underbrace{c+d+e}_n+f\n",
    "\\end{array}\n",
    "$$"
   ],
   "cell_type": "markdown",
   "metadata": {}
  },
  {
   "source": [
    "$$a = \\mathop{argmax}_aF(a)$$"
   ],
   "cell_type": "markdown",
   "metadata": {}
  }
 ]
}