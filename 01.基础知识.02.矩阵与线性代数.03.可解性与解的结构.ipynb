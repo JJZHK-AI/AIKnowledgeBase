{
 "cells": [
  {
   "cell_type": "markdown",
   "metadata": {
    "collapsed": true
   },
   "source": [
    "# 1.可解性与解的结构"
   ]
  },
  {
   "cell_type": "markdown",
   "metadata": {},
   "source": [
    "假设有方程组如下"
   ]
  },
  {
   "cell_type": "markdown",
   "execution_count": null,
   "metadata": {},
   "outputs": [],
   "source": [
    "$$\n",
    "\\begin{cases}\n",
    "x_1+2x_2+2x_3+2x_4&=b_1\\\\\\\\\n",
    "2x_1+4x_2+6x_3+8x_4&=b_2\\\\\\\\\n",
    "3x_1+6x_2+8x_3+10x_4&=b_3\n",
    "\\end{cases}\n",
    "$$"
   ]
  },
  {
   "cell_type": "markdown",
   "execution_count": null,
   "metadata": {},
   "outputs": [],
   "source": [
    "如果方程组有解，那么$b_1,b_2,b_3$需要满足什么样的条件？"
   ]
  },
  {
   "cell_type": "markdown",
   "metadata": {},
   "source": [
    "我们写成增广矩阵的形式有"
   ]
  },
  {
   "cell_type": "markdown",
   "execution_count": null,
   "metadata": {},
   "outputs": [],
   "source": [
    "$$\n",
    "\\begin{bmatrix}\n",
    "1&2&2&2&b_1\\\\\\\\\n",
    "2&4&6&8&b_2\\\\\\\\\n",
    "3&6&8&10&b_3\n",
    "\\end{bmatrix}\n",
    "$$"
   ]
  },
  {
   "cell_type": "markdown",
   "execution_count": null,
   "metadata": {},
   "outputs": [],
   "source": [
    "消元有"
   ]
  },
  {
   "cell_type": "markdown",
   "execution_count": null,
   "metadata": {},
   "outputs": [],
   "source": [
    "$$\n",
    "\\begin{bmatrix}\n",
    "1&2&2&2&b_1\\\\\\\\\n",
    "0&0&2&4&b_2\\\\\\\\\n",
    "0&0&2&4&b_3-3b_1\n",
    "\\end{bmatrix}\n",
    "$$"
   ]
  },
  {
   "cell_type": "markdown",
   "execution_count": null,
   "metadata": {},
   "outputs": [],
   "source": [
    "继续消元"
   ]
  },
  {
   "cell_type": "markdown",
   "execution_count": null,
   "metadata": {},
   "outputs": [],
   "source": [
    "$$\n",
    "\\begin{bmatrix}\n",
    "1&2&2&2&b_1\\\\\\\\\n",
    "0&0&2&4&b_2\\\\\\\\\n",
    "0&0&0&0&b_3-b_2-b_1\n",
    "\\end{bmatrix}\n",
    "$$"
   ]
  },
  {
   "cell_type": "markdown",
   "execution_count": null,
   "metadata": {},
   "outputs": [],
   "source": [
    "我们可以看到，第三行需要$b_3-b_2-b_1=0$，这就是方程组有解的条件。其实我们看最开始的方程组，我们就会发现，方程一和二加起来就是方程三，其实不就是$b_1+b_2=b_3$吗。"
   ]
  },
  {
   "cell_type": "markdown",
   "metadata": {},
   "source": [
    "那么对于通用的$A \\cdot X=b$来说，什么样的b才能使得其有解呢？其实b只要在A的列空间中，那么就一定有解。同理，如果A的各行的线性组合能够得到0，那么对于b来说其线性组合也可以得到0行。"
   ]
  },
  {
   "cell_type": "markdown",
   "metadata": {
    "pycharm": {
     "name": "#%% md\n"
    }
   },
   "source": [
    "# 2.线性相关\n",
    "对于向量$\\overrightarrow{X}=\\overrightarrow{x_1},\\overrightarrow{x_2},...,\\overrightarrow{x_n}$来说，除了系数全为0之外，还存在一种系数组合，使得它们的线性组合结果为0，那么它们就是线性相关的，否则就是线性无关的。即\n",
    "$$\\sum_{i=1}^nc_i\\overrightarrow{x_i}=0$$\n",
    "其中$c_{i}$不全为0"
   ]
  },
  {
   "cell_type": "markdown",
   "metadata": {
    "collapsed": false,
    "pycharm": {
     "name": "#%% md\n"
    }
   },
   "source": [
    "如果说向量$\\overrightarrow{v_1},...,\\overrightarrow{v_n}$构成了一个向量空间，那么这个空间包含这些向量的所有线性组合"
   ]
  },
  {
   "cell_type": "markdown",
   "metadata": {
    "collapsed": false,
    "pycharm": {
     "name": "#%% md\n"
    }
   },
   "source": [
    "空间中的一组基是指具有如下性质的一系列向量$\\overrightarrow{v_1},...,\\overrightarrow{v_n}$:\n",
    "1. 线性无关\n",
    "2. 生成整个空间\n",
    "\n",
    "比如对于$R^3$来说，空间中的一组基就是$\\begin{bmatrix}\n",
    "1\\\\\\\\\n",
    "0\\\\\\\\\n",
    "0\n",
    "\\end{bmatrix},\\begin{bmatrix}\n",
    "0\\\\\\\\\n",
    "1\\\\\\\\\n",
    "0\n",
    "\\end{bmatrix},\\begin{bmatrix}\n",
    "0\\\\\\\\\n",
    "0\\\\\\\\\n",
    "1\n",
    "\\end{bmatrix}$\n",
    "\n"
   ]
  }
 ],
 "metadata": {
  "kernelspec": {
   "display_name": "Python 3",
   "language": "python",
   "name": "python3"
  },
  "language_info": {
   "codemirror_mode": {
    "name": "ipython",
    "version": 3
   },
   "file_extension": ".py",
   "mimetype": "text/x-python",
   "name": "python",
   "nbconvert_exporter": "python",
   "pygments_lexer": "ipython3",
   "version": "3.6.8"
  },
  "pycharm": {
   "stem_cell": {
    "cell_type": "raw",
    "source": [],
    "metadata": {
     "collapsed": false
    }
   }
  }
 },
 "nbformat": 4,
 "nbformat_minor": 1
}