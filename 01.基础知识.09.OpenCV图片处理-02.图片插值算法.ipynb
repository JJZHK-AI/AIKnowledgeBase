{
 "cells": [
  {
   "cell_type": "markdown",
   "metadata": {
    "collapsed": true,
    "pycharm": {
     "name": "#%% md\n"
    }
   },
   "source": [
    "图片缩放与插值算法\n",
    "==="
   ]
  },
  {
   "cell_type": "markdown",
   "source": [
    "# 1.最近邻域插值算法\n",
    "假设原图片为src，目标图片为dst，那么就有\n",
    "$$\\begin{cases}\n",
    "dstX&=srcX \\times \\frac{srcH}{dstH} \\\\\n",
    "dstY&=srcY \\times \\frac{srcW}{dstW}\n",
    "\\end{cases}$$"
   ],
   "metadata": {
    "collapsed": false
   }
  }
 ],
 "metadata": {
  "kernelspec": {
   "display_name": "Python 3",
   "language": "python",
   "name": "python3"
  },
  "language_info": {
   "codemirror_mode": {
    "name": "ipython",
    "version": 2
   },
   "file_extension": ".py",
   "mimetype": "text/x-python",
   "name": "python",
   "nbconvert_exporter": "python",
   "pygments_lexer": "ipython2",
   "version": "2.7.6"
  },
  "pycharm": {
   "stem_cell": {
    "cell_type": "raw",
    "source": [],
    "metadata": {
     "collapsed": false
    }
   }
  }
 },
 "nbformat": 4,
 "nbformat_minor": 0
}