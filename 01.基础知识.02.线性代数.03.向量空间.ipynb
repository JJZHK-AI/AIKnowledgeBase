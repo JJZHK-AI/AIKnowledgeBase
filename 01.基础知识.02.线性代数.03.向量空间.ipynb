{
 "cells": [
  {
   "cell_type": "markdown",
   "metadata": {
    "collapsed": true
   },
   "source": [
    "向量空间\n",
    "===\n",
    "向量可以做两种操作:两个向量相加、向量与标量相乘。由向量组成的空间就是向量空间，用$R^n$表示，n表示向量分量的个数。"
   ]
  },
  {
   "cell_type": "markdown",
   "metadata": {},
   "source": [
    "# 1.向量空间"
   ]
  },
  {
   "cell_type": "markdown",
   "metadata": {},
   "source": [
    "设$V$是一个非空集合，$P$是一个域，若:\n",
    "1. 在$V$中定义了一种运算，称为加法，即对$V$中任意两个元素$\\alpha,\\beta$都按某一法则对应于$V$内唯一确定的一个元素$\\alpha+\\beta$，称为$\\alpha$与$\\beta$的和。即空间内的两个相加，仍然在空间内。\n",
    "2. 在$P$与$V$的元素间定义了一种运算，称为纯量乘法(亦称数量乘法)，即对$V$中任意元素$\\alpha$和$P$中任意元素$k$，都按某一法则对应$V$内惟一确定的一个元素$k\\alpha$，称为$k$与$\\alpha$的积。即空间内的向量与某个标量相乘，仍然在空间内。\n",
    "并且满足一下性质\n",
    "1. 对任意$\\alpha，\\beta \\in V$，有$\\alpha+\\beta=\\beta+\\alpha$\n",
    "2. 对任意$\\alpha，\\beta, \\gamma \\in V$, 有$\\alpha+(\\beta+\\gamma)=(\\alpha+\\beta)+\\gamma$\n",
    "3. 存在一个元素$0 \\in V$，对一切$\\alpha \\in V$有$\\alpha+0=\\alpha$，元素0称为V的零元.\n",
    "4. 对任一$\\alpha \\in V$，都存在$\\beta \\in V$使$\\alpha+\\beta=0$，$\\beta$称为$\\alpha$的负元素，记为$-\\alpha$.\n",
    "5. 对$P$中单位元1，有$1\\alpha=\\alpha(\\alpha \\in V)$.\n",
    "6. 对任意$k，l \\in P，\\alpha \\in V$有$(kl)\\alpha=k(l\\alpha)$.\n",
    "7. 对任意$k，l \\in P，\\alpha \\in V$有$(k+l)\\alpha=k\\alpha+l\\alpha$.\n",
    "8. 对任意$k \\in P，\\alpha，\\beta \\in V$有$k(\\alpha+\\beta)=k\\alpha+k\\beta$\n",
    "\n",
    "则称$V$为域$P$上的一个线性空间，或向量空间。$V$中元素称为向量，$V$的零元称为零向量，$P$称为线性空间的基域.当$P$是实数域时，$V$称为实线性空间.当$P$是复数域时，$V$称为复线性空间。因此，向量空间必须对向量的线性组合是封闭的"
   ]
  },
  {
   "cell_type": "markdown",
   "metadata": {},
   "source": [
    "# 2.子空间\n",
    "子空间一样要满足向量空间的性质，也就是数乘和向量加法。对于$R^2$来说，它是一个二维的向量空间，那么它有多少个子空间呢。"
   ]
  },
  {
   "cell_type": "code",
   "execution_count": 2,
   "metadata": {},
   "outputs": [
    {
     "data": {
      "image/png": "[encoded data removed]",
      "text/plain": [
       "<Figure size 576x576 with 1 Axes>"
      ]
     },
     "metadata": {},
     "output_type": "display_data"
    }
   ],
   "source": [
    "from matplotlib import pyplot as plt\n",
    "import numpy as np\n",
    "\n",
    "plt.figure(figsize=(8,8), facecolor='w')\n",
    "plt.arrow(0, 0,2, 1, width=0.1,length_includes_head=True,color='r')\n",
    "plt.arrow(0, 0,-2, -1, width=0.1,length_includes_head=True,color='b')\n",
    "\n",
    "ax = plt.gca()\n",
    "ax.spines['bottom'].set_position(('data', 0))\n",
    "ax.spines['left'].set_position(('data',0))\n",
    "plt.xlim(-5,5)\n",
    "plt.ylim(-5,5)\n",
    "plt.show()"
   ]
  },
  {
   "cell_type": "markdown",
   "metadata": {},
   "source": [
    "$R^2$有三种类型的子空间\n",
    "1. 过原点的任意直线，都是它的子空间。这是因为在这个子空间里，任意的两个向量相加，结果还是在这个子空间里；任意向量进行数乘的结果，还是在这个子空间里\n",
    "2. $R^2$本身就是它自己的子空间\n",
    "3. 原点也是它的子空间，在这个子空间里，每个向量都是$\\begin{bmatrix}\n",
    "0\\\\\\\\\n",
    "0\n",
    "\\end{bmatrix}$,所以相加一定还是在这个子空间里，进行数乘也是在这个子空间里"
   ]
  },
  {
   "cell_type": "markdown",
   "metadata": {},
   "source": [
    "那么对于$R^3$来说有几种子空间呢。首先由$R^3$本身，其次就是原点，然后就是过原点的平面，然后就是过原点的直线，四种。对于子空间来说，两个子空间的并集，不是子空间。两个子空间的交集，一定是子空间"
   ]
  },
  {
   "cell_type": "markdown",
   "metadata": {},
   "source": [
    "# 3.列空间\n",
    "假设有矩阵\n",
    "$$A=\\begin{bmatrix}\n",
    "1&3\\\\\\\\\n",
    "2&3\\\\\\\\\n",
    "4&1\n",
    "\\end{bmatrix}$$，那么怎么样通过这个矩阵来构造一个子空间呢？其中一种方法就是通过列空间来构造。我们知道A中的各个列都是在向量空间$R^3$中的，现在子空间中已经有了两个向量，那么还需要什么样的向量才可以构造成一个子空间呢？答案就是这两个向量的线性组合之后的向量都应该在子空间内，这样就构成了一个子空间。这就是列空间$C(A)$。最后得到的子空间就是由原点以及这两个列向量组成的一个平面。"
   ]
  },
  {
   "cell_type": "markdown",
   "metadata": {},
   "source": [
    "接下来我们来继续讨论我们的$A \\cdot X=b$。对于上面的A,是否对于任意的b都有解呢？答案是否定的，因为A所构成的列空间仅仅是$R^3$空间的一个子空间。那么就有另一个问题了，什么样的b才会有解呢？很容易得到答案。只要b属于A的列空间的向量，那么就一定有解了"
   ]
  },
  {
   "cell_type": "markdown",
   "metadata": {},
   "source": [
    "# 4.零空间\n",
    "我们有矩阵\n",
    "$$\\begin{bmatrix}\n",
    "1&1&2\\\\\\\\\n",
    "2&1&3\\\\\\\\\n",
    "3&1&4\\\\\\\\\n",
    "4&1&5\n",
    "\\end{bmatrix}$$\n",
    "零空间就是满足$A \\cdot X=0$的那些解的向量空间，于是就有\n",
    "$$\\begin{bmatrix}\n",
    "1&1&2\\\\\\\\\n",
    "2&1&3\\\\\\\\\n",
    "3&1&4\\\\\\\\\n",
    "4&1&5\n",
    "\\end{bmatrix} \\cdot \\begin{bmatrix}\n",
    "x_1\\\\\\\\\n",
    "x_2\\\\\\\\\n",
    "x_3\n",
    "\\end{bmatrix}=\\begin{bmatrix}\n",
    "0\\\\\\\\\n",
    "0\\\\\\\\\n",
    "0\n",
    "\\end{bmatrix}$$\n",
    "我们可以知道解是$c \\times \\begin{bmatrix}\n",
    "1\\\\\\\\\n",
    "1\\\\\\\\\n",
    "-1\n",
    "\\end{bmatrix}$，得到了一条通过原点的直线，它也是$R^3$上的一个子空间。其实对于$A \\cdot X=0$来说，它的解可以构成一个子空间"
   ]
  },
  {
   "cell_type": "markdown",
   "metadata": {},
   "source": [
    "## 4.1.求解$A \\cdot X=0$"
   ]
  },
  {
   "cell_type": "markdown",
   "metadata": {},
   "source": [
    "求解$A \\cdot X=0$，其中$$A=\\begin{bmatrix}\n",
    "1&2&2&2\\\\\\\\\n",
    "2&4&6&8\\\\\\\\\n",
    "3&6&8&10\n",
    "\\end{bmatrix}$$。\n",
    "使用消元法，设置$E_{11}$为主元同时消去$E_{21},E_{31}$，就有\n",
    "$$A=\\begin{bmatrix}\n",
    "1&2&2&2\\\\\\\\\n",
    "0&0&2&4\\\\\\\\\n",
    "0&0&2&4\n",
    "\\end{bmatrix}$$\n",
    "接下来只能设置$E_{23}$为主元然后消去$E_{33}$，有\n",
    "$$A=\\begin{bmatrix}\n",
    "1&2&2&2\\\\\\\\\n",
    "0&0&2&4\\\\\\\\\n",
    "0&0&0&0\n",
    "\\end{bmatrix}$$\n",
    "可以看到A已经变为了上三角阵U了，由于右侧不变，就有了$U \\cdot X=0$。同时我们只找到了2个主元，那么这个矩阵的秩就是2.rank(A)=2，同时我们把主元所在的列叫做主列，其它列叫做自由列。根据U我们可以得到如下线性方程组\n",
    "$$\\begin{cases}\n",
    "x_1+2x_2+&2x_3+2x_4=0 \\\\\\\\\n",
    "&2x_3+4x_4=0\n",
    "\\end{cases}$$\n",
    "由于主元在第1，3两列，所以$x_1,x_3$是主变量，$x_2,x_4$是自由变量。自由变量的意思就是可以去任意值，根据任意值就可以求出主变量的值，最后合成一个完整的解。"
   ]
  },
  {
   "cell_type": "markdown",
   "metadata": {},
   "source": [
    "对于$m \\times n$的矩阵，变量有n个，若其秩为r，那么自由变量就有$n-r$个"
   ]
  },
  {
   "cell_type": "markdown",
   "metadata": {},
   "source": [
    "# 5.行空间\n",
    "由矩阵的行向量生成的就是行空间。当行向量线性无关时，那么行向量就是行空间的一组基。否则就不是。"
   ]
  },
  {
   "cell_type": "markdown",
   "metadata": {},
   "source": [
    "# 6.转置的零空间(左零空间)"
   ]
  }
 ],
 "metadata": {
  "kernelspec": {
   "display_name": "Python 3",
   "language": "python",
   "name": "python3"
  },
  "language_info": {
   "codemirror_mode": {
    "name": "ipython",
    "version": 3
   },
   "file_extension": ".py",
   "mimetype": "text/x-python",
   "name": "python",
   "nbconvert_exporter": "python",
   "pygments_lexer": "ipython3",
   "version": "3.6.8"
  }
 },
 "nbformat": 4,
 "nbformat_minor": 1
}
