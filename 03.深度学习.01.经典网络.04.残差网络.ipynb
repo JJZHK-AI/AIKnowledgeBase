{
 "cells": [
  {
   "cell_type": "markdown",
   "metadata": {
    "collapsed": true,
    "pycharm": {
     "name": "#%% md\n"
    }
   },
   "source": [
    "残差网络\n",
    "==="
   ]
  },
  {
   "cell_type": "markdown",
   "source": [
    "# 1.传统网络的问题\n",
    "传统的神经网络中，随着网络层数的增加，网络发生了退化(degradation)的现象：随着网络层数的增多，训练集loss逐渐下降，然后趋于饱和，当你再增加网络深度的话，训练集loss反而会增大。"
   ],
   "metadata": {
    "collapsed": false,
    "pycharm": {
     "name": "#%% md\n"
    }
   }
  },
  {
   "cell_type": "markdown",
   "source": [
    "注意这并不是过拟合，因为在过拟合中训练loss是一直减小的。当网络退化时，浅层网络能够达到比深层网络更好的训练效果，这时如果我们把低层的特征传到高层，那么效果应该至少不比浅层的网络效果差，"
   ],
   "metadata": {
    "collapsed": false,
    "pycharm": {
     "name": "#%% md\n"
    }
   }
  },
  {
   "cell_type": "markdown",
   "source": [
    "或者说如果一个VGG-100网络在第98层使用的是和VGG-16第14层一模一样的特征，那么VGG-100的效果应该会和VGG-16的效果相同。"
   ],
   "metadata": {
    "collapsed": false,
    "pycharm": {
     "name": "#%% md\n"
    }
   }
  },
  {
   "cell_type": "markdown",
   "source": [
    "所以，我们可以在VGG-100的98层和14层之间添加一条直接映射(Identity Mapping)来达到此效果。基于这种使用直接映射来连接网络不同层直接的思想，残差网络应运而生"
   ],
   "metadata": {
    "collapsed": false,
    "pycharm": {
     "name": "#%% md\n"
    }
   }
  },
  {
   "cell_type": "markdown",
   "source": [
    "# 2.残差网络\n",
    "## 2.1.残差块\n",
    "残差网络是由一系列残差块组成的（图1）。一个残差块可以用表示为：\n",
    "$$x_{l+1}= x_l+\\mathcal{F}(x_l, {W_l})$$\n",
    "残差块分成两部分直接映射部分和残差部分。$h(x_l)$是直接映射，反应在图1中是左边的曲线；$\\mathcal{F}(x_l, {W_l})$是残差部分，一般由两个或者三个卷积操作构成，即图1中右侧包含卷积的部分。\n",
    "![image](Images/03/01/04_001.png)\n",
    "图中的'Weight‘在卷积网络中是指卷积操作，’addition‘是指单位加操作。在卷积网络中，$x_l$可能和$x_{l+1}$的Feature Map的数量不一样，这时候就需要使用$1 \\times 1$卷积进行升维或者降维。这时，残差块表示为：\n",
    "$$x_{l+1}= h(x_l)+\\mathcal{F}(x_l, {W_l})$$\n",
    "![image](Images/03/01/04_002.png)\n",
    "其中$h(x_l) = W'_lx$。其中$W'_l$是$1 \\times 1$卷核，是实验结果$1 \\times 1$卷积对模型性能提升有限，所以一般是在升维或者降维时才会使用。一般，这种版本的残差块叫做resnet_v1"
   ],
   "metadata": {
    "collapsed": false,
    "pycharm": {
     "name": "#%% md\n"
    }
   }
  },
  {
   "cell_type": "code",
   "execution_count": 1,
   "outputs": [],
   "source": [
    "import torch\n",
    "\n",
    "\n",
    "class Res_Block_V1(torch.nn.Module):\n",
    "    def __init__(self, input_filter, output_filter):\n",
    "        super(Res_Block_V1, self).__init__()\n",
    "        self.input_filter = input_filter\n",
    "        self.output_filter = output_filter\n",
    "        \n",
    "        self.conv1 = torch.nn.Conv2d(in_channels=input_filter, out_channels=output_filter, kernel_size=3, stride=1)\n",
    "        self.norm1 = torch.nn.BatchNorm2d(num_features=output_filter)\n",
    "        self.conv2 = torch.nn.Conv2d(in_channels=output_filter, out_channels=output_filter, kernel_size=3, stride=1)\n",
    "        self.norm2 = torch.nn.BatchNorm2d(num_features=output_filter)\n",
    "        self.relu  = torch.nn.ReLU()\n",
    "        \n",
    "        self.otherConv = torch.nn.Conv2d(in_channels=output_filter, out_channels=output_filter, kernel_size=1, stride=1)\n",
    "        \n",
    "    def forward(self, input):\n",
    "        x = self.conv1(input)\n",
    "        x = self.norm1(x)\n",
    "        x = self.relu(x)\n",
    "        x = self.conv2(x)\n",
    "        x = self.norm2(x)\n",
    "        \n",
    "        if self.input_filter == self.output_filter:\n",
    "            identity = input\n",
    "        else:\n",
    "            identity = self.otherConv(x)\n",
    "        \n",
    "        x += identity\n",
    "        x = self.relu(x)\n",
    "        return x"
   ],
   "metadata": {
    "collapsed": false,
    "pycharm": {
     "name": "#%%\n",
     "is_executing": false
    }
   }
  },
  {
   "cell_type": "markdown",
   "source": [
    "## 2.2.残差网络\n",
    "残差网络的搭建分为两步：\n",
    "- 使用VGG公式搭建Plain VGG网络\n",
    "- 在Plain VGG的卷积网络之间插入Identity Mapping，注意需要升维或者降维的时候加入$1 \\times 1$卷积。\n",
    "\n",
    "在实现过程中，一般是直接stack残差块的方式。"
   ],
   "metadata": {
    "collapsed": false,
    "pycharm": {
     "name": "#%% md\n"
    }
   }
  },
  {
   "cell_type": "code",
   "execution_count": 2,
   "outputs": [],
   "source": [
    "class Resnet(torch.nn.Module):\n",
    "    def __init__(self):\n",
    "        super(Resnet, self).__init__()\n",
    "        self.linear_infeature = 64\n",
    "        self.conv1 = torch.nn.Conv2d(in_channels=3, out_channels=16, stride=1, kernel_size=3)\n",
    "        self.relu = torch.nn.ReLU()\n",
    "        self.block1 = Res_Block_V1(16, 16)\n",
    "        self.block2 = Res_Block_V1(16, 32)\n",
    "        self.fc = torch.nn.Linear(in_features=self.linear_infeature, out_features=10)\n",
    "        self.softmax = torch.nn.Softmax()\n",
    "        \n",
    "    def forward(self, input):\n",
    "        x = self.conv1(input)\n",
    "        x = self.block1(x)\n",
    "        x = self.block2(x)\n",
    "        x = x.view(-1, self.linear_infeature)\n",
    "        x = self.fc(x)\n",
    "        x = self.softmax(x)\n",
    "        \n",
    "        return x"
   ],
   "metadata": {
    "collapsed": false,
    "pycharm": {
     "name": "#%%\n",
     "is_executing": false
    }
   }
  },
  {
   "cell_type": "markdown",
   "source": [
    "## 2.3.为什么叫做残差网络\n",
    "在统计学中，残差和误差是非常容易混淆的两个概念。\n",
    "- 误差是衡量观测值和真实值之间的差距\n",
    "- 残差是指预测值和观测值之间的差距"
   ],
   "metadata": {
    "collapsed": false,
    "pycharm": {
     "name": "#%% md\n"
    }
   }
  },
  {
   "cell_type": "markdown",
   "source": [
    "网络的一层通常可以看做$y=H(x)$, 而残差网络的一个残差块可以表示为$H(x)=F(x)+x$，也就是$F(x) = H(x)-x$，在单位映射中，$y=x$便是观测值，"
   ],
   "metadata": {
    "collapsed": false,
    "pycharm": {
     "name": "#%% md\n"
    }
   }
  },
  {
   "cell_type": "markdown",
   "source": [
    "而$H(x)$是预测值，所以$F(x)$便对应着残差，因此叫做残差网络。"
   ],
   "metadata": {
    "collapsed": false,
    "pycharm": {
     "name": "#%% md\n"
    }
   }
  },
  {
   "cell_type": "markdown",
   "source": [
    "## 2.4.Resnet V2版本\n",
    "经过试验之后发现，激活函数移动到残差部分可以提高模型的精度"
   ],
   "metadata": {
    "collapsed": false,
    "pycharm": {
     "name": "#%% md\n"
    }
   }
  },
  {
   "cell_type": "code",
   "execution_count": null,
   "outputs": [],
   "source": [
    "import torch\n",
    "\n",
    "\n",
    "class Res_Block_V2(torch.nn.Module):\n",
    "    def __init__(self, input_filter, output_filter):\n",
    "        super(Res_Block_V1, self).__init__()\n",
    "        self.input_filter = input_filter\n",
    "        self.output_filter = output_filter\n",
    "        \n",
    "        self.norm0 = torch.nn.BatchNorm2d(num_features=input_filter)\n",
    "        self.relu  = torch.nn.ReLU()\n",
    "        \n",
    "        self.conv1 = torch.nn.Conv2d(in_channels=input_filter, out_channels=output_filter, kernel_size=3, stride=1)\n",
    "        self.norm1 = torch.nn.BatchNorm2d(num_features=output_filter)\n",
    "        \n",
    "        self.conv2 = torch.nn.Conv2d(in_channels=output_filter, out_channels=output_filter, kernel_size=3, stride=1)\n",
    "        \n",
    "        \n",
    "        \n",
    "        self.otherConv = torch.nn.Conv2d(in_channels=output_filter, out_channels=output_filter, kernel_size=1, stride=1)\n",
    "        \n",
    "    def forward(self, input):\n",
    "        x = self.norm0(input)\n",
    "        x = self.relu(x)\n",
    "        \n",
    "        x = self.conv1(input)\n",
    "        x = self.norm1(x)\n",
    "        x = self.relu(x)\n",
    "        x = self.conv2(x)\n",
    "        x = self.norm2(x)\n",
    "        \n",
    "        if self.input_filter == self.output_filter:\n",
    "            identity = input\n",
    "        else:\n",
    "            identity = self.otherConv(x)\n",
    "        \n",
    "        x += identity\n",
    "        x = self.relu(x)\n",
    "        return x\n",
    "\n",
    "\n",
    "class Resnet_V2(torch.nn.Module):\n",
    "    def __init__(self):\n",
    "        super(Resnet, self).__init__()\n",
    "        self.linear_infeature = 64\n",
    "        self.conv1 = torch.nn.Conv2d(in_channels=3, out_channels=16, stride=1, kernel_size=3)\n",
    "        self.relu = torch.nn.ReLU()\n",
    "        self.block1 = Res_Block_V2(16, 16)\n",
    "        self.block2 = Res_Block_V2(16, 32)\n",
    "        self.norm1 = torch.nn.BatchNorm2d(num_features=32)\n",
    "        self.fc = torch.nn.Linear(in_features=self.linear_infeature, out_features=10)\n",
    "        self.softmax = torch.nn.Softmax()\n",
    "        \n",
    "    def forward(self, input):\n",
    "        x = self.conv1(input)\n",
    "        x = self.block1(x)\n",
    "        x = self.block2(x)\n",
    "        x = self.norm1(x)\n",
    "        x = x.view(-1, self.linear_infeature)\n",
    "        x = self.fc(x)\n",
    "        x = self.softmax(x)\n",
    "        \n",
    "        return x"
   ],
   "metadata": {
    "collapsed": false,
    "pycharm": {
     "name": "#%%\n"
    }
   }
  },
  {
   "cell_type": "markdown",
   "source": [
    "## 2.5.网络结构"
   ],
   "metadata": {
    "collapsed": false,
    "pycharm": {
     "name": "#%% md\n"
    }
   }
  },
  {
   "cell_type": "code",
   "execution_count": 1,
   "outputs": [
    {
     "data": {
      "text/plain": "<graphviz.dot.Digraph at 0x7f81481ddb70>",
      "image/svg+xml": "<?xml version=\"1.0\" encoding=\"UTF-8\" standalone=\"no\"?>\n<!DOCTYPE svg PUBLIC \"-//W3C//DTD SVG 1.1//EN\"\n \"http://www.w3.org/Graphics/SVG/1.1/DTD/svg11.dtd\">\n<!-- Generated by graphviz version 2.40.1 (20161225.0304)\n -->\n<!-- Title: ResNet50 Pages: 1 -->\n<svg width=\"1497pt\" height=\"1606pt\"\n viewBox=\"0.00 0.00 1497.15 1606.33\" xmlns=\"http://www.w3.org/2000/svg\" xmlns:xlink=\"http://www.w3.org/1999/xlink\">\n<g id=\"graph0\" class=\"graph\" transform=\"scale(1 1) rotate(0) translate(4 1602.3327)\">\n<title>ResNet50</title>\n<polygon fill=\"#ffffff\" stroke=\"transparent\" points=\"-4,4 -4,-1602.3327 1493.1538,-1602.3327 1493.1538,4 -4,4\"/>\n<g id=\"clust2\" class=\"cluster\">\n<title>cluster_1</title>\n<polygon fill=\"#f9fafe\" stroke=\"#e3e5ef\" points=\"8,-8 8,-1468 266,-1468 266,-8 8,-8\"/>\n</g>\n<g id=\"clust4\" class=\"cluster\">\n<title>cluster_2</title>\n<polygon fill=\"#f7fbf7\" stroke=\"#e4ece0\" points=\"427.3846,-19 427.3846,-1503 685.3846,-1503 685.3846,-19 427.3846,-19\"/>\n</g>\n<g id=\"clust6\" class=\"cluster\">\n<title>cluster_3</title>\n<polygon fill=\"#f9fafe\" stroke=\"#e3e5ef\" points=\"855.3846,-19 855.3846,-1503 1113.3846,-1503 1113.3846,-19 855.3846,-19\"/>\n</g>\n<g id=\"clust8\" class=\"cluster\">\n<title>cluster_4</title>\n<polygon fill=\"#f7fbf7\" stroke=\"#e4ece0\" points=\"1266.1538,-465 1266.1538,-1503 1481.1538,-1503 1481.1538,-465 1266.1538,-465\"/>\n</g>\n<!-- block1 -->\n<g id=\"node1\" class=\"node\">\n<title>block1</title>\n<polygon fill=\"#e4e7eb\" stroke=\"transparent\" points=\"28,-1364 28,-1456 246,-1456 246,-1364 28,-1364\"/>\n<polygon fill=\"none\" stroke=\"#acc7d2\" points=\"28,-1433 28,-1456 111,-1456 111,-1433 28,-1433\"/>\n<text text-anchor=\"start\" x=\"52.2692\" y=\"-1441.8\" font-family=\"Fira Code Retina\" font-size=\"14.00\" fill=\"#000000\">Conv</text>\n<polygon fill=\"none\" stroke=\"#acc7d2\" points=\"111,-1433 111,-1456 246,-1456 246,-1433 111,-1433\"/>\n<text text-anchor=\"start\" x=\"113.8846\" y=\"-1441.8\" font-family=\"Fira Code Retina\" font-size=\"14.00\" fill=\"#000000\">64 k7*7 s2*2 p3</text>\n<polygon fill=\"none\" stroke=\"#acc7d2\" points=\"28,-1410 28,-1433 111,-1433 111,-1410 28,-1410\"/>\n<text text-anchor=\"start\" x=\"30.7308\" y=\"-1418.8\" font-family=\"Fira Code Retina\" font-size=\"14.00\" fill=\"#000000\">BatchNorm</text>\n<polygon fill=\"none\" stroke=\"#acc7d2\" points=\"111,-1410 111,-1433 246,-1433 246,-1410 111,-1410\"/>\n<polygon fill=\"none\" stroke=\"#acc7d2\" points=\"28,-1387 28,-1410 111,-1410 111,-1387 28,-1387\"/>\n<text text-anchor=\"start\" x=\"52.2692\" y=\"-1395.8\" font-family=\"Fira Code Retina\" font-size=\"14.00\" fill=\"#000000\">ReLU</text>\n<polygon fill=\"none\" stroke=\"#acc7d2\" points=\"111,-1387 111,-1410 246,-1410 246,-1387 111,-1387\"/>\n<polygon fill=\"none\" stroke=\"#acc7d2\" points=\"28,-1364 28,-1387 111,-1387 111,-1364 28,-1364\"/>\n<text text-anchor=\"start\" x=\"39.3462\" y=\"-1372.8\" font-family=\"Fira Code Retina\" font-size=\"14.00\" fill=\"#000000\">MaxPool</text>\n<polygon fill=\"none\" stroke=\"#acc7d2\" points=\"111,-1364 111,-1387 246,-1387 246,-1364 111,-1364\"/>\n<text text-anchor=\"start\" x=\"126.8077\" y=\"-1372.8\" font-family=\"Fira Code Retina\" font-size=\"14.00\" fill=\"#000000\">k3*3 s2*2 p1</text>\n</g>\n<!-- block2 -->\n<g id=\"node2\" class=\"node\">\n<title>block2</title>\n<polygon fill=\"#e4e7eb\" stroke=\"transparent\" points=\"49.5,-1005.5 49.5,-1212.5 224.5,-1212.5 224.5,-1005.5 49.5,-1005.5\"/>\n<polygon fill=\"none\" stroke=\"#acc7d2\" points=\"50,-1189 50,-1212 133,-1212 133,-1189 50,-1189\"/>\n<text text-anchor=\"start\" x=\"74.2692\" y=\"-1197.8\" font-family=\"Fira Code Retina\" font-size=\"14.00\" fill=\"#000000\">Conv</text>\n<polygon fill=\"none\" stroke=\"#acc7d2\" points=\"133,-1189 133,-1212 225,-1212 225,-1189 133,-1189\"/>\n<text text-anchor=\"start\" x=\"170.3846\" y=\"-1197.8\" font-family=\"Fira Code Retina\" font-size=\"14.00\" fill=\"#000000\">64</text>\n<polygon fill=\"none\" stroke=\"#acc7d2\" points=\"50,-1166 50,-1189 133,-1189 133,-1166 50,-1166\"/>\n<text text-anchor=\"start\" x=\"52.7308\" y=\"-1174.8\" font-family=\"Fira Code Retina\" font-size=\"14.00\" fill=\"#000000\">BatchNorm</text>\n<polygon fill=\"none\" stroke=\"#acc7d2\" points=\"133,-1166 133,-1189 225,-1189 225,-1166 133,-1166\"/>\n<polygon fill=\"none\" stroke=\"#acc7d2\" points=\"50,-1143 50,-1166 133,-1166 133,-1143 50,-1143\"/>\n<text text-anchor=\"start\" x=\"74.2692\" y=\"-1151.8\" font-family=\"Fira Code Retina\" font-size=\"14.00\" fill=\"#000000\">Conv</text>\n<polygon fill=\"none\" stroke=\"#acc7d2\" points=\"133,-1143 133,-1166 225,-1166 225,-1143 133,-1143\"/>\n<text text-anchor=\"start\" x=\"135.9231\" y=\"-1151.8\" font-family=\"Fira Code Retina\" font-size=\"14.00\" fill=\"#000000\">64 k3*3 p1</text>\n<polygon fill=\"none\" stroke=\"#acc7d2\" points=\"50,-1120 50,-1143 133,-1143 133,-1120 50,-1120\"/>\n<text text-anchor=\"start\" x=\"52.7308\" y=\"-1128.8\" font-family=\"Fira Code Retina\" font-size=\"14.00\" fill=\"#000000\">BatchNorm</text>\n<polygon fill=\"none\" stroke=\"#acc7d2\" points=\"133,-1120 133,-1143 225,-1143 225,-1120 133,-1120\"/>\n<polygon fill=\"none\" stroke=\"#acc7d2\" points=\"50,-1097 50,-1120 133,-1120 133,-1097 50,-1097\"/>\n<text text-anchor=\"start\" x=\"74.2692\" y=\"-1105.8\" font-family=\"Fira Code Retina\" font-size=\"14.00\" fill=\"#000000\">Conv</text>\n<polygon fill=\"none\" stroke=\"#acc7d2\" points=\"133,-1097 133,-1120 225,-1120 225,-1097 133,-1097\"/>\n<text text-anchor=\"start\" x=\"166.0769\" y=\"-1105.8\" font-family=\"Fira Code Retina\" font-size=\"14.00\" fill=\"#000000\">256</text>\n<polygon fill=\"none\" stroke=\"#acc7d2\" points=\"50,-1074 50,-1097 133,-1097 133,-1074 50,-1074\"/>\n<text text-anchor=\"start\" x=\"52.7308\" y=\"-1082.8\" font-family=\"Fira Code Retina\" font-size=\"14.00\" fill=\"#000000\">BatchNorm</text>\n<polygon fill=\"none\" stroke=\"#acc7d2\" points=\"133,-1074 133,-1097 225,-1097 225,-1074 133,-1074\"/>\n<polygon fill=\"none\" stroke=\"#acc7d2\" points=\"50,-1051 50,-1074 133,-1074 133,-1051 50,-1051\"/>\n<text text-anchor=\"start\" x=\"74.2692\" y=\"-1059.8\" font-family=\"Fira Code Retina\" font-size=\"14.00\" fill=\"#000000\">ReLU</text>\n<polygon fill=\"none\" stroke=\"#acc7d2\" points=\"133,-1051 133,-1074 225,-1074 225,-1051 133,-1051\"/>\n<polygon fill=\"none\" stroke=\"#acc7d2\" points=\"50,-1028 50,-1051 133,-1051 133,-1028 50,-1028\"/>\n<text text-anchor=\"start\" x=\"74.2692\" y=\"-1036.8\" font-family=\"Fira Code Retina\" font-size=\"14.00\" fill=\"#000000\">Conv</text>\n<polygon fill=\"none\" stroke=\"#acc7d2\" points=\"133,-1028 133,-1051 225,-1051 225,-1028 133,-1028\"/>\n<text text-anchor=\"start\" x=\"166.0769\" y=\"-1036.8\" font-family=\"Fira Code Retina\" font-size=\"14.00\" fill=\"#000000\">256</text>\n<polygon fill=\"none\" stroke=\"#acc7d2\" points=\"50,-1005 50,-1028 133,-1028 133,-1005 50,-1005\"/>\n<text text-anchor=\"start\" x=\"52.7308\" y=\"-1013.8\" font-family=\"Fira Code Retina\" font-size=\"14.00\" fill=\"#000000\">BatchNorm</text>\n<polygon fill=\"none\" stroke=\"#acc7d2\" points=\"133,-1005 133,-1028 225,-1028 225,-1005 133,-1005\"/>\n</g>\n<!-- block1&#45;&gt;block2 -->\n<g id=\"edge1\" class=\"edge\">\n<title>block1&#45;&gt;block2</title>\n<path fill=\"none\" stroke=\"#7d88c7\" d=\"M137,-1359.7266C137,-1323.4925 137,-1273.0481 137,-1226.8995\"/>\n<polygon fill=\"#7d88c7\" stroke=\"#7d88c7\" points=\"140.5001,-1226.8177 137,-1216.8177 133.5001,-1226.8178 140.5001,-1226.8177\"/>\n<text text-anchor=\"middle\" x=\"125.3846\" y=\"-1285.6654\" font-family=\"Fira Code Retina\" font-size=\"14.00\" fill=\"#000000\">bs*64*61*61</text>\n</g>\n<!-- T0 -->\n<!-- block1&#45;&gt;T0 -->\n<!-- block3 -->\n<g id=\"node3\" class=\"node\">\n<title>block3</title>\n<polygon fill=\"#f1e3dd\" stroke=\"transparent\" points=\"49.5,-692.5 49.5,-853.5 224.5,-853.5 224.5,-692.5 49.5,-692.5\"/>\n<polygon fill=\"none\" stroke=\"#ddbf9a\" points=\"50,-830 50,-853 133,-853 133,-830 50,-830\"/>\n<text text-anchor=\"start\" x=\"74.2692\" y=\"-838.8\" font-family=\"Fira Code Retina\" font-size=\"14.00\" fill=\"#000000\">Conv</text>\n<polygon fill=\"none\" stroke=\"#ddbf9a\" points=\"133,-830 133,-853 225,-853 225,-830 133,-830\"/>\n<text text-anchor=\"start\" x=\"170.3846\" y=\"-838.8\" font-family=\"Fira Code Retina\" font-size=\"14.00\" fill=\"#000000\">64</text>\n<polygon fill=\"none\" stroke=\"#ddbf9a\" points=\"50,-807 50,-830 133,-830 133,-807 50,-807\"/>\n<text text-anchor=\"start\" x=\"52.7308\" y=\"-815.8\" font-family=\"Fira Code Retina\" font-size=\"14.00\" fill=\"#000000\">BatchNorm</text>\n<polygon fill=\"none\" stroke=\"#ddbf9a\" points=\"133,-807 133,-830 225,-830 225,-807 133,-807\"/>\n<polygon fill=\"none\" stroke=\"#ddbf9a\" points=\"50,-784 50,-807 133,-807 133,-784 50,-784\"/>\n<text text-anchor=\"start\" x=\"74.2692\" y=\"-792.8\" font-family=\"Fira Code Retina\" font-size=\"14.00\" fill=\"#000000\">Conv</text>\n<polygon fill=\"none\" stroke=\"#ddbf9a\" points=\"133,-784 133,-807 225,-807 225,-784 133,-784\"/>\n<text text-anchor=\"start\" x=\"135.9231\" y=\"-792.8\" font-family=\"Fira Code Retina\" font-size=\"14.00\" fill=\"#000000\">64 k3*3 p1</text>\n<polygon fill=\"none\" stroke=\"#ddbf9a\" points=\"50,-761 50,-784 133,-784 133,-761 50,-761\"/>\n<text text-anchor=\"start\" x=\"52.7308\" y=\"-769.8\" font-family=\"Fira Code Retina\" font-size=\"14.00\" fill=\"#000000\">BatchNorm</text>\n<polygon fill=\"none\" stroke=\"#ddbf9a\" points=\"133,-761 133,-784 225,-784 225,-761 133,-761\"/>\n<polygon fill=\"none\" stroke=\"#ddbf9a\" points=\"50,-738 50,-761 133,-761 133,-738 50,-738\"/>\n<text text-anchor=\"start\" x=\"74.2692\" y=\"-746.8\" font-family=\"Fira Code Retina\" font-size=\"14.00\" fill=\"#000000\">Conv</text>\n<polygon fill=\"none\" stroke=\"#ddbf9a\" points=\"133,-738 133,-761 225,-761 225,-738 133,-738\"/>\n<text text-anchor=\"start\" x=\"166.0769\" y=\"-746.8\" font-family=\"Fira Code Retina\" font-size=\"14.00\" fill=\"#000000\">256</text>\n<polygon fill=\"none\" stroke=\"#ddbf9a\" points=\"50,-715 50,-738 133,-738 133,-715 50,-715\"/>\n<text text-anchor=\"start\" x=\"52.7308\" y=\"-723.8\" font-family=\"Fira Code Retina\" font-size=\"14.00\" fill=\"#000000\">BatchNorm</text>\n<polygon fill=\"none\" stroke=\"#ddbf9a\" points=\"133,-715 133,-738 225,-738 225,-715 133,-715\"/>\n<polygon fill=\"none\" stroke=\"#ddbf9a\" points=\"50,-692 50,-715 133,-715 133,-692 50,-692\"/>\n<text text-anchor=\"start\" x=\"74.2692\" y=\"-700.8\" font-family=\"Fira Code Retina\" font-size=\"14.00\" fill=\"#000000\">ReLU</text>\n<polygon fill=\"none\" stroke=\"#ddbf9a\" points=\"133,-692 133,-715 225,-715 225,-692 133,-692\"/>\n</g>\n<!-- block2&#45;&gt;block3 -->\n<g id=\"edge2\" class=\"edge\">\n<title>block2&#45;&gt;block3</title>\n<path fill=\"none\" stroke=\"#7d88c7\" d=\"M137,-1001.3011C137,-958.3991 137,-909.4479 137,-867.9044\"/>\n<polygon fill=\"#7d88c7\" stroke=\"#7d88c7\" points=\"140.5001,-867.787 137,-857.787 133.5001,-867.787 140.5001,-867.787\"/>\n<text text-anchor=\"middle\" x=\"125.3846\" y=\"-926.9154\" font-family=\"Fira Code Retina\" font-size=\"14.00\" fill=\"#000000\">bs*256*61*61</text>\n</g>\n<!-- block4 -->\n<g id=\"node4\" class=\"node\">\n<title>block4</title>\n<polygon fill=\"#e9e1f0\" stroke=\"transparent\" points=\"49.5,-379.5 49.5,-540.5 224.5,-540.5 224.5,-379.5 49.5,-379.5\"/>\n<polygon fill=\"none\" stroke=\"#a592c5\" points=\"50,-517 50,-540 133,-540 133,-517 50,-517\"/>\n<text text-anchor=\"start\" x=\"74.2692\" y=\"-525.8\" font-family=\"Fira Code Retina\" font-size=\"14.00\" fill=\"#000000\">Conv</text>\n<polygon fill=\"none\" stroke=\"#a592c5\" points=\"133,-517 133,-540 225,-540 225,-517 133,-517\"/>\n<text text-anchor=\"start\" x=\"170.3846\" y=\"-525.8\" font-family=\"Fira Code Retina\" font-size=\"14.00\" fill=\"#000000\">64</text>\n<polygon fill=\"none\" stroke=\"#a592c5\" points=\"50,-494 50,-517 133,-517 133,-494 50,-494\"/>\n<text text-anchor=\"start\" x=\"52.7308\" y=\"-502.8\" font-family=\"Fira Code Retina\" font-size=\"14.00\" fill=\"#000000\">BatchNorm</text>\n<polygon fill=\"none\" stroke=\"#a592c5\" points=\"133,-494 133,-517 225,-517 225,-494 133,-494\"/>\n<polygon fill=\"none\" stroke=\"#a592c5\" points=\"50,-471 50,-494 133,-494 133,-471 50,-471\"/>\n<text text-anchor=\"start\" x=\"74.2692\" y=\"-479.8\" font-family=\"Fira Code Retina\" font-size=\"14.00\" fill=\"#000000\">Conv</text>\n<polygon fill=\"none\" stroke=\"#a592c5\" points=\"133,-471 133,-494 225,-494 225,-471 133,-471\"/>\n<text text-anchor=\"start\" x=\"135.9231\" y=\"-479.8\" font-family=\"Fira Code Retina\" font-size=\"14.00\" fill=\"#000000\">64 k3*3 p1</text>\n<polygon fill=\"none\" stroke=\"#a592c5\" points=\"50,-448 50,-471 133,-471 133,-448 50,-448\"/>\n<text text-anchor=\"start\" x=\"52.7308\" y=\"-456.8\" font-family=\"Fira Code Retina\" font-size=\"14.00\" fill=\"#000000\">BatchNorm</text>\n<polygon fill=\"none\" stroke=\"#a592c5\" points=\"133,-448 133,-471 225,-471 225,-448 133,-448\"/>\n<polygon fill=\"none\" stroke=\"#a592c5\" points=\"50,-425 50,-448 133,-448 133,-425 50,-425\"/>\n<text text-anchor=\"start\" x=\"74.2692\" y=\"-433.8\" font-family=\"Fira Code Retina\" font-size=\"14.00\" fill=\"#000000\">Conv</text>\n<polygon fill=\"none\" stroke=\"#a592c5\" points=\"133,-425 133,-448 225,-448 225,-425 133,-425\"/>\n<text text-anchor=\"start\" x=\"166.0769\" y=\"-433.8\" font-family=\"Fira Code Retina\" font-size=\"14.00\" fill=\"#000000\">256</text>\n<polygon fill=\"none\" stroke=\"#a592c5\" points=\"50,-402 50,-425 133,-425 133,-402 50,-402\"/>\n<text text-anchor=\"start\" x=\"52.7308\" y=\"-410.8\" font-family=\"Fira Code Retina\" font-size=\"14.00\" fill=\"#000000\">BatchNorm</text>\n<polygon fill=\"none\" stroke=\"#a592c5\" points=\"133,-402 133,-425 225,-425 225,-402 133,-402\"/>\n<polygon fill=\"none\" stroke=\"#a592c5\" points=\"50,-379 50,-402 133,-402 133,-379 50,-379\"/>\n<text text-anchor=\"start\" x=\"74.2692\" y=\"-387.8\" font-family=\"Fira Code Retina\" font-size=\"14.00\" fill=\"#000000\">ReLU</text>\n<polygon fill=\"none\" stroke=\"#a592c5\" points=\"133,-379 133,-402 225,-402 225,-379 133,-379\"/>\n</g>\n<!-- block3&#45;&gt;block4 -->\n<g id=\"edge3\" class=\"edge\">\n<title>block3&#45;&gt;block4</title>\n<path fill=\"none\" stroke=\"#7d88c7\" d=\"M137,-688.23C137,-646.9886 137,-597.2668 137,-554.7745\"/>\n<polygon fill=\"#7d88c7\" stroke=\"#7d88c7\" points=\"140.5001,-554.7023 137,-544.7023 133.5001,-554.7023 140.5001,-554.7023\"/>\n<text text-anchor=\"middle\" x=\"125.3846\" y=\"-613.9154\" font-family=\"Fira Code Retina\" font-size=\"14.00\" fill=\"#000000\">bs*256*61*61</text>\n</g>\n<!-- block5 -->\n<g id=\"node5\" class=\"node\">\n<title>block5</title>\n<polygon fill=\"#e4e7eb\" stroke=\"transparent\" points=\"24,-20.5 24,-227.5 250,-227.5 250,-20.5 24,-20.5\"/>\n<polygon fill=\"none\" stroke=\"#acc7d2\" points=\"24,-204 24,-227 107,-227 107,-204 24,-204\"/>\n<text text-anchor=\"start\" x=\"48.2692\" y=\"-212.8\" font-family=\"Fira Code Retina\" font-size=\"14.00\" fill=\"#000000\">Conv</text>\n<polygon fill=\"none\" stroke=\"#acc7d2\" points=\"107,-204 107,-227 250,-227 250,-204 107,-204\"/>\n<text text-anchor=\"start\" x=\"165.5769\" y=\"-212.8\" font-family=\"Fira Code Retina\" font-size=\"14.00\" fill=\"#000000\">128</text>\n<polygon fill=\"none\" stroke=\"#acc7d2\" points=\"24,-181 24,-204 107,-204 107,-181 24,-181\"/>\n<text text-anchor=\"start\" x=\"26.7308\" y=\"-189.8\" font-family=\"Fira Code Retina\" font-size=\"14.00\" fill=\"#000000\">BatchNorm</text>\n<polygon fill=\"none\" stroke=\"#acc7d2\" points=\"107,-181 107,-204 250,-204 250,-181 107,-181\"/>\n<polygon fill=\"none\" stroke=\"#acc7d2\" points=\"24,-158 24,-181 107,-181 107,-158 24,-158\"/>\n<text text-anchor=\"start\" x=\"48.2692\" y=\"-166.8\" font-family=\"Fira Code Retina\" font-size=\"14.00\" fill=\"#000000\">Conv</text>\n<polygon fill=\"none\" stroke=\"#acc7d2\" points=\"107,-158 107,-181 250,-181 250,-158 107,-158\"/>\n<text text-anchor=\"start\" x=\"109.5769\" y=\"-166.8\" font-family=\"Fira Code Retina\" font-size=\"14.00\" fill=\"#000000\">128 k3*3 s2*2 p1</text>\n<polygon fill=\"none\" stroke=\"#acc7d2\" points=\"24,-135 24,-158 107,-158 107,-135 24,-135\"/>\n<text text-anchor=\"start\" x=\"26.7308\" y=\"-143.8\" font-family=\"Fira Code Retina\" font-size=\"14.00\" fill=\"#000000\">BatchNorm</text>\n<polygon fill=\"none\" stroke=\"#acc7d2\" points=\"107,-135 107,-158 250,-158 250,-135 107,-135\"/>\n<polygon fill=\"none\" stroke=\"#acc7d2\" points=\"24,-112 24,-135 107,-135 107,-112 24,-112\"/>\n<text text-anchor=\"start\" x=\"48.2692\" y=\"-120.8\" font-family=\"Fira Code Retina\" font-size=\"14.00\" fill=\"#000000\">Conv</text>\n<polygon fill=\"none\" stroke=\"#acc7d2\" points=\"107,-112 107,-135 250,-135 250,-112 107,-112\"/>\n<text text-anchor=\"start\" x=\"165.5769\" y=\"-120.8\" font-family=\"Fira Code Retina\" font-size=\"14.00\" fill=\"#000000\">512</text>\n<polygon fill=\"none\" stroke=\"#acc7d2\" points=\"24,-89 24,-112 107,-112 107,-89 24,-89\"/>\n<text text-anchor=\"start\" x=\"26.7308\" y=\"-97.8\" font-family=\"Fira Code Retina\" font-size=\"14.00\" fill=\"#000000\">BatchNorm</text>\n<polygon fill=\"none\" stroke=\"#acc7d2\" points=\"107,-89 107,-112 250,-112 250,-89 107,-89\"/>\n<polygon fill=\"none\" stroke=\"#acc7d2\" points=\"24,-66 24,-89 107,-89 107,-66 24,-66\"/>\n<text text-anchor=\"start\" x=\"48.2692\" y=\"-74.8\" font-family=\"Fira Code Retina\" font-size=\"14.00\" fill=\"#000000\">ReLU</text>\n<polygon fill=\"none\" stroke=\"#acc7d2\" points=\"107,-66 107,-89 250,-89 250,-66 107,-66\"/>\n<polygon fill=\"none\" stroke=\"#acc7d2\" points=\"24,-43 24,-66 107,-66 107,-43 24,-43\"/>\n<text text-anchor=\"start\" x=\"48.2692\" y=\"-51.8\" font-family=\"Fira Code Retina\" font-size=\"14.00\" fill=\"#000000\">Conv</text>\n<polygon fill=\"none\" stroke=\"#acc7d2\" points=\"107,-43 107,-66 250,-66 250,-43 107,-43\"/>\n<text text-anchor=\"start\" x=\"144.0385\" y=\"-51.8\" font-family=\"Fira Code Retina\" font-size=\"14.00\" fill=\"#000000\">512 s2*2</text>\n<polygon fill=\"none\" stroke=\"#acc7d2\" points=\"24,-20 24,-43 107,-43 107,-20 24,-20\"/>\n<text text-anchor=\"start\" x=\"26.7308\" y=\"-28.8\" font-family=\"Fira Code Retina\" font-size=\"14.00\" fill=\"#000000\">BatchNorm</text>\n<polygon fill=\"none\" stroke=\"#acc7d2\" points=\"107,-20 107,-43 250,-43 250,-20 107,-20\"/>\n</g>\n<!-- block4&#45;&gt;block5 -->\n<g id=\"edge4\" class=\"edge\">\n<title>block4&#45;&gt;block5</title>\n<path fill=\"none\" stroke=\"#7d88c7\" d=\"M137,-375.2486C137,-334.8421 137,-285.8375 137,-241.8742\"/>\n<polygon fill=\"#7d88c7\" stroke=\"#7d88c7\" points=\"140.5001,-241.6989 137,-231.6989 133.5001,-241.699 140.5001,-241.6989\"/>\n<text text-anchor=\"middle\" x=\"125.3846\" y=\"-300.9154\" font-family=\"Fira Code Retina\" font-size=\"14.00\" fill=\"#000000\">bs*256*61*61</text>\n</g>\n<!-- block6 -->\n<g id=\"node7\" class=\"node\">\n<title>block6</title>\n<polygon fill=\"#f1e3dd\" stroke=\"transparent\" points=\"464.8846,-1329.5 464.8846,-1490.5 647.8846,-1490.5 647.8846,-1329.5 464.8846,-1329.5\"/>\n<polygon fill=\"none\" stroke=\"#ddbf9a\" points=\"465.3846,-1467 465.3846,-1490 548.3846,-1490 548.3846,-1467 465.3846,-1467\"/>\n<text text-anchor=\"start\" x=\"489.6538\" y=\"-1475.8\" font-family=\"Fira Code Retina\" font-size=\"14.00\" fill=\"#000000\">Conv</text>\n<polygon fill=\"none\" stroke=\"#ddbf9a\" points=\"548.3846,-1467 548.3846,-1490 648.3846,-1490 648.3846,-1467 548.3846,-1467\"/>\n<text text-anchor=\"start\" x=\"585.4615\" y=\"-1475.8\" font-family=\"Fira Code Retina\" font-size=\"14.00\" fill=\"#000000\">128</text>\n<polygon fill=\"none\" stroke=\"#ddbf9a\" points=\"465.3846,-1444 465.3846,-1467 548.3846,-1467 548.3846,-1444 465.3846,-1444\"/>\n<text text-anchor=\"start\" x=\"468.1154\" y=\"-1452.8\" font-family=\"Fira Code Retina\" font-size=\"14.00\" fill=\"#000000\">BatchNorm</text>\n<polygon fill=\"none\" stroke=\"#ddbf9a\" points=\"548.3846,-1444 548.3846,-1467 648.3846,-1467 648.3846,-1444 548.3846,-1444\"/>\n<polygon fill=\"none\" stroke=\"#ddbf9a\" points=\"465.3846,-1421 465.3846,-1444 548.3846,-1444 548.3846,-1421 465.3846,-1421\"/>\n<text text-anchor=\"start\" x=\"489.6538\" y=\"-1429.8\" font-family=\"Fira Code Retina\" font-size=\"14.00\" fill=\"#000000\">Conv</text>\n<polygon fill=\"none\" stroke=\"#ddbf9a\" points=\"548.3846,-1421 548.3846,-1444 648.3846,-1444 648.3846,-1421 548.3846,-1421\"/>\n<text text-anchor=\"start\" x=\"551\" y=\"-1429.8\" font-family=\"Fira Code Retina\" font-size=\"14.00\" fill=\"#000000\">128 k3*3 p1</text>\n<polygon fill=\"none\" stroke=\"#ddbf9a\" points=\"465.3846,-1398 465.3846,-1421 548.3846,-1421 548.3846,-1398 465.3846,-1398\"/>\n<text text-anchor=\"start\" x=\"468.1154\" y=\"-1406.8\" font-family=\"Fira Code Retina\" font-size=\"14.00\" fill=\"#000000\">BatchNorm</text>\n<polygon fill=\"none\" stroke=\"#ddbf9a\" points=\"548.3846,-1398 548.3846,-1421 648.3846,-1421 648.3846,-1398 548.3846,-1398\"/>\n<polygon fill=\"none\" stroke=\"#ddbf9a\" points=\"465.3846,-1375 465.3846,-1398 548.3846,-1398 548.3846,-1375 465.3846,-1375\"/>\n<text text-anchor=\"start\" x=\"489.6538\" y=\"-1383.8\" font-family=\"Fira Code Retina\" font-size=\"14.00\" fill=\"#000000\">Conv</text>\n<polygon fill=\"none\" stroke=\"#ddbf9a\" points=\"548.3846,-1375 548.3846,-1398 648.3846,-1398 648.3846,-1375 548.3846,-1375\"/>\n<text text-anchor=\"start\" x=\"585.4615\" y=\"-1383.8\" font-family=\"Fira Code Retina\" font-size=\"14.00\" fill=\"#000000\">512</text>\n<polygon fill=\"none\" stroke=\"#ddbf9a\" points=\"465.3846,-1352 465.3846,-1375 548.3846,-1375 548.3846,-1352 465.3846,-1352\"/>\n<text text-anchor=\"start\" x=\"468.1154\" y=\"-1360.8\" font-family=\"Fira Code Retina\" font-size=\"14.00\" fill=\"#000000\">BatchNorm</text>\n<polygon fill=\"none\" stroke=\"#ddbf9a\" points=\"548.3846,-1352 548.3846,-1375 648.3846,-1375 648.3846,-1352 548.3846,-1352\"/>\n<polygon fill=\"none\" stroke=\"#ddbf9a\" points=\"465.3846,-1329 465.3846,-1352 548.3846,-1352 548.3846,-1329 465.3846,-1329\"/>\n<text text-anchor=\"start\" x=\"489.6538\" y=\"-1337.8\" font-family=\"Fira Code Retina\" font-size=\"14.00\" fill=\"#000000\">ReLU</text>\n<polygon fill=\"none\" stroke=\"#ddbf9a\" points=\"548.3846,-1329 548.3846,-1352 648.3846,-1352 648.3846,-1329 548.3846,-1329\"/>\n</g>\n<!-- block5&#45;&gt;block6 -->\n<g id=\"edge12\" class=\"edge\">\n<title>block5&#45;&gt;block6</title>\n<path fill=\"none\" stroke=\"#ac5553\" d=\"M205.6094,-231.6366C227.6876,-270.2506 250.4385,-314.9147 266,-358 395.4378,-716.3753 289.5561,-844.7673 427.3846,-1200 443.0082,-1240.2674 466.3682,-1281.4307 488.9342,-1316.5222\"/>\n<polygon fill=\"#ac5553\" stroke=\"#ac5553\" points=\"486.2626,-1318.8342 494.649,-1325.3088 492.1307,-1315.0176 486.2626,-1318.8342\"/>\n<text text-anchor=\"middle\" x=\"346.6923\" y=\"-1121.0308\" font-family=\"Fira Code Retina\" font-size=\"14.00\" fill=\"#000000\">bs*512*31*31</text>\n</g>\n<!-- img -->\n<g id=\"node6\" class=\"node\">\n<title>img</title>\n<ellipse fill=\"none\" stroke=\"#c0c0c0\" cx=\"137\" cy=\"-1565\" rx=\"29.1862\" ry=\"29.1862\"/>\n<ellipse fill=\"none\" stroke=\"#c0c0c0\" cx=\"137\" cy=\"-1565\" rx=\"33.1662\" ry=\"33.1662\"/>\n<text text-anchor=\"middle\" x=\"137\" y=\"-1562.4154\" font-family=\"Fira Code Retina\" font-size=\"14.00\" fill=\"#000000\">img</text>\n</g>\n<!-- img&#45;&gt;block1 -->\n<g id=\"edge5\" class=\"edge\">\n<title>img&#45;&gt;block1</title>\n<path fill=\"none\" stroke=\"#ac5553\" d=\"M137,-1531.5403C137,-1513.6836 137,-1491.1578 137,-1470.3645\"/>\n<polygon fill=\"#ac5553\" stroke=\"#ac5553\" points=\"140.5001,-1470.324 137,-1460.3241 133.5001,-1470.3241 140.5001,-1470.324\"/>\n<text text-anchor=\"middle\" x=\"125.3846\" y=\"-1493.2491\" font-family=\"Fira Code Retina\" font-size=\"14.00\" fill=\"#000000\">bs*3*244*244</text>\n</g>\n<!-- block7 -->\n<g id=\"node8\" class=\"node\">\n<title>block7</title>\n<polygon fill=\"#e9e1f0\" stroke=\"transparent\" points=\"464.8846,-1016.5 464.8846,-1177.5 647.8846,-1177.5 647.8846,-1016.5 464.8846,-1016.5\"/>\n<polygon fill=\"none\" stroke=\"#a592c5\" points=\"465.3846,-1154 465.3846,-1177 548.3846,-1177 548.3846,-1154 465.3846,-1154\"/>\n<text text-anchor=\"start\" x=\"489.6538\" y=\"-1162.8\" font-family=\"Fira Code Retina\" font-size=\"14.00\" fill=\"#000000\">Conv</text>\n<polygon fill=\"none\" stroke=\"#a592c5\" points=\"548.3846,-1154 548.3846,-1177 648.3846,-1177 648.3846,-1154 548.3846,-1154\"/>\n<text text-anchor=\"start\" x=\"585.4615\" y=\"-1162.8\" font-family=\"Fira Code Retina\" font-size=\"14.00\" fill=\"#000000\">128</text>\n<polygon fill=\"none\" stroke=\"#a592c5\" points=\"465.3846,-1131 465.3846,-1154 548.3846,-1154 548.3846,-1131 465.3846,-1131\"/>\n<text text-anchor=\"start\" x=\"468.1154\" y=\"-1139.8\" font-family=\"Fira Code Retina\" font-size=\"14.00\" fill=\"#000000\">BatchNorm</text>\n<polygon fill=\"none\" stroke=\"#a592c5\" points=\"548.3846,-1131 548.3846,-1154 648.3846,-1154 648.3846,-1131 548.3846,-1131\"/>\n<polygon fill=\"none\" stroke=\"#a592c5\" points=\"465.3846,-1108 465.3846,-1131 548.3846,-1131 548.3846,-1108 465.3846,-1108\"/>\n<text text-anchor=\"start\" x=\"489.6538\" y=\"-1116.8\" font-family=\"Fira Code Retina\" font-size=\"14.00\" fill=\"#000000\">Conv</text>\n<polygon fill=\"none\" stroke=\"#a592c5\" points=\"548.3846,-1108 548.3846,-1131 648.3846,-1131 648.3846,-1108 548.3846,-1108\"/>\n<text text-anchor=\"start\" x=\"551\" y=\"-1116.8\" font-family=\"Fira Code Retina\" font-size=\"14.00\" fill=\"#000000\">128 k3*3 p1</text>\n<polygon fill=\"none\" stroke=\"#a592c5\" points=\"465.3846,-1085 465.3846,-1108 548.3846,-1108 548.3846,-1085 465.3846,-1085\"/>\n<text text-anchor=\"start\" x=\"468.1154\" y=\"-1093.8\" font-family=\"Fira Code Retina\" font-size=\"14.00\" fill=\"#000000\">BatchNorm</text>\n<polygon fill=\"none\" stroke=\"#a592c5\" points=\"548.3846,-1085 548.3846,-1108 648.3846,-1108 648.3846,-1085 548.3846,-1085\"/>\n<polygon fill=\"none\" stroke=\"#a592c5\" points=\"465.3846,-1062 465.3846,-1085 548.3846,-1085 548.3846,-1062 465.3846,-1062\"/>\n<text text-anchor=\"start\" x=\"489.6538\" y=\"-1070.8\" font-family=\"Fira Code Retina\" font-size=\"14.00\" fill=\"#000000\">Conv</text>\n<polygon fill=\"none\" stroke=\"#a592c5\" points=\"548.3846,-1062 548.3846,-1085 648.3846,-1085 648.3846,-1062 548.3846,-1062\"/>\n<text text-anchor=\"start\" x=\"585.4615\" y=\"-1070.8\" font-family=\"Fira Code Retina\" font-size=\"14.00\" fill=\"#000000\">512</text>\n<polygon fill=\"none\" stroke=\"#a592c5\" points=\"465.3846,-1039 465.3846,-1062 548.3846,-1062 548.3846,-1039 465.3846,-1039\"/>\n<text text-anchor=\"start\" x=\"468.1154\" y=\"-1047.8\" font-family=\"Fira Code Retina\" font-size=\"14.00\" fill=\"#000000\">BatchNorm</text>\n<polygon fill=\"none\" stroke=\"#a592c5\" points=\"548.3846,-1039 548.3846,-1062 648.3846,-1062 648.3846,-1039 548.3846,-1039\"/>\n<polygon fill=\"none\" stroke=\"#a592c5\" points=\"465.3846,-1016 465.3846,-1039 548.3846,-1039 548.3846,-1016 465.3846,-1016\"/>\n<text text-anchor=\"start\" x=\"489.6538\" y=\"-1024.8\" font-family=\"Fira Code Retina\" font-size=\"14.00\" fill=\"#000000\">ReLU</text>\n<polygon fill=\"none\" stroke=\"#a592c5\" points=\"548.3846,-1016 548.3846,-1039 648.3846,-1039 648.3846,-1016 548.3846,-1016\"/>\n</g>\n<!-- block6&#45;&gt;block7 -->\n<g id=\"edge6\" class=\"edge\">\n<title>block6&#45;&gt;block7</title>\n<path fill=\"none\" stroke=\"#7d88c7\" d=\"M556.3846,-1325.23C556.3846,-1283.9886 556.3846,-1234.2668 556.3846,-1191.7745\"/>\n<polygon fill=\"#7d88c7\" stroke=\"#7d88c7\" points=\"559.8847,-1191.7023 556.3846,-1181.7023 552.8847,-1191.7023 559.8847,-1191.7023\"/>\n<text text-anchor=\"middle\" x=\"544.7692\" y=\"-1250.9154\" font-family=\"Fira Code Retina\" font-size=\"14.00\" fill=\"#000000\">bs*512*31*31</text>\n</g>\n<!-- T1 -->\n<!-- block6&#45;&gt;T1 -->\n<!-- block8 -->\n<g id=\"node9\" class=\"node\">\n<title>block8</title>\n<polygon fill=\"#e6ece5\" stroke=\"transparent\" points=\"464.8846,-703.5 464.8846,-864.5 647.8846,-864.5 647.8846,-703.5 464.8846,-703.5\"/>\n<polygon fill=\"none\" stroke=\"#a2bba0\" points=\"465.3846,-841 465.3846,-864 548.3846,-864 548.3846,-841 465.3846,-841\"/>\n<text text-anchor=\"start\" x=\"489.6538\" y=\"-849.8\" font-family=\"Fira Code Retina\" font-size=\"14.00\" fill=\"#000000\">Conv</text>\n<polygon fill=\"none\" stroke=\"#a2bba0\" points=\"548.3846,-841 548.3846,-864 648.3846,-864 648.3846,-841 548.3846,-841\"/>\n<text text-anchor=\"start\" x=\"585.4615\" y=\"-849.8\" font-family=\"Fira Code Retina\" font-size=\"14.00\" fill=\"#000000\">128</text>\n<polygon fill=\"none\" stroke=\"#a2bba0\" points=\"465.3846,-818 465.3846,-841 548.3846,-841 548.3846,-818 465.3846,-818\"/>\n<text text-anchor=\"start\" x=\"468.1154\" y=\"-826.8\" font-family=\"Fira Code Retina\" font-size=\"14.00\" fill=\"#000000\">BatchNorm</text>\n<polygon fill=\"none\" stroke=\"#a2bba0\" points=\"548.3846,-818 548.3846,-841 648.3846,-841 648.3846,-818 548.3846,-818\"/>\n<polygon fill=\"none\" stroke=\"#a2bba0\" points=\"465.3846,-795 465.3846,-818 548.3846,-818 548.3846,-795 465.3846,-795\"/>\n<text text-anchor=\"start\" x=\"489.6538\" y=\"-803.8\" font-family=\"Fira Code Retina\" font-size=\"14.00\" fill=\"#000000\">Conv</text>\n<polygon fill=\"none\" stroke=\"#a2bba0\" points=\"548.3846,-795 548.3846,-818 648.3846,-818 648.3846,-795 548.3846,-795\"/>\n<text text-anchor=\"start\" x=\"551\" y=\"-803.8\" font-family=\"Fira Code Retina\" font-size=\"14.00\" fill=\"#000000\">128 k3*3 p1</text>\n<polygon fill=\"none\" stroke=\"#a2bba0\" points=\"465.3846,-772 465.3846,-795 548.3846,-795 548.3846,-772 465.3846,-772\"/>\n<text text-anchor=\"start\" x=\"468.1154\" y=\"-780.8\" font-family=\"Fira Code Retina\" font-size=\"14.00\" fill=\"#000000\">BatchNorm</text>\n<polygon fill=\"none\" stroke=\"#a2bba0\" points=\"548.3846,-772 548.3846,-795 648.3846,-795 648.3846,-772 548.3846,-772\"/>\n<polygon fill=\"none\" stroke=\"#a2bba0\" points=\"465.3846,-749 465.3846,-772 548.3846,-772 548.3846,-749 465.3846,-749\"/>\n<text text-anchor=\"start\" x=\"489.6538\" y=\"-757.8\" font-family=\"Fira Code Retina\" font-size=\"14.00\" fill=\"#000000\">Conv</text>\n<polygon fill=\"none\" stroke=\"#a2bba0\" points=\"548.3846,-749 548.3846,-772 648.3846,-772 648.3846,-749 548.3846,-749\"/>\n<text text-anchor=\"start\" x=\"585.4615\" y=\"-757.8\" font-family=\"Fira Code Retina\" font-size=\"14.00\" fill=\"#000000\">512</text>\n<polygon fill=\"none\" stroke=\"#a2bba0\" points=\"465.3846,-726 465.3846,-749 548.3846,-749 548.3846,-726 465.3846,-726\"/>\n<text text-anchor=\"start\" x=\"468.1154\" y=\"-734.8\" font-family=\"Fira Code Retina\" font-size=\"14.00\" fill=\"#000000\">BatchNorm</text>\n<polygon fill=\"none\" stroke=\"#a2bba0\" points=\"548.3846,-726 548.3846,-749 648.3846,-749 648.3846,-726 548.3846,-726\"/>\n<polygon fill=\"none\" stroke=\"#a2bba0\" points=\"465.3846,-703 465.3846,-726 548.3846,-726 548.3846,-703 465.3846,-703\"/>\n<text text-anchor=\"start\" x=\"489.6538\" y=\"-711.8\" font-family=\"Fira Code Retina\" font-size=\"14.00\" fill=\"#000000\">ReLU</text>\n<polygon fill=\"none\" stroke=\"#a2bba0\" points=\"548.3846,-703 548.3846,-726 648.3846,-726 648.3846,-703 548.3846,-703\"/>\n</g>\n<!-- block7&#45;&gt;block8 -->\n<g id=\"edge7\" class=\"edge\">\n<title>block7&#45;&gt;block8</title>\n<path fill=\"none\" stroke=\"#7d88c7\" d=\"M556.3846,-1012.23C556.3846,-970.9886 556.3846,-921.2668 556.3846,-878.7745\"/>\n<polygon fill=\"#7d88c7\" stroke=\"#7d88c7\" points=\"559.8847,-878.7023 556.3846,-868.7023 552.8847,-878.7023 559.8847,-878.7023\"/>\n<text text-anchor=\"middle\" x=\"544.7692\" y=\"-937.9154\" font-family=\"Fira Code Retina\" font-size=\"14.00\" fill=\"#000000\">bs*512*31*31</text>\n</g>\n<!-- block9 -->\n<g id=\"node10\" class=\"node\">\n<title>block9</title>\n<polygon fill=\"#e4e7eb\" stroke=\"transparent\" points=\"443.3846,-344.5 443.3846,-551.5 669.3846,-551.5 669.3846,-344.5 443.3846,-344.5\"/>\n<polygon fill=\"none\" stroke=\"#acc7d2\" points=\"443.3846,-528 443.3846,-551 526.3846,-551 526.3846,-528 443.3846,-528\"/>\n<text text-anchor=\"start\" x=\"467.6538\" y=\"-536.8\" font-family=\"Fira Code Retina\" font-size=\"14.00\" fill=\"#000000\">Conv</text>\n<polygon fill=\"none\" stroke=\"#acc7d2\" points=\"526.3846,-528 526.3846,-551 669.3846,-551 669.3846,-528 526.3846,-528\"/>\n<text text-anchor=\"start\" x=\"584.9615\" y=\"-536.8\" font-family=\"Fira Code Retina\" font-size=\"14.00\" fill=\"#000000\">256</text>\n<polygon fill=\"none\" stroke=\"#acc7d2\" points=\"443.3846,-505 443.3846,-528 526.3846,-528 526.3846,-505 443.3846,-505\"/>\n<text text-anchor=\"start\" x=\"446.1154\" y=\"-513.8\" font-family=\"Fira Code Retina\" font-size=\"14.00\" fill=\"#000000\">BatchNorm</text>\n<polygon fill=\"none\" stroke=\"#acc7d2\" points=\"526.3846,-505 526.3846,-528 669.3846,-528 669.3846,-505 526.3846,-505\"/>\n<polygon fill=\"none\" stroke=\"#acc7d2\" points=\"443.3846,-482 443.3846,-505 526.3846,-505 526.3846,-482 443.3846,-482\"/>\n<text text-anchor=\"start\" x=\"467.6538\" y=\"-490.8\" font-family=\"Fira Code Retina\" font-size=\"14.00\" fill=\"#000000\">Conv</text>\n<polygon fill=\"none\" stroke=\"#acc7d2\" points=\"526.3846,-482 526.3846,-505 669.3846,-505 669.3846,-482 526.3846,-482\"/>\n<text text-anchor=\"start\" x=\"528.9615\" y=\"-490.8\" font-family=\"Fira Code Retina\" font-size=\"14.00\" fill=\"#000000\">256 k3*3 s2*2 p1</text>\n<polygon fill=\"none\" stroke=\"#acc7d2\" points=\"443.3846,-459 443.3846,-482 526.3846,-482 526.3846,-459 443.3846,-459\"/>\n<text text-anchor=\"start\" x=\"446.1154\" y=\"-467.8\" font-family=\"Fira Code Retina\" font-size=\"14.00\" fill=\"#000000\">BatchNorm</text>\n<polygon fill=\"none\" stroke=\"#acc7d2\" points=\"526.3846,-459 526.3846,-482 669.3846,-482 669.3846,-459 526.3846,-459\"/>\n<polygon fill=\"none\" stroke=\"#acc7d2\" points=\"443.3846,-436 443.3846,-459 526.3846,-459 526.3846,-436 443.3846,-436\"/>\n<text text-anchor=\"start\" x=\"467.6538\" y=\"-444.8\" font-family=\"Fira Code Retina\" font-size=\"14.00\" fill=\"#000000\">Conv</text>\n<polygon fill=\"none\" stroke=\"#acc7d2\" points=\"526.3846,-436 526.3846,-459 669.3846,-459 669.3846,-436 526.3846,-436\"/>\n<text text-anchor=\"start\" x=\"580.6538\" y=\"-444.8\" font-family=\"Fira Code Retina\" font-size=\"14.00\" fill=\"#000000\">1024</text>\n<polygon fill=\"none\" stroke=\"#acc7d2\" points=\"443.3846,-413 443.3846,-436 526.3846,-436 526.3846,-413 443.3846,-413\"/>\n<text text-anchor=\"start\" x=\"446.1154\" y=\"-421.8\" font-family=\"Fira Code Retina\" font-size=\"14.00\" fill=\"#000000\">BatchNorm</text>\n<polygon fill=\"none\" stroke=\"#acc7d2\" points=\"526.3846,-413 526.3846,-436 669.3846,-436 669.3846,-413 526.3846,-413\"/>\n<polygon fill=\"none\" stroke=\"#acc7d2\" points=\"443.3846,-390 443.3846,-413 526.3846,-413 526.3846,-390 443.3846,-390\"/>\n<text text-anchor=\"start\" x=\"467.6538\" y=\"-398.8\" font-family=\"Fira Code Retina\" font-size=\"14.00\" fill=\"#000000\">ReLU</text>\n<polygon fill=\"none\" stroke=\"#acc7d2\" points=\"526.3846,-390 526.3846,-413 669.3846,-413 669.3846,-390 526.3846,-390\"/>\n<polygon fill=\"none\" stroke=\"#acc7d2\" points=\"443.3846,-367 443.3846,-390 526.3846,-390 526.3846,-367 443.3846,-367\"/>\n<text text-anchor=\"start\" x=\"467.6538\" y=\"-375.8\" font-family=\"Fira Code Retina\" font-size=\"14.00\" fill=\"#000000\">Conv</text>\n<polygon fill=\"none\" stroke=\"#acc7d2\" points=\"526.3846,-367 526.3846,-390 669.3846,-390 669.3846,-367 526.3846,-367\"/>\n<text text-anchor=\"start\" x=\"559.1154\" y=\"-375.8\" font-family=\"Fira Code Retina\" font-size=\"14.00\" fill=\"#000000\">1024 s2*2</text>\n<polygon fill=\"none\" stroke=\"#acc7d2\" points=\"443.3846,-344 443.3846,-367 526.3846,-367 526.3846,-344 443.3846,-344\"/>\n<text text-anchor=\"start\" x=\"446.1154\" y=\"-352.8\" font-family=\"Fira Code Retina\" font-size=\"14.00\" fill=\"#000000\">BatchNorm</text>\n<polygon fill=\"none\" stroke=\"#acc7d2\" points=\"526.3846,-344 526.3846,-367 669.3846,-367 669.3846,-344 526.3846,-344\"/>\n</g>\n<!-- block8&#45;&gt;block9 -->\n<g id=\"edge8\" class=\"edge\">\n<title>block8&#45;&gt;block9</title>\n<path fill=\"none\" stroke=\"#7d88c7\" d=\"M556.3846,-699.2486C556.3846,-658.8421 556.3846,-609.8375 556.3846,-565.8742\"/>\n<polygon fill=\"#7d88c7\" stroke=\"#7d88c7\" points=\"559.8847,-565.6989 556.3846,-555.6989 552.8847,-565.699 559.8847,-565.6989\"/>\n<text text-anchor=\"middle\" x=\"544.7692\" y=\"-624.9154\" font-family=\"Fira Code Retina\" font-size=\"14.00\" fill=\"#000000\">bs*512*31*31</text>\n</g>\n<!-- block10 -->\n<g id=\"node11\" class=\"node\">\n<title>block10</title>\n<polygon fill=\"#f1e3dd\" stroke=\"transparent\" points=\"464.8846,-31.5 464.8846,-192.5 647.8846,-192.5 647.8846,-31.5 464.8846,-31.5\"/>\n<polygon fill=\"none\" stroke=\"#ddbf9a\" points=\"465.3846,-169 465.3846,-192 548.3846,-192 548.3846,-169 465.3846,-169\"/>\n<text text-anchor=\"start\" x=\"489.6538\" y=\"-177.8\" font-family=\"Fira Code Retina\" font-size=\"14.00\" fill=\"#000000\">Conv</text>\n<polygon fill=\"none\" stroke=\"#ddbf9a\" points=\"548.3846,-169 548.3846,-192 648.3846,-192 648.3846,-169 548.3846,-169\"/>\n<text text-anchor=\"start\" x=\"585.4615\" y=\"-177.8\" font-family=\"Fira Code Retina\" font-size=\"14.00\" fill=\"#000000\">256</text>\n<polygon fill=\"none\" stroke=\"#ddbf9a\" points=\"465.3846,-146 465.3846,-169 548.3846,-169 548.3846,-146 465.3846,-146\"/>\n<text text-anchor=\"start\" x=\"468.1154\" y=\"-154.8\" font-family=\"Fira Code Retina\" font-size=\"14.00\" fill=\"#000000\">BatchNorm</text>\n<polygon fill=\"none\" stroke=\"#ddbf9a\" points=\"548.3846,-146 548.3846,-169 648.3846,-169 648.3846,-146 548.3846,-146\"/>\n<polygon fill=\"none\" stroke=\"#ddbf9a\" points=\"465.3846,-123 465.3846,-146 548.3846,-146 548.3846,-123 465.3846,-123\"/>\n<text text-anchor=\"start\" x=\"489.6538\" y=\"-131.8\" font-family=\"Fira Code Retina\" font-size=\"14.00\" fill=\"#000000\">Conv</text>\n<polygon fill=\"none\" stroke=\"#ddbf9a\" points=\"548.3846,-123 548.3846,-146 648.3846,-146 648.3846,-123 548.3846,-123\"/>\n<text text-anchor=\"start\" x=\"551\" y=\"-131.8\" font-family=\"Fira Code Retina\" font-size=\"14.00\" fill=\"#000000\">256 k3*3 p1</text>\n<polygon fill=\"none\" stroke=\"#ddbf9a\" points=\"465.3846,-100 465.3846,-123 548.3846,-123 548.3846,-100 465.3846,-100\"/>\n<text text-anchor=\"start\" x=\"468.1154\" y=\"-108.8\" font-family=\"Fira Code Retina\" font-size=\"14.00\" fill=\"#000000\">BatchNorm</text>\n<polygon fill=\"none\" stroke=\"#ddbf9a\" points=\"548.3846,-100 548.3846,-123 648.3846,-123 648.3846,-100 548.3846,-100\"/>\n<polygon fill=\"none\" stroke=\"#ddbf9a\" points=\"465.3846,-77 465.3846,-100 548.3846,-100 548.3846,-77 465.3846,-77\"/>\n<text text-anchor=\"start\" x=\"489.6538\" y=\"-85.8\" font-family=\"Fira Code Retina\" font-size=\"14.00\" fill=\"#000000\">Conv</text>\n<polygon fill=\"none\" stroke=\"#ddbf9a\" points=\"548.3846,-77 548.3846,-100 648.3846,-100 648.3846,-77 548.3846,-77\"/>\n<text text-anchor=\"start\" x=\"581.1538\" y=\"-85.8\" font-family=\"Fira Code Retina\" font-size=\"14.00\" fill=\"#000000\">1024</text>\n<polygon fill=\"none\" stroke=\"#ddbf9a\" points=\"465.3846,-54 465.3846,-77 548.3846,-77 548.3846,-54 465.3846,-54\"/>\n<text text-anchor=\"start\" x=\"468.1154\" y=\"-62.8\" font-family=\"Fira Code Retina\" font-size=\"14.00\" fill=\"#000000\">BatchNorm</text>\n<polygon fill=\"none\" stroke=\"#ddbf9a\" points=\"548.3846,-54 548.3846,-77 648.3846,-77 648.3846,-54 548.3846,-54\"/>\n<polygon fill=\"none\" stroke=\"#ddbf9a\" points=\"465.3846,-31 465.3846,-54 548.3846,-54 548.3846,-31 465.3846,-31\"/>\n<text text-anchor=\"start\" x=\"489.6538\" y=\"-39.8\" font-family=\"Fira Code Retina\" font-size=\"14.00\" fill=\"#000000\">ReLU</text>\n<polygon fill=\"none\" stroke=\"#ddbf9a\" points=\"548.3846,-31 548.3846,-54 648.3846,-54 648.3846,-31 548.3846,-31\"/>\n</g>\n<!-- block9&#45;&gt;block10 -->\n<g id=\"edge9\" class=\"edge\">\n<title>block9&#45;&gt;block10</title>\n<path fill=\"none\" stroke=\"#7d88c7\" d=\"M556.3846,-340.3011C556.3846,-297.3991 556.3846,-248.4479 556.3846,-206.9044\"/>\n<polygon fill=\"#7d88c7\" stroke=\"#7d88c7\" points=\"559.8847,-206.787 556.3846,-196.787 552.8847,-206.787 559.8847,-206.787\"/>\n<text text-anchor=\"middle\" x=\"544.7692\" y=\"-265.9154\" font-family=\"Fira Code Retina\" font-size=\"14.00\" fill=\"#000000\">bs*1024*16*16</text>\n</g>\n<!-- block11 -->\n<g id=\"node13\" class=\"node\">\n<title>block11</title>\n<polygon fill=\"#e9e1f0\" stroke=\"transparent\" points=\"892.8846,-1329.5 892.8846,-1490.5 1075.8846,-1490.5 1075.8846,-1329.5 892.8846,-1329.5\"/>\n<polygon fill=\"none\" stroke=\"#a592c5\" points=\"893.3846,-1467 893.3846,-1490 976.3846,-1490 976.3846,-1467 893.3846,-1467\"/>\n<text text-anchor=\"start\" x=\"917.6538\" y=\"-1475.8\" font-family=\"Fira Code Retina\" font-size=\"14.00\" fill=\"#000000\">Conv</text>\n<polygon fill=\"none\" stroke=\"#a592c5\" points=\"976.3846,-1467 976.3846,-1490 1076.3846,-1490 1076.3846,-1467 976.3846,-1467\"/>\n<text text-anchor=\"start\" x=\"1013.4615\" y=\"-1475.8\" font-family=\"Fira Code Retina\" font-size=\"14.00\" fill=\"#000000\">256</text>\n<polygon fill=\"none\" stroke=\"#a592c5\" points=\"893.3846,-1444 893.3846,-1467 976.3846,-1467 976.3846,-1444 893.3846,-1444\"/>\n<text text-anchor=\"start\" x=\"896.1154\" y=\"-1452.8\" font-family=\"Fira Code Retina\" font-size=\"14.00\" fill=\"#000000\">BatchNorm</text>\n<polygon fill=\"none\" stroke=\"#a592c5\" points=\"976.3846,-1444 976.3846,-1467 1076.3846,-1467 1076.3846,-1444 976.3846,-1444\"/>\n<polygon fill=\"none\" stroke=\"#a592c5\" points=\"893.3846,-1421 893.3846,-1444 976.3846,-1444 976.3846,-1421 893.3846,-1421\"/>\n<text text-anchor=\"start\" x=\"917.6538\" y=\"-1429.8\" font-family=\"Fira Code Retina\" font-size=\"14.00\" fill=\"#000000\">Conv</text>\n<polygon fill=\"none\" stroke=\"#a592c5\" points=\"976.3846,-1421 976.3846,-1444 1076.3846,-1444 1076.3846,-1421 976.3846,-1421\"/>\n<text text-anchor=\"start\" x=\"979\" y=\"-1429.8\" font-family=\"Fira Code Retina\" font-size=\"14.00\" fill=\"#000000\">256 k3*3 p1</text>\n<polygon fill=\"none\" stroke=\"#a592c5\" points=\"893.3846,-1398 893.3846,-1421 976.3846,-1421 976.3846,-1398 893.3846,-1398\"/>\n<text text-anchor=\"start\" x=\"896.1154\" y=\"-1406.8\" font-family=\"Fira Code Retina\" font-size=\"14.00\" fill=\"#000000\">BatchNorm</text>\n<polygon fill=\"none\" stroke=\"#a592c5\" points=\"976.3846,-1398 976.3846,-1421 1076.3846,-1421 1076.3846,-1398 976.3846,-1398\"/>\n<polygon fill=\"none\" stroke=\"#a592c5\" points=\"893.3846,-1375 893.3846,-1398 976.3846,-1398 976.3846,-1375 893.3846,-1375\"/>\n<text text-anchor=\"start\" x=\"917.6538\" y=\"-1383.8\" font-family=\"Fira Code Retina\" font-size=\"14.00\" fill=\"#000000\">Conv</text>\n<polygon fill=\"none\" stroke=\"#a592c5\" points=\"976.3846,-1375 976.3846,-1398 1076.3846,-1398 1076.3846,-1375 976.3846,-1375\"/>\n<text text-anchor=\"start\" x=\"1009.1538\" y=\"-1383.8\" font-family=\"Fira Code Retina\" font-size=\"14.00\" fill=\"#000000\">1024</text>\n<polygon fill=\"none\" stroke=\"#a592c5\" points=\"893.3846,-1352 893.3846,-1375 976.3846,-1375 976.3846,-1352 893.3846,-1352\"/>\n<text text-anchor=\"start\" x=\"896.1154\" y=\"-1360.8\" font-family=\"Fira Code Retina\" font-size=\"14.00\" fill=\"#000000\">BatchNorm</text>\n<polygon fill=\"none\" stroke=\"#a592c5\" points=\"976.3846,-1352 976.3846,-1375 1076.3846,-1375 1076.3846,-1352 976.3846,-1352\"/>\n<polygon fill=\"none\" stroke=\"#a592c5\" points=\"893.3846,-1329 893.3846,-1352 976.3846,-1352 976.3846,-1329 893.3846,-1329\"/>\n<text text-anchor=\"start\" x=\"917.6538\" y=\"-1337.8\" font-family=\"Fira Code Retina\" font-size=\"14.00\" fill=\"#000000\">ReLU</text>\n<polygon fill=\"none\" stroke=\"#a592c5\" points=\"976.3846,-1329 976.3846,-1352 1076.3846,-1352 1076.3846,-1329 976.3846,-1329\"/>\n</g>\n<!-- block10&#45;&gt;block11 -->\n<g id=\"edge19\" class=\"edge\">\n<title>block10&#45;&gt;block11</title>\n<path fill=\"none\" stroke=\"#ac5553\" d=\"M617.7309,-196.6428C642.0814,-233.8195 668.3012,-278.9687 685.3846,-323 828.9967,-693.1499 711.381,-830.0023 855.3846,-1200 871.0504,-1240.251 894.4193,-1281.4108 916.9806,-1316.5042\"/>\n<polygon fill=\"#ac5553\" stroke=\"#ac5553\" points=\"914.3086,-1318.8155 922.6939,-1325.2913 920.1772,-1314.9997 914.3086,-1318.8155\"/>\n<text text-anchor=\"middle\" x=\"770.3846\" y=\"-1123.0308\" font-family=\"Fira Code Retina\" font-size=\"14.00\" fill=\"#000000\">bs*1024*16*16</text>\n</g>\n<!-- T0&#45;&gt;block6 -->\n<!-- block12 -->\n<g id=\"node14\" class=\"node\">\n<title>block12</title>\n<polygon fill=\"#e6ece5\" stroke=\"transparent\" points=\"892.8846,-1016.5 892.8846,-1177.5 1075.8846,-1177.5 1075.8846,-1016.5 892.8846,-1016.5\"/>\n<polygon fill=\"none\" stroke=\"#a2bba0\" points=\"893.3846,-1154 893.3846,-1177 976.3846,-1177 976.3846,-1154 893.3846,-1154\"/>\n<text text-anchor=\"start\" x=\"917.6538\" y=\"-1162.8\" font-family=\"Fira Code Retina\" font-size=\"14.00\" fill=\"#000000\">Conv</text>\n<polygon fill=\"none\" stroke=\"#a2bba0\" points=\"976.3846,-1154 976.3846,-1177 1076.3846,-1177 1076.3846,-1154 976.3846,-1154\"/>\n<text text-anchor=\"start\" x=\"1013.4615\" y=\"-1162.8\" font-family=\"Fira Code Retina\" font-size=\"14.00\" fill=\"#000000\">256</text>\n<polygon fill=\"none\" stroke=\"#a2bba0\" points=\"893.3846,-1131 893.3846,-1154 976.3846,-1154 976.3846,-1131 893.3846,-1131\"/>\n<text text-anchor=\"start\" x=\"896.1154\" y=\"-1139.8\" font-family=\"Fira Code Retina\" font-size=\"14.00\" fill=\"#000000\">BatchNorm</text>\n<polygon fill=\"none\" stroke=\"#a2bba0\" points=\"976.3846,-1131 976.3846,-1154 1076.3846,-1154 1076.3846,-1131 976.3846,-1131\"/>\n<polygon fill=\"none\" stroke=\"#a2bba0\" points=\"893.3846,-1108 893.3846,-1131 976.3846,-1131 976.3846,-1108 893.3846,-1108\"/>\n<text text-anchor=\"start\" x=\"917.6538\" y=\"-1116.8\" font-family=\"Fira Code Retina\" font-size=\"14.00\" fill=\"#000000\">Conv</text>\n<polygon fill=\"none\" stroke=\"#a2bba0\" points=\"976.3846,-1108 976.3846,-1131 1076.3846,-1131 1076.3846,-1108 976.3846,-1108\"/>\n<text text-anchor=\"start\" x=\"979\" y=\"-1116.8\" font-family=\"Fira Code Retina\" font-size=\"14.00\" fill=\"#000000\">256 k3*3 p1</text>\n<polygon fill=\"none\" stroke=\"#a2bba0\" points=\"893.3846,-1085 893.3846,-1108 976.3846,-1108 976.3846,-1085 893.3846,-1085\"/>\n<text text-anchor=\"start\" x=\"896.1154\" y=\"-1093.8\" font-family=\"Fira Code Retina\" font-size=\"14.00\" fill=\"#000000\">BatchNorm</text>\n<polygon fill=\"none\" stroke=\"#a2bba0\" points=\"976.3846,-1085 976.3846,-1108 1076.3846,-1108 1076.3846,-1085 976.3846,-1085\"/>\n<polygon fill=\"none\" stroke=\"#a2bba0\" points=\"893.3846,-1062 893.3846,-1085 976.3846,-1085 976.3846,-1062 893.3846,-1062\"/>\n<text text-anchor=\"start\" x=\"917.6538\" y=\"-1070.8\" font-family=\"Fira Code Retina\" font-size=\"14.00\" fill=\"#000000\">Conv</text>\n<polygon fill=\"none\" stroke=\"#a2bba0\" points=\"976.3846,-1062 976.3846,-1085 1076.3846,-1085 1076.3846,-1062 976.3846,-1062\"/>\n<text text-anchor=\"start\" x=\"1009.1538\" y=\"-1070.8\" font-family=\"Fira Code Retina\" font-size=\"14.00\" fill=\"#000000\">1024</text>\n<polygon fill=\"none\" stroke=\"#a2bba0\" points=\"893.3846,-1039 893.3846,-1062 976.3846,-1062 976.3846,-1039 893.3846,-1039\"/>\n<text text-anchor=\"start\" x=\"896.1154\" y=\"-1047.8\" font-family=\"Fira Code Retina\" font-size=\"14.00\" fill=\"#000000\">BatchNorm</text>\n<polygon fill=\"none\" stroke=\"#a2bba0\" points=\"976.3846,-1039 976.3846,-1062 1076.3846,-1062 1076.3846,-1039 976.3846,-1039\"/>\n<polygon fill=\"none\" stroke=\"#a2bba0\" points=\"893.3846,-1016 893.3846,-1039 976.3846,-1039 976.3846,-1016 893.3846,-1016\"/>\n<text text-anchor=\"start\" x=\"917.6538\" y=\"-1024.8\" font-family=\"Fira Code Retina\" font-size=\"14.00\" fill=\"#000000\">ReLU</text>\n<polygon fill=\"none\" stroke=\"#a2bba0\" points=\"976.3846,-1016 976.3846,-1039 1076.3846,-1039 1076.3846,-1016 976.3846,-1016\"/>\n</g>\n<!-- block11&#45;&gt;block12 -->\n<g id=\"edge13\" class=\"edge\">\n<title>block11&#45;&gt;block12</title>\n<path fill=\"none\" stroke=\"#7d88c7\" d=\"M984.3846,-1325.23C984.3846,-1283.9886 984.3846,-1234.2668 984.3846,-1191.7745\"/>\n<polygon fill=\"#7d88c7\" stroke=\"#7d88c7\" points=\"987.8847,-1191.7023 984.3846,-1181.7023 980.8847,-1191.7023 987.8847,-1191.7023\"/>\n<text text-anchor=\"middle\" x=\"972.7692\" y=\"-1250.9154\" font-family=\"Fira Code Retina\" font-size=\"14.00\" fill=\"#000000\">bs*1024*16*16</text>\n</g>\n<!-- T2 -->\n<!-- block11&#45;&gt;T2 -->\n<!-- block13 -->\n<g id=\"node15\" class=\"node\">\n<title>block13</title>\n<polygon fill=\"#efe0df\" stroke=\"transparent\" points=\"892.8846,-703.5 892.8846,-864.5 1075.8846,-864.5 1075.8846,-703.5 892.8846,-703.5\"/>\n<polygon fill=\"none\" stroke=\"#c08b7b\" points=\"893.3846,-841 893.3846,-864 976.3846,-864 976.3846,-841 893.3846,-841\"/>\n<text text-anchor=\"start\" x=\"917.6538\" y=\"-849.8\" font-family=\"Fira Code Retina\" font-size=\"14.00\" fill=\"#000000\">Conv</text>\n<polygon fill=\"none\" stroke=\"#c08b7b\" points=\"976.3846,-841 976.3846,-864 1076.3846,-864 1076.3846,-841 976.3846,-841\"/>\n<text text-anchor=\"start\" x=\"1013.4615\" y=\"-849.8\" font-family=\"Fira Code Retina\" font-size=\"14.00\" fill=\"#000000\">256</text>\n<polygon fill=\"none\" stroke=\"#c08b7b\" points=\"893.3846,-818 893.3846,-841 976.3846,-841 976.3846,-818 893.3846,-818\"/>\n<text text-anchor=\"start\" x=\"896.1154\" y=\"-826.8\" font-family=\"Fira Code Retina\" font-size=\"14.00\" fill=\"#000000\">BatchNorm</text>\n<polygon fill=\"none\" stroke=\"#c08b7b\" points=\"976.3846,-818 976.3846,-841 1076.3846,-841 1076.3846,-818 976.3846,-818\"/>\n<polygon fill=\"none\" stroke=\"#c08b7b\" points=\"893.3846,-795 893.3846,-818 976.3846,-818 976.3846,-795 893.3846,-795\"/>\n<text text-anchor=\"start\" x=\"917.6538\" y=\"-803.8\" font-family=\"Fira Code Retina\" font-size=\"14.00\" fill=\"#000000\">Conv</text>\n<polygon fill=\"none\" stroke=\"#c08b7b\" points=\"976.3846,-795 976.3846,-818 1076.3846,-818 1076.3846,-795 976.3846,-795\"/>\n<text text-anchor=\"start\" x=\"979\" y=\"-803.8\" font-family=\"Fira Code Retina\" font-size=\"14.00\" fill=\"#000000\">256 k3*3 p1</text>\n<polygon fill=\"none\" stroke=\"#c08b7b\" points=\"893.3846,-772 893.3846,-795 976.3846,-795 976.3846,-772 893.3846,-772\"/>\n<text text-anchor=\"start\" x=\"896.1154\" y=\"-780.8\" font-family=\"Fira Code Retina\" font-size=\"14.00\" fill=\"#000000\">BatchNorm</text>\n<polygon fill=\"none\" stroke=\"#c08b7b\" points=\"976.3846,-772 976.3846,-795 1076.3846,-795 1076.3846,-772 976.3846,-772\"/>\n<polygon fill=\"none\" stroke=\"#c08b7b\" points=\"893.3846,-749 893.3846,-772 976.3846,-772 976.3846,-749 893.3846,-749\"/>\n<text text-anchor=\"start\" x=\"917.6538\" y=\"-757.8\" font-family=\"Fira Code Retina\" font-size=\"14.00\" fill=\"#000000\">Conv</text>\n<polygon fill=\"none\" stroke=\"#c08b7b\" points=\"976.3846,-749 976.3846,-772 1076.3846,-772 1076.3846,-749 976.3846,-749\"/>\n<text text-anchor=\"start\" x=\"1009.1538\" y=\"-757.8\" font-family=\"Fira Code Retina\" font-size=\"14.00\" fill=\"#000000\">1024</text>\n<polygon fill=\"none\" stroke=\"#c08b7b\" points=\"893.3846,-726 893.3846,-749 976.3846,-749 976.3846,-726 893.3846,-726\"/>\n<text text-anchor=\"start\" x=\"896.1154\" y=\"-734.8\" font-family=\"Fira Code Retina\" font-size=\"14.00\" fill=\"#000000\">BatchNorm</text>\n<polygon fill=\"none\" stroke=\"#c08b7b\" points=\"976.3846,-726 976.3846,-749 1076.3846,-749 1076.3846,-726 976.3846,-726\"/>\n<polygon fill=\"none\" stroke=\"#c08b7b\" points=\"893.3846,-703 893.3846,-726 976.3846,-726 976.3846,-703 893.3846,-703\"/>\n<text text-anchor=\"start\" x=\"917.6538\" y=\"-711.8\" font-family=\"Fira Code Retina\" font-size=\"14.00\" fill=\"#000000\">ReLU</text>\n<polygon fill=\"none\" stroke=\"#c08b7b\" points=\"976.3846,-703 976.3846,-726 1076.3846,-726 1076.3846,-703 976.3846,-703\"/>\n</g>\n<!-- block12&#45;&gt;block13 -->\n<g id=\"edge14\" class=\"edge\">\n<title>block12&#45;&gt;block13</title>\n<path fill=\"none\" stroke=\"#7d88c7\" d=\"M984.3846,-1012.23C984.3846,-970.9886 984.3846,-921.2668 984.3846,-878.7745\"/>\n<polygon fill=\"#7d88c7\" stroke=\"#7d88c7\" points=\"987.8847,-878.7023 984.3846,-868.7023 980.8847,-878.7023 987.8847,-878.7023\"/>\n<text text-anchor=\"middle\" x=\"972.7692\" y=\"-937.9154\" font-family=\"Fira Code Retina\" font-size=\"14.00\" fill=\"#000000\">bs*1024*16*16</text>\n</g>\n<!-- block14 -->\n<g id=\"node16\" class=\"node\">\n<title>block14</title>\n<polygon fill=\"#61defc\" stroke=\"transparent\" points=\"892.8846,-390.5 892.8846,-551.5 1075.8846,-551.5 1075.8846,-390.5 892.8846,-390.5\"/>\n<polygon fill=\"none\" stroke=\"#2075f8\" points=\"893.3846,-528 893.3846,-551 976.3846,-551 976.3846,-528 893.3846,-528\"/>\n<text text-anchor=\"start\" x=\"917.6538\" y=\"-536.8\" font-family=\"Fira Code Retina\" font-size=\"14.00\" fill=\"#000000\">Conv</text>\n<polygon fill=\"none\" stroke=\"#2075f8\" points=\"976.3846,-528 976.3846,-551 1076.3846,-551 1076.3846,-528 976.3846,-528\"/>\n<text text-anchor=\"start\" x=\"1013.4615\" y=\"-536.8\" font-family=\"Fira Code Retina\" font-size=\"14.00\" fill=\"#000000\">256</text>\n<polygon fill=\"none\" stroke=\"#2075f8\" points=\"893.3846,-505 893.3846,-528 976.3846,-528 976.3846,-505 893.3846,-505\"/>\n<text text-anchor=\"start\" x=\"896.1154\" y=\"-513.8\" font-family=\"Fira Code Retina\" font-size=\"14.00\" fill=\"#000000\">BatchNorm</text>\n<polygon fill=\"none\" stroke=\"#2075f8\" points=\"976.3846,-505 976.3846,-528 1076.3846,-528 1076.3846,-505 976.3846,-505\"/>\n<polygon fill=\"none\" stroke=\"#2075f8\" points=\"893.3846,-482 893.3846,-505 976.3846,-505 976.3846,-482 893.3846,-482\"/>\n<text text-anchor=\"start\" x=\"917.6538\" y=\"-490.8\" font-family=\"Fira Code Retina\" font-size=\"14.00\" fill=\"#000000\">Conv</text>\n<polygon fill=\"none\" stroke=\"#2075f8\" points=\"976.3846,-482 976.3846,-505 1076.3846,-505 1076.3846,-482 976.3846,-482\"/>\n<text text-anchor=\"start\" x=\"979\" y=\"-490.8\" font-family=\"Fira Code Retina\" font-size=\"14.00\" fill=\"#000000\">256 k3*3 p1</text>\n<polygon fill=\"none\" stroke=\"#2075f8\" points=\"893.3846,-459 893.3846,-482 976.3846,-482 976.3846,-459 893.3846,-459\"/>\n<text text-anchor=\"start\" x=\"896.1154\" y=\"-467.8\" font-family=\"Fira Code Retina\" font-size=\"14.00\" fill=\"#000000\">BatchNorm</text>\n<polygon fill=\"none\" stroke=\"#2075f8\" points=\"976.3846,-459 976.3846,-482 1076.3846,-482 1076.3846,-459 976.3846,-459\"/>\n<polygon fill=\"none\" stroke=\"#2075f8\" points=\"893.3846,-436 893.3846,-459 976.3846,-459 976.3846,-436 893.3846,-436\"/>\n<text text-anchor=\"start\" x=\"917.6538\" y=\"-444.8\" font-family=\"Fira Code Retina\" font-size=\"14.00\" fill=\"#000000\">Conv</text>\n<polygon fill=\"none\" stroke=\"#2075f8\" points=\"976.3846,-436 976.3846,-459 1076.3846,-459 1076.3846,-436 976.3846,-436\"/>\n<text text-anchor=\"start\" x=\"1009.1538\" y=\"-444.8\" font-family=\"Fira Code Retina\" font-size=\"14.00\" fill=\"#000000\">1024</text>\n<polygon fill=\"none\" stroke=\"#2075f8\" points=\"893.3846,-413 893.3846,-436 976.3846,-436 976.3846,-413 893.3846,-413\"/>\n<text text-anchor=\"start\" x=\"896.1154\" y=\"-421.8\" font-family=\"Fira Code Retina\" font-size=\"14.00\" fill=\"#000000\">BatchNorm</text>\n<polygon fill=\"none\" stroke=\"#2075f8\" points=\"976.3846,-413 976.3846,-436 1076.3846,-436 1076.3846,-413 976.3846,-413\"/>\n<polygon fill=\"none\" stroke=\"#2075f8\" points=\"893.3846,-390 893.3846,-413 976.3846,-413 976.3846,-390 893.3846,-390\"/>\n<text text-anchor=\"start\" x=\"917.6538\" y=\"-398.8\" font-family=\"Fira Code Retina\" font-size=\"14.00\" fill=\"#000000\">ReLU</text>\n<polygon fill=\"none\" stroke=\"#2075f8\" points=\"976.3846,-390 976.3846,-413 1076.3846,-413 1076.3846,-390 976.3846,-390\"/>\n</g>\n<!-- block13&#45;&gt;block14 -->\n<g id=\"edge15\" class=\"edge\">\n<title>block13&#45;&gt;block14</title>\n<path fill=\"none\" stroke=\"#7d88c7\" d=\"M984.3846,-699.23C984.3846,-657.9886 984.3846,-608.2668 984.3846,-565.7745\"/>\n<polygon fill=\"#7d88c7\" stroke=\"#7d88c7\" points=\"987.8847,-565.7023 984.3846,-555.7023 980.8847,-565.7023 987.8847,-565.7023\"/>\n<text text-anchor=\"middle\" x=\"972.7692\" y=\"-624.9154\" font-family=\"Fira Code Retina\" font-size=\"14.00\" fill=\"#000000\">bs*1024*16*16</text>\n</g>\n<!-- block15 -->\n<g id=\"node17\" class=\"node\">\n<title>block15</title>\n<polygon fill=\"#e4e7eb\" stroke=\"transparent\" points=\"871.3846,-31.5 871.3846,-238.5 1097.3846,-238.5 1097.3846,-31.5 871.3846,-31.5\"/>\n<polygon fill=\"none\" stroke=\"#acc7d2\" points=\"871.3846,-215 871.3846,-238 954.3846,-238 954.3846,-215 871.3846,-215\"/>\n<text text-anchor=\"start\" x=\"895.6538\" y=\"-223.8\" font-family=\"Fira Code Retina\" font-size=\"14.00\" fill=\"#000000\">Conv</text>\n<polygon fill=\"none\" stroke=\"#acc7d2\" points=\"954.3846,-215 954.3846,-238 1097.3846,-238 1097.3846,-215 954.3846,-215\"/>\n<text text-anchor=\"start\" x=\"1012.9615\" y=\"-223.8\" font-family=\"Fira Code Retina\" font-size=\"14.00\" fill=\"#000000\">512</text>\n<polygon fill=\"none\" stroke=\"#acc7d2\" points=\"871.3846,-192 871.3846,-215 954.3846,-215 954.3846,-192 871.3846,-192\"/>\n<text text-anchor=\"start\" x=\"874.1154\" y=\"-200.8\" font-family=\"Fira Code Retina\" font-size=\"14.00\" fill=\"#000000\">BatchNorm</text>\n<polygon fill=\"none\" stroke=\"#acc7d2\" points=\"954.3846,-192 954.3846,-215 1097.3846,-215 1097.3846,-192 954.3846,-192\"/>\n<polygon fill=\"none\" stroke=\"#acc7d2\" points=\"871.3846,-169 871.3846,-192 954.3846,-192 954.3846,-169 871.3846,-169\"/>\n<text text-anchor=\"start\" x=\"895.6538\" y=\"-177.8\" font-family=\"Fira Code Retina\" font-size=\"14.00\" fill=\"#000000\">Conv</text>\n<polygon fill=\"none\" stroke=\"#acc7d2\" points=\"954.3846,-169 954.3846,-192 1097.3846,-192 1097.3846,-169 954.3846,-169\"/>\n<text text-anchor=\"start\" x=\"956.9615\" y=\"-177.8\" font-family=\"Fira Code Retina\" font-size=\"14.00\" fill=\"#000000\">512 k3*3 s2*2 p1</text>\n<polygon fill=\"none\" stroke=\"#acc7d2\" points=\"871.3846,-146 871.3846,-169 954.3846,-169 954.3846,-146 871.3846,-146\"/>\n<text text-anchor=\"start\" x=\"874.1154\" y=\"-154.8\" font-family=\"Fira Code Retina\" font-size=\"14.00\" fill=\"#000000\">BatchNorm</text>\n<polygon fill=\"none\" stroke=\"#acc7d2\" points=\"954.3846,-146 954.3846,-169 1097.3846,-169 1097.3846,-146 954.3846,-146\"/>\n<polygon fill=\"none\" stroke=\"#acc7d2\" points=\"871.3846,-123 871.3846,-146 954.3846,-146 954.3846,-123 871.3846,-123\"/>\n<text text-anchor=\"start\" x=\"895.6538\" y=\"-131.8\" font-family=\"Fira Code Retina\" font-size=\"14.00\" fill=\"#000000\">Conv</text>\n<polygon fill=\"none\" stroke=\"#acc7d2\" points=\"954.3846,-123 954.3846,-146 1097.3846,-146 1097.3846,-123 954.3846,-123\"/>\n<text text-anchor=\"start\" x=\"1008.6538\" y=\"-131.8\" font-family=\"Fira Code Retina\" font-size=\"14.00\" fill=\"#000000\">2048</text>\n<polygon fill=\"none\" stroke=\"#acc7d2\" points=\"871.3846,-100 871.3846,-123 954.3846,-123 954.3846,-100 871.3846,-100\"/>\n<text text-anchor=\"start\" x=\"874.1154\" y=\"-108.8\" font-family=\"Fira Code Retina\" font-size=\"14.00\" fill=\"#000000\">BatchNorm</text>\n<polygon fill=\"none\" stroke=\"#acc7d2\" points=\"954.3846,-100 954.3846,-123 1097.3846,-123 1097.3846,-100 954.3846,-100\"/>\n<polygon fill=\"none\" stroke=\"#acc7d2\" points=\"871.3846,-77 871.3846,-100 954.3846,-100 954.3846,-77 871.3846,-77\"/>\n<text text-anchor=\"start\" x=\"895.6538\" y=\"-85.8\" font-family=\"Fira Code Retina\" font-size=\"14.00\" fill=\"#000000\">ReLU</text>\n<polygon fill=\"none\" stroke=\"#acc7d2\" points=\"954.3846,-77 954.3846,-100 1097.3846,-100 1097.3846,-77 954.3846,-77\"/>\n<polygon fill=\"none\" stroke=\"#acc7d2\" points=\"871.3846,-54 871.3846,-77 954.3846,-77 954.3846,-54 871.3846,-54\"/>\n<text text-anchor=\"start\" x=\"895.6538\" y=\"-62.8\" font-family=\"Fira Code Retina\" font-size=\"14.00\" fill=\"#000000\">Conv</text>\n<polygon fill=\"none\" stroke=\"#acc7d2\" points=\"954.3846,-54 954.3846,-77 1097.3846,-77 1097.3846,-54 954.3846,-54\"/>\n<text text-anchor=\"start\" x=\"987.1154\" y=\"-62.8\" font-family=\"Fira Code Retina\" font-size=\"14.00\" fill=\"#000000\">2048 s2*2</text>\n<polygon fill=\"none\" stroke=\"#acc7d2\" points=\"871.3846,-31 871.3846,-54 954.3846,-54 954.3846,-31 871.3846,-31\"/>\n<text text-anchor=\"start\" x=\"874.1154\" y=\"-39.8\" font-family=\"Fira Code Retina\" font-size=\"14.00\" fill=\"#000000\">BatchNorm</text>\n<polygon fill=\"none\" stroke=\"#acc7d2\" points=\"954.3846,-31 954.3846,-54 1097.3846,-54 1097.3846,-31 954.3846,-31\"/>\n</g>\n<!-- block14&#45;&gt;block15 -->\n<g id=\"edge16\" class=\"edge\">\n<title>block14&#45;&gt;block15</title>\n<path fill=\"none\" stroke=\"#7d88c7\" d=\"M984.3846,-386.2486C984.3846,-345.8421 984.3846,-296.8375 984.3846,-252.8742\"/>\n<polygon fill=\"#7d88c7\" stroke=\"#7d88c7\" points=\"987.8847,-252.6989 984.3846,-242.6989 980.8847,-252.699 987.8847,-252.6989\"/>\n<text text-anchor=\"middle\" x=\"972.7692\" y=\"-311.9154\" font-family=\"Fira Code Retina\" font-size=\"14.00\" fill=\"#000000\">bs*1024*16*16</text>\n</g>\n<!-- block16 -->\n<g id=\"node19\" class=\"node\">\n<title>block16</title>\n<polygon fill=\"#f1e3dd\" stroke=\"transparent\" points=\"1282.1538,-1329.5 1282.1538,-1490.5 1465.1538,-1490.5 1465.1538,-1329.5 1282.1538,-1329.5\"/>\n<polygon fill=\"none\" stroke=\"#ddbf9a\" points=\"1282.6538,-1467 1282.6538,-1490 1365.6538,-1490 1365.6538,-1467 1282.6538,-1467\"/>\n<text text-anchor=\"start\" x=\"1306.9231\" y=\"-1475.8\" font-family=\"Fira Code Retina\" font-size=\"14.00\" fill=\"#000000\">Conv</text>\n<polygon fill=\"none\" stroke=\"#ddbf9a\" points=\"1365.6538,-1467 1365.6538,-1490 1465.6538,-1490 1465.6538,-1467 1365.6538,-1467\"/>\n<text text-anchor=\"start\" x=\"1402.7308\" y=\"-1475.8\" font-family=\"Fira Code Retina\" font-size=\"14.00\" fill=\"#000000\">512</text>\n<polygon fill=\"none\" stroke=\"#ddbf9a\" points=\"1282.6538,-1444 1282.6538,-1467 1365.6538,-1467 1365.6538,-1444 1282.6538,-1444\"/>\n<text text-anchor=\"start\" x=\"1285.3846\" y=\"-1452.8\" font-family=\"Fira Code Retina\" font-size=\"14.00\" fill=\"#000000\">BatchNorm</text>\n<polygon fill=\"none\" stroke=\"#ddbf9a\" points=\"1365.6538,-1444 1365.6538,-1467 1465.6538,-1467 1465.6538,-1444 1365.6538,-1444\"/>\n<polygon fill=\"none\" stroke=\"#ddbf9a\" points=\"1282.6538,-1421 1282.6538,-1444 1365.6538,-1444 1365.6538,-1421 1282.6538,-1421\"/>\n<text text-anchor=\"start\" x=\"1306.9231\" y=\"-1429.8\" font-family=\"Fira Code Retina\" font-size=\"14.00\" fill=\"#000000\">Conv</text>\n<polygon fill=\"none\" stroke=\"#ddbf9a\" points=\"1365.6538,-1421 1365.6538,-1444 1465.6538,-1444 1465.6538,-1421 1365.6538,-1421\"/>\n<text text-anchor=\"start\" x=\"1368.2692\" y=\"-1429.8\" font-family=\"Fira Code Retina\" font-size=\"14.00\" fill=\"#000000\">512 k3*3 p1</text>\n<polygon fill=\"none\" stroke=\"#ddbf9a\" points=\"1282.6538,-1398 1282.6538,-1421 1365.6538,-1421 1365.6538,-1398 1282.6538,-1398\"/>\n<text text-anchor=\"start\" x=\"1285.3846\" y=\"-1406.8\" font-family=\"Fira Code Retina\" font-size=\"14.00\" fill=\"#000000\">BatchNorm</text>\n<polygon fill=\"none\" stroke=\"#ddbf9a\" points=\"1365.6538,-1398 1365.6538,-1421 1465.6538,-1421 1465.6538,-1398 1365.6538,-1398\"/>\n<polygon fill=\"none\" stroke=\"#ddbf9a\" points=\"1282.6538,-1375 1282.6538,-1398 1365.6538,-1398 1365.6538,-1375 1282.6538,-1375\"/>\n<text text-anchor=\"start\" x=\"1306.9231\" y=\"-1383.8\" font-family=\"Fira Code Retina\" font-size=\"14.00\" fill=\"#000000\">Conv</text>\n<polygon fill=\"none\" stroke=\"#ddbf9a\" points=\"1365.6538,-1375 1365.6538,-1398 1465.6538,-1398 1465.6538,-1375 1365.6538,-1375\"/>\n<text text-anchor=\"start\" x=\"1398.4231\" y=\"-1383.8\" font-family=\"Fira Code Retina\" font-size=\"14.00\" fill=\"#000000\">2048</text>\n<polygon fill=\"none\" stroke=\"#ddbf9a\" points=\"1282.6538,-1352 1282.6538,-1375 1365.6538,-1375 1365.6538,-1352 1282.6538,-1352\"/>\n<text text-anchor=\"start\" x=\"1285.3846\" y=\"-1360.8\" font-family=\"Fira Code Retina\" font-size=\"14.00\" fill=\"#000000\">BatchNorm</text>\n<polygon fill=\"none\" stroke=\"#ddbf9a\" points=\"1365.6538,-1352 1365.6538,-1375 1465.6538,-1375 1465.6538,-1352 1365.6538,-1352\"/>\n<polygon fill=\"none\" stroke=\"#ddbf9a\" points=\"1282.6538,-1329 1282.6538,-1352 1365.6538,-1352 1365.6538,-1329 1282.6538,-1329\"/>\n<text text-anchor=\"start\" x=\"1306.9231\" y=\"-1337.8\" font-family=\"Fira Code Retina\" font-size=\"14.00\" fill=\"#000000\">ReLU</text>\n<polygon fill=\"none\" stroke=\"#ddbf9a\" points=\"1365.6538,-1329 1365.6538,-1352 1465.6538,-1352 1465.6538,-1329 1365.6538,-1329\"/>\n</g>\n<!-- block15&#45;&gt;block16 -->\n<g id=\"edge26\" class=\"edge\">\n<title>block15&#45;&gt;block16</title>\n<path fill=\"none\" stroke=\"#ac5553\" d=\"M1053.1786,-242.5703C1075.2726,-281.1786 1097.9862,-325.8562 1113.3846,-369 1239.6135,-722.6714 1145.3687,-844.4327 1266.1538,-1200 1279.604,-1239.5946 1299.4244,-1281.0089 1318.3945,-1316.4937\"/>\n<polygon fill=\"#ac5553\" stroke=\"#ac5553\" points=\"1315.3635,-1318.2468 1323.1947,-1325.3828 1321.5228,-1314.9207 1315.3635,-1318.2468\"/>\n<text text-anchor=\"middle\" x=\"1189.7692\" y=\"-1108.0308\" font-family=\"Fira Code Retina\" font-size=\"14.00\" fill=\"#000000\">bs*2048*8*8</text>\n</g>\n<!-- T1&#45;&gt;block11 -->\n<!-- block17 -->\n<g id=\"node20\" class=\"node\">\n<title>block17</title>\n<polygon fill=\"#e9e1f0\" stroke=\"transparent\" points=\"1282.1538,-1016.5 1282.1538,-1177.5 1465.1538,-1177.5 1465.1538,-1016.5 1282.1538,-1016.5\"/>\n<polygon fill=\"none\" stroke=\"#a592c5\" points=\"1282.6538,-1154 1282.6538,-1177 1365.6538,-1177 1365.6538,-1154 1282.6538,-1154\"/>\n<text text-anchor=\"start\" x=\"1306.9231\" y=\"-1162.8\" font-family=\"Fira Code Retina\" font-size=\"14.00\" fill=\"#000000\">Conv</text>\n<polygon fill=\"none\" stroke=\"#a592c5\" points=\"1365.6538,-1154 1365.6538,-1177 1465.6538,-1177 1465.6538,-1154 1365.6538,-1154\"/>\n<text text-anchor=\"start\" x=\"1402.7308\" y=\"-1162.8\" font-family=\"Fira Code Retina\" font-size=\"14.00\" fill=\"#000000\">512</text>\n<polygon fill=\"none\" stroke=\"#a592c5\" points=\"1282.6538,-1131 1282.6538,-1154 1365.6538,-1154 1365.6538,-1131 1282.6538,-1131\"/>\n<text text-anchor=\"start\" x=\"1285.3846\" y=\"-1139.8\" font-family=\"Fira Code Retina\" font-size=\"14.00\" fill=\"#000000\">BatchNorm</text>\n<polygon fill=\"none\" stroke=\"#a592c5\" points=\"1365.6538,-1131 1365.6538,-1154 1465.6538,-1154 1465.6538,-1131 1365.6538,-1131\"/>\n<polygon fill=\"none\" stroke=\"#a592c5\" points=\"1282.6538,-1108 1282.6538,-1131 1365.6538,-1131 1365.6538,-1108 1282.6538,-1108\"/>\n<text text-anchor=\"start\" x=\"1306.9231\" y=\"-1116.8\" font-family=\"Fira Code Retina\" font-size=\"14.00\" fill=\"#000000\">Conv</text>\n<polygon fill=\"none\" stroke=\"#a592c5\" points=\"1365.6538,-1108 1365.6538,-1131 1465.6538,-1131 1465.6538,-1108 1365.6538,-1108\"/>\n<text text-anchor=\"start\" x=\"1368.2692\" y=\"-1116.8\" font-family=\"Fira Code Retina\" font-size=\"14.00\" fill=\"#000000\">512 k3*3 p1</text>\n<polygon fill=\"none\" stroke=\"#a592c5\" points=\"1282.6538,-1085 1282.6538,-1108 1365.6538,-1108 1365.6538,-1085 1282.6538,-1085\"/>\n<text text-anchor=\"start\" x=\"1285.3846\" y=\"-1093.8\" font-family=\"Fira Code Retina\" font-size=\"14.00\" fill=\"#000000\">BatchNorm</text>\n<polygon fill=\"none\" stroke=\"#a592c5\" points=\"1365.6538,-1085 1365.6538,-1108 1465.6538,-1108 1465.6538,-1085 1365.6538,-1085\"/>\n<polygon fill=\"none\" stroke=\"#a592c5\" points=\"1282.6538,-1062 1282.6538,-1085 1365.6538,-1085 1365.6538,-1062 1282.6538,-1062\"/>\n<text text-anchor=\"start\" x=\"1306.9231\" y=\"-1070.8\" font-family=\"Fira Code Retina\" font-size=\"14.00\" fill=\"#000000\">Conv</text>\n<polygon fill=\"none\" stroke=\"#a592c5\" points=\"1365.6538,-1062 1365.6538,-1085 1465.6538,-1085 1465.6538,-1062 1365.6538,-1062\"/>\n<text text-anchor=\"start\" x=\"1398.4231\" y=\"-1070.8\" font-family=\"Fira Code Retina\" font-size=\"14.00\" fill=\"#000000\">2048</text>\n<polygon fill=\"none\" stroke=\"#a592c5\" points=\"1282.6538,-1039 1282.6538,-1062 1365.6538,-1062 1365.6538,-1039 1282.6538,-1039\"/>\n<text text-anchor=\"start\" x=\"1285.3846\" y=\"-1047.8\" font-family=\"Fira Code Retina\" font-size=\"14.00\" fill=\"#000000\">BatchNorm</text>\n<polygon fill=\"none\" stroke=\"#a592c5\" points=\"1365.6538,-1039 1365.6538,-1062 1465.6538,-1062 1465.6538,-1039 1365.6538,-1039\"/>\n<polygon fill=\"none\" stroke=\"#a592c5\" points=\"1282.6538,-1016 1282.6538,-1039 1365.6538,-1039 1365.6538,-1016 1282.6538,-1016\"/>\n<text text-anchor=\"start\" x=\"1306.9231\" y=\"-1024.8\" font-family=\"Fira Code Retina\" font-size=\"14.00\" fill=\"#000000\">ReLU</text>\n<polygon fill=\"none\" stroke=\"#a592c5\" points=\"1365.6538,-1016 1365.6538,-1039 1465.6538,-1039 1465.6538,-1016 1365.6538,-1016\"/>\n</g>\n<!-- block16&#45;&gt;block17 -->\n<g id=\"edge20\" class=\"edge\">\n<title>block16&#45;&gt;block17</title>\n<path fill=\"none\" stroke=\"#7d88c7\" d=\"M1373.6538,-1325.23C1373.6538,-1283.9886 1373.6538,-1234.2668 1373.6538,-1191.7745\"/>\n<polygon fill=\"#7d88c7\" stroke=\"#7d88c7\" points=\"1377.1539,-1191.7023 1373.6538,-1181.7023 1370.1539,-1191.7023 1377.1539,-1191.7023\"/>\n<text text-anchor=\"middle\" x=\"1362.0384\" y=\"-1250.9154\" font-family=\"Fira Code Retina\" font-size=\"14.00\" fill=\"#000000\">bs*2048*8*8</text>\n</g>\n<!-- block18 -->\n<g id=\"node21\" class=\"node\">\n<title>block18</title>\n<polygon fill=\"#f1cfcd\" stroke=\"#a25954\" points=\"1472.0769,-869 1275.2308,-869 1275.2308,-833 1472.0769,-833 1472.0769,-869\"/>\n<text text-anchor=\"middle\" x=\"1373.6538\" y=\"-848.4154\" font-family=\"Fira Code Retina\" font-size=\"14.00\" fill=\"#000000\">AdaptiveAvgPool2d_1*1</text>\n</g>\n<!-- block17&#45;&gt;block18 -->\n<g id=\"edge21\" class=\"edge\">\n<title>block17&#45;&gt;block18</title>\n<path fill=\"none\" stroke=\"#7d88c7\" d=\"M1373.6538,-1012.4618C1373.6538,-966.0374 1373.6538,-911.4851 1373.6538,-879.1567\"/>\n<polygon fill=\"#7d88c7\" stroke=\"#7d88c7\" points=\"1377.1539,-879.0889 1373.6538,-869.089 1370.1539,-879.089 1377.1539,-879.0889\"/>\n<text text-anchor=\"middle\" x=\"1362.0384\" y=\"-938.1654\" font-family=\"Fira Code Retina\" font-size=\"14.00\" fill=\"#000000\">bs*2048*8*8</text>\n</g>\n<!-- block19 -->\n<g id=\"node22\" class=\"node\">\n<title>block19</title>\n<ellipse fill=\"none\" stroke=\"#c0c0c0\" cx=\"1373.6538\" cy=\"-671\" rx=\"53.4781\" ry=\"18\"/>\n<text text-anchor=\"middle\" x=\"1373.6538\" y=\"-668.4154\" font-family=\"Fira Code Retina\" font-size=\"14.00\" fill=\"#000000\">flatten</text>\n</g>\n<!-- block18&#45;&gt;block19 -->\n<g id=\"edge22\" class=\"edge\">\n<title>block18&#45;&gt;block19</title>\n<path fill=\"none\" stroke=\"#7d88c7\" d=\"M1373.6538,-832.9694C1373.6538,-801.643 1373.6538,-736.9385 1373.6538,-699.486\"/>\n<polygon fill=\"#7d88c7\" stroke=\"#7d88c7\" points=\"1377.1539,-699.2499 1373.6538,-689.2499 1370.1539,-699.25 1377.1539,-699.2499\"/>\n<text text-anchor=\"middle\" x=\"1362.0384\" y=\"-758.4154\" font-family=\"Fira Code Retina\" font-size=\"14.00\" fill=\"#000000\">bs*2048*1*1</text>\n</g>\n<!-- block20 -->\n<g id=\"node23\" class=\"node\">\n<title>block20</title>\n<polygon fill=\"#f1cfcd\" stroke=\"#a25954\" points=\"1407.3468,-509 1339.9608,-509 1339.9608,-473 1407.3468,-473 1407.3468,-509\"/>\n<text text-anchor=\"middle\" x=\"1373.6538\" y=\"-488.4154\" font-family=\"Fira Code Retina\" font-size=\"14.00\" fill=\"#000000\">Linear</text>\n</g>\n<!-- block19&#45;&gt;block20 -->\n<g id=\"edge23\" class=\"edge\">\n<title>block19&#45;&gt;block20</title>\n<path fill=\"none\" stroke=\"#7d88c7\" d=\"M1373.6538,-652.9694C1373.6538,-621.643 1373.6538,-556.9385 1373.6538,-519.486\"/>\n<polygon fill=\"#7d88c7\" stroke=\"#7d88c7\" points=\"1377.1539,-519.2499 1373.6538,-509.2499 1370.1539,-519.25 1377.1539,-519.2499\"/>\n<text text-anchor=\"middle\" x=\"1362.0384\" y=\"-578.4154\" font-family=\"Fira Code Retina\" font-size=\"14.00\" fill=\"#000000\">bs*2048</text>\n</g>\n<!-- T2&#45;&gt;block16 -->\n</g>\n</svg>\n"
     },
     "metadata": {},
     "output_type": "execute_result",
     "execution_count": 1
    }
   ],
   "source": [
    "import graphviz\n",
    "\n",
    "FONT_NAME = \"Fira Code Retina\"\n",
    "graph = graphviz.Digraph(name=\"ResNet50\", format='png',node_attr={'shape': 'plaintext'}, edge_attr = {\"constraint\":\"false\"})\n",
    "graph.attr(nodesep=\"0.5\", rankdir=\"LR\")\n",
    "\n",
    "with graph.subgraph(name=\"cluster_1\") as sub1:\n",
    "    sub1.attr(bgcolor=\"#F9FAFE\", color=\"#E3E5EF\")\n",
    "    with graph.subgraph() as s:\n",
    "        s.node(\"block1\", '''<\n",
    "            <table border=\"0\" CELLBORDER=\"1\" CELLSPACING=\"0\" bgcolor=\"#E4E7EB\" color=\"#ACC7D2\">\n",
    "            <tr><td>Conv</td><td>64 k7*7 s2*2 p3</td></tr>\n",
    "            <tr><td>BatchNorm</td><td></td></tr>\n",
    "            <tr><td>ReLU</td><td></td></tr>\n",
    "            <tr><td>MaxPool</td><td>k3*3 s2*2 p1</td></tr>\n",
    "            </table>\n",
    "            >''', fontname=FONT_NAME)\n",
    "        s.node('block2', '''<\n",
    "                <table border=\"0\" CELLBORDER=\"1\" CELLSPACING=\"0\" bgcolor=\"#E4E7EB\" color=\"#ACC7D2\">\n",
    "                <tr><td>Conv</td><td>64</td></tr>\n",
    "                <tr><td>BatchNorm</td><td></td></tr>\n",
    "                <tr><td>Conv</td><td>64 k3*3 p1</td></tr>\n",
    "                <tr><td>BatchNorm</td><td></td></tr>\n",
    "                <tr><td>Conv</td><td>256</td></tr>\n",
    "                <tr><td>BatchNorm</td><td></td></tr>\n",
    "                <tr><td>ReLU</td><td></td></tr>\n",
    "                <tr><td>Conv</td><td>256</td></tr>\n",
    "                <tr><td>BatchNorm</td><td></td></tr>\n",
    "                </table>\n",
    "                >''', fontname=FONT_NAME)\n",
    "        s.node('block3', '''<\n",
    "                    <table border=\"0\" CELLBORDER=\"1\" CELLSPACING=\"0\" bgcolor=\"#F1E3DD\" color=\"#DDBF9A\">\n",
    "                    <tr><td>Conv</td><td>64</td></tr>\n",
    "                    <tr><td>BatchNorm</td><td></td></tr>\n",
    "                    <tr><td>Conv</td><td>64 k3*3 p1</td></tr>\n",
    "                    <tr><td>BatchNorm</td><td></td></tr>\n",
    "                    <tr><td>Conv</td><td>256</td></tr>\n",
    "                    <tr><td>BatchNorm</td><td></td></tr>\n",
    "                    <tr><td>ReLU</td><td></td></tr>\n",
    "                    </table>\n",
    "                    >''', fontname=FONT_NAME)\n",
    "        s.node('block4', '''<\n",
    "                    <table border=\"0\" CELLBORDER=\"1\" CELLSPACING=\"0\" bgcolor=\"#E9E1F0\" color=\"#A592C5\">\n",
    "                    <tr><td>Conv</td><td>64</td></tr>\n",
    "                    <tr><td>BatchNorm</td><td></td></tr>\n",
    "                    <tr><td>Conv</td><td>64 k3*3 p1</td></tr>\n",
    "                    <tr><td>BatchNorm</td><td></td></tr>\n",
    "                    <tr><td>Conv</td><td>256</td></tr>\n",
    "                    <tr><td>BatchNorm</td><td></td></tr>\n",
    "                    <tr><td>ReLU</td><td></td></tr>\n",
    "                    </table>\n",
    "                    >''', fontname=FONT_NAME)\n",
    "        s.node('block5', '''<\n",
    "                    <table border=\"0\" CELLBORDER=\"1\" CELLSPACING=\"0\" bgcolor=\"#E4E7EB\" color=\"#ACC7D2\">\n",
    "                    <tr><td>Conv</td><td>128</td></tr>\n",
    "                    <tr><td>BatchNorm</td><td></td></tr>\n",
    "                    <tr><td>Conv</td><td>128 k3*3 s2*2 p1</td></tr>\n",
    "                    <tr><td>BatchNorm</td><td></td></tr>\n",
    "                    <tr><td>Conv</td><td>512</td></tr>\n",
    "                    <tr><td>BatchNorm</td><td></td></tr>\n",
    "                    <tr><td>ReLU</td><td></td></tr>\n",
    "                    <tr><td>Conv</td><td>512 s2*2</td></tr>\n",
    "                    <tr><td>BatchNorm</td><td></td></tr>\n",
    "                    </table>\n",
    "                    >''', fontname=FONT_NAME)\n",
    "    sub1.edge(\"block1\", \"block2\", label=\"bs*64*61*61\", color=\"#7D88C7\", fontname=FONT_NAME)\n",
    "    sub1.edge(\"block2\", \"block3\", color=\"#7D88C7\", label=\"bs*256*61*61\", fontname=FONT_NAME)\n",
    "    sub1.edge(\"block3\", \"block4\", color=\"#7D88C7\", label=\"bs*256*61*61\", fontname=FONT_NAME)\n",
    "    sub1.edge(\"block4\", \"block5\", label=\"bs*256*61*61\", color=\"#7D88C7\", fontname=FONT_NAME)\n",
    "\n",
    "graph.node('img', shape=\"doublecircle\", color=\"grey\", fontname=FONT_NAME)\n",
    "graph.edge(\"img\", \"block1\", label=\"bs*3*244*244\", color=\"#AC5553\", fontname=FONT_NAME)\n",
    "\n",
    "\n",
    "with graph.subgraph(name=\"cluster_2\") as sub2:\n",
    "    sub2.attr(color=\"#E4ECE0\", bgcolor=\"#F7FBF7\")\n",
    "    with graph.subgraph() as s:\n",
    "        s.node('block6', '''<\n",
    "                    <table border=\"0\" CELLBORDER=\"1\" CELLSPACING=\"0\" bgcolor=\"#F1E3DD\" color=\"#DDBF9A\">\n",
    "                    <tr><td>Conv</td><td>128</td></tr>\n",
    "                    <tr><td>BatchNorm</td><td></td></tr>\n",
    "                    <tr><td>Conv</td><td>128 k3*3 p1</td></tr>\n",
    "                    <tr><td>BatchNorm</td><td></td></tr>\n",
    "                    <tr><td>Conv</td><td>512</td></tr>\n",
    "                    <tr><td>BatchNorm</td><td></td></tr>\n",
    "                    <tr><td>ReLU</td><td></td></tr>\n",
    "                    </table>\n",
    "                    >''', fontname=FONT_NAME)\n",
    "        s.node('block7', '''<\n",
    "                    <table border=\"0\" CELLBORDER=\"1\" CELLSPACING=\"0\" bgcolor=\"#E9E1F0\" color=\"#A592C5\">\n",
    "                    <tr><td>Conv</td><td>128</td></tr>\n",
    "                    <tr><td>BatchNorm</td><td></td></tr>\n",
    "                    <tr><td>Conv</td><td>128 k3*3 p1</td></tr>\n",
    "                    <tr><td>BatchNorm</td><td></td></tr>\n",
    "                    <tr><td>Conv</td><td>512</td></tr>\n",
    "                    <tr><td>BatchNorm</td><td></td></tr>\n",
    "                    <tr><td>ReLU</td><td></td></tr>\n",
    "                    </table>\n",
    "                    >''', fontname=FONT_NAME)\n",
    "        s.node('block8', '''<\n",
    "                    <table border=\"0\" CELLBORDER=\"1\" CELLSPACING=\"0\" bgcolor=\"#E6ECE5\" color=\"#A2BBA0\">\n",
    "                    <tr><td>Conv</td><td>128</td></tr>\n",
    "                    <tr><td>BatchNorm</td><td></td></tr>\n",
    "                    <tr><td>Conv</td><td>128 k3*3 p1</td></tr>\n",
    "                    <tr><td>BatchNorm</td><td></td></tr>\n",
    "                    <tr><td>Conv</td><td>512</td></tr>\n",
    "                    <tr><td>BatchNorm</td><td></td></tr>\n",
    "                    <tr><td>ReLU</td><td></td></tr>\n",
    "                    </table>\n",
    "                    >''', fontname=FONT_NAME)\n",
    "        s.node('block9', '''<\n",
    "                    <table border=\"0\" CELLBORDER=\"1\" CELLSPACING=\"0\" bgcolor=\"#E4E7EB\" color=\"#ACC7D2\">\n",
    "                    <tr><td>Conv</td><td>256</td></tr>\n",
    "                    <tr><td>BatchNorm</td><td></td></tr>\n",
    "                    <tr><td>Conv</td><td>256 k3*3 s2*2 p1</td></tr>\n",
    "                    <tr><td>BatchNorm</td><td></td></tr>\n",
    "                    <tr><td>Conv</td><td>1024</td></tr>\n",
    "                    <tr><td>BatchNorm</td><td></td></tr>\n",
    "                    <tr><td>ReLU</td><td></td></tr>\n",
    "                    <tr><td>Conv</td><td>1024 s2*2</td></tr>\n",
    "                    <tr><td>BatchNorm</td><td></td></tr>\n",
    "                    </table>\n",
    "                    >''', fontname=FONT_NAME)\n",
    "        s.node('block10', '''<\n",
    "                        <table border=\"0\" CELLBORDER=\"1\" CELLSPACING=\"0\" bgcolor=\"#F1E3DD\" color=\"#DDBF9A\">\n",
    "                        <tr><td>Conv</td><td>256</td></tr>\n",
    "                        <tr><td>BatchNorm</td><td></td></tr>\n",
    "                        <tr><td>Conv</td><td>256 k3*3 p1</td></tr>\n",
    "                        <tr><td>BatchNorm</td><td></td></tr>\n",
    "                        <tr><td>Conv</td><td>1024</td></tr>\n",
    "                        <tr><td>BatchNorm</td><td></td></tr>\n",
    "                        <tr><td>ReLU</td><td></td></tr>\n",
    "                        </table>\n",
    "                        >''', fontname=FONT_NAME)\n",
    "\n",
    "    sub2.edge(\"block6\", \"block7\", color=\"#7D88C7\", label=\"bs*512*31*31\", fontname=FONT_NAME)\n",
    "    sub2.edge(\"block7\", \"block8\", color=\"#7D88C7\", label=\"bs*512*31*31\", fontname=FONT_NAME)\n",
    "    sub2.edge(\"block8\", \"block9\", color=\"#7D88C7\", label=\"bs*512*31*31\", fontname=FONT_NAME)\n",
    "    sub2.edge(\"block9\", \"block10\", color=\"#7D88C7\", label=\"bs*1024*16*16\", fontname=FONT_NAME)\n",
    "\n",
    "graph.node(\"T0\", style=\"invis\")\n",
    "graph.edge(\"block1\", \"T0\", constraint=\"true\", style=\"invis\")\n",
    "graph.edge(\"T0\", \"block6\", constraint=\"true\", style=\"invis\")\n",
    "\n",
    "graph.edge(\"block5\", \"block6\", color=\"#AC5553\", label=\"bs*512*31*31\", fontname=FONT_NAME)\n",
    "\n",
    "with graph.subgraph(name=\"cluster_3\") as sub3:\n",
    "    sub3.attr(color=\"#E3E5EF\", bgcolor=\"#F9FAFE\")\n",
    "    with graph.subgraph() as s:\n",
    "        s.node('block11', '''<\n",
    "                    <table border=\"0\" CELLBORDER=\"1\" CELLSPACING=\"0\" bgcolor=\"#E9E1F0\" color=\"#A592C5\">\n",
    "                    <tr><td>Conv</td><td>256</td></tr>\n",
    "                    <tr><td>BatchNorm</td><td></td></tr>\n",
    "                    <tr><td>Conv</td><td>256 k3*3 p1</td></tr>\n",
    "                    <tr><td>BatchNorm</td><td></td></tr>\n",
    "                    <tr><td>Conv</td><td>1024</td></tr>\n",
    "                    <tr><td>BatchNorm</td><td></td></tr>\n",
    "                    <tr><td>ReLU</td><td></td></tr>\n",
    "                    </table>\n",
    "                    >''', fontname=FONT_NAME)\n",
    "        s.node('block12', '''<\n",
    "                    <table border=\"0\" CELLBORDER=\"1\" CELLSPACING=\"0\" bgcolor=\"#E6ECE5\" color=\"#A2BBA0\">\n",
    "                    <tr><td>Conv</td><td>256</td></tr>\n",
    "                    <tr><td>BatchNorm</td><td></td></tr>\n",
    "                    <tr><td>Conv</td><td>256 k3*3 p1</td></tr>\n",
    "                    <tr><td>BatchNorm</td><td></td></tr>\n",
    "                    <tr><td>Conv</td><td>1024</td></tr>\n",
    "                    <tr><td>BatchNorm</td><td></td></tr>\n",
    "                    <tr><td>ReLU</td><td></td></tr>\n",
    "                    </table>\n",
    "                    >''', fontname=FONT_NAME)\n",
    "        s.node('block13', '''<\n",
    "                    <table border=\"0\" CELLBORDER=\"1\" CELLSPACING=\"0\" bgcolor=\"#EFE0DF\" color=\"#C08B7B\">\n",
    "                    <tr><td>Conv</td><td>256</td></tr>\n",
    "                    <tr><td>BatchNorm</td><td></td></tr>\n",
    "                    <tr><td>Conv</td><td>256 k3*3 p1</td></tr>\n",
    "                    <tr><td>BatchNorm</td><td></td></tr>\n",
    "                    <tr><td>Conv</td><td>1024</td></tr>\n",
    "                    <tr><td>BatchNorm</td><td></td></tr>\n",
    "                    <tr><td>ReLU</td><td></td></tr>\n",
    "                    </table>\n",
    "                    >''', fontname=FONT_NAME)\n",
    "        s.node('block14', '''<\n",
    "                    <table border=\"0\" CELLBORDER=\"1\" CELLSPACING=\"0\" bgcolor=\"#61DEFC\" color=\"#2075F8\">\n",
    "                    <tr><td>Conv</td><td>256</td></tr>\n",
    "                    <tr><td>BatchNorm</td><td></td></tr>\n",
    "                    <tr><td>Conv</td><td>256 k3*3 p1</td></tr>\n",
    "                    <tr><td>BatchNorm</td><td></td></tr>\n",
    "                    <tr><td>Conv</td><td>1024</td></tr>\n",
    "                    <tr><td>BatchNorm</td><td></td></tr>\n",
    "                    <tr><td>ReLU</td><td></td></tr>\n",
    "                    </table>\n",
    "                    >''', fontname=FONT_NAME)\n",
    "        s.node('block15', '''<\n",
    "                    <table border=\"0\" CELLBORDER=\"1\" CELLSPACING=\"0\" bgcolor=\"#E4E7EB\" color=\"#ACC7D2\">\n",
    "                    <tr><td>Conv</td><td>512</td></tr>\n",
    "                    <tr><td>BatchNorm</td><td></td></tr>\n",
    "                    <tr><td>Conv</td><td>512 k3*3 s2*2 p1</td></tr>\n",
    "                    <tr><td>BatchNorm</td><td></td></tr>\n",
    "                    <tr><td>Conv</td><td>2048</td></tr>\n",
    "                    <tr><td>BatchNorm</td><td></td></tr>\n",
    "                    <tr><td>ReLU</td><td></td></tr>\n",
    "                    <tr><td>Conv</td><td>2048 s2*2</td></tr>\n",
    "                    <tr><td>BatchNorm</td><td></td></tr>\n",
    "                    </table>\n",
    "                    >''', fontname=FONT_NAME)\n",
    "\n",
    "    sub3.edge(\"block11\", \"block12\", color=\"#7D88C7\", label=\"bs*1024*16*16\", fontname=FONT_NAME)\n",
    "    sub3.edge(\"block12\", \"block13\", color=\"#7D88C7\", label=\"bs*1024*16*16\", fontname=FONT_NAME)\n",
    "    sub3.edge(\"block13\", \"block14\", color=\"#7D88C7\", label=\"bs*1024*16*16\", fontname=FONT_NAME)\n",
    "    sub3.edge(\"block14\", \"block15\", color=\"#7D88C7\", label=\"bs*1024*16*16\", fontname=FONT_NAME)\n",
    "\n",
    "graph.node(\"T1\", style=\"invis\")\n",
    "graph.edge(\"block6\", \"T1\", constraint=\"true\", style=\"invis\")\n",
    "graph.edge(\"T1\", \"block11\", constraint=\"true\", style=\"invis\")\n",
    "graph.edge(\"block10\", \"block11\", color=\"#AC5553\", label=\"bs*1024*16*16\", fontname=FONT_NAME)\n",
    "\n",
    "with graph.subgraph(name=\"cluster_4\") as sub4:\n",
    "    sub4.attr(color=\"#E4ECE0\", bgcolor=\"#F7FBF7\")\n",
    "    with graph.subgraph() as s:\n",
    "        s.node('block16', '''<\n",
    "                    <table border=\"0\" CELLBORDER=\"1\" CELLSPACING=\"0\" bgcolor=\"#F1E3DD\" color=\"#DDBF9A\">\n",
    "                    <tr><td>Conv</td><td>512</td></tr>\n",
    "                    <tr><td>BatchNorm</td><td></td></tr>\n",
    "                    <tr><td>Conv</td><td>512 k3*3 p1</td></tr>\n",
    "                    <tr><td>BatchNorm</td><td></td></tr>\n",
    "                    <tr><td>Conv</td><td>2048</td></tr>\n",
    "                    <tr><td>BatchNorm</td><td></td></tr>\n",
    "                    <tr><td>ReLU</td><td></td></tr>\n",
    "                    </table>\n",
    "                    >''', fontname=FONT_NAME)\n",
    "        s.node('block17', '''<\n",
    "                    <table border=\"0\" CELLBORDER=\"1\" CELLSPACING=\"0\" bgcolor=\"#E9E1F0\" color=\"#A592C5\">\n",
    "                    <tr><td>Conv</td><td>512</td></tr>\n",
    "                    <tr><td>BatchNorm</td><td></td></tr>\n",
    "                    <tr><td>Conv</td><td>512 k3*3 p1</td></tr>\n",
    "                    <tr><td>BatchNorm</td><td></td></tr>\n",
    "                    <tr><td>Conv</td><td>2048</td></tr>\n",
    "                    <tr><td>BatchNorm</td><td></td></tr>\n",
    "                    <tr><td>ReLU</td><td></td></tr>\n",
    "                    </table>\n",
    "                    >''', fontname=FONT_NAME)\n",
    "        s.node(\"block18\", shape=\"box\", color=\"#A25954\", style=\"filled\", fillcolor=\"#F1CFCD\", label=\"AdaptiveAvgPool2d_1*1\", fontname=FONT_NAME)\n",
    "        s.node(\"block19\", shape=\"ellipse\", color=\"grey\", label=\"flatten\", fontname=FONT_NAME)\n",
    "        s.node(\"block20\", shape=\"box\", color=\"#A25954\", style=\"filled\", fillcolor=\"#F1CFCD\", label=\"Linear\", fontname=FONT_NAME)\n",
    "\n",
    "    sub4.edge(\"block16\", \"block17\", color=\"#7D88C7\", label=\"bs*2048*8*8\", fontname=FONT_NAME)\n",
    "    sub4.edge(\"block17\", \"block18\", color=\"#7D88C7\", label=\"bs*2048*8*8\", fontname=FONT_NAME)\n",
    "    sub4.edge(\"block18\", \"block19\", color=\"#7D88C7\", label=\"bs*2048*1*1\", fontname=FONT_NAME)\n",
    "    sub4.edge(\"block19\", \"block20\", color=\"#7D88C7\", label=\"bs*2048\", fontname=FONT_NAME)\n",
    "\n",
    "graph.node(\"T2\", style=\"invis\")\n",
    "graph.edge(\"block11\", \"T2\", constraint=\"true\", style=\"invis\")\n",
    "graph.edge(\"T2\", \"block16\", constraint=\"true\", style=\"invis\")\n",
    "graph.edge(\"block15\", \"block16\", color=\"#AC5553\", label=\"bs*2048*8*8\", fontname=FONT_NAME)\n",
    "\n",
    "graph"
   ],
   "metadata": {
    "collapsed": false,
    "pycharm": {
     "name": "#%%\n",
     "is_executing": false
    }
   }
  }
 ],
 "metadata": {
  "kernelspec": {
   "display_name": "Python 3",
   "language": "python",
   "name": "python3"
  },
  "language_info": {
   "codemirror_mode": {
    "name": "ipython",
    "version": 2
   },
   "file_extension": ".py",
   "mimetype": "text/x-python",
   "name": "python",
   "nbconvert_exporter": "python",
   "pygments_lexer": "ipython2",
   "version": "2.7.6"
  },
  "pycharm": {
   "stem_cell": {
    "cell_type": "raw",
    "source": [],
    "metadata": {
     "collapsed": false
    }
   }
  }
 },
 "nbformat": 4,
 "nbformat_minor": 0
}