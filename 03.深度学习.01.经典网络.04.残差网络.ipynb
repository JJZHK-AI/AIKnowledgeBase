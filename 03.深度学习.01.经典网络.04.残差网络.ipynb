{
 "cells": [
  {
   "cell_type": "markdown",
   "metadata": {
    "collapsed": true,
    "pycharm": {
     "name": "#%% md\n"
    }
   },
   "source": [
    "残差网络\n",
    "==="
   ]
  },
  {
   "cell_type": "markdown",
   "source": [
    "# 1.传统网络的问题\n",
    "传统的神经网络中，随着网络层数的增加，网络发生了退化(degradation)的现象：随着网络层数的增多，训练集loss逐渐下降，然后趋于饱和，当你再增加网络深度的话，训练集loss反而会增大。"
   ],
   "metadata": {
    "collapsed": false,
    "pycharm": {
     "name": "#%% md\n"
    }
   }
  },
  {
   "cell_type": "markdown",
   "source": [
    "注意这并不是过拟合，因为在过拟合中训练loss是一直减小的。当网络退化时，浅层网络能够达到比深层网络更好的训练效果，这时如果我们把低层的特征传到高层，那么效果应该至少不比浅层的网络效果差，"
   ],
   "metadata": {
    "collapsed": false,
    "pycharm": {
     "name": "#%% md\n"
    }
   }
  },
  {
   "cell_type": "markdown",
   "source": [
    "或者说如果一个VGG-100网络在第98层使用的是和VGG-16第14层一模一样的特征，那么VGG-100的效果应该会和VGG-16的效果相同。"
   ],
   "metadata": {
    "collapsed": false,
    "pycharm": {
     "name": "#%% md\n"
    }
   }
  },
  {
   "cell_type": "markdown",
   "source": [
    "所以，我们可以在VGG-100的98层和14层之间添加一条直接映射(Identity Mapping)来达到此效果。基于这种使用直接映射来连接网络不同层直接的思想，残差网络应运而生"
   ],
   "metadata": {
    "collapsed": false,
    "pycharm": {
     "name": "#%% md\n"
    }
   }
  },
  {
   "cell_type": "markdown",
   "source": [
    "# 2.残差网络\n",
    "## 2.1.残差块\n",
    "残差网络是由一系列残差块组成的（图1）。一个残差块可以用表示为：\n",
    "$$x_{l+1}= x_l+\\mathcal{F}(x_l, {W_l})$$\n",
    "残差块分成两部分直接映射部分和残差部分。$h(x_l)$是直接映射，反应在图1中是左边的曲线；$\\mathcal{F}(x_l, {W_l})$是残差部分，一般由两个或者三个卷积操作构成，即图1中右侧包含卷积的部分。\n",
    "![image](Images/03/01/04_001.png)\n",
    "图中的'Weight‘在卷积网络中是指卷积操作，’addition‘是指单位加操作。在卷积网络中，$x_l$可能和$x_{l+1}$的Feature Map的数量不一样，这时候就需要使用$1 \\times 1$卷积进行升维或者降维。这时，残差块表示为：\n",
    "$$x_{l+1}= h(x_l)+\\mathcal{F}(x_l, {W_l})$$\n",
    "![image](Images/03/01/04_002.png)\n",
    "其中$h(x_l) = W'_lx$。其中$W'_l$是$1 \\times 1$卷核，是实验结果$1 \\times 1$卷积对模型性能提升有限，所以一般是在升维或者降维时才会使用。一般，这种版本的残差块叫做resnet_v1"
   ],
   "metadata": {
    "collapsed": false,
    "pycharm": {
     "name": "#%% md\n"
    }
   }
  },
  {
   "cell_type": "code",
   "execution_count": 1,
   "outputs": [],
   "source": [
    "import torch\n",
    "\n",
    "\n",
    "class Res_Block_V1(torch.nn.Module):\n",
    "    def __init__(self, input_filter, output_filter):\n",
    "        super(Res_Block_V1, self).__init__()\n",
    "        self.input_filter = input_filter\n",
    "        self.output_filter = output_filter\n",
    "        \n",
    "        self.conv1 = torch.nn.Conv2d(in_channels=input_filter, out_channels=output_filter, kernel_size=3, stride=1)\n",
    "        self.norm1 = torch.nn.BatchNorm2d(num_features=output_filter)\n",
    "        self.conv2 = torch.nn.Conv2d(in_channels=output_filter, out_channels=output_filter, kernel_size=3, stride=1)\n",
    "        self.norm2 = torch.nn.BatchNorm2d(num_features=output_filter)\n",
    "        self.relu  = torch.nn.ReLU()\n",
    "        \n",
    "        self.otherConv = torch.nn.Conv2d(in_channels=output_filter, out_channels=output_filter, kernel_size=1, stride=1)\n",
    "        \n",
    "    def forward(self, input):\n",
    "        x = self.conv1(input)\n",
    "        x = self.norm1(x)\n",
    "        x = self.relu(x)\n",
    "        x = self.conv2(x)\n",
    "        x = self.norm2(x)\n",
    "        \n",
    "        if self.input_filter == self.output_filter:\n",
    "            identity = input\n",
    "        else:\n",
    "            identity = self.otherConv(x)\n",
    "        \n",
    "        x += identity\n",
    "        x = self.relu(x)\n",
    "        return x"
   ],
   "metadata": {
    "collapsed": false,
    "pycharm": {
     "name": "#%%\n",
     "is_executing": false
    }
   }
  },
  {
   "cell_type": "markdown",
   "source": [
    "## 2.2.残差网络\n",
    "残差网络的搭建分为两步：\n",
    "- 使用VGG公式搭建Plain VGG网络\n",
    "- 在Plain VGG的卷积网络之间插入Identity Mapping，注意需要升维或者降维的时候加入$1 \\times 1$卷积。\n",
    "\n",
    "在实现过程中，一般是直接stack残差块的方式。"
   ],
   "metadata": {
    "collapsed": false,
    "pycharm": {
     "name": "#%% md\n"
    }
   }
  },
  {
   "cell_type": "code",
   "execution_count": 2,
   "outputs": [],
   "source": [
    "class Resnet(torch.nn.Module):\n",
    "    def __init__(self):\n",
    "        super(Resnet, self).__init__()\n",
    "        self.linear_infeature = 64\n",
    "        self.conv1 = torch.nn.Conv2d(in_channels=3, out_channels=16, stride=1, kernel_size=3)\n",
    "        self.relu = torch.nn.ReLU()\n",
    "        self.block1 = Res_Block_V1(16, 16)\n",
    "        self.block2 = Res_Block_V1(16, 32)\n",
    "        self.fc = torch.nn.Linear(in_features=self.linear_infeature, out_features=10)\n",
    "        self.softmax = torch.nn.Softmax()\n",
    "        \n",
    "    def forward(self, input):\n",
    "        x = self.conv1(input)\n",
    "        x = self.block1(x)\n",
    "        x = self.block2(x)\n",
    "        x = x.view(-1, self.linear_infeature)\n",
    "        x = self.fc(x)\n",
    "        x = self.softmax(x)\n",
    "        \n",
    "        return x"
   ],
   "metadata": {
    "collapsed": false,
    "pycharm": {
     "name": "#%%\n",
     "is_executing": false
    }
   }
  },
  {
   "cell_type": "markdown",
   "source": [
    "## 2.3.为什么叫做残差网络\n",
    "在统计学中，残差和误差是非常容易混淆的两个概念。\n",
    "- 误差是衡量观测值和真实值之间的差距\n",
    "- 残差是指预测值和观测值之间的差距"
   ],
   "metadata": {
    "collapsed": false,
    "pycharm": {
     "name": "#%% md\n"
    }
   }
  },
  {
   "cell_type": "markdown",
   "source": [
    "网络的一层通常可以看做$y=H(x)$, 而残差网络的一个残差块可以表示为$H(x)=F(x)+x$，也就是$F(x) = H(x)-x$，在单位映射中，$y=x$便是观测值，"
   ],
   "metadata": {
    "collapsed": false,
    "pycharm": {
     "name": "#%% md\n"
    }
   }
  },
  {
   "cell_type": "markdown",
   "source": [
    "而$H(x)$是预测值，所以$F(x)$便对应着残差，因此叫做残差网络。"
   ],
   "metadata": {
    "collapsed": false,
    "pycharm": {
     "name": "#%% md\n"
    }
   }
  },
  {
   "cell_type": "markdown",
   "source": [
    "## 2.4.Resnet V2版本\n",
    "经过试验之后发现，激活函数移动到残差部分可以提高模型的精度"
   ],
   "metadata": {
    "collapsed": false,
    "pycharm": {
     "name": "#%% md\n"
    }
   }
  },
  {
   "cell_type": "code",
   "execution_count": null,
   "outputs": [],
   "source": [
    "import torch\n",
    "\n",
    "\n",
    "class Res_Block_V2(torch.nn.Module):\n",
    "    def __init__(self, input_filter, output_filter):\n",
    "        super(Res_Block_V1, self).__init__()\n",
    "        self.input_filter = input_filter\n",
    "        self.output_filter = output_filter\n",
    "        \n",
    "        self.norm0 = torch.nn.BatchNorm2d(num_features=input_filter)\n",
    "        self.relu  = torch.nn.ReLU()\n",
    "        \n",
    "        self.conv1 = torch.nn.Conv2d(in_channels=input_filter, out_channels=output_filter, kernel_size=3, stride=1)\n",
    "        self.norm1 = torch.nn.BatchNorm2d(num_features=output_filter)\n",
    "        \n",
    "        self.conv2 = torch.nn.Conv2d(in_channels=output_filter, out_channels=output_filter, kernel_size=3, stride=1)\n",
    "        \n",
    "        \n",
    "        \n",
    "        self.otherConv = torch.nn.Conv2d(in_channels=output_filter, out_channels=output_filter, kernel_size=1, stride=1)\n",
    "        \n",
    "    def forward(self, input):\n",
    "        x = self.norm0(input)\n",
    "        x = self.relu(x)\n",
    "        \n",
    "        x = self.conv1(input)\n",
    "        x = self.norm1(x)\n",
    "        x = self.relu(x)\n",
    "        x = self.conv2(x)\n",
    "        x = self.norm2(x)\n",
    "        \n",
    "        if self.input_filter == self.output_filter:\n",
    "            identity = input\n",
    "        else:\n",
    "            identity = self.otherConv(x)\n",
    "        \n",
    "        x += identity\n",
    "        x = self.relu(x)\n",
    "        return x\n",
    "\n",
    "\n",
    "class Resnet_V2(torch.nn.Module):\n",
    "    def __init__(self):\n",
    "        super(Resnet, self).__init__()\n",
    "        self.linear_infeature = 64\n",
    "        self.conv1 = torch.nn.Conv2d(in_channels=3, out_channels=16, stride=1, kernel_size=3)\n",
    "        self.relu = torch.nn.ReLU()\n",
    "        self.block1 = Res_Block_V2(16, 16)\n",
    "        self.block2 = Res_Block_V2(16, 32)\n",
    "        self.norm1 = torch.nn.BatchNorm2d(num_features=32)\n",
    "        self.fc = torch.nn.Linear(in_features=self.linear_infeature, out_features=10)\n",
    "        self.softmax = torch.nn.Softmax()\n",
    "        \n",
    "    def forward(self, input):\n",
    "        x = self.conv1(input)\n",
    "        x = self.block1(x)\n",
    "        x = self.block2(x)\n",
    "        x = self.norm1(x)\n",
    "        x = x.view(-1, self.linear_infeature)\n",
    "        x = self.fc(x)\n",
    "        x = self.softmax(x)\n",
    "        \n",
    "        return x"
   ],
   "metadata": {
    "collapsed": false,
    "pycharm": {
     "name": "#%%\n"
    }
   }
  },
  {
   "cell_type": "markdown",
   "source": [
    "## 2.5.网络结构"
   ],
   "metadata": {
    "collapsed": false,
    "pycharm": {
     "name": "#%% md\n"
    }
   }
  },
  {
   "cell_type": "code",
   "execution_count": 1,
   "outputs": [
    {
     "data": {
      "text/plain": "<graphviz.dot.Digraph at 0x7fa9580b9438>",
      "image/svg+xml": "<?xml version=\"1.0\" encoding=\"UTF-8\" standalone=\"no\"?>\n<!DOCTYPE svg PUBLIC \"-//W3C//DTD SVG 1.1//EN\"\n \"http://www.w3.org/Graphics/SVG/1.1/DTD/svg11.dtd\">\n<!-- Generated by graphviz version 2.40.1 (20161225.0304)\n -->\n<!-- Title: ResNet50 Pages: 1 -->\n<svg width=\"4141pt\" height=\"1569pt\"\n viewBox=\"0.00 0.00 4140.50 1568.51\" xmlns=\"http://www.w3.org/2000/svg\" xmlns:xlink=\"http://www.w3.org/1999/xlink\">\n<g id=\"graph0\" class=\"graph\" transform=\"scale(1 1) rotate(0) translate(4 1564.5121)\">\n<title>ResNet50</title>\n<polygon fill=\"#ffffff\" stroke=\"transparent\" points=\"-4,4 -4,-1564.5121 4136.5,-1564.5121 4136.5,4 -4,4\"/>\n<!-- img -->\n<g id=\"node1\" class=\"node\">\n<title>img</title>\n<ellipse fill=\"none\" stroke=\"#c0c0c0\" cx=\"117\" cy=\"-1527.1794\" rx=\"29.1862\" ry=\"29.1862\"/>\n<ellipse fill=\"none\" stroke=\"#c0c0c0\" cx=\"117\" cy=\"-1527.1794\" rx=\"33.1662\" ry=\"33.1662\"/>\n<text text-anchor=\"middle\" x=\"117\" y=\"-1524.5948\" font-family=\"Fira Code Retina\" font-size=\"14.00\" fill=\"#000000\">img</text>\n</g>\n<!-- block1 -->\n<g id=\"node2\" class=\"node\">\n<title>block1</title>\n<polygon fill=\"#e4e7eb\" stroke=\"transparent\" points=\"8,-1344.6158 8,-1436.6158 226,-1436.6158 226,-1344.6158 8,-1344.6158\"/>\n<polygon fill=\"none\" stroke=\"#acc7d2\" points=\"8,-1413.6158 8,-1436.6158 91,-1436.6158 91,-1413.6158 8,-1413.6158\"/>\n<text text-anchor=\"start\" x=\"32.2692\" y=\"-1422.4158\" font-family=\"Fira Code Retina\" font-size=\"14.00\" fill=\"#000000\">Conv</text>\n<polygon fill=\"none\" stroke=\"#acc7d2\" points=\"91,-1413.6158 91,-1436.6158 226,-1436.6158 226,-1413.6158 91,-1413.6158\"/>\n<text text-anchor=\"start\" x=\"93.8846\" y=\"-1422.4158\" font-family=\"Fira Code Retina\" font-size=\"14.00\" fill=\"#000000\">64 k7*7 s2*2 p3</text>\n<polygon fill=\"none\" stroke=\"#acc7d2\" points=\"8,-1390.6158 8,-1413.6158 91,-1413.6158 91,-1390.6158 8,-1390.6158\"/>\n<text text-anchor=\"start\" x=\"10.7308\" y=\"-1399.4158\" font-family=\"Fira Code Retina\" font-size=\"14.00\" fill=\"#000000\">BatchNorm</text>\n<polygon fill=\"none\" stroke=\"#acc7d2\" points=\"91,-1390.6158 91,-1413.6158 226,-1413.6158 226,-1390.6158 91,-1390.6158\"/>\n<polygon fill=\"none\" stroke=\"#acc7d2\" points=\"8,-1367.6158 8,-1390.6158 91,-1390.6158 91,-1367.6158 8,-1367.6158\"/>\n<text text-anchor=\"start\" x=\"32.2692\" y=\"-1376.4158\" font-family=\"Fira Code Retina\" font-size=\"14.00\" fill=\"#000000\">ReLU</text>\n<polygon fill=\"none\" stroke=\"#acc7d2\" points=\"91,-1367.6158 91,-1390.6158 226,-1390.6158 226,-1367.6158 91,-1367.6158\"/>\n<polygon fill=\"none\" stroke=\"#acc7d2\" points=\"8,-1344.6158 8,-1367.6158 91,-1367.6158 91,-1344.6158 8,-1344.6158\"/>\n<text text-anchor=\"start\" x=\"19.3462\" y=\"-1353.4158\" font-family=\"Fira Code Retina\" font-size=\"14.00\" fill=\"#000000\">MaxPool</text>\n<polygon fill=\"none\" stroke=\"#acc7d2\" points=\"91,-1344.6158 91,-1367.6158 226,-1367.6158 226,-1344.6158 91,-1344.6158\"/>\n<text text-anchor=\"start\" x=\"106.8077\" y=\"-1353.4158\" font-family=\"Fira Code Retina\" font-size=\"14.00\" fill=\"#000000\">k3*3 s2*2 p1</text>\n</g>\n<!-- img&#45;&gt;block1 -->\n<g id=\"edge3\" class=\"edge\">\n<title>img&#45;&gt;block1</title>\n<path fill=\"none\" stroke=\"#ac5553\" d=\"M117,-1493.7722C117,-1480.8123 117,-1465.5611 117,-1450.8194\"/>\n<polygon fill=\"#ac5553\" stroke=\"#ac5553\" points=\"120.5001,-1450.7294 117,-1440.7294 113.5001,-1450.7295 120.5001,-1450.7294\"/>\n<text text-anchor=\"middle\" x=\"168.6923\" y=\"-1464.6467\" font-family=\"Fira Code Retina\" font-size=\"14.00\" fill=\"#000000\">bs*3*244*244</text>\n</g>\n<!-- block2 -->\n<g id=\"node3\" class=\"node\">\n<title>block2</title>\n<polygon fill=\"#e4e7eb\" stroke=\"transparent\" points=\"29.5,-1076.385 29.5,-1283.385 204.5,-1283.385 204.5,-1076.385 29.5,-1076.385\"/>\n<polygon fill=\"none\" stroke=\"#acc7d2\" points=\"30,-1259.885 30,-1282.885 113,-1282.885 113,-1259.885 30,-1259.885\"/>\n<text text-anchor=\"start\" x=\"54.2692\" y=\"-1268.685\" font-family=\"Fira Code Retina\" font-size=\"14.00\" fill=\"#000000\">Conv</text>\n<polygon fill=\"none\" stroke=\"#acc7d2\" points=\"113,-1259.885 113,-1282.885 205,-1282.885 205,-1259.885 113,-1259.885\"/>\n<text text-anchor=\"start\" x=\"150.3846\" y=\"-1268.685\" font-family=\"Fira Code Retina\" font-size=\"14.00\" fill=\"#000000\">64</text>\n<polygon fill=\"none\" stroke=\"#acc7d2\" points=\"30,-1236.885 30,-1259.885 113,-1259.885 113,-1236.885 30,-1236.885\"/>\n<text text-anchor=\"start\" x=\"32.7308\" y=\"-1245.685\" font-family=\"Fira Code Retina\" font-size=\"14.00\" fill=\"#000000\">BatchNorm</text>\n<polygon fill=\"none\" stroke=\"#acc7d2\" points=\"113,-1236.885 113,-1259.885 205,-1259.885 205,-1236.885 113,-1236.885\"/>\n<polygon fill=\"none\" stroke=\"#acc7d2\" points=\"30,-1213.885 30,-1236.885 113,-1236.885 113,-1213.885 30,-1213.885\"/>\n<text text-anchor=\"start\" x=\"54.2692\" y=\"-1222.685\" font-family=\"Fira Code Retina\" font-size=\"14.00\" fill=\"#000000\">Conv</text>\n<polygon fill=\"none\" stroke=\"#acc7d2\" points=\"113,-1213.885 113,-1236.885 205,-1236.885 205,-1213.885 113,-1213.885\"/>\n<text text-anchor=\"start\" x=\"115.9231\" y=\"-1222.685\" font-family=\"Fira Code Retina\" font-size=\"14.00\" fill=\"#000000\">64 k3*3 p1</text>\n<polygon fill=\"none\" stroke=\"#acc7d2\" points=\"30,-1190.885 30,-1213.885 113,-1213.885 113,-1190.885 30,-1190.885\"/>\n<text text-anchor=\"start\" x=\"32.7308\" y=\"-1199.685\" font-family=\"Fira Code Retina\" font-size=\"14.00\" fill=\"#000000\">BatchNorm</text>\n<polygon fill=\"none\" stroke=\"#acc7d2\" points=\"113,-1190.885 113,-1213.885 205,-1213.885 205,-1190.885 113,-1190.885\"/>\n<polygon fill=\"none\" stroke=\"#acc7d2\" points=\"30,-1167.885 30,-1190.885 113,-1190.885 113,-1167.885 30,-1167.885\"/>\n<text text-anchor=\"start\" x=\"54.2692\" y=\"-1176.685\" font-family=\"Fira Code Retina\" font-size=\"14.00\" fill=\"#000000\">Conv</text>\n<polygon fill=\"none\" stroke=\"#acc7d2\" points=\"113,-1167.885 113,-1190.885 205,-1190.885 205,-1167.885 113,-1167.885\"/>\n<text text-anchor=\"start\" x=\"146.0769\" y=\"-1176.685\" font-family=\"Fira Code Retina\" font-size=\"14.00\" fill=\"#000000\">256</text>\n<polygon fill=\"none\" stroke=\"#acc7d2\" points=\"30,-1144.885 30,-1167.885 113,-1167.885 113,-1144.885 30,-1144.885\"/>\n<text text-anchor=\"start\" x=\"32.7308\" y=\"-1153.685\" font-family=\"Fira Code Retina\" font-size=\"14.00\" fill=\"#000000\">BatchNorm</text>\n<polygon fill=\"none\" stroke=\"#acc7d2\" points=\"113,-1144.885 113,-1167.885 205,-1167.885 205,-1144.885 113,-1144.885\"/>\n<polygon fill=\"none\" stroke=\"#acc7d2\" points=\"30,-1121.885 30,-1144.885 113,-1144.885 113,-1121.885 30,-1121.885\"/>\n<text text-anchor=\"start\" x=\"54.2692\" y=\"-1130.685\" font-family=\"Fira Code Retina\" font-size=\"14.00\" fill=\"#000000\">ReLU</text>\n<polygon fill=\"none\" stroke=\"#acc7d2\" points=\"113,-1121.885 113,-1144.885 205,-1144.885 205,-1121.885 113,-1121.885\"/>\n<polygon fill=\"none\" stroke=\"#acc7d2\" points=\"30,-1098.885 30,-1121.885 113,-1121.885 113,-1098.885 30,-1098.885\"/>\n<text text-anchor=\"start\" x=\"54.2692\" y=\"-1107.685\" font-family=\"Fira Code Retina\" font-size=\"14.00\" fill=\"#000000\">Conv</text>\n<polygon fill=\"none\" stroke=\"#acc7d2\" points=\"113,-1098.885 113,-1121.885 205,-1121.885 205,-1098.885 113,-1098.885\"/>\n<text text-anchor=\"start\" x=\"146.0769\" y=\"-1107.685\" font-family=\"Fira Code Retina\" font-size=\"14.00\" fill=\"#000000\">256</text>\n<polygon fill=\"none\" stroke=\"#acc7d2\" points=\"30,-1075.885 30,-1098.885 113,-1098.885 113,-1075.885 30,-1075.885\"/>\n<text text-anchor=\"start\" x=\"32.7308\" y=\"-1084.685\" font-family=\"Fira Code Retina\" font-size=\"14.00\" fill=\"#000000\">BatchNorm</text>\n<polygon fill=\"none\" stroke=\"#acc7d2\" points=\"113,-1075.885 113,-1098.885 205,-1098.885 205,-1075.885 113,-1075.885\"/>\n</g>\n<!-- block1&#45;&gt;block2 -->\n<g id=\"edge4\" class=\"edge\">\n<title>block1&#45;&gt;block2</title>\n<path fill=\"none\" stroke=\"#ac5553\" d=\"M117,-1340.4083C117,-1327.4508 117,-1312.9434 117,-1298.0905\"/>\n<polygon fill=\"#ac5553\" stroke=\"#ac5553\" points=\"120.5001,-1297.7673 117,-1287.7673 113.5001,-1297.7674 120.5001,-1297.7673\"/>\n<text text-anchor=\"middle\" x=\"164.3846\" y=\"-1311.4158\" font-family=\"Fira Code Retina\" font-size=\"14.00\" fill=\"#000000\">bs*64*61*61</text>\n</g>\n<!-- block3 -->\n<g id=\"node4\" class=\"node\">\n<title>block3</title>\n<polygon fill=\"#f1e3dd\" stroke=\"transparent\" points=\"341.5,-1099.385 341.5,-1260.385 516.5,-1260.385 516.5,-1099.385 341.5,-1099.385\"/>\n<polygon fill=\"none\" stroke=\"#ddbf9a\" points=\"342,-1236.885 342,-1259.885 425,-1259.885 425,-1236.885 342,-1236.885\"/>\n<text text-anchor=\"start\" x=\"366.2692\" y=\"-1245.685\" font-family=\"Fira Code Retina\" font-size=\"14.00\" fill=\"#000000\">Conv</text>\n<polygon fill=\"none\" stroke=\"#ddbf9a\" points=\"425,-1236.885 425,-1259.885 517,-1259.885 517,-1236.885 425,-1236.885\"/>\n<text text-anchor=\"start\" x=\"462.3846\" y=\"-1245.685\" font-family=\"Fira Code Retina\" font-size=\"14.00\" fill=\"#000000\">64</text>\n<polygon fill=\"none\" stroke=\"#ddbf9a\" points=\"342,-1213.885 342,-1236.885 425,-1236.885 425,-1213.885 342,-1213.885\"/>\n<text text-anchor=\"start\" x=\"344.7308\" y=\"-1222.685\" font-family=\"Fira Code Retina\" font-size=\"14.00\" fill=\"#000000\">BatchNorm</text>\n<polygon fill=\"none\" stroke=\"#ddbf9a\" points=\"425,-1213.885 425,-1236.885 517,-1236.885 517,-1213.885 425,-1213.885\"/>\n<polygon fill=\"none\" stroke=\"#ddbf9a\" points=\"342,-1190.885 342,-1213.885 425,-1213.885 425,-1190.885 342,-1190.885\"/>\n<text text-anchor=\"start\" x=\"366.2692\" y=\"-1199.685\" font-family=\"Fira Code Retina\" font-size=\"14.00\" fill=\"#000000\">Conv</text>\n<polygon fill=\"none\" stroke=\"#ddbf9a\" points=\"425,-1190.885 425,-1213.885 517,-1213.885 517,-1190.885 425,-1190.885\"/>\n<text text-anchor=\"start\" x=\"427.9231\" y=\"-1199.685\" font-family=\"Fira Code Retina\" font-size=\"14.00\" fill=\"#000000\">64 k3*3 p1</text>\n<polygon fill=\"none\" stroke=\"#ddbf9a\" points=\"342,-1167.885 342,-1190.885 425,-1190.885 425,-1167.885 342,-1167.885\"/>\n<text text-anchor=\"start\" x=\"344.7308\" y=\"-1176.685\" font-family=\"Fira Code Retina\" font-size=\"14.00\" fill=\"#000000\">BatchNorm</text>\n<polygon fill=\"none\" stroke=\"#ddbf9a\" points=\"425,-1167.885 425,-1190.885 517,-1190.885 517,-1167.885 425,-1167.885\"/>\n<polygon fill=\"none\" stroke=\"#ddbf9a\" points=\"342,-1144.885 342,-1167.885 425,-1167.885 425,-1144.885 342,-1144.885\"/>\n<text text-anchor=\"start\" x=\"366.2692\" y=\"-1153.685\" font-family=\"Fira Code Retina\" font-size=\"14.00\" fill=\"#000000\">Conv</text>\n<polygon fill=\"none\" stroke=\"#ddbf9a\" points=\"425,-1144.885 425,-1167.885 517,-1167.885 517,-1144.885 425,-1144.885\"/>\n<text text-anchor=\"start\" x=\"458.0769\" y=\"-1153.685\" font-family=\"Fira Code Retina\" font-size=\"14.00\" fill=\"#000000\">256</text>\n<polygon fill=\"none\" stroke=\"#ddbf9a\" points=\"342,-1121.885 342,-1144.885 425,-1144.885 425,-1121.885 342,-1121.885\"/>\n<text text-anchor=\"start\" x=\"344.7308\" y=\"-1130.685\" font-family=\"Fira Code Retina\" font-size=\"14.00\" fill=\"#000000\">BatchNorm</text>\n<polygon fill=\"none\" stroke=\"#ddbf9a\" points=\"425,-1121.885 425,-1144.885 517,-1144.885 517,-1121.885 425,-1121.885\"/>\n<polygon fill=\"none\" stroke=\"#ddbf9a\" points=\"342,-1098.885 342,-1121.885 425,-1121.885 425,-1098.885 342,-1098.885\"/>\n<text text-anchor=\"start\" x=\"366.2692\" y=\"-1107.685\" font-family=\"Fira Code Retina\" font-size=\"14.00\" fill=\"#000000\">ReLU</text>\n<polygon fill=\"none\" stroke=\"#ddbf9a\" points=\"425,-1098.885 425,-1121.885 517,-1121.885 517,-1098.885 425,-1098.885\"/>\n</g>\n<!-- block2&#45;&gt;block3 -->\n<g id=\"edge1\" class=\"edge\">\n<title>block2&#45;&gt;block3</title>\n<path fill=\"none\" stroke=\"#7d88c7\" d=\"M212.7306,-1179.885C247.6201,-1179.885 287.2623,-1179.885 322.9922,-1179.885\"/>\n<polygon fill=\"#7d88c7\" stroke=\"#7d88c7\" points=\"323.4504,-1183.3851 333.4504,-1179.885 323.4504,-1176.3851 323.4504,-1183.3851\"/>\n<text text-anchor=\"middle\" x=\"273\" y=\"-1188.9158\" font-family=\"Fira Code Retina\" font-size=\"14.00\" fill=\"#000000\">bs*256*61*61</text>\n</g>\n<!-- block4 -->\n<g id=\"node5\" class=\"node\">\n<title>block4</title>\n<polygon fill=\"#e9e1f0\" stroke=\"transparent\" points=\"653.5,-1099.385 653.5,-1260.385 828.5,-1260.385 828.5,-1099.385 653.5,-1099.385\"/>\n<polygon fill=\"none\" stroke=\"#a592c5\" points=\"654,-1236.885 654,-1259.885 737,-1259.885 737,-1236.885 654,-1236.885\"/>\n<text text-anchor=\"start\" x=\"678.2692\" y=\"-1245.685\" font-family=\"Fira Code Retina\" font-size=\"14.00\" fill=\"#000000\">Conv</text>\n<polygon fill=\"none\" stroke=\"#a592c5\" points=\"737,-1236.885 737,-1259.885 829,-1259.885 829,-1236.885 737,-1236.885\"/>\n<text text-anchor=\"start\" x=\"774.3846\" y=\"-1245.685\" font-family=\"Fira Code Retina\" font-size=\"14.00\" fill=\"#000000\">64</text>\n<polygon fill=\"none\" stroke=\"#a592c5\" points=\"654,-1213.885 654,-1236.885 737,-1236.885 737,-1213.885 654,-1213.885\"/>\n<text text-anchor=\"start\" x=\"656.7308\" y=\"-1222.685\" font-family=\"Fira Code Retina\" font-size=\"14.00\" fill=\"#000000\">BatchNorm</text>\n<polygon fill=\"none\" stroke=\"#a592c5\" points=\"737,-1213.885 737,-1236.885 829,-1236.885 829,-1213.885 737,-1213.885\"/>\n<polygon fill=\"none\" stroke=\"#a592c5\" points=\"654,-1190.885 654,-1213.885 737,-1213.885 737,-1190.885 654,-1190.885\"/>\n<text text-anchor=\"start\" x=\"678.2692\" y=\"-1199.685\" font-family=\"Fira Code Retina\" font-size=\"14.00\" fill=\"#000000\">Conv</text>\n<polygon fill=\"none\" stroke=\"#a592c5\" points=\"737,-1190.885 737,-1213.885 829,-1213.885 829,-1190.885 737,-1190.885\"/>\n<text text-anchor=\"start\" x=\"739.9231\" y=\"-1199.685\" font-family=\"Fira Code Retina\" font-size=\"14.00\" fill=\"#000000\">64 k3*3 p1</text>\n<polygon fill=\"none\" stroke=\"#a592c5\" points=\"654,-1167.885 654,-1190.885 737,-1190.885 737,-1167.885 654,-1167.885\"/>\n<text text-anchor=\"start\" x=\"656.7308\" y=\"-1176.685\" font-family=\"Fira Code Retina\" font-size=\"14.00\" fill=\"#000000\">BatchNorm</text>\n<polygon fill=\"none\" stroke=\"#a592c5\" points=\"737,-1167.885 737,-1190.885 829,-1190.885 829,-1167.885 737,-1167.885\"/>\n<polygon fill=\"none\" stroke=\"#a592c5\" points=\"654,-1144.885 654,-1167.885 737,-1167.885 737,-1144.885 654,-1144.885\"/>\n<text text-anchor=\"start\" x=\"678.2692\" y=\"-1153.685\" font-family=\"Fira Code Retina\" font-size=\"14.00\" fill=\"#000000\">Conv</text>\n<polygon fill=\"none\" stroke=\"#a592c5\" points=\"737,-1144.885 737,-1167.885 829,-1167.885 829,-1144.885 737,-1144.885\"/>\n<text text-anchor=\"start\" x=\"770.0769\" y=\"-1153.685\" font-family=\"Fira Code Retina\" font-size=\"14.00\" fill=\"#000000\">256</text>\n<polygon fill=\"none\" stroke=\"#a592c5\" points=\"654,-1121.885 654,-1144.885 737,-1144.885 737,-1121.885 654,-1121.885\"/>\n<text text-anchor=\"start\" x=\"656.7308\" y=\"-1130.685\" font-family=\"Fira Code Retina\" font-size=\"14.00\" fill=\"#000000\">BatchNorm</text>\n<polygon fill=\"none\" stroke=\"#a592c5\" points=\"737,-1121.885 737,-1144.885 829,-1144.885 829,-1121.885 737,-1121.885\"/>\n<polygon fill=\"none\" stroke=\"#a592c5\" points=\"654,-1098.885 654,-1121.885 737,-1121.885 737,-1098.885 654,-1098.885\"/>\n<text text-anchor=\"start\" x=\"678.2692\" y=\"-1107.685\" font-family=\"Fira Code Retina\" font-size=\"14.00\" fill=\"#000000\">ReLU</text>\n<polygon fill=\"none\" stroke=\"#a592c5\" points=\"737,-1098.885 737,-1121.885 829,-1121.885 829,-1098.885 737,-1098.885\"/>\n</g>\n<!-- block3&#45;&gt;block4 -->\n<g id=\"edge2\" class=\"edge\">\n<title>block3&#45;&gt;block4</title>\n<path fill=\"none\" stroke=\"#7d88c7\" d=\"M524.7306,-1179.885C559.6201,-1179.885 599.2623,-1179.885 634.9922,-1179.885\"/>\n<polygon fill=\"#7d88c7\" stroke=\"#7d88c7\" points=\"635.4504,-1183.3851 645.4504,-1179.885 635.4504,-1176.3851 635.4504,-1183.3851\"/>\n<text text-anchor=\"middle\" x=\"585\" y=\"-1188.9158\" font-family=\"Fira Code Retina\" font-size=\"14.00\" fill=\"#000000\">bs*256*61*61</text>\n</g>\n<!-- block5 -->\n<g id=\"node6\" class=\"node\">\n<title>block5</title>\n<polygon fill=\"#e4e7eb\" stroke=\"transparent\" points=\"628,-808.1542 628,-1015.1542 854,-1015.1542 854,-808.1542 628,-808.1542\"/>\n<polygon fill=\"none\" stroke=\"#acc7d2\" points=\"628,-991.6542 628,-1014.6542 711,-1014.6542 711,-991.6542 628,-991.6542\"/>\n<text text-anchor=\"start\" x=\"652.2692\" y=\"-1000.4542\" font-family=\"Fira Code Retina\" font-size=\"14.00\" fill=\"#000000\">Conv</text>\n<polygon fill=\"none\" stroke=\"#acc7d2\" points=\"711,-991.6542 711,-1014.6542 854,-1014.6542 854,-991.6542 711,-991.6542\"/>\n<text text-anchor=\"start\" x=\"769.5769\" y=\"-1000.4542\" font-family=\"Fira Code Retina\" font-size=\"14.00\" fill=\"#000000\">128</text>\n<polygon fill=\"none\" stroke=\"#acc7d2\" points=\"628,-968.6542 628,-991.6542 711,-991.6542 711,-968.6542 628,-968.6542\"/>\n<text text-anchor=\"start\" x=\"630.7308\" y=\"-977.4542\" font-family=\"Fira Code Retina\" font-size=\"14.00\" fill=\"#000000\">BatchNorm</text>\n<polygon fill=\"none\" stroke=\"#acc7d2\" points=\"711,-968.6542 711,-991.6542 854,-991.6542 854,-968.6542 711,-968.6542\"/>\n<polygon fill=\"none\" stroke=\"#acc7d2\" points=\"628,-945.6542 628,-968.6542 711,-968.6542 711,-945.6542 628,-945.6542\"/>\n<text text-anchor=\"start\" x=\"652.2692\" y=\"-954.4542\" font-family=\"Fira Code Retina\" font-size=\"14.00\" fill=\"#000000\">Conv</text>\n<polygon fill=\"none\" stroke=\"#acc7d2\" points=\"711,-945.6542 711,-968.6542 854,-968.6542 854,-945.6542 711,-945.6542\"/>\n<text text-anchor=\"start\" x=\"713.5769\" y=\"-954.4542\" font-family=\"Fira Code Retina\" font-size=\"14.00\" fill=\"#000000\">128 k3*3 s2*2 p1</text>\n<polygon fill=\"none\" stroke=\"#acc7d2\" points=\"628,-922.6542 628,-945.6542 711,-945.6542 711,-922.6542 628,-922.6542\"/>\n<text text-anchor=\"start\" x=\"630.7308\" y=\"-931.4542\" font-family=\"Fira Code Retina\" font-size=\"14.00\" fill=\"#000000\">BatchNorm</text>\n<polygon fill=\"none\" stroke=\"#acc7d2\" points=\"711,-922.6542 711,-945.6542 854,-945.6542 854,-922.6542 711,-922.6542\"/>\n<polygon fill=\"none\" stroke=\"#acc7d2\" points=\"628,-899.6542 628,-922.6542 711,-922.6542 711,-899.6542 628,-899.6542\"/>\n<text text-anchor=\"start\" x=\"652.2692\" y=\"-908.4542\" font-family=\"Fira Code Retina\" font-size=\"14.00\" fill=\"#000000\">Conv</text>\n<polygon fill=\"none\" stroke=\"#acc7d2\" points=\"711,-899.6542 711,-922.6542 854,-922.6542 854,-899.6542 711,-899.6542\"/>\n<text text-anchor=\"start\" x=\"769.5769\" y=\"-908.4542\" font-family=\"Fira Code Retina\" font-size=\"14.00\" fill=\"#000000\">512</text>\n<polygon fill=\"none\" stroke=\"#acc7d2\" points=\"628,-876.6542 628,-899.6542 711,-899.6542 711,-876.6542 628,-876.6542\"/>\n<text text-anchor=\"start\" x=\"630.7308\" y=\"-885.4542\" font-family=\"Fira Code Retina\" font-size=\"14.00\" fill=\"#000000\">BatchNorm</text>\n<polygon fill=\"none\" stroke=\"#acc7d2\" points=\"711,-876.6542 711,-899.6542 854,-899.6542 854,-876.6542 711,-876.6542\"/>\n<polygon fill=\"none\" stroke=\"#acc7d2\" points=\"628,-853.6542 628,-876.6542 711,-876.6542 711,-853.6542 628,-853.6542\"/>\n<text text-anchor=\"start\" x=\"652.2692\" y=\"-862.4542\" font-family=\"Fira Code Retina\" font-size=\"14.00\" fill=\"#000000\">ReLU</text>\n<polygon fill=\"none\" stroke=\"#acc7d2\" points=\"711,-853.6542 711,-876.6542 854,-876.6542 854,-853.6542 711,-853.6542\"/>\n<polygon fill=\"none\" stroke=\"#acc7d2\" points=\"628,-830.6542 628,-853.6542 711,-853.6542 711,-830.6542 628,-830.6542\"/>\n<text text-anchor=\"start\" x=\"652.2692\" y=\"-839.4542\" font-family=\"Fira Code Retina\" font-size=\"14.00\" fill=\"#000000\">Conv</text>\n<polygon fill=\"none\" stroke=\"#acc7d2\" points=\"711,-830.6542 711,-853.6542 854,-853.6542 854,-830.6542 711,-830.6542\"/>\n<text text-anchor=\"start\" x=\"748.0385\" y=\"-839.4542\" font-family=\"Fira Code Retina\" font-size=\"14.00\" fill=\"#000000\">512 s2*2</text>\n<polygon fill=\"none\" stroke=\"#acc7d2\" points=\"628,-807.6542 628,-830.6542 711,-830.6542 711,-807.6542 628,-807.6542\"/>\n<text text-anchor=\"start\" x=\"630.7308\" y=\"-816.4542\" font-family=\"Fira Code Retina\" font-size=\"14.00\" fill=\"#000000\">BatchNorm</text>\n<polygon fill=\"none\" stroke=\"#acc7d2\" points=\"711,-807.6542 711,-830.6542 854,-830.6542 854,-807.6542 711,-807.6542\"/>\n</g>\n<!-- block4&#45;&gt;block5 -->\n<g id=\"edge8\" class=\"edge\">\n<title>block4&#45;&gt;block5</title>\n<path fill=\"none\" stroke=\"#ac5553\" d=\"M741,-1095.3833C741,-1074.476 741,-1051.6963 741,-1029.5182\"/>\n<polygon fill=\"#ac5553\" stroke=\"#ac5553\" points=\"744.5001,-1029.3795 741,-1019.3795 737.5001,-1029.3796 744.5001,-1029.3795\"/>\n<text text-anchor=\"middle\" x=\"792.6923\" y=\"-1043.185\" font-family=\"Fira Code Retina\" font-size=\"14.00\" fill=\"#000000\">bs*256*61*61</text>\n</g>\n<!-- block6 -->\n<g id=\"node7\" class=\"node\">\n<title>block6</title>\n<polygon fill=\"#f1e3dd\" stroke=\"transparent\" points=\"990.5,-831.1542 990.5,-992.1542 1173.5,-992.1542 1173.5,-831.1542 990.5,-831.1542\"/>\n<polygon fill=\"none\" stroke=\"#ddbf9a\" points=\"991,-968.6542 991,-991.6542 1074,-991.6542 1074,-968.6542 991,-968.6542\"/>\n<text text-anchor=\"start\" x=\"1015.2692\" y=\"-977.4542\" font-family=\"Fira Code Retina\" font-size=\"14.00\" fill=\"#000000\">Conv</text>\n<polygon fill=\"none\" stroke=\"#ddbf9a\" points=\"1074,-968.6542 1074,-991.6542 1174,-991.6542 1174,-968.6542 1074,-968.6542\"/>\n<text text-anchor=\"start\" x=\"1111.0769\" y=\"-977.4542\" font-family=\"Fira Code Retina\" font-size=\"14.00\" fill=\"#000000\">128</text>\n<polygon fill=\"none\" stroke=\"#ddbf9a\" points=\"991,-945.6542 991,-968.6542 1074,-968.6542 1074,-945.6542 991,-945.6542\"/>\n<text text-anchor=\"start\" x=\"993.7308\" y=\"-954.4542\" font-family=\"Fira Code Retina\" font-size=\"14.00\" fill=\"#000000\">BatchNorm</text>\n<polygon fill=\"none\" stroke=\"#ddbf9a\" points=\"1074,-945.6542 1074,-968.6542 1174,-968.6542 1174,-945.6542 1074,-945.6542\"/>\n<polygon fill=\"none\" stroke=\"#ddbf9a\" points=\"991,-922.6542 991,-945.6542 1074,-945.6542 1074,-922.6542 991,-922.6542\"/>\n<text text-anchor=\"start\" x=\"1015.2692\" y=\"-931.4542\" font-family=\"Fira Code Retina\" font-size=\"14.00\" fill=\"#000000\">Conv</text>\n<polygon fill=\"none\" stroke=\"#ddbf9a\" points=\"1074,-922.6542 1074,-945.6542 1174,-945.6542 1174,-922.6542 1074,-922.6542\"/>\n<text text-anchor=\"start\" x=\"1076.6154\" y=\"-931.4542\" font-family=\"Fira Code Retina\" font-size=\"14.00\" fill=\"#000000\">128 k3*3 p1</text>\n<polygon fill=\"none\" stroke=\"#ddbf9a\" points=\"991,-899.6542 991,-922.6542 1074,-922.6542 1074,-899.6542 991,-899.6542\"/>\n<text text-anchor=\"start\" x=\"993.7308\" y=\"-908.4542\" font-family=\"Fira Code Retina\" font-size=\"14.00\" fill=\"#000000\">BatchNorm</text>\n<polygon fill=\"none\" stroke=\"#ddbf9a\" points=\"1074,-899.6542 1074,-922.6542 1174,-922.6542 1174,-899.6542 1074,-899.6542\"/>\n<polygon fill=\"none\" stroke=\"#ddbf9a\" points=\"991,-876.6542 991,-899.6542 1074,-899.6542 1074,-876.6542 991,-876.6542\"/>\n<text text-anchor=\"start\" x=\"1015.2692\" y=\"-885.4542\" font-family=\"Fira Code Retina\" font-size=\"14.00\" fill=\"#000000\">Conv</text>\n<polygon fill=\"none\" stroke=\"#ddbf9a\" points=\"1074,-876.6542 1074,-899.6542 1174,-899.6542 1174,-876.6542 1074,-876.6542\"/>\n<text text-anchor=\"start\" x=\"1111.0769\" y=\"-885.4542\" font-family=\"Fira Code Retina\" font-size=\"14.00\" fill=\"#000000\">512</text>\n<polygon fill=\"none\" stroke=\"#ddbf9a\" points=\"991,-853.6542 991,-876.6542 1074,-876.6542 1074,-853.6542 991,-853.6542\"/>\n<text text-anchor=\"start\" x=\"993.7308\" y=\"-862.4542\" font-family=\"Fira Code Retina\" font-size=\"14.00\" fill=\"#000000\">BatchNorm</text>\n<polygon fill=\"none\" stroke=\"#ddbf9a\" points=\"1074,-853.6542 1074,-876.6542 1174,-876.6542 1174,-853.6542 1074,-853.6542\"/>\n<polygon fill=\"none\" stroke=\"#ddbf9a\" points=\"991,-830.6542 991,-853.6542 1074,-853.6542 1074,-830.6542 991,-830.6542\"/>\n<text text-anchor=\"start\" x=\"1015.2692\" y=\"-839.4542\" font-family=\"Fira Code Retina\" font-size=\"14.00\" fill=\"#000000\">ReLU</text>\n<polygon fill=\"none\" stroke=\"#ddbf9a\" points=\"1074,-830.6542 1074,-853.6542 1174,-853.6542 1174,-830.6542 1074,-830.6542\"/>\n</g>\n<!-- block5&#45;&gt;block6 -->\n<g id=\"edge5\" class=\"edge\">\n<title>block5&#45;&gt;block6</title>\n<path fill=\"none\" stroke=\"#7d88c7\" d=\"M862.184,-911.6542C897.9889,-911.6542 936.9685,-911.6542 972.0252,-911.6542\"/>\n<polygon fill=\"#7d88c7\" stroke=\"#7d88c7\" points=\"972.2853,-915.1543 982.2853,-911.6542 972.2852,-908.1543 972.2853,-915.1543\"/>\n<text text-anchor=\"middle\" x=\"922.25\" y=\"-920.685\" font-family=\"Fira Code Retina\" font-size=\"14.00\" fill=\"#000000\">bs*512*31*31</text>\n</g>\n<!-- block7 -->\n<g id=\"node8\" class=\"node\">\n<title>block7</title>\n<polygon fill=\"#e9e1f0\" stroke=\"transparent\" points=\"1310.5,-831.1542 1310.5,-992.1542 1493.5,-992.1542 1493.5,-831.1542 1310.5,-831.1542\"/>\n<polygon fill=\"none\" stroke=\"#a592c5\" points=\"1311,-968.6542 1311,-991.6542 1394,-991.6542 1394,-968.6542 1311,-968.6542\"/>\n<text text-anchor=\"start\" x=\"1335.2692\" y=\"-977.4542\" font-family=\"Fira Code Retina\" font-size=\"14.00\" fill=\"#000000\">Conv</text>\n<polygon fill=\"none\" stroke=\"#a592c5\" points=\"1394,-968.6542 1394,-991.6542 1494,-991.6542 1494,-968.6542 1394,-968.6542\"/>\n<text text-anchor=\"start\" x=\"1431.0769\" y=\"-977.4542\" font-family=\"Fira Code Retina\" font-size=\"14.00\" fill=\"#000000\">128</text>\n<polygon fill=\"none\" stroke=\"#a592c5\" points=\"1311,-945.6542 1311,-968.6542 1394,-968.6542 1394,-945.6542 1311,-945.6542\"/>\n<text text-anchor=\"start\" x=\"1313.7308\" y=\"-954.4542\" font-family=\"Fira Code Retina\" font-size=\"14.00\" fill=\"#000000\">BatchNorm</text>\n<polygon fill=\"none\" stroke=\"#a592c5\" points=\"1394,-945.6542 1394,-968.6542 1494,-968.6542 1494,-945.6542 1394,-945.6542\"/>\n<polygon fill=\"none\" stroke=\"#a592c5\" points=\"1311,-922.6542 1311,-945.6542 1394,-945.6542 1394,-922.6542 1311,-922.6542\"/>\n<text text-anchor=\"start\" x=\"1335.2692\" y=\"-931.4542\" font-family=\"Fira Code Retina\" font-size=\"14.00\" fill=\"#000000\">Conv</text>\n<polygon fill=\"none\" stroke=\"#a592c5\" points=\"1394,-922.6542 1394,-945.6542 1494,-945.6542 1494,-922.6542 1394,-922.6542\"/>\n<text text-anchor=\"start\" x=\"1396.6154\" y=\"-931.4542\" font-family=\"Fira Code Retina\" font-size=\"14.00\" fill=\"#000000\">128 k3*3 p1</text>\n<polygon fill=\"none\" stroke=\"#a592c5\" points=\"1311,-899.6542 1311,-922.6542 1394,-922.6542 1394,-899.6542 1311,-899.6542\"/>\n<text text-anchor=\"start\" x=\"1313.7308\" y=\"-908.4542\" font-family=\"Fira Code Retina\" font-size=\"14.00\" fill=\"#000000\">BatchNorm</text>\n<polygon fill=\"none\" stroke=\"#a592c5\" points=\"1394,-899.6542 1394,-922.6542 1494,-922.6542 1494,-899.6542 1394,-899.6542\"/>\n<polygon fill=\"none\" stroke=\"#a592c5\" points=\"1311,-876.6542 1311,-899.6542 1394,-899.6542 1394,-876.6542 1311,-876.6542\"/>\n<text text-anchor=\"start\" x=\"1335.2692\" y=\"-885.4542\" font-family=\"Fira Code Retina\" font-size=\"14.00\" fill=\"#000000\">Conv</text>\n<polygon fill=\"none\" stroke=\"#a592c5\" points=\"1394,-876.6542 1394,-899.6542 1494,-899.6542 1494,-876.6542 1394,-876.6542\"/>\n<text text-anchor=\"start\" x=\"1431.0769\" y=\"-885.4542\" font-family=\"Fira Code Retina\" font-size=\"14.00\" fill=\"#000000\">512</text>\n<polygon fill=\"none\" stroke=\"#a592c5\" points=\"1311,-853.6542 1311,-876.6542 1394,-876.6542 1394,-853.6542 1311,-853.6542\"/>\n<text text-anchor=\"start\" x=\"1313.7308\" y=\"-862.4542\" font-family=\"Fira Code Retina\" font-size=\"14.00\" fill=\"#000000\">BatchNorm</text>\n<polygon fill=\"none\" stroke=\"#a592c5\" points=\"1394,-853.6542 1394,-876.6542 1494,-876.6542 1494,-853.6542 1394,-853.6542\"/>\n<polygon fill=\"none\" stroke=\"#a592c5\" points=\"1311,-830.6542 1311,-853.6542 1394,-853.6542 1394,-830.6542 1311,-830.6542\"/>\n<text text-anchor=\"start\" x=\"1335.2692\" y=\"-839.4542\" font-family=\"Fira Code Retina\" font-size=\"14.00\" fill=\"#000000\">ReLU</text>\n<polygon fill=\"none\" stroke=\"#a592c5\" points=\"1394,-830.6542 1394,-853.6542 1494,-853.6542 1494,-830.6542 1394,-830.6542\"/>\n</g>\n<!-- block6&#45;&gt;block7 -->\n<g id=\"edge6\" class=\"edge\">\n<title>block6&#45;&gt;block7</title>\n<path fill=\"none\" stroke=\"#7d88c7\" d=\"M1181.9337,-911.6542C1216.8172,-911.6542 1256.1567,-911.6542 1291.8262,-911.6542\"/>\n<polygon fill=\"#7d88c7\" stroke=\"#7d88c7\" points=\"1292.2742,-915.1543 1302.2741,-911.6542 1292.2741,-908.1543 1292.2742,-915.1543\"/>\n<text text-anchor=\"middle\" x=\"1242\" y=\"-920.685\" font-family=\"Fira Code Retina\" font-size=\"14.00\" fill=\"#000000\">bs*512*31*31</text>\n</g>\n<!-- block8 -->\n<g id=\"node9\" class=\"node\">\n<title>block8</title>\n<polygon fill=\"#e6ece5\" stroke=\"transparent\" points=\"1630.5,-831.1542 1630.5,-992.1542 1813.5,-992.1542 1813.5,-831.1542 1630.5,-831.1542\"/>\n<polygon fill=\"none\" stroke=\"#a2bba0\" points=\"1631,-968.6542 1631,-991.6542 1714,-991.6542 1714,-968.6542 1631,-968.6542\"/>\n<text text-anchor=\"start\" x=\"1655.2692\" y=\"-977.4542\" font-family=\"Fira Code Retina\" font-size=\"14.00\" fill=\"#000000\">Conv</text>\n<polygon fill=\"none\" stroke=\"#a2bba0\" points=\"1714,-968.6542 1714,-991.6542 1814,-991.6542 1814,-968.6542 1714,-968.6542\"/>\n<text text-anchor=\"start\" x=\"1751.0769\" y=\"-977.4542\" font-family=\"Fira Code Retina\" font-size=\"14.00\" fill=\"#000000\">128</text>\n<polygon fill=\"none\" stroke=\"#a2bba0\" points=\"1631,-945.6542 1631,-968.6542 1714,-968.6542 1714,-945.6542 1631,-945.6542\"/>\n<text text-anchor=\"start\" x=\"1633.7308\" y=\"-954.4542\" font-family=\"Fira Code Retina\" font-size=\"14.00\" fill=\"#000000\">BatchNorm</text>\n<polygon fill=\"none\" stroke=\"#a2bba0\" points=\"1714,-945.6542 1714,-968.6542 1814,-968.6542 1814,-945.6542 1714,-945.6542\"/>\n<polygon fill=\"none\" stroke=\"#a2bba0\" points=\"1631,-922.6542 1631,-945.6542 1714,-945.6542 1714,-922.6542 1631,-922.6542\"/>\n<text text-anchor=\"start\" x=\"1655.2692\" y=\"-931.4542\" font-family=\"Fira Code Retina\" font-size=\"14.00\" fill=\"#000000\">Conv</text>\n<polygon fill=\"none\" stroke=\"#a2bba0\" points=\"1714,-922.6542 1714,-945.6542 1814,-945.6542 1814,-922.6542 1714,-922.6542\"/>\n<text text-anchor=\"start\" x=\"1716.6154\" y=\"-931.4542\" font-family=\"Fira Code Retina\" font-size=\"14.00\" fill=\"#000000\">128 k3*3 p1</text>\n<polygon fill=\"none\" stroke=\"#a2bba0\" points=\"1631,-899.6542 1631,-922.6542 1714,-922.6542 1714,-899.6542 1631,-899.6542\"/>\n<text text-anchor=\"start\" x=\"1633.7308\" y=\"-908.4542\" font-family=\"Fira Code Retina\" font-size=\"14.00\" fill=\"#000000\">BatchNorm</text>\n<polygon fill=\"none\" stroke=\"#a2bba0\" points=\"1714,-899.6542 1714,-922.6542 1814,-922.6542 1814,-899.6542 1714,-899.6542\"/>\n<polygon fill=\"none\" stroke=\"#a2bba0\" points=\"1631,-876.6542 1631,-899.6542 1714,-899.6542 1714,-876.6542 1631,-876.6542\"/>\n<text text-anchor=\"start\" x=\"1655.2692\" y=\"-885.4542\" font-family=\"Fira Code Retina\" font-size=\"14.00\" fill=\"#000000\">Conv</text>\n<polygon fill=\"none\" stroke=\"#a2bba0\" points=\"1714,-876.6542 1714,-899.6542 1814,-899.6542 1814,-876.6542 1714,-876.6542\"/>\n<text text-anchor=\"start\" x=\"1751.0769\" y=\"-885.4542\" font-family=\"Fira Code Retina\" font-size=\"14.00\" fill=\"#000000\">512</text>\n<polygon fill=\"none\" stroke=\"#a2bba0\" points=\"1631,-853.6542 1631,-876.6542 1714,-876.6542 1714,-853.6542 1631,-853.6542\"/>\n<text text-anchor=\"start\" x=\"1633.7308\" y=\"-862.4542\" font-family=\"Fira Code Retina\" font-size=\"14.00\" fill=\"#000000\">BatchNorm</text>\n<polygon fill=\"none\" stroke=\"#a2bba0\" points=\"1714,-853.6542 1714,-876.6542 1814,-876.6542 1814,-853.6542 1714,-853.6542\"/>\n<polygon fill=\"none\" stroke=\"#a2bba0\" points=\"1631,-830.6542 1631,-853.6542 1714,-853.6542 1714,-830.6542 1631,-830.6542\"/>\n<text text-anchor=\"start\" x=\"1655.2692\" y=\"-839.4542\" font-family=\"Fira Code Retina\" font-size=\"14.00\" fill=\"#000000\">ReLU</text>\n<polygon fill=\"none\" stroke=\"#a2bba0\" points=\"1714,-830.6542 1714,-853.6542 1814,-853.6542 1814,-830.6542 1714,-830.6542\"/>\n</g>\n<!-- block7&#45;&gt;block8 -->\n<g id=\"edge7\" class=\"edge\">\n<title>block7&#45;&gt;block8</title>\n<path fill=\"none\" stroke=\"#7d88c7\" d=\"M1501.9337,-911.6542C1536.8172,-911.6542 1576.1567,-911.6542 1611.8262,-911.6542\"/>\n<polygon fill=\"#7d88c7\" stroke=\"#7d88c7\" points=\"1612.2742,-915.1543 1622.2741,-911.6542 1612.2741,-908.1543 1612.2742,-915.1543\"/>\n<text text-anchor=\"middle\" x=\"1562\" y=\"-920.685\" font-family=\"Fira Code Retina\" font-size=\"14.00\" fill=\"#000000\">bs*512*31*31</text>\n</g>\n<!-- block9 -->\n<g id=\"node10\" class=\"node\">\n<title>block9</title>\n<polygon fill=\"#e4e7eb\" stroke=\"transparent\" points=\"1609,-539.9233 1609,-746.9233 1835,-746.9233 1835,-539.9233 1609,-539.9233\"/>\n<polygon fill=\"none\" stroke=\"#acc7d2\" points=\"1609,-723.4233 1609,-746.4233 1692,-746.4233 1692,-723.4233 1609,-723.4233\"/>\n<text text-anchor=\"start\" x=\"1633.2692\" y=\"-732.2233\" font-family=\"Fira Code Retina\" font-size=\"14.00\" fill=\"#000000\">Conv</text>\n<polygon fill=\"none\" stroke=\"#acc7d2\" points=\"1692,-723.4233 1692,-746.4233 1835,-746.4233 1835,-723.4233 1692,-723.4233\"/>\n<text text-anchor=\"start\" x=\"1750.5769\" y=\"-732.2233\" font-family=\"Fira Code Retina\" font-size=\"14.00\" fill=\"#000000\">256</text>\n<polygon fill=\"none\" stroke=\"#acc7d2\" points=\"1609,-700.4233 1609,-723.4233 1692,-723.4233 1692,-700.4233 1609,-700.4233\"/>\n<text text-anchor=\"start\" x=\"1611.7308\" y=\"-709.2233\" font-family=\"Fira Code Retina\" font-size=\"14.00\" fill=\"#000000\">BatchNorm</text>\n<polygon fill=\"none\" stroke=\"#acc7d2\" points=\"1692,-700.4233 1692,-723.4233 1835,-723.4233 1835,-700.4233 1692,-700.4233\"/>\n<polygon fill=\"none\" stroke=\"#acc7d2\" points=\"1609,-677.4233 1609,-700.4233 1692,-700.4233 1692,-677.4233 1609,-677.4233\"/>\n<text text-anchor=\"start\" x=\"1633.2692\" y=\"-686.2233\" font-family=\"Fira Code Retina\" font-size=\"14.00\" fill=\"#000000\">Conv</text>\n<polygon fill=\"none\" stroke=\"#acc7d2\" points=\"1692,-677.4233 1692,-700.4233 1835,-700.4233 1835,-677.4233 1692,-677.4233\"/>\n<text text-anchor=\"start\" x=\"1694.5769\" y=\"-686.2233\" font-family=\"Fira Code Retina\" font-size=\"14.00\" fill=\"#000000\">256 k3*3 s2*2 p1</text>\n<polygon fill=\"none\" stroke=\"#acc7d2\" points=\"1609,-654.4233 1609,-677.4233 1692,-677.4233 1692,-654.4233 1609,-654.4233\"/>\n<text text-anchor=\"start\" x=\"1611.7308\" y=\"-663.2233\" font-family=\"Fira Code Retina\" font-size=\"14.00\" fill=\"#000000\">BatchNorm</text>\n<polygon fill=\"none\" stroke=\"#acc7d2\" points=\"1692,-654.4233 1692,-677.4233 1835,-677.4233 1835,-654.4233 1692,-654.4233\"/>\n<polygon fill=\"none\" stroke=\"#acc7d2\" points=\"1609,-631.4233 1609,-654.4233 1692,-654.4233 1692,-631.4233 1609,-631.4233\"/>\n<text text-anchor=\"start\" x=\"1633.2692\" y=\"-640.2233\" font-family=\"Fira Code Retina\" font-size=\"14.00\" fill=\"#000000\">Conv</text>\n<polygon fill=\"none\" stroke=\"#acc7d2\" points=\"1692,-631.4233 1692,-654.4233 1835,-654.4233 1835,-631.4233 1692,-631.4233\"/>\n<text text-anchor=\"start\" x=\"1746.2692\" y=\"-640.2233\" font-family=\"Fira Code Retina\" font-size=\"14.00\" fill=\"#000000\">1024</text>\n<polygon fill=\"none\" stroke=\"#acc7d2\" points=\"1609,-608.4233 1609,-631.4233 1692,-631.4233 1692,-608.4233 1609,-608.4233\"/>\n<text text-anchor=\"start\" x=\"1611.7308\" y=\"-617.2233\" font-family=\"Fira Code Retina\" font-size=\"14.00\" fill=\"#000000\">BatchNorm</text>\n<polygon fill=\"none\" stroke=\"#acc7d2\" points=\"1692,-608.4233 1692,-631.4233 1835,-631.4233 1835,-608.4233 1692,-608.4233\"/>\n<polygon fill=\"none\" stroke=\"#acc7d2\" points=\"1609,-585.4233 1609,-608.4233 1692,-608.4233 1692,-585.4233 1609,-585.4233\"/>\n<text text-anchor=\"start\" x=\"1633.2692\" y=\"-594.2233\" font-family=\"Fira Code Retina\" font-size=\"14.00\" fill=\"#000000\">ReLU</text>\n<polygon fill=\"none\" stroke=\"#acc7d2\" points=\"1692,-585.4233 1692,-608.4233 1835,-608.4233 1835,-585.4233 1692,-585.4233\"/>\n<polygon fill=\"none\" stroke=\"#acc7d2\" points=\"1609,-562.4233 1609,-585.4233 1692,-585.4233 1692,-562.4233 1609,-562.4233\"/>\n<text text-anchor=\"start\" x=\"1633.2692\" y=\"-571.2233\" font-family=\"Fira Code Retina\" font-size=\"14.00\" fill=\"#000000\">Conv</text>\n<polygon fill=\"none\" stroke=\"#acc7d2\" points=\"1692,-562.4233 1692,-585.4233 1835,-585.4233 1835,-562.4233 1692,-562.4233\"/>\n<text text-anchor=\"start\" x=\"1724.7308\" y=\"-571.2233\" font-family=\"Fira Code Retina\" font-size=\"14.00\" fill=\"#000000\">1024 s2*2</text>\n<polygon fill=\"none\" stroke=\"#acc7d2\" points=\"1609,-539.4233 1609,-562.4233 1692,-562.4233 1692,-539.4233 1609,-539.4233\"/>\n<text text-anchor=\"start\" x=\"1611.7308\" y=\"-548.2233\" font-family=\"Fira Code Retina\" font-size=\"14.00\" fill=\"#000000\">BatchNorm</text>\n<polygon fill=\"none\" stroke=\"#acc7d2\" points=\"1692,-539.4233 1692,-562.4233 1835,-562.4233 1835,-539.4233 1692,-539.4233\"/>\n</g>\n<!-- block8&#45;&gt;block9 -->\n<g id=\"edge14\" class=\"edge\">\n<title>block8&#45;&gt;block9</title>\n<path fill=\"none\" stroke=\"#ac5553\" d=\"M1722,-827.1524C1722,-806.2452 1722,-783.4654 1722,-761.2874\"/>\n<polygon fill=\"#ac5553\" stroke=\"#ac5553\" points=\"1725.5001,-761.1487 1722,-751.1487 1718.5001,-761.1487 1725.5001,-761.1487\"/>\n<text text-anchor=\"middle\" x=\"1773.6923\" y=\"-774.9542\" font-family=\"Fira Code Retina\" font-size=\"14.00\" fill=\"#000000\">bs*512*31*31</text>\n</g>\n<!-- block10 -->\n<g id=\"node11\" class=\"node\">\n<title>block10</title>\n<polygon fill=\"#f1e3dd\" stroke=\"transparent\" points=\"1980.5,-562.9233 1980.5,-723.9233 2163.5,-723.9233 2163.5,-562.9233 1980.5,-562.9233\"/>\n<polygon fill=\"none\" stroke=\"#ddbf9a\" points=\"1981,-700.4233 1981,-723.4233 2064,-723.4233 2064,-700.4233 1981,-700.4233\"/>\n<text text-anchor=\"start\" x=\"2005.2692\" y=\"-709.2233\" font-family=\"Fira Code Retina\" font-size=\"14.00\" fill=\"#000000\">Conv</text>\n<polygon fill=\"none\" stroke=\"#ddbf9a\" points=\"2064,-700.4233 2064,-723.4233 2164,-723.4233 2164,-700.4233 2064,-700.4233\"/>\n<text text-anchor=\"start\" x=\"2101.0769\" y=\"-709.2233\" font-family=\"Fira Code Retina\" font-size=\"14.00\" fill=\"#000000\">256</text>\n<polygon fill=\"none\" stroke=\"#ddbf9a\" points=\"1981,-677.4233 1981,-700.4233 2064,-700.4233 2064,-677.4233 1981,-677.4233\"/>\n<text text-anchor=\"start\" x=\"1983.7308\" y=\"-686.2233\" font-family=\"Fira Code Retina\" font-size=\"14.00\" fill=\"#000000\">BatchNorm</text>\n<polygon fill=\"none\" stroke=\"#ddbf9a\" points=\"2064,-677.4233 2064,-700.4233 2164,-700.4233 2164,-677.4233 2064,-677.4233\"/>\n<polygon fill=\"none\" stroke=\"#ddbf9a\" points=\"1981,-654.4233 1981,-677.4233 2064,-677.4233 2064,-654.4233 1981,-654.4233\"/>\n<text text-anchor=\"start\" x=\"2005.2692\" y=\"-663.2233\" font-family=\"Fira Code Retina\" font-size=\"14.00\" fill=\"#000000\">Conv</text>\n<polygon fill=\"none\" stroke=\"#ddbf9a\" points=\"2064,-654.4233 2064,-677.4233 2164,-677.4233 2164,-654.4233 2064,-654.4233\"/>\n<text text-anchor=\"start\" x=\"2066.6154\" y=\"-663.2233\" font-family=\"Fira Code Retina\" font-size=\"14.00\" fill=\"#000000\">256 k3*3 p1</text>\n<polygon fill=\"none\" stroke=\"#ddbf9a\" points=\"1981,-631.4233 1981,-654.4233 2064,-654.4233 2064,-631.4233 1981,-631.4233\"/>\n<text text-anchor=\"start\" x=\"1983.7308\" y=\"-640.2233\" font-family=\"Fira Code Retina\" font-size=\"14.00\" fill=\"#000000\">BatchNorm</text>\n<polygon fill=\"none\" stroke=\"#ddbf9a\" points=\"2064,-631.4233 2064,-654.4233 2164,-654.4233 2164,-631.4233 2064,-631.4233\"/>\n<polygon fill=\"none\" stroke=\"#ddbf9a\" points=\"1981,-608.4233 1981,-631.4233 2064,-631.4233 2064,-608.4233 1981,-608.4233\"/>\n<text text-anchor=\"start\" x=\"2005.2692\" y=\"-617.2233\" font-family=\"Fira Code Retina\" font-size=\"14.00\" fill=\"#000000\">Conv</text>\n<polygon fill=\"none\" stroke=\"#ddbf9a\" points=\"2064,-608.4233 2064,-631.4233 2164,-631.4233 2164,-608.4233 2064,-608.4233\"/>\n<text text-anchor=\"start\" x=\"2096.7692\" y=\"-617.2233\" font-family=\"Fira Code Retina\" font-size=\"14.00\" fill=\"#000000\">1024</text>\n<polygon fill=\"none\" stroke=\"#ddbf9a\" points=\"1981,-585.4233 1981,-608.4233 2064,-608.4233 2064,-585.4233 1981,-585.4233\"/>\n<text text-anchor=\"start\" x=\"1983.7308\" y=\"-594.2233\" font-family=\"Fira Code Retina\" font-size=\"14.00\" fill=\"#000000\">BatchNorm</text>\n<polygon fill=\"none\" stroke=\"#ddbf9a\" points=\"2064,-585.4233 2064,-608.4233 2164,-608.4233 2164,-585.4233 2064,-585.4233\"/>\n<polygon fill=\"none\" stroke=\"#ddbf9a\" points=\"1981,-562.4233 1981,-585.4233 2064,-585.4233 2064,-562.4233 1981,-562.4233\"/>\n<text text-anchor=\"start\" x=\"2005.2692\" y=\"-571.2233\" font-family=\"Fira Code Retina\" font-size=\"14.00\" fill=\"#000000\">ReLU</text>\n<polygon fill=\"none\" stroke=\"#ddbf9a\" points=\"2064,-562.4233 2064,-585.4233 2164,-585.4233 2164,-562.4233 2064,-562.4233\"/>\n</g>\n<!-- block9&#45;&gt;block10 -->\n<g id=\"edge9\" class=\"edge\">\n<title>block9&#45;&gt;block10</title>\n<path fill=\"none\" stroke=\"#7d88c7\" d=\"M1843.4308,-643.4233C1881.871,-643.4233 1924.1277,-643.4233 1961.7398,-643.4233\"/>\n<polygon fill=\"#7d88c7\" stroke=\"#7d88c7\" points=\"1962.2182,-646.9234 1972.2182,-643.4233 1962.2181,-639.9234 1962.2182,-646.9234\"/>\n<text text-anchor=\"middle\" x=\"1907.75\" y=\"-652.4542\" font-family=\"Fira Code Retina\" font-size=\"14.00\" fill=\"#000000\">bs*1024*16*16</text>\n</g>\n<!-- block11 -->\n<g id=\"node12\" class=\"node\">\n<title>block11</title>\n<polygon fill=\"#e9e1f0\" stroke=\"transparent\" points=\"2309.5,-562.9233 2309.5,-723.9233 2492.5,-723.9233 2492.5,-562.9233 2309.5,-562.9233\"/>\n<polygon fill=\"none\" stroke=\"#a592c5\" points=\"2310,-700.4233 2310,-723.4233 2393,-723.4233 2393,-700.4233 2310,-700.4233\"/>\n<text text-anchor=\"start\" x=\"2334.2692\" y=\"-709.2233\" font-family=\"Fira Code Retina\" font-size=\"14.00\" fill=\"#000000\">Conv</text>\n<polygon fill=\"none\" stroke=\"#a592c5\" points=\"2393,-700.4233 2393,-723.4233 2493,-723.4233 2493,-700.4233 2393,-700.4233\"/>\n<text text-anchor=\"start\" x=\"2430.0769\" y=\"-709.2233\" font-family=\"Fira Code Retina\" font-size=\"14.00\" fill=\"#000000\">256</text>\n<polygon fill=\"none\" stroke=\"#a592c5\" points=\"2310,-677.4233 2310,-700.4233 2393,-700.4233 2393,-677.4233 2310,-677.4233\"/>\n<text text-anchor=\"start\" x=\"2312.7308\" y=\"-686.2233\" font-family=\"Fira Code Retina\" font-size=\"14.00\" fill=\"#000000\">BatchNorm</text>\n<polygon fill=\"none\" stroke=\"#a592c5\" points=\"2393,-677.4233 2393,-700.4233 2493,-700.4233 2493,-677.4233 2393,-677.4233\"/>\n<polygon fill=\"none\" stroke=\"#a592c5\" points=\"2310,-654.4233 2310,-677.4233 2393,-677.4233 2393,-654.4233 2310,-654.4233\"/>\n<text text-anchor=\"start\" x=\"2334.2692\" y=\"-663.2233\" font-family=\"Fira Code Retina\" font-size=\"14.00\" fill=\"#000000\">Conv</text>\n<polygon fill=\"none\" stroke=\"#a592c5\" points=\"2393,-654.4233 2393,-677.4233 2493,-677.4233 2493,-654.4233 2393,-654.4233\"/>\n<text text-anchor=\"start\" x=\"2395.6154\" y=\"-663.2233\" font-family=\"Fira Code Retina\" font-size=\"14.00\" fill=\"#000000\">256 k3*3 p1</text>\n<polygon fill=\"none\" stroke=\"#a592c5\" points=\"2310,-631.4233 2310,-654.4233 2393,-654.4233 2393,-631.4233 2310,-631.4233\"/>\n<text text-anchor=\"start\" x=\"2312.7308\" y=\"-640.2233\" font-family=\"Fira Code Retina\" font-size=\"14.00\" fill=\"#000000\">BatchNorm</text>\n<polygon fill=\"none\" stroke=\"#a592c5\" points=\"2393,-631.4233 2393,-654.4233 2493,-654.4233 2493,-631.4233 2393,-631.4233\"/>\n<polygon fill=\"none\" stroke=\"#a592c5\" points=\"2310,-608.4233 2310,-631.4233 2393,-631.4233 2393,-608.4233 2310,-608.4233\"/>\n<text text-anchor=\"start\" x=\"2334.2692\" y=\"-617.2233\" font-family=\"Fira Code Retina\" font-size=\"14.00\" fill=\"#000000\">Conv</text>\n<polygon fill=\"none\" stroke=\"#a592c5\" points=\"2393,-608.4233 2393,-631.4233 2493,-631.4233 2493,-608.4233 2393,-608.4233\"/>\n<text text-anchor=\"start\" x=\"2425.7692\" y=\"-617.2233\" font-family=\"Fira Code Retina\" font-size=\"14.00\" fill=\"#000000\">1024</text>\n<polygon fill=\"none\" stroke=\"#a592c5\" points=\"2310,-585.4233 2310,-608.4233 2393,-608.4233 2393,-585.4233 2310,-585.4233\"/>\n<text text-anchor=\"start\" x=\"2312.7308\" y=\"-594.2233\" font-family=\"Fira Code Retina\" font-size=\"14.00\" fill=\"#000000\">BatchNorm</text>\n<polygon fill=\"none\" stroke=\"#a592c5\" points=\"2393,-585.4233 2393,-608.4233 2493,-608.4233 2493,-585.4233 2393,-585.4233\"/>\n<polygon fill=\"none\" stroke=\"#a592c5\" points=\"2310,-562.4233 2310,-585.4233 2393,-585.4233 2393,-562.4233 2310,-562.4233\"/>\n<text text-anchor=\"start\" x=\"2334.2692\" y=\"-571.2233\" font-family=\"Fira Code Retina\" font-size=\"14.00\" fill=\"#000000\">ReLU</text>\n<polygon fill=\"none\" stroke=\"#a592c5\" points=\"2393,-562.4233 2393,-585.4233 2493,-585.4233 2493,-562.4233 2393,-562.4233\"/>\n</g>\n<!-- block10&#45;&gt;block11 -->\n<g id=\"edge10\" class=\"edge\">\n<title>block10&#45;&gt;block11</title>\n<path fill=\"none\" stroke=\"#7d88c7\" d=\"M2171.6037,-643.4233C2209.3645,-643.4233 2252.5587,-643.4233 2291.2065,-643.4233\"/>\n<polygon fill=\"#7d88c7\" stroke=\"#7d88c7\" points=\"2291.4513,-646.9234 2301.4513,-643.4233 2291.4513,-639.9234 2291.4513,-646.9234\"/>\n<text text-anchor=\"middle\" x=\"2236.5\" y=\"-652.4542\" font-family=\"Fira Code Retina\" font-size=\"14.00\" fill=\"#000000\">bs*1024*16*16</text>\n</g>\n<!-- block12 -->\n<g id=\"node13\" class=\"node\">\n<title>block12</title>\n<polygon fill=\"#e6ece5\" stroke=\"transparent\" points=\"2638.5,-562.9233 2638.5,-723.9233 2821.5,-723.9233 2821.5,-562.9233 2638.5,-562.9233\"/>\n<polygon fill=\"none\" stroke=\"#a2bba0\" points=\"2639,-700.4233 2639,-723.4233 2722,-723.4233 2722,-700.4233 2639,-700.4233\"/>\n<text text-anchor=\"start\" x=\"2663.2692\" y=\"-709.2233\" font-family=\"Fira Code Retina\" font-size=\"14.00\" fill=\"#000000\">Conv</text>\n<polygon fill=\"none\" stroke=\"#a2bba0\" points=\"2722,-700.4233 2722,-723.4233 2822,-723.4233 2822,-700.4233 2722,-700.4233\"/>\n<text text-anchor=\"start\" x=\"2759.0769\" y=\"-709.2233\" font-family=\"Fira Code Retina\" font-size=\"14.00\" fill=\"#000000\">256</text>\n<polygon fill=\"none\" stroke=\"#a2bba0\" points=\"2639,-677.4233 2639,-700.4233 2722,-700.4233 2722,-677.4233 2639,-677.4233\"/>\n<text text-anchor=\"start\" x=\"2641.7308\" y=\"-686.2233\" font-family=\"Fira Code Retina\" font-size=\"14.00\" fill=\"#000000\">BatchNorm</text>\n<polygon fill=\"none\" stroke=\"#a2bba0\" points=\"2722,-677.4233 2722,-700.4233 2822,-700.4233 2822,-677.4233 2722,-677.4233\"/>\n<polygon fill=\"none\" stroke=\"#a2bba0\" points=\"2639,-654.4233 2639,-677.4233 2722,-677.4233 2722,-654.4233 2639,-654.4233\"/>\n<text text-anchor=\"start\" x=\"2663.2692\" y=\"-663.2233\" font-family=\"Fira Code Retina\" font-size=\"14.00\" fill=\"#000000\">Conv</text>\n<polygon fill=\"none\" stroke=\"#a2bba0\" points=\"2722,-654.4233 2722,-677.4233 2822,-677.4233 2822,-654.4233 2722,-654.4233\"/>\n<text text-anchor=\"start\" x=\"2724.6154\" y=\"-663.2233\" font-family=\"Fira Code Retina\" font-size=\"14.00\" fill=\"#000000\">256 k3*3 p1</text>\n<polygon fill=\"none\" stroke=\"#a2bba0\" points=\"2639,-631.4233 2639,-654.4233 2722,-654.4233 2722,-631.4233 2639,-631.4233\"/>\n<text text-anchor=\"start\" x=\"2641.7308\" y=\"-640.2233\" font-family=\"Fira Code Retina\" font-size=\"14.00\" fill=\"#000000\">BatchNorm</text>\n<polygon fill=\"none\" stroke=\"#a2bba0\" points=\"2722,-631.4233 2722,-654.4233 2822,-654.4233 2822,-631.4233 2722,-631.4233\"/>\n<polygon fill=\"none\" stroke=\"#a2bba0\" points=\"2639,-608.4233 2639,-631.4233 2722,-631.4233 2722,-608.4233 2639,-608.4233\"/>\n<text text-anchor=\"start\" x=\"2663.2692\" y=\"-617.2233\" font-family=\"Fira Code Retina\" font-size=\"14.00\" fill=\"#000000\">Conv</text>\n<polygon fill=\"none\" stroke=\"#a2bba0\" points=\"2722,-608.4233 2722,-631.4233 2822,-631.4233 2822,-608.4233 2722,-608.4233\"/>\n<text text-anchor=\"start\" x=\"2754.7692\" y=\"-617.2233\" font-family=\"Fira Code Retina\" font-size=\"14.00\" fill=\"#000000\">1024</text>\n<polygon fill=\"none\" stroke=\"#a2bba0\" points=\"2639,-585.4233 2639,-608.4233 2722,-608.4233 2722,-585.4233 2639,-585.4233\"/>\n<text text-anchor=\"start\" x=\"2641.7308\" y=\"-594.2233\" font-family=\"Fira Code Retina\" font-size=\"14.00\" fill=\"#000000\">BatchNorm</text>\n<polygon fill=\"none\" stroke=\"#a2bba0\" points=\"2722,-585.4233 2722,-608.4233 2822,-608.4233 2822,-585.4233 2722,-585.4233\"/>\n<polygon fill=\"none\" stroke=\"#a2bba0\" points=\"2639,-562.4233 2639,-585.4233 2722,-585.4233 2722,-562.4233 2639,-562.4233\"/>\n<text text-anchor=\"start\" x=\"2663.2692\" y=\"-571.2233\" font-family=\"Fira Code Retina\" font-size=\"14.00\" fill=\"#000000\">ReLU</text>\n<polygon fill=\"none\" stroke=\"#a2bba0\" points=\"2722,-562.4233 2722,-585.4233 2822,-585.4233 2822,-562.4233 2722,-562.4233\"/>\n</g>\n<!-- block11&#45;&gt;block12 -->\n<g id=\"edge11\" class=\"edge\">\n<title>block11&#45;&gt;block12</title>\n<path fill=\"none\" stroke=\"#7d88c7\" d=\"M2500.6037,-643.4233C2538.3645,-643.4233 2581.5587,-643.4233 2620.2065,-643.4233\"/>\n<polygon fill=\"#7d88c7\" stroke=\"#7d88c7\" points=\"2620.4513,-646.9234 2630.4513,-643.4233 2620.4513,-639.9234 2620.4513,-646.9234\"/>\n<text text-anchor=\"middle\" x=\"2565.5\" y=\"-652.4542\" font-family=\"Fira Code Retina\" font-size=\"14.00\" fill=\"#000000\">bs*1024*16*16</text>\n</g>\n<!-- block13 -->\n<g id=\"node14\" class=\"node\">\n<title>block13</title>\n<polygon fill=\"#efe0df\" stroke=\"transparent\" points=\"2967.5,-562.9233 2967.5,-723.9233 3150.5,-723.9233 3150.5,-562.9233 2967.5,-562.9233\"/>\n<polygon fill=\"none\" stroke=\"#c08b7b\" points=\"2968,-700.4233 2968,-723.4233 3051,-723.4233 3051,-700.4233 2968,-700.4233\"/>\n<text text-anchor=\"start\" x=\"2992.2692\" y=\"-709.2233\" font-family=\"Fira Code Retina\" font-size=\"14.00\" fill=\"#000000\">Conv</text>\n<polygon fill=\"none\" stroke=\"#c08b7b\" points=\"3051,-700.4233 3051,-723.4233 3151,-723.4233 3151,-700.4233 3051,-700.4233\"/>\n<text text-anchor=\"start\" x=\"3088.0769\" y=\"-709.2233\" font-family=\"Fira Code Retina\" font-size=\"14.00\" fill=\"#000000\">256</text>\n<polygon fill=\"none\" stroke=\"#c08b7b\" points=\"2968,-677.4233 2968,-700.4233 3051,-700.4233 3051,-677.4233 2968,-677.4233\"/>\n<text text-anchor=\"start\" x=\"2970.7308\" y=\"-686.2233\" font-family=\"Fira Code Retina\" font-size=\"14.00\" fill=\"#000000\">BatchNorm</text>\n<polygon fill=\"none\" stroke=\"#c08b7b\" points=\"3051,-677.4233 3051,-700.4233 3151,-700.4233 3151,-677.4233 3051,-677.4233\"/>\n<polygon fill=\"none\" stroke=\"#c08b7b\" points=\"2968,-654.4233 2968,-677.4233 3051,-677.4233 3051,-654.4233 2968,-654.4233\"/>\n<text text-anchor=\"start\" x=\"2992.2692\" y=\"-663.2233\" font-family=\"Fira Code Retina\" font-size=\"14.00\" fill=\"#000000\">Conv</text>\n<polygon fill=\"none\" stroke=\"#c08b7b\" points=\"3051,-654.4233 3051,-677.4233 3151,-677.4233 3151,-654.4233 3051,-654.4233\"/>\n<text text-anchor=\"start\" x=\"3053.6154\" y=\"-663.2233\" font-family=\"Fira Code Retina\" font-size=\"14.00\" fill=\"#000000\">256 k3*3 p1</text>\n<polygon fill=\"none\" stroke=\"#c08b7b\" points=\"2968,-631.4233 2968,-654.4233 3051,-654.4233 3051,-631.4233 2968,-631.4233\"/>\n<text text-anchor=\"start\" x=\"2970.7308\" y=\"-640.2233\" font-family=\"Fira Code Retina\" font-size=\"14.00\" fill=\"#000000\">BatchNorm</text>\n<polygon fill=\"none\" stroke=\"#c08b7b\" points=\"3051,-631.4233 3051,-654.4233 3151,-654.4233 3151,-631.4233 3051,-631.4233\"/>\n<polygon fill=\"none\" stroke=\"#c08b7b\" points=\"2968,-608.4233 2968,-631.4233 3051,-631.4233 3051,-608.4233 2968,-608.4233\"/>\n<text text-anchor=\"start\" x=\"2992.2692\" y=\"-617.2233\" font-family=\"Fira Code Retina\" font-size=\"14.00\" fill=\"#000000\">Conv</text>\n<polygon fill=\"none\" stroke=\"#c08b7b\" points=\"3051,-608.4233 3051,-631.4233 3151,-631.4233 3151,-608.4233 3051,-608.4233\"/>\n<text text-anchor=\"start\" x=\"3083.7692\" y=\"-617.2233\" font-family=\"Fira Code Retina\" font-size=\"14.00\" fill=\"#000000\">1024</text>\n<polygon fill=\"none\" stroke=\"#c08b7b\" points=\"2968,-585.4233 2968,-608.4233 3051,-608.4233 3051,-585.4233 2968,-585.4233\"/>\n<text text-anchor=\"start\" x=\"2970.7308\" y=\"-594.2233\" font-family=\"Fira Code Retina\" font-size=\"14.00\" fill=\"#000000\">BatchNorm</text>\n<polygon fill=\"none\" stroke=\"#c08b7b\" points=\"3051,-585.4233 3051,-608.4233 3151,-608.4233 3151,-585.4233 3051,-585.4233\"/>\n<polygon fill=\"none\" stroke=\"#c08b7b\" points=\"2968,-562.4233 2968,-585.4233 3051,-585.4233 3051,-562.4233 2968,-562.4233\"/>\n<text text-anchor=\"start\" x=\"2992.2692\" y=\"-571.2233\" font-family=\"Fira Code Retina\" font-size=\"14.00\" fill=\"#000000\">ReLU</text>\n<polygon fill=\"none\" stroke=\"#c08b7b\" points=\"3051,-562.4233 3051,-585.4233 3151,-585.4233 3151,-562.4233 3051,-562.4233\"/>\n</g>\n<!-- block12&#45;&gt;block13 -->\n<g id=\"edge12\" class=\"edge\">\n<title>block12&#45;&gt;block13</title>\n<path fill=\"none\" stroke=\"#7d88c7\" d=\"M2829.6037,-643.4233C2867.3645,-643.4233 2910.5587,-643.4233 2949.2065,-643.4233\"/>\n<polygon fill=\"#7d88c7\" stroke=\"#7d88c7\" points=\"2949.4513,-646.9234 2959.4513,-643.4233 2949.4513,-639.9234 2949.4513,-646.9234\"/>\n<text text-anchor=\"middle\" x=\"2894.5\" y=\"-652.4542\" font-family=\"Fira Code Retina\" font-size=\"14.00\" fill=\"#000000\">bs*1024*16*16</text>\n</g>\n<!-- block14 -->\n<g id=\"node15\" class=\"node\">\n<title>block14</title>\n<polygon fill=\"#61defc\" stroke=\"transparent\" points=\"3296.5,-562.9233 3296.5,-723.9233 3479.5,-723.9233 3479.5,-562.9233 3296.5,-562.9233\"/>\n<polygon fill=\"none\" stroke=\"#2075f8\" points=\"3297,-700.4233 3297,-723.4233 3380,-723.4233 3380,-700.4233 3297,-700.4233\"/>\n<text text-anchor=\"start\" x=\"3321.2692\" y=\"-709.2233\" font-family=\"Fira Code Retina\" font-size=\"14.00\" fill=\"#000000\">Conv</text>\n<polygon fill=\"none\" stroke=\"#2075f8\" points=\"3380,-700.4233 3380,-723.4233 3480,-723.4233 3480,-700.4233 3380,-700.4233\"/>\n<text text-anchor=\"start\" x=\"3417.0769\" y=\"-709.2233\" font-family=\"Fira Code Retina\" font-size=\"14.00\" fill=\"#000000\">256</text>\n<polygon fill=\"none\" stroke=\"#2075f8\" points=\"3297,-677.4233 3297,-700.4233 3380,-700.4233 3380,-677.4233 3297,-677.4233\"/>\n<text text-anchor=\"start\" x=\"3299.7308\" y=\"-686.2233\" font-family=\"Fira Code Retina\" font-size=\"14.00\" fill=\"#000000\">BatchNorm</text>\n<polygon fill=\"none\" stroke=\"#2075f8\" points=\"3380,-677.4233 3380,-700.4233 3480,-700.4233 3480,-677.4233 3380,-677.4233\"/>\n<polygon fill=\"none\" stroke=\"#2075f8\" points=\"3297,-654.4233 3297,-677.4233 3380,-677.4233 3380,-654.4233 3297,-654.4233\"/>\n<text text-anchor=\"start\" x=\"3321.2692\" y=\"-663.2233\" font-family=\"Fira Code Retina\" font-size=\"14.00\" fill=\"#000000\">Conv</text>\n<polygon fill=\"none\" stroke=\"#2075f8\" points=\"3380,-654.4233 3380,-677.4233 3480,-677.4233 3480,-654.4233 3380,-654.4233\"/>\n<text text-anchor=\"start\" x=\"3382.6154\" y=\"-663.2233\" font-family=\"Fira Code Retina\" font-size=\"14.00\" fill=\"#000000\">256 k3*3 p1</text>\n<polygon fill=\"none\" stroke=\"#2075f8\" points=\"3297,-631.4233 3297,-654.4233 3380,-654.4233 3380,-631.4233 3297,-631.4233\"/>\n<text text-anchor=\"start\" x=\"3299.7308\" y=\"-640.2233\" font-family=\"Fira Code Retina\" font-size=\"14.00\" fill=\"#000000\">BatchNorm</text>\n<polygon fill=\"none\" stroke=\"#2075f8\" points=\"3380,-631.4233 3380,-654.4233 3480,-654.4233 3480,-631.4233 3380,-631.4233\"/>\n<polygon fill=\"none\" stroke=\"#2075f8\" points=\"3297,-608.4233 3297,-631.4233 3380,-631.4233 3380,-608.4233 3297,-608.4233\"/>\n<text text-anchor=\"start\" x=\"3321.2692\" y=\"-617.2233\" font-family=\"Fira Code Retina\" font-size=\"14.00\" fill=\"#000000\">Conv</text>\n<polygon fill=\"none\" stroke=\"#2075f8\" points=\"3380,-608.4233 3380,-631.4233 3480,-631.4233 3480,-608.4233 3380,-608.4233\"/>\n<text text-anchor=\"start\" x=\"3412.7692\" y=\"-617.2233\" font-family=\"Fira Code Retina\" font-size=\"14.00\" fill=\"#000000\">1024</text>\n<polygon fill=\"none\" stroke=\"#2075f8\" points=\"3297,-585.4233 3297,-608.4233 3380,-608.4233 3380,-585.4233 3297,-585.4233\"/>\n<text text-anchor=\"start\" x=\"3299.7308\" y=\"-594.2233\" font-family=\"Fira Code Retina\" font-size=\"14.00\" fill=\"#000000\">BatchNorm</text>\n<polygon fill=\"none\" stroke=\"#2075f8\" points=\"3380,-585.4233 3380,-608.4233 3480,-608.4233 3480,-585.4233 3380,-585.4233\"/>\n<polygon fill=\"none\" stroke=\"#2075f8\" points=\"3297,-562.4233 3297,-585.4233 3380,-585.4233 3380,-562.4233 3297,-562.4233\"/>\n<text text-anchor=\"start\" x=\"3321.2692\" y=\"-571.2233\" font-family=\"Fira Code Retina\" font-size=\"14.00\" fill=\"#000000\">ReLU</text>\n<polygon fill=\"none\" stroke=\"#2075f8\" points=\"3380,-562.4233 3380,-585.4233 3480,-585.4233 3480,-562.4233 3380,-562.4233\"/>\n</g>\n<!-- block13&#45;&gt;block14 -->\n<g id=\"edge13\" class=\"edge\">\n<title>block13&#45;&gt;block14</title>\n<path fill=\"none\" stroke=\"#7d88c7\" d=\"M3158.6037,-643.4233C3196.3645,-643.4233 3239.5587,-643.4233 3278.2065,-643.4233\"/>\n<polygon fill=\"#7d88c7\" stroke=\"#7d88c7\" points=\"3278.4513,-646.9234 3288.4513,-643.4233 3278.4513,-639.9234 3278.4513,-646.9234\"/>\n<text text-anchor=\"middle\" x=\"3223.5\" y=\"-652.4542\" font-family=\"Fira Code Retina\" font-size=\"14.00\" fill=\"#000000\">bs*1024*16*16</text>\n</g>\n<!-- block15 -->\n<g id=\"node16\" class=\"node\">\n<title>block15</title>\n<polygon fill=\"#e4e7eb\" stroke=\"transparent\" points=\"3275,-271.6925 3275,-478.6925 3501,-478.6925 3501,-271.6925 3275,-271.6925\"/>\n<polygon fill=\"none\" stroke=\"#acc7d2\" points=\"3275,-455.1925 3275,-478.1925 3358,-478.1925 3358,-455.1925 3275,-455.1925\"/>\n<text text-anchor=\"start\" x=\"3299.2692\" y=\"-463.9925\" font-family=\"Fira Code Retina\" font-size=\"14.00\" fill=\"#000000\">Conv</text>\n<polygon fill=\"none\" stroke=\"#acc7d2\" points=\"3358,-455.1925 3358,-478.1925 3501,-478.1925 3501,-455.1925 3358,-455.1925\"/>\n<text text-anchor=\"start\" x=\"3416.5769\" y=\"-463.9925\" font-family=\"Fira Code Retina\" font-size=\"14.00\" fill=\"#000000\">512</text>\n<polygon fill=\"none\" stroke=\"#acc7d2\" points=\"3275,-432.1925 3275,-455.1925 3358,-455.1925 3358,-432.1925 3275,-432.1925\"/>\n<text text-anchor=\"start\" x=\"3277.7308\" y=\"-440.9925\" font-family=\"Fira Code Retina\" font-size=\"14.00\" fill=\"#000000\">BatchNorm</text>\n<polygon fill=\"none\" stroke=\"#acc7d2\" points=\"3358,-432.1925 3358,-455.1925 3501,-455.1925 3501,-432.1925 3358,-432.1925\"/>\n<polygon fill=\"none\" stroke=\"#acc7d2\" points=\"3275,-409.1925 3275,-432.1925 3358,-432.1925 3358,-409.1925 3275,-409.1925\"/>\n<text text-anchor=\"start\" x=\"3299.2692\" y=\"-417.9925\" font-family=\"Fira Code Retina\" font-size=\"14.00\" fill=\"#000000\">Conv</text>\n<polygon fill=\"none\" stroke=\"#acc7d2\" points=\"3358,-409.1925 3358,-432.1925 3501,-432.1925 3501,-409.1925 3358,-409.1925\"/>\n<text text-anchor=\"start\" x=\"3360.5769\" y=\"-417.9925\" font-family=\"Fira Code Retina\" font-size=\"14.00\" fill=\"#000000\">512 k3*3 s2*2 p1</text>\n<polygon fill=\"none\" stroke=\"#acc7d2\" points=\"3275,-386.1925 3275,-409.1925 3358,-409.1925 3358,-386.1925 3275,-386.1925\"/>\n<text text-anchor=\"start\" x=\"3277.7308\" y=\"-394.9925\" font-family=\"Fira Code Retina\" font-size=\"14.00\" fill=\"#000000\">BatchNorm</text>\n<polygon fill=\"none\" stroke=\"#acc7d2\" points=\"3358,-386.1925 3358,-409.1925 3501,-409.1925 3501,-386.1925 3358,-386.1925\"/>\n<polygon fill=\"none\" stroke=\"#acc7d2\" points=\"3275,-363.1925 3275,-386.1925 3358,-386.1925 3358,-363.1925 3275,-363.1925\"/>\n<text text-anchor=\"start\" x=\"3299.2692\" y=\"-371.9925\" font-family=\"Fira Code Retina\" font-size=\"14.00\" fill=\"#000000\">Conv</text>\n<polygon fill=\"none\" stroke=\"#acc7d2\" points=\"3358,-363.1925 3358,-386.1925 3501,-386.1925 3501,-363.1925 3358,-363.1925\"/>\n<text text-anchor=\"start\" x=\"3412.2692\" y=\"-371.9925\" font-family=\"Fira Code Retina\" font-size=\"14.00\" fill=\"#000000\">2048</text>\n<polygon fill=\"none\" stroke=\"#acc7d2\" points=\"3275,-340.1925 3275,-363.1925 3358,-363.1925 3358,-340.1925 3275,-340.1925\"/>\n<text text-anchor=\"start\" x=\"3277.7308\" y=\"-348.9925\" font-family=\"Fira Code Retina\" font-size=\"14.00\" fill=\"#000000\">BatchNorm</text>\n<polygon fill=\"none\" stroke=\"#acc7d2\" points=\"3358,-340.1925 3358,-363.1925 3501,-363.1925 3501,-340.1925 3358,-340.1925\"/>\n<polygon fill=\"none\" stroke=\"#acc7d2\" points=\"3275,-317.1925 3275,-340.1925 3358,-340.1925 3358,-317.1925 3275,-317.1925\"/>\n<text text-anchor=\"start\" x=\"3299.2692\" y=\"-325.9925\" font-family=\"Fira Code Retina\" font-size=\"14.00\" fill=\"#000000\">ReLU</text>\n<polygon fill=\"none\" stroke=\"#acc7d2\" points=\"3358,-317.1925 3358,-340.1925 3501,-340.1925 3501,-317.1925 3358,-317.1925\"/>\n<polygon fill=\"none\" stroke=\"#acc7d2\" points=\"3275,-294.1925 3275,-317.1925 3358,-317.1925 3358,-294.1925 3275,-294.1925\"/>\n<text text-anchor=\"start\" x=\"3299.2692\" y=\"-302.9925\" font-family=\"Fira Code Retina\" font-size=\"14.00\" fill=\"#000000\">Conv</text>\n<polygon fill=\"none\" stroke=\"#acc7d2\" points=\"3358,-294.1925 3358,-317.1925 3501,-317.1925 3501,-294.1925 3358,-294.1925\"/>\n<text text-anchor=\"start\" x=\"3390.7308\" y=\"-302.9925\" font-family=\"Fira Code Retina\" font-size=\"14.00\" fill=\"#000000\">2048 s2*2</text>\n<polygon fill=\"none\" stroke=\"#acc7d2\" points=\"3275,-271.1925 3275,-294.1925 3358,-294.1925 3358,-271.1925 3275,-271.1925\"/>\n<text text-anchor=\"start\" x=\"3277.7308\" y=\"-279.9925\" font-family=\"Fira Code Retina\" font-size=\"14.00\" fill=\"#000000\">BatchNorm</text>\n<polygon fill=\"none\" stroke=\"#acc7d2\" points=\"3358,-271.1925 3358,-294.1925 3501,-294.1925 3501,-271.1925 3358,-271.1925\"/>\n</g>\n<!-- block14&#45;&gt;block15 -->\n<g id=\"edge17\" class=\"edge\">\n<title>block14&#45;&gt;block15</title>\n<path fill=\"none\" stroke=\"#ac5553\" d=\"M3388,-558.9216C3388,-538.0144 3388,-515.2346 3388,-493.0566\"/>\n<polygon fill=\"#ac5553\" stroke=\"#ac5553\" points=\"3391.5001,-492.9178 3388,-482.9179 3384.5001,-492.9179 3391.5001,-492.9178\"/>\n<text text-anchor=\"middle\" x=\"3444\" y=\"-506.7233\" font-family=\"Fira Code Retina\" font-size=\"14.00\" fill=\"#000000\">bs*1024*16*16</text>\n</g>\n<!-- block16 -->\n<g id=\"node17\" class=\"node\">\n<title>block16</title>\n<polygon fill=\"#f1e3dd\" stroke=\"transparent\" points=\"3629.5,-294.6925 3629.5,-455.6925 3812.5,-455.6925 3812.5,-294.6925 3629.5,-294.6925\"/>\n<polygon fill=\"none\" stroke=\"#ddbf9a\" points=\"3630,-432.1925 3630,-455.1925 3713,-455.1925 3713,-432.1925 3630,-432.1925\"/>\n<text text-anchor=\"start\" x=\"3654.2692\" y=\"-440.9925\" font-family=\"Fira Code Retina\" font-size=\"14.00\" fill=\"#000000\">Conv</text>\n<polygon fill=\"none\" stroke=\"#ddbf9a\" points=\"3713,-432.1925 3713,-455.1925 3813,-455.1925 3813,-432.1925 3713,-432.1925\"/>\n<text text-anchor=\"start\" x=\"3750.0769\" y=\"-440.9925\" font-family=\"Fira Code Retina\" font-size=\"14.00\" fill=\"#000000\">512</text>\n<polygon fill=\"none\" stroke=\"#ddbf9a\" points=\"3630,-409.1925 3630,-432.1925 3713,-432.1925 3713,-409.1925 3630,-409.1925\"/>\n<text text-anchor=\"start\" x=\"3632.7308\" y=\"-417.9925\" font-family=\"Fira Code Retina\" font-size=\"14.00\" fill=\"#000000\">BatchNorm</text>\n<polygon fill=\"none\" stroke=\"#ddbf9a\" points=\"3713,-409.1925 3713,-432.1925 3813,-432.1925 3813,-409.1925 3713,-409.1925\"/>\n<polygon fill=\"none\" stroke=\"#ddbf9a\" points=\"3630,-386.1925 3630,-409.1925 3713,-409.1925 3713,-386.1925 3630,-386.1925\"/>\n<text text-anchor=\"start\" x=\"3654.2692\" y=\"-394.9925\" font-family=\"Fira Code Retina\" font-size=\"14.00\" fill=\"#000000\">Conv</text>\n<polygon fill=\"none\" stroke=\"#ddbf9a\" points=\"3713,-386.1925 3713,-409.1925 3813,-409.1925 3813,-386.1925 3713,-386.1925\"/>\n<text text-anchor=\"start\" x=\"3715.6154\" y=\"-394.9925\" font-family=\"Fira Code Retina\" font-size=\"14.00\" fill=\"#000000\">512 k3*3 p1</text>\n<polygon fill=\"none\" stroke=\"#ddbf9a\" points=\"3630,-363.1925 3630,-386.1925 3713,-386.1925 3713,-363.1925 3630,-363.1925\"/>\n<text text-anchor=\"start\" x=\"3632.7308\" y=\"-371.9925\" font-family=\"Fira Code Retina\" font-size=\"14.00\" fill=\"#000000\">BatchNorm</text>\n<polygon fill=\"none\" stroke=\"#ddbf9a\" points=\"3713,-363.1925 3713,-386.1925 3813,-386.1925 3813,-363.1925 3713,-363.1925\"/>\n<polygon fill=\"none\" stroke=\"#ddbf9a\" points=\"3630,-340.1925 3630,-363.1925 3713,-363.1925 3713,-340.1925 3630,-340.1925\"/>\n<text text-anchor=\"start\" x=\"3654.2692\" y=\"-348.9925\" font-family=\"Fira Code Retina\" font-size=\"14.00\" fill=\"#000000\">Conv</text>\n<polygon fill=\"none\" stroke=\"#ddbf9a\" points=\"3713,-340.1925 3713,-363.1925 3813,-363.1925 3813,-340.1925 3713,-340.1925\"/>\n<text text-anchor=\"start\" x=\"3745.7692\" y=\"-348.9925\" font-family=\"Fira Code Retina\" font-size=\"14.00\" fill=\"#000000\">2048</text>\n<polygon fill=\"none\" stroke=\"#ddbf9a\" points=\"3630,-317.1925 3630,-340.1925 3713,-340.1925 3713,-317.1925 3630,-317.1925\"/>\n<text text-anchor=\"start\" x=\"3632.7308\" y=\"-325.9925\" font-family=\"Fira Code Retina\" font-size=\"14.00\" fill=\"#000000\">BatchNorm</text>\n<polygon fill=\"none\" stroke=\"#ddbf9a\" points=\"3713,-317.1925 3713,-340.1925 3813,-340.1925 3813,-317.1925 3713,-317.1925\"/>\n<polygon fill=\"none\" stroke=\"#ddbf9a\" points=\"3630,-294.1925 3630,-317.1925 3713,-317.1925 3713,-294.1925 3630,-294.1925\"/>\n<text text-anchor=\"start\" x=\"3654.2692\" y=\"-302.9925\" font-family=\"Fira Code Retina\" font-size=\"14.00\" fill=\"#000000\">ReLU</text>\n<polygon fill=\"none\" stroke=\"#ddbf9a\" points=\"3713,-294.1925 3713,-317.1925 3813,-317.1925 3813,-294.1925 3713,-294.1925\"/>\n</g>\n<!-- block15&#45;&gt;block16 -->\n<g id=\"edge15\" class=\"edge\">\n<title>block15&#45;&gt;block16</title>\n<path fill=\"none\" stroke=\"#7d88c7\" d=\"M3509.1626,-375.1925C3542.5313,-375.1925 3578.5299,-375.1925 3611.2165,-375.1925\"/>\n<polygon fill=\"#7d88c7\" stroke=\"#7d88c7\" points=\"3611.2477,-378.6926 3621.2477,-375.1925 3611.2476,-371.6926 3611.2477,-378.6926\"/>\n<text text-anchor=\"middle\" x=\"3565.25\" y=\"-384.2233\" font-family=\"Fira Code Retina\" font-size=\"14.00\" fill=\"#000000\">bs*2048*8*8</text>\n</g>\n<!-- block17 -->\n<g id=\"node18\" class=\"node\">\n<title>block17</title>\n<polygon fill=\"#e9e1f0\" stroke=\"transparent\" points=\"3941.5,-294.6925 3941.5,-455.6925 4124.5,-455.6925 4124.5,-294.6925 3941.5,-294.6925\"/>\n<polygon fill=\"none\" stroke=\"#a592c5\" points=\"3942,-432.1925 3942,-455.1925 4025,-455.1925 4025,-432.1925 3942,-432.1925\"/>\n<text text-anchor=\"start\" x=\"3966.2692\" y=\"-440.9925\" font-family=\"Fira Code Retina\" font-size=\"14.00\" fill=\"#000000\">Conv</text>\n<polygon fill=\"none\" stroke=\"#a592c5\" points=\"4025,-432.1925 4025,-455.1925 4125,-455.1925 4125,-432.1925 4025,-432.1925\"/>\n<text text-anchor=\"start\" x=\"4062.0769\" y=\"-440.9925\" font-family=\"Fira Code Retina\" font-size=\"14.00\" fill=\"#000000\">512</text>\n<polygon fill=\"none\" stroke=\"#a592c5\" points=\"3942,-409.1925 3942,-432.1925 4025,-432.1925 4025,-409.1925 3942,-409.1925\"/>\n<text text-anchor=\"start\" x=\"3944.7308\" y=\"-417.9925\" font-family=\"Fira Code Retina\" font-size=\"14.00\" fill=\"#000000\">BatchNorm</text>\n<polygon fill=\"none\" stroke=\"#a592c5\" points=\"4025,-409.1925 4025,-432.1925 4125,-432.1925 4125,-409.1925 4025,-409.1925\"/>\n<polygon fill=\"none\" stroke=\"#a592c5\" points=\"3942,-386.1925 3942,-409.1925 4025,-409.1925 4025,-386.1925 3942,-386.1925\"/>\n<text text-anchor=\"start\" x=\"3966.2692\" y=\"-394.9925\" font-family=\"Fira Code Retina\" font-size=\"14.00\" fill=\"#000000\">Conv</text>\n<polygon fill=\"none\" stroke=\"#a592c5\" points=\"4025,-386.1925 4025,-409.1925 4125,-409.1925 4125,-386.1925 4025,-386.1925\"/>\n<text text-anchor=\"start\" x=\"4027.6154\" y=\"-394.9925\" font-family=\"Fira Code Retina\" font-size=\"14.00\" fill=\"#000000\">512 k3*3 p1</text>\n<polygon fill=\"none\" stroke=\"#a592c5\" points=\"3942,-363.1925 3942,-386.1925 4025,-386.1925 4025,-363.1925 3942,-363.1925\"/>\n<text text-anchor=\"start\" x=\"3944.7308\" y=\"-371.9925\" font-family=\"Fira Code Retina\" font-size=\"14.00\" fill=\"#000000\">BatchNorm</text>\n<polygon fill=\"none\" stroke=\"#a592c5\" points=\"4025,-363.1925 4025,-386.1925 4125,-386.1925 4125,-363.1925 4025,-363.1925\"/>\n<polygon fill=\"none\" stroke=\"#a592c5\" points=\"3942,-340.1925 3942,-363.1925 4025,-363.1925 4025,-340.1925 3942,-340.1925\"/>\n<text text-anchor=\"start\" x=\"3966.2692\" y=\"-348.9925\" font-family=\"Fira Code Retina\" font-size=\"14.00\" fill=\"#000000\">Conv</text>\n<polygon fill=\"none\" stroke=\"#a592c5\" points=\"4025,-340.1925 4025,-363.1925 4125,-363.1925 4125,-340.1925 4025,-340.1925\"/>\n<text text-anchor=\"start\" x=\"4057.7692\" y=\"-348.9925\" font-family=\"Fira Code Retina\" font-size=\"14.00\" fill=\"#000000\">2048</text>\n<polygon fill=\"none\" stroke=\"#a592c5\" points=\"3942,-317.1925 3942,-340.1925 4025,-340.1925 4025,-317.1925 3942,-317.1925\"/>\n<text text-anchor=\"start\" x=\"3944.7308\" y=\"-325.9925\" font-family=\"Fira Code Retina\" font-size=\"14.00\" fill=\"#000000\">BatchNorm</text>\n<polygon fill=\"none\" stroke=\"#a592c5\" points=\"4025,-317.1925 4025,-340.1925 4125,-340.1925 4125,-317.1925 4025,-317.1925\"/>\n<polygon fill=\"none\" stroke=\"#a592c5\" points=\"3942,-294.1925 3942,-317.1925 4025,-317.1925 4025,-294.1925 3942,-294.1925\"/>\n<text text-anchor=\"start\" x=\"3966.2692\" y=\"-302.9925\" font-family=\"Fira Code Retina\" font-size=\"14.00\" fill=\"#000000\">ReLU</text>\n<polygon fill=\"none\" stroke=\"#a592c5\" points=\"4025,-294.1925 4025,-317.1925 4125,-317.1925 4125,-294.1925 4025,-294.1925\"/>\n</g>\n<!-- block16&#45;&gt;block17 -->\n<g id=\"edge16\" class=\"edge\">\n<title>block16&#45;&gt;block17</title>\n<path fill=\"none\" stroke=\"#7d88c7\" d=\"M3820.5766,-375.1925C3853.2235,-375.1925 3889.6808,-375.1925 3923.0501,-375.1925\"/>\n<polygon fill=\"#7d88c7\" stroke=\"#7d88c7\" points=\"3923.2993,-378.6926 3933.2993,-375.1925 3923.2993,-371.6926 3923.2993,-378.6926\"/>\n<text text-anchor=\"middle\" x=\"3877\" y=\"-384.2233\" font-family=\"Fira Code Retina\" font-size=\"14.00\" fill=\"#000000\">bs*2048*8*8</text>\n</g>\n<!-- block18 -->\n<g id=\"node19\" class=\"node\">\n<title>block18</title>\n<polygon fill=\"#f1cfcd\" stroke=\"#a25954\" points=\"4131.4231,-214.4617 3934.5769,-214.4617 3934.5769,-178.4617 4131.4231,-178.4617 4131.4231,-214.4617\"/>\n<text text-anchor=\"middle\" x=\"4033\" y=\"-193.8771\" font-family=\"Fira Code Retina\" font-size=\"14.00\" fill=\"#000000\">AdaptiveAvgPool2d_1*1</text>\n</g>\n<!-- block17&#45;&gt;block18 -->\n<g id=\"edge18\" class=\"edge\">\n<title>block17&#45;&gt;block18</title>\n<path fill=\"none\" stroke=\"#ac5553\" d=\"M4033,-290.5378C4033,-266.815 4033,-242.6484 4033,-224.7495\"/>\n<polygon fill=\"#ac5553\" stroke=\"#ac5553\" points=\"4036.5001,-224.7308 4033,-214.7309 4029.5001,-224.7309 4036.5001,-224.7308\"/>\n<text text-anchor=\"middle\" x=\"4080.3846\" y=\"-238.4925\" font-family=\"Fira Code Retina\" font-size=\"14.00\" fill=\"#000000\">bs*2048*8*8</text>\n</g>\n<!-- block19 -->\n<g id=\"node20\" class=\"node\">\n<title>block19</title>\n<ellipse fill=\"none\" stroke=\"#c0c0c0\" cx=\"4033\" cy=\"-107.2308\" rx=\"53.4781\" ry=\"18\"/>\n<text text-anchor=\"middle\" x=\"4033\" y=\"-104.6463\" font-family=\"Fira Code Retina\" font-size=\"14.00\" fill=\"#000000\">flatten</text>\n</g>\n<!-- block18&#45;&gt;block19 -->\n<g id=\"edge19\" class=\"edge\">\n<title>block18&#45;&gt;block19</title>\n<path fill=\"none\" stroke=\"#ac5553\" d=\"M4033,-178.4045C4033,-166.0679 4033,-149.472 4033,-135.409\"/>\n<polygon fill=\"#ac5553\" stroke=\"#ac5553\" points=\"4036.5001,-135.2611 4033,-125.2612 4029.5001,-135.2612 4036.5001,-135.2611\"/>\n<text text-anchor=\"middle\" x=\"4080.3846\" y=\"-149.2617\" font-family=\"Fira Code Retina\" font-size=\"14.00\" fill=\"#000000\">bs*2048*1*1</text>\n</g>\n<!-- block20 -->\n<g id=\"node21\" class=\"node\">\n<title>block20</title>\n<polygon fill=\"#f1cfcd\" stroke=\"#a25954\" points=\"4066.693,-36 3999.307,-36 3999.307,0 4066.693,0 4066.693,-36\"/>\n<text text-anchor=\"middle\" x=\"4033\" y=\"-15.4154\" font-family=\"Fira Code Retina\" font-size=\"14.00\" fill=\"#000000\">Linear</text>\n</g>\n<!-- block19&#45;&gt;block20 -->\n<g id=\"edge20\" class=\"edge\">\n<title>block19&#45;&gt;block20</title>\n<path fill=\"none\" stroke=\"#ac5553\" d=\"M4033,-89.1736C4033,-76.8371 4033,-60.2412 4033,-46.1782\"/>\n<polygon fill=\"#ac5553\" stroke=\"#ac5553\" points=\"4036.5001,-46.0303 4033,-36.0303 4029.5001,-46.0304 4036.5001,-46.0303\"/>\n<text text-anchor=\"middle\" x=\"4063.1538\" y=\"-60.0308\" font-family=\"Fira Code Retina\" font-size=\"14.00\" fill=\"#000000\">bs*2048</text>\n</g>\n</g>\n</svg>\n"
     },
     "metadata": {},
     "output_type": "execute_result",
     "execution_count": 1
    }
   ],
   "source": [
    "import graphviz\n",
    "\n",
    "FONT_NAME = \"Fira Code Retina\"\n",
    "graph = graphviz.Digraph(name=\"ResNet50\", format='png',node_attr={'shape': 'plaintext'})\n",
    "graph.node('img', shape=\"doublecircle\", color=\"grey\", fontname=FONT_NAME)\n",
    "\n",
    "graph.node(\"block1\", '''<\n",
    "<table border=\"0\" CELLBORDER=\"1\" CELLSPACING=\"0\" bgcolor=\"#E4E7EB\" color=\"#ACC7D2\">\n",
    "<tr><td>Conv</td><td>64 k7*7 s2*2 p3</td></tr>\n",
    "<tr><td>BatchNorm</td><td></td></tr>\n",
    "<tr><td>ReLU</td><td></td></tr>\n",
    "<tr><td>MaxPool</td><td>k3*3 s2*2 p1</td></tr>\n",
    "</table>\n",
    ">''', fontname=FONT_NAME)\n",
    "\n",
    "with graph.subgraph() as s:\n",
    "    s.attr(rank=\"same\")\n",
    "    s.node('block2', '''<\n",
    "            <table border=\"0\" CELLBORDER=\"1\" CELLSPACING=\"0\" bgcolor=\"#E4E7EB\" color=\"#ACC7D2\">\n",
    "            <tr><td>Conv</td><td>64</td></tr>\n",
    "            <tr><td>BatchNorm</td><td></td></tr>\n",
    "            <tr><td>Conv</td><td>64 k3*3 p1</td></tr>\n",
    "            <tr><td>BatchNorm</td><td></td></tr>\n",
    "            <tr><td>Conv</td><td>256</td></tr>\n",
    "            <tr><td>BatchNorm</td><td></td></tr>\n",
    "            <tr><td>ReLU</td><td></td></tr>\n",
    "            <tr><td>Conv</td><td>256</td></tr>\n",
    "            <tr><td>BatchNorm</td><td></td></tr>\n",
    "            </table>\n",
    "            >''', fontname=FONT_NAME)\n",
    "    s.node('block3', '''<\n",
    "                <table border=\"0\" CELLBORDER=\"1\" CELLSPACING=\"0\" bgcolor=\"#F1E3DD\" color=\"#DDBF9A\">\n",
    "                <tr><td>Conv</td><td>64</td></tr>\n",
    "                <tr><td>BatchNorm</td><td></td></tr>\n",
    "                <tr><td>Conv</td><td>64 k3*3 p1</td></tr>\n",
    "                <tr><td>BatchNorm</td><td></td></tr>\n",
    "                <tr><td>Conv</td><td>256</td></tr>\n",
    "                <tr><td>BatchNorm</td><td></td></tr>\n",
    "                <tr><td>ReLU</td><td></td></tr>\n",
    "                </table>\n",
    "                >''', fontname=FONT_NAME)\n",
    "    s.node('block4', '''<\n",
    "                <table border=\"0\" CELLBORDER=\"1\" CELLSPACING=\"0\" bgcolor=\"#E9E1F0\" color=\"#A592C5\">\n",
    "                <tr><td>Conv</td><td>64</td></tr>\n",
    "                <tr><td>BatchNorm</td><td></td></tr>\n",
    "                <tr><td>Conv</td><td>64 k3*3 p1</td></tr>\n",
    "                <tr><td>BatchNorm</td><td></td></tr>\n",
    "                <tr><td>Conv</td><td>256</td></tr>\n",
    "                <tr><td>BatchNorm</td><td></td></tr>\n",
    "                <tr><td>ReLU</td><td></td></tr>\n",
    "                </table>\n",
    "                >''', fontname=FONT_NAME)\n",
    "    s.edge(\"block2\", \"block3\", color=\"#7D88C7\", label=\"bs*256*61*61\", fontname=FONT_NAME)\n",
    "    s.edge(\"block3\", \"block4\", color=\"#7D88C7\", label=\"bs*256*61*61\", fontname=FONT_NAME)\n",
    "\n",
    "graph.edge(\"img\", \"block1\", label=\"bs*3*244*244\", color=\"#AC5553\", fontname=FONT_NAME)\n",
    "graph.edge(\"block1\", \"block2\", label=\"bs*64*61*61\", color=\"#AC5553\", fontname=FONT_NAME)\n",
    "\n",
    "with graph.subgraph() as s:\n",
    "    s.attr(rank=\"same\")\n",
    "    s.node('block5', '''<\n",
    "            <table border=\"0\" CELLBORDER=\"1\" CELLSPACING=\"0\" bgcolor=\"#E4E7EB\" color=\"#ACC7D2\">\n",
    "            <tr><td>Conv</td><td>128</td></tr>\n",
    "            <tr><td>BatchNorm</td><td></td></tr>\n",
    "            <tr><td>Conv</td><td>128 k3*3 s2*2 p1</td></tr>\n",
    "            <tr><td>BatchNorm</td><td></td></tr>\n",
    "            <tr><td>Conv</td><td>512</td></tr>\n",
    "            <tr><td>BatchNorm</td><td></td></tr>\n",
    "            <tr><td>ReLU</td><td></td></tr>\n",
    "            <tr><td>Conv</td><td>512 s2*2</td></tr>\n",
    "            <tr><td>BatchNorm</td><td></td></tr>\n",
    "            </table>\n",
    "            >''', fontname=FONT_NAME)\n",
    "    s.node('block6', '''<\n",
    "                <table border=\"0\" CELLBORDER=\"1\" CELLSPACING=\"0\" bgcolor=\"#F1E3DD\" color=\"#DDBF9A\">\n",
    "                <tr><td>Conv</td><td>128</td></tr>\n",
    "                <tr><td>BatchNorm</td><td></td></tr>\n",
    "                <tr><td>Conv</td><td>128 k3*3 p1</td></tr>\n",
    "                <tr><td>BatchNorm</td><td></td></tr>\n",
    "                <tr><td>Conv</td><td>512</td></tr>\n",
    "                <tr><td>BatchNorm</td><td></td></tr>\n",
    "                <tr><td>ReLU</td><td></td></tr>\n",
    "                </table>\n",
    "                >''', fontname=FONT_NAME)\n",
    "    s.node('block7', '''<\n",
    "                <table border=\"0\" CELLBORDER=\"1\" CELLSPACING=\"0\" bgcolor=\"#E9E1F0\" color=\"#A592C5\">\n",
    "                <tr><td>Conv</td><td>128</td></tr>\n",
    "                <tr><td>BatchNorm</td><td></td></tr>\n",
    "                <tr><td>Conv</td><td>128 k3*3 p1</td></tr>\n",
    "                <tr><td>BatchNorm</td><td></td></tr>\n",
    "                <tr><td>Conv</td><td>512</td></tr>\n",
    "                <tr><td>BatchNorm</td><td></td></tr>\n",
    "                <tr><td>ReLU</td><td></td></tr>\n",
    "                </table>\n",
    "                >''', fontname=FONT_NAME)\n",
    "    s.node('block8', '''<\n",
    "                <table border=\"0\" CELLBORDER=\"1\" CELLSPACING=\"0\" bgcolor=\"#E6ECE5\" color=\"#A2BBA0\">\n",
    "                <tr><td>Conv</td><td>128</td></tr>\n",
    "                <tr><td>BatchNorm</td><td></td></tr>\n",
    "                <tr><td>Conv</td><td>128 k3*3 p1</td></tr>\n",
    "                <tr><td>BatchNorm</td><td></td></tr>\n",
    "                <tr><td>Conv</td><td>512</td></tr>\n",
    "                <tr><td>BatchNorm</td><td></td></tr>\n",
    "                <tr><td>ReLU</td><td></td></tr>\n",
    "                </table>\n",
    "                >''', fontname=FONT_NAME)\n",
    "    s.edge(\"block5\", \"block6\", color=\"#7D88C7\", label=\"bs*512*31*31\", fontname=FONT_NAME)\n",
    "    s.edge(\"block6\", \"block7\", color=\"#7D88C7\", label=\"bs*512*31*31\", fontname=FONT_NAME)\n",
    "    s.edge(\"block7\", \"block8\", color=\"#7D88C7\", label=\"bs*512*31*31\", fontname=FONT_NAME)\n",
    "\n",
    "graph.edge(\"block4\", \"block5\", label=\"bs*256*61*61\", color=\"#AC5553\", fontname=FONT_NAME)\n",
    "\n",
    "with graph.subgraph() as s:\n",
    "    s.attr(rank=\"same\")\n",
    "    s.node('block9', '''<\n",
    "            <table border=\"0\" CELLBORDER=\"1\" CELLSPACING=\"0\" bgcolor=\"#E4E7EB\" color=\"#ACC7D2\">\n",
    "            <tr><td>Conv</td><td>256</td></tr>\n",
    "            <tr><td>BatchNorm</td><td></td></tr>\n",
    "            <tr><td>Conv</td><td>256 k3*3 s2*2 p1</td></tr>\n",
    "            <tr><td>BatchNorm</td><td></td></tr>\n",
    "            <tr><td>Conv</td><td>1024</td></tr>\n",
    "            <tr><td>BatchNorm</td><td></td></tr>\n",
    "            <tr><td>ReLU</td><td></td></tr>\n",
    "            <tr><td>Conv</td><td>1024 s2*2</td></tr>\n",
    "            <tr><td>BatchNorm</td><td></td></tr>\n",
    "            </table>\n",
    "            >''', fontname=FONT_NAME)\n",
    "    s.node('block10', '''<\n",
    "                <table border=\"0\" CELLBORDER=\"1\" CELLSPACING=\"0\" bgcolor=\"#F1E3DD\" color=\"#DDBF9A\">\n",
    "                <tr><td>Conv</td><td>256</td></tr>\n",
    "                <tr><td>BatchNorm</td><td></td></tr>\n",
    "                <tr><td>Conv</td><td>256 k3*3 p1</td></tr>\n",
    "                <tr><td>BatchNorm</td><td></td></tr>\n",
    "                <tr><td>Conv</td><td>1024</td></tr>\n",
    "                <tr><td>BatchNorm</td><td></td></tr>\n",
    "                <tr><td>ReLU</td><td></td></tr>\n",
    "                </table>\n",
    "                >''', fontname=FONT_NAME)\n",
    "    s.node('block11', '''<\n",
    "                <table border=\"0\" CELLBORDER=\"1\" CELLSPACING=\"0\" bgcolor=\"#E9E1F0\" color=\"#A592C5\">\n",
    "                <tr><td>Conv</td><td>256</td></tr>\n",
    "                <tr><td>BatchNorm</td><td></td></tr>\n",
    "                <tr><td>Conv</td><td>256 k3*3 p1</td></tr>\n",
    "                <tr><td>BatchNorm</td><td></td></tr>\n",
    "                <tr><td>Conv</td><td>1024</td></tr>\n",
    "                <tr><td>BatchNorm</td><td></td></tr>\n",
    "                <tr><td>ReLU</td><td></td></tr>\n",
    "                </table>\n",
    "                >''', fontname=FONT_NAME)\n",
    "    s.node('block12', '''<\n",
    "                <table border=\"0\" CELLBORDER=\"1\" CELLSPACING=\"0\" bgcolor=\"#E6ECE5\" color=\"#A2BBA0\">\n",
    "                <tr><td>Conv</td><td>256</td></tr>\n",
    "                <tr><td>BatchNorm</td><td></td></tr>\n",
    "                <tr><td>Conv</td><td>256 k3*3 p1</td></tr>\n",
    "                <tr><td>BatchNorm</td><td></td></tr>\n",
    "                <tr><td>Conv</td><td>1024</td></tr>\n",
    "                <tr><td>BatchNorm</td><td></td></tr>\n",
    "                <tr><td>ReLU</td><td></td></tr>\n",
    "                </table>\n",
    "                >''', fontname=FONT_NAME)\n",
    "    s.node('block13', '''<\n",
    "                <table border=\"0\" CELLBORDER=\"1\" CELLSPACING=\"0\" bgcolor=\"#EFE0DF\" color=\"#C08B7B\">\n",
    "                <tr><td>Conv</td><td>256</td></tr>\n",
    "                <tr><td>BatchNorm</td><td></td></tr>\n",
    "                <tr><td>Conv</td><td>256 k3*3 p1</td></tr>\n",
    "                <tr><td>BatchNorm</td><td></td></tr>\n",
    "                <tr><td>Conv</td><td>1024</td></tr>\n",
    "                <tr><td>BatchNorm</td><td></td></tr>\n",
    "                <tr><td>ReLU</td><td></td></tr>\n",
    "                </table>\n",
    "                >''', fontname=FONT_NAME)\n",
    "    s.node('block14', '''<\n",
    "                <table border=\"0\" CELLBORDER=\"1\" CELLSPACING=\"0\" bgcolor=\"#61DEFC\" color=\"#2075F8\">\n",
    "                <tr><td>Conv</td><td>256</td></tr>\n",
    "                <tr><td>BatchNorm</td><td></td></tr>\n",
    "                <tr><td>Conv</td><td>256 k3*3 p1</td></tr>\n",
    "                <tr><td>BatchNorm</td><td></td></tr>\n",
    "                <tr><td>Conv</td><td>1024</td></tr>\n",
    "                <tr><td>BatchNorm</td><td></td></tr>\n",
    "                <tr><td>ReLU</td><td></td></tr>\n",
    "                </table>\n",
    "                >''', fontname=FONT_NAME)\n",
    "    s.edge(\"block9\", \"block10\", color=\"#7D88C7\", label=\"bs*1024*16*16\", fontname=FONT_NAME)\n",
    "    s.edge(\"block10\", \"block11\", color=\"#7D88C7\", label=\"bs*1024*16*16\", fontname=FONT_NAME)\n",
    "    s.edge(\"block11\", \"block12\", color=\"#7D88C7\", label=\"bs*1024*16*16\", fontname=FONT_NAME)\n",
    "    s.edge(\"block12\", \"block13\", color=\"#7D88C7\", label=\"bs*1024*16*16\", fontname=FONT_NAME)\n",
    "    s.edge(\"block13\", \"block14\", color=\"#7D88C7\", label=\"bs*1024*16*16\", fontname=FONT_NAME)\n",
    "\n",
    "graph.edge(\"block8\", \"block9\", label=\"bs*512*31*31\", color=\"#AC5553\", fontname=FONT_NAME)\n",
    "\n",
    "with graph.subgraph() as s:\n",
    "    s.attr(rank=\"same\")\n",
    "    s.node('block15', '''<\n",
    "            <table border=\"0\" CELLBORDER=\"1\" CELLSPACING=\"0\" bgcolor=\"#E4E7EB\" color=\"#ACC7D2\">\n",
    "            <tr><td>Conv</td><td>512</td></tr>\n",
    "            <tr><td>BatchNorm</td><td></td></tr>\n",
    "            <tr><td>Conv</td><td>512 k3*3 s2*2 p1</td></tr>\n",
    "            <tr><td>BatchNorm</td><td></td></tr>\n",
    "            <tr><td>Conv</td><td>2048</td></tr>\n",
    "            <tr><td>BatchNorm</td><td></td></tr>\n",
    "            <tr><td>ReLU</td><td></td></tr>\n",
    "            <tr><td>Conv</td><td>2048 s2*2</td></tr>\n",
    "            <tr><td>BatchNorm</td><td></td></tr>\n",
    "            </table>\n",
    "            >''', fontname=FONT_NAME)\n",
    "    s.node('block16', '''<\n",
    "                <table border=\"0\" CELLBORDER=\"1\" CELLSPACING=\"0\" bgcolor=\"#F1E3DD\" color=\"#DDBF9A\">\n",
    "                <tr><td>Conv</td><td>512</td></tr>\n",
    "                <tr><td>BatchNorm</td><td></td></tr>\n",
    "                <tr><td>Conv</td><td>512 k3*3 p1</td></tr>\n",
    "                <tr><td>BatchNorm</td><td></td></tr>\n",
    "                <tr><td>Conv</td><td>2048</td></tr>\n",
    "                <tr><td>BatchNorm</td><td></td></tr>\n",
    "                <tr><td>ReLU</td><td></td></tr>\n",
    "                </table>\n",
    "                >''', fontname=FONT_NAME)\n",
    "    s.node('block17', '''<\n",
    "                <table border=\"0\" CELLBORDER=\"1\" CELLSPACING=\"0\" bgcolor=\"#E9E1F0\" color=\"#A592C5\">\n",
    "                <tr><td>Conv</td><td>512</td></tr>\n",
    "                <tr><td>BatchNorm</td><td></td></tr>\n",
    "                <tr><td>Conv</td><td>512 k3*3 p1</td></tr>\n",
    "                <tr><td>BatchNorm</td><td></td></tr>\n",
    "                <tr><td>Conv</td><td>2048</td></tr>\n",
    "                <tr><td>BatchNorm</td><td></td></tr>\n",
    "                <tr><td>ReLU</td><td></td></tr>\n",
    "                </table>\n",
    "                >''', fontname=FONT_NAME)\n",
    "\n",
    "    s.edge(\"block15\", \"block16\", color=\"#7D88C7\", label=\"bs*2048*8*8\", fontname=FONT_NAME)\n",
    "    s.edge(\"block16\", \"block17\", color=\"#7D88C7\", label=\"bs*2048*8*8\", fontname=FONT_NAME)\n",
    "\n",
    "graph.edge(\"block14\", \"block15\", label=\"bs*1024*16*16\", color=\"#AC5553\", fontname=FONT_NAME)\n",
    "\n",
    "graph.node(\"block18\", shape=\"box\", color = \"#A25954\", style = \"filled\", fillcolor = \"#F1CFCD\", label = \"AdaptiveAvgPool2d_1*1\", fontname = FONT_NAME)\n",
    "graph.node(\"block19\", shape=\"ellipse\",color=\"grey\",label=\"flatten\", fontname=FONT_NAME)\n",
    "\n",
    "graph.edge(\"block17\", \"block18\", color=\"#AC5553\",label=\"bs*2048*8*8\", fontname=FONT_NAME)\n",
    "graph.edge(\"block18\", \"block19\", color=\"#AC5553\",label=\"bs*2048*1*1\", fontname=FONT_NAME)\n",
    "\n",
    "graph.node(\"block20\", shape=\"box\", color = \"#A25954\", style = \"filled\", fillcolor = \"#F1CFCD\", label = \"Linear\", fontname = FONT_NAME)\n",
    "graph.edge(\"block19\", \"block20\", color=\"#AC5553\",label=\"bs*2048\", fontname=FONT_NAME)\n",
    "graph"
   ],
   "metadata": {
    "collapsed": false,
    "pycharm": {
     "name": "#%%\n",
     "is_executing": false
    }
   }
  }
 ],
 "metadata": {
  "kernelspec": {
   "display_name": "Python 3",
   "language": "python",
   "name": "python3"
  },
  "language_info": {
   "codemirror_mode": {
    "name": "ipython",
    "version": 2
   },
   "file_extension": ".py",
   "mimetype": "text/x-python",
   "name": "python",
   "nbconvert_exporter": "python",
   "pygments_lexer": "ipython2",
   "version": "2.7.6"
  },
  "pycharm": {
   "stem_cell": {
    "cell_type": "raw",
    "source": [],
    "metadata": {
     "collapsed": false
    }
   }
  }
 },
 "nbformat": 4,
 "nbformat_minor": 0
}