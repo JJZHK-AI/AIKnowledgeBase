{
 "cells": [
  {
   "cell_type": "markdown",
   "metadata": {
    "collapsed": true,
    "pycharm": {
     "name": "#%% md\n"
    }
   },
   "source": [
    "NMS(Non-Max Supression)-非极大值抑制\n",
    "==="
   ]
  },
  {
   "cell_type": "markdown",
   "source": [],
   "metadata": {
    "collapsed": false,
    "pycharm": {
     "name": "#%% md\n"
    }
   }
  },
  {
   "cell_type": "markdown",
   "source": [
    "# 1.2.计算NMS"
   ],
   "metadata": {
    "collapsed": false
   }
  },
  {
   "cell_type": "code",
   "execution_count": null,
   "outputs": [],
   "source": [
    "import cv2\n",
    "import matplotlib.pyplot as plt\n",
    "import numpy as np\n",
    "%matplotlib inline\n",
    "FIG_SIZE = (30,20)"
   ],
   "metadata": {
    "collapsed": false,
    "pycharm": {
     "name": "#%%\n"
    }
   }
  },
  {
   "cell_type": "code",
   "execution_count": null,
   "outputs": [],
   "source": [
    "#NMS implementation in Python and Numpy\n",
    "def nms_python(bboxes,psocres,threshold):\n",
    "    '''\n",
    "    NMS: first sort the bboxes by scores , \n",
    "        keep the bbox with highest score as reference,\n",
    "        iterate through all other bboxes, \n",
    "        calculate Intersection Over Union (IOU) between reference bbox and other bbox\n",
    "        if iou is greater than threshold,then discard the bbox and continue.\n",
    "        \n",
    "    Input:\n",
    "        bboxes(numpy array of tuples) : Bounding Box Proposals in the format (x_min,y_min,x_max,y_max).\n",
    "        pscores(numpy array of floats) : confidance scores for each bbox in bboxes.\n",
    "        threshold(float): Overlapping threshold above which proposals will be discarded.\n",
    "        \n",
    "    Output:\n",
    "        filtered_bboxes(numpy array) :selected bboxes for which IOU is less than threshold. \n",
    "    '''\n",
    "    #Unstacking Bounding Box Coordinates\n",
    "    bboxes = bboxes.astype('float')\n",
    "    x_min = bboxes[:,0]\n",
    "    y_min = bboxes[:,1]\n",
    "    x_max = bboxes[:,2]\n",
    "    y_max = bboxes[:,3]\n",
    "    \n",
    "    #Sorting the pscores in descending order and keeping respective indices.\n",
    "    sorted_idx = psocres.argsort()[::-1]\n",
    "    #Calculating areas of all bboxes.Adding 1 to the side values to avoid zero area bboxes.\n",
    "    bbox_areas = (x_max-x_min+1)*(y_max-y_min+1)\n",
    "    \n",
    "    #list to keep filtered bboxes.\n",
    "    filtered = []\n",
    "    while len(sorted_idx) > 0:\n",
    "        #Keeping highest pscore bbox as reference.\n",
    "        rbbox_i = sorted_idx[0]\n",
    "        #Appending the reference bbox index to filtered list.\n",
    "        filtered.append(rbbox_i)\n",
    "        \n",
    "        #Calculating (xmin,ymin,xmax,ymax) coordinates of all bboxes w.r.t to reference bbox\n",
    "        overlap_xmins = np.maximum(x_min[rbbox_i],x_min[sorted_idx[1:]])\n",
    "        overlap_ymins = np.maximum(y_min[rbbox_i],y_min[sorted_idx[1:]])\n",
    "        overlap_xmaxs = np.minimum(x_max[rbbox_i],x_max[sorted_idx[1:]])\n",
    "        overlap_ymaxs = np.minimum(y_max[rbbox_i],y_max[sorted_idx[1:]])\n",
    "        \n",
    "        #Calculating overlap bbox widths,heights and there by areas.\n",
    "        overlap_widths = np.maximum(0,(overlap_xmaxs-overlap_xmins+1))\n",
    "        overlap_heights = np.maximum(0,(overlap_ymaxs-overlap_ymins+1))\n",
    "        overlap_areas = overlap_widths*overlap_heights\n",
    "        \n",
    "        #Calculating IOUs for all bboxes except reference bbox\n",
    "        ious = overlap_areas/(bbox_areas[rbbox_i]+bbox_areas[sorted_idx[1:]]-overlap_areas)\n",
    "        \n",
    "        #select indices for which IOU is greather than threshold\n",
    "        delete_idx = np.where(ious > threshold)[0]+1\n",
    "        delete_idx = np.concatenate(([0],delete_idx))\n",
    "        \n",
    "        #delete the above indices\n",
    "        sorted_idx = np.delete(sorted_idx,delete_idx)\n",
    "        \n",
    "    \n",
    "    #Return filtered bboxes\n",
    "    return bboxes[filtered].astype('int')"
   ],
   "metadata": {
    "collapsed": false,
    "pycharm": {
     "name": "#%%\n"
    }
   }
  },
  {
   "cell_type": "code",
   "execution_count": null,
   "outputs": [],
   "source": [
    "#Reading image and copying for furthur use.\n",
    "sampleimage = cv2.imread(\"Images/03/02/03_02_004.jpg\")\n",
    "sampleimage = cv2.cvtColor(sampleimage,cv2.COLOR_BGR2RGB)\n",
    "sampleimageallbb = sampleimage.copy()\n",
    "sampleimagenmsbb = sampleimage.copy()"
   ],
   "metadata": {
    "collapsed": false,
    "pycharm": {
     "name": "#%%\n"
    }
   }
  },
  {
   "cell_type": "code",
   "execution_count": null,
   "outputs": [],
   "source": [
    "#Sample BBoxes and corresponding scores.\n",
    "bboxes = np.array([(165,127,296,455),(148,142,257,459),(142,137,270,465),(129,122,302,471),\n",
    "                   (327,262,604,465),(349,253,618,456),(369,248,601,470)])\n",
    "pscores = np.array([0.8,0.95,0.81,0.85,0.94,0.83,0.82])\n",
    "#Drawing all rectangular bboxes on original image\n",
    "for bbox in bboxes:\n",
    "    top_left = bbox[0],bbox[1]\n",
    "    bottom_right = bbox[2],bbox[3]\n",
    "    cv2.rectangle(sampleimageallbb,top_left, bottom_right,(255, 0, 0), 2)\n",
    "    \n",
    "#Getting nms filtered bboxes\n",
    "bboxes_after_nms = nms_python(bboxes,pscores,0.3)\n",
    "\n",
    "#Drawing nms filtered rectangular bboxes on original image\n",
    "for bbox in bboxes_after_nms:\n",
    "    top_left = bbox[0],bbox[1]\n",
    "    bottom_right = bbox[2],bbox[3]\n",
    "    cv2.rectangle(sampleimagenmsbb,top_left, bottom_right,(255, 0, 0), 2)\n",
    "    \n",
    "image_list = [sampleimageallbb,sampleimagenmsbb]\n",
    "titles = [\"BBoxes before NMS\",\"BBoxes after NMS\"]\n",
    "    \n",
    "fig, axes = plt.subplots(1, 2,figsize=FIG_SIZE)\n",
    "for axis,(image,title) in zip(axes,zip(image_list,titles)):\n",
    "    axis.imshow(image)\n",
    "    axis.axis('off')\n",
    "    axis.set_title(title)\n",
    "\n"
   ],
   "metadata": {
    "collapsed": false,
    "pycharm": {
     "name": "#%%\n"
    }
   }
  }
 ],
 "metadata": {
  "language_info": {
   "codemirror_mode": {
    "name": "ipython",
    "version": 2
   },
   "file_extension": ".py",
   "mimetype": "text/x-python",
   "name": "python",
   "nbconvert_exporter": "python",
   "pygments_lexer": "ipython2",
   "version": "2.7.6"
  },
  "kernelspec": {
   "name": "python3",
   "language": "python",
   "display_name": "Python 3"
  },
  "pycharm": {
   "stem_cell": {
    "cell_type": "raw",
    "source": [],
    "metadata": {
     "collapsed": false
    }
   }
  }
 },
 "nbformat": 4,
 "nbformat_minor": 0
}