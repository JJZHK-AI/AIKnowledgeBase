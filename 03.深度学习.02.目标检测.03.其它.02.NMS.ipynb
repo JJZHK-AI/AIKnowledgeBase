{
 "cells": [
  {
   "cell_type": "markdown",
   "metadata": {
    "collapsed": true,
    "pycharm": {
     "name": "#%% md\n"
    }
   },
   "source": [
    "NMS(Non-Max Supression)-非极大值抑制\n",
    "==="
   ]
  },
  {
   "cell_type": "markdown",
   "source": [
    "# 1.NMS\n",
    "## 1.1.NMS介绍\n",
    "在目标检测中，常会利用非极大值抑制算法(NMS，non maximum suppression)对生成的大量候选框进行后处理，去除冗余的候选框，得到最佳检测框，以加快目标检测的效率"
   ],
   "metadata": {
    "collapsed": false,
    "pycharm": {
     "name": "#%% md\n"
    }
   }
  },
  {
   "cell_type": "markdown",
   "source": [
    "其本质思想是其思想是搜素局部最大值，抑制非极大值，如下图\n",
    "![image](Images/03/02/03_02_001.jpg)\n",
    "每个选出来的Bounding Box检测框用$x,y,h,w, confidence score，Pdog,Pcat$表示，confidence score表示background和foreground的置信度得分，取值范围$[0,1]$。Pdog,Pcat分布代表类别是狗和猫的概率。如果是100类的目标检测模型，BBox输出向量为5+100=105"
   ],
   "metadata": {
    "collapsed": false,
    "pycharm": {
     "name": "#%% md\n"
    }
   }
  },
  {
   "cell_type": "markdown",
   "source": [
    "## 1.2.NMS算法过程\n",
    "NMS主要就是通过迭代的形式，不断的以最大得分的框去与其他框做IoU操作，并过滤那些IoU较大（即交集较大）的框。\n",
    "![image](Images/03/02/03_02_002.jpg)\n",
    "![image](Images/03/02/03_02_003.jpg)\n",
    "1. 根据候选框的类别分类概率做排序，假如有4个BBox，其置信度A>B>C>D\n",
    "2. 先标记最大概率矩形框A是算法要保留的BBox\n",
    "3. 从最大概率矩形框A开始，分别判断ABC与D的重叠度IOU（两框的交并比）是否大于某个设定的阈值(0.5)，假设D与A的重叠度超过阈值，那么就舍弃D\n",
    "4. 从剩下的矩形框BC中，选择概率最大的B，标记为保留，然后判读C与B的重叠度，扔掉重叠度超过设定阈值的矩形框\n",
    "5. 一直重复进行，标记完所有要保留下来的矩形框\n",
    "\n",
    "- 如果是two stage算法，通常在选出BBox有BBox位置(x,y,h,w)和confidence score，没有类别的概率。因为程序是生成BBox，再将选择的BBox的feature map做rescale(一般用ROI pooling)，然后再用分类器分类。NMS一般只能在CPU计算，这也是two stage相对耗时的原因\n",
    "- 但如果是one stage作法，BBox有位置信息(x,y,h,w)、confidence score，以及类别概率，相对于two stage少了后面的rescale和分类程序，所以计算量相对少。"
   ],
   "metadata": {
    "collapsed": false,
    "pycharm": {
     "name": "#%% md\n"
    }
   }
  },
  {
   "cell_type": "markdown",
   "source": [
    "# 1.3.NMS计算"
   ],
   "metadata": {
    "collapsed": false
   }
  },
  {
   "cell_type": "code",
   "execution_count": null,
   "outputs": [],
   "source": [
    "import cv2\n",
    "import matplotlib.pyplot as plt\n",
    "import numpy as np\n",
    "%matplotlib inline\n",
    "FIG_SIZE = (30,20)"
   ],
   "metadata": {
    "collapsed": false,
    "pycharm": {
     "name": "#%%\n"
    }
   }
  },
  {
   "cell_type": "code",
   "execution_count": null,
   "outputs": [],
   "source": [
    "#NMS implementation in Python and Numpy\n",
    "def nms_python(bboxes,psocres,threshold):\n",
    "    '''\n",
    "    NMS: first sort the bboxes by scores , \n",
    "        keep the bbox with highest score as reference,\n",
    "        iterate through all other bboxes, \n",
    "        calculate Intersection Over Union (IOU) between reference bbox and other bbox\n",
    "        if iou is greater than threshold,then discard the bbox and continue.\n",
    "        \n",
    "    Input:\n",
    "        bboxes(numpy array of tuples) : Bounding Box Proposals in the format (x_min,y_min,x_max,y_max).\n",
    "        pscores(numpy array of floats) : confidance scores for each bbox in bboxes.\n",
    "        threshold(float): Overlapping threshold above which proposals will be discarded.\n",
    "        \n",
    "    Output:\n",
    "        filtered_bboxes(numpy array) :selected bboxes for which IOU is less than threshold. \n",
    "    '''\n",
    "    #Unstacking Bounding Box Coordinates\n",
    "    bboxes = bboxes.astype('float')\n",
    "    x_min = bboxes[:,0]\n",
    "    y_min = bboxes[:,1]\n",
    "    x_max = bboxes[:,2]\n",
    "    y_max = bboxes[:,3]\n",
    "    \n",
    "    #Sorting the pscores in descending order and keeping respective indices.\n",
    "    sorted_idx = psocres.argsort()[::-1]\n",
    "    #Calculating areas of all bboxes.Adding 1 to the side values to avoid zero area bboxes.\n",
    "    bbox_areas = (x_max-x_min+1)*(y_max-y_min+1)\n",
    "    \n",
    "    #list to keep filtered bboxes.\n",
    "    filtered = []\n",
    "    while len(sorted_idx) > 0:\n",
    "        #Keeping highest pscore bbox as reference.\n",
    "        rbbox_i = sorted_idx[0]\n",
    "        #Appending the reference bbox index to filtered list.\n",
    "        filtered.append(rbbox_i)\n",
    "        \n",
    "        #Calculating (xmin,ymin,xmax,ymax) coordinates of all bboxes w.r.t to reference bbox\n",
    "        overlap_xmins = np.maximum(x_min[rbbox_i],x_min[sorted_idx[1:]])\n",
    "        overlap_ymins = np.maximum(y_min[rbbox_i],y_min[sorted_idx[1:]])\n",
    "        overlap_xmaxs = np.minimum(x_max[rbbox_i],x_max[sorted_idx[1:]])\n",
    "        overlap_ymaxs = np.minimum(y_max[rbbox_i],y_max[sorted_idx[1:]])\n",
    "        \n",
    "        #Calculating overlap bbox widths,heights and there by areas.\n",
    "        overlap_widths = np.maximum(0,(overlap_xmaxs-overlap_xmins+1))\n",
    "        overlap_heights = np.maximum(0,(overlap_ymaxs-overlap_ymins+1))\n",
    "        overlap_areas = overlap_widths*overlap_heights\n",
    "        \n",
    "        #Calculating IOUs for all bboxes except reference bbox\n",
    "        ious = overlap_areas/(bbox_areas[rbbox_i]+bbox_areas[sorted_idx[1:]]-overlap_areas)\n",
    "        \n",
    "        #select indices for which IOU is greather than threshold\n",
    "        delete_idx = np.where(ious > threshold)[0]+1\n",
    "        delete_idx = np.concatenate(([0],delete_idx))\n",
    "        \n",
    "        #delete the above indices\n",
    "        sorted_idx = np.delete(sorted_idx,delete_idx)\n",
    "        \n",
    "    \n",
    "    #Return filtered bboxes\n",
    "    return bboxes[filtered].astype('int')"
   ],
   "metadata": {
    "collapsed": false,
    "pycharm": {
     "name": "#%%\n"
    }
   }
  },
  {
   "cell_type": "code",
   "execution_count": null,
   "outputs": [],
   "source": [
    "#Reading image and copying for furthur use.\n",
    "sampleimage = cv2.imread(\"Images/03/02/03_02_004.jpg\")\n",
    "sampleimage = cv2.cvtColor(sampleimage,cv2.COLOR_BGR2RGB)\n",
    "sampleimageallbb = sampleimage.copy()\n",
    "sampleimagenmsbb = sampleimage.copy()"
   ],
   "metadata": {
    "collapsed": false,
    "pycharm": {
     "name": "#%%\n"
    }
   }
  },
  {
   "cell_type": "code",
   "execution_count": null,
   "outputs": [],
   "source": [
    "#Sample BBoxes and corresponding scores.\n",
    "bboxes = np.array([(165,127,296,455),(148,142,257,459),(142,137,270,465),(129,122,302,471),\n",
    "                   (327,262,604,465),(349,253,618,456),(369,248,601,470)])\n",
    "pscores = np.array([0.8,0.95,0.81,0.85,0.94,0.83,0.82])\n",
    "#Drawing all rectangular bboxes on original image\n",
    "for bbox in bboxes:\n",
    "    top_left = bbox[0],bbox[1]\n",
    "    bottom_right = bbox[2],bbox[3]\n",
    "    cv2.rectangle(sampleimageallbb,top_left, bottom_right,(255, 0, 0), 2)\n",
    "#Getting nms filtered bboxes\n",
    "bboxes_after_nms = nms_python(bboxes,pscores,0.3)\n",
    "\n",
    "#Drawing nms filtered rectangular bboxes on original image\n",
    "for bbox in bboxes_after_nms:\n",
    "    top_left = bbox[0],bbox[1]\n",
    "    bottom_right = bbox[2],bbox[3]\n",
    "    cv2.rectangle(sampleimagenmsbb,top_left, bottom_right,(255, 0, 0), 2)\n",
    "    \n",
    "image_list = [sampleimageallbb,sampleimagenmsbb]\n",
    "titles = [\"BBoxes before NMS\",\"BBoxes after NMS\"]\n",
    "    \n",
    "fig, axes = plt.subplots(1, 2,figsize=FIG_SIZE)\n",
    "for axis,(image,title) in zip(axes,zip(image_list,titles)):\n",
    "    axis.imshow(image)\n",
    "    axis.axis('off')\n",
    "    axis.set_title(title)"
   ],
   "metadata": {
    "collapsed": false,
    "pycharm": {
     "name": "#%%\n"
    }
   }
  },
  {
   "cell_type": "markdown",
   "source": [
    "## 1.4.缺点分析\n",
    "1. NMS算法中的最大问题就是它将相邻检测框的分数均强制归零(既将重叠部分大于重叠阈值Nt的检测框移除)。在这种情况下，如果一个真实物体在重叠区域出现，则将导致对该物体的检测失败并降低了算法的平均检测率(average precision, AP)。\n",
    "2. NMS的阈值也不太容易确定，设置过小会出现误删，设置过高又容易增大误检\n",
    "3. NMS一般只能使用CPU计算，无法使用GPU计算"
   ],
   "metadata": {
    "collapsed": false,
    "pycharm": {
     "name": "#%% md\n"
    }
   }
  },
  {
   "cell_type": "markdown",
   "source": [
    "# 2.Soft-NMS\n"
   ],
   "metadata": {
    "collapsed": false,
    "pycharm": {
     "name": "#%% md\n"
    }
   }
  }
 ],
 "metadata": {
  "language_info": {
   "codemirror_mode": {
    "name": "ipython",
    "version": 2
   },
   "file_extension": ".py",
   "mimetype": "text/x-python",
   "name": "python",
   "nbconvert_exporter": "python",
   "pygments_lexer": "ipython2",
   "version": "2.7.6"
  },
  "kernelspec": {
   "name": "python3",
   "language": "python",
   "display_name": "Python 3"
  },
  "pycharm": {
   "stem_cell": {
    "cell_type": "raw",
    "source": [],
    "metadata": {
     "collapsed": false
    }
   }
  }
 },
 "nbformat": 4,
 "nbformat_minor": 0
}