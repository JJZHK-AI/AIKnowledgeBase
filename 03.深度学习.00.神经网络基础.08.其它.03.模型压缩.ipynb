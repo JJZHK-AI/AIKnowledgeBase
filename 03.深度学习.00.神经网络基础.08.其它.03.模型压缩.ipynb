{
 "nbformat": 4,
 "nbformat_minor": 2,
 "metadata": {
  "language_info": {
   "name": "python",
   "codemirror_mode": {
    "name": "ipython",
    "version": 3
   }
  },
  "orig_nbformat": 2,
  "file_extension": ".py",
  "mimetype": "text/x-python",
  "name": "python",
  "npconvert_exporter": "python",
  "pygments_lexer": "ipython3",
  "version": 3
 },
 "cells": [
  {
   "cell_type": "markdown",
   "execution_count": null,
   "metadata": {},
   "outputs": [],
   "source": [
    "模型压缩\n",
    "==="
   ]
  },
  {
   "cell_type": "markdown",
   "execution_count": null,
   "metadata": {},
   "outputs": [],
   "source": [
    "# 1.为什么要做模型压缩？"
   ]
  },
  {
   "cell_type": "markdown",
   "execution_count": null,
   "metadata": {},
   "outputs": [],
   "source": [
    "1. 从应用场景方面落地，随着任务的复杂性，深度学习网络模型越来越深，上亿的参数量所需的计算资源限制了深度学习在移动端等终端的应用\n",
    "2. 从深度和宽度两个方面急剧膨胀的深度学习网络模型需要瘦身，其内部存在大量的冗余参数\n",
    "3. 从功耗以及成本方面考虑，GPU的成本和功耗问题是不可忽略的，尤其是车载、无人机、移动手机等应用场景，面临着在终端部署和低延迟需求场景下难以应用的问题"
   ]
  },
  {
   "cell_type": "markdown",
   "execution_count": null,
   "metadata": {},
   "outputs": [],
   "source": []
  }
 ]
}