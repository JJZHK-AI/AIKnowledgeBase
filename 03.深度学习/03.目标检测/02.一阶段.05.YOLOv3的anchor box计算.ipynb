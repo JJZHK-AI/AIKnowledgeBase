{
 "cells": [
  {
   "cell_type": "markdown",
   "metadata": {},
   "source": [
    "计算YOLOV3的Anchor Box\n",
    "==="
   ]
  },
  {
   "cell_type": "code",
   "execution_count": 5,
   "metadata": {},
   "outputs": [],
   "source": [
    "import os\n",
    "import sys\n",
    "import numpy as np\n",
    "from tqdm import tqdm"
   ]
  },
  {
   "cell_type": "code",
   "execution_count": 2,
   "metadata": {},
   "outputs": [],
   "source": [
    "def iou(box, clusters):\n",
    "    \"\"\"\n",
    "    Calculates the Intersection over Union (IoU) between a box and k clusters.\n",
    "    :param box: tuple or array, shifted to the origin (i. e. width and height)\n",
    "    :param clusters: numpy array of shape (k, 2) where k is the number of clusters\n",
    "    :return: numpy array of shape (k, 0) where k is the number of clusters\n",
    "    \"\"\"\n",
    "    x = np.minimum(clusters[:, 0], box[0])\n",
    "    y = np.minimum(clusters[:, 1], box[1])\n",
    "    if np.count_nonzero(x == 0) > 0 or np.count_nonzero(y == 0) > 0:\n",
    "        raise ValueError(\"Box has no area\")\n",
    "\n",
    "    intersection = x * y\n",
    "    box_area = box[0] * box[1]\n",
    "    cluster_area = clusters[:, 0] * clusters[:, 1]\n",
    "\n",
    "    iou_ = intersection / (box_area + cluster_area - intersection)\n",
    "\n",
    "    return iou_"
   ]
  },
  {
   "cell_type": "code",
   "execution_count": 3,
   "metadata": {},
   "outputs": [],
   "source": [
    "def avg_iou(boxes, clusters):\n",
    "    \"\"\"\n",
    "    Calculates the average Intersection over Union (IoU) between a numpy array of boxes and k clusters.\n",
    "    :param boxes: numpy array of shape (r, 2), where r is the number of rows\n",
    "    :param clusters: numpy array of shape (k, 2) where k is the number of clusters\n",
    "    :return: average IoU as a single float\n",
    "    \"\"\"\n",
    "    return np.mean([np.max(iou(boxes[i], clusters)) for i in range(boxes.shape[0])])\n",
    "\n",
    "\n",
    "def translate_boxes(boxes):\n",
    "    \"\"\"\n",
    "    Translates all the boxes to the origin.\n",
    "    :param boxes: numpy array of shape (r, 4)\n",
    "    :return: numpy array of shape (r, 2)\n",
    "    \"\"\"\n",
    "    new_boxes = boxes.copy()\n",
    "    for row in range(new_boxes.shape[0]):\n",
    "        new_boxes[row][2] = np.abs(new_boxes[row][2] - new_boxes[row][0])\n",
    "        new_boxes[row][3] = np.abs(new_boxes[row][3] - new_boxes[row][1])\n",
    "    return np.delete(new_boxes, [0, 1], axis=1)"
   ]
  },
  {
   "cell_type": "code",
   "execution_count": 4,
   "metadata": {},
   "outputs": [],
   "source": [
    "def kmeans(boxes, k, dist=np.median):\n",
    "    \"\"\"\n",
    "    Calculates k-means clustering with the Intersection over Union (IoU) metric.\n",
    "    :param boxes: numpy array of shape (r, 2), where r is the number of rows\n",
    "    :param k: number of clusters\n",
    "    :param dist: distance function\n",
    "    :return: numpy array of shape (k, 2)\n",
    "    \"\"\"\n",
    "    rows = boxes.shape[0]\n",
    "\n",
    "    distances = np.empty((rows, k))\n",
    "    last_clusters = np.zeros((rows,))\n",
    "\n",
    "    np.random.seed()\n",
    "\n",
    "    # the Forgy method will fail if the whole array contains the same rows\n",
    "    clusters = boxes[np.random.choice(rows, k, replace=False)]\n",
    "\n",
    "    while True:\n",
    "        for row in range(rows):\n",
    "            distances[row] = 1 - iou(boxes[row], clusters)\n",
    "\n",
    "        nearest_clusters = np.argmin(distances, axis=1)\n",
    "\n",
    "        if (last_clusters == nearest_clusters).all():\n",
    "            break\n",
    "\n",
    "        for cluster in range(k):\n",
    "            clusters[cluster] = dist(boxes[nearest_clusters == cluster], axis=0)\n",
    "\n",
    "        last_clusters = nearest_clusters\n",
    "\n",
    "    return clusters"
   ]
  },
  {
   "cell_type": "markdown",
   "metadata": {},
   "source": [
    "# 2.计算VOC数据集的Anchor box"
   ]
  },
  {
   "cell_type": "code",
   "execution_count": 6,
   "metadata": {},
   "outputs": [],
   "source": [
    "# 需要加载yolo训练数据和lable\n",
    "def load_dataset(path):\n",
    "    jpegimages = os.path.join(path, 'JPEGImages')\n",
    "    if not os.path.exists(jpegimages):\n",
    "        print('no JPEGImages folders, program abort')\n",
    "        sys.exit(0)\n",
    "    labels_txt = os.path.join(path, 'labels')\n",
    "    if not os.path.exists(labels_txt):\n",
    "        print('no labels folders, program abort')\n",
    "        sys.exit(0)\n",
    " \n",
    "    label_file = os.listdir(labels_txt)\n",
    "    print('label count: {}'.format(len(label_file)))\n",
    "    dataset = []\n",
    " \n",
    "    for label in tqdm(label_file):\n",
    "        with open(os.path.join(labels_txt, label), 'r') as f:\n",
    "            txt_content = f.readlines()\n",
    " \n",
    "        for line in txt_content:\n",
    "            line_split = line.split(' ')\n",
    "            roi_with = float(line_split[len(line_split)-2])\n",
    "            roi_height = float(line_split[len(line_split)-1])\n",
    "            if roi_with == 0 or roi_height == 0:\n",
    "                continue\n",
    "            dataset.append([roi_with, roi_height])\n",
    "            # print([roi_with, roi_height])\n",
    " \n",
    "    return np.array(dataset)"
   ]
  },
  {
   "cell_type": "code",
   "execution_count": 7,
   "metadata": {
    "tags": []
   },
   "outputs": [
    {
     "output_type": "stream",
     "name": "stderr",
     "text": "18%|█▊        | 3877/21503 [00:00<00:00, 19159.99it/s]label count: 21503\n100%|██████████| 21503/21503 [00:01<00:00, 18776.71it/s]\nloading data done.\n[[0.074      0.20266667]\n [0.32       0.288     ]\n [0.152      0.14114114]\n [0.412      0.72533333]\n [0.65994236 0.46133333]\n [0.054      0.088     ]\n [0.136      0.336     ]\n [0.84224828 0.86133333]\n [0.232      0.536     ]]\nAccuracy: 69.17%\nBoxes:\n [ 30.784      133.12        63.232      171.392      274.53602305\n  22.464       56.576      350.37528604  96.512     ]-[ 84.30933333 119.808       58.71471471 301.73866667 191.91466667\n  36.608      139.776      358.31466667 222.976     ]\nRatios:\n [0.37, 0.4, 0.43, 0.57, 0.61, 0.98, 1.08, 1.11, 1.43]\n"
    }
   ],
   "source": [
    "# 根文件夹\n",
    "ROOT_PATH = '/Users/JJZHK/data/input/VOC/'\n",
    "# 聚类的数目\n",
    "CLUSTERS = 9\n",
    "# 模型中图像的输入尺寸，默认是一样的\n",
    "SIZE = 416\n",
    "\n",
    "data = load_dataset(ROOT_PATH)\n",
    "print(\"loading data done.\")\n",
    "out = kmeans(data, k=CLUSTERS)   #对训练样本聚类\n",
    "# clusters = [[10,13],[16,30],[33,23],[30,61],[62,45],[59,119],[116,90],[156,198],[373,326]]\n",
    "# out= np.array(clusters)/416.0\n",
    "\n",
    "print(out)\n",
    "print(\"Accuracy: {:.2f}%\".format(avg_iou(data, out) * 100))\n",
    "print(\"Boxes:\\n {}-{}\".format(out[:, 0] * SIZE, out[:, 1] * SIZE))\n",
    " \n",
    "ratios = np.around(out[:, 0] / out[:, 1], decimals=2).tolist()\n",
    "print(\"Ratios:\\n {}\".format(sorted(ratios)))\n",
    "#\n",
    "# tensor([[ 3.6250,  2.8125],\n",
    "#         [ 4.8750,  6.1875],\n",
    "#         [11.6562, 10.1875]])\n",
    "#\n",
    "# 10,13,  16,30,  33,23,  30,61,    62,45,  59,119,  116,90,  156,198,  373,326\n",
    "# 21,37   58,150  30,90   111,105   57,54   245,176  106,224  182,310   353,350"
   ]
  },
  {
   "cell_type": "markdown",
   "metadata": {},
   "source": [
    "# 3.计算COCO数据集的Anchor Box"
   ]
  },
  {
   "cell_type": "code",
   "execution_count": null,
   "metadata": {},
   "outputs": [],
   "source": [
    "ROOT_PATH = '/Users/JJZHK/data/input/COCO/'\n",
    "# 聚类的数目\n",
    "CLUSTERS = 9\n",
    "# 模型中图像的输入尺寸，默认是一样的\n",
    "SIZE = 416\n",
    "\n",
    "zip = zipfile.ZipFile(os.path.join(ROOT_PATH, \"train2017.zip\"))\n",
    "\n",
    "annFile = os.path.join(ROOT_PATH, \"annotations\", \"instances_train2017.json\")\n",
    "print(annFile)\n",
    "coco = COCO(annFile)\n",
    "class_ids = sorted(coco.getCatIds()) # all classes\n",
    "\n",
    "lines = []\n",
    "dataset = []\n",
    "for id in class_ids:\n",
    "    print(\"id:%d\" % id)\n",
    "    image_id_list = list(coco.getImgIds(catIds=[id]))\n",
    "    for image_id in tqdm(image_id_list):\n",
    "        info = coco.imgs[image_id]\n",
    "        width = info[\"width\"]\n",
    "        height = info['height']\n",
    "        annIds = coco.getAnnIds(imgIds=image_id, iscrowd=None)\n",
    "        ann_info = coco.loadAnns(annIds)\n",
    "        for ann in ann_info:\n",
    "            bbox = ann[\"bbox\"]\n",
    "            roi_width = float(bbox[2] / width)\n",
    "            roi_height = float(bbox[3] / height)\n",
    "            if roi_width == 0 or roi_height == 0:\n",
    "                continue\n",
    "            dataset.append([roi_width, roi_height])\n",
    "\n",
    "data = np.array(dataset)\n",
    "print(\"loading data done.\")\n",
    "out = kmeans(data, k=CLUSTERS)  # 对训练样本聚类\n",
    "\n",
    "print(out)\n",
    "print(\"Accuracy: {:.2f}%\".format(avg_iou(data, out) * 100))\n",
    "print(\"Boxes:\\n {}-{}\".format(out[:, 0] * SIZE, out[:, 1] * SIZE))\n",
    "\n",
    "ratios = np.around(out[:, 0] / out[:, 1], decimals=2).tolist()\n",
    "print(\"Ratios:\\n {}\".format(sorted(ratios)))"
   ]
  }
 ],
 "metadata": {
  "language_info": {
   "codemirror_mode": {
    "name": "ipython",
    "version": 3
   },
   "file_extension": ".py",
   "mimetype": "text/x-python",
   "name": "python",
   "nbconvert_exporter": "python",
   "pygments_lexer": "ipython3",
   "version": 3
  },
  "orig_nbformat": 2,
  "kernelspec": {
   "name": "python_defaultSpec_1594801434195",
   "display_name": "Python 3.6.10 64-bit ('anaconda3': virtualenv)"
  }
 },
 "nbformat": 4,
 "nbformat_minor": 2
}