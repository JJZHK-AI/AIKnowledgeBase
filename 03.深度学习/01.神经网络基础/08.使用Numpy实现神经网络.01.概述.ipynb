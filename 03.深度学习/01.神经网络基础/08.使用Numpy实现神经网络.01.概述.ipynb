{
 "nbformat": 4,
 "nbformat_minor": 2,
 "metadata": {
  "language_info": {
   "name": "python",
   "codemirror_mode": {
    "name": "ipython",
    "version": 3
   },
   "version": "3.7.4-final"
  },
  "orig_nbformat": 2,
  "file_extension": ".py",
  "mimetype": "text/x-python",
  "name": "python",
  "npconvert_exporter": "python",
  "pygments_lexer": "ipython3",
  "version": 3,
  "kernelspec": {
   "name": "python36964bitanaconda3virtualenv5d618e8c7b894374a565943176146b80",
   "display_name": "Python 3.6.9 64-bit ('anaconda3': virtualenv)"
  }
 },
 "cells": [
  {
   "cell_type": "markdown",
   "metadata": {},
   "source": [
    "使用纯Numpy实现神经网络之卷积层\n",
    "==="
   ]
  },
  {
   "cell_type": "code",
   "execution_count": 1,
   "metadata": {},
   "outputs": [],
   "source": [
    "import numpy as np\n",
    "import math"
   ]
  },
  {
   "cell_type": "markdown",
   "metadata": {},
   "source": [
    "# 1.初始化"
   ]
  },
  {
   "cell_type": "markdown",
   "metadata": {},
   "source": [
    "- 输入数据的$shape=[N,W,H,C]$,$N=Batchsize, W=width, H=height, C=channels$\n",
    "- 卷积核的尺寸$ksize$,个数output_channels, kernel $shape=[outputChannels,k,k,C]$\n",
    "- 卷积的步长，基本默认为1.\n",
    "- 卷积的方法，VALID or SAME，即是否通过padding保持输出图像与输入图像的大小不变\n"
   ]
  },
  {
   "cell_type": "code",
   "execution_count": null,
   "metadata": {},
   "outputs": [],
   "source": [
    "class Conv2D(object):\n",
    "    def __init__(self, shape, output_channels, ksize=3, stride=1, method='VALID'):\n",
    "        self.input_shape = shape # 输入图片的尺寸\n",
    "        self.output_channels = output_channels # 输出特征图的channels\n",
    "        self.input_channels = shape[-1] # 输入图片的channels\n",
    "        self.batchsize = shape[0] # 输入数据的batch size\n",
    "        self.stride = stride\n",
    "        self.ksize = ksize\n",
    "        self.method = method\n",
    "        weights_scale = math.sqrt(ksize*ksize*self.input_channels/2)\n",
    "        self.weights = np.random.standard_normal((ksize, ksize, self.input_channels, self.output_channels)) / weights_scale # 权重\n",
    "        self.bias = np.random.standard_normal(self.output_channels) / weights_scale # 偏置\n",
    "        # 下面的部分是backward中要用到的\n",
    "        if method == 'VALID':\n",
    "            self.eta = np.zeros((shape[0], (shape[1] - ksize ) / self.stride + 1, (shape[1] - ksize ) / self.stride+1,\n",
    "            self.output_channels))\n",
    "\n",
    "        if method == 'SAME':\n",
    "            self.eta = np.zeros((shape[0], shape[1]/self.stride, shape[2]/self.stride,self.output_channels))\n",
    "\n",
    "        self.w_gradient = np.zeros(self.weights.shape)\n",
    "        self.b_gradient = np.zeros(self.bias.shape)\n",
    "        self.output_shape = self.eta.shape"
   ]
  },
  {
   "cell_type": "markdown",
   "metadata": {},
   "source": [
    "将权重和偏置除以weights_scale，可以更好的初始化，也就是MSRA方法"
   ]
  },
  {
   "cell_type": "markdown",
   "metadata": {},
   "source": [
    "# 2.前向传播-forward"
   ]
  },
  {
   "cell_type": "code",
   "execution_count": null,
   "metadata": {},
   "outputs": [],
   "source": []
  },
  {
   "cell_type": "code",
   "execution_count": null,
   "metadata": {},
   "outputs": [],
   "source": []
  },
  {
   "cell_type": "code",
   "execution_count": null,
   "metadata": {},
   "outputs": [],
   "source": []
  },
  {
   "cell_type": "code",
   "execution_count": null,
   "metadata": {},
   "outputs": [],
   "source": []
  },
  {
   "cell_type": "code",
   "execution_count": null,
   "metadata": {},
   "outputs": [],
   "source": []
  },
  {
   "cell_type": "code",
   "execution_count": null,
   "metadata": {},
   "outputs": [],
   "source": []
  },
  {
   "cell_type": "code",
   "execution_count": null,
   "metadata": {},
   "outputs": [],
   "source": []
  },
  {
   "cell_type": "code",
   "execution_count": null,
   "metadata": {},
   "outputs": [],
   "source": []
  },
  {
   "cell_type": "code",
   "execution_count": null,
   "metadata": {},
   "outputs": [],
   "source": []
  }
 ]
}