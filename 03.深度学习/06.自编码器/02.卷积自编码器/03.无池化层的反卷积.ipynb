{
 "cells": [
  {
   "cell_type": "markdown",
   "metadata": {},
   "source": [
    "使用反卷积层(无池化操作)的卷积自编码器生成MNIST数据集\n",
    "==="
   ]
  },
  {
   "cell_type": "code",
   "execution_count": 1,
   "metadata": {},
   "outputs": [],
   "source": [
    "import time\n",
    "import numpy as np\n",
    "import torch\n",
    "import torch.nn.functional as F\n",
    "from torch.utils.data import DataLoader\n",
    "from torchvision import datasets\n",
    "from torchvision import transforms\n",
    "\n",
    "if torch.cuda.is_available():\n",
    "    torch.backends.cudnn.deterministic = True"
   ]
  },
  {
   "cell_type": "markdown",
   "metadata": {},
   "source": [
    "# 1.全局设置"
   ]
  },
  {
   "cell_type": "code",
   "execution_count": 2,
   "metadata": {},
   "outputs": [
    {
     "name": "stdout",
     "output_type": "stream",
     "text": [
      "Device: cuda:0\n"
     ]
    }
   ],
   "source": [
    "# Device\n",
    "device = torch.device(\"cuda:0\" if torch.cuda.is_available() else \"cpu\")\n",
    "print('Device:', device)\n",
    "\n",
    "# Hyperparameters\n",
    "random_seed = 456\n",
    "learning_rate = 0.005\n",
    "num_epochs = 10\n",
    "batch_size = 128"
   ]
  },
  {
   "cell_type": "markdown",
   "metadata": {},
   "source": [
    "# 2.引入数据"
   ]
  },
  {
   "cell_type": "code",
   "execution_count": 3,
   "metadata": {},
   "outputs": [],
   "source": [
    "train_dataset = datasets.MNIST(root='/input/MNIST/', \n",
    "                               train=True, \n",
    "                               transform=transforms.ToTensor(),\n",
    "                               download=True)\n",
    "\n",
    "test_dataset = datasets.MNIST(root='/input/MNIST/', \n",
    "                              train=False, \n",
    "                              transform=transforms.ToTensor())\n",
    "\n",
    "train_loader = DataLoader(dataset=train_dataset, \n",
    "                          batch_size=batch_size, \n",
    "                          shuffle=True)\n",
    "\n",
    "test_loader = DataLoader(dataset=test_dataset, \n",
    "                         batch_size=batch_size, \n",
    "                         shuffle=False)"
   ]
  },
  {
   "cell_type": "markdown",
   "metadata": {},
   "source": [
    "# 3.模型"
   ]
  },
  {
   "cell_type": "code",
   "execution_count": 4,
   "metadata": {},
   "outputs": [],
   "source": [
    "class ConvolutionalAutoencoder(torch.nn.Module):\n",
    "\n",
    "    def __init__(self):\n",
    "        super(ConvolutionalAutoencoder, self).__init__()\n",
    "        \n",
    "        # calculate same padding:\n",
    "        # (w - k + 2*p)/s + 1 = o\n",
    "        # => p = (s(o-1) - w + k)/2\n",
    "        \n",
    "        ### ENCODER\n",
    "        \n",
    "        # 28x28x1 => 14x14x4  \n",
    "        self.conv_1 = torch.nn.Conv2d(in_channels=1,\n",
    "                                      out_channels=4,\n",
    "                                      kernel_size=(3, 3),\n",
    "                                      stride=(2, 2),\n",
    "                                      # floor((2(14-1) - 28 + 3) / 2) = 0\n",
    "                                      padding=0)\n",
    "        \n",
    "        # 14x14x4 => 7x7x8\n",
    "        self.conv_2 = torch.nn.Conv2d(in_channels=4,\n",
    "                                      out_channels=8,\n",
    "                                      kernel_size=(3, 3),\n",
    "                                      stride=(2, 2),\n",
    "                                      # ceil((2(7-1) - 14 + 3) / 2) = 1\n",
    "                                      padding=1)                 \n",
    "        \n",
    "        ### DECODER\n",
    "                                         \n",
    "        # 7x7x8 => 15x15x4                          \n",
    "        self.deconv_1 = torch.nn.ConvTranspose2d(in_channels=8,\n",
    "                                                 out_channels=4,\n",
    "                                                 kernel_size=(3, 3),\n",
    "                                                 stride=(2, 2),\n",
    "                                                 padding=0)\n",
    "        \n",
    "        # 15x15x4  => 29x29x1                           \n",
    "        self.deconv_2 = torch.nn.ConvTranspose2d(in_channels=4,\n",
    "                                                 out_channels=1,\n",
    "                                                 kernel_size=(3, 3),\n",
    "                                                 stride=(2, 2),\n",
    "                                                 padding=1)\n",
    "        \n",
    "    def forward(self, x):\n",
    "        \n",
    "        ### ENCODER\n",
    "        x = self.conv_1(x)\n",
    "        x = F.leaky_relu(x)\n",
    "        x = self.conv_2(x)\n",
    "        x = F.leaky_relu(x)\n",
    "          \n",
    "        ### DECODER\n",
    "        x = self.deconv_1(x)  \n",
    "        x = F.leaky_relu(x)\n",
    "        x = self.deconv_2(x)\n",
    "        x = F.leaky_relu(x)\n",
    "        x = x[:, :, :-1, :-1]\n",
    "        x = torch.sigmoid(x)\n",
    "        return x\n",
    "\n",
    "torch.manual_seed(random_seed)\n",
    "model = ConvolutionalAutoencoder()\n",
    "model = model.to(device)\n",
    "\n",
    "optimizer = torch.optim.Adam(model.parameters(), lr=learning_rate)  "
   ]
  },
  {
   "cell_type": "markdown",
   "metadata": {},
   "source": [
    "# 4.训练"
   ]
  },
  {
   "cell_type": "code",
   "execution_count": 6,
   "metadata": {
    "scrolled": false
   },
   "outputs": [
    {
     "name": "stdout",
     "output_type": "stream",
     "text": [
      "Epoch: 001/010 | Batch 000/469 | Cost: 0.1384\n",
      "Epoch: 001/010 | Batch 050/469 | Cost: 0.1396\n",
      "Epoch: 001/010 | Batch 100/469 | Cost: 0.1325\n",
      "Epoch: 001/010 | Batch 150/469 | Cost: 0.1306\n",
      "Epoch: 001/010 | Batch 200/469 | Cost: 0.1284\n",
      "Epoch: 001/010 | Batch 250/469 | Cost: 0.1256\n",
      "Epoch: 001/010 | Batch 300/469 | Cost: 0.1235\n",
      "Epoch: 001/010 | Batch 350/469 | Cost: 0.1256\n",
      "Epoch: 001/010 | Batch 400/469 | Cost: 0.1251\n",
      "Epoch: 001/010 | Batch 450/469 | Cost: 0.1195\n",
      "Time elapsed: 0.21 min\n",
      "Epoch: 002/010 | Batch 000/469 | Cost: 0.1189\n",
      "Epoch: 002/010 | Batch 050/469 | Cost: 0.1209\n",
      "Epoch: 002/010 | Batch 100/469 | Cost: 0.1197\n",
      "Epoch: 002/010 | Batch 150/469 | Cost: 0.1147\n",
      "Epoch: 002/010 | Batch 200/469 | Cost: 0.1152\n",
      "Epoch: 002/010 | Batch 250/469 | Cost: 0.1142\n",
      "Epoch: 002/010 | Batch 300/469 | Cost: 0.1146\n",
      "Epoch: 002/010 | Batch 350/469 | Cost: 0.1182\n",
      "Epoch: 002/010 | Batch 400/469 | Cost: 0.1150\n",
      "Epoch: 002/010 | Batch 450/469 | Cost: 0.1099\n",
      "Time elapsed: 0.42 min\n",
      "Epoch: 003/010 | Batch 000/469 | Cost: 0.1165\n",
      "Epoch: 003/010 | Batch 050/469 | Cost: 0.1159\n",
      "Epoch: 003/010 | Batch 100/469 | Cost: 0.1092\n",
      "Epoch: 003/010 | Batch 150/469 | Cost: 0.1112\n",
      "Epoch: 003/010 | Batch 200/469 | Cost: 0.1147\n",
      "Epoch: 003/010 | Batch 250/469 | Cost: 0.1148\n",
      "Epoch: 003/010 | Batch 300/469 | Cost: 0.1136\n",
      "Epoch: 003/010 | Batch 350/469 | Cost: 0.1141\n",
      "Epoch: 003/010 | Batch 400/469 | Cost: 0.1098\n",
      "Epoch: 003/010 | Batch 450/469 | Cost: 0.1160\n",
      "Time elapsed: 0.62 min\n",
      "Epoch: 004/010 | Batch 000/469 | Cost: 0.1103\n",
      "Epoch: 004/010 | Batch 050/469 | Cost: 0.1097\n",
      "Epoch: 004/010 | Batch 100/469 | Cost: 0.1102\n",
      "Epoch: 004/010 | Batch 150/469 | Cost: 0.1116\n",
      "Epoch: 004/010 | Batch 200/469 | Cost: 0.1120\n",
      "Epoch: 004/010 | Batch 250/469 | Cost: 0.1110\n",
      "Epoch: 004/010 | Batch 300/469 | Cost: 0.1137\n",
      "Epoch: 004/010 | Batch 350/469 | Cost: 0.1110\n",
      "Epoch: 004/010 | Batch 400/469 | Cost: 0.1087\n",
      "Epoch: 004/010 | Batch 450/469 | Cost: 0.1150\n",
      "Time elapsed: 0.83 min\n",
      "Epoch: 005/010 | Batch 000/469 | Cost: 0.1111\n",
      "Epoch: 005/010 | Batch 050/469 | Cost: 0.1038\n",
      "Epoch: 005/010 | Batch 100/469 | Cost: 0.1088\n",
      "Epoch: 005/010 | Batch 150/469 | Cost: 0.1112\n",
      "Epoch: 005/010 | Batch 200/469 | Cost: 0.1080\n",
      "Epoch: 005/010 | Batch 250/469 | Cost: 0.1091\n",
      "Epoch: 005/010 | Batch 300/469 | Cost: 0.1073\n",
      "Epoch: 005/010 | Batch 350/469 | Cost: 0.1089\n",
      "Epoch: 005/010 | Batch 400/469 | Cost: 0.1058\n",
      "Epoch: 005/010 | Batch 450/469 | Cost: 0.1121\n",
      "Time elapsed: 1.03 min\n",
      "Epoch: 006/010 | Batch 000/469 | Cost: 0.1064\n",
      "Epoch: 006/010 | Batch 050/469 | Cost: 0.1049\n",
      "Epoch: 006/010 | Batch 100/469 | Cost: 0.1067\n",
      "Epoch: 006/010 | Batch 150/469 | Cost: 0.1061\n",
      "Epoch: 006/010 | Batch 200/469 | Cost: 0.1078\n",
      "Epoch: 006/010 | Batch 250/469 | Cost: 0.1010\n",
      "Epoch: 006/010 | Batch 300/469 | Cost: 0.1028\n",
      "Epoch: 006/010 | Batch 350/469 | Cost: 0.1076\n",
      "Epoch: 006/010 | Batch 400/469 | Cost: 0.1061\n",
      "Epoch: 006/010 | Batch 450/469 | Cost: 0.1049\n",
      "Time elapsed: 1.24 min\n",
      "Epoch: 007/010 | Batch 000/469 | Cost: 0.1087\n",
      "Epoch: 007/010 | Batch 050/469 | Cost: 0.1069\n",
      "Epoch: 007/010 | Batch 100/469 | Cost: 0.1079\n",
      "Epoch: 007/010 | Batch 150/469 | Cost: 0.1028\n",
      "Epoch: 007/010 | Batch 200/469 | Cost: 0.1044\n",
      "Epoch: 007/010 | Batch 250/469 | Cost: 0.1024\n",
      "Epoch: 007/010 | Batch 300/469 | Cost: 0.1015\n",
      "Epoch: 007/010 | Batch 350/469 | Cost: 0.1013\n",
      "Epoch: 007/010 | Batch 400/469 | Cost: 0.1052\n",
      "Epoch: 007/010 | Batch 450/469 | Cost: 0.1024\n",
      "Time elapsed: 1.44 min\n",
      "Epoch: 008/010 | Batch 000/469 | Cost: 0.1059\n",
      "Epoch: 008/010 | Batch 050/469 | Cost: 0.1008\n",
      "Epoch: 008/010 | Batch 100/469 | Cost: 0.1059\n",
      "Epoch: 008/010 | Batch 150/469 | Cost: 0.1046\n",
      "Epoch: 008/010 | Batch 200/469 | Cost: 0.1038\n",
      "Epoch: 008/010 | Batch 250/469 | Cost: 0.1039\n",
      "Epoch: 008/010 | Batch 300/469 | Cost: 0.0989\n",
      "Epoch: 008/010 | Batch 350/469 | Cost: 0.1043\n",
      "Epoch: 008/010 | Batch 400/469 | Cost: 0.1048\n",
      "Epoch: 008/010 | Batch 450/469 | Cost: 0.1047\n",
      "Time elapsed: 1.64 min\n",
      "Epoch: 009/010 | Batch 000/469 | Cost: 0.1054\n",
      "Epoch: 009/010 | Batch 050/469 | Cost: 0.1027\n",
      "Epoch: 009/010 | Batch 100/469 | Cost: 0.1027\n",
      "Epoch: 009/010 | Batch 150/469 | Cost: 0.1005\n",
      "Epoch: 009/010 | Batch 200/469 | Cost: 0.1035\n",
      "Epoch: 009/010 | Batch 250/469 | Cost: 0.1006\n",
      "Epoch: 009/010 | Batch 300/469 | Cost: 0.1039\n",
      "Epoch: 009/010 | Batch 350/469 | Cost: 0.0974\n",
      "Epoch: 009/010 | Batch 400/469 | Cost: 0.1034\n",
      "Epoch: 009/010 | Batch 450/469 | Cost: 0.1026\n",
      "Time elapsed: 1.84 min\n",
      "Epoch: 010/010 | Batch 000/469 | Cost: 0.0994\n",
      "Epoch: 010/010 | Batch 050/469 | Cost: 0.1006\n",
      "Epoch: 010/010 | Batch 100/469 | Cost: 0.1028\n",
      "Epoch: 010/010 | Batch 150/469 | Cost: 0.0985\n",
      "Epoch: 010/010 | Batch 200/469 | Cost: 0.1007\n",
      "Epoch: 010/010 | Batch 250/469 | Cost: 0.1025\n",
      "Epoch: 010/010 | Batch 300/469 | Cost: 0.0989\n",
      "Epoch: 010/010 | Batch 350/469 | Cost: 0.1017\n",
      "Epoch: 010/010 | Batch 400/469 | Cost: 0.0991\n",
      "Epoch: 010/010 | Batch 450/469 | Cost: 0.0943\n",
      "Time elapsed: 2.05 min\n",
      "Total Training Time: 2.05 min\n"
     ]
    }
   ],
   "source": [
    "start_time = time.time()\n",
    "for epoch in range(num_epochs):\n",
    "    for batch_idx, (features, targets) in enumerate(train_loader):\n",
    "        \n",
    "        # don't need labels, only the images (features)\n",
    "        features = features.to(device)\n",
    "\n",
    "        ### FORWARD AND BACK PROP\n",
    "        decoded = model(features)\n",
    "        cost = F.binary_cross_entropy(decoded, features)\n",
    "        optimizer.zero_grad()\n",
    "        \n",
    "        cost.backward()\n",
    "        \n",
    "        ### UPDATE MODEL PARAMETERS\n",
    "        optimizer.step()\n",
    "        \n",
    "        ### LOGGING\n",
    "        if not batch_idx % 50:\n",
    "            print ('Epoch: %03d/%03d | Batch %03d/%03d | Cost: %.4f' \n",
    "                   %(epoch+1, num_epochs, batch_idx, \n",
    "                     len(train_loader), cost))\n",
    "            \n",
    "    print('Time elapsed: %.2f min' % ((time.time() - start_time)/60))\n",
    "    \n",
    "print('Total Training Time: %.2f min' % ((time.time() - start_time)/60))"
   ]
  },
  {
   "cell_type": "markdown",
   "metadata": {},
   "source": [
    "# 5.评估"
   ]
  },
  {
   "cell_type": "code",
   "execution_count": 7,
   "metadata": {},
   "outputs": [
    {
     "data": {
      "image/png": "[encoded data removed]",
      "text/plain": [
       "<Figure size 1440x180 with 30 Axes>"
      ]
     },
     "metadata": {
      "needs_background": "light"
     },
     "output_type": "display_data"
    }
   ],
   "source": [
    "%matplotlib inline\n",
    "import matplotlib.pyplot as plt\n",
    "\n",
    "##########################\n",
    "### VISUALIZATION\n",
    "##########################\n",
    "\n",
    "n_images = 15\n",
    "image_width = 28\n",
    "\n",
    "fig, axes = plt.subplots(nrows=2, ncols=n_images, \n",
    "                         sharex=True, sharey=True, figsize=(20, 2.5))\n",
    "orig_images = features[:n_images]\n",
    "decoded_images = decoded[:n_images]\n",
    "\n",
    "for i in range(n_images):\n",
    "    for ax, img in zip(axes, [orig_images, decoded_images]):\n",
    "        curr_img = img[i].detach().to(torch.device('cpu'))\n",
    "        ax[i].imshow(curr_img.view((image_width, image_width)), cmap='binary')"
   ]
  }
 ],
 "metadata": {
  "file_extension": ".py",
  "kernelspec": {
   "display_name": "Python 3",
   "language": "python",
   "name": "python3"
  },
  "language_info": {
   "codemirror_mode": {
    "name": "ipython",
    "version": 3
   },
   "file_extension": ".py",
   "mimetype": "text/x-python",
   "name": "python",
   "nbconvert_exporter": "python",
   "pygments_lexer": "ipython3",
   "version": "3.6.6"
  },
  "mimetype": "text/x-python",
  "name": "python",
  "npconvert_exporter": "python",
  "pygments_lexer": "ipython3",
  "version": 3
 },
 "nbformat": 4,
 "nbformat_minor": 2
}
