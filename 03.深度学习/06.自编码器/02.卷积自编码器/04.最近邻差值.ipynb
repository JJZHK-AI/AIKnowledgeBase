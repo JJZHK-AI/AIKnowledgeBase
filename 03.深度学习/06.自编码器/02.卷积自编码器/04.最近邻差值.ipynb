{
 "cells": [
  {
   "cell_type": "markdown",
   "metadata": {},
   "source": [
    "使用带有最近邻差值的上采样层的卷积自编码器生成MNIST数据\n",
    "==="
   ]
  },
  {
   "cell_type": "code",
   "execution_count": 1,
   "metadata": {},
   "outputs": [],
   "source": [
    "import time\n",
    "import numpy as np\n",
    "import torch\n",
    "import torch.nn.functional as F\n",
    "from torch.utils.data import DataLoader\n",
    "from torchvision import datasets\n",
    "from torchvision import transforms\n",
    "\n",
    "if torch.cuda.is_available():\n",
    "    torch.backends.cudnn.deterministic = True"
   ]
  },
  {
   "cell_type": "markdown",
   "metadata": {},
   "source": [
    "# 1.全局设置"
   ]
  },
  {
   "cell_type": "code",
   "execution_count": 2,
   "metadata": {},
   "outputs": [
    {
     "name": "stdout",
     "output_type": "stream",
     "text": [
      "Device: cuda:0\n"
     ]
    }
   ],
   "source": [
    "# Device\n",
    "device = torch.device(\"cuda:0\" if torch.cuda.is_available() else \"cpu\")\n",
    "print('Device:', device)\n",
    "\n",
    "# Hyperparameters\n",
    "random_seed = 123\n",
    "learning_rate = 0.05\n",
    "num_epochs = 10\n",
    "batch_size = 128"
   ]
  },
  {
   "cell_type": "markdown",
   "metadata": {},
   "source": [
    "# 2.导入数据"
   ]
  },
  {
   "cell_type": "code",
   "execution_count": 3,
   "metadata": {},
   "outputs": [],
   "source": [
    "train_dataset = datasets.MNIST(root='/input/MNIST/', \n",
    "                               train=True, \n",
    "                               transform=transforms.ToTensor(),\n",
    "                               download=True)\n",
    "\n",
    "test_dataset = datasets.MNIST(root='/input/MNIST/', \n",
    "                              train=False, \n",
    "                              transform=transforms.ToTensor())\n",
    "\n",
    "train_loader = DataLoader(dataset=train_dataset, \n",
    "                          batch_size=batch_size, \n",
    "                          shuffle=True)\n",
    "\n",
    "test_loader = DataLoader(dataset=test_dataset, \n",
    "                         batch_size=batch_size, \n",
    "                         shuffle=False)"
   ]
  },
  {
   "cell_type": "markdown",
   "metadata": {},
   "source": [
    "# 3.模型"
   ]
  },
  {
   "cell_type": "code",
   "execution_count": 4,
   "metadata": {},
   "outputs": [],
   "source": [
    "class ConvolutionalAutoencoder(torch.nn.Module):\n",
    "    def __init__(self):\n",
    "        super(ConvolutionalAutoencoder, self).__init__()\n",
    "        \n",
    "        # calculate same padding:\n",
    "        # (w - k + 2*p)/s + 1 = o\n",
    "        # => p = (s(o-1) - w + k)/2\n",
    "        \n",
    "        ### ENCODER\n",
    "        \n",
    "        # 28x28x1 => 28x28x4\n",
    "        self.conv_1 = torch.nn.Conv2d(in_channels=1,\n",
    "                                      out_channels=4,\n",
    "                                      kernel_size=(3, 3),\n",
    "                                      stride=(1, 1),\n",
    "                                      # (1(28-1) - 28 + 3) / 2 = 1\n",
    "                                      padding=1)\n",
    "        # 28x28x4 => 14x14x4\n",
    "        self.pool_1 = torch.nn.MaxPool2d(kernel_size=(2, 2),\n",
    "                                         stride=(2, 2),\n",
    "                                         # (2(14-1) - 28 + 2) / 2 = 0\n",
    "                                         padding=0)                                       \n",
    "        # 14x14x4 => 14x14x8\n",
    "        self.conv_2 = torch.nn.Conv2d(in_channels=4,\n",
    "                                      out_channels=8,\n",
    "                                      kernel_size=(3, 3),\n",
    "                                      stride=(1, 1),\n",
    "                                      # (1(14-1) - 14 + 3) / 2 = 1\n",
    "                                      padding=1)                 \n",
    "        # 14x14x8 => 7x7x8                             \n",
    "        self.pool_2 = torch.nn.MaxPool2d(kernel_size=(2, 2),\n",
    "                                         stride=(2, 2),\n",
    "                                         # (2(7-1) - 14 + 2) / 2 = 0\n",
    "                                         padding=0)\n",
    "        \n",
    "        ### DECODER\n",
    "                                         \n",
    "        # 7x7x8 => 14x14x8               \n",
    "        # Unpool\n",
    "\n",
    "        # 14x14x8 => 14x14x8\n",
    "        self.conv_3 = torch.nn.Conv2d(in_channels=8,\n",
    "                                      out_channels=4,\n",
    "                                      kernel_size=(3, 3),\n",
    "                                      stride=(1, 1),\n",
    "                                      # (1(14-1) - 14 + 3) / 2 = 1\n",
    "                                      padding=1)\n",
    "        # 14x14x4 => 28x28x4                            \n",
    "        # Unpool\n",
    "        \n",
    "        # 28x28x4 => 28x28x1\n",
    "        self.conv_4 = torch.nn.Conv2d(in_channels=4,\n",
    "                                      out_channels=1,\n",
    "                                      kernel_size=(3, 3),\n",
    "                                      stride=(1, 1),\n",
    "                                      # (1(28-1) - 28 + 3) / 2 = 1\n",
    "                                      padding=1)\n",
    "        \n",
    "    def forward(self, x):\n",
    "        \n",
    "        ### ENCODER\n",
    "        x = self.conv_1(x)\n",
    "        x = F.leaky_relu(x)\n",
    "        x = self.pool_1(x)\n",
    "        x = self.conv_2(x)\n",
    "        x = F.leaky_relu(x)\n",
    "        x = self.pool_2(x)\n",
    "        \n",
    "        ### DECODER\n",
    "        x = F.interpolate(x, scale_factor=2, mode='nearest')\n",
    "        x = self.conv_3(x)\n",
    "        x = F.leaky_relu(x)\n",
    "        x = F.interpolate(x, scale_factor=2, mode='nearest')\n",
    "        x = self.conv_4(x)\n",
    "        logits = F.leaky_relu(x)\n",
    "        probas = torch.sigmoid(logits)\n",
    "        return logits, probas\n",
    "\n",
    "torch.manual_seed(random_seed)\n",
    "model = ConvolutionalAutoencoder()\n",
    "model = model.to(device)\n",
    "\n",
    "optimizer = torch.optim.Adam(model.parameters(), lr=learning_rate)  "
   ]
  },
  {
   "cell_type": "markdown",
   "metadata": {},
   "source": [
    "# 4.训练"
   ]
  },
  {
   "cell_type": "code",
   "execution_count": 5,
   "metadata": {
    "scrolled": false
   },
   "outputs": [
    {
     "name": "stdout",
     "output_type": "stream",
     "text": [
      "Epoch: 001/010 | Batch 000/469 | Cost: 0.7008\n",
      "Epoch: 001/010 | Batch 050/469 | Cost: 0.1782\n",
      "Epoch: 001/010 | Batch 100/469 | Cost: 0.1385\n",
      "Epoch: 001/010 | Batch 150/469 | Cost: 0.1248\n",
      "Epoch: 001/010 | Batch 200/469 | Cost: 0.1167\n",
      "Epoch: 001/010 | Batch 250/469 | Cost: 0.1108\n",
      "Epoch: 001/010 | Batch 300/469 | Cost: 0.1047\n",
      "Epoch: 001/010 | Batch 350/469 | Cost: 0.1050\n",
      "Epoch: 001/010 | Batch 400/469 | Cost: 0.1052\n",
      "Epoch: 001/010 | Batch 450/469 | Cost: 0.1000\n",
      "Time elapsed: 0.23 min\n",
      "Epoch: 002/010 | Batch 000/469 | Cost: 0.0995\n",
      "Epoch: 002/010 | Batch 050/469 | Cost: 0.1047\n",
      "Epoch: 002/010 | Batch 100/469 | Cost: 0.1014\n",
      "Epoch: 002/010 | Batch 150/469 | Cost: 0.0971\n",
      "Epoch: 002/010 | Batch 200/469 | Cost: 0.0968\n",
      "Epoch: 002/010 | Batch 250/469 | Cost: 0.0976\n",
      "Epoch: 002/010 | Batch 300/469 | Cost: 0.0954\n",
      "Epoch: 002/010 | Batch 350/469 | Cost: 0.0982\n",
      "Epoch: 002/010 | Batch 400/469 | Cost: 0.0956\n",
      "Epoch: 002/010 | Batch 450/469 | Cost: 0.0995\n",
      "Time elapsed: 0.43 min\n",
      "Epoch: 003/010 | Batch 000/469 | Cost: 0.0940\n",
      "Epoch: 003/010 | Batch 050/469 | Cost: 0.0917\n",
      "Epoch: 003/010 | Batch 100/469 | Cost: 0.0952\n",
      "Epoch: 003/010 | Batch 150/469 | Cost: 0.0934\n",
      "Epoch: 003/010 | Batch 200/469 | Cost: 0.0940\n",
      "Epoch: 003/010 | Batch 250/469 | Cost: 0.0919\n",
      "Epoch: 003/010 | Batch 300/469 | Cost: 0.0948\n",
      "Epoch: 003/010 | Batch 350/469 | Cost: 0.0992\n",
      "Epoch: 003/010 | Batch 400/469 | Cost: 0.0931\n",
      "Epoch: 003/010 | Batch 450/469 | Cost: 0.0956\n",
      "Time elapsed: 0.64 min\n",
      "Epoch: 004/010 | Batch 000/469 | Cost: 0.0907\n",
      "Epoch: 004/010 | Batch 050/469 | Cost: 0.0900\n",
      "Epoch: 004/010 | Batch 100/469 | Cost: 0.0928\n",
      "Epoch: 004/010 | Batch 150/469 | Cost: 0.0903\n",
      "Epoch: 004/010 | Batch 200/469 | Cost: 0.0971\n",
      "Epoch: 004/010 | Batch 250/469 | Cost: 0.0903\n",
      "Epoch: 004/010 | Batch 300/469 | Cost: 0.0890\n",
      "Epoch: 004/010 | Batch 350/469 | Cost: 0.0880\n",
      "Epoch: 004/010 | Batch 400/469 | Cost: 0.0873\n",
      "Epoch: 004/010 | Batch 450/469 | Cost: 0.0910\n",
      "Time elapsed: 0.85 min\n",
      "Epoch: 005/010 | Batch 000/469 | Cost: 0.0882\n",
      "Epoch: 005/010 | Batch 050/469 | Cost: 0.0948\n",
      "Epoch: 005/010 | Batch 100/469 | Cost: 0.0901\n",
      "Epoch: 005/010 | Batch 150/469 | Cost: 0.0920\n",
      "Epoch: 005/010 | Batch 200/469 | Cost: 0.0927\n",
      "Epoch: 005/010 | Batch 250/469 | Cost: 0.0905\n",
      "Epoch: 005/010 | Batch 300/469 | Cost: 0.0856\n",
      "Epoch: 005/010 | Batch 350/469 | Cost: 0.0861\n",
      "Epoch: 005/010 | Batch 400/469 | Cost: 0.0885\n",
      "Epoch: 005/010 | Batch 450/469 | Cost: 0.0894\n",
      "Time elapsed: 1.06 min\n",
      "Epoch: 006/010 | Batch 000/469 | Cost: 0.0907\n",
      "Epoch: 006/010 | Batch 050/469 | Cost: 0.0882\n",
      "Epoch: 006/010 | Batch 100/469 | Cost: 0.0870\n",
      "Epoch: 006/010 | Batch 150/469 | Cost: 0.0863\n",
      "Epoch: 006/010 | Batch 200/469 | Cost: 0.0897\n",
      "Epoch: 006/010 | Batch 250/469 | Cost: 0.0851\n",
      "Epoch: 006/010 | Batch 300/469 | Cost: 0.0875\n",
      "Epoch: 006/010 | Batch 350/469 | Cost: 0.0916\n",
      "Epoch: 006/010 | Batch 400/469 | Cost: 0.0843\n",
      "Epoch: 006/010 | Batch 450/469 | Cost: 0.0867\n",
      "Time elapsed: 1.27 min\n",
      "Epoch: 007/010 | Batch 000/469 | Cost: 0.0881\n",
      "Epoch: 007/010 | Batch 050/469 | Cost: 0.0863\n",
      "Epoch: 007/010 | Batch 100/469 | Cost: 0.0885\n",
      "Epoch: 007/010 | Batch 150/469 | Cost: 0.0903\n",
      "Epoch: 007/010 | Batch 200/469 | Cost: 0.0897\n",
      "Epoch: 007/010 | Batch 250/469 | Cost: 0.0870\n",
      "Epoch: 007/010 | Batch 300/469 | Cost: 0.0866\n",
      "Epoch: 007/010 | Batch 350/469 | Cost: 0.0853\n",
      "Epoch: 007/010 | Batch 400/469 | Cost: 0.0863\n",
      "Epoch: 007/010 | Batch 450/469 | Cost: 0.0844\n",
      "Time elapsed: 1.47 min\n",
      "Epoch: 008/010 | Batch 000/469 | Cost: 0.0827\n",
      "Epoch: 008/010 | Batch 050/469 | Cost: 0.0877\n",
      "Epoch: 008/010 | Batch 100/469 | Cost: 0.0889\n",
      "Epoch: 008/010 | Batch 150/469 | Cost: 0.0899\n",
      "Epoch: 008/010 | Batch 200/469 | Cost: 0.0821\n",
      "Epoch: 008/010 | Batch 250/469 | Cost: 0.0892\n",
      "Epoch: 008/010 | Batch 300/469 | Cost: 0.0863\n",
      "Epoch: 008/010 | Batch 350/469 | Cost: 0.0892\n",
      "Epoch: 008/010 | Batch 400/469 | Cost: 0.0842\n",
      "Epoch: 008/010 | Batch 450/469 | Cost: 0.0904\n",
      "Time elapsed: 1.68 min\n",
      "Epoch: 009/010 | Batch 000/469 | Cost: 0.0890\n",
      "Epoch: 009/010 | Batch 050/469 | Cost: 0.0854\n",
      "Epoch: 009/010 | Batch 100/469 | Cost: 0.0850\n",
      "Epoch: 009/010 | Batch 150/469 | Cost: 0.0853\n",
      "Epoch: 009/010 | Batch 200/469 | Cost: 0.0855\n",
      "Epoch: 009/010 | Batch 250/469 | Cost: 0.0824\n",
      "Epoch: 009/010 | Batch 300/469 | Cost: 0.0877\n",
      "Epoch: 009/010 | Batch 350/469 | Cost: 0.0863\n",
      "Epoch: 009/010 | Batch 400/469 | Cost: 0.0875\n",
      "Epoch: 009/010 | Batch 450/469 | Cost: 0.0901\n",
      "Time elapsed: 1.88 min\n",
      "Epoch: 010/010 | Batch 000/469 | Cost: 0.0869\n",
      "Epoch: 010/010 | Batch 050/469 | Cost: 0.0841\n",
      "Epoch: 010/010 | Batch 100/469 | Cost: 0.0917\n",
      "Epoch: 010/010 | Batch 150/469 | Cost: 0.0859\n",
      "Epoch: 010/010 | Batch 200/469 | Cost: 0.0846\n",
      "Epoch: 010/010 | Batch 250/469 | Cost: 0.0836\n",
      "Epoch: 010/010 | Batch 300/469 | Cost: 0.0841\n",
      "Epoch: 010/010 | Batch 350/469 | Cost: 0.0868\n",
      "Epoch: 010/010 | Batch 400/469 | Cost: 0.0830\n",
      "Epoch: 010/010 | Batch 450/469 | Cost: 0.0832\n",
      "Time elapsed: 2.09 min\n",
      "Total Training Time: 2.09 min\n"
     ]
    }
   ],
   "source": [
    "start_time = time.time()\n",
    "for epoch in range(num_epochs):\n",
    "    for batch_idx, (features, targets) in enumerate(train_loader):\n",
    "        \n",
    "        # don't need labels, only the images (features)\n",
    "        features = features.to(device)\n",
    "\n",
    "        ### FORWARD AND BACK PROP\n",
    "        logits, decoded = model(features)\n",
    "        cost = F.binary_cross_entropy_with_logits(logits, features)\n",
    "        optimizer.zero_grad()\n",
    "        \n",
    "        cost.backward()\n",
    "        \n",
    "        ### UPDATE MODEL PARAMETERS\n",
    "        optimizer.step()\n",
    "        \n",
    "        ### LOGGING\n",
    "        if not batch_idx % 50:\n",
    "            print ('Epoch: %03d/%03d | Batch %03d/%03d | Cost: %.4f' \n",
    "                   %(epoch+1, num_epochs, batch_idx, \n",
    "                     len(train_loader), cost))\n",
    "            \n",
    "    print('Time elapsed: %.2f min' % ((time.time() - start_time)/60))\n",
    "    \n",
    "print('Total Training Time: %.2f min' % ((time.time() - start_time)/60))"
   ]
  },
  {
   "cell_type": "markdown",
   "metadata": {},
   "source": [
    "# 5.评估"
   ]
  },
  {
   "cell_type": "code",
   "execution_count": 6,
   "metadata": {},
   "outputs": [
    {
     "data": {
      "image/png": "[encoded data removed]",
      "text/plain": [
       "<Figure size 1440x180 with 30 Axes>"
      ]
     },
     "metadata": {
      "needs_background": "light"
     },
     "output_type": "display_data"
    }
   ],
   "source": [
    "%matplotlib inline\n",
    "import matplotlib.pyplot as plt\n",
    "\n",
    "##########################\n",
    "### VISUALIZATION\n",
    "##########################\n",
    "\n",
    "n_images = 15\n",
    "image_width = 28\n",
    "\n",
    "fig, axes = plt.subplots(nrows=2, ncols=n_images, \n",
    "                         sharex=True, sharey=True, figsize=(20, 2.5))\n",
    "orig_images = features[:n_images]\n",
    "decoded_images = decoded[:n_images]\n",
    "\n",
    "for i in range(n_images):\n",
    "    for ax, img in zip(axes, [orig_images, decoded_images]):\n",
    "        curr_img = img[i].detach().to(torch.device('cpu'))\n",
    "        ax[i].imshow(curr_img.view((image_width, image_width)), cmap='binary')"
   ]
  }
 ],
 "metadata": {
  "file_extension": ".py",
  "kernelspec": {
   "display_name": "Python 3",
   "language": "python",
   "name": "python3"
  },
  "language_info": {
   "codemirror_mode": {
    "name": "ipython",
    "version": 3
   },
   "file_extension": ".py",
   "mimetype": "text/x-python",
   "name": "python",
   "nbconvert_exporter": "python",
   "pygments_lexer": "ipython3",
   "version": "3.6.6"
  },
  "mimetype": "text/x-python",
  "name": "python",
  "npconvert_exporter": "python",
  "pygments_lexer": "ipython3",
  "version": 3
 },
 "nbformat": 4,
 "nbformat_minor": 2
}
