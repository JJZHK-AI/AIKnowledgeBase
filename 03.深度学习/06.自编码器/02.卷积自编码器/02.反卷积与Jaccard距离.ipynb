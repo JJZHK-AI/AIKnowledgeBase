{
 "cells": [
  {
   "cell_type": "markdown",
   "metadata": {},
   "source": [
    "使用带反卷积层和Jaccard距离的卷积自编码器生成MNIST数据\n",
    "==="
   ]
  },
  {
   "cell_type": "markdown",
   "metadata": {},
   "source": [
    "$$J(x, y)=1-\\frac{\\sum_{i} \\min \\left(x_{i}, y_{i}\\right)}{\\sum_{i} \\max \\left(x_{i}, y_{i}\\right)}$$"
   ]
  },
  {
   "cell_type": "code",
   "execution_count": 1,
   "metadata": {},
   "outputs": [],
   "source": [
    "import time\n",
    "import numpy as np\n",
    "import torch\n",
    "import torch.nn.functional as F\n",
    "from torch.utils.data import DataLoader\n",
    "from torchvision import datasets\n",
    "from torchvision import transforms\n",
    "from jjzhk.progressbar import ProgressBar\n",
    "\n",
    "if torch.cuda.is_available():\n",
    "    torch.backends.cudnn.deterministic = True"
   ]
  },
  {
   "cell_type": "code",
   "execution_count": 2,
   "metadata": {},
   "outputs": [
    {
     "data": {
      "text/plain": [
       "tensor(0.6275)"
      ]
     },
     "execution_count": 2,
     "metadata": {},
     "output_type": "execute_result"
    }
   ],
   "source": [
    "def continuous_jaccard(x, y):\n",
    "    \"\"\"\n",
    "    Implementation of the continuous version of the\n",
    "    Jaccard distance:\n",
    "    1 - [sum_i min(x_i, y_i)] / [sum_i max(x_i, y_i)]\n",
    "    \"\"\"\n",
    "    c = torch.cat((x.view(-1).unsqueeze(1), y.view(-1).unsqueeze(1)), dim=1)\n",
    "\n",
    "    numerator = torch.sum(torch.min(c, dim=1)[0])\n",
    "    denominator = torch.sum(torch.max(c, dim=1)[0])\n",
    "\n",
    "    return 1. - numerator/denominator\n",
    "\n",
    "x = torch.tensor([7, 2, 3, 4, 5, 6]).float()\n",
    "y = torch.tensor([1, 8, 9, 10, 11, 4]).float()\n",
    "\n",
    "continuous_jaccard(x, y)"
   ]
  },
  {
   "cell_type": "markdown",
   "metadata": {},
   "source": [
    "# 1.全局设置"
   ]
  },
  {
   "cell_type": "code",
   "execution_count": 3,
   "metadata": {},
   "outputs": [
    {
     "name": "stdout",
     "output_type": "stream",
     "text": [
      "Device: cuda:0\n"
     ]
    }
   ],
   "source": [
    "# Device\n",
    "device = torch.device(\"cuda:0\" if torch.cuda.is_available() else \"cpu\")\n",
    "print('Device:', device)\n",
    "\n",
    "# Hyperparameters\n",
    "random_seed = 456\n",
    "learning_rate = 0.005\n",
    "num_epochs = 10\n",
    "batch_size = 128"
   ]
  },
  {
   "cell_type": "markdown",
   "metadata": {},
   "source": [
    "# 2.引入数据集"
   ]
  },
  {
   "cell_type": "code",
   "execution_count": 4,
   "metadata": {},
   "outputs": [],
   "source": [
    "train_dataset = datasets.MNIST(root='/input/', \n",
    "                               train=True, \n",
    "                               transform=transforms.ToTensor(),\n",
    "                               download=True)\n",
    "\n",
    "test_dataset = datasets.MNIST(root='/input/', \n",
    "                              train=False, \n",
    "                              transform=transforms.ToTensor())\n",
    "\n",
    "train_loader = DataLoader(dataset=train_dataset, \n",
    "                          batch_size=batch_size, \n",
    "                          shuffle=True)\n",
    "\n",
    "test_loader = DataLoader(dataset=test_dataset, \n",
    "                         batch_size=batch_size, \n",
    "                         shuffle=False)"
   ]
  },
  {
   "cell_type": "markdown",
   "metadata": {},
   "source": [
    "# 3.模型"
   ]
  },
  {
   "cell_type": "code",
   "execution_count": 5,
   "metadata": {},
   "outputs": [],
   "source": [
    "class ConvolutionalAutoencoder(torch.nn.Module):\n",
    "\n",
    "    def __init__(self):\n",
    "        super(ConvolutionalAutoencoder, self).__init__()\n",
    "        \n",
    "        # calculate same padding:\n",
    "        # (w - k + 2*p)/s + 1 = o\n",
    "        # => p = (s(o-1) - w + k)/2\n",
    "        \n",
    "        ### ENCODER\n",
    "        \n",
    "        # 28x28x1 => 28x28x4\n",
    "        self.conv_1 = torch.nn.Conv2d(in_channels=1,\n",
    "                                      out_channels=4,\n",
    "                                      kernel_size=(3, 3),\n",
    "                                      stride=(1, 1),\n",
    "                                      # (1(28-1) - 28 + 3) / 2 = 1\n",
    "                                      padding=1) \n",
    "        # 28x28x4 => 14x14x4                              \n",
    "        self.pool_1 = torch.nn.MaxPool2d(kernel_size=(2, 2),\n",
    "                                         stride=(2, 2),\n",
    "                                         # (2(14-1) - 28 + 2) / 2 = 0\n",
    "                                         padding=0)                                       \n",
    "        # 14x14x4 => 14x14x8\n",
    "        self.conv_2 = torch.nn.Conv2d(in_channels=4,\n",
    "                                      out_channels=8,\n",
    "                                      kernel_size=(3, 3),\n",
    "                                      stride=(1, 1),\n",
    "                                      # (1(14-1) - 14 + 3) / 2 = 1\n",
    "                                      padding=1)                 \n",
    "        # 14x14x8 => 7x7x8                             \n",
    "        self.pool_2 = torch.nn.MaxPool2d(kernel_size=(2, 2),\n",
    "                                         stride=(2, 2),\n",
    "                                         # (2(7-1) - 14 + 2) / 2 = 0\n",
    "                                         padding=0)\n",
    "        \n",
    "        ### DECODER\n",
    "                                         \n",
    "        # 7x7x8 => 15x15x4                          \n",
    "        self.deconv_1 = torch.nn.ConvTranspose2d(in_channels=8,\n",
    "                                                 out_channels=4,\n",
    "                                                 kernel_size=(3, 3),\n",
    "                                                 stride=(2, 2),\n",
    "                                                 padding=0)\n",
    "        \n",
    "        # 15x15x4  => 31x31x1                           \n",
    "        self.deconv_2 = torch.nn.ConvTranspose2d(in_channels=4,\n",
    "                                                 out_channels=1,\n",
    "                                                 kernel_size=(3, 3),\n",
    "                                                 stride=(2, 2),\n",
    "                                                 padding=0)\n",
    "        \n",
    "    def forward(self, x):\n",
    "        \n",
    "        ### ENCODER\n",
    "        x = self.conv_1(x)\n",
    "        x = F.leaky_relu(x)\n",
    "        x = self.pool_1(x)\n",
    "        x = self.conv_2(x)\n",
    "        x = F.leaky_relu(x)\n",
    "        x = self.pool_2(x)\n",
    "        \n",
    "        ### DECODER\n",
    "        x = self.deconv_1(x)\n",
    "        x = F.leaky_relu(x)\n",
    "        x = self.deconv_2(x)\n",
    "        x = F.leaky_relu(x)\n",
    "        logits = x[:, :, 2:30, 2:30]\n",
    "        probas = torch.sigmoid(logits)\n",
    "        return logits, probas\n",
    "\n",
    "torch.manual_seed(random_seed)\n",
    "model = ConvolutionalAutoencoder()\n",
    "model = model.to(device)\n",
    "\n",
    "optimizer = torch.optim.Adam(model.parameters(), lr=learning_rate) "
   ]
  },
  {
   "cell_type": "markdown",
   "metadata": {},
   "source": [
    "# 4.训练"
   ]
  },
  {
   "cell_type": "code",
   "execution_count": 6,
   "metadata": {
    "scrolled": false
   },
   "outputs": [
    {
     "name": "stdout",
     "output_type": "stream",
     "text": [
      "Epoch: 001/010 | Batch 000/468 | Cost: 0.8663\n",
      "Epoch: 001/010 | Batch 050/468 | Cost: 0.8027\n",
      "Epoch: 001/010 | Batch 100/468 | Cost: 0.7725\n",
      "Epoch: 001/010 | Batch 150/468 | Cost: 0.7297\n",
      "Epoch: 001/010 | Batch 200/468 | Cost: 0.3892\n",
      "Epoch: 001/010 | Batch 250/468 | Cost: 0.2939\n",
      "Epoch: 001/010 | Batch 300/468 | Cost: 0.2901\n",
      "Epoch: 001/010 | Batch 350/468 | Cost: 0.2786\n",
      "Epoch: 001/010 | Batch 400/468 | Cost: 0.2784\n",
      "Epoch: 001/010 | Batch 450/468 | Cost: 0.2608\n",
      "Time elapsed: 0.23 min\n",
      "Epoch: 002/010 | Batch 000/468 | Cost: 0.2689\n",
      "Epoch: 002/010 | Batch 050/468 | Cost: 0.2655\n",
      "Epoch: 002/010 | Batch 100/468 | Cost: 0.2462\n",
      "Epoch: 002/010 | Batch 150/468 | Cost: 0.2362\n",
      "Epoch: 002/010 | Batch 200/468 | Cost: 0.2521\n",
      "Epoch: 002/010 | Batch 250/468 | Cost: 0.2501\n",
      "Epoch: 002/010 | Batch 300/468 | Cost: 0.2347\n",
      "Epoch: 002/010 | Batch 350/468 | Cost: 0.2494\n",
      "Epoch: 002/010 | Batch 400/468 | Cost: 0.2276\n",
      "Epoch: 002/010 | Batch 450/468 | Cost: 0.2387\n",
      "Time elapsed: 0.45 min\n",
      "Epoch: 003/010 | Batch 000/468 | Cost: 0.2320\n",
      "Epoch: 003/010 | Batch 050/468 | Cost: 0.2270\n",
      "Epoch: 003/010 | Batch 100/468 | Cost: 0.2462\n",
      "Epoch: 003/010 | Batch 150/468 | Cost: 0.2234\n",
      "Epoch: 003/010 | Batch 200/468 | Cost: 0.2162\n",
      "Epoch: 003/010 | Batch 250/468 | Cost: 0.2172\n",
      "Epoch: 003/010 | Batch 300/468 | Cost: 0.2193\n",
      "Epoch: 003/010 | Batch 350/468 | Cost: 0.2288\n",
      "Epoch: 003/010 | Batch 400/468 | Cost: 0.2204\n",
      "Epoch: 003/010 | Batch 450/468 | Cost: 0.2225\n",
      "Time elapsed: 0.66 min\n",
      "Epoch: 004/010 | Batch 000/468 | Cost: 0.2130\n",
      "Epoch: 004/010 | Batch 050/468 | Cost: 0.2188\n",
      "Epoch: 004/010 | Batch 100/468 | Cost: 0.2109\n",
      "Epoch: 004/010 | Batch 150/468 | Cost: 0.2154\n",
      "Epoch: 004/010 | Batch 200/468 | Cost: 0.2107\n",
      "Epoch: 004/010 | Batch 250/468 | Cost: 0.2088\n",
      "Epoch: 004/010 | Batch 300/468 | Cost: 0.2104\n",
      "Epoch: 004/010 | Batch 350/468 | Cost: 0.2152\n",
      "Epoch: 004/010 | Batch 400/468 | Cost: 0.2196\n",
      "Epoch: 004/010 | Batch 450/468 | Cost: 0.2014\n",
      "Time elapsed: 0.88 min\n",
      "Epoch: 005/010 | Batch 000/468 | Cost: 0.1959\n",
      "Epoch: 005/010 | Batch 050/468 | Cost: 0.2033\n",
      "Epoch: 005/010 | Batch 100/468 | Cost: 0.2072\n",
      "Epoch: 005/010 | Batch 150/468 | Cost: 0.1992\n",
      "Epoch: 005/010 | Batch 200/468 | Cost: 0.1974\n",
      "Epoch: 005/010 | Batch 250/468 | Cost: 0.2048\n",
      "Epoch: 005/010 | Batch 300/468 | Cost: 0.1996\n",
      "Epoch: 005/010 | Batch 350/468 | Cost: 0.2112\n",
      "Epoch: 005/010 | Batch 400/468 | Cost: 0.2108\n",
      "Epoch: 005/010 | Batch 450/468 | Cost: 0.2059\n",
      "Time elapsed: 1.09 min\n",
      "Epoch: 006/010 | Batch 000/468 | Cost: 0.1977\n",
      "Epoch: 006/010 | Batch 050/468 | Cost: 0.2035\n",
      "Epoch: 006/010 | Batch 100/468 | Cost: 0.2045\n",
      "Epoch: 006/010 | Batch 150/468 | Cost: 0.2067\n",
      "Epoch: 006/010 | Batch 200/468 | Cost: 0.2088\n",
      "Epoch: 006/010 | Batch 250/468 | Cost: 0.1946\n",
      "Epoch: 006/010 | Batch 300/468 | Cost: 0.1979\n",
      "Epoch: 006/010 | Batch 350/468 | Cost: 0.1901\n",
      "Epoch: 006/010 | Batch 400/468 | Cost: 0.2031\n",
      "Epoch: 006/010 | Batch 450/468 | Cost: 0.1989\n",
      "Time elapsed: 1.31 min\n",
      "Epoch: 007/010 | Batch 000/468 | Cost: 0.1805\n",
      "Epoch: 007/010 | Batch 050/468 | Cost: 0.1963\n",
      "Epoch: 007/010 | Batch 100/468 | Cost: 0.1935\n",
      "Epoch: 007/010 | Batch 150/468 | Cost: 0.1896\n",
      "Epoch: 007/010 | Batch 200/468 | Cost: 0.1871\n",
      "Epoch: 007/010 | Batch 250/468 | Cost: 0.1937\n",
      "Epoch: 007/010 | Batch 300/468 | Cost: 0.1955\n",
      "Epoch: 007/010 | Batch 350/468 | Cost: 0.1936\n",
      "Epoch: 007/010 | Batch 400/468 | Cost: 0.1954\n",
      "Epoch: 007/010 | Batch 450/468 | Cost: 0.2046\n",
      "Time elapsed: 1.51 min\n",
      "Epoch: 008/010 | Batch 000/468 | Cost: 0.1925\n",
      "Epoch: 008/010 | Batch 050/468 | Cost: 0.2030\n",
      "Epoch: 008/010 | Batch 100/468 | Cost: 0.1804\n",
      "Epoch: 008/010 | Batch 150/468 | Cost: 0.1963\n",
      "Epoch: 008/010 | Batch 200/468 | Cost: 0.1773\n",
      "Epoch: 008/010 | Batch 250/468 | Cost: 0.1981\n",
      "Epoch: 008/010 | Batch 300/468 | Cost: 0.1975\n",
      "Epoch: 008/010 | Batch 350/468 | Cost: 0.1845\n",
      "Epoch: 008/010 | Batch 400/468 | Cost: 0.1926\n",
      "Epoch: 008/010 | Batch 450/468 | Cost: 0.1903\n",
      "Time elapsed: 1.72 min\n",
      "Epoch: 009/010 | Batch 000/468 | Cost: 0.1871\n",
      "Epoch: 009/010 | Batch 050/468 | Cost: 0.1874\n",
      "Epoch: 009/010 | Batch 100/468 | Cost: 0.1987\n",
      "Epoch: 009/010 | Batch 150/468 | Cost: 0.1924\n",
      "Epoch: 009/010 | Batch 200/468 | Cost: 0.1900\n",
      "Epoch: 009/010 | Batch 250/468 | Cost: 0.1918\n",
      "Epoch: 009/010 | Batch 300/468 | Cost: 0.1887\n",
      "Epoch: 009/010 | Batch 350/468 | Cost: 0.1881\n",
      "Epoch: 009/010 | Batch 400/468 | Cost: 0.1901\n",
      "Epoch: 009/010 | Batch 450/468 | Cost: 0.1847\n",
      "Time elapsed: 1.92 min\n",
      "Epoch: 010/010 | Batch 000/468 | Cost: 0.1850\n",
      "Epoch: 010/010 | Batch 050/468 | Cost: 0.1897\n",
      "Epoch: 010/010 | Batch 100/468 | Cost: 0.1959\n",
      "Epoch: 010/010 | Batch 150/468 | Cost: 0.1914\n",
      "Epoch: 010/010 | Batch 200/468 | Cost: 0.1826\n",
      "Epoch: 010/010 | Batch 250/468 | Cost: 0.1969\n",
      "Epoch: 010/010 | Batch 300/468 | Cost: 0.1910\n",
      "Epoch: 010/010 | Batch 350/468 | Cost: 0.1747\n",
      "Epoch: 010/010 | Batch 400/468 | Cost: 0.1853\n",
      "Epoch: 010/010 | Batch 450/468 | Cost: 0.1776\n",
      "Time elapsed: 2.12 min\n",
      "Total Training Time: 2.12 min\n"
     ]
    }
   ],
   "source": [
    "start_time = time.time()\n",
    "bar = ProgressBar(num_epochs, len(train_loader), \"Loss:%.3f\")\n",
    "for epoch in range(num_epochs):\n",
    "    for batch_idx, (features, targets) in enumerate(train_loader):\n",
    "        \n",
    "        # don't need labels, only the images (features)\n",
    "        features = features.to(device)\n",
    "\n",
    "        ### FORWARD AND BACK PROP\n",
    "        logits, decoded = model(features)\n",
    "        #cost = F.binary_cross_entropy_with_logits(logits, features)\n",
    "        cost = continuous_jaccard(features, decoded)\n",
    "        optimizer.zero_grad()\n",
    "        \n",
    "        cost.backward()\n",
    "        \n",
    "        ### UPDATE MODEL PARAMETERS\n",
    "        optimizer.step()\n",
    "        \n",
    "        bar.show(epoch, cost)"
   ]
  },
  {
   "cell_type": "markdown",
   "metadata": {},
   "source": [
    "# 5.评估"
   ]
  },
  {
   "cell_type": "code",
   "execution_count": 7,
   "metadata": {},
   "outputs": [
    {
     "data": {
      "image/png": "[encoded data removed]",
      "text/plain": [
       "<Figure size 1440x180 with 30 Axes>"
      ]
     },
     "metadata": {
      "needs_background": "light"
     },
     "output_type": "display_data"
    }
   ],
   "source": [
    "%matplotlib inline\n",
    "import matplotlib.pyplot as plt\n",
    "\n",
    "##########################\n",
    "### VISUALIZATION\n",
    "##########################\n",
    "\n",
    "n_images = 15\n",
    "image_width = 28\n",
    "\n",
    "fig, axes = plt.subplots(nrows=2, ncols=n_images, \n",
    "                         sharex=True, sharey=True, figsize=(20, 2.5))\n",
    "orig_images = features[:n_images]\n",
    "decoded_images = decoded[:n_images]\n",
    "\n",
    "for i in range(n_images):\n",
    "    for ax, img in zip(axes, [orig_images, decoded_images]):\n",
    "        curr_img = img[i].detach().to(torch.device('cpu'))\n",
    "        ax[i].imshow(curr_img.view((image_width, image_width)), cmap='binary')"
   ]
  }
 ],
 "metadata": {
  "file_extension": ".py",
  "kernelspec": {
   "display_name": "Python 3",
   "language": "python",
   "name": "python3"
  },
  "language_info": {
   "codemirror_mode": {
    "name": "ipython",
    "version": 3
   },
   "file_extension": ".py",
   "mimetype": "text/x-python",
   "name": "python",
   "nbconvert_exporter": "python",
   "pygments_lexer": "ipython3",
   "version": "3.6.6"
  },
  "mimetype": "text/x-python",
  "name": "python",
  "npconvert_exporter": "python",
  "pygments_lexer": "ipython3",
  "version": 3
 },
 "nbformat": 4,
 "nbformat_minor": 2
}