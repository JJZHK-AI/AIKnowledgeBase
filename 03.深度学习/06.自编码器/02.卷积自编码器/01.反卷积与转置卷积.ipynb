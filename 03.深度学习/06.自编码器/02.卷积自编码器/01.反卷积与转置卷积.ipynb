{
 "cells": [
  {
   "cell_type": "markdown",
   "metadata": {},
   "source": [
    "用带反卷积层的卷子自编码器生成MNIST数据\n",
    "==="
   ]
  },
  {
   "cell_type": "code",
   "execution_count": 1,
   "metadata": {},
   "outputs": [],
   "source": [
    "import time\n",
    "import numpy as np\n",
    "import torch\n",
    "import torch.nn.functional as F\n",
    "from torch.utils.data import DataLoader\n",
    "from torchvision import datasets\n",
    "from torchvision import transforms\n",
    "from jjzhk.progressbar import ProgressBar\n",
    "\n",
    "\n",
    "if torch.cuda.is_available():\n",
    "    torch.backends.cudnn.deterministic = True"
   ]
  },
  {
   "cell_type": "markdown",
   "metadata": {},
   "source": [
    "# 1.全局设置"
   ]
  },
  {
   "cell_type": "code",
   "execution_count": 2,
   "metadata": {},
   "outputs": [
    {
     "name": "stdout",
     "output_type": "stream",
     "text": [
      "Device: cuda:0\n"
     ]
    }
   ],
   "source": [
    "# Device\n",
    "device = torch.device(\"cuda:0\" if torch.cuda.is_available() else \"cpu\")\n",
    "print('Device:', device)\n",
    "\n",
    "# Hyperparameters\n",
    "random_seed = 456\n",
    "learning_rate = 0.005\n",
    "num_epochs = 10\n",
    "batch_size = 128"
   ]
  },
  {
   "cell_type": "markdown",
   "metadata": {},
   "source": [
    "# 2.引入数据集"
   ]
  },
  {
   "cell_type": "code",
   "execution_count": 3,
   "metadata": {},
   "outputs": [],
   "source": [
    "train_dataset = datasets.MNIST(root='/input', \n",
    "                               train=True, \n",
    "                               transform=transforms.ToTensor(),\n",
    "                               download=True)\n",
    "\n",
    "test_dataset = datasets.MNIST(root='/input', \n",
    "                              train=False, \n",
    "                              transform=transforms.ToTensor())\n",
    "\n",
    "train_loader = DataLoader(dataset=train_dataset, \n",
    "                          batch_size=batch_size, \n",
    "                          shuffle=True)\n",
    "\n",
    "test_loader = DataLoader(dataset=test_dataset, \n",
    "                         batch_size=batch_size, \n",
    "                         shuffle=False)"
   ]
  },
  {
   "cell_type": "markdown",
   "metadata": {},
   "source": [
    "# 3.模型"
   ]
  },
  {
   "cell_type": "code",
   "execution_count": 4,
   "metadata": {},
   "outputs": [],
   "source": [
    "class ConvolutionalAutoencoder(torch.nn.Module):\n",
    "\n",
    "    def __init__(self):\n",
    "        super(ConvolutionalAutoencoder, self).__init__()\n",
    "        \n",
    "        # calculate same padding:\n",
    "        # (w - k + 2*p)/s + 1 = o\n",
    "        # => p = (s(o-1) - w + k)/2\n",
    "        \n",
    "        ### ENCODER\n",
    "        \n",
    "        # 28x28x1 => 28x28x4\n",
    "        self.conv_1 = torch.nn.Conv2d(in_channels=1,\n",
    "                                      out_channels=4,\n",
    "                                      kernel_size=(3, 3),\n",
    "                                      stride=(1, 1),\n",
    "                                      # (1(28-1) - 28 + 3) / 2 = 1\n",
    "                                      padding=1) \n",
    "        # 28x28x4 => 14x14x4                              \n",
    "        self.pool_1 = torch.nn.MaxPool2d(kernel_size=(2, 2),\n",
    "                                         stride=(2, 2),\n",
    "                                         # (2(14-1) - 28 + 2) / 2 = 0\n",
    "                                         padding=0)                                       \n",
    "        # 14x14x4 => 14x14x8\n",
    "        self.conv_2 = torch.nn.Conv2d(in_channels=4,\n",
    "                                      out_channels=8,\n",
    "                                      kernel_size=(3, 3),\n",
    "                                      stride=(1, 1),\n",
    "                                      # (1(14-1) - 14 + 3) / 2 = 1\n",
    "                                      padding=1)                 \n",
    "        # 14x14x8 => 7x7x8                             \n",
    "        self.pool_2 = torch.nn.MaxPool2d(kernel_size=(2, 2),\n",
    "                                         stride=(2, 2),\n",
    "                                         # (2(7-1) - 14 + 2) / 2 = 0\n",
    "                                         padding=0)\n",
    "        \n",
    "        ### DECODER\n",
    "                                         \n",
    "        # 7x7x8 => 15x15x4                          \n",
    "        self.deconv_1 = torch.nn.ConvTranspose2d(in_channels=8,\n",
    "                                                 out_channels=4,\n",
    "                                                 kernel_size=(3, 3),\n",
    "                                                 stride=(2, 2),\n",
    "                                                 padding=0)\n",
    "        \n",
    "        # 15x15x4  => 31x31x1                           \n",
    "        self.deconv_2 = torch.nn.ConvTranspose2d(in_channels=4,\n",
    "                                                 out_channels=1,\n",
    "                                                 kernel_size=(3, 3),\n",
    "                                                 stride=(2, 2),\n",
    "                                                 padding=0)\n",
    "        \n",
    "    def forward(self, x):\n",
    "        \n",
    "        ### ENCODER\n",
    "        x = self.conv_1(x)\n",
    "        x = F.leaky_relu(x)\n",
    "        x = self.pool_1(x)\n",
    "        x = self.conv_2(x)\n",
    "        x = F.leaky_relu(x)\n",
    "        x = self.pool_2(x)\n",
    "        \n",
    "        ### DECODER\n",
    "        x = self.deconv_1(x)\n",
    "        x = F.leaky_relu(x)\n",
    "        x = self.deconv_2(x)\n",
    "        x = F.leaky_relu(x)\n",
    "        logits = x[:, :, 2:30, 2:30]\n",
    "        probas = torch.sigmoid(logits)\n",
    "        return logits, probas\n",
    "\n",
    "    \n",
    "torch.manual_seed(random_seed)\n",
    "model = ConvolutionalAutoencoder()\n",
    "model = model.to(device)\n",
    "\n",
    "optimizer = torch.optim.Adam(model.parameters(), lr=learning_rate) "
   ]
  },
  {
   "cell_type": "markdown",
   "metadata": {},
   "source": [
    "# 4.训练"
   ]
  },
  {
   "cell_type": "code",
   "execution_count": 5,
   "metadata": {
    "scrolled": false
   },
   "outputs": [
    {
     "name": "stdout",
     "output_type": "stream",
     "text": [
      "Epoch: 001/010 | Batch 000/468 | Cost: 0.7191\n",
      "Epoch: 001/010 | Batch 050/468 | Cost: 0.6911\n",
      "Epoch: 001/010 | Batch 100/468 | Cost: 0.5994\n",
      "Epoch: 001/010 | Batch 150/468 | Cost: 0.3594\n",
      "Epoch: 001/010 | Batch 200/468 | Cost: 0.3035\n",
      "Epoch: 001/010 | Batch 250/468 | Cost: 0.2480\n",
      "Epoch: 001/010 | Batch 300/468 | Cost: 0.2085\n",
      "Epoch: 001/010 | Batch 350/468 | Cost: 0.1782\n",
      "Epoch: 001/010 | Batch 400/468 | Cost: 0.1588\n",
      "Epoch: 001/010 | Batch 450/468 | Cost: 0.1535\n",
      "Time elapsed: 0.21 min\n",
      "Epoch: 002/010 | Batch 000/468 | Cost: 0.1446\n",
      "Epoch: 002/010 | Batch 050/468 | Cost: 0.1367\n",
      "Epoch: 002/010 | Batch 100/468 | Cost: 0.1364\n",
      "Epoch: 002/010 | Batch 150/468 | Cost: 0.1282\n",
      "Epoch: 002/010 | Batch 200/468 | Cost: 0.1287\n",
      "Epoch: 002/010 | Batch 250/468 | Cost: 0.1243\n",
      "Epoch: 002/010 | Batch 300/468 | Cost: 0.1225\n",
      "Epoch: 002/010 | Batch 350/468 | Cost: 0.1239\n",
      "Epoch: 002/010 | Batch 400/468 | Cost: 0.1238\n",
      "Epoch: 002/010 | Batch 450/468 | Cost: 0.1193\n",
      "Time elapsed: 0.41 min\n",
      "Epoch: 003/010 | Batch 000/468 | Cost: 0.1194\n",
      "Epoch: 003/010 | Batch 050/468 | Cost: 0.1195\n",
      "Epoch: 003/010 | Batch 100/468 | Cost: 0.1213\n",
      "Epoch: 003/010 | Batch 150/468 | Cost: 0.1163\n",
      "Epoch: 003/010 | Batch 200/468 | Cost: 0.1110\n",
      "Epoch: 003/010 | Batch 250/468 | Cost: 0.1141\n",
      "Epoch: 003/010 | Batch 300/468 | Cost: 0.1091\n",
      "Epoch: 003/010 | Batch 350/468 | Cost: 0.1161\n",
      "Epoch: 003/010 | Batch 400/468 | Cost: 0.1141\n",
      "Epoch: 003/010 | Batch 450/468 | Cost: 0.1069\n",
      "Time elapsed: 0.61 min\n",
      "Epoch: 004/010 | Batch 000/468 | Cost: 0.1121\n",
      "Epoch: 004/010 | Batch 050/468 | Cost: 0.1131\n",
      "Epoch: 004/010 | Batch 100/468 | Cost: 0.1043\n",
      "Epoch: 004/010 | Batch 150/468 | Cost: 0.1098\n",
      "Epoch: 004/010 | Batch 200/468 | Cost: 0.1105\n",
      "Epoch: 004/010 | Batch 250/468 | Cost: 0.1097\n",
      "Epoch: 004/010 | Batch 300/468 | Cost: 0.1103\n",
      "Epoch: 004/010 | Batch 350/468 | Cost: 0.1086\n",
      "Epoch: 004/010 | Batch 400/468 | Cost: 0.1039\n",
      "Epoch: 004/010 | Batch 450/468 | Cost: 0.1096\n",
      "Time elapsed: 0.81 min\n",
      "Epoch: 005/010 | Batch 000/468 | Cost: 0.1044\n",
      "Epoch: 005/010 | Batch 050/468 | Cost: 0.1029\n",
      "Epoch: 005/010 | Batch 100/468 | Cost: 0.1028\n",
      "Epoch: 005/010 | Batch 150/468 | Cost: 0.1062\n",
      "Epoch: 005/010 | Batch 200/468 | Cost: 0.1055\n",
      "Epoch: 005/010 | Batch 250/468 | Cost: 0.1048\n",
      "Epoch: 005/010 | Batch 300/468 | Cost: 0.1071\n",
      "Epoch: 005/010 | Batch 350/468 | Cost: 0.1059\n",
      "Epoch: 005/010 | Batch 400/468 | Cost: 0.1024\n",
      "Epoch: 005/010 | Batch 450/468 | Cost: 0.1072\n",
      "Time elapsed: 1.01 min\n",
      "Epoch: 006/010 | Batch 000/468 | Cost: 0.1045\n",
      "Epoch: 006/010 | Batch 050/468 | Cost: 0.0979\n",
      "Epoch: 006/010 | Batch 100/468 | Cost: 0.1025\n",
      "Epoch: 006/010 | Batch 150/468 | Cost: 0.1058\n",
      "Epoch: 006/010 | Batch 200/468 | Cost: 0.1040\n",
      "Epoch: 006/010 | Batch 250/468 | Cost: 0.1010\n",
      "Epoch: 006/010 | Batch 300/468 | Cost: 0.0988\n",
      "Epoch: 006/010 | Batch 350/468 | Cost: 0.1008\n",
      "Epoch: 006/010 | Batch 400/468 | Cost: 0.1018\n",
      "Epoch: 006/010 | Batch 450/468 | Cost: 0.1041\n",
      "Time elapsed: 1.22 min\n",
      "Epoch: 007/010 | Batch 000/468 | Cost: 0.0973\n",
      "Epoch: 007/010 | Batch 050/468 | Cost: 0.0974\n",
      "Epoch: 007/010 | Batch 100/468 | Cost: 0.0998\n",
      "Epoch: 007/010 | Batch 150/468 | Cost: 0.1017\n",
      "Epoch: 007/010 | Batch 200/468 | Cost: 0.1004\n",
      "Epoch: 007/010 | Batch 250/468 | Cost: 0.0936\n",
      "Epoch: 007/010 | Batch 300/468 | Cost: 0.0964\n",
      "Epoch: 007/010 | Batch 350/468 | Cost: 0.1012\n",
      "Epoch: 007/010 | Batch 400/468 | Cost: 0.0983\n",
      "Epoch: 007/010 | Batch 450/468 | Cost: 0.0986\n",
      "Time elapsed: 1.41 min\n",
      "Epoch: 008/010 | Batch 000/468 | Cost: 0.1011\n",
      "Epoch: 008/010 | Batch 050/468 | Cost: 0.0992\n",
      "Epoch: 008/010 | Batch 100/468 | Cost: 0.0986\n",
      "Epoch: 008/010 | Batch 150/468 | Cost: 0.0973\n",
      "Epoch: 008/010 | Batch 200/468 | Cost: 0.0981\n",
      "Epoch: 008/010 | Batch 250/468 | Cost: 0.0954\n",
      "Epoch: 008/010 | Batch 300/468 | Cost: 0.0953\n",
      "Epoch: 008/010 | Batch 350/468 | Cost: 0.0925\n",
      "Epoch: 008/010 | Batch 400/468 | Cost: 0.0981\n",
      "Epoch: 008/010 | Batch 450/468 | Cost: 0.0969\n",
      "Time elapsed: 1.66 min\n",
      "Epoch: 009/010 | Batch 000/468 | Cost: 0.0980\n",
      "Epoch: 009/010 | Batch 050/468 | Cost: 0.0953\n",
      "Epoch: 009/010 | Batch 100/468 | Cost: 0.0998\n",
      "Epoch: 009/010 | Batch 150/468 | Cost: 0.0975\n",
      "Epoch: 009/010 | Batch 200/468 | Cost: 0.0968\n",
      "Epoch: 009/010 | Batch 250/468 | Cost: 0.0965\n",
      "Epoch: 009/010 | Batch 300/468 | Cost: 0.0944\n",
      "Epoch: 009/010 | Batch 350/468 | Cost: 0.0979\n",
      "Epoch: 009/010 | Batch 400/468 | Cost: 0.0981\n",
      "Epoch: 009/010 | Batch 450/468 | Cost: 0.0972\n",
      "Time elapsed: 1.87 min\n",
      "Epoch: 010/010 | Batch 000/468 | Cost: 0.0970\n",
      "Epoch: 010/010 | Batch 050/468 | Cost: 0.0967\n",
      "Epoch: 010/010 | Batch 100/468 | Cost: 0.0972\n",
      "Epoch: 010/010 | Batch 150/468 | Cost: 0.0947\n",
      "Epoch: 010/010 | Batch 200/468 | Cost: 0.0978\n",
      "Epoch: 010/010 | Batch 250/468 | Cost: 0.0961\n",
      "Epoch: 010/010 | Batch 300/468 | Cost: 0.0998\n",
      "Epoch: 010/010 | Batch 350/468 | Cost: 0.0910\n",
      "Epoch: 010/010 | Batch 400/468 | Cost: 0.0966\n",
      "Epoch: 010/010 | Batch 450/468 | Cost: 0.0955\n",
      "Time elapsed: 2.07 min\n",
      "Total Training Time: 2.07 min\n"
     ]
    }
   ],
   "source": [
    "start_time = time.time()\n",
    "bar = ProgressBar(num_epochs, len(train_loader), \"Loss:%.3f\")\n",
    "for epoch in range(1, num_epochs+1):\n",
    "    for batch_idx, (features, targets) in enumerate(train_loader):\n",
    "        \n",
    "        # don't need labels, only the images (features)\n",
    "        features = features.to(device)\n",
    "\n",
    "        ### FORWARD AND BACK PROP\n",
    "        logits, decoded = model(features)\n",
    "        cost = F.binary_cross_entropy_with_logits(logits, features)\n",
    "        optimizer.zero_grad()\n",
    "        \n",
    "        cost.backward()\n",
    "        \n",
    "        ### UPDATE MODEL PARAMETERS\n",
    "        optimizer.step()\n",
    "\n",
    "        bar.show(epoch, cost)"
   ]
  },
  {
   "cell_type": "markdown",
   "metadata": {},
   "source": [
    "# 5.评估"
   ]
  },
  {
   "cell_type": "code",
   "execution_count": 6,
   "metadata": {},
   "outputs": [
    {
     "data": {
      "image/png": "[encoded data removed]",
      "text/plain": [
       "<Figure size 1440x180 with 30 Axes>"
      ]
     },
     "metadata": {
      "needs_background": "light"
     },
     "output_type": "display_data"
    }
   ],
   "source": [
    "%matplotlib inline\n",
    "import matplotlib.pyplot as plt\n",
    "\n",
    "n_images = 15\n",
    "image_width = 28\n",
    "\n",
    "fig, axes = plt.subplots(nrows=2, ncols=n_images, \n",
    "                         sharex=True, sharey=True, figsize=(20, 2.5))\n",
    "orig_images = features[:n_images]\n",
    "decoded_images = decoded[:n_images]\n",
    "\n",
    "for i in range(n_images):\n",
    "    for ax, img in zip(axes, [orig_images, decoded_images]):\n",
    "        curr_img = img[i].detach().to(torch.device('cpu'))\n",
    "        ax[i].imshow(curr_img.view((image_width, image_width)), cmap='binary')"
   ]
  }
 ],
 "metadata": {
  "file_extension": ".py",
  "kernelspec": {
   "name": "Python 3.6.10 64-bit ('pytorch1.1': conda)",
   "display_name": "Python 3.6.10 64-bit ('pytorch1.1': conda)",
   "metadata": {
    "interpreter": {
     "hash": "176033159e96f18934e101292e988e0a547a3e7a344aae3d7ae042daa6541ec5"
    }
   }
  },
  "language_info": {
   "codemirror_mode": {
    "name": "ipython",
    "version": 3
   },
   "file_extension": ".py",
   "mimetype": "text/x-python",
   "name": "python",
   "nbconvert_exporter": "python",
   "pygments_lexer": "ipython3",
   "version": "3.6.10-final"
  },
  "mimetype": "text/x-python",
  "name": "python",
  "npconvert_exporter": "python",
  "pygments_lexer": "ipython3",
  "version": 3
 },
 "nbformat": 4,
 "nbformat_minor": 2
}