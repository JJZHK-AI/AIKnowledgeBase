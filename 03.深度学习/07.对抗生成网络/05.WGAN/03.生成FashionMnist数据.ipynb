{
 "nbformat": 4,
 "nbformat_minor": 2,
 "metadata": {
  "language_info": {
   "name": "python",
   "codemirror_mode": {
    "name": "ipython",
    "version": 3
   }
  },
  "orig_nbformat": 2,
  "file_extension": ".py",
  "mimetype": "text/x-python",
  "name": "python",
  "npconvert_exporter": "python",
  "pygments_lexer": "ipython3",
  "version": 3
 },
 "cells": [
  {
   "cell_type": "markdown",
   "metadata": {},
   "source": [
    "使用Wasserstein对抗生成网络生成FashionMnist数据\n",
    "==="
   ]
  },
  {
   "cell_type": "markdown",
   "metadata": {},
   "source": [
    "# 1.全局设置"
   ]
  },
  {
   "cell_type": "code",
   "execution_count": null,
   "metadata": {},
   "outputs": [],
   "source": [
    "import torch\n",
    "import torchvision as tv\n",
    "import matplotlib.pyplot as plt\n",
    "import numpy as np\n",
    "\n",
    "import sys\n",
    "sys.path.append(\"../\")\n",
    "import jjzhk.progressbar as bar\n",
    "\n",
    "DATA_PATH = \"/input/FashionMNIST/\"\n",
    "NOISE_DIM = 100\n",
    "IMAGE_SIZE = 28\n",
    "IMAGE_CHANNEL = 1\n",
    "BATCH_SIZE = 64\n",
    "EPOCHS = 100\n",
    "CLAMP_NUM = 0.01\n",
    "LEARNING_RATE=5e-5"
   ]
  },
  {
   "cell_type": "code",
   "execution_count": null,
   "metadata": {},
   "outputs": [],
   "source": [
    "def weight_init(net):\n",
    "    for m in net.modules():\n",
    "        if isinstance(m, torch.nn.Conv2d):\n",
    "            m.weight.data.normal_(0, 0.02)\n",
    "            m.bias.data.zero_()\n",
    "        elif isinstance(m, torch.nn.ConvTranspose2d):\n",
    "            m.weight.data.normal_(0, 0.02)\n",
    "            m.bias.data.zero_()\n",
    "        elif isinstance(m, torch.nn.Linear):\n",
    "            m.weight.data.normal_(0, 0.02)\n",
    "            m.bias.data.zero_()"
   ]
  },
  {
   "cell_type": "markdown",
   "metadata": {},
   "source": [
    "# 2.模型"
   ]
  },
  {
   "cell_type": "code",
   "execution_count": null,
   "metadata": {},
   "outputs": [],
   "source": [
    "class Generator(torch.nn.Module):\n",
    "    def __init__(self):\n",
    "        super(Generator, self).__init__()\n",
    "        self.fc1 = torch.nn.Sequential(\n",
    "            torch.nn.Linear(NOISE_DIM, 1024),\n",
    "            torch.nn.BatchNorm1d(num_features=1024),\n",
    "            torch.nn.ReLU(inplace=True)\n",
    "        )\n",
    "\n",
    "        self.fc2 = torch.nn.Sequential(\n",
    "            torch.nn.Linear(1024, 128 * 7 * 7),\n",
    "            torch.nn.BatchNorm1d(num_features=128*7*7),\n",
    "            torch.nn.ReLU(inplace=True)\n",
    "        )\n",
    "\n",
    "        self.deconv1 = torch.nn.Sequential(\n",
    "            torch.nn.ConvTranspose2d(128, 64, 4, 2, 1),\n",
    "            torch.nn.BatchNorm2d(num_features=64),\n",
    "            torch.nn.ReLU(inplace=True)\n",
    "        )\n",
    "\n",
    "        self.deconv2 = torch.nn.Sequential(\n",
    "            torch.nn.ConvTranspose2d(64, IMAGE_CHANNEL, 4, 2, 1),\n",
    "            torch.nn.Tanh()\n",
    "        )\n",
    "\n",
    "        weight_init(self)\n",
    "\n",
    "    def forward(self, x):\n",
    "        output = self.fc1(x)\n",
    "        output = self.fc2(output)\n",
    "        output = output.view(-1, 128, 7, 7)\n",
    "        output = self.deconv1(output)\n",
    "        output = self.deconv2(output)\n",
    "\n",
    "        return output\n",
    "\n",
    "class Discriminator(torch.nn.Module):\n",
    "    def __init__(self):\n",
    "        super(Discriminator, self).__init__()\n",
    "        self.conv1 = torch.nn.Sequential(\n",
    "            torch.nn.Conv2d(IMAGE_CHANNEL, 64, 4, 2, 1),\n",
    "            torch.nn.LeakyReLU(negative_slope=0.2)\n",
    "        )\n",
    "\n",
    "        self.conv2 = torch.nn.Sequential(\n",
    "            torch.nn.Conv2d(64, 128, 4, 2, 1),\n",
    "            torch.nn.BatchNorm2d(num_features=128),\n",
    "            torch.nn.LeakyReLU(negative_slope=0.2)\n",
    "        )\n",
    "\n",
    "        self.fc1 = torch.nn.Sequential(\n",
    "            torch.nn.Linear(128*7*7, 1024),\n",
    "            torch.nn.BatchNorm1d(1024),\n",
    "            torch.nn.LeakyReLU(negative_slope=0.2)\n",
    "        )\n",
    "\n",
    "        self.fc2 = torch.nn.Sequential(\n",
    "            torch.nn.Linear(1024, 1)\n",
    "        )\n",
    "\n",
    "        weight_init(self)\n",
    "\n",
    "    def forward(self, x):\n",
    "        output = self.conv1(x)\n",
    "        output = self.conv2(output)\n",
    "        output = output.view(-1, 128*7*7)\n",
    "        output = self.fc1(output)\n",
    "        output = self.fc2(output)\n",
    "        output = output.mean(0).view(1)\n",
    "\n",
    "        return output"
   ]
  },
  {
   "cell_type": "markdown",
   "metadata": {},
   "source": [
    "# 3.导入数据"
   ]
  },
  {
   "cell_type": "code",
   "execution_count": null,
   "metadata": {},
   "outputs": [],
   "source": [
    "NetD = Discriminator()\n",
    "NetG = Generator()\n",
    "\n",
    "optimizerD = torch.optim.RMSprop(NetD.parameters(), lr=LEARNING_RATE)\n",
    "optimizerG = torch.optim.RMSprop(NetG.parameters(), lr=LEARNING_RATE)\n",
    "\n",
    "trans = tv.transforms.Compose([tv.transforms.ToTensor(),\n",
    "                               tv.transforms.Normalize([0.5], [0.5])\n",
    "                               ])\n",
    "train_dataset = tv.datasets.FashionMNIST(root=DATA_PATH,\n",
    "                               train=True,\n",
    "                               transform=trans,\n",
    "                               download=True)\n",
    "\n",
    "train_loader = torch.utils.data.DataLoader(dataset=train_dataset,\n",
    "                          batch_size=BATCH_SIZE,\n",
    "                          shuffle=True)\n",
    "\n",
    "one=torch.FloatTensor([1])\n",
    "mone = -1 * one\n",
    "one_var  = torch.autograd.Variable(one)\n",
    "mone_var = torch.autograd.Variable(mone)\n",
    "\n",
    "fix_noise     = torch.FloatTensor(100, NOISE_DIM).normal_(0,1)\n",
    "fix_noise_var = torch.autograd.Variable(fix_noise)\n",
    "\n",
    "if torch.cuda.is_available() > 0:\n",
    "    NetG = NetG.cuda()\n",
    "    NetD = NetD.cuda()\n",
    "    one_var = one_var.cuda()\n",
    "    mone_var = mone_var.cuda()\n",
    "    fix_noise_var = fix_noise_var.cuda()"
   ]
  },
  {
   "cell_type": "markdown",
   "metadata": {},
   "source": [
    "# 4.训练"
   ]
  },
  {
   "cell_type": "code",
   "execution_count": null,
   "metadata": {},
   "outputs": [],
   "source": [
    "showbar = bar.ProgressBar(EPOCHS, len(train_loader), \"D Loss:%.3f;G Loss:%.3f\")\n",
    "for epoch in range(1, EPOCHS + 1):\n",
    "    for index, (image, label) in enumerate(train_loader):\n",
    "        real  = image\n",
    "        real_var = torch.autograd.Variable(real)\n",
    "        noise = torch.randn(real_var.size(0),NOISE_DIM)\n",
    "        noise_var = torch.autograd.Variable(noise)\n",
    "\n",
    "        if torch.cuda.is_available():\n",
    "            real_var = real_var.cuda()\n",
    "            noise_var = noise_var.cuda()\n",
    "\n",
    "        for parm in NetD.parameters():\n",
    "            parm.data.clamp_(-CLAMP_NUM, CLAMP_NUM)\n",
    "\n",
    "        NetD.zero_grad()\n",
    "        D_real=NetD(real_var)\n",
    "        D_real.backward(one_var)\n",
    "\n",
    "        fake_pic=NetG(noise_var).detach()\n",
    "        D_fake=NetD(fake_pic)\n",
    "        D_fake.backward(mone_var)\n",
    "        optimizerD.step()\n",
    "\n",
    "        G_ = D_fake\n",
    "        if (index+1)%5 ==0:\n",
    "            NetG.zero_grad()\n",
    "            noise.data.normal_(0,1)\n",
    "            fake_pic=NetG(noise_var)\n",
    "            G_=NetD(fake_pic)\n",
    "            G_.backward(one_var)\n",
    "            optimizerG.step()\n",
    "            if index%100==0:\n",
    "                pass\n",
    "        showbar.show(epoch, D_fake.item(), G_.item())"
   ]
  },
  {
   "cell_type": "markdown",
   "metadata": {},
   "source": [
    "# 5.生成数据"
   ]
  },
  {
   "cell_type": "code",
   "execution_count": null,
   "metadata": {},
   "outputs": [],
   "source": []
  },
  {
   "cell_type": "code",
   "execution_count": null,
   "metadata": {},
   "outputs": [],
   "source": []
  },
  {
   "cell_type": "code",
   "execution_count": null,
   "metadata": {},
   "outputs": [],
   "source": []
  }
 ]
}