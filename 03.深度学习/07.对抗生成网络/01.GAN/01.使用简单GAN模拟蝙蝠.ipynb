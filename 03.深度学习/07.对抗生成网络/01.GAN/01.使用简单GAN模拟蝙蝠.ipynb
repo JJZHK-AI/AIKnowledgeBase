{
 "cells": [
  {
   "cell_type": "markdown",
   "metadata": {},
   "source": [
    "使用简单GAN模拟蝙蝠\n",
    "==="
   ]
  },
  {
   "cell_type": "markdown",
   "metadata": {},
   "source": [
    "# 1.简单模型"
   ]
  },
  {
   "cell_type": "code",
   "execution_count": 4,
   "metadata": {},
   "outputs": [],
   "source": [
    "import skimage.io as si\n",
    "import torch\n",
    "import sys\n",
    "sys.path.append('../')\n",
    "import JLib.utils as utils\n",
    "import jjzhk.imageutils  as iu\n",
    "import jjzhk.progressbar as bar\n",
    "\n",
    "class SimpleMLP(torch.nn.Module):\n",
    "    def __init__(self, input_size, hidden_size, output_size):\n",
    "        super(SimpleMLP, self).__init__()\n",
    "        self.map1 = torch.nn.Linear(input_size, hidden_size)\n",
    "        self.map2 = torch.nn.Linear(hidden_size, output_size)\n",
    "\n",
    "    def forward(self, x):\n",
    "        x = torch.nn.LeakyReLU(negative_slope = 0.1)(self.map1(x))\n",
    "        return torch.nn.functional.sigmoid(self.map2(x))"
   ]
  },
  {
   "cell_type": "markdown",
   "metadata": {},
   "source": [
    "# 2.全局设置"
   ]
  },
  {
   "cell_type": "code",
   "execution_count": 9,
   "metadata": {},
   "outputs": [
    {
     "data": {
      "image/png": "[encoded data removed]",
      "text/plain": [
       "<Figure size 972x288 with 3 Axes>"
      ]
     },
     "metadata": {
      "needs_background": "light"
     },
     "output_type": "display_data"
    }
   ],
   "source": [
    "z_dim = 2\n",
    "DIMENSION = 2\n",
    "iterations = 3000\n",
    "bs = 2000\n",
    "\n",
    "INPUT_IMAGE_PATH = \"inputs/batman.jpg\"\n",
    "density_img = si.imread(INPUT_IMAGE_PATH, True)\n",
    "lut_2d = utils.generate_lut(density_img)\n",
    "\n",
    "visualizer = utils.GANDemoVisualizer('GAN 2D Example Visualization of {}'.format(INPUT_IMAGE_PATH))\n",
    "generator = SimpleMLP(input_size=z_dim, hidden_size=50, output_size=DIMENSION)\n",
    "discriminator = SimpleMLP(input_size=DIMENSION, hidden_size=100, output_size=1)\n",
    "\n",
    "if torch.cuda.is_available():\n",
    "    generator = generator.cuda()\n",
    "    discriminator = discriminator.cuda()\n",
    "\n",
    "criterion = torch.nn.BCELoss()\n",
    "d_optimizer = torch.optim.Adadelta(discriminator.parameters(), lr=1)\n",
    "g_optimizer = torch.optim.Adadelta(generator.parameters(), lr=1)"
   ]
  },
  {
   "cell_type": "markdown",
   "metadata": {},
   "source": [
    "# 3.训练"
   ]
  },
  {
   "cell_type": "code",
   "execution_count": 7,
   "metadata": {},
   "outputs": [
    {
     "name": "stdout",
     "output_type": "stream",
     "text": [
      "\r",
      "Epoch:1 / 1 [                                                                                                    ] 1 / 3000 ,D Loss:(real/fake) 0.684/0.705,G Loss:0.685,remain=0:32:23"
     ]
    },
    {
     "name": "stderr",
     "output_type": "stream",
     "text": [
      "/usr/local/miniconda3/envs/dl/lib/python3.6/site-packages/torch/nn/functional.py:1332: UserWarning: nn.functional.sigmoid is deprecated. Use torch.sigmoid instead.\n",
      "  warnings.warn(\"nn.functional.sigmoid is deprecated. Use torch.sigmoid instead.\")\n",
      "/usr/local/miniconda3/envs/dl/lib/python3.6/site-packages/torch/nn/functional.py:2016: UserWarning: Using a target size (torch.Size([2000])) that is different to the input size (torch.Size([2000, 1])) is deprecated. Please ensure they have the same size.\n",
      "  \"Please ensure they have the same size.\".format(target.size(), input.size()))\n"
     ]
    },
    {
     "name": "stdout",
     "output_type": "stream",
     "text": [
      "Epoch:1 / 1 [****************************************************************************************************] 3000 / 3000 ,D Loss:(real/fake) 0.692/0.694,G Loss:0.692,total=0:09:000\n"
     ]
    }
   ],
   "source": [
    "proBar = bar.ProgressBar(1, iterations, \"D Loss:(real/fake) %.3f/%.3f,G Loss:%.3f\")\n",
    "\n",
    "for train_iter in range(1, iterations + 1):\n",
    "    for d_index in range(3):\n",
    "        # 1. Train D on real+fake\n",
    "        discriminator.zero_grad()\n",
    "\n",
    "        #  1A: Train D on real\n",
    "        real_samples = utils.sample_2d(lut_2d, bs)\n",
    "        d_real_data = torch.autograd.Variable(torch.Tensor(real_samples))\n",
    "        if torch.cuda.is_available() > 0:\n",
    "            d_real_data = d_real_data.cuda()\n",
    "        d_real_decision = discriminator(d_real_data)\n",
    "        labels = torch.autograd.Variable(torch.ones(bs))\n",
    "        if torch.cuda.is_available() > 0:\n",
    "            labels = labels.cuda()\n",
    "        d_real_loss = criterion(d_real_decision, labels)  # ones = true\n",
    "\n",
    "        #  1B: Train D on fake\n",
    "        latent_samples = torch.randn(bs, z_dim)\n",
    "        d_gen_input = torch.autograd.Variable(latent_samples)\n",
    "        if torch.cuda.is_available() > 0:\n",
    "            d_gen_input = d_gen_input.cuda()\n",
    "        d_fake_data = generator(d_gen_input).detach()  # detach to avoid training G on these labels\n",
    "        d_fake_decision = discriminator(d_fake_data)\n",
    "        labels = torch.autograd.Variable(torch.zeros(bs))\n",
    "        if torch.cuda.is_available() > 0:\n",
    "            labels = labels.cuda()\n",
    "        d_fake_loss = criterion(d_fake_decision, labels)  # zeros = fake\n",
    "\n",
    "        d_loss = d_real_loss + d_fake_loss\n",
    "        d_loss.backward()\n",
    "\n",
    "        d_optimizer.step()     # Only optimizes D's parameters; changes based on stored gradients from backward()\n",
    "\n",
    "    for g_index in range(1):\n",
    "        # 2. Train G on D's response (but DO NOT train D on these labels)\n",
    "        generator.zero_grad()\n",
    "\n",
    "        latent_samples = torch.randn(bs, z_dim)\n",
    "        g_gen_input = torch.autograd.Variable(latent_samples)\n",
    "        if torch.cuda.is_available() > 0:\n",
    "            g_gen_input = g_gen_input.cuda()\n",
    "        g_fake_data = generator(g_gen_input)\n",
    "        g_fake_decision = discriminator(g_fake_data)\n",
    "        labels = torch.autograd.Variable(torch.ones(bs))\n",
    "        if torch.cuda.is_available() > 0:\n",
    "            labels = labels.cuda()\n",
    "        g_loss = criterion(g_fake_decision, labels)  # we want to fool, so pretend it's all genuine\n",
    "\n",
    "        g_loss.backward()\n",
    "        g_optimizer.step()  # Only optimizes G's parameters\n",
    "\n",
    "    loss_d_real = d_real_loss.item()\n",
    "    loss_d_fake = d_fake_loss.item()\n",
    "    loss_g = g_loss.item()\n",
    "\n",
    "    proBar.show(1, loss_d_real, loss_d_fake, loss_g)\n",
    "    if train_iter == 1 or train_iter % 100 == 0:\n",
    "        msg = 'Iteration {}: D_loss(real/fake): {:.6g}/{:.6g} G_loss: {:.6g}'.format(train_iter, loss_d_real, loss_d_fake, loss_g)\n",
    "\n",
    "        gen_samples = g_fake_data.data.cpu().numpy()\n",
    "\n",
    "        visualizer.draw(real_samples, gen_samples, msg, show=False)\n",
    "        visualizer.savefig('outputs/Pytorch_Batman_%04d' % train_iter)\n"
   ]
  },
  {
   "cell_type": "markdown",
   "metadata": {},
   "source": [
    "# 4.生成gif"
   ]
  },
  {
   "cell_type": "code",
   "execution_count": 8,
   "metadata": {},
   "outputs": [],
   "source": [
    "maker = iu.ImageToGif()\n",
    "maker(\"outputs\")"
   ]
  },
  {
   "cell_type": "markdown",
   "metadata": {},
   "source": [
    "![images](images/batman.gif)"
   ]
  }
 ],
 "metadata": {
  "file_extension": ".py",
  "kernelspec": {
   "display_name": "Python 3",
   "language": "python",
   "name": "python3"
  },
  "language_info": {
   "codemirror_mode": {
    "name": "ipython",
    "version": 3
   },
   "file_extension": ".py",
   "mimetype": "text/x-python",
   "name": "python",
   "nbconvert_exporter": "python",
   "pygments_lexer": "ipython3",
   "version": "3.6.10-final"
  },
  "mimetype": "text/x-python",
  "name": "python",
  "npconvert_exporter": "python",
  "pygments_lexer": "ipython3",
  "version": 3
 },
 "nbformat": 4,
 "nbformat_minor": 2
}