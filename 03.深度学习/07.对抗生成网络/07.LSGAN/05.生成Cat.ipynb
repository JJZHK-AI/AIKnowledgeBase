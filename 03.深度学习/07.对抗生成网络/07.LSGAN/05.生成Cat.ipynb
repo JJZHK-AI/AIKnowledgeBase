{
 "nbformat": 4,
 "nbformat_minor": 2,
 "metadata": {
  "language_info": {
   "name": "python",
   "codemirror_mode": {
    "name": "ipython",
    "version": 3
   }
  },
  "orig_nbformat": 2,
  "file_extension": ".py",
  "mimetype": "text/x-python",
  "name": "python",
  "npconvert_exporter": "python",
  "pygments_lexer": "ipython3",
  "version": 3
 },
 "cells": [
  {
   "cell_type": "markdown",
   "metadata": {},
   "source": [
    "使用最小二乘对抗生成网络生成Cat数据\n",
    "==="
   ]
  },
  {
   "cell_type": "markdown",
   "metadata": {},
   "source": [
    "# 1.全局设置"
   ]
  },
  {
   "cell_type": "code",
   "execution_count": null,
   "metadata": {},
   "outputs": [],
   "source": [
    "import torch\n",
    "import torchvision as tv\n",
    "import matplotlib.pyplot as plt\n",
    "import numpy as np\n",
    "\n",
    "import sys\n",
    "sys.path.append(\"../\")\n",
    "import jjzhk.progressbar as bar\n",
    "\n",
    "DATA_PATH = \"/input/Cat64\"\n",
    "EPOCH = 100\n",
    "GPU_NUMS = 1\n",
    "BATCH_SIZE = 64\n",
    "NOISE_DIM  = 100\n",
    "IMAGE_CHANNEL = 3\n",
    "IMAGE_SIZE = 64\n",
    "LEARNING_RATE = 1e-4"
   ]
  },
  {
   "cell_type": "code",
   "execution_count": null,
   "metadata": {},
   "outputs": [],
   "source": [
    "def weights_init(m):\n",
    "    classname = m.__class__.__name__\n",
    "    if classname.find('Conv') != -1:\n",
    "        m.weight.data.normal_(0.0, 0.02)\n",
    "    elif classname.find('BatchNorm') != -1:\n",
    "        m.weight.data.normal_(1.0, 0.02)\n",
    "        m.bias.data.fill_(0)"
   ]
  },
  {
   "cell_type": "markdown",
   "metadata": {},
   "source": [
    "# 2.模型"
   ]
  },
  {
   "cell_type": "code",
   "execution_count": null,
   "metadata": {},
   "outputs": [],
   "source": [
    "class Generator(torch.nn.Module):\n",
    "    def __init__(self):\n",
    "        super(Generator, self).__init__()\n",
    "\n",
    "        self.deconv1 = torch.nn.Sequential(\n",
    "            torch.nn.ConvTranspose2d(NOISE_DIM, 1024, 4, 1, 0, bias=False),\n",
    "            torch.nn.BatchNorm2d(1024),\n",
    "            torch.nn.ReLU()\n",
    "        )\n",
    "\n",
    "        self.deconv2 = torch.nn.Sequential(\n",
    "            torch.nn.ConvTranspose2d(1024, 512, 4, 2, 1, bias=False),\n",
    "            torch.nn.BatchNorm2d(512),\n",
    "            torch.nn.ReLU()\n",
    "        )\n",
    "\n",
    "        self.deconv3 = torch.nn.Sequential(\n",
    "            torch.nn.ConvTranspose2d(512, 256, 4, 2, 1, bias=False),\n",
    "            torch.nn.BatchNorm2d(256),\n",
    "            torch.nn.ReLU()\n",
    "        )\n",
    "\n",
    "        self.deconv4 = torch.nn.Sequential(\n",
    "            torch.nn.ConvTranspose2d(256, 128, 4, 2, 1, bias=False),\n",
    "            torch.nn.BatchNorm2d(128),\n",
    "            torch.nn.ReLU()\n",
    "        )\n",
    "\n",
    "        self.deconv5 = torch.nn.Sequential(\n",
    "            torch.nn.ConvTranspose2d(128, IMAGE_CHANNEL, 4, 2, 1, bias=False),\n",
    "            torch.nn.Tanh()\n",
    "        )\n",
    "\n",
    "        weights_init(self)\n",
    "\n",
    "    def forward(self, x):\n",
    "        output = self.deconv1(x)\n",
    "        output = self.deconv2(output)\n",
    "        output = self.deconv3(output)\n",
    "        output = self.deconv4(output)\n",
    "        output = self.deconv5(output)\n",
    "        return output\n",
    "\n",
    "class Discriminator(torch.nn.Module):\n",
    "    def __init__(self):\n",
    "        super(Discriminator, self).__init__()\n",
    "        self.conv1 = torch.nn.Sequential(\n",
    "            torch.nn.Conv2d(IMAGE_CHANNEL, 128, 4, 2, 1, bias=False),\n",
    "            torch.nn.LeakyReLU(0.2, inplace=True)\n",
    "        )\n",
    "\n",
    "        self.conv2 = torch.nn.Sequential(\n",
    "            torch.nn.Conv2d(128, 256, 4, 2, 1, bias=False),\n",
    "            torch.nn.BatchNorm2d(256),\n",
    "            torch.nn.LeakyReLU(0.2, inplace=True)\n",
    "        )\n",
    "\n",
    "        self.conv3 = torch.nn.Sequential(\n",
    "            torch.nn.Conv2d(256, 512, 4, 2, 1, bias=False),\n",
    "            torch.nn.BatchNorm2d(512),\n",
    "            torch.nn.LeakyReLU(0.2, inplace=True)\n",
    "        )\n",
    "\n",
    "        self.conv4 = torch.nn.Sequential(\n",
    "            torch.nn.Conv2d(512, 1024, 4, 2, 1, bias=False),\n",
    "            torch.nn.BatchNorm2d(1024),\n",
    "            torch.nn.LeakyReLU(0.2, inplace=True)\n",
    "        )\n",
    "\n",
    "        self.conv5 = torch.nn.Sequential(\n",
    "            torch.nn.Conv2d(1024, 1, 4, 1, 0, bias=False),\n",
    "        )\n",
    "\n",
    "        weights_init(self)\n",
    "\n",
    "    def forward(self, x):\n",
    "        output = self.conv1(x)\n",
    "        output = self.conv2(output)\n",
    "        output = self.conv3(output)\n",
    "        output = self.conv4(output)\n",
    "        output = self.conv5(output)\n",
    "        output = output.view(-1)\n",
    "\n",
    "        return output"
   ]
  },
  {
   "cell_type": "markdown",
   "metadata": {},
   "source": [
    "# 3.导入数据"
   ]
  },
  {
   "cell_type": "code",
   "execution_count": null,
   "metadata": {},
   "outputs": [],
   "source": [
    "NetG = Generator()\n",
    "NetD = Discriminator()\n",
    "MSE_LOSS = torch.nn.MSELoss()\n",
    "optimizerD = torch.optim.Adam(NetD.parameters(), lr=LEARNING_RATE, betas=(0.5, 0.999))\n",
    "optimizerG = torch.optim.Adam(NetG.parameters(), lr=LEARNING_RATE, betas=(0.5, 0.999))\n",
    "trans = tv.transforms.Compose([\n",
    "    tv.transforms.Resize((IMAGE_SIZE, IMAGE_SIZE)),\n",
    "    tv.transforms.ToTensor(),\n",
    "    tv.transforms.Normalize(mean = [0.5, 0.5, 0.5], std = [0.5, 0.5, 0.5])\n",
    "])\n",
    "data = tv.datasets.ImageFolder(root=DATA_PATH, transform=trans)\n",
    "train_loader = torch.utils.data.DataLoader(data, batch_size=BATCH_SIZE, shuffle=True)\n",
    "\n",
    "fix_noise = torch.FloatTensor(100, NOISE_DIM, 1, 1).normal_(0, 1) # 初始化是非常重要的\n",
    "fix_noise_var = torch.autograd.Variable(fix_noise)\n",
    "\n",
    "if torch.cuda.is_available() > 0:\n",
    "    NetG = NetG.cuda()\n",
    "    NetD = NetD.cuda()\n",
    "    MSE_LOSS = MSE_LOSS.cuda()\n",
    "    fix_noise_var = fix_noise_var.cuda()"
   ]
  },
  {
   "cell_type": "markdown",
   "metadata": {},
   "source": [
    "# 4.训练"
   ]
  },
  {
   "cell_type": "code",
   "execution_count": null,
   "metadata": {},
   "outputs": [],
   "source": [
    "showbar = bar.ProgressBar(EPOCH, len(train_loader), \"D Loss:%.3f;G Loss:%.3f\")\n",
    "for epoch in range(1, EPOCH + 1):\n",
    "    NetG.train()\n",
    "    for index, (image, label) in enumerate(train_loader):\n",
    "        mini_batch = image.shape[0]\n",
    "        noise = torch.rand(mini_batch, NOISE_DIM)\n",
    "\n",
    "        real_var  = torch.autograd.Variable(image)\n",
    "        noise_var = torch.autograd.Variable(noise)\n",
    "        label_real_var = torch.autograd.Variable(torch.ones(mini_batch, 1 ))\n",
    "        label_fake_var = torch.autograd.Variable(torch.zeros(mini_batch, 1))\n",
    "\n",
    "        if torch.cuda.is_available():\n",
    "            real_var = real_var.cuda()\n",
    "            noise_var = noise_var.cuda()\n",
    "            label_real_var = label_real_var.cuda()\n",
    "            label_fake_var = label_fake_var.cuda()\n",
    "\n",
    "        NetD.zero_grad()\n",
    "\n",
    "        D_real = NetD(real_var)\n",
    "        D_real_loss = MSE_LOSS(D_real, label_real_var)\n",
    "\n",
    "        G_ = NetG(noise_var)\n",
    "        D_fake = NetD(G_)\n",
    "        D_fake_loss = MSE_LOSS(D_fake, label_fake_var)\n",
    "\n",
    "        D_loss = D_real_loss + D_fake_loss\n",
    "        D_loss.backward()\n",
    "        optimizerD.step()\n",
    "\n",
    "        NetG.zero_grad()\n",
    "\n",
    "        G_ = NetG(noise_var)\n",
    "        D_fake = NetD(G_)\n",
    "        G_loss = MSE_LOSS(D_fake, label_real_var)\n",
    "\n",
    "        G_loss.backward()\n",
    "        optimizerG.step()\n",
    "\n",
    "        showbar.show(epoch, D_loss.item(), G_loss.item())"
   ]
  },
  {
   "cell_type": "markdown",
   "metadata": {},
   "source": [
    "# 5.生成数据"
   ]
  },
  {
   "cell_type": "code",
   "execution_count": null,
   "metadata": {},
   "outputs": [],
   "source": [
    "fake_u=NetG(fix_noise_var)\n",
    "img = tv.utils.make_grid(fake_u.data[:100], nrow=10, normalize=True)\n",
    "plt.figure(figsize=(10,10), facecolor='w')\n",
    "plt.imshow(np.transpose(img.cpu(), (1, 2, 0)))"
   ]
  },
  {
   "cell_type": "code",
   "execution_count": null,
   "metadata": {},
   "outputs": [],
   "source": []
  }
 ]
}