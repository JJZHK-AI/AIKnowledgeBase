{
 "nbformat": 4,
 "nbformat_minor": 2,
 "metadata": {
  "language_info": {
   "name": "python",
   "codemirror_mode": {
    "name": "ipython",
    "version": 3
   }
  },
  "orig_nbformat": 2,
  "file_extension": ".py",
  "mimetype": "text/x-python",
  "name": "python",
  "npconvert_exporter": "python",
  "pygments_lexer": "ipython3",
  "version": 3
 },
 "cells": [
  {
   "cell_type": "markdown",
   "metadata": {},
   "source": [
    "使用DCGAN生成AnimateFace96*96数据\n",
    "==="
   ]
  },
  {
   "cell_type": "markdown",
   "metadata": {},
   "source": [
    "# 1.全局设置"
   ]
  },
  {
   "cell_type": "code",
   "execution_count": null,
   "metadata": {},
   "outputs": [],
   "source": [
    "import torch\n",
    "import torchvision as tv\n",
    "import matplotlib.pyplot as plt\n",
    "import numpy as np\n",
    "\n",
    "import sys\n",
    "sys.path.append(\"../\")\n",
    "import jjzhk.progressbar as bar\n",
    "DATA_PATH = '/input/AnimateFace/'\n",
    "LEARNING_RATE_D = 2e-4\n",
    "LEARNING_RATE_G = 2e-4\n",
    "IMAGE_CHANNEL = 3\n",
    "IMAGE_SIZE = 96\n",
    "BATCH_SIZE = 64\n",
    "EPOCH = 100\n",
    "NOISE_DIM = 100"
   ]
  },
  {
   "cell_type": "code",
   "execution_count": null,
   "metadata": {},
   "outputs": [],
   "source": [
    "def weights_init(m):\n",
    "    classname = m.__class__.__name__\n",
    "    if classname.find('Conv') != -1:\n",
    "        m.weight.data.normal_(0.0, 0.02)\n",
    "    elif classname.find('BatchNorm') != -1:\n",
    "        # Estimated variance, must be around 1\n",
    "        m.weight.data.normal_(1.0, 0.02)\n",
    "        # Estimated mean, must be around 0\n",
    "        m.bias.data.fill_(0)"
   ]
  },
  {
   "cell_type": "markdown",
   "metadata": {},
   "source": [
    "# 2.模型"
   ]
  },
  {
   "cell_type": "code",
   "execution_count": null,
   "metadata": {},
   "outputs": [],
   "source": [
    "class Generator(torch.nn.Module):\n",
    "    def __init__(self):\n",
    "        super(Generator, self).__init__()\n",
    "        self.deconv1 = torch.nn.Sequential(\n",
    "            torch.nn.ConvTranspose2d(NOISE_DIM, 64 * 8, 4, 1, 0, bias=False),\n",
    "            torch.nn.BatchNorm2d(64 * 8),\n",
    "            torch.nn.ReLU(inplace=True)\n",
    "        )\n",
    "\n",
    "        self.deconv2 = torch.nn.Sequential(\n",
    "            torch.nn.ConvTranspose2d(64 * 8, 64 * 4, 4, 2, 1, bias=False),\n",
    "            torch.nn.BatchNorm2d(64 * 4),\n",
    "            torch.nn.ReLU(inplace=True)\n",
    "        )\n",
    "\n",
    "        self.deconv3 = torch.nn.Sequential(\n",
    "            torch.nn.ConvTranspose2d(64 * 4, 64 * 2, 4, 2, 1, bias=False),\n",
    "            torch.nn.BatchNorm2d(64 * 2),\n",
    "            torch.nn.ReLU(inplace=True)\n",
    "        )\n",
    "\n",
    "        self.deconv4 = torch.nn.Sequential(\n",
    "            torch.nn.ConvTranspose2d(64 * 2, 64, 4, 2, 1, bias=False),\n",
    "            torch.nn.BatchNorm2d(64),\n",
    "            torch.nn.ReLU(inplace=True)\n",
    "        )\n",
    "\n",
    "        self.deconv5 = torch.nn.Sequential(\n",
    "            torch.nn.ConvTranspose2d(64, IMAGE_CHANNEL, 5, 3, 1, bias=False),\n",
    "            torch.nn.Tanh()\n",
    "        )\n",
    "\n",
    "        weights_init(self)\n",
    "\n",
    "    def forward(self, x):\n",
    "        output = self.deconv1(x)\n",
    "        output = self.deconv2(output)\n",
    "        output = self.deconv3(output)\n",
    "        output = self.deconv4(output)\n",
    "        output = self.deconv5(output)\n",
    "        return output\n",
    "\n",
    "\n",
    "class Discriminator(torch.nn.Module):\n",
    "    def __init__(self):\n",
    "        super(Discriminator, self).__init__()\n",
    "        self.conv1 = torch.nn.Sequential(\n",
    "            torch.nn.Conv2d(IMAGE_CHANNEL, 64, 5, 3, 1, bias=False),\n",
    "            torch.nn.LeakyReLU(0.2, inplace=True)\n",
    "        )\n",
    "\n",
    "        self.conv2 = torch.nn.Sequential(\n",
    "            torch.nn.Conv2d(64, 64 * 2, 4, 2, 1, bias=False),\n",
    "            torch.nn.BatchNorm2d(64 * 2),\n",
    "            torch.nn.LeakyReLU(0.2, inplace=True)\n",
    "        )\n",
    "\n",
    "        self.conv3 = torch.nn.Sequential(\n",
    "            torch.nn.Conv2d(64 * 2, 64 * 4, 4, 2, 1, bias=False),\n",
    "            torch.nn.BatchNorm2d(64 * 4),\n",
    "            torch.nn.LeakyReLU(0.2, inplace=True)\n",
    "        )\n",
    "\n",
    "        self.conv4 = torch.nn.Sequential(\n",
    "            torch.nn.Conv2d(64 * 4, 64 * 8, 4, 2, 1, bias=False),\n",
    "            torch.nn.BatchNorm2d(64 * 8),\n",
    "            torch.nn.LeakyReLU(0.2, inplace=True)\n",
    "        )\n",
    "\n",
    "        self.conv5 = torch.nn.Sequential(\n",
    "            torch.nn.Conv2d(64 * 8, 1, 4, 1, 0, bias=False),\n",
    "            torch.nn.Sigmoid()\n",
    "        )\n",
    "        weights_init(self)\n",
    "\n",
    "    def forward(self, x):\n",
    "        output = self.conv1(x)\n",
    "        output = self.conv2(output)\n",
    "        output = self.conv3(output)\n",
    "        output = self.conv4(output)\n",
    "        output = self.conv5(output)\n",
    "        output = output.view(-1)\n",
    "\n",
    "        return output"
   ]
  },
  {
   "cell_type": "markdown",
   "metadata": {},
   "source": [
    "# 3.导入数据"
   ]
  },
  {
   "cell_type": "code",
   "execution_count": null,
   "metadata": {},
   "outputs": [],
   "source": [
    "NetD = Discriminator()\n",
    "NetG = Generator()\n",
    "criterion = torch.nn.BCELoss()\n",
    "\n",
    "true_labels = torch.autograd.Variable(torch.ones(BATCH_SIZE))\n",
    "fake_labels = torch.autograd.Variable(torch.zeros(BATCH_SIZE))\n",
    "fix_noises  = torch.autograd.Variable(torch.randn(100,NOISE_DIM,1,1))\n",
    "noises      = torch.autograd.Variable(torch.randn(BATCH_SIZE,NOISE_DIM,1,1))\n",
    "\n",
    "if torch.cuda.is_available() > 0:\n",
    "    NetG = NetG.cuda()\n",
    "    NetD = NetD.cuda()\n",
    "    criterion = criterion.cuda()\n",
    "    true_labels,fake_labels = true_labels.cuda(), fake_labels.cuda()\n",
    "    fix_noises,noises = fix_noises.cuda(),noises.cuda()\n",
    "\n",
    "optimizerD = torch.optim.Adam(NetD.parameters(),lr=LEARNING_RATE_D,betas=(0.5,0.999), weight_decay=0)\n",
    "optimizerG = torch.optim.Adam(NetG.parameters(),lr=LEARNING_RATE_G,betas=(0.5,0.999), weight_decay=0)\n",
    "\n",
    "transform=tv.transforms.Compose([\n",
    "    tv.transforms.Resize((IMAGE_SIZE, IMAGE_SIZE)) ,\n",
    "    tv.transforms.ToTensor(),\n",
    "    tv.transforms.Normalize([0.5]*3,[0.5]*3)\n",
    "])\n",
    "\n",
    "dataset = tv.datasets.ImageFolder(root=DATA_PATH, transform=transform)\n",
    "dataloader = torch.utils.data.DataLoader(dataset, batch_size=BATCH_SIZE, shuffle=True,drop_last=True)\n"
   ]
  },
  {
   "cell_type": "markdown",
   "metadata": {},
   "source": [
    "# 4.训练"
   ]
  },
  {
   "cell_type": "code",
   "execution_count": null,
   "metadata": {},
   "outputs": [],
   "source": [
    "bar = eup.ProgressBar(EPOCH, len(dataloader), \"D Loss:%.3f;G Loss:%.3f\")\n",
    "for epoch in range(1, EPOCH + 1):\n",
    "    if epoch % 30 == 0:\n",
    "        optimizerD.param_groups[0]['lr'] /= 10\n",
    "        optimizerG.param_groups[0]['lr'] /= 10\n",
    "\n",
    "    for i, data_batch in enumerate(dataloader, 0):\n",
    "        images, labels = data_batch\n",
    "        real_img = torch.autograd.Variable(images.cuda() if torch.cuda.is_available() else images)\n",
    "\n",
    "        NetD.zero_grad()\n",
    "        ## 尽可能的把真图片判别为正确\n",
    "        output = NetD(real_img)\n",
    "        error_d_real = criterion(output,true_labels)\n",
    "        error_d_real.backward()\n",
    "\n",
    "        ## 尽可能把假图片判别为错误\n",
    "        noises.data.copy_(torch.randn(BATCH_SIZE,NOISE_DIM,1,1))\n",
    "        fake_img = NetG(noises).detach() # 根据噪声生成假图\n",
    "        output = NetD(fake_img)\n",
    "        error_d_fake = criterion(output,fake_labels)\n",
    "        error_d_fake.backward()\n",
    "        optimizerD.step()\n",
    "        error_d = error_d_fake + error_d_real\n",
    "\n",
    "        NetG.zero_grad()\n",
    "        noises.data.copy_(torch.randn(BATCH_SIZE,NOISE_DIM,1,1))\n",
    "        fake_img = NetG(noises)\n",
    "        output = NetD(fake_img)\n",
    "        error_g = criterion(output,true_labels)\n",
    "        error_g.backward()\n",
    "        optimizerG.step()\n",
    "\n",
    "        bar.show(epoch, error_d.item(), error_g.item())"
   ]
  },
  {
   "cell_type": "markdown",
   "metadata": {},
   "source": [
    "# 5.生成"
   ]
  },
  {
   "cell_type": "code",
   "execution_count": null,
   "metadata": {},
   "outputs": [],
   "source": [
    "fake_u=NetG(fix_noises)\n",
    "img = tv.utils.make_grid(fake_u.data, nrow=10)\n",
    "plt.imshow(np.transpose(img.cpu(), (1, 2, 0)))"
   ]
  }
 ]
}