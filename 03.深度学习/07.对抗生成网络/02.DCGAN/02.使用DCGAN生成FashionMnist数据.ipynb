{
 "nbformat": 4,
 "nbformat_minor": 2,
 "metadata": {
  "language_info": {
   "name": "python",
   "codemirror_mode": {
    "name": "ipython",
    "version": 3
   },
   "version": "3.6.10-final"
  },
  "orig_nbformat": 2,
  "file_extension": ".py",
  "mimetype": "text/x-python",
  "name": "python",
  "npconvert_exporter": "python",
  "pygments_lexer": "ipython3",
  "version": 3,
  "kernelspec": {
   "name": "python36964bitanaconda3virtualenv5d618e8c7b894374a565943176146b80",
   "display_name": "Python 3.6.9 64-bit ('anaconda3': virtualenv)"
  }
 },
 "cells": [
  {
   "cell_type": "markdown",
   "metadata": {},
   "source": [
    "使用DCGAN生成FashionMnist数据\n",
    "==="
   ]
  },
  {
   "cell_type": "markdown",
   "metadata": {},
   "source": [
    "# 1.全局设置"
   ]
  },
  {
   "cell_type": "code",
   "execution_count": 6,
   "metadata": {},
   "outputs": [],
   "source": [
    "import torch\n",
    "import torchvision as tv\n",
    "import matplotlib.pyplot as plt\n",
    "import numpy as np\n",
    "\n",
    "import sys\n",
    "sys.path.append(\"../\")\n",
    "import jjzhk.progressbar as bar\n",
    "\n",
    "DATA_PATH = \"/Users/JJZHK/data/input/fashionmnist/\"\n",
    "EPOCHS = 100\n",
    "BATCH_SIZE = 128\n",
    "IMAGE_SIZE = 28\n",
    "IMAGE_CHANNEL = 1\n",
    "NOISE_DIM = 100\n",
    "LEARNING_RATE = 2e-4"
   ]
  },
  {
   "cell_type": "code",
   "execution_count": 3,
   "metadata": {},
   "outputs": [],
   "source": [
    "def initialize_weights(net):\n",
    "    for m in net.modules():\n",
    "        if isinstance(m, torch.nn.Conv2d):\n",
    "            m.weight.data.normal_(0, 0.02)\n",
    "            m.bias.data.zero_()\n",
    "        elif isinstance(m, torch.nn.ConvTranspose2d):\n",
    "            m.weight.data.normal_(0, 0.02)\n",
    "            m.bias.data.zero_()\n",
    "        elif isinstance(m, torch.nn.Linear):\n",
    "            m.weight.data.normal_(0, 0.02)\n",
    "            m.bias.data.zero_()\n"
   ]
  },
  {
   "cell_type": "markdown",
   "metadata": {},
   "source": [
    "# 2.模型"
   ]
  },
  {
   "cell_type": "code",
   "execution_count": 4,
   "metadata": {},
   "outputs": [],
   "source": [
    "class Generator(torch.nn.Module):\n",
    "    def __init__(self):\n",
    "        super(Generator, self).__init__()\n",
    "        self.fc = torch.nn.Sequential(\n",
    "            torch.nn.Linear(NOISE_DIM, 1024),\n",
    "            torch.nn.BatchNorm1d(num_features=1024),\n",
    "            torch.nn.ReLU(),\n",
    "            torch.nn.Linear(in_features=1024, out_features=128 * 7 * 7),\n",
    "            torch.nn.BatchNorm1d(num_features=128*7*7),\n",
    "            torch.nn.ReLU()\n",
    "        )\n",
    "\n",
    "        self.deconv = torch.nn.Sequential(\n",
    "            torch.nn.ConvTranspose2d(in_channels=128, out_channels=64, kernel_size=4, stride=2, padding=1),\n",
    "            torch.nn.BatchNorm2d(num_features=64),\n",
    "            torch.nn.ReLU(),\n",
    "            torch.nn.ConvTranspose2d(in_channels=64, out_channels=IMAGE_CHANNEL, kernel_size=4, stride=2, padding=1),\n",
    "            torch.nn.Tanh()\n",
    "        )\n",
    "\n",
    "        initialize_weights(self)\n",
    "\n",
    "    def forward(self, x):\n",
    "        output = x.view(-1,NOISE_DIM)\n",
    "        output = self.fc(output)\n",
    "        output = output.view(-1, 128, 7, 7)\n",
    "        output =self.deconv(output)\n",
    "\n",
    "        return output\n",
    "\n",
    "\n",
    "class Discriminator(torch.nn.Module):\n",
    "    def __init__(self):\n",
    "        super(Discriminator, self).__init__()\n",
    "        self.conv = torch.nn.Sequential(\n",
    "            torch.nn.Conv2d(in_channels=IMAGE_CHANNEL, out_channels=64, kernel_size=4, stride=2, padding=1),\n",
    "            torch.nn.LeakyReLU(negative_slope=0.2),\n",
    "            torch.nn.Conv2d(in_channels=64, out_channels=128, kernel_size=4, stride=2, padding=1),\n",
    "            torch.nn.BatchNorm2d(num_features=128),\n",
    "            torch.nn.LeakyReLU(negative_slope=0.2)\n",
    "        )\n",
    "\n",
    "        self.fc = torch.nn.Sequential(\n",
    "            torch.nn.Linear(128 * 7 * 7, 1024),\n",
    "            torch.nn.BatchNorm1d(1024),\n",
    "            torch.nn.LeakyReLU(negative_slope=0.2),\n",
    "            torch.nn.Linear(1024, 1),\n",
    "            torch.nn.Sigmoid()\n",
    "        )\n",
    "\n",
    "        initialize_weights(self)\n",
    "\n",
    "    def forward(self, x):\n",
    "        output = self.conv(x)\n",
    "        output = output.view(-1, 128 * 7 * 7)\n",
    "        output = self.fc(output)\n",
    "\n",
    "        return output"
   ]
  },
  {
   "cell_type": "markdown",
   "metadata": {},
   "source": [
    "# 3.导入数据"
   ]
  },
  {
   "cell_type": "code",
   "execution_count": 8,
   "metadata": {},
   "outputs": [],
   "source": [
    "NetG = Generator()\n",
    "NetD = Discriminator()\n",
    "optimizerD = torch.optim.Adam(NetD.parameters(), lr=LEARNING_RATE, betas=(0.5, 0.999))\n",
    "optimizerG = torch.optim.Adam(NetG.parameters(), lr=LEARNING_RATE, betas=(0.5, 0.999))\n",
    "criterion = torch.nn.BCELoss()\n",
    "\n",
    "fix_noise = torch.FloatTensor(BATCH_SIZE, NOISE_DIM, 1, 1).normal_(0,1)\n",
    "if torch.cuda.is_available():\n",
    "    NetD = NetD.cuda()\n",
    "    NetG = NetG.cuda()\n",
    "    fix_noise = fix_noise.cuda()\n",
    "    criterion.cuda()\n",
    "\n",
    "fix_noise_var = torch.autograd.Variable(fix_noise)\n",
    "transform = tv.transforms.Compose([tv.transforms.ToTensor()])\n",
    "\n",
    "train_dataset = tv.datasets.FashionMNIST(root=DATA_PATH,\n",
    "                               train=True,\n",
    "                               transform=transform,\n",
    "                               download=True)\n",
    "\n",
    "train_loader = torch.utils.data.DataLoader(dataset=train_dataset,\n",
    "                          batch_size=BATCH_SIZE,\n",
    "                          shuffle=True)"
   ]
  },
  {
   "cell_type": "markdown",
   "metadata": {},
   "source": [
    "# 4.训练"
   ]
  },
  {
   "cell_type": "code",
   "execution_count": null,
   "metadata": {},
   "outputs": [],
   "source": [
    "bar = bar.ProgressBar(EPOCHS, len(train_loader), \"D Loss:%.3f;G Loss:%.3f\")\n",
    "for epoch in range(1, EPOCHS + 1):\n",
    "    if epoch % 30 == 0:\n",
    "        optimizerD.param_groups[0]['lr'] /= 10\n",
    "        optimizerG.param_groups[0]['lr'] /= 10\n",
    "\n",
    "    for ii, data in enumerate(train_loader,0):\n",
    "        input,_=data\n",
    "        label_real = torch.ones(input.size(0))\n",
    "        label_fake = torch.zeros(input.size(0))\n",
    "        noise = torch.randn(input.size(0),NOISE_DIM,1,1).normal_(0, 1)\n",
    "\n",
    "        if torch.cuda.is_available():\n",
    "            input = input.cuda()\n",
    "            label_real = label_real.cuda()\n",
    "            label_fake = label_fake.cuda()\n",
    "            noise = noise.cuda()\n",
    "\n",
    "        input_var = torch.autograd.Variable(input)\n",
    "        label_real_var = torch.autograd.Variable(label_real)\n",
    "        label_fake_var = torch.autograd.Variable(label_fake)\n",
    "        noise_var = torch.autograd.Variable(noise)\n",
    "\n",
    "        NetD.zero_grad()\n",
    "        output=NetD(input_var)\n",
    "        error_real=criterion(output.squeeze(),label_real_var)\n",
    "        error_real.backward()\n",
    "\n",
    "        fake_pic=NetG(noise_var).detach()\n",
    "        output2=NetD(fake_pic)\n",
    "        error_fake=criterion(output2.squeeze(),label_fake_var)\n",
    "\n",
    "        error_fake.backward()\n",
    "        error_D=error_real+error_fake\n",
    "        optimizerD.step()\n",
    "\n",
    "        NetG.zero_grad()\n",
    "        fake_pic=NetG(noise_var)\n",
    "        output=NetD(fake_pic)\n",
    "        error_G=criterion(output.squeeze(),label_real_var)\n",
    "        error_G.backward()\n",
    "\n",
    "        optimizerG.step()\n",
    "        bar.show(epoch, error_D.item(), error_G.item())"
   ]
  },
  {
   "cell_type": "markdown",
   "metadata": {},
   "source": [
    "# 5.生成图像"
   ]
  },
  {
   "cell_type": "code",
   "execution_count": null,
   "metadata": {},
   "outputs": [],
   "source": [
    "fake_u=NetG(fix_noise_var)\n",
    "img = tv.utils.make_grid(fake_u.data[:100], nrow=10)\n",
    "plt.imshow(np.transpose(img.cpu(), (1, 2, 0)))"
   ]
  },
  {
   "cell_type": "code",
   "execution_count": null,
   "metadata": {},
   "outputs": [],
   "source": []
  },
  {
   "cell_type": "code",
   "execution_count": null,
   "metadata": {},
   "outputs": [],
   "source": []
  }
 ]
}