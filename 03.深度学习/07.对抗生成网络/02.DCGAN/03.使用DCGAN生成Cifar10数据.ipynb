{
 "nbformat": 4,
 "nbformat_minor": 2,
 "metadata": {
  "language_info": {
   "name": "python",
   "codemirror_mode": {
    "name": "ipython",
    "version": 3
   }
  },
  "orig_nbformat": 2,
  "file_extension": ".py",
  "mimetype": "text/x-python",
  "name": "python",
  "npconvert_exporter": "python",
  "pygments_lexer": "ipython3",
  "version": 3
 },
 "cells": [
  {
   "cell_type": "markdown",
   "metadata": {},
   "source": [
    "使用DCGAN生成Cifar10数据\n",
    "==="
   ]
  },
  {
   "cell_type": "markdown",
   "metadata": {},
   "source": [
    "# 1.全局设置"
   ]
  },
  {
   "cell_type": "code",
   "execution_count": null,
   "metadata": {},
   "outputs": [],
   "source": [
    "import torch\n",
    "import torchvision as tv\n",
    "import matplotlib.pyplot as plt\n",
    "import numpy as np\n",
    "\n",
    "import sys\n",
    "sys.path.append(\"../\")\n",
    "import jjzhk.progressbar as bar\n",
    "\n",
    "DATA_PATH = '/input/'\n",
    "IMAGE_CHANNEL = 3\n",
    "IMAGE_SIZE = 32\n",
    "LEARNING_RATE = 2e-4\n",
    "BATCH_SIZE = 64\n",
    "NOISE_DIM = 100\n",
    "EPOCH = 100"
   ]
  },
  {
   "cell_type": "code",
   "execution_count": null,
   "metadata": {},
   "outputs": [],
   "source": [
    "def initialize_weights(net):\n",
    "    for m in net.modules():\n",
    "        if isinstance(m, torch.nn.Conv2d):\n",
    "            m.weight.data.normal_(0, 0.02)\n",
    "            m.bias.data.zero_()\n",
    "        elif isinstance(m, torch.nn.ConvTranspose2d):\n",
    "            m.weight.data.normal_(0, 0.02)\n",
    "            m.bias.data.zero_()\n",
    "        elif isinstance(m, torch.nn.Linear):\n",
    "            m.weight.data.normal_(0, 0.02)\n",
    "            m.bias.data.zero_()\n"
   ]
  },
  {
   "cell_type": "markdown",
   "metadata": {},
   "source": [
    "# 2.模型"
   ]
  },
  {
   "cell_type": "code",
   "execution_count": null,
   "metadata": {},
   "outputs": [],
   "source": [
    "class Generator(torch.nn.Module):\n",
    "    def __init__(self):\n",
    "        super(Generator, self).__init__()\n",
    "\n",
    "        self.module1 = torch.nn.Sequential(\n",
    "            torch.nn.ConvTranspose2d(NOISE_DIM, 64 * 4, 4, 2, 0, bias=False),\n",
    "            torch.nn.BatchNorm2d(64 * 4),\n",
    "            torch.nn.ReLU(True)\n",
    "        )\n",
    "\n",
    "        self.module2 = torch.nn.Sequential(\n",
    "            torch.nn.ConvTranspose2d(64 * 4, 64 * 2, 4, 2, 1, bias=False),\n",
    "            torch.nn.BatchNorm2d(64 * 2),\n",
    "            torch.nn.ReLU(True)\n",
    "        )\n",
    "\n",
    "        self.module3 = torch.nn.Sequential(\n",
    "            torch.nn.ConvTranspose2d(64 * 2, 64, 4, 2, 1, bias=False),\n",
    "            torch.nn.BatchNorm2d(64),\n",
    "            torch.nn.ReLU(True)\n",
    "        )\n",
    "\n",
    "        self.module4 = torch.nn.Sequential(\n",
    "            torch.nn.ConvTranspose2d(64, IMAGE_CHANNEL, 4, 2, 1, bias=False),\n",
    "            torch.nn.Tanh()\n",
    "        )\n",
    "\n",
    "        initialize_weights(self)\n",
    "\n",
    "    def forward(self, x):\n",
    "        x = self.module1(x)\n",
    "        x = self.module2(x)\n",
    "        x = self.module3(x)\n",
    "        x = self.module4(x)\n",
    "\n",
    "        return x\n",
    "\n",
    "\n",
    "class Discriminator(torch.nn.Module):\n",
    "    def __init__(self):\n",
    "        super(Discriminator, self).__init__()\n",
    "\n",
    "        self.module1 = torch.nn.Sequential(\n",
    "            torch.nn.Conv2d(IMAGE_CHANNEL, 64, 4, 2, 1, bias=False),\n",
    "            torch.nn.BatchNorm2d(64),\n",
    "            torch.nn.LeakyReLU(negative_slope=0.2, inplace=True)\n",
    "        )\n",
    "\n",
    "        self.module2 = torch.nn.Sequential(\n",
    "            torch.nn.Conv2d(64, 64 * 2, 4, 2, 1, bias=False),\n",
    "            torch.nn.BatchNorm2d(64 * 2),\n",
    "            torch.nn.LeakyReLU(negative_slope=0.2, inplace=True)\n",
    "        )\n",
    "\n",
    "        self.module3 = torch.nn.Sequential(\n",
    "            torch.nn.Conv2d(64 * 2, 64 * 4, 4, 2, 1, bias=False),\n",
    "            torch.nn.BatchNorm2d(64 * 4),\n",
    "            torch.nn.LeakyReLU(negative_slope=0.2, inplace=False)\n",
    "        )\n",
    "\n",
    "        self.module4 = torch.nn.Sequential(\n",
    "            torch.nn.Conv2d(64 * 4, 1, 4, 1, 0, bias=False),\n",
    "            torch.nn.Sigmoid()\n",
    "        )\n",
    "\n",
    "        initialize_weights(self)\n",
    "\n",
    "    def forward(self, x):\n",
    "        x = self.module1(x)\n",
    "        x = self.module2(x)\n",
    "        x = self.module3(x)\n",
    "        x = self.module4(x)\n",
    "\n",
    "        return x"
   ]
  },
  {
   "cell_type": "markdown",
   "metadata": {},
   "source": [
    "# 3.导入数据"
   ]
  },
  {
   "cell_type": "code",
   "execution_count": null,
   "metadata": {},
   "outputs": [],
   "source": [
    "trans = tv.transforms.Compose([tv.transforms.ToTensor()])\n",
    "\n",
    "NetG = Generator()\n",
    "NetD = Discriminator()\n",
    "criterion = torch.nn.BCELoss()\n",
    "fix_noise_var = torch.autograd.Variable(torch.FloatTensor(BATCH_SIZE, NOISE_DIM, 1, 1).normal_(0, 1))\n",
    "if torch.cuda.is_available():\n",
    "    NetG = NetG.cuda()\n",
    "    NetD = NetD.cuda()\n",
    "    fix_noise = fix_noise.cuda()\n",
    "    criterion.cuda()\n",
    "\n",
    "train_dataset = datasets.CIFAR10(root=DATA_PATH, \n",
    "                                 train=True, \n",
    "                                 transform=trans,\n",
    "                                 download=False)\n",
    "train_loader=torch.utils.data.DataLoader(train_dataset,BATCH_SIZE,shuffle = True)\n",
    "\n",
    "optimizerD = torch.optim.Adam(NetD.parameters(), lr=LEARNING_RATE, betas=(0.5, 0.999))\n",
    "optimizerG = torch.optim.Adam(NetG.parameters(), lr=LEARNING_RATE, betas=(0.5, 0.999))"
   ]
  },
  {
   "cell_type": "markdown",
   "metadata": {},
   "source": [
    "# 4.训练"
   ]
  },
  {
   "cell_type": "code",
   "execution_count": null,
   "metadata": {},
   "outputs": [],
   "source": [
    "bar = eup.ProgressBar(EPOCH, len(train_loader), \"D Loss:%.3f;G Loss:%.3f\")\n",
    "for epoch in range(1, EPOCH + 1):\n",
    "    if epoch % 30 == 0:\n",
    "        optimizerD.param_groups[0]['lr'] /= 10\n",
    "        optimizerG.param_groups[0]['lr'] /= 10\n",
    "\n",
    "    for ii, data in enumerate(train_loader,0):\n",
    "        input,_=data\n",
    "\n",
    "        input = torch.autograd.Variable(input)\n",
    "        label = torch.ones(input.size(0))\n",
    "        label = torch.autograd.Variable(label)\n",
    "        noise = torch.randn(input.size(0),NOISE_DIM,1,1)\n",
    "        noise = torch.autograd.Variable(noise)\n",
    "\n",
    "        if torch.cuda.is_available():\n",
    "            input = input.cuda()\n",
    "            label = label.cuda()\n",
    "            noise = noise.cuda()\n",
    "\n",
    "        NetD.zero_grad()\n",
    "        output=NetD(input)\n",
    "        error_real=criterion(output.squeeze(),label)\n",
    "        error_real.backward()\n",
    "\n",
    "        D_x=output.data.mean()\n",
    "        fake_pic=NetG(noise).detach()\n",
    "        output2=NetD(fake_pic)\n",
    "        label.data.fill_(0) # 0 for fake\n",
    "        error_fake=criterion(output2.squeeze(),label)\n",
    "\n",
    "        error_fake.backward()\n",
    "        D_x2=output2.data.mean()\n",
    "        error_D=error_real+error_fake\n",
    "        optimizerD.step()\n",
    "\n",
    "        NetG.zero_grad()\n",
    "        label.data.fill_(1)\n",
    "        noise.data.normal_(0,1)\n",
    "        fake_pic=NetG(noise)\n",
    "        output=NetD(fake_pic)\n",
    "        error_G=criterion(output.squeeze(),label)\n",
    "        error_G.backward()\n",
    "\n",
    "        optimizerG.step()\n",
    "        D_G_z2=output.data.mean()\n",
    "        bar.show(epoch, error_D.item(), error_G.item())"
   ]
  },
  {
   "cell_type": "markdown",
   "metadata": {},
   "source": [
    "# 5.生成图像"
   ]
  },
  {
   "cell_type": "code",
   "execution_count": null,
   "metadata": {},
   "outputs": [],
   "source": [
    "fake_u=NetG(fix_noise_var)\n",
    "img = tv.utils.make_grid(fake_u.data[:100], nrow=10)\n",
    "plt.imshow(np.transpose(img.cpu(), (1, 2, 0)))"
   ]
  }
 ]
}