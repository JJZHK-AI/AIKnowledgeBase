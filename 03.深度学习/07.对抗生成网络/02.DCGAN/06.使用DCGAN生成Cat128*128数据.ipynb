{
 "nbformat": 4,
 "nbformat_minor": 2,
 "metadata": {
  "language_info": {
   "name": "python",
   "codemirror_mode": {
    "name": "ipython",
    "version": 3
   }
  },
  "orig_nbformat": 2,
  "file_extension": ".py",
  "mimetype": "text/x-python",
  "name": "python",
  "npconvert_exporter": "python",
  "pygments_lexer": "ipython3",
  "version": 3
 },
 "cells": [
  {
   "cell_type": "markdown",
   "metadata": {},
   "source": [
    "使用DCGAN生成Cat128*128数据\n",
    "==="
   ]
  },
  {
   "cell_type": "markdown",
   "metadata": {},
   "source": [
    "# 1.全局设置"
   ]
  },
  {
   "cell_type": "code",
   "execution_count": null,
   "metadata": {},
   "outputs": [],
   "source": [
    "import torch\n",
    "import torchvision as tv\n",
    "import matplotlib.pyplot as plt\n",
    "import numpy as np\n",
    "\n",
    "import sys\n",
    "sys.path.append(\"../\")\n",
    "import jjzhk.progressbar as bar\n",
    "DATA_PATH = '/input/Cat28/'\n",
    "LEARNING_RATE_D = 2e-4\n",
    "LEARNING_RATE_G = 2e-4\n",
    "IMAGE_CHANNEL = 3\n",
    "IMAGE_SIZE = 96\n",
    "BATCH_SIZE = 64\n",
    "EPOCH = 100\n",
    "NOISE_DIM = 100"
   ]
  },
  {
   "cell_type": "code",
   "execution_count": null,
   "metadata": {},
   "outputs": [],
   "source": [
    "def weights_init(m):\n",
    "    classname = m.__class__.__name__\n",
    "    if classname.find('Conv') != -1:\n",
    "        m.weight.data.normal_(0.0, 0.02)\n",
    "    elif classname.find('BatchNorm') != -1:\n",
    "        # Estimated variance, must be around 1\n",
    "        m.weight.data.normal_(1.0, 0.02)\n",
    "        # Estimated mean, must be around 0\n",
    "        m.bias.data.fill_(0)"
   ]
  },
  {
   "cell_type": "markdown",
   "metadata": {},
   "source": [
    "# 2.模型"
   ]
  },
  {
   "cell_type": "code",
   "execution_count": null,
   "metadata": {},
   "outputs": [],
   "source": [
    "class Generator(torch.nn.Module):\n",
    "    def __init__(self):\n",
    "        super(Generator, self).__init__()\n",
    "        self.deconv1 = torch.nn.Sequential(\n",
    "            torch.nn.ConvTranspose2d(NOISE_DIM, 1024, 4, 1, 0, bias=False),\n",
    "            torch.nn.SELU(inplace=True)\n",
    "        )\n",
    "\n",
    "        self.deconv2 = torch.nn.Sequential(\n",
    "            torch.nn.ConvTranspose2d(1024, 512, 4, 2, 1, bias=False),\n",
    "            torch.nn.SELU(inplace=True)\n",
    "        )\n",
    "\n",
    "        self.deconv3 = torch.nn.Sequential(\n",
    "            torch.nn.ConvTranspose2d(512, 256, 4, 2, 1, bias=False),\n",
    "            torch.nn.SELU(inplace=True)\n",
    "        )\n",
    "\n",
    "        self.deconv4 = torch.nn.Sequential(\n",
    "            torch.nn.ConvTranspose2d(256, 128, 4, 2, 1, bias=False),\n",
    "            torch.nn.SELU(inplace=True)\n",
    "        )\n",
    "\n",
    "        self.deconv5 = torch.nn.Sequential(\n",
    "            torch.nn.ConvTranspose2d(128, 64, 4, 2, 1, bias=False),\n",
    "            torch.nn.BatchNorm2d(64),\n",
    "            torch.nn.ReLU()\n",
    "        )\n",
    "\n",
    "        self.deconv6 = torch.nn.Sequential(\n",
    "            torch.nn.ConvTranspose2d(64, IMAGE_CHANNEL, 4, 2, 1, bias=False),\n",
    "            torch.nn.Tanh()\n",
    "        )\n",
    "\n",
    "        weights_init(self)\n",
    "\n",
    "    def forward(self, x):\n",
    "        output = self.deconv1(x)\n",
    "        output = self.deconv2(output)\n",
    "        output = self.deconv3(output)\n",
    "        output = self.deconv4(output)\n",
    "        output = self.deconv5(output)\n",
    "        output = self.deconv6(output)\n",
    "        return output\n",
    "\n",
    "\n",
    "class Discriminator(torch.nn.Module):\n",
    "    def __init__(self):\n",
    "        super(Discriminator, self).__init__()\n",
    "        self.conv1 = torch.nn.Sequential(\n",
    "            torch.nn.Conv2d(IMAGE_CHANNEL, 64, 4, 2, 1, bias=False),\n",
    "            torch.nn.SELU(inplace=True)\n",
    "        )\n",
    "\n",
    "        self.conv2 = torch.nn.Sequential(\n",
    "            torch.nn.Conv2d(64, 128, 4, 2, 1, bias=False),\n",
    "            torch.nn.SELU(inplace=True)\n",
    "        )\n",
    "\n",
    "        self.conv3 = torch.nn.Sequential(\n",
    "            torch.nn.Conv2d(128, 256, 4, 2, 1, bias=False),\n",
    "            torch.nn.SELU(inplace=True)\n",
    "        )\n",
    "\n",
    "        self.conv4 = torch.nn.Sequential(\n",
    "            torch.nn.Conv2d(256, 512, 4, 2, 1, bias=False),\n",
    "            torch.nn.SELU(inplace=True)\n",
    "        )\n",
    "\n",
    "        self.conv5 = torch.nn.Sequential(\n",
    "            torch.nn.Conv2d(512, 1024, 4, 2, 1, bias=False),\n",
    "            torch.nn.SELU(inplace=True)\n",
    "        )\n",
    "\n",
    "        self.conv6 = torch.nn.Sequential(\n",
    "            torch.nn.Conv2d(1024, 1, 4, 1, 0, bias=False),\n",
    "            torch.nn.Sigmoid()\n",
    "        )\n",
    "        weights_init(self)\n",
    "\n",
    "    def forward(self, x):\n",
    "        output = self.conv1(x)\n",
    "        output = self.conv2(output)\n",
    "        output = self.conv3(output)\n",
    "        output = self.conv4(output)\n",
    "        output = self.conv5(output)\n",
    "        output = self.conv6(output)\n",
    "        output = output.view(-1)\n",
    "\n",
    "        return output"
   ]
  },
  {
   "cell_type": "markdown",
   "metadata": {},
   "source": [
    "# 3.导入数据"
   ]
  },
  {
   "cell_type": "code",
   "execution_count": null,
   "metadata": {},
   "outputs": [],
   "source": [
    "NetD = Discriminator()\n",
    "NetG = Generator()\n",
    "criterion = torch.nn.BCELoss()\n",
    "\n",
    "x = torch.FloatTensor(BATCH_SIZE, IMAGE_CHANNEL, IMAGE_SIZE, IMAGE_SIZE)\n",
    "y = torch.FloatTensor(BATCH_SIZE)\n",
    "z = torch.FloatTensor(BATCH_SIZE, NOISE_DIM, 1, 1)\n",
    "z_test = torch.FloatTensor(100, NOISE_DIM, 1, 1).normal_(0, 1)\n",
    "\n",
    "if torch.cuda.is_available() > 0:\n",
    "    NetG = NetG.cuda()\n",
    "    NetD = NetD.cuda()\n",
    "    criterion = criterion.cuda()\n",
    "    x = x.cuda()\n",
    "    y = y.cuda()\n",
    "    z = z.cuda()\n",
    "    z_test = z_test.cuda()\n",
    "\n",
    "optimizerD = torch.optim.Adam(NetD.parameters(),lr=LEARNING_RATE_D,betas=(0.5,0.999), weight_decay=0)\n",
    "optimizerG = torch.optim.Adam(NetG.parameters(),lr=LEARNING_RATE_G,betas=(0.5,0.999), weight_decay=0)\n",
    "\n",
    "transform=tv.transforms.Compose([\n",
    "    tv.transforms.Resize((IMAGE_SIZE, IMAGE_SIZE)) ,\n",
    "    tv.transforms.ToTensor(),\n",
    "    tv.transforms.Normalize([0.5]*3,[0.5]*3)\n",
    "])\n",
    "\n",
    "dataset = tv.datasets.ImageFolder(root=DATA_PATH, transform=transform)\n",
    "dataloader = torch.utils.data.DataLoader(dataset, batch_size=BATCH_SIZE, shuffle=True)"
   ]
  },
  {
   "cell_type": "markdown",
   "metadata": {},
   "source": [
    "# 4.训练"
   ]
  },
  {
   "cell_type": "code",
   "execution_count": null,
   "metadata": {},
   "outputs": [],
   "source": [
    "bar = eup.ProgressBar(EPOCH, len(dataloader), \"D Loss:%.3f;G Loss:%.3f\")\n",
    "for epoch in range(1, EPOCH + 1):\n",
    "    for i, data_batch in enumerate(dataloader, 0):\n",
    "        for p in NetD.parameters():\n",
    "            p.requires_grad = True\n",
    "\n",
    "        NetD.zero_grad()\n",
    "        images, labels = data_batch\n",
    "        current_batch_size = images.size(0)\n",
    "        images = images.cuda() if torch.cuda.is_available() else images\n",
    "        x.data.resize_as_(images).copy_(images)\n",
    "        y.data.resize_(current_batch_size).fill_(1)\n",
    "        y_pred = NetD(x)\n",
    "        errD_real = criterion(y_pred, y)\n",
    "        errD_real.backward()\n",
    "        D_real = y_pred.data.mean()\n",
    "\n",
    "        z.data.resize_(current_batch_size,NOISE_DIM, 1, 1).normal_(0, 1)\n",
    "        x_fake = NetG(z)\n",
    "        y.data.resize_(current_batch_size).fill_(0)\n",
    "        y_pred_fake = NetD(x_fake.detach())\n",
    "        errD_fake = criterion(y_pred_fake, y)\n",
    "        errD_fake.backward()\n",
    "        D_fake = y_pred_fake.data.mean()\n",
    "        errD = errD_real + errD_fake\n",
    "        optimizerD.step()\n",
    "\n",
    "        for p in NetD.parameters():\n",
    "            p.requires_grad = False\n",
    "\n",
    "        NetG.zero_grad()\n",
    "        y.data.resize_(current_batch_size).fill_(1)\n",
    "        y_pred_fake = NetD(x_fake)\n",
    "        errG = criterion(y_pred_fake, y)\n",
    "        errG.backward(retain_graph=True)\n",
    "        D_G = y_pred_fake.data.mean()\n",
    "        optimizerG.step()\n",
    "\n",
    "        bar.show(epoch, errD.item(), errG.item())"
   ]
  },
  {
   "cell_type": "markdown",
   "metadata": {},
   "source": [
    "# 5.生成"
   ]
  },
  {
   "cell_type": "code",
   "execution_count": null,
   "metadata": {},
   "outputs": [],
   "source": [
    "fake_u=NetG(z_test)\n",
    "img = tv.utils.make_grid(fake_u.data, nrow=10)\n",
    "plt.imshow(np.transpose(img.cpu(), (1, 2, 0)))"
   ]
  },
  {
   "cell_type": "code",
   "execution_count": null,
   "metadata": {},
   "outputs": [],
   "source": []
  }
 ]
}