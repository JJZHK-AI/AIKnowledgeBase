{
 "cells": [
  {
   "cell_type": "markdown",
   "metadata": {},
   "source": [
    "使用增强型WGAN生成QuickDraw数据\n",
    "==="
   ]
  },
  {
   "cell_type": "markdown",
   "metadata": {},
   "source": [
    "# 1.全局设置"
   ]
  },
  {
   "cell_type": "code",
   "execution_count": 1,
   "metadata": {},
   "outputs": [],
   "source": [
    "import torch\n",
    "import torchvision as tv\n",
    "import matplotlib.pyplot as plt\n",
    "import numpy as np\n",
    "import os\n",
    "import pandas as pd\n",
    "from PIL import Image\n",
    "\n",
    "import sys\n",
    "sys.path.append(\"../\")\n",
    "import jjzhk.progressbar as bar\n",
    "\n",
    "DATA_PATH = \"/input/QuickDraw\"\n",
    "EPOCHS = 60\n",
    "BATCH_SIZE = 128\n",
    "NOISE_DIM = 62\n",
    "IMAGE_CHANNEL = 1\n",
    "IMAGE_SIZE = 28\n",
    "LAMBDA = 0.25\n",
    "LEARNING_RATE = 2e-4"
   ]
  },
  {
   "cell_type": "code",
   "execution_count": 2,
   "metadata": {},
   "outputs": [],
   "source": [
    "def weight_init(net):\n",
    "    for m in net.modules():\n",
    "        if isinstance(m, torch.nn.Conv2d):\n",
    "            m.weight.data.normal_(0, 0.02)\n",
    "            m.bias.data.zero_()\n",
    "        elif isinstance(m, torch.nn.ConvTranspose2d):\n",
    "            m.weight.data.normal_(0, 0.02)\n",
    "            m.bias.data.zero_()\n",
    "        elif isinstance(m, torch.nn.BatchNorm2d):\n",
    "            m.weight.data.normal_(0, 0.02)\n",
    "            m.bias.data.zero_()\n",
    "            m.bias.data.fill_(0)"
   ]
  },
  {
   "cell_type": "markdown",
   "metadata": {},
   "source": [
    "# 2.模型"
   ]
  },
  {
   "cell_type": "code",
   "execution_count": 3,
   "metadata": {},
   "outputs": [],
   "source": [
    "class Generator(torch.nn.Module):\n",
    "    def __init__(self):\n",
    "        super(Generator, self).__init__()\n",
    "        self.fc1 = torch.nn.Sequential(\n",
    "            torch.nn.Linear(NOISE_DIM, 1024),\n",
    "            torch.nn.BatchNorm1d(1024),\n",
    "            torch.nn.ReLU()\n",
    "        )\n",
    "\n",
    "        self.fc2 = torch.nn.Sequential(\n",
    "            torch.nn.Linear(1024, 128 * 7 * 7),\n",
    "            torch.nn.BatchNorm1d(128 * 7 * 7),\n",
    "            torch.nn.ReLU()\n",
    "        )\n",
    "\n",
    "        self.deconv1 = torch.nn.Sequential(\n",
    "            torch.nn.ConvTranspose2d(128, 64, 4, 2, 1),\n",
    "            torch.nn.BatchNorm2d(64),\n",
    "            torch.nn.ReLU()\n",
    "        )\n",
    "\n",
    "        self.deconv2 = torch.nn.Sequential(\n",
    "            torch.nn.ConvTranspose2d(64, IMAGE_CHANNEL, 4, 2, 1),\n",
    "            torch.nn.Sigmoid()\n",
    "        )\n",
    "\n",
    "        weight_init(self)\n",
    "    def forward(self, x):\n",
    "        output = self.fc1(x)\n",
    "        output = self.fc2(output)\n",
    "        output = output.view(-1, 128, 7, 7)\n",
    "        output = self.deconv1(output)\n",
    "        output = self.deconv2(output)\n",
    "\n",
    "        return output\n",
    "\n",
    "class Discriminator(torch.nn.Module):\n",
    "    def __init__(self):\n",
    "        super(Discriminator, self).__init__()\n",
    "        self.conv1 = torch.nn.Sequential(\n",
    "            torch.nn.Conv2d(IMAGE_CHANNEL, 64, 4, 2, 1),\n",
    "            torch.nn.LeakyReLU(0.2)\n",
    "        )\n",
    "\n",
    "        self.conv2 = torch.nn.Sequential(\n",
    "            torch.nn.Conv2d(64, 128, 4, 2, 1),\n",
    "            torch.nn.BatchNorm2d(128),\n",
    "            torch.nn.LeakyReLU(0.2)\n",
    "        )\n",
    "\n",
    "        self.fc1 = torch.nn.Sequential(\n",
    "            torch.nn.Linear(128 * 7 * 7, 1024),\n",
    "            torch.nn.BatchNorm1d(1024),\n",
    "            torch.nn.LeakyReLU(0.2)\n",
    "        )\n",
    "\n",
    "        self.fc2 = torch.nn.Sequential(\n",
    "            torch.nn.Linear(1024, 1),\n",
    "            torch.nn.Sigmoid()\n",
    "        )\n",
    "        weight_init(self)\n",
    "\n",
    "    def forward(self, x):\n",
    "        output = self.conv1(x)\n",
    "        output = self.conv2(output)\n",
    "        output = output.view(-1, 128 * 7 * 7)\n",
    "        output = self.fc1(output)\n",
    "        output = self.fc2(output)\n",
    "\n",
    "        return output"
   ]
  },
  {
   "cell_type": "markdown",
   "metadata": {},
   "source": [
    "# 3.导入数据"
   ]
  },
  {
   "cell_type": "code",
   "execution_count": 4,
   "metadata": {},
   "outputs": [],
   "source": [
    "class QuickdrawDataset(torch.utils.data.Dataset):\n",
    "    \"\"\"Custom Dataset for loading Quickdraw images\"\"\"\n",
    "\n",
    "    def __init__(self, txt_path, img_dir, transform=None):\n",
    "    \n",
    "        df = pd.read_csv(txt_path, sep=\",\", index_col=0)\n",
    "        self.img_dir = img_dir\n",
    "        self.txt_path = txt_path\n",
    "        self.img_names = df.index.values\n",
    "        self.y = df['Label'].values\n",
    "        self.transform = transform\n",
    "\n",
    "    def __getitem__(self, index):\n",
    "        img = Image.open(os.path.join(self.img_dir,\n",
    "                                      self.img_names[index]))\n",
    "        \n",
    "        if self.transform is not None:\n",
    "            img = self.transform(img)\n",
    "        \n",
    "        label = self.y[index]\n",
    "        return img, label\n",
    "\n",
    "    def __len__(self):\n",
    "        return self.y.shape[0]"
   ]
  },
  {
   "cell_type": "code",
   "execution_count": 5,
   "metadata": {},
   "outputs": [],
   "source": [
    "NetD = Discriminator()\n",
    "NetG = Generator()\n",
    "optimizerD = torch.optim.Adam(NetD.parameters(), lr=LEARNING_RATE, betas=(0.5, 0.999))\n",
    "optimizerG = torch.optim.Adam(NetG.parameters(), lr=LEARNING_RATE, betas=(0.5, 0.999))\n",
    "custom_transform = tv.transforms.Compose([tv.transforms.ToTensor()])\n",
    "\n",
    "train_dataset = QuickdrawDataset(txt_path=os.path.join(DATA_PATH, 'quickdraw_png_set1_train.csv'),\n",
    "                                 img_dir=os.path.join(DATA_PATH, 'images'),\n",
    "                                 transform=custom_transform)\n",
    "\n",
    "train_loader = torch.utils.data.DataLoader(dataset=train_dataset,\n",
    "                          batch_size=BATCH_SIZE,\n",
    "                          shuffle=True,\n",
    "                          num_workers=4) \n",
    "\n",
    "fix_noise     = torch.randn(100, NOISE_DIM)\n",
    "fix_noise_var = torch.autograd.Variable(fix_noise)\n",
    "\n",
    "if torch.cuda.is_available() > 0:\n",
    "    NetG = NetG.cuda()\n",
    "    NetD = NetD.cuda()\n",
    "    fix_noise_var = fix_noise_var.cuda()"
   ]
  },
  {
   "cell_type": "code",
   "execution_count": 6,
   "metadata": {},
   "outputs": [],
   "source": [
    "def calc_gradient_penalty(netD, real_data, fake_data, mini_batch):\n",
    "    alpha = torch.rand(mini_batch, 1)\n",
    "    alpha = alpha.expand(mini_batch, int(real_data.nelement()/mini_batch))\\\n",
    "        .contiguous().view(mini_batch, IMAGE_CHANNEL,IMAGE_SIZE, IMAGE_SIZE)\n",
    "\n",
    "    if torch.cuda.is_available():\n",
    "        alpha = alpha.cuda()\n",
    "\n",
    "    interpolates = alpha * real_data + ((1 - alpha) * fake_data)\n",
    "\n",
    "    if torch.cuda.is_available():\n",
    "        interpolates = interpolates.cuda()\n",
    "\n",
    "    interpolates = torch.autograd.Variable(interpolates, requires_grad=True)\n",
    "\n",
    "    disc_interpolates = netD(interpolates)\n",
    "\n",
    "    gradients = torch.autograd.grad(outputs=disc_interpolates, inputs=interpolates,\n",
    "                     grad_outputs=torch.ones(disc_interpolates.size()).cuda() if torch.cuda.is_available() else torch.ones(\n",
    "                         disc_interpolates.size()),\n",
    "                     create_graph=True, retain_graph=True, only_inputs=True)[0]\n",
    "    gradients = gradients.view(gradients.size(0), -1)\n",
    "\n",
    "    gradient_penalty = ((gradients.norm(2, dim=1) - 1) ** 2).mean() * LAMBDA\n",
    "    return gradient_penalty"
   ]
  },
  {
   "cell_type": "markdown",
   "metadata": {},
   "source": [
    "# 4.训练"
   ]
  },
  {
   "cell_type": "code",
   "execution_count": 7,
   "metadata": {},
   "outputs": [
    {
     "name": "stdout",
     "output_type": "stream",
     "text": [
      "Epoch:1 / 60 [*****************************************************************************************************] 8290 / 8290 ,D Loss:-0.999;G Loss:-0.000,total=0:14:170\n",
      "Epoch:2 / 60 [*****************************************************************************************************] 8290 / 8290 ,D Loss:-0.999;G Loss:-0.000,total=0:14:02010:4779\n",
      "Epoch:3 / 60 [*****************************************************************************************            ] 7376 / 8290 ,D Loss:-1.000;G Loss:-1.000,remain=0:05:03:07:2546"
     ]
    },
    {
     "ename": "KeyboardInterrupt",
     "evalue": "",
     "output_type": "error",
     "traceback": [
      "\u001b[0;31m---------------------------------------------------------------------------\u001b[0m",
      "\u001b[0;31mKeyboardInterrupt\u001b[0m                         Traceback (most recent call last)",
      "\u001b[0;32m<ipython-input-7-3114070a11a9>\u001b[0m in \u001b[0;36m<module>\u001b[0;34m\u001b[0m\n\u001b[1;32m     11\u001b[0m         \u001b[0;32mif\u001b[0m \u001b[0mtorch\u001b[0m\u001b[0;34m.\u001b[0m\u001b[0mcuda\u001b[0m\u001b[0;34m.\u001b[0m\u001b[0mis_available\u001b[0m\u001b[0;34m(\u001b[0m\u001b[0;34m)\u001b[0m\u001b[0;34m:\u001b[0m\u001b[0;34m\u001b[0m\u001b[0m\n\u001b[1;32m     12\u001b[0m             \u001b[0mreal_var\u001b[0m \u001b[0;34m=\u001b[0m \u001b[0mreal_var\u001b[0m\u001b[0;34m.\u001b[0m\u001b[0mcuda\u001b[0m\u001b[0;34m(\u001b[0m\u001b[0;34m)\u001b[0m\u001b[0;34m\u001b[0m\u001b[0m\n\u001b[0;32m---> 13\u001b[0;31m             \u001b[0mnoise_var\u001b[0m \u001b[0;34m=\u001b[0m \u001b[0mnoise_var\u001b[0m\u001b[0;34m.\u001b[0m\u001b[0mcuda\u001b[0m\u001b[0;34m(\u001b[0m\u001b[0;34m)\u001b[0m\u001b[0;34m\u001b[0m\u001b[0m\n\u001b[0m\u001b[1;32m     14\u001b[0m             \u001b[0malpha\u001b[0m \u001b[0;34m=\u001b[0m \u001b[0malpha\u001b[0m\u001b[0;34m.\u001b[0m\u001b[0mcuda\u001b[0m\u001b[0;34m(\u001b[0m\u001b[0;34m)\u001b[0m\u001b[0;34m\u001b[0m\u001b[0m\n\u001b[1;32m     15\u001b[0m \u001b[0;34m\u001b[0m\u001b[0m\n",
      "\u001b[0;31mKeyboardInterrupt\u001b[0m: "
     ]
    }
   ],
   "source": [
    "showbar = bar.ProgressBar(EPOCHS, len(train_loader), \"D Loss:%.3f;G Loss:%.3f\")\n",
    "for epoch in range(1, EPOCHS + 1):\n",
    "    for index, (image, label) in enumerate(train_loader):\n",
    "        mini_batch = image.shape[0]\n",
    "        noise = torch.rand(mini_batch, NOISE_DIM)\n",
    "\n",
    "        real_var = torch.autograd.Variable(image)\n",
    "        noise_var = torch.autograd.Variable(noise)\n",
    "        alpha = torch.rand(mini_batch)\n",
    "\n",
    "        if torch.cuda.is_available():\n",
    "            real_var = real_var.cuda()\n",
    "            noise_var = noise_var.cuda()\n",
    "            alpha = alpha.cuda()\n",
    "\n",
    "        NetD.zero_grad()\n",
    "\n",
    "        D_real = NetD(real_var)\n",
    "        D_real_loss = -torch.mean(D_real)\n",
    "\n",
    "        G_ = NetG(noise_var)\n",
    "        D_fake = NetD(G_)\n",
    "        D_fake_loss = torch.mean(D_fake)\n",
    "\n",
    "        gradient_penalty = calc_gradient_penalty(NetD, real_var.data, G_.data, mini_batch)\n",
    "        D_loss = D_real_loss + D_fake_loss + gradient_penalty\n",
    "        D_loss.backward()\n",
    "        optimizerD.step()\n",
    "\n",
    "        G_loss = D_loss\n",
    "        if ((index+1) % 5) == 0:\n",
    "            # update G network\n",
    "            NetG.zero_grad()\n",
    "\n",
    "            G_ = NetG(noise_var)\n",
    "            D_fake = NetD(G_)\n",
    "            G_loss = -torch.mean(D_fake)\n",
    "\n",
    "            G_loss.backward()\n",
    "            optimizerG.step()\n",
    "\n",
    "        showbar.show(epoch, D_loss.item(), G_loss.item())"
   ]
  },
  {
   "cell_type": "markdown",
   "metadata": {},
   "source": [
    "# 5.生成"
   ]
  },
  {
   "cell_type": "code",
   "execution_count": null,
   "metadata": {},
   "outputs": [],
   "source": [
    "fake_u=NetG(fix_noise_var)\n",
    "img = tv.utils.make_grid(fake_u.data[:100], nrow=10, normalize=True)\n",
    "plt.figure(figsize=(10,10), facecolor='w')\n",
    "plt.imshow(np.transpose(img.cpu(), (1, 2, 0)))"
   ]
  },
  {
   "cell_type": "code",
   "execution_count": null,
   "metadata": {},
   "outputs": [],
   "source": []
  },
  {
   "cell_type": "code",
   "execution_count": null,
   "metadata": {},
   "outputs": [],
   "source": []
  },
  {
   "cell_type": "code",
   "execution_count": null,
   "metadata": {},
   "outputs": [],
   "source": []
  },
  {
   "cell_type": "code",
   "execution_count": null,
   "metadata": {},
   "outputs": [],
   "source": []
  }
 ],
 "metadata": {
  "file_extension": ".py",
  "kernelspec": {
   "display_name": "Python 3",
   "language": "python",
   "name": "python3"
  },
  "language_info": {
   "codemirror_mode": {
    "name": "ipython",
    "version": 3
   },
   "file_extension": ".py",
   "mimetype": "text/x-python",
   "name": "python",
   "nbconvert_exporter": "python",
   "pygments_lexer": "ipython3",
   "version": "3.6.6"
  },
  "mimetype": "text/x-python",
  "name": "python",
  "npconvert_exporter": "python",
  "pygments_lexer": "ipython3",
  "version": 3
 },
 "nbformat": 4,
 "nbformat_minor": 2
}
