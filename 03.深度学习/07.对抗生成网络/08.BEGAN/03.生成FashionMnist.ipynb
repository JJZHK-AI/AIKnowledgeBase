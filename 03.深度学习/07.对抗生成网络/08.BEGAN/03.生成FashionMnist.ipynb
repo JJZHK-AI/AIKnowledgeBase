{
 "nbformat": 4,
 "nbformat_minor": 2,
 "metadata": {
  "language_info": {
   "name": "python",
   "codemirror_mode": {
    "name": "ipython",
    "version": 3
   }
  },
  "orig_nbformat": 2,
  "file_extension": ".py",
  "mimetype": "text/x-python",
  "name": "python",
  "npconvert_exporter": "python",
  "pygments_lexer": "ipython3",
  "version": 3
 },
 "cells": [
  {
   "cell_type": "markdown",
   "metadata": {},
   "source": [
    "使用BEGAN网络生成FashionMnist\n",
    "==="
   ]
  },
  {
   "cell_type": "markdown",
   "metadata": {},
   "source": [
    "# 1.全局设置"
   ]
  },
  {
   "cell_type": "code",
   "execution_count": null,
   "metadata": {},
   "outputs": [],
   "source": [
    "import torch\n",
    "import torchvision as tv\n",
    "import matplotlib.pyplot as plt\n",
    "import numpy as np\n",
    "\n",
    "import sys\n",
    "sys.path.append(\"../\")\n",
    "import jjzhk.progressbar as bar\n",
    "\n",
    "DATA_PATH = \"/input/FashionMNIST/\"\n",
    "EPOCH = 100\n",
    "BATCH_SIZE = 64\n",
    "NOISE_DIM = 62\n",
    "IMAGE_CHANNEL = 1\n",
    "IMAGE_SIZE = 28\n",
    "LEARNING_RATE = 2e-4\n",
    "K = 0.\n",
    "GAMMA = 0.75"
   ]
  },
  {
   "cell_type": "code",
   "execution_count": null,
   "metadata": {},
   "outputs": [],
   "source": [
    "def initialize_weights(net):\n",
    "    for m in net.modules():\n",
    "        if isinstance(m, torch.nn.Conv2d):\n",
    "            m.weight.data.normal_(0, 0.02)\n",
    "            m.bias.data.zero_()\n",
    "        elif isinstance(m, torch.nn.ConvTranspose2d):\n",
    "            m.weight.data.normal_(0, 0.02)\n",
    "            m.bias.data.zero_()\n",
    "        elif isinstance(m, torch.nn.Linear):\n",
    "            m.weight.data.normal_(0, 0.02)\n",
    "            m.bias.data.zero_()"
   ]
  },
  {
   "cell_type": "markdown",
   "metadata": {},
   "source": [
    "# 2.模型"
   ]
  },
  {
   "cell_type": "code",
   "execution_count": null,
   "metadata": {},
   "outputs": [],
   "source": [
    "class Generator(torch.nn.Module):\n",
    "    def __init__(self):\n",
    "        super(Generator, self).__init__()\n",
    "\n",
    "        self.model1 = torch.nn.Sequential(\n",
    "            torch.nn.Linear(in_features=NOISE_DIM,out_features=1024),\n",
    "            torch.nn.BatchNorm1d(num_features=1024),\n",
    "            torch.nn.ReLU(),\n",
    "            torch.nn.Linear(in_features=1024, out_features=128 * 7 * 7),\n",
    "            torch.nn.BatchNorm1d(num_features=128*7*7),\n",
    "            torch.nn.ReLU()\n",
    "        )\n",
    "\n",
    "        self.model2 = torch.nn.Sequential(\n",
    "            torch.nn.ConvTranspose2d(in_channels=128, out_channels=64, kernel_size=4, stride=2, padding=1),\n",
    "            torch.nn.BatchNorm2d(num_features=64),\n",
    "            torch.nn.ReLU(),\n",
    "            torch.nn.ConvTranspose2d(in_channels=64, out_channels=IMAGE_CHANNEL, kernel_size=4, stride=2, padding=1),\n",
    "            torch.nn.Sigmoid()\n",
    "        )\n",
    "\n",
    "        initialize_weights(self)\n",
    "\n",
    "    def forward(self, x):\n",
    "        network = self.model1(x)\n",
    "\n",
    "        network = network.view(-1, 128, 7, 7)\n",
    "        network = self.model2(network)\n",
    "\n",
    "        return network\n",
    "\n",
    "\n",
    "class Discriminator(torch.nn.Module):\n",
    "    def __init__(self):\n",
    "        super(Discriminator, self).__init__()\n",
    "        self.model1 = torch.nn.Sequential(\n",
    "            torch.nn.Conv2d(in_channels=IMAGE_CHANNEL, out_channels=64, kernel_size=4, stride=2, padding=1),\n",
    "            torch.nn.ReLU()\n",
    "        )\n",
    "        self.model2 = torch.nn.Sequential(\n",
    "            torch.nn.Linear(in_features=64 * 14 * 14, out_features=32),\n",
    "            torch.nn.BatchNorm1d(num_features=32),\n",
    "            torch.nn.ReLU(),\n",
    "            torch.nn.Linear(in_features=32, out_features= 64 * 14 * 14),\n",
    "            torch.nn.BatchNorm1d(num_features=64 * 14 * 14),\n",
    "            torch.nn.ReLU()\n",
    "        )\n",
    "        self.model3 = torch.nn.Sequential(\n",
    "            torch.nn.ConvTranspose2d(in_channels=64, out_channels=1, kernel_size=4, stride=2, padding=1)\n",
    "        )\n",
    "\n",
    "        initialize_weights(self)\n",
    "\n",
    "    def forward(self, x):\n",
    "        network = self.model1(x)\n",
    "\n",
    "        network = network.view(network.size()[0], -1)\n",
    "\n",
    "        network = self.model2(network)\n",
    "\n",
    "        network = network.view(-1, 64, 14,14)\n",
    "\n",
    "        network = self.model3(network)\n",
    "\n",
    "        return network"
   ]
  },
  {
   "cell_type": "markdown",
   "metadata": {},
   "source": [
    "# 3.导入数据"
   ]
  },
  {
   "cell_type": "code",
   "execution_count": null,
   "metadata": {},
   "outputs": [],
   "source": [
    "NetD = Discriminator()\n",
    "NetG = Generator()\n",
    "optimizerD = torch.optim.Adam(NetD.parameters(), lr=LEARNING_RATE, betas=(0.5, 0.999))\n",
    "optimizerG = torch.optim.Adam(NetG.parameters(), lr=LEARNING_RATE, betas=(0.5, 0.999))\n",
    "trans = tv.transforms.Compose([\n",
    "    tv.transforms.ToTensor()\n",
    "])\n",
    "\n",
    "train_dataset = tv.datasets.FashionMNIST(root=DATA_PATH,\n",
    "                               train=True,\n",
    "                               transform=trans,\n",
    "                               download=True)\n",
    "\n",
    "train_loader = torch.utils.data.DataLoader(dataset=train_dataset,\n",
    "                          batch_size=BATCH_SIZE,\n",
    "                          shuffle=True)\n",
    "fix_noise = torch.randn(100, NOISE_DIM)\n",
    "fix_noise_var = torch.autograd.Variable(fix_noise)\n",
    "\n",
    "if torch.cuda.is_available() > 0:\n",
    "    NetG = NetG.cuda()\n",
    "    NetD = NetD.cuda()\n",
    "    fix_noise_var = fix_noise_var.cuda()"
   ]
  },
  {
   "cell_type": "markdown",
   "metadata": {},
   "source": [
    "# 4.训练"
   ]
  },
  {
   "cell_type": "code",
   "execution_count": null,
   "metadata": {},
   "outputs": [],
   "source": [
    "showbar = bar.ProgressBar(EPOCH, len(train_loader), \"D Loss:%.3f;G Loss:%.3f\")\n",
    "for epoch in range(1, EPOCH + 1):\n",
    "    for index, (image, label) in enumerate(train_loader):\n",
    "        mini_batch = image.shape[0]\n",
    "\n",
    "        noise = torch.rand(mini_batch, NOISE_DIM)\n",
    "\n",
    "        real_var  = torch.autograd.Variable(image)\n",
    "        noise_var = torch.autograd.Variable(noise)\n",
    "\n",
    "        label_real_var = torch.autograd.Variable(torch.ones(mini_batch, 1))\n",
    "        label_fake_var = torch.autograd.Variable(torch.zeros(mini_batch, 1))\n",
    "\n",
    "        if torch.cuda.is_available():\n",
    "            real_var = real_var.cuda()\n",
    "            noise_var = noise_var.cuda()\n",
    "            label_real_var = label_real_var.cuda()\n",
    "            label_fake_var = label_fake_var.cuda()\n",
    "\n",
    "        NetD.zero_grad()\n",
    "\n",
    "        D_real = NetD(real_var)\n",
    "        D_real_loss = torch.mean(torch.abs(D_real - real_var))\n",
    "\n",
    "        G_ = NetG(noise_var)\n",
    "        D_fake = NetD(G_)\n",
    "        D_fake_loss = torch.mean(torch.abs(D_fake - G_))\n",
    "\n",
    "        D_loss = D_real_loss - K * D_fake_loss\n",
    "        D_loss.backward()\n",
    "        optimizerD.step()\n",
    "\n",
    "        NetG.zero_grad()\n",
    "\n",
    "        G_ = NetG(noise_var)\n",
    "        D_fake = NetD(G_)\n",
    "        D_fake_loss = torch.mean(torch.abs(D_fake - G_))\n",
    "        G_loss = D_fake_loss\n",
    "\n",
    "        G_loss.backward()\n",
    "        optimizerG.step()\n",
    "\n",
    "        temp_M = D_real_loss + torch.abs(GAMMA * D_real_loss - D_fake_loss)\n",
    "\n",
    "        temp_K = K + GAMMA * (GAMMA * D_real_loss - D_fake_loss)\n",
    "        temp_K = temp_K.item()\n",
    "        K = min(max(temp_K, 0), 1)\n",
    "        M = temp_M.item()\n",
    "\n",
    "        showbar.show(epoch, D_loss.item(), G_loss.item())"
   ]
  },
  {
   "cell_type": "markdown",
   "metadata": {},
   "source": [
    "# 5.生成数据"
   ]
  },
  {
   "cell_type": "code",
   "execution_count": null,
   "metadata": {},
   "outputs": [],
   "source": [
    "fake_u=NetG(fix_noise_var)\n",
    "img = tv.utils.make_grid(fake_u.data[:100], nrow=10, normalize=True)\n",
    "plt.figure(figsize=(10,10), facecolor='w')\n",
    "plt.imshow(np.transpose(img.cpu(), (1, 2, 0)))"
   ]
  },
  {
   "cell_type": "code",
   "execution_count": null,
   "metadata": {},
   "outputs": [],
   "source": []
  },
  {
   "cell_type": "code",
   "execution_count": null,
   "metadata": {},
   "outputs": [],
   "source": []
  },
  {
   "cell_type": "code",
   "execution_count": null,
   "metadata": {},
   "outputs": [],
   "source": []
  },
  {
   "cell_type": "code",
   "execution_count": null,
   "metadata": {},
   "outputs": [],
   "source": []
  },
  {
   "cell_type": "code",
   "execution_count": null,
   "metadata": {},
   "outputs": [],
   "source": []
  }
 ]
}