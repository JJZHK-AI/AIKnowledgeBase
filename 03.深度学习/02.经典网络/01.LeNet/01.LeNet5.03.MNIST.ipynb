{
 "cells": [
  {
   "cell_type": "markdown",
   "metadata": {},
   "source": [
    "使用LeNet网络对MNIST进行分类\n",
    "==="
   ]
  },
  {
   "cell_type": "code",
   "execution_count": 1,
   "metadata": {},
   "outputs": [],
   "source": [
    "import os\n",
    "import time\n",
    "\n",
    "import numpy as np\n",
    "import pandas as pd\n",
    "\n",
    "import torch\n",
    "import torch.nn as nn\n",
    "import torch.nn.functional as F\n",
    "from torch.utils.data import DataLoader\n",
    "\n",
    "from torchvision import datasets\n",
    "from torchvision import transforms\n",
    "\n",
    "import matplotlib.pyplot as plt\n",
    "from PIL import Image\n",
    "\n",
    "\n",
    "if torch.cuda.is_available():\n",
    "    torch.backends.cudnn.deterministic = True"
   ]
  },
  {
   "cell_type": "markdown",
   "metadata": {},
   "source": [
    "# 1.全局设置"
   ]
  },
  {
   "cell_type": "code",
   "execution_count": 2,
   "metadata": {},
   "outputs": [],
   "source": [
    "RANDOM_SEED = 1\n",
    "LEARNING_RATE = 0.001\n",
    "BATCH_SIZE = 128\n",
    "NUM_EPOCHS = 10\n",
    "\n",
    "# Architecture\n",
    "NUM_FEATURES = 32*32\n",
    "NUM_CLASSES = 10\n",
    "\n",
    "# Other\n",
    "DEVICE = \"cuda:0\"\n",
    "GRAYSCALE = True"
   ]
  },
  {
   "cell_type": "markdown",
   "metadata": {},
   "source": [
    "# 2.加载数据"
   ]
  },
  {
   "cell_type": "code",
   "execution_count": 3,
   "metadata": {},
   "outputs": [
    {
     "name": "stdout",
     "output_type": "stream",
     "text": [
      "Image batch dimensions: torch.Size([128, 1, 32, 32])\n",
      "Image label dimensions: torch.Size([128])\n"
     ]
    }
   ],
   "source": [
    "resize_transform = transforms.Compose([transforms.Resize((32, 32)),\n",
    "                                       transforms.ToTensor()])\n",
    "\n",
    "# Note transforms.ToTensor() scales input images\n",
    "# to 0-1 range\n",
    "train_dataset = datasets.MNIST(root='/data/input/', \n",
    "                               train=True, \n",
    "                               transform=resize_transform,\n",
    "                               download=True)\n",
    "\n",
    "test_dataset = datasets.MNIST(root='/data/input/', \n",
    "                              train=False, \n",
    "                              transform=resize_transform)\n",
    "\n",
    "\n",
    "train_loader = DataLoader(dataset=train_dataset, \n",
    "                          batch_size=BATCH_SIZE, \n",
    "                          shuffle=True)\n",
    "\n",
    "test_loader = DataLoader(dataset=test_dataset, \n",
    "                         batch_size=BATCH_SIZE, \n",
    "                         shuffle=False)\n",
    "\n",
    "# Checking the dataset\n",
    "for images, labels in train_loader:  \n",
    "    print('Image batch dimensions:', images.shape)\n",
    "    print('Image label dimensions:', labels.shape)\n",
    "    break"
   ]
  },
  {
   "cell_type": "markdown",
   "metadata": {},
   "source": [
    "# 3.模型"
   ]
  },
  {
   "cell_type": "code",
   "execution_count": 4,
   "metadata": {},
   "outputs": [],
   "source": [
    "device = torch.device(DEVICE)\n",
    "class LeNet5(nn.Module):\n",
    "\n",
    "    def __init__(self, num_classes, grayscale=False):\n",
    "        super(LeNet5, self).__init__()\n",
    "        \n",
    "        self.grayscale = grayscale\n",
    "        self.num_classes = num_classes\n",
    "\n",
    "        if self.grayscale:\n",
    "            in_channels = 1\n",
    "        else:\n",
    "            in_channels = 3\n",
    "\n",
    "        self.features = nn.Sequential(\n",
    "            \n",
    "            nn.Conv2d(in_channels, 6, kernel_size=5),\n",
    "            nn.Tanh(),\n",
    "            nn.MaxPool2d(kernel_size=2),\n",
    "            nn.Conv2d(6, 16, kernel_size=5),\n",
    "            nn.Tanh(),\n",
    "            nn.MaxPool2d(kernel_size=2)\n",
    "        )\n",
    "\n",
    "        self.classifier = nn.Sequential(\n",
    "            nn.Linear(16*5*5, 120),\n",
    "            nn.Tanh(),\n",
    "            nn.Linear(120, 84),\n",
    "            nn.Tanh(),\n",
    "            nn.Linear(84, num_classes),\n",
    "        )\n",
    "\n",
    "\n",
    "    def forward(self, x):\n",
    "        x = self.features(x)\n",
    "        x = torch.flatten(x, 1)\n",
    "        logits = self.classifier(x)\n",
    "        probas = F.softmax(logits, dim=1)\n",
    "        return logits, probas"
   ]
  },
  {
   "cell_type": "code",
   "execution_count": 5,
   "metadata": {},
   "outputs": [],
   "source": [
    "torch.manual_seed(RANDOM_SEED)\n",
    "\n",
    "model = LeNet5(NUM_CLASSES, GRAYSCALE)\n",
    "model.to(DEVICE)\n",
    "\n",
    "optimizer = torch.optim.Adam(model.parameters(), lr=LEARNING_RATE) "
   ]
  },
  {
   "cell_type": "markdown",
   "metadata": {},
   "source": [
    "# 4.训练"
   ]
  },
  {
   "cell_type": "code",
   "execution_count": 6,
   "metadata": {},
   "outputs": [
    {
     "name": "stdout",
     "output_type": "stream",
     "text": [
      "Epoch: 001/010 | Batch 0000/0469 | Cost: 2.3055\n",
      "Epoch: 001/010 | Batch 0050/0469 | Cost: 0.5466\n",
      "Epoch: 001/010 | Batch 0100/0469 | Cost: 0.3708\n",
      "Epoch: 001/010 | Batch 0150/0469 | Cost: 0.3409\n",
      "Epoch: 001/010 | Batch 0200/0469 | Cost: 0.1298\n",
      "Epoch: 001/010 | Batch 0250/0469 | Cost: 0.1857\n",
      "Epoch: 001/010 | Batch 0300/0469 | Cost: 0.0940\n",
      "Epoch: 001/010 | Batch 0350/0469 | Cost: 0.1852\n",
      "Epoch: 001/010 | Batch 0400/0469 | Cost: 0.1425\n",
      "Epoch: 001/010 | Batch 0450/0469 | Cost: 0.0623\n",
      "Epoch: 001/010 | Train: 96.657%\n",
      "Time elapsed: 0.33 min\n",
      "Epoch: 002/010 | Batch 0000/0469 | Cost: 0.0658\n",
      "Epoch: 002/010 | Batch 0050/0469 | Cost: 0.1021\n",
      "Epoch: 002/010 | Batch 0100/0469 | Cost: 0.0813\n",
      "Epoch: 002/010 | Batch 0150/0469 | Cost: 0.1711\n",
      "Epoch: 002/010 | Batch 0200/0469 | Cost: 0.0637\n",
      "Epoch: 002/010 | Batch 0250/0469 | Cost: 0.0768\n",
      "Epoch: 002/010 | Batch 0300/0469 | Cost: 0.0423\n",
      "Epoch: 002/010 | Batch 0350/0469 | Cost: 0.0944\n",
      "Epoch: 002/010 | Batch 0400/0469 | Cost: 0.0304\n",
      "Epoch: 002/010 | Batch 0450/0469 | Cost: 0.0685\n",
      "Epoch: 002/010 | Train: 98.223%\n",
      "Time elapsed: 0.56 min\n",
      "Epoch: 003/010 | Batch 0000/0469 | Cost: 0.0861\n",
      "Epoch: 003/010 | Batch 0050/0469 | Cost: 0.0318\n",
      "Epoch: 003/010 | Batch 0100/0469 | Cost: 0.0311\n",
      "Epoch: 003/010 | Batch 0150/0469 | Cost: 0.0586\n",
      "Epoch: 003/010 | Batch 0200/0469 | Cost: 0.0508\n",
      "Epoch: 003/010 | Batch 0250/0469 | Cost: 0.0484\n",
      "Epoch: 003/010 | Batch 0300/0469 | Cost: 0.0492\n",
      "Epoch: 003/010 | Batch 0350/0469 | Cost: 0.1144\n",
      "Epoch: 003/010 | Batch 0400/0469 | Cost: 0.0165\n",
      "Epoch: 003/010 | Batch 0450/0469 | Cost: 0.0302\n",
      "Epoch: 003/010 | Train: 98.735%\n",
      "Time elapsed: 0.77 min\n",
      "Epoch: 004/010 | Batch 0000/0469 | Cost: 0.1140\n",
      "Epoch: 004/010 | Batch 0050/0469 | Cost: 0.0241\n",
      "Epoch: 004/010 | Batch 0100/0469 | Cost: 0.0169\n",
      "Epoch: 004/010 | Batch 0150/0469 | Cost: 0.0100\n",
      "Epoch: 004/010 | Batch 0200/0469 | Cost: 0.0485\n",
      "Epoch: 004/010 | Batch 0250/0469 | Cost: 0.0431\n",
      "Epoch: 004/010 | Batch 0300/0469 | Cost: 0.0156\n",
      "Epoch: 004/010 | Batch 0350/0469 | Cost: 0.0606\n",
      "Epoch: 004/010 | Batch 0400/0469 | Cost: 0.0334\n",
      "Epoch: 004/010 | Batch 0450/0469 | Cost: 0.1407\n",
      "Epoch: 004/010 | Train: 98.907%\n",
      "Time elapsed: 0.99 min\n",
      "Epoch: 005/010 | Batch 0000/0469 | Cost: 0.0129\n",
      "Epoch: 005/010 | Batch 0050/0469 | Cost: 0.0526\n",
      "Epoch: 005/010 | Batch 0100/0469 | Cost: 0.0503\n",
      "Epoch: 005/010 | Batch 0150/0469 | Cost: 0.0052\n",
      "Epoch: 005/010 | Batch 0200/0469 | Cost: 0.0449\n",
      "Epoch: 005/010 | Batch 0250/0469 | Cost: 0.0046\n",
      "Epoch: 005/010 | Batch 0300/0469 | Cost: 0.0513\n",
      "Epoch: 005/010 | Batch 0350/0469 | Cost: 0.0692\n",
      "Epoch: 005/010 | Batch 0400/0469 | Cost: 0.0783\n",
      "Epoch: 005/010 | Batch 0450/0469 | Cost: 0.0186\n",
      "Epoch: 005/010 | Train: 99.378%\n",
      "Time elapsed: 1.20 min\n",
      "Epoch: 006/010 | Batch 0000/0469 | Cost: 0.0368\n",
      "Epoch: 006/010 | Batch 0050/0469 | Cost: 0.0071\n",
      "Epoch: 006/010 | Batch 0100/0469 | Cost: 0.0164\n",
      "Epoch: 006/010 | Batch 0150/0469 | Cost: 0.0711\n",
      "Epoch: 006/010 | Batch 0200/0469 | Cost: 0.0099\n",
      "Epoch: 006/010 | Batch 0250/0469 | Cost: 0.0347\n",
      "Epoch: 006/010 | Batch 0300/0469 | Cost: 0.0043\n",
      "Epoch: 006/010 | Batch 0350/0469 | Cost: 0.0232\n",
      "Epoch: 006/010 | Batch 0400/0469 | Cost: 0.0091\n",
      "Epoch: 006/010 | Batch 0450/0469 | Cost: 0.0918\n",
      "Epoch: 006/010 | Train: 99.445%\n",
      "Time elapsed: 1.40 min\n",
      "Epoch: 007/010 | Batch 0000/0469 | Cost: 0.0094\n",
      "Epoch: 007/010 | Batch 0050/0469 | Cost: 0.0073\n",
      "Epoch: 007/010 | Batch 0100/0469 | Cost: 0.0051\n",
      "Epoch: 007/010 | Batch 0150/0469 | Cost: 0.0114\n",
      "Epoch: 007/010 | Batch 0200/0469 | Cost: 0.0283\n",
      "Epoch: 007/010 | Batch 0250/0469 | Cost: 0.0227\n",
      "Epoch: 007/010 | Batch 0300/0469 | Cost: 0.0290\n",
      "Epoch: 007/010 | Batch 0350/0469 | Cost: 0.0065\n",
      "Epoch: 007/010 | Batch 0400/0469 | Cost: 0.0243\n",
      "Epoch: 007/010 | Batch 0450/0469 | Cost: 0.0029\n",
      "Epoch: 007/010 | Train: 99.575%\n",
      "Time elapsed: 1.61 min\n",
      "Epoch: 008/010 | Batch 0000/0469 | Cost: 0.0031\n",
      "Epoch: 008/010 | Batch 0050/0469 | Cost: 0.0056\n",
      "Epoch: 008/010 | Batch 0100/0469 | Cost: 0.0036\n",
      "Epoch: 008/010 | Batch 0150/0469 | Cost: 0.0078\n",
      "Epoch: 008/010 | Batch 0200/0469 | Cost: 0.0308\n",
      "Epoch: 008/010 | Batch 0250/0469 | Cost: 0.0177\n",
      "Epoch: 008/010 | Batch 0300/0469 | Cost: 0.0055\n",
      "Epoch: 008/010 | Batch 0350/0469 | Cost: 0.0088\n",
      "Epoch: 008/010 | Batch 0400/0469 | Cost: 0.0198\n",
      "Epoch: 008/010 | Batch 0450/0469 | Cost: 0.0100\n",
      "Epoch: 008/010 | Train: 99.753%\n",
      "Time elapsed: 1.81 min\n",
      "Epoch: 009/010 | Batch 0000/0469 | Cost: 0.0016\n",
      "Epoch: 009/010 | Batch 0050/0469 | Cost: 0.0037\n",
      "Epoch: 009/010 | Batch 0100/0469 | Cost: 0.0069\n",
      "Epoch: 009/010 | Batch 0150/0469 | Cost: 0.0007\n",
      "Epoch: 009/010 | Batch 0200/0469 | Cost: 0.0142\n",
      "Epoch: 009/010 | Batch 0250/0469 | Cost: 0.0141\n",
      "Epoch: 009/010 | Batch 0300/0469 | Cost: 0.0034\n",
      "Epoch: 009/010 | Batch 0350/0469 | Cost: 0.0042\n",
      "Epoch: 009/010 | Batch 0400/0469 | Cost: 0.0063\n",
      "Epoch: 009/010 | Batch 0450/0469 | Cost: 0.0011\n",
      "Epoch: 009/010 | Train: 99.787%\n",
      "Time elapsed: 2.03 min\n",
      "Epoch: 010/010 | Batch 0000/0469 | Cost: 0.0046\n",
      "Epoch: 010/010 | Batch 0050/0469 | Cost: 0.0339\n",
      "Epoch: 010/010 | Batch 0100/0469 | Cost: 0.0064\n",
      "Epoch: 010/010 | Batch 0150/0469 | Cost: 0.0203\n",
      "Epoch: 010/010 | Batch 0200/0469 | Cost: 0.0129\n",
      "Epoch: 010/010 | Batch 0250/0469 | Cost: 0.0189\n",
      "Epoch: 010/010 | Batch 0300/0469 | Cost: 0.0087\n",
      "Epoch: 010/010 | Batch 0350/0469 | Cost: 0.0071\n",
      "Epoch: 010/010 | Batch 0400/0469 | Cost: 0.0035\n",
      "Epoch: 010/010 | Batch 0450/0469 | Cost: 0.0081\n",
      "Epoch: 010/010 | Train: 99.837%\n",
      "Time elapsed: 2.24 min\n",
      "Total Training Time: 2.24 min\n"
     ]
    }
   ],
   "source": [
    "def compute_accuracy(model, data_loader, device):\n",
    "    correct_pred, num_examples = 0, 0\n",
    "    for i, (features, targets) in enumerate(data_loader):\n",
    "            \n",
    "        features = features.to(device)\n",
    "        targets = targets.to(device)\n",
    "\n",
    "        logits, probas = model(features)\n",
    "        _, predicted_labels = torch.max(probas, 1)\n",
    "        num_examples += targets.size(0)\n",
    "        correct_pred += (predicted_labels == targets).sum()\n",
    "    return correct_pred.float()/num_examples * 100\n",
    "    \n",
    "\n",
    "start_time = time.time()\n",
    "for epoch in range(NUM_EPOCHS):\n",
    "    \n",
    "    model.train()\n",
    "    for batch_idx, (features, targets) in enumerate(train_loader):\n",
    "        \n",
    "        features = features.to(DEVICE)\n",
    "        targets = targets.to(DEVICE)\n",
    "            \n",
    "        ### FORWARD AND BACK PROP\n",
    "        logits, probas = model(features)\n",
    "        cost = F.cross_entropy(logits, targets)\n",
    "        optimizer.zero_grad()\n",
    "        \n",
    "        cost.backward()\n",
    "        \n",
    "        ### UPDATE MODEL PARAMETERS\n",
    "        optimizer.step()\n",
    "        \n",
    "        ### LOGGING\n",
    "        if not batch_idx % 50:\n",
    "            print ('Epoch: %03d/%03d | Batch %04d/%04d | Cost: %.4f' \n",
    "                   %(epoch+1, NUM_EPOCHS, batch_idx, \n",
    "                     len(train_loader), cost))\n",
    "\n",
    "        \n",
    "\n",
    "    model.eval()\n",
    "    with torch.set_grad_enabled(False): # save memory during inference\n",
    "        print('Epoch: %03d/%03d | Train: %.3f%%' % (\n",
    "              epoch+1, NUM_EPOCHS, \n",
    "              compute_accuracy(model, train_loader, device=DEVICE)))\n",
    "        \n",
    "    print('Time elapsed: %.2f min' % ((time.time() - start_time)/60))\n",
    "    \n",
    "print('Total Training Time: %.2f min' % ((time.time() - start_time)/60))"
   ]
  },
  {
   "cell_type": "markdown",
   "metadata": {},
   "source": [
    "# 5.评估"
   ]
  },
  {
   "cell_type": "code",
   "execution_count": 7,
   "metadata": {},
   "outputs": [
    {
     "name": "stdout",
     "output_type": "stream",
     "text": [
      "Test accuracy: 98.81%\n"
     ]
    }
   ],
   "source": [
    "with torch.set_grad_enabled(False): # save memory during inference\n",
    "    print('Test accuracy: %.2f%%' % (compute_accuracy(model, test_loader, device=DEVICE)))"
   ]
  },
  {
   "cell_type": "code",
   "execution_count": 9,
   "metadata": {},
   "outputs": [
    {
     "data": {
      "text/plain": [
       "<matplotlib.image.AxesImage at 0x7f7d17ec24a8>"
      ]
     },
     "execution_count": 9,
     "metadata": {},
     "output_type": "execute_result"
    },
    {
     "data": {
      "image/png": "[encoded data removed]",
      "text/plain": [
       "<Figure size 432x288 with 1 Axes>"
      ]
     },
     "metadata": {
      "needs_background": "light"
     },
     "output_type": "display_data"
    }
   ],
   "source": [
    "for batch_idx, (features, targets) in enumerate(test_loader):\n",
    "    features = features\n",
    "    targets = targets\n",
    "    break\n",
    "    \n",
    "nhwc_img = np.transpose(features[0], axes=(1, 2, 0))\n",
    "nhw_img = np.squeeze(nhwc_img.numpy(), axis=2)\n",
    "plt.imshow(nhw_img, cmap='Greys')"
   ]
  },
  {
   "cell_type": "code",
   "execution_count": 10,
   "metadata": {},
   "outputs": [
    {
     "name": "stdout",
     "output_type": "stream",
     "text": [
      "Probability 7 100.00%\n"
     ]
    }
   ],
   "source": [
    "model.eval()\n",
    "logits, probas = model(features.to(device)[0, None])\n",
    "print('Probability 7 %.2f%%' % (probas[0][7]*100))"
   ]
  }
 ],
 "metadata": {
  "kernelspec": {
   "display_name": "Python 3",
   "language": "python",
   "name": "python3"
  },
  "language_info": {
   "codemirror_mode": {
    "name": "ipython",
    "version": 3
   },
   "file_extension": ".py",
   "mimetype": "text/x-python",
   "name": "python",
   "nbconvert_exporter": "python",
   "pygments_lexer": "ipython3",
   "version": "3.6.9"
  }
 },
 "nbformat": 4,
 "nbformat_minor": 2
}
