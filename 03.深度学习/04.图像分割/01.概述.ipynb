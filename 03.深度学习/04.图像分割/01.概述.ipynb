{
 "cells": [
  {
   "cell_type": "markdown",
   "metadata": {
    "collapsed": true,
    "pycharm": {
     "name": "#%% md\n"
    }
   },
   "source": [
    "图像分割模型之概述\n",
    "==="
   ]
  },
  {
   "cell_type": "markdown",
   "metadata": {
    "pycharm": {
     "name": "#%% md\n"
    }
   },
   "source": [
    "# 1.什么是分割\n",
    "分割，顾名思义，就是把一个完整的东西按照某种方式或规则分成若干个部分。图像分割简单来说，就是把图像中属于同一类别或同一个体的东西划分在一起，并将各个子部分区分开来。"
   ]
  },
  {
   "cell_type": "markdown",
   "metadata": {
    "pycharm": {
     "name": "#%% md\n"
    }
   },
   "source": [
    "为了训练神经网络，图片中这些像素点会按照某种规则被贴上一个“标签”，比如这个像素点是属于人、天空、草地还是树；更详细一点，可以再给它们第二个标签，声明它们是属于“哪一个人”或“哪一棵树”。"
   ]
  },
  {
   "cell_type": "markdown",
   "metadata": {
    "pycharm": {
     "name": "#%% md\n"
    }
   },
   "source": [
    "# 2.图像分割的分类\n",
    "|  原始图像 | 语义分割 |\n",
    "| ------ | ----- |\n",
    "| - | 只有一个标签的（只区分类别）的任务 |\n",
    "| ![image](Images/01_001.png) | ![image](Images/01_002.png) |\n",
    "| 实例分割 | 全景分割 |\n",
    "| 对于区分相同类别的不同个体的 | 同时实现实例分割与不可数类别的语义分割 |\n",
    "| ![image](Images/01_003.png) | ![image](Images/01_004.png) |\n",
    "\n",
    "\n",
    "\n"
   ]
  }
 ],
 "metadata": {
  "kernelspec": {
   "display_name": "Python 3",
   "language": "python",
   "name": "python3"
  },
  "language_info": {
   "codemirror_mode": {
    "name": "ipython",
    "version": 3
   },
   "file_extension": ".py",
   "mimetype": "text/x-python",
   "name": "python",
   "nbconvert_exporter": "python",
   "pygments_lexer": "ipython3",
   "version": "3.6.10"
  },
  "pycharm": {
   "stem_cell": {
    "cell_type": "raw",
    "metadata": {
     "collapsed": false
    },
    "source": []
   }
  }
 },
 "nbformat": 4,
 "nbformat_minor": 1
}
