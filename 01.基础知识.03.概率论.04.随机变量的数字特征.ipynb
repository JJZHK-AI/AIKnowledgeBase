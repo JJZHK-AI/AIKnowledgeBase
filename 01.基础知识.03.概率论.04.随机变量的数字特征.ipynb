{
 "cells": [
  {
   "cell_type": "markdown",
   "metadata": {
    "collapsed": true
   },
   "source": [
    "随机变量的数字特征\n",
    "==="
   ]
  },
  {
   "cell_type": "markdown",
   "metadata": {},
   "source": [
    "# 1.数学期望"
   ]
  },
  {
   "cell_type": "markdown",
   "metadata": {},
   "source": [
    "设离散型随机变量X的分布律为$P\\{X=x_k\\}=p_k(k=1,2,...)$，若无穷级数$\\sum_{k=1}^\\infty x_kp_k$绝对收敛，则称这个级数为随机变量X的数学期望，简称期望，也称为均值，记作$E(X)$，即\n",
    "$$\n",
    "E(X)=\\sum_{k=1}^\\infty x_kp_k\n",
    "$$\n",
    "一个随机变量的数学期望的一个常数。随机变量的取值将集中在其期望值附近。并非任何随机变量都有数学期望。"
   ]
  },
  {
   "cell_type": "markdown",
   "metadata": {},
   "source": [
    "设连续型随机变量X的概率密度为f(x)，若积分$\\int_{-\\infty}^{\\infty}xf(x)dx$绝对收敛，则称这个积分为随机变量X的数学期望。即\n",
    "$$\n",
    "E(X)=\\int_{-\\infty}^{\\infty}xf(x)dx\n",
    "$$"
   ]
  },
  {
   "cell_type": "markdown",
   "metadata": {},
   "source": [
    "# 2.方差"
   ]
  },
  {
   "cell_type": "markdown",
   "metadata": {},
   "source": [
    "设X是一个随机变量，若$E\\{[X-E(X)]^2\\}$存在，则称之为X的方差，记作$D(X)$。称$\\sqrt{D(X)}$为标准差或均方差，记作$\\sigma(X)$。方差表示X的取值与其数学期望的偏差程度。\n",
    "$$\\begin{split}\n",
    "D(X)&=E\\{[X-E(X)]^2\\}=E\\{X^2-2E(X)X+[E(X)]^2\\}\\\\\\\\\n",
    "&=E(X^2)-E[2E(X)X]+E\\{[E(X)]^2\\}\\\\\\\\\n",
    "&=E(X^2)-2E(X)E(X)+[E(X)]^2\\\\\\\\\n",
    "&=E(X^2)-[E(X)]^2\n",
    "\\end{split}$$\n",
    "$E(X^2) \\geq [E(X)]^2$"
   ]
  },
  {
   "cell_type": "markdown",
   "metadata": {},
   "source": [
    "> 设甲乙两炮实弹射击的弹着点与目标的距离分别为X和Y，则X和Y是两个随机变量。假设X和Y的分布律为：\n",
    ">\n",
    "> | X | 8.0 | 8.5 | 9.0 | 9.5 | 10 |\n",
    "  | p | 0.2 | 0.3 | 0.2 | 0.2 | 0.1 |\n",
    ">\n",
    "> | Y | 8.4 | 8.6 | 9.0 | 9.1 | 9.3 |\n",
    "  | p | 0.2 | 0.2 | 0.3 | 0.2 | 0.1 |\n",
    ">\n",
    "> 求它们的数学期望和方差\n",
    "\n",
    "解，数学期望就是\n",
    "$$\\begin{split}\n",
    "E(X)&=8.0 * 0.2 + 8.5 * 0.3 + 9.0 * 0.2 + 9.5 * 0.2 + 10 * 0.1 = 1.6+2.55+1.8+1.9+1=8.85\\\\\\\\\n",
    "E(Y)&=8.4 * 0.2 + 8.6 * 0.2 + 9.0 * 0.3 + 9.1 * 0.2 + 9.3 * 0.1=1.64+1.92+2.7+1.82+0.93=8.85\n",
    "\\end{split}$$\n",
    "方差是\n",
    "$$\\begin{split}\n",
    "D(X)&=\\sum_{k=1}^5(x_k-8.85)^2p_k\\\\\\\\\n",
    "&=(8.0-8.85)^2*0.2+(8.5-8.85)^2*0.3+(9.0-8.85)^2*0.2+(9.5-8.85)^2*0.2+(10-8.85)^2*0.1=0.4025\\\\\\\\\n",
    "D(Y)&=\\sum_{k=1}^5(y_k-8.85)^2p_k\\\\\\\\\n",
    "&=(8.4-8.85)^2*0.2+(8.6-8.85)^2*0.2+(9.0-8.85)^2*0.3+(9.1-8.85)^2*0.2+(9.3-8.85)^2*0.1=0.0925\n",
    "\\end{split}$$\n",
    "说明乙炮的弹着点更集中"
   ]
  },
  {
   "cell_type": "markdown",
   "metadata": {},
   "source": [
    "1. 常数的方差为0，即D(C)=0\n",
    "2. $D(X)=0 \\Leftrightarrow P\\{X=E(X)\\}=1$\n",
    "3. 设X是随机变量，C是常数，则$D(CX)=C^2D(X),D(X+C)=D(X)$\n",
    "4. $\\sigma(CX)=|C|\\sigma(X)$\n",
    "5. 设X，Y是随机变量，则\n",
    "$$D(X+Y)=D(X)+D(Y)+2E\\{[X-E(X)][Y-E(Y)]\\}$$\n",
    "若X，Y相互独立，则$D(X+Y)=D(X)+D(Y)$"
   ]
  },
  {
   "cell_type": "markdown",
   "metadata": {},
   "source": [
    "# 3.协方差及相关系数"
   ]
  },
  {
   "cell_type": "markdown",
   "metadata": {},
   "source": [
    "## 3.1.协方差与相关系数的概念\n",
    "设(X,Y)是二维随机变量，称$E\\{[X-E(X)][Y-E(Y)]\\}$为X与Y的**<span style='color:red'>协方差</span>**，记作$Cov(X,Y)$或者$\\sigma(X,Y)$。$-\\infty<Conv(X,Y)<+\\infty$<br/>\n",
    "当D(X)和D(Y)不等于0时，定义X与Y的<span style='color:red'>相关系数</span>为\n",
    "$$\\rho_{XY}=\\frac{\\sigma(X,Y)}{\\sqrt{D(X)}\\sqrt{D(Y)}}=\\frac{\\sigma(X,Y)}{\\sigma(X)\\sigma(Y)}$$\n",
    "$-1 \\leq \\rho_{XY} \\leq 1$"
   ]
  },
  {
   "cell_type": "markdown",
   "metadata": {},
   "source": [
    "## 3.2.离散型随机变量的协方差计算\n",
    "设(X,Y)是二维离散型随机变量，其分布律为$p_{ij}=P\\{X=x_i,Y=y_j\\},i,j=1,2,...$，则X与Y的协方差\n",
    "$$\n",
    "Cov(X,Y)=E\\{[X-E(X)][Y-E(Y)]\\}=\\sum_{j=1}^\\infty\\sum_{i=1}^\\infty[x_i-E(X)][y_j-E(Y)]p_{ij}\n",
    "$$"
   ]
  },
  {
   "cell_type": "markdown",
   "metadata": {},
   "source": [
    "## 3.3.连续型随机变量的协方差计算\n",
    "设(X,Y)是二维连续型随机变量，其概率密度为$f(x,y)$，则X与Y的协方差\n",
    "$$\n",
    "Cov(X,Y)=E\\{[X-E(X)][Y-E(Y)]\\}=\\int_{-\\infty}^{+\\infty}\\int_{-\\infty}^{+\\infty}[x-E(X)][y-E(Y)]f(x,y)dxdy\n",
    "$$"
   ]
  },
  {
   "cell_type": "markdown",
   "metadata": {},
   "source": [
    "$Cov(X,Y)=E(XY)-E(X)E(Y)$"
   ]
  },
  {
   "cell_type": "markdown",
   "metadata": {},
   "source": [
    "# 4.矩、协方差矩阵"
   ]
  },
  {
   "cell_type": "markdown",
   "metadata": {},
   "source": [
    "## 4.1.矩\n",
    "设X，Y是随机变量，那么$E(X^k)$叫做X的k阶原点矩(简称k阶矩，记为$m_k$)，$E\\{[X-E(X)]^k\\}$叫做X的k阶中心矩(记作$c_k$)，$E(X^kY^l)$称为X和Y的$k+l$阶混合矩，$E\\{[X-E(X)]^k[Y-E(Y)]^l\\}$叫做X，Y的$k+l$阶混合中心矩。由此可以看出，数学期望就是X的一阶原点矩，方差就是X的二阶中心矩，协方差就是X和Y的二阶混合中心矩"
   ]
  },
  {
   "cell_type": "markdown",
   "metadata": {
    "pycharm": {
     "name": "#%% md\n"
    }
   },
   "source": [
    "## 4.2.协方差矩阵\n",
    "二维随机变量(X_1,X_2)有四个二阶中心矩，如下\n",
    "$$\n",
    "\\begin{split}\n",
    "c_{11}&=D(X_1) \\\\\n",
    "c_{12}&=Cov(X_1,X_2) \\\\\n",
    "c_{21}&=Cov(X_2,X_1) \\\\\n",
    "c_{22}&=D(X_2)\n",
    "\\end{split}\n",
    "$$"
   ]
  },
  {
   "cell_type": "markdown",
   "source": [
    "它们构成的矩阵$C=\\begin{bmatrix}\n",
    "c_{11}&c_{12}\\\\\\\\\n",
    "c_{21}&c_{22}\n",
    "\\end{bmatrix}=\\begin{bmatrix}\n",
    "D(X_1)&Cov(X_1,X_2)\\\\\\\\\n",
    "Cov(X_2,X_1)&D(X_2)\n",
    "\\end{bmatrix}$称为$(X_1,X_2)$的协方差矩阵，可以看到协方差矩阵是对称矩阵.推广，一般的，n为随机变量$(X_1,X_2,...,X_n)$的协方差矩阵为\n",
    "$$\n",
    "C=\\begin{bmatrix}\n",
    "c_{11}&c_{12}&\\cdots&c_{1n}\\\\\\\\\n",
    "c_{21}&c_{22}&\\cdots&c_{2n}\\\\\\\\\n",
    "\\vdots&\\vdots&\\ddots&\\vdots\\\\\\\\\n",
    "c_{n1}&c_{n2}&\\cdots&c_{nn}\n",
    "\\end{bmatrix}\n",
    "$$\n",
    "其中$c_{ij}=E\\{[X_i-E(X_i)][X_j-E(X_j)]\\}=Cov(X_i,X_j),c_{ii}=D(X_i)$"
   ],
   "metadata": {
    "collapsed": false,
    "pycharm": {
     "name": "#%% md\n"
    }
   }
  }
 ],
 "metadata": {
  "kernelspec": {
   "display_name": "Python 3",
   "language": "python",
   "name": "python3"
  },
  "language_info": {
   "codemirror_mode": {
    "name": "ipython",
    "version": 3
   },
   "file_extension": ".py",
   "mimetype": "text/x-python",
   "name": "python",
   "nbconvert_exporter": "python",
   "pygments_lexer": "ipython3",
   "version": "3.6.8"
  },
  "pycharm": {
   "stem_cell": {
    "cell_type": "raw",
    "source": [],
    "metadata": {
     "collapsed": false
    }
   }
  }
 },
 "nbformat": 4,
 "nbformat_minor": 1
}