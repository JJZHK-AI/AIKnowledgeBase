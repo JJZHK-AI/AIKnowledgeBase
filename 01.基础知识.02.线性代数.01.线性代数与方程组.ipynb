{
 "cells": [
  {
   "cell_type": "markdown",
   "metadata": {
    "collapsed": true
   },
   "source": [
    "线性代数与方程组\n",
    "==="
   ]
  },
  {
   "cell_type": "markdown",
   "metadata": {},
   "source": [
    "# 1.方程组表示形式"
   ]
  },
  {
   "cell_type": "markdown",
   "metadata": {},
   "source": [
    "假设我们有如下方程组\n",
    "$$\\begin{cases}\n",
    "2x-y&=0\\\\\\\\\n",
    "-x+2y&=3\n",
    "\\end{cases}$$\n",
    "我们很轻易的可以找到方程组的解为$x=1,y=2$，图像如下"
   ]
  },
  {
   "cell_type": "code",
   "execution_count": 1,
   "metadata": {},
   "outputs": [
    {
     "data": {
      "text/plain": [
       "<Figure size 800x800 with 1 Axes>"
      ]
     },
     "metadata": {},
     "output_type": "display_data"
    }
   ],
   "source": [
    "from matplotlib import pyplot as plt\n",
    "import numpy as np\n",
    "\n",
    "plt.figure(figsize=(8,8), facecolor='w')\n",
    "x = np.linspace(-10, 10, 1000)\n",
    "y = 2 * x\n",
    "\n",
    "plt.plot(x, y, color=\"r\", linewidth=2)\n",
    "\n",
    "x1 = np.linspace(-10, 10, 1000)\n",
    "y1 = (3 + x) / 2\n",
    "plt.plot(x1, y1, color='r',linewidth=2)\n",
    "ax = plt.gca()\n",
    "ax.spines['bottom'].set_position(('data', 0))\n",
    "ax.spines['left'].set_position(('data',0))\n",
    "plt.xlim(-10,10)\n",
    "plt.ylim(-10,10)\n",
    "plt.show()"
   ]
  },
  {
   "cell_type": "markdown",
   "metadata": {},
   "source": [
    "## 1.1.方程组的矩阵表示形式与行图像\n",
    "以上方程组可以用矩阵表示如下\n",
    "$$\\begin{bmatrix}\n",
    "2&-1\\\\\\\\\n",
    "-1&2\n",
    "\\end{bmatrix} \\times \\begin{bmatrix}\n",
    "x\\\\\\\\\n",
    "y\n",
    "\\end{bmatrix}=\\begin{bmatrix}\n",
    "0\\\\\\\\\n",
    "3\n",
    "\\end{bmatrix}$$\n",
    "AX=b的形式，这也就是线性方程组的矩阵表示形式，上图也是这个线性方程组的行图像"
   ]
  },
  {
   "cell_type": "markdown",
   "metadata": {},
   "source": [
    "## 1.2.方程组的列图像\n",
    "方程组同样还可以表示成如下形式\n",
    "$$\n",
    "x \\times \\begin{bmatrix}\n",
    "2\\\\\\\\\n",
    "-1\n",
    "\\end{bmatrix}+y \\times \\begin{bmatrix}\n",
    "-1\\\\\\\\\n",
    "2\n",
    "\\end{bmatrix}=\\begin{bmatrix}\n",
    "0\\\\\\\\\n",
    "3\n",
    "\\end{bmatrix}\n",
    "$$"
   ]
  },
  {
   "cell_type": "markdown",
   "metadata": {},
   "source": [
    "我们在前面已经求解出来了$x=1,y=2$，那么上述等式可以变为下面的形式\n",
    "$$\n",
    "1 \\times \\begin{bmatrix}\n",
    "2\\\\\\\\\n",
    "-1\n",
    "\\end{bmatrix}+2 \\times \\begin{bmatrix}\n",
    "-1\\\\\\\\\n",
    "2\n",
    "\\end{bmatrix}=\\begin{bmatrix}\n",
    "0\\\\\\\\\n",
    "3\n",
    "\\end{bmatrix}\n",
    "$$"
   ]
  },
  {
   "cell_type": "code",
   "execution_count": 2,
   "metadata": {},
   "outputs": [
    {
     "data": {
      "image/png": "[encoded data removed]",
      "text/plain": [
       "<Figure size 576x576 with 1 Axes>"
      ]
     },
     "metadata": {},
     "output_type": "display_data"
    }
   ],
   "source": [
    "from matplotlib import pyplot as plt\n",
    "import numpy as np\n",
    "\n",
    "plt.figure(figsize=(8,8), facecolor='w')\n",
    "plt.arrow(0, 0,2, -1, width=0.1,length_includes_head=True,color='r')\n",
    "plt.arrow(0, 0,-1, 2, width=0.1,length_includes_head=True,color='b')\n",
    "\n",
    "plt.arrow(2, -1, -1, 2, width=0.1,length_includes_head=True, color='g')\n",
    "plt.arrow(1, 1, -1, 2, width=0.1,length_includes_head=True,color='y')\n",
    "#\n",
    "# plt.scatter(0, 0, color='b')\n",
    "# plt.scatter(30, -30, color='b')\n",
    "# plt.scatter(80, 70, color='b')\n",
    "#\n",
    "# plt.text(0, 0, \"P\",fontsize=20)\n",
    "# plt.text(30, -30, \"T\",fontsize=20)\n",
    "# plt.text(80, 70, \"Q\",fontsize=20)\n",
    "ax = plt.gca()\n",
    "ax.spines['bottom'].set_position(('data', 0))\n",
    "ax.spines['left'].set_position(('data',0))\n",
    "plt.xlim(-5,5)\n",
    "plt.ylim(-5,5)\n",
    "plt.show()"
   ]
  },
  {
   "cell_type": "markdown",
   "metadata": {},
   "source": [
    "我们来解释一下。我们在图上画了两个列向量$\\begin{bmatrix}\n",
    "2\\\\\\\\\n",
    "-1\n",
    "\\end{bmatrix}$以及$\\begin{bmatrix}\n",
    "-1\\\\\\\\\n",
    "2\n",
    "\\end{bmatrix}$，分别是红色向量和蓝色向量，那么怎么通过向量的计算来拟合到最后的答案呢。对于红色向量，由于系数$x=1$，那么就是红色向量本身，然后它需要加上2倍的蓝色向量。加上1倍的蓝色向量，就变成了绿色向量，然后在加上1倍的蓝色向量，就变成了黄色向量。黄色向量指的点就是$(0,3)$点，正好就是方程组的结果。"
   ]
  },
  {
   "cell_type": "markdown",
   "metadata": {},
   "source": [
    "## 1.3.扩展到三元方程组\n",
    "假设我们有如下方程组\n",
    "$$\\begin{cases}\n",
    "2x-y&=0\\\\\\\\\n",
    "-x+2y-z&=-1\\\\\\\\\n",
    "-3y+4z=4\n",
    "\\end{cases}$$\n",
    "可以写成如下列向量的形式\n",
    "$$\n",
    "x \\times \\begin{bmatrix}\n",
    "2\\\\\\\\\n",
    "-1\\\\\\\\\n",
    "0\n",
    "\\end{bmatrix}+y \\times \\begin{bmatrix}\n",
    "-1\\\\\\\\\n",
    "2\\\\\\\\\n",
    "-3\n",
    "\\end{bmatrix}+z \\times \\begin{bmatrix}\n",
    "0\\\\\\\\\n",
    "-1\\\\\\\\\n",
    "4\n",
    "\\end{bmatrix}=\\begin{bmatrix}\n",
    "0\\\\\\\\\n",
    "-1\\\\\\\\\n",
    "4\n",
    "\\end{bmatrix}\n",
    "$$"
   ]
  },
  {
   "cell_type": "markdown",
   "metadata": {},
   "source": [
    "也是同样的，可以在三维图中画出向量然后进行拟合，可以得到最后的结果。那么对于$AX=b$来说，对于任意的b，是否都可以求解出结果呢？换个问法，列的线性组合是否能够覆盖整个三维空间？对于这个例子，答案是肯定的。因为这是一个很好的矩阵。因为它是非奇异矩阵，它是可逆矩阵。 比如如果这三个列向量在一个平面上，那么总有一个b，是通过这三个列向量无论如何也得不到的。"
   ]
  },
  {
   "cell_type": "code",
   "execution_count": null,
   "metadata": {},
   "outputs": [],
   "source": [
    "# 2.消元法解线性方程组\n",
    "我们有如下线性方程组\n",
    "$$\\begin{cases}\n",
    "x+2y+z&=2\\\\\\\\\n",
    "3x+8y+z&=12\\\\\\\\\n",
    "4y+z=2\n",
    "\\end{cases}$$\n",
    "将其写为矩阵的形式\n",
    "$$\\begin{bmatrix}\n",
    "1&2&1\\\\\\\\\n",
    "3&8&1\\\\\\\\\n",
    "0&4&1\n",
    "\\end{bmatrix} \\times \\begin{bmatrix}\n",
    "x\\\\\\\\\n",
    "y\\\\\\\\\n",
    "z\n",
    "\\end{bmatrix}=\\begin{bmatrix}\n",
    "2\\\\\\\\\n",
    "12\\\\\\\\\n",
    "2\n",
    "\\end{bmatrix}$$"
   ]
  },
  {
   "cell_type": "markdown",
   "metadata": {},
   "source": [
    "首先消除第二行的第一个元素，将第一行乘以3，然后跟第二行做减法，得到如下矩阵\n",
    "$$\\begin{bmatrix}\n",
    "1&2&1\\\\\\\n",
    "0&2&-2\\\\\\\n",
    "0&4&1\n",
    "\\end{bmatrix} \\times \\begin{bmatrix}\n",
    "x\\\\\\\\\n",
    "y\\\\\\\\\n",
    "z\n",
    "\\end{bmatrix}=\\begin{bmatrix}\n",
    "0\\\\\\\\\n",
    "6\\\\\\\\\n",
    "2\n",
    "\\end{bmatrix}$$"
   ]
  },
  {
   "cell_type": "markdown",
   "metadata": {},
   "source": [
    "接下来将第三行的第二个元素消除，将第二行乘以2然后跟第三行做减法，得到如下矩阵\n",
    "$$\\begin{bmatrix}\n",
    "1&2&1\\\\\\\n",
    "0&2&-2\\\\\\\n",
    "0&0&5\n",
    "\\end{bmatrix} \\times \\begin{bmatrix}\n",
    "x\\\\\\\\\n",
    "y\\\\\\\\\n",
    "z\n",
    "\\end{bmatrix}=\\begin{bmatrix}\n",
    "0\\\\\\\\\n",
    "6\\\\\\\\\n",
    "-10\n",
    "\\end{bmatrix}$$"
   ]
  },
  {
   "cell_type": "markdown",
   "metadata": {},
   "source": [
    "可以得到$z=-2,y=1,x=2$"
   ]
  },
  {
   "cell_type": "markdown",
   "metadata": {},
   "source": [
    "# 3.消元法的矩阵表示"
   ]
  },
  {
   "cell_type": "markdown",
   "metadata": {},
   "source": [
    "对于上面的例子，我们有系数矩阵\n",
    "$$\\begin{bmatrix}\n",
    "1&2&1\\\\\\\\\n",
    "3&8&1\\\\\\\\\n",
    "0&4&1\n",
    "\\end{bmatrix}$$\n",
    "那么我们怎么样叫它乘以一个矩阵，能够得到第一次消元后的结果呢\n",
    "$$\\begin{bmatrix}\n",
    "A\n",
    "\\end{bmatrix} \\times \\begin{bmatrix}\n",
    "1&2&1\\\\\\\\\n",
    "3&8&1\\\\\\\\\n",
    "0&4&1\n",
    "\\end{bmatrix}=\\begin{bmatrix}\n",
    "1&2&1\\\\\\\n",
    "0&2&-2\\\\\\\n",
    "0&4&1\n",
    "\\end{bmatrix}$$\n",
    "我们知道矩阵第一三两行没有变，所以肯定有\n",
    "$$\\begin{bmatrix}\n",
    "1&0&0\\\\\\\\\n",
    "A\\\\\\\\\n",
    "0&0&1\n",
    "\\end{bmatrix} \\times \\begin{bmatrix}\n",
    "1&2&1\\\\\\\\\n",
    "3&8&1\\\\\\\\\n",
    "0&4&1\n",
    "\\end{bmatrix}=\\begin{bmatrix}\n",
    "1&2&1\\\\\\\n",
    "0&2&-2\\\\\\\n",
    "0&4&1\n",
    "\\end{bmatrix}$$"
   ]
  },
  {
   "cell_type": "markdown",
   "metadata": {},
   "source": [
    "关键是确定第二行，第二行肯定不能是$0,1,0$，如果是这样的话，那就成了单位阵，系数矩阵乘以单位阵，不会发生任何变化。经过分析，我们是第一行乘以3然后和第二行做减法，于是有\n",
    "$$\\begin{bmatrix}\n",
    "1&0&0\\\\\\\\\n",
    "-3&1&0\\\\\\\\\n",
    "0&0&1\n",
    "\\end{bmatrix} \\times \\begin{bmatrix}\n",
    "1&2&1\\\\\\\\\n",
    "3&8&1\\\\\\\\\n",
    "0&4&1\n",
    "\\end{bmatrix}=\\begin{bmatrix}\n",
    "1&2&1\\\\\\\n",
    "0&2&-2\\\\\\\n",
    "0&4&1\n",
    "\\end{bmatrix}$$\n",
    "我们设置$E_{21}$为第一个矩阵"
   ]
  },
  {
   "cell_type": "markdown",
   "metadata": {},
   "source": [
    "$$\\begin{bmatrix}\n",
    "1&0&0\\\\\\\\\n",
    "0&1&0\\\\\\\\\n",
    "0&-2&1\n",
    "\\end{bmatrix} \\times \\begin{bmatrix}\n",
    "1&2&1\\\\\\\n",
    "0&2&-2\\\\\\\n",
    "0&4&1\n",
    "\\end{bmatrix}=\\begin{bmatrix}\n",
    "1&2&1\\\\\\\n",
    "0&2&-2\\\\\\\n",
    "0&0&5\n",
    "\\end{bmatrix}$$\n",
    "我们设置$E_{32}$为第一个矩阵"
   ]
  },
  {
   "cell_type": "markdown",
   "metadata": {},
   "source": [
    "$$\n",
    "E_{32} \\times (E_{21} \\times A) = U\n",
    "$$\n",
    "那么我们能否直接找到一个矩阵，能够从A直接变为U呢？我们只需要把$E_{32}$和$E_{21}$合并在一起就行了，于是就有\n",
    "$$(E_{32} \\times E_{21}) \\times A=U$$"
   ]
  },
  {
   "cell_type": "markdown",
   "metadata": {},
   "source": [
    "$$\\begin{bmatrix}\n",
    "1&0&0\\\\\\\\\n",
    "-3&1&0\\\\\\\\\n",
    "0&0&1\n",
    "\\end{bmatrix} \\times \\begin{bmatrix}\n",
    "1&0&0\\\\\\\\\n",
    "0&1&0\\\\\\\\\n",
    "0&-2&1\n",
    "\\end{bmatrix}=\\begin{bmatrix}\n",
    "1&0&0\\\\\\\\\n",
    "-3&1&0\\\\\\\\\n",
    "0&-2&1\n",
    "\\end{bmatrix}$$"
   ]
  }
 ],
 "metadata": {
  "kernelspec": {
   "display_name": "Python 3",
   "language": "python",
   "name": "python3"
  },
  "language_info": {
   "codemirror_mode": {
    "name": "ipython",
    "version": 3
   },
   "file_extension": ".py",
   "mimetype": "text/x-python",
   "name": "python",
   "nbconvert_exporter": "python",
   "pygments_lexer": "ipython3",
   "version": "3.6.8"
  }
 },
 "nbformat": 4,
 "nbformat_minor": 1
}
