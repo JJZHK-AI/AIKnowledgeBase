{
 "cells": [
  {
   "cell_type": "markdown",
   "metadata": {
    "collapsed": true,
    "pycharm": {
     "name": "#%% md\n"
    }
   },
   "source": [
    "目标检测中关于样本不均衡的处理办法\n",
    "==="
   ]
  },
  {
   "cell_type": "markdown",
   "execution_count": null,
   "metadata": {},
   "outputs": [],
   "source": [
    "我们知道目标检测主要包括以Faster RCNN为代表的的两阶段方法，以及以SDD和YOLO为代表的的单阶段办法。虽然单阶段目标检测的速度很快，但是其精度往往比较低，究其原因，主要是样本极度不均衡造成的。"
   ]
  },
  {
   "cell_type": "markdown",
   "execution_count": null,
   "metadata": {},
   "outputs": [],
   "source": [
    "# 1.目标检测中的样本介绍"
   ]
  },
  {
   "cell_type": "markdown",
   "execution_count": null,
   "metadata": {},
   "outputs": [],
   "source": [
    "目标检测中，样本主要包括以下几类："
   ]
  },
  {
   "cell_type": "markdown",
   "execution_count": null,
   "metadata": {},
   "outputs": [],
   "source": [
    "- 正样本：标签区域内的图像区域，即目标图像块\n",
    "- 负样本：标签区域以外的图像区域，即图像背景区域\n",
    "- 易分正样本：容易正确分类的正样本，在实际训练过程中，该类占总体样本的比重非常高，单个样本的损失函数较小，但是累计的损失函数会主导损失函数\n",
    "- 易分负样本：容易正确分类的负样本，在实际训练过程中，该类占的比重非常高，单个样本的损失函数较小，但是累计的损失函数会主导损失函数\n",
    "- 难分正样本：错分成负样本的正样本，这部分样本在训练过程中单个样本的损失函数教高，但是该类占总体样本的比例教小\n",
    "- 难分负样本：错分成正样本的负样本，这部分样本在训练过程中单个样本的损失函数教高，但是该类占总体样本的比例教小"
   ]
  },
  {
   "cell_type": "markdown",
   "execution_count": null,
   "metadata": {},
   "outputs": [],
   "source": [
    "# 2.样本不均衡问题"
   ]
  },
  {
   "cell_type": "markdown",
   "execution_count": null,
   "metadata": {},
   "outputs": [],
   "source": [
    "所谓的样本不平衡问题是指在训练的时候各个类别的样本数量极不均衡。以基于深度学习的单阶段目标检测为例，样本类别不均衡主要体现在两方面：正负样本不均衡（正负样本比例达到1:1000）和难易样本不均衡（简单样本主导loss）．一般在目标检测任务框架中，保持正负样本的比例为1:3（经验值）。对于一个样本，如果它能很容易地被正确分类，那么这个样本对模型来说就是一个简单样本，模型很难从这个样本中得到更多的信息；而对于一个分错的样本，它对模型来说就是一个困难的样本，它更能指导模型优化的方向。对于单阶段分类器来说，简单样本的数量非常大，他们产生的累计贡献在模型更新中占主导作用，而这部分样本本身就能被模型很好地分类，所以这部分的参数更新并不会改善模型的判断能力，这会导致整个训练变得低效。"
   ]
  },
  {
   "cell_type": "markdown",
   "execution_count": null,
   "metadata": {},
   "outputs": [],
   "source": [
    "## 2.1.正样本(Postive Example)和负样本(Negative Example)的不平衡"
   ]
  },
  {
   "cell_type": "markdown",
   "execution_count": null,
   "metadata": {},
   "outputs": [],
   "source": [
    "Negative example的数量过多，导致Postive example的loss被覆盖，就算Postive example的loss非常大也会被数量庞大的negative example中和掉，这这些positive example往往是我们要检测的前景区域"
   ]
  },
  {
   "cell_type": "markdown",
   "execution_count": null,
   "metadata": {},
   "outputs": [],
   "source": [
    "## 2.2.难样本(Hard Example)和易样本(Easy Example)的不平衡"
   ]
  },
  {
   "cell_type": "markdown",
   "execution_count": null,
   "metadata": {},
   "outputs": [],
   "source": [
    "Hard example往往是前景和背景区域的过渡部分，因为这些样本很难区分，所以叫做Hard Example。剩下的那些Easy example往往很好计算，导致模型非常容易就收敛了。但是损失函数收敛了并不代表模型效果好，因为我们其实更需要把那些hard example训练好。"
   ]
  },
  {
   "cell_type": "markdown",
   "execution_count": null,
   "metadata": {},
   "outputs": [],
   "source": [
    "![Images](Images/03/02/03_04_001.jpg)"
   ]
  },
  {
   "cell_type": "markdown",
   "execution_count": null,
   "metadata": {},
   "outputs": [],
   "source": [
    "# 3.样本不均衡的处理办法"
   ]
  },
  {
   "cell_type": "markdown",
   "execution_count": null,
   "metadata": {},
   "outputs": [],
   "source": [
    "## 3.1.HNM(Hard Negative Mining-困难负样本挖掘)"
   ]
  },
  {
   "cell_type": "markdown",
   "execution_count": null,
   "metadata": {},
   "outputs": [],
   "source": [
    "难例挖掘的思想可以解决很多样本不均衡和简单样本过多的问题。将难例丢进数据集例，重新放入到网络中，就好像给网络准备一个错题集，哪里不会就重点做哪里。从名字上可以看出HNM只关注负样本，而OHEM则注意所有难例，不论正负。"
   ]
  },
  {
   "cell_type": "markdown",
   "execution_count": null,
   "metadata": {},
   "outputs": [],
   "source": [
    "### 3.1.1.为何要有难例挖掘这种东西？"
   ]
  },
  {
   "cell_type": "markdown",
   "execution_count": null,
   "metadata": {},
   "outputs": [],
   "source": [
    "我们知道，目标检测的输出个数是未知的，除了Ground truth训练时，模型永远无法百分百确信自己要在一张图上预测多少物体。所以目标检测问题的难点之一就是提高召回率。召回率是模型找到所有某类目标的能力(所有标注的真实边界框有多少被预测出来了)。检测时按照是否检出边界框与边界框是否存在，可以分为下表四种情况："
   ]
  },
  {
   "cell_type": "markdown",
   "execution_count": null,
   "metadata": {},
   "outputs": [],
   "source": [
    "|    | 检测出边界框 | 未检测出边界框 |\n",
    "| -- | ---------- | ----------- |\n",
    "| 边界框存在 | TP-真阳性 | FN-假阴性 |\n",
    "| 边界框不存在 | FP-误报 | TN-真阴性 |"
   ]
  },
  {
   "cell_type": "markdown",
   "execution_count": null,
   "metadata": {},
   "outputs": [],
   "source": [
    "$$Recall=\\frac{TP}{TP + FN}$$"
   ]
  },
  {
   "cell_type": "markdown",
   "execution_count": null,
   "metadata": {},
   "outputs": [],
   "source": [
    "为了提高这个值，很直观的想法是“宁肯错杀一千，绝不放过一个”。因此在目标检测中，模型往往会提出远高于实际数量的区域提议（Region Proposal，SSD等one-stage的Anchor也可以看作一种区域提议）。但此时就会遇到一个问题，因为区域提议实在太多，导致在训练时绝大部分都是负样本，这导致了大量无意义负样本的梯度“淹没”了有意义的正样本。据统计，通常包含少量信息的Easy Example(通常是负样本),与包含有用信息的Hard Example(正样本+难负样本)之比是100000：100，这导致这些简单例的损失函数值将是难例损失函数的40倍！如下图所示\n",
    "![Images](Images/03/02/03_04_002.jpg)"
   ]
  },
  {
   "cell_type": "markdown",
   "execution_count": null,
   "metadata": {},
   "outputs": [],
   "source": [
    "因此，为了让模型正常训练，我们必须要通过某种方法抑制大量的简单负例，挖掘所有难例的信息，这就是难例挖掘的初衷。难负例挖掘（Hard Negative Mining）就是在训练时，尽量多挖掘些难负例（hard negative)加入负样本集，这样会比easy negative组成的负样本集效果更好。"
   ]
  },
  {
   "cell_type": "markdown",
   "execution_count": null,
   "metadata": {},
   "outputs": [],
   "source": [
    "### 3.1.2.R-CNN中的Hard Negative Mining"
   ]
  },
  {
   "cell_type": "markdown",
   "execution_count": null,
   "metadata": {},
   "outputs": [],
   "source": [
    "RCNN中的难负例挖掘采用了自举法(bootstrap)的方法"
   ]
  },
  {
   "cell_type": "markdown",
   "execution_count": null,
   "metadata": {},
   "outputs": [],
   "source": [
    "- 先用初始的正负样本训练分类器（此时为了平衡数据，使用的负样本也只是所有负样本的子集），用训练好的分类器对样本进行分类,把其中错误分类的那些样本(hard negative)放入负样本子集，\n",
    "- 再继续训练分类器\n",
    "- 如此反复,直到达到停止条件(比如分类器性能不再提升)."
   ]
  },
  {
   "cell_type": "markdown",
   "execution_count": null,
   "metadata": {},
   "outputs": [],
   "source": [
    "也就是说，RCNN的Hard Negative Mining相当于给模型定制一个错题集，在每轮训练中不断“记错题”，并把错题集加入到下一轮训练中，直到网络效果不能上升为止。"
   ]
  },
  {
   "cell_type": "markdown",
   "execution_count": null,
   "metadata": {},
   "outputs": [],
   "source": [
    "1. 如果首次负例采样，直接获取IOU<0.3的region作为负例，用于后面训练SVM分类器\n",
    "2. 如果不是首次负例采样，先用当前更新过的SVM分类器预测region，然后按照下面两个条件过滤负例\n",
    "   - 负例，即最大IOU小于阈值\n",
    "   - 分类错误，既然是负例，那么SVM计算值小于1"
   ]
  },
  {
   "cell_type": "markdown",
   "execution_count": null,
   "metadata": {},
   "outputs": [],
   "source": [
    "### 3.1.3.Fast RCNN中的Hard Negative Mining"
   ]
  },
  {
   "cell_type": "markdown",
   "execution_count": null,
   "metadata": {},
   "outputs": [],
   "source": [
    "IOU阈值+随机采样"
   ]
  },
  {
   "cell_type": "markdown",
   "execution_count": null,
   "metadata": {},
   "outputs": [],
   "source": [
    "### 3.1.4.SSD中的Hard Negative Mining"
   ]
  },
  {
   "cell_type": "markdown",
   "execution_count": null,
   "metadata": {},
   "outputs": [],
   "source": [
    "由于大多数边界框的IOU都比较低，会被认为是负样本，因此训练集可能会出现正负样本的不均衡。因此建议不要使用所有负样本，而是要保持正负样本1:3的比例。那么就需要过滤掉一些负样本，过滤的方法是抽样时按照置信度误差进行降序排列，选取误差较大的top-k作为训练的负样本，保证正负样本比例接近于1:3的比例。那么就需要过滤掉一些负样本，过滤的方法是抽样时按照置信度误差进行降序排列，选取误差较大的top-k作为训练的负样本，保证正负样本比例接近于1:3。"
   ]
  },
  {
   "cell_type": "markdown",
   "execution_count": null,
   "metadata": {},
   "outputs": [],
   "source": [
    "## 3.2.OHEM(Online Hard Example Mining-在线困难样本挖掘)"
   ]
  },
  {
   "cell_type": "markdown",
   "execution_count": null,
   "metadata": {},
   "outputs": [],
   "source": [
    "OHEM算法主要是针对训练过程中的困难样本自动选择，其核心思想是根据输入样本的损失进行筛选，筛选出困难样本(即对分类和检测影响较大的样本),然后将筛选得到的这些样本应用在随机梯度下降中训练。该算法主要应用于Fast RCNN中。"
   ]
  },
  {
   "cell_type": "markdown",
   "execution_count": null,
   "metadata": {},
   "outputs": [],
   "source": [
    "我们知道Fast RCNN主要包括两个部分"
   ]
  },
  {
   "cell_type": "markdown",
   "execution_count": null,
   "metadata": {},
   "outputs": [],
   "source": [
    "1. 卷积网络：主要有多个卷积层和max pooling层组成\n",
    "2. ROI Pooling网络：主要包括ROI Pooling层，一些全连接层和两个损失层"
   ]
  },
  {
   "cell_type": "markdown",
   "execution_count": null,
   "metadata": {},
   "outputs": [],
   "source": [
    "在之前的HNM中，都必须先结束一轮训练，有点事后诸葛亮的感觉。用子网络对RoI Proposal预测的分数，来决定每个batch选用的样本，这样，输入子网络的RoI Proposal总为表现不好的样本，提高了监督学习的效率。具体来说，在实际操作中是将原来的一个ROI Network扩充为两个ROI Network，这两个ROI Network共享参数。其中前面一个ROI Network只有前向操作，主要用于计算损失；后面一个ROI Network包括前向和后向操作，以hard example作为输入，计算损失并回传梯度"
   ]
  },
  {
   "cell_type": "markdown",
   "execution_count": null,
   "metadata": {},
   "outputs": [],
   "source": [
    "![Images](Images/03/02/03_04_003.jpg)"
   ]
  },
  {
   "cell_type": "markdown",
   "execution_count": null,
   "metadata": {},
   "outputs": [],
   "source": [
    "具体来说，上面一个ROI Network是自读的，为所有的ROI在前向传递的时候分配空间。下面的ROI Network则同时为前向和后向分配空间。"
   ]
  },
  {
   "cell_type": "markdown",
   "execution_count": null,
   "metadata": {},
   "outputs": [],
   "source": [
    "- ROI经过ROI Pooling Layer之后生成Feature Maps，然后进入只读ROI Network得到所有ROI的Loss\n",
    "- Hard ROI Sampler结构根据损失排序选出Hard Example\n",
    "- 将Hard Example放入下层的ROI Network"
   ]
  },
  {
   "cell_type": "markdown",
   "execution_count": null,
   "metadata": {},
   "outputs": [],
   "source": [
    "实际训练的时候，每个mini-batch包含$N$个图像，共$R$个ROI，也就是每张图像包含$\\frac{R}{N}$个ROI。经过hard ROI sampler筛选后得到$B$个hard example。作者在文中采用$N=2,R=4000,B=128$。\n",
    "另外关于正负样本的选择：当一个ROI和一个ground truth的IOU大于0.5，则为正样本；当一个ROI和所有ground truth的IOU的最大值小于0.5时为负样本。"
   ]
  },
  {
   "cell_type": "markdown",
   "execution_count": null,
   "metadata": {},
   "outputs": [],
   "source": [
    "- 优点:对于数据的类别不平衡问题不需要采用设置正负样本比例的方式来解决，这种在线选择方式针对性更强；\n",
    "- 优点:随着数据集的增大，算法的提升更加明显；\n",
    "- 缺点:只保留loss较高的样本，完全忽略简单的样本，这本质上是改变了训练时的输入分布（仅包含困难样本），这会导致模型在学习的时候失去对简单样本的判别能力．"
   ]
  },
  {
   "cell_type": "markdown",
   "execution_count": null,
   "metadata": {},
   "outputs": [],
   "source": [
    "## 3.3.S-OHEM(基于Loss分布采样的在线困难样本挖掘)"
   ]
  },
  {
   "cell_type": "markdown",
   "execution_count": null,
   "metadata": {},
   "outputs": [],
   "source": [
    "## 3.4.A-Fast-RCNN(基于对抗生成网络的方式来生成困难样本)"
   ]
  },
  {
   "cell_type": "markdown",
   "execution_count": null,
   "metadata": {},
   "outputs": [],
   "source": [
    "## 3.5.Focal Loss(损失函数的权重调整)"
   ]
  },
  {
   "cell_type": "markdown",
   "execution_count": null,
   "metadata": {},
   "outputs": [],
   "source": [
    "## 3.6.GHM(损失函数梯度均衡化机制)"
   ]
  },
  {
   "cell_type": "markdown",
   "execution_count": null,
   "metadata": {},
   "outputs": [],
   "source": [
    "Faster R-CNN之所以能解决两个不平衡问题是因为其采用了下面两个策略："
   ]
  },
  {
   "cell_type": "markdown",
   "execution_count": null,
   "metadata": {},
   "outputs": [],
   "source": [
    "1. 根据IoU采样候选区域，并将正负样本的比例设置成1:1。这样就解决了正负样本不平衡的问题；\n",
    "2. 根据score过滤掉easy example，避免了训练loss被easy example所支配的问题。"
   ]
  },
  {
   "cell_type": "markdown",
   "execution_count": null,
   "metadata": {},
   "outputs": [],
   "source": [
    "# 2.Focal Loss"
   ]
  },
  {
   "cell_type": "markdown",
   "execution_count": null,
   "metadata": {},
   "outputs": [],
   "source": [
    "大神采用的解决方案是基于交叉熵提出了一个新的损失函数Focal Loss(FL)"
   ]
  },
  {
   "cell_type": "markdown",
   "execution_count": null,
   "metadata": {},
   "outputs": [],
   "source": [
    "$$FL(p_t)=-\\alpha_t(1-p_t)^\\gamma log(p_t)$$"
   ]
  },
  {
   "cell_type": "markdown",
   "execution_count": null,
   "metadata": {},
   "outputs": [],
   "source": [
    "FL是一个尺度动态可调的交叉熵损失函数，在FL中有两个参数$\\alpha_t$和$\\gamma$，其中$\\alpha_t$的主要作用是解决正负样本的不平衡问题，$\\gamma$主要是解决难易样本不平衡的问题。Focal Loss是交叉熵损失的改进版本，一个二分类交叉熵可以表示为："
   ]
  },
  {
   "cell_type": "markdown",
   "execution_count": null,
   "metadata": {},
   "outputs": [],
   "source": [
    "$$CE(p,y)=\\begin{cases}\n",
    "-log(p) & y=1 \\\\\n",
    "-log(1-p) & otherwise\n",
    "\\end{cases}$$"
   ]
  },
  {
   "cell_type": "markdown",
   "execution_count": null,
   "metadata": {},
   "outputs": [],
   "source": [
    "上面公式可以简写成"
   ]
  },
  {
   "cell_type": "markdown",
   "execution_count": null,
   "metadata": {},
   "outputs": [],
   "source": [
    "$$CE(p,y)=CE(p_t)=-log(p_t)$$"
   ]
  },
  {
   "cell_type": "markdown",
   "execution_count": null,
   "metadata": {},
   "outputs": [],
   "source": [
    "其中"
   ]
  },
  {
   "cell_type": "markdown",
   "execution_count": null,
   "metadata": {},
   "outputs": [],
   "source": [
    "$$p_t=\\begin{cases}\n",
    "p & y=1 \\\\\n",
    "1-p & otherwise\n",
    "\\end{cases}$$"
   ]
  },
  {
   "cell_type": "markdown",
   "execution_count": null,
   "metadata": {},
   "outputs": [],
   "source": [
    "## 2.1.$\\alpha$解决正负样本不平衡"
   ]
  },
  {
   "cell_type": "markdown",
   "execution_count": null,
   "metadata": {},
   "outputs": [],
   "source": [
    "平衡交叉熵的提出是为了解决正负样本不平衡的问题。它的原理很简单，为正负样本分配不同的权重比值$\\alpha \\in [0,1]$，取值如下"
   ]
  },
  {
   "cell_type": "markdown",
   "execution_count": null,
   "metadata": {},
   "outputs": [],
   "source": [
    "$$\\alpha_t=\\begin{cases}\n",
    "\\alpha & y=1 \\\\\n",
    "1-\\alpha & otherwise\n",
    "\\end{cases}$$"
   ]
  },
  {
   "cell_type": "markdown",
   "execution_count": null,
   "metadata": {},
   "outputs": [],
   "source": [
    "那么这个$\\alpha$平衡交叉熵损失可以表示为$CE(p_t)=-\\alpha_t log(p_t)$"
   ]
  },
  {
   "cell_type": "markdown",
   "execution_count": null,
   "metadata": {},
   "outputs": [],
   "source": [
    "$\\alpha$的值往往需要根据验证集进行调整，论文中给出的是$0.25$"
   ]
  },
  {
   "cell_type": "markdown",
   "execution_count": null,
   "metadata": {},
   "outputs": [],
   "source": [
    "## 2.2.$\\gamma$解决难易样本的不平衡"
   ]
  },
  {
   "cell_type": "markdown",
   "execution_count": null,
   "metadata": {},
   "outputs": [],
   "source": [
    "FL中$\\gamma$的引入是为了解决难易样本不平衡的问题的"
   ]
  },
  {
   "cell_type": "code",
   "execution_count": 32,
   "metadata": {},
   "outputs": [
    {
     "data": {
      "text/plain": "Text(0, 0.5, 'loss')"
     },
     "execution_count": 32,
     "metadata": {},
     "output_type": "execute_result"
    },
    {
     "data": {
      "image/png": "[encoded data removed]",
      "image/svg+xml": "<?xml version=\"1.0\" encoding=\"utf-8\" standalone=\"no\"?>\n<!DOCTYPE svg PUBLIC \"-//W3C//DTD SVG 1.1//EN\"\n  \"http://www.w3.org/Graphics/SVG/1.1/DTD/svg11.dtd\">\n<!-- Created with matplotlib (https://matplotlib.org/) -->\n<svg height=\"262.586094pt\" version=\"1.1\" viewBox=\"0 0 380.825 262.586094\" width=\"380.825pt\" xmlns=\"http://www.w3.org/2000/svg\" xmlns:xlink=\"http://www.w3.org/1999/xlink\">\n <defs>\n  <style type=\"text/css\">\n*{stroke-linecap:butt;stroke-linejoin:round;}\n  </style>\n </defs>\n <g id=\"figure_1\">\n  <g id=\"patch_1\">\n   <path d=\"M 0 262.586094 \nL 380.825 262.586094 \nL 380.825 0 \nL 0 0 \nz\n\" style=\"fill:none;\"/>\n  </g>\n  <g id=\"axes_1\">\n   <g id=\"patch_2\">\n    <path d=\"M 31.325 228.057969 \nL 366.125 228.057969 \nL 366.125 10.617969 \nL 31.325 10.617969 \nz\n\" style=\"fill:#ffffff;\"/>\n   </g>\n   <g id=\"matplotlib.axis_1\">\n    <g id=\"xtick_1\">\n     <g id=\"line2d_1\">\n      <defs>\n       <path d=\"M 0 0 \nL 0 3.5 \n\" id=\"m3b3a1aeb24\" style=\"stroke:#000000;stroke-width:0.8;\"/>\n      </defs>\n      <g>\n       <use style=\"stroke:#000000;stroke-width:0.8;\" x=\"31.325\" xlink:href=\"#m3b3a1aeb24\" y=\"228.057969\"/>\n      </g>\n     </g>\n     <g id=\"text_1\">\n      <!-- 0.0 -->\n      <defs>\n       <path d=\"M 46.484375 35.15625 \nQ 46.484375 21.09375 41.40625 10.9375 \nQ 36.328125 0.78125 25 0.78125 \nQ 13.671875 0.78125 8.390625 10.9375 \nQ 3.125 21.09375 3.125 35.15625 \nQ 3.125 49.21875 8.390625 59.171875 \nQ 13.671875 69.140625 25 69.140625 \nQ 36.328125 69.140625 41.40625 59.171875 \nQ 46.484375 49.21875 46.484375 35.15625 \nz\nM 37.109375 35.15625 \nQ 37.109375 47.65625 34.171875 54.6875 \nQ 31.25 61.71875 25 61.71875 \nQ 18.75 61.71875 15.625 54.6875 \nQ 12.5 47.65625 12.5 35.15625 \nQ 12.5 22.65625 15.625 15.421875 \nQ 18.75 8.203125 25 8.203125 \nQ 31.25 8.203125 34.171875 15.421875 \nQ 37.109375 22.65625 37.109375 35.15625 \nz\n\" id=\"SimHei-48\"/>\n       <path d=\"M 17.1875 1.5625 \nL 8.203125 1.5625 \nL 8.203125 10.15625 \nL 17.1875 10.15625 \nz\n\" id=\"SimHei-46\"/>\n      </defs>\n      <g transform=\"translate(23.825 241.893906)scale(0.1 -0.1)\">\n       <use xlink:href=\"#SimHei-48\"/>\n       <use x=\"50\" xlink:href=\"#SimHei-46\"/>\n       <use x=\"100\" xlink:href=\"#SimHei-48\"/>\n      </g>\n     </g>\n    </g>\n    <g id=\"xtick_2\">\n     <g id=\"line2d_2\">\n      <g>\n       <use style=\"stroke:#000000;stroke-width:0.8;\" x=\"98.285\" xlink:href=\"#m3b3a1aeb24\" y=\"228.057969\"/>\n      </g>\n     </g>\n     <g id=\"text_2\">\n      <!-- 0.2 -->\n      <defs>\n       <path d=\"M 44.53125 1.5625 \nL 4.6875 1.5625 \nL 4.6875 7.8125 \nQ 7.03125 14.0625 11.125 19.328125 \nQ 15.234375 24.609375 23.046875 31.25 \nQ 28.90625 36.328125 31.4375 40.625 \nQ 33.984375 44.921875 33.984375 50 \nQ 33.984375 55.078125 31.828125 58.390625 \nQ 29.6875 61.71875 25 61.71875 \nQ 21.09375 61.71875 18.15625 58.203125 \nQ 15.234375 54.6875 15.234375 45.703125 \nL 6.25 45.703125 \nQ 6.640625 57.03125 11.515625 63.078125 \nQ 16.40625 69.140625 25.390625 69.140625 \nQ 33.984375 69.140625 38.671875 63.859375 \nQ 43.359375 58.59375 43.359375 49.609375 \nQ 43.359375 42.1875 39.0625 36.71875 \nQ 34.765625 31.25 28.515625 25.78125 \nQ 21.484375 19.53125 18.75 16.40625 \nQ 16.015625 13.28125 13.671875 8.984375 \nL 44.53125 8.984375 \nz\n\" id=\"SimHei-50\"/>\n      </defs>\n      <g transform=\"translate(90.785 241.893906)scale(0.1 -0.1)\">\n       <use xlink:href=\"#SimHei-48\"/>\n       <use x=\"50\" xlink:href=\"#SimHei-46\"/>\n       <use x=\"100\" xlink:href=\"#SimHei-50\"/>\n      </g>\n     </g>\n    </g>\n    <g id=\"xtick_3\">\n     <g id=\"line2d_3\">\n      <g>\n       <use style=\"stroke:#000000;stroke-width:0.8;\" x=\"165.245\" xlink:href=\"#m3b3a1aeb24\" y=\"228.057969\"/>\n      </g>\n     </g>\n     <g id=\"text_3\">\n      <!-- 0.4 -->\n      <defs>\n       <path d=\"M 46.484375 18.75 \nL 38.28125 18.75 \nL 38.28125 1.5625 \nL 29.296875 1.5625 \nL 29.296875 18.75 \nL 3.125 18.75 \nL 3.125 26.171875 \nL 29.296875 69.140625 \nL 38.28125 69.140625 \nL 38.28125 26.171875 \nL 46.484375 26.171875 \nz\nM 29.296875 26.171875 \nL 29.296875 55.078125 \nL 11.71875 26.171875 \nz\n\" id=\"SimHei-52\"/>\n      </defs>\n      <g transform=\"translate(157.745 241.893906)scale(0.1 -0.1)\">\n       <use xlink:href=\"#SimHei-48\"/>\n       <use x=\"50\" xlink:href=\"#SimHei-46\"/>\n       <use x=\"100\" xlink:href=\"#SimHei-52\"/>\n      </g>\n     </g>\n    </g>\n    <g id=\"xtick_4\">\n     <g id=\"line2d_4\">\n      <g>\n       <use style=\"stroke:#000000;stroke-width:0.8;\" x=\"232.205\" xlink:href=\"#m3b3a1aeb24\" y=\"228.057969\"/>\n      </g>\n     </g>\n     <g id=\"text_4\">\n      <!-- 0.6 -->\n      <defs>\n       <path d=\"M 44.53125 24.21875 \nQ 44.53125 13.28125 39.84375 7.03125 \nQ 35.15625 0.78125 25.78125 0.78125 \nQ 16.40625 0.78125 10.9375 8.59375 \nQ 5.46875 16.40625 5.46875 33.984375 \nQ 5.46875 50 11.125 59.5625 \nQ 16.796875 69.140625 27.34375 69.140625 \nQ 34.765625 69.140625 39.25 63.671875 \nQ 43.75 58.203125 43.75 51.5625 \nL 34.765625 51.5625 \nQ 34.765625 55.46875 32.609375 58.59375 \nQ 30.46875 61.71875 26.953125 61.71875 \nQ 21.09375 61.71875 17.96875 55.65625 \nQ 14.84375 49.609375 14.453125 37.109375 \nQ 17.1875 42.1875 20.3125 44.140625 \nQ 23.4375 46.09375 27.734375 46.09375 \nQ 35.15625 46.09375 39.84375 40.234375 \nQ 44.53125 34.375 44.53125 24.21875 \nz\nM 35.15625 24.21875 \nQ 35.15625 31.25 32.8125 35.15625 \nQ 30.46875 39.0625 26.171875 39.0625 \nQ 21.09375 39.0625 18.15625 35.15625 \nQ 15.234375 31.25 15.234375 25.78125 \nQ 15.234375 17.1875 18.15625 12.5 \nQ 21.09375 7.8125 26.171875 7.8125 \nQ 29.6875 7.8125 32.421875 11.328125 \nQ 35.15625 14.84375 35.15625 24.21875 \nz\n\" id=\"SimHei-54\"/>\n      </defs>\n      <g transform=\"translate(224.705 241.893906)scale(0.1 -0.1)\">\n       <use xlink:href=\"#SimHei-48\"/>\n       <use x=\"50\" xlink:href=\"#SimHei-46\"/>\n       <use x=\"100\" xlink:href=\"#SimHei-54\"/>\n      </g>\n     </g>\n    </g>\n    <g id=\"xtick_5\">\n     <g id=\"line2d_5\">\n      <g>\n       <use style=\"stroke:#000000;stroke-width:0.8;\" x=\"299.165\" xlink:href=\"#m3b3a1aeb24\" y=\"228.057969\"/>\n      </g>\n     </g>\n     <g id=\"text_5\">\n      <!-- 0.8 -->\n      <defs>\n       <path d=\"M 44.921875 20.703125 \nQ 44.921875 10.9375 39.453125 5.859375 \nQ 33.984375 0.78125 24.609375 0.78125 \nQ 15.234375 0.78125 9.765625 5.859375 \nQ 4.296875 10.9375 4.296875 20.703125 \nQ 4.296875 25.78125 7.421875 29.875 \nQ 10.546875 33.984375 16.015625 35.9375 \nQ 11.328125 37.890625 8.78125 41.40625 \nQ 6.25 44.921875 6.25 50.390625 \nQ 6.25 58.984375 11.71875 64.0625 \nQ 17.1875 69.140625 24.609375 69.140625 \nQ 32.03125 69.140625 37.5 64.0625 \nQ 42.96875 58.984375 42.96875 50.390625 \nQ 42.96875 44.921875 40.421875 41.40625 \nQ 37.890625 37.890625 33.203125 35.9375 \nQ 38.671875 33.984375 41.796875 29.875 \nQ 44.921875 25.78125 44.921875 20.703125 \nz\nM 34.375 50.390625 \nQ 34.375 56.640625 31.640625 59.375 \nQ 28.90625 62.109375 24.609375 62.109375 \nQ 20.3125 62.109375 17.578125 59.375 \nQ 14.84375 56.640625 14.84375 50.390625 \nQ 14.84375 44.140625 17.765625 41.59375 \nQ 20.703125 39.0625 24.609375 39.0625 \nQ 28.515625 39.0625 31.4375 41.59375 \nQ 34.375 44.140625 34.375 50.390625 \nz\nM 35.9375 20.703125 \nQ 35.9375 26.171875 33 29.296875 \nQ 30.078125 32.421875 24.609375 32.421875 \nQ 19.140625 32.421875 16.203125 29.296875 \nQ 13.28125 26.171875 13.28125 20.703125 \nQ 13.28125 14.453125 16.40625 11.125 \nQ 19.53125 7.8125 24.609375 7.8125 \nQ 29.6875 7.8125 32.8125 11.125 \nQ 35.9375 14.453125 35.9375 20.703125 \nz\n\" id=\"SimHei-56\"/>\n      </defs>\n      <g transform=\"translate(291.665 241.893906)scale(0.1 -0.1)\">\n       <use xlink:href=\"#SimHei-48\"/>\n       <use x=\"50\" xlink:href=\"#SimHei-46\"/>\n       <use x=\"100\" xlink:href=\"#SimHei-56\"/>\n      </g>\n     </g>\n    </g>\n    <g id=\"xtick_6\">\n     <g id=\"line2d_6\">\n      <g>\n       <use style=\"stroke:#000000;stroke-width:0.8;\" x=\"366.125\" xlink:href=\"#m3b3a1aeb24\" y=\"228.057969\"/>\n      </g>\n     </g>\n     <g id=\"text_6\">\n      <!-- 1.0 -->\n      <defs>\n       <path d=\"M 30.46875 1.5625 \nL 21.484375 1.5625 \nL 21.484375 53.515625 \nL 9.765625 53.515625 \nL 9.765625 58.203125 \nQ 16.796875 58.203125 20.703125 60.9375 \nQ 24.609375 63.671875 25.78125 69.140625 \nL 30.46875 69.140625 \nz\n\" id=\"SimHei-49\"/>\n      </defs>\n      <g transform=\"translate(358.625 241.893906)scale(0.1 -0.1)\">\n       <use xlink:href=\"#SimHei-49\"/>\n       <use x=\"50\" xlink:href=\"#SimHei-46\"/>\n       <use x=\"100\" xlink:href=\"#SimHei-48\"/>\n      </g>\n     </g>\n    </g>\n    <g id=\"text_7\">\n     <!-- probility of ground truth class -->\n     <defs>\n      <path d=\"M 44.53125 23.4375 \nQ 44.53125 12.109375 39.0625 6.25 \nQ 33.59375 0.390625 25.78125 0.390625 \nQ 21.484375 0.390625 18.359375 2.140625 \nQ 15.234375 3.90625 12.890625 7.421875 \nL 12.890625 -12.890625 \nL 5.078125 -12.890625 \nL 5.078125 45.3125 \nL 12.890625 45.3125 \nL 12.890625 39.453125 \nQ 15.234375 42.96875 18.359375 44.53125 \nQ 21.484375 46.09375 25.78125 46.09375 \nQ 33.59375 46.09375 39.0625 40.421875 \nQ 44.53125 34.765625 44.53125 23.4375 \nz\nM 35.9375 23.4375 \nQ 35.9375 30.859375 33 34.953125 \nQ 30.078125 39.0625 24.21875 39.0625 \nQ 19.53125 39.0625 16.203125 34.953125 \nQ 12.890625 30.859375 12.890625 23.4375 \nQ 12.890625 16.015625 16.203125 11.71875 \nQ 19.53125 7.421875 24.21875 7.421875 \nQ 30.078125 7.421875 33 11.71875 \nQ 35.9375 16.015625 35.9375 23.4375 \nz\n\" id=\"SimHei-112\"/>\n      <path d=\"M 39.453125 37.5 \nQ 32.03125 38.671875 26.953125 35.34375 \nQ 21.875 32.03125 18.359375 23.828125 \nL 18.359375 1.5625 \nL 10.546875 1.5625 \nL 10.546875 45.3125 \nL 18.359375 45.3125 \nL 18.359375 33.984375 \nQ 21.875 40.234375 27.140625 43.15625 \nQ 32.421875 46.09375 39.453125 46.09375 \nz\n\" id=\"SimHei-114\"/>\n      <path d=\"M 46.09375 23.4375 \nQ 46.09375 13.28125 39.84375 7.03125 \nQ 33.59375 0.78125 25 0.78125 \nQ 16.40625 0.78125 10.15625 7.03125 \nQ 3.90625 13.28125 3.90625 23.4375 \nQ 3.90625 33.59375 10.15625 39.84375 \nQ 16.40625 46.09375 25 46.09375 \nQ 33.59375 46.09375 39.84375 39.84375 \nQ 46.09375 33.59375 46.09375 23.4375 \nz\nM 37.5 23.4375 \nQ 37.5 31.25 33.59375 35.15625 \nQ 29.6875 39.0625 25 39.0625 \nQ 20.3125 39.0625 16.40625 35.15625 \nQ 12.5 31.25 12.5 23.4375 \nQ 12.5 15.625 16.40625 11.71875 \nQ 20.3125 7.8125 25 7.8125 \nQ 29.6875 7.8125 33.59375 11.71875 \nQ 37.5 15.625 37.5 23.4375 \nz\n\" id=\"SimHei-111\"/>\n      <path d=\"M 44.53125 23.4375 \nQ 44.53125 12.109375 39.0625 6.4375 \nQ 33.59375 0.78125 25.78125 0.78125 \nQ 21.484375 0.78125 18.359375 2.34375 \nQ 15.234375 3.90625 12.890625 7.421875 \nL 12.890625 1.5625 \nL 5.078125 1.5625 \nL 5.078125 68.359375 \nL 12.890625 68.359375 \nL 12.890625 39.453125 \nQ 15.234375 42.96875 18.359375 44.71875 \nQ 21.484375 46.484375 25.78125 46.484375 \nQ 33.59375 46.484375 39.0625 40.625 \nQ 44.53125 34.765625 44.53125 23.4375 \nz\nM 35.9375 23.4375 \nQ 35.9375 30.859375 33 35.15625 \nQ 30.078125 39.453125 24.21875 39.453125 \nQ 19.53125 39.453125 16.203125 35.15625 \nQ 12.890625 30.859375 12.890625 23.4375 \nQ 12.890625 16.015625 16.203125 11.90625 \nQ 19.53125 7.8125 24.21875 7.8125 \nQ 30.078125 7.8125 33 11.90625 \nQ 35.9375 16.015625 35.9375 23.4375 \nz\n\" id=\"SimHei-98\"/>\n      <path d=\"M 28.515625 57.8125 \nL 20.703125 57.8125 \nL 20.703125 67.96875 \nL 28.515625 67.96875 \nz\nM 28.515625 1.5625 \nL 20.703125 1.5625 \nL 20.703125 45.3125 \nL 28.515625 45.3125 \nz\n\" id=\"SimHei-105\"/>\n      <path d=\"M 28.90625 1.5625 \nL 21.09375 1.5625 \nL 21.09375 68.359375 \nL 28.90625 68.359375 \nz\n\" id=\"SimHei-108\"/>\n      <path d=\"M 43.359375 2.734375 \nQ 41.40625 1.953125 38.859375 1.359375 \nQ 36.328125 0.78125 32.03125 0.78125 \nQ 25 0.78125 20.703125 4.6875 \nQ 16.40625 8.59375 16.40625 15.625 \nL 16.40625 39.0625 \nL 3.125 39.0625 \nL 3.125 45.3125 \nL 16.40625 45.3125 \nL 16.40625 60.546875 \nL 24.21875 60.546875 \nL 24.21875 45.3125 \nL 40.234375 45.3125 \nL 40.234375 39.0625 \nL 24.21875 39.0625 \nL 24.21875 15.234375 \nQ 24.21875 12.109375 25.78125 9.953125 \nQ 27.34375 7.8125 31.640625 7.8125 \nQ 35.9375 7.8125 38.671875 8.59375 \nQ 41.40625 9.375 43.359375 10.546875 \nz\n\" id=\"SimHei-116\"/>\n      <path d=\"M 45.703125 45.3125 \nL 27.734375 -1.953125 \nQ 26.171875 -7.421875 23.046875 -10.15625 \nQ 19.921875 -12.890625 15.234375 -12.890625 \nQ 13.28125 -12.890625 11.515625 -12.6875 \nQ 9.765625 -12.5 8.203125 -11.71875 \nL 8.203125 -3.90625 \nQ 9.765625 -4.6875 11.328125 -5.078125 \nQ 12.890625 -5.46875 14.0625 -5.46875 \nQ 17.1875 -5.46875 18.359375 -4.484375 \nQ 19.53125 -3.515625 20.703125 0 \nL 3.515625 45.3125 \nL 12.109375 45.3125 \nL 24.609375 10.9375 \nL 25 10.9375 \nL 37.109375 45.3125 \nz\n\" id=\"SimHei-121\"/>\n      <path id=\"SimHei-32\"/>\n      <path d=\"M 44.921875 59.375 \nQ 42.96875 60.546875 40.234375 61.328125 \nQ 37.5 62.109375 33.203125 62.109375 \nQ 28.90625 62.109375 27.34375 59.953125 \nQ 25.78125 57.8125 25.78125 54.6875 \nL 25.78125 45.3125 \nL 41.796875 45.3125 \nL 41.796875 39.0625 \nL 25.78125 39.0625 \nL 25.78125 1.5625 \nL 17.96875 1.5625 \nL 17.96875 39.0625 \nL 4.6875 39.0625 \nL 4.6875 45.3125 \nL 17.96875 45.3125 \nL 17.96875 54.296875 \nQ 17.96875 61.328125 22.265625 65.234375 \nQ 26.5625 69.140625 33.59375 69.140625 \nQ 37.890625 69.140625 40.421875 68.546875 \nQ 42.96875 67.96875 44.921875 67.1875 \nz\n\" id=\"SimHei-102\"/>\n      <path d=\"M 46.875 38.671875 \nQ 44.140625 39.453125 41.59375 39.640625 \nQ 39.0625 39.84375 36.328125 39.0625 \nQ 37.5 37.890625 38.28125 36.125 \nQ 39.0625 34.375 39.0625 30.859375 \nQ 39.0625 24.21875 34.5625 19.921875 \nQ 30.078125 15.625 23.4375 15.625 \nQ 21.875 15.625 19.328125 16.203125 \nQ 16.796875 16.796875 15.234375 17.578125 \nQ 14.0625 16.796875 13.671875 16.015625 \nQ 13.28125 15.234375 13.28125 14.0625 \nQ 13.28125 12.109375 16.015625 11.125 \nQ 18.75 10.15625 25.78125 10.15625 \nQ 37.109375 10.15625 41.203125 7.03125 \nQ 45.3125 3.90625 45.3125 -0.78125 \nQ 45.3125 -7.03125 39.25 -9.953125 \nQ 33.203125 -12.890625 25 -12.890625 \nQ 14.453125 -12.890625 9.375 -10.15625 \nQ 4.296875 -7.421875 4.296875 -2.734375 \nQ 4.296875 -0.390625 6.25 1.953125 \nQ 8.203125 4.296875 11.328125 5.859375 \nQ 8.984375 7.03125 7.609375 8.78125 \nQ 6.25 10.546875 6.25 13.28125 \nQ 6.25 15.625 8 17.375 \nQ 9.765625 19.140625 12.109375 20.3125 \nQ 10.15625 22.265625 8.984375 25 \nQ 7.8125 27.734375 7.8125 30.859375 \nQ 7.8125 37.5 12.296875 41.796875 \nQ 16.796875 46.09375 23.4375 46.09375 \nQ 26.953125 46.09375 29.484375 45.109375 \nQ 32.03125 44.140625 33.984375 42.1875 \nQ 37.109375 44.53125 40.234375 45.5 \nQ 43.359375 46.484375 46.875 46.09375 \nz\nM 31.25 30.859375 \nQ 31.25 34.765625 29.296875 37.109375 \nQ 27.34375 39.453125 23.4375 39.453125 \nQ 19.53125 39.453125 17.578125 37.109375 \nQ 15.625 34.765625 15.625 30.859375 \nQ 15.625 26.953125 17.578125 24.609375 \nQ 19.53125 22.265625 23.4375 22.265625 \nQ 27.34375 22.265625 29.296875 24.609375 \nQ 31.25 26.953125 31.25 30.859375 \nz\nM 37.890625 -1.5625 \nQ 37.890625 0 36.125 1.5625 \nQ 34.375 3.125 27.34375 3.125 \nQ 25.78125 3.125 23.046875 3.3125 \nQ 20.3125 3.515625 16.796875 3.90625 \nQ 13.671875 2.734375 12.5 1.171875 \nQ 11.328125 -0.390625 11.328125 -1.953125 \nQ 11.328125 -4.296875 14.453125 -5.859375 \nQ 17.578125 -7.421875 25.390625 -7.421875 \nQ 32.03125 -7.421875 34.953125 -5.65625 \nQ 37.890625 -3.90625 37.890625 -1.5625 \nz\n\" id=\"SimHei-103\"/>\n      <path d=\"M 44.140625 1.5625 \nL 36.328125 1.5625 \nL 36.328125 9.765625 \nQ 33.203125 5.46875 29.484375 3.125 \nQ 25.78125 0.78125 19.921875 0.78125 \nQ 12.890625 0.78125 9.375 4.6875 \nQ 5.859375 8.59375 5.859375 14.453125 \nL 5.859375 45.3125 \nL 13.671875 45.3125 \nL 13.671875 17.1875 \nQ 13.671875 12.5 16.015625 9.765625 \nQ 18.359375 7.03125 22.265625 7.03125 \nQ 27.34375 7.03125 31.828125 12.296875 \nQ 36.328125 17.578125 36.328125 25.390625 \nL 36.328125 45.3125 \nL 44.140625 45.3125 \nz\n\" id=\"SimHei-117\"/>\n      <path d=\"M 44.140625 1.5625 \nL 36.328125 1.5625 \nL 36.328125 29.6875 \nQ 36.328125 34.375 33.984375 37.109375 \nQ 31.640625 39.84375 27.734375 39.84375 \nQ 22.65625 39.84375 18.15625 34.5625 \nQ 13.671875 29.296875 13.671875 21.484375 \nL 13.671875 1.5625 \nL 5.859375 1.5625 \nL 5.859375 45.3125 \nL 13.671875 45.3125 \nL 13.671875 37.109375 \nQ 16.796875 41.40625 20.5 43.75 \nQ 24.21875 46.09375 30.078125 46.09375 \nQ 37.109375 46.09375 40.625 42.1875 \nQ 44.140625 38.28125 44.140625 32.421875 \nz\n\" id=\"SimHei-110\"/>\n      <path d=\"M 43.359375 1.5625 \nL 35.546875 1.5625 \nL 35.546875 7.421875 \nQ 33.203125 3.90625 30.078125 2.34375 \nQ 26.953125 0.78125 22.65625 0.78125 \nQ 14.84375 0.78125 9.375 6.4375 \nQ 3.90625 12.109375 3.90625 23.4375 \nQ 3.90625 34.765625 9.375 40.625 \nQ 14.84375 46.484375 22.65625 46.484375 \nQ 26.953125 46.484375 30.078125 44.71875 \nQ 33.203125 42.96875 35.546875 39.453125 \nL 35.546875 68.359375 \nL 43.359375 68.359375 \nz\nM 35.546875 23.4375 \nQ 35.546875 30.859375 32.21875 35.15625 \nQ 28.90625 39.453125 24.21875 39.453125 \nQ 18.359375 39.453125 15.421875 35.15625 \nQ 12.5 30.859375 12.5 23.4375 \nQ 12.5 16.015625 15.421875 11.90625 \nQ 18.359375 7.8125 24.21875 7.8125 \nQ 28.90625 7.8125 32.21875 11.90625 \nQ 35.546875 16.015625 35.546875 23.4375 \nz\n\" id=\"SimHei-100\"/>\n      <path d=\"M 44.140625 1.5625 \nL 36.328125 1.5625 \nL 36.328125 29.6875 \nQ 36.328125 34.375 33.984375 37.109375 \nQ 31.640625 39.84375 27.734375 39.84375 \nQ 22.65625 39.84375 18.15625 34.5625 \nQ 13.671875 29.296875 13.671875 21.484375 \nL 13.671875 1.5625 \nL 5.859375 1.5625 \nL 5.859375 68.359375 \nL 13.671875 68.359375 \nL 13.671875 37.109375 \nQ 16.796875 41.40625 20.5 43.75 \nQ 24.21875 46.09375 30.078125 46.09375 \nQ 37.109375 46.09375 40.625 42.1875 \nQ 44.140625 38.28125 44.140625 32.421875 \nz\n\" id=\"SimHei-104\"/>\n      <path d=\"M 44.921875 19.140625 \nQ 44.921875 10.9375 39.25 5.859375 \nQ 33.59375 0.78125 25 0.78125 \nQ 16.40625 0.78125 10.15625 6.828125 \nQ 3.90625 12.890625 3.90625 23.4375 \nQ 3.90625 33.984375 10.15625 40.03125 \nQ 16.40625 46.09375 25 46.09375 \nQ 33.59375 46.09375 38.671875 41.59375 \nQ 43.75 37.109375 43.75 30.859375 \nL 35.15625 30.859375 \nQ 34.765625 35.546875 31.828125 37.296875 \nQ 28.90625 39.0625 25 39.0625 \nQ 20.3125 39.0625 16.40625 35.34375 \nQ 12.5 31.640625 12.5 23.4375 \nQ 12.5 15.234375 16.40625 11.515625 \nQ 20.3125 7.8125 25 7.8125 \nQ 30.078125 7.8125 33.203125 10.546875 \nQ 36.328125 13.28125 36.328125 19.140625 \nz\n\" id=\"SimHei-99\"/>\n      <path d=\"M 45.3125 1.5625 \nL 35.9375 1.5625 \nQ 35.15625 2.34375 34.765625 3.703125 \nQ 34.375 5.078125 34.375 7.03125 \nQ 31.640625 3.90625 27.734375 2.34375 \nQ 23.828125 0.78125 19.53125 0.78125 \nQ 13.28125 0.78125 8.984375 3.90625 \nQ 4.6875 7.03125 4.6875 12.890625 \nQ 4.6875 18.75 8.59375 22.265625 \nQ 12.5 25.78125 20.703125 26.953125 \nQ 26.171875 27.734375 30.265625 28.90625 \nQ 34.375 30.078125 34.375 32.03125 \nQ 34.375 34.375 32.609375 36.71875 \nQ 30.859375 39.0625 25 39.0625 \nQ 20.3125 39.0625 18.15625 37.296875 \nQ 16.015625 35.546875 15.234375 32.421875 \nL 6.640625 32.421875 \nQ 7.421875 38.671875 12.296875 42.375 \nQ 17.1875 46.09375 25 46.09375 \nQ 33.59375 46.09375 37.890625 42.1875 \nQ 42.1875 38.28125 42.1875 31.25 \nL 42.1875 9.765625 \nQ 42.1875 7.421875 42.96875 5.46875 \nQ 43.75 3.515625 45.3125 1.5625 \nz\nM 34.375 16.015625 \nL 34.375 23.828125 \nQ 32.03125 23.046875 29.875 22.453125 \nQ 27.734375 21.875 22.65625 21.09375 \nQ 16.796875 20.3125 15.03125 18.359375 \nQ 13.28125 16.40625 13.28125 13.671875 \nQ 13.28125 11.328125 15.03125 9.5625 \nQ 16.796875 7.8125 20.3125 7.8125 \nQ 23.828125 7.8125 27.921875 9.765625 \nQ 32.03125 11.71875 34.375 16.015625 \nz\n\" id=\"SimHei-97\"/>\n      <path d=\"M 43.359375 13.671875 \nQ 43.359375 7.421875 38.46875 4.09375 \nQ 33.59375 0.78125 26.171875 0.78125 \nQ 16.796875 0.78125 11.71875 4.484375 \nQ 6.640625 8.203125 6.640625 15.234375 \nL 14.453125 15.234375 \nQ 14.453125 10.546875 17.765625 8.984375 \nQ 21.09375 7.421875 25.78125 7.421875 \nQ 30.46875 7.421875 32.8125 9.171875 \nQ 35.15625 10.9375 35.15625 13.671875 \nQ 35.15625 15.625 33.203125 17.578125 \nQ 31.25 19.53125 23.4375 20.703125 \nQ 14.453125 21.875 11.125 25.1875 \nQ 7.8125 28.515625 7.8125 33.984375 \nQ 7.8125 38.671875 12.296875 42.375 \nQ 16.796875 46.09375 25.390625 46.09375 \nQ 33.203125 46.09375 37.6875 42.578125 \nQ 42.1875 39.0625 42.1875 33.203125 \nL 34.375 33.203125 \nQ 34.375 36.71875 31.828125 38.078125 \nQ 29.296875 39.453125 25.390625 39.453125 \nQ 20.3125 39.453125 18.15625 37.6875 \nQ 16.015625 35.9375 16.015625 33.59375 \nQ 16.015625 30.859375 17.96875 29.296875 \nQ 19.921875 27.734375 26.171875 26.953125 \nQ 36.328125 25.390625 39.84375 22.0625 \nQ 43.359375 18.75 43.359375 13.671875 \nz\n\" id=\"SimHei-115\"/>\n     </defs>\n     <g transform=\"translate(121.225 254.097031)scale(0.1 -0.1)\">\n      <use xlink:href=\"#SimHei-112\"/>\n      <use x=\"50\" xlink:href=\"#SimHei-114\"/>\n      <use x=\"100\" xlink:href=\"#SimHei-111\"/>\n      <use x=\"150\" xlink:href=\"#SimHei-98\"/>\n      <use x=\"200\" xlink:href=\"#SimHei-105\"/>\n      <use x=\"250\" xlink:href=\"#SimHei-108\"/>\n      <use x=\"300\" xlink:href=\"#SimHei-105\"/>\n      <use x=\"350\" xlink:href=\"#SimHei-116\"/>\n      <use x=\"400\" xlink:href=\"#SimHei-121\"/>\n      <use x=\"450\" xlink:href=\"#SimHei-32\"/>\n      <use x=\"500\" xlink:href=\"#SimHei-111\"/>\n      <use x=\"550\" xlink:href=\"#SimHei-102\"/>\n      <use x=\"600\" xlink:href=\"#SimHei-32\"/>\n      <use x=\"650\" xlink:href=\"#SimHei-103\"/>\n      <use x=\"700\" xlink:href=\"#SimHei-114\"/>\n      <use x=\"750\" xlink:href=\"#SimHei-111\"/>\n      <use x=\"800\" xlink:href=\"#SimHei-117\"/>\n      <use x=\"850\" xlink:href=\"#SimHei-110\"/>\n      <use x=\"900\" xlink:href=\"#SimHei-100\"/>\n      <use x=\"950\" xlink:href=\"#SimHei-32\"/>\n      <use x=\"1000\" xlink:href=\"#SimHei-116\"/>\n      <use x=\"1050\" xlink:href=\"#SimHei-114\"/>\n      <use x=\"1100\" xlink:href=\"#SimHei-117\"/>\n      <use x=\"1150\" xlink:href=\"#SimHei-116\"/>\n      <use x=\"1200\" xlink:href=\"#SimHei-104\"/>\n      <use x=\"1250\" xlink:href=\"#SimHei-32\"/>\n      <use x=\"1300\" xlink:href=\"#SimHei-99\"/>\n      <use x=\"1350\" xlink:href=\"#SimHei-108\"/>\n      <use x=\"1400\" xlink:href=\"#SimHei-97\"/>\n      <use x=\"1450\" xlink:href=\"#SimHei-115\"/>\n      <use x=\"1500\" xlink:href=\"#SimHei-115\"/>\n     </g>\n    </g>\n   </g>\n   <g id=\"matplotlib.axis_2\">\n    <g id=\"ytick_1\">\n     <g id=\"line2d_7\">\n      <defs>\n       <path d=\"M 0 0 \nL -3.5 0 \n\" id=\"md66363896e\" style=\"stroke:#000000;stroke-width:0.8;\"/>\n      </defs>\n      <g>\n       <use style=\"stroke:#000000;stroke-width:0.8;\" x=\"31.325\" xlink:href=\"#md66363896e\" y=\"228.057969\"/>\n      </g>\n     </g>\n     <g id=\"text_8\">\n      <!-- 0 -->\n      <g transform=\"translate(19.325 231.475937)scale(0.1 -0.1)\">\n       <use xlink:href=\"#SimHei-48\"/>\n      </g>\n     </g>\n    </g>\n    <g id=\"ytick_2\">\n     <g id=\"line2d_8\">\n      <g>\n       <use style=\"stroke:#000000;stroke-width:0.8;\" x=\"31.325\" xlink:href=\"#md66363896e\" y=\"191.817969\"/>\n      </g>\n     </g>\n     <g id=\"text_9\">\n      <!-- 1 -->\n      <g transform=\"translate(19.325 195.235937)scale(0.1 -0.1)\">\n       <use xlink:href=\"#SimHei-49\"/>\n      </g>\n     </g>\n    </g>\n    <g id=\"ytick_3\">\n     <g id=\"line2d_9\">\n      <g>\n       <use style=\"stroke:#000000;stroke-width:0.8;\" x=\"31.325\" xlink:href=\"#md66363896e\" y=\"155.577969\"/>\n      </g>\n     </g>\n     <g id=\"text_10\">\n      <!-- 2 -->\n      <g transform=\"translate(19.325 158.995937)scale(0.1 -0.1)\">\n       <use xlink:href=\"#SimHei-50\"/>\n      </g>\n     </g>\n    </g>\n    <g id=\"ytick_4\">\n     <g id=\"line2d_10\">\n      <g>\n       <use style=\"stroke:#000000;stroke-width:0.8;\" x=\"31.325\" xlink:href=\"#md66363896e\" y=\"119.337969\"/>\n      </g>\n     </g>\n     <g id=\"text_11\">\n      <!-- 3 -->\n      <defs>\n       <path d=\"M 44.140625 20.3125 \nQ 44.140625 11.328125 38.46875 6.046875 \nQ 32.8125 0.78125 24.21875 0.78125 \nQ 15.625 0.78125 9.953125 6.046875 \nQ 4.296875 11.328125 4.296875 22.265625 \nL 13.28125 22.265625 \nQ 13.28125 14.84375 16.203125 11.515625 \nQ 19.140625 8.203125 24.21875 8.203125 \nQ 29.296875 8.203125 32.03125 11.328125 \nQ 34.765625 14.453125 34.765625 21.09375 \nQ 34.765625 26.5625 31.828125 29.6875 \nQ 28.90625 32.8125 21.484375 32.8125 \nL 21.484375 39.453125 \nQ 27.734375 39.453125 30.65625 42.578125 \nQ 33.59375 45.703125 33.59375 51.953125 \nQ 33.59375 56.640625 31.4375 59.375 \nQ 29.296875 62.109375 24.609375 62.109375 \nQ 19.921875 62.109375 17.375 58.78125 \nQ 14.84375 55.46875 14.453125 49.21875 \nL 5.859375 49.21875 \nQ 6.640625 58.203125 11.515625 63.671875 \nQ 16.40625 69.140625 24.609375 69.140625 \nQ 33.203125 69.140625 37.890625 64.25 \nQ 42.578125 59.375 42.578125 52.34375 \nQ 42.578125 45.703125 40.234375 41.984375 \nQ 37.890625 38.28125 32.421875 36.328125 \nQ 37.890625 35.15625 41.015625 30.859375 \nQ 44.140625 26.5625 44.140625 20.3125 \nz\n\" id=\"SimHei-51\"/>\n      </defs>\n      <g transform=\"translate(19.325 122.755937)scale(0.1 -0.1)\">\n       <use xlink:href=\"#SimHei-51\"/>\n      </g>\n     </g>\n    </g>\n    <g id=\"ytick_5\">\n     <g id=\"line2d_11\">\n      <g>\n       <use style=\"stroke:#000000;stroke-width:0.8;\" x=\"31.325\" xlink:href=\"#md66363896e\" y=\"83.097969\"/>\n      </g>\n     </g>\n     <g id=\"text_12\">\n      <!-- 4 -->\n      <g transform=\"translate(19.325 86.515937)scale(0.1 -0.1)\">\n       <use xlink:href=\"#SimHei-52\"/>\n      </g>\n     </g>\n    </g>\n    <g id=\"ytick_6\">\n     <g id=\"line2d_12\">\n      <g>\n       <use style=\"stroke:#000000;stroke-width:0.8;\" x=\"31.325\" xlink:href=\"#md66363896e\" y=\"46.857969\"/>\n      </g>\n     </g>\n     <g id=\"text_13\">\n      <!-- 5 -->\n      <defs>\n       <path d=\"M 44.140625 25.78125 \nQ 44.140625 14.0625 38.46875 7.421875 \nQ 32.8125 0.78125 23.4375 0.78125 \nQ 15.234375 0.78125 9.953125 6.25 \nQ 4.6875 11.71875 4.296875 21.09375 \nL 13.28125 21.09375 \nQ 13.28125 15.234375 16.015625 11.71875 \nQ 18.75 8.203125 23.828125 8.203125 \nQ 28.90625 8.203125 31.828125 12.5 \nQ 34.765625 16.796875 34.765625 25.78125 \nQ 34.765625 33.59375 32.21875 37.296875 \nQ 29.6875 41.015625 25.390625 41.015625 \nQ 21.875 41.015625 19.328125 39.453125 \nQ 16.796875 37.890625 14.453125 33.984375 \nL 6.640625 33.984375 \nL 8.984375 68.359375 \nL 42.578125 68.359375 \nL 42.578125 60.9375 \nL 16.40625 60.9375 \nL 14.84375 42.96875 \nQ 17.1875 45.3125 19.921875 46.484375 \nQ 22.65625 47.65625 27.34375 47.65625 \nQ 34.765625 47.65625 39.453125 41.984375 \nQ 44.140625 36.328125 44.140625 25.78125 \nz\n\" id=\"SimHei-53\"/>\n      </defs>\n      <g transform=\"translate(19.325 50.275937)scale(0.1 -0.1)\">\n       <use xlink:href=\"#SimHei-53\"/>\n      </g>\n     </g>\n    </g>\n    <g id=\"ytick_7\">\n     <g id=\"line2d_13\">\n      <g>\n       <use style=\"stroke:#000000;stroke-width:0.8;\" x=\"31.325\" xlink:href=\"#md66363896e\" y=\"10.617969\"/>\n      </g>\n     </g>\n     <g id=\"text_14\">\n      <!-- 6 -->\n      <g transform=\"translate(19.325 14.035937)scale(0.1 -0.1)\">\n       <use xlink:href=\"#SimHei-54\"/>\n      </g>\n     </g>\n    </g>\n    <g id=\"text_15\">\n     <!-- loss -->\n     <g transform=\"translate(14.035938 129.337969)rotate(-90)scale(0.1 -0.1)\">\n      <use xlink:href=\"#SimHei-108\"/>\n      <use x=\"50\" xlink:href=\"#SimHei-111\"/>\n      <use x=\"100\" xlink:href=\"#SimHei-115\"/>\n      <use x=\"150\" xlink:href=\"#SimHei-115\"/>\n     </g>\n    </g>\n   </g>\n   <g id=\"line2d_14\">\n    <path clip-path=\"url(#p6669b3d065)\" d=\"M 31.328348 46.857969 \nL 34.676315 155.593542 \nL 38.024281 166.495006 \nL 41.372248 172.873931 \nL 44.720214 177.4004 \nL 48.068181 180.911632 \nL 51.416147 183.780636 \nL 54.764114 186.206413 \nL 58.11208 188.30776 \nL 61.460047 190.161309 \nL 64.808013 191.819385 \nL 68.15598 193.319313 \nL 71.503946 194.688651 \nL 74.851913 195.948329 \nL 78.199879 197.114616 \nL 81.547846 198.200408 \nL 84.895812 199.216103 \nL 88.243779 200.170206 \nL 91.591745 201.069761 \nL 94.939712 201.92067 \nL 98.287678 202.727925 \nL 101.635645 203.495788 \nL 104.983611 204.227925 \nL 108.331578 204.927512 \nL 111.679544 205.597323 \nL 115.027511 206.239787 \nL 118.375478 206.857051 \nL 121.723444 207.451017 \nL 125.071411 208.023381 \nL 128.419377 208.575658 \nL 131.767344 209.10921 \nL 135.11531 209.625267 \nL 138.463277 210.124938 \nL 141.811243 210.609233 \nL 145.15921 211.07907 \nL 148.507176 211.535287 \nL 151.855143 211.978651 \nL 155.203109 212.409867 \nL 158.551076 212.829583 \nL 161.899042 213.238396 \nL 165.247009 213.636859 \nL 168.594975 214.025482 \nL 171.942942 214.40474 \nL 175.290908 214.775074 \nL 178.638875 215.136894 \nL 181.986841 215.490583 \nL 185.334808 215.836497 \nL 188.682774 216.174973 \nL 192.030741 216.506322 \nL 195.378707 216.830839 \nL 198.726674 217.148799 \nL 202.074641 217.460463 \nL 205.422607 217.766075 \nL 208.770574 218.065866 \nL 212.11854 218.360053 \nL 215.466507 218.648841 \nL 218.814473 218.932427 \nL 222.16244 219.210992 \nL 225.510406 219.484713 \nL 228.858373 219.753755 \nL 232.206339 220.018275 \nL 235.554306 220.278423 \nL 238.902272 220.53434 \nL 242.250239 220.786163 \nL 245.598205 221.03402 \nL 248.946172 221.278034 \nL 252.294138 221.518322 \nL 255.642105 221.754997 \nL 258.990071 221.988166 \nL 262.338038 222.217931 \nL 265.686004 222.444389 \nL 269.033971 222.667636 \nL 272.381937 222.88776 \nL 275.729904 223.104847 \nL 279.07787 223.318982 \nL 282.425837 223.530241 \nL 285.773804 223.738703 \nL 289.12177 223.94444 \nL 292.469737 224.147522 \nL 295.817703 224.348016 \nL 299.16567 224.545989 \nL 302.513636 224.741503 \nL 305.861603 224.934617 \nL 309.209569 225.125391 \nL 312.557536 225.31388 \nL 315.905502 225.500138 \nL 319.253469 225.684218 \nL 322.601435 225.86617 \nL 325.949402 226.046042 \nL 329.297368 226.223882 \nL 332.645335 226.399735 \nL 335.993301 226.573644 \nL 339.341268 226.745653 \nL 342.689234 226.915803 \nL 346.037201 227.084132 \nL 349.385167 227.25068 \nL 352.733134 227.415485 \nL 356.0811 227.578581 \nL 359.429067 227.740005 \nL 362.777033 227.89979 \n\" style=\"fill:none;stroke:#1f77b4;stroke-linecap:square;stroke-width:1.5;\"/>\n   </g>\n   <g id=\"line2d_15\">\n    <path clip-path=\"url(#p6669b3d065)\" d=\"M 31.328348 46.858875 \nL 34.676315 155.957135 \nL 38.024281 167.11405 \nL 41.372248 173.708267 \nL 44.720214 178.424139 \nL 48.068181 182.105633 \nL 51.416147 185.129716 \nL 54.764114 187.697991 \nL 58.11208 189.931098 \nL 61.460047 191.90704 \nL 64.808013 193.679202 \nL 68.15598 195.28575 \nL 71.503946 196.754931 \nL 74.851913 198.10824 \nL 78.199879 199.362427 \nL 81.547846 200.530795 \nL 84.895812 201.624094 \nL 88.243779 202.651135 \nL 91.591745 203.61923 \nL 94.939712 204.534518 \nL 98.287678 205.402202 \nL 101.635645 206.226734 \nL 104.983611 207.011949 \nL 108.331578 207.761177 \nL 111.679544 208.477329 \nL 115.027511 209.162963 \nL 118.375478 209.820341 \nL 121.723444 210.45147 \nL 125.071411 211.058142 \nL 128.419377 211.641964 \nL 131.767344 212.204379 \nL 135.11531 212.746693 \nL 138.463277 213.270087 \nL 141.811243 213.775635 \nL 145.15921 214.264315 \nL 148.507176 214.737023 \nL 151.855143 215.194579 \nL 155.203109 215.637735 \nL 158.551076 216.067186 \nL 161.899042 216.483571 \nL 165.247009 216.887481 \nL 168.594975 217.279465 \nL 171.942942 217.660032 \nL 175.290908 218.029653 \nL 178.638875 218.38877 \nL 181.986841 218.737792 \nL 185.334808 219.077103 \nL 188.682774 219.40706 \nL 192.030741 219.727999 \nL 195.378707 220.040234 \nL 198.726674 220.344059 \nL 202.074641 220.639752 \nL 205.422607 220.927571 \nL 208.770574 221.207762 \nL 212.11854 221.480555 \nL 215.466507 221.746166 \nL 218.814473 222.004799 \nL 222.16244 222.256647 \nL 225.510406 222.501892 \nL 228.858373 222.740704 \nL 232.206339 222.973245 \nL 235.554306 223.199668 \nL 238.902272 223.420116 \nL 242.250239 223.634724 \nL 245.598205 223.84362 \nL 248.946172 224.046925 \nL 252.294138 224.244751 \nL 255.642105 224.437205 \nL 258.990071 224.624387 \nL 262.338038 224.806389 \nL 265.686004 224.9833 \nL 269.033971 225.1552 \nL 272.381937 225.322165 \nL 275.729904 225.484264 \nL 279.07787 225.641562 \nL 282.425837 225.794116 \nL 285.773804 225.94198 \nL 289.12177 226.085199 \nL 292.469737 226.223816 \nL 295.817703 226.357863 \nL 299.16567 226.487372 \nL 302.513636 226.612362 \nL 305.861603 226.73285 \nL 309.209569 226.848842 \nL 312.557536 226.960339 \nL 315.905502 227.06733 \nL 319.253469 227.169797 \nL 322.601435 227.267708 \nL 325.949402 227.36102 \nL 329.297368 227.449674 \nL 332.645335 227.533592 \nL 335.993301 227.612674 \nL 339.341268 227.686792 \nL 342.689234 227.755782 \nL 346.037201 227.81943 \nL 349.385167 227.877455 \nL 352.733134 227.929473 \nL 356.0811 227.974937 \nL 359.429067 228.013002 \nL 362.777033 228.042151 \n\" style=\"fill:none;stroke:#ff7f0e;stroke-linecap:square;stroke-width:1.5;\"/>\n   </g>\n   <g id=\"line2d_16\">\n    <path clip-path=\"url(#p6669b3d065)\" d=\"M 31.328348 46.859781 \nL 34.676315 156.318904 \nL 38.024281 167.726869 \nL 41.372248 174.529988 \nL 44.720214 179.427189 \nL 48.068181 183.269397 \nL 51.416147 186.437692 \nL 54.764114 189.136411 \nL 58.11208 191.488142 \nL 61.460047 193.572353 \nL 64.808013 195.44357 \nL 68.15598 197.140874 \nL 71.503946 198.693263 \nL 74.851913 200.122862 \nL 78.199879 201.446951 \nL 81.547846 202.679296 \nL 84.895812 203.831044 \nL 88.243779 204.911357 \nL 91.591745 205.92786 \nL 94.939712 206.886969 \nL 98.287678 207.794137 \nL 101.635645 208.65404 \nL 104.983611 209.47072 \nL 108.331578 210.247695 \nL 111.679544 210.988048 \nL 115.027511 211.694496 \nL 118.375478 212.369446 \nL 121.723444 213.015044 \nL 125.071411 213.633209 \nL 128.419377 214.225666 \nL 131.767344 214.79397 \nL 135.11531 215.339532 \nL 138.463277 215.86363 \nL 141.811243 216.367433 \nL 145.15921 216.852008 \nL 148.507176 217.318333 \nL 151.855143 217.767308 \nL 155.203109 218.199763 \nL 158.551076 218.616464 \nL 161.899042 219.01812 \nL 165.247009 219.405389 \nL 168.594975 219.778884 \nL 171.942942 220.139175 \nL 175.290908 220.486795 \nL 178.638875 220.822239 \nL 181.986841 221.145975 \nL 185.334808 221.45844 \nL 188.682774 221.760044 \nL 192.030741 222.051172 \nL 195.378707 222.33219 \nL 198.726674 222.603438 \nL 202.074641 222.865243 \nL 205.422607 223.117909 \nL 208.770574 223.361727 \nL 212.11854 223.596972 \nL 215.466507 223.823904 \nL 218.814473 224.04277 \nL 222.16244 224.253807 \nL 225.510406 224.457237 \nL 228.858373 224.653275 \nL 232.206339 224.842123 \nL 235.554306 225.023976 \nL 238.902272 225.199018 \nL 242.250239 225.367427 \nL 245.598205 225.529372 \nL 248.946172 225.685015 \nL 252.294138 225.834511 \nL 255.642105 225.978009 \nL 258.990071 226.115651 \nL 262.338038 226.247575 \nL 265.686004 226.373912 \nL 269.033971 226.494788 \nL 272.381937 226.610325 \nL 275.729904 226.720639 \nL 279.07787 226.825844 \nL 282.425837 226.926048 \nL 285.773804 227.021355 \nL 289.12177 227.111867 \nL 292.469737 227.197679 \nL 295.817703 227.278887 \nL 299.16567 227.35558 \nL 302.513636 227.427847 \nL 305.861603 227.495771 \nL 309.209569 227.559436 \nL 312.557536 227.618919 \nL 315.905502 227.674298 \nL 319.253469 227.725647 \nL 322.601435 227.773038 \nL 325.949402 227.81654 \nL 329.297368 227.856221 \nL 332.645335 227.892147 \nL 335.993301 227.924381 \nL 339.341268 227.952985 \nL 342.689234 227.978018 \nL 346.037201 227.999539 \nL 349.385167 228.017605 \nL 352.733134 228.03227 \nL 356.0811 228.043587 \nL 359.429067 228.05161 \nL 362.777033 228.056387 \n\" style=\"fill:none;stroke:#2ca02c;stroke-linecap:square;stroke-width:1.5;\"/>\n   </g>\n   <g id=\"line2d_17\">\n    <path clip-path=\"url(#p6669b3d065)\" d=\"M 31.328348 46.861593 \nL 34.676315 157.037005 \nL 38.024281 168.934082 \nL 41.372248 176.136346 \nL 44.720214 181.372887 \nL 48.068181 185.509251 \nL 51.416147 188.9353 \nL 54.764114 191.861282 \nL 58.11208 194.414065 \nL 61.460047 196.676372 \nL 64.808013 198.705303 \nL 68.15598 200.54203 \nL 71.503946 202.217286 \nL 74.851913 203.754669 \nL 78.199879 205.172722 \nL 81.547846 206.486312 \nL 84.895812 207.707555 \nL 88.243779 208.846473 \nL 91.591745 209.911461 \nL 94.939712 210.90963 \nL 98.287678 211.847065 \nL 101.635645 212.729018 \nL 104.983611 213.56006 \nL 108.331578 214.344195 \nL 111.679544 215.084959 \nL 115.027511 215.785487 \nL 118.375478 216.448578 \nL 121.723444 217.076744 \nL 125.071411 217.672246 \nL 128.419377 218.237132 \nL 131.767344 218.773263 \nL 135.11531 219.282335 \nL 138.463277 219.765901 \nL 141.811243 220.225388 \nL 145.15921 220.662108 \nL 148.507176 221.077275 \nL 151.855143 221.472012 \nL 155.203109 221.847361 \nL 158.551076 222.204294 \nL 161.899042 222.543716 \nL 165.247009 222.866473 \nL 168.594975 223.173358 \nL 171.942942 223.465115 \nL 175.290908 223.742443 \nL 178.638875 224.006001 \nL 181.986841 224.25641 \nL 185.334808 224.494259 \nL 188.682774 224.720102 \nL 192.030741 224.934466 \nL 195.378707 225.137851 \nL 198.726674 225.330731 \nL 202.074641 225.513559 \nL 205.422607 225.686764 \nL 208.770574 225.850757 \nL 212.11854 226.005931 \nL 215.466507 226.152659 \nL 218.814473 226.291299 \nL 222.16244 226.422196 \nL 225.510406 226.545677 \nL 228.858373 226.662058 \nL 232.206339 226.771643 \nL 235.554306 226.874723 \nL 238.902272 226.971578 \nL 242.250239 227.062478 \nL 245.598205 227.147683 \nL 248.946172 227.227443 \nL 252.294138 227.302001 \nL 255.642105 227.371589 \nL 258.990071 227.436433 \nL 262.338038 227.496752 \nL 265.686004 227.552757 \nL 269.033971 227.604651 \nL 272.381937 227.652632 \nL 275.729904 227.696893 \nL 279.07787 227.73762 \nL 282.425837 227.774991 \nL 285.773804 227.809184 \nL 289.12177 227.840367 \nL 292.469737 227.868707 \nL 295.817703 227.894363 \nL 299.16567 227.917492 \nL 302.513636 227.938247 \nL 305.861603 227.956774 \nL 309.209569 227.973219 \nL 312.557536 227.987721 \nL 315.905502 228.000419 \nL 319.253469 228.011444 \nL 322.601435 228.020928 \nL 325.949402 228.028998 \nL 329.297368 228.035777 \nL 332.645335 228.041387 \nL 335.993301 228.045946 \nL 339.341268 228.04957 \nL 342.689234 228.052372 \nL 346.037201 228.054463 \nL 349.385167 228.055951 \nL 352.733134 228.056941 \nL 356.0811 228.057537 \nL 359.429067 228.057842 \nL 362.777033 228.057953 \n\" style=\"fill:none;stroke:#d62728;stroke-linecap:square;stroke-width:1.5;\"/>\n   </g>\n   <g id=\"line2d_18\">\n    <path clip-path=\"url(#p6669b3d065)\" d=\"M 31.328348 46.867029 \nL 34.676315 159.148466 \nL 38.024281 172.412709 \nL 41.372248 180.671927 \nL 44.720214 186.755235 \nL 48.068181 191.578856 \nL 51.416147 195.564281 \nL 54.764114 198.943784 \nL 58.11208 201.86065 \nL 61.460047 204.410417 \nL 64.808013 206.660517 \nL 68.15598 208.660667 \nL 71.503946 210.448795 \nL 74.851913 212.054653 \nL 78.199879 213.502107 \nL 81.547846 214.810673 \nL 84.895812 215.996559 \nL 88.243779 217.073415 \nL 91.591745 218.052865 \nL 94.939712 218.944912 \nL 98.287678 219.758235 \nL 101.635645 220.500425 \nL 104.983611 221.178164 \nL 108.331578 221.797367 \nL 111.679544 222.3633 \nL 115.027511 222.880671 \nL 118.375478 223.353706 \nL 121.723444 223.786214 \nL 125.071411 224.181635 \nL 128.419377 224.543089 \nL 131.767344 224.87341 \nL 135.11531 225.175181 \nL 138.463277 225.450756 \nL 141.811243 225.702289 \nL 145.15921 225.931752 \nL 148.507176 226.140953 \nL 151.855143 226.331551 \nL 155.203109 226.505072 \nL 158.551076 226.662916 \nL 161.899042 226.806376 \nL 165.247009 226.936639 \nL 168.594975 227.054802 \nL 171.942942 227.161875 \nL 175.290908 227.258787 \nL 178.638875 227.3464 \nL 181.986841 227.425503 \nL 185.334808 227.49683 \nL 188.682774 227.561052 \nL 192.030741 227.618792 \nL 195.378707 227.670624 \nL 198.726674 227.717074 \nL 202.074641 227.75863 \nL 205.422607 227.79574 \nL 208.770574 227.828816 \nL 212.11854 227.858238 \nL 215.466507 227.884353 \nL 218.814473 227.907481 \nL 222.16244 227.927917 \nL 225.510406 227.945929 \nL 228.858373 227.961764 \nL 232.206339 227.975646 \nL 235.554306 227.987782 \nL 238.902272 227.998358 \nL 242.250239 228.007546 \nL 245.598205 228.0155 \nL 248.946172 228.022361 \nL 252.294138 228.028257 \nL 255.642105 228.033303 \nL 258.990071 228.037603 \nL 262.338038 228.04125 \nL 265.686004 228.044328 \nL 269.033971 228.046913 \nL 272.381937 228.049071 \nL 275.729904 228.050862 \nL 279.07787 228.052338 \nL 282.425837 228.053547 \nL 285.773804 228.05453 \nL 289.12177 228.055321 \nL 292.469737 228.055954 \nL 295.817703 228.056454 \nL 299.16567 228.056845 \nL 302.513636 228.057148 \nL 305.861603 228.057379 \nL 309.209569 228.057552 \nL 312.557536 228.057681 \nL 315.905502 228.057775 \nL 319.253469 228.057841 \nL 322.601435 228.057887 \nL 325.949402 228.057919 \nL 329.297368 228.057939 \nL 332.645335 228.057952 \nL 335.993301 228.05796 \nL 339.341268 228.057964 \nL 342.689234 228.057967 \nL 346.037201 228.057968 \nL 349.385167 228.057968 \nL 352.733134 228.057969 \nL 356.0811 228.057969 \nL 359.429067 228.057969 \nL 362.777033 228.057969 \n\" style=\"fill:none;stroke:#9467bd;stroke-linecap:square;stroke-width:1.5;\"/>\n   </g>\n   <g id=\"patch_3\">\n    <path d=\"M 31.325 228.057969 \nL 31.325 10.617969 \n\" style=\"fill:none;stroke:#000000;stroke-linecap:square;stroke-linejoin:miter;stroke-width:0.8;\"/>\n   </g>\n   <g id=\"patch_4\">\n    <path d=\"M 366.125 228.057969 \nL 366.125 10.617969 \n\" style=\"fill:none;stroke:#000000;stroke-linecap:square;stroke-linejoin:miter;stroke-width:0.8;\"/>\n   </g>\n   <g id=\"patch_5\">\n    <path d=\"M 31.325 228.057969 \nL 366.125 228.057969 \n\" style=\"fill:none;stroke:#000000;stroke-linecap:square;stroke-linejoin:miter;stroke-width:0.8;\"/>\n   </g>\n   <g id=\"patch_6\">\n    <path d=\"M 31.325 10.617969 \nL 366.125 10.617969 \n\" style=\"fill:none;stroke:#000000;stroke-linecap:square;stroke-linejoin:miter;stroke-width:0.8;\"/>\n   </g>\n   <g id=\"legend_1\">\n    <g id=\"patch_7\">\n     <path d=\"M 293.025 91.217969 \nL 359.125 91.217969 \nQ 361.125 91.217969 361.125 89.217969 \nL 361.125 17.617969 \nQ 361.125 15.617969 359.125 15.617969 \nL 293.025 15.617969 \nQ 291.025 15.617969 291.025 17.617969 \nL 291.025 89.217969 \nQ 291.025 91.217969 293.025 91.217969 \nz\n\" style=\"fill:#ffffff;opacity:0.8;stroke:#cccccc;stroke-linejoin:miter;\"/>\n    </g>\n    <g id=\"line2d_19\">\n     <path d=\"M 295.025 23.617969 \nL 315.025 23.617969 \n\" style=\"fill:none;stroke:#1f77b4;stroke-linecap:square;stroke-width:1.5;\"/>\n    </g>\n    <g id=\"line2d_20\"/>\n    <g id=\"text_16\">\n     <!-- $\\gamma=0$ -->\n     <defs>\n      <path d=\"M 23.296875 46.09375 \nL 28.71875 12.3125 \nL 54 54.6875 \nL 63.53125 54.6875 \nL 30.8125 0 \nL 26.765625 -20.796875 \nL 17.78125 -20.796875 \nL 21.828125 0 \nL 15.4375 40.828125 \nQ 14.453125 46.96875 9.8125 46.96875 \nL 7.421875 46.96875 \nL 8.890625 54.6875 \nL 12.3125 54.6875 \nQ 21.921875 54.6875 23.296875 46.09375 \nz\n\" id=\"DejaVuSans-Oblique-947\"/>\n      <path d=\"M 10.59375 45.40625 \nL 73.1875 45.40625 \nL 73.1875 37.203125 \nL 10.59375 37.203125 \nz\nM 10.59375 25.484375 \nL 73.1875 25.484375 \nL 73.1875 17.1875 \nL 10.59375 17.1875 \nz\n\" id=\"DejaVuSans-61\"/>\n      <path d=\"M 31.78125 66.40625 \nQ 24.171875 66.40625 20.328125 58.90625 \nQ 16.5 51.421875 16.5 36.375 \nQ 16.5 21.390625 20.328125 13.890625 \nQ 24.171875 6.390625 31.78125 6.390625 \nQ 39.453125 6.390625 43.28125 13.890625 \nQ 47.125 21.390625 47.125 36.375 \nQ 47.125 51.421875 43.28125 58.90625 \nQ 39.453125 66.40625 31.78125 66.40625 \nz\nM 31.78125 74.21875 \nQ 44.046875 74.21875 50.515625 64.515625 \nQ 56.984375 54.828125 56.984375 36.375 \nQ 56.984375 17.96875 50.515625 8.265625 \nQ 44.046875 -1.421875 31.78125 -1.421875 \nQ 19.53125 -1.421875 13.0625 8.265625 \nQ 6.59375 17.96875 6.59375 36.375 \nQ 6.59375 54.828125 13.0625 64.515625 \nQ 19.53125 74.21875 31.78125 74.21875 \nz\n\" id=\"DejaVuSans-48\"/>\n     </defs>\n     <g transform=\"translate(323.025 27.117969)scale(0.1 -0.1)\">\n      <use transform=\"translate(0 0.78125)\" xlink:href=\"#DejaVuSans-Oblique-947\"/>\n      <use transform=\"translate(78.662109 0.78125)\" xlink:href=\"#DejaVuSans-61\"/>\n      <use transform=\"translate(181.933594 0.78125)\" xlink:href=\"#DejaVuSans-48\"/>\n     </g>\n    </g>\n    <g id=\"line2d_21\">\n     <path d=\"M 295.025 38.217969 \nL 315.025 38.217969 \n\" style=\"fill:none;stroke:#ff7f0e;stroke-linecap:square;stroke-width:1.5;\"/>\n    </g>\n    <g id=\"line2d_22\"/>\n    <g id=\"text_17\">\n     <!-- $\\gamma=0.5$ -->\n     <defs>\n      <path d=\"M 10.6875 12.40625 \nL 21 12.40625 \nL 21 0 \nL 10.6875 0 \nz\n\" id=\"DejaVuSans-46\"/>\n      <path d=\"M 10.796875 72.90625 \nL 49.515625 72.90625 \nL 49.515625 64.59375 \nL 19.828125 64.59375 \nL 19.828125 46.734375 \nQ 21.96875 47.46875 24.109375 47.828125 \nQ 26.265625 48.1875 28.421875 48.1875 \nQ 40.625 48.1875 47.75 41.5 \nQ 54.890625 34.8125 54.890625 23.390625 \nQ 54.890625 11.625 47.5625 5.09375 \nQ 40.234375 -1.421875 26.90625 -1.421875 \nQ 22.3125 -1.421875 17.546875 -0.640625 \nQ 12.796875 0.140625 7.71875 1.703125 \nL 7.71875 11.625 \nQ 12.109375 9.234375 16.796875 8.0625 \nQ 21.484375 6.890625 26.703125 6.890625 \nQ 35.15625 6.890625 40.078125 11.328125 \nQ 45.015625 15.765625 45.015625 23.390625 \nQ 45.015625 31 40.078125 35.4375 \nQ 35.15625 39.890625 26.703125 39.890625 \nQ 22.75 39.890625 18.8125 39.015625 \nQ 14.890625 38.140625 10.796875 36.28125 \nz\n\" id=\"DejaVuSans-53\"/>\n     </defs>\n     <g transform=\"translate(323.025 41.717969)scale(0.1 -0.1)\">\n      <use transform=\"translate(0 0.78125)\" xlink:href=\"#DejaVuSans-Oblique-947\"/>\n      <use transform=\"translate(78.662109 0.78125)\" xlink:href=\"#DejaVuSans-61\"/>\n      <use transform=\"translate(181.933594 0.78125)\" xlink:href=\"#DejaVuSans-48\"/>\n      <use transform=\"translate(245.556641 0.78125)\" xlink:href=\"#DejaVuSans-46\"/>\n      <use transform=\"translate(277.34375 0.78125)\" xlink:href=\"#DejaVuSans-53\"/>\n     </g>\n    </g>\n    <g id=\"line2d_23\">\n     <path d=\"M 295.025 52.617969 \nL 315.025 52.617969 \n\" style=\"fill:none;stroke:#2ca02c;stroke-linecap:square;stroke-width:1.5;\"/>\n    </g>\n    <g id=\"line2d_24\"/>\n    <g id=\"text_18\">\n     <!-- $\\gamma=1$ -->\n     <defs>\n      <path d=\"M 12.40625 8.296875 \nL 28.515625 8.296875 \nL 28.515625 63.921875 \nL 10.984375 60.40625 \nL 10.984375 69.390625 \nL 28.421875 72.90625 \nL 38.28125 72.90625 \nL 38.28125 8.296875 \nL 54.390625 8.296875 \nL 54.390625 0 \nL 12.40625 0 \nz\n\" id=\"DejaVuSans-49\"/>\n     </defs>\n     <g transform=\"translate(323.025 56.117969)scale(0.1 -0.1)\">\n      <use transform=\"translate(0 0.09375)\" xlink:href=\"#DejaVuSans-Oblique-947\"/>\n      <use transform=\"translate(78.662109 0.09375)\" xlink:href=\"#DejaVuSans-61\"/>\n      <use transform=\"translate(181.933594 0.09375)\" xlink:href=\"#DejaVuSans-49\"/>\n     </g>\n    </g>\n    <g id=\"line2d_25\">\n     <path d=\"M 295.025 67.217969 \nL 315.025 67.217969 \n\" style=\"fill:none;stroke:#d62728;stroke-linecap:square;stroke-width:1.5;\"/>\n    </g>\n    <g id=\"line2d_26\"/>\n    <g id=\"text_19\">\n     <!-- $\\gamma=2$ -->\n     <defs>\n      <path d=\"M 19.1875 8.296875 \nL 53.609375 8.296875 \nL 53.609375 0 \nL 7.328125 0 \nL 7.328125 8.296875 \nQ 12.9375 14.109375 22.625 23.890625 \nQ 32.328125 33.6875 34.8125 36.53125 \nQ 39.546875 41.84375 41.421875 45.53125 \nQ 43.3125 49.21875 43.3125 52.78125 \nQ 43.3125 58.59375 39.234375 62.25 \nQ 35.15625 65.921875 28.609375 65.921875 \nQ 23.96875 65.921875 18.8125 64.3125 \nQ 13.671875 62.703125 7.8125 59.421875 \nL 7.8125 69.390625 \nQ 13.765625 71.78125 18.9375 73 \nQ 24.125 74.21875 28.421875 74.21875 \nQ 39.75 74.21875 46.484375 68.546875 \nQ 53.21875 62.890625 53.21875 53.421875 \nQ 53.21875 48.921875 51.53125 44.890625 \nQ 49.859375 40.875 45.40625 35.40625 \nQ 44.1875 33.984375 37.640625 27.21875 \nQ 31.109375 20.453125 19.1875 8.296875 \nz\n\" id=\"DejaVuSans-50\"/>\n     </defs>\n     <g transform=\"translate(323.025 70.717969)scale(0.1 -0.1)\">\n      <use transform=\"translate(0 0.78125)\" xlink:href=\"#DejaVuSans-Oblique-947\"/>\n      <use transform=\"translate(78.662109 0.78125)\" xlink:href=\"#DejaVuSans-61\"/>\n      <use transform=\"translate(181.933594 0.78125)\" xlink:href=\"#DejaVuSans-50\"/>\n     </g>\n    </g>\n    <g id=\"line2d_27\">\n     <path d=\"M 295.025 81.617969 \nL 315.025 81.617969 \n\" style=\"fill:none;stroke:#9467bd;stroke-linecap:square;stroke-width:1.5;\"/>\n    </g>\n    <g id=\"line2d_28\"/>\n    <g id=\"text_20\">\n     <!-- $\\gamma=5$ -->\n     <g transform=\"translate(323.025 85.117969)scale(0.1 -0.1)\">\n      <use transform=\"translate(0 0.09375)\" xlink:href=\"#DejaVuSans-Oblique-947\"/>\n      <use transform=\"translate(78.662109 0.09375)\" xlink:href=\"#DejaVuSans-61\"/>\n      <use transform=\"translate(181.933594 0.09375)\" xlink:href=\"#DejaVuSans-53\"/>\n     </g>\n    </g>\n   </g>\n  </g>\n </g>\n <defs>\n  <clipPath id=\"p6669b3d065\">\n   <rect height=\"217.44\" width=\"334.8\" x=\"31.325\" y=\"10.617969\"/>\n  </clipPath>\n </defs>\n</svg>\n",
      "text/plain": "<Figure size 432x288 with 1 Axes>"
     },
     "metadata": {
      "needs_background": "light"
     },
     "output_type": "display_data"
    }
   ],
   "source": [
    "import matplotlib.pyplot as plt\n",
    "import numpy as np\n",
    "import math\n",
    "\n",
    "r = 0\n",
    "x = np.linspace(0.00001, 1, num=100,endpoint=False)\n",
    "\n",
    "# plt.figure(figsize=(10,8), facecolor='white')\n",
    "plt.plot(x, -(1-x) ** 0 * np.log10(x), label=\"$\\gamma=0$\")\n",
    "plt.plot(x, -(1-x) ** 0.5 * np.log10(x), label=\"$\\gamma=0.5$\")\n",
    "plt.plot(x, -(1-x) ** 1 * np.log10(x), label=\"$\\gamma=1$\")\n",
    "plt.plot(x, -(1-x) ** 2 * np.log10(x), label=\"$\\gamma=2$\")\n",
    "plt.plot(x, -(1-x) ** 5 * np.log10(x), label=\"$\\gamma=5$\")\n",
    "plt.legend(loc=\"upper right\")\n",
    "plt.xlim((0, 1))\n",
    "plt.ylim((0, 6))\n",
    "plt.xlabel('probility of ground truth class')\n",
    "plt.ylabel('loss')\n",
    "# plt.show()"
   ]
  },
  {
   "cell_type": "markdown",
   "execution_count": null,
   "metadata": {},
   "outputs": [],
   "source": [
    "上图中我们可以看出对于一些Well-classified examples(Easy Examples)虽然他们单个example的loss可以收敛到很小，但是由于它们的数量过于庞大，把一些hard example的loss覆盖掉。导致求和之后他们依然会支配整个批次样本的收敛方向。"
   ]
  },
  {
   "cell_type": "markdown",
   "execution_count": null,
   "metadata": {},
   "outputs": [],
   "source": [
    "一个非常简单的策略是继续缩小easy examples的训练比重，即给每个乘以$(1-p_t)^\\gamma$。因为Easy Example的score $p_t$往往接近于1，那么$(1-p_t)^\\gamma$值会比较小，因此example得到了抑制，相对于hard example得到了放大，如上图的$\\gamma > 0$的那四条曲线。"
   ]
  },
  {
   "cell_type": "markdown",
   "execution_count": null,
   "metadata": {},
   "outputs": [],
   "source": [
    "FL的求导结果如下:\n",
    "$$\\frac{dFL}{dx}=y(1-p_t)^\\gamma(\\gamma p_t log(p_t)+p_t-1)$$"
   ]
  },
  {
   "cell_type": "markdown",
   "execution_count": null,
   "metadata": {},
   "outputs": [],
   "source": [
    "$\\gamma$的值也可以根据验证集来调整，论文中给出的值是2"
   ]
  },
  {
   "cell_type": "markdown",
   "execution_count": null,
   "metadata": {},
   "outputs": [],
   "source": [
    "## 2.3.FL的最终形式"
   ]
  },
  {
   "cell_type": "markdown",
   "execution_count": null,
   "metadata": {},
   "outputs": [],
   "source": [
    "结合$\\alpha$和$\\gamma$就有了最终FL的形式。"
   ]
  },
  {
   "cell_type": "code",
   "execution_count": null,
   "metadata": {
    "collapsed": false,
    "pycharm": {
     "name": "#%%\n"
    }
   },
   "outputs": [],
   "source": [
    "import torch\n",
    "import torch.nn as nn\n",
    "import torch.nn.functional as F\n",
    "from torch.autograd import Variable\n",
    "def one_hot(index, classes):\n",
    "    size = index.size() + (classes,)\n",
    "    view = index.size() + (1,)\n",
    "    mask = torch.Tensor(*size).fill_(0)\n",
    "    index = index.view(*view)\n",
    "    ones = 1.\n",
    "    if isinstance(index, Variable):\n",
    "        ones = Variable(torch.Tensor(index.size()).fill_(1))\n",
    "        mask = Variable(mask, volatile=index.volatile)\n",
    "    return mask.scatter_(1, index, ones)\n",
    "class FocalLoss(nn.Module):\n",
    "    def __init__(self, gamma=0, eps=1e-7):\n",
    "        super(FocalLoss, self).__init__()\n",
    "        self.gamma = gamma\n",
    "        self.eps = eps\n",
    "    def forward(self, input, target):\n",
    "        y = one_hot(target, input.size(-1))\n",
    "        logit = F.softmax(input)\n",
    "        logit = logit.clamp(self.eps, 1. - self.eps)\n",
    "        loss = -1 * y * torch.log(logit) # cross entropy\n",
    "        loss = loss * (1 - logit) ** self.gamma # focal loss\n",
    "        return loss.sum()"
   ]
  }
 ],
 "metadata": {
  "language_info": {
   "codemirror_mode": {
    "name": "ipython",
    "version": 2
   },
   "file_extension": ".py",
   "mimetype": "text/x-python",
   "name": "python",
   "nbconvert_exporter": "python",
   "pygments_lexer": "ipython2",
   "version": "3.6.9"
  },
  "kernelspec": {
   "name": "python3",
   "language": "python",
   "display_name": "Python 3"
  },
  "pycharm": {
   "stem_cell": {
    "cell_type": "raw",
    "source": [],
    "metadata": {
     "collapsed": false
    }
   }
  }
 },
 "nbformat": 4,
 "nbformat_minor": 0
}