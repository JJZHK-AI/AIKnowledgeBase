{
 "cells": [
  {
   "cell_type": "markdown",
   "metadata": {
    "collapsed": true,
    "pycharm": {
     "name": "#%% md\n"
    }
   },
   "source": [
    "目标检测中关于样本不均衡的处理办法\n",
    "==="
   ]
  },
  {
   "cell_type": "markdown",
   "execution_count": null,
   "metadata": {},
   "outputs": [],
   "source": [
    "我们知道目标检测主要包括以Faster RCNN为代表的的两阶段方法，以及以SDD和YOLO为代表的的单阶段办法。虽然单阶段目标检测的速度很快，但是其精度往往比较低，究其原因，主要是样本极度不均衡造成的。"
   ]
  },
  {
   "cell_type": "markdown",
   "execution_count": null,
   "metadata": {},
   "outputs": [],
   "source": [
    "# 1.目标检测中的样本介绍"
   ]
  },
  {
   "cell_type": "markdown",
   "execution_count": null,
   "metadata": {},
   "outputs": [],
   "source": [
    "目标检测中，样本主要包括以下几类："
   ]
  },
  {
   "cell_type": "markdown",
   "execution_count": null,
   "metadata": {},
   "outputs": [],
   "source": [
    "- 正样本：标签区域内的图像区域，即目标图像块\n",
    "- 负样本：标签区域以外的图像区域，即图像背景区域\n",
    "- 易分正样本：容易正确分类的正样本，在实际训练过程中，该类占总体样本的比重非常高，单个样本的损失函数较小，但是累计的损失函数会主导损失函数\n",
    "- 易分负样本：容易正确分类的负样本，在实际训练过程中，该类占的比重非常高，单个样本的损失函数较小，但是累计的损失函数会主导损失函数\n",
    "- 难分正样本：错分成负样本的正样本，这部分样本在训练过程中单个样本的损失函数教高，但是该类占总体样本的比例教小\n",
    "- 难分负样本：错分成正样本的负样本，这部分样本在训练过程中单个样本的损失函数教高，但是该类占总体样本的比例教小"
   ]
  },
  {
   "cell_type": "markdown",
   "execution_count": null,
   "metadata": {},
   "outputs": [],
   "source": [
    "# 2.样本不均衡问题"
   ]
  },
  {
   "cell_type": "markdown",
   "execution_count": null,
   "metadata": {},
   "outputs": [],
   "source": [
    "所谓的样本不平衡问题是指在训练的时候各个类别的样本数量极不均衡。以基于深度学习的单阶段目标检测为例，样本类别不均衡主要体现在两方面：正负样本不均衡（正负样本比例达到1:1000）和难易样本不均衡（简单样本主导loss）．一般在目标检测任务框架中，保持正负样本的比例为1:3（经验值）。对于一个样本，如果它能很容易地被正确分类，那么这个样本对模型来说就是一个简单样本，模型很难从这个样本中得到更多的信息；而对于一个分错的样本，它对模型来说就是一个困难的样本，它更能指导模型优化的方向。对于单阶段分类器来说，简单样本的数量非常大，他们产生的累计贡献在模型更新中占主导作用，而这部分样本本身就能被模型很好地分类，所以这部分的参数更新并不会改善模型的判断能力，这会导致整个训练变得低效。"
   ]
  },
  {
   "cell_type": "markdown",
   "execution_count": null,
   "metadata": {},
   "outputs": [],
   "source": [
    "## 2.1.正样本(Postive Example)和负样本(Negative Example)的不平衡"
   ]
  },
  {
   "cell_type": "markdown",
   "execution_count": null,
   "metadata": {},
   "outputs": [],
   "source": [
    "Negative example的数量过多，导致Postive example的loss被覆盖，就算Postive example的loss非常大也会被数量庞大的negative example中和掉，这这些positive example往往是我们要检测的前景区域"
   ]
  },
  {
   "cell_type": "markdown",
   "execution_count": null,
   "metadata": {},
   "outputs": [],
   "source": [
    "## 2.2.难样本(Hard Example)和易样本(Easy Example)的不平衡"
   ]
  },
  {
   "cell_type": "markdown",
   "execution_count": null,
   "metadata": {},
   "outputs": [],
   "source": [
    "Hard example往往是前景和背景区域的过渡部分，因为这些样本很难区分，所以叫做Hard Example。剩下的那些Easy example往往很好计算，导致模型非常容易就收敛了。但是损失函数收敛了并不代表模型效果好，因为我们其实更需要把那些hard example训练好。"
   ]
  },
  {
   "cell_type": "markdown",
   "execution_count": null,
   "metadata": {},
   "outputs": [],
   "source": [
    "![Images](Images/03/02/03_04_001.jpg)"
   ]
  },
  {
   "cell_type": "markdown",
   "execution_count": null,
   "metadata": {},
   "outputs": [],
   "source": [
    "# 3.样本不均衡的处理办法"
   ]
  },
  {
   "cell_type": "markdown",
   "execution_count": null,
   "metadata": {},
   "outputs": [],
   "source": [
    "## 3.1.HNM(Hard Negative Mining-困难负样本挖掘)"
   ]
  },
  {
   "cell_type": "markdown",
   "execution_count": null,
   "metadata": {},
   "outputs": [],
   "source": [
    "难例挖掘的思想可以解决很多样本不均衡和简单样本过多的问题。将难例丢进数据集例，重新放入到网络中，就好像给网络准备一个错题集，哪里不会就重点做哪里。从名字上可以看出HNM只关注负样本，而OHEM则注意所有难例，不论正负。"
   ]
  },
  {
   "cell_type": "markdown",
   "execution_count": null,
   "metadata": {},
   "outputs": [],
   "source": [
    "### 3.1.1.为何要有难例挖掘这种东西？"
   ]
  },
  {
   "cell_type": "markdown",
   "execution_count": null,
   "metadata": {},
   "outputs": [],
   "source": [
    "我们知道，目标检测的输出个数是未知的，除了Ground truth训练时，模型永远无法百分百确信自己要在一张图上预测多少物体。所以目标检测问题的难点之一就是提高召回率。召回率是模型找到所有某类目标的能力(所有标注的真实边界框有多少被预测出来了)。检测时按照是否检出边界框与边界框是否存在，可以分为下表四种情况："
   ]
  },
  {
   "cell_type": "markdown",
   "execution_count": null,
   "metadata": {},
   "outputs": [],
   "source": [
    "|    | 检测出边界框 | 未检测出边界框 |\n",
    "| -- | ---------- | ----------- |\n",
    "| 边界框存在 | TP-真阳性 | FN-假阴性 |\n",
    "| 边界框不存在 | FP-误报 | TN-真阴性 |"
   ]
  },
  {
   "cell_type": "markdown",
   "execution_count": null,
   "metadata": {},
   "outputs": [],
   "source": [
    "$$Recall=\\frac{TP}{TP + FN}$$"
   ]
  },
  {
   "cell_type": "markdown",
   "execution_count": null,
   "metadata": {},
   "outputs": [],
   "source": [
    "为了提高这个值，很直观的想法是“宁肯错杀一千，绝不放过一个”。因此在目标检测中，模型往往会提出远高于实际数量的区域提议（Region Proposal，SSD等one-stage的Anchor也可以看作一种区域提议）。但此时就会遇到一个问题，因为区域提议实在太多，导致在训练时绝大部分都是负样本，这导致了大量无意义负样本的梯度“淹没”了有意义的正样本。据统计，通常包含少量信息的Easy Example(通常是负样本),与包含有用信息的Hard Example(正样本+难负样本)之比是100000：100，这导致这些简单例的损失函数值将是难例损失函数的40倍！如下图所示\n",
    "![Images](Images/03/02/03_04_002.jpg)"
   ]
  },
  {
   "cell_type": "markdown",
   "execution_count": null,
   "metadata": {},
   "outputs": [],
   "source": [
    "因此，为了让模型正常训练，我们必须要通过某种方法抑制大量的简单负例，挖掘所有难例的信息，这就是难例挖掘的初衷。难负例挖掘（Hard Negative Mining）就是在训练时，尽量多挖掘些难负例（hard negative)加入负样本集，这样会比easy negative组成的负样本集效果更好。"
   ]
  },
  {
   "cell_type": "markdown",
   "execution_count": null,
   "metadata": {},
   "outputs": [],
   "source": [
    "### 3.1.2.R-CNN中的Hard Negative Mining"
   ]
  },
  {
   "cell_type": "markdown",
   "execution_count": null,
   "metadata": {},
   "outputs": [],
   "source": [
    "RCNN中的难负例挖掘采用了自举法(bootstrap)的方法"
   ]
  },
  {
   "cell_type": "markdown",
   "execution_count": null,
   "metadata": {},
   "outputs": [],
   "source": [
    "- 先用初始的正负样本训练分类器（此时为了平衡数据，使用的负样本也只是所有负样本的子集），用训练好的分类器对样本进行分类,把其中错误分类的那些样本(hard negative)放入负样本子集，\n",
    "- 再继续训练分类器\n",
    "- 如此反复,直到达到停止条件(比如分类器性能不再提升)."
   ]
  },
  {
   "cell_type": "markdown",
   "execution_count": null,
   "metadata": {},
   "outputs": [],
   "source": [
    "也就是说，RCNN的Hard Negative Mining相当于给模型定制一个错题集，在每轮训练中不断“记错题”，并把错题集加入到下一轮训练中，直到网络效果不能上升为止。"
   ]
  },
  {
   "cell_type": "markdown",
   "execution_count": null,
   "metadata": {},
   "outputs": [],
   "source": [
    "1. 如果首次负例采样，直接获取IOU<0.3的region作为负例，用于后面训练SVM分类器\n",
    "2. 如果不是首次负例采样，先用当前更新过的SVM分类器预测region，然后按照下面两个条件过滤负例\n",
    "   - 负例，即最大IOU小于阈值\n",
    "   - 分类错误，既然是负例，那么SVM计算值小于1"
   ]
  },
  {
   "cell_type": "markdown",
   "execution_count": null,
   "metadata": {},
   "outputs": [],
   "source": [
    "### 3.1.3.Fast RCNN中的Hard Negative Mining"
   ]
  },
  {
   "cell_type": "markdown",
   "execution_count": null,
   "metadata": {},
   "outputs": [],
   "source": [
    "IOU阈值+随机采样"
   ]
  },
  {
   "cell_type": "markdown",
   "execution_count": null,
   "metadata": {},
   "outputs": [],
   "source": [
    "### 3.1.4.SSD中的Hard Negative Mining"
   ]
  },
  {
   "cell_type": "markdown",
   "execution_count": null,
   "metadata": {},
   "outputs": [],
   "source": [
    "由于大多数边界框的IOU都比较低，会被认为是负样本，因此训练集可能会出现正负样本的不均衡。因此建议不要使用所有负样本，而是要保持正负样本1:3的比例。那么就需要过滤掉一些负样本，过滤的方法是抽样时按照置信度误差进行降序排列，选取误差较大的top-k作为训练的负样本，保证正负样本比例接近于1:3的比例。那么就需要过滤掉一些负样本，过滤的方法是抽样时按照置信度误差进行降序排列，选取误差较大的top-k作为训练的负样本，保证正负样本比例接近于1:3。"
   ]
  },
  {
   "cell_type": "markdown",
   "execution_count": null,
   "metadata": {},
   "outputs": [],
   "source": [
    "## 3.2.OHEM(Online Hard Example Mining-在线困难样本挖掘)"
   ]
  },
  {
   "cell_type": "markdown",
   "execution_count": null,
   "metadata": {},
   "outputs": [],
   "source": [
    "OHEM算法主要是针对训练过程中的困难样本自动选择，其核心思想是根据输入样本的损失进行筛选，筛选出困难样本(即对分类和检测影响较大的样本),然后将筛选得到的这些样本应用在随机梯度下降中训练。该算法主要应用于Fast RCNN中。"
   ]
  },
  {
   "cell_type": "markdown",
   "execution_count": null,
   "metadata": {},
   "outputs": [],
   "source": [
    "我们知道Fast RCNN主要包括两个部分"
   ]
  },
  {
   "cell_type": "markdown",
   "execution_count": null,
   "metadata": {},
   "outputs": [],
   "source": [
    "1. 卷积网络：主要有多个卷积层和max pooling层组成\n",
    "2. ROI Pooling网络：主要包括ROI Pooling层，一些全连接层和两个损失层"
   ]
  },
  {
   "cell_type": "markdown",
   "execution_count": null,
   "metadata": {},
   "outputs": [],
   "source": [
    "在之前的HNM中，都必须先结束一轮训练，有点事后诸葛亮的感觉。用子网络对RoI Proposal预测的分数，来决定每个batch选用的样本，这样，输入子网络的RoI Proposal总为表现不好的样本，提高了监督学习的效率。具体来说，在实际操作中是将原来的一个ROI Network扩充为两个ROI Network，这两个ROI Network共享参数。其中前面一个ROI Network只有前向操作，主要用于计算损失；后面一个ROI Network包括前向和后向操作，以hard example作为输入，计算损失并回传梯度"
   ]
  },
  {
   "cell_type": "markdown",
   "execution_count": null,
   "metadata": {},
   "outputs": [],
   "source": [
    "![Images](Images/03/02/03_04_003.jpg)"
   ]
  },
  {
   "cell_type": "markdown",
   "execution_count": null,
   "metadata": {},
   "outputs": [],
   "source": [
    "具体来说，上面一个ROI Network是自读的，为所有的ROI在前向传递的时候分配空间。下面的ROI Network则同时为前向和后向分配空间。"
   ]
  },
  {
   "cell_type": "markdown",
   "execution_count": null,
   "metadata": {},
   "outputs": [],
   "source": [
    "- ROI经过ROI Pooling Layer之后生成Feature Maps，然后进入只读ROI Network得到所有ROI的Loss\n",
    "- Hard ROI Sampler结构根据损失排序选出Hard Example\n",
    "- 将Hard Example放入下层的ROI Network"
   ]
  },
  {
   "cell_type": "markdown",
   "execution_count": null,
   "metadata": {},
   "outputs": [],
   "source": [
    "实际训练的时候，每个mini-batch包含$N$个图像，共$R$个ROI，也就是每张图像包含$\\frac{R}{N}$个ROI。经过hard ROI sampler筛选后得到$B$个hard example。作者在文中采用$N=2,R=4000,B=128$。\n",
    "另外关于正负样本的选择：当一个ROI和一个ground truth的IOU大于0.5，则为正样本；当一个ROI和所有ground truth的IOU的最大值小于0.5时为负样本。"
   ]
  },
  {
   "cell_type": "markdown",
   "execution_count": null,
   "metadata": {},
   "outputs": [],
   "source": [
    "- 优点:对于数据的类别不平衡问题不需要采用设置正负样本比例的方式来解决，这种在线选择方式针对性更强；\n",
    "- 优点:随着数据集的增大，算法的提升更加明显；\n",
    "- 缺点:只保留loss较高的样本，完全忽略简单的样本，这本质上是改变了训练时的输入分布（仅包含困难样本），这会导致模型在学习的时候失去对简单样本的判别能力．"
   ]
  },
  {
   "cell_type": "code",
   "execution_count": 1,
   "metadata": {},
   "outputs": [],
   "source": [
    "import torch\n",
    "\n",
    "class OHEM_LOSS(torch.nn.Module):\n",
    "    def __init__(smooth_l1_sigma=1.0):\n",
    "        super(OHEM_LOSS, self).__init__()\n",
    "        self.smooth_l1_sigma = smooth_l1_sigma\n",
    "    \n",
    "    def forward(self, cls_pred, cls_target, loc_pred, loc_target):\n",
    "        batch_size = cls_pred.shape[0]\n",
    "        ohem_cls_loss = F.cross_entropy(cls_pred, cls_target, reduction='none', ignore_index=-1)\n",
    "        ohem_loc_loss = smooth_l1_loss(loc_pred, loc_target, sigma=smooth_l1_sigma, reduce=False)\n",
    "        #这里先暂存下正常的分类loss和回归loss\n",
    "        loss = ohem_cls_loss + ohem_loc_loss\n",
    "        #然后对分类和回归loss求和\n",
    "    \n",
    "        sorted_ohem_loss, idx = torch.sort(loss, descending=True)\n",
    "        #再对loss进行降序排列\n",
    "        keep_num = min(sorted_ohem_loss.size()[0], batch_size)\n",
    "        #得到需要保留的loss数量\n",
    "        if keep_num < sorted_ohem_loss.size()[0]:\n",
    "        #这句的作用是如果保留数目小于现有loss总数，则进行筛选保留，否则全部保留\n",
    "            keep_idx_cuda = idx[:keep_num]\n",
    "            #保留到需要keep的数目\n",
    "            ohem_cls_loss = ohem_cls_loss[keep_idx_cuda]\n",
    "            ohem_loc_loss = ohem_loc_loss[keep_idx_cuda]\n",
    "            #分类和回归保留相同的数目\n",
    "        cls_loss = ohem_cls_loss.sum() / keep_num\n",
    "        loc_loss = ohem_loc_loss.sum() / keep_num\n",
    "        #然后分别对分类和回归loss求均值\n",
    "\n",
    "        return cls_loss, loc_loss\n"
   ]
  },
  {
   "cell_type": "markdown",
   "execution_count": null,
   "metadata": {},
   "outputs": [],
   "source": [
    "## 3.3.S-OHEM(基于Loss分布采样的在线困难样本挖掘)"
   ]
  },
  {
   "cell_type": "markdown",
   "execution_count": null,
   "metadata": {},
   "outputs": [],
   "source": [
    "### 3.3.1.原生OHEM存在的问题"
   ]
  },
  {
   "cell_type": "markdown",
   "execution_count": null,
   "metadata": {},
   "outputs": [],
   "source": [
    "假设给定$RoI_A$和$RoI_B$，其对应的分类和边框回归损失分别为"
   ]
  },
  {
   "cell_type": "markdown",
   "execution_count": null,
   "metadata": {},
   "outputs": [],
   "source": [
    "|    | $L_{cls}$ | $L_{loc}$ | Total |\n",
    "| -- | --------- | --------- | ----- |\n",
    "| A  |   0.21    |   0.11    |  0.32 |\n",
    "| B  |   0.19    |   0.12    |  0.31 |"
   ]
  },
  {
   "cell_type": "markdown",
   "execution_count": null,
   "metadata": {},
   "outputs": [],
   "source": [
    "如果按照原生的OHEM(假定各损失函数权重相同)，此时$RoI_A$的总体loss大于$RoI_B$，也就是说A相对于B更难分类；而实际上单从分类损失函数(交叉熵)，$RoI_A$和$RoI_B$的实际类别概率分别是61.6%和64.5%，在类别概率上两者只相差0.031，可以认为A和B具有相同的性能;单从边框损失函数(Smooth L1)，虽然A和B的损失函数之相差0.01，但这个微小的差会导致预测边框和groudtruth有0.14的差距，此时，B相对于A更难分类，因此单从top-N损失函数来筛选困难样本是不可靠的．"
   ]
  },
  {
   "cell_type": "markdown",
   "execution_count": null,
   "metadata": {},
   "outputs": [],
   "source": [
    "### 3.3.2.S-OHEM"
   ]
  },
  {
   "cell_type": "markdown",
   "execution_count": null,
   "metadata": {},
   "outputs": [],
   "source": [
    "S-OHEM根据loss的分布抽样训练样本,它的做法是将预设loss的四个分段:$(highL_{cls}, highL_{loc}, f_1),(highL_{cls}, lowL_{loc}, f_2),(lowL_{cls}, highL_{loc}, f_3),(lowL_{cls}, lowL_{loc}, f_4)$。给定一个batch，先生成输入batch中所有图像的候选RoI，再将这些RoI送入到Read only RoI网络得到RoIs的损失，然后将每个RoI根据损失划分到上面四个分段中，然后针对每个分段，通过排序筛选困难样本．再将经过筛选的RoIs送入反向传播，用于更新网络参数．"
   ]
  },
  {
   "cell_type": "markdown",
   "execution_count": null,
   "metadata": {},
   "outputs": [],
   "source": [
    "注意这里的损失是一个组合，具体公式为\n",
    "$$L_{select}=\\alpha \\times L_{cls} + \\beta \\times L_{loc}$$\n",
    "$\\alpha,\\beta$随着训练阶段变化而变化；之所以采用这个公式是因为在训练初期阶段，分类损失占主导作用；在训练后期阶段，边框回归损失函数占主导作用\n",
    "![Images](Images/03/02/03_04_004.jpg)"
   ]
  },
  {
   "cell_type": "markdown",
   "execution_count": null,
   "metadata": {},
   "outputs": [],
   "source": [
    "- 优点：相比原生OHEM，S-OHEM考虑了基于不同损失函数的分布来抽样选择困难样本，避免了仅使用高损失的样本来更新模型参数．\n",
    "- 缺点：因为不同阶段，分类损失和定位损失的贡献不同，所以选择损失中的两个参数$\\alpha,\\beta$需要根据不同训练阶段进行改变，当应用与不同数据集时，参数的选取也是不一样的．即引入了额外的超参数"
   ]
  },
  {
   "cell_type": "markdown",
   "execution_count": null,
   "metadata": {},
   "outputs": [],
   "source": [
    "## 3.4.A-Fast-RCNN(基于对抗生成网络的方式来生成困难样本)"
   ]
  },
  {
   "cell_type": "markdown",
   "execution_count": null,
   "metadata": {},
   "outputs": [],
   "source": [
    "从更好的利用数据的角度出发，OHEM和S-OHEM都是发现困难样本，而A-Fast-RCNN则是通过GAN的方式在特征空间产生具有部分遮挡和形变的困难样本，而这部分样本数据很难出现在实际训练数据集中。"
   ]
  },
  {
   "cell_type": "markdown",
   "execution_count": null,
   "metadata": {},
   "outputs": [],
   "source": [
    "## 3.5.Focal Loss(损失函数的权重调整)"
   ]
  },
  {
   "cell_type": "markdown",
   "execution_count": null,
   "metadata": {},
   "outputs": [],
   "source": [
    "针对OHEM算法中忽略易分样本的问题，提出了一种新的损失函数Focal Loss，它是在标准交叉熵损失基础上修改得到的，基于交叉熵提出了一个新的损失函数Focal Loss(FL)\n",
    "$$FL(p_t)=-\\alpha_t(1-p_t)^\\gamma log(p_t)$$"
   ]
  },
  {
   "cell_type": "markdown",
   "execution_count": null,
   "metadata": {},
   "outputs": [],
   "source": [
    "FL是一个尺度动态可调的交叉熵损失函数，在FL中有两个参数$\\alpha_t$和$\\gamma$，其中$\\alpha_t$的主要作用是解决正负样本的不平衡问题，$\\gamma$主要是解决难易样本不平衡的问题。Focal Loss是交叉熵损失的改进版本，一个二分类交叉熵可以表示为：\n",
    "$$CE(p,y)=\\begin{cases}\n",
    "-log(p) & y=1 \\\\\n",
    "-log(1-p) & otherwise\n",
    "\\end{cases}$$"
   ]
  },
  {
   "cell_type": "markdown",
   "execution_count": null,
   "metadata": {},
   "outputs": [],
   "source": [
    "上面公式可以简写成\n",
    "$$CE(p,y)=CE(p_t)=-log(p_t)$$"
   ]
  },
  {
   "cell_type": "markdown",
   "execution_count": null,
   "metadata": {},
   "outputs": [],
   "source": [
    "其中\n",
    "$$p_t=\\begin{cases}\n",
    "p & y=1 \\\\\n",
    "1-p & otherwise\n",
    "\\end{cases}$$"
   ]
  },
  {
   "cell_type": "markdown",
   "execution_count": null,
   "metadata": {},
   "outputs": [],
   "source": [
    "### 3.5.1.$\\alpha$解决正负样本不平衡"
   ]
  },
  {
   "cell_type": "markdown",
   "execution_count": null,
   "metadata": {},
   "outputs": [],
   "source": [
    "平衡交叉熵的提出是为了解决正负样本不平衡的问题。它的原理很简单，为正负样本分配不同的权重比值$\\alpha \\in [0,1]$，取值如下"
   ]
  },
  {
   "cell_type": "markdown",
   "execution_count": null,
   "metadata": {},
   "outputs": [],
   "source": [
    "$$\\alpha_t=\\begin{cases}\n",
    "\\alpha & y=1 \\\\\n",
    "1-\\alpha & otherwise\n",
    "\\end{cases}$$"
   ]
  },
  {
   "cell_type": "markdown",
   "execution_count": null,
   "metadata": {},
   "outputs": [],
   "source": [
    "那么这个$\\alpha$平衡交叉熵损失可以表示为$CE(p_t)=-\\alpha_t log(p_t)$"
   ]
  },
  {
   "cell_type": "markdown",
   "execution_count": null,
   "metadata": {},
   "outputs": [],
   "source": [
    "$\\alpha$的值往往需要根据验证集进行调整，论文中给出的是$0.25$"
   ]
  },
  {
   "cell_type": "markdown",
   "execution_count": null,
   "metadata": {},
   "outputs": [],
   "source": [
    "### 3.5.2.$\\gamma$解决难易样本的不平衡"
   ]
  },
  {
   "cell_type": "markdown",
   "execution_count": null,
   "metadata": {},
   "outputs": [],
   "source": [
    "FL中$\\gamma$的引入是为了解决难易样本不平衡的问题的"
   ]
  },
  {
   "cell_type": "code",
   "execution_count": 15,
   "metadata": {},
   "outputs": [
    {
     "data": {
      "image/png": "[encoded data removed]",
      "image/svg+xml": "<?xml version=\"1.0\" encoding=\"utf-8\" standalone=\"no\"?>\n<!DOCTYPE svg PUBLIC \"-//W3C//DTD SVG 1.1//EN\"\n  \"http://www.w3.org/Graphics/SVG/1.1/DTD/svg11.dtd\">\n<!-- Created with matplotlib (https://matplotlib.org/) -->\n<svg height=\"480.026094pt\" version=\"1.1\" viewBox=\"0 0 604.025 480.026094\" width=\"604.025pt\" xmlns=\"http://www.w3.org/2000/svg\" xmlns:xlink=\"http://www.w3.org/1999/xlink\">\n <defs>\n  <style type=\"text/css\">\n*{stroke-linecap:butt;stroke-linejoin:round;}\n  </style>\n </defs>\n <g id=\"figure_1\">\n  <g id=\"patch_1\">\n   <path d=\"M 0 480.026094 \nL 604.025 480.026094 \nL 604.025 0 \nL 0 0 \nz\n\" style=\"fill:#ffffff;\"/>\n  </g>\n  <g id=\"axes_1\">\n   <g id=\"patch_2\">\n    <path d=\"M 31.325 445.497969 \nL 589.325 445.497969 \nL 589.325 10.617969 \nL 31.325 10.617969 \nz\n\" style=\"fill:#ffffff;\"/>\n   </g>\n   <g id=\"matplotlib.axis_1\">\n    <g id=\"xtick_1\">\n     <g id=\"line2d_1\">\n      <defs>\n       <path d=\"M 0 0 \nL 0 3.5 \n\" id=\"mb982c16549\" style=\"stroke:#000000;stroke-width:0.8;\"/>\n      </defs>\n      <g>\n       <use style=\"stroke:#000000;stroke-width:0.8;\" x=\"31.325\" xlink:href=\"#mb982c16549\" y=\"445.497969\"/>\n      </g>\n     </g>\n     <g id=\"text_1\">\n      <!-- 0.0 -->\n      <defs>\n       <path d=\"M 46.484375 35.15625 \nQ 46.484375 21.09375 41.40625 10.9375 \nQ 36.328125 0.78125 25 0.78125 \nQ 13.671875 0.78125 8.390625 10.9375 \nQ 3.125 21.09375 3.125 35.15625 \nQ 3.125 49.21875 8.390625 59.171875 \nQ 13.671875 69.140625 25 69.140625 \nQ 36.328125 69.140625 41.40625 59.171875 \nQ 46.484375 49.21875 46.484375 35.15625 \nz\nM 37.109375 35.15625 \nQ 37.109375 47.65625 34.171875 54.6875 \nQ 31.25 61.71875 25 61.71875 \nQ 18.75 61.71875 15.625 54.6875 \nQ 12.5 47.65625 12.5 35.15625 \nQ 12.5 22.65625 15.625 15.421875 \nQ 18.75 8.203125 25 8.203125 \nQ 31.25 8.203125 34.171875 15.421875 \nQ 37.109375 22.65625 37.109375 35.15625 \nz\n\" id=\"SimHei-48\"/>\n       <path d=\"M 17.1875 1.5625 \nL 8.203125 1.5625 \nL 8.203125 10.15625 \nL 17.1875 10.15625 \nz\n\" id=\"SimHei-46\"/>\n      </defs>\n      <g transform=\"translate(23.825 459.333906)scale(0.1 -0.1)\">\n       <use xlink:href=\"#SimHei-48\"/>\n       <use x=\"50\" xlink:href=\"#SimHei-46\"/>\n       <use x=\"100\" xlink:href=\"#SimHei-48\"/>\n      </g>\n     </g>\n    </g>\n    <g id=\"xtick_2\">\n     <g id=\"line2d_2\">\n      <g>\n       <use style=\"stroke:#000000;stroke-width:0.8;\" x=\"142.925\" xlink:href=\"#mb982c16549\" y=\"445.497969\"/>\n      </g>\n     </g>\n     <g id=\"text_2\">\n      <!-- 0.2 -->\n      <defs>\n       <path d=\"M 44.53125 1.5625 \nL 4.6875 1.5625 \nL 4.6875 7.8125 \nQ 7.03125 14.0625 11.125 19.328125 \nQ 15.234375 24.609375 23.046875 31.25 \nQ 28.90625 36.328125 31.4375 40.625 \nQ 33.984375 44.921875 33.984375 50 \nQ 33.984375 55.078125 31.828125 58.390625 \nQ 29.6875 61.71875 25 61.71875 \nQ 21.09375 61.71875 18.15625 58.203125 \nQ 15.234375 54.6875 15.234375 45.703125 \nL 6.25 45.703125 \nQ 6.640625 57.03125 11.515625 63.078125 \nQ 16.40625 69.140625 25.390625 69.140625 \nQ 33.984375 69.140625 38.671875 63.859375 \nQ 43.359375 58.59375 43.359375 49.609375 \nQ 43.359375 42.1875 39.0625 36.71875 \nQ 34.765625 31.25 28.515625 25.78125 \nQ 21.484375 19.53125 18.75 16.40625 \nQ 16.015625 13.28125 13.671875 8.984375 \nL 44.53125 8.984375 \nz\n\" id=\"SimHei-50\"/>\n      </defs>\n      <g transform=\"translate(135.425 459.333906)scale(0.1 -0.1)\">\n       <use xlink:href=\"#SimHei-48\"/>\n       <use x=\"50\" xlink:href=\"#SimHei-46\"/>\n       <use x=\"100\" xlink:href=\"#SimHei-50\"/>\n      </g>\n     </g>\n    </g>\n    <g id=\"xtick_3\">\n     <g id=\"line2d_3\">\n      <g>\n       <use style=\"stroke:#000000;stroke-width:0.8;\" x=\"254.525\" xlink:href=\"#mb982c16549\" y=\"445.497969\"/>\n      </g>\n     </g>\n     <g id=\"text_3\">\n      <!-- 0.4 -->\n      <defs>\n       <path d=\"M 46.484375 18.75 \nL 38.28125 18.75 \nL 38.28125 1.5625 \nL 29.296875 1.5625 \nL 29.296875 18.75 \nL 3.125 18.75 \nL 3.125 26.171875 \nL 29.296875 69.140625 \nL 38.28125 69.140625 \nL 38.28125 26.171875 \nL 46.484375 26.171875 \nz\nM 29.296875 26.171875 \nL 29.296875 55.078125 \nL 11.71875 26.171875 \nz\n\" id=\"SimHei-52\"/>\n      </defs>\n      <g transform=\"translate(247.025 459.333906)scale(0.1 -0.1)\">\n       <use xlink:href=\"#SimHei-48\"/>\n       <use x=\"50\" xlink:href=\"#SimHei-46\"/>\n       <use x=\"100\" xlink:href=\"#SimHei-52\"/>\n      </g>\n     </g>\n    </g>\n    <g id=\"xtick_4\">\n     <g id=\"line2d_4\">\n      <g>\n       <use style=\"stroke:#000000;stroke-width:0.8;\" x=\"366.125\" xlink:href=\"#mb982c16549\" y=\"445.497969\"/>\n      </g>\n     </g>\n     <g id=\"text_4\">\n      <!-- 0.6 -->\n      <defs>\n       <path d=\"M 44.53125 24.21875 \nQ 44.53125 13.28125 39.84375 7.03125 \nQ 35.15625 0.78125 25.78125 0.78125 \nQ 16.40625 0.78125 10.9375 8.59375 \nQ 5.46875 16.40625 5.46875 33.984375 \nQ 5.46875 50 11.125 59.5625 \nQ 16.796875 69.140625 27.34375 69.140625 \nQ 34.765625 69.140625 39.25 63.671875 \nQ 43.75 58.203125 43.75 51.5625 \nL 34.765625 51.5625 \nQ 34.765625 55.46875 32.609375 58.59375 \nQ 30.46875 61.71875 26.953125 61.71875 \nQ 21.09375 61.71875 17.96875 55.65625 \nQ 14.84375 49.609375 14.453125 37.109375 \nQ 17.1875 42.1875 20.3125 44.140625 \nQ 23.4375 46.09375 27.734375 46.09375 \nQ 35.15625 46.09375 39.84375 40.234375 \nQ 44.53125 34.375 44.53125 24.21875 \nz\nM 35.15625 24.21875 \nQ 35.15625 31.25 32.8125 35.15625 \nQ 30.46875 39.0625 26.171875 39.0625 \nQ 21.09375 39.0625 18.15625 35.15625 \nQ 15.234375 31.25 15.234375 25.78125 \nQ 15.234375 17.1875 18.15625 12.5 \nQ 21.09375 7.8125 26.171875 7.8125 \nQ 29.6875 7.8125 32.421875 11.328125 \nQ 35.15625 14.84375 35.15625 24.21875 \nz\n\" id=\"SimHei-54\"/>\n      </defs>\n      <g transform=\"translate(358.625 459.333906)scale(0.1 -0.1)\">\n       <use xlink:href=\"#SimHei-48\"/>\n       <use x=\"50\" xlink:href=\"#SimHei-46\"/>\n       <use x=\"100\" xlink:href=\"#SimHei-54\"/>\n      </g>\n     </g>\n    </g>\n    <g id=\"xtick_5\">\n     <g id=\"line2d_5\">\n      <g>\n       <use style=\"stroke:#000000;stroke-width:0.8;\" x=\"477.725\" xlink:href=\"#mb982c16549\" y=\"445.497969\"/>\n      </g>\n     </g>\n     <g id=\"text_5\">\n      <!-- 0.8 -->\n      <defs>\n       <path d=\"M 44.921875 20.703125 \nQ 44.921875 10.9375 39.453125 5.859375 \nQ 33.984375 0.78125 24.609375 0.78125 \nQ 15.234375 0.78125 9.765625 5.859375 \nQ 4.296875 10.9375 4.296875 20.703125 \nQ 4.296875 25.78125 7.421875 29.875 \nQ 10.546875 33.984375 16.015625 35.9375 \nQ 11.328125 37.890625 8.78125 41.40625 \nQ 6.25 44.921875 6.25 50.390625 \nQ 6.25 58.984375 11.71875 64.0625 \nQ 17.1875 69.140625 24.609375 69.140625 \nQ 32.03125 69.140625 37.5 64.0625 \nQ 42.96875 58.984375 42.96875 50.390625 \nQ 42.96875 44.921875 40.421875 41.40625 \nQ 37.890625 37.890625 33.203125 35.9375 \nQ 38.671875 33.984375 41.796875 29.875 \nQ 44.921875 25.78125 44.921875 20.703125 \nz\nM 34.375 50.390625 \nQ 34.375 56.640625 31.640625 59.375 \nQ 28.90625 62.109375 24.609375 62.109375 \nQ 20.3125 62.109375 17.578125 59.375 \nQ 14.84375 56.640625 14.84375 50.390625 \nQ 14.84375 44.140625 17.765625 41.59375 \nQ 20.703125 39.0625 24.609375 39.0625 \nQ 28.515625 39.0625 31.4375 41.59375 \nQ 34.375 44.140625 34.375 50.390625 \nz\nM 35.9375 20.703125 \nQ 35.9375 26.171875 33 29.296875 \nQ 30.078125 32.421875 24.609375 32.421875 \nQ 19.140625 32.421875 16.203125 29.296875 \nQ 13.28125 26.171875 13.28125 20.703125 \nQ 13.28125 14.453125 16.40625 11.125 \nQ 19.53125 7.8125 24.609375 7.8125 \nQ 29.6875 7.8125 32.8125 11.125 \nQ 35.9375 14.453125 35.9375 20.703125 \nz\n\" id=\"SimHei-56\"/>\n      </defs>\n      <g transform=\"translate(470.225 459.333906)scale(0.1 -0.1)\">\n       <use xlink:href=\"#SimHei-48\"/>\n       <use x=\"50\" xlink:href=\"#SimHei-46\"/>\n       <use x=\"100\" xlink:href=\"#SimHei-56\"/>\n      </g>\n     </g>\n    </g>\n    <g id=\"xtick_6\">\n     <g id=\"line2d_6\">\n      <g>\n       <use style=\"stroke:#000000;stroke-width:0.8;\" x=\"589.325\" xlink:href=\"#mb982c16549\" y=\"445.497969\"/>\n      </g>\n     </g>\n     <g id=\"text_6\">\n      <!-- 1.0 -->\n      <defs>\n       <path d=\"M 30.46875 1.5625 \nL 21.484375 1.5625 \nL 21.484375 53.515625 \nL 9.765625 53.515625 \nL 9.765625 58.203125 \nQ 16.796875 58.203125 20.703125 60.9375 \nQ 24.609375 63.671875 25.78125 69.140625 \nL 30.46875 69.140625 \nz\n\" id=\"SimHei-49\"/>\n      </defs>\n      <g transform=\"translate(581.825 459.333906)scale(0.1 -0.1)\">\n       <use xlink:href=\"#SimHei-49\"/>\n       <use x=\"50\" xlink:href=\"#SimHei-46\"/>\n       <use x=\"100\" xlink:href=\"#SimHei-48\"/>\n      </g>\n     </g>\n    </g>\n    <g id=\"text_7\">\n     <!-- probility of ground truth class -->\n     <defs>\n      <path d=\"M 44.53125 23.4375 \nQ 44.53125 12.109375 39.0625 6.25 \nQ 33.59375 0.390625 25.78125 0.390625 \nQ 21.484375 0.390625 18.359375 2.140625 \nQ 15.234375 3.90625 12.890625 7.421875 \nL 12.890625 -12.890625 \nL 5.078125 -12.890625 \nL 5.078125 45.3125 \nL 12.890625 45.3125 \nL 12.890625 39.453125 \nQ 15.234375 42.96875 18.359375 44.53125 \nQ 21.484375 46.09375 25.78125 46.09375 \nQ 33.59375 46.09375 39.0625 40.421875 \nQ 44.53125 34.765625 44.53125 23.4375 \nz\nM 35.9375 23.4375 \nQ 35.9375 30.859375 33 34.953125 \nQ 30.078125 39.0625 24.21875 39.0625 \nQ 19.53125 39.0625 16.203125 34.953125 \nQ 12.890625 30.859375 12.890625 23.4375 \nQ 12.890625 16.015625 16.203125 11.71875 \nQ 19.53125 7.421875 24.21875 7.421875 \nQ 30.078125 7.421875 33 11.71875 \nQ 35.9375 16.015625 35.9375 23.4375 \nz\n\" id=\"SimHei-112\"/>\n      <path d=\"M 39.453125 37.5 \nQ 32.03125 38.671875 26.953125 35.34375 \nQ 21.875 32.03125 18.359375 23.828125 \nL 18.359375 1.5625 \nL 10.546875 1.5625 \nL 10.546875 45.3125 \nL 18.359375 45.3125 \nL 18.359375 33.984375 \nQ 21.875 40.234375 27.140625 43.15625 \nQ 32.421875 46.09375 39.453125 46.09375 \nz\n\" id=\"SimHei-114\"/>\n      <path d=\"M 46.09375 23.4375 \nQ 46.09375 13.28125 39.84375 7.03125 \nQ 33.59375 0.78125 25 0.78125 \nQ 16.40625 0.78125 10.15625 7.03125 \nQ 3.90625 13.28125 3.90625 23.4375 \nQ 3.90625 33.59375 10.15625 39.84375 \nQ 16.40625 46.09375 25 46.09375 \nQ 33.59375 46.09375 39.84375 39.84375 \nQ 46.09375 33.59375 46.09375 23.4375 \nz\nM 37.5 23.4375 \nQ 37.5 31.25 33.59375 35.15625 \nQ 29.6875 39.0625 25 39.0625 \nQ 20.3125 39.0625 16.40625 35.15625 \nQ 12.5 31.25 12.5 23.4375 \nQ 12.5 15.625 16.40625 11.71875 \nQ 20.3125 7.8125 25 7.8125 \nQ 29.6875 7.8125 33.59375 11.71875 \nQ 37.5 15.625 37.5 23.4375 \nz\n\" id=\"SimHei-111\"/>\n      <path d=\"M 44.53125 23.4375 \nQ 44.53125 12.109375 39.0625 6.4375 \nQ 33.59375 0.78125 25.78125 0.78125 \nQ 21.484375 0.78125 18.359375 2.34375 \nQ 15.234375 3.90625 12.890625 7.421875 \nL 12.890625 1.5625 \nL 5.078125 1.5625 \nL 5.078125 68.359375 \nL 12.890625 68.359375 \nL 12.890625 39.453125 \nQ 15.234375 42.96875 18.359375 44.71875 \nQ 21.484375 46.484375 25.78125 46.484375 \nQ 33.59375 46.484375 39.0625 40.625 \nQ 44.53125 34.765625 44.53125 23.4375 \nz\nM 35.9375 23.4375 \nQ 35.9375 30.859375 33 35.15625 \nQ 30.078125 39.453125 24.21875 39.453125 \nQ 19.53125 39.453125 16.203125 35.15625 \nQ 12.890625 30.859375 12.890625 23.4375 \nQ 12.890625 16.015625 16.203125 11.90625 \nQ 19.53125 7.8125 24.21875 7.8125 \nQ 30.078125 7.8125 33 11.90625 \nQ 35.9375 16.015625 35.9375 23.4375 \nz\n\" id=\"SimHei-98\"/>\n      <path d=\"M 28.515625 57.8125 \nL 20.703125 57.8125 \nL 20.703125 67.96875 \nL 28.515625 67.96875 \nz\nM 28.515625 1.5625 \nL 20.703125 1.5625 \nL 20.703125 45.3125 \nL 28.515625 45.3125 \nz\n\" id=\"SimHei-105\"/>\n      <path d=\"M 28.90625 1.5625 \nL 21.09375 1.5625 \nL 21.09375 68.359375 \nL 28.90625 68.359375 \nz\n\" id=\"SimHei-108\"/>\n      <path d=\"M 43.359375 2.734375 \nQ 41.40625 1.953125 38.859375 1.359375 \nQ 36.328125 0.78125 32.03125 0.78125 \nQ 25 0.78125 20.703125 4.6875 \nQ 16.40625 8.59375 16.40625 15.625 \nL 16.40625 39.0625 \nL 3.125 39.0625 \nL 3.125 45.3125 \nL 16.40625 45.3125 \nL 16.40625 60.546875 \nL 24.21875 60.546875 \nL 24.21875 45.3125 \nL 40.234375 45.3125 \nL 40.234375 39.0625 \nL 24.21875 39.0625 \nL 24.21875 15.234375 \nQ 24.21875 12.109375 25.78125 9.953125 \nQ 27.34375 7.8125 31.640625 7.8125 \nQ 35.9375 7.8125 38.671875 8.59375 \nQ 41.40625 9.375 43.359375 10.546875 \nz\n\" id=\"SimHei-116\"/>\n      <path d=\"M 45.703125 45.3125 \nL 27.734375 -1.953125 \nQ 26.171875 -7.421875 23.046875 -10.15625 \nQ 19.921875 -12.890625 15.234375 -12.890625 \nQ 13.28125 -12.890625 11.515625 -12.6875 \nQ 9.765625 -12.5 8.203125 -11.71875 \nL 8.203125 -3.90625 \nQ 9.765625 -4.6875 11.328125 -5.078125 \nQ 12.890625 -5.46875 14.0625 -5.46875 \nQ 17.1875 -5.46875 18.359375 -4.484375 \nQ 19.53125 -3.515625 20.703125 0 \nL 3.515625 45.3125 \nL 12.109375 45.3125 \nL 24.609375 10.9375 \nL 25 10.9375 \nL 37.109375 45.3125 \nz\n\" id=\"SimHei-121\"/>\n      <path id=\"SimHei-32\"/>\n      <path d=\"M 44.921875 59.375 \nQ 42.96875 60.546875 40.234375 61.328125 \nQ 37.5 62.109375 33.203125 62.109375 \nQ 28.90625 62.109375 27.34375 59.953125 \nQ 25.78125 57.8125 25.78125 54.6875 \nL 25.78125 45.3125 \nL 41.796875 45.3125 \nL 41.796875 39.0625 \nL 25.78125 39.0625 \nL 25.78125 1.5625 \nL 17.96875 1.5625 \nL 17.96875 39.0625 \nL 4.6875 39.0625 \nL 4.6875 45.3125 \nL 17.96875 45.3125 \nL 17.96875 54.296875 \nQ 17.96875 61.328125 22.265625 65.234375 \nQ 26.5625 69.140625 33.59375 69.140625 \nQ 37.890625 69.140625 40.421875 68.546875 \nQ 42.96875 67.96875 44.921875 67.1875 \nz\n\" id=\"SimHei-102\"/>\n      <path d=\"M 46.875 38.671875 \nQ 44.140625 39.453125 41.59375 39.640625 \nQ 39.0625 39.84375 36.328125 39.0625 \nQ 37.5 37.890625 38.28125 36.125 \nQ 39.0625 34.375 39.0625 30.859375 \nQ 39.0625 24.21875 34.5625 19.921875 \nQ 30.078125 15.625 23.4375 15.625 \nQ 21.875 15.625 19.328125 16.203125 \nQ 16.796875 16.796875 15.234375 17.578125 \nQ 14.0625 16.796875 13.671875 16.015625 \nQ 13.28125 15.234375 13.28125 14.0625 \nQ 13.28125 12.109375 16.015625 11.125 \nQ 18.75 10.15625 25.78125 10.15625 \nQ 37.109375 10.15625 41.203125 7.03125 \nQ 45.3125 3.90625 45.3125 -0.78125 \nQ 45.3125 -7.03125 39.25 -9.953125 \nQ 33.203125 -12.890625 25 -12.890625 \nQ 14.453125 -12.890625 9.375 -10.15625 \nQ 4.296875 -7.421875 4.296875 -2.734375 \nQ 4.296875 -0.390625 6.25 1.953125 \nQ 8.203125 4.296875 11.328125 5.859375 \nQ 8.984375 7.03125 7.609375 8.78125 \nQ 6.25 10.546875 6.25 13.28125 \nQ 6.25 15.625 8 17.375 \nQ 9.765625 19.140625 12.109375 20.3125 \nQ 10.15625 22.265625 8.984375 25 \nQ 7.8125 27.734375 7.8125 30.859375 \nQ 7.8125 37.5 12.296875 41.796875 \nQ 16.796875 46.09375 23.4375 46.09375 \nQ 26.953125 46.09375 29.484375 45.109375 \nQ 32.03125 44.140625 33.984375 42.1875 \nQ 37.109375 44.53125 40.234375 45.5 \nQ 43.359375 46.484375 46.875 46.09375 \nz\nM 31.25 30.859375 \nQ 31.25 34.765625 29.296875 37.109375 \nQ 27.34375 39.453125 23.4375 39.453125 \nQ 19.53125 39.453125 17.578125 37.109375 \nQ 15.625 34.765625 15.625 30.859375 \nQ 15.625 26.953125 17.578125 24.609375 \nQ 19.53125 22.265625 23.4375 22.265625 \nQ 27.34375 22.265625 29.296875 24.609375 \nQ 31.25 26.953125 31.25 30.859375 \nz\nM 37.890625 -1.5625 \nQ 37.890625 0 36.125 1.5625 \nQ 34.375 3.125 27.34375 3.125 \nQ 25.78125 3.125 23.046875 3.3125 \nQ 20.3125 3.515625 16.796875 3.90625 \nQ 13.671875 2.734375 12.5 1.171875 \nQ 11.328125 -0.390625 11.328125 -1.953125 \nQ 11.328125 -4.296875 14.453125 -5.859375 \nQ 17.578125 -7.421875 25.390625 -7.421875 \nQ 32.03125 -7.421875 34.953125 -5.65625 \nQ 37.890625 -3.90625 37.890625 -1.5625 \nz\n\" id=\"SimHei-103\"/>\n      <path d=\"M 44.140625 1.5625 \nL 36.328125 1.5625 \nL 36.328125 9.765625 \nQ 33.203125 5.46875 29.484375 3.125 \nQ 25.78125 0.78125 19.921875 0.78125 \nQ 12.890625 0.78125 9.375 4.6875 \nQ 5.859375 8.59375 5.859375 14.453125 \nL 5.859375 45.3125 \nL 13.671875 45.3125 \nL 13.671875 17.1875 \nQ 13.671875 12.5 16.015625 9.765625 \nQ 18.359375 7.03125 22.265625 7.03125 \nQ 27.34375 7.03125 31.828125 12.296875 \nQ 36.328125 17.578125 36.328125 25.390625 \nL 36.328125 45.3125 \nL 44.140625 45.3125 \nz\n\" id=\"SimHei-117\"/>\n      <path d=\"M 44.140625 1.5625 \nL 36.328125 1.5625 \nL 36.328125 29.6875 \nQ 36.328125 34.375 33.984375 37.109375 \nQ 31.640625 39.84375 27.734375 39.84375 \nQ 22.65625 39.84375 18.15625 34.5625 \nQ 13.671875 29.296875 13.671875 21.484375 \nL 13.671875 1.5625 \nL 5.859375 1.5625 \nL 5.859375 45.3125 \nL 13.671875 45.3125 \nL 13.671875 37.109375 \nQ 16.796875 41.40625 20.5 43.75 \nQ 24.21875 46.09375 30.078125 46.09375 \nQ 37.109375 46.09375 40.625 42.1875 \nQ 44.140625 38.28125 44.140625 32.421875 \nz\n\" id=\"SimHei-110\"/>\n      <path d=\"M 43.359375 1.5625 \nL 35.546875 1.5625 \nL 35.546875 7.421875 \nQ 33.203125 3.90625 30.078125 2.34375 \nQ 26.953125 0.78125 22.65625 0.78125 \nQ 14.84375 0.78125 9.375 6.4375 \nQ 3.90625 12.109375 3.90625 23.4375 \nQ 3.90625 34.765625 9.375 40.625 \nQ 14.84375 46.484375 22.65625 46.484375 \nQ 26.953125 46.484375 30.078125 44.71875 \nQ 33.203125 42.96875 35.546875 39.453125 \nL 35.546875 68.359375 \nL 43.359375 68.359375 \nz\nM 35.546875 23.4375 \nQ 35.546875 30.859375 32.21875 35.15625 \nQ 28.90625 39.453125 24.21875 39.453125 \nQ 18.359375 39.453125 15.421875 35.15625 \nQ 12.5 30.859375 12.5 23.4375 \nQ 12.5 16.015625 15.421875 11.90625 \nQ 18.359375 7.8125 24.21875 7.8125 \nQ 28.90625 7.8125 32.21875 11.90625 \nQ 35.546875 16.015625 35.546875 23.4375 \nz\n\" id=\"SimHei-100\"/>\n      <path d=\"M 44.140625 1.5625 \nL 36.328125 1.5625 \nL 36.328125 29.6875 \nQ 36.328125 34.375 33.984375 37.109375 \nQ 31.640625 39.84375 27.734375 39.84375 \nQ 22.65625 39.84375 18.15625 34.5625 \nQ 13.671875 29.296875 13.671875 21.484375 \nL 13.671875 1.5625 \nL 5.859375 1.5625 \nL 5.859375 68.359375 \nL 13.671875 68.359375 \nL 13.671875 37.109375 \nQ 16.796875 41.40625 20.5 43.75 \nQ 24.21875 46.09375 30.078125 46.09375 \nQ 37.109375 46.09375 40.625 42.1875 \nQ 44.140625 38.28125 44.140625 32.421875 \nz\n\" id=\"SimHei-104\"/>\n      <path d=\"M 44.921875 19.140625 \nQ 44.921875 10.9375 39.25 5.859375 \nQ 33.59375 0.78125 25 0.78125 \nQ 16.40625 0.78125 10.15625 6.828125 \nQ 3.90625 12.890625 3.90625 23.4375 \nQ 3.90625 33.984375 10.15625 40.03125 \nQ 16.40625 46.09375 25 46.09375 \nQ 33.59375 46.09375 38.671875 41.59375 \nQ 43.75 37.109375 43.75 30.859375 \nL 35.15625 30.859375 \nQ 34.765625 35.546875 31.828125 37.296875 \nQ 28.90625 39.0625 25 39.0625 \nQ 20.3125 39.0625 16.40625 35.34375 \nQ 12.5 31.640625 12.5 23.4375 \nQ 12.5 15.234375 16.40625 11.515625 \nQ 20.3125 7.8125 25 7.8125 \nQ 30.078125 7.8125 33.203125 10.546875 \nQ 36.328125 13.28125 36.328125 19.140625 \nz\n\" id=\"SimHei-99\"/>\n      <path d=\"M 45.3125 1.5625 \nL 35.9375 1.5625 \nQ 35.15625 2.34375 34.765625 3.703125 \nQ 34.375 5.078125 34.375 7.03125 \nQ 31.640625 3.90625 27.734375 2.34375 \nQ 23.828125 0.78125 19.53125 0.78125 \nQ 13.28125 0.78125 8.984375 3.90625 \nQ 4.6875 7.03125 4.6875 12.890625 \nQ 4.6875 18.75 8.59375 22.265625 \nQ 12.5 25.78125 20.703125 26.953125 \nQ 26.171875 27.734375 30.265625 28.90625 \nQ 34.375 30.078125 34.375 32.03125 \nQ 34.375 34.375 32.609375 36.71875 \nQ 30.859375 39.0625 25 39.0625 \nQ 20.3125 39.0625 18.15625 37.296875 \nQ 16.015625 35.546875 15.234375 32.421875 \nL 6.640625 32.421875 \nQ 7.421875 38.671875 12.296875 42.375 \nQ 17.1875 46.09375 25 46.09375 \nQ 33.59375 46.09375 37.890625 42.1875 \nQ 42.1875 38.28125 42.1875 31.25 \nL 42.1875 9.765625 \nQ 42.1875 7.421875 42.96875 5.46875 \nQ 43.75 3.515625 45.3125 1.5625 \nz\nM 34.375 16.015625 \nL 34.375 23.828125 \nQ 32.03125 23.046875 29.875 22.453125 \nQ 27.734375 21.875 22.65625 21.09375 \nQ 16.796875 20.3125 15.03125 18.359375 \nQ 13.28125 16.40625 13.28125 13.671875 \nQ 13.28125 11.328125 15.03125 9.5625 \nQ 16.796875 7.8125 20.3125 7.8125 \nQ 23.828125 7.8125 27.921875 9.765625 \nQ 32.03125 11.71875 34.375 16.015625 \nz\n\" id=\"SimHei-97\"/>\n      <path d=\"M 43.359375 13.671875 \nQ 43.359375 7.421875 38.46875 4.09375 \nQ 33.59375 0.78125 26.171875 0.78125 \nQ 16.796875 0.78125 11.71875 4.484375 \nQ 6.640625 8.203125 6.640625 15.234375 \nL 14.453125 15.234375 \nQ 14.453125 10.546875 17.765625 8.984375 \nQ 21.09375 7.421875 25.78125 7.421875 \nQ 30.46875 7.421875 32.8125 9.171875 \nQ 35.15625 10.9375 35.15625 13.671875 \nQ 35.15625 15.625 33.203125 17.578125 \nQ 31.25 19.53125 23.4375 20.703125 \nQ 14.453125 21.875 11.125 25.1875 \nQ 7.8125 28.515625 7.8125 33.984375 \nQ 7.8125 38.671875 12.296875 42.375 \nQ 16.796875 46.09375 25.390625 46.09375 \nQ 33.203125 46.09375 37.6875 42.578125 \nQ 42.1875 39.0625 42.1875 33.203125 \nL 34.375 33.203125 \nQ 34.375 36.71875 31.828125 38.078125 \nQ 29.296875 39.453125 25.390625 39.453125 \nQ 20.3125 39.453125 18.15625 37.6875 \nQ 16.015625 35.9375 16.015625 33.59375 \nQ 16.015625 30.859375 17.96875 29.296875 \nQ 19.921875 27.734375 26.171875 26.953125 \nQ 36.328125 25.390625 39.84375 22.0625 \nQ 43.359375 18.75 43.359375 13.671875 \nz\n\" id=\"SimHei-115\"/>\n     </defs>\n     <g transform=\"translate(232.825 471.537031)scale(0.1 -0.1)\">\n      <use xlink:href=\"#SimHei-112\"/>\n      <use x=\"50\" xlink:href=\"#SimHei-114\"/>\n      <use x=\"100\" xlink:href=\"#SimHei-111\"/>\n      <use x=\"150\" xlink:href=\"#SimHei-98\"/>\n      <use x=\"200\" xlink:href=\"#SimHei-105\"/>\n      <use x=\"250\" xlink:href=\"#SimHei-108\"/>\n      <use x=\"300\" xlink:href=\"#SimHei-105\"/>\n      <use x=\"350\" xlink:href=\"#SimHei-116\"/>\n      <use x=\"400\" xlink:href=\"#SimHei-121\"/>\n      <use x=\"450\" xlink:href=\"#SimHei-32\"/>\n      <use x=\"500\" xlink:href=\"#SimHei-111\"/>\n      <use x=\"550\" xlink:href=\"#SimHei-102\"/>\n      <use x=\"600\" xlink:href=\"#SimHei-32\"/>\n      <use x=\"650\" xlink:href=\"#SimHei-103\"/>\n      <use x=\"700\" xlink:href=\"#SimHei-114\"/>\n      <use x=\"750\" xlink:href=\"#SimHei-111\"/>\n      <use x=\"800\" xlink:href=\"#SimHei-117\"/>\n      <use x=\"850\" xlink:href=\"#SimHei-110\"/>\n      <use x=\"900\" xlink:href=\"#SimHei-100\"/>\n      <use x=\"950\" xlink:href=\"#SimHei-32\"/>\n      <use x=\"1000\" xlink:href=\"#SimHei-116\"/>\n      <use x=\"1050\" xlink:href=\"#SimHei-114\"/>\n      <use x=\"1100\" xlink:href=\"#SimHei-117\"/>\n      <use x=\"1150\" xlink:href=\"#SimHei-116\"/>\n      <use x=\"1200\" xlink:href=\"#SimHei-104\"/>\n      <use x=\"1250\" xlink:href=\"#SimHei-32\"/>\n      <use x=\"1300\" xlink:href=\"#SimHei-99\"/>\n      <use x=\"1350\" xlink:href=\"#SimHei-108\"/>\n      <use x=\"1400\" xlink:href=\"#SimHei-97\"/>\n      <use x=\"1450\" xlink:href=\"#SimHei-115\"/>\n      <use x=\"1500\" xlink:href=\"#SimHei-115\"/>\n     </g>\n    </g>\n   </g>\n   <g id=\"matplotlib.axis_2\">\n    <g id=\"ytick_1\">\n     <g id=\"line2d_7\">\n      <defs>\n       <path d=\"M 0 0 \nL -3.5 0 \n\" id=\"mc399073a60\" style=\"stroke:#000000;stroke-width:0.8;\"/>\n      </defs>\n      <g>\n       <use style=\"stroke:#000000;stroke-width:0.8;\" x=\"31.325\" xlink:href=\"#mc399073a60\" y=\"445.497969\"/>\n      </g>\n     </g>\n     <g id=\"text_8\">\n      <!-- 0 -->\n      <g transform=\"translate(19.325 448.915937)scale(0.1 -0.1)\">\n       <use xlink:href=\"#SimHei-48\"/>\n      </g>\n     </g>\n    </g>\n    <g id=\"ytick_2\">\n     <g id=\"line2d_8\">\n      <g>\n       <use style=\"stroke:#000000;stroke-width:0.8;\" x=\"31.325\" xlink:href=\"#mc399073a60\" y=\"373.017969\"/>\n      </g>\n     </g>\n     <g id=\"text_9\">\n      <!-- 1 -->\n      <g transform=\"translate(19.325 376.435937)scale(0.1 -0.1)\">\n       <use xlink:href=\"#SimHei-49\"/>\n      </g>\n     </g>\n    </g>\n    <g id=\"ytick_3\">\n     <g id=\"line2d_9\">\n      <g>\n       <use style=\"stroke:#000000;stroke-width:0.8;\" x=\"31.325\" xlink:href=\"#mc399073a60\" y=\"300.537969\"/>\n      </g>\n     </g>\n     <g id=\"text_10\">\n      <!-- 2 -->\n      <g transform=\"translate(19.325 303.955937)scale(0.1 -0.1)\">\n       <use xlink:href=\"#SimHei-50\"/>\n      </g>\n     </g>\n    </g>\n    <g id=\"ytick_4\">\n     <g id=\"line2d_10\">\n      <g>\n       <use style=\"stroke:#000000;stroke-width:0.8;\" x=\"31.325\" xlink:href=\"#mc399073a60\" y=\"228.057969\"/>\n      </g>\n     </g>\n     <g id=\"text_11\">\n      <!-- 3 -->\n      <defs>\n       <path d=\"M 44.140625 20.3125 \nQ 44.140625 11.328125 38.46875 6.046875 \nQ 32.8125 0.78125 24.21875 0.78125 \nQ 15.625 0.78125 9.953125 6.046875 \nQ 4.296875 11.328125 4.296875 22.265625 \nL 13.28125 22.265625 \nQ 13.28125 14.84375 16.203125 11.515625 \nQ 19.140625 8.203125 24.21875 8.203125 \nQ 29.296875 8.203125 32.03125 11.328125 \nQ 34.765625 14.453125 34.765625 21.09375 \nQ 34.765625 26.5625 31.828125 29.6875 \nQ 28.90625 32.8125 21.484375 32.8125 \nL 21.484375 39.453125 \nQ 27.734375 39.453125 30.65625 42.578125 \nQ 33.59375 45.703125 33.59375 51.953125 \nQ 33.59375 56.640625 31.4375 59.375 \nQ 29.296875 62.109375 24.609375 62.109375 \nQ 19.921875 62.109375 17.375 58.78125 \nQ 14.84375 55.46875 14.453125 49.21875 \nL 5.859375 49.21875 \nQ 6.640625 58.203125 11.515625 63.671875 \nQ 16.40625 69.140625 24.609375 69.140625 \nQ 33.203125 69.140625 37.890625 64.25 \nQ 42.578125 59.375 42.578125 52.34375 \nQ 42.578125 45.703125 40.234375 41.984375 \nQ 37.890625 38.28125 32.421875 36.328125 \nQ 37.890625 35.15625 41.015625 30.859375 \nQ 44.140625 26.5625 44.140625 20.3125 \nz\n\" id=\"SimHei-51\"/>\n      </defs>\n      <g transform=\"translate(19.325 231.475937)scale(0.1 -0.1)\">\n       <use xlink:href=\"#SimHei-51\"/>\n      </g>\n     </g>\n    </g>\n    <g id=\"ytick_5\">\n     <g id=\"line2d_11\">\n      <g>\n       <use style=\"stroke:#000000;stroke-width:0.8;\" x=\"31.325\" xlink:href=\"#mc399073a60\" y=\"155.577969\"/>\n      </g>\n     </g>\n     <g id=\"text_12\">\n      <!-- 4 -->\n      <g transform=\"translate(19.325 158.995937)scale(0.1 -0.1)\">\n       <use xlink:href=\"#SimHei-52\"/>\n      </g>\n     </g>\n    </g>\n    <g id=\"ytick_6\">\n     <g id=\"line2d_12\">\n      <g>\n       <use style=\"stroke:#000000;stroke-width:0.8;\" x=\"31.325\" xlink:href=\"#mc399073a60\" y=\"83.097969\"/>\n      </g>\n     </g>\n     <g id=\"text_13\">\n      <!-- 5 -->\n      <defs>\n       <path d=\"M 44.140625 25.78125 \nQ 44.140625 14.0625 38.46875 7.421875 \nQ 32.8125 0.78125 23.4375 0.78125 \nQ 15.234375 0.78125 9.953125 6.25 \nQ 4.6875 11.71875 4.296875 21.09375 \nL 13.28125 21.09375 \nQ 13.28125 15.234375 16.015625 11.71875 \nQ 18.75 8.203125 23.828125 8.203125 \nQ 28.90625 8.203125 31.828125 12.5 \nQ 34.765625 16.796875 34.765625 25.78125 \nQ 34.765625 33.59375 32.21875 37.296875 \nQ 29.6875 41.015625 25.390625 41.015625 \nQ 21.875 41.015625 19.328125 39.453125 \nQ 16.796875 37.890625 14.453125 33.984375 \nL 6.640625 33.984375 \nL 8.984375 68.359375 \nL 42.578125 68.359375 \nL 42.578125 60.9375 \nL 16.40625 60.9375 \nL 14.84375 42.96875 \nQ 17.1875 45.3125 19.921875 46.484375 \nQ 22.65625 47.65625 27.34375 47.65625 \nQ 34.765625 47.65625 39.453125 41.984375 \nQ 44.140625 36.328125 44.140625 25.78125 \nz\n\" id=\"SimHei-53\"/>\n      </defs>\n      <g transform=\"translate(19.325 86.515937)scale(0.1 -0.1)\">\n       <use xlink:href=\"#SimHei-53\"/>\n      </g>\n     </g>\n    </g>\n    <g id=\"ytick_7\">\n     <g id=\"line2d_13\">\n      <g>\n       <use style=\"stroke:#000000;stroke-width:0.8;\" x=\"31.325\" xlink:href=\"#mc399073a60\" y=\"10.617969\"/>\n      </g>\n     </g>\n     <g id=\"text_14\">\n      <!-- 6 -->\n      <g transform=\"translate(19.325 14.035937)scale(0.1 -0.1)\">\n       <use xlink:href=\"#SimHei-54\"/>\n      </g>\n     </g>\n    </g>\n    <g id=\"text_15\">\n     <!-- loss -->\n     <g transform=\"translate(14.035938 238.057969)rotate(-90)scale(0.1 -0.1)\">\n      <use xlink:href=\"#SimHei-108\"/>\n      <use x=\"50\" xlink:href=\"#SimHei-111\"/>\n      <use x=\"100\" xlink:href=\"#SimHei-115\"/>\n      <use x=\"150\" xlink:href=\"#SimHei-115\"/>\n     </g>\n    </g>\n   </g>\n   <g id=\"line2d_14\">\n    <path clip-path=\"url(#pf2e30493b4)\" d=\"M 31.33058 354.897969 \nL 36.910524 409.265756 \nL 42.490468 414.716487 \nL 48.070413 417.90595 \nL 53.650357 420.169184 \nL 59.230301 421.9248 \nL 64.810245 423.359302 \nL 70.390189 424.572191 \nL 75.970134 425.622864 \nL 81.550078 426.549639 \nL 87.130022 427.378677 \nL 92.709966 428.128641 \nL 98.28991 428.81331 \nL 103.869855 429.443149 \nL 109.449799 430.026292 \nL 115.029743 430.569188 \nL 120.609687 431.077036 \nL 126.189631 431.554087 \nL 131.769576 432.003865 \nL 137.34952 432.429319 \nL 142.929464 432.832947 \nL 148.509408 433.216878 \nL 154.089352 433.582947 \nL 159.669297 433.932741 \nL 165.249241 434.267646 \nL 170.829185 434.588878 \nL 176.409129 434.89751 \nL 181.989073 435.194493 \nL 187.569018 435.480675 \nL 193.148962 435.756813 \nL 198.728906 436.02359 \nL 204.30885 436.281618 \nL 209.888794 436.531454 \nL 215.468739 436.773601 \nL 221.048683 437.008519 \nL 226.628627 437.236628 \nL 232.208571 437.45831 \nL 237.788515 437.673918 \nL 243.36846 437.883776 \nL 248.948404 438.088183 \nL 254.528348 438.287414 \nL 260.108292 438.481725 \nL 265.688236 438.671355 \nL 271.268181 438.856521 \nL 276.848125 439.037431 \nL 282.428069 439.214276 \nL 288.008013 439.387233 \nL 293.587957 439.556471 \nL 299.167902 439.722145 \nL 304.747846 439.884404 \nL 310.32779 440.043384 \nL 315.907734 440.199216 \nL 321.487678 440.352022 \nL 327.067623 440.501917 \nL 332.647567 440.649011 \nL 338.227511 440.793405 \nL 343.807455 440.935198 \nL 349.387399 441.074481 \nL 354.967344 441.211341 \nL 360.547288 441.345862 \nL 366.127232 441.478122 \nL 371.707176 441.608196 \nL 377.28712 441.736154 \nL 382.867065 441.862066 \nL 388.447009 441.985994 \nL 394.026953 442.108001 \nL 399.606897 442.228145 \nL 405.186841 442.346483 \nL 410.766786 442.463067 \nL 416.34673 442.57795 \nL 421.926674 442.691179 \nL 427.506618 442.802802 \nL 433.086562 442.912864 \nL 438.666507 443.021408 \nL 444.246451 443.128475 \nL 449.826395 443.234105 \nL 455.406339 443.338336 \nL 460.986283 443.441204 \nL 466.566228 443.542745 \nL 472.146172 443.642993 \nL 477.726116 443.741979 \nL 483.30606 443.839736 \nL 488.886004 443.936293 \nL 494.465949 444.03168 \nL 500.045893 444.125924 \nL 505.625837 444.219054 \nL 511.205781 444.311093 \nL 516.785725 444.402069 \nL 522.36567 444.492006 \nL 527.945614 444.580925 \nL 533.525558 444.668852 \nL 539.105502 444.755807 \nL 544.685446 444.841811 \nL 550.265391 444.926886 \nL 555.845335 445.01105 \nL 561.425279 445.094325 \nL 567.005223 445.176727 \nL 572.585167 445.258275 \nL 578.165112 445.338987 \nL 583.745056 445.418879 \n\" style=\"fill:none;stroke:#1f77b4;stroke-linecap:square;stroke-width:1.5;\"/>\n   </g>\n   <g id=\"line2d_15\">\n    <path clip-path=\"url(#pf2e30493b4)\" d=\"M 31.33058 264.297969 \nL 36.910524 373.033542 \nL 42.490468 383.935006 \nL 48.070413 390.313931 \nL 53.650357 394.8404 \nL 59.230301 398.351632 \nL 64.810245 401.220636 \nL 70.390189 403.646413 \nL 75.970134 405.74776 \nL 81.550078 407.601309 \nL 87.130022 409.259385 \nL 92.709966 410.759313 \nL 98.28991 412.128651 \nL 103.869855 413.388329 \nL 109.449799 414.554616 \nL 115.029743 415.640408 \nL 120.609687 416.656103 \nL 126.189631 417.610206 \nL 131.769576 418.509761 \nL 137.34952 419.36067 \nL 142.929464 420.167925 \nL 148.509408 420.935788 \nL 154.089352 421.667925 \nL 159.669297 422.367512 \nL 165.249241 423.037323 \nL 170.829185 423.679787 \nL 176.409129 424.297051 \nL 181.989073 424.891017 \nL 187.569018 425.463381 \nL 193.148962 426.015658 \nL 198.728906 426.54921 \nL 204.30885 427.065267 \nL 209.888794 427.564938 \nL 215.468739 428.049233 \nL 221.048683 428.51907 \nL 226.628627 428.975287 \nL 232.208571 429.418651 \nL 237.788515 429.849867 \nL 243.36846 430.269583 \nL 248.948404 430.678396 \nL 254.528348 431.076859 \nL 260.108292 431.465482 \nL 265.688236 431.84474 \nL 271.268181 432.215074 \nL 276.848125 432.576894 \nL 282.428069 432.930583 \nL 288.008013 433.276497 \nL 293.587957 433.614973 \nL 299.167902 433.946322 \nL 304.747846 434.270839 \nL 310.32779 434.588799 \nL 315.907734 434.900463 \nL 321.487678 435.206075 \nL 327.067623 435.505866 \nL 332.647567 435.800053 \nL 338.227511 436.088841 \nL 343.807455 436.372427 \nL 349.387399 436.650992 \nL 354.967344 436.924713 \nL 360.547288 437.193755 \nL 366.127232 437.458275 \nL 371.707176 437.718423 \nL 377.28712 437.97434 \nL 382.867065 438.226163 \nL 388.447009 438.47402 \nL 394.026953 438.718034 \nL 399.606897 438.958322 \nL 405.186841 439.194997 \nL 410.766786 439.428166 \nL 416.34673 439.657931 \nL 421.926674 439.884389 \nL 427.506618 440.107636 \nL 433.086562 440.32776 \nL 438.666507 440.544847 \nL 444.246451 440.758982 \nL 449.826395 440.970241 \nL 455.406339 441.178703 \nL 460.986283 441.38444 \nL 466.566228 441.587522 \nL 472.146172 441.788016 \nL 477.726116 441.985989 \nL 483.30606 442.181503 \nL 488.886004 442.374617 \nL 494.465949 442.565391 \nL 500.045893 442.75388 \nL 505.625837 442.940138 \nL 511.205781 443.124218 \nL 516.785725 443.30617 \nL 522.36567 443.486042 \nL 527.945614 443.663882 \nL 533.525558 443.839735 \nL 539.105502 444.013644 \nL 544.685446 444.185653 \nL 550.265391 444.355803 \nL 555.845335 444.524132 \nL 561.425279 444.69068 \nL 567.005223 444.855485 \nL 572.585167 445.018581 \nL 578.165112 445.180005 \nL 583.745056 445.33979 \n\" style=\"fill:none;stroke:#ff7f0e;stroke-linecap:square;stroke-width:1.5;\"/>\n   </g>\n   <g id=\"line2d_16\">\n    <path clip-path=\"url(#pf2e30493b4)\" d=\"M 31.33058 173.697969 \nL 36.910524 336.801329 \nL 42.490468 353.153525 \nL 48.070413 362.721912 \nL 53.650357 369.511615 \nL 59.230301 374.778463 \nL 64.810245 379.081969 \nL 70.390189 382.720635 \nL 75.970134 385.872655 \nL 81.550078 388.652978 \nL 87.130022 391.140093 \nL 92.709966 393.389985 \nL 98.28991 395.443992 \nL 103.869855 397.333509 \nL 109.449799 399.082939 \nL 115.029743 400.711627 \nL 120.609687 402.23517 \nL 126.189631 403.666325 \nL 131.769576 405.015658 \nL 137.34952 406.292021 \nL 142.929464 407.502904 \nL 148.509408 408.654698 \nL 154.089352 409.752903 \nL 159.669297 410.802284 \nL 165.249241 411.806999 \nL 170.829185 412.770696 \nL 176.409129 413.696592 \nL 181.989073 414.587541 \nL 187.569018 415.446086 \nL 193.148962 416.274502 \nL 198.728906 417.074831 \nL 204.30885 417.848916 \nL 209.888794 418.598423 \nL 215.468739 419.324866 \nL 221.048683 420.029621 \nL 226.628627 420.713946 \nL 232.208571 421.378992 \nL 237.788515 422.025816 \nL 243.36846 422.65539 \nL 248.948404 423.26861 \nL 254.528348 423.866304 \nL 260.108292 424.449239 \nL 265.688236 425.018126 \nL 271.268181 425.573627 \nL 276.848125 426.116357 \nL 282.428069 426.64689 \nL 288.008013 427.165762 \nL 293.587957 427.673475 \nL 299.167902 428.170498 \nL 304.747846 428.657273 \nL 310.32779 429.134214 \nL 315.907734 429.60171 \nL 321.487678 430.060128 \nL 327.067623 430.509814 \nL 332.647567 430.951095 \nL 338.227511 431.384278 \nL 343.807455 431.809655 \nL 349.387399 432.227504 \nL 354.967344 432.638085 \nL 360.547288 433.041648 \nL 366.127232 433.438428 \nL 371.707176 433.82865 \nL 377.28712 434.212526 \nL 382.867065 434.59026 \nL 388.447009 434.962045 \nL 394.026953 435.328066 \nL 399.606897 435.688499 \nL 405.186841 436.043511 \nL 410.766786 436.393264 \nL 416.34673 436.737911 \nL 421.926674 437.077599 \nL 427.506618 437.412469 \nL 433.086562 437.742655 \nL 438.666507 438.068287 \nL 444.246451 438.389488 \nL 449.826395 438.706378 \nL 455.406339 439.01907 \nL 460.986283 439.327675 \nL 466.566228 439.632298 \nL 472.146172 439.93304 \nL 477.726116 440.229999 \nL 483.30606 440.52327 \nL 488.886004 440.812942 \nL 494.465949 441.099102 \nL 500.045893 441.381836 \nL 505.625837 441.661223 \nL 511.205781 441.937343 \nL 516.785725 442.210271 \nL 522.36567 442.480079 \nL 527.945614 442.746839 \nL 533.525558 443.010618 \nL 539.105502 443.271482 \nL 544.685446 443.529496 \nL 550.265391 443.78472 \nL 555.845335 444.037214 \nL 561.425279 444.287036 \nL 567.005223 444.534243 \nL 572.585167 444.778888 \nL 578.165112 445.021023 \nL 583.745056 445.2607 \n\" style=\"fill:none;stroke:#2ca02c;stroke-linecap:square;stroke-width:1.5;\"/>\n   </g>\n   <g id=\"line2d_17\">\n    <path clip-path=\"url(#pf2e30493b4)\" d=\"M 31.33058 354.898422 \nL 36.910524 409.447552 \nL 42.490468 415.026009 \nL 48.070413 418.323118 \nL 53.650357 420.681054 \nL 59.230301 422.521801 \nL 64.810245 424.033842 \nL 70.390189 425.31798 \nL 75.970134 426.434534 \nL 81.550078 427.422504 \nL 87.130022 428.308585 \nL 92.709966 429.11186 \nL 98.28991 429.84645 \nL 103.869855 430.523105 \nL 109.449799 431.150198 \nL 115.029743 431.734382 \nL 120.609687 432.281032 \nL 126.189631 432.794552 \nL 131.769576 433.278599 \nL 137.34952 433.736243 \nL 142.929464 434.170086 \nL 148.509408 434.582351 \nL 154.089352 434.974959 \nL 159.669297 435.349573 \nL 165.249241 435.707649 \nL 170.829185 436.050466 \nL 176.409129 436.379155 \nL 181.989073 436.694719 \nL 187.569018 436.998055 \nL 193.148962 437.289966 \nL 198.728906 437.571174 \nL 204.30885 437.842331 \nL 209.888794 438.104028 \nL 215.468739 438.356802 \nL 221.048683 438.601142 \nL 226.628627 438.837496 \nL 232.208571 439.066274 \nL 237.788515 439.287852 \nL 243.36846 439.502577 \nL 248.948404 439.71077 \nL 254.528348 439.912725 \nL 260.108292 440.108717 \nL 265.688236 440.299 \nL 271.268181 440.483811 \nL 276.848125 440.663369 \nL 282.428069 440.837881 \nL 288.008013 441.007536 \nL 293.587957 441.172514 \nL 299.167902 441.332984 \nL 304.747846 441.489101 \nL 310.32779 441.641014 \nL 315.907734 441.78886 \nL 321.487678 441.93277 \nL 327.067623 442.072866 \nL 332.647567 442.209262 \nL 338.227511 442.342067 \nL 343.807455 442.471384 \nL 349.387399 442.597308 \nL 354.967344 442.71993 \nL 360.547288 442.839336 \nL 366.127232 442.955607 \nL 371.707176 443.068818 \nL 377.28712 443.179042 \nL 382.867065 443.286346 \nL 388.447009 443.390795 \nL 394.026953 443.492447 \nL 399.606897 443.59136 \nL 405.186841 443.687587 \nL 410.766786 443.781178 \nL 416.34673 443.872179 \nL 421.926674 443.960634 \nL 427.506618 444.046584 \nL 433.086562 444.130067 \nL 438.666507 444.211117 \nL 444.246451 444.289765 \nL 449.826395 444.366043 \nL 455.406339 444.439974 \nL 460.986283 444.511584 \nL 466.566228 444.580892 \nL 472.146172 444.647916 \nL 477.726116 444.71267 \nL 483.30606 444.775165 \nL 488.886004 444.835409 \nL 494.465949 444.893405 \nL 500.045893 444.949154 \nL 505.625837 445.00265 \nL 511.205781 445.053883 \nL 516.785725 445.102839 \nL 522.36567 445.149495 \nL 527.945614 445.193821 \nL 533.525558 445.23578 \nL 539.105502 445.275321 \nL 544.685446 445.31238 \nL 550.265391 445.346875 \nL 555.845335 445.378699 \nL 561.425279 445.407712 \nL 567.005223 445.433721 \nL 572.585167 445.456453 \nL 578.165112 445.475485 \nL 583.745056 445.49006 \n\" style=\"fill:none;stroke:#d62728;stroke-linecap:square;stroke-width:1.5;\"/>\n   </g>\n   <g id=\"line2d_18\">\n    <path clip-path=\"url(#pf2e30493b4)\" d=\"M 31.33058 264.298875 \nL 36.910524 373.397135 \nL 42.490468 384.55405 \nL 48.070413 391.148267 \nL 53.650357 395.864139 \nL 59.230301 399.545633 \nL 64.810245 402.569716 \nL 70.390189 405.137991 \nL 75.970134 407.371098 \nL 81.550078 409.34704 \nL 87.130022 411.119202 \nL 92.709966 412.72575 \nL 98.28991 414.194931 \nL 103.869855 415.54824 \nL 109.449799 416.802427 \nL 115.029743 417.970795 \nL 120.609687 419.064094 \nL 126.189631 420.091135 \nL 131.769576 421.05923 \nL 137.34952 421.974518 \nL 142.929464 422.842202 \nL 148.509408 423.666734 \nL 154.089352 424.451949 \nL 159.669297 425.201177 \nL 165.249241 425.917329 \nL 170.829185 426.602963 \nL 176.409129 427.260341 \nL 181.989073 427.89147 \nL 187.569018 428.498142 \nL 193.148962 429.081964 \nL 198.728906 429.644379 \nL 204.30885 430.186693 \nL 209.888794 430.710087 \nL 215.468739 431.215635 \nL 221.048683 431.704315 \nL 226.628627 432.177023 \nL 232.208571 432.634579 \nL 237.788515 433.077735 \nL 243.36846 433.507186 \nL 248.948404 433.923571 \nL 254.528348 434.327481 \nL 260.108292 434.719465 \nL 265.688236 435.100032 \nL 271.268181 435.469653 \nL 276.848125 435.82877 \nL 282.428069 436.177792 \nL 288.008013 436.517103 \nL 293.587957 436.84706 \nL 299.167902 437.167999 \nL 304.747846 437.480234 \nL 310.32779 437.784059 \nL 315.907734 438.079752 \nL 321.487678 438.367571 \nL 327.067623 438.647762 \nL 332.647567 438.920555 \nL 338.227511 439.186166 \nL 343.807455 439.444799 \nL 349.387399 439.696647 \nL 354.967344 439.941892 \nL 360.547288 440.180704 \nL 366.127232 440.413245 \nL 371.707176 440.639668 \nL 377.28712 440.860116 \nL 382.867065 441.074724 \nL 388.447009 441.28362 \nL 394.026953 441.486925 \nL 399.606897 441.684751 \nL 405.186841 441.877205 \nL 410.766786 442.064387 \nL 416.34673 442.246389 \nL 421.926674 442.4233 \nL 427.506618 442.5952 \nL 433.086562 442.762165 \nL 438.666507 442.924264 \nL 444.246451 443.081562 \nL 449.826395 443.234116 \nL 455.406339 443.38198 \nL 460.986283 443.525199 \nL 466.566228 443.663816 \nL 472.146172 443.797863 \nL 477.726116 443.927372 \nL 483.30606 444.052362 \nL 488.886004 444.17285 \nL 494.465949 444.288842 \nL 500.045893 444.400339 \nL 505.625837 444.50733 \nL 511.205781 444.609797 \nL 516.785725 444.707708 \nL 522.36567 444.80102 \nL 527.945614 444.889674 \nL 533.525558 444.973592 \nL 539.105502 445.052674 \nL 544.685446 445.126792 \nL 550.265391 445.195782 \nL 555.845335 445.25943 \nL 561.425279 445.317455 \nL 567.005223 445.369473 \nL 572.585167 445.414937 \nL 578.165112 445.453002 \nL 583.745056 445.482151 \n\" style=\"fill:none;stroke:#9467bd;stroke-linecap:square;stroke-width:1.5;\"/>\n   </g>\n   <g id=\"line2d_19\">\n    <path clip-path=\"url(#pf2e30493b4)\" d=\"M 31.33058 173.699328 \nL 36.910524 337.346719 \nL 42.490468 354.08209 \nL 48.070413 363.973415 \nL 53.650357 371.047224 \nL 59.230301 376.569466 \nL 64.810245 381.10559 \nL 70.390189 384.958003 \nL 75.970134 388.307663 \nL 81.550078 391.271575 \nL 87.130022 393.929818 \nL 92.709966 396.339641 \nL 98.28991 398.543412 \nL 103.869855 400.573376 \nL 109.449799 402.454656 \nL 115.029743 404.207209 \nL 120.609687 405.847157 \nL 126.189631 407.387718 \nL 131.769576 408.83986 \nL 137.34952 410.212792 \nL 142.929464 411.514319 \nL 148.509408 412.751117 \nL 154.089352 413.928939 \nL 159.669297 415.052781 \nL 165.249241 416.127009 \nL 170.829185 417.155461 \nL 176.409129 418.141527 \nL 181.989073 419.08822 \nL 187.569018 419.998228 \nL 193.148962 420.873961 \nL 198.728906 421.717584 \nL 204.30885 422.531055 \nL 209.888794 423.316146 \nL 215.468739 424.074468 \nL 221.048683 424.807489 \nL 226.628627 425.516551 \nL 232.208571 426.202884 \nL 237.788515 426.867619 \nL 243.36846 427.511794 \nL 248.948404 428.136371 \nL 254.528348 428.742237 \nL 260.108292 429.330213 \nL 265.688236 429.901063 \nL 271.268181 430.455496 \nL 276.848125 430.994171 \nL 282.428069 431.517704 \nL 288.008013 432.02667 \nL 293.587957 432.521606 \nL 299.167902 433.003014 \nL 304.747846 433.471367 \nL 310.32779 433.927105 \nL 315.907734 434.370644 \nL 321.487678 434.802373 \nL 327.067623 435.222659 \nL 332.647567 435.631848 \nL 338.227511 436.030264 \nL 343.807455 436.418214 \nL 349.387399 436.795987 \nL 354.967344 437.163854 \nL 360.547288 437.522072 \nL 366.127232 437.870884 \nL 371.707176 438.210518 \nL 377.28712 438.541189 \nL 382.867065 438.863102 \nL 388.447009 439.176446 \nL 394.026953 439.481403 \nL 399.606897 439.778143 \nL 405.186841 440.066824 \nL 410.766786 440.347596 \nL 416.34673 440.6206 \nL 421.926674 440.885966 \nL 427.506618 441.143816 \nL 433.086562 441.394263 \nL 438.666507 441.637412 \nL 444.246451 441.873359 \nL 449.826395 442.10219 \nL 455.406339 442.323986 \nL 460.986283 442.538815 \nL 466.566228 442.746739 \nL 472.146172 442.947811 \nL 477.726116 443.142073 \nL 483.30606 443.329559 \nL 488.886004 443.51029 \nL 494.465949 443.684279 \nL 500.045893 443.851524 \nL 505.625837 444.012011 \nL 511.205781 444.165711 \nL 516.785725 444.312578 \nL 522.36567 444.452546 \nL 527.945614 444.585527 \nL 533.525558 444.711403 \nL 539.105502 444.830026 \nL 544.685446 444.941203 \nL 550.265391 445.044688 \nL 555.845335 445.14016 \nL 561.425279 445.227197 \nL 567.005223 445.305225 \nL 572.585167 445.373421 \nL 578.165112 445.430519 \nL 583.745056 445.474242 \n\" style=\"fill:none;stroke:#8c564b;stroke-linecap:square;stroke-width:1.5;\"/>\n   </g>\n   <g id=\"line2d_20\">\n    <path clip-path=\"url(#pf2e30493b4)\" d=\"M 31.33058 354.898875 \nL 36.910524 409.628436 \nL 42.490468 415.332419 \nL 48.070413 418.733978 \nL 53.650357 421.182579 \nL 59.230301 423.103683 \nL 64.810245 424.68783 \nL 70.390189 426.03719 \nL 75.970134 427.213055 \nL 81.550078 428.255161 \nL 87.130022 429.190769 \nL 92.709966 430.039422 \nL 98.28991 430.815616 \nL 103.869855 431.530415 \nL 109.449799 432.19246 \nL 115.029743 432.808632 \nL 120.609687 433.384506 \nL 126.189631 433.924663 \nL 131.769576 434.432914 \nL 137.34952 434.912469 \nL 142.929464 435.366053 \nL 148.509408 435.796004 \nL 154.089352 436.204345 \nL 159.669297 436.592832 \nL 165.249241 436.963009 \nL 170.829185 437.316232 \nL 176.409129 437.653708 \nL 181.989073 437.976507 \nL 187.569018 438.285589 \nL 193.148962 438.581817 \nL 198.728906 438.86597 \nL 204.30885 439.13875 \nL 209.888794 439.400799 \nL 215.468739 439.652701 \nL 221.048683 439.894988 \nL 226.628627 440.128151 \nL 232.208571 440.352639 \nL 237.788515 440.568866 \nL 243.36846 440.777216 \nL 248.948404 440.978044 \nL 254.528348 441.171679 \nL 260.108292 441.358427 \nL 265.688236 441.538572 \nL 271.268181 441.712382 \nL 276.848125 441.880104 \nL 282.428069 442.041972 \nL 288.008013 442.198204 \nL 293.587957 442.349006 \nL 299.167902 442.494571 \nL 304.747846 442.635079 \nL 310.32779 442.770704 \nL 315.907734 442.901606 \nL 321.487678 443.027939 \nL 327.067623 443.149848 \nL 332.647567 443.26747 \nL 338.227511 443.380936 \nL 343.807455 443.49037 \nL 349.387399 443.595888 \nL 354.967344 443.697603 \nL 360.547288 443.795622 \nL 366.127232 443.890046 \nL 371.707176 443.980972 \nL 377.28712 444.068494 \nL 382.867065 444.152698 \nL 388.447009 444.233671 \nL 394.026953 444.311492 \nL 399.606897 444.38624 \nL 405.186841 444.457989 \nL 410.766786 444.52681 \nL 416.34673 444.592772 \nL 421.926674 444.65594 \nL 427.506618 444.716378 \nL 433.086562 444.774147 \nL 438.666507 444.829304 \nL 444.246451 444.881907 \nL 449.826395 444.932008 \nL 455.406339 444.979662 \nL 460.986283 445.024918 \nL 466.566228 445.067824 \nL 472.146172 445.108428 \nL 477.726116 445.146774 \nL 483.30606 445.182908 \nL 488.886004 445.21687 \nL 494.465949 445.248702 \nL 500.045893 445.278444 \nL 505.625837 445.306133 \nL 511.205781 445.331808 \nL 516.785725 445.355503 \nL 522.36567 445.377254 \nL 527.945614 445.397095 \nL 533.525558 445.415058 \nL 539.105502 445.431175 \nL 544.685446 445.445477 \nL 550.265391 445.457993 \nL 555.845335 445.468754 \nL 561.425279 445.477787 \nL 567.005223 445.485119 \nL 572.585167 445.490778 \nL 578.165112 445.494789 \nL 583.745056 445.497178 \n\" style=\"fill:none;stroke:#e377c2;stroke-linecap:square;stroke-width:1.5;\"/>\n   </g>\n   <g id=\"line2d_21\">\n    <path clip-path=\"url(#pf2e30493b4)\" d=\"M 31.33058 264.299781 \nL 36.910524 373.758904 \nL 42.490468 385.166869 \nL 48.070413 391.969988 \nL 53.650357 396.867189 \nL 59.230301 400.709397 \nL 64.810245 403.877692 \nL 70.390189 406.576411 \nL 75.970134 408.928142 \nL 81.550078 411.012353 \nL 87.130022 412.88357 \nL 92.709966 414.580874 \nL 98.28991 416.133263 \nL 103.869855 417.562862 \nL 109.449799 418.886951 \nL 115.029743 420.119296 \nL 120.609687 421.271044 \nL 126.189631 422.351357 \nL 131.769576 423.36786 \nL 137.34952 424.326969 \nL 142.929464 425.234137 \nL 148.509408 426.09404 \nL 154.089352 426.91072 \nL 159.669297 427.687695 \nL 165.249241 428.428048 \nL 170.829185 429.134496 \nL 176.409129 429.809446 \nL 181.989073 430.455044 \nL 187.569018 431.073209 \nL 193.148962 431.665666 \nL 198.728906 432.23397 \nL 204.30885 432.779532 \nL 209.888794 433.30363 \nL 215.468739 433.807433 \nL 221.048683 434.292008 \nL 226.628627 434.758333 \nL 232.208571 435.207308 \nL 237.788515 435.639763 \nL 243.36846 436.056464 \nL 248.948404 436.45812 \nL 254.528348 436.845389 \nL 260.108292 437.218884 \nL 265.688236 437.579175 \nL 271.268181 437.926795 \nL 276.848125 438.262239 \nL 282.428069 438.585975 \nL 288.008013 438.89844 \nL 293.587957 439.200044 \nL 299.167902 439.491172 \nL 304.747846 439.77219 \nL 310.32779 440.043438 \nL 315.907734 440.305243 \nL 321.487678 440.557909 \nL 327.067623 440.801727 \nL 332.647567 441.036972 \nL 338.227511 441.263904 \nL 343.807455 441.48277 \nL 349.387399 441.693807 \nL 354.967344 441.897237 \nL 360.547288 442.093275 \nL 366.127232 442.282123 \nL 371.707176 442.463976 \nL 377.28712 442.639018 \nL 382.867065 442.807427 \nL 388.447009 442.969372 \nL 394.026953 443.125015 \nL 399.606897 443.274511 \nL 405.186841 443.418009 \nL 410.766786 443.555651 \nL 416.34673 443.687575 \nL 421.926674 443.813912 \nL 427.506618 443.934788 \nL 433.086562 444.050325 \nL 438.666507 444.160639 \nL 444.246451 444.265844 \nL 449.826395 444.366048 \nL 455.406339 444.461355 \nL 460.986283 444.551867 \nL 466.566228 444.637679 \nL 472.146172 444.718887 \nL 477.726116 444.79558 \nL 483.30606 444.867847 \nL 488.886004 444.935771 \nL 494.465949 444.999436 \nL 500.045893 445.058919 \nL 505.625837 445.114298 \nL 511.205781 445.165647 \nL 516.785725 445.213038 \nL 522.36567 445.25654 \nL 527.945614 445.296221 \nL 533.525558 445.332147 \nL 539.105502 445.364381 \nL 544.685446 445.392985 \nL 550.265391 445.418018 \nL 555.845335 445.439539 \nL 561.425279 445.457605 \nL 567.005223 445.47227 \nL 572.585167 445.483587 \nL 578.165112 445.49161 \nL 583.745056 445.496387 \n\" style=\"fill:none;stroke:#7f7f7f;stroke-linecap:square;stroke-width:1.5;\"/>\n   </g>\n   <g id=\"line2d_22\">\n    <path clip-path=\"url(#pf2e30493b4)\" d=\"M 31.33058 173.700687 \nL 36.910524 337.889372 \nL 42.490468 355.001318 \nL 48.070413 365.205997 \nL 53.650357 372.551799 \nL 59.230301 378.31511 \nL 64.810245 383.067553 \nL 70.390189 387.115632 \nL 75.970134 390.643229 \nL 81.550078 393.769545 \nL 87.130022 396.57637 \nL 92.709966 399.122327 \nL 98.28991 401.45091 \nL 103.869855 403.595308 \nL 109.449799 405.581442 \nL 115.029743 407.429959 \nL 120.609687 409.157582 \nL 126.189631 410.778051 \nL 131.769576 412.302806 \nL 137.34952 413.741469 \nL 142.929464 415.102221 \nL 148.509408 416.392076 \nL 154.089352 417.617096 \nL 159.669297 418.782559 \nL 165.249241 419.893088 \nL 170.829185 420.95276 \nL 176.409129 421.965185 \nL 181.989073 422.933582 \nL 187.569018 423.86083 \nL 193.148962 424.749515 \nL 198.728906 425.601971 \nL 204.30885 426.420313 \nL 209.888794 427.206461 \nL 215.468739 427.962165 \nL 221.048683 428.689027 \nL 226.628627 429.388515 \nL 232.208571 430.061978 \nL 237.788515 430.710661 \nL 243.36846 431.335712 \nL 248.948404 431.938196 \nL 254.528348 432.5191 \nL 260.108292 433.079342 \nL 265.688236 433.619779 \nL 271.268181 434.141207 \nL 276.848125 434.644375 \nL 282.428069 435.129979 \nL 288.008013 435.598676 \nL 293.587957 436.051081 \nL 299.167902 436.487774 \nL 304.747846 436.9093 \nL 310.32779 437.316173 \nL 315.907734 437.70888 \nL 321.487678 438.087879 \nL 327.067623 438.453607 \nL 332.647567 438.806474 \nL 338.227511 439.146871 \nL 343.807455 439.475171 \nL 349.387399 439.791726 \nL 354.967344 440.096872 \nL 360.547288 440.390928 \nL 366.127232 440.674201 \nL 371.707176 440.94698 \nL 377.28712 441.209543 \nL 382.867065 441.462157 \nL 388.447009 441.705074 \nL 394.026953 441.938538 \nL 399.606897 442.162782 \nL 405.186841 442.378029 \nL 410.766786 442.584492 \nL 416.34673 442.782378 \nL 421.926674 442.971883 \nL 427.506618 443.153197 \nL 433.086562 443.326503 \nL 438.666507 443.491975 \nL 444.246451 443.649782 \nL 449.826395 443.800088 \nL 455.406339 443.943049 \nL 460.986283 444.078815 \nL 466.566228 444.207534 \nL 472.146172 444.329345 \nL 477.726116 444.444385 \nL 483.30606 444.552785 \nL 488.886004 444.654672 \nL 494.465949 444.750169 \nL 500.045893 444.839394 \nL 505.625837 444.922463 \nL 511.205781 444.999486 \nL 516.785725 445.070572 \nL 522.36567 445.135826 \nL 527.945614 445.195347 \nL 533.525558 445.249236 \nL 539.105502 445.297587 \nL 544.685446 445.340492 \nL 550.265391 445.378043 \nL 555.845335 445.410324 \nL 561.425279 445.437423 \nL 567.005223 445.45942 \nL 572.585167 445.476397 \nL 578.165112 445.48843 \nL 583.745056 445.495596 \n\" style=\"fill:none;stroke:#bcbd22;stroke-linecap:square;stroke-width:1.5;\"/>\n   </g>\n   <g id=\"line2d_23\">\n    <path clip-path=\"url(#pf2e30493b4)\" d=\"M 31.33058 354.899328 \nL 36.910524 409.808413 \nL 42.490468 415.635747 \nL 48.070413 419.138627 \nL 53.650357 421.673969 \nL 59.230301 423.670828 \nL 64.810245 425.321892 \nL 70.390189 426.730767 \nL 75.970134 427.959784 \nL 81.550078 429.049461 \nL 87.130022 430.027678 \nL 92.709966 430.914477 \nL 98.28991 431.72477 \nL 103.869855 432.469967 \nL 109.449799 433.159009 \nL 115.029743 433.799037 \nL 120.609687 434.395853 \nL 126.189631 434.954238 \nL 131.769576 435.478186 \nL 137.34952 435.971066 \nL 142.929464 436.435753 \nL 148.509408 436.874717 \nL 154.089352 437.290103 \nL 159.669297 437.683782 \nL 165.249241 438.0574 \nL 170.829185 438.412413 \nL 176.409129 438.750114 \nL 181.989073 439.071661 \nL 187.569018 439.378092 \nL 193.148962 439.670345 \nL 198.728906 439.949268 \nL 204.30885 440.215631 \nL 209.888794 440.470139 \nL 215.468739 440.713435 \nL 221.048683 440.946109 \nL 226.628627 441.168705 \nL 232.208571 441.381725 \nL 237.788515 441.585634 \nL 243.36846 441.780863 \nL 248.948404 441.967813 \nL 254.528348 442.146856 \nL 260.108292 442.318342 \nL 265.688236 442.482597 \nL 271.268181 442.639927 \nL 276.848125 442.79062 \nL 282.428069 442.934946 \nL 288.008013 443.073159 \nL 293.587957 443.205501 \nL 299.167902 443.332198 \nL 304.747846 443.453467 \nL 310.32779 443.569511 \nL 315.907734 443.680524 \nL 321.487678 443.78669 \nL 327.067623 443.888186 \nL 332.647567 443.985179 \nL 338.227511 444.077827 \nL 343.807455 444.166285 \nL 349.387399 444.250697 \nL 354.967344 444.331204 \nL 360.547288 444.40794 \nL 366.127232 444.481034 \nL 371.707176 444.55061 \nL 377.28712 444.616785 \nL 382.867065 444.679677 \nL 388.447009 444.739394 \nL 394.026953 444.796043 \nL 399.606897 444.849728 \nL 405.186841 444.900549 \nL 410.766786 444.948601 \nL 416.34673 444.993979 \nL 421.926674 445.036773 \nL 427.506618 445.077071 \nL 433.086562 445.11496 \nL 438.666507 445.150522 \nL 444.246451 445.183839 \nL 449.826395 445.21499 \nL 455.406339 445.244053 \nL 460.986283 445.271103 \nL 466.566228 445.296214 \nL 472.146172 445.319459 \nL 477.726116 445.340911 \nL 483.30606 445.360637 \nL 488.886004 445.378709 \nL 494.465949 445.395194 \nL 500.045893 445.410159 \nL 505.625837 445.423672 \nL 511.205781 445.435797 \nL 516.785725 445.446602 \nL 522.36567 445.456152 \nL 527.945614 445.464513 \nL 533.525558 445.47175 \nL 539.105502 445.477931 \nL 544.685446 445.483122 \nL 550.265391 445.487392 \nL 555.845335 445.490813 \nL 561.425279 445.493456 \nL 567.005223 445.495399 \nL 572.585167 445.496723 \nL 578.165112 445.497519 \nL 583.745056 445.49789 \n\" style=\"fill:none;stroke:#17becf;stroke-linecap:square;stroke-width:1.5;\"/>\n   </g>\n   <g id=\"line2d_24\">\n    <path clip-path=\"url(#pf2e30493b4)\" d=\"M 31.33058 264.300687 \nL 36.910524 374.118858 \nL 42.490468 385.773525 \nL 48.070413 392.779285 \nL 53.650357 397.849968 \nL 59.230301 401.843687 \nL 64.810245 405.145815 \nL 70.390189 407.963565 \nL 75.970134 410.421599 \nL 81.550078 412.600952 \nL 87.130022 414.557388 \nL 92.709966 416.330986 \nL 98.28991 417.951571 \nL 103.869855 419.441966 \nL 109.449799 420.82005 \nL 115.029743 422.100105 \nL 120.609687 423.293736 \nL 126.189631 424.410507 \nL 131.769576 425.458403 \nL 137.34952 426.444164 \nL 142.929464 427.373537 \nL 148.509408 428.251466 \nL 154.089352 429.082237 \nL 159.669297 429.869596 \nL 165.249241 430.616832 \nL 170.829185 431.326856 \nL 176.409129 432.002259 \nL 181.989073 432.645353 \nL 187.569018 433.258216 \nL 193.148962 433.842722 \nL 198.728906 434.400567 \nL 204.30885 434.933294 \nL 209.888794 435.44231 \nL 215.468739 435.928901 \nL 221.048683 436.394249 \nL 226.628627 436.839441 \nL 232.208571 437.265482 \nL 237.788515 437.6733 \nL 243.36846 438.063758 \nL 248.948404 438.437656 \nL 254.528348 438.795743 \nL 260.108292 439.138715 \nL 265.688236 439.467226 \nL 271.268181 439.781886 \nL 276.848125 440.083272 \nL 282.428069 440.371923 \nL 288.008013 440.64835 \nL 293.587957 440.913033 \nL 299.167902 441.166428 \nL 304.747846 441.408965 \nL 310.32779 441.641053 \nL 315.907734 441.863079 \nL 321.487678 442.075412 \nL 327.067623 442.278404 \nL 332.647567 442.472389 \nL 338.227511 442.657686 \nL 343.807455 442.834601 \nL 349.387399 443.003425 \nL 354.967344 443.16444 \nL 360.547288 443.317912 \nL 366.127232 443.4641 \nL 371.707176 443.60325 \nL 377.28712 443.735602 \nL 382.867065 443.861385 \nL 388.447009 443.980818 \nL 394.026953 444.094117 \nL 399.606897 444.201488 \nL 405.186841 444.303129 \nL 410.766786 444.399234 \nL 416.34673 444.489989 \nL 421.926674 444.575577 \nL 427.506618 444.656174 \nL 433.086562 444.731951 \nL 438.666507 444.803075 \nL 444.246451 444.869709 \nL 449.826395 444.932011 \nL 455.406339 444.990137 \nL 460.986283 445.044236 \nL 466.566228 445.094459 \nL 472.146172 445.14095 \nL 477.726116 445.183852 \nL 483.30606 445.223306 \nL 488.886004 445.25945 \nL 494.465949 445.292419 \nL 500.045893 445.32235 \nL 505.625837 445.349374 \nL 511.205781 445.373626 \nL 516.785725 445.395236 \nL 522.36567 445.414336 \nL 527.945614 445.431057 \nL 533.525558 445.445532 \nL 539.105502 445.457893 \nL 544.685446 445.468275 \nL 550.265391 445.476816 \nL 555.845335 445.483657 \nL 561.425279 445.488943 \nL 567.005223 445.492829 \nL 572.585167 445.495478 \nL 578.165112 445.497069 \nL 583.745056 445.497811 \n\" style=\"fill:none;stroke:#1f77b4;stroke-linecap:square;stroke-width:1.5;\"/>\n   </g>\n   <g id=\"line2d_25\">\n    <path clip-path=\"url(#pf2e30493b4)\" d=\"M 31.33058 173.702046 \nL 36.910524 338.429302 \nL 42.490468 355.911303 \nL 48.070413 366.419943 \nL 53.650357 374.025968 \nL 59.230301 380.016546 \nL 64.810245 384.969738 \nL 70.390189 389.196363 \nL 75.970134 392.883414 \nL 81.550078 396.152444 \nL 87.130022 399.087097 \nL 92.709966 401.747495 \nL 98.28991 404.178372 \nL 103.869855 406.413964 \nL 109.449799 408.48109 \nL 115.029743 410.401174 \nL 120.609687 412.19162 \nL 126.189631 413.866777 \nL 131.769576 415.43862 \nL 137.34952 416.917262 \nL 142.929464 418.311321 \nL 148.509408 419.628214 \nL 154.089352 420.874372 \nL 159.669297 422.055409 \nL 165.249241 423.176263 \nL 170.829185 424.2413 \nL 176.409129 425.254404 \nL 181.989073 426.219045 \nL 187.569018 427.138339 \nL 193.148962 428.015098 \nL 198.728906 428.851866 \nL 204.30885 429.650957 \nL 209.888794 430.41448 \nL 215.468739 431.144367 \nL 221.048683 431.842388 \nL 226.628627 432.510177 \nL 232.208571 433.149238 \nL 237.788515 433.760966 \nL 243.36846 434.346652 \nL 248.948404 434.9075 \nL 254.528348 435.44463 \nL 260.108292 435.959089 \nL 265.688236 436.451854 \nL 271.268181 436.923845 \nL 276.848125 437.375923 \nL 282.428069 437.8089 \nL 288.008013 438.22354 \nL 293.587957 438.620565 \nL 299.167902 439.000658 \nL 304.747846 439.364463 \nL 310.32779 439.712595 \nL 315.907734 440.045634 \nL 321.487678 440.364134 \nL 327.067623 440.668622 \nL 332.647567 440.959599 \nL 338.227511 441.237544 \nL 343.807455 441.502917 \nL 349.387399 441.756154 \nL 354.967344 441.997675 \nL 360.547288 442.227884 \nL 366.127232 442.447165 \nL 371.707176 442.655891 \nL 377.28712 442.854419 \nL 382.867065 443.043092 \nL 388.447009 443.222243 \nL 394.026953 443.392192 \nL 399.606897 443.553247 \nL 405.186841 443.705709 \nL 410.766786 443.849866 \nL 416.34673 443.985999 \nL 421.926674 444.114382 \nL 427.506618 444.235277 \nL 433.086562 444.348943 \nL 438.666507 444.455629 \nL 444.246451 444.55558 \nL 449.826395 444.649033 \nL 455.406339 444.73622 \nL 460.986283 444.81737 \nL 466.566228 444.892704 \nL 472.146172 444.962441 \nL 477.726116 445.026794 \nL 483.30606 445.085975 \nL 488.886004 445.14019 \nL 494.465949 445.189645 \nL 500.045893 445.23454 \nL 505.625837 445.275077 \nL 511.205781 445.311455 \nL 516.785725 445.34387 \nL 522.36567 445.372519 \nL 527.945614 445.397601 \nL 533.525558 445.419313 \nL 539.105502 445.437855 \nL 544.685446 445.453428 \nL 550.265391 445.466239 \nL 555.845335 445.4765 \nL 561.425279 445.48443 \nL 567.005223 445.490259 \nL 572.585167 445.494232 \nL 578.165112 445.49662 \nL 583.745056 445.497731 \n\" style=\"fill:none;stroke:#ff7f0e;stroke-linecap:square;stroke-width:1.5;\"/>\n   </g>\n   <g id=\"line2d_26\">\n    <path clip-path=\"url(#pf2e30493b4)\" d=\"M 31.33058 354.899781 \nL 36.910524 409.987487 \nL 42.490468 415.936025 \nL 48.070413 419.537157 \nL 53.650357 422.155428 \nL 59.230301 424.22361 \nL 64.810245 425.936634 \nL 70.390189 427.399625 \nL 75.970134 428.676017 \nL 81.550078 429.80717 \nL 87.130022 430.821636 \nL 92.709966 431.739999 \nL 98.28991 432.577627 \nL 103.869855 433.346319 \nL 109.449799 434.055346 \nL 115.029743 434.712141 \nL 120.609687 435.322762 \nL 126.189631 435.892221 \nL 131.769576 436.424715 \nL 137.34952 436.923799 \nL 142.929464 437.392517 \nL 148.509408 437.833494 \nL 154.089352 438.249014 \nL 159.669297 438.641082 \nL 165.249241 439.011464 \nL 170.829185 439.361728 \nL 176.409129 439.693274 \nL 181.989073 440.007356 \nL 187.569018 440.305107 \nL 193.148962 440.58755 \nL 198.728906 440.855616 \nL 204.30885 441.110152 \nL 209.888794 441.351935 \nL 215.468739 441.581678 \nL 221.048683 441.800039 \nL 226.628627 442.007622 \nL 232.208571 442.20499 \nL 237.788515 442.392665 \nL 243.36846 442.571132 \nL 248.948404 442.740842 \nL 254.528348 442.902221 \nL 260.108292 443.055663 \nL 265.688236 443.201542 \nL 271.268181 443.340206 \nL 276.848125 443.471985 \nL 282.428069 443.59719 \nL 288.008013 443.716114 \nL 293.587957 443.829035 \nL 299.167902 443.936217 \nL 304.747846 444.03791 \nL 310.32779 444.13435 \nL 315.907734 444.225764 \nL 321.487678 444.312366 \nL 327.067623 444.394363 \nL 332.647567 444.47195 \nL 338.227511 444.545314 \nL 343.807455 444.614634 \nL 349.387399 444.680082 \nL 354.967344 444.741823 \nL 360.547288 444.800014 \nL 366.127232 444.854806 \nL 371.707176 444.906346 \nL 377.28712 444.954774 \nL 382.867065 445.000224 \nL 388.447009 445.042826 \nL 394.026953 445.082706 \nL 399.606897 445.119985 \nL 405.186841 445.154779 \nL 410.766786 445.187201 \nL 416.34673 445.217361 \nL 421.926674 445.245363 \nL 427.506618 445.27131 \nL 433.086562 445.295301 \nL 438.666507 445.317431 \nL 444.246451 445.337794 \nL 449.826395 445.35648 \nL 455.406339 445.373576 \nL 460.986283 445.389168 \nL 466.566228 445.403338 \nL 472.146172 445.416166 \nL 477.726116 445.427731 \nL 483.30606 445.438108 \nL 488.886004 445.447371 \nL 494.465949 445.455594 \nL 500.045893 445.462845 \nL 505.625837 445.469194 \nL 511.205781 445.474706 \nL 516.785725 445.479448 \nL 522.36567 445.483483 \nL 527.945614 445.486873 \nL 533.525558 445.489678 \nL 539.105502 445.491957 \nL 544.685446 445.493769 \nL 550.265391 445.49517 \nL 555.845335 445.496216 \nL 561.425279 445.49696 \nL 567.005223 445.497455 \nL 572.585167 445.497753 \nL 578.165112 445.497905 \nL 583.745056 445.497961 \n\" style=\"fill:none;stroke:#2ca02c;stroke-linecap:square;stroke-width:1.5;\"/>\n   </g>\n   <g id=\"line2d_27\">\n    <path clip-path=\"url(#pf2e30493b4)\" d=\"M 31.33058 264.301593 \nL 36.910524 374.477005 \nL 42.490468 386.374082 \nL 48.070413 393.576346 \nL 53.650357 398.812887 \nL 59.230301 402.949251 \nL 64.810245 406.3753 \nL 70.390189 409.301282 \nL 75.970134 411.854065 \nL 81.550078 414.116372 \nL 87.130022 416.145303 \nL 92.709966 417.98203 \nL 98.28991 419.657286 \nL 103.869855 421.194669 \nL 109.449799 422.612722 \nL 115.029743 423.926312 \nL 120.609687 425.147555 \nL 126.189631 426.286473 \nL 131.769576 427.351461 \nL 137.34952 428.34963 \nL 142.929464 429.287065 \nL 148.509408 430.169018 \nL 154.089352 431.00006 \nL 159.669297 431.784195 \nL 165.249241 432.524959 \nL 170.829185 433.225487 \nL 176.409129 433.888578 \nL 181.989073 434.516744 \nL 187.569018 435.112246 \nL 193.148962 435.677132 \nL 198.728906 436.213263 \nL 204.30885 436.722335 \nL 209.888794 437.205901 \nL 215.468739 437.665388 \nL 221.048683 438.102108 \nL 226.628627 438.517275 \nL 232.208571 438.912012 \nL 237.788515 439.287361 \nL 243.36846 439.644294 \nL 248.948404 439.983716 \nL 254.528348 440.306473 \nL 260.108292 440.613358 \nL 265.688236 440.905115 \nL 271.268181 441.182443 \nL 276.848125 441.446001 \nL 282.428069 441.69641 \nL 288.008013 441.934259 \nL 293.587957 442.160102 \nL 299.167902 442.374466 \nL 304.747846 442.577851 \nL 310.32779 442.770731 \nL 315.907734 442.953559 \nL 321.487678 443.126764 \nL 327.067623 443.290757 \nL 332.647567 443.445931 \nL 338.227511 443.592659 \nL 343.807455 443.731299 \nL 349.387399 443.862196 \nL 354.967344 443.985677 \nL 360.547288 444.102058 \nL 366.127232 444.211643 \nL 371.707176 444.314723 \nL 377.28712 444.411578 \nL 382.867065 444.502478 \nL 388.447009 444.587683 \nL 394.026953 444.667443 \nL 399.606897 444.742001 \nL 405.186841 444.811589 \nL 410.766786 444.876433 \nL 416.34673 444.936752 \nL 421.926674 444.992757 \nL 427.506618 445.044651 \nL 433.086562 445.092632 \nL 438.666507 445.136893 \nL 444.246451 445.17762 \nL 449.826395 445.214991 \nL 455.406339 445.249184 \nL 460.986283 445.280367 \nL 466.566228 445.308707 \nL 472.146172 445.334363 \nL 477.726116 445.357492 \nL 483.30606 445.378247 \nL 488.886004 445.396774 \nL 494.465949 445.413219 \nL 500.045893 445.427721 \nL 505.625837 445.440419 \nL 511.205781 445.451444 \nL 516.785725 445.460928 \nL 522.36567 445.468998 \nL 527.945614 445.475777 \nL 533.525558 445.481387 \nL 539.105502 445.485946 \nL 544.685446 445.48957 \nL 550.265391 445.492372 \nL 555.845335 445.494463 \nL 561.425279 445.495951 \nL 567.005223 445.496941 \nL 572.585167 445.497537 \nL 578.165112 445.497842 \nL 583.745056 445.497953 \n\" style=\"fill:none;stroke:#d62728;stroke-linecap:square;stroke-width:1.5;\"/>\n   </g>\n   <g id=\"line2d_28\">\n    <path clip-path=\"url(#pf2e30493b4)\" d=\"M 31.33058 173.703405 \nL 36.910524 338.966523 \nL 42.490468 356.812138 \nL 48.070413 367.615535 \nL 53.650357 375.470346 \nL 59.230301 381.674892 \nL 64.810245 386.813965 \nL 70.390189 391.202938 \nL 75.970134 395.032113 \nL 81.550078 398.425574 \nL 87.130022 401.46897 \nL 92.709966 404.22406 \nL 98.28991 406.736945 \nL 103.869855 409.043018 \nL 109.449799 411.170099 \nL 115.029743 413.140484 \nL 120.609687 414.972349 \nL 126.189631 416.680726 \nL 131.769576 418.278207 \nL 137.34952 419.775461 \nL 142.929464 421.181613 \nL 148.509408 422.504543 \nL 154.089352 423.751105 \nL 159.669297 424.927309 \nL 165.249241 426.038454 \nL 170.829185 427.089246 \nL 176.409129 428.083883 \nL 181.989073 429.026131 \nL 187.569018 429.919385 \nL 193.148962 430.766714 \nL 198.728906 431.57091 \nL 204.30885 432.334518 \nL 209.888794 433.059868 \nL 215.468739 433.749098 \nL 221.048683 434.404178 \nL 226.628627 435.026929 \nL 232.208571 435.619034 \nL 237.788515 436.182058 \nL 243.36846 436.717457 \nL 248.948404 437.22659 \nL 254.528348 437.710725 \nL 260.108292 438.171052 \nL 265.688236 438.608688 \nL 271.268181 439.02468 \nL 276.848125 439.420017 \nL 282.428069 439.795631 \nL 288.008013 440.152404 \nL 293.587957 440.491168 \nL 299.167902 440.812714 \nL 304.747846 441.117791 \nL 310.32779 441.407112 \nL 315.907734 441.681353 \nL 321.487678 441.941161 \nL 327.067623 442.187152 \nL 332.647567 442.419912 \nL 338.227511 442.640003 \nL 343.807455 442.847964 \nL 349.387399 443.044309 \nL 354.967344 443.229531 \nL 360.547288 443.404103 \nL 366.127232 443.568481 \nL 371.707176 443.723101 \nL 377.28712 443.868383 \nL 382.867065 444.004733 \nL 388.447009 444.13254 \nL 394.026953 444.252181 \nL 399.606897 444.364017 \nL 405.186841 444.468399 \nL 410.766786 444.565666 \nL 416.34673 444.656144 \nL 421.926674 444.740151 \nL 427.506618 444.817992 \nL 433.086562 444.889964 \nL 438.666507 444.956356 \nL 444.246451 445.017445 \nL 449.826395 445.073503 \nL 455.406339 445.124792 \nL 460.986283 445.171567 \nL 466.566228 445.214076 \nL 472.146172 445.25256 \nL 477.726116 445.287254 \nL 483.30606 445.318386 \nL 488.886004 445.346177 \nL 494.465949 445.370844 \nL 500.045893 445.392598 \nL 505.625837 445.411644 \nL 511.205781 445.428182 \nL 516.785725 445.442408 \nL 522.36567 445.454512 \nL 527.945614 445.464681 \nL 533.525558 445.473096 \nL 539.105502 445.479935 \nL 544.685446 445.485371 \nL 550.265391 445.489574 \nL 555.845335 445.49271 \nL 561.425279 445.494941 \nL 567.005223 445.496427 \nL 572.585167 445.497322 \nL 578.165112 445.497778 \nL 583.745056 445.497945 \n\" style=\"fill:none;stroke:#9467bd;stroke-linecap:square;stroke-width:1.5;\"/>\n   </g>\n   <g id=\"line2d_29\">\n    <path clip-path=\"url(#pf2e30493b4)\" d=\"M 31.33058 354.900234 \nL 36.910524 410.165662 \nL 42.490468 416.233284 \nL 48.070413 419.929663 \nL 53.650357 422.627157 \nL 59.230301 424.762392 \nL 64.810245 426.532646 \nL 70.390189 428.044646 \nL 75.970134 429.363 \nL 81.550078 430.529976 \nL 87.130022 431.574847 \nL 92.709966 432.518791 \nL 98.28991 433.377675 \nL 103.869855 434.163721 \nL 109.449799 434.88657 \nL 115.029743 435.553976 \nL 120.609687 436.172284 \nL 126.189631 436.74676 \nL 131.769576 437.281829 \nL 137.34952 437.781255 \nL 142.929464 438.248269 \nL 148.509408 438.685668 \nL 154.089352 439.095898 \nL 159.669297 439.481105 \nL 165.249241 439.843193 \nL 170.829185 440.183855 \nL 176.409129 440.504606 \nL 181.989073 440.806811 \nL 187.569018 441.091702 \nL 193.148962 441.360397 \nL 198.728906 441.613917 \nL 204.30885 441.853192 \nL 209.888794 442.079079 \nL 215.468739 442.292363 \nL 221.048683 442.493771 \nL 226.628627 442.683975 \nL 232.208571 442.863599 \nL 237.788515 443.033223 \nL 243.36846 443.193386 \nL 248.948404 443.344595 \nL 254.528348 443.487321 \nL 260.108292 443.622008 \nL 265.688236 443.749071 \nL 271.268181 443.868902 \nL 276.848125 443.981869 \nL 282.428069 444.08832 \nL 288.008013 444.188585 \nL 293.587957 444.282973 \nL 299.167902 444.371779 \nL 304.747846 444.455283 \nL 310.32779 444.533749 \nL 315.907734 444.60743 \nL 321.487678 444.676563 \nL 327.067623 444.741379 \nL 332.647567 444.802092 \nL 338.227511 444.858911 \nL 343.807455 444.912034 \nL 349.387399 444.961647 \nL 354.967344 445.007933 \nL 360.547288 445.051062 \nL 366.127232 445.091199 \nL 371.707176 445.128502 \nL 377.28712 445.163122 \nL 382.867065 445.195204 \nL 388.447009 445.224884 \nL 394.026953 445.252297 \nL 399.606897 445.277569 \nL 405.186841 445.300822 \nL 410.766786 445.322173 \nL 416.34673 445.341733 \nL 421.926674 445.359611 \nL 427.506618 445.37591 \nL 433.086562 445.390727 \nL 438.666507 445.404159 \nL 444.246451 445.416296 \nL 449.826395 445.427225 \nL 455.406339 445.437029 \nL 460.986283 445.44579 \nL 466.566228 445.453583 \nL 472.146172 445.460482 \nL 477.726116 445.466557 \nL 483.30606 445.471876 \nL 488.886004 445.476502 \nL 494.465949 445.480497 \nL 500.045893 445.483919 \nL 505.625837 445.486824 \nL 511.205781 445.489265 \nL 516.785725 445.491291 \nL 522.36567 445.492951 \nL 527.945614 445.494289 \nL 533.525558 445.495347 \nL 539.105502 445.496165 \nL 544.685446 445.496781 \nL 550.265391 445.497228 \nL 555.845335 445.497539 \nL 561.425279 445.497743 \nL 567.005223 445.497866 \nL 572.585167 445.497931 \nL 578.165112 445.49796 \nL 583.745056 445.497968 \n\" style=\"fill:none;stroke:#8c564b;stroke-linecap:square;stroke-width:1.5;\"/>\n   </g>\n   <g id=\"line2d_30\">\n    <path clip-path=\"url(#pf2e30493b4)\" d=\"M 31.33058 264.302499 \nL 36.910524 374.833355 \nL 42.490468 386.968599 \nL 48.070413 394.361357 \nL 53.650357 399.756346 \nL 59.230301 404.026816 \nL 64.810245 407.567323 \nL 70.390189 410.591322 \nL 75.970134 413.228031 \nL 81.550078 415.561983 \nL 87.130022 417.651724 \nL 92.709966 419.539614 \nL 98.28991 421.257381 \nL 103.869855 422.829473 \nL 109.449799 424.275171 \nL 115.029743 425.609984 \nL 120.609687 426.8466 \nL 126.189631 427.995551 \nL 131.769576 429.065689 \nL 137.34952 430.064541 \nL 142.929464 430.998568 \nL 148.509408 431.873368 \nL 154.089352 432.693826 \nL 159.669297 433.464242 \nL 165.249241 434.188418 \nL 170.829185 434.869741 \nL 176.409129 435.511243 \nL 181.989073 436.115653 \nL 187.569018 436.685435 \nL 193.148962 437.222826 \nL 198.728906 437.729865 \nL 204.30885 438.208416 \nL 209.888794 438.660189 \nL 215.468739 439.086757 \nL 221.048683 439.489573 \nL 226.628627 439.869982 \nL 232.208571 440.22923 \nL 237.788515 440.568477 \nL 243.36846 440.888804 \nL 248.948404 441.191221 \nL 254.528348 441.476674 \nL 260.108292 441.746047 \nL 265.688236 442.000173 \nL 271.268181 442.239834 \nL 276.848125 442.465769 \nL 282.428069 442.678672 \nL 288.008013 442.879201 \nL 293.587957 443.067977 \nL 299.167902 443.24559 \nL 304.747846 443.412598 \nL 310.32779 443.56953 \nL 315.907734 443.716891 \nL 321.487678 443.855158 \nL 327.067623 443.984788 \nL 332.647567 444.106216 \nL 338.227511 444.219854 \nL 343.807455 444.326099 \nL 349.387399 444.425326 \nL 354.967344 444.517896 \nL 360.547288 444.604154 \nL 366.127232 444.684429 \nL 371.707176 444.759036 \nL 377.28712 444.828276 \nL 382.867065 444.892439 \nL 388.447009 444.9518 \nL 394.026953 445.006626 \nL 399.606897 445.05717 \nL 405.186841 445.103675 \nL 410.766786 445.146377 \nL 416.34673 445.185498 \nL 421.926674 445.221254 \nL 427.506618 445.253851 \nL 433.086562 445.283486 \nL 438.666507 445.310349 \nL 444.246451 445.334623 \nL 449.826395 445.356481 \nL 455.406339 445.37609 \nL 460.986283 445.393611 \nL 466.566228 445.409198 \nL 472.146172 445.422996 \nL 477.726116 445.435146 \nL 483.30606 445.445783 \nL 488.886004 445.455036 \nL 494.465949 445.463026 \nL 500.045893 445.46987 \nL 505.625837 445.47568 \nL 511.205781 445.480561 \nL 516.785725 445.484614 \nL 522.36567 445.487933 \nL 527.945614 445.490609 \nL 533.525558 445.492725 \nL 539.105502 445.494362 \nL 544.685446 445.495593 \nL 550.265391 445.496488 \nL 555.845335 445.49711 \nL 561.425279 445.497517 \nL 567.005223 445.497763 \nL 572.585167 445.497894 \nL 578.165112 445.497951 \nL 583.745056 445.497967 \n\" style=\"fill:none;stroke:#e377c2;stroke-linecap:square;stroke-width:1.5;\"/>\n   </g>\n   <g id=\"line2d_31\">\n    <path clip-path=\"url(#pf2e30493b4)\" d=\"M 31.33058 173.704764 \nL 36.910524 339.501049 \nL 42.490468 357.703915 \nL 48.070413 368.793051 \nL 53.650357 376.885534 \nL 59.230301 383.291239 \nL 64.810245 388.602001 \nL 70.390189 393.137999 \nL 75.970134 397.093062 \nL 81.550078 400.59399 \nL 87.130022 403.728602 \nL 92.709966 406.560436 \nL 98.28991 409.137087 \nL 103.869855 411.495225 \nL 109.449799 413.663771 \nL 115.029743 415.665991 \nL 120.609687 417.520916 \nL 126.189631 419.244342 \nL 131.769576 420.84955 \nL 137.34952 422.347827 \nL 142.929464 423.748868 \nL 148.509408 425.061067 \nL 154.089352 426.291755 \nL 159.669297 427.447378 \nL 165.249241 428.533642 \nL 170.829185 429.555627 \nL 176.409129 430.517881 \nL 181.989073 431.424495 \nL 187.569018 432.279168 \nL 193.148962 433.085255 \nL 198.728906 433.845814 \nL 204.30885 434.56364 \nL 209.888794 435.241299 \nL 215.468739 435.881152 \nL 221.048683 436.485376 \nL 226.628627 437.055988 \nL 232.208571 437.59486 \nL 237.788515 438.103731 \nL 243.36846 438.584222 \nL 248.948404 439.037848 \nL 254.528348 439.466026 \nL 260.108292 439.870086 \nL 265.688236 440.251275 \nL 271.268181 440.610767 \nL 276.848125 440.949669 \nL 282.428069 441.269023 \nL 288.008013 441.569817 \nL 293.587957 441.852981 \nL 299.167902 442.119401 \nL 304.747846 442.369912 \nL 310.32779 442.605311 \nL 315.907734 442.826351 \nL 321.487678 443.033753 \nL 327.067623 443.228198 \nL 332.647567 443.410339 \nL 338.227511 443.580797 \nL 343.807455 443.740163 \nL 349.387399 443.889004 \nL 354.967344 444.02786 \nL 360.547288 444.157247 \nL 366.127232 444.27766 \nL 371.707176 444.38957 \nL 377.28712 444.49343 \nL 382.867065 444.589674 \nL 388.447009 444.678716 \nL 394.026953 444.760954 \nL 399.606897 444.83677 \nL 405.186841 444.906529 \nL 410.766786 444.970581 \nL 416.34673 445.029263 \nL 421.926674 445.082897 \nL 427.506618 445.131792 \nL 433.086562 445.176245 \nL 438.666507 445.21654 \nL 444.246451 445.25295 \nL 449.826395 445.285737 \nL 455.406339 445.315151 \nL 460.986283 445.341433 \nL 466.566228 445.364812 \nL 472.146172 445.385509 \nL 477.726116 445.403735 \nL 483.30606 445.419691 \nL 488.886004 445.433569 \nL 494.465949 445.445554 \nL 500.045893 445.455821 \nL 505.625837 445.464535 \nL 511.205781 445.471857 \nL 516.785725 445.477936 \nL 522.36567 445.482915 \nL 527.945614 445.486928 \nL 533.525558 445.490103 \nL 539.105502 445.492559 \nL 544.685446 445.494406 \nL 550.265391 445.495748 \nL 555.845335 445.496681 \nL 561.425279 445.497292 \nL 567.005223 445.49766 \nL 572.585167 445.497857 \nL 578.165112 445.497942 \nL 583.745056 445.497966 \n\" style=\"fill:none;stroke:#7f7f7f;stroke-linecap:square;stroke-width:1.5;\"/>\n   </g>\n   <g id=\"line2d_32\">\n    <path clip-path=\"url(#pf2e30493b4)\" d=\"M 31.33058 354.900687 \nL 36.910524 410.342943 \nL 42.490468 416.527554 \nL 48.070413 420.316234 \nL 53.650357 423.089354 \nL 59.230301 425.28753 \nL 64.810245 427.110498 \nL 70.390189 428.666678 \nL 75.970134 430.021928 \nL 81.550078 431.219485 \nL 87.130022 432.289401 \nL 92.709966 433.253498 \nL 98.28991 434.128182 \nL 103.869855 434.926139 \nL 109.449799 435.657411 \nL 115.029743 436.330106 \nL 120.609687 436.950881 \nL 126.189631 437.525278 \nL 131.769576 438.057975 \nL 137.34952 438.552961 \nL 142.929464 439.013672 \nL 148.509408 439.443094 \nL 154.089352 439.843841 \nL 159.669297 440.218219 \nL 165.249241 440.568274 \nL 170.829185 440.895834 \nL 176.409129 441.202537 \nL 181.989073 441.489862 \nL 187.569018 441.759146 \nL 193.148962 442.011607 \nL 198.728906 442.248354 \nL 204.30885 442.470405 \nL 209.888794 442.678694 \nL 215.468739 442.87408 \nL 221.048683 443.057359 \nL 226.628627 443.229266 \nL 232.208571 443.390484 \nL 237.788515 443.541647 \nL 243.36846 443.683348 \nL 248.948404 443.816139 \nL 254.528348 443.940536 \nL 260.108292 444.057023 \nL 265.688236 444.166054 \nL 271.268181 444.268056 \nL 276.848125 444.363429 \nL 282.428069 444.452551 \nL 288.008013 444.535777 \nL 293.587957 444.613443 \nL 299.167902 444.685866 \nL 304.747846 444.753346 \nL 310.32779 444.816166 \nL 315.907734 444.874594 \nL 321.487678 444.928885 \nL 327.067623 444.979279 \nL 332.647567 445.026005 \nL 338.227511 445.069278 \nL 343.807455 445.109305 \nL 349.387399 445.146281 \nL 354.967344 445.180391 \nL 360.547288 445.21181 \nL 366.127232 445.240706 \nL 371.707176 445.267238 \nL 377.28712 445.291557 \nL 382.867065 445.313805 \nL 388.447009 445.334119 \nL 394.026953 445.352628 \nL 399.606897 445.369455 \nL 405.186841 445.384717 \nL 410.766786 445.398524 \nL 416.34673 445.410981 \nL 421.926674 445.422188 \nL 427.506618 445.432238 \nL 433.086562 445.441222 \nL 438.666507 445.449224 \nL 444.246451 445.456324 \nL 449.826395 445.462597 \nL 455.406339 445.468115 \nL 460.986283 445.472945 \nL 466.566228 445.47715 \nL 472.146172 445.48079 \nL 477.726116 445.483921 \nL 483.30606 445.486595 \nL 488.886004 445.488861 \nL 494.465949 445.490765 \nL 500.045893 445.492349 \nL 505.625837 445.493653 \nL 511.205781 445.494712 \nL 516.785725 445.495561 \nL 522.36567 445.49623 \nL 527.945614 445.496748 \nL 533.525558 445.49714 \nL 539.105502 445.497428 \nL 544.685446 445.497633 \nL 550.265391 445.497773 \nL 555.845335 445.497864 \nL 561.425279 445.497918 \nL 567.005223 445.497948 \nL 572.585167 445.497962 \nL 578.165112 445.497967 \nL 583.745056 445.497969 \n\" style=\"fill:none;stroke:#bcbd22;stroke-linecap:square;stroke-width:1.5;\"/>\n   </g>\n   <g id=\"line2d_33\">\n    <path clip-path=\"url(#pf2e30493b4)\" d=\"M 31.33058 264.303405 \nL 36.910524 375.187918 \nL 42.490468 387.557139 \nL 48.070413 395.134498 \nL 53.650357 400.680738 \nL 59.230301 405.077091 \nL 64.810245 408.723028 \nL 70.390189 411.835386 \nL 75.970134 414.545887 \nL 81.550078 416.941001 \nL 87.130022 419.080834 \nL 92.709966 421.009028 \nL 98.28991 422.758395 \nL 103.869855 424.354309 \nL 109.449799 425.816854 \nL 115.029743 427.162244 \nL 120.609687 428.403792 \nL 126.189631 429.552587 \nL 131.769576 430.617981 \nL 137.34952 431.607953 \nL 142.929464 432.529376 \nL 148.509408 433.388219 \nL 154.089352 434.189713 \nL 159.669297 434.938469 \nL 165.249241 435.63858 \nL 170.829185 436.293699 \nL 176.409129 436.907106 \nL 181.989073 437.481755 \nL 187.569018 438.020323 \nL 193.148962 438.525244 \nL 198.728906 438.99874 \nL 204.30885 439.442842 \nL 209.888794 439.859419 \nL 215.468739 440.250192 \nL 221.048683 440.61675 \nL 226.628627 440.960563 \nL 232.208571 441.282999 \nL 237.788515 441.585325 \nL 243.36846 441.868727 \nL 248.948404 442.134308 \nL 254.528348 442.383102 \nL 260.108292 442.616077 \nL 265.688236 442.83414 \nL 271.268181 443.038143 \nL 276.848125 443.228889 \nL 282.428069 443.407133 \nL 288.008013 443.573585 \nL 293.587957 443.728917 \nL 299.167902 443.873763 \nL 304.747846 444.008723 \nL 310.32779 444.134363 \nL 315.907734 444.25122 \nL 321.487678 444.359802 \nL 327.067623 444.46059 \nL 332.647567 444.554041 \nL 338.227511 444.640588 \nL 343.807455 444.720642 \nL 349.387399 444.794593 \nL 354.967344 444.862812 \nL 360.547288 444.925651 \nL 366.127232 444.983444 \nL 371.707176 445.036508 \nL 377.28712 445.085145 \nL 382.867065 445.129641 \nL 388.447009 445.170269 \nL 394.026953 445.207288 \nL 399.606897 445.240942 \nL 405.186841 445.271466 \nL 410.766786 445.299079 \nL 416.34673 445.323993 \nL 421.926674 445.346407 \nL 427.506618 445.366508 \nL 433.086562 445.384476 \nL 438.666507 445.400479 \nL 444.246451 445.414679 \nL 449.826395 445.427225 \nL 455.406339 445.438261 \nL 460.986283 445.447921 \nL 466.566228 445.456332 \nL 472.146172 445.463612 \nL 477.726116 445.469874 \nL 483.30606 445.475222 \nL 488.886004 445.479754 \nL 494.465949 445.483561 \nL 500.045893 445.486729 \nL 505.625837 445.489336 \nL 511.205781 445.491455 \nL 516.785725 445.493154 \nL 522.36567 445.494492 \nL 527.945614 445.495528 \nL 533.525558 445.496311 \nL 539.105502 445.496887 \nL 544.685446 445.497297 \nL 550.265391 445.497577 \nL 555.845335 445.497758 \nL 561.425279 445.497868 \nL 567.005223 445.497928 \nL 572.585167 445.497956 \nL 578.165112 445.497966 \nL 583.745056 445.497969 \n\" style=\"fill:none;stroke:#17becf;stroke-linecap:square;stroke-width:1.5;\"/>\n   </g>\n   <g id=\"line2d_34\">\n    <path clip-path=\"url(#pf2e30493b4)\" d=\"M 31.33058 173.706123 \nL 36.910524 340.032892 \nL 42.490468 358.586724 \nL 48.070413 369.952763 \nL 53.650357 378.272123 \nL 59.230301 384.866652 \nL 64.810245 390.335557 \nL 70.390189 395.004095 \nL 75.970134 399.069845 \nL 81.550078 402.662518 \nL 87.130022 405.872266 \nL 92.709966 408.764558 \nL 98.28991 411.388609 \nL 103.869855 413.782479 \nL 109.449799 415.976296 \nL 115.029743 417.994382 \nL 120.609687 419.856704 \nL 126.189631 421.579896 \nL 131.769576 423.177987 \nL 137.34952 424.662946 \nL 142.929464 426.045079 \nL 148.509408 427.333344 \nL 154.089352 428.535585 \nL 159.669297 429.658719 \nL 165.249241 430.708885 \nL 170.829185 431.691565 \nL 176.409129 432.611674 \nL 181.989073 433.473648 \nL 187.569018 434.2815 \nL 193.148962 435.038882 \nL 198.728906 435.749125 \nL 204.30885 436.415279 \nL 209.888794 437.040145 \nL 215.468739 437.626304 \nL 221.048683 438.17614 \nL 226.628627 438.691861 \nL 232.208571 439.175513 \nL 237.788515 439.629004 \nL 243.36846 440.054106 \nL 248.948404 440.452478 \nL 254.528348 440.825669 \nL 260.108292 441.175131 \nL 265.688236 441.502226 \nL 271.268181 441.808231 \nL 276.848125 442.09435 \nL 282.428069 442.361715 \nL 288.008013 442.611393 \nL 293.587957 442.844391 \nL 299.167902 443.061661 \nL 304.747846 443.264101 \nL 310.32779 443.452561 \nL 315.907734 443.627846 \nL 321.487678 443.790718 \nL 327.067623 443.9419 \nL 332.647567 444.082077 \nL 338.227511 444.211897 \nL 343.807455 444.331978 \nL 349.387399 444.442906 \nL 354.967344 444.545234 \nL 360.547288 444.639492 \nL 366.127232 444.726181 \nL 371.707176 444.805777 \nL 377.28712 444.878732 \nL 382.867065 444.945477 \nL 388.447009 445.006419 \nL 394.026953 445.061947 \nL 399.606897 445.112429 \nL 405.186841 445.158214 \nL 410.766786 445.199635 \nL 416.34673 445.237006 \nL 421.926674 445.270626 \nL 427.506618 445.300777 \nL 433.086562 445.327729 \nL 438.666507 445.351735 \nL 444.246451 445.373034 \nL 449.826395 445.391853 \nL 455.406339 445.408407 \nL 460.986283 445.422897 \nL 466.566228 445.435513 \nL 472.146172 445.446433 \nL 477.726116 445.455826 \nL 483.30606 445.463848 \nL 488.886004 445.470646 \nL 494.465949 445.476358 \nL 500.045893 445.48111 \nL 505.625837 445.48502 \nL 511.205781 445.488199 \nL 516.785725 445.490746 \nL 522.36567 445.492754 \nL 527.945614 445.494307 \nL 533.525558 445.495481 \nL 539.105502 445.496346 \nL 544.685446 445.496961 \nL 550.265391 445.497381 \nL 555.845335 445.497653 \nL 561.425279 445.497817 \nL 567.005223 445.497907 \nL 572.585167 445.497949 \nL 578.165112 445.497965 \nL 583.745056 445.497969 \n\" style=\"fill:none;stroke:#1f77b4;stroke-linecap:square;stroke-width:1.5;\"/>\n   </g>\n   <g id=\"patch_3\">\n    <path d=\"M 31.325 445.497969 \nL 31.325 10.617969 \n\" style=\"fill:none;stroke:#000000;stroke-linecap:square;stroke-linejoin:miter;stroke-width:0.8;\"/>\n   </g>\n   <g id=\"patch_4\">\n    <path d=\"M 589.325 445.497969 \nL 589.325 10.617969 \n\" style=\"fill:none;stroke:#000000;stroke-linecap:square;stroke-linejoin:miter;stroke-width:0.8;\"/>\n   </g>\n   <g id=\"patch_5\">\n    <path d=\"M 31.325 445.497969 \nL 589.325 445.497969 \n\" style=\"fill:none;stroke:#000000;stroke-linecap:square;stroke-linejoin:miter;stroke-width:0.8;\"/>\n   </g>\n   <g id=\"patch_6\">\n    <path d=\"M 31.325 10.617969 \nL 589.325 10.617969 \n\" style=\"fill:none;stroke:#000000;stroke-linecap:square;stroke-linejoin:miter;stroke-width:0.8;\"/>\n   </g>\n   <g id=\"legend_1\">\n    <g id=\"patch_7\">\n     <path d=\"M 469.925 325.217969 \nL 582.325 325.217969 \nQ 584.325 325.217969 584.325 323.217969 \nL 584.325 17.617969 \nQ 584.325 15.617969 582.325 15.617969 \nL 469.925 15.617969 \nQ 467.925 15.617969 467.925 17.617969 \nL 467.925 323.217969 \nQ 467.925 325.217969 469.925 325.217969 \nz\n\" style=\"fill:#ffffff;opacity:0.8;stroke:#cccccc;stroke-linejoin:miter;\"/>\n    </g>\n    <g id=\"line2d_35\">\n     <path d=\"M 471.925 23.617969 \nL 491.925 23.617969 \n\" style=\"fill:none;stroke:#1f77b4;stroke-linecap:square;stroke-width:1.5;\"/>\n    </g>\n    <g id=\"line2d_36\"/>\n    <g id=\"text_16\">\n     <!-- $\\gamma=0, \\alpha=0.25$ -->\n     <defs>\n      <path d=\"M 23.296875 46.09375 \nL 28.71875 12.3125 \nL 54 54.6875 \nL 63.53125 54.6875 \nL 30.8125 0 \nL 26.765625 -20.796875 \nL 17.78125 -20.796875 \nL 21.828125 0 \nL 15.4375 40.828125 \nQ 14.453125 46.96875 9.8125 46.96875 \nL 7.421875 46.96875 \nL 8.890625 54.6875 \nL 12.3125 54.6875 \nQ 21.921875 54.6875 23.296875 46.09375 \nz\n\" id=\"DejaVuSans-Oblique-947\"/>\n      <path d=\"M 10.59375 45.40625 \nL 73.1875 45.40625 \nL 73.1875 37.203125 \nL 10.59375 37.203125 \nz\nM 10.59375 25.484375 \nL 73.1875 25.484375 \nL 73.1875 17.1875 \nL 10.59375 17.1875 \nz\n\" id=\"DejaVuSans-61\"/>\n      <path d=\"M 31.78125 66.40625 \nQ 24.171875 66.40625 20.328125 58.90625 \nQ 16.5 51.421875 16.5 36.375 \nQ 16.5 21.390625 20.328125 13.890625 \nQ 24.171875 6.390625 31.78125 6.390625 \nQ 39.453125 6.390625 43.28125 13.890625 \nQ 47.125 21.390625 47.125 36.375 \nQ 47.125 51.421875 43.28125 58.90625 \nQ 39.453125 66.40625 31.78125 66.40625 \nz\nM 31.78125 74.21875 \nQ 44.046875 74.21875 50.515625 64.515625 \nQ 56.984375 54.828125 56.984375 36.375 \nQ 56.984375 17.96875 50.515625 8.265625 \nQ 44.046875 -1.421875 31.78125 -1.421875 \nQ 19.53125 -1.421875 13.0625 8.265625 \nQ 6.59375 17.96875 6.59375 36.375 \nQ 6.59375 54.828125 13.0625 64.515625 \nQ 19.53125 74.21875 31.78125 74.21875 \nz\n\" id=\"DejaVuSans-48\"/>\n      <path d=\"M 11.71875 12.40625 \nL 22.015625 12.40625 \nL 22.015625 4 \nL 14.015625 -11.625 \nL 7.71875 -11.625 \nL 11.71875 4 \nz\n\" id=\"DejaVuSans-44\"/>\n      <path d=\"M 40.921875 25.4375 \nL 40.96875 36.71875 \nQ 41.015625 48.25 32.328125 48.296875 \nQ 25.828125 48.34375 21.78125 42.921875 \nQ 16.703125 36.234375 14.984375 27.296875 \nQ 12.890625 16.546875 15.53125 11.421875 \nQ 18.265625 6.203125 24.171875 6.203125 \nQ 30.71875 6.203125 36.234375 16.609375 \nz\nM 33.84375 55.90625 \nQ 49.078125 56.15625 48.875 40.375 \nQ 48.875 40.375 56.5 54.6875 \nL 64.5 54.6875 \nL 48.734375 25.046875 \nL 48.578125 14.359375 \nQ 48.578125 11.96875 49.90625 9.96875 \nQ 51.421875 7.625 52.984375 7.625 \nL 57.328125 7.625 \nL 55.859375 0 \nL 50.4375 0 \nQ 45.84375 0 42.53125 4.109375 \nQ 40.96875 6.15625 40.921875 10.453125 \nQ 37.75 5.21875 32.28125 0.78125 \nQ 29.6875 -1.265625 22.703125 -1.21875 \nQ 11.28125 -1.125 7.125 6.203125 \nQ 2.875 13.8125 5.515625 27.296875 \nQ 8.34375 41.796875 15.765625 48.390625 \nQ 24.125 55.765625 33.84375 55.90625 \nz\n\" id=\"DejaVuSans-Oblique-945\"/>\n      <path d=\"M 10.6875 12.40625 \nL 21 12.40625 \nL 21 0 \nL 10.6875 0 \nz\n\" id=\"DejaVuSans-46\"/>\n      <path d=\"M 19.1875 8.296875 \nL 53.609375 8.296875 \nL 53.609375 0 \nL 7.328125 0 \nL 7.328125 8.296875 \nQ 12.9375 14.109375 22.625 23.890625 \nQ 32.328125 33.6875 34.8125 36.53125 \nQ 39.546875 41.84375 41.421875 45.53125 \nQ 43.3125 49.21875 43.3125 52.78125 \nQ 43.3125 58.59375 39.234375 62.25 \nQ 35.15625 65.921875 28.609375 65.921875 \nQ 23.96875 65.921875 18.8125 64.3125 \nQ 13.671875 62.703125 7.8125 59.421875 \nL 7.8125 69.390625 \nQ 13.765625 71.78125 18.9375 73 \nQ 24.125 74.21875 28.421875 74.21875 \nQ 39.75 74.21875 46.484375 68.546875 \nQ 53.21875 62.890625 53.21875 53.421875 \nQ 53.21875 48.921875 51.53125 44.890625 \nQ 49.859375 40.875 45.40625 35.40625 \nQ 44.1875 33.984375 37.640625 27.21875 \nQ 31.109375 20.453125 19.1875 8.296875 \nz\n\" id=\"DejaVuSans-50\"/>\n      <path d=\"M 10.796875 72.90625 \nL 49.515625 72.90625 \nL 49.515625 64.59375 \nL 19.828125 64.59375 \nL 19.828125 46.734375 \nQ 21.96875 47.46875 24.109375 47.828125 \nQ 26.265625 48.1875 28.421875 48.1875 \nQ 40.625 48.1875 47.75 41.5 \nQ 54.890625 34.8125 54.890625 23.390625 \nQ 54.890625 11.625 47.5625 5.09375 \nQ 40.234375 -1.421875 26.90625 -1.421875 \nQ 22.3125 -1.421875 17.546875 -0.640625 \nQ 12.796875 0.140625 7.71875 1.703125 \nL 7.71875 11.625 \nQ 12.109375 9.234375 16.796875 8.0625 \nQ 21.484375 6.890625 26.703125 6.890625 \nQ 35.15625 6.890625 40.078125 11.328125 \nQ 45.015625 15.765625 45.015625 23.390625 \nQ 45.015625 31 40.078125 35.4375 \nQ 35.15625 39.890625 26.703125 39.890625 \nQ 22.75 39.890625 18.8125 39.015625 \nQ 14.890625 38.140625 10.796875 36.28125 \nz\n\" id=\"DejaVuSans-53\"/>\n     </defs>\n     <g transform=\"translate(499.925 27.117969)scale(0.1 -0.1)\">\n      <use transform=\"translate(0 0.78125)\" xlink:href=\"#DejaVuSans-Oblique-947\"/>\n      <use transform=\"translate(78.662109 0.78125)\" xlink:href=\"#DejaVuSans-61\"/>\n      <use transform=\"translate(181.933594 0.78125)\" xlink:href=\"#DejaVuSans-48\"/>\n      <use transform=\"translate(245.556641 0.78125)\" xlink:href=\"#DejaVuSans-44\"/>\n      <use transform=\"translate(296.826172 0.78125)\" xlink:href=\"#DejaVuSans-Oblique-945\"/>\n      <use transform=\"translate(382.226562 0.78125)\" xlink:href=\"#DejaVuSans-61\"/>\n      <use transform=\"translate(485.498047 0.78125)\" xlink:href=\"#DejaVuSans-48\"/>\n      <use transform=\"translate(549.121094 0.78125)\" xlink:href=\"#DejaVuSans-46\"/>\n      <use transform=\"translate(580.830078 0.78125)\" xlink:href=\"#DejaVuSans-50\"/>\n      <use transform=\"translate(644.453125 0.78125)\" xlink:href=\"#DejaVuSans-53\"/>\n     </g>\n    </g>\n    <g id=\"line2d_37\">\n     <path d=\"M 471.925 38.217969 \nL 491.925 38.217969 \n\" style=\"fill:none;stroke:#ff7f0e;stroke-linecap:square;stroke-width:1.5;\"/>\n    </g>\n    <g id=\"line2d_38\"/>\n    <g id=\"text_17\">\n     <!-- $\\gamma=0, \\alpha=0.5$ -->\n     <g transform=\"translate(499.925 41.717969)scale(0.1 -0.1)\">\n      <use transform=\"translate(0 0.78125)\" xlink:href=\"#DejaVuSans-Oblique-947\"/>\n      <use transform=\"translate(78.662109 0.78125)\" xlink:href=\"#DejaVuSans-61\"/>\n      <use transform=\"translate(181.933594 0.78125)\" xlink:href=\"#DejaVuSans-48\"/>\n      <use transform=\"translate(245.556641 0.78125)\" xlink:href=\"#DejaVuSans-44\"/>\n      <use transform=\"translate(296.826172 0.78125)\" xlink:href=\"#DejaVuSans-Oblique-945\"/>\n      <use transform=\"translate(382.226562 0.78125)\" xlink:href=\"#DejaVuSans-61\"/>\n      <use transform=\"translate(485.498047 0.78125)\" xlink:href=\"#DejaVuSans-48\"/>\n      <use transform=\"translate(549.121094 0.78125)\" xlink:href=\"#DejaVuSans-46\"/>\n      <use transform=\"translate(580.908203 0.78125)\" xlink:href=\"#DejaVuSans-53\"/>\n     </g>\n    </g>\n    <g id=\"line2d_39\">\n     <path d=\"M 471.925 52.817969 \nL 491.925 52.817969 \n\" style=\"fill:none;stroke:#2ca02c;stroke-linecap:square;stroke-width:1.5;\"/>\n    </g>\n    <g id=\"line2d_40\"/>\n    <g id=\"text_18\">\n     <!-- $\\gamma=0, \\alpha=0.75$ -->\n     <defs>\n      <path d=\"M 8.203125 72.90625 \nL 55.078125 72.90625 \nL 55.078125 68.703125 \nL 28.609375 0 \nL 18.3125 0 \nL 43.21875 64.59375 \nL 8.203125 64.59375 \nz\n\" id=\"DejaVuSans-55\"/>\n     </defs>\n     <g transform=\"translate(499.925 56.317969)scale(0.1 -0.1)\">\n      <use transform=\"translate(0 0.78125)\" xlink:href=\"#DejaVuSans-Oblique-947\"/>\n      <use transform=\"translate(78.662109 0.78125)\" xlink:href=\"#DejaVuSans-61\"/>\n      <use transform=\"translate(181.933594 0.78125)\" xlink:href=\"#DejaVuSans-48\"/>\n      <use transform=\"translate(245.556641 0.78125)\" xlink:href=\"#DejaVuSans-44\"/>\n      <use transform=\"translate(296.826172 0.78125)\" xlink:href=\"#DejaVuSans-Oblique-945\"/>\n      <use transform=\"translate(382.226562 0.78125)\" xlink:href=\"#DejaVuSans-61\"/>\n      <use transform=\"translate(485.498047 0.78125)\" xlink:href=\"#DejaVuSans-48\"/>\n      <use transform=\"translate(549.121094 0.78125)\" xlink:href=\"#DejaVuSans-46\"/>\n      <use transform=\"translate(580.798828 0.78125)\" xlink:href=\"#DejaVuSans-55\"/>\n      <use transform=\"translate(644.421875 0.78125)\" xlink:href=\"#DejaVuSans-53\"/>\n     </g>\n    </g>\n    <g id=\"line2d_41\">\n     <path d=\"M 471.925 67.417969 \nL 491.925 67.417969 \n\" style=\"fill:none;stroke:#d62728;stroke-linecap:square;stroke-width:1.5;\"/>\n    </g>\n    <g id=\"line2d_42\"/>\n    <g id=\"text_19\">\n     <!-- $\\gamma=0.5, \\alpha=0.25$ -->\n     <g transform=\"translate(499.925 70.917969)scale(0.1 -0.1)\">\n      <use transform=\"translate(0 0.78125)\" xlink:href=\"#DejaVuSans-Oblique-947\"/>\n      <use transform=\"translate(78.662109 0.78125)\" xlink:href=\"#DejaVuSans-61\"/>\n      <use transform=\"translate(181.933594 0.78125)\" xlink:href=\"#DejaVuSans-48\"/>\n      <use transform=\"translate(245.556641 0.78125)\" xlink:href=\"#DejaVuSans-46\"/>\n      <use transform=\"translate(277.34375 0.78125)\" xlink:href=\"#DejaVuSans-53\"/>\n      <use transform=\"translate(340.966797 0.78125)\" xlink:href=\"#DejaVuSans-44\"/>\n      <use transform=\"translate(392.236328 0.78125)\" xlink:href=\"#DejaVuSans-Oblique-945\"/>\n      <use transform=\"translate(477.636719 0.78125)\" xlink:href=\"#DejaVuSans-61\"/>\n      <use transform=\"translate(580.908203 0.78125)\" xlink:href=\"#DejaVuSans-48\"/>\n      <use transform=\"translate(644.53125 0.78125)\" xlink:href=\"#DejaVuSans-46\"/>\n      <use transform=\"translate(676.240234 0.78125)\" xlink:href=\"#DejaVuSans-50\"/>\n      <use transform=\"translate(739.863281 0.78125)\" xlink:href=\"#DejaVuSans-53\"/>\n     </g>\n    </g>\n    <g id=\"line2d_43\">\n     <path d=\"M 471.925 82.017969 \nL 491.925 82.017969 \n\" style=\"fill:none;stroke:#9467bd;stroke-linecap:square;stroke-width:1.5;\"/>\n    </g>\n    <g id=\"line2d_44\"/>\n    <g id=\"text_20\">\n     <!-- $\\gamma=0.5, \\alpha=0.5$ -->\n     <g transform=\"translate(499.925 85.517969)scale(0.1 -0.1)\">\n      <use transform=\"translate(0 0.78125)\" xlink:href=\"#DejaVuSans-Oblique-947\"/>\n      <use transform=\"translate(78.662109 0.78125)\" xlink:href=\"#DejaVuSans-61\"/>\n      <use transform=\"translate(181.933594 0.78125)\" xlink:href=\"#DejaVuSans-48\"/>\n      <use transform=\"translate(245.556641 0.78125)\" xlink:href=\"#DejaVuSans-46\"/>\n      <use transform=\"translate(277.34375 0.78125)\" xlink:href=\"#DejaVuSans-53\"/>\n      <use transform=\"translate(340.966797 0.78125)\" xlink:href=\"#DejaVuSans-44\"/>\n      <use transform=\"translate(392.236328 0.78125)\" xlink:href=\"#DejaVuSans-Oblique-945\"/>\n      <use transform=\"translate(477.636719 0.78125)\" xlink:href=\"#DejaVuSans-61\"/>\n      <use transform=\"translate(580.908203 0.78125)\" xlink:href=\"#DejaVuSans-48\"/>\n      <use transform=\"translate(644.53125 0.78125)\" xlink:href=\"#DejaVuSans-46\"/>\n      <use transform=\"translate(676.318359 0.78125)\" xlink:href=\"#DejaVuSans-53\"/>\n     </g>\n    </g>\n    <g id=\"line2d_45\">\n     <path d=\"M 471.925 96.617969 \nL 491.925 96.617969 \n\" style=\"fill:none;stroke:#8c564b;stroke-linecap:square;stroke-width:1.5;\"/>\n    </g>\n    <g id=\"line2d_46\"/>\n    <g id=\"text_21\">\n     <!-- $\\gamma=0.5, \\alpha=0.75$ -->\n     <g transform=\"translate(499.925 100.117969)scale(0.1 -0.1)\">\n      <use transform=\"translate(0 0.78125)\" xlink:href=\"#DejaVuSans-Oblique-947\"/>\n      <use transform=\"translate(78.662109 0.78125)\" xlink:href=\"#DejaVuSans-61\"/>\n      <use transform=\"translate(181.933594 0.78125)\" xlink:href=\"#DejaVuSans-48\"/>\n      <use transform=\"translate(245.556641 0.78125)\" xlink:href=\"#DejaVuSans-46\"/>\n      <use transform=\"translate(277.34375 0.78125)\" xlink:href=\"#DejaVuSans-53\"/>\n      <use transform=\"translate(340.966797 0.78125)\" xlink:href=\"#DejaVuSans-44\"/>\n      <use transform=\"translate(392.236328 0.78125)\" xlink:href=\"#DejaVuSans-Oblique-945\"/>\n      <use transform=\"translate(477.636719 0.78125)\" xlink:href=\"#DejaVuSans-61\"/>\n      <use transform=\"translate(580.908203 0.78125)\" xlink:href=\"#DejaVuSans-48\"/>\n      <use transform=\"translate(644.53125 0.78125)\" xlink:href=\"#DejaVuSans-46\"/>\n      <use transform=\"translate(676.208984 0.78125)\" xlink:href=\"#DejaVuSans-55\"/>\n      <use transform=\"translate(739.832031 0.78125)\" xlink:href=\"#DejaVuSans-53\"/>\n     </g>\n    </g>\n    <g id=\"line2d_47\">\n     <path d=\"M 471.925 111.217969 \nL 491.925 111.217969 \n\" style=\"fill:none;stroke:#e377c2;stroke-linecap:square;stroke-width:1.5;\"/>\n    </g>\n    <g id=\"line2d_48\"/>\n    <g id=\"text_22\">\n     <!-- $\\gamma=1, \\alpha=0.25$ -->\n     <defs>\n      <path d=\"M 12.40625 8.296875 \nL 28.515625 8.296875 \nL 28.515625 63.921875 \nL 10.984375 60.40625 \nL 10.984375 69.390625 \nL 28.421875 72.90625 \nL 38.28125 72.90625 \nL 38.28125 8.296875 \nL 54.390625 8.296875 \nL 54.390625 0 \nL 12.40625 0 \nz\n\" id=\"DejaVuSans-49\"/>\n     </defs>\n     <g transform=\"translate(499.925 114.717969)scale(0.1 -0.1)\">\n      <use transform=\"translate(0 0.78125)\" xlink:href=\"#DejaVuSans-Oblique-947\"/>\n      <use transform=\"translate(78.662109 0.78125)\" xlink:href=\"#DejaVuSans-61\"/>\n      <use transform=\"translate(181.933594 0.78125)\" xlink:href=\"#DejaVuSans-49\"/>\n      <use transform=\"translate(245.556641 0.78125)\" xlink:href=\"#DejaVuSans-44\"/>\n      <use transform=\"translate(296.826172 0.78125)\" xlink:href=\"#DejaVuSans-Oblique-945\"/>\n      <use transform=\"translate(382.226562 0.78125)\" xlink:href=\"#DejaVuSans-61\"/>\n      <use transform=\"translate(485.498047 0.78125)\" xlink:href=\"#DejaVuSans-48\"/>\n      <use transform=\"translate(549.121094 0.78125)\" xlink:href=\"#DejaVuSans-46\"/>\n      <use transform=\"translate(580.830078 0.78125)\" xlink:href=\"#DejaVuSans-50\"/>\n      <use transform=\"translate(644.453125 0.78125)\" xlink:href=\"#DejaVuSans-53\"/>\n     </g>\n    </g>\n    <g id=\"line2d_49\">\n     <path d=\"M 471.925 125.817969 \nL 491.925 125.817969 \n\" style=\"fill:none;stroke:#7f7f7f;stroke-linecap:square;stroke-width:1.5;\"/>\n    </g>\n    <g id=\"line2d_50\"/>\n    <g id=\"text_23\">\n     <!-- $\\gamma=1, \\alpha=0.5$ -->\n     <g transform=\"translate(499.925 129.317969)scale(0.1 -0.1)\">\n      <use transform=\"translate(0 0.78125)\" xlink:href=\"#DejaVuSans-Oblique-947\"/>\n      <use transform=\"translate(78.662109 0.78125)\" xlink:href=\"#DejaVuSans-61\"/>\n      <use transform=\"translate(181.933594 0.78125)\" xlink:href=\"#DejaVuSans-49\"/>\n      <use transform=\"translate(245.556641 0.78125)\" xlink:href=\"#DejaVuSans-44\"/>\n      <use transform=\"translate(296.826172 0.78125)\" xlink:href=\"#DejaVuSans-Oblique-945\"/>\n      <use transform=\"translate(382.226562 0.78125)\" xlink:href=\"#DejaVuSans-61\"/>\n      <use transform=\"translate(485.498047 0.78125)\" xlink:href=\"#DejaVuSans-48\"/>\n      <use transform=\"translate(549.121094 0.78125)\" xlink:href=\"#DejaVuSans-46\"/>\n      <use transform=\"translate(580.908203 0.78125)\" xlink:href=\"#DejaVuSans-53\"/>\n     </g>\n    </g>\n    <g id=\"line2d_51\">\n     <path d=\"M 471.925 140.417969 \nL 491.925 140.417969 \n\" style=\"fill:none;stroke:#bcbd22;stroke-linecap:square;stroke-width:1.5;\"/>\n    </g>\n    <g id=\"line2d_52\"/>\n    <g id=\"text_24\">\n     <!-- $\\gamma=1, \\alpha=0.75$ -->\n     <g transform=\"translate(499.925 143.917969)scale(0.1 -0.1)\">\n      <use transform=\"translate(0 0.78125)\" xlink:href=\"#DejaVuSans-Oblique-947\"/>\n      <use transform=\"translate(78.662109 0.78125)\" xlink:href=\"#DejaVuSans-61\"/>\n      <use transform=\"translate(181.933594 0.78125)\" xlink:href=\"#DejaVuSans-49\"/>\n      <use transform=\"translate(245.556641 0.78125)\" xlink:href=\"#DejaVuSans-44\"/>\n      <use transform=\"translate(296.826172 0.78125)\" xlink:href=\"#DejaVuSans-Oblique-945\"/>\n      <use transform=\"translate(382.226562 0.78125)\" xlink:href=\"#DejaVuSans-61\"/>\n      <use transform=\"translate(485.498047 0.78125)\" xlink:href=\"#DejaVuSans-48\"/>\n      <use transform=\"translate(549.121094 0.78125)\" xlink:href=\"#DejaVuSans-46\"/>\n      <use transform=\"translate(580.798828 0.78125)\" xlink:href=\"#DejaVuSans-55\"/>\n      <use transform=\"translate(644.421875 0.78125)\" xlink:href=\"#DejaVuSans-53\"/>\n     </g>\n    </g>\n    <g id=\"line2d_53\">\n     <path d=\"M 471.925 155.017969 \nL 491.925 155.017969 \n\" style=\"fill:none;stroke:#17becf;stroke-linecap:square;stroke-width:1.5;\"/>\n    </g>\n    <g id=\"line2d_54\"/>\n    <g id=\"text_25\">\n     <!-- $\\gamma=1.5, \\alpha=0.25$ -->\n     <g transform=\"translate(499.925 158.517969)scale(0.1 -0.1)\">\n      <use transform=\"translate(0 0.78125)\" xlink:href=\"#DejaVuSans-Oblique-947\"/>\n      <use transform=\"translate(78.662109 0.78125)\" xlink:href=\"#DejaVuSans-61\"/>\n      <use transform=\"translate(181.933594 0.78125)\" xlink:href=\"#DejaVuSans-49\"/>\n      <use transform=\"translate(245.556641 0.78125)\" xlink:href=\"#DejaVuSans-46\"/>\n      <use transform=\"translate(277.34375 0.78125)\" xlink:href=\"#DejaVuSans-53\"/>\n      <use transform=\"translate(340.966797 0.78125)\" xlink:href=\"#DejaVuSans-44\"/>\n      <use transform=\"translate(392.236328 0.78125)\" xlink:href=\"#DejaVuSans-Oblique-945\"/>\n      <use transform=\"translate(477.636719 0.78125)\" xlink:href=\"#DejaVuSans-61\"/>\n      <use transform=\"translate(580.908203 0.78125)\" xlink:href=\"#DejaVuSans-48\"/>\n      <use transform=\"translate(644.53125 0.78125)\" xlink:href=\"#DejaVuSans-46\"/>\n      <use transform=\"translate(676.240234 0.78125)\" xlink:href=\"#DejaVuSans-50\"/>\n      <use transform=\"translate(739.863281 0.78125)\" xlink:href=\"#DejaVuSans-53\"/>\n     </g>\n    </g>\n    <g id=\"line2d_55\">\n     <path d=\"M 471.925 169.617969 \nL 491.925 169.617969 \n\" style=\"fill:none;stroke:#1f77b4;stroke-linecap:square;stroke-width:1.5;\"/>\n    </g>\n    <g id=\"line2d_56\"/>\n    <g id=\"text_26\">\n     <!-- $\\gamma=1.5, \\alpha=0.5$ -->\n     <g transform=\"translate(499.925 173.117969)scale(0.1 -0.1)\">\n      <use transform=\"translate(0 0.78125)\" xlink:href=\"#DejaVuSans-Oblique-947\"/>\n      <use transform=\"translate(78.662109 0.78125)\" xlink:href=\"#DejaVuSans-61\"/>\n      <use transform=\"translate(181.933594 0.78125)\" xlink:href=\"#DejaVuSans-49\"/>\n      <use transform=\"translate(245.556641 0.78125)\" xlink:href=\"#DejaVuSans-46\"/>\n      <use transform=\"translate(277.34375 0.78125)\" xlink:href=\"#DejaVuSans-53\"/>\n      <use transform=\"translate(340.966797 0.78125)\" xlink:href=\"#DejaVuSans-44\"/>\n      <use transform=\"translate(392.236328 0.78125)\" xlink:href=\"#DejaVuSans-Oblique-945\"/>\n      <use transform=\"translate(477.636719 0.78125)\" xlink:href=\"#DejaVuSans-61\"/>\n      <use transform=\"translate(580.908203 0.78125)\" xlink:href=\"#DejaVuSans-48\"/>\n      <use transform=\"translate(644.53125 0.78125)\" xlink:href=\"#DejaVuSans-46\"/>\n      <use transform=\"translate(676.318359 0.78125)\" xlink:href=\"#DejaVuSans-53\"/>\n     </g>\n    </g>\n    <g id=\"line2d_57\">\n     <path d=\"M 471.925 184.217969 \nL 491.925 184.217969 \n\" style=\"fill:none;stroke:#ff7f0e;stroke-linecap:square;stroke-width:1.5;\"/>\n    </g>\n    <g id=\"line2d_58\"/>\n    <g id=\"text_27\">\n     <!-- $\\gamma=1.5, \\alpha=0.75$ -->\n     <g transform=\"translate(499.925 187.717969)scale(0.1 -0.1)\">\n      <use transform=\"translate(0 0.78125)\" xlink:href=\"#DejaVuSans-Oblique-947\"/>\n      <use transform=\"translate(78.662109 0.78125)\" xlink:href=\"#DejaVuSans-61\"/>\n      <use transform=\"translate(181.933594 0.78125)\" xlink:href=\"#DejaVuSans-49\"/>\n      <use transform=\"translate(245.556641 0.78125)\" xlink:href=\"#DejaVuSans-46\"/>\n      <use transform=\"translate(277.34375 0.78125)\" xlink:href=\"#DejaVuSans-53\"/>\n      <use transform=\"translate(340.966797 0.78125)\" xlink:href=\"#DejaVuSans-44\"/>\n      <use transform=\"translate(392.236328 0.78125)\" xlink:href=\"#DejaVuSans-Oblique-945\"/>\n      <use transform=\"translate(477.636719 0.78125)\" xlink:href=\"#DejaVuSans-61\"/>\n      <use transform=\"translate(580.908203 0.78125)\" xlink:href=\"#DejaVuSans-48\"/>\n      <use transform=\"translate(644.53125 0.78125)\" xlink:href=\"#DejaVuSans-46\"/>\n      <use transform=\"translate(676.208984 0.78125)\" xlink:href=\"#DejaVuSans-55\"/>\n      <use transform=\"translate(739.832031 0.78125)\" xlink:href=\"#DejaVuSans-53\"/>\n     </g>\n    </g>\n    <g id=\"line2d_59\">\n     <path d=\"M 471.925 198.817969 \nL 491.925 198.817969 \n\" style=\"fill:none;stroke:#2ca02c;stroke-linecap:square;stroke-width:1.5;\"/>\n    </g>\n    <g id=\"line2d_60\"/>\n    <g id=\"text_28\">\n     <!-- $\\gamma=2, \\alpha=0.25$ -->\n     <g transform=\"translate(499.925 202.317969)scale(0.1 -0.1)\">\n      <use transform=\"translate(0 0.78125)\" xlink:href=\"#DejaVuSans-Oblique-947\"/>\n      <use transform=\"translate(78.662109 0.78125)\" xlink:href=\"#DejaVuSans-61\"/>\n      <use transform=\"translate(181.933594 0.78125)\" xlink:href=\"#DejaVuSans-50\"/>\n      <use transform=\"translate(245.556641 0.78125)\" xlink:href=\"#DejaVuSans-44\"/>\n      <use transform=\"translate(296.826172 0.78125)\" xlink:href=\"#DejaVuSans-Oblique-945\"/>\n      <use transform=\"translate(382.226562 0.78125)\" xlink:href=\"#DejaVuSans-61\"/>\n      <use transform=\"translate(485.498047 0.78125)\" xlink:href=\"#DejaVuSans-48\"/>\n      <use transform=\"translate(549.121094 0.78125)\" xlink:href=\"#DejaVuSans-46\"/>\n      <use transform=\"translate(580.830078 0.78125)\" xlink:href=\"#DejaVuSans-50\"/>\n      <use transform=\"translate(644.453125 0.78125)\" xlink:href=\"#DejaVuSans-53\"/>\n     </g>\n    </g>\n    <g id=\"line2d_61\">\n     <path d=\"M 471.925 213.417969 \nL 491.925 213.417969 \n\" style=\"fill:none;stroke:#d62728;stroke-linecap:square;stroke-width:1.5;\"/>\n    </g>\n    <g id=\"line2d_62\"/>\n    <g id=\"text_29\">\n     <!-- $\\gamma=2, \\alpha=0.5$ -->\n     <g transform=\"translate(499.925 216.917969)scale(0.1 -0.1)\">\n      <use transform=\"translate(0 0.78125)\" xlink:href=\"#DejaVuSans-Oblique-947\"/>\n      <use transform=\"translate(78.662109 0.78125)\" xlink:href=\"#DejaVuSans-61\"/>\n      <use transform=\"translate(181.933594 0.78125)\" xlink:href=\"#DejaVuSans-50\"/>\n      <use transform=\"translate(245.556641 0.78125)\" xlink:href=\"#DejaVuSans-44\"/>\n      <use transform=\"translate(296.826172 0.78125)\" xlink:href=\"#DejaVuSans-Oblique-945\"/>\n      <use transform=\"translate(382.226562 0.78125)\" xlink:href=\"#DejaVuSans-61\"/>\n      <use transform=\"translate(485.498047 0.78125)\" xlink:href=\"#DejaVuSans-48\"/>\n      <use transform=\"translate(549.121094 0.78125)\" xlink:href=\"#DejaVuSans-46\"/>\n      <use transform=\"translate(580.908203 0.78125)\" xlink:href=\"#DejaVuSans-53\"/>\n     </g>\n    </g>\n    <g id=\"line2d_63\">\n     <path d=\"M 471.925 228.017969 \nL 491.925 228.017969 \n\" style=\"fill:none;stroke:#9467bd;stroke-linecap:square;stroke-width:1.5;\"/>\n    </g>\n    <g id=\"line2d_64\"/>\n    <g id=\"text_30\">\n     <!-- $\\gamma=2, \\alpha=0.75$ -->\n     <g transform=\"translate(499.925 231.517969)scale(0.1 -0.1)\">\n      <use transform=\"translate(0 0.78125)\" xlink:href=\"#DejaVuSans-Oblique-947\"/>\n      <use transform=\"translate(78.662109 0.78125)\" xlink:href=\"#DejaVuSans-61\"/>\n      <use transform=\"translate(181.933594 0.78125)\" xlink:href=\"#DejaVuSans-50\"/>\n      <use transform=\"translate(245.556641 0.78125)\" xlink:href=\"#DejaVuSans-44\"/>\n      <use transform=\"translate(296.826172 0.78125)\" xlink:href=\"#DejaVuSans-Oblique-945\"/>\n      <use transform=\"translate(382.226562 0.78125)\" xlink:href=\"#DejaVuSans-61\"/>\n      <use transform=\"translate(485.498047 0.78125)\" xlink:href=\"#DejaVuSans-48\"/>\n      <use transform=\"translate(549.121094 0.78125)\" xlink:href=\"#DejaVuSans-46\"/>\n      <use transform=\"translate(580.798828 0.78125)\" xlink:href=\"#DejaVuSans-55\"/>\n      <use transform=\"translate(644.421875 0.78125)\" xlink:href=\"#DejaVuSans-53\"/>\n     </g>\n    </g>\n    <g id=\"line2d_65\">\n     <path d=\"M 471.925 242.617969 \nL 491.925 242.617969 \n\" style=\"fill:none;stroke:#8c564b;stroke-linecap:square;stroke-width:1.5;\"/>\n    </g>\n    <g id=\"line2d_66\"/>\n    <g id=\"text_31\">\n     <!-- $\\gamma=2.5, \\alpha=0.25$ -->\n     <g transform=\"translate(499.925 246.117969)scale(0.1 -0.1)\">\n      <use transform=\"translate(0 0.78125)\" xlink:href=\"#DejaVuSans-Oblique-947\"/>\n      <use transform=\"translate(78.662109 0.78125)\" xlink:href=\"#DejaVuSans-61\"/>\n      <use transform=\"translate(181.933594 0.78125)\" xlink:href=\"#DejaVuSans-50\"/>\n      <use transform=\"translate(245.556641 0.78125)\" xlink:href=\"#DejaVuSans-46\"/>\n      <use transform=\"translate(277.34375 0.78125)\" xlink:href=\"#DejaVuSans-53\"/>\n      <use transform=\"translate(340.966797 0.78125)\" xlink:href=\"#DejaVuSans-44\"/>\n      <use transform=\"translate(392.236328 0.78125)\" xlink:href=\"#DejaVuSans-Oblique-945\"/>\n      <use transform=\"translate(477.636719 0.78125)\" xlink:href=\"#DejaVuSans-61\"/>\n      <use transform=\"translate(580.908203 0.78125)\" xlink:href=\"#DejaVuSans-48\"/>\n      <use transform=\"translate(644.53125 0.78125)\" xlink:href=\"#DejaVuSans-46\"/>\n      <use transform=\"translate(676.240234 0.78125)\" xlink:href=\"#DejaVuSans-50\"/>\n      <use transform=\"translate(739.863281 0.78125)\" xlink:href=\"#DejaVuSans-53\"/>\n     </g>\n    </g>\n    <g id=\"line2d_67\">\n     <path d=\"M 471.925 257.217969 \nL 491.925 257.217969 \n\" style=\"fill:none;stroke:#e377c2;stroke-linecap:square;stroke-width:1.5;\"/>\n    </g>\n    <g id=\"line2d_68\"/>\n    <g id=\"text_32\">\n     <!-- $\\gamma=2.5, \\alpha=0.5$ -->\n     <g transform=\"translate(499.925 260.717969)scale(0.1 -0.1)\">\n      <use transform=\"translate(0 0.78125)\" xlink:href=\"#DejaVuSans-Oblique-947\"/>\n      <use transform=\"translate(78.662109 0.78125)\" xlink:href=\"#DejaVuSans-61\"/>\n      <use transform=\"translate(181.933594 0.78125)\" xlink:href=\"#DejaVuSans-50\"/>\n      <use transform=\"translate(245.556641 0.78125)\" xlink:href=\"#DejaVuSans-46\"/>\n      <use transform=\"translate(277.34375 0.78125)\" xlink:href=\"#DejaVuSans-53\"/>\n      <use transform=\"translate(340.966797 0.78125)\" xlink:href=\"#DejaVuSans-44\"/>\n      <use transform=\"translate(392.236328 0.78125)\" xlink:href=\"#DejaVuSans-Oblique-945\"/>\n      <use transform=\"translate(477.636719 0.78125)\" xlink:href=\"#DejaVuSans-61\"/>\n      <use transform=\"translate(580.908203 0.78125)\" xlink:href=\"#DejaVuSans-48\"/>\n      <use transform=\"translate(644.53125 0.78125)\" xlink:href=\"#DejaVuSans-46\"/>\n      <use transform=\"translate(676.318359 0.78125)\" xlink:href=\"#DejaVuSans-53\"/>\n     </g>\n    </g>\n    <g id=\"line2d_69\">\n     <path d=\"M 471.925 271.817969 \nL 491.925 271.817969 \n\" style=\"fill:none;stroke:#7f7f7f;stroke-linecap:square;stroke-width:1.5;\"/>\n    </g>\n    <g id=\"line2d_70\"/>\n    <g id=\"text_33\">\n     <!-- $\\gamma=2.5, \\alpha=0.75$ -->\n     <g transform=\"translate(499.925 275.317969)scale(0.1 -0.1)\">\n      <use transform=\"translate(0 0.78125)\" xlink:href=\"#DejaVuSans-Oblique-947\"/>\n      <use transform=\"translate(78.662109 0.78125)\" xlink:href=\"#DejaVuSans-61\"/>\n      <use transform=\"translate(181.933594 0.78125)\" xlink:href=\"#DejaVuSans-50\"/>\n      <use transform=\"translate(245.556641 0.78125)\" xlink:href=\"#DejaVuSans-46\"/>\n      <use transform=\"translate(277.34375 0.78125)\" xlink:href=\"#DejaVuSans-53\"/>\n      <use transform=\"translate(340.966797 0.78125)\" xlink:href=\"#DejaVuSans-44\"/>\n      <use transform=\"translate(392.236328 0.78125)\" xlink:href=\"#DejaVuSans-Oblique-945\"/>\n      <use transform=\"translate(477.636719 0.78125)\" xlink:href=\"#DejaVuSans-61\"/>\n      <use transform=\"translate(580.908203 0.78125)\" xlink:href=\"#DejaVuSans-48\"/>\n      <use transform=\"translate(644.53125 0.78125)\" xlink:href=\"#DejaVuSans-46\"/>\n      <use transform=\"translate(676.208984 0.78125)\" xlink:href=\"#DejaVuSans-55\"/>\n      <use transform=\"translate(739.832031 0.78125)\" xlink:href=\"#DejaVuSans-53\"/>\n     </g>\n    </g>\n    <g id=\"line2d_71\">\n     <path d=\"M 471.925 286.417969 \nL 491.925 286.417969 \n\" style=\"fill:none;stroke:#bcbd22;stroke-linecap:square;stroke-width:1.5;\"/>\n    </g>\n    <g id=\"line2d_72\"/>\n    <g id=\"text_34\">\n     <!-- $\\gamma=3, \\alpha=0.25$ -->\n     <defs>\n      <path d=\"M 40.578125 39.3125 \nQ 47.65625 37.796875 51.625 33 \nQ 55.609375 28.21875 55.609375 21.1875 \nQ 55.609375 10.40625 48.1875 4.484375 \nQ 40.765625 -1.421875 27.09375 -1.421875 \nQ 22.515625 -1.421875 17.65625 -0.515625 \nQ 12.796875 0.390625 7.625 2.203125 \nL 7.625 11.71875 \nQ 11.71875 9.328125 16.59375 8.109375 \nQ 21.484375 6.890625 26.8125 6.890625 \nQ 36.078125 6.890625 40.9375 10.546875 \nQ 45.796875 14.203125 45.796875 21.1875 \nQ 45.796875 27.640625 41.28125 31.265625 \nQ 36.765625 34.90625 28.71875 34.90625 \nL 20.21875 34.90625 \nL 20.21875 43.015625 \nL 29.109375 43.015625 \nQ 36.375 43.015625 40.234375 45.921875 \nQ 44.09375 48.828125 44.09375 54.296875 \nQ 44.09375 59.90625 40.109375 62.90625 \nQ 36.140625 65.921875 28.71875 65.921875 \nQ 24.65625 65.921875 20.015625 65.03125 \nQ 15.375 64.15625 9.8125 62.3125 \nL 9.8125 71.09375 \nQ 15.4375 72.65625 20.34375 73.4375 \nQ 25.25 74.21875 29.59375 74.21875 \nQ 40.828125 74.21875 47.359375 69.109375 \nQ 53.90625 64.015625 53.90625 55.328125 \nQ 53.90625 49.265625 50.4375 45.09375 \nQ 46.96875 40.921875 40.578125 39.3125 \nz\n\" id=\"DejaVuSans-51\"/>\n     </defs>\n     <g transform=\"translate(499.925 289.917969)scale(0.1 -0.1)\">\n      <use transform=\"translate(0 0.78125)\" xlink:href=\"#DejaVuSans-Oblique-947\"/>\n      <use transform=\"translate(78.662109 0.78125)\" xlink:href=\"#DejaVuSans-61\"/>\n      <use transform=\"translate(181.933594 0.78125)\" xlink:href=\"#DejaVuSans-51\"/>\n      <use transform=\"translate(245.556641 0.78125)\" xlink:href=\"#DejaVuSans-44\"/>\n      <use transform=\"translate(296.826172 0.78125)\" xlink:href=\"#DejaVuSans-Oblique-945\"/>\n      <use transform=\"translate(382.226562 0.78125)\" xlink:href=\"#DejaVuSans-61\"/>\n      <use transform=\"translate(485.498047 0.78125)\" xlink:href=\"#DejaVuSans-48\"/>\n      <use transform=\"translate(549.121094 0.78125)\" xlink:href=\"#DejaVuSans-46\"/>\n      <use transform=\"translate(580.830078 0.78125)\" xlink:href=\"#DejaVuSans-50\"/>\n      <use transform=\"translate(644.453125 0.78125)\" xlink:href=\"#DejaVuSans-53\"/>\n     </g>\n    </g>\n    <g id=\"line2d_73\">\n     <path d=\"M 471.925 301.017969 \nL 491.925 301.017969 \n\" style=\"fill:none;stroke:#17becf;stroke-linecap:square;stroke-width:1.5;\"/>\n    </g>\n    <g id=\"line2d_74\"/>\n    <g id=\"text_35\">\n     <!-- $\\gamma=3, \\alpha=0.5$ -->\n     <g transform=\"translate(499.925 304.517969)scale(0.1 -0.1)\">\n      <use transform=\"translate(0 0.78125)\" xlink:href=\"#DejaVuSans-Oblique-947\"/>\n      <use transform=\"translate(78.662109 0.78125)\" xlink:href=\"#DejaVuSans-61\"/>\n      <use transform=\"translate(181.933594 0.78125)\" xlink:href=\"#DejaVuSans-51\"/>\n      <use transform=\"translate(245.556641 0.78125)\" xlink:href=\"#DejaVuSans-44\"/>\n      <use transform=\"translate(296.826172 0.78125)\" xlink:href=\"#DejaVuSans-Oblique-945\"/>\n      <use transform=\"translate(382.226562 0.78125)\" xlink:href=\"#DejaVuSans-61\"/>\n      <use transform=\"translate(485.498047 0.78125)\" xlink:href=\"#DejaVuSans-48\"/>\n      <use transform=\"translate(549.121094 0.78125)\" xlink:href=\"#DejaVuSans-46\"/>\n      <use transform=\"translate(580.908203 0.78125)\" xlink:href=\"#DejaVuSans-53\"/>\n     </g>\n    </g>\n    <g id=\"line2d_75\">\n     <path d=\"M 471.925 315.617969 \nL 491.925 315.617969 \n\" style=\"fill:none;stroke:#1f77b4;stroke-linecap:square;stroke-width:1.5;\"/>\n    </g>\n    <g id=\"line2d_76\"/>\n    <g id=\"text_36\">\n     <!-- $\\gamma=3, \\alpha=0.75$ -->\n     <g transform=\"translate(499.925 319.117969)scale(0.1 -0.1)\">\n      <use transform=\"translate(0 0.78125)\" xlink:href=\"#DejaVuSans-Oblique-947\"/>\n      <use transform=\"translate(78.662109 0.78125)\" xlink:href=\"#DejaVuSans-61\"/>\n      <use transform=\"translate(181.933594 0.78125)\" xlink:href=\"#DejaVuSans-51\"/>\n      <use transform=\"translate(245.556641 0.78125)\" xlink:href=\"#DejaVuSans-44\"/>\n      <use transform=\"translate(296.826172 0.78125)\" xlink:href=\"#DejaVuSans-Oblique-945\"/>\n      <use transform=\"translate(382.226562 0.78125)\" xlink:href=\"#DejaVuSans-61\"/>\n      <use transform=\"translate(485.498047 0.78125)\" xlink:href=\"#DejaVuSans-48\"/>\n      <use transform=\"translate(549.121094 0.78125)\" xlink:href=\"#DejaVuSans-46\"/>\n      <use transform=\"translate(580.798828 0.78125)\" xlink:href=\"#DejaVuSans-55\"/>\n      <use transform=\"translate(644.421875 0.78125)\" xlink:href=\"#DejaVuSans-53\"/>\n     </g>\n    </g>\n   </g>\n  </g>\n </g>\n <defs>\n  <clipPath id=\"pf2e30493b4\">\n   <rect height=\"434.88\" width=\"558\" x=\"31.325\" y=\"10.617969\"/>\n  </clipPath>\n </defs>\n</svg>\n",
      "text/plain": "<Figure size 720x576 with 1 Axes>"
     },
     "metadata": {},
     "output_type": "display_data"
    }
   ],
   "source": [
    "import matplotlib.pyplot as plt\n",
    "import numpy as np\n",
    "import math\n",
    "import itertools\n",
    "gamma = [0, 0.5, 1, 1.5, 2, 2.5, 3]\n",
    "alpha = [0.25, 0.5, 0.75]\n",
    "x = np.linspace(0.00001, 1, num=100,endpoint=False)\n",
    "\n",
    "plt.figure(figsize=(10,8), facecolor='white')\n",
    "for r, a in itertools.product(gamma, alpha):\n",
    "    strs = \"$\\gamma={0}, \\\\alpha={1}$\".format(r, a)\n",
    "    plt.plot(x, -a * (1-x) ** r * np.log10(x), label=strs)\n",
    "\n",
    "plt.legend(loc=\"upper right\")\n",
    "plt.xlim((0, 1))\n",
    "plt.ylim((0, 6))\n",
    "plt.xlabel('probility of ground truth class')\n",
    "plt.ylabel('loss')\n",
    "plt.show()"
   ]
  },
  {
   "cell_type": "markdown",
   "execution_count": null,
   "metadata": {},
   "outputs": [],
   "source": [
    "上图中我们可以看出对于一些Well-classified examples(Easy Examples)虽然他们单个example的loss可以收敛到很小，但是由于它们的数量过于庞大，把一些hard example的loss覆盖掉。导致求和之后他们依然会支配整个批次样本的收敛方向。"
   ]
  },
  {
   "cell_type": "markdown",
   "execution_count": null,
   "metadata": {},
   "outputs": [],
   "source": [
    "一个非常简单的策略是继续缩小easy examples的训练比重，即给每个乘以$(1-p_t)^\\gamma$。因为Easy Example的score $p_t$往往接近于1，那么$(1-p_t)^\\gamma$值会比较小，因此example得到了抑制，相对于hard example得到了放大，如上图的$\\gamma > 0$的那四条曲线。"
   ]
  },
  {
   "cell_type": "markdown",
   "execution_count": null,
   "metadata": {},
   "outputs": [],
   "source": [
    "FL的求导结果如下:\n",
    "$$\\frac{dFL}{dx}=y(1-p_t)^\\gamma(\\gamma p_t log(p_t)+p_t-1)$$"
   ]
  },
  {
   "cell_type": "markdown",
   "execution_count": null,
   "metadata": {},
   "outputs": [],
   "source": [
    "$\\gamma$的值也可以根据验证集来调整，论文中给出的值是2"
   ]
  },
  {
   "cell_type": "markdown",
   "execution_count": null,
   "metadata": {},
   "outputs": [],
   "source": [
    "### 3.5.3.FL的最终形式"
   ]
  },
  {
   "cell_type": "markdown",
   "execution_count": null,
   "metadata": {},
   "outputs": [],
   "source": [
    "结合$\\alpha$和$\\gamma$就有了最终FL的形式。"
   ]
  },
  {
   "cell_type": "code",
   "execution_count": null,
   "metadata": {
    "collapsed": false,
    "pycharm": {
     "name": "#%%\n"
    }
   },
   "outputs": [],
   "source": [
    "import torch\n",
    "import torch.nn as nn\n",
    "import torch.nn.functional as F\n",
    "from torch.autograd import Variable\n",
    "def one_hot(index, classes):\n",
    "    size = index.size() + (classes,)\n",
    "    view = index.size() + (1,)\n",
    "    mask = torch.Tensor(*size).fill_(0)\n",
    "    index = index.view(*view)\n",
    "    ones = 1.\n",
    "    if isinstance(index, Variable):\n",
    "        ones = Variable(torch.Tensor(index.size()).fill_(1))\n",
    "        mask = Variable(mask, volatile=index.volatile)\n",
    "    return mask.scatter_(1, index, ones)\n",
    "class FocalLoss(nn.Module):\n",
    "    def __init__(self, gamma=0, eps=1e-7):\n",
    "        super(FocalLoss, self).__init__()\n",
    "        self.gamma = gamma\n",
    "        self.eps = eps\n",
    "    def forward(self, input, target):\n",
    "        y = one_hot(target, input.size(-1))\n",
    "        logit = F.softmax(input)\n",
    "        logit = logit.clamp(self.eps, 1. - self.eps)\n",
    "        loss = -1 * y * torch.log(logit) # cross entropy\n",
    "        loss = loss * (1 - logit) ** self.gamma # focal loss\n",
    "        return loss.sum()"
   ]
  },
  {
   "cell_type": "markdown",
   "execution_count": null,
   "metadata": {},
   "outputs": [],
   "source": [
    "### 3.5.4.Focal Loss的性质"
   ]
  },
  {
   "cell_type": "markdown",
   "execution_count": null,
   "metadata": {},
   "outputs": [],
   "source": [
    "- 当一个样本被错分的时候，$p_t$是很小的，那么调制系数$(1-p_t)^\\gamma$就接近1，损失函数损失函数影响很小；但是当$p_t$接近1的时候(也就是样本被正确分类)，则调制系数$(1-p_t)^\\gamma$就接近0，此时易分类样本的损失函数权重被大大地降低了．即易分样本的权重被大大地降低了．\n",
    "- 当$\\gamma$增加时，调制系数也会增加．假设$\\gamma=2$，对于一个易分样本($p_t=0.9$)的损失函数要比标准的交叉熵小100倍；当$p_t=0.968$时，要小1000+倍，但是对于难分样本($p_t<0.5$)，loss最多小了4倍。由此可见难分样本的权重相对提升了很多，从而增加哪些错误分类的重要性．"
   ]
  },
  {
   "cell_type": "markdown",
   "execution_count": null,
   "metadata": {},
   "outputs": [],
   "source": [
    "## 3.6.GHM(Gradient Harmonizing Mechanism-损失函数梯度均衡化机制)"
   ]
  },
  {
   "cell_type": "markdown",
   "execution_count": null,
   "metadata": {},
   "outputs": [],
   "source": [
    "对于一个样本，如果它能很容易地被正确分类，那么这个样本对模型来说就是一个简单样本，模型很难从这个样本中得到更多的信息，从梯度的角度来说，这个样本产生的梯度幅值相对较小;而对于一个分错的样本来说，它产生的梯度信息则会更丰富，它更能指导模型优化的方向。对于单阶段分类器来说，简单样本的数量非常大，他们产生的累计贡献在模型更新中占主导作用，而这部分样本本身就能被模型很好地分类，所以这部分的参数更新并不会改善模型的判断能力，这会导致整个训练变得低效。因此单阶段目标检测中样本不均衡性的本质是简单困难样本的不均衡性。研究者对样本不均衡的本质影响进行了进一步探讨，找到了梯度分布这个更为深入的角度，并以此入手改进了单阶段检测器的训练过程。 "
   ]
  },
  {
   "cell_type": "markdown",
   "execution_count": null,
   "metadata": {},
   "outputs": [],
   "source": [
    "实际上，不同类别样本数不同并不是影响单阶段检测器的训练的本质问题，因为背景样本虽然大部分非常容易识别（well classified），但其中也会存在着比较像某类物体的难样本（hard negative），而前景类中也有许多网络很容易正确判断的样本（easy positive）。所以产生本质影响的问题是不同难度样本的分布不均衡。更进一步来看，每个样本对模型训练的实质作用是产生一个梯度用以更新模型的参数，不同样本对参数更新会产生不同的贡献。在单阶段检测器的训练中，简单样本的数量非常大，它们产生的累计贡献就在模型更新中就会有巨大的影响力甚至占据主导作用，而由于它们本身已经被模型很好的判别，所以这部分的参数更新并不会改善模型的判断能力，也就使整个训练变得低效。"
   ]
  },
  {
   "cell_type": "markdown",
   "execution_count": null,
   "metadata": {},
   "outputs": [],
   "source": [
    "基于此，提出了基于梯度分布的角度来缓解one-stage中的训练样本不平衡，从而改善one-stage的目标检测的检测精度。论文提出了梯度密度，并将梯度密度的倒数作为损失函数的权重分别引入到分类损失函数(GHM-C)和边框损失函数(GHM-R)．研究者对样本梯度的分布进行了统计，并根据这个分布设计了一个梯度均衡机制（Gradient Harmonizing mechanism），使得模型训练更加高效与稳健，并可以收敛到更好的结果（实验中取得了好于 Focal Loss 的表现）。"
   ]
  },
  {
   "cell_type": "markdown",
   "execution_count": null,
   "metadata": {},
   "outputs": [],
   "source": [
    "### 3.6.1.梯度均衡机制"
   ]
  },
  {
   "cell_type": "markdown",
   "execution_count": null,
   "metadata": {},
   "outputs": [],
   "source": [
    "#### 3.6.1.1.梯度膜长-Gradient Norm"
   ]
  },
  {
   "cell_type": "markdown",
   "execution_count": null,
   "metadata": {},
   "outputs": [],
   "source": [
    "考虑简单的二分类交叉熵损失函数（binary cross entropy loss）\n",
    "$$L_{CE}(p,p^*=\\begin{cases}\n",
    "-log(p) & p^*=1 \\\\\n",
    "-log(1-p) & p^*=0\n",
    "\\end{cases}$$"
   ]
  },
  {
   "cell_type": "markdown",
   "execution_count": null,
   "metadata": {},
   "outputs": [],
   "source": [
    "其中$p=sigmoid(x)$为模型所预测的样本类别的概率，$p^*$是对应的监督。则其对x的梯度（导数）为：\n",
    "$$\\frac{\\partial{L_{CE}}}{\\partial{x}}=\\begin{cases}\n",
    "p-1 & p^*=1 \\\\\n",
    "p &  p^* = 0\n",
    "\\end{cases}=p-p^*$$"
   ]
  },
  {
   "cell_type": "markdown",
   "execution_count": null,
   "metadata": {},
   "outputs": [],
   "source": [
    "于是我们可以定义一个梯度模长，$g=|p-p^*|$,对于一个交叉熵损失函数训练收敛的单阶段监测模型来说，样本梯度膜长的分布统计如图\n",
    "![Images](Images/03/02/03_04_005.png)"
   ]
  },
  {
   "cell_type": "markdown",
   "execution_count": null,
   "metadata": {},
   "outputs": [],
   "source": [
    "#### 3.6.1.2.梯度均衡机制"
   ]
  },
  {
   "cell_type": "markdown",
   "execution_count": null,
   "metadata": {},
   "outputs": [],
   "source": [
    "对一个交叉熵损失函数训练收敛的单阶段检测模型，样本梯度模长的分布统计如下图：\n",
    "![Images](Images/03/02/03_04_006.jpg)"
   ]
  },
  {
   "cell_type": "markdown",
   "execution_count": null,
   "metadata": {},
   "outputs": [],
   "source": [
    "可以看到，绝大多数样本都是十分容易预测的（well-classified），这些可以被准确预测的样本所占的比重非常大，正因如此图中采用对数坐标来更清楚地展示分布。此外，还可以发现在$g$接近$1$的时候，样本比例也相对较大，研究者认为这是一些离群样本（outlier），可能是由于数据标注本身不够准确或是样本比较特殊极难学习而造成的。对一个已收敛的模型来说，强行学好这些离群样本可能会导致模型参数的较大偏差，反而会影响大多数已经可以较好识别的样本的判断准确率。基于以上现象与分析，研究者提出了**梯度均衡机制**，即根据样本梯度模长分布的比例，进行一个相应的标准化（normalization），使得各种类型的样本对模型参数更新有更均衡的贡献，进而让模型训练更加高效可靠。可以看到，绝大多数样本都是十分容易预测的（well-classified），这些可以被准确预测的样本所占的比重非常大，正因如此图中采用对数坐标来更清楚地展示分布。由于梯度均衡本质上是对不同样本产生的梯度进行一个加权，进而改变它们的贡献量，而这个权重加在损失函数上也可以达到同样的效果，此研究中，梯度均衡机制便是通过重构损失函数来实现的。如果一个好的模型去学习这些异常样本会导致模型准确度降低。其实这些异常值就像数据的噪声一样，比如一个长得非常像狗的蛋糕，模型学习这些异常值反而会导致模型误入歧途。"
   ]
  },
  {
   "cell_type": "markdown",
   "execution_count": null,
   "metadata": {},
   "outputs": [],
   "source": [
    "梯度均衡机制，即根据样本梯度模长分布的比例，进行一个相应的标准化（normalization），使得各种类型的样本对模型参数更新有更均衡的贡献，进而让模型训练更加高效可靠。由于梯度均衡本质上是对不同样本产生的梯度进行一个加权，进而改变它们的贡献量，而这个权重加在损失函数上也可以达到同样的效果，此研究中，梯度均衡机制便是通过重构损失函数来实现的。"
   ]
  },
  {
   "cell_type": "markdown",
   "execution_count": null,
   "metadata": {},
   "outputs": [],
   "source": [
    "### 3.6.2.梯度密度与损失函数的权重"
   ]
  },
  {
   "cell_type": "markdown",
   "execution_count": null,
   "metadata": {},
   "outputs": [],
   "source": [
    "为了清楚地描述新的损失函数，我们需要先定义梯度密度（gradient density）这一概念。仿照物理上对于密度的定义（单位体积内的质量），我们把梯度密度定义为单位取值区域内分布的样本数量。"
   ]
  },
  {
   "cell_type": "markdown",
   "execution_count": null,
   "metadata": {},
   "outputs": [],
   "source": [
    "#### 3.6.2.1.梯度密度函数"
   ]
  },
  {
   "cell_type": "markdown",
   "execution_count": null,
   "metadata": {},
   "outputs": [],
   "source": [
    "$$GD(g)=\\frac{1}{l_{\\epsilon}(g)}\\sum_{k=1}^N\\delta_{\\epsilon}(g_k,g)$$"
   ]
  },
  {
   "cell_type": "markdown",
   "execution_count": null,
   "metadata": {},
   "outputs": [],
   "source": [
    "其中$g_k$表示第k个样本的梯度，而且有\n",
    "$$\\delta_{\\epsilon}(x,y)=\\begin{cases}\n",
    "1 & y-\\frac{\\epsilon}{2} \\leq x < y+\\frac{\\epsilon}{2} \\\\\n",
    "0 & otherwise\n",
    "\\end{cases}$$"
   ]
  },
  {
   "cell_type": "markdown",
   "execution_count": null,
   "metadata": {},
   "outputs": [],
   "source": [
    "有\n",
    "$$l_{\\epsilon}=min(g+\\frac{\\epsilon}{2}, 1)-max(g-\\frac{\\epsilon}{2}, 0)$$"
   ]
  },
  {
   "cell_type": "markdown",
   "execution_count": null,
   "metadata": {},
   "outputs": [],
   "source": [
    "所以梯度密度函数GD(g)就表示梯度落在区域$\\lfloor g-\\frac{\\epsilon}{2}, g+\\frac{\\epsilon}{2} \\rfloor$的样本数量。再定义梯度密度协调参数（gradient density harmonizing parameter）$\\beta$。有$\\beta_i=\\frac{N}{GD(g_i)}$。这里乘样本数量 N，是为了保证均匀分布或只划分一个单位区域时，该权值为$1$，即loss不变。 可以看出，梯度密度大的样本的权重会被降低，密度小的样本的权重会增加。"
   ]
  },
  {
   "cell_type": "markdown",
   "execution_count": null,
   "metadata": {},
   "outputs": [],
   "source": [
    "### 3.6.3.GHM-C Loss"
   ]
  },
  {
   "cell_type": "markdown",
   "execution_count": null,
   "metadata": {},
   "outputs": [],
   "source": [
    "### 3.6.4.GHM-R Loss"
   ]
  },
  {
   "cell_type": "code",
   "execution_count": null,
   "metadata": {},
   "outputs": [],
   "source": []
  },
  {
   "cell_type": "code",
   "execution_count": null,
   "metadata": {},
   "outputs": [],
   "source": []
  },
  {
   "cell_type": "code",
   "execution_count": null,
   "metadata": {},
   "outputs": [],
   "source": []
  },
  {
   "cell_type": "code",
   "execution_count": null,
   "metadata": {},
   "outputs": [],
   "source": []
  },
  {
   "cell_type": "code",
   "execution_count": null,
   "metadata": {},
   "outputs": [],
   "source": []
  },
  {
   "cell_type": "code",
   "execution_count": null,
   "metadata": {},
   "outputs": [],
   "source": []
  }
 ],
 "metadata": {
  "language_info": {
   "codemirror_mode": {
    "name": "ipython",
    "version": 2
   },
   "file_extension": ".py",
   "mimetype": "text/x-python",
   "name": "python",
   "nbconvert_exporter": "python",
   "pygments_lexer": "ipython2",
   "version": "3.6.9"
  },
  "kernelspec": {
   "name": "python3",
   "language": "python",
   "display_name": "Python 3"
  },
  "pycharm": {
   "stem_cell": {
    "cell_type": "raw",
    "source": [],
    "metadata": {
     "collapsed": false
    }
   }
  }
 },
 "nbformat": 4,
 "nbformat_minor": 0
}