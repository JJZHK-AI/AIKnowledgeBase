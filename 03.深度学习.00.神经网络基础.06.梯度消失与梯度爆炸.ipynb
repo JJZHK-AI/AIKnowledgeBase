{
 "cells": [
  {
   "cell_type": "markdown",
   "metadata": {
    "collapsed": true,
    "pycharm": {
     "name": "#%% md\n"
    }
   },
   "source": [
    "梯度消失与梯度爆炸\n",
    "==="
   ]
  },
  {
   "cell_type": "markdown",
   "source": [
    "# 1.梯度更新规则\n",
    "梯度消失的根源在于深度神经网络和反向传播。我们知道在处理复杂任务上，深度网络比浅层的网络具有更好的效果。但是，目前优化神经网络的方法都是基于反向传播的思想，即根据损失函数计算的误差通过梯度反向传播的方式，指导深度网络权值的更新优化。"
   ],
   "metadata": {
    "collapsed": false,
    "pycharm": {
     "name": "#%% md\n"
    }
   }
  },
  {
   "cell_type": "markdown",
   "source": [
    "首先，深层网络由许多非线性层堆叠而来，每一层非线性层都可以视为是一个非线性函数$f(x)$(非线性来自于非线性激活函数），因此整个深度网络可以视为是一个复合的非线性多元函数\n",
    "$$\n",
    "F(x)=f_n(...f_3(f_2(f_1(x) \\times \\theta_1 + b) \\times \\theta_2 + b)...)\n",
    "$$\n",
    "我们最终的目的是希望这个多元函数可以很好的完成输入到输出之间的映射。"
   ],
   "metadata": {
    "collapsed": false,
    "pycharm": {
     "name": "#%% md\n"
    }
   }
  },
  {
   "cell_type": "markdown",
   "source": [
    "假设不同的输入，输出的最优解是$g(x)$，那么，优化深度网络就是为了寻找到合适的权值，满足$Loss=L(g(x),F(x))$,$F(x)$取得极小值点，比如最简单的损失函数\n",
    "$$Loss=||g(x)-f(x)||_2^2$$\n",
    "对于这种数学寻找最小值问题，采用梯度下降的方法再适合不过了"
   ],
   "metadata": {
    "collapsed": false,
    "pycharm": {
     "name": "#%% md\n"
    }
   }
  },
  {
   "cell_type": "markdown",
   "source": [
    "# 2.梯度消失与爆炸\n",
    "在两种情况下，梯度消失经常出现：深层网络与不适合的损失函数，比如Sigmoid。梯度爆炸一般在两种情况下出现:深层网络和权值初始值太大。"
   ],
   "metadata": {
    "collapsed": false,
    "pycharm": {
     "name": "#%% md\n"
    }
   }
  },
  {
   "cell_type": "markdown",
   "source": [
    "## 2.1.深层网络\n",
    "![image](Images/03/00/06_001.png)\n",
    "图中是一个四层的全连接网络，假设每一层网络激活后的输出为$f_i(x)$,其中i为第i层，x代表第i层的输入，也就是第$i-1$层的输出，f是激活函数，那么就可以得出\n",
    "$$f_{i+1}=f(f_i \\times \\omega_{i+1} + b_{i+1})$$\n",
    "简单记作\n",
    "$$f_{i+1}=f(f_i \\times \\omega_{i+1})$$\n",
    "BP算法基于梯度下降策略，以目标的负梯度方向对参数进行调整，参数的更新为$\\omega \\leftarrow \\omega + \\Delta{\\omega}$，给定学习率为$\\alpha$，得出\n",
    "$$\\Delta{\\omega}=-\\alpha \\times \\frac{\\partial{Loss}}{\\partial{\\omega}}$$\n",
    "如果要更新第二个隐藏层的权值信息根据链式求导法则，更新梯度信息\n",
    "\n",
    "\n"
   ],
   "metadata": {
    "collapsed": false,
    "pycharm": {
     "name": "#%% md\n"
    }
   }
  }
 ],
 "metadata": {
  "language_info": {
   "codemirror_mode": {
    "name": "ipython",
    "version": 2
   },
   "file_extension": ".py",
   "mimetype": "text/x-python",
   "name": "python",
   "nbconvert_exporter": "python",
   "pygments_lexer": "ipython2",
   "version": "2.7.6"
  },
  "kernelspec": {
   "name": "python3",
   "language": "python",
   "display_name": "Python 3"
  },
  "pycharm": {
   "stem_cell": {
    "cell_type": "raw",
    "source": [],
    "metadata": {
     "collapsed": false
    }
   }
  }
 },
 "nbformat": 4,
 "nbformat_minor": 0
}