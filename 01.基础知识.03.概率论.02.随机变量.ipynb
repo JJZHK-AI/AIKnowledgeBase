{
 "cells": [
  {
   "cell_type": "markdown",
   "metadata": {
    "collapsed": true,
    "pycharm": {}
   },
   "source": [
    "随机变量及其分布\n",
    "==="
   ]
  },
  {
   "cell_type": "markdown",
   "metadata": {
    "pycharm": {}
   },
   "source": [
    "# 1.随机变量\n",
    "设随机试验E的样本空间为$S=\\{e\\}$，若$X=X(e)$是定义在样本空间S上的一个单值实函数，则称$X=X(e)$为随机变量。随机变量分为离散型和连续型\n",
    "1. 离散型随机变量：随机变量只可能取有限个或可数无限个值\n",
    "2. 连续型随机变量：随机变量可以取一个区间中的所有实数"
   ]
  },
  {
   "cell_type": "markdown",
   "metadata": {
    "pycharm": {}
   },
   "source": [
    "# 2.离散型随机变量及其分布律"
   ]
  },
  {
   "cell_type": "markdown",
   "metadata": {
    "pycharm": {}
   },
   "source": [
    "## 2.1.伯努利分布-0-1分布\n",
    "伯努利分布也叫做0-1分布$X \\sim (1,p)$，它是一种离散分布。如果一个随机试验的样本空间只包含两个元素$S=\\{e_1,e_2\\}$，我们总能在S上定义一个服从0-1分布的随机变量X来描述这个随机试验的结果，即\n",
    "$$\n",
    "X=X(e)=\\begin{cases}\n",
    "0, & e=e_1\\\\\\\\\n",
    "1, & e=e_2\n",
    "\\end{cases}\n",
    "$$\n",
    "该分布研究的是一种特殊的实验，这种实验只有两个结果要么成功要么失败，且每次实验是独立的并每次实验都有固定的成功概率p.\n",
    "\n",
    "- 概率公式$f(x)=p^x(1-p)^{1-x},x\\in(0,1)$\n",
    "- 期望就是$E(X)=\\sum_{i=0}^1x_if(x_i)=1*p+0*(1-p)=p$\n",
    "- 方差就是$D(X)=E(x^2)-[E(x)]^2=x_1^2f(x_1^2)+x_0^2f(x_0^2)-p^2=1^2*p+0^2(1-p)-p^2=p(1-p)$"
   ]
  },
  {
   "cell_type": "markdown",
   "metadata": {
    "pycharm": {}
   },
   "source": [
    "## 2.2.二项分布\n",
    "二项分布就是n重伯努利分布,记作$X \\sim b(n,p)$，典型的问题就是随机扔N次硬币，0次正面，1次正面，2次正面，3次正面，4次正面，\n",
    "5次正面...N次正面的概率，组成二项概率分布,可以知道n=1的时候，就是伯努利分布<br/>\n",
    "![images](Images/01/03/02_001.png)<br/>\n",
    "假设有随机变量X，表示n次进行实验次数，其中每次成功的概率为P,那么n次中有K次成功的概率，就是\n",
    "$$P(X=K)=C_n^K*p^K*(1-p)^{n-K},k=0,1,...,n$$\n",
    "当正面的概率越小的时候，整个曲线会向左偏离，同理，如果正面的概率越大，就会向右偏离<br/>\n",
    "![images](Images/01/03/02_002.png)<br/>"
   ]
  },
  {
   "cell_type": "markdown",
   "metadata": {
    "pycharm": {}
   },
   "source": [
    "### 2.2.1.二项分布的数学期望\n",
    "$$\n",
    "\\begin{split}\n",
    "E(X)&=\\sum_{k=0}^nk \\cdot p_k=\\sum_{k=1}^nk \\cdot C_n^kp^k(1-p)^{n-k}\\\\\\\\\n",
    "&\\because C_n^m=\\frac{n}{m}C_{n-1}^{m-1}\\\\\\\\\n",
    "&\\Rightarrow p\\sum_{k=1}^nk \\cdot \\frac{n}{k}C_{n-1}^{k-1}p^{k-1}(1-p)^{n-k}\\\\\\\\\n",
    "&\\Rightarrow np\\sum_{k=1}^nC_{n-1}^{k-1}p^{k-1}(1-p)^{n-k}\\\\\\\\\n",
    "&=np \\times \\[p+(1-p)]^n=np\n",
    "\\end{split}\n",
    "$$"
   ]
  },
  {
   "cell_type": "markdown",
   "metadata": {
    "pycharm": {}
   },
   "source": [
    "- 方差$np(1-p)$\n",
    "\n",
    "我们知道二项展开式\n",
    "$$\n",
    "(a+b)^n=\\sum_{k=0}^nC_n^ka^kb^{n-k}\n",
    "$$\n",
    "那么二项分布的概率和为\n",
    "$$\n",
    "\\sum_{k=0}^nP\\{X=k\\}=\\sum_{k=0}^nC_n^kp^k(1-p)^{n-k}=[p+(1-p)]^n=1\n",
    "$$"
   ]
  },
  {
   "cell_type": "markdown",
   "metadata": {
    "pycharm": {}
   },
   "source": [
    "> 某工厂每天用电量保持正常的概率是$\\frac{3}{4}$，求一周内用电正常的天数的分布。\n",
    "\n",
    "解：设一周7天内用电保持正常的天数为$X$，则有$X \\sim b(7,\\frac{3}{4})$，那么用电正常k天的概率就是:\n",
    "$$\n",
    "P\\{X=k\\}=C_7^k(\\frac{3}{4})^k(1-\\frac{3}{4})^{7-k}\n",
    "$$\n",
    "则有\n",
    "$$\\begin{split}\n",
    "p_0&=P\\{X=0\\}=C_7^0(\\frac{3}{4})^0(1-\\frac{3}{4})^{7-0}=\\frac{1}{4^7} \\approx 0.000061\\\\\\\\\n",
    "p_1&=P\\{X=1\\}=C_7^1(\\frac{3}{4})^1(1-\\frac{3}{4})^{7-1}=\\frac{7*3}{4^7} \\approx 0.001282\\\\\\\\\n",
    "p_2&=P\\{X=2\\}=C_7^2(\\frac{3}{4})^2(1-\\frac{3}{4})^{7-2}=\\frac{21*9}{4^7} \\approx 0.011536\\\\\\\\\n",
    "p_3&=P\\{X=3\\}=C_7^3(\\frac{3}{4})^3(1-\\frac{3}{4})^{7-3}=\\frac{35*27}{4^7} \\approx 0.057678\\\\\\\\\n",
    "p_4&=P\\{X=4\\}=C_7^4(\\frac{3}{4})^4(1-\\frac{3}{4})^{7-4}=\\frac{35*81}{4^7} \\approx 0.173035\\\\\\\\\n",
    "p_5&=P\\{X=5\\}=C_7^5(\\frac{3}{4})^5(1-\\frac{3}{4})^{7-5}=\\frac{21*3^5}{4^7} \\approx 0.311462\\\\\\\\\n",
    "p_6&=P\\{X=6\\}=C_7^6(\\frac{3}{4})^6(1-\\frac{3}{4})^{7-6}=\\frac{7*3^6}{4^7} \\approx 0.311462\\\\\\\\\n",
    "p_7&=P\\{X=7\\}=C_7^7(\\frac{3}{4})^7(1-\\frac{3}{4})^{7-7}=\\frac{3^7}{4^7} \\approx 0.133484\n",
    "\\end{split}$$"
   ]
  },
  {
   "cell_type": "markdown",
   "metadata": {
    "pycharm": {}
   },
   "source": [
    "> 某人进行射击训练，设每次射击的命中率为0.05，若独立射击200次，求\n",
    "> 1. 目标被击中的概率\n",
    "> 2. 目标被击中至少两次的概率\n",
    "\n",
    "解：设击中目标的次数为$X$，则$X \\sim b(200,0.05)$，击中目标k次的概率为$P\\{X=k\\}=C_{200}^k0.05^k0.95^{200-k}$，则有\n",
    "$$\\begin{split}\n",
    "p_0&=P\\{X=0\\}=C_{200}^0(0.05)^0(0.95)^{200-0}=0.95^200 \\approx 0.000035\\\\\\\\\n",
    "p_1&=P\\{X=1\\}=C_{200}^1(0.05)^1(0.95)^{200-1}=200*0.05*0.95^199 \\approx 0.000369\\\\\\\\\n",
    "p_2&=P\\{X=2\\}=C_{200}^2(0.05)^2(0.95)^{200-2}=199*100*0.05^2*0.95^198 \\approx 0.001932\n",
    "\\end{split}$$\n",
    "所以，目标被击中的概率就是$1-0.000035=0.999965$，目标被击中至少两次的概率就是$1-0.000035-0.000369=0.999604$"
   ]
  },
  {
   "cell_type": "markdown",
   "metadata": {
    "pycharm": {}
   },
   "source": [
    "## 2.3.泊松分布\n",
    "泊松定理：设$\\lambda$是一个正整数，$p=\\frac{\\lambda}{n}$,则有\n",
    "$$\\lim\\limits_{n\\to\\infty}C_n^k*P^k*(1-P)^{n-k}=e^{-\\lambda}\\frac{\\lambda^k}{k}$$\n",
    "证明：$$\\begin{eqnarray}\n",
    "\\because p&=&\\frac{\\lambda}{n}\\\\\n",
    "&\\Rightarrow& \\lim\\limits_{n\\to\\infty}C_n^kp^k(1-p)^{n-k}\\\\\n",
    "&=& \\lim\\limits_{n\\to\\infty}\\frac{n(n-1)...(n-k+1)}{k!}(\\frac{\\lambda}{n})^k(1-\\frac{\\lambda}{n})^{n-k}\\\\\n",
    "&=& \\lim\\limits_{n\\to\\infty}\\frac{\\lambda^k}{k!}[\\frac{n}{n}*\\frac{n-1}{n}*\\frac{n-2}{n}...*\\frac{n-k+1}{n}](1-\\frac{\\lambda}{n})^n(1-\\frac{\\lambda}{n})^{-k}\\\\\n",
    "&=& \\lim\\limits_{n\\to\\infty}\\frac{\\lambda^k}{k!}[1*(1-\\frac{1}{n})*(1-\\frac{2}{n})*...*(1-\\frac{k-1}{n})](1-\\frac{\\lambda}{n})^n(1-\\frac{\\lambda}{n})^{-k}\\\\\n",
    "&=& \\lim\\limits_{n\\to\\infty}\\frac{\\lambda^k}{k!}*1*(1-\\frac{\\lambda}{n})^n(1-\\frac{\\lambda}{n})^{-k}\\\\\n",
    "&=& \\lim\\limits_{n\\to\\infty}\\frac{\\lambda^k}{k!}*(1-\\frac{\\lambda}{n})^n*1\\\\\n",
    "&=& \\frac{\\lambda^k}{k!}\\lim\\limits_{n\\to\\infty}(1-\\frac{\\lambda}{n})^n\\\\\n",
    "&=& \\frac{\\lambda^k}{k!}\\lim\\limits_{n\\to\\infty}(1-\\frac{\\lambda}{n})^{-\\frac{n}{\\lambda}(-\\lambda)}\\\\\n",
    "&=& \\frac{\\lambda^k}{k!}e^{-\\lambda}\n",
    "\\end{eqnarray}$$\n",
    "其中$p=\\frac{\\lambda}{n}$,当n>=10的时候，近似效果就很好了。于是就有当实验次数很大的时候，二项分布趋近于泊松分布."
   ]
  },
  {
   "cell_type": "markdown",
   "metadata": {
    "pycharm": {}
   },
   "source": [
    "### 2.3.1.泊松分布的数学期望与方差\n",
    "$$\\begin{split}\n",
    "E(X)&=\\sum_{k=1}^\\infty k \\cdot \\frac{\\lambda^k}{k!}e^{-\\lambda}\\\\\\\\\n",
    "&=e^{-\\lambda}\\sum_{k=1}^\\infty \\frac{\\lambda^k}{(k-1)!}\\\\\\\\\n",
    "&=e^{-\\lambda} \\lambda \\sum_{k=1}^\\infty \\frac{\\lambda^{k-1}}{(k-1)!}\\\\\\\\\n",
    "&\\because \\sum_{k=0}^\\infty \\frac{\\lambda^k}{k!}=e^{\\lambda}\\\\\\\\\n",
    "&\\Rightarrow e^{-\\lambda} \\lambda e^{\\lambda}\\\\\\\\\n",
    "&=\\lambda\n",
    "\\end{split}$$\n",
    "- 方差：$\\lambda$<br/>"
   ]
  },
  {
   "cell_type": "markdown",
   "metadata": {
    "pycharm": {}
   },
   "source": [
    "对于泊松分布来说\n",
    "$$\\begin{split}\n",
    "\\sum_{k=0}^\\infty \\frac{\\lambda^k}{k!}e^{-\\lambda}&=e^{-\\lambda} \\times \\sum_{k=0}^\\infty \\frac{\\lambda^k}{k!}\\\\\\\\\n",
    "&\\because \\sum_{n=0}^\\infty \\frac{x^n}{n!}=e^x\\\\\\\\\n",
    "&\\Rightarrow e^{-\\lambda} \\times e^{\\lambda}\\\\\\\\\n",
    "&=1\n",
    "\\end{split}$$\n",
    "设随机变量X所有可能的取值为一切自然数，且取值k(k=0,1,2,...,n)的概率为\n",
    "$$\n",
    "p_k=P\\{X=k\\}=\\frac{\\lambda^k}{k!}e^{-\\lambda}\n",
    "$$\n",
    "其中$\\lambda>0$是常数，则称X服从参数为$\\lambda$的泊松分布，记为$X \\sim \\pi(\\lambda)$，同理我们可以知道若$X \\sim b(n,p)$，那么近似的就有$X \\sim \\pi(np)$。当$n \\geq 20, p \\leq 0.05$时，两者近似效果比较好。<br/>\n",
    "在实际事例中，当一个随机事件，以固定的平均瞬时速率$\\lambda$(或称密度)随机且独立地出现时，那么这个事件在单位时间(面积或体积)内存现的次数或个数就近似地服从泊松分布$P(\\lambda)$\n",
    "- 某一服务设施在一定时间内到达的人数\n",
    "- 电话交换机接到呼叫的次数\n",
    "- 汽车站台的候客人数\n",
    "- 机器出现的故障数\n",
    "- 自然灾害发生的次数\n",
    "- 一块产品上的缺陷数\n",
    "- 显微镜下单位分区内的细菌分布数\n",
    "- 某放射性物质单位时间内发射出的粒子数"
   ]
  },
  {
   "cell_type": "code",
   "execution_count": 1,
   "metadata": {
    "pycharm": {}
   },
   "outputs": [
    {
     "data": {
      "image/png": "[encoded data removed]",
      "text/plain": [
       "<Figure size 720x720 with 1 Axes>"
      ]
     },
     "metadata": {},
     "output_type": "display_data"
    }
   ],
   "source": [
    "import matplotlib.pyplot as plt\n",
    "import numpy as np\n",
    "%matplotlib inline\n",
    "plt.figure(figsize=(10, 10), facecolor='w')\n",
    "x = np.random.poisson(lam=5, size=10000)\n",
    "pillar = 15\n",
    "a = plt.hist(x, bins=pillar, density=True, range=[0, pillar], color='g', alpha=0.5)\n",
    "plt.grid()"
   ]
  },
  {
   "cell_type": "markdown",
   "metadata": {
    "pycharm": {}
   },
   "source": [
    "## 2.4.几何分布\n",
    "设在多重伯努利试验中，事件A发生的概率为p，记X为A第一次发生时的试验次数，则X取值k的概率为\n",
    "$$P\\{X=k\\}=(1-p)^{k-1}p,(k=1,2,...)$$\n",
    "称X服从参数为p的几何分布，记作$X \\sim G(p)$。对于几何分布来说，有\n",
    "$$\\begin{split}\n",
    "\\sum_{k=1}^\\infty(1-p)^{k-1}p&=p \\times \\sum_{k=1}^\\infty(1-p)^{k-1}\\\\\\\\\n",
    "&\\because \\sum_{k=1}^\\infty(1-p)^{k-1}是一个几何级数，也就是等比级数.有\\sum=\\frac{首项}{1-公比}\\\\\\\\\n",
    "&\\because 公比为1-p,首项为(1-p)^{1-1}\\\\\\\\\n",
    "&\\therefore \\sum_{k=1}^\\infty(1-p)^{k-1}=\\frac{1}{1-(1-p)}\\\\\\\\\n",
    "&\\Rightarrow p \\times \\frac{1}{1-(1-p)}=1\n",
    "\\end{split}$$"
   ]
  },
  {
   "cell_type": "markdown",
   "metadata": {
    "pycharm": {}
   },
   "source": [
    "> 掷一颗骰子，直到1点出现为止，求掷骰子的次数X的分布律。\n",
    "\n",
    "解，X服从参数为$\\frac{1}{6}$的几何分布，有$X \\sim G(\\frac{1}{6})$。根据几何分布的概率公式有\n",
    "$$P\\{X=k\\}=(1-\\frac{1}{6})^{k-1} \\cdot \\frac{1}{6}=\\frac{1}{6}(\\frac{5}{6})^{k-1}$$"
   ]
  },
  {
   "cell_type": "code",
   "execution_count": 9,
   "metadata": {
    "pycharm": {}
   },
   "outputs": [
    {
     "data": {
      "image/png": "[encoded data removed]",
      "text/plain": [
       "<Figure size 720x720 with 1 Axes>"
      ]
     },
     "metadata": {},
     "output_type": "display_data"
    }
   ],
   "source": [
    "import numpy as np\n",
    "import matplotlib.pyplot as plt\n",
    "from scipy.stats import geom as G\n",
    "\n",
    "x = np.arange(1,15,1)\n",
    "plt.figure(figsize=(10, 10), facecolor='w')\n",
    "\n",
    "rv = G(0.2) #p=0.2,P(k)=0.8^(x-1)0.2\n",
    "y = rv.pmf(x)\n",
    "plt.plot(x,y,color='r')\n",
    "plt.scatter(x, y, color='r')\n",
    "\n",
    "rv = G(0.5)\n",
    "y=rv.pmf(x)\n",
    "plt.plot(x,y,color='b')\n",
    "plt.scatter(x, y, color='b')\n",
    "rv = G(0.8)\n",
    "y=rv.pmf(x)\n",
    "plt.plot(x,y,color='y')\n",
    "plt.scatter(x, y, color='y')\n",
    "plt.grid()"
   ]
  },
  {
   "cell_type": "markdown",
   "metadata": {
    "pycharm": {}
   },
   "source": [
    "我们可以看到概率随k的增加单调减少，而且p越大，概率减小的越快"
   ]
  },
  {
   "cell_type": "markdown",
   "metadata": {
    "pycharm": {}
   },
   "source": [
    "# 3.随机变量的分布函数"
   ]
  },
  {
   "cell_type": "markdown",
   "metadata": {
    "pycharm": {}
   },
   "source": [
    "## 3.1.分布函数\n",
    "设X是一个随机变量，x是任意实数，称事件$\\{X=x\\}$的概率$P\\{X \\leq x\\}$为X的分布函数，记作$F(x)=P\\{X \\leq x\\}$"
   ]
  },
  {
   "cell_type": "markdown",
   "metadata": {
    "pycharm": {}
   },
   "source": [
    "## 3.2.分布函数的性质\n",
    "> 1. 分布函数$F(x)$是实数域上的单调不减函数,即$x_1<x_2 \\Rightarrow F(x_1) \\leq F(x_2)$\n",
    "> 2. 分布函数$F(x)$满足$0 \\leq F(x) \\leq q$,$F(-\\infty)=\\lim\\limits_{x \\to -\\infty}F(x)=0$,$F(+\\infty)=\\lim\\limits_{x \\to +\\infty}F(x)=1$\n",
    "> 3. 分布函数$F(x)$至多有可数个跳跃间断点，且处处都是右连续，即对任何实数$x_0$，都有$F(x_0+0)=\\lim\\limits_{x \\to x_0^+}F(x)=F(x_0)$\n",
    "\n",
    "凡是满足以上三个性质的函数必然是某随机变量的分布函数。给出下面的一些公式\n",
    "1. $P\\{X \\leq a\\}=F(a)$\n",
    "2. $P\\{X < a\\}=F(a-0)$，F(x)在a处的左极限\n",
    "3. $P\\{X=a\\}=F(a)-F(a-0)$\n",
    "4. $P\\{X > a\\}=1-F(a)$\n",
    "5. $P\\{X \\geq a\\}=1-F(a-0)$\n",
    "6. $P\\{a < X \\leq b\\}=F(b)-F(a)$\n",
    "7. $P\\{a \\leq X < b\\}=F(b-0)-F(a-0)$\n",
    "8. $P\\{a < X < b\\}=F(b-0)-F(a)$\n",
    "9. $P\\{a \\leq X \\leq b\\}=F(b)-F(a-0)$\n",
    "\n",
    "若$x=a$是$F(x)$的连续点，则$P\\{X=a\\}=0$，若$x=a$是$F(x)$的剪短点，则$P\\{X=a\\}=F(x)$在$x=a$处的跃度，也就是右极限和左极限的差"
   ]
  },
  {
   "cell_type": "markdown",
   "metadata": {
    "pycharm": {}
   },
   "source": [
    "## 3.3.离散型随机变量的分布函数\n",
    "\n",
    "> 设离散型随机变量X的分布律为\n",
    ">\n",
    "> | X | -1 | 2 | 3 |\n",
    "  | - | -- | - | - |\n",
    "  | $p_k$ | $\\frac{1}{4}$ | $\\frac{1}{2}$ | $\\frac{1}{4}$ |\n",
    ">\n",
    "> 1. 求X的分布函数$F(x)$，并作图\n",
    "> 2. 求$P\\{X \\leq \\frac{1}{2}\\},P\\{X < \\frac{1}{2}\\},P\\{\\frac{3}{2}<X \\leq \\frac{5}{2}\\},P\\{2 \\leq X \\leq 3\\}$\n",
    "> 3. 求$P\\{X=2\\},P\\{X=2.5\\}$\n",
    "\n",
    "随机变量X只能取三个值-1,2,3\n",
    "1. 当$x < -1$时，$X \\leq x < -1$的概率为0，这是不可能事件\n",
    "2. 当$-1 \\leq x < 2$时，$F(x)=P\\{X \\leq x\\}=P\\{X=-1\\}=\\frac{1}{4}$\n",
    "3. 当$2 \\leq x < 3$时，$F(x)=P\\{X \\leq x\\}=P[\\{X=-1\\} \\cup \\{X=2\\}]=\\frac{1}{4}+\\frac{1}{2}=\\frac{3}{4}$\n",
    "4. 当$x \\geq 3$时,$F(x)=P\\{X \\leq x\\}=P[\\{X=-1\\} \\cup \\{X=2\\} \\cup \\{X=3\\}]=1$\n",
    "\n",
    "X的分布函数为\n",
    "$$F(x)=P\\{X \\leq x\\}=\\begin{cases}\n",
    "0 & x < -1\\\\\\\\\n",
    "\\frac{1}{4} & -1 \\leq x < 2 \\\\\\\\\n",
    "\\frac{3}{4} & 2 \\leq x < 3 \\\\\\\\\n",
    "1 & x \\geq 3\n",
    "\\end{cases}$$\n",
    "1. $P\\{X \\leq \\frac{1}{2}\\}=F(\\frac{1}{2})=\\frac{1}{4}$\n",
    "2. $P\\{X < \\frac{1}{2}\\}=P\\{X=-1\\}=\\frac{1}{4}$，另外一种方法$P\\{X < \\frac{1}{2}\\}=F(\\frac{1}{2}-0)=\\frac{1}{4}$，因为$\\frac{1}{2}$处是连续点。\n",
    "3. $P\\{\\frac{3}{2} < X \\leq \\frac{5}{2}\\}=F(\\frac{5}{2})-F(\\frac{3}{2})=\\frac{3}{4}-\\frac{1}{4}=\\frac{1}{2}$\n",
    "4. $P\\{2 \\leq X \\leq 3\\}=F(3)-F(2-0)=1-\\frac{1}{4}=\\frac{3}{4}$\n",
    "5. $P\\{X=2\\}=F(2)-F(2-0)=\\frac{3}{4}-\\frac{1}{4}=\\frac{1}{2}$\n",
    "6. $P\\{X=2.5\\}=F(2.5)-F(2.5-0)=\\frac{3}{4}-\\frac{3}{4}=0$"
   ]
  },
  {
   "cell_type": "markdown",
   "metadata": {
    "pycharm": {}
   },
   "source": [
    "## 3.4.连续型随机变量的分布函数\n",
    "> 一个靶子是半径为2m的圆盘，设击中靶上任意同心圆盘上的点的概率与该圆面积成正比，并且射击都能中靶。以X表示弹着点与圆心的距离，试求随机变量X的分布函数\n",
    "\n",
    "解，若$x<0,\\{X=x\\}$是不可能事件，于是有$F(x)=P\\{X \\leq x\\}=0$.若$\\{0 \\leq X \\leq 2\\}$时，有$P\\{0 \\leq X \\leq x\\}=k\\pi x^2$，当$x=2$时，$\\{0 \\leq X \\leq 2\\}$是必然事件，得到$1=P\\{0 \\leq X \\leq x\\}=k\\pi \\times 2^2$,有$k\\pi=\\frac{1}{4}$，就有\n",
    "$$\n",
    "F(x)=P\\{X \\leq x\\}=P[\\{X<0\\} \\cup \\{0 \\leq X \\leq x\\}]=0+\\frac{1}{4}x^2\n",
    "$$\n",
    "那么分布函数就有\n",
    "$$F(x)=\\begin{cases}\n",
    "0 & x < 0\\\\\\\\\n",
    "\\frac{1}{4}x^2 & 0 \\leq x \\leq 2 \\\\\\\\\n",
    "1 & x > 2\n",
    "\\end{cases}$$\n",
    "F(x)是连续函数"
   ]
  },
  {
   "cell_type": "markdown",
   "metadata": {
    "pycharm": {}
   },
   "source": [
    "# 4.连续型随机变量及其概率密度"
   ]
  },
  {
   "cell_type": "markdown",
   "metadata": {
    "pycharm": {}
   },
   "source": [
    "## 4.1.连续型随机变量\n",
    "有很多随机变量X，其分布函数$F(x)$是连续函数，这种函数往往可以写成一个分段连续的非负函数$f(x)$的积分上限函数的形式如下\n",
    "$$F(x)=\\int_{-\\infty}^xf(t)dt, -\\infty<x<+\\infty$$\n",
    "我们就把这种随机变量称为连续型随机变量.$f(x)$称为X的概率密度函数，简称概率密度。"
   ]
  },
  {
   "cell_type": "markdown",
   "metadata": {
    "pycharm": {}
   },
   "source": [
    "## 4.2.概率密度的性质\n",
    "1. $f(x) \\geq 0$，非负性\n",
    "2. $\\int_{-\\infty}^{+\\infty}f(x)dx=1$，规范性\n",
    "3. 若$f(x)$在x处连续，则$F(x)$在x处可导，且$F'(x)=f(x)$\n",
    "4. 对任意实数$x_1,x_2$，且$x_1<x_2$，有$P\\{x_1<X \\leq x_2\\}=F(x_2)-F(x_1)=\\int_{x_1}^{x_2}f(x)dx$\n",
    "5. $P\\{x_1 \\leq X \\leq x_2\\}=P\\{x_1 < X < x_2\\}P\\{x_1 \\leq X < x_2\\}=P\\{x_1 < X \\leq x_2\\}$\n",
    "6. $P\\{X > x\\}=1-P\\{X \\leq x\\}=1-F(x)$\n",
    "\n",
    "F(x)总是连续函数，但是未必可导。比如在$f(x)$的第一类剪短点处，就不可导；如果$f(x)$是连续函数，那么F(x)处处可导且为$f(x)$的原函数。"
   ]
  },
  {
   "cell_type": "markdown",
   "metadata": {
    "pycharm": {}
   },
   "source": [
    "### 4.2.1.密度的几何解释\n",
    "设分布函数$F(x)$在x处可导，则有$F'(x)=f(x)$，由导数的定义有\n",
    "$$\\begin{split}\n",
    "f(x)=F'(x)&=\\lim\\limits_{\\Delta{x} \\to 0}\\frac{F(x+\\Delta{x}-F(x))}{\\Delta{x}} \\\\\\\\\n",
    "&=\\lim\\limits_{\\Delta{x} \\to 0}\\frac{P\\{x < X \\leq x+\\Delta{x}\\}}{\\Delta{x}}\n",
    "\\end{split}$$\n",
    "$f(x)$是X落入区间$(x,x+\\Delta{x}]$的概率与区间长度$\\Delta{x}$之比，当$\\Delta{x}$趋于0时的极限。\n",
    "> 概率密度$f(x)$不是随机变量X取实数值x的概率，而是X在点x处的概率分布的密集程度。$f(x)$的大小能反映出X在点x附近取值的概率大小。因此，对于连续型随机变量，用概率密度描述它的分布比用分布函数更加直观。一般，离散型随机变量用概率函数(分布律)描述，而连续型随机变量，则用其概率密度来描述。"
   ]
  },
  {
   "cell_type": "markdown",
   "metadata": {
    "pycharm": {}
   },
   "source": [
    "> 设随机变量X具有概率密度如下\n",
    "$$f(x)=\\begin{cases}\n",
    "kx, & 0 \\leq x \\leq 3\\\\\\\\\n",
    "2-\\frac{x}{2}, & 3 \\leq x \\leq 4\\\\\\\\\n",
    "0, & otherwise\n",
    "\\end{cases}$$\n",
    "1. 求常数k\n",
    "2. 求X的分布函数F(x)\n",
    "3. 求概率$P=\\{1 \\leq X \\leq \\frac{7}{2}\\}$\n",
    "\n",
    "1. 根据概率密度的规范性，有\n",
    "$$\\begin{split}\n",
    "&\\because \\int_{-\\infty}^{+\\infty}f(x)dx=1\\\\\\\\\n",
    "&\\therefore \\int_{-\\infty}^00dx+\\int_0^3kxdx+\\int_3^4(2-\\frac{x}{2})dx+\\int_4^{+\\infty}0dx=1\\\\\\\\\n",
    "&\\because \\int_a^b0dx=0\\\\\\\\\n",
    "&\\Rightarrow 0+\\int_0^3kxdx+\\int_3^4(2-\\frac{x}{2})dx+0=1\\\\\\\\\n",
    "&\\because 根据牛顿莱布尼茨公式有\\int_a^bf(x)dx=F(x)|_a^b=F(b)-F(a)\\\\\\\\\n",
    "&\\Rightarrow 0+[k \\times \\frac{x^2}{2}]_0^3+[2x-\\frac{x^2}{4}]_3^4+0=1\\\\\\\\\n",
    "&\\Rightarrow k\\frac{3^2}{2}-k\\frac{2^2}{2}+(2 \\times 4-\\frac{4^2}{4})-(2 \\times 3-\\frac{3^2}{4})=1\\\\\\\\\n",
    "&k=\\frac{1}{6}\n",
    "\\end{split}$$\n",
    "将k带入，有概率密度为\n",
    "$$f(x)=\\begin{cases}\n",
    "\\frac{1}{6}x, & 0 \\leq x \\leq 3\\\\\\\\\n",
    "2-\\frac{x}{2}, & 3 \\leq x \\leq 4\\\\\\\\\n",
    "0, & otherwise\n",
    "\\end{cases}$$\n",
    "f(x)处处连续\n",
    "2. \n",
    "$$\\begin{split}\n",
    "当x<0时，&有F(x)=\\int_{-\\infty}^xf(t)dt=\\int_{-\\infty}^x0dt=0\\\\\\\\\n",
    "当0 \\leq x < 3,&有F(x)=\\int_{-\\infty}^xf(t)dt=\\int_{-\\infty}^00dt+\\int_0^x\\frac{t}{6}dt=0+\\frac{t^2}{12}|_0^x=\\frac{x^2}{12}\\\\\\\\\n",
    "当3 \\leq x < 4时,&有\\int_{-\\infty}^xf(t)dt=\\int_{-\\infty}^00dt+\\int_0^3\\frac{t}{6}dt+\\int_3^x(2-\\frac{t}{2})dt\\\\\\\\\n",
    "&=0+\\frac{t^2}{12}|_0^3+(2t-\\frac{t^2}{4})|_3^x=2x-\\frac{x^2}{4}-3\\\\\\\\\n",
    "当x \\geq 4时,&有\\int_{-\\infty}^xf(t)dt=\\int_{-\\infty}^00dt+\\int_0^3\\frac{t}{6}dt+\\int_3^4(2-\\frac{t}{2})dt+\\int_4^x0dt=1\n",
    "\\end{split}$$\n",
    "于是分布函数就是\n",
    "$$F(x)=\\begin{cases}\n",
    "0, & x < 0\\\\\\\\\n",
    "\\frac{x^2}{12}, & 0 \\leq x < 3\\\\\\\\\n",
    "2x-\\frac{x^2}{4}-3, & 3 \\leq x < 4\\\\\\\\\n",
    "1, & x \\geq 4\n",
    "\\end{cases}$$\n",
    "3. $P\\{1 \\leq X \\leq \\frac{7}{2}\\}=[-3+2 \\cdot \\frac{7}{2}-\\frac{1}{4}(\\frac{7}{2})^2]-\\frac{1}{12}=\\frac{41}{48} \\approx 0.8542$"
   ]
  },
  {
   "cell_type": "code",
   "execution_count": 10,
   "metadata": {
    "scrolled": true,
    "pycharm": {}
   },
   "outputs": [
    {
     "data": {
      "image/png": "[encoded data removed]",
      "text/plain": [
       "<Figure size 576x576 with 1 Axes>"
      ]
     },
     "metadata": {},
     "output_type": "display_data"
    }
   ],
   "source": [
    "from matplotlib import pyplot as plt\n",
    "import numpy as np\n",
    "\n",
    "plt.figure(figsize=(8,8), facecolor='w')\n",
    "\n",
    "x=np.linspace(-10, 0, 100)\n",
    "y = np.zeros(shape=(100))\n",
    "plt.plot(x, y, color='r', linewidth=4)\n",
    "\n",
    "x = np.linspace(0, 3, 100)\n",
    "y=(x**2)/12\n",
    "plt.plot(x, y, color='r', linewidth=4)\n",
    "\n",
    "x = np.linspace(3, 4, 100)\n",
    "y=-3 + 2 * x - (x**2/4)\n",
    "plt.plot(x, y, color='r', linewidth=4)\n",
    "\n",
    "x=np.linspace(4, 10, 100)\n",
    "y = np.ones(shape=(100))\n",
    "plt.plot(x, y, color='r', linewidth=4)\n",
    "\n",
    "ax = plt.gca()\n",
    "ax.spines['bottom'].set_position(('data', 0))\n",
    "ax.spines['left'].set_position(('data',0))\n",
    "plt.xlim(-10,10)\n",
    "plt.ylim(-1,2)\n",
    "plt.show()"
   ]
  },
  {
   "cell_type": "markdown",
   "metadata": {
    "pycharm": {}
   },
   "source": [
    "## 4.3.均匀分布\n",
    "若连续型随机变量X具有概率密度如下\n",
    "$$f(x)=\\begin{cases}\n",
    "\\frac{1}{b-a} & a < x < b\\\\\\\\\n",
    "0 & otherwise\n",
    "\\end{cases}$$\n",
    "则称X在区间$[a,b]$上服从均匀分布，记作$X \\sim U(a,b)$"
   ]
  },
  {
   "cell_type": "markdown",
   "metadata": {
    "pycharm": {}
   },
   "source": [
    "### 4.3.1.均匀分布的分布函数\n",
    "$$F(x)=\\begin{cases}\n",
    "\\int_{-\\infty}^xf(t)dt=\\int_{-\\infty}^x0dt=0, & x < a\\\\\\\\\n",
    "\\int_{-\\infty}^xf(t)dt=\\int_a^x\\frac{1}{b-a}dt=\\frac{x-a}{b-a}, & a \\leq x < b\\\\\\\\\n",
    "\\int_{-\\infty}^xf(t)dt=1, & b \\leq x\n",
    "\\end{cases}$$"
   ]
  },
  {
   "cell_type": "markdown",
   "metadata": {
    "pycharm": {}
   },
   "source": [
    "### 4.3.2.均匀分布的数学期望与方差\n",
    "$$\n",
    "E(X)=\\int_{-\\infty}^{+\\infty}xf(x)dx=\\int_a^b\\frac{1}{b-a}xdx=\\frac{a+b}{2}\n",
    "$$\n",
    "- 方差$D(X)=E(X^2)-[E(X)]^2=\\int_a^bx^2\\frac{1}{b-a}dx-(\\frac{a+b}{2})^2=\\frac{(b-a)^2}{12}$"
   ]
  },
  {
   "cell_type": "markdown",
   "metadata": {
    "pycharm": {}
   },
   "source": [
    "## 4.4.指数分布\n",
    "若连续型随机变量X具有概率密度如下\n",
    "$$f(x)=\\begin{cases}\n",
    "\\lambda e^{-\\lambda x} & x > 0\\\\\\\\\n",
    "0 & x \\leq 0\n",
    "\\end{cases}, \\lambda > 0$$\n",
    "则称X服从参数为$\\lambda$的指数分布，记作$X \\sim E(\\lambda)$"
   ]
  },
  {
   "cell_type": "markdown",
   "metadata": {
    "pycharm": {}
   },
   "source": [
    "### 4.4.1.指数分布的分布函数\n",
    "$$F(x)=\\begin{cases}\n",
    "\\int_{\\infty}^xf(t)dt=\\int_{-\\infty}^x0dt=0, & x \\leq 0\\\\\\\\\n",
    "\\int_{\\infty}^xf(t)dt=\\int_0^x\\lambda e^{-\\lambda t}dt=-\\int_0^x\\lambda e^{-\\lambda t}d(-\\lambda t)=-[e^{-\\lambda t}]|_0^x=1-e^{-\\lambda x}, & x > 0\n",
    "\\end{cases}$$"
   ]
  },
  {
   "cell_type": "markdown",
   "metadata": {
    "pycharm": {}
   },
   "source": [
    "### 4.4.2.指数分布的数学期望和方差\n",
    "$$\\begin{split}\n",
    "E(X)&=\\int_{-\\infty}^{+\\infty}xf(x)dx=\\int_0^{+\\infty}x \\cdot \\lambda e^{-\\lambda x}dx\\\\\\\\\n",
    "&=\\frac{1}{\\lambda}\n",
    "\\end{split}$$"
   ]
  },
  {
   "cell_type": "markdown",
   "metadata": {
    "pycharm": {}
   },
   "source": [
    "## 4.5.正态分布-高斯分布\n",
    "若连续型随机变量X具有如下概率密度\n",
    "$$f(X)=(\\frac{1}{\\sqrt{2\\pi}\\sigma})e^{-\\frac{(x-\\mu)^2}{2\\sigma^2}}, (-\\infty < x < +\\infty)$$\n",
    "其中$\\mu,\\sigma(\\sigma>0)$是常数，则称X服从参数为$\\mu,\\sigma$的正态分布，记作$X \\sim N(\\mu,\\sigma^2)$"
   ]
  },
  {
   "cell_type": "markdown",
   "metadata": {
    "pycharm": {}
   },
   "source": [
    "### 4.5.1.正态分布的数学期望和方差\n",
    "$$\\begin{split}\n",
    "E(x)&=\\int_{-\\infty}^{+\\infty}xf(x)dx=\\int_{-\\infty}^{+\\infty}x\\frac{1}{\\sqrt{2\\pi}\\sigma}e^{-\\frac{(x-\\mu)^2}{2\\sigma^2}}dx\\\\\\\\\n",
    "&=\\frac{1}{\\sqrt{\\pi}}\\int_{-\\infty}^{+\\infty}xe^{-(\\frac{x-\\mu}{\\sqrt{2}\\sigma})^2}d(\\frac{x-\\mu}{\\sqrt{2}\\sigma})\\\\\\\\\n",
    "&令z=\\frac{x-\\mu}{\\sqrt{2}\\sigma}\\\\\\\\\n",
    "&=\\frac{\\mu}{\\sqrt{\\pi}} \\times \\sqrt{\\pi}\\\\\\\\\n",
    "&=\\mu\n",
    "\\end{split}$$"
   ]
  },
  {
   "cell_type": "code",
   "execution_count": 11,
   "metadata": {
    "pycharm": {}
   },
   "outputs": [
    {
     "data": {
      "text/plain": [
       "<Figure size 864x864 with 0 Axes>"
      ]
     },
     "metadata": {},
     "output_type": "display_data"
    },
    {
     "data": {
      "image/png": "[encoded data removed]",
      "text/plain": [
       "<Figure size 720x720 with 1 Axes>"
      ]
     },
     "metadata": {},
     "output_type": "display_data"
    }
   ],
   "source": [
    "import numpy as np\n",
    "import matplotlib as mpl\n",
    "import math\n",
    "import matplotlib.pyplot as plt\n",
    "%matplotlib inline\n",
    "mpl.rcParams['font.sans-serif'] = [u'SimHei']  #FangSong/黑体 FangSong/KaiTi\n",
    "mpl.rcParams['axes.unicode_minus'] = False\n",
    "plt.figure(figsize=(12,12), facecolor='w')\n",
    "mu = 0\n",
    "sigma = 1\n",
    "x = np.linspace(mu - 3 * sigma, mu + 3 * sigma, 51)\n",
    "y = np.exp(-(x - mu) ** 2 / (2 * sigma ** 2)) / (math.sqrt(2 * math.pi) * sigma)\n",
    "# plt.plot(x, y, 'ro-', linewidth=2)\n",
    "plt.figure(figsize=(10,10),facecolor='w')\n",
    "plt.plot(x, y, 'r-', x, y, 'go', linewidth=2, markersize=8)\n",
    "plt.xlabel('X', fontsize=15)\n",
    "plt.ylabel('Y', fontsize=15)\n",
    "plt.title(u'高斯分布函数', fontsize=18)\n",
    "plt.grid(True)"
   ]
  },
  {
   "cell_type": "markdown",
   "metadata": {
    "pycharm": {}
   },
   "source": [
    "### 4.5.1.正态分布的分布函数\n",
    "$$F(x)=\\frac{1}{\\sqrt{2\\pi}\\sigma}\\int_{-\\infty}^xe^{-\\frac{(t-\\mu)^2}{2\\sigma^2}}dt$$"
   ]
  },
  {
   "cell_type": "markdown",
   "metadata": {
    "pycharm": {}
   },
   "source": [
    "### 4.5.2.标准正态分布\n",
    "当$\\mu=0,\\sigma=1$时的正态分布叫做标准正态分布，记作$X \\sim N(0,1)$,则概率密度为$\\varphi(x)=\\frac{1}{\\sqrt{2\\pi}}e^{-\\frac{x^2}{2}}$"
   ]
  },
  {
   "cell_type": "markdown",
   "metadata": {
    "pycharm": {}
   },
   "source": [
    "# 5.随机变量的函数的分布\n",
    "设$g(x)$是定义在随机变量X的一切可能取值x的集合上的函数，如果对于X的每一个可能的取值x，另一个随机变量Y取相应的值$y=g(x)$，则称Y为X的函数，记作$Y=g(X)$"
   ]
  },
  {
   "cell_type": "markdown",
   "metadata": {
    "pycharm": {}
   },
   "source": [
    "## 5.1.离散型随机变量的函数的分布\n",
    "\n",
    "> 离散型随机变量X具有以下分布律\n",
    ">\n",
    "> | X | -1 | 0 | 1 | 2 |\n",
    "  | - | -- | - | - | - |\n",
    "  | p | 0.2 | 0.3 | 0.1 | 0.4 |\n",
    ">\n",
    "> 试求$Y=3X+2$和$Z=(X-1)^2$的分布律\n",
    "\n",
    "解，X可以取值-1,0,1,2,那么Y的取值就是-1，2，5，8，而且Y是单调的，所以就有\n",
    "\n",
    "| Y | -1 | 2 | 5 | 8 |\n",
    "| - | -- | - | - | - |\n",
    "| p | 0.2 | 0.3 | 0.1 | 0.4 |\n",
    "\n",
    "对于Z来说，可以取值为4,1,0,1，有两个值是重复的，所以就有\n",
    "\n",
    "| Z | 4 | 1 | 0 |\n",
    "| - | -- | - | - |\n",
    "| p | 0.2 | 0.3+0.4 | 0.1 |"
   ]
  },
  {
   "cell_type": "markdown",
   "metadata": {
    "pycharm": {}
   },
   "source": [
    "## 5.2.连续型随机变量的函数的分布\n",
    "> 已知随机变量X的概率密度为\n",
    "$$f_X(x)=\\begin{cases}\n",
    "\\frac{x}{8}, & 0 < x < 4\\\\\\\\\n",
    "0, & otherwise\n",
    "\\end{cases}$$\n",
    "求随机变量Y=2X+8的概率密度$f_Y(y)$\n",
    "\n",
    "解，设X，Y的分布函数为$F_X(x)$与$F_Y(y)$。那么就有\n",
    "$$\\begin{split}\n",
    "F_Y(y)=P\\{Y \\leq y\\}&=P\\{2X+8 \\leq y\\}=P\\{X \\leq \\frac{y-8}{2}\\}=F_X(\\frac{y-8}{2})\\\\\\\\\n",
    "F'_Y(y)&=\\frac{d}{dy}[F_X(\\frac{y-8}{2})]\\\\\\\\\n",
    "F'_Y(y)&=F'_X(\\frac{y-8}{2}) \\frac{d}{dy} \\frac{y-8}{2}\\\\\\\\\n",
    "F'_Y(y)&=f_X(\\frac{y-8}{2}) \\times \\frac{1}{2}\\\\\\\\\n",
    "f_Y(y)&=f_X(\\frac{y-8}{2}) \\times \\frac{1}{2}\n",
    "\\end{split}$$\n",
    "根据$f_X(x)$的定义我们就有\n",
    "$$f_Y(y)=\\begin{cases}\n",
    "\\frac{1}{8} (\\frac{y-8}{2}) \\frac{1}{2}, & 0 < \\frac{y-8}{2} < 4\\\\\\\\\n",
    "0, & otherwise\n",
    "\\end{cases}$$\n",
    "整理得到\n",
    "$$f_Y(y)=\\begin{cases}\n",
    "\\frac{y-8}{32}, & 8 < y < 16\\\\\\\\\n",
    "0, & otherwise\n",
    "\\end{cases}$$"
   ]
  },
  {
   "cell_type": "code",
   "execution_count": null,
   "metadata": {
    "pycharm": {}
   },
   "outputs": [],
   "source": []
  }
 ],
 "metadata": {
  "kernelspec": {
   "display_name": "Python 3",
   "language": "python",
   "name": "python3"
  },
  "language_info": {
   "codemirror_mode": {
    "name": "ipython",
    "version": 3
   },
   "file_extension": ".py",
   "mimetype": "text/x-python",
   "name": "python",
   "nbconvert_exporter": "python",
   "pygments_lexer": "ipython3",
   "version": "3.6.8"
  },
  "pycharm": {
   "stem_cell": {
    "cell_type": "raw",
    "source": [],
    "metadata": {
     "collapsed": false
    }
   }
  }
 },
 "nbformat": 4,
 "nbformat_minor": 1
}