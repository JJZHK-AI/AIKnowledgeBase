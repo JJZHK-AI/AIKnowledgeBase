{
 "cells": [
  {
   "cell_type": "markdown",
   "metadata": {
    "collapsed": true,
    "pycharm": {
     "name": "#%% md\n"
    }
   },
   "source": [
    "行列式与代数余子式\n",
    "==="
   ]
  },
  {
   "cell_type": "markdown",
   "source": [
    "# 1.行列式(deterninants)\n",
    "行列式是跟每个方阵都有关的数，记作$\\left|A\\right|$"
   ],
   "metadata": {
    "collapsed": false,
    "pycharm": {
     "name": "#%% md\n"
    }
   }
  },
  {
   "cell_type": "markdown",
   "source": [
    "## 1.1.行列式的三个性质\n",
    "1. $\\left|I\\right|=1$\n",
    "2. 如果交换矩阵的两行，那么它的行列式的值的符号相反，即$\\left|P\\right|=-\\left|A\\right|$\n",
    "> 假如矩阵A是$\\left|\\begin{array}{cccc}\n",
    "  1 & 0 \\\\\n",
    "  0 & 1\n",
    "  \\end{array}\\right|$,那么交换两行之后$\\left|P\\right|=\\left|\\begin{array}{cccc}\n",
    "  0 & 1 \\\\\\\n",
    "  1 & 0\n",
    "  \\end{array}\\right|$,那么$\\left|P\\right|=-1$\n",
    "3. $\\left|\\begin{array}{cccc}\n",
    "  ta & tb \\\\\n",
    "  c & d\n",
    "  \\end{array}\\right|=t \\times \n",
    "  \\left|\\begin{array}{cccc}\n",
    "  a & b \\\\\n",
    "  c & d\n",
    "  \\end{array}\\right|$\n",
    "\n",
    "## 1.4.行列式的其它性质\n",
    "- 行列式为零时，矩阵是奇异的\n",
    "- 矩阵可逆等价于行列式非零\n",
    "\n",
    "\n",
    "\n",
    "$\n",
    "\\left|\\begin{array}{cccc}\n",
    "    1 &    6    & 9 \\\\ \n",
    "    7 &    90   & f(x)\\\\ \n",
    "    9 & \\psi(x) & g(x) \n",
    "\\end{array}\\right|\n",
    "$"
   ],
   "metadata": {
    "collapsed": false,
    "pycharm": {
     "name": "#%% md\n"
    }
   }
  },
  {
   "cell_type": "markdown",
   "source": [
    "$$\\begin{cases}\n",
    " \\ u_{tt}(x,t)= b(t)\\Delta u(x,t-4)&\\\\\n",
    " \\hspace{42pt}- q(x,t)f[u(x,t-3)]+te^{-t}\\sin^2 x,  &  t \\neq t_k\\\\\n",
    " \\ u(x,t_k^+) - u(x,t_k^-) = c_k u(x,t_k), & k=1,2,3\\ldots\\\\\n",
    " \\ u_{t}(x,t_k^+) - u_{t}(x,t_k^-) =c_k u_{t}(x,t_k), &\n",
    " k=1,2,3\\ldots\n",
    "\\end{cases}\n",
    "\n",
    "\n"
   ],
   "metadata": {
    "collapsed": false,
    "pycharm": {
     "name": "#%% md\n"
    }
   }
  }
 ],
 "metadata": {
  "language_info": {
   "codemirror_mode": {
    "name": "ipython",
    "version": 2
   },
   "file_extension": ".py",
   "mimetype": "text/x-python",
   "name": "python",
   "nbconvert_exporter": "python",
   "pygments_lexer": "ipython2",
   "version": "2.7.6"
  },
  "kernelspec": {
   "name": "python3",
   "language": "python",
   "display_name": "Python 3"
  },
  "pycharm": {
   "stem_cell": {
    "cell_type": "raw",
    "source": [],
    "metadata": {
     "collapsed": false
    }
   }
  }
 },
 "nbformat": 4,
 "nbformat_minor": 0
}