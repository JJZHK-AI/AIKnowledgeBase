{
 "cells": [
  {
   "cell_type": "markdown",
   "metadata": {
    "collapsed": true,
    "pycharm": {
     "name": "#%% md\n"
    }
   },
   "source": [
    "经典网络-LeNet 5\n",
    "==="
   ]
  },
  {
   "cell_type": "markdown",
   "source": [
    "# 1.经典神经网络发展历史图表\n",
    "| 年份 | 网络名称 | 作者 |\n",
    "| --- | ------- | --- |\n",
    "| 1998 | LeNet5 | LeCun |\n",
    "| 2012 | AlexNet | Alex Krizhevsky |\n",
    "| 2013 | ZFNet | 纽约大学 |\n",
    "| 2014 | GoogLeNet | Google |\n",
    "| 2014 | VGG | 牛津大学 |\n",
    "| 2015 | ResNet-残差网络 | 何恺明 |\n",
    "| 2016 | SqueezeNet | UC Berkeley & Stanford |\n",
    "| 2017 | SENet-注意力机制网络 | Momenta |\n",
    "| 2017 | DenseNet | 黄高团队 |\n",
    "| 2017 | MobileNetv1 | Andrew G.Howard等 |\n",
    "| 2017 | MobileNetv2 | Andrew G.Howard等 |\n",
    "| 2017 | ShuffleNetv1 | Xiangyu Zhang等 |\n",
    "| 2017 | ShuffleNetv2 | Xiangyu Zhang等 |\n",
    "| - | CondenseNet | 黄高团队 |\n",
    "| - | NASNet | Google |\n",
    "| - | PNASNet | - |"
   ],
   "metadata": {
    "collapsed": false,
    "pycharm": {
     "name": "#%% md\n"
    }
   }
  },
  {
   "cell_type": "markdown",
   "source": [
    "# 2.LeNet-5网络结构\n",
    "LeNet又名LeNet-5，是因为在LeNet中，使用的均是$5 \\times 5$的卷积核。LeNet的结构如图\n",
    "![images](Images/03/01/01_001.png)\n",
    "LeNet中使用的结构直接影响了其之后沿用至今，卷积+池化+全连接至今仍然是最主流的结构。卷积操作使网络可以响应和卷积核形状类似的特征，而池化则使网络拥有了一定程度的不变性"
   ],
   "metadata": {
    "collapsed": false,
    "pycharm": {
     "name": "#%% md\n"
    }
   }
  },
  {
   "cell_type": "markdown",
   "source": [
    "## 2.1.INPUT\n",
    "$32 \\times32 $的手写数字（共10类）的黑白图片"
   ],
   "metadata": {
    "collapsed": false,
    "pycharm": {
     "name": "#%% md\n"
    }
   }
  },
  {
   "cell_type": "markdown",
   "source": [
    "## 2.2.C1\n",
    "C1层使用了6个卷积核，每个卷积核的大小均是$5 \\times5 $，pad=0, stride=1，激活函数使用的是反正切$tanh$."
   ],
   "metadata": {
    "collapsed": false,
    "pycharm": {
     "name": "#%% md\n"
    }
   }
  },
  {
   "cell_type": "markdown",
   "source": [
    "所以一次卷积之后，Feature Map的大小是$\\frac{32-5+1}{1}=28$，该层共有$28 \\times 28 \\times 6 = 4704$个神经元。"
   ],
   "metadata": {
    "collapsed": false,
    "pycharm": {
     "name": "#%% md\n"
    }
   }
  },
  {
   "cell_type": "markdown",
   "source": [
    "加上偏置项，该层共有$(5 \\times 5 + 1) \\times 6=146$个参数\n",
    "$$\n",
    "f(x) = tanh(x) = \\frac{e^{x} - e^{-x}}{e^{x} + e^{-x}}\n",
    "$$\n",
    "​​#%% md\n",
    "## 2.3.S2\n",
    "S2层是卷积网络常使用的降采样层，在LeNet中，使用的是Max Pooling，降采样的步长是2，降采样核的大小也是2。经过S2层，Feature Map的大小减小一半"
   ],
   "metadata": {
    "collapsed": false,
    "pycharm": {
     "name": "#%% md\n"
    }
   }
  },
  {
   "cell_type": "markdown",
   "source": [
    "变成$14 \\times 14$。该层共有$14 \\times 14 \\times 6=1176$个神经元；"
   ],
   "metadata": {
    "collapsed": false,
    "pycharm": {
     "name": "#%% md\n"
    }
   }
  },
  {
   "cell_type": "markdown",
   "source": [
    "## 2.4.C3\n",
    "C3层是16个大小为$5 \\times 5$，深度为6的卷积核，pad = 0，stride = 1，激活函数=$tanh$，一次卷积后，Feature Map的大小是"
   ],
   "metadata": {
    "collapsed": false,
    "pycharm": {
     "name": "#%% md\n"
    }
   }
  },
  {
   "cell_type": "markdown",
   "source": [
    "$\\frac{14-5+1}{1}=10$，神经元个数为$10 \\times10 \\times 16 = 1600$，参数个数为$(5 \\times5 \\times 6+1) \\times 16 = 2416$个参数；"
   ],
   "metadata": {
    "collapsed": false,
    "pycharm": {
     "name": "#%% md\n"
    }
   }
  },
  {
   "cell_type": "markdown",
   "source": [
    "## 2.5.S4\n",
    "步长是2，大小是2的Max Pooling降采样，该层使Feature Map变成$5 \\times 5$，共有$5 \\times 5 \\times 16 = 400$个神经元。"
   ],
   "metadata": {
    "collapsed": false,
    "pycharm": {
     "name": "#%% md\n"
    }
   }
  },
  {
   "cell_type": "markdown",
   "source": [
    "注意池化并不是一种具体的运算，而是代表着一种对统计信息的提取，所以不含有参数。例如在衡量学生考试成绩时，我们不考虑学生试卷的每一道题，而是用总分（平均分）作为评判标准。"
   ],
   "metadata": {
    "collapsed": false,
    "pycharm": {
     "name": "#%% md\n"
    }
   }
  },
  {
   "cell_type": "markdown",
   "source": [
    "另外一种常见的池化方式是平均池化（Average Pooling）。"
   ],
   "metadata": {
    "collapsed": false,
    "pycharm": {
     "name": "#%% md\n"
    }
   }
  },
  {
   "cell_type": "markdown",
   "source": [
    "## 2.6.C5\n",
    "节点数为120的全连接，激活函数是$tanh$，参数个数是$(400+1) \\times 120=48120$；"
   ],
   "metadata": {
    "collapsed": false,
    "pycharm": {
     "name": "#%% md\n"
    }
   }
  },
  {
   "cell_type": "markdown",
   "source": [
    "## 2.7.F6\n",
    "节点数为84的全连接，激活函数是$tanh$，参数个数是$(120+1) \\times 84=10164$；"
   ],
   "metadata": {
    "collapsed": false,
    "pycharm": {
     "name": "#%% md\n"
    }
   }
  },
  {
   "cell_type": "markdown",
   "source": [
    "## 2.8.OUTPUT\n",
    "10分类的输出层，所以使用的是softmax激活函数，参数个数是$(84+1) \\times 10=850$。softmax用于分类有如下优点：\n",
    "1. $e^x$使所有样本的值均大于0，且指数的性质使样本的区分度尽量高；\n",
    "2. softmax所有可能的和为1，反映出分类为该类别的概率，输出选择概率最高的即可。"
   ],
   "metadata": {
    "collapsed": false,
    "pycharm": {
     "name": "#%% md\n"
    }
   }
  },
  {
   "cell_type": "markdown",
   "source": [
    "# 3.代码实现"
   ],
   "metadata": {
    "collapsed": false,
    "pycharm": {
     "name": "#%% md\n"
    }
   }
  },
  {
   "cell_type": "code",
   "execution_count": 8,
   "outputs": [],
   "source": [
    "import torch\n",
    "import torchvision as tv\n",
    "import matplotlib.pyplot as plt\n",
    "import jjzhk.progressbar as bar\n",
    "import ELib.pyt.dataset as data\n",
    "\n",
    "\n",
    "class LeNet5(torch.nn.Module):\n",
    "    def __init__(self):\n",
    "        super(LeNet5, self).__init__()\n",
    "\n",
    "        self.conv1   = torch.nn.Conv2d(in_channels=1, out_channels=6, kernel_size=5, padding=0)\n",
    "        self.tanh1   = torch.nn.Tanh()\n",
    "        self.pool1   = torch.nn.MaxPool2d(kernel_size=2, stride=2)\n",
    "        self.conv2   = torch.nn.Conv2d(in_channels=6, out_channels=16, kernel_size=5, padding=0)\n",
    "        self.tanh2   = torch.nn.Tanh()\n",
    "        self.pool2   = torch.nn.MaxPool2d(kernel_size=2, stride=2)\n",
    "        self.fc1     = torch.nn.Linear(in_features=16 * 4 * 4, out_features=120)\n",
    "        self.tanh3   = torch.nn.Tanh()\n",
    "        self.fc2     = torch.nn.Linear(in_features=120, out_features=84)\n",
    "        self.tanh4   = torch.nn.Tanh()\n",
    "        self.fc3     = torch.nn.Linear(in_features=84, out_features=10)\n",
    "        self.softmax = torch.nn.Softmax()\n",
    "\n",
    "    def forward(self, input):\n",
    "        x = self.conv1(input)\n",
    "        x = self.tanh1(x)\n",
    "        x = self.pool1(x)\n",
    "        x = self.conv2(x)\n",
    "        x = self.tanh2(x)\n",
    "        x = self.pool2(x)\n",
    "        x = x.view(-1, 16 * 4 * 4)\n",
    "        x = self.fc1(x)\n",
    "        x = self.tanh3(x)\n",
    "        x = self.fc2(x)\n",
    "        x = self.tanh4(x)\n",
    "        x = self.fc3(x)\n",
    "        x = self.softmax(x)\n",
    "        \n",
    "        return x\n",
    "\n",
    "\n",
    "model = LeNet5()\n",
    "transform_train = tv.transforms.Compose([\n",
    "    tv.transforms.ToTensor()\n",
    "])\n",
    "trainset = data.MnistDatasetForPytorch(root='/Users/JJZHK/data/input/mnist.npz', train=True, radio=0.8, transform = transform_train)\n",
    "loader = torch.utils.data.DataLoader(trainset, batch_size=128, shuffle=True)\n",
    "criterion = torch.nn.CrossEntropyLoss()"
   ],
   "metadata": {
    "collapsed": false,
    "pycharm": {
     "name": "#%%\n",
     "is_executing": false
    }
   }
  },
  {
   "cell_type": "code",
   "execution_count": 9,
   "outputs": [
    {
     "name": "stderr",
     "text": [
      "/Users/JJZHK/anaconda3/lib/python3.6/site-packages/ipykernel_launcher.py:38: UserWarning: Implicit dimension choice for softmax has been deprecated. Change the call to include dim=X as an argument.\n/Users/JJZHK/anaconda3/lib/python3.6/site-packages/ipykernel_launcher.py:22: UserWarning: Implicit dimension choice for softmax has been deprecated. Change the call to include dim=X as an argument.\n"
     ],
     "output_type": "stream"
    },
    {
     "name": "stdout",
     "text": [
      "1:2.300,0.219\n",
      "2:2.242,0.328\n",
      "3:2.025,0.625\n",
      "4:1.793,0.812\n",
      "5:1.678,0.750\n",
      "6:1.641,0.828\n",
      "7:1.621,0.922\n",
      "8:1.570,0.891\n",
      "9:1.543,0.938\n",
      "10:1.530,0.906\n",
      "11:1.520,0.906\n",
      "12:1.514,0.938\n",
      "13:1.509,0.969\n",
      "14:1.505,0.953\n",
      "15:1.501,0.953\n",
      "16:1.499,0.969\n",
      "17:1.497,1.000\n",
      "18:1.495,1.000\n",
      "19:1.493,0.984\n",
      "20:1.491,1.000\n",
      "21:1.490,0.969\n",
      "22:1.489,0.969\n",
      "23:1.488,0.953\n",
      "24:1.487,1.000\n",
      "25:1.486,0.969\n",
      "26:1.485,0.984\n",
      "27:1.484,1.000\n",
      "28:1.483,1.000\n",
      "29:1.483,0.969\n",
      "30:1.482,0.984\n[2.299819593015871, 2.241516228680197, 2.025000642695928, 1.7929594758983072, 1.678320775293324, 1.6406906780586938, 1.6206110307615098, 1.5702128584526445, 1.5432994711344645, 1.529569942112927, 1.5204947065545, 1.5137702419877597, 1.5087256303660945, 1.5047522470286991, 1.5014884335809646, 1.4988220769520764, 1.4965118640634023, 1.4945228687704426, 1.492833287748572, 1.4912689720114616, 1.49006722724601, 1.4888058081609474, 1.487713072942272, 1.486724817045203, 1.4859072473495518, 1.4849427053917488, 1.4842070101602982, 1.4834431121338447, 1.4827929805947222, 1.4820836785177118]\n[0.21875, 0.328125, 0.625, 0.8125, 0.75, 0.828125, 0.921875, 0.890625, 0.9375, 0.90625, 0.90625, 0.9375, 0.96875, 0.953125, 0.953125, 0.96875, 1.0, 1.0, 0.984375, 1.0, 0.96875, 0.96875, 0.953125, 1.0, 0.96875, 0.984375, 1.0, 1.0, 0.96875, 0.984375]\n"
     ],
     "output_type": "stream"
    }
   ],
   "source": [
    "optimizer = torch.optim.SGD(model.parameters(), lr=0.05)\n",
    "showbar = bar.ProgressBar(30, len(loader), 'Loss: %.3f | Acc: %.3f')\n",
    "total_loss = []\n",
    "total_accu = []\n",
    "for epoch in range(0, 30):\n",
    "    train_loss = 0\n",
    "    correct = 0\n",
    "    total = 0\n",
    "    for batch_idx, (inputs, targets) in enumerate(loader):\n",
    "        inputs = torch.autograd.Variable(inputs)\n",
    "        targets = torch.autograd.Variable(torch.squeeze(targets, dim=1).type(torch.LongTensor))\n",
    "\n",
    "        optimizer.zero_grad()\n",
    "        outputs = model(inputs)\n",
    "\n",
    "        loss = criterion(outputs, targets)\n",
    "        loss.backward()\n",
    "        optimizer.step()\n",
    "\n",
    "        train_loss += loss.item()\n",
    "\n",
    "        prediction = torch.max(torch.nn.functional.softmax(outputs), 1)[1]\n",
    "        pred_label = prediction.data.cpu().numpy().squeeze()\n",
    "        target_y = targets.data.cpu().numpy()\n",
    "        accuracy = sum(pred_label == target_y) / len(target_y)\n",
    "\n",
    "        #showbar.show(epoch + 1, train_loss / (batch_idx + 1), accuracy)\n",
    "    \n",
    "    print(\"%d:%.3f,%.3f\" % (epoch + 1, train_loss / (batch_idx + 1), accuracy))\n",
    "    total_loss.append(train_loss / (batch_idx + 1))\n",
    "    total_accu.append(accuracy)\n",
    "print(total_loss)\n",
    "print(total_accu)"
   ],
   "metadata": {
    "collapsed": false,
    "pycharm": {
     "name": "#%%\n",
     "is_executing": false
    }
   }
  },
  {
   "cell_type": "code",
   "execution_count": 10,
   "outputs": [
    {
     "data": {
      "text/plain": "<Figure size 432x288 with 1 Axes>",
      "image/png": "[encoded data removed]"
     },
     "metadata": {
      "needs_background": "light"
     },
     "output_type": "display_data"
    }
   ],
   "source": [
    "plt.plot(total_loss)\n",
    "plt.plot(total_accu)\n",
    "plt.title('model accuracy')\n",
    "plt.ylabel('accuracy')\n",
    "plt.xlabel('epoch')\n",
    "plt.legend(['loss','acc'], loc='upper left')\n",
    "plt.show()"
   ],
   "metadata": {
    "collapsed": false,
    "pycharm": {
     "name": "#%%\n",
     "is_executing": false
    }
   }
  }
 ],
 "metadata": {
  "kernelspec": {
   "display_name": "Python 3",
   "language": "python",
   "name": "python3"
  },
  "language_info": {
   "codemirror_mode": {
    "name": "ipython",
    "version": 2
   },
   "file_extension": ".py",
   "mimetype": "text/x-python",
   "name": "python",
   "nbconvert_exporter": "python",
   "pygments_lexer": "ipython2",
   "version": "2.7.6"
  },
  "pycharm": {
   "stem_cell": {
    "cell_type": "raw",
    "source": [],
    "metadata": {
     "collapsed": false
    }
   }
  }
 },
 "nbformat": 4,
 "nbformat_minor": 0
}