{
 "cells": [
  {
   "cell_type": "markdown",
   "metadata": {
    "collapsed": true,
    "pycharm": {}
   },
   "source": [
    "聚类算法-谱聚类\n",
    "==="
   ]
  },
  {
   "cell_type": "markdown",
   "metadata": {
    "pycharm": {}
   },
   "source": [
    "# 1.谱\n",
    "方阵的谱：方阵作为线性算子，它的所有特征值的全体。\n",
    "- 方阵的谱半径为最大的特征值\n",
    "- 矩阵A的谱半径:$A^TA$的最大特征值\n",
    "\n",
    "谱聚类是一种基于图论的聚类方法，通过对样本数据的拉普拉斯矩阵的特征向量进行聚类，从而达到对样本数据聚类的目的"
   ]
  },
  {
   "cell_type": "markdown",
   "metadata": {
    "pycharm": {}
   },
   "source": [
    "# 2.谱分析的整体过程\n",
    "1. 给定一组数据$x_1,x_2,...,x_n$，记任意两个点之间的相似度(\"距离”的减函数)为$s_{ij}=<x_i,x_j>$， 形成相似度图(similarity graph):G=(V,E) 。 如果$x_i$和$x_j$之间的相似度$s_{ij}$大于一定的阈值，那么两个点是连接的，权值记做$s_{ij}$。\n",
    "2. 接下来，可以用相似度图来解决样本数据的聚类问题:找到图的一个划分，形成若干个组(Group)，使得不同组之间有较低的权值，组内有较高的权值"
   ]
  },
  {
   "cell_type": "markdown",
   "metadata": {
    "pycharm": {}
   },
   "source": [
    "# 3.邻接矩阵\n",
    "给定一组样本$x_1,x_2,...,x_n$，那么对于样本$x_i,x_j$来度量它们的相似度$\\omega_{ij}$，根据高斯相似度，可以得到\n",
    "$$\\omega_{ij}=e^{-\\frac{||x_i-x_j||\\_2^2}{2\\sigma^2}}$$\n",
    "根据这个公式，我们可以求任意两个样本的高斯相似度，从而得到了一个$n*n$的矩阵，其中对角线为1，其余为$\\omega_{ij}$，我们将对角线清零，可以得到邻接矩阵\n",
    "$$\n",
    "W=\\begin{cases}\n",
    "0 & i = j\\\\\\\\\n",
    "\\omega_{ij} & i \\neq j\n",
    "\\end{cases},i,j=1,2,...,n\n",
    "$$"
   ]
  },
  {
   "cell_type": "markdown",
   "metadata": {
    "pycharm": {}
   },
   "source": [
    "# 4.度与拉普拉斯矩阵\n",
    "顶点的度$d_i=\\sum_{j=1}^n\\omega_{ij}$，所以这就是为什么需要将对角线清零。因为对角线清零后，顶点的度就是样本这一行的相似度加和.如果将邻接矩阵的对角线放置上各个顶点的度，其余清零，则得到了度矩阵D，它是一个对称阵，也是对角阵。拉普拉斯矩阵\n",
    "$$L_{n*n} = D_{n*n} - W_{n*n}$$"
   ]
  },
  {
   "cell_type": "markdown",
   "metadata": {},
   "source": [
    "# 5.谱聚类算法\n",
    "## 5.1.谱聚类算法"
   ]
  },
  {
   "cell_type": "markdown",
   "metadata": {
    "pycharm": {}
   },
   "source": [
    "L是一个$n*n$的矩阵，n是样本个数，拉普拉斯矩阵是一个实数形成的对称矩阵，那么总可以求出它的特征值与特征向量，\n",
    "使得等式成立\n",
    "$$L \\bullet \\overrightarrow{\\mu_i}=\\lambda_i \\bullet \\overrightarrow{\\mu_i}$$\n",
    "由于L是一个半正定矩阵，所以特征值$\\lambda$最小是0，剩下的都是正数，那么我们就可以有如下描述：\n",
    "> 假设$\\lambda_1,\\lambda_2,...,\\lambda_n$是拉普拉斯矩阵L的n个特征值，其中$\\lambda_1=0$，剩下的$\\lambda$是大于0的正数，同样有n个特征向量与之对应$\\overrightarrow{\\mu_1},\\overrightarrow{\\mu_2},...,\\overrightarrow{\\mu_n}$,其中每个$\\overrightarrow{\\mu_i}$都是一个列向量，那么这n个列向量可以组成一个$n*n$的矩阵，如下：\n",
    "$$\n",
    "\\begin{bmatrix}\n",
    "\\mu_{11}&\\mu_{12}&\\dots&\\mu_{1k}&\\dots&\\mu_{1n}\\\\\\\\\n",
    "\\mu_{21}&\\mu_{22}&\\dots&\\mu_{2k}&\\dots&\\mu_{2n}\\\\\\\\\n",
    "\\vdots&\\vdots&\\vdots&\\vdots&\\vdots&\\vdots\\\\\\\\\n",
    "\\mu_{n1}&\\mu_{n2}&\\dots&\\mu_{nk}&\\dots&\\mu_{nn}\\\\\\\\\n",
    "\\end{bmatrix}\n",
    "$$\n",
    "假设我们需要将原始样本分为K个簇，那么我们只保留上述矩阵的前K个列，后面的$n-K$个列舍弃，那么第一行的k个值就是样本1的特征，第二行就是样本2的特征，...,第n行就是第n个样本的特征，然后做K-Means聚类就可以了"
   ]
  },
  {
   "cell_type": "markdown",
   "metadata": {
    "pycharm": {}
   },
   "source": [
    "## 5.2.谱分析的整体过程\n",
    "1. 给定一组数据$x_1,x_2,...,x_n$，记任意两个点之间的相似度(\"距离”的减函数)为$s_{ij}=<x_i,x_j>$， 形成相似度图(similarity graph):G=(V,E) 。 如果$x_i$和$x_j$之间的相似度$s_{ij}$大于一定的阈值，那么两个点是连接的，权值记做$s_{ij}$。\n",
    "2. 接下来，可以用相似度图来解决样本数据的聚类问题:找到图的一个划分，形成若干个组(Group)，使得不同组之间有较低的权值，组内有较高的权值"
   ]
  },
  {
   "cell_type": "code",
   "execution_count": 4,
   "metadata": {
    "pycharm": {}
   },
   "outputs": [
    {
     "name": "stdout",
     "output_type": "stream",
     "text": [
      "开始谱聚类...\n"
     ]
    },
    {
     "name": "stdout",
     "output_type": "stream",
     "text": [
      "谱聚类完成...\n"
     ]
    },
    {
     "data": {
      "image/png": "[encoded data removed]",
      "text/plain": [
       "<Figure size 720x360 with 2 Axes>"
      ]
     },
     "metadata": {},
     "output_type": "display_data"
    }
   ],
   "source": [
    "import numpy as np\n",
    "import matplotlib.pyplot as plt\n",
    "import matplotlib.colors\n",
    "from sklearn.cluster import spectral_clustering\n",
    "from sklearn.feature_extraction import image\n",
    "from PIL import Image\n",
    "%matplotlib inline\n",
    "matplotlib.rcParams['font.sans-serif'] = [u'SimHei']\n",
    "matplotlib.rcParams['axes.unicode_minus'] = False\n",
    "\n",
    "pic = Image.open('data/Chrome.png')\n",
    "pic = pic.convert('L')\n",
    "data = np.array(pic).astype(np.float) / 255\n",
    "\n",
    "plt.figure(figsize=(10, 5), facecolor='w')\n",
    "plt.subplot(121)\n",
    "plt.imshow(pic, cmap=plt.cm.gray, interpolation='nearest')\n",
    "plt.title(u'原始图片', fontsize=18)\n",
    "n_clusters = 15\n",
    "\n",
    "affinity = image.img_to_graph(data)\n",
    "beta = 3\n",
    "affinity.data = np.exp(-beta * affinity.data / affinity.data.std()) + 10e-5\n",
    "# a = affinity.toarray()\n",
    "# b = np.diag(a.diagonal())\n",
    "# a -= b\n",
    "print('开始谱聚类...')\n",
    "y = spectral_clustering(affinity, n_clusters=n_clusters, assign_labels='kmeans', random_state=1)\n",
    "print('谱聚类完成...')\n",
    "y = y.reshape(data.shape)\n",
    "for n in range(n_clusters):\n",
    "    data[y == n] = n\n",
    "plt.subplot(122)\n",
    "clrs = []\n",
    "for c in np.linspace(16776960, 16711935, n_clusters):\n",
    "    clrs.append('#%06d' % c)\n",
    "cm = matplotlib.colors.ListedColormap(clrs)\n",
    "plt.imshow(data, cmap=cm, interpolation='nearest')\n",
    "plt.title(u'谱聚类：%d簇' % n_clusters, fontsize=18)\n",
    "plt.tight_layout()"
   ]
  }
 ],
 "metadata": {
  "kernelspec": {
   "display_name": "Python 3.6.9 64-bit ('anaconda3': virtualenv)",
   "language": "python",
   "name": "python36964bitanaconda3virtualenv5d618e8c7b894374a565943176146b80"
  },
  "language_info": {
   "codemirror_mode": {
    "name": "ipython",
    "version": 2
   },
   "file_extension": ".py",
   "mimetype": "text/x-python",
   "name": "python",
   "nbconvert_exporter": "python",
   "pygments_lexer": "ipython2",
   "version": "3.6.10-final"
  }
 },
 "nbformat": 4,
 "nbformat_minor": 0
}