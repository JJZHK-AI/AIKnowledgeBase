{
 "cells": [
  {
   "cell_type": "markdown",
   "metadata": {
    "collapsed": true,
    "pycharm": {
     "name": "#%% md\n"
    }
   },
   "source": [
    "特征值与特征向量\n",
    "==="
   ]
  },
  {
   "cell_type": "markdown",
   "source": [
    "# 1.特征向量与特征值\n",
    "如果$\\overrightarrow{A}\\overrightarrow{X}$的方向平行于向量$\\overrightarrow{x}$"
   ],
   "metadata": {
    "collapsed": false,
    "pycharm": {
     "name": "#%% md\n"
    }
   }
  },
  {
   "cell_type": "markdown",
   "source": [
    "即满足等式$\\overrightarrow{A}\\overrightarrow{X}=\\lambda\\overrightarrow{X}$，其中$\\lambda$是一个系数，那么我们就说$\\lambda$是特征值"
   ],
   "metadata": {
    "collapsed": false,
    "pycharm": {
     "name": "#%% md\n"
    }
   }
  },
  {
   "cell_type": "markdown",
   "source": [
    "$\\overrightarrow{X}$是特征向量。如果A是一个奇异矩阵，那么$\\overrightarrow{A}\\overrightarrow{X}=0$，即特征值$\\lambda=0$了"
   ],
   "metadata": {
    "collapsed": false,
    "pycharm": {
     "name": "#%% md\n"
    }
   }
  },
  {
   "cell_type": "markdown",
   "source": [
    "# 2.求解特征值与特征向量\n",
    "$$\\begin{split}\n",
    "&\\because \\overrightarrow{A}\\overrightarrow{X}=\\lambda\\overrightarrow{X} \\\\\n",
    "&\\Rightarrow \\overrightarrow{A}\\overrightarrow{X}-\\lambda\\overrightarrow{X} = 0 \\\\\n",
    "&\\Rightarrow (\\overrightarrow{A}-\\lambda\\overrightarrow{I})\\overrightarrow{X} = 0 \\\\\n",
    "&\\Rightarrow \\left|\\overrightarrow{A}-\\lambda\\overrightarrow{I}\\right| = 0\n",
    "\\end{split}$$"
   ],
   "metadata": {
    "collapsed": false,
    "pycharm": {
     "name": "#%% md\n"
    }
   }
  },
  {
   "cell_type": "markdown",
   "source": [
    "## 2.1.举例\n",
    "求矩阵$\\begin{bmatrix}\n",
    "3 & 1 \\\\\n",
    "1 & 3\n",
    "\\end{bmatrix}$的特征值与特征向量"
   ],
   "metadata": {
    "collapsed": false,
    "pycharm": {
     "name": "#%% md\n"
    }
   }
  },
  {
   "cell_type": "markdown",
   "source": [
    "带入上式，有\n",
    "$$\\begin{split}\n",
    "\\left|\\begin{bmatrix}\n",
    "3 & 1 \\\\\n",
    "1 & 3\n",
    "\\end{bmatrix}-\\lambda \\times \\begin{bmatrix}\n",
    "1 & 0 \\\\\n",
    "0 & 1\n",
    "\\end{bmatrix}\\right| &= 0 \\\\\n",
    "\\left|\\begin{bmatrix}\n",
    "3 & 1 \\\\\n",
    "1 & 3\n",
    "\\end{bmatrix}-\\begin{bmatrix}\n",
    "\\lambda & 0 \\\\\n",
    "0 & \\lambda\n",
    "\\end{bmatrix}\\right| &= 0 \\\\\n",
    "\\left|\\begin{bmatrix}\n",
    "3-\\lambda & 1 \\\\\n",
    "1 & 3-\\lambda\n",
    "\\end{bmatrix}\\right| &= 0 \\\\\n",
    "\\left|\\begin{array}{cccc}\n",
    "3-\\lambda & 1 \\\\\n",
    "1 & 3-\\lambda\n",
    "\\end{array}\\right| &= 0 \\\\\n",
    "(\\lambda-3)^2-1&= 0\\\\\n",
    "\\lambda^2-6\\lambda+8 &= 0 \\\\\n",
    "&\\Rightarrow \\lambda=4 or \\lambda=2\n",
    "\\end{split}$$\n",
    "当$\\lambda=2$时，有$\\overrightarrow{X}=\\begin{bmatrix}\n",
    "-1 \\\\\n",
    "1\n",
    "\\end{bmatrix}$"
   ],
   "metadata": {
    "collapsed": false,
    "pycharm": {
     "name": "#%% md\n"
    }
   }
  },
  {
   "cell_type": "markdown",
   "source": [
    "当$\\lambda=4$时，有$\\overrightarrow{X}=\\begin{bmatrix}\n",
    "1 \\\\\n",
    "1\n",
    "\\end{bmatrix}$"
   ],
   "metadata": {
    "collapsed": false,
    "pycharm": {
     "name": "#%% md\n"
    }
   }
  }
 ],
 "metadata": {
  "language_info": {
   "codemirror_mode": {
    "name": "ipython",
    "version": 2
   },
   "file_extension": ".py",
   "mimetype": "text/x-python",
   "name": "python",
   "nbconvert_exporter": "python",
   "pygments_lexer": "ipython2",
   "version": "2.7.6"
  },
  "kernelspec": {
   "name": "python3",
   "language": "python",
   "display_name": "Python 3"
  },
  "pycharm": {
   "stem_cell": {
    "cell_type": "raw",
    "source": [],
    "metadata": {
     "collapsed": false
    }
   }
  }
 },
 "nbformat": 4,
 "nbformat_minor": 0
}