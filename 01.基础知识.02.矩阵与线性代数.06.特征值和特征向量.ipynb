{
 "cells": [
  {
   "cell_type": "markdown",
   "metadata": {
    "collapsed": true,
    "pycharm": {
     "name": "#%% md\n"
    }
   },
   "source": [
    "特征值与特征向量\n",
    "==="
   ]
  },
  {
   "cell_type": "markdown",
   "source": [
    "# 1.特征向量与特征值\n",
    "如果$\\overrightarrow{A}\\overrightarrow{X}$的方向平行于向量$\\overrightarrow{x}$"
   ],
   "metadata": {
    "collapsed": false,
    "pycharm": {
     "name": "#%% md\n"
    }
   }
  },
  {
   "cell_type": "markdown",
   "source": [
    "即满足等式$\\overrightarrow{A}\\overrightarrow{X}=\\lambda\\overrightarrow{X}$，其中$\\lambda$是一个系数，那么我们就说$\\lambda$是特征值"
   ],
   "metadata": {
    "collapsed": false,
    "pycharm": {
     "name": "#%% md\n"
    }
   }
  },
  {
   "cell_type": "markdown",
   "source": [
    "从几何意义上来说，$\\overrightarrow{A}\\overrightarrow{X}$相当于在坐标系上对于$\\overrightarrow{X}$进行的旋转，如果旋转以后的向量跟原始向量在一个一条直线上，或者是同方向，或者是反方向，那么x就是A的特征向量，$\\lambda$就是对特征向量进行了缩放"
   ],
   "metadata": {
    "collapsed": false,
    "pycharm": {
     "name": "#%% md\n"
    }
   }
  },
  {
   "cell_type": "markdown",
   "source": [
    "$\\overrightarrow{X}$是特征向量。如果A是一个奇异矩阵，那么$\\overrightarrow{A}\\overrightarrow{X}=0$，即特征值$\\lambda=0$了"
   ],
   "metadata": {
    "collapsed": false,
    "pycharm": {
     "name": "#%% md\n"
    }
   }
  },
  {
   "cell_type": "markdown",
   "source": [
    "# 2.求解特征值与特征向量\n",
    "$$\\begin{split}\n",
    "&\\because \\overrightarrow{A}\\overrightarrow{X}=\\lambda\\overrightarrow{X} \\\\\n",
    "&\\Rightarrow \\overrightarrow{A}\\overrightarrow{X}-\\lambda\\overrightarrow{X} = 0 \\\\\n",
    "&\\Rightarrow (\\overrightarrow{A}-\\lambda\\overrightarrow{I})\\overrightarrow{X} = 0 \\\\\n",
    "&\\Rightarrow \\left|\\overrightarrow{A}-\\lambda\\overrightarrow{I}\\right| = 0\n",
    "\\end{split}$$"
   ],
   "metadata": {
    "collapsed": false,
    "pycharm": {
     "name": "#%% md\n"
    }
   }
  },
  {
   "cell_type": "markdown",
   "source": [
    "## 2.1.举例\n",
    "求矩阵$\\begin{bmatrix}\n",
    "3 & 1 \\\\\n",
    "1 & 3\n",
    "\\end{bmatrix}$的特征值与特征向量"
   ],
   "metadata": {
    "collapsed": false,
    "pycharm": {
     "name": "#%% md\n"
    }
   }
  },
  {
   "cell_type": "markdown",
   "source": [
    "带入上式，有\n",
    "$$\\begin{split}\n",
    "\\left|\\begin{bmatrix}\n",
    "3 & 1 \\\\\n",
    "1 & 3\n",
    "\\end{bmatrix}-\\lambda \\times \\begin{bmatrix}\n",
    "1 & 0 \\\\\n",
    "0 & 1\n",
    "\\end{bmatrix}\\right| &= 0 \\\\\n",
    "\\left|\\begin{bmatrix}\n",
    "3 & 1 \\\\\n",
    "1 & 3\n",
    "\\end{bmatrix}-\\begin{bmatrix}\n",
    "\\lambda & 0 \\\\\n",
    "0 & \\lambda\n",
    "\\end{bmatrix}\\right| &= 0 \\\\\n",
    "\\left|\\begin{bmatrix}\n",
    "3-\\lambda & 1 \\\\\n",
    "1 & 3-\\lambda\n",
    "\\end{bmatrix}\\right| &= 0 \\\\\n",
    "\\left|\\begin{array}{cccc}\n",
    "3-\\lambda & 1 \\\\\n",
    "1 & 3-\\lambda\n",
    "\\end{array}\\right| &= 0 \\\\\n",
    "(\\lambda-3)^2-1&= 0\\\\\n",
    "\\lambda^2-6\\lambda+8 &= 0 \\\\\n",
    "&\\Rightarrow \\lambda=4 or \\lambda=2\n",
    "\\end{split}$$\n",
    "当$\\lambda=2$时，有$\\overrightarrow{X}=\\begin{bmatrix}\n",
    "-1 \\\\\n",
    "1\n",
    "\\end{bmatrix}$"
   ],
   "metadata": {
    "collapsed": false,
    "pycharm": {
     "name": "#%% md\n"
    }
   }
  },
  {
   "cell_type": "markdown",
   "source": [
    "当$\\lambda=4$时，有$\\overrightarrow{X}=\\begin{bmatrix}\n",
    "1 \\\\\n",
    "1\n",
    "\\end{bmatrix}$"
   ],
   "metadata": {
    "collapsed": false,
    "pycharm": {
     "name": "#%% md\n"
    }
   }
  },
  {
   "cell_type": "markdown",
   "source": [
    "# 3.特征值的性质\n",
    "设n阶矩阵$A=(a_{ij})$的特征值为$\\lambda_1,\\lambda_2,...,\\lambda_n$，则\n",
    "- $\\lambda_1+\\lambda_2+...+\\lambda_n=a_{11}+a_{22}+...+a_{nn}$\n",
    "- $\\lambda_1\\lambda_2...\\lambda_n=|A|$，称为A的迹(trace)\n",
    "\n",
    "如果$\\lambda$是方阵A的特征值，那么$\\lambda^n$就是$A^n$的特征值"
   ],
   "metadata": {
    "collapsed": false,
    "pycharm": {
     "name": "#%% md\n"
    }
   }
  },
  {
   "cell_type": "markdown",
   "source": [
    "如果A可逆时，$\\lambda^{-1}$是$A^{-1}$的特征值。设$\\lambda_1,\\lambda_2,...,\\lambda_m$是方阵A的m个特征值，$p_1,p_2,...,p_m$是依次与之对应的特征向量，若$\\lambda_1,\\lambda_2,...,\\lambda_m$各不相等，则$p_1,p_2,...,p_m$线性无关"
   ],
   "metadata": {
    "collapsed": false,
    "pycharm": {
     "name": "#%% md\n"
    }
   }
  },
  {
   "cell_type": "markdown",
   "source": [
    "# 4.特征分解\n",
    "<p>对于$Ax_i=\\lambda{x_i}$，如果所有的特征值都不相同，则对应的所有的特征向量线性无关。此时，A可以被对角化为\n",
    "$A=V\\wedge V^{-1}$，其中V是一个可逆矩阵,$V=[x_1,x_2,...,x_n]$，$\\wedge=Diag(\\lambda_1,...,\\lambda_n)$。有一类矩阵一定可以被对角化，那就是对称矩阵</p>\n",
    "<p>具体的应用就是PCA降维，PCA的本质就是协方差矩阵的想死对角化，KL变换。降维的目的是将多行的向量，降维少量行数\n",
    "的向量，那么目标就是同一行内的数据要尽量的分散，不同行之间的数据要尽量的减少相关性。这样才能更好的分辨原有数\n",
    "据.给定一个矩阵$X \\in R^{m*n}$，例如</p>\n",
    "$$\n",
    "X=\\begin{bmatrix}\n",
    "a_{11}&a_{12}&\\dots&a_{1n}\\\\\\\\\n",
    "a_{21}&a_{22}&\\dots&a_{2n}\\\\\\\\\n",
    "\\vdots&\\vdots&\\vdots&\\vdots\\\\\\\\\n",
    "a_{m1}&a_{mn2}&\\dots&a_{mn}\n",
    "\\end{bmatrix}$$\n",
    "选择$k<m$个正交基进行降维的同时又尽量保留原始的信息。即使得A变换到这组基后，使得行向量间的协方差为0，而每个行\n",
    "向量的方差尽可能大。0均值化后的协方差矩阵为\n",
    "$$\n",
    "C_x=\\frac{1}{n}XX^T=\\begin{bmatrix}\n",
    "\\frac{1}{n}\\sum_{i=1}^na_i^2&\\frac{1}{n}\\sum_{i=1}^na_ib_i\\\\\\\\\n",
    "\\frac{1}{n}\\sum_{i=1}^na_ib_i&\\frac{1}{n}\\sum_{i=1}^nb_i^2\n",
    "\\end{bmatrix}\n",
    "$$\n",
    "那么我们就希望非对角线上的数都是0，所以a,b必须是垂直的。<br/>\n",
    "假设变换矩阵为$Y=QX$，并先假设Q是方阵，则有$C_Y=\\frac{1}{n}YY^T=QC_XQ^T$，因为$C_X=U\\wedge U^T \\Rightarrow \\wedge=U^TC_XU$，当$Q=U^T$的时候，$C_Y$是一个对角矩阵.PCA的本质就是协方差矩阵的对角化，对角化后我们把特征值大的保留下来，特征值小的丢弃，这样就可以实现降维的效果.举例说明PCA降维：假设\n",
    "$$\n",
    "X=\\begin{bmatrix}\n",
    "-1&-1&0&2&0\\\\\\\\\n",
    "-2&0&0&1&1\\\\\\\\\n",
    "\\end{bmatrix}\n",
    "$$\n",
    "需要将X降维1行\n",
    "\n",
    "求解：首先求出协方差矩阵\n",
    "$$\n",
    "C_X=\\begin{bmatrix}\n",
    "\\frac{6}{5}&\\frac{4}{5}\\\\\\\\\n",
    "\\frac{4}{5}&\\frac{6}{5}\n",
    "\\end{bmatrix}\n",
    "$$\n",
    "然后可以求出$C_X$的特征值为$\\lambda_1=2,\\lambda_2=\\frac{2}{5}$，特征向量为\n",
    "$$\n",
    "\\begin{bmatrix}\n",
    "\\frac{1}{\\sqrt{2}}\\\\\\\\\n",
    "\\frac{1}{\\sqrt{2}}\n",
    "\\end{bmatrix}\\begin{bmatrix}\n",
    "-\\frac{1}{\\sqrt{2}}\\\\\\\\\n",
    "\\frac{1}{\\sqrt{2}}\n",
    "\\end{bmatrix}\n",
    "$$\n",
    "因此\n",
    "$$\n",
    "U=\\begin{bmatrix}\n",
    "\\frac{1}{\\sqrt{2}}&-\\frac{1}{\\sqrt{2}}\\\\\\\\\n",
    "\\frac{1}{\\sqrt{2}}&\\frac{1}{\\sqrt{2}}\n",
    "\\end{bmatrix}\n",
    "$$\n",
    "那么\n",
    "$$\n",
    "U_T=\\begin{bmatrix}\n",
    "\\frac{1}{\\sqrt{2}}&\\frac{1}{\\sqrt{2}}\\\\\\\\\n",
    "-\\frac{1}{\\sqrt{2}}&\\frac{1}{\\sqrt{2}}\n",
    "\\end{bmatrix}\n",
    "$$\n",
    "这样就对角化了$C_Y$，降维的时候取他的第一行。降维\n",
    "$$\n",
    "\\begin{bmatrix}\n",
    "\\frac{1}{\\sqrt{2}}&\\frac{1}{\\sqrt{2}}\n",
    "\\end{bmatrix}\n",
    "$$\n",
    "\n",
    "$X=\\begin{bmatrix}\n",
    "-\\frac{3}{\\sqrt{2}}&-\\frac{1}{\\sqrt{2}}&0&\\frac{3}{\\sqrt{2}}&\\frac{1}{\\sqrt{2}}\n",
    "\\end{bmatrix}$,此时可验证$C_Y=2=\\lambda_1$，根据$\\lambda$的大小排序，如果降维为m，那么就取最大的m\n",
    "个$\\lambda$"
   ],
   "metadata": {
    "collapsed": false,
    "pycharm": {
     "name": "#%% md\n"
    }
   }
  }
 ],
 "metadata": {
  "language_info": {
   "codemirror_mode": {
    "name": "ipython",
    "version": 2
   },
   "file_extension": ".py",
   "mimetype": "text/x-python",
   "name": "python",
   "nbconvert_exporter": "python",
   "pygments_lexer": "ipython2",
   "version": "2.7.6"
  },
  "kernelspec": {
   "name": "python3",
   "language": "python",
   "display_name": "Python 3"
  },
  "pycharm": {
   "stem_cell": {
    "cell_type": "raw",
    "source": [],
    "metadata": {
     "collapsed": false
    }
   }
  }
 },
 "nbformat": 4,
 "nbformat_minor": 0
}