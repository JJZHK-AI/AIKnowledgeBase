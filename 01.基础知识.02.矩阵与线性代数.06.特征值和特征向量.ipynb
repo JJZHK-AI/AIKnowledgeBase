{
 "cells": [
  {
   "cell_type": "markdown",
   "metadata": {
    "collapsed": true,
    "pycharm": {
     "name": "#%% md\n"
    }
   },
   "source": [
    "特征值与特征向量\n",
    "==="
   ]
  },
  {
   "cell_type": "markdown",
   "source": [
    "# 1.特征向量\n",
    "如果$A\\overrightarrow{X}$的方向平行于向量$\\overrightarrow{x}$，那么A就是特征向量"
   ],
   "metadata": {
    "collapsed": false,
    "pycharm": {
     "name": "#%% md\n"
    }
   }
  },
  {
   "cell_type": "markdown",
   "source": [
    "即满足等式$A\\overrightarrow{X}=\\lambda\\overrightarrow{X}$，其中$\\lambda$是一个系数\n",
    "\n",
    "\n"
   ],
   "metadata": {
    "collapsed": false,
    "pycharm": {
     "name": "#%% md\n"
    }
   }
  }
 ],
 "metadata": {
  "language_info": {
   "codemirror_mode": {
    "name": "ipython",
    "version": 2
   },
   "file_extension": ".py",
   "mimetype": "text/x-python",
   "name": "python",
   "nbconvert_exporter": "python",
   "pygments_lexer": "ipython2",
   "version": "2.7.6"
  },
  "kernelspec": {
   "name": "python3",
   "language": "python",
   "display_name": "Python 3"
  },
  "pycharm": {
   "stem_cell": {
    "cell_type": "raw",
    "source": [],
    "metadata": {
     "collapsed": false
    }
   }
  }
 },
 "nbformat": 4,
 "nbformat_minor": 0
}