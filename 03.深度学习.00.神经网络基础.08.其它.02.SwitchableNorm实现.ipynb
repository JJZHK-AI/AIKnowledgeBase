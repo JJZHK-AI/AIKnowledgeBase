{
 "nbformat": 4,
 "nbformat_minor": 2,
 "metadata": {
  "language_info": {
   "name": "python",
   "codemirror_mode": {
    "name": "ipython",
    "version": 3
   }
  },
  "orig_nbformat": 2,
  "file_extension": ".py",
  "mimetype": "text/x-python",
  "name": "python",
  "npconvert_exporter": "python",
  "pygments_lexer": "ipython3",
  "version": 3
 },
 "cells": [
  {
   "cell_type": "markdown",
   "execution_count": null,
   "metadata": {},
   "outputs": [],
   "source": [
    "归一化的集大成者-Switchable Normalization\n",
    "==="
   ]
  },
  {
   "cell_type": "markdown",
   "execution_count": null,
   "metadata": {},
   "outputs": [],
   "source": [
    "Switchable Normalization(SN)算法核心在于提出了一个可微的归一化层，可以让模型根据数据来学习每一层该选择的归一化方法，亦或是三个归一化方法的加权，如下图所示。"
   ]
  },
  {
   "cell_type": "markdown",
   "execution_count": null,
   "metadata": {},
   "outputs": [],
   "source": [
    "![Images](Images/03/00/08_02_001.jpg)"
   ]
  },
  {
   "cell_type": "markdown",
   "execution_count": null,
   "metadata": {},
   "outputs": [],
   "source": [
    "SN是一个任务无关的归一化方法，不管是LN适用的RNN还是IN适用的图像风格迁移（IST），SN均能用到该应用中。"
   ]
  },
  {
   "cell_type": "markdown",
   "execution_count": null,
   "metadata": {},
   "outputs": [],
   "source": [
    "# 1.SN详解"
   ]
  },
  {
   "cell_type": "markdown",
   "execution_count": null,
   "metadata": {},
   "outputs": [],
   "source": [
    "SN实现了对BN，LN以及IN的统一。以CNN为例，假设一个4D Feature Map的尺寸为$(N,C,W,H)$,假设$h_{ncij}$和$\\hat{h}_{ncij}$分别是归一化前后的像素点值，其中有$n \\in [1,N], c \\in [1,C], i \\in [1,H],j \\in [1,W]$。假设$\\mu$和$\\sigma$分别是均值和方差，那么三种归一化方法可以表示为下面的这个统一的式子:\n",
    "$$\\hat{h}_{ncij}=\\gamma\\frac{h_{ncij}-\\mu}{\\sqrt{\\sigma^2+\\epsilon}}+\\beta \\tag{1}$$"
   ]
  },
  {
   "cell_type": "markdown",
   "execution_count": null,
   "metadata": {},
   "outputs": [],
   "source": [
    "其中$\\beta$和$\\gamma$分别是位移变量和缩放变量，$\\epsilon$是一个非常小的数用于防止除0.对于三种算法，唯一不同的就是计算$\\mu$和$\\sigma$统计的像素点不同。两者表示为下面的式子\n",
    "$$\\mu_k=\\frac{1}{I_k}\\sum_{n,c,i,j \\in I_k}h_{ncij},\\sigma_k^2=\\frac{1}{I_k}\\sum_{n,c,i,j \\in I_k}(h_{ncij}-\\mu_k)^2 \\tag{2}$$"
   ]
  },
  {
   "cell_type": "markdown",
   "execution_count": null,
   "metadata": {},
   "outputs": [],
   "source": [
    "其中$k \\in \\{IN,LN,BN\\}$，并且有\n",
    "$$\\begin{split}\n",
    "I_{IN}&=\\{(i,j)|i \\in [1,H],j \\in [1,W]\\} \\\\\n",
    "I_{BN}&=\\{(i,j)|n \\in [1,N],i \\in [1,H],j \\in [1,W]\\} \\\\\n",
    "I_{LN}&=\\{(i,j)|c \\in [1,C],i \\in [1,H],j \\in [1,W]\\}\n",
    "\\end{split}$$"
   ]
  },
  {
   "cell_type": "markdown",
   "execution_count": null,
   "metadata": {},
   "outputs": [],
   "source": [
    "# 2.SN算法介绍"
   ]
  },
  {
   "cell_type": "markdown",
   "execution_count": null,
   "metadata": {},
   "outputs": [],
   "source": [
    "SN算法可以表述为如下式子\n",
    "$$\\hat{h}_{ncij}=\\gamma \\frac{h_{ncij}-\\sum_{k \\in \\Omega}\\omega_k\\mu_k}{\\sqrt{\\sum_{k \\in \\Omega}\\omega_k'\\sigma_k^2+\\epsilon}}+\\beta \\tag{3}$$"
   ]
  },
  {
   "cell_type": "markdown",
   "execution_count": null,
   "metadata": {},
   "outputs": [],
   "source": [
    "其中$\\Omega \\in \\{IN,LN,BN\\}$"
   ]
  },
  {
   "cell_type": "markdown",
   "execution_count": null,
   "metadata": {},
   "outputs": [],
   "source": [
    "# 3.SN的普遍适用性"
   ]
  },
  {
   "cell_type": "markdown",
   "execution_count": null,
   "metadata": {},
   "outputs": [],
   "source": [
    "![Images](Images/03/00/08_02_002.jpg)\n",
    "![Images](Images/03/00/08_02_003.jpg)"
   ]
  },
  {
   "cell_type": "markdown",
   "execution_count": null,
   "metadata": {},
   "outputs": [],
   "source": [
    "SN通过根据不同的任务调整不同归一化策略的权值使其可以直接应用到不同的任务中.SN也能根据batchsize的大小自动调整不同归一化策略的比重，如果batchsize的值比较小，SN学到的BN的权重就会很小，反之BN的权重就会很大"
   ]
  }
 ]
}