{
 "cells": [
  {
   "cell_type": "markdown",
   "metadata": {
    "collapsed": true,
    "pycharm": {
     "name": "#%% md\n"
    }
   },
   "source": [
    "卷积神经网络之池化层-Pooling\n",
    "==="
   ]
  },
  {
   "cell_type": "markdown",
   "metadata": {
    "collapsed": false,
    "pycharm": {
     "name": "#%% md\n"
    }
   },
   "source": [
    "# 1.池化层的定义\n",
    "我们知道卷积可以提取图片的特征，之所以使用卷积后的特征，是因为图像具有“静态型”的属性，也就意味着在一个图像区域的特征极有可能在另一个区域同样适用。所以，当我们描述一个大的图像的时候就可以对不同位置的特征进行聚合统计这种统计方式不仅可以降低纬度，还不容易过拟合。这种聚合统计的操作就称之为池化。"
   ]
  },
  {
   "cell_type": "markdown",
   "metadata": {
    "collapsed": false,
    "pycharm": {
     "name": "#%% md\n"
    }
   },
   "source": [
    "对于上述所说的聚合统计，一般来说就是计算平均值或者最大值，也就对应了两种池化方法即平均池化和最大池化"
   ]
  },
  {
   "cell_type": "markdown",
   "metadata": {
    "collapsed": false,
    "pycharm": {
     "name": "#%% md\n"
    }
   },
   "source": [
    "# 2.池化层的作用"
   ]
  },
  {
   "cell_type": "markdown",
   "metadata": {
    "collapsed": false,
    "pycharm": {
     "name": "#%% md\n"
    }
   },
   "source": [
    "## 2.1.保留特征的同时减少参数和计算量，防止过拟合\n",
    "池化层在保证图片特征的情况下，将图片压缩变小，可以简化网络计算复杂度，提取主要特征。\n",
    "![images](Images/03/00/05_03_001.png)"
   ]
  },
  {
   "cell_type": "markdown",
   "metadata": {
    "collapsed": false,
    "pycharm": {
     "name": "#%% md\n"
    }
   },
   "source": [
    "## 2.2.池化层具有不变性(invariance)\n",
    "这里的不变性包括平移，旋转，尺度"
   ]
  },
  {
   "cell_type": "markdown",
   "metadata": {
    "collapsed": false,
    "pycharm": {
     "name": "#%% md\n"
    }
   },
   "source": [
    "### 2.2.1.平移不变性\n",
    "![images](Images/03/00/05_03_002.jpg)\n",
    "假设有一个16x16的图片，里面有个数字1，我们需要识别出来，这个数字1可能写的偏左一点，这个数字1可能偏右一点，图1到图2相当于向右平移了一个单位，但是图1和图2经过max pooling之后它们都变成了相同的8x8特征矩阵，主要的特征我们捕获到了，同时又将问题的规模从16x16降到了8x8，而且具有平移不变性的特点。图中的a（或b）表示，在原始图片中的这些a（或b）位置，最终都会映射到相同的位置。"
   ]
  },
  {
   "cell_type": "markdown",
   "metadata": {
    "collapsed": false,
    "pycharm": {
     "name": "#%% md\n"
    }
   },
   "source": [
    "### 2.2.2.旋转不变性\n",
    "![images](Images/03/00/05_03_003.jpg)\n",
    "汉字“一”的识别，第一张相对于x轴有倾斜角，第二张是平行于x轴，两张图片相当于做了旋转，经过多次max pooling后具有相同的特征"
   ]
  },
  {
   "cell_type": "markdown",
   "metadata": {
    "collapsed": false,
    "pycharm": {
     "name": "#%% md\n"
    }
   },
   "source": [
    "### 2.2.3.尺度不变性\n",
    "![images](Images/03/00/05_03_004.jpg)\n",
    "上图表示数字“0”的识别，第一张的“0”比较大，第二张的“0”进行了较小，相当于作了缩放，同样地，经过多次max pooling后具有相同的特征"
   ]
  },
  {
   "cell_type": "markdown",
   "metadata": {
    "collapsed": false,
    "pycharm": {
     "name": "#%% md\n"
    }
   },
   "source": [
    "# 3.池化层的算法\n",
    "![images](Images/03/00/05_03_005.png)"
   ]
  },
  {
   "cell_type": "markdown",
   "metadata": {
    "collapsed": false,
    "pycharm": {
     "name": "#%% md\n"
    }
   },
   "source": [
    "# 4.最大池化层之前向算法"
   ]
  },
  {
   "cell_type": "code",
   "execution_count": null,
   "metadata": {
    "collapsed": false,
    "pycharm": {
     "name": "#%%\n"
    }
   },
   "outputs": [],
   "source": [
    "import numpy as np\n",
    "x = None # picture\n",
    "stride = 2\n",
    "ksize = 2\n",
    "output_channels = 64\n",
    "out = np.zeros([x.shape[0], int(x.shape[1] / stride), int(x.shape[2] / stride), output_channels])\n",
    "\n",
    "for b in range(x.shape[0]):\n",
    "    for c in range(output_channels):\n",
    "        for i in range(0, x.shape[1], stride):\n",
    "            for j in range(0, x.shape[2], stride):\n",
    "                out[b, int(i / stride), int(j / stride), c] = np.max(\n",
    "                    x[b, i:i + ksize, j:j + ksize, c])\n",
    "                index = np.argmax(x[b, i:i + ksize, j:j + ksize, c])\n",
    "                index[b, i + int(index / stride), j + index % stride, c] = 1"
   ]
  },
  {
   "cell_type": "markdown",
   "metadata": {
    "collapsed": false,
    "pycharm": {
     "name": "#%% md\n"
    }
   },
   "source": [
    "我们可以很明显的看到，就是从图片上按照ksize，stride来找到每一个区块，然后找到这个区块内各个值得最大值，然后放入结果中的相应位置上，index是用来后期做反向传播用的"
   ]
  },
  {
   "cell_type": "markdown",
   "metadata": {
    "collapsed": false
   },
   "source": [
    "# 5.最大池化层之梯度计算"
   ]
  },
  {
   "cell_type": "markdown",
   "metadata": {
    "collapsed": false
   },
   "source": [
    "# 6.最大池化层之反向算法"
   ]
  },
  {
   "cell_type": "markdown",
   "metadata": {
    "collapsed": false
   },
   "source": [
    "# 7.平均池化层之前向算法"
   ]
  },
  {
   "cell_type": "code",
   "execution_count": null,
   "metadata": {
    "collapsed": false,
    "pycharm": {
     "name": "#%%\n"
    }
   },
   "outputs": [],
   "source": [
    "import numpy as np\n",
    "x = None # picture\n",
    "stride = 2\n",
    "ksize = 2\n",
    "output_channels = 64\n",
    "out = np.zeros([x.shape[0], int(x.shape[1] / stride), int(x.shape[2] / stride), output_channels])\n",
    "\n",
    "for b in range(x.shape[0]):\n",
    "    for c in range(output_channels):\n",
    "        for i in range(0, x.shape[1], stride):\n",
    "            for j in range(0, x.shape[2], stride):\n",
    "                out[b, int(i / stride), int(j / stride), c] = np.mean(\n",
    "                    x[b, i:i + ksize, j:j + ksize, c])\n",
    "                index = np.argmax(x[b, i:i + ksize, j:j + ksize, c])\n",
    "                index[b, i + int(index / stride), j + index % stride, c] = 1"
   ]
  },
  {
   "cell_type": "markdown",
   "metadata": {
    "collapsed": false
   },
   "source": [
    "我们可以很明显的看到，跟最大池化的区别就是一个是求max，一个是求mean"
   ]
  },
  {
   "cell_type": "markdown",
   "metadata": {
    "collapsed": false
   },
   "source": [
    "# 8.平均池化层之梯度计算"
   ]
  },
  {
   "cell_type": "markdown",
   "metadata": {
    "collapsed": false
   },
   "source": [
    "# 9.平均池化层之反向算法"
   ]
  },
  {
   "cell_type": "markdown",
   "metadata": {
    "collapsed": false,
    "pycharm": {
     "name": "#%% md\n"
    }
   },
   "source": [
    "| 最大池化 | 平均池化 |\n",
    "| ------- | ------- |\n",
    "|![images](Images/03/00/05_03_006.png) | ![images](Images/03/00/05_03_007.png) |"
   ]
  },
  {
   "cell_type": "markdown",
   "metadata": {
    "collapsed": false,
    "pycharm": {
     "name": "#%% md\n"
    }
   },
   "source": [
    "# 10.全局平均池化Global Average Pool"
   ]
  },
  {
   "cell_type": "code",
   "execution_count": 2,
   "metadata": {
    "collapsed": false,
    "pycharm": {
     "is_executing": false,
     "name": "#%%\n"
    }
   },
   "outputs": [
    {
     "data": {
      "text/plain": "torch.Size([4, 3, 4, 4])"
     },
     "execution_count": 2,
     "metadata": {},
     "output_type": "execute_result"
    }
   ],
   "source": [
    "import torch\n",
    "import torch.nn.functional\n",
    "\n",
    "a = torch.rand([4,3,4,4])\n",
    "a.size()"
   ]
  },
  {
   "cell_type": "code",
   "execution_count": 3,
   "metadata": {
    "collapsed": false,
    "pycharm": {
     "is_executing": false,
     "name": "#%%\n"
    }
   },
   "outputs": [
    {
     "data": {
      "text/plain": "torch.Size([4, 3, 1, 1])"
     },
     "execution_count": 3,
     "metadata": {},
     "output_type": "execute_result"
    }
   ],
   "source": [
    "b = torch.nn.functional.adaptive_avg_pool2d(a, [1,1])\n",
    "b.size()"
   ]
  }
 ],
 "metadata": {
  "language_info": {
   "codemirror_mode": {
    "name": "ipython",
    "version": 2
   },
   "file_extension": ".py",
   "mimetype": "text/x-python",
   "name": "python",
   "nbconvert_exporter": "python",
   "pygments_lexer": "ipython2",
   "version": "2.7.6"
  },
  "kernelspec": {
   "name": "python3",
   "language": "python",
   "display_name": "Python 3"
  },
  "pycharm": {
   "stem_cell": {
    "cell_type": "raw",
    "source": [],
    "metadata": {
     "collapsed": false
    }
   }
  }
 },
 "nbformat": 4,
 "nbformat_minor": 0
}