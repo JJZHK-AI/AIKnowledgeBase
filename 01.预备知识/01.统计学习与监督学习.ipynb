{
 "cells": [
  {
   "cell_type": "markdown",
   "source": [
    "统计学习与监督学习\n",
    "==="
   ],
   "metadata": {}
  },
  {
   "cell_type": "markdown",
   "source": [
    "# 一.统计学习"
   ],
   "metadata": {}
  },
  {
   "cell_type": "markdown",
   "source": [
    "统计学习包括监督学习，非监督学习，半监督学习以及强化学习。"
   ],
   "metadata": {}
  },
  {
   "cell_type": "markdown",
   "source": [
    "# 1.统计学习三要素"
   ],
   "metadata": {}
  },
  {
   "cell_type": "markdown",
   "source": [
    "统计学习三要素:方法=模型+策略+算法"
   ],
   "metadata": {}
  },
  {
   "cell_type": "markdown",
   "source": [
    "## 1.1.模型"
   ],
   "metadata": {}
  },
  {
   "cell_type": "markdown",
   "source": [
    "在监督学习中，模型就是所要学习的条件概率分布或决策函数。"
   ],
   "metadata": {}
  },
  {
   "cell_type": "markdown",
   "source": [
    "# 2.算法分类"
   ],
   "metadata": {}
  },
  {
   "cell_type": "markdown",
   "source": [
    "# 二.监督学习\n",
    "监督学习的任务是学习一个模型，使模型能够对任意给定的输入，对齐响应的输出做出一个好的预测"
   ],
   "metadata": {}
  },
  {
   "cell_type": "code",
   "execution_count": null,
   "source": [],
   "outputs": [],
   "metadata": {}
  },
  {
   "cell_type": "code",
   "execution_count": null,
   "source": [],
   "outputs": [],
   "metadata": {}
  },
  {
   "cell_type": "code",
   "execution_count": null,
   "source": [],
   "outputs": [],
   "metadata": {}
  }
 ],
 "metadata": {
  "orig_nbformat": 4,
  "language_info": {
   "name": "python"
  }
 },
 "nbformat": 4,
 "nbformat_minor": 2
}