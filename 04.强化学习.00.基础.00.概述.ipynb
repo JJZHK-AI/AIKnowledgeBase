{
 "cells": [
  {
   "cell_type": "markdown",
   "metadata": {
    "collapsed": true,
    "pycharm": {
     "name": "#%% md\n"
    }
   },
   "source": [
    "强化学习(Reinforcement Learning)\n",
    "==="
   ]
  },
  {
   "cell_type": "markdown",
   "source": [
    "# 1.什么是强化学习\n",
    "强化学习是机器学习大家族中的一大类，它主要用来解决连续决策问题。使用强化学习能够让机器学着如何在环境中拿到高分, 表现出优秀的成绩. 而这些成绩背后却是他所付出的辛苦劳动, 不断的试错, 不断地尝试, 累积经验, 学习经验.</br>\n",
    "强化学习是一类算法, 是让计算机实现从一开始什么都不懂, 脑袋里没有一点想法, 通过不断地尝试, 从错误中学习, 最后找到规律, 学会了达到目的的方法. 这就是一个完整的强化学习过程.<br/>\n",
    "强化学习是智能体(Agent)以\"试错\"的方式进行学习，通过与环境进行交互获得的奖励指导行为，目标是使智能体获得最大的奖励 "
   ],
   "metadata": {
    "pycharm": {
     "metadata": false,
     "name": "#%% md\n"
    }
   }
  },
  {
   "cell_type": "markdown",
   "source": [
    "# 2.强化学习算法分类\n",
    "强化学习可以分为三类算法\n",
    "1. 通过价值选行为，比较著名的算法包括Q-Learning、Sarsa和Deep-Q-Network\n",
    "2. 直接选行为，比较著名的算法包括Policy Gradients\n",
    "3. 想象环境并从中学习，比较著名的算法包括Model-based-RL\n",
    "![images](Images/04/00/00_001.png)"
   ],
   "metadata": {
    "pycharm": {
     "metadata": false,
     "name": "#%% md\n"
    }
   }
  },
  {
   "cell_type": "markdown",
   "source": "# 3.数学规范\n- 用大写字母表示随机变量: $S,A,R$\n- 用小写字母表示某一个具体的值:$s,a,r$\n- 用波浪线头字母表示统计运算符：$\\widetilde{E},\\widetilde{P}$\n- 用花体字母表示集合或函数：$\\mathcal{S},\\mathcal{A},\\mathcal{P}$",
   "metadata": {
    "pycharm": {
     "metadata": false,
     "name": "#%% md\n"
    }
   }
  }
 ],
 "metadata": {
  "language_info": {
   "codemirror_mode": {
    "name": "ipython",
    "version": 2
   },
   "file_extension": ".py",
   "mimetype": "text/x-python",
   "name": "python",
   "nbconvert_exporter": "python",
   "pygments_lexer": "ipython2",
   "version": "2.7.6"
  },
  "kernelspec": {
   "name": "python3",
   "language": "python",
   "display_name": "Python 3"
  },
  "pycharm": {
   "stem_cell": {
    "cell_type": "raw",
    "source": [],
    "metadata": {
     "collapsed": false
    }
   }
  }
 },
 "nbformat": 4,
 "nbformat_minor": 0
}