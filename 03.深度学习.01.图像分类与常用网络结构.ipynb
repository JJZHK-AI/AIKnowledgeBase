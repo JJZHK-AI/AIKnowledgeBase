{
 "cells": [
  {
   "cell_type": "markdown",
   "metadata": {
    "collapsed": true
   },
   "source": [
    "图像分类\n",
    "==="
   ]
  },
  {
   "cell_type": "markdown",
   "metadata": {},
   "source": [
    "# 1.深度学习中的图像任务分类\n",
    "深度学习任务中关于图像的部分主要分为：图像分类、目标识别、语义分割、实力分割、图像生成、图像转换等。"
   ]
  },
  {
   "cell_type": "markdown",
   "metadata": {},
   "source": [
    "# 2.图像分类\n",
    "图像分类任务主要就是判断图片中的物体属于哪一个分类。基本上这样的任务中的训练集图片中，只包含一个物体。我们可以通过一些基本的卷积神经网络来进行处理，比如AlexNet，Vgg系列网络，ResNet等等，最终的结果只要找到图片中的物体的分类就可以了。"
   ]
  },
  {
   "cell_type": "markdown",
   "metadata": {},
   "source": [
    "# 3.目标识别\n",
    "目标识别任务中的图片，每一张都含有多个物体，并且包含每个物体的坐标以及分类，任务的目标就是经过训练，能够找到测试图片中的每一种物体的分类，并且还要找到每一种物体的坐标。通常的的办法分为一阶段方法和两阶段方法。一阶段方法主要有YOLO系列的3种方法(YOLOv1,YOLOv2,YOLOv3)，SSD，RFB，FSSD等等方法；两阶段方法主要有RCNN、Fast RCNN以及Faster RCNN三种方法"
   ]
  },
  {
   "cell_type": "markdown",
   "metadata": {},
   "source": [
    "# 4.语义分割\n",
    "语义分割是像素级别的分割，训练集中包含图片中物体的像素级轮廓，任务的目标是要找到测试图片中的每一种物体的分类，并且要找到每一种物体的像素级轮廓。通常的方法有FCN，UNet，FRRN等等网络"
   ]
  },
  {
   "cell_type": "markdown",
   "metadata": {},
   "source": [
    "# 5.实力分割\n",
    "实力分割就是目标识别和语义分割两种任务的综合，任务的目标不仅仅要找到图片中每个物体的分类，还要找到每个物体的4个坐标，以及物体像素级的轮廓。最主要的方法就是Mask RCNN"
   ]
  },
  {
   "cell_type": "markdown",
   "metadata": {},
   "source": [
    "# 6.图像生成\n",
    "任务的主要目标就是学习图片，然后生成类似的图片。"
   ]
  }
 ],
 "metadata": {
  "kernelspec": {
   "display_name": "Python 3",
   "language": "python",
   "name": "python3"
  },
  "language_info": {
   "codemirror_mode": {
    "name": "ipython",
    "version": 3
   },
   "file_extension": ".py",
   "mimetype": "text/x-python",
   "name": "python",
   "nbconvert_exporter": "python",
   "pygments_lexer": "ipython3",
   "version": "3.6.8"
  }
 },
 "nbformat": 4,
 "nbformat_minor": 1
}
