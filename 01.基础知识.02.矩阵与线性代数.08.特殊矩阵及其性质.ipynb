{
 "cells": [
  {
   "cell_type": "markdown",
   "metadata": {
    "collapsed": true,
    "pycharm": {
     "name": "#%% md\n"
    }
   },
   "source": [
    "特殊矩阵及其性质\n",
    "==="
   ]
  },
  {
   "cell_type": "markdown",
   "source": [
    "# 1.对称矩阵-Symmetric matrix\n",
    "如果$A=A^T$，那么$A$就是对称矩阵"
   ],
   "metadata": {
    "collapsed": false,
    "pycharm": {
     "name": "#%% md\n"
    }
   }
  },
  {
   "cell_type": "markdown",
   "source": [
    "- 对称矩阵的特征值(eigenvalues)是实数\n",
    "- 对称矩阵的特征向量(eigenvectors)是正交的，或者说是垂直的，这两者是等价的"
   ],
   "metadata": {
    "collapsed": false
   }
  },
  {
   "cell_type": "markdown",
   "source": [
    "# 2.正交矩阵\n",
    "若n阶矩阵A满足$A^TA=I$，则A为正交矩阵，简称正交阵。\n",
    "> A是正交阵的充要条件是**A的列(行)向量都要是单位向量，且两两正交**。"
   ],
   "metadata": {
    "collapsed": false,
    "pycharm": {
     "name": "#%% md\n"
    }
   }
  },
  {
   "cell_type": "markdown",
   "source": [
    "I是一个对角线为1，其余都为0的对称矩阵，也叫做单位阵。也就是说当满足以下条件时，矩阵A是正交阵\n",
    "$$\\begin{cases}\n",
    "\\alpha_i^T\\alpha_j=1 & i = j \\\\\n",
    "\\alpha_i^T\\alpha_j=0 & i \\neq j \n",
    "\\end{cases}$$\n",
    "A是正交阵，X为向量，则$\\overrightarrow{A}\\overrightarrow{X}$称作正交变换。正交变换不改变向量长度。条件一保证是单位阵，条件二保证是正交阵"
   ],
   "metadata": {
    "collapsed": false,
    "pycharm": {
     "name": "#%% md\n"
    }
   }
  },
  {
   "cell_type": "markdown",
   "source": [
    "# 3.正定矩阵\n",
    "对于n阶方阵A，若任意n阶向量X，都有$X^TAX>0, \\forall X \\neq 0$，则称A是正定阵，如果$X^TAX \\geq 0$，则称A是半正定矩阵。给定任意的$m*n$的矩阵A，$A^TA$一定是半正定方阵"
   ],
   "metadata": {
    "collapsed": false,
    "pycharm": {
     "name": "#%% md\n"
    }
   }
  },
  {
   "cell_type": "markdown",
   "source": [
    "# 4.奇异矩阵\n",
    "奇异矩阵就是行列式为0的方阵\n",
    "\n",
    "# 10.一些性质\n",
    "## 10.1.对称矩阵与正交矩阵\n",
    "我们知道，对于普通的矩阵A，如果它存在n个非线性相关的特征向量，那么就有等式$A=S\\Lambda S^{-1}$成立。"
   ],
   "metadata": {
    "collapsed": false,
    "pycharm": {
     "name": "#%% md\n"
    }
   }
  },
  {
   "cell_type": "markdown",
   "source": [
    "那么如果A是对称矩阵，则有$A=Q\\Lambda Q^{-1}$，其中Q是一个正交矩阵，也就是说对于对称矩阵来说，如果存在n个非线性相关的特征向量，那么它的特征向量矩阵就是一个正交矩阵。"
   ],
   "metadata": {
    "collapsed": false,
    "pycharm": {
     "name": "#%% md\n"
    }
   }
  },
  {
   "cell_type": "markdown",
   "source": [
    "同样$A=Q\\Lambda Q^T$.这就是对称矩阵的谱定理。谱就是指矩阵的特征值的集合"
   ],
   "metadata": {
    "collapsed": false,
    "pycharm": {
     "name": "#%% md\n"
    }
   }
  }
 ],
 "metadata": {
  "language_info": {
   "codemirror_mode": {
    "name": "ipython",
    "version": 2
   },
   "file_extension": ".py",
   "mimetype": "text/x-python",
   "name": "python",
   "nbconvert_exporter": "python",
   "pygments_lexer": "ipython2",
   "version": "2.7.6"
  },
  "kernelspec": {
   "name": "python3",
   "language": "python",
   "display_name": "Python 3"
  },
  "pycharm": {
   "stem_cell": {
    "cell_type": "raw",
    "source": [],
    "metadata": {
     "collapsed": false
    }
   }
  }
 },
 "nbformat": 4,
 "nbformat_minor": 0
}