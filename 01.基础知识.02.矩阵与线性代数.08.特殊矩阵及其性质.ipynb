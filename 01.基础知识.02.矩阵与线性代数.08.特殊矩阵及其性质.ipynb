{
 "cells": [
  {
   "cell_type": "markdown",
   "metadata": {
    "collapsed": true,
    "pycharm": {
     "name": "#%% md\n"
    }
   },
   "source": [
    "特殊矩阵及其性质\n",
    "==="
   ]
  },
  {
   "cell_type": "markdown",
   "source": [
    "# 1.对称矩阵-Symmetric matrix\n",
    "如果$A=A^T$，那么$A$就是对称矩阵"
   ],
   "metadata": {
    "collapsed": false,
    "pycharm": {
     "name": "#%% md\n"
    }
   }
  },
  {
   "cell_type": "markdown",
   "source": [
    "- 对称矩阵的特征值(eigenvalues)是实数\n",
    "- 对称矩阵的特征向量(eigenvectors)是正交的，或者说是垂直的，这两者是等价的"
   ],
   "metadata": {
    "collapsed": false
   }
  },
  {
   "cell_type": "markdown",
   "source": [
    "# 2.正交矩阵\n",
    "若n阶矩阵A满足$A^TA=I$，则A为正交矩阵，简称正交阵。\n",
    "> A是正交阵的充要条件是**A的列(行)向量都要是单位向量，且两两正交**。"
   ],
   "metadata": {
    "collapsed": false,
    "pycharm": {
     "name": "#%% md\n"
    }
   }
  },
  {
   "cell_type": "markdown",
   "source": [
    "I是一个对角线为1，其余都为0的对称矩阵，也叫做单位阵。也就是说当满足以下条件时，矩阵A是正交阵\n",
    "$$\\begin{cases}\n",
    "\\alpha_i^T\\alpha_j=1 & i = j \\\\\n",
    "\\alpha_i^T\\alpha_j=0 & i \\neq j \n",
    "\\end{cases}$$\n",
    "A是正交阵，X为向量，则$\\overrightarrow{A}\\overrightarrow{X}$称作正交变换。正交变换不改变向量长度。条件一保证是单位阵，条件二保证是正交阵"
   ],
   "metadata": {
    "collapsed": false,
    "pycharm": {
     "name": "#%% md\n"
    }
   }
  },
  {
   "cell_type": "markdown",
   "source": [
    "# 3.正定矩阵\n",
    "对于n阶方阵A，若任意n阶向量X，都有$X^TAX>0, \\forall X \\neq 0$，则称A是正定阵，如果$X^TAX \\geq 0$，则称A是半正定矩阵。给定任意的$m*n$的矩阵A，$A^TA$一定是半正定方阵\n",
    "- 对称阵A为正定阵\n",
    "- A的特征值都是正\n",
    "- A的顺序主子式大于0"
   ],
   "metadata": {
    "collapsed": false,
    "pycharm": {
     "name": "#%% md\n"
    }
   }
  },
  {
   "cell_type": "markdown",
   "source": [
    "# 4.奇异矩阵\n",
    "奇异矩阵就是行列式为0的方阵"
   ],
   "metadata": {
    "collapsed": false,
    "pycharm": {
     "name": "#%% md\n"
    }
   }
  },
  {
   "cell_type": "markdown",
   "source": [
    "# 5.一些性质\n",
    "## 5.1.对称矩阵与正交矩阵\n",
    "我们知道，对于普通的矩阵A，如果它存在n个非线性相关的特征向量，那么就有等式$A=S\\Lambda S^{-1}$成立。"
   ],
   "metadata": {
    "collapsed": false,
    "pycharm": {
     "name": "#%% md\n"
    }
   }
  },
  {
   "cell_type": "markdown",
   "source": [
    "那么如果A是对称矩阵，则有$A=Q\\Lambda Q^{-1}$，其中Q是一个正交矩阵，也就是说对于对称矩阵来说，如果存在n个非线性相关的特征向量，那么它的特征向量矩阵就是一个正交矩阵。"
   ],
   "metadata": {
    "collapsed": false,
    "pycharm": {
     "name": "#%% md\n"
    }
   }
  },
  {
   "cell_type": "markdown",
   "source": [
    "同样$A=Q\\Lambda Q^T$.这就是对称矩阵的谱定理。谱就是指矩阵的特征值的集合"
   ],
   "metadata": {
    "collapsed": false,
    "pycharm": {
     "name": "#%% md\n"
    }
   }
  },
  {
   "cell_type": "markdown",
   "source": [
    "## 5.2.QR分解\n",
    "对于$m \\times n$的列满秩矩阵A，必有$A_{m \\times n}=Q_{m \\times n} \\bullet R_{n \\times n}$，其中$Q^TQ=I$(即列正交矩阵),R为非奇异上三角矩阵。"
   ],
   "metadata": {
    "collapsed": false,
    "pycharm": {
     "name": "#%% md\n"
    }
   }
  },
  {
   "cell_type": "markdown",
   "source": [
    "当要求R的对角线元素为正时，该分解唯一。该分解为QR分解，可用于求解矩阵A的特征值、A的逆等问题"
   ],
   "metadata": {
    "collapsed": false,
    "pycharm": {
     "name": "#%% md\n"
    }
   }
  },
  {
   "cell_type": "markdown",
   "source": [
    "## 5.3.$A^TA$一定是对称矩阵\n",
    "证明:因为$(AB)^T=B^TA^T, \\Rightarrow (A^TA)^T=A^TA$，相当于一个矩阵的转置等于矩阵本身，那它就是对称矩阵"
   ],
   "metadata": {
    "collapsed": false,
    "pycharm": {
     "name": "#%% md\n"
    }
   }
  },
  {
   "cell_type": "markdown",
   "source": [
    "## 5.4.实对称阵的特征值一定是实数\n",
    "设复数$\\lambda$为对称矩阵A的特征值，复向量X为对应的特征向量，即$AX=\\lambda{X}, X \\neq 0$。用$\\overline{\\lambda}$表示$\\lambda$的共轭复数，$\\overline{X}$表示X的共轭复向量，而A是实矩阵，有$\\overline{A}=A$.利用这个结论，我们将实数$\\lambda$带入方程组$(A-\\lambda{I})X=0$，该方程组为实系数方程组，因此，实对称阵的特征向量可以取实\n",
    "向量"
   ],
   "metadata": {
    "collapsed": false
   }
  },
  {
   "cell_type": "markdown",
   "source": [
    "## 5.5.实对称阵不同特征值的特征向量正交\n",
    "<p>令实对称阵为A，其中两个不同的特征值为$\\lambda_1,\\lambda_2$，对应的特征向量为$\\mu_1,\\mu_2$，其中$\\lambda_1,\\lambda_2,\\mu_1,\\mu_2$都是实数和实向量</p>\n",
    "证明，根据题目有$\\begin{cases}\n",
    "A\\mu_1=\\lambda_1\\mu_1\\\\\\\\\n",
    "A\\mu_2=\\lambda_2\\mu_2\n",
    "\\end{cases}$\n",
    "对于等式2，两边乘以$\\mu_1^T$，有$\\mu_1^TA\\mu_2=\\mu_1^T\\lambda_2\\mu_2$<br/>\n",
    "$\\Rightarrow (A^T\\mu_1)^T\\mu_2=\\lambda_2\\mu_1^T\\mu_2$，由于A是对称阵，有$A^T=A$<br/>\n",
    "$\\Rightarrow (A\\mu_1)^T\\mu_2=\\lambda_2\\mu_1^T\\mu_2$,因为$A\\mu_1=\\lambda_1\\mu_1. \\Rightarrow (\\lambda_1\\mu_1)^T\\mu_2=\\lambda_2\\mu_1^T\\mu_2$<br/>\n",
    "因为$\\lambda$是一个实数，所以$\\lambda_1^T=\\lambda_1$, $\\Rightarrow \\lambda_1\\mu_1^T\\mu_2=\\lambda_2\\mu_1^T\\mu_2 \\Rightarrow (\\lambda_1-\\lambda_2)\\mu_1^T\\mu_2=0$<br/>\n",
    "因为$\\lambda_1 \\neq \\lambda_2, \\Rightarrow \\mu_1^T\\mu_2=0$，所以$\\mu_1,\\mu_2$是正交的。根据这个性质，可以将一个实对称矩阵对角化。如果A是一个实对称阵，其中$\\mu\\{\\mu_1,\\mu_2,...,\\mu_n\\}$是特征向量，$\\lambda\\{\\lambda_1,\\lambda_2,...,\\lambda_n\\}$是其对应的特征向量，根据定义，有$A\\mu_n=\\lambda_n\\mu_n$，则\n",
    "$$A \\bullet \\begin{bmatrix}\n",
    "\\mu_1&\\mu_2&\\dots&\\mu_n\n",
    "\\end{bmatrix}=\\begin{bmatrix}\n",
    "\\lambda_1\\mu_1&\\lambda_2\\mu_2&\\dots&\\lambda_n\\mu_n\n",
    "\\end{bmatrix}=\\begin{bmatrix}\n",
    "\\lambda_1&\\\\\\\\\n",
    "&\\lambda_2\\\\\\\\\n",
    "&&\\ddots\\\\\\\\\n",
    "&&&\\lambda_n\n",
    "\\end{bmatrix} \\bullet \\begin{bmatrix}\n",
    "\\mu_1&\\mu_2&\\dots&\\mu_n\n",
    "\\end{bmatrix}$$\n",
    "令\n",
    "$$U=\\begin{bmatrix}\n",
    "\\mu_1&\\mu_2&\\dots&\\mu_n\n",
    "\\end{bmatrix}, \\Lambda=\\begin{bmatrix}\n",
    "\\lambda_1&\\\\\\\\\n",
    "&\\lambda_2\\\\\\\\\n",
    "&&\\ddots\\\\\\\\\n",
    "&&&\\lambda_n\n",
    "\\end{bmatrix}$$\n",
    "则有$AU=\\Lambda{U}, \\Rightarrow U^{-1}AU=\\Lambda$，由于U中的各个向量都是正交的，所以我们一定可以做一个标准化，使得$U^TU=I, \\Rightarrow U^(-1)=U^T \\Rightarrow U^TAU=\\Lambda$，这样我们就将矩阵A对角化为矩阵$\\Lambda$了"
   ],
   "metadata": {
    "collapsed": false
   }
  },
  {
   "cell_type": "markdown",
   "source": [
    "## 5.6.结论\n",
    "设A为n阶对称阵，则必有正交阵P，使得$P^{-1}AP=P^TAP=\\Lambda$，$\\Lambda$是以A的n个特征值为对角元的对角阵，该变换称为\"合同变换\"，A和$\\Lambda$互为合同矩阵"
   ],
   "metadata": {
    "collapsed": false
   }
  }
 ],
 "metadata": {
  "language_info": {
   "codemirror_mode": {
    "name": "ipython",
    "version": 2
   },
   "file_extension": ".py",
   "mimetype": "text/x-python",
   "name": "python",
   "nbconvert_exporter": "python",
   "pygments_lexer": "ipython2",
   "version": "2.7.6"
  },
  "kernelspec": {
   "name": "python3",
   "language": "python",
   "display_name": "Python 3"
  },
  "pycharm": {
   "stem_cell": {
    "cell_type": "raw",
    "source": [],
    "metadata": {
     "collapsed": false
    }
   }
  }
 },
 "nbformat": 4,
 "nbformat_minor": 0
}