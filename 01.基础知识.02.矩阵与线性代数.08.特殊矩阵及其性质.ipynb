{
 "cells": [
  {
   "cell_type": "markdown",
   "metadata": {
    "collapsed": true,
    "pycharm": {
     "name": "#%% md\n"
    }
   },
   "source": [
    "特殊矩阵及其性质\n",
    "==="
   ]
  },
  {
   "cell_type": "markdown",
   "source": [
    "# 1.正交矩阵\n",
    "若n阶矩阵A满足$A^TA=I$，则A为正交矩阵，简称正交阵。\n",
    "> A是正交阵的充要条件是**A的列(行)向量都要是单位向量，且两两正交**。"
   ],
   "metadata": {
    "collapsed": false,
    "pycharm": {
     "name": "#%% md\n"
    }
   }
  },
  {
   "cell_type": "markdown",
   "source": [
    "I是一个对角线为1，其余都为0的对称矩阵，也叫做单位阵。也就是说当满足以下条件时，矩阵A是正交阵\n",
    "$$\\begin{cases}\n",
    "\\alpha_i^T\\alpha_j=1 & i = j \\\\\\\\\n",
    "\\alpha_i^T\\alpha_j=0 & i \\neq j \n",
    "\\end{cases}$$\n",
    "A是正交阵，X为向量，则$AX$称作正交变换。正交变换不改变向量长度。条件一保证是单位阵，条件二保证是正交阵\n",
    "\n",
    "\n"
   ],
   "metadata": {
    "collapsed": false,
    "pycharm": {
     "name": "#%% md\n"
    }
   }
  }
 ],
 "metadata": {
  "language_info": {
   "codemirror_mode": {
    "name": "ipython",
    "version": 2
   },
   "file_extension": ".py",
   "mimetype": "text/x-python",
   "name": "python",
   "nbconvert_exporter": "python",
   "pygments_lexer": "ipython2",
   "version": "2.7.6"
  },
  "kernelspec": {
   "name": "python3",
   "language": "python",
   "display_name": "Python 3"
  },
  "pycharm": {
   "stem_cell": {
    "cell_type": "raw",
    "source": [],
    "metadata": {
     "collapsed": false
    }
   }
  }
 },
 "nbformat": 4,
 "nbformat_minor": 0
}