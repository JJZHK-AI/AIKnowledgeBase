{
 "cells": [
  {
   "cell_type": "markdown",
   "metadata": {
    "collapsed": true,
    "pycharm": {
     "name": "#%% md\n"
    }
   },
   "source": [
    "矩阵的秩与向量组等价\n",
    "==="
   ]
  },
  {
   "cell_type": "markdown",
   "source": [
    "# 1.矩阵的秩\n",
    "## 1.1.K阶子式\n",
    "在$m \\times n$矩阵A中，任取K行K列，不改变这$K^2$个元素在A中的次数，得到一个K阶方阵，称为矩阵A的K阶子式。显然$m \\times n$矩阵的K阶子式有$C_m^KC_n^K$个"
   ],
   "metadata": {
    "collapsed": false,
    "pycharm": {
     "name": "#%% md\n"
    }
   }
  },
  {
   "cell_type": "markdown",
   "source": [
    "## 1.2.矩阵的秩\n",
    "设在矩阵A中有一个不等于0的r阶子式D，且所有r+1阶子式(如果存在的话)全等于0，那么D称为矩阵A的最高阶非零子式，r称为矩阵A的秩，记作$R(A)=r$\n",
    "- $n \\times n$的可逆矩阵，秩为n\n",
    "- 可逆矩阵又称满秩矩阵\n",
    "- 矩阵的秩等于它行(列)向量组的秩"
   ],
   "metadata": {
    "collapsed": false,
    "pycharm": {
     "name": "#%% md\n"
    }
   }
  },
  {
   "cell_type": "markdown",
   "source": [
    "假设有如下方程组\n",
    "$$\\begin{cases}\n",
    "a_{11}x_1+a_{12}x_2+...+a_{1n}x_n=b_1 \\\\\n",
    "a_{21}x_1+a_{22}x_2+...+a_{2n}x_n=b_2 \\\\\n",
    "\\cdots \\\\\n",
    "a_{m1}x_1+a_{m2}x_2+...+a_{mn}x_n=b_m\n",
    "\\end{cases}$$\n",
    "可以表示为$A \\bullet \\overrightarrow{x}=\\overrightarrow{b}$的形式，那么对于n元线性方程组来说，有如下性质\n",
    "- 无解的充要条件是$R(A)<R(A,b)$\n",
    "- 有唯一解的充要条件是$R(A)=R(A,b)=n$\n",
    "- 有无限多解的充要条件是R(A)=R(A,b)<n"
   ],
   "metadata": {
    "collapsed": false,
    "pycharm": {
     "name": "#%% md\n"
    }
   }
  },
  {
   "cell_type": "markdown",
   "source": [
    "其中A是一个$m \\times n$的矩阵，如下\n",
    "$$\\begin{bmatrix}\n",
    "a_{11}&a_{12}&\\dots&a_{1n} \\\\\n",
    "a_{21}&a_{22}&\\dots&a_{2n} \\\\\n",
    "\\vdots&\\vdots&\\ddots&\\vdots \\\\\n",
    "a_{m1}&a_{m2}&\\dots&a_{mn}\n",
    "\\end{bmatrix}$$\n",
    "R(A)就是矩阵A的秩,R(A,b)就是如下矩阵的秩\n",
    "$$\\begin{bmatrix}\n",
    "a_{11}&a_{12}&\\dots&a_{1n}&b_1 \\\\\n",
    "a_{21}&a_{22}&\\dots&a_{2n}&b_2 \\\\\n",
    "\\vdots&\\vdots&\\ddots&\\vdots&\\vdots \\\\\n",
    "a_{m1}&a_{m2}&\\dots&a_{mn}&b_m\n",
    "\\end{bmatrix}$$\n",
    "推论：\n",
    "- AX=0有非零解的充要条件是$R(A)<n$\n",
    "- AX=b有解的充要条件是$R(A)=R(A,b)$\n",
    "\n",
    "\n"
   ],
   "metadata": {
    "collapsed": false,
    "pycharm": {
     "name": "#%% md\n"
    }
   }
  }
 ],
 "metadata": {
  "language_info": {
   "codemirror_mode": {
    "name": "ipython",
    "version": 2
   },
   "file_extension": ".py",
   "mimetype": "text/x-python",
   "name": "python",
   "nbconvert_exporter": "python",
   "pygments_lexer": "ipython2",
   "version": "2.7.6"
  },
  "kernelspec": {
   "name": "python3",
   "language": "python",
   "display_name": "Python 3"
  },
  "pycharm": {
   "stem_cell": {
    "cell_type": "raw",
    "source": [],
    "metadata": {
     "collapsed": false
    }
   }
  }
 },
 "nbformat": 4,
 "nbformat_minor": 0
}