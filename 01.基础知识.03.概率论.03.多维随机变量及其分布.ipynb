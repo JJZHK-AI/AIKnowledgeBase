{
 "cells": [
  {
   "cell_type": "markdown",
   "metadata": {
    "collapsed": true
   },
   "source": [
    "多维随机变量及其分布\n",
    "==="
   ]
  },
  {
   "cell_type": "markdown",
   "metadata": {},
   "source": [
    "# 1.二维随机变量"
   ]
  },
  {
   "cell_type": "markdown",
   "metadata": {},
   "source": [
    "## 1.1.二维随机变量的分布函数\n",
    "设E是一个随机试验，它的样本空间是$S=\\{e\\}$。设$X=X(e)$和$Y=Y(e)$是定义在S上的两个随机变量，它们构成的向量$(X,Y)$称为二维随机向量或二维随机变量。<br/>\n",
    "设$(X,Y)$是二维随机变量，对于任意实数$x,y$定义二元函数如下\n",
    "$$\n",
    "F(x,y)=P[\\{X \\leq x\\} \\bigcap \\{Y \\leq y\\}]=P\\{X \\leq x, Y \\leq y\\}\n",
    "$$\n",
    "$F(x,y)$称为二维随机变量$(X,Y)$的分布函数，也称为随机变量X和Y的联合分布函数。"
   ]
  },
  {
   "cell_type": "markdown",
   "metadata": {},
   "source": [
    "## 1.2.二维随机变量的分布函数的几何解释\n",
    "如果将$(X,Y)$看成是坐标平面上的随机点的坐标，则分布函数$F(x,y)$在$(x,y)$处的函数值就是随机点$(X,Y)$落入以下区域的概率\n",
    "$$G(x,y)=\\{(s,t)|s \\leq x, t \\leq y\\}$$\n",
    "$F(x,y)$即随机点$(X,Y)$落在$(x,y)$的左下方的概率。\n",
    "$$\n",
    "P\\{x_1 < X \\leq x_2,y_1<Y \\leq y_2\\}=F(x_2,y_2)-F(x_2,y_1)-F(x_1,y_2)+F(x_1,y_1)\n",
    "$$"
   ]
  },
  {
   "cell_type": "markdown",
   "metadata": {},
   "source": [
    "## 1.3.分布函数的性质\n",
    "1. $x_1 \\leq x_2 \\Rightarrow F(x_1,y) \\leq F(x_2,y)$\n",
    "2. $y_1 \\leq y_2 \\Rightarrow F(x,y_1) \\leq F(x,y_2)$\n",
    "3. $x_1 \\leq x_2, y_1 \\leq y_2 \\Rightarrow F(x_1,y_1) \\leq F(x_2,y_2)$\n",
    "4. $0 \\leq F(x,y) \\leq 1$，因为概率在这个范围\n",
    "5. $F(x,y)$关于x和y都是右连续的，有\n",
    "$$\\begin{split}\n",
    "F(x+0,y)&=\\lim\\limits_{\\Delta{x} \\to 0^+}F(x+\\Delta{x},y)=F(x,y)\\\\\\\\\n",
    "F(x,y+0)&=\\lim\\limits_{\\Delta{y} \\to 0^+}F(x,y+\\Delta{y})=F(x,y)\n",
    "\\end{split}$$\n",
    "6. 若$x_1<x_2,y_1<y_2$则，$F(x_2,y_2)-F(x_2,y_1)-F(x_1,y_2)+F(x_1,y_1) \\geq 0$"
   ]
  },
  {
   "cell_type": "markdown",
   "metadata": {},
   "source": [
    "## 1.4.离散型二维随机变量\n",
    "1. 离散型二维随机变量：如果二维随机变量(X,Y)所有可能的取值是有限对或可列无限多对，则称(X,Y)是离散型二维随机变量\n",
    "2. 设(X,Y)所有可能的取值为$(x_i,y_j)$，且已知$P\\{X=x_i,Y=y_j\\}=p_{ij}(i,j=1,2,...)$，则称$p_{ij}(i,j=1,2,...)$为二维随机变量(X,Y)的分布律。"
   ]
  },
  {
   "cell_type": "markdown",
   "metadata": {},
   "source": [
    "> 5个球中有2个白球，3个黑球，每次从中取一个，不放回的抽取2次。记$X_k=0$表示第k次取到白球，而$X_k=1$表示第k次渠道黑球$k=1,2$。试求(X_1,X_2)的联合分布律\n",
    "\n",
    "解，试验结果由4个基本事件构成。\n",
    "1. $P\\{X_1=0,X_2=0\\}=P\\{X_1=0\\} \\times P\\{X_2=0|X_1=0\\}=\\frac{2}{5} \\times \\frac{1}{4}=\\frac{1}{10}$\n",
    "2. $P\\{X_1=0,X_2=1\\}=P\\{X_1=0\\} \\times P\\{X_2=1|X_1=0\\}=\\frac{2}{5} \\times \\frac{3}{4}=\\frac{3}{10}$\n",
    "3. $P\\{X_1=1,X_2=0\\}=P\\{X_1=1\\} \\times P\\{X_2=0|X_1=1\\}=\\frac{3}{5} \\times \\frac{2}{4}=\\frac{3}{10}$\n",
    "4. $P\\{X_1=1,X_2=1\\}=P\\{X_1=1\\} \\times P\\{X_2=1|X_1=1\\}=\\frac{3}{5} \\times \\frac{2}{4}=\\frac{3}{10}$"
   ]
  },
  {
   "cell_type": "markdown",
   "metadata": {},
   "source": [
    "## 1.5.连续型二维随机变量\n",
    "如果存在非负可积二元函数$f(x,y)$，使得对于任意实数x,y，有\n",
    "$$\n",
    "F(x,y)=P\\{X \\leq x, Y \\leq y\\}=\\int_{-\\infty}^y\\int_{-\\infty}^xf(\\mu,\\nu)d\\mu d\\nu\n",
    "$$\n",
    "称(X,Y)是连续型的二维随机变量。函数$f(x,y)$称为(X,Y)的概率密度，或称为X和Y的联合概率密度。"
   ]
  },
  {
   "cell_type": "markdown",
   "metadata": {},
   "source": [
    "# 2.边缘分布"
   ]
  },
  {
   "cell_type": "markdown",
   "metadata": {},
   "source": [
    "我们知道二维随机变量$(X,Y)$作为一个整体，具有联合分布函数$F(x,y)=P\\{X \\leq x, Y \\leq y\\}$，而X和Y作为两个随即变量，各自有各自的分布函数，分别记为$F_X(x)=P\\{X \\leq x\\}$和$F_Y(y)=P\\{Y \\leq y\\}$，则这两个称为而为随机变量的边缘分布函数。\n",
    "$$\\begin{split}\n",
    "F_X(x)&=P\\{X \\leq x\\}=P\\{X \\leq x, Y < +\\infty\\}=F(x, +\\infty)\\\\\\\\\n",
    "F_Y(y)&=P\\{Y \\leq y\\}=P\\{X < +\\infty, Y \\leq y\\}=F(+\\infty, y)\n",
    "\\end{split}$$"
   ]
  },
  {
   "cell_type": "markdown",
   "metadata": {},
   "source": [
    "# 3.条件分布"
   ]
  },
  {
   "cell_type": "code",
   "execution_count": null,
   "metadata": {},
   "outputs": [],
   "source": []
  },
  {
   "cell_type": "markdown",
   "metadata": {},
   "source": [
    "# 4.相互独立的随机变量"
   ]
  },
  {
   "cell_type": "code",
   "execution_count": null,
   "metadata": {},
   "outputs": [],
   "source": []
  },
  {
   "cell_type": "code",
   "execution_count": null,
   "metadata": {},
   "outputs": [],
   "source": []
  },
  {
   "cell_type": "markdown",
   "metadata": {},
   "source": [
    "# 5.两个随机变量的函数的分布"
   ]
  },
  {
   "cell_type": "code",
   "execution_count": null,
   "metadata": {},
   "outputs": [],
   "source": []
  },
  {
   "cell_type": "code",
   "execution_count": null,
   "metadata": {},
   "outputs": [],
   "source": []
  }
 ],
 "metadata": {
  "kernelspec": {
   "display_name": "Python 3",
   "language": "python",
   "name": "python3"
  },
  "language_info": {
   "codemirror_mode": {
    "name": "ipython",
    "version": 3
   },
   "file_extension": ".py",
   "mimetype": "text/x-python",
   "name": "python",
   "nbconvert_exporter": "python",
   "pygments_lexer": "ipython3",
   "version": "3.6.8"
  }
 },
 "nbformat": 4,
 "nbformat_minor": 1
}
