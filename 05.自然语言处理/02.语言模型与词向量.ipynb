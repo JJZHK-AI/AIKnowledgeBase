{
 "metadata": {
  "language_info": {
   "codemirror_mode": {
    "name": "ipython",
    "version": 3
   },
   "file_extension": ".py",
   "mimetype": "text/x-python",
   "name": "python",
   "nbconvert_exporter": "python",
   "pygments_lexer": "ipython3",
   "version": 3
  },
  "orig_nbformat": 2
 },
 "nbformat": 4,
 "nbformat_minor": 2,
 "cells": [
  {
   "source": [
    "语言模型与词向量\n",
    "==="
   ],
   "cell_type": "markdown",
   "metadata": {}
  },
  {
   "source": [
    "# 1.语言模型"
   ],
   "cell_type": "markdown",
   "metadata": {}
  },
  {
   "source": [
    "## 1.1.定义\n",
    "语言模型用来判断是否一句话从语法上是通顺的，具体办法就是求解整句话的概率。有一个句子s，其中s是由很多单词构成的:$\\omega_1,\\omega_2,...,\\omega_n$，我们需要计算在这个语言模型下这个句子的概率，即"
   ],
   "cell_type": "markdown",
   "metadata": {}
  },
  {
   "source": [
    "$$p(s)=p(\\omega_1,\\omega_2,...,\\omega_n)$$"
   ],
   "cell_type": "markdown",
   "metadata": {}
  },
  {
   "source": [
    "比如有一句话\"全民AI是趋势\"，首先经过分词，得到\"全民，AI，是，趋势\"这些词，那么就有\n",
    "$$P_{LM}(全民AI是趋势)=P_{LM}(全民，AI，是，趋势)$$"
   ],
   "cell_type": "markdown",
   "metadata": {}
  },
  {
   "source": [
    "## 1.2.计算方法-Chain Rule"
   ],
   "cell_type": "markdown",
   "metadata": {}
  },
  {
   "source": [
    "$$P(A,B,C,D)=P(A) \\times P(B|A) \\times P(C|A,B) \\times P(D|A,B,C)$$\n",
    "$$P(\\omega_1,\\omega_2,...,\\omega_n)=P(\\omega_1) \\times P(\\omega_2|\\omega_1) \\times ... \\times P(\\omega_n|\\omega_1,\\omega_2,...,\\omega_{n-1})$$"
   ],
   "cell_type": "markdown",
   "metadata": {}
  },
  {
   "source": [
    "举例来说，$P(地位|京东，AI，技术，处于，领先)$，它的意思是，在语料库中，出现京东AI技术处于领先这句话的同时，后面一个词是\"地位\"的概率，比如我们的语料库中有两个地方出现了\"京东AI技术处于领先\"，其中一个地方的后面的词是“地位”，另一个后面的词是“的”，那么它的概率就是$\\frac{1}{2}$。但是“京东AI技术处于领先”这句话太长了，很有可能在语料库中根本就没出现过，那么概率就是0了，这就导致了稀疏性。于是我们就会使用马尔科夫的假设"
   ],
   "cell_type": "markdown",
   "metadata": {}
  },
  {
   "source": [
    "## 1.3.马尔科夫假设与N-gram"
   ],
   "cell_type": "markdown",
   "metadata": {}
  },
  {
   "cell_type": "code",
   "execution_count": null,
   "metadata": {},
   "outputs": [],
   "source": []
  },
  {
   "source": [],
   "cell_type": "markdown",
   "metadata": {}
  },
  {
   "cell_type": "code",
   "execution_count": null,
   "metadata": {},
   "outputs": [],
   "source": []
  }
 ]
}