{
 "cells": [
  {
   "cell_type": "markdown",
   "metadata": {},
   "source": [
    "自然语言处理概述\n",
    "==="
   ]
  },
  {
   "cell_type": "markdown",
   "metadata": {},
   "source": [
    "# 1.自然语言处理中的基础任务"
   ]
  },
  {
   "cell_type": "markdown",
   "metadata": {},
   "source": [
    "## 1.1.分词-Word Segmemtation\n",
    "分词就是将一个句子分成若干个单词,它是一个已解决的问题。分词算法主要有一下几种\n",
    "- Jieba\n",
    "- SnowNLP\n",
    "- LTP\n",
    "- HanNLP"
   ]
  },
  {
   "cell_type": "markdown",
   "metadata": {},
   "source": [
    "## 1.2.词性标注-POS\n",
    "词性标注是一个已解决的问题。\n",
    "- 句子中的每个单词被分类成一种词性，如动词、名词等\n",
    "- 词性标注的过程依赖当前单词以及它的上下文信息\n",
    "- 词性标注问题也叫做序列标注问题"
   ]
  },
  {
   "cell_type": "markdown",
   "metadata": {},
   "source": [
    "### 1.2.1.当做分类问题来解决\n",
    "- 每个单词独立地去做分类\n",
    "- 对于当前单词以及上下文单词提取特征，并用这些特征去做分类"
   ]
  },
  {
   "cell_type": "markdown",
   "metadata": {},
   "source": [
    "这个解决办法仅仅把单词独立来看，没有放入上下文来考虑。"
   ]
  },
  {
   "cell_type": "markdown",
   "metadata": {},
   "source": [
    "### 1.2.2.当做序列问题来解决\n",
    "- 利用概率来表示序列\n",
    "- 考虑单词之间的前后依赖关系\n",
    "- 常见算法\n",
    "    - 隐马尔科夫模型-HMM(Hidden Markov Model):语音领域\n",
    "    - 条件随机场-CRF(Conditional Random Fields):文本领域"
   ]
  },
  {
   "cell_type": "markdown",
   "metadata": {},
   "source": [
    "## 1.3.命名识别-NER\n",
    "类似于词性标注，也可以看作是序列标注问题，方法论上借鉴词性标注。这也是一个已解决的任务。"
   ]
  },
  {
   "cell_type": "markdown",
   "metadata": {},
   "source": [
    "## 1.4.句法分析-Syntatic Analysis\n",
    "对于一个句子的词语语法做分词，比如主谓宾。使用动态规划算法"
   ]
  },
  {
   "cell_type": "markdown",
   "metadata": {},
   "source": [
    "## 1.5.语义分析-Semantic Analysis\n",
    "- 如何理解一个单词的意思：SkipGram, CBOW, Glove, ELMo, BERT, ALBERT\n",
    "- 如何理解一个文本的意思：XLNet, GPT-2, GPT-3, Tiny-BERT"
   ]
  },
  {
   "cell_type": "markdown",
   "metadata": {},
   "source": [
    "# 2.NLP中常用的场景"
   ]
  },
  {
   "cell_type": "markdown",
   "metadata": {},
   "source": [
    "## 2.1.写作助手-Spell Correction"
   ]
  },
  {
   "cell_type": "markdown",
   "metadata": {},
   "source": [
    "## 2.2.文本分类\n",
    "- 情感分析 Sentiment Analysis\n",
    "- 情绪分析 Emotion Analysis\n",
    "- 主题分类 Topic Classification"
   ]
  },
  {
   "cell_type": "markdown",
   "metadata": {},
   "source": [
    "## 2.3.信息检索-Information Retrieval"
   ]
  },
  {
   "cell_type": "markdown",
   "metadata": {},
   "source": [
    "![Images](images/001.png)"
   ]
  },
  {
   "cell_type": "markdown",
   "metadata": {},
   "source": [
    "## 2.4.问答系统-OA\n"
   ]
  },
  {
   "cell_type": "markdown",
   "metadata": {},
   "source": [
    "## 2.5.自动生成文本摘要"
   ]
  },
  {
   "cell_type": "markdown",
   "metadata": {},
   "source": [
    "## 2.6.机器翻译"
   ]
  },
  {
   "cell_type": "markdown",
   "metadata": {},
   "source": [
    "## 2.7.信息抽取"
   ]
  },
  {
   "cell_type": "markdown",
   "metadata": {},
   "source": [
    "# 3.NLP的两个核心任务"
   ]
  },
  {
   "cell_type": "markdown",
   "metadata": {},
   "source": [
    "## 3.1.自然语言理解-NLU\n",
    "自然语言理解就是希望机器可以像人一样，具备正常人的理解能力"
   ]
  },
  {
   "cell_type": "markdown",
   "metadata": {},
   "source": [
    "## 3.2.自然语言生成-NLG"
   ]
  },
  {
   "cell_type": "markdown",
   "metadata": {},
   "source": [
    "# 4.NLP技术栈"
   ]
  },
  {
   "cell_type": "markdown",
   "metadata": {},
   "source": [
    "![Images](images/002.png)"
   ]
  }
 ],
 "metadata": {
  "kernelspec": {
   "display_name": "Python 3",
   "language": "python",
   "name": "python3"
  },
  "orig_nbformat": 2
 },
 "nbformat": 4,
 "nbformat_minor": 2
}