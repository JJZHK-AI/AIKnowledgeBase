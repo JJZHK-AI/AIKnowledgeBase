{
 "cells": [
  {
   "cell_type": "markdown",
   "metadata": {},
   "source": [
    "条件随机场(Conditional Random Fields-CRF)\n",
    "==="
   ]
  },
  {
   "cell_type": "markdown",
   "metadata": {},
   "source": [
    "条件随机场和HMM一样，它一般也以文本序列数据作为输入，以该序列对应的隐含序列作为输出"
   ]
  },
  {
   "cell_type": "markdown",
   "metadata": {},
   "source": [
    "# 1.CRF模型的作用\n",
    "同HMM一样，在NLP领域，CRF用来解决文本序列标注问题，如分词，词性标注，命名实体识别。"
   ]
  },
  {
   "cell_type": "markdown",
   "metadata": {},
   "source": [
    "# 2.CRF模型的使用过程\n",
    "1. CRF模型表示为\n",
    "$$lambda=CRF(\\omega_1,\\omega_2,...,\\omega_n)$$\n",
    "其中$\\omega_1$到$\\omega_n$是模型参数"
   ]
  }
 ],
 "metadata": {
  "kernelspec": {
   "display_name": "Python 3.8.5 64-bit ('base': conda)",
   "name": "python385jvsc74a57bd0962ff1a08bbd29f414ba67199d725d5b08f35603471a3d6cc67d6569664ed27c"
  },
  "language_info": {
   "name": "python",
   "version": ""
  },
  "orig_nbformat": 2
 },
 "nbformat": 4,
 "nbformat_minor": 2
}