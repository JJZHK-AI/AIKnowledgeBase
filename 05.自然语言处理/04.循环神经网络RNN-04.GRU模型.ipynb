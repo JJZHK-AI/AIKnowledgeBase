{
 "metadata": {
  "language_info": {
   "codemirror_mode": {
    "name": "ipython",
    "version": 3
   },
   "file_extension": ".py",
   "mimetype": "text/x-python",
   "name": "python",
   "nbconvert_exporter": "python",
   "pygments_lexer": "ipython3",
   "version": 3
  },
  "orig_nbformat": 2
 },
 "nbformat": 4,
 "nbformat_minor": 2,
 "cells": [
  {
   "source": [
    "GRU模型\n",
    "==="
   ],
   "cell_type": "markdown",
   "metadata": {}
  },
  {
   "source": [
    "GRU(Gated Recurrent Unit)也称作门控循环单元结构，他也是传统RNN的变体，通LSTM一样能够有效捕捉长序列之间的语义关联，缓解梯度消失或爆炸现象，同时它的结构和计算要比LSTM更简单，它的核心结构可以分为两个部分去解析：更新门、重置门"
   ],
   "cell_type": "markdown",
   "metadata": {}
  },
  {
   "source": [
    "# 1.GRU的内部结构图与计算公式"
   ],
   "cell_type": "markdown",
   "metadata": {}
  },
  {
   "source": [
    "![images](images/020.png)"
   ],
   "cell_type": "markdown",
   "metadata": {}
  },
  {
   "source": [
    "$$\n",
    "\\begin{cases}\n",
    "z_t&=&\\sigma[W_z \\bullet (h_{t-1},x_t)] \\\\\n",
    "r_t&=&\\sigma[W_r \\bullet (h_{t-1},x_t)] \\\\\n",
    "\\tilde{h_t}&=&tanh[W \\bullet (r_t \\times h_{t-1}, x_t)] \\\\\n",
    "h_t&=&(1-z_t) \\times h_{t-1} + z_t \\times \\tilde{h_t}\n",
    "\\end{cases}\n",
    "$$"
   ],
   "cell_type": "markdown",
   "metadata": {}
  },
  {
   "source": [
    "$z_t$是更新门，$r_t$就是重置门"
   ],
   "cell_type": "markdown",
   "metadata": {}
  },
  {
   "source": [
    "- 计算更新门和重置门的门值，分别是$z_t$和$r_t$，计算方法就是使用$X_t$与$h_{t-1}$拼接进行线性变换在经过sigmoid激活\n",
    "- 更新门门值的左右在了$h_{t-1}$上，代表控制上一时间步传来的信息有多少可以被利用\n",
    "- 使用这个更新后的$h_{t-1}$进行基本的RNN计算，即与$x_t$拼接进行线性变换，经过tanh激活，得到新的$h_t$\n",
    "- 重置门的门值会作用在新的$h_t$，而1减去门值会作用在$h_{t-1}$，随后将两者的结果相加，得到最终的隐含状态输出$h_t$\n",
    "- 这个过程意味着重置门有能力重置之前所有的计算，当门值趋于1时，输出就是新的$h_t$，而当门值趋于0时，输出就是上一时间步的$h_{t-1}$"
   ],
   "cell_type": "markdown",
   "metadata": {}
  },
  {
   "source": [
    "Bi-GRU和Bi-LSTM的逻辑相同，都是不改变其内部结构，而是将模型应用两次且方向不同，再将两次得到的LSTM结果进行拼接作为最终输出。"
   ],
   "cell_type": "markdown",
   "metadata": {}
  },
  {
   "source": [
    "# 2.GRU在Pytorch中的实现"
   ],
   "cell_type": "markdown",
   "metadata": {}
  }
 ]
}