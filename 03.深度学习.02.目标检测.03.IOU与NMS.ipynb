{
 "cells": [
  {
   "cell_type": "markdown",
   "metadata": {
    "collapsed": true,
    "pycharm": {
     "name": "#%% md\n"
    }
   },
   "source": [
    "IOU与NMS\n",
    "===\n",
    "IOU(Intersection Over Union)在目标检测中是一个非常重要的指标，NMS(Non-Max Supression非极大值抑制)是过滤重复预测框的非常重要的一个办法"
   ]
  },
  {
   "cell_type": "markdown",
   "source": [
    "# 1.IOU介绍\n",
    "在目标检测的评价体系中，有一个参数叫做IoU，简单来讲就是模型产生的目标窗口和原来标记窗口的交叠率。具体我们可以简单的理解为检测结果(DetectionResult)与Ground Truth的交集比上它们的并集，即为检测的准确率IoU\n",
    "$$IOU=\\frac{DR \\cap GT}{DR \\cup GT}$$\n",
    "\n",
    "\n",
    "\n",
    "\n"
   ],
   "metadata": {
    "collapsed": false,
    "pycharm": {
     "name": "#%% md\n"
    }
   }
  }
 ],
 "metadata": {
  "language_info": {
   "codemirror_mode": {
    "name": "ipython",
    "version": 2
   },
   "file_extension": ".py",
   "mimetype": "text/x-python",
   "name": "python",
   "nbconvert_exporter": "python",
   "pygments_lexer": "ipython2",
   "version": "2.7.6"
  },
  "kernelspec": {
   "name": "python3",
   "language": "python",
   "display_name": "Python 3"
  },
  "pycharm": {
   "stem_cell": {
    "cell_type": "raw",
    "source": [],
    "metadata": {
     "collapsed": false
    }
   }
  }
 },
 "nbformat": 4,
 "nbformat_minor": 0
}