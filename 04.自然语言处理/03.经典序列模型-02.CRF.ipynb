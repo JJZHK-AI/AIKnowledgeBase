{
 "cells": [
  {
   "cell_type": "markdown",
   "metadata": {},
   "source": [
    "条件随机场(Conditional Random Fields-CRF)\n",
    "==="
   ]
  },
  {
   "cell_type": "markdown",
   "metadata": {},
   "source": [
    "条件随机场和HMM一样，它一般也以文本序列数据作为输入，以该序列对应的隐含序列作为输出"
   ]
  },
  {
   "cell_type": "markdown",
   "metadata": {},
   "source": [
    "# 1.CRF模型的作用\n",
    "同HMM一样，在NLP领域，CRF用来解决文本序列标注问题，如分词，词性标注，命名实体识别。"
   ]
  },
  {
   "cell_type": "markdown",
   "metadata": {},
   "source": [
    "# 2.CRF模型的使用过程\n",
    "1. CRF模型表示为\n",
    "$$lambda=CRF(\\omega_1,\\omega_2,...,\\omega_n)$$\n",
    "其中$\\omega_1$到$\\omega_n$是模型参数\n",
    "2. 接着，我们开始训练CRF模型，语料同样是事先准备好的一定数量的观测序列及其对应的隐含序列\n",
    "3. 与此同时，我们还需要做人工特征工程，然后通过不断训练求得一组参数，使由观测序列到对应隐含序列的概率最大\n",
    "4. 训练后，我们就得到了具备预测能力的新模型，其中的模型参数已经改变\n",
    "5. 之后给定输入序列$(x_1,x_2,...,x_n)$,经过模型计算$lambda(x_1,x_2,...,x_n)$得到对应隐含序列的条件概率分布\n",
    "6. 最后，还是使用维特比算法从隐含序列的条件概率分布中找出概率最大的一条序列路径就是我们需要的隐含序列$(y_1,y_2,...,y_n)$"
   ]
  }
 ],
 "metadata": {
  "kernelspec": {
   "display_name": "Python 3.8.5 64-bit ('base': conda)",
   "name": "python385jvsc74a57bd0962ff1a08bbd29f414ba67199d725d5b08f35603471a3d6cc67d6569664ed27c"
  },
  "language_info": {
   "name": "python",
   "version": ""
  },
  "orig_nbformat": 2
 },
 "nbformat": 4,
 "nbformat_minor": 2
}