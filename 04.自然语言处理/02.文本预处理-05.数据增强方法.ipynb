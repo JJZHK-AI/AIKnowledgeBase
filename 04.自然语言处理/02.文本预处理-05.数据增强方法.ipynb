{
 "cells": [
  {
   "cell_type": "markdown",
   "metadata": {},
   "source": [
    "文本预处理之数据增强方法\n",
    "==="
   ]
  },
  {
   "cell_type": "markdown",
   "metadata": {},
   "source": [
    "# 1.回译数据增强法\n",
    "回译数据增强目前是文本数据增强方面效果较好的增强方法，一般基于google翻译接口，将文本数据翻译成另一种语言，之后再翻译回原语言，即可认为得到与原语料同标签的新语料，新语料加入到原数据集中即可认为是对原数据集数据增强"
   ]
  },
  {
   "cell_type": "code",
   "execution_count": 53,
   "metadata": {},
   "outputs": [
    {
     "name": "stdout",
     "output_type": "stream",
     "text": [
      "호텔 시설은 아주 좋습니다 \n",
      "酒店设施非常好 \n"
     ]
    }
   ],
   "source": [
    "p_sample1 = \"酒店设施非常不错\"\n",
    "p_sample2 = \"这家价格很便宜\"\n",
    "n_sample1 = \"拖鞋都发霉了，太差了\"\n",
    "n_sample2 = \"电视不好用，没有看到足球\"\n",
    "\n",
    "from google_trans_new import google_translator \n",
    "translator = google_translator()\n",
    "translations = translator.translate(p_sample1, lang_tgt='ko')\n",
    "print(translations)\n",
    "\n",
    "translations = translator.translate(translations, lang_tgt='zh')\n",
    "print(translations)"
   ]
  }
 ],
 "metadata": {
  "kernelspec": {
   "display_name": "Python 3.8.5 64-bit ('base': conda)",
   "metadata": {
    "interpreter": {
     "hash": "962ff1a08bbd29f414ba67199d725d5b08f35603471a3d6cc67d6569664ed27c"
    }
   },
   "name": "python3"
  },
  "language_info": {
   "name": "python",
   "nbconvert_exporter": "python",
   "version": "3.8.5"
  },
  "orig_nbformat": 2
 },
 "nbformat": 4,
 "nbformat_minor": 2
}