{
 "cells": [
  {
   "cell_type": "markdown",
   "metadata": {
    "collapsed": true,
    "pycharm": {
     "name": "#%% md\n"
    }
   },
   "source": [
    "奇异值分解\n",
    "==="
   ]
  },
  {
   "cell_type": "markdown",
   "source": [
    "# 1.奇异值分解的定义\n",
    "奇异值分解叫做SVD，它可以对矩阵进行分解，但与但是和特征分解不同，SVD并不要求要分解的矩阵为方阵。假设我们的矩阵A是一个$m \\times n$的矩阵，那么我们定义矩阵A的SVD为\n",
    "$$A=U\\Sigma V^T$$\n",
    "其中$U$是一个$m \\times m$的方阵，$\\Sigma$是一个$m \\times n$的矩阵，$V$是一个$n \\times n$的矩阵。"
   ],
   "metadata": {
    "collapsed": false,
    "pycharm": {
     "name": "#%% md\n"
    }
   }
  },
  {
   "cell_type": "markdown",
   "source": [
    "对于$U$和$V$来说，有$U^TU=I,V^TV=I$，即两个都是正交矩阵。对于$\\Sigma$来说，除了主对角线之外的元素都是0，主对角线上的每个元素叫做奇异值"
   ],
   "metadata": {
    "collapsed": false,
    "pycharm": {
     "name": "#%% md\n"
    }
   }
  },
  {
   "cell_type": "markdown",
   "source": [
    "# 2.求解奇异值分解\n",
    "## 2.1.求解右奇异矩阵\n",
    "我们知道对于$A$来说，$A^TA$一定是一个$n \\times n$的方阵，那么就有特征分解如下\n",
    "$$(A^TA)\\nu_i=\\lambda_i\\nu_i$$\n",
    "然后就可以得到特征值和特征向量，将特征向量组成$n \\times n$的特征向量矩阵V，就是SVD里面的V矩阵，也叫做右奇异矩阵"
   ],
   "metadata": {
    "collapsed": false,
    "pycharm": {
     "name": "#%% md\n"
    }
   }
  },
  {
   "cell_type": "markdown",
   "source": [
    "## 2.2.求解左奇异矩阵\n",
    "同样有\n",
    "$$(AA^T)u_i=\\lambda_i u_i$$\n",
    "以得到特征值和特征向量，将特征向量组成$m \\times m$的特征向量矩阵U，就是SVD里面的U矩阵，也叫做左奇异矩阵"
   ],
   "metadata": {
    "collapsed": false,
    "pycharm": {
     "name": "#%% md\n"
    }
   }
  },
  {
   "cell_type": "markdown",
   "source": [
    "## 2.3.求解奇异值矩阵\n",
    "$$\\begin{split}\n",
    "&A=U\\Sigma V^T \\\\\n",
    "&\\Rightarrow AV=U\\Sigma V^TV \\\\\n",
    "&\\because V^TV=I \\\\\n",
    "&&\\Rightarrow AV=U\\Sigma \\\\\n",
    "&A\\nu_i =\\sigma_iu_i \\\\\n",
    "&\\sigma_i=\\frac{A\\nu_i}{u_i}\n",
    "\\end{split}$$\n",
    "这样就可以求出每一个奇异值，然后构成奇异矩阵$\\Sigma$"
   ],
   "metadata": {
    "collapsed": false,
    "pycharm": {
     "name": "#%% md\n"
    }
   }
  },
  {
   "cell_type": "markdown",
   "source": [
    "# 3.举例\n",
    "对矩阵$A=\\begin{bmatrix}\n",
    "0 & 1 \\\\\n",
    "1 & 1 \\\\\n",
    "1 & 0\n",
    "\\end{bmatrix}$进行奇异值分解"
   ],
   "metadata": {
    "collapsed": false,
    "pycharm": {
     "name": "#%% md\n"
    }
   }
  },
  {
   "cell_type": "markdown",
   "source": [
    "$A^TA=\\begin{bmatrix}\n",
    "0 & 1 & 1 \\\\\n",
    "1 & 1 & 0\n",
    "\\end{bmatrix} \\times \\begin{bmatrix}\n",
    "0 & 1 \\\\\n",
    "1 & 1 \\\\\n",
    "1 & 0\n",
    "\\end{bmatrix}=\\begin{bmatrix}\n",
    "2 & 1 \\\\\n",
    "1 & 2\n",
    "\\end{bmatrix}$"
   ],
   "metadata": {
    "collapsed": false,
    "pycharm": {
     "name": "#%% md\n"
    }
   }
  }
 ],
 "metadata": {
  "kernelspec": {
   "display_name": "Python 3",
   "language": "python",
   "name": "python3"
  },
  "language_info": {
   "codemirror_mode": {
    "name": "ipython",
    "version": 2
   },
   "file_extension": ".py",
   "mimetype": "text/x-python",
   "name": "python",
   "nbconvert_exporter": "python",
   "pygments_lexer": "ipython2",
   "version": "2.7.6"
  },
  "pycharm": {
   "stem_cell": {
    "cell_type": "raw",
    "source": [],
    "metadata": {
     "collapsed": false
    }
   }
  }
 },
 "nbformat": 4,
 "nbformat_minor": 0
}