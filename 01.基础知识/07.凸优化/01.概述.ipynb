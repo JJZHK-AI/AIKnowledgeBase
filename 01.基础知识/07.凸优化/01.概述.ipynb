{
 "nbformat": 4,
 "nbformat_minor": 2,
 "metadata": {
  "language_info": {
   "name": "python",
   "codemirror_mode": {
    "name": "ipython",
    "version": 3
   },
   "version": "3.6.9-final"
  },
  "orig_nbformat": 2,
  "file_extension": ".py",
  "mimetype": "text/x-python",
  "name": "python",
  "npconvert_exporter": "python",
  "pygments_lexer": "ipython3",
  "version": 3,
  "kernelspec": {
   "name": "python36964bitbaseconda57458418c2724739aed354b115ff2977",
   "display_name": "Python 3.6.9 64-bit ('base': conda)"
  }
 },
 "cells": [
  {
   "cell_type": "markdown",
   "execution_count": null,
   "metadata": {},
   "outputs": [],
   "source": [
    "数学优化\n",
    "==="
   ]
  },
  {
   "cell_type": "markdown",
   "execution_count": null,
   "metadata": {},
   "outputs": [],
   "source": [
    "# 1.数学优化问题的一般形式\n",
    "对于数学优化问题，一般可以写成如下的形式\n",
    "$$\n",
    "\\begin{cases}\n",
    "minimize &f_0(\\overrightarrow{x})\\\\\n",
    "subjectTo &f_i(\\overrightarrow{x}) \\leq b_i &i=1,...,m\n",
    "\\end{cases} \n",
    "$$\n",
    "其中$\\overrightarrow{x}=(x_1,x_2,...,x_n)$称为问题的优化变量，函数$f_0:R^n \\rightarrow R$称为目标函数，函数$f_i : R^n \\rightarrow R,i=1,...,m$称为(不等式)约束函数，常数$b_1,...,b_m$称为约束上限或者约束边界。"
   ]
  },
  {
   "cell_type": "markdown",
   "execution_count": null,
   "metadata": {},
   "outputs": [],
   "source": [
    "如果在所有满足约束的向量中，向量$\\overrightarrow{x}^*$对应的目标函数最小(即对于任意满足约束$f_1(z) \\leq b_1,...,f_m(z) \\leq b_m$的向量$z$，有$f_0(z) \\geq f_0(\\overrightarrow{x}^*)$)，那么称$\\overrightarrow{x}^*$为上述问题的最优解"
   ]
  },
  {
   "cell_type": "markdown",
   "execution_count": null,
   "metadata": {},
   "outputs": [],
   "source": [
    "# 2.线性规划\n",
    "如果上述问题中的目标函数和约束函数$f_0,...,f_m$都是线性函数，即对任意的$x,y \\in R^n$和$\\alpha,\\beta \\in R$有\n",
    "$$f_i(\\alpha x + \\beta y)=\\alpha f_i(x) + \\beta f_i(y)$$\n",
    "则此优化问题称为线性规划。"
   ]
  },
  {
   "cell_type": "markdown",
   "execution_count": null,
   "metadata": {},
   "outputs": [],
   "source": [
    "# 3.非线性规划\n",
    "如果优化问题不是线性的，则称之为非线性规划"
   ]
  },
  {
   "cell_type": "markdown",
   "execution_count": null,
   "metadata": {},
   "outputs": [],
   "source": [
    "# 4.凸优化\n",
    "目标函数和约束函数都是凸函数，即对于任意$x,y \\in R^n$，任意$\\alpha,\\beta \\in R$且满足$\\alpha+\\beta=1,\\alpha \\geq 0, \\beta \\geq 0$，下述不等式成立\n",
    "$$f_i(\\alpha x+\\beta y) \\leq \\alpha f_i(x) + \\beta f_i(y)$$\n",
    "可以看到，线性规划问题也是凸优化问题，可以将凸优化看成是线性规划的扩展"
   ]
  },
  {
   "cell_type": "markdown",
   "execution_count": null,
   "metadata": {},
   "outputs": [],
   "source": [
    "# 5.最小二乘问题与凸优化\n",
    "最小二乘问题是这样一类优化问题，它没有约束条件，即$m=0$，目标函数是若干项的平方和，每一项具有刑事$a_i^Tx-b_i$，具体形式如下"
   ]
  },
  {
   "cell_type": "markdown",
   "source": [
    "$$\n",
    "f_0(x)=||Ax-b||_2^2=\\sum_{i=1}^k(a_i^Tx-b_i)^2\n",
    "$$"
   ],
   "metadata": {
    "collapsed": false,
    "pycharm": {
     "name": "#%% md\n"
    }
   }
  },
  {
   "cell_type": "markdown",
   "source": [
    "其中$A \\in R^{k \\times n}(k \\geq n)$,$a_i^T$是矩阵A的行向量，向量$x \\in R^n$是优化变量"
   ],
   "metadata": {
    "collapsed": false,
    "pycharm": {
     "name": "#%% md\n"
    }
   }
  },
  {
   "cell_type": "markdown",
   "execution_count": null,
   "metadata": {},
   "outputs": [],
   "source": [
    "最小二乘问题的求解可以简化为求解一组线性方程$(A^TA)x=A^Tb$，由此可得解析解$x=(A^TA)^{-1}A^Tb$，此外还有一种最小二乘的变化形式-加权最小二乘，即$\\sum_{i=1}^k\\omega_i(a_i^Tx-b_i)^2$，其中加权系数$\\omega_1,...,\\omega_k$均大于零"
   ]
  }
 ]
}