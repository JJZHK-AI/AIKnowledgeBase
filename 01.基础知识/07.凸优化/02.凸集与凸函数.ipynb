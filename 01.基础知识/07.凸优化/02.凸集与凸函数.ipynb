{
 "cells": [
  {
   "cell_type": "markdown",
   "metadata": {
    "pycharm": {}
   },
   "source": [
    "# 1.凸集"
   ]
  },
  {
   "cell_type": "markdown",
   "metadata": {
    "pycharm": {}
   },
   "source": [
    "## 1.1.直线上的点\n",
    "$\\forall x, y \\in R^n$且$x \\neq y$，那么 $$z=\\theta{x}+(1-\\theta)y, \\theta \\in R$$ 是一条穿越x和y的直线<br/>\n",
    "$\\theta=0$时，$z=y$\n",
    "$\\theta=1$时，$z=x$\n",
    "$0 \\leq \\theta \\leq 1$时，z是x和y之间的线段上的点\n",
    "$\\theta < 0$或$\\theta > 1$时，z是x和y线段之外的点"
   ]
  },
  {
   "cell_type": "markdown",
   "metadata": {
    "pycharm": {}
   },
   "source": [
    "## 1.2.定义\n",
    "凸集用来定义目标函数和约束函数的定义域。$\\forall x,y \\in C, 0 \\leq \\theta \\leq 1$有$\\theta{x}+(1-\\theta)y \\in C$的集合称为凸集"
   ]
  },
  {
   "cell_type": "markdown",
   "metadata": {
    "pycharm": {}
   },
   "source": [
    "## 1.3.典型的凸集"
   ]
  },
  {
   "cell_type": "markdown",
   "metadata": {
    "pycharm": {}
   },
   "source": [
    "### 1.3.1.线段、射线、直线"
   ]
  },
  {
   "cell_type": "markdown",
   "metadata": {
    "pycharm": {}
   },
   "source": [
    "### 1.3.2.超平面和半空间\n",
    "超平面hyperplane:$\\{x|a^Tx=b\\}$\n",
    "半空间halfspace:$\\{x|a^T \\leq b\\},\\{x|a^Tx \\geq b\\}$\n",
    "a就是平面的法向量。超平面分离定理：两个不相交的凸集，存在一个超平面将其分离"
   ]
  },
  {
   "cell_type": "markdown",
   "metadata": {
    "pycharm": {}
   },
   "source": [
    "### 1.3.3.仿射集\n",
    "多面体是有限个半空间和超平面的交集$P=\\{x|a_j^Tx \\leq b, c_i^Tx=d_i\\}$<br/>\n",
    "仿射集(如超平面、直线、射线、线段、班空间都是多面体).多面体是凸集"
   ]
  },
  {
   "cell_type": "markdown",
   "execution_count": null,
   "metadata": {},
   "outputs": [],
   "source": [
    "### 1.3.4.欧几里得球、范数球、椭球等"
   ]
  },
  {
   "cell_type": "markdown",
   "execution_count": null,
   "metadata": {},
   "outputs": [],
   "source": [
    "### 1.3.5.凸锥、范数锥"
   ]
  },
  {
   "cell_type": "markdown",
   "execution_count": null,
   "metadata": {},
   "outputs": [],
   "source": [
    "## 1.4.凸集的保凸运算"
   ]
  },
  {
   "cell_type": "markdown",
   "execution_count": null,
   "metadata": {},
   "outputs": [],
   "source": [
    "### 1.4.1.集合交运算"
   ]
  },
  {
   "cell_type": "markdown",
   "metadata": {
    "pycharm": {}
   },
   "source": [
    "### 1.4.2.仿射变换\n",
    "函数$f=Ax+b,A \\in R^{m*n}, b \\in R^m$的形式，称函数是仿射的；即线性函数加常数的形式(仿射可以伸缩、平移、投影)<br/>\n",
    "若f是仿射变换，$f:R^n \\rightarrow R^m, f(S)=\\{f(x)|x \\in S\\}$<br/>\n",
    "若S为凸集，则$f(S)$为凸集\n",
    "若$f(S)$为凸集，则S为凸集"
   ]
  },
  {
   "cell_type": "markdown",
   "execution_count": null,
   "metadata": {},
   "outputs": [],
   "source": [
    "### 1.4.3.透视变换"
   ]
  },
  {
   "cell_type": "markdown",
   "metadata": {
    "pycharm": {}
   },
   "source": [
    "# 2.凸函数"
   ]
  },
  {
   "cell_type": "markdown",
   "metadata": {
    "pycharm": {}
   },
   "source": [
    "## 2.1.定义\n",
    "函数$f:R^n \\to R$的定义域$domf$是凸集，并且对于$\\forall x,y \\in domf$和$\\forall \\theta, 0 \\leq \\theta \\leq 1$有\n",
    "$$f(\\theta{x}+(1-\\theta)y) \\leq \\theta{f(x)}+(1-\\theta)f(y)$$\n",
    "则称函数$f$是凸的。"
   ]
  },
  {
   "cell_type": "markdown",
   "source": [
    "![images](images/02_001.png)\n",
    "\n",
    "- 凸函数图像的上方区域，一定是凸集\n",
    "- 一个函数图像的上方区域为凸集，则该函数是凸函数"
   ],
   "metadata": {
    "collapsed": false,
    "pycharm": {
     "name": "#%% md\n"
    }
   }
  },
  {
   "cell_type": "markdown",
   "metadata": {
    "pycharm": {}
   },
   "source": [
    "## 2.2.性质"
   ]
  },
  {
   "cell_type": "markdown",
   "execution_count": null,
   "metadata": {},
   "outputs": [],
   "source": [
    "### 2.2.1.一阶条件\n",
    "可微函数$f$是凸函数的充要条件是**定义域domf是凸集,$\\forall x,y \\in domf$,有$f(y) \\geq f(x) + \\nabla{f(x)}^T(y-x)$**"
   ]
  },
  {
   "cell_type": "markdown",
   "execution_count": null,
   "metadata": {},
   "outputs": [],
   "source": [
    "### 2.2.2.二阶条件\n",
    "函数$f$的二阶偏导称为函数$f$的Hessian矩阵。对于函数$f$的定义域$domf$内任意一点，其Hessian矩阵存在，则函数$f$是凸函数的充要条件是，其Hessian矩阵是半正定阵。也即，对于所有$x \\in domf$有$\\nabla^2f(x) \\geq 0$。对于R上的函数，可以简化为$f''(x) \\geq 0$"
   ]
  },
  {
   "cell_type": "markdown",
   "execution_count": null,
   "metadata": {},
   "outputs": [],
   "source": [
    "### 2.2.3.典型的凸函数\n",
    "- 线性函数和仿射函数\n",
    "- 指数函数\n",
    "- 负熵\n",
    "- 范数"
   ]
  },
  {
   "cell_type": "markdown",
   "execution_count": null,
   "metadata": {},
   "outputs": [],
   "source": [
    "### 2.2.4.凸函数的保凸运算\n",
    "非负加权求和、复合仿射映射、逐点最大和逐点上确界、复合等"
   ]
  },
  {
   "cell_type": "markdown",
   "execution_count": null,
   "metadata": {},
   "outputs": [],
   "source": [
    "# 3.Jensen不等式\n",
    "Jensen当年提出的不等式相当简单，$f$是凸函数，则\n",
    "$$f(\\frac{x+y}{2}) \\leq \\frac{f(x)+f(y)}{2}$$\n",
    "Jensen不等式，又叫做詹森不等式，以丹麦数学家约翰·詹森(Johan Jensen)命名"
   ]
  },
  {
   "cell_type": "markdown",
   "execution_count": null,
   "metadata": {},
   "outputs": [],
   "source": [
    "## 3.1.常规形式\n",
    "上述式子是Jensen不等式的常规形式，还可以扩展至更多点的凸组合：如果函数$f$是凸函数，$x_i,...,x_k \\in domf, \\theta_1,...,\\theta_k \\geq 0$且$\\theta_1+...+\\theta_k=1$，则下式成立\n",
    "$$f(\\theta_1x_1+...+\\theta_kx_k) \\leq \\theta_1f(x_1)+...+\\theta_kf(x_k)$$\n",
    "此不等式也可以扩展至无穷项和"
   ]
  },
  {
   "cell_type": "markdown",
   "execution_count": null,
   "metadata": {},
   "outputs": [],
   "source": [
    "## 3.2.概率形式\n",
    "上式中的$\\theta_1,...,\\theta_k$可以看做是概率分布，所以，如果函数$f$是凸函数，$x_i,...,x_k \\in domf$，$p_1,...,p_k$是概率分布，则\n",
    "$$f(p_1x_1+...+p_kx_k) \\leq p_1f(x_1)+...+p_kf(x_k)$$\n",
    "如果是连续概率分布，那么如果在$S \\subseteq domf$上$p(x) \\geq 0$是随机事件x的概率密度，则有$\\int_Sp(x)dx=1$，则当相应积分存在时，有\n",
    "$$f(\\int_Sp(x)xdx) \\leq \\int_Sf(x)p(x)dx$$\n",
    "写成期望的形式\n",
    "$$f(Ex) \\leq Ef(x)$$"
   ]
  }
 ],
 "metadata": {
  "kernelspec": {
   "display_name": "Python 3",
   "language": "python",
   "name": "python3"
  },
  "language_info": {
   "codemirror_mode": {
    "name": "ipython",
    "version": 3
   },
   "file_extension": ".py",
   "mimetype": "text/x-python",
   "name": "python",
   "nbconvert_exporter": "python",
   "pygments_lexer": "ipython3",
   "version": "3.6.8"
  }
 },
 "nbformat": 4,
 "nbformat_minor": 1
}