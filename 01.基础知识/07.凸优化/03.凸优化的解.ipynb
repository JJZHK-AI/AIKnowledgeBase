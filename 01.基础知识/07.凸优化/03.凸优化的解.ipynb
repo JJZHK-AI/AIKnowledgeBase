{
 "nbformat": 4,
 "nbformat_minor": 2,
 "metadata": {
  "language_info": {
   "name": "python",
   "codemirror_mode": {
    "name": "ipython",
    "version": 3
   }
  },
  "orig_nbformat": 2,
  "file_extension": ".py",
  "mimetype": "text/x-python",
  "name": "python",
  "npconvert_exporter": "python",
  "pygments_lexer": "ipython3",
  "version": 3
 },
 "cells": [
  {
   "cell_type": "markdown",
   "execution_count": null,
   "metadata": {},
   "outputs": [],
   "source": [
    "凸优化的解\n",
    "==="
   ]
  },
  {
   "cell_type": "markdown",
   "execution_count": null,
   "metadata": {},
   "outputs": [],
   "source": [
    "# 1.凸优化的优势\n",
    "凸优化之所以如此重要，是因为凸优化的重要特性：**凸优化的任意局部最优解也是全局最优解**"
   ]
  },
  {
   "cell_type": "markdown",
   "execution_count": null,
   "metadata": {},
   "outputs": [],
   "source": [
    "# 2.标准优化问题\n",
    "$$\n",
    "\\begin{eqnarray}\n",
    "min& &f_0(x)\\\\\n",
    "s.t.& &f_i(x) \\leq 0, i=1,...,m\\\\\n",
    "& &h_i(x)=0, i=1,...,p\n",
    "\\end{eqnarray}\n",
    "$$\n",
    "表示在所有满足$f_i(x) \\leq,i=1,...,m$及$h_i(x)=0,i=1,...,p$的$x$中，找出使得$f_0(x)$最小的$x$.这里$x \\in R^n$称为问题的优化变量，函数$f_0:R^n \\to R$称为目标函数，不等式$f_i(x) \\leq 0$称为不等式约束，相应的$f_i:R^n \\to R,i=1,2,...,m$称为不等式约束函数，方程组$h_i(x)=0$称为等式约束，相应的$h_i:R^n \\to R,i=1,2,...,p$称为等式约束。如果没有约束，即$m=p=0$，称为无约束问题，那么对目标和说有约束函数有定义的点的集合\n",
    "$$\\delta=\\bigcap_{i=0}^mdomf_i \\cap \\bigcap_{j=1}^pdomh_j$$\n",
    "称为优化问题的定义域\n",
    "- 优化变量：$x \\in R^n$\n",
    "- 不等式约束：$f_i{x} \\leq 0$\n",
    "- 等式约束：$h_j(x)=0$\n",
    "- 无约束优化：$m=p=0$\n",
    "\n",
    "若干概念\n",
    "- 优化问题的域：$f(x)$和$h(x)$的定义域的交集\n",
    "- 可行点：如果x在优化问题的域上，切满足约束条件\n",
    "- 所有的可行点的集合叫做可行域\n",
    "- 最优化的值就是求$f(x)$的下确界"
   ]
  },
  {
   "cell_type": "markdown",
   "execution_count": null,
   "metadata": {},
   "outputs": [],
   "source": [
    "# 3.凸优化问题\n",
    "$$\n",
    "\\begin{eqnarray}\n",
    "min& &f_0(x)\\\\\n",
    "s.t.& &f_i(x) \\leq 0, i=1,...,m\\\\\n",
    "& &h_i(x)=0, i=1,...,p\n",
    "\\end{eqnarray}\n",
    "$$\n",
    "其中，$f_i(x),i=0,...,m$是凸函数。$x^* \\in X$是可微函数$f_0$的最优解，当且仅当$\\nabla{f_0(x^*)^T(y-x^*)} \\geq 0, \\forall y \\in X$"
   ]
  },
  {
   "cell_type": "markdown",
   "execution_count": null,
   "metadata": {},
   "outputs": [],
   "source": [
    "# 4.最优性准则"
   ]
  },
  {
   "cell_type": "markdown",
   "execution_count": null,
   "metadata": {},
   "outputs": [],
   "source": [
    "## 4.1.无约束凸优化的最优性准则\n",
    "我们知道，当$m=p=0$的时候，叫做无约束凸优化问题，那么$x^* \\in X$是可微函数$f$的最优解的充要条件是$\\nabla{f(x^*)}=0$"
   ]
  },
  {
   "cell_type": "markdown",
   "execution_count": null,
   "metadata": {},
   "outputs": [],
   "source": [
    "## 4.2.等式约束凸优化的最优化准则\n",
    "当$m=0$时，叫做等式约束，那么$x^* \\in X$是可微函数$f$的最优解的充要条件是存在$\\nu=[\\nu_1,...,\\nu_p]^T \\in R^p$，使得\n",
    "$$\\nabla{f_0(x^*)} + \\sum_{i=1}^p\\nu_i\\alpha_i=0$$\n",
    "其中$\\alpha_i \\in R^n$，这个可以通过Lagrange对偶函数的KKT条件证明的到。\n",
    "\n",
    "将等式约束凸优化问题描述为矩阵形式\n",
    "$$\n",
    "\\begin{split}\n",
    "min&&emsp;f(x)\\\\\\\\\n",
    "s.t.&&emsp;Ax=b\n",
    "\\end{split}\n",
    "$$\n",
    "对应的，$x^* \\in X$是可微函数$f$的最优解的充要条件是存在$\\nu \\in R^p$，使得\n",
    "$$\\nabla{f(x^*)}+A^T\\nu=0$$\n",
    "其中$A \\in R^{p*n}$"
   ]
  }
 ]
}