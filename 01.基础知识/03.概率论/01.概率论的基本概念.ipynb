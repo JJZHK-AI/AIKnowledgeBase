{
 "cells": [
  {
   "cell_type": "markdown",
   "metadata": {
    "pycharm": {}
   },
   "source": [
    "# 1.随机试验、样本空间与随机事件"
   ]
  },
  {
   "cell_type": "markdown",
   "metadata": {
    "pycharm": {}
   },
   "source": [
    "## 1.1.随机试验\n",
    "观察随机现象的过程称为随机试验，随机试验有以下特点\n",
    "1. 相同条件下，实验可以重复进行\n",
    "2. 每一次实验的可能结果不止一个，并且能够事先明确实验的所有可能结果\n",
    "3. 在每次实验之前不能确定哪一个结果会出现"
   ]
  },
  {
   "cell_type": "markdown",
   "metadata": {
    "pycharm": {}
   },
   "source": [
    "## 1.2.样本空间\n",
    "我们将随机试验$E$的所有可能的结果组成的集合称为E的样本空间，记作$S$或$\\Omega$.样本空间的元素，即$E$的每一个结果，称为样本点。如果$E$的可能结果是$e_1,e_2,...,e_n$，这些结果就是$E$的样本点。即$S=\\{e_1,e_2,...,e_n\\}$"
   ]
  },
  {
   "cell_type": "markdown",
   "metadata": {
    "pycharm": {}
   },
   "source": [
    "## 1.3.随机事件\n",
    "随机试验$E$的样本空间$S$的子集$A$称为$E$的**随机事件**。当$A$中某一个样本点出现时，就说事件$A$发生了。由一个样本点$e$组成的单点集$\\{e\\}$称为**基本事件**。例如抛掷一枚硬币的基本事件就是$\\{H\\}$和$\\{T\\}$。样本空间$S$包含了试验的所有样本点，在每次试验中它总会发生，称$S$是**必然事件**。空集$\\emptyset$不包含任何样本点，它在每次试验中都不会发生，称$\\emptyset$为**不可能事件**。如果试验$E$有n个可能的结果，那么它就有$2^n$个不同的自己，也就是有$2^n$个不同的事件"
   ]
  },
  {
   "cell_type": "markdown",
   "metadata": {
    "pycharm": {}
   },
   "source": [
    "## 1.4.随机事件的关系"
   ]
  },
  {
   "cell_type": "markdown",
   "metadata": {
    "pycharm": {}
   },
   "source": [
    "### 1.4.1.事件的包含\n",
    "如果事件$A$发生必然导致事件$B$发生，即属于$A$的样本点也属于$B$，则称事件$B$包含事件$A$.那么$A$就是$B$的一个子集$A \\subset B$"
   ]
  },
  {
   "cell_type": "markdown",
   "metadata": {
    "pycharm": {}
   },
   "source": [
    "### 1.4.2.事件的相等\n",
    "如果$A \\subset B$并且$B \\subset A$，那么$A=B$"
   ]
  },
  {
   "cell_type": "markdown",
   "metadata": {
    "pycharm": {}
   },
   "source": [
    "### 1.4.3.事件的并(和)\n",
    "两个事件A和B至少有一个发生是一个事件，称为事件A和事件B的并，$A \\cup B$或$A+B$.n个事件$A_1,A_2,...,A_n$中至少有一个发生的时间称为这些事件的和事件，记作$\\cup_{k=1}^nA_k$或$\\sum_{k=1}^nA_k$"
   ]
  },
  {
   "cell_type": "markdown",
   "metadata": {
    "pycharm": {}
   },
   "source": [
    "### 1.4.4.事件的交\n",
    "两个事件A与B同时发生是一个事件，称为事件A与事件B的交记作$A \\cap B$或$AB$。n个事件$A_1,A_2,...,A_n$中同事发生的事件称为这些事件的积事件，记作$\\cap_{k=1}^nA_k$或$A_1A_2...A_n$"
   ]
  },
  {
   "cell_type": "markdown",
   "metadata": {
    "pycharm": {}
   },
   "source": [
    "### 1.4.5.对立事件-逆事件\n",
    "如果每一次试验中，事件A与事件B必有一个发生，但又不能同时发生，称为事件A与事件B为对立事件，也称A与B为互逆事件。事件A的对立事件叫A逆或非A，记作$\\overline{A}$，读作A逆，A非，A bar\n",
    "- $A \\cap \\overline{A}=A\\overline{A}=\\emptyset$\n",
    "- $A \\cup \\overline{A}=S$\n",
    "- $\\overline{\\overline{A}}=A$"
   ]
  },
  {
   "cell_type": "markdown",
   "metadata": {
    "pycharm": {}
   },
   "source": [
    "### 1.4.6.事件的差\n",
    "事件A发生，而事件B不发生的事件称为事件A与事件B的差，记作$A-B$，样本点是由属于A但不属于B的样本点构成的集合\n",
    "> 1. $A-B=A\\overline{B}$\n",
    "> 2. $A-B=A-AB$\n",
    "> 3. $\\overline{A}=S-A$"
   ]
  },
  {
   "cell_type": "markdown",
   "metadata": {
    "pycharm": {}
   },
   "source": [
    "### 1.4.7.互不相容事件-互斥事件\n",
    "如果事件A与事件B不能同时发生，则称事件A与事件B互不相容，或者称他们互斥.显然，基本事件两两互不相容\n",
    "> $AB=\\emptyset$\n",
    "\n",
    "对立事件一定互不相容，但互不相容事件不一定对立。也就是说互逆一定互斥，但互斥未必互逆。因为互斥只有一个条件，就是$AB=\\emptyset$，但互逆有两个条件$AB=\\emptyset,A \\cup B=S$"
   ]
  },
  {
   "cell_type": "markdown",
   "metadata": {
    "pycharm": {}
   },
   "source": [
    "### 1.4.8.完备事件组\n",
    "如果事件$A_1,A_2,...,A_n$两两互不相容，并且$A_1\\cup A_2 \\cup ...\\cup A_n=S$，则称$A_1,A_2,...,A_n$是一个完备事件组"
   ]
  },
  {
   "cell_type": "markdown",
   "metadata": {
    "pycharm": {}
   },
   "source": [
    "举例，掷一颗骰子的试验，观察出现的点数，事件A表示‘奇数点’，事件B表示‘点数小于5’，事件C表示‘小于6的偶数点’，那么就有\n",
    "1. $S=\\{1,2,3,4,5,6\\}$\n",
    "2. $A=\\{1,3,5\\}$\n",
    "3. $B=\\{1,2,3,4\\}$\n",
    "4. $C=\\{2,4\\}$\n",
    "5. $A \\cup B=\\{1,2,3,4,5\\}$\n",
    "6. $B-A=\\{2,4\\}$\n",
    "7. $B-\\overline{C}=\\{2,4\\}$"
   ]
  },
  {
   "cell_type": "markdown",
   "metadata": {
    "pycharm": {}
   },
   "source": [
    "举例，从一批产品中每次取出一个产品进行检验(不放回),事件$A_i$表示第i次渠道合格品，试用事件的运算符号表示下列事件\n",
    "1. 三次全取到合格品：$A_1A_2A_3$\n",
    "2. 三次中至少又一次取到合格品：$A_1 \\cup A_2 \\cup A_3$\n",
    "3. 三次中恰好有两次取到合格品：$A_1A_2\\overline{A_3} \\cup A_1\\overline{A_2}A_3 \\cup \\overline{A_1}A_2A_3$\n",
    "4. 三次中至多有一次取到合格品：$\\overline{A_1} \\cdot \\overline{A_2} \\cup \\overline{A_1} \\cdot \\overline{A_3} \\cup \\overline{A_2} \\cdot \\overline{A_3}$"
   ]
  },
  {
   "cell_type": "markdown",
   "metadata": {
    "pycharm": {}
   },
   "source": [
    "## 1.5.随机事件的运算律\n",
    "事件的运算律与集合的运算律相同\n",
    "1. $A \\cup B=b \\cup A, A+B=B+A$\n",
    "2. $A \\cap B=B \\cap A, AB=BA$\n",
    "3. $A \\cup (B \\cup C)=(A \\cup B) \\cup C=A \\cup B \\cup C=A+B+C$\n",
    "4. $A \\cap (B \\cap C)=(A \\cap B) \\cap C=A \\cap B \\cap C=ABC$\n",
    "5. $A \\cup (B \\cap C)=(A \\cup B) \\cap (A \\cup C), A+BC=(A+B)(A+C)$\n",
    "6. $A \\cap (B \\cup C)=(A \\cap B) \\cup (A \\cap C), A(B+C)=AB+AC$\n",
    "7. $\\overline{A \\cup B}=\\overline{A} \\cap \\overline{B}, \\overline{A+B}=\\overline{A} \\cdot \\overline{B}$\n",
    "8. $\\overline{A \\cap B}=\\overline{A} \\cup \\overline{B}, \\overline{AB}=\\overline{A}+\\overline{B}$\n",
    "9. $\\overline{\\sum_{i \\in I}A_i}=\\prod_{i \\in I}\\overline{A_i}$\n",
    "10. $\\overline{\\prod_{i \\in I}A_i}=\\sum_{i \\in I}\\overline{A_i}$\n",
    "11. $A \\cup A=A, A+A=A$\n",
    "12. $A \\cap A=A, AA=A$"
   ]
  },
  {
   "cell_type": "markdown",
   "metadata": {
    "pycharm": {}
   },
   "source": [
    "# 3.频率与概率"
   ]
  },
  {
   "cell_type": "markdown",
   "metadata": {
    "pycharm": {}
   },
   "source": [
    "## 3.1.频率\n",
    "**频率**是描述事件发生的频繁程度的一个量，它是该事件出现次数在试验总次数中所占百分比。比如掷一枚硬币100次，正面出现58次，那么正面出现的频率就是$\\frac{58}{100}=0.58$。设在相同条件下，进行了$n$次试验。在这$n$次试验中，事件A发生的次数称为事件$A$发生的频数，记作$n(A)$.比值$\\frac{n(A)}{n}$称为事件A的频率，记作$f_n(A)$\n",
    "1. $0 \\leq f_n(A) \\leq 1$\n",
    "2. $f_n(\\emptyset)=0, f_n(S)=1$\n",
    "3. 若A，B互不相容，$f_n(A \\cup B)=f_n(A)+f_n(B)$"
   ]
  },
  {
   "cell_type": "markdown",
   "metadata": {
    "pycharm": {}
   },
   "source": [
    "## 3.2.概率\n",
    "事件A发生的频率的稳定值p称为A的统计概率，记作$P(A)=p$。当试验次数n相当大时，有$P(A) \\approx f_n(A)$。设$E$是随机试验，$S$是它的样本空间。对E的每一个事件，A富裕一个实数，记作$P(A)$，称为事件A的概率，满足下列条件\n",
    "1. 非负性$P(A) \\geq 0$\n",
    "2. 规范性:对于必然事件，有$P(S)=1$\n",
    "3. 对于两两互不相容的事件，有\n",
    "$$P(\\cup_{i=1}^\\infty A_i)=\\sum_{i=1}^\\infty P(A_i)$$"
   ]
  },
  {
   "cell_type": "markdown",
   "metadata": {
    "pycharm": {}
   },
   "source": [
    "## 3.3.概率的性质\n",
    "1. $P(\\emptyset)=0$，不可能事件的概率为零。但概率为0的事件未必是不可能事件\n",
    "2. 设$A_1,A_2,...,A_n$是两两互不相容的事件，则有$P(A_1+A_2+...+A_n)=P(A_1)+P(A_2)+...+P(A_n)$\n",
    "3. 设$A_1,A_2,...,A_n$是一个完备事件组，则$P(A_1)+P(A_2)+...+P(A_n)=1$\n",
    "4. $A \\subset B \\Rightarrow P(A) \\leq P(B)$\n",
    "5. $P(B-A)=P(B)-P(AB)$\n",
    "6. $P(A)+P(\\overline{A})=1$\n",
    "7. $P(A \\cup B)=P(A)+P(B)-P(AB)$\n",
    "8. $P(A \\cup B \\cup C)=P(A)+P(B)+P(C)-P(AB)-P(AC)-P(BC)+P(ABC)$"
   ]
  },
  {
   "cell_type": "markdown",
   "metadata": {
    "pycharm": {}
   },
   "source": [
    "已知$P(A)=\\frac{1}{2},P(B)=\\frac{1}{3},P(C)=\\frac{1}{5},P(AB)=\\frac{1}{10},P(AC)=\\frac{1}{15},P(BC)=\\frac{1}{20},P(ABC)=\\frac{1}{30}$，则有\n",
    "1. $P(A \\cup B)=P(A)+P(B)-P(AB)=\\frac{1}{2}+\\frac{1}{3}-\\frac{1}{10}=\\frac{11}{15}$\n",
    "2. $P(\\overline{A} \\cdot \\overline{B})=P(\\overline{A \\cup B})=1-P(A \\cup B)=1-\\frac{11}{15}=\\frac{4}{15}$\n",
    "3. $P(A \\cup B \\cup C)=P(A)+P(B)+P(C)-P(AB)-P(AC)-P(BC)+P(ABC)=\\frac{1}{2}+\\frac{1}{3}+\\frac{1}{5}-\\frac{1}{10}-\\frac{1}{15}-\\frac{1}{20}+\\frac{1}{30}=\\frac{17}{20}$\n",
    "4. $P(\\overline{A} \\cdot \\overline{B} \\cdot \\overline{C})=P(\\overline{A \\cup B \\cup C})=1-P(A \\cup B \\cup C)=1-\\frac{17}{20}=\\frac{3}{20}$"
   ]
  },
  {
   "cell_type": "markdown",
   "metadata": {
    "pycharm": {}
   },
   "source": [
    "# 4.古典概型"
   ]
  },
  {
   "cell_type": "markdown",
   "metadata": {
    "pycharm": {}
   },
   "source": [
    "## 4.1.古典概型的特点\n",
    "1. 试验的样本空间包含有限个元素。\n",
    "2. 试验中每个基本事件发生的可能性相同。\n",
    "具有以上两个特点的试验称为等可能概型，也叫做古典概型"
   ]
  },
  {
   "cell_type": "markdown",
   "metadata": {
    "pycharm": {}
   },
   "source": [
    "## 4.2.古典概型计算方法\n",
    "设E是一个有n个基本事件的等可能模型：$S=\\{e_1,e_2,...,e_n\\}$。由于在试验中每一个基本事件$e_i$发生的可能性相同，因此每一个基本事件发生的概率都是$\\frac{1}{n}$,即$P(e_i)=\\frac{1}{n}$"
   ]
  },
  {
   "cell_type": "markdown",
   "metadata": {
    "pycharm": {}
   },
   "source": [
    "## 4.3.例子\n",
    "> 将一枚硬币抛掷三次。\n",
    "> 1. 设事件A为‘恰有一次出现正面’,求$P(A)$.\n",
    "> 2. 设事件B为‘至少又一次出现正面’,求$P(B)$.\n",
    "\n",
    "抛掷三次硬币的结果可能有$2^3=8$次结果，这就是样本空间的个数,$N(S)=8$。\n",
    "1. 恰有一次出现正面有3种可能，所以事件A就有三个基本事件，那么$P(A)=\\frac{3}{8}$\n",
    "2. 至少有一次出现正面有7种可能(因为只有TTT这种组合是不对的)，所以事件B就有七个基本事件，那么$P(B)=\\frac{7}{8}$."
   ]
  },
  {
   "cell_type": "markdown",
   "metadata": {
    "pycharm": {}
   },
   "source": [
    "> 一个口袋装有6只球，其中4只白球，2只黑球。从袋中取两次，每次随机的取一只。考虑两种取球方式：放回抽样和不放回抽样\n",
    "> 1. 两种方式下，取到两只白球的概率\n",
    "> 2. 两种方式下，取到两只同色球的概率\n",
    "> 3. 两种方式下，至少取到一只白球的概率\n",
    "\n",
    "1. 放回抽样下，样本空间有$6 \\times 6=36$个基本事件，那么第一次取到白球有4种情况，第二次取到白球也有4种情况，所以事件A的基本事件有$4 \\times 4=16$个，$P(A)=\\frac{16}{36}=\\frac{4}{9}$。另外一种思路，第一次取到白球的概率是$\\frac{4}{6}=\\frac{2}{3}$，同样第二次取到白球的概率还是$\\frac{2}{3}$，根据乘法原理，两次都取到白球的概率就是$\\frac{2}{3} \\times \\frac{2}{3}=\\frac{4}{9}$。不放回抽样下，样本空间有$6 \\times 5 = 30$个基本事件，那么第一次取到白球有4种情况，第二次取到白球有3种情况，所以事件A的基本事件只有12个，有$P(A)=\\frac{12}{30}=\\frac{2}{5}$。另外一种思路，第一次取到白球的概率还是$\\frac{2}{3}$，但第二次取到白球的概率变成了$\\frac{3}{5}$，所以两次都取到白球的概率是$\\frac{2}{3} \\times \\frac{3}{5}=\\frac{2}{5}$\n",
    "2. 放回抽样下，样本空间有36个基本事件，两次取到同色球的基本事件有$4 \\times 4 + 2 \\times 2=20$，所以$P(B)=\\frac{20}{36}=\\frac{5}{9}$。另一种思路，两次都取到白球的概率是$\\frac{4}{9}$，两次都取到黑球的概率是$\\frac{2}{6} \\times \\frac{2}{6}=\\frac{1}{9}$，那么两次取到同色球的概率就是$\\frac{5}{9}$。不放回抽样下，样本空间有30个基本事件，两次都取到白球的基本事件有12个，两次都取到黑球的基本事件有2个，所以两次取到同色求的基本事件有14个，就有$P(B)=\\frac{14}{30}=\\frac{7}{15}$\n",
    "3. 放回抽样下，取到两只黑球的概率我们已经知道是$\\frac{1}{9}$了，那么$P(C)=1-P(B)=\\frac{8}{9}$。不放回抽样下，取到两只黑球的概率是$\\frac{2}{6} \\times \\frac{1}{5}=\\frac{1}{15}$，那么$P(C)=\\frac{14}{15}$"
   ]
  },
  {
   "cell_type": "markdown",
   "metadata": {
    "pycharm": {}
   },
   "source": [
    "> 将n只球随机地放入m个盒子中$m \\geq n$，试求每个黑子至多有一只球的概率。\n",
    "\n",
    "每个球都可以放入m个盒子中的任何一个，所以样本空间有$m^n$个基本事件。第一只球可以放入m个盒子中，第二只球只能放入$m-1$个盒子中，于是事件A的基本事件只有$m \\times (m-1) \\times ... \\times [m-(n-1)]$，也就是$A_m^n$，那么概率就是$P(A)=\\frac{A_m^n}{m^n}$"
   ]
  },
  {
   "cell_type": "markdown",
   "metadata": {
    "pycharm": {}
   },
   "source": [
    "# 5.条件概率"
   ]
  },
  {
   "cell_type": "markdown",
   "metadata": {
    "pycharm": {}
   },
   "source": [
    "## 5.1.条件概率\n",
    "条件概率是指在一个事件已经发生的条件下，另一个事件发生的概率。\n",
    "$$P(B|A)=\\frac{P(AB)}{P(A)}=\\frac{N(AB)}{N(A)}$$\n",
    "意义就是B中的样本点数，在A中样本点数中所占的比例"
   ]
  },
  {
   "cell_type": "markdown",
   "metadata": {
    "pycharm": {}
   },
   "source": [
    "> 将一枚硬币抛掷两次，设事件A表示\"至少有一次出现正面\"，事件B表示\"两次都出现同一面\",求两个事件的概率\n",
    "\n",
    "1. 样本空间有4个基本事件，事件A的基本事件个数为3，所以$P(A)=\\frac{3}{4}$。事件B的基本事件个数为2，所以$P(B)=\\frac{1}{2}$\n",
    "2. 若已知A发生的条件下，B发生的概率是多少呢？我们知道若A已经发生，那么样本空间的基本事件只有3个了，其中有利于B的基本事件只有1个，所以概率就成了$P(B|A) = \\frac{1}{3}$"
   ]
  },
  {
   "cell_type": "markdown",
   "metadata": {
    "pycharm": {}
   },
   "source": [
    "> 一个箱子中有4件产品，其中3件为一等品，1件为二等品，从中取产品两次，每次取一件不放回。设事件A是'第一次取到的是一等品'，事件B是'第二次取到的是一等品'，求概率$P(A),P(B),P(AB),P(B|A),P(A|B)$\n",
    "\n",
    "我们可以知道\n",
    "1. $N(S)=4 \\times 3=12$\n",
    "2. $N(A)=C_3^1 \\times C_3^1=9$\n",
    "3. $N(B)=C_1^1 \\times C_3^1+C_3^1 \\times C_2^1=1 \\times 3 + 3 \\times 2=9$\n",
    "4. $N(AB)=C_3^1 \\times C_2^1=6$\n",
    "所以有$P(A)=\\frac{3}{4}=P(B)$，$P(AB)=\\frac{6}{12}=\\frac{1}{2}$,$P(B|A)=\\frac{P(AB)}{P(A)}=\\frac{\\frac{1}{2}}{\\frac{3}{4}}=\\frac{2}{3}$,$P(A|B)=\\frac{P(AB)}{P(B)}=\\frac{2}{3}$"
   ]
  },
  {
   "cell_type": "markdown",
   "metadata": {
    "pycharm": {}
   },
   "source": [
    "## 5.2.乘法公式\n",
    "两个事件同时发生的概率等于第一个事件的概率乘以第一个时间发生条件下第二个事件的条件概率，即\n",
    "$$P(AB)=P(A) \\times P(B|A)$$"
   ]
  },
  {
   "cell_type": "markdown",
   "metadata": {
    "pycharm": {}
   },
   "source": [
    "> 某商店出售的灯泡中，甲厂的占70%,乙厂占30%,已知甲厂的灯泡合格率是95%，乙厂的灯泡合格率是80%。求以下概率\n",
    "- 从该商场买到一个灯泡是甲厂的合格灯泡的概率\n",
    "- 从该商场买到一个灯泡是乙厂的喝个灯泡的概率\n",
    "\n",
    "设事件A为甲厂灯泡，B为乙厂灯泡，C为合格灯泡，则有\n",
    "$$\n",
    "\\begin{cases}\n",
    "P(A)=0.7\\\\\\\\\n",
    "P(B)=0.3\\\\\\\\\n",
    "P(C|A)=0.95\\\\\\\\\n",
    "P(C|B)=0.8\n",
    "\\end{cases}\n",
    "$$\n",
    "则甲厂的合格灯泡概率$P(AC)=P(A) \\times P(C|A)=0.7 \\times 0.95 = 0.665$，乙厂的合格灯泡概率为$P(BC)=P(B) \\times P(C|B)=0.3 \\times 0.8=0.24$"
   ]
  },
  {
   "cell_type": "markdown",
   "metadata": {
    "pycharm": {}
   },
   "source": [
    "## 5.3.全概率\n",
    "设试验E的样本空间为S，$B_1,B_2,...,B_n$为S上的一个完备事件组，且$P(B_i)>0,i=1,2,...,n$，A为E的一个事件，则有$$\n",
    "P(A=P(B_1)P(A|B_1)+P(B_2)P(A|B_2)+...+P(B_n)P(A|B_n)\n",
    "$$\n",
    "也可以写作$$\n",
    "P(A=\\sum_{i=1}^nP(B_i)P(A|B_i)\n",
    "$$\n",
    "![jupyter](images/01_001.png)"
   ]
  },
  {
   "cell_type": "markdown",
   "metadata": {
    "pycharm": {}
   },
   "source": [
    "一电器商店出售两家工厂生产的电视机，甲厂的电视机占70%，乙厂占30%，甲厂的电视机合格率为95%，乙厂的合格率为80%，求盖上点所售电视机的合格率。"
   ]
  },
  {
   "cell_type": "markdown",
   "metadata": {},
   "source": [
    "设A为‘合格电视机’，B为‘甲厂的电视机’，C为‘乙厂的电视机’。有$P(B)=0.7,P(C)=0.3$，且有$P(A|B)=0.95,P(A|C)=0.8$，于是就有$P(A)=P(B)P(A|B)+P(C)P(A|C)=0.7*0.95+0.3*0.8=0.905$"
   ]
  },
  {
   "cell_type": "markdown",
   "metadata": {
    "pycharm": {}
   },
   "source": [
    "有12个足球都是新球，每次比赛时取出3个，比赛后又放回去，求第三次比赛时取到的3个足球都是新球的概率。"
   ]
  },
  {
   "cell_type": "markdown",
   "metadata": {},
   "source": [
    "我们仔细分析得知，第三次取到新球的概率，是受到第二次取到的新球的个数影响的。所以最后的概率是第二次取到新球概率的全概率。我们设置$B_i$分别表示第二次比赛时取到i个新球(i=0,1,2,3)。A表示第三次比赛取到3个新球，要求的是$P(A)$.第一次比赛取出三个新球，那么第二次比赛的时候就有9个新球3个旧球。那么样本空间就有\n",
    "$$\n",
    "\\begin{cases}\n",
    "N(\\Omega)&=C_{12}^3\\\\\\\\\n",
    "N(B_0)&=C_9^0 \\times C_3^3\\\\\\\\\n",
    "N(B_1)&=C_9^1 \\times C_3^2\\\\\\\\\n",
    "N(B_2)&=C_9^2 \\times C_3^1\\\\\\\\\n",
    "N(B_3)&=C_9^3 \\times C_3^0\n",
    "\\end{cases}\n",
    "$$"
   ]
  },
  {
   "cell_type": "markdown",
   "metadata": {},
   "source": [
    "由此得到$P(B_i)=\\frac{C_9^iC_3^{3-i}}{C_{12}^3},i=0,1,2,3$，由于第二场比赛取出i个新球，那么第三场比赛取出新球的取法有$C_{9-i}^3$，那么条件概率有$P(A|B_i)=\\frac{C_{9-i}^3}{C_{12}^3}$，于是就有\n",
    "$$\n",
    "P(A)=\\sum_{i=0}^3P(B_i)P(A|B_i)=\\sum_{i=0}^3\\frac{C_9^iC_3^{3-i}}{C_{12}^3} \\times \\frac{C_{9-i}^3}{C_{12}^3} \\approx 0.146\n",
    "$$"
   ]
  },
  {
   "cell_type": "markdown",
   "metadata": {
    "pycharm": {}
   },
   "source": [
    "## 5.4.贝叶斯公式\n",
    "设试验E的样本空间为S，$B_1,B_2,...,B_n$为S的一个完备事件组，A为E的一个事件，则有\n",
    "$$\n",
    "P(B_i|A)=\\frac{P(B_i)P(A|B_i)}{P(A)}=\\frac{P(B_i)P(A|B_i)}{\\sum_{j=1}^nP(B_j)P(A|B_j)},i=1,2,...,n\n",
    "$$"
   ]
  },
  {
   "cell_type": "markdown",
   "metadata": {
    "pycharm": {}
   },
   "source": [
    "设机器调整的良好时，产品的合格率为95%，二挡机器发生某种故障时，其合格率为50%。设机器调整良好的概率为90%，已知某日生产的第一件是合格品，求机器调整良好的概率。"
   ]
  },
  {
   "cell_type": "markdown",
   "metadata": {},
   "source": [
    "设A表示‘产品合格’，B表示’机器调整良好‘，则$P(B)=0.9,P(\\overline{B})=0.1$，我们要求的是$P(B|A)$。我们知道$P(A|B)=0.95,P(A|\\overline{B})=0.5$。则$$\n",
    "P(B|A)=\\frac{P(B)P(A|B)}{P(A)}=\\frac{P(B)P(A|B)}{P(B)P(A|B)+P(\\overline{B})P(A|\\overline{B})}=\\frac{0.9 * 0.95}{0.9 * 0.95 + 0.1 * 0.5} \\approx 0.945\n",
    "$$\n",
    "$P(B|A)$叫做后验概率，$P(A),P(B)$叫做先验概率，$P(A|B)$叫做相似度。后验概率就是说总体事件已经发生了，求导致它发生的其中某一个基本事件发生的概率。"
   ]
  },
  {
   "cell_type": "markdown",
   "metadata": {
    "pycharm": {}
   },
   "source": [
    "某电子设备制造厂所用的原件是由三家元件制造厂提供的，根据以往的记录，有以下数据\n",
    "\n",
    "| 原件制造厂 | 提供原件配额 | 次品率 |\n",
    "| -------- | ---------- | ------ |\n",
    "| 1厂 | 15% | 2% |\n",
    "| 2厂 | 80% | 1% |\n",
    "| 3厂 | 5%  | 3% |"
   ]
  },
  {
   "cell_type": "markdown",
   "metadata": {},
   "source": [
    "设这些产品是混合存放在仓库中，且无区分标志。\n",
    "- 在仓库中随机取一只原件，求它是次品的概率\n",
    "- 该次品是某厂提供的概率"
   ]
  },
  {
   "cell_type": "markdown",
   "metadata": {},
   "source": [
    "设A表示’取到一只次品‘，$B_i$分别表示’取到一只产品是i厂提供的‘，可知$i=1,2,3$，那么就有$P(B_1)=0.15,P(B_2)=0.8,P(B_3)=0.05$，且有$P(A|B_1)=0.02,P(A|B_2)=0.01,P(A|B_3)=0.03$\n",
    "1. 就有\n",
    "$$\n",
    "\\begin{split}\n",
    "P(A)&=P(B_1)P(A|B_1)+P(B_2)P(A|B_2)+P(B_3)P(A|B_3)\\\\\\\\\n",
    "&=0.15 * 0.02 + 0.8 * 0.01 + 0.05 * 0.03\\\\\\\\\n",
    "&=0.0125\n",
    "\\end{split}\n",
    "$$"
   ]
  },
  {
   "cell_type": "markdown",
   "metadata": {},
   "source": [
    "有\n",
    "$$\n",
    "\\begin{split}\n",
    "P(B_1|A)&=\\frac{P(B_1)P(A|B_1)}{P(A)}=\\frac{0.15 * 0.02}{0.0125}=0.24\\\\\\\\\n",
    "P(B_2|A)&=\\frac{P(B_2)P(A|B_2)}{P(A)}=\\frac{0.8 * 0.01}{0.0125}=0.64\\\\\\\\\n",
    "P(B_3|A)&=\\frac{P(B_3)P(A|B_1)}{P(A)}=\\frac{0.05 * 0.03}{0.0125}=0.12\\\\\\\\\n",
    "\\end{split}\n",
    "$$\n",
    "这就说明，如果我抽到一个次品，那么该次品是2厂生产的概率最大。"
   ]
  },
  {
   "cell_type": "markdown",
   "metadata": {
    "pycharm": {}
   },
   "source": [
    "# 6.独立性\n",
    "设A，B是两个事件，如果它们满足等式$P(AB)=P(A)P(B)$，则称事件A与B相互独立，简称A，B独立。直观的讲，两个事件相互独立是指一个事件发生的概率不受另一个事件发生与否的影响。"
   ]
  },
  {
   "cell_type": "markdown",
   "metadata": {
    "collapsed": false,
    "pycharm": {
     "name": "#%% md\n"
    }
   },
   "source": [
    "如果$P(B|A)=P(B)$,那么A，B独立"
   ]
  },
  {
   "cell_type": "markdown",
   "metadata": {
    "collapsed": false,
    "pycharm": {
     "name": "#%% md\n"
    }
   },
   "source": [
    "同样的，如果A，B独立，那么$A$与$\\overline{B}$，$\\overline{A}$与B，$\\overline{A}$与$\\overline{B}$也是相互独立的。"
   ]
  },
  {
   "cell_type": "markdown",
   "metadata": {
    "pycharm": {}
   },
   "source": [
    "如果$A_1,A_2,...,A_n$相互独立，那么就有\n",
    "$$p(A_1+A_2+...+A_n)=1-\\prod_{i=1}^nP(\\overline{A_i})$$"
   ]
  },
  {
   "cell_type": "markdown",
   "metadata": {
    "pycharm": {
     "name": "#%% md\n"
    }
   },
   "source": [
    "三人独立地射击一次，设击中目标的概率为0.3,0.5,0.7，求\n",
    "- 目标被击中的概率\n",
    "- 目标被两次击中的概率"
   ]
  },
  {
   "cell_type": "markdown",
   "metadata": {},
   "source": [
    "设A，B，C分别表示三个人击中目标，可知A，B，C相互独立，那么目标被击中就是$A+B+C$，于是就有\n",
    "$$\n",
    "P(A+B+C)=1-P(\\overline{A})P(\\overline{B})P(\\overline{C})=1-0.7*0.5*0.3=0.895\n",
    "$$\n",
    "目标被两次击中就是$AB\\overline{C}+A\\overline{B}C+\\overline{A}BC$，就有\n",
    "$$\n",
    "\\begin{split}\n",
    "P(AB\\overline{C}+A\\overline{B}C+\\overline{A}BC)&=P(AB\\overline{C})+P(A\\overline{B}C)+P(\\overline{A}BC)\\\\\\\\\n",
    "&=P(A)P(B)+P(\\overline{C})+P(A)P(\\overline{B})P(C)+P(\\overline{A})P(B)P(C)\\\\\\\\\n",
    "&=0.395\n",
    "\\end{split}\n",
    "$$"
   ]
  }
 ],
 "metadata": {
  "kernelspec": {
   "display_name": "Python 3",
   "language": "python",
   "name": "python3"
  },
  "language_info": {
   "codemirror_mode": {
    "name": "ipython",
    "version": 3
   },
   "file_extension": ".py",
   "mimetype": "text/x-python",
   "name": "python",
   "nbconvert_exporter": "python",
   "pygments_lexer": "ipython3",
   "version": "3.6.8"
  },
  "pycharm": {
   "stem_cell": {
    "cell_type": "raw",
    "source": [
     "01#%% md\n",
     "概率论的基本概念\n",
     "==="
    ],
    "metadata": {
     "collapsed": false
    }
   }
  }
 },
 "nbformat": 4,
 "nbformat_minor": 1
}