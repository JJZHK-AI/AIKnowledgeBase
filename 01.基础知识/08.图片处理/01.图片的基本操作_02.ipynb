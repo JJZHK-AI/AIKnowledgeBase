{
 "cells": [
  {
   "cell_type": "markdown",
   "metadata": {
    "collapsed": true,
    "pycharm": {
     "name": "#%% md\n"
    }
   },
   "source": [
    "# 1.图片规则裁剪"
   ]
  },
  {
   "cell_type": "code",
   "execution_count": null,
   "outputs": [],
   "source": [
    "import cv2\n",
    "import matplotlib.pyplot as plt\n",
    "images1 = cv2.imread(\"data/01.jpg\", 0)\n",
    "images2 = cv2.imread(\"data/02.jpg\", 1)\n",
    "dst = images2[205:345, 145:195] # [x1:x2, y1:y2]\n",
    "plt.figure(figsize=(10,5), facecolor='w')\n",
    "show_img2 = cv2.cvtColor(dst, cv2.COLOR_BGR2RGB)\n",
    "plt.imshow(show_img2)"
   ],
   "metadata": {
    "collapsed": false,
    "pycharm": {
     "name": "#%%\n"
    }
   }
  },
  {
   "cell_type": "markdown",
   "source": [
    "# 6.图片不规则裁剪"
   ],
   "metadata": {
    "collapsed": false
   }
  },
  {
   "cell_type": "code",
   "execution_count": null,
   "outputs": [],
   "source": [
    "import numpy as np\n",
    "img = cv2.imread(\"data/02.jpg\", cv2.IMREAD_UNCHANGED)\n",
    "height, width, channel = img.shape\n",
    "img_new = np.zeros((height, width, 4), dtype=np.uint8)\n",
    "img_new[:, :, 0:3] = img[:, :, 0:3]\n",
    "img_circle = np.zeros((height, width, 1), dtype=np.uint8)\n",
    "img_circle[:, :, :] = 0\n",
    "img_circle = cv2.circle(img_circle, (width // 2, height // 2), int(min(height, width) / 2), 255, -1)\n",
    "img_new[:, :, 3] = img_circle[:, :, 0]\n",
    "\n",
    "plt.figure(figsize=(10,5), facecolor='w')\n",
    "unReg = cv2.cvtColor(img_new, cv2.COLOR_BGR2RGBA)\n",
    "plt.imshow(unReg)"
   ],
   "metadata": {
    "collapsed": false,
    "pycharm": {
     "name": "#%%\n"
    }
   }
  },
  {
   "cell_type": "markdown",
   "source": [
    "# 7.通道转换"
   ],
   "metadata": {
    "collapsed": false
   }
  },
  {
   "cell_type": "markdown",
   "source": [
    "读取图像，然后将RGB通道替换成BGR通道。opencv默认是按照BGR来读取图片的，下面代码将BGR转换成RGB然后显示"
   ],
   "metadata": {
    "collapsed": false
   }
  },
  {
   "cell_type": "code",
   "execution_count": null,
   "outputs": [],
   "source": [
    "import cv2\n",
    "import matplotlib.pyplot as plt\n",
    "\n",
    "img = cv2.imread(\"data/02.jpg\")\n",
    "b = img[:, :, 0].copy()\n",
    "g = img[:, :, 1].copy()\n",
    "r = img[:, :, 2].copy()\n",
    "\n",
    "# BGR > RGB\n",
    "img[:, :, 0] = r\n",
    "img[:, :, 1] = g\n",
    "img[:, :, 2] = b\n",
    "\n",
    "plt.figure(figsize=(10,5), facecolor='w')\n",
    "show_img1 = cv2.cvtColor(img, cv2.COLOR_BGR2RGB)\n",
    "plt.imshow(img)\n",
    "\n"
   ],
   "metadata": {
    "collapsed": false,
    "pycharm": {
     "name": "#%%\n"
    }
   }
  }
 ],
 "metadata": {
  "kernelspec": {
   "display_name": "Python 3",
   "language": "python",
   "name": "python3"
  },
  "language_info": {
   "codemirror_mode": {
    "name": "ipython",
    "version": 2
   },
   "file_extension": ".py",
   "mimetype": "text/x-python",
   "name": "python",
   "nbconvert_exporter": "python",
   "pygments_lexer": "ipython2",
   "version": "2.7.6"
  }
 },
 "nbformat": 4,
 "nbformat_minor": 0
}