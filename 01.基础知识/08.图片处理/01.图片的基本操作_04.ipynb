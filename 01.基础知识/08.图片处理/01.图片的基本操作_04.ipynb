{
 "cells": [
  {
   "cell_type": "markdown",
   "metadata": {
    "collapsed": true,
    "pycharm": {
     "name": "#%% md\n"
    }
   },
   "source": [
    "# 1.减色处理\n",
    "这里我们将图像的值由$256^3$压缩至$4^3$，即将RGB的值只取$\\{32, 96, 160, 224\\}$。这被称作色彩量化。具体定义如下:\n",
    "$$\n",
    "\\begin{cases}\n",
    "32 & 0 \\leq val < 64 \\\\\n",
    "96 & 64 \\leq val < 128 \\\\\n",
    "160 & 128 \\leq val < 192 \\\\\n",
    "224 & 192 \\leq val < 256\n",
    "\\end{cases}\n",
    "$$"
   ]
  },
  {
   "cell_type": "code",
   "execution_count": null,
   "outputs": [],
   "source": [
    "import cv2\n",
    "import matplotlib.pyplot as plt\n",
    "\n",
    "# Read image\n",
    "img = cv2.imread(\"data/02.jpg\")\n",
    "\n",
    "out = (img // 64) * 64 + 32\n",
    "\n",
    "plt.figure(figsize=(10,5), facecolor='w')\n",
    "plt.subplot(1, 2, 1)\n",
    "show_img1 = cv2.cvtColor(img, cv2.COLOR_BGR2RGB)\n",
    "plt.imshow(show_img1)\n",
    "\n",
    "plt.subplot(1, 2, 2)\n",
    "show_img2 = cv2.cvtColor(out, cv2.COLOR_BGR2RGB)\n",
    "plt.imshow(show_img2)"
   ],
   "metadata": {
    "collapsed": false,
    "pycharm": {
     "name": "#%%\n"
    }
   }
  },
  {
   "cell_type": "markdown",
   "source": [
    "# 2.平均池化\n",
    "将图片按照固定大小网格分割，网格内的像素值取网格内所有像素的平均值。我们将这种把图片使用均等大小网格分割，并求网格内代表值的操作称为池化(Pooling)"
   ],
   "metadata": {
    "collapsed": false
   }
  },
  {
   "cell_type": "markdown",
   "source": [
    "池化操作是卷积神经网络(Convolutional Neural Network)中重要的图像处理方式。平均池化按照下式定义：\n",
    "$$v = \\frac{1}{|R|} \\times Sum_{i \\in R}v_i$$"
   ],
   "metadata": {
    "collapsed": false
   }
  },
  {
   "cell_type": "code",
   "execution_count": null,
   "outputs": [],
   "source": [
    "import cv2\n",
    "import matplotlib.pyplot as plt\n",
    "import numpy as np\n",
    "\n",
    "img = cv2.imread(\"data/02.jpg\")\n",
    "out = img.copy()\n",
    "\n",
    "H,W,C = img.shape\n",
    "G = 8\n",
    "Nh = int(H/G)\n",
    "Nw = int(W/G)\n",
    "for y in range(Nh):\n",
    "    for x in range(Nw):\n",
    "        for c in range(C):\n",
    "            out[G*y:G*(y+1), G*x:G*(x+1), c] = np.mean(out[G*y:G*(y+1), G*x:G*(x+1), c]).astype(np.int)\n",
    "\n",
    "plt.figure(figsize=(10,5), facecolor='w')\n",
    "plt.subplot(1, 2, 1)\n",
    "show_img1 = cv2.cvtColor(img, cv2.COLOR_BGR2RGB)\n",
    "plt.imshow(show_img1)\n",
    "\n",
    "plt.subplot(1, 2, 2)\n",
    "show_img2 = cv2.cvtColor(out, cv2.COLOR_BGR2RGB)\n",
    "plt.imshow(show_img2)"
   ],
   "metadata": {
    "collapsed": false,
    "pycharm": {
     "name": "#%%\n"
    }
   }
  },
  {
   "cell_type": "markdown",
   "source": [
    "# 3.最大池化\n",
    "网格内的值不取平均值，而是取网格内的最大值进行池化操作"
   ],
   "metadata": {
    "collapsed": false
   }
  },
  {
   "cell_type": "code",
   "execution_count": null,
   "outputs": [],
   "source": [
    "import cv2\n",
    "import matplotlib.pyplot as plt\n",
    "import numpy as np\n",
    "\n",
    "img = cv2.imread(\"data/02.jpg\")\n",
    "out = img.copy()\n",
    "\n",
    "H,W,C = img.shape\n",
    "G = 8\n",
    "Nh = int(H/G)\n",
    "Nw = int(W/G)\n",
    "for y in range(Nh):\n",
    "    for x in range(Nw):\n",
    "        for c in range(C):\n",
    "            out[G*y:G*(y+1), G*x:G*(x+1), c] = np.max(out[G*y:G*(y+1), G*x:G*(x+1), c]).astype(np.int)\n",
    "\n",
    "plt.figure(figsize=(10,5), facecolor='w')\n",
    "plt.subplot(1, 2, 1)\n",
    "show_img1 = cv2.cvtColor(img, cv2.COLOR_BGR2RGB)\n",
    "plt.imshow(show_img1)\n",
    "\n",
    "plt.subplot(1, 2, 2)\n",
    "show_img2 = cv2.cvtColor(out, cv2.COLOR_BGR2RGB)\n",
    "plt.imshow(show_img2)\n",
    "\n"
   ],
   "metadata": {
    "collapsed": false,
    "pycharm": {
     "name": "#%%\n"
    }
   }
  },
  {
   "cell_type": "markdown",
   "source": [
    "# 4.伽玛矫正"
   ],
   "metadata": {
    "collapsed": false
   }
  },
  {
   "cell_type": "markdown",
   "source": [
    "伽马校正用来对照相机等电子设备传感器的非线性光电转换特性进行校正。如果图像原样显示在显示器等上，画面就会显得很暗。伽马校正通过预先增大RGB的值来排除显示器的影响，达到对图像修正的目的。由于$x'=cI_{in}^g$引起非线性变换，在该式中，$x$被归一化，限定在$[0,1]$范围内。$c$是常数，$g$为伽马变量（通常取2.2），因此，使用下面的式子进行伽马校正\n",
    "$$I_{out} ={\\frac{1}{c}I_{in}}^{\\frac{1}{g}}$$"
   ],
   "metadata": {
    "collapsed": false
   }
  },
  {
   "cell_type": "markdown",
   "source": [
    "| 显示屏上的图像显示 | $\\gamma$修正值|\n",
    "| --------------- | ------------ |\n",
    "| ![images](Images/01_001.jpg) | ![images](Images/01_002.jpg) |"
   ],
   "metadata": {
    "collapsed": false
   }
  },
  {
   "cell_type": "code",
   "execution_count": null,
   "outputs": [],
   "source": [
    "import cv2\n",
    "import matplotlib.pyplot as plt\n",
    "import numpy as np\n",
    "\n",
    "img = cv2.imread(\"data/02.jpg\")\n",
    "\n",
    "out = img.astype(np.float).copy()\n",
    "out /= 255.\n",
    "out = (1/1 * out) ** (1/2.2)\n",
    "out *= 255\n",
    "out = out.astype(np.uint8)\n",
    "\n",
    "plt.figure(figsize=(10,5), facecolor='w')\n",
    "plt.subplot(1, 2, 1)\n",
    "show_img1 = cv2.cvtColor(img, cv2.COLOR_BGR2RGB)\n",
    "plt.imshow(show_img1)\n",
    "\n",
    "plt.subplot(1, 2, 2)\n",
    "show_img2 = cv2.cvtColor(out, cv2.COLOR_BGR2RGB)\n",
    "plt.imshow(show_img2)\n",
    "\n",
    "\n"
   ],
   "metadata": {
    "collapsed": false,
    "pycharm": {
     "name": "#%%\n"
    }
   }
  }
 ],
 "metadata": {
  "kernelspec": {
   "display_name": "Python 3",
   "language": "python",
   "name": "python3"
  },
  "language_info": {
   "codemirror_mode": {
    "name": "ipython",
    "version": 2
   },
   "file_extension": ".py",
   "mimetype": "text/x-python",
   "name": "python",
   "nbconvert_exporter": "python",
   "pygments_lexer": "ipython2",
   "version": "2.7.6"
  }
 },
 "nbformat": 4,
 "nbformat_minor": 0
}