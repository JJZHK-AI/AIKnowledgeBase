{
 "cells": [
  {
   "cell_type": "markdown",
   "execution_count": null,
   "metadata": {
    "collapsed": true
   },
   "outputs": [],
   "source": [
    "模式匹配\n",
    "==="
   ]
  },
  {
   "cell_type": "markdown",
   "execution_count": null,
   "metadata": {},
   "outputs": [],
   "source": [
    "# 1.模式匹配\n",
    "图像匹配是指图像之间的比较，得到不同图像之间的相似度，在机器识别的过程中把不同传感器或同一传感器在不同时间、不同成像条件下对同一景物获得的两幅或多幅图像在空间上对准，或根据已知模式到另一幅图中寻找对应的模式。匹配方法大体分为基于**灰度**和基于**特征**两类，其中基于特征的配准方法研究较多。模式匹配，即寻找待匹配图像和全体图像中最相似的部分，用于物体检测任务。现在虽然使用卷积神经网络（CNN）来检测物体，但是模式识别仍然是最基本的处理方法。"
   ]
  },
  {
   "cell_type": "markdown",
   "execution_count": null,
   "metadata": {},
   "outputs": [],
   "source": [
    "# 2.具体算法\n",
    "原图像记为$I(H \\times W)$，待匹配图像为$T(h \\times w)$\n",
    "- 对于图像$I$有$for ( j = 0, H-h) for ( i = 0, W-w)$在一次移动1像素的过程中，原图像$I$的一部分$I(i:i+w,j:j+h)$与待匹配图像计算相似度$S$。\n",
    "- $S$最大或最小的地方即为匹配的位置。"
   ]
  },
  {
   "cell_type": "markdown",
   "execution_count": null,
   "metadata": {},
   "outputs": [],
   "source": [
    "$S$的计算方法有如下四种方法，对于不同的方法，我们需要选择出最大值或者最小值。像模式匹配这样，从图像的左上角开始往右进行顺序查找的操作一般称作光栅扫描(Raster Scan)或者滑动窗口扫描"
   ]
  },
  {
   "cell_type": "markdown",
   "execution_count": null,
   "metadata": {},
   "outputs": [],
   "source": [
    "# 3.误差平方和算法-Sum of Squared Difference\n",
    "这个方法计算像素值的差的平方和，$S$取误差平方和最小的地方\n",
    "$$S=\\sum_{x=0}^w\\sum_{y=0}^h[I(i+x,j+y) - T(x,y)]^2$$"
   ]
  },
  {
   "cell_type": "code",
   "execution_count": null,
   "metadata": {},
   "outputs": [],
   "source": []
  },
  {
   "cell_type": "markdown",
   "execution_count": null,
   "metadata": {},
   "outputs": [],
   "source": [
    "# 4.绝对值差和-Sum of Absolute Differences\n",
    "绝对值差和计算像素值差的绝对值之和，选取S最小的位置作为匹配\n",
    "$$S=\\sum_{x=0}^w\\sum_{y=0}^h\\left |I(i+x,j+y) - T(x,y) \\right|$$"
   ]
  },
  {
   "cell_type": "markdown",
   "execution_count": null,
   "metadata": {},
   "outputs": [],
   "source": [
    "# 5.归一化交叉相关-Normalization Cross Correlation\n",
    "归一化交叉相关求出两个图像的相似度，匹配S最大处的图像:\n",
    "$$S=\\frac{\\sum_{x=0}^w \\sum_{y=0}^h \\left |I(i+x,j+y) \\times T(x,y) \\right|}{\\sqrt{\\sum_{x=0}^w \\sum_{y=0}^h I(i+x,j+y)^2 } \\times \\sqrt{\\sum_{x=0}^w \\sum_{y=0}^h T(i,j)^2}}$$\n",
    "$S$最后的范围在$−1 \\leq S \\leq 1$"
   ]
  },
  {
   "cell_type": "markdown",
   "execution_count": null,
   "metadata": {},
   "outputs": [],
   "source": [
    "# 5.零均值归一化交叉相关-Zero-mean Normalization Cross Correlation\n",
    "零均值归一化交叉相关求出两个图像的相似度，匹配$S$最大处的图像。图像$I$的平均值记为$m_i$，图像$T$的平均值记为$m_t$。使用下式计算S：\n",
    "$$S=\\frac{\\sum\\limits_{x=0}^w\\ \\sum\\limits_{y=0}^h\\ |[I(i+x,j+y)-m_i]\\  [T(x,y)-m_t]}{\\sqrt{\\sum\\limits_{x=0}^w\\ \\sum\\limits_{y=0}^h\\ [I(i+x,j+y)-m_i]^2}\\  \\sqrt{\\sum\\limits_{x=0}^w\\ \\sum\\limits_{y=0}^h\\ [T(x,y)-m_t]^2}}$$"
   ]
  }
 ],
 "metadata": {
  "kernelspec": {
   "display_name": "Python 3",
   "language": "python",
   "name": "python3"
  },
  "language_info": {
   "codemirror_mode": {
    "name": "ipython",
    "version": 2
   },
   "file_extension": ".py",
   "mimetype": "text/x-python",
   "name": "python",
   "nbconvert_exporter": "python",
   "pygments_lexer": "ipython2",
   "version": "2.7.6"
  }
 },
 "nbformat": 4,
 "nbformat_minor": 0
}