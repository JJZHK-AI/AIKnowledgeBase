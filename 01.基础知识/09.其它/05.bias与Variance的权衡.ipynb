{
 "nbformat": 4,
 "nbformat_minor": 2,
 "metadata": {
  "language_info": {
   "name": "python",
   "codemirror_mode": {
    "name": "ipython",
    "version": 3
   }
  },
  "orig_nbformat": 2,
  "file_extension": ".py",
  "mimetype": "text/x-python",
  "name": "python",
  "npconvert_exporter": "python",
  "pygments_lexer": "ipython3",
  "version": 3
 },
 "cells": [
  {
   "cell_type": "markdown",
   "metadata": {},
   "source": [
    "bias 和 Variance 之间的权衡关系\n",
    "==="
   ]
  },
  {
   "cell_type": "markdown",
   "metadata": {},
   "source": [
    "# 1.bias\n",
    "bias是当前模型的平均预测与我们需要预测的实际结果之间的差异。一个高bias的模型表明它对训练数据的关注较少。这使得模型过于简单，在训练和测试中都没有达到很好的准确性。这种现象也被称为**欠拟合**"
   ]
  },
  {
   "cell_type": "markdown",
   "metadata": {},
   "source": [
    "# 2.Variance\n",
    "Variance可以简单理解为模型输出在一个数据点上的分布。Variance越大，模型越有可能密切关注训练数据，而不提供从未遇到过的数据的泛化。因此，该模型在训练数据集上取得了非常好的结果，但是与测试数据集相比，结果非常差，这就是**过拟合**的现象"
   ]
  },
  {
   "cell_type": "markdown",
   "metadata": {},
   "source": [
    "![images](Images/05_001.jpeg)"
   ]
  },
  {
   "cell_type": "markdown",
   "metadata": {},
   "source": [
    "圆的中心是一个模型，它完美地预测了精确的值。事实上，你从来没有发现过这么好的模型。当我们离圆的中心越来越远，我们的预测就越来越糟。我们可以改变模型，这样我们就可以尽可能地增加落入圆中心的模型猜测的数量。需要在偏差值和方差值之间取得平衡。如果我们的模型过于简单，参数很少，那么它可能有高偏差和低方差。另一方面，如果我们的模型有大量的参数，那么它就会有高方差和低偏差。这是我们在设计算法时计算模型复杂度的基础。"
   ]
  },
  {
   "cell_type": "markdown",
   "metadata": {},
   "source": [
    "![images](Images/05_002.jpeg)"
   ]
  }
 ]
}