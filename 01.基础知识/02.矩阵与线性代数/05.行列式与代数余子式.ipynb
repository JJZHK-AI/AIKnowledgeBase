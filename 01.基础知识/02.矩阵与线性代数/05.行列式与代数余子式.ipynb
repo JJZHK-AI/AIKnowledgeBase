{
 "cells": [
  {
   "cell_type": "markdown",
   "source": [
    "行列式与代数余子式\n",
    "==="
   ],
   "metadata": {
    "collapsed": true,
    "pycharm": {
     "name": "#%% md\n"
    }
   }
  },
  {
   "cell_type": "markdown",
   "source": [
    "# 1.行列式(deterninants)\n",
    "行列式是跟每个方阵都有关的数，记作$\\left|A\\right|$"
   ],
   "metadata": {
    "collapsed": false,
    "pycharm": {
     "name": "#%% md\n"
    }
   }
  },
  {
   "cell_type": "markdown",
   "source": [
    "- $\\left|I\\right|=1$\n",
    "- 如果交换矩阵的两行，那么它的行列式的值的符号相反，即$\\left|P\\right|=-\\left|A\\right|$.假如矩阵A是$\\left|\\begin{array}{cccc}\n",
    "  1 & 0 \\\\\\\\\n",
    "  0 & 1\n",
    "  \\end{array}\\right|$,那么交换两行之后$\\left|P\\right|=\\left|\\begin{array}{cccc}\n",
    "  0 & 1 \\\\\\\\\n",
    "  1 & 0\n",
    "  \\end{array}\\right|$,那么$\\left|P\\right|=-1$"
   ],
   "metadata": {
    "collapsed": false,
    "pycharm": {
     "name": "#%% md\n"
    }
   }
  },
  {
   "cell_type": "markdown",
   "source": [
    "- $\\left|\\begin{array}{cccc}\n",
    "  ta & tb \\\\\\\\\n",
    "  c & d\n",
    "  \\end{array}\\right|=t \\times \n",
    "  \\left|\\begin{array}{cccc}\n",
    "  a & b \\\\\\\\\n",
    "  c & d\n",
    "  \\end{array}\\right|$"
   ],
   "metadata": {}
  },
  {
   "cell_type": "markdown",
   "source": [
    "- 矩阵两行相等，那么行列式为0。如果矩阵有两行相等，那么根据性质2，可以交换这两行，所得到的的行列式值与原先的值得和为0，但是由于这两行相等，交换之后两个矩阵是一样的，那么就有\n",
    "  $$\n",
    "  \\begin{cases}\n",
    "  \\left|A\\right|+\\left|B\\right|&=0 \\\\\n",
    "  \\left|A\\right|=\\left|B\\right|\n",
    "  \\end{cases}\n",
    "  $$\n",
    "  所以行列式的值只能是0。所以可以知道，矩阵两行相等，那么就不可逆，它的秩小于n\n",
    "- 矩阵消元不影响行列式的值\n",
    "- 上三角阵的行列式，等于对角线元素的乘积，即\n",
    "$$\n",
    "\\left|U\\right|=\\left|\\begin{array}{cccc}\n",
    "d_{11} & d_{12} & d_{13} & \\cdots & d_{1n} \\\\\n",
    "0 & d_{22} & d_{23} & \\cdots & d_{2n} \\\\\n",
    "0 & 0 & d_{33} & \\cdots & d_{3n} \\\\\n",
    "\\vdots & \\vdots & \\ddots & \\vdots & \\vdots \\\\\n",
    "0 & 0 & 0 & \\cdots & d_{nn}\n",
    "\\end{array}\\right| =d_{11} \\times d_{22} \\times ... \\times d_{nn}\n",
    "$$"
   ],
   "metadata": {}
  },
  {
   "cell_type": "markdown",
   "source": [
    "- 行列式为零时，矩阵是奇异的\n",
    "- 矩阵可逆等价于行列式非零\n",
    "- $\\left|AB\\right|=\\left|A\\right| \\times \\left|B\\right|$\n",
    "- $\\left|A^{-1}\\right|=\\frac{1}{\\left|A\\right|}$\n",
    "- $\\left|A^2\\right|=\\left|A\\right|^2$\n",
    "- $\\left|2A\\right|=2^n\\left|A\\right|$\n",
    "- $\\left|A^T\\right|=\\left|A\\right|$"
   ],
   "metadata": {}
  },
  {
   "cell_type": "markdown",
   "source": [
    "# 2.代数余子式\n",
    "上一节我们介绍了求解行列式的一种方法，消元法，凑成上三角阵，然后对角线的乘积就是行列式的值。这一节介绍一种新的方法"
   ],
   "metadata": {
    "collapsed": false,
    "pycharm": {
     "name": "#%% md\n"
    }
   }
  },
  {
   "cell_type": "markdown",
   "source": [
    "## 2.1.二阶行列式与三阶行列式的求解"
   ],
   "metadata": {
    "collapsed": false,
    "pycharm": {
     "name": "#%% md\n"
    }
   }
  },
  {
   "cell_type": "markdown",
   "source": [
    "$$\n",
    "\\begin{split}\n",
    "\\left|\\begin{array}{cccc}\n",
    "a & b \\\\\n",
    "c & d\n",
    "\\end{array}\\right|&=\n",
    "\\left|\\begin{array}{cccc}\n",
    "a & 0 \\\\\n",
    "c & d\n",
    "\\end{array}\\right| + \n",
    "\\left|\\begin{array}{cccc}\n",
    "0 & b \\\\\n",
    "c & d\n",
    "\\end{array}\\right| \\\\\n",
    "&=\\left|\\begin{array}{cccc}\n",
    "a & 0 \\\\\n",
    "c & 0\n",
    "\\end{array}\\right|+\n",
    "\\left|\\begin{array}{cccc}\n",
    "a & 0 \\\\\n",
    "0 & d\n",
    "\\end{array}\\right| + \n",
    "\\left|\\begin{array}{cccc}\n",
    "0 & b \\\\\n",
    "c & 0\n",
    "\\end{array}\\right| + \n",
    "\\left|\\begin{array}{cccc}\n",
    "0 & b \\\\\n",
    "0 & d\n",
    "\\end{array}\\right| \\\\\n",
    "&=0+ad+(-bc)+0 \\\\\n",
    "&=ad-bc\n",
    "\\end{split}\n",
    "$$"
   ],
   "metadata": {}
  },
  {
   "cell_type": "markdown",
   "source": [
    "同样对于三阶行列式$\\left|\\begin{array}{cccc}\n",
    "a_{11} & a_{12} & a_{13} \\\\\n",
    "a_{21} & a_{22} & a_{23} \\\\\n",
    "a_{31} & a_{32} & a_{33}\n",
    "\\end{array}\\right|$而言"
   ],
   "metadata": {}
  },
  {
   "cell_type": "markdown",
   "source": [
    "1. 首先固定后两行，将第一行分解为$(a_{11},0,0)$,$(0,a_{12},0)$,$(0,0,a_{13})$。\n",
    "2. 依次固定一行，将此行分为3部分。\n",
    "3. 最终可以分为$3 \\times 3 \\times 3$共27部分，求解这27部分的值相加，就是最终结果\n",
    "4. 很多部分为零，我们最终要计算的就是那些不是0的部分，这些部分肯定要有两个性质，任何一行都不是0，任何一列也不是0。"
   ],
   "metadata": {}
  },
  {
   "cell_type": "markdown",
   "source": [
    "## 2.2.n阶行列式\n",
    "对于n阶行列式来说，最终剩下的不为零的项的个数为$n!$。\n",
    "$$\\left|A\\right|=\\sum\\pm a_{1\\alpha}a_{2\\beta}a_{3\\gamma}...a_{n\\omega}$$\n",
    "其中$\\alpha,\\beta,\\gamma,...\\omega$是$(1,2,...,n)$的排列"
   ],
   "metadata": {
    "collapsed": false,
    "pycharm": {
     "name": "#%% md\n"
    }
   }
  },
  {
   "cell_type": "markdown",
   "source": [
    "## 2.4.代数余子式\n",
    "对于$\\left|\\begin{array}{cccc}\n",
    "a_{11} & a_{12} & a_{13} \\\\\n",
    "a_{21} & a_{22} & a_{23} \\\\\n",
    "a_{31} & a_{32} & a_{33}\n",
    "\\end{array}\\right|$而言，它的值就是"
   ],
   "metadata": {
    "collapsed": false,
    "pycharm": {
     "name": "#%% md\n"
    }
   }
  },
  {
   "cell_type": "markdown",
   "source": [
    "$$\n",
    "\\begin{split}\n",
    "\\left|A\\right|&=a_{11} \\times (a_{22}a_{33}-a_{23}a_{32}) \\\\\n",
    "&+a_{12} \\times (a_{21}a_{33}-a_{23}a_{31}) \\\\\n",
    "&+a_{13} \\times (a_{21}a_{32}-a_{22}a_{31})\n",
    "\\end{split}\n",
    "$$\n",
    "$a_{ij}$的代数余子式就是讲矩阵中去除第i行第j列之后剩下的矩阵的行列式。"
   ],
   "metadata": {}
  }
 ],
 "metadata": {
  "language_info": {
   "codemirror_mode": {
    "name": "ipython",
    "version": 2
   },
   "file_extension": ".py",
   "mimetype": "text/x-python",
   "name": "python",
   "nbconvert_exporter": "python",
   "pygments_lexer": "ipython2",
   "version": "2.7.6"
  },
  "kernelspec": {
   "name": "python3",
   "language": "python",
   "display_name": "Python 3"
  },
  "pycharm": {
   "stem_cell": {
    "cell_type": "raw",
    "source": [],
    "metadata": {
     "collapsed": false
    }
   }
  }
 },
 "nbformat": 4,
 "nbformat_minor": 2
}