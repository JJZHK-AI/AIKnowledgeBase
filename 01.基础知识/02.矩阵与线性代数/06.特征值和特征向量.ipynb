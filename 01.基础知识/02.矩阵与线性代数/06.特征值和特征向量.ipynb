{
 "cells": [
  {
   "cell_type": "markdown",
   "metadata": {
    "collapsed": true,
    "pycharm": {
     "name": "#%% md\n"
    }
   },
   "source": [
    "特征值与特征向量\n",
    "==="
   ]
  },
  {
   "cell_type": "markdown",
   "metadata": {
    "collapsed": false,
    "pycharm": {
     "name": "#%% md\n"
    }
   },
   "source": [
    "# 1.特征向量与特征值\n",
    "如果$A\\overrightarrow{X}$的方向平行于向量$\\overrightarrow{X}$,即满足等式$A\\overrightarrow{X}=\\lambda\\overrightarrow{X}$，其中$\\lambda$是一个系数，那么我们就说$\\lambda$是特征值。从几何意义上来说，$A\\overrightarrow{X}$相当于在坐标系上对于$\\overrightarrow{X}$进行的旋转，如果旋转以后的向量跟原始向量在一个一条直线上，或者是同方向，或者是反方向，那么x就是A的特征向量，$\\lambda$就是对特征向量进行了缩放。$\\overrightarrow{X}$是特征向量。如果A是一个奇异矩阵，那么$A\\overrightarrow{X}=0$，即特征值$\\lambda=0$了"
   ]
  },
  {
   "cell_type": "markdown",
   "metadata": {
    "collapsed": false,
    "pycharm": {
     "name": "#%% md\n"
    }
   },
   "source": [
    "# 2.求解特征值与特征向量\n",
    "$$\n",
    "\\begin{split}\n",
    "&\\because A \\overrightarrow{X}=\\lambda\\overrightarrow{X} \\\\\n",
    "&\\Rightarrow A\\overrightarrow{X}-\\lambda\\overrightarrow{X} = 0 \\\\\n",
    "&\\Rightarrow (A-\\lambda\\overrightarrow{I})\\overrightarrow{X} = 0 \\\\\n",
    "&\\Rightarrow \\vert A-\\lambda\\overrightarrow{I}\\vert = 0\n",
    "\\end{split}\n",
    "$$"
   ]
  },
  {
   "cell_type": "markdown",
   "metadata": {
    "collapsed": false,
    "pycharm": {
     "name": "#%% md\n"
    }
   },
   "source": [
    "## 2.1.举例\n",
    "求矩阵$\\begin{bmatrix}\n",
    "3 & 1 \\\\\n",
    "1 & 3\n",
    "\\end{bmatrix}$的特征值与特征向量"
   ]
  },
  {
   "cell_type": "markdown",
   "metadata": {
    "collapsed": false,
    "pycharm": {
     "name": "#%% md\n"
    }
   },
   "source": [
    "带入上式，有"
   ]
  },
  {
   "cell_type": "markdown",
   "execution_count": null,
   "metadata": {},
   "outputs": [],
   "source": [
    "$$\n",
    "\\begin{split} \\bigg|\\begin{bmatrix}\n",
    "3 & 1 \\\\\n",
    "1 & 3\n",
    "\\end{bmatrix}-\\lambda \\times \\begin{bmatrix}\n",
    "1 & 0 \\\\\n",
    "0 & 1\n",
    "\\end{bmatrix}\\bigg| &= 0 \\\\\n",
    "\\bigg| \\begin{bmatrix}\n",
    "3 & 1 \\\\\n",
    "1 & 3\n",
    "\\end{bmatrix}-\\begin{bmatrix}\n",
    "\\lambda & 0 \\\\\n",
    "0 & \\lambda\n",
    "\\end{bmatrix} \\bigg| &= 0 \\\\\n",
    "\\bigg| \\begin{bmatrix}\n",
    "3-\\lambda & 1 \\\\\n",
    "1 & 3-\\lambda\n",
    "\\end{bmatrix}\\bigg| &= 0 \\\\\n",
    "\\bigg| \\begin{array}{cccc}\n",
    "3-\\lambda & 1 \\\\\n",
    "1 & 3-\\lambda\n",
    "\\end{array}\\bigg| &= 0 \\\\\n",
    "(\\lambda-3)^2-1&= 0\\\\\n",
    "\\lambda^2-6\\lambda+8 &= 0 \\\\\n",
    "&\\Rightarrow \\lambda=4 or \\lambda=2\n",
    "\\end{split}\n",
    "$$"
   ]
  },
  {
   "cell_type": "markdown",
   "execution_count": null,
   "metadata": {},
   "outputs": [],
   "source": [
    "- 当$\\lambda=2$时，有$\\overrightarrow{X}=\\begin{bmatrix}\n",
    "-1 \\\\\n",
    "1\n",
    "\\end{bmatrix}$\n",
    "- 当$\\lambda=4$时，有$\\overrightarrow{X}=\\begin{bmatrix}\n",
    "1 \\\\\n",
    "1\n",
    "\\end{bmatrix}$"
   ]
  },
  {
   "cell_type": "markdown",
   "metadata": {
    "collapsed": false,
    "pycharm": {
     "name": "#%% md\n"
    }
   },
   "source": [
    "# 3.特征值的性质\n",
    "设n阶矩阵$A=(a_{ij})$的特征值为$\\lambda_1,\\lambda_2,...,\\lambda_n$，则\n",
    "- $\\lambda_1+\\lambda_2+...+\\lambda_n=a_{11}+a_{22}+...+a_{nn}$\n",
    "- $\\lambda_1\\lambda_2...\\lambda_n=|A|$，称为A的迹(trace)"
   ]
  },
  {
   "cell_type": "markdown",
   "metadata": {
    "collapsed": false,
    "pycharm": {
     "name": "#%% md\n"
    }
   },
   "source": [
    "如果$\\lambda$是方阵A的特征值，那么$\\lambda^n$就是$A^n$的特征值"
   ]
  },
  {
   "cell_type": "markdown",
   "metadata": {
    "collapsed": false,
    "pycharm": {
     "name": "#%% md\n"
    }
   },
   "source": [
    "如果A可逆时，$\\lambda^{-1}$是$A^{-1}$的特征值。设$\\lambda_1,\\lambda_2,...,\\lambda_m$是方阵A的m个特征值，$p_1,p_2,...,p_m$是依次与之对应的特征向量，若$\\lambda_1,\\lambda_2,...,\\lambda_m$各不相等，则$p_1,p_2,...,p_m$线性无关"
   ]
  },
  {
   "cell_type": "markdown",
   "execution_count": null,
   "metadata": {},
   "outputs": [],
   "source": [
    "# 4.对角化-Diagonalization"
   ]
  },
  {
   "cell_type": "markdown",
   "execution_count": null,
   "metadata": {},
   "outputs": [],
   "source": [
    "## 4.1.特征向量矩阵\n",
    "对于矩阵$A$来说，有**n个线性无关的特征向量**，将这些特征向量按列组成矩阵$S$，那么矩阵$S$就是$A$的特征向量矩阵"
   ]
  },
  {
   "cell_type": "markdown",
   "execution_count": null,
   "metadata": {},
   "outputs": [],
   "source": [
    "$$\n",
    "\\begin{split}\n",
    "A \\times S &= \\\\\n",
    "&=A \\times \\begin{bmatrix}\n",
    "\\overrightarrow{X_1} & \\overrightarrow{X_2} & \\overrightarrow{X_3} & \\cdots & \\overrightarrow{X_n}\n",
    "\\end{bmatrix} \\\\\n",
    "&\\because A \\times \\overrightarrow{X_1} = \\lambda \\times \\overrightarrow{X_1} \\\\\n",
    "&\\Rightarrow \\begin{bmatrix}\n",
    "\\lambda_1\\overrightarrow{X_1} & \\lambda_2\\overrightarrow{X_2} & \\lambda_3\\overrightarrow{X_3} & \\cdots & \\lambda_n\\overrightarrow{X_n}\n",
    "\\end{bmatrix} \\\\\n",
    "&=\\begin{bmatrix}\n",
    "\\overrightarrow{X_1} & \\overrightarrow{X_2} & \\overrightarrow{X_3} & \\cdots & \\overrightarrow{X_n}\n",
    "\\end{bmatrix} \\times \\begin{bmatrix}\n",
    "\\lambda_1 & 0 & 0 & \\cdots & 0 \\\\\n",
    "0 & \\lambda_2 & 0 & \\cdots & 0 \\\\\n",
    "0 & 0 & \\lambda_3 & \\cdots & 0 \\\\\n",
    "\\vdots & \\vdots & \\vdots & \\ddots & \\vdots \\\\\n",
    "0 & 0 & 0 & \\cdots & \\lambda_n\n",
    "\\end{bmatrix} \\\\\n",
    "&=S\\Lambda\n",
    "\\end{split}\n",
    "$$"
   ]
  },
  {
   "cell_type": "markdown",
   "execution_count": null,
   "metadata": {},
   "outputs": [],
   "source": [
    "$\\Lambda$就是特征值矩阵"
   ]
  },
  {
   "cell_type": "markdown",
   "execution_count": null,
   "metadata": {},
   "outputs": [],
   "source": [
    "## 4.2.对角化"
   ]
  },
  {
   "cell_type": "markdown",
   "metadata": {
    "collapsed": false,
    "pycharm": {
     "name": "#%% md\n"
    }
   },
   "source": [
    "\n",
    "\n",
    "\n",
    "上面我们得到$AS=S\\Lambda$，那么就有下面等式成立\n",
    "$$S^{-1}AS=\\Lambda$$\n",
    "条件是S中的n个向量是线性无关的，也就是S是可逆的。同样下面的式子也成立\n",
    "$$A=S\\Lambda S^{-1}$$\n",
    "同样推出下面式子成立\n",
    "$$A^k=S\\Lambda^kS^{-1}$$ "
   ]
  },
  {
   "cell_type": "markdown",
   "metadata": {
    "collapsed": false,
    "pycharm": {
     "name": "#%% md\n"
    }
   },
   "source": [
    "# 5.特征分解\n",
    "特征值分解就是矩阵对角化，要求是矩阵必须是方阵。具体的应用就是PCA降维，PCA的本质就是协方差矩阵的想死对角化，KL变换。"
   ]
  },
  {
   "cell_type": "markdown",
   "metadata": {
    "collapsed": false,
    "pycharm": {
     "name": "#%% md\n"
    }
   },
   "source": [
    "PCA相关信息可以参考[Link](../06.数据降维/02.主成份分析.ipynb)"
   ]
  }
 ],
 "metadata": {
  "language_info": {
   "codemirror_mode": {
    "name": "ipython",
    "version": 2
   },
   "file_extension": ".py",
   "mimetype": "text/x-python",
   "name": "python",
   "nbconvert_exporter": "python",
   "pygments_lexer": "ipython2",
   "version": "2.7.6"
  },
  "kernelspec": {
   "name": "python3",
   "language": "python",
   "display_name": "Python 3"
  },
  "pycharm": {
   "stem_cell": {
    "cell_type": "raw",
    "source": [],
    "metadata": {
     "collapsed": false
    }
   }
  }
 },
 "nbformat": 4,
 "nbformat_minor": 0
}