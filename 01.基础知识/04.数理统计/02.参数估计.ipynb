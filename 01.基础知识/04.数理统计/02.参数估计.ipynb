{
 "cells": [
  {
   "cell_type": "markdown",
   "metadata": {
    "collapsed": true
   },
   "source": [
    "参数估计\n",
    "==="
   ]
  },
  {
   "cell_type": "markdown",
   "metadata": {},
   "source": [
    "# 1.点估计\n",
    "点估计就是根据样本构造的一个统计量(估计量)来估计总体的真实参数值(参数真值)。比如根据独立同分布的大数定律，样本均值将依概率收敛到总体X的数学期望$\\frac{1}{n}\\sum_{k=1}^nX_k \\stackrel{P}{\\rightarrow} \\mu=E(X)$，当样本较大时，就可以用样本均值来作为总体的数学期望$\\mu$的估计"
   ]
  },
  {
   "cell_type": "markdown",
   "metadata": {},
   "source": [
    "## 1.1.点估计法\n",
    "用一个数(点)来估计某个未知参数的方法叫点估计法.设总体X的分布函数$F(x;\\theta)$的形式已知，$\\theta$是未知参数。从总体X中抽取样本$X_1,X_2,...,X_n$构造某个统计量\n",
    "$$\\hat{\\theta}(X_1,X_2,...,X_n)$$\n",
    "作为对未知参数$\\theta$的估计，称为$\\theta$的点估计量。将相应的样本观察值$x_1,x_2,...,x_n$代入，得到\n",
    "$$\\hat{\\theta}(x_1,x_2,...,x_n)$$\n",
    "称为$\\theta$的点估计值。估计量和估计值我们统称为估计"
   ]
  },
  {
   "cell_type": "markdown",
   "metadata": {},
   "source": [
    "## 1.2.构造统计量的方法之矩估计"
   ]
  },
  {
   "cell_type": "markdown",
   "metadata": {},
   "source": [
    "### 1.2.1.矩估计法的思想\n",
    "矩估计法就是用样本的各阶矩去近似的代替总体的各阶矩。"
   ]
  },
  {
   "cell_type": "markdown",
   "metadata": {},
   "source": [
    "### 1.2.2.矩估计法的做法\n",
    "设X为连续型随机变量，其概率密度为$f(x;\\theta_1,...,\\theta_k)$或X为离散型随机变量，其分布律为$P\\{X=x\\}=p(x;\\theta_1,\\theta_2,...,\\theta_k)$，其中$\\theta_1,\\theta_2,...,\\theta_k$为待估参数，$X_1,X_2,...,X_n$是来自总体的样本"
   ]
  },
  {
   "cell_type": "markdown",
   "metadata": {},
   "source": [
    "1. 计算总体X的$1 \\sim k$阶矩\n",
    "$$\\mu_k=E(X^k)=\\int_{-\\infty}^{+\\infty}x^kf(x;\\theta_1,...,\\theta_k)dx$$\n",
    "$$\\mu_k=E(X^k)=\\sum_{x \\in R_X}x^kp(x;\\theta_1,...,\\theta_k)dx$$\n",
    "得到方程组\n",
    "$$\n",
    "\\begin{cases}\n",
    "\\mu_1&=\\varphi_1(\\theta_1,...,\\theta_k)\\\\\\\\\n",
    "\\mu_2&=\\varphi_2(\\theta_1,...,\\theta_k)\\\\\\\\\n",
    "\\cdots\\\\\\\\\n",
    "\\mu_k&=\\varphi_k(\\theta_1,...,\\theta_k)\\\\\\\\\n",
    "\\end{cases}\n",
    "$$"
   ]
  },
  {
   "cell_type": "markdown",
   "metadata": {},
   "source": [
    "2. 从方程组中求解出未知参数，得到\n",
    "$$\n",
    "\\begin{cases}\n",
    "\\theta_1&=\\Psi_1(\\mu_1,...,\\mu_k)\\\\\\\\\n",
    "\\theta_2&=\\Psi_2(\\mu_1,...,\\mu_k)\\\\\\\\\n",
    "\\cdots\\\\\\\\\n",
    "\\theta_k&=\\Psi_k(\\mu_1,...,\\mu_k)\\\\\\\\\n",
    "\\end{cases}\n",
    "$$"
   ]
  },
  {
   "cell_type": "markdown",
   "metadata": {},
   "source": [
    "3.大数定律告诉我们\n",
    "$$A_k=\\frac{1}{n}\\sum_{i=1}^nX_i^k \\stackrel{P}{\\rightarrow}\\mu_k=E(X^k)$$\n",
    "也就是说样本的k阶矩依概率收敛于总体的k阶矩，那么我们就可以用样本矩$A_l$分别代替总体矩$\\mu_l$，得待估参数的矩估计量\n",
    "$$\n",
    "\\begin{cases}\n",
    "\\hat{\\theta_1}&=\\Psi_1(A_1,...,A_k)\\\\\\\\\n",
    "\\hat{\\theta_2}&=\\Psi_2(A_1,...,A_k)\\\\\\\\\n",
    "\\cdots\\\\\\\\\n",
    "\\hat{\\theta_k}&=\\Psi_k(A_1,...,A_k)\\\\\\\\\n",
    "\\end{cases}\n",
    "$$"
   ]
  },
  {
   "cell_type": "markdown",
   "metadata": {},
   "source": [
    "如果只有一个未知参数$\\theta$，只需要求出总体X的一阶矩，即数学期望$\\mu=E(X)$，然后可以将$\\mu$用$\\theta$表示出来，得到$\\mu=h(\\theta)$，然后解出$\\theta=h^{-1}(\\mu)$，最后用样本一阶矩(样本均值)$A_1=\\overline{X}=\n",
    "\\frac{1}{n}\\sum_{i=1}^nX_i$代替$\\mu$，得到$\\theta$的矩估计量$\\hat{\\theta}=h^{-1}(\\overline{X})$"
   ]
  },
  {
   "cell_type": "markdown",
   "metadata": {},
   "source": [
    "已知总体X有概率密度如下\n",
    "$$\n",
    "f(x;\\theta)=\\begin{cases}\n",
    "\\frac{6x(\\theta-x)}{\\theta^3}, & 0<x<\\theta\\\\\\\\\n",
    "0, & otherwise\n",
    "\\end{cases}\n",
    "$$\n",
    "其中$\\theta$为未知参数。$X_1,X_2,...,X_n$是来自总体X的样本。\n",
    "- 求$\\theta$的矩估计量$\\hat{\\theta}$\n",
    "- 求$\\hat{\\theta}$的方差$D(\\hat{\\theta})$\n",
    "- 若3.5,4.4,5.3,4.6,4.8,3.7,5.8,3.9为一组样本观察值，求$\\theta$的矩估计"
   ]
  },
  {
   "cell_type": "markdown",
   "execution_count": null,
   "metadata": {},
   "outputs": [],
   "source": [
    "解，只有一个未知参数,一阶矩如下\n",
    "$$\n",
    "\\begin{split}\n",
    "\\mu_1=E(x)&=\\int_{-\\infty}^{+\\infty}xf(x;\\theta)dx=\\int_0^{\\theta}x \\bullet \\frac{6x(\\theta-x)}{\\theta^3}dx\\\\\\\\\n",
    "&=\\frac{6}{\\theta^3}\\int_0^{\\theta}(\\theta x^2-x^3)dx=\\frac{6}{\\theta^3}(\\frac{\\theta^4}{3}-\\frac{\\theta^4}{4})\\\\\\\\\n",
    "&=\\frac{\\theta}{2}\n",
    "\\end{split}\n",
    "$$\n",
    "得到$\\theta=2\\mu_1$,就有$\\hat{\\theta}=2A_1=2\\overline{X}=\\frac{2}{n}\\sum_{i=1}^nX_i$"
   ]
  },
  {
   "cell_type": "markdown",
   "execution_count": null,
   "metadata": {},
   "outputs": [],
   "source": [
    "$$\n",
    "\\begin{split}\n",
    "D(\\hat{\\theta})&=D(2\\overline{X})=2^2D(\\overline{X})=4 \\cdot \\frac{D(X)}{n}=4 \\cdot \\frac{E(X^2)-[E(X)]^2}{n}\\\\\\\\\n",
    "&\\because E(X^2)=\\int_{-\\infty}^{+\\infty}x^2f(x;\\theta)dx=\\int_0^{\\theta}x^2 \\bullet \\frac{6x(\\theta-x)}{\\theta^3}dx=\\frac{6\\theta^2}{20}\\\\\\\\\n",
    "D(\\hat{\\theta})&=\\frac{4}{n}[\\frac{6\\theta^2}{20}-(\\frac{\\theta}{2})^2]=\\frac{\\theta^2}{5n}\n",
    "\\end{split}\n",
    "$$"
   ]
  },
  {
   "cell_type": "markdown",
   "execution_count": null,
   "metadata": {},
   "outputs": [],
   "source": [
    "$$\n",
    "\\hat{\\theta}=\\frac{2}{n}\\sum_{i=1}^nx_i=\\frac{2}{8}(3.5+4.4+...+3.9)=9\n",
    "$$\n",
    "最后相应的概率密度为\n",
    "$$\n",
    "f(x)=\\begin{cases}\n",
    "\\frac{6x(9-x)}{9^3}, & 0<x<9\\\\\\\\\n",
    "0, & otherwise\n",
    "\\end{cases}\n",
    "$$"
   ]
  },
  {
   "cell_type": "markdown",
   "metadata": {},
   "source": [
    "## 1.3.构造统计量的方法之最大似然估计法MLE\n",
    "最大似然估计法是建立在最大似然原理基础上的一种参数估计法，也叫做极大似然估计法。所谓最大似然原理是指，假设一个随机试验E有若干可能的结果$A_1,A_2,...$。如果只进行了一次试验，而结果$A_k$出现了，那么我们就有理由认为试验的条件对结果$A_k$的出现最有利，即试验E出现的结果$A_k$的概率最大。"
   ]
  },
  {
   "cell_type": "markdown",
   "metadata": {},
   "source": [
    "### 1.3.1.最大似然估计法的思想\n",
    "对于已经出现的样本值$x_1,x_2,...,x_n$，适当的选择参数$\\theta$，使得试验得出结果$X_1=x_1,X_2=x_2,...,X_n=x_n$的概率最大"
   ]
  },
  {
   "cell_type": "markdown",
   "metadata": {},
   "source": [
    "### 1.3.2.最大似然估计法的做法\n",
    "设总体X为离散型随机变量，其分布律为\n",
    "$$P\\{X=x\\}=p(x;\\theta)$$\n",
    "其中$\\theta$是未知参数，$X_1,X_2,...,X_n$为来自总体X的样本，$x_1,x_2,...,x_n$为其一组样本值。构造一个函数\n",
    "$$L(\\theta)=P\\{X_1=x_1,X_2=x_2,...,X_n=x_n\\}=\\prod_{i=1}^nP\\{X_i=x_i\\}=\\prod_{i=1}^np(x_i;\\theta)$$\n",
    "$L(\\theta)$称为样本$x_1,x_2,...,x_n$的似然函数。由于$L(\\theta)$是事件$\\{X_1=x_1,...,X_n=x_n\\}$的概率，有最大似然估计法的思想，我们希望求这样的$\\hat{\\theta}$，使得$L(\\hat{\\theta})$达到$L(\\theta)$的最大值，即\n",
    "$$L(\\hat{\\theta})=max_{\\theta \\in \\Theta}L(\\theta)$$\n",
    "其中$\\Theta$是$\\theta$的取值范围。对于连续型随机变量，似然函数如下\n",
    "$$L(\\theta)=\\prod_{i=1}^nf(x_i;\\theta)$$\n",
    "由于似然函数是n个函数的乘积，一般用对数求导法比较方便。\n",
    "$$\n",
    "\\begin{split}\n",
    "lnL(\\theta)=ln[\\prod_{i=1}^nf(x_i;\\theta)]=\\sum_{i=1}^nlnf(x_i;\\theta)\n",
    "\\end{split}\n",
    "$$\n",
    "由于自然对数是单调增加的函数，那么$lnL(\\theta)$与$L(\\theta)$有相同的最大值点，所以只需要求$lnL(\\theta)$的最大值点作为未知参数的估计量"
   ]
  },
  {
   "cell_type": "markdown",
   "metadata": {},
   "source": [
    "1. 构造似然函数$\\prod_{i=1}^np(x_i;\\theta)$或$\\prod_{i=1}^nf(x_i;\\theta)$\n",
    "2. 两边取对数\n",
    "3. 整理后求导数，令导数为0，得到的驻点一般就是似然函数的最大值点$\\hat{\\theta}$"
   ]
  },
  {
   "cell_type": "markdown",
   "metadata": {},
   "source": [
    "> 设总体X的概率分布为\n",
    ">\n",
    "> | X | 0 |   1    | 2 | 3 |\n",
    "  | - | - | ------ | - | - |\n",
    "  | p | $\\theta^2$ | $2\\theta(1-\\theta)$ | $\\theta^2$ | $1-2\\theta$ |\n",
    ">\n",
    "> 其中$\\theta(0<\\theta<\\frac{1}{2})$是未知参数，利用总体X的如下样本$3,1,3,0,3,1,2,3$，求$\\theta$的矩估计值和最大似然估计值\n",
    "\n",
    "解\n",
    "$$\\mu_1=E(X)=0*\\theta^2+1*2\\theta(1-\\theta)+2*\\theta^2+3*(1-2\\theta)=3-4\\theta$$\n",
    "得到\n",
    "$$\\theta=\\frac{1}{4}(3-\\mu_1)$$\n",
    "得到\n",
    "$$\n",
    "\\hat{\\theta}=\\frac{1}{4}(3-\\overline{x})=\\frac{1}{4}(3-\\frac{3+1+3+0+3+1+2+3}{8})=\\frac{1}{4}\n",
    "$$\n",
    "$$\n",
    "\\begin{split}\n",
    "L(\\theta)&=\\prod_{i=1}^8P\\{X=x_i\\}=P\\{X=0\\} \\times [P\\{X=1\\}]^2 \\times P\\{X=2\\} \\times [P\\{X=3\\}]^4\\\\\\\\\n",
    "&=\\theta^2 \\times [2\\theta(1-\\theta)]^2 \\times \\theta^2 \\times (1-2\\theta)^4\\\\\\\\\n",
    "&=4\\theta^6(1-\\theta)^2(1-2\\theta)^4\\\\\\\\\n",
    "\\Rightarrow lnL(\\theta)&=ln4+6ln\\theta+2ln(1-\\theta)+4ln(1-2\\theta)\\\\\\\\\n",
    "\\Rightarrow \\frac{d}{d\\theta}L(\\theta)&=\\frac{6}{\\theta}-\\frac{2}{1-\\theta}-\\frac{8}{1-2\\theta}\\\\\\\\\n",
    "\\Rightarrow \\frac{d}{d\\theta}L(\\theta)&=\\frac{2(12\\theta^2-14\\theta+3)}{\\theta(1-\\theta)(1-2\\theta)}\\\\\\\\\n",
    "&\\frac{d}{dx}L(\\theta)=0\\\\\\\\\n",
    "&\\Rightarrow 2(12\\theta^2-14\\theta+3)=0\\\\\\\\\n",
    "&\\Rightarrow \\theta=\\frac{7 \\pm \\sqrt{13}}{12}\\\\\\\\\n",
    "&\\because 0<\\theta<\\frac{1}{2}\\\\\\\\\n",
    "&\\therefore \\theta=\\frac{7 - \\sqrt{13}}{12} \\approx 0.28\n",
    "\\end{split}\n",
    "$$"
   ]
  },
  {
   "cell_type": "markdown",
   "metadata": {},
   "source": [
    "# 2.基于截尾样本的最大似然估计"
   ]
  },
  {
   "cell_type": "markdown",
   "metadata": {},
   "source": [
    "# 3.估计量的评选标准"
   ]
  },
  {
   "cell_type": "markdown",
   "metadata": {},
   "source": [
    "# 4.区间估计"
   ]
  },
  {
   "cell_type": "markdown",
   "metadata": {},
   "source": [
    "# 5.正态总体均值与方差的区间估计"
   ]
  },
  {
   "cell_type": "markdown",
   "metadata": {},
   "source": [
    "# 6.0-1分布参数的区间估计"
   ]
  },
  {
   "cell_type": "markdown",
   "metadata": {},
   "source": [
    "# 7.单侧置信区间"
   ]
  }
 ],
 "metadata": {
  "kernelspec": {
   "display_name": "Python 3",
   "language": "python",
   "name": "python3"
  },
  "language_info": {
   "codemirror_mode": {
    "name": "ipython",
    "version": 3
   },
   "file_extension": ".py",
   "mimetype": "text/x-python",
   "name": "python",
   "nbconvert_exporter": "python",
   "pygments_lexer": "ipython3",
   "version": "3.6.8"
  },
  "pycharm": {
   "stem_cell": {
    "cell_type": "raw",
    "source": [],
    "metadata": {
     "collapsed": false
    }
   }
  }
 },
 "nbformat": 4,
 "nbformat_minor": 1
}