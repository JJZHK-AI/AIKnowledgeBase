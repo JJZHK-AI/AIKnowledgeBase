{
 "cells": [
  {
   "cell_type": "markdown",
   "metadata": {
    "collapsed": true
   },
   "source": [
    "无穷级数与泰勒展开\n",
    "===\n",
    "无穷级数与泰勒展开"
   ]
  },
  {
   "cell_type": "markdown",
   "metadata": {},
   "source": [
    "# 1.芝诺悖论\n",
    "希腊的哲学家芝诺曾经辩论说，一支箭永远不能达到它的目标。他说，首先箭要到达目标距离的一半，然后又必须到达剩余距离的一半，然后还有一半，这样就没有穷尽。因为这个旅程有无限个部分，所以箭要花费无限的时间才能结束这个旅程。这就是“芝诺悖论”。芝诺的结论是——时间是不存在的。尽管他自己也不相信这个结论。这个问题看似诡异，但在数学面前，神秘荡然无存，破解问题的关键就是无穷级数。"
   ]
  },
  {
   "cell_type": "markdown",
   "metadata": {},
   "source": [
    "## 1.1.悖论的引入\n",
    "芝诺悖论用数学来表示，就如同下式：\n",
    "$$1+\\frac{1}{2}+\\frac{1}{4}+\\frac{1}{8}+\\dots+\\frac{1}{2^n}$$\n",
    "其中$n \\to \\infty$"
   ]
  },
  {
   "cell_type": "markdown",
   "metadata": {},
   "source": [
    "## 1.2.几何级数的一般情况\n",
    "我们设$\\alpha=\\frac{1}{2}$，那么芝诺悖论就可以写成如下式子：\n",
    "$$\n",
    "1+\\alpha+\\alpha^2+\\alpha^3+\\dots+\\alpha^n=\\frac{1}{1-\\alpha}\n",
    "$$\n",
    "条件是$-1<\\alpha<1$的时候是收敛的，否则就是发散的。"
   ]
  },
  {
   "cell_type": "markdown",
   "metadata": {},
   "source": [
    "# 2.无穷级数"
   ]
  },
  {
   "cell_type": "markdown",
   "metadata": {},
   "source": [
    "上述式子可以用数学符号简化表示如下\n",
    "$$S_N=\\sum_{n=0}^N\\alpha_n$$\n",
    "$S_N$称作部分和，当$N \\to \\infty$，和式就是无穷极限\n",
    "$$S=\\sum_{n=0}^\\infty\\alpha_n=\\lim\\limits_{N \\to \\infty}S_N$$\n",
    "无穷极限有可能是收敛的，也有可能是发散的"
   ]
  },
  {
   "cell_type": "markdown",
   "metadata": {},
   "source": [
    "# 3.无穷级数的收敛性"
   ]
  },
  {
   "cell_type": "markdown",
   "metadata": {},
   "source": [
    "## 3.1.实例I\n",
    "讨论\n",
    "$$\\sum_{n=1}^\\infty\\frac{1}{n^2}$$\n",
    "的收敛性"
   ]
  },
  {
   "cell_type": "markdown",
   "metadata": {},
   "source": [
    "类比一下，上述级数跟$\\int_1^\\infty\\frac{dx}{x^2}$具有同样的收敛性，而且这个积分是收敛的，所以这个级数也是收敛的。在$\\Delta{x}=1$的时候"
   ]
  },
  {
   "cell_type": "markdown",
   "metadata": {},
   "source": [
    "$$\n",
    "\\begin{split}\n",
    "S_N&=\\sum_{n=1}^\\infty\\frac{1}{n} \\approx \\int_1^\\infty\\frac{dx}{dx}\\\\\\\\\n",
    "S_N&=\\sum_{n=1}^\\infty\\frac{1}{n^2} \\approx \\int_1^\\infty\\frac{dx}{dx^2}\\\\\\\\\n",
    "S_N&=\\sum_{n=1}^\\infty\\frac{1}{n^3} \\approx \\int_1^\\infty\\frac{dx}{dx^3}\n",
    "\\end{split}\n",
    "$$"
   ]
  },
  {
   "cell_type": "markdown",
   "metadata": {},
   "source": [
    "## 3.2.积分比较判别法\n",
    "如果$f(x)$是减函数，且$f(x)>0$，则\n",
    "$$\\sum_{n=1}^\\infty f(n)-\\int_{1}^\\infty f(x)dx < f(1)$$\n",
    "和式和积分的收敛性一致。积分比较的基本思想就是用积分代替和式，因为和式通常很难计算，但和式对应的积分往往很容易，所以需要化繁为简，这也是数学的基本思想。"
   ]
  },
  {
   "cell_type": "markdown",
   "metadata": {},
   "source": [
    "## 3.3.极限比较判别法\n",
    "如果$f(x)$等价于$g(x)$，即$x \\to \\infty$时有$\\frac{f(x)}{g(x)}=1$，其中$n>0,g(n)>0$，那么$\\sum f(x)$和$\\sum g(x)$的收敛性一致"
   ]
  },
  {
   "cell_type": "markdown",
   "metadata": {},
   "source": [
    "## 3.4.比值判别法\n",
    "对于$\\sum \\alpha_n>0,\\alpha_n>0$来说\n",
    "$$\\lim\\limits_{n \\to \\infty}\\sum\\frac{\\alpha_{n+1}}{\\alpha_n}=L$$\n",
    "如果$L<1$，$\\sum \\alpha_n$是收敛的，如果$L>1$，$\\sum \\alpha_n$是发散的，如果$L=1$，不能使用这个方法"
   ]
  },
  {
   "cell_type": "markdown",
   "metadata": {},
   "source": [
    "# 4.幂级数及其收敛性\n",
    "$$\n",
    "\\alpha_0+\\alpha_1x+\\alpha_2x^2+\\dots=\\sum_{n=0}^\\infty\\alpha_nx^n\n",
    "$$\n",
    "这就是幂级数，当$\\alpha_n$是定值时，幂级数称为几何级数。如果有$|x|<R$时，级数是收敛的，那么$R$就叫做收敛半径。我们知道当$\\alpha_n=1$时，有\n",
    "$$\\sum_{n=0}^\\infty x^n=\\frac{1}{1-x},(|x|<1)$$\n",
    "那么1就是收敛半径。在收敛半径内，幂级数是收敛的；在收敛半径外，幂级数是发散的，如果刚好是收敛半径，那么幂级数的收敛性不确定。根据定义，如果$|x|<R$，则必然有$|\\alpha_nx^n| \\to 0$，也就是\n",
    "$$\\lim\\limits_{n \\to \\infty}|\\frac{\\alpha_{n+1}x^{n+1}}{\\alpha_nx^n}| < 1$$\n",
    "将收敛半径看成一个圆，$x$的取值点如果在圆内，则幂级数是收敛的，在圆外则是无意义的。我们可以计算圆的大小."
   ]
  },
  {
   "cell_type": "markdown",
   "metadata": {},
   "source": [
    "# 5.幂级数的运算"
   ]
  },
  {
   "cell_type": "markdown",
   "metadata": {},
   "source": [
    "$$\\sum_{n=0}^\\infty x^n=\\frac{1}{1-x},(|x|<1)$$\n",
    "以上面的幂级数为例，它的意义之一就在于它可以反写右侧的表达式，即：\n",
    "$$\\frac{1}{1-x}=\\sum_{n=0}^\\infty x^n,(|x|<1)$$\n",
    "这样，幂级数就变成了一个灵活的工具，它能够将一个表达式展开。可以将幂级数看作没有尽头的多项式，所有适用于多项式的运算，包括加减乘除乘方开方等，都同样适用于幂级数，当然，还有我们关注的微分和积分，如下所示：\n",
    "$$\n",
    "\\begin{split}\n",
    "\\frac{d}{dx}(\\alpha_0+\\alpha_1x+\\alpha_2x^2+\\dots)&=0+\\alpha_1+2\\alpha_2x+3\\alpha_3x^2+\\dots\\\\\\\\\n",
    "\\int(\\alpha_0+\\alpha_1x+\\alpha_2x^2+\\dots)dx&=C+\\alpha_0x+\\frac{\\alpha_1x^2}{2}+\\frac{\\alpha_2x^3}{3}+\\dots\n",
    "\\end{split}\n",
    "$$"
   ]
  },
  {
   "cell_type": "markdown",
   "metadata": {},
   "source": [
    "幂级数和多项式很像，我们可以对多项式进行$f(x)+g(x),f(x)g(x),f(g(x)),\\frac{f(x)}{g(x)},\\frac{d}{dx}f(x),\\int f(x)dx$,同样可以对幂级数做同样的运算，如果级数有有限项，那就是多项式，否则就是幂级数。"
   ]
  },
  {
   "cell_type": "markdown",
   "metadata": {},
   "source": [
    "# 6.泰勒级数\n",
    "如果$f(x)$在点$x=x_0$具有任意阶导数，则下面的幂级数称为$f(x)$在$x_0$点的泰勒级数\n",
    "$$\n",
    "f(x)=\\sum_{n=0}^\\infty\\frac{f^{(n)}(x_0)}{n!}(x-x_0)^n\n",
    "$$\n"
   ]
  },
  {
   "cell_type": "markdown",
   "metadata": {},
   "source": [
    "## 6.1.泰勒公式为何成立\n",
    "首先我们定义$a_n=\\frac{f^{(n)}(x_0)}{n!}$，那么就有\n",
    "$$\n",
    "\\begin{split}\n",
    "f(x)   &=a_0+a_1x+a_2x^2+a_3x^3+\\dots\\\\\\\\\n",
    "f'(x)  &=a_1+2a_2x+3a_3x^2+4a_4x^3+\\dots\\\\\\\\\n",
    "f''(x) &=2a_2+6a_3x+12a_4x^2+\\dots\\\\\\\\\n",
    "f'''(x)&=6a_3+24a_4x+\\dots\\\\\\\\\n",
    "\\end{split}\n",
    "$$\n",
    "那么就有$f'''(0)=6 \\times a_3 + 0 + \\dots$，那么就有$a_3=\\frac{f'''(0)}{3 \\times 2 \\times 1}$，正好就是我们上面定义的$a_n=\\frac{f^{(n)}(x_0)}{n!}$"
   ]
  },
  {
   "cell_type": "markdown",
   "metadata": {},
   "source": [
    "## 6.2.泰勒公式的应用\n",
    "$f(x)=e^x$是一个可以用泰勒公式展开的例子。$f'(x)=e^x,f''(x)=e^x,f'''(x)=e^x,\\dots,f^n(x)=e^x$，那么就有\n",
    "$$f^n(0)=e^x|_0=1$$\n",
    "那么\n",
    "$$e^x=\\sum_{n=0}^\\infty\\frac{1}{n!}x^n,(R=\\infty)$$\n",
    "当$x=1$时，还附带了$e$的解释\n",
    "$$e=\\sum_{n=0}^\\infty\\frac{1}{n!}=1+1+\\frac{1}{2!}+\\frac{1}{3!}+\\frac{1}{4!}+\\dots$$"
   ]
  },
  {
   "cell_type": "markdown",
   "metadata": {},
   "source": [
    "## 6.3.泰勒展开\n",
    "对于函数$y=x^3+2x^2+3$这类的函数，我们称之为多项式函数，因为只要给定一个具体的$x$的值，就能求出一个具体的$y$值。但是有些函数，比如$y=\\sin{x}$这类的函数，给定一个x的值，求出的$y$的值是一个近似解。那么我们是否可以用一个多项式函数来近似的拟合一个非多项式函数呢？这就是泰勒展开的出发点"
   ]
  }
 ],
 "metadata": {
  "kernelspec": {
   "display_name": "Python 3",
   "language": "python",
   "name": "python3"
  },
  "language_info": {
   "codemirror_mode": {
    "name": "ipython",
    "version": 3
   },
   "file_extension": ".py",
   "mimetype": "text/x-python",
   "name": "python",
   "nbconvert_exporter": "python",
   "pygments_lexer": "ipython3",
   "version": "3.6.8"
  }
 },
 "nbformat": 4,
 "nbformat_minor": 1
}