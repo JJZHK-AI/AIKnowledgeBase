{
 "cells": [
  {
   "cell_type": "markdown",
   "metadata": {
    "collapsed": true
   },
   "source": [
    "求导与链式法则\n",
    "==="
   ]
  },
  {
   "cell_type": "markdown",
   "metadata": {},
   "source": [
    "# 1.求导公式"
   ]
  },
  {
   "cell_type": "markdown",
   "metadata": {},
   "source": [
    "## 1.1.对特定函数的求导\n",
    "$\\frac{d}{dx}x^a=ax^{a-1}$<br/>\n",
    "$\\frac{d}{dx}e^x=e^x$<br/>\n",
    "$\\frac{d}{dx}a^x=ln(a)a^x$<br/>\n",
    "$\\frac{d}{dx}ln(x)=\\frac{1}{x}$<br/>\n",
    "$\\frac{d}{dx}sin(x)=cos(x)$<br/>\n",
    "$\\frac{d}{dx}cos(x)=-sin(x)$<br/>"
   ]
  },
  {
   "cell_type": "markdown",
   "metadata": {},
   "source": [
    "$\\frac{d}{dx}\\sin{x}=\\cos{x}$的证明,根据定义，可以得到如下公式\n",
    "$$\n",
    "\\begin{split}\n",
    "\\frac{d}{dx}sin(x) &=\\lim\\limits_{\\Delta{x} \\to 0}\\frac{\\sin{(x+\\Delta{x})}-\\sin{x}}{\\Delta{x}} \\\\\\\\\n",
    "&=\\lim\\limits_{\\Delta{x} \\to 0}\\frac{\\sin{x}\\cos\\Delta{x}+\\cos{x}\\sin{\\Delta{x}}-\\sin{x}}{\\Delta{x}} \\\\\\\\\n",
    "&=\\lim\\limits_{\\Delta{x} \\to 0}\\sin{x} \\times \\frac{\\cos{\\Delta{x}}-1}{\\Delta{x}}+\\cos{x} \\times \\frac{\\sin{\\Delta{x}}}{\\Delta{x}} \\\\\\\\\n",
    "&\\because \\lim\\limits_{\\Delta{x} \\to 0}\\frac{\\cos{\\Delta{x}}-1}{\\Delta{x}}=0,\\lim\\limits_{\\Delta{x} \\to 0}\\frac{\\sin{\\Delta{x}}}{\\Delta{x}}=1 \\\\\\\\\n",
    "&\\Rightarrow \\cos{x}\n",
    "\\end{split}\n",
    "$$"
   ]
  },
  {
   "cell_type": "markdown",
   "metadata": {},
   "source": [
    "$\\frac{d}{dx}\\cos{x}=-\\sin{x}$的证明,根据定义，可以得到如下公式\n",
    "$$\n",
    "\\begin{split}\n",
    "\\frac{d}{dx}\\cos{x} &=\\lim\\limits_{\\Delta{x} \\to 0}\\frac{\\cos{(x+\\Delta{x})}-\\cos{x}}{\\Delta{x}} \\\\\\\\\n",
    "&=\\lim\\limits_{\\Delta{x} \\to 0}\\frac{\\cos{x}\\cos\\Delta{x}-\\sin{x}\\sin\\Delta{x}-\\cos{x}}{\\Delta{x}} \\\\\\\\\n",
    "&=\\lim\\limits_{\\Delta{x} \\to 0}\\cos{x} \\times \\frac{\\cos{\\Delta{x}}-1}{\\Delta{x}}+(-\\sin{x}) \\times \\frac{\\sin{\\Delta{x}}}{\\Delta{x}} \\\\\\\\\n",
    "&\\because \\lim\\limits_{\\Delta{x} \\to 0}\\frac{\\cos{\\Delta{x}}-1}{\\Delta{x}}=0,\\lim\\limits_{\\Delta{x} \\to 0}\\frac{\\sin{\\Delta{x}}}{\\Delta{x}}=1 \\\\\\\\\n",
    "&\\Rightarrow -\\sin{x}\n",
    "\\end{split}\n",
    "$$"
   ]
  },
  {
   "cell_type": "markdown",
   "metadata": {},
   "source": [
    "> 对于上述两个公式的证明：首先我们计算一下$\\frac{d}{dx}\\cos{x}$，根据定义，有\n",
    "$$\\frac{d}{dx}\\cos{x}=\\lim\\limits_{\\Delta{x} \\to 0}\\frac{\\cos{(x+\\Delta{x})}-\\cos{x}}{\\Delta{x}}$$\n",
    "我们计算$x=0$处的导数，也就是曲线$\\cos{x}$在$x=0$处的切线的斜率，我们知道cos曲线在x=0处的切线的斜率是0。也就是说当$x=0$的时候,$\\frac{d}{dx}\\cos{x}=0$，那么就有\n",
    "$$\n",
    "\\begin{split}\n",
    "\\lim\\limits_{\\Delta{x} \\to 0}\\frac{\\cos{(0+\\Delta{x})}-\\cos{0}}{\\Delta{x}}&=0\\\\\\\\\n",
    "\\lim\\limits_{\\Delta{x} \\to 0}\\frac{\\cos{\\Delta{x}}-1}{\\Delta{x}} &=0\n",
    "\\end{split}\n",
    "$$"
   ]
  },
  {
   "cell_type": "markdown",
   "execution_count": null,
   "metadata": {},
   "outputs": [],
   "source": [
    "同样的办法也可以证明$\\lim\\limits_{\\Delta{x} \\to 0}\\frac{\\sin{\\Delta{x}}}{\\Delta{x}}=1$,$\\sin{x}$曲线在$x=0$这一点上的切线的斜率为1，也就是切线方程是$y=x$"
   ]
  },
  {
   "cell_type": "code",
   "execution_count": 1,
   "metadata": {
    "pycharm": {
     "is_executing": false
    }
   },
   "outputs": [
    {
     "output_type": "display_data",
     "data": {
      "text/plain": "<Figure size 576x576 with 1 Axes>",
      "image/svg+xml": "<?xml version=\"1.0\" encoding=\"utf-8\" standalone=\"no\"?>\n<!DOCTYPE svg PUBLIC \"-//W3C//DTD SVG 1.1//EN\"\n  \"http://www.w3.org/Graphics/SVG/1.1/DTD/svg11.dtd\">\n<!-- Created with matplotlib (https://matplotlib.org/) -->\n<svg height=\"449.28pt\" version=\"1.1\" viewBox=\"0 0 460.8 449.28\" width=\"460.8pt\" xmlns=\"http://www.w3.org/2000/svg\" xmlns:xlink=\"http://www.w3.org/1999/xlink\">\n <defs>\n  <style type=\"text/css\">\n*{stroke-linecap:butt;stroke-linejoin:round;}\n  </style>\n </defs>\n <g id=\"figure_1\">\n  <g id=\"patch_1\">\n   <path d=\"M 0 449.28 \nL 460.8 449.28 \nL 460.8 0 \nL 0 0 \nz\n\" style=\"fill:#ffffff;\"/>\n  </g>\n  <g id=\"axes_1\">\n   <g id=\"patch_2\">\n    <path d=\"M 7.2 442.08 \nL 453.6 442.08 \nL 453.6 7.2 \nL 7.2 7.2 \nz\n\" style=\"fill:#ffffff;\"/>\n   </g>\n   <g id=\"matplotlib.axis_1\">\n    <g id=\"xtick_1\">\n     <g id=\"line2d_1\">\n      <path clip-path=\"url(#p87f8646bba)\" d=\"M 51.84 442.08 \nL 51.84 7.2 \n\" style=\"fill:none;stroke:#b0b0b0;stroke-linecap:square;stroke-width:0.8;\"/>\n     </g>\n     <g id=\"line2d_2\">\n      <defs>\n       <path d=\"M 0 0 \nL 0 3.5 \n\" id=\"m6376ee788d\" style=\"stroke:#000000;stroke-width:0.8;\"/>\n      </defs>\n      <g>\n       <use style=\"stroke:#000000;stroke-width:0.8;\" x=\"51.84\" xlink:href=\"#m6376ee788d\" y=\"224.64\"/>\n      </g>\n     </g>\n     <g id=\"text_1\">\n      <!-- −4 -->\n      <defs>\n       <path d=\"M 10.59375 35.5 \nL 73.1875 35.5 \nL 73.1875 27.203125 \nL 10.59375 27.203125 \nz\n\" id=\"DejaVuSans-8722\"/>\n       <path d=\"M 37.796875 64.3125 \nL 12.890625 25.390625 \nL 37.796875 25.390625 \nz\nM 35.203125 72.90625 \nL 47.609375 72.90625 \nL 47.609375 25.390625 \nL 58.015625 25.390625 \nL 58.015625 17.1875 \nL 47.609375 17.1875 \nL 47.609375 0 \nL 37.796875 0 \nL 37.796875 17.1875 \nL 4.890625 17.1875 \nL 4.890625 26.703125 \nz\n\" id=\"DejaVuSans-52\"/>\n      </defs>\n      <g transform=\"translate(44.468906 239.238437)scale(0.1 -0.1)\">\n       <use xlink:href=\"#DejaVuSans-8722\"/>\n       <use x=\"83.789062\" xlink:href=\"#DejaVuSans-52\"/>\n      </g>\n     </g>\n    </g>\n    <g id=\"xtick_2\">\n     <g id=\"line2d_3\">\n      <path clip-path=\"url(#p87f8646bba)\" d=\"M 141.12 442.08 \nL 141.12 7.2 \n\" style=\"fill:none;stroke:#b0b0b0;stroke-linecap:square;stroke-width:0.8;\"/>\n     </g>\n     <g id=\"line2d_4\">\n      <g>\n       <use style=\"stroke:#000000;stroke-width:0.8;\" x=\"141.12\" xlink:href=\"#m6376ee788d\" y=\"224.64\"/>\n      </g>\n     </g>\n     <g id=\"text_2\">\n      <!-- −2 -->\n      <defs>\n       <path d=\"M 19.1875 8.296875 \nL 53.609375 8.296875 \nL 53.609375 0 \nL 7.328125 0 \nL 7.328125 8.296875 \nQ 12.9375 14.109375 22.625 23.890625 \nQ 32.328125 33.6875 34.8125 36.53125 \nQ 39.546875 41.84375 41.421875 45.53125 \nQ 43.3125 49.21875 43.3125 52.78125 \nQ 43.3125 58.59375 39.234375 62.25 \nQ 35.15625 65.921875 28.609375 65.921875 \nQ 23.96875 65.921875 18.8125 64.3125 \nQ 13.671875 62.703125 7.8125 59.421875 \nL 7.8125 69.390625 \nQ 13.765625 71.78125 18.9375 73 \nQ 24.125 74.21875 28.421875 74.21875 \nQ 39.75 74.21875 46.484375 68.546875 \nQ 53.21875 62.890625 53.21875 53.421875 \nQ 53.21875 48.921875 51.53125 44.890625 \nQ 49.859375 40.875 45.40625 35.40625 \nQ 44.1875 33.984375 37.640625 27.21875 \nQ 31.109375 20.453125 19.1875 8.296875 \nz\n\" id=\"DejaVuSans-50\"/>\n      </defs>\n      <g transform=\"translate(133.748906 239.238437)scale(0.1 -0.1)\">\n       <use xlink:href=\"#DejaVuSans-8722\"/>\n       <use x=\"83.789062\" xlink:href=\"#DejaVuSans-50\"/>\n      </g>\n     </g>\n    </g>\n    <g id=\"xtick_3\">\n     <g id=\"line2d_5\">\n      <path clip-path=\"url(#p87f8646bba)\" d=\"M 230.4 442.08 \nL 230.4 7.2 \n\" style=\"fill:none;stroke:#b0b0b0;stroke-linecap:square;stroke-width:0.8;\"/>\n     </g>\n     <g id=\"line2d_6\">\n      <g>\n       <use style=\"stroke:#000000;stroke-width:0.8;\" x=\"230.4\" xlink:href=\"#m6376ee788d\" y=\"224.64\"/>\n      </g>\n     </g>\n     <g id=\"text_3\">\n      <!-- 0 -->\n      <defs>\n       <path d=\"M 31.78125 66.40625 \nQ 24.171875 66.40625 20.328125 58.90625 \nQ 16.5 51.421875 16.5 36.375 \nQ 16.5 21.390625 20.328125 13.890625 \nQ 24.171875 6.390625 31.78125 6.390625 \nQ 39.453125 6.390625 43.28125 13.890625 \nQ 47.125 21.390625 47.125 36.375 \nQ 47.125 51.421875 43.28125 58.90625 \nQ 39.453125 66.40625 31.78125 66.40625 \nz\nM 31.78125 74.21875 \nQ 44.046875 74.21875 50.515625 64.515625 \nQ 56.984375 54.828125 56.984375 36.375 \nQ 56.984375 17.96875 50.515625 8.265625 \nQ 44.046875 -1.421875 31.78125 -1.421875 \nQ 19.53125 -1.421875 13.0625 8.265625 \nQ 6.59375 17.96875 6.59375 36.375 \nQ 6.59375 54.828125 13.0625 64.515625 \nQ 19.53125 74.21875 31.78125 74.21875 \nz\n\" id=\"DejaVuSans-48\"/>\n      </defs>\n      <g transform=\"translate(227.21875 239.238437)scale(0.1 -0.1)\">\n       <use xlink:href=\"#DejaVuSans-48\"/>\n      </g>\n     </g>\n    </g>\n    <g id=\"xtick_4\">\n     <g id=\"line2d_7\">\n      <path clip-path=\"url(#p87f8646bba)\" d=\"M 319.68 442.08 \nL 319.68 7.2 \n\" style=\"fill:none;stroke:#b0b0b0;stroke-linecap:square;stroke-width:0.8;\"/>\n     </g>\n     <g id=\"line2d_8\">\n      <g>\n       <use style=\"stroke:#000000;stroke-width:0.8;\" x=\"319.68\" xlink:href=\"#m6376ee788d\" y=\"224.64\"/>\n      </g>\n     </g>\n     <g id=\"text_4\">\n      <!-- 2 -->\n      <g transform=\"translate(316.49875 239.238437)scale(0.1 -0.1)\">\n       <use xlink:href=\"#DejaVuSans-50\"/>\n      </g>\n     </g>\n    </g>\n    <g id=\"xtick_5\">\n     <g id=\"line2d_9\">\n      <path clip-path=\"url(#p87f8646bba)\" d=\"M 408.96 442.08 \nL 408.96 7.2 \n\" style=\"fill:none;stroke:#b0b0b0;stroke-linecap:square;stroke-width:0.8;\"/>\n     </g>\n     <g id=\"line2d_10\">\n      <g>\n       <use style=\"stroke:#000000;stroke-width:0.8;\" x=\"408.96\" xlink:href=\"#m6376ee788d\" y=\"224.64\"/>\n      </g>\n     </g>\n     <g id=\"text_5\">\n      <!-- 4 -->\n      <g transform=\"translate(405.77875 239.238437)scale(0.1 -0.1)\">\n       <use xlink:href=\"#DejaVuSans-52\"/>\n      </g>\n     </g>\n    </g>\n   </g>\n   <g id=\"matplotlib.axis_2\">\n    <g id=\"ytick_1\">\n     <g id=\"line2d_11\">\n      <path clip-path=\"url(#p87f8646bba)\" d=\"M 7.2 398.592 \nL 453.6 398.592 \n\" style=\"fill:none;stroke:#b0b0b0;stroke-linecap:square;stroke-width:0.8;\"/>\n     </g>\n     <g id=\"line2d_12\">\n      <defs>\n       <path d=\"M 0 0 \nL -3.5 0 \n\" id=\"mf679cfe762\" style=\"stroke:#000000;stroke-width:0.8;\"/>\n      </defs>\n      <g>\n       <use style=\"stroke:#000000;stroke-width:0.8;\" x=\"230.4\" xlink:href=\"#mf679cfe762\" y=\"398.592\"/>\n      </g>\n     </g>\n     <g id=\"text_6\">\n      <!-- −4 -->\n      <g transform=\"translate(208.657812 402.391219)scale(0.1 -0.1)\">\n       <use xlink:href=\"#DejaVuSans-8722\"/>\n       <use x=\"83.789062\" xlink:href=\"#DejaVuSans-52\"/>\n      </g>\n     </g>\n    </g>\n    <g id=\"ytick_2\">\n     <g id=\"line2d_13\">\n      <path clip-path=\"url(#p87f8646bba)\" d=\"M 7.2 311.616 \nL 453.6 311.616 \n\" style=\"fill:none;stroke:#b0b0b0;stroke-linecap:square;stroke-width:0.8;\"/>\n     </g>\n     <g id=\"line2d_14\">\n      <g>\n       <use style=\"stroke:#000000;stroke-width:0.8;\" x=\"230.4\" xlink:href=\"#mf679cfe762\" y=\"311.616\"/>\n      </g>\n     </g>\n     <g id=\"text_7\">\n      <!-- −2 -->\n      <g transform=\"translate(208.657812 315.415219)scale(0.1 -0.1)\">\n       <use xlink:href=\"#DejaVuSans-8722\"/>\n       <use x=\"83.789062\" xlink:href=\"#DejaVuSans-50\"/>\n      </g>\n     </g>\n    </g>\n    <g id=\"ytick_3\">\n     <g id=\"line2d_15\">\n      <path clip-path=\"url(#p87f8646bba)\" d=\"M 7.2 224.64 \nL 453.6 224.64 \n\" style=\"fill:none;stroke:#b0b0b0;stroke-linecap:square;stroke-width:0.8;\"/>\n     </g>\n     <g id=\"line2d_16\">\n      <g>\n       <use style=\"stroke:#000000;stroke-width:0.8;\" x=\"230.4\" xlink:href=\"#mf679cfe762\" y=\"224.64\"/>\n      </g>\n     </g>\n     <g id=\"text_8\">\n      <!-- 0 -->\n      <g transform=\"translate(217.0375 228.439219)scale(0.1 -0.1)\">\n       <use xlink:href=\"#DejaVuSans-48\"/>\n      </g>\n     </g>\n    </g>\n    <g id=\"ytick_4\">\n     <g id=\"line2d_17\">\n      <path clip-path=\"url(#p87f8646bba)\" d=\"M 7.2 137.664 \nL 453.6 137.664 \n\" style=\"fill:none;stroke:#b0b0b0;stroke-linecap:square;stroke-width:0.8;\"/>\n     </g>\n     <g id=\"line2d_18\">\n      <g>\n       <use style=\"stroke:#000000;stroke-width:0.8;\" x=\"230.4\" xlink:href=\"#mf679cfe762\" y=\"137.664\"/>\n      </g>\n     </g>\n     <g id=\"text_9\">\n      <!-- 2 -->\n      <g transform=\"translate(217.0375 141.463219)scale(0.1 -0.1)\">\n       <use xlink:href=\"#DejaVuSans-50\"/>\n      </g>\n     </g>\n    </g>\n    <g id=\"ytick_5\">\n     <g id=\"line2d_19\">\n      <path clip-path=\"url(#p87f8646bba)\" d=\"M 7.2 50.688 \nL 453.6 50.688 \n\" style=\"fill:none;stroke:#b0b0b0;stroke-linecap:square;stroke-width:0.8;\"/>\n     </g>\n     <g id=\"line2d_20\">\n      <g>\n       <use style=\"stroke:#000000;stroke-width:0.8;\" x=\"230.4\" xlink:href=\"#mf679cfe762\" y=\"50.688\"/>\n      </g>\n     </g>\n     <g id=\"text_10\">\n      <!-- 4 -->\n      <g transform=\"translate(217.0375 54.487219)scale(0.1 -0.1)\">\n       <use xlink:href=\"#DejaVuSans-52\"/>\n      </g>\n     </g>\n    </g>\n   </g>\n   <g id=\"line2d_21\">\n    <path clip-path=\"url(#p87f8646bba)\" d=\"M 51.84 224.64 \nL 52.197477 213.638315 \nL 52.912432 205.603626 \nL 53.627387 200.088834 \nL 54.69982 193.631857 \nL 56.12973 186.739658 \nL 57.55964 180.965224 \nL 59.347027 174.731673 \nL 61.134414 169.249278 \nL 63.279279 163.379271 \nL 65.781622 157.255214 \nL 68.283964 151.724594 \nL 71.143784 145.970441 \nL 74.003604 140.701815 \nL 77.220901 135.248321 \nL 80.438198 130.212893 \nL 84.012973 125.031333 \nL 87.587748 120.222382 \nL 91.52 115.304321 \nL 95.452252 110.726907 \nL 99.741982 106.075578 \nL 104.031712 101.741982 \nL 108.678919 97.368214 \nL 113.326126 93.295796 \nL 118.330811 89.215987 \nL 123.335495 85.426189 \nL 128.34018 81.903301 \nL 133.702342 78.403078 \nL 139.064505 75.167147 \nL 144.426667 72.17868 \nL 150.146306 69.247675 \nL 155.865946 66.567232 \nL 161.585586 64.124798 \nL 167.662703 61.778539 \nL 173.73982 59.67794 \nL 179.816937 57.813721 \nL 185.894054 56.178035 \nL 191.971171 54.764279 \nL 198.405766 53.50316 \nL 204.84036 52.479358 \nL 211.274955 51.688661 \nL 217.70955 51.12788 \nL 224.144144 50.794792 \nL 230.578739 50.688087 \nL 237.013333 50.80735 \nL 243.447928 51.153045 \nL 249.882523 51.726532 \nL 256.317117 52.530087 \nL 262.751712 53.566952 \nL 268.828829 54.764279 \nL 274.905946 56.178035 \nL 280.983063 57.813721 \nL 287.06018 59.67794 \nL 293.137297 61.778539 \nL 299.214414 64.124798 \nL 304.934054 66.567232 \nL 310.653694 69.247675 \nL 316.373333 72.17868 \nL 321.735495 75.167147 \nL 327.097658 78.403078 \nL 332.45982 81.903301 \nL 337.464505 85.426189 \nL 342.469189 89.215987 \nL 347.473874 93.295796 \nL 352.121081 97.368214 \nL 356.768288 101.741982 \nL 361.058018 106.075578 \nL 365.347748 110.726907 \nL 369.28 115.304321 \nL 373.212252 120.222382 \nL 376.787027 125.031333 \nL 380.361802 130.212893 \nL 383.579099 135.248321 \nL 386.796396 140.701815 \nL 389.656216 145.970441 \nL 392.516036 151.724594 \nL 395.018378 157.255214 \nL 397.520721 163.379271 \nL 399.665586 169.249278 \nL 401.452973 174.731673 \nL 403.24036 180.965224 \nL 404.67027 186.739658 \nL 405.742703 191.767496 \nL 406.815135 197.759077 \nL 407.53009 202.669726 \nL 408.245045 209.089065 \nL 408.602523 213.638315 \nL 408.96 224.64 \nL 408.96 224.64 \n\" style=\"fill:none;stroke:#ff0000;stroke-linecap:square;stroke-width:2;\"/>\n   </g>\n   <g id=\"line2d_22\">\n    <path clip-path=\"url(#p87f8646bba)\" d=\"M 51.84 224.64 \nL 52.197477 235.641685 \nL 52.912432 243.676374 \nL 53.627387 249.191166 \nL 54.69982 255.648143 \nL 56.12973 262.540342 \nL 57.55964 268.314776 \nL 59.347027 274.548327 \nL 61.134414 280.030722 \nL 63.279279 285.900729 \nL 65.781622 292.024786 \nL 68.283964 297.555406 \nL 71.143784 303.309559 \nL 74.003604 308.578185 \nL 77.220901 314.031679 \nL 80.438198 319.067107 \nL 84.012973 324.248667 \nL 87.587748 329.057618 \nL 91.52 333.975679 \nL 95.452252 338.553093 \nL 99.741982 343.204422 \nL 104.031712 347.538018 \nL 108.678919 351.911786 \nL 113.326126 355.984204 \nL 118.330811 360.064013 \nL 123.335495 363.853811 \nL 128.34018 367.376699 \nL 133.702342 370.876922 \nL 139.064505 374.112853 \nL 144.426667 377.10132 \nL 150.146306 380.032325 \nL 155.865946 382.712768 \nL 161.585586 385.155202 \nL 167.662703 387.501461 \nL 173.73982 389.60206 \nL 179.816937 391.466279 \nL 185.894054 393.101965 \nL 191.971171 394.515721 \nL 198.405766 395.77684 \nL 204.84036 396.800642 \nL 211.274955 397.591339 \nL 217.70955 398.15212 \nL 224.144144 398.485208 \nL 230.578739 398.591913 \nL 237.013333 398.47265 \nL 243.447928 398.126955 \nL 249.882523 397.553468 \nL 256.317117 396.749913 \nL 262.751712 395.713048 \nL 268.828829 394.515721 \nL 274.905946 393.101965 \nL 280.983063 391.466279 \nL 287.06018 389.60206 \nL 293.137297 387.501461 \nL 299.214414 385.155202 \nL 304.934054 382.712768 \nL 310.653694 380.032325 \nL 316.373333 377.10132 \nL 321.735495 374.112853 \nL 327.097658 370.876922 \nL 332.45982 367.376699 \nL 337.464505 363.853811 \nL 342.469189 360.064013 \nL 347.473874 355.984204 \nL 352.121081 351.911786 \nL 356.768288 347.538018 \nL 361.058018 343.204422 \nL 365.347748 338.553093 \nL 369.28 333.975679 \nL 373.212252 329.057618 \nL 376.787027 324.248667 \nL 380.361802 319.067107 \nL 383.579099 314.031679 \nL 386.796396 308.578185 \nL 389.656216 303.309559 \nL 392.516036 297.555406 \nL 395.018378 292.024786 \nL 397.520721 285.900729 \nL 399.665586 280.030722 \nL 401.452973 274.548327 \nL 403.24036 268.314776 \nL 404.67027 262.540342 \nL 405.742703 257.512504 \nL 406.815135 251.520923 \nL 407.53009 246.610274 \nL 408.245045 240.190935 \nL 408.602523 235.641685 \nL 408.96 224.64 \nL 408.96 224.64 \n\" style=\"fill:none;stroke:#ff0000;stroke-linecap:square;stroke-width:2;\"/>\n   </g>\n   <g id=\"line2d_23\">\n    <path clip-path=\"url(#p87f8646bba)\" d=\"M 230.4 224.64 \nL 364.32 109.581567 \n\" style=\"fill:none;stroke:#0000ff;stroke-linecap:square;stroke-width:2;\"/>\n   </g>\n   <g id=\"line2d_24\">\n    <path clip-path=\"url(#p87f8646bba)\" d=\"M 230.4 224.64 \nL 364.32 339.698433 \n\" style=\"fill:none;stroke:#0000ff;stroke-linecap:square;stroke-width:2;\"/>\n   </g>\n   <g id=\"line2d_25\">\n    <path clip-path=\"url(#p87f8646bba)\" d=\"M 364.32 109.581567 \nL 364.32 339.698433 \n\" style=\"fill:none;stroke:#008000;stroke-linecap:square;stroke-width:2;\"/>\n   </g>\n   <g id=\"patch_3\">\n    <path d=\"M 230.4 442.08 \nL 230.4 7.2 \n\" style=\"fill:none;stroke:#000000;stroke-linecap:square;stroke-linejoin:miter;stroke-width:0.8;\"/>\n   </g>\n   <g id=\"patch_4\">\n    <path d=\"M 453.6 442.08 \nL 453.6 7.2 \n\" style=\"fill:none;stroke:#000000;stroke-linecap:square;stroke-linejoin:miter;stroke-width:0.8;\"/>\n   </g>\n   <g id=\"patch_5\">\n    <path d=\"M 7.2 224.64 \nL 453.6 224.64 \n\" style=\"fill:none;stroke:#000000;stroke-linecap:square;stroke-linejoin:miter;stroke-width:0.8;\"/>\n   </g>\n   <g id=\"patch_6\">\n    <path d=\"M 7.2 7.2 \nL 453.6 7.2 \n\" style=\"fill:none;stroke:#000000;stroke-linecap:square;stroke-linejoin:miter;stroke-width:0.8;\"/>\n   </g>\n   <g id=\"text_11\">\n    <!-- P -->\n    <defs>\n     <path d=\"M 19.671875 64.796875 \nL 19.671875 37.40625 \nL 32.078125 37.40625 \nQ 38.96875 37.40625 42.71875 40.96875 \nQ 46.484375 44.53125 46.484375 51.125 \nQ 46.484375 57.671875 42.71875 61.234375 \nQ 38.96875 64.796875 32.078125 64.796875 \nz\nM 9.8125 72.90625 \nL 32.078125 72.90625 \nQ 44.34375 72.90625 50.609375 67.359375 \nQ 56.890625 61.8125 56.890625 51.125 \nQ 56.890625 40.328125 50.609375 34.8125 \nQ 44.34375 29.296875 32.078125 29.296875 \nL 19.671875 29.296875 \nL 19.671875 0 \nL 9.8125 0 \nz\n\" id=\"DejaVuSans-80\"/>\n    </defs>\n    <g transform=\"translate(377.712 109.581567)scale(0.2 -0.2)\">\n     <use xlink:href=\"#DejaVuSans-80\"/>\n    </g>\n   </g>\n   <g id=\"text_12\">\n    <!-- Q -->\n    <defs>\n     <path d=\"M 39.40625 66.21875 \nQ 28.65625 66.21875 22.328125 58.203125 \nQ 16.015625 50.203125 16.015625 36.375 \nQ 16.015625 22.609375 22.328125 14.59375 \nQ 28.65625 6.59375 39.40625 6.59375 \nQ 50.140625 6.59375 56.421875 14.59375 \nQ 62.703125 22.609375 62.703125 36.375 \nQ 62.703125 50.203125 56.421875 58.203125 \nQ 50.140625 66.21875 39.40625 66.21875 \nz\nM 53.21875 1.3125 \nL 66.21875 -12.890625 \nL 54.296875 -12.890625 \nL 43.5 -1.21875 \nQ 41.890625 -1.3125 41.03125 -1.359375 \nQ 40.1875 -1.421875 39.40625 -1.421875 \nQ 24.03125 -1.421875 14.8125 8.859375 \nQ 5.609375 19.140625 5.609375 36.375 \nQ 5.609375 53.65625 14.8125 63.9375 \nQ 24.03125 74.21875 39.40625 74.21875 \nQ 54.734375 74.21875 63.90625 63.9375 \nQ 73.09375 53.65625 73.09375 36.375 \nQ 73.09375 23.6875 67.984375 14.640625 \nQ 62.890625 5.609375 53.21875 1.3125 \nz\n\" id=\"DejaVuSans-81\"/>\n    </defs>\n    <g transform=\"translate(377.712 339.698433)scale(0.2 -0.2)\">\n     <use xlink:href=\"#DejaVuSans-81\"/>\n    </g>\n   </g>\n   <g id=\"text_13\">\n    <!-- M -->\n    <defs>\n     <path d=\"M 9.8125 72.90625 \nL 24.515625 72.90625 \nL 43.109375 23.296875 \nL 61.8125 72.90625 \nL 76.515625 72.90625 \nL 76.515625 0 \nL 66.890625 0 \nL 66.890625 64.015625 \nL 48.09375 14.015625 \nL 38.1875 14.015625 \nL 19.390625 64.015625 \nL 19.390625 0 \nL 9.8125 0 \nz\n\" id=\"DejaVuSans-77\"/>\n    </defs>\n    <g transform=\"translate(408.96 224.64)scale(0.2 -0.2)\">\n     <use xlink:href=\"#DejaVuSans-77\"/>\n    </g>\n   </g>\n   <g id=\"text_14\">\n    <!-- D -->\n    <defs>\n     <path d=\"M 19.671875 64.796875 \nL 19.671875 8.109375 \nL 31.59375 8.109375 \nQ 46.6875 8.109375 53.6875 14.9375 \nQ 60.6875 21.78125 60.6875 36.53125 \nQ 60.6875 51.171875 53.6875 57.984375 \nQ 46.6875 64.796875 31.59375 64.796875 \nz\nM 9.8125 72.90625 \nL 30.078125 72.90625 \nQ 51.265625 72.90625 61.171875 64.09375 \nQ 71.09375 55.28125 71.09375 36.53125 \nQ 71.09375 17.671875 61.125 8.828125 \nQ 51.171875 0 30.078125 0 \nL 9.8125 0 \nz\n\" id=\"DejaVuSans-68\"/>\n    </defs>\n    <g transform=\"translate(364.32 224.64)scale(0.2 -0.2)\">\n     <use xlink:href=\"#DejaVuSans-68\"/>\n    </g>\n   </g>\n   <g id=\"text_15\">\n    <!-- O -->\n    <defs>\n     <path d=\"M 39.40625 66.21875 \nQ 28.65625 66.21875 22.328125 58.203125 \nQ 16.015625 50.203125 16.015625 36.375 \nQ 16.015625 22.609375 22.328125 14.59375 \nQ 28.65625 6.59375 39.40625 6.59375 \nQ 50.140625 6.59375 56.421875 14.59375 \nQ 62.703125 22.609375 62.703125 36.375 \nQ 62.703125 50.203125 56.421875 58.203125 \nQ 50.140625 66.21875 39.40625 66.21875 \nz\nM 39.40625 74.21875 \nQ 54.734375 74.21875 63.90625 63.9375 \nQ 73.09375 53.65625 73.09375 36.375 \nQ 73.09375 19.140625 63.90625 8.859375 \nQ 54.734375 -1.421875 39.40625 -1.421875 \nQ 24.03125 -1.421875 14.8125 8.828125 \nQ 5.609375 19.09375 5.609375 36.375 \nQ 5.609375 53.65625 14.8125 63.9375 \nQ 24.03125 74.21875 39.40625 74.21875 \nz\n\" id=\"DejaVuSans-79\"/>\n    </defs>\n    <g transform=\"translate(208.08 224.64)scale(0.2 -0.2)\">\n     <use xlink:href=\"#DejaVuSans-79\"/>\n    </g>\n   </g>\n  </g>\n </g>\n <defs>\n  <clipPath id=\"p87f8646bba\">\n   <rect height=\"434.88\" width=\"446.4\" x=\"7.2\" y=\"7.2\"/>\n  </clipPath>\n </defs>\n</svg>\n",
      "image/png": "[encoded data removed]"
     },
     "metadata": {}
    }
   ],
   "source": [
    "from matplotlib import pyplot as plt\n",
    "%matplotlib inline\n",
    "import numpy as np\n",
    "\n",
    "plt.figure(figsize=(8,8), facecolor='w')\n",
    "\n",
    "x = np.linspace(-4, 4, 1000)\n",
    "r = 4\n",
    "y = np.sqrt(r**2 - x**2)\n",
    "\n",
    "plt.plot(x, y, color=\"r\", linewidth=2)\n",
    "plt.plot(x, -y, color=\"r\", linewidth=2)\n",
    "\n",
    "x0 = [0, 3]\n",
    "y0 = [0, np.sqrt(r**2 - x0[1]**2)]\n",
    "plt.plot(x0, y0, color=\"b\", linewidth=2)\n",
    "plt.text(3.3, y0[1], 'P', fontsize=20)\n",
    "\n",
    "y1 = [0, -np.sqrt(r**2 - x0[1]**2)]\n",
    "plt.plot(x0, y1, color=\"b\", linewidth=2)\n",
    "plt.text(3.3, y1[1], 'Q', fontsize=20)\n",
    "\n",
    "plt.text(4, 0, 'M', fontsize=20)\n",
    "\n",
    "x2 = [3, 3]\n",
    "y2 = [np.sqrt(r**2 - x0[1]**2), -np.sqrt(r**2 - x0[1]**2)]\n",
    "plt.plot(x2, y2, color=\"g\", linewidth=2)\n",
    "\n",
    "plt.text(3, 0, 'D', fontsize=20)\n",
    "plt.text(-0.5, 0, 'O', fontsize=20)\n",
    "ax = plt.gca()\n",
    "ax.spines['bottom'].set_position(('data', 0))\n",
    "ax.spines['left'].set_position(('data',0))\n",
    "plt.xlim(-5,5)\n",
    "plt.ylim(-5,5)\n",
    "plt.grid(True)"
   ]
  },
  {
   "cell_type": "markdown",
   "metadata": {},
   "source": [
    "接下来我们来通过几何来证明，首先来说$\\lim\\limits_{\\Delta{x} \\to 0}\\frac{\\sin\\Delta{x}}{\\Delta{x}}=1$，我们假设$\\Delta{x}=\\theta$,这个$\\theta$也就是上图中线段OP和OM的夹角，也同样是OQ和OM的夹角，对于圆弧来说，$\\theta$就是弧PM，也是弧MQ。那么$\\sin{\\theta}$就是线段PD，也就是线段DQ。那么$\\lim\\limits_{\\Delta{x} \\to 0}\\frac{\\sin\\Delta{x}}{\\Delta{x}}=\\lim\\limits_{\\theta \\to 0}\\frac{\\sin\\theta{x}}{\\theta{x}}=\\lim\\limits_{\\theta \\to 0}\\frac{2\\sin\\theta{x}}{2\\theta{x}}$。当$\\theta$趋于0的时候，比率$\\frac{PQ}{PM+MQ}$会趋于变成一条融合的直线，所以结果就是1"
   ]
  },
  {
   "cell_type": "markdown",
   "metadata": {},
   "source": [
    "## 1.2.通用求导法则\n",
    "- 加法法则：$(\\alpha{f}+\\beta{g})'=\\alpha{f}'+\\beta{g}'$\n",
    "- 乘法法则：$(fg)'=f'g+fg'$\n",
    "- 除法法则：$(\\frac{f}{g})'=\\frac{f'g-fg'}{g^2}$\n",
    "- 复合函数：$f(x)=h(g(x)), f'(x)=h'(g(x)) * g'(x)$"
   ]
  },
  {
   "cell_type": "markdown",
   "metadata": {},
   "source": [
    "接下来我们来证明导数的乘法法则，根据导数的定义，我们有:\n",
    "$$\n",
    "\\begin{split}\n",
    "\\frac{d}{dx}UV&=\\lim\\limits_{\\Delta{x} \\to 0}\\frac{U(x+\\Delta{x})V(x+\\Delta{x})-U(x)V(x)}{\\Delta{x}} \\\\\\\\\n",
    "&=\\lim\\limits_{\\Delta{x} \\to 0}\\frac{[U(x+\\Delta{x})-U(x)]V(x+\\Delta{x})+U(x)V(x+\\Delta{x})-U(x)V(x)}{\\Delta{x}} \\\\\\\\\n",
    "&=\\lim\\limits_{\\Delta{x} \\to 0}\\frac{[U(x+\\Delta{x})-U(x)]V(x+\\Delta{x})+U(x)[V(x+\\Delta{x})-V(x)]}{\\Delta{x}} \\\\\\\\\n",
    "&\\because U(x+\\Delta{x})-U(x)=\\Delta{U},V(x+\\Delta{x})-V(x)=\\Delta{V} \\\\\\\\\n",
    "&\\therefore \\Rightarrow \\lim\\limits_{\\Delta{x} \\to 0}\\frac{\\Delta{U}V(x+\\Delta{x})+U(x)\\Delta{V}}{\\Delta{x}} \\\\\\\\\n",
    "&=\\lim\\limits_{\\Delta{x} \\to 0}[\\frac{\\Delta{U}}{\\Delta{x}}V(x+\\Delta{x})+U(x)\\frac{\\Delta{V}}{\\Delta{x}}] \\\\\\\\\n",
    "&=U'V+UV'\n",
    "\\end{split}\n",
    "$$"
   ]
  },
  {
   "cell_type": "markdown",
   "metadata": {},
   "source": [
    "# 2.链式法则\n",
    "若函数$\\mu=\\phi(t),\\nu=\\psi(t)$，在点t可导，$z=f(\\mu,\\nu)$，那么就有\n",
    "$$\\frac{\\partial{z}}{\\partial{t}}=\\frac{\\partial{z}}{\\partial{\\mu}} \\bullet \\frac{\\partial{\\mu}}{\\partial{t}} + \\frac{\\partial{z}}{\\partial{\\nu}} \\bullet \\frac{\\partial{\\nu}}{\\partial{t}}$$\n",
    "其实就是\n",
    "$$\\frac{\\partial{f}}{\\partial{\\omega}}=\\frac{\\partial{f}}{\\partial{q}} \\bullet \\frac{\\partial{q}}{\\partial{\\omega}}$$"
   ]
  },
  {
   "cell_type": "markdown",
   "metadata": {},
   "source": [
    "# 3.隐函数的微分\n",
    "只给出了y和x的某种关系，而没有写成y=f(x)的形式的函数，这就是隐函数"
   ]
  },
  {
   "cell_type": "markdown",
   "metadata": {},
   "source": [
    "求$y=x^\\frac{m}{n}$的导数\n",
    "$$\n",
    "\\begin{split}\n",
    "y&=x^\\frac{m}{n} \\\\\n",
    "&\\Rightarrow y^n=x^m \\\\\n",
    "&\\Rightarrow \\frac{d}{dx}y^n=\\frac{d}{dx}x^m \\\\\n",
    "&\\Rightarrow \\frac{d}{dy}y^n \\times \\frac{d}{dx}y=mx^{m-1} \\\\\n",
    "&\\Rightarrow ny^{n-1} \\times \\frac{d}{dx}y=mx^{m-1} \\\\\n",
    "&\\Rightarrow \\frac{d}{dx}y = \\frac{mx^{m-1}}{ny^{n-1}} \\\\\n",
    "&\\Rightarrow \\frac{d}{dx}y = \\frac{m}{n} \\times \\frac{x^{m-1}}{y^{n-1}} \\\\\n",
    "&\\because y=x^\\frac{m}{n} \\\\\n",
    "&\\Rightarrow \\frac{d}{dx}y = \\frac{m}{n} \\times \\frac{x^{m-1}}{x^{\\frac{m}{n}(n-1)}} \\\\\n",
    "&\\Rightarrow \\frac{d}{dx}y = \\frac{m}{n} \\times x^{m-1-m+\\frac{m}{n}} \\\\\n",
    "&\\Rightarrow \\frac{d}{dx}y = \\frac{m}{n} \\times x^{\\frac{m}{n}-1} \\\\\n",
    "&\\text{set} \\frac{m}{n}=a \\\\\n",
    "&\\Rightarrow \\frac{d}{dx}y=ax^{a-1}\n",
    "\\end{split}\n",
    "$$"
   ]
  },
  {
   "cell_type": "markdown",
   "metadata": {},
   "source": [
    "对隐函数求导需要用到链式法则，一般来说对隐函数求导有两种方法:\n",
    "- 先将隐函数写成显函数的形式，然后求导\n",
    "- 对隐函数直接求导"
   ]
  },
  {
   "cell_type": "markdown",
   "metadata": {},
   "source": [
    "例子：对$x^2+y^2=1$求导."
   ]
  },
  {
   "cell_type": "markdown",
   "execution_count": null,
   "metadata": {},
   "outputs": [],
   "source": [
    "M1：\n",
    "$$\n",
    "\\begin{split}\n",
    "&\\because x^2+y^2=1 \\\\\n",
    "&\\therefore y=\\sqrt{1-x^2}=(1-x^2)^\\frac{1}{2} \\\\\\\\\n",
    "\\frac{d}{dx}y&=\\frac{1}{2}(1-x^2)^\\frac{-1}{2} \\times -2x \\\\\\\\\n",
    "\\frac{d}{dx}y&=\\frac{-x}{\\sqrt{1-x^2}}\n",
    "\\end{split}\n",
    "$$"
   ]
  },
  {
   "cell_type": "markdown",
   "execution_count": null,
   "metadata": {},
   "outputs": [],
   "source": [
    "M2:\n",
    "$$\n",
    "\\begin{split}\n",
    "\\frac{d}{dx}(x^2+y^2)&=\\frac{d}{dx}1 \\\\\n",
    "2x+2y\\frac{d}{dx}y&=0 \\\\\\\\\n",
    "\\frac{d}{dx}y=\\frac{-2x}{2y}&=\\frac{-x}{y} \\\\\n",
    "\\because y&=\\sqrt{1-x^2} \\\\\n",
    "\\therefore \\frac{d}{dx}y&=\\frac{-x}{\\sqrt{1-x^2}}\n",
    "\\end{split}\n",
    "$$"
   ]
  }
 ],
 "metadata": {
  "kernelspec": {
   "display_name": "Python 3",
   "language": "python",
   "name": "python3"
  },
  "language_info": {
   "codemirror_mode": {
    "name": "ipython",
    "version": 3
   },
   "file_extension": ".py",
   "mimetype": "text/x-python",
   "name": "python",
   "nbconvert_exporter": "python",
   "pygments_lexer": "ipython3",
   "version": "3.7.4-final"
  },
  "pycharm": {
   "stem_cell": {
    "cell_type": "raw",
    "source": [],
    "metadata": {
     "collapsed": false
    }
   }
  }
 },
 "nbformat": 4,
 "nbformat_minor": 1
}