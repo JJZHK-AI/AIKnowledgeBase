{
 "cells": [
  {
   "cell_type": "markdown",
   "metadata": {
    "collapsed": true
   },
   "source": [
    " 求导与链式法则\n",
    " ==="
   ]
  },
  {
   "cell_type": "markdown",
   "metadata": {},
   "source": [
    "# 1.求导公式"
   ]
  },
  {
   "cell_type": "markdown",
   "metadata": {},
   "source": [
    "## 1.1.对特定函数的求导\n",
    "$\\frac{d}{dx}x^a=ax^{a-1}$<br/>\n",
    "$\\frac{d}{dx}e^x=e^x$<br/>\n",
    "$\\frac{d}{dx}a^x=ln(a)a^x$<br/>\n",
    "$\\frac{d}{dx}ln(x)=\\frac{1}{x}$<br/>\n",
    "$\\frac{d}{dx}sin(x)=cos(x)$<br/>\n",
    "$\\frac{d}{dx}cos(x)=-sin(x)$<br/>"
   ]
  },
  {
   "cell_type": "markdown",
   "metadata": {},
   "source": [
    "> $\\frac{d}{dx}\\sin{x}=\\cos{x}$的证明,根据定义，可以得到如下公式\n",
    "$$\\begin{split}\n",
    "\\frac{d}{dx}sin(x) &=\\lim\\limits_{\\Delta{x} \\to 0}\\frac{\\sin{(x+\\Delta{x})}-\\sin{x}}{\\Delta{x}} \\\\\\\\\n",
    "&=\\lim\\limits_{\\Delta{x} \\to 0}\\frac{\\sin{x}\\cos\\Delta{x}+\\cos{x}\\sin{\\Delta{x}}-\\sin{x}}{\\Delta{x}} \\\\\\\\\n",
    "&=\\lim\\limits_{\\Delta{x} \\to 0}\\sin{x} \\times \\frac{\\cos{\\Delta{x}}-1}{\\Delta{x}}+\\cos{x} \\times \\frac{\\sin{\\Delta{x}}}{\\Delta{x}} \\\\\\\\\n",
    "&\\because \\lim\\limits_{\\Delta{x} \\to 0}\\frac{\\cos{\\Delta{x}}-1}{\\Delta{x}}=0,\\lim\\limits_{\\Delta{x} \\to 0}\\frac{\\sin{\\Delta{x}}}{\\Delta{x}}=1 \\\\\\\\\n",
    "&\\Rightarrow \\cos{x}\n",
    "\\end{split}$$"
   ]
  },
  {
   "cell_type": "markdown",
   "metadata": {},
   "source": [
    "> $\\frac{d}{dx}\\cos{x}=-\\sin{x}$的证明,根据定义，可以得到如下公式\n",
    "$$\\begin{split}\n",
    "\\frac{d}{dx}\\cos{x} &=\\lim\\limits_{\\Delta{x} \\to 0}\\frac{\\cos{(x+\\Delta{x})}-\\cos{x}}{\\Delta{x}} \\\\\\\\\n",
    "&=\\lim\\limits_{\\Delta{x} \\to 0}\\frac{\\cos{x}\\cos\\Delta{x}-\\sin{x}\\sin\\Delta{x}-\\cos{x}}{\\Delta{x}} \\\\\\\\\n",
    "&=\\lim\\limits_{\\Delta{x} \\to 0}\\cos{x} \\times \\frac{\\cos{\\Delta{x}}-1}{\\Delta{x}}+(-\\sin{x}) \\times \\frac{\\sin{\\Delta{x}}}{\\Delta{x}} \\\\\\\\\n",
    "&\\because \\lim\\limits_{\\Delta{x} \\to 0}\\frac{\\cos{\\Delta{x}}-1}{\\Delta{x}}=0,\\lim\\limits_{\\Delta{x} \\to 0}\\frac{\\sin{\\Delta{x}}}{\\Delta{x}}=1 \\\\\\\\\n",
    "&\\Rightarrow -\\sin{x}\n",
    "\\end{split}$$"
   ]
  },
  {
   "cell_type": "markdown",
   "metadata": {},
   "source": [
    "> 对于上述两个公式的证明：首先我们计算一下$\\frac{d}{dx}\\cos{x}$，根据定义，有\n",
    "$$\\frac{d}{dx}\\cos{x}=\\lim\\limits_{\\Delta{x} \\to 0}\\frac{\\cos{(x+\\Delta{x})}-\\cos{x}}{\\Delta{x}}$$\n",
    "我们计算$x=0$处的导数，也就是曲线$\\cos{x}$在$x=0$处的切线的斜率，我们知道cos曲线在x=0处的切线的斜率是0。也就是说当$x=0$的时候,$\\frac{d}{dx}\\cos{x}=0$，那么就有\n",
    "$$\\begin{split}\n",
    "\\lim\\limits_{\\Delta{x} \\to 0}\\frac{\\cos{(0+\\Delta{x})}-\\cos{0}}{\\Delta{x}}&=0\\\\\\\\\n",
    "\\lim\\limits_{\\Delta{x} \\to 0}\\frac{\\cos{\\Delta{x}}-1}{\\Delta{x}} &=0\n",
    "\\end{split}$$\n",
    "同样的办法也可以证明$\\lim\\limits_{\\Delta{x} \\to 0}\\frac{\\sin{\\Delta{x}}}{\\Delta{x}}=1$,$\\sin{x}$曲线在$x=0$这一点上的切线的斜率为1，也就是切线方程是$y=x$"
   ]
  },
  {
   "cell_type": "code",
   "execution_count": 2,
   "metadata": {},
   "outputs": [
    {
     "data": {
      "image/png": "[encoded data removed]",
      "text/plain": [
       "<Figure size 576x576 with 1 Axes>"
      ]
     },
     "metadata": {},
     "output_type": "display_data"
    }
   ],
   "source": [
    "from matplotlib import pyplot as plt\n",
    "import numpy as np\n",
    "\n",
    "plt.figure(figsize=(8,8), facecolor='w')\n",
    "\n",
    "x = np.linspace(-4, 4, 1000)\n",
    "r = 4\n",
    "y = np.sqrt(r**2 - x**2)\n",
    "\n",
    "plt.plot(x, y, color=\"r\", linewidth=2)\n",
    "plt.plot(x, -y, color=\"r\", linewidth=2)\n",
    "\n",
    "x0 = [0, 3]\n",
    "y0 = [0, np.sqrt(r**2 - x0[1]**2)]\n",
    "plt.plot(x0, y0, color=\"b\", linewidth=2)\n",
    "plt.text(3.3, y0[1], 'P', fontsize=20)\n",
    "\n",
    "y1 = [0, -np.sqrt(r**2 - x0[1]**2)]\n",
    "plt.plot(x0, y1, color=\"b\", linewidth=2)\n",
    "plt.text(3.3, y1[1], 'Q', fontsize=20)\n",
    "\n",
    "plt.text(4, 0, 'M', fontsize=20)\n",
    "\n",
    "x2 = [3, 3]\n",
    "y2 = [np.sqrt(r**2 - x0[1]**2), -np.sqrt(r**2 - x0[1]**2)]\n",
    "plt.plot(x2, y2, color=\"g\", linewidth=2)\n",
    "\n",
    "plt.text(3, 0, 'D', fontsize=20)\n",
    "plt.text(-0.5, 0, 'O', fontsize=20)\n",
    "ax = plt.gca()\n",
    "ax.spines['bottom'].set_position(('data', 0))\n",
    "ax.spines['left'].set_position(('data',0))\n",
    "plt.xlim(-5,5)\n",
    "plt.ylim(-5,5)\n",
    "plt.show()"
   ]
  },
  {
   "cell_type": "markdown",
   "metadata": {},
   "source": [
    "接下来我们来通过几何来证明，首先来说$\\lim\\limits_{\\Delta{x} \\to 0}\\frac{\\sin\\Delta{x}}{\\Delta{x}}=1$，我们假设$\\Delta{x}=\\theta$,这个$\\theta$也就是上图中线段OP和OM的夹角，也同样是OQ和OM的夹角，对于圆弧来说，$\\theta$就是弧PM，也是弧MQ。那么$\\sin{\\theta}$就是线段PD，也就是线段DQ。那么$\\lim\\limits_{\\Delta{x} \\to 0}\\frac{\\sin\\Delta{x}}{\\Delta{x}}=\\lim\\limits_{\\theta \\to 0}\\frac{\\sin\\theta{x}}{\\theta{x}}=\\lim\\limits_{\\theta \\to 0}\\frac{2\\sin\\theta{x}}{2\\theta{x}}$。当$\\theta$趋于0的时候，比率$\\frac{PQ}{PM+MQ}$会趋于变成一条融合的直线，所以结果就是1"
   ]
  },
  {
   "cell_type": "markdown",
   "metadata": {},
   "source": [
    "## 1.2.通用求导法则\n",
    "- 加法法则：$(\\alpha{f}+\\beta{g})'=\\alpha{f}'+\\beta{g}'$\n",
    "- 乘法法则：$(fg)'=f'g+fg'$\n",
    "- 除法法则：$(\\frac{f}{g})'=\\frac{f'g-fg'}{g^2}$\n",
    "- 复合函数：$f(x)=h(g(x)), f'(x)=h'(g(x)) * g'(x)$"
   ]
  },
  {
   "cell_type": "markdown",
   "metadata": {},
   "source": [
    "接下来我们来证明导数的乘法法则\n",
    "> 根据导数的定义，我们有:\n",
    "$$\\begin{split}\n",
    "\\frac{d}{dx}UV&=\\lim\\limits_{\\Delta{x} \\to 0}\\frac{U(x+\\Delta{x})V(x+\\Delta{x})-U(x)V(x)}{\\Delta{x}} \\\\\\\\\n",
    "&=\\lim\\limits_{\\Delta{x} \\to 0}\\frac{[U(x+\\Delta{x})-U(x)]V(x+\\Delta{x})+U(x)V(x+\\Delta{x})-U(x)V(x)}{\\Delta{x}} \\\\\\\\\n",
    "&=\\lim\\limits_{\\Delta{x} \\to 0}\\frac{[U(x+\\Delta{x})-U(x)]V(x+\\Delta{x})+U(x)[V(x+\\Delta{x})-V(x)]}{\\Delta{x}} \\\\\\\\\n",
    "&\\because U(x+\\Delta{x})-U(x)=\\Delta{U},V(x+\\Delta{x})-V(x)=\\Delta{V} \\\\\\\\\n",
    "&\\therefore \\Rightarrow \\lim\\limits_{\\Delta{x} \\to 0}\\frac{\\Delta{U}V(x+\\Delta{x})+U(x)\\Delta{V}}{\\Delta{x}} \\\\\\\\\n",
    "&=\\lim\\limits_{\\Delta{x} \\to 0}[\\frac{\\Delta{U}}{\\Delta{x}}V(x+\\Delta{x})+U(x)\\frac{\\Delta{V}}{\\Delta{x}}] \\\\\\\\\n",
    "&=U'V+UV'\n",
    "\\end{split}$$"
   ]
  },
  {
   "cell_type": "markdown",
   "metadata": {},
   "source": [
    "# 2.链式法则\n",
    "若函数$\\mu=\\phi(t),\\nu=\\psi(t)$，在点t可到，$z=f(\\mu,\\nu)$，那么就有\n",
    "$$\\frac{\\partial{z}}{\\partial{t}}=\\frac{\\partial{z}}{\\partial{\\mu}} \\bullet \\frac{\\partial{\\mu}}{\\partial{t}} + \\frac{\\partial{z}}{\\partial{\\nu}} \\bullet \\frac{\\partial{\\nu}}{\\partial{t}}$$\n",
    "其实就是\n",
    "$$\\frac{\\partial{f}}{\\partial{\\omega}}=\\frac{\\partial{f}}{\\partial{q}} \\bullet \\frac{\\partial{q}}{\\partial{\\omega}}$$"
   ]
  },
  {
   "cell_type": "markdown",
   "metadata": {},
   "source": [
    "# 3.隐函数的微分\n",
    "> 隐函数：只给出了y和x的某种关系，而没有写成y=f(x)的形式的函数"
   ]
  },
  {
   "cell_type": "markdown",
   "metadata": {},
   "source": [
    "> 求$y=x^\\frac{m}{n}$的导数\n",
    "$$\\begin{split}\n",
    "y&=x^\\frac{m}{n} \\Rightarrow y^n=x^m \\\\\\\\\n",
    "&\\Rightarrow \\frac{d}{dx}y^n=\\frac{d}{dx}x^m \\Rightarrow \\frac{d}{dy}y^n \\times \\frac{d}{dx}y=mx^{m-1} \\\\\\\\\n",
    "&\\Rightarrow ny^{n-1} \\times \\frac{d}{dx}y=mx^{m-1} \\\\\\\\\n",
    "&\\Rightarrow \\frac{d}{dx}y = \\frac{mx^{m-1}}{ny^{n-1}} \\Rightarrow \\frac{d}{dx}y = \\frac{m}{n} \\times \\frac{x^{m-1}}{y^{n-1}} \\\\\\\\\n",
    "&\\because y=x^\\frac{m}{n} \\Rightarrow \\frac{d}{dx}y = \\frac{m}{n} \\times \\frac{x^{m-1}}{x^{\\frac{m}{n}(n-1)}} \\\\\\\\\n",
    "&\\Rightarrow \\frac{d}{dx}y = \\frac{m}{n} \\times x^{m-1-m+\\frac{m}{n}} \\\\\\\\\n",
    "&\\Rightarrow \\frac{d}{dx}y = \\frac{m}{n} \\times x^{\\frac{m}{n}-1} \\\\\\\\\n",
    "&令\\frac{m}{n}=a \\Rightarrow \\frac{d}{dx}y=ax^{a-1}\n",
    "\\end{split}$$"
   ]
  },
  {
   "cell_type": "markdown",
   "metadata": {},
   "source": [
    "对隐函数求导需要用到链式法则，一般来说对隐函数求导有两种方法，一种就是先将隐函数写成显函数的形式，然后求导；第二种办法就是对隐函数直接求导。我们来看一下效果。"
   ]
  },
  {
   "cell_type": "markdown",
   "metadata": {},
   "source": [
    "> 对$x^2+y^2=1$求导.<br/>\n",
    "M1：\n",
    "$$\\begin{split}\n",
    "\\because x^2+y^2=1 \\therefore y&=\\sqrt{1-x^2}=(1-x^2)^\\frac{1}{2} \\\\\\\\\n",
    "\\frac{d}{dx}y&=\\frac{1}{2}(1-x^2)^\\frac{-1}{2} \\times -2x \\\\\\\\\n",
    "\\frac{d}{dx}y&=\\frac{-x}{\\sqrt{1-x^2}}\n",
    "\\end{split}$$\n",
    "M2:\n",
    "$$\\begin{split}\n",
    "\\frac{d}{dx}(x^2+y^2)&=\\frac{d}{dx}1 \\\\\\\\\n",
    "2x+2y\\frac{d}{dx}y&=0 \\\\\\\\\n",
    "\\frac{d}{dx}y&=\\frac{-2x}{2y}=\\frac{-x}{y}\\\\\\\\\n",
    "\\because y=\\sqrt{1-x^2} \\therefore \\frac{d}{dx}y=\\frac{-x}{\\sqrt{1-x^2}}\n",
    "\\end{split}$$"
   ]
  }
 ],
 "metadata": {
  "kernelspec": {
   "display_name": "Python 3",
   "language": "python",
   "name": "python3"
  },
  "language_info": {
   "codemirror_mode": {
    "name": "ipython",
    "version": 3
   },
   "file_extension": ".py",
   "mimetype": "text/x-python",
   "name": "python",
   "nbconvert_exporter": "python",
   "pygments_lexer": "ipython3",
   "version": "3.6.8"
  }
 },
 "nbformat": 4,
 "nbformat_minor": 1
}
