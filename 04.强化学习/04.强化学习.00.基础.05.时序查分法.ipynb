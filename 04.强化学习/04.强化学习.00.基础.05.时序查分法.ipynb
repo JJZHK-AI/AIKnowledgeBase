{
  "cells": [
    {
      "cell_type": "markdown",
      "metadata": {
        "collapsed": true,
        "pycharm": {
          "name": "#%% md\n"
        }
      },
      "source": "时序查分法\n\u003d\u003d\u003d"
    },
    {
      "cell_type": "markdown",
      "source": "# 1.时序查分法\n时序查分法不需要环境模型，完全根据经验进行学习。每一步进行迭代，不需要等任务完成。\n",
      "metadata": {
        "pycharm": {
          "metadata": false,
          "name": "#%% md\n"
        }
      }
    }
  ],
  "metadata": {
    "language_info": {
      "codemirror_mode": {
        "name": "ipython",
        "version": 2
      },
      "file_extension": ".py",
      "mimetype": "text/x-python",
      "name": "python",
      "nbconvert_exporter": "python",
      "pygments_lexer": "ipython2",
      "version": "2.7.6"
    },
    "kernelspec": {
      "name": "python3",
      "language": "python",
      "display_name": "Python 3"
    }
  },
  "nbformat": 4,
  "nbformat_minor": 0
}