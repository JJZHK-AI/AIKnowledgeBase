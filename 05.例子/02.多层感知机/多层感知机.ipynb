{
 "nbformat": 4,
 "nbformat_minor": 2,
 "metadata": {
  "language_info": {
   "name": "python",
   "codemirror_mode": {
    "name": "ipython",
    "version": 3
   },
   "version": "3.6.10-final"
  },
  "orig_nbformat": 2,
  "file_extension": ".py",
  "mimetype": "text/x-python",
  "name": "python",
  "npconvert_exporter": "python",
  "pygments_lexer": "ipython3",
  "version": 3,
  "kernelspec": {
   "name": "python36964bitanaconda3virtualenv5d618e8c7b894374a565943176146b80",
   "display_name": "Python 3.6.9 64-bit ('anaconda3': virtualenv)"
  }
 },
 "cells": [
  {
   "cell_type": "markdown",
   "metadata": {},
   "source": [
    "多层感知机\n",
    "==="
   ]
  },
  {
   "cell_type": "code",
   "execution_count": 1,
   "metadata": {},
   "outputs": [],
   "source": [
    "import time\n",
    "import numpy as np\n",
    "from torchvision import datasets\n",
    "from torchvision import transforms\n",
    "from torch.utils.data import DataLoader\n",
    "import torch.nn.functional as F\n",
    "import torch\n",
    "\n",
    "if torch.cuda.is_available():\n",
    "    torch.backends.cudnn.deterministic = True"
   ]
  },
  {
   "cell_type": "markdown",
   "metadata": {},
   "source": [
    "# 1.导入数据集"
   ]
  },
  {
   "cell_type": "code",
   "execution_count": 2,
   "metadata": {},
   "outputs": [
    {
     "name": "stdout",
     "output_type": "stream",
     "text": "Image batch dimensions: torch.Size([64, 1, 28, 28])\nImage label dimensions: torch.Size([64])\n"
    }
   ],
   "source": [
    "device = torch.device(\"cuda:3\" if torch.cuda.is_available() else \"cpu\")\n",
    "\n",
    "# Hyperparameters\n",
    "random_seed = 1\n",
    "learning_rate = 0.1\n",
    "num_epochs = 10\n",
    "batch_size = 64\n",
    "\n",
    "# Architecture\n",
    "num_features = 784\n",
    "num_hidden_1 = 128\n",
    "num_hidden_2 = 256\n",
    "num_classes = 10\n",
    "\n",
    "\n",
    "##########################\n",
    "### MNIST DATASET\n",
    "##########################\n",
    "\n",
    "# Note transforms.ToTensor() scales input images\n",
    "# to 0-1 range\n",
    "train_dataset = datasets.MNIST(root='/Users/JJZHK/data/input/', \n",
    "                               train=True, \n",
    "                               transform=transforms.ToTensor(),\n",
    "                               download=False)\n",
    "\n",
    "test_dataset = datasets.MNIST(root='/Users/JJZHK/data/input/', \n",
    "                              train=False, \n",
    "                              transform=transforms.ToTensor())\n",
    "\n",
    "\n",
    "train_loader = DataLoader(dataset=train_dataset, \n",
    "                          batch_size=batch_size, \n",
    "                          shuffle=True)\n",
    "\n",
    "test_loader = DataLoader(dataset=test_dataset, \n",
    "                         batch_size=batch_size, \n",
    "                         shuffle=False)\n",
    "\n",
    "# Checking the dataset\n",
    "for images, labels in train_loader:  \n",
    "    print('Image batch dimensions:', images.shape)\n",
    "    print('Image label dimensions:', labels.shape)\n",
    "    break"
   ]
  },
  {
   "cell_type": "code",
   "execution_count": 3,
   "metadata": {},
   "outputs": [],
   "source": [
    "class MultilayerPerceptron(torch.nn.Module):\n",
    "\n",
    "    def __init__(self, num_features, num_classes):\n",
    "        super(MultilayerPerceptron, self).__init__()\n",
    "        \n",
    "        ### 1st hidden layer\n",
    "        self.linear_1 = torch.nn.Linear(num_features, num_hidden_1)\n",
    "        # The following two lines are not necessary, \n",
    "        # but used here to demonstrate how to access the weights\n",
    "        # and use a different weight initialization.\n",
    "        # By default, PyTorch uses Xavier/Glorot initialization, which\n",
    "        # should usually be preferred.\n",
    "        self.linear_1.weight.detach().normal_(0.0, 0.1)\n",
    "        self.linear_1.bias.detach().zero_()\n",
    "        \n",
    "        ### 2nd hidden layer\n",
    "        self.linear_2 = torch.nn.Linear(num_hidden_1, num_hidden_2)\n",
    "        self.linear_2.weight.detach().normal_(0.0, 0.1)\n",
    "        self.linear_2.bias.detach().zero_()\n",
    "        \n",
    "        ### Output layer\n",
    "        self.linear_out = torch.nn.Linear(num_hidden_2, num_classes)\n",
    "        self.linear_out.weight.detach().normal_(0.0, 0.1)\n",
    "        self.linear_out.bias.detach().zero_()\n",
    "        \n",
    "    def forward(self, x):\n",
    "        out = self.linear_1(x)\n",
    "        out = F.relu(out)\n",
    "        out = self.linear_2(out)\n",
    "        out = F.relu(out)\n",
    "        logits = self.linear_out(out)\n",
    "        probas = F.log_softmax(logits, dim=1)\n",
    "        return logits, probas\n",
    "\n",
    "    \n",
    "torch.manual_seed(random_seed)\n",
    "model = MultilayerPerceptron(num_features=num_features,\n",
    "                             num_classes=num_classes)\n",
    "\n",
    "model = model.to(device)\n",
    "\n",
    "optimizer = torch.optim.SGD(model.parameters(), lr=learning_rate)  "
   ]
  },
  {
   "cell_type": "markdown",
   "metadata": {},
   "source": [
    "# 2.训练模型"
   ]
  },
  {
   "cell_type": "code",
   "execution_count": 4,
   "metadata": {},
   "outputs": [
    {
     "name": "stdout",
     "output_type": "stream",
     "text": "Epoch: 001/010 | Batch 000/938 | Cost: 2.4231\nEpoch: 001/010 | Batch 050/938 | Cost: 0.7213\nEpoch: 001/010 | Batch 100/938 | Cost: 0.3137\nEpoch: 001/010 | Batch 150/938 | Cost: 0.4774\nEpoch: 001/010 | Batch 200/938 | Cost: 0.3311\nEpoch: 001/010 | Batch 250/938 | Cost: 0.3081\nEpoch: 001/010 | Batch 300/938 | Cost: 0.3944\nEpoch: 001/010 | Batch 350/938 | Cost: 0.2296\nEpoch: 001/010 | Batch 400/938 | Cost: 0.0828\nEpoch: 001/010 | Batch 450/938 | Cost: 0.2247\nEpoch: 001/010 | Batch 500/938 | Cost: 0.2467\nEpoch: 001/010 | Batch 550/938 | Cost: 0.1541\nEpoch: 001/010 | Batch 600/938 | Cost: 0.2409\nEpoch: 001/010 | Batch 650/938 | Cost: 0.4143\nEpoch: 001/010 | Batch 700/938 | Cost: 0.2905\nEpoch: 001/010 | Batch 750/938 | Cost: 0.3491\nEpoch: 001/010 | Batch 800/938 | Cost: 0.1403\nEpoch: 001/010 | Batch 850/938 | Cost: 0.0682\nEpoch: 001/010 | Batch 900/938 | Cost: 0.2784\nEpoch: 001/010 training accuracy: 94.88%\nTime elapsed: 0.19 min\nEpoch: 002/010 | Batch 000/938 | Cost: 0.3281\nEpoch: 002/010 | Batch 050/938 | Cost: 0.2818\nEpoch: 002/010 | Batch 100/938 | Cost: 0.0917\nEpoch: 002/010 | Batch 150/938 | Cost: 0.2296\nEpoch: 002/010 | Batch 200/938 | Cost: 0.2237\nEpoch: 002/010 | Batch 250/938 | Cost: 0.1611\nEpoch: 002/010 | Batch 300/938 | Cost: 0.0540\nEpoch: 002/010 | Batch 350/938 | Cost: 0.2380\nEpoch: 002/010 | Batch 400/938 | Cost: 0.0532\nEpoch: 002/010 | Batch 450/938 | Cost: 0.0970\nEpoch: 002/010 | Batch 500/938 | Cost: 0.2395\nEpoch: 002/010 | Batch 550/938 | Cost: 0.2064\nEpoch: 002/010 | Batch 600/938 | Cost: 0.1637\nEpoch: 002/010 | Batch 650/938 | Cost: 0.1724\nEpoch: 002/010 | Batch 700/938 | Cost: 0.2009\nEpoch: 002/010 | Batch 750/938 | Cost: 0.0853\nEpoch: 002/010 | Batch 800/938 | Cost: 0.1704\nEpoch: 002/010 | Batch 850/938 | Cost: 0.1077\nEpoch: 002/010 | Batch 900/938 | Cost: 0.1550\nEpoch: 002/010 training accuracy: 96.63%\nTime elapsed: 0.39 min\nEpoch: 003/010 | Batch 000/938 | Cost: 0.1070\nEpoch: 003/010 | Batch 050/938 | Cost: 0.0976\nEpoch: 003/010 | Batch 100/938 | Cost: 0.0770\nEpoch: 003/010 | Batch 150/938 | Cost: 0.1936\nEpoch: 003/010 | Batch 200/938 | Cost: 0.1213\nEpoch: 003/010 | Batch 250/938 | Cost: 0.2554\nEpoch: 003/010 | Batch 300/938 | Cost: 0.0648\nEpoch: 003/010 | Batch 350/938 | Cost: 0.1116\nEpoch: 003/010 | Batch 400/938 | Cost: 0.0816\nEpoch: 003/010 | Batch 450/938 | Cost: 0.0857\nEpoch: 003/010 | Batch 500/938 | Cost: 0.0721\nEpoch: 003/010 | Batch 550/938 | Cost: 0.0507\nEpoch: 003/010 | Batch 600/938 | Cost: 0.2003\nEpoch: 003/010 | Batch 650/938 | Cost: 0.1132\nEpoch: 003/010 | Batch 700/938 | Cost: 0.2054\nEpoch: 003/010 | Batch 750/938 | Cost: 0.0627\nEpoch: 003/010 | Batch 800/938 | Cost: 0.0192\nEpoch: 003/010 | Batch 850/938 | Cost: 0.0174\nEpoch: 003/010 | Batch 900/938 | Cost: 0.0655\nEpoch: 003/010 training accuracy: 97.69%\nTime elapsed: 0.60 min\nEpoch: 004/010 | Batch 000/938 | Cost: 0.0069\nEpoch: 004/010 | Batch 050/938 | Cost: 0.0335\nEpoch: 004/010 | Batch 100/938 | Cost: 0.1622\nEpoch: 004/010 | Batch 150/938 | Cost: 0.0583\nEpoch: 004/010 | Batch 200/938 | Cost: 0.0326\nEpoch: 004/010 | Batch 250/938 | Cost: 0.1520\nEpoch: 004/010 | Batch 300/938 | Cost: 0.2202\nEpoch: 004/010 | Batch 350/938 | Cost: 0.0218\nEpoch: 004/010 | Batch 400/938 | Cost: 0.1188\nEpoch: 004/010 | Batch 450/938 | Cost: 0.1793\nEpoch: 004/010 | Batch 500/938 | Cost: 0.1400\nEpoch: 004/010 | Batch 550/938 | Cost: 0.1098\nEpoch: 004/010 | Batch 600/938 | Cost: 0.0367\nEpoch: 004/010 | Batch 650/938 | Cost: 0.0529\nEpoch: 004/010 | Batch 700/938 | Cost: 0.1948\nEpoch: 004/010 | Batch 750/938 | Cost: 0.1514\nEpoch: 004/010 | Batch 800/938 | Cost: 0.0732\nEpoch: 004/010 | Batch 850/938 | Cost: 0.0511\nEpoch: 004/010 | Batch 900/938 | Cost: 0.1444\nEpoch: 004/010 training accuracy: 97.97%\nTime elapsed: 0.80 min\nEpoch: 005/010 | Batch 000/938 | Cost: 0.0238\nEpoch: 005/010 | Batch 050/938 | Cost: 0.0147\nEpoch: 005/010 | Batch 100/938 | Cost: 0.1190\nEpoch: 005/010 | Batch 150/938 | Cost: 0.0706\nEpoch: 005/010 | Batch 200/938 | Cost: 0.0436\nEpoch: 005/010 | Batch 250/938 | Cost: 0.0807\nEpoch: 005/010 | Batch 300/938 | Cost: 0.0664\nEpoch: 005/010 | Batch 350/938 | Cost: 0.0936\nEpoch: 005/010 | Batch 400/938 | Cost: 0.0355\nEpoch: 005/010 | Batch 450/938 | Cost: 0.0491\nEpoch: 005/010 | Batch 500/938 | Cost: 0.1382\nEpoch: 005/010 | Batch 550/938 | Cost: 0.1158\nEpoch: 005/010 | Batch 600/938 | Cost: 0.0665\nEpoch: 005/010 | Batch 650/938 | Cost: 0.0272\nEpoch: 005/010 | Batch 700/938 | Cost: 0.0557\nEpoch: 005/010 | Batch 750/938 | Cost: 0.0457\nEpoch: 005/010 | Batch 800/938 | Cost: 0.0410\nEpoch: 005/010 | Batch 850/938 | Cost: 0.1116\nEpoch: 005/010 | Batch 900/938 | Cost: 0.0329\nEpoch: 005/010 training accuracy: 98.57%\nTime elapsed: 1.01 min\nEpoch: 006/010 | Batch 000/938 | Cost: 0.1076\nEpoch: 006/010 | Batch 050/938 | Cost: 0.0915\nEpoch: 006/010 | Batch 100/938 | Cost: 0.0676\nEpoch: 006/010 | Batch 150/938 | Cost: 0.0287\nEpoch: 006/010 | Batch 200/938 | Cost: 0.0410\nEpoch: 006/010 | Batch 250/938 | Cost: 0.0719\nEpoch: 006/010 | Batch 300/938 | Cost: 0.0824\nEpoch: 006/010 | Batch 350/938 | Cost: 0.0592\nEpoch: 006/010 | Batch 400/938 | Cost: 0.1162\nEpoch: 006/010 | Batch 450/938 | Cost: 0.0541\nEpoch: 006/010 | Batch 500/938 | Cost: 0.0729\nEpoch: 006/010 | Batch 550/938 | Cost: 0.1780\nEpoch: 006/010 | Batch 600/938 | Cost: 0.0509\nEpoch: 006/010 | Batch 650/938 | Cost: 0.0322\nEpoch: 006/010 | Batch 700/938 | Cost: 0.0776\nEpoch: 006/010 | Batch 750/938 | Cost: 0.1157\nEpoch: 006/010 | Batch 800/938 | Cost: 0.0575\nEpoch: 006/010 | Batch 850/938 | Cost: 0.0749\nEpoch: 006/010 | Batch 900/938 | Cost: 0.1811\nEpoch: 006/010 training accuracy: 98.86%\nTime elapsed: 1.22 min\nEpoch: 007/010 | Batch 000/938 | Cost: 0.0057\nEpoch: 007/010 | Batch 050/938 | Cost: 0.0944\nEpoch: 007/010 | Batch 100/938 | Cost: 0.0375\nEpoch: 007/010 | Batch 150/938 | Cost: 0.1114\nEpoch: 007/010 | Batch 200/938 | Cost: 0.0261\nEpoch: 007/010 | Batch 250/938 | Cost: 0.0423\nEpoch: 007/010 | Batch 300/938 | Cost: 0.0644\nEpoch: 007/010 | Batch 350/938 | Cost: 0.0347\nEpoch: 007/010 | Batch 400/938 | Cost: 0.0256\nEpoch: 007/010 | Batch 450/938 | Cost: 0.0457\nEpoch: 007/010 | Batch 500/938 | Cost: 0.0160\nEpoch: 007/010 | Batch 550/938 | Cost: 0.0888\nEpoch: 007/010 | Batch 600/938 | Cost: 0.1131\nEpoch: 007/010 | Batch 650/938 | Cost: 0.0844\nEpoch: 007/010 | Batch 700/938 | Cost: 0.0294\nEpoch: 007/010 | Batch 750/938 | Cost: 0.0697\nEpoch: 007/010 | Batch 800/938 | Cost: 0.0145\nEpoch: 007/010 | Batch 850/938 | Cost: 0.0672\nEpoch: 007/010 | Batch 900/938 | Cost: 0.0558\nEpoch: 007/010 training accuracy: 99.00%\nTime elapsed: 1.42 min\nEpoch: 008/010 | Batch 000/938 | Cost: 0.0210\nEpoch: 008/010 | Batch 050/938 | Cost: 0.0201\nEpoch: 008/010 | Batch 100/938 | Cost: 0.0432\nEpoch: 008/010 | Batch 150/938 | Cost: 0.0370\nEpoch: 008/010 | Batch 200/938 | Cost: 0.0072\nEpoch: 008/010 | Batch 250/938 | Cost: 0.0546\nEpoch: 008/010 | Batch 300/938 | Cost: 0.0257\nEpoch: 008/010 | Batch 350/938 | Cost: 0.0338\nEpoch: 008/010 | Batch 400/938 | Cost: 0.0105\nEpoch: 008/010 | Batch 450/938 | Cost: 0.0051\nEpoch: 008/010 | Batch 500/938 | Cost: 0.0110\nEpoch: 008/010 | Batch 550/938 | Cost: 0.0043\nEpoch: 008/010 | Batch 600/938 | Cost: 0.0186\nEpoch: 008/010 | Batch 650/938 | Cost: 0.0426\nEpoch: 008/010 | Batch 700/938 | Cost: 0.0428\nEpoch: 008/010 | Batch 750/938 | Cost: 0.0143\nEpoch: 008/010 | Batch 800/938 | Cost: 0.0372\nEpoch: 008/010 | Batch 850/938 | Cost: 0.0058\nEpoch: 008/010 | Batch 900/938 | Cost: 0.0520\nEpoch: 008/010 training accuracy: 99.25%\nTime elapsed: 1.63 min\nEpoch: 009/010 | Batch 000/938 | Cost: 0.0333\nEpoch: 009/010 | Batch 050/938 | Cost: 0.0563\nEpoch: 009/010 | Batch 100/938 | Cost: 0.0125\nEpoch: 009/010 | Batch 150/938 | Cost: 0.0158\nEpoch: 009/010 | Batch 200/938 | Cost: 0.0791\nEpoch: 009/010 | Batch 250/938 | Cost: 0.0057\nEpoch: 009/010 | Batch 300/938 | Cost: 0.0071\nEpoch: 009/010 | Batch 350/938 | Cost: 0.0053\nEpoch: 009/010 | Batch 400/938 | Cost: 0.0521\nEpoch: 009/010 | Batch 450/938 | Cost: 0.0225\nEpoch: 009/010 | Batch 500/938 | Cost: 0.0228\nEpoch: 009/010 | Batch 550/938 | Cost: 0.0127\nEpoch: 009/010 | Batch 600/938 | Cost: 0.0941\nEpoch: 009/010 | Batch 650/938 | Cost: 0.0516\nEpoch: 009/010 | Batch 700/938 | Cost: 0.0188\nEpoch: 009/010 | Batch 750/938 | Cost: 0.0602\nEpoch: 009/010 | Batch 800/938 | Cost: 0.0059\nEpoch: 009/010 | Batch 850/938 | Cost: 0.1436\nEpoch: 009/010 | Batch 900/938 | Cost: 0.0031\nEpoch: 009/010 training accuracy: 99.28%\nTime elapsed: 1.83 min\nEpoch: 010/010 | Batch 000/938 | Cost: 0.0203\nEpoch: 010/010 | Batch 050/938 | Cost: 0.0169\nEpoch: 010/010 | Batch 100/938 | Cost: 0.0142\nEpoch: 010/010 | Batch 150/938 | Cost: 0.0107\nEpoch: 010/010 | Batch 200/938 | Cost: 0.0361\nEpoch: 010/010 | Batch 250/938 | Cost: 0.0218\nEpoch: 010/010 | Batch 300/938 | Cost: 0.0121\nEpoch: 010/010 | Batch 350/938 | Cost: 0.0177\nEpoch: 010/010 | Batch 400/938 | Cost: 0.0015\nEpoch: 010/010 | Batch 450/938 | Cost: 0.0095\nEpoch: 010/010 | Batch 500/938 | Cost: 0.0869\nEpoch: 010/010 | Batch 550/938 | Cost: 0.0115\nEpoch: 010/010 | Batch 600/938 | Cost: 0.0322\nEpoch: 010/010 | Batch 650/938 | Cost: 0.0479\nEpoch: 010/010 | Batch 700/938 | Cost: 0.0195\nEpoch: 010/010 | Batch 750/938 | Cost: 0.0102\nEpoch: 010/010 | Batch 800/938 | Cost: 0.0091\nEpoch: 010/010 | Batch 850/938 | Cost: 0.0098\nEpoch: 010/010 | Batch 900/938 | Cost: 0.0371\nEpoch: 010/010 training accuracy: 99.03%\nTime elapsed: 2.08 min\nTotal Training Time: 2.08 min\n"
    }
   ],
   "source": [
    "def compute_accuracy(net, data_loader):\n",
    "    net.eval()\n",
    "    correct_pred, num_examples = 0, 0\n",
    "    with torch.no_grad():\n",
    "        for features, targets in data_loader:\n",
    "            features = features.view(-1, 28*28).to(device)\n",
    "            targets = targets.to(device)\n",
    "            logits, probas = net(features)\n",
    "            _, predicted_labels = torch.max(probas, 1)\n",
    "            num_examples += targets.size(0)\n",
    "            correct_pred += (predicted_labels == targets).sum()\n",
    "        return correct_pred.float()/num_examples * 100\n",
    "    \n",
    "\n",
    "start_time = time.time()\n",
    "for epoch in range(num_epochs):\n",
    "    model.train()\n",
    "    for batch_idx, (features, targets) in enumerate(train_loader):\n",
    "        \n",
    "        features = features.view(-1, 28*28).to(device)\n",
    "        targets = targets.to(device)\n",
    "            \n",
    "        ### FORWARD AND BACK PROP\n",
    "        logits, probas = model(features)\n",
    "        cost = F.cross_entropy(logits, targets)\n",
    "        optimizer.zero_grad()\n",
    "        \n",
    "        cost.backward()\n",
    "        \n",
    "        ### UPDATE MODEL PARAMETERS\n",
    "        optimizer.step()\n",
    "        \n",
    "        ### LOGGING\n",
    "        if not batch_idx % 50:\n",
    "            print ('Epoch: %03d/%03d | Batch %03d/%03d | Cost: %.4f' \n",
    "                   %(epoch+1, num_epochs, batch_idx, \n",
    "                     len(train_loader), cost))\n",
    "\n",
    "    with torch.set_grad_enabled(False):\n",
    "        print('Epoch: %03d/%03d training accuracy: %.2f%%' % (\n",
    "              epoch+1, num_epochs, \n",
    "              compute_accuracy(model, train_loader)))\n",
    "        \n",
    "    print('Time elapsed: %.2f min' % ((time.time() - start_time)/60))\n",
    "    \n",
    "print('Total Training Time: %.2f min' % ((time.time() - start_time)/60))"
   ]
  },
  {
   "cell_type": "code",
   "execution_count": 5,
   "metadata": {},
   "outputs": [
    {
     "name": "stdout",
     "output_type": "stream",
     "text": "Test accuracy: 97.57%\n"
    }
   ],
   "source": [
    "print('Test accuracy: %.2f%%' % (compute_accuracy(model, test_loader)))"
   ]
  }
 ]
}