{
 "nbformat": 4,
 "nbformat_minor": 2,
 "metadata": {
  "language_info": {
   "name": "python",
   "codemirror_mode": {
    "name": "ipython",
    "version": 3
   },
   "version": "3.6.10-final"
  },
  "orig_nbformat": 2,
  "file_extension": ".py",
  "mimetype": "text/x-python",
  "name": "python",
  "npconvert_exporter": "python",
  "pygments_lexer": "ipython3",
  "version": 3,
  "kernelspec": {
   "name": "python36964bitanaconda3virtualenv5d618e8c7b894374a565943176146b80",
   "display_name": "Python 3.6.9 64-bit ('anaconda3': virtualenv)"
  }
 },
 "cells": [
  {
   "cell_type": "markdown",
   "metadata": {},
   "source": [
    "带Dropout的多层感知机\n",
    "==="
   ]
  },
  {
   "cell_type": "code",
   "execution_count": 1,
   "metadata": {},
   "outputs": [
    {
     "name": "stdout",
     "output_type": "stream",
     "text": "Sebastian Raschka \n\nCPython 3.6.10\nIPython 7.12.0\n\ntorch 1.3.1\n"
    }
   ],
   "source": [
    "%load_ext watermark\n",
    "%watermark -a 'Sebastian Raschka' -v -p torch"
   ]
  },
  {
   "cell_type": "code",
   "execution_count": 2,
   "metadata": {},
   "outputs": [],
   "source": [
    "import time\n",
    "import numpy as np\n",
    "from torchvision import datasets\n",
    "from torchvision import transforms\n",
    "from torch.utils.data import DataLoader\n",
    "import torch.nn.functional as F\n",
    "import torch"
   ]
  },
  {
   "cell_type": "markdown",
   "metadata": {},
   "source": [
    "# 1.导入数据"
   ]
  },
  {
   "cell_type": "code",
   "execution_count": 3,
   "metadata": {},
   "outputs": [
    {
     "name": "stdout",
     "output_type": "stream",
     "text": "Image batch dimensions: torch.Size([64, 1, 28, 28])\nImage label dimensions: torch.Size([64])\n"
    }
   ],
   "source": [
    "# Device\n",
    "device = torch.device(\"cuda:0\" if torch.cuda.is_available() else \"cpu\")\n",
    "\n",
    "# Hyperparameters\n",
    "random_seed = 1\n",
    "learning_rate = 0.1\n",
    "num_epochs = 10\n",
    "batch_size = 64\n",
    "dropout_prob = 0.5\n",
    "\n",
    "# Architecture\n",
    "num_features = 784\n",
    "num_hidden_1 = 128\n",
    "num_hidden_2 = 256\n",
    "num_classes = 10\n",
    "\n",
    "\n",
    "##########################\n",
    "### MNIST DATASET\n",
    "##########################\n",
    "\n",
    "# Note transforms.ToTensor() scales input images\n",
    "# to 0-1 range\n",
    "train_dataset = datasets.MNIST(root='/Users/JJZHK/data/input/', \n",
    "                               train=True, \n",
    "                               transform=transforms.ToTensor(),\n",
    "                               download=True)\n",
    "\n",
    "test_dataset = datasets.MNIST(root='/Users/JJZHK/data/input/', \n",
    "                              train=False, \n",
    "                              transform=transforms.ToTensor())\n",
    "\n",
    "\n",
    "train_loader = DataLoader(dataset=train_dataset, \n",
    "                          batch_size=batch_size, \n",
    "                          shuffle=True)\n",
    "\n",
    "test_loader = DataLoader(dataset=test_dataset, \n",
    "                         batch_size=batch_size, \n",
    "                         shuffle=False)\n",
    "\n",
    "# Checking the dataset\n",
    "for images, labels in train_loader:  \n",
    "    print('Image batch dimensions:', images.shape)\n",
    "    print('Image label dimensions:', labels.shape)\n",
    "    break"
   ]
  },
  {
   "cell_type": "code",
   "execution_count": 4,
   "metadata": {},
   "outputs": [],
   "source": [
    "class MultilayerPerceptron(torch.nn.Module):\n",
    "\n",
    "    def __init__(self, num_features, num_classes):\n",
    "        super(MultilayerPerceptron, self).__init__()\n",
    "        \n",
    "        ### 1st hidden layer\n",
    "        self.linear_1 = torch.nn.Linear(num_features, num_hidden_1)\n",
    "        # The following to lones are not necessary, \n",
    "        # but used here to demonstrate how to access the weights\n",
    "        # and use a different weight initialization.\n",
    "        # By default, PyTorch uses Xavier/Glorot initialization, which\n",
    "        # should usually be preferred.\n",
    "        self.linear_1.weight.detach().normal_(0.0, 0.1)\n",
    "        self.linear_1.bias.detach().zero_()\n",
    "        \n",
    "        ### 2nd hidden layer\n",
    "        self.linear_2 = torch.nn.Linear(num_hidden_1, num_hidden_2)\n",
    "        self.linear_2.weight.detach().normal_(0.0, 0.1)\n",
    "        self.linear_2.bias.detach().zero_()\n",
    "        \n",
    "        ### Output layer\n",
    "        self.linear_out = torch.nn.Linear(num_hidden_2, num_classes)\n",
    "        self.linear_out.weight.detach().normal_(0.0, 0.1)\n",
    "        self.linear_out.bias.detach().zero_()\n",
    "        \n",
    "    def forward(self, x):\n",
    "        out = self.linear_1(x)\n",
    "        out = F.relu(out)\n",
    "        out = F.dropout(out, p=dropout_prob, training=self.training)\n",
    "        \n",
    "        out = self.linear_2(out)\n",
    "        out = F.relu(out)\n",
    "        out = F.dropout(out, p=dropout_prob, training=self.training)\n",
    "        \n",
    "        logits = self.linear_out(out)\n",
    "        probas = F.softmax(logits, dim=1)\n",
    "        return logits, probas\n",
    "\n",
    "    \n",
    "torch.manual_seed(random_seed)\n",
    "model = MultilayerPerceptron(num_features=num_features,\n",
    "                             num_classes=num_classes)\n",
    "\n",
    "model = model.to(device)\n",
    "\n",
    "optimizer = torch.optim.SGD(model.parameters(), lr=learning_rate)"
   ]
  },
  {
   "cell_type": "markdown",
   "metadata": {},
   "source": [
    "# 2.训练数据"
   ]
  },
  {
   "cell_type": "code",
   "execution_count": 5,
   "metadata": {},
   "outputs": [
    {
     "name": "stdout",
     "output_type": "stream",
     "text": "Epoch: 001/010 | Batch 000/938 | Cost: 3.2452\nEpoch: 001/010 | Batch 050/938 | Cost: 1.4599\nEpoch: 001/010 | Batch 100/938 | Cost: 0.9749\nEpoch: 001/010 | Batch 150/938 | Cost: 0.7050\nEpoch: 001/010 | Batch 200/938 | Cost: 0.8016\nEpoch: 001/010 | Batch 250/938 | Cost: 0.4514\nEpoch: 001/010 | Batch 300/938 | Cost: 0.6336\nEpoch: 001/010 | Batch 350/938 | Cost: 0.5292\nEpoch: 001/010 | Batch 400/938 | Cost: 0.3572\nEpoch: 001/010 | Batch 450/938 | Cost: 0.5326\nEpoch: 001/010 | Batch 500/938 | Cost: 0.8996\nEpoch: 001/010 | Batch 550/938 | Cost: 0.3955\nEpoch: 001/010 | Batch 600/938 | Cost: 0.4036\nEpoch: 001/010 | Batch 650/938 | Cost: 0.7397\nEpoch: 001/010 | Batch 700/938 | Cost: 0.4987\nEpoch: 001/010 | Batch 750/938 | Cost: 0.7858\nEpoch: 001/010 | Batch 800/938 | Cost: 0.4577\nEpoch: 001/010 | Batch 850/938 | Cost: 0.2588\nEpoch: 001/010 | Batch 900/938 | Cost: 0.3637\nEpoch: 001/010 training accuracy: 92.95%\nTime elapsed: 0.19 min\nEpoch: 002/010 | Batch 000/938 | Cost: 0.3673\nEpoch: 002/010 | Batch 050/938 | Cost: 0.1756\nEpoch: 002/010 | Batch 100/938 | Cost: 0.2246\nEpoch: 002/010 | Batch 150/938 | Cost: 0.2443\nEpoch: 002/010 | Batch 200/938 | Cost: 0.4033\nEpoch: 002/010 | Batch 250/938 | Cost: 0.4724\nEpoch: 002/010 | Batch 300/938 | Cost: 0.2645\nEpoch: 002/010 | Batch 350/938 | Cost: 0.4006\nEpoch: 002/010 | Batch 400/938 | Cost: 0.3067\nEpoch: 002/010 | Batch 450/938 | Cost: 0.3725\nEpoch: 002/010 | Batch 500/938 | Cost: 0.3771\nEpoch: 002/010 | Batch 550/938 | Cost: 0.5976\nEpoch: 002/010 | Batch 600/938 | Cost: 0.3498\nEpoch: 002/010 | Batch 650/938 | Cost: 0.5743\nEpoch: 002/010 | Batch 700/938 | Cost: 0.3555\nEpoch: 002/010 | Batch 750/938 | Cost: 0.5861\nEpoch: 002/010 | Batch 800/938 | Cost: 0.2777\nEpoch: 002/010 | Batch 850/938 | Cost: 0.3053\nEpoch: 002/010 | Batch 900/938 | Cost: 0.3229\nEpoch: 002/010 training accuracy: 94.89%\nTime elapsed: 0.39 min\nEpoch: 003/010 | Batch 000/938 | Cost: 0.2254\nEpoch: 003/010 | Batch 050/938 | Cost: 0.2508\nEpoch: 003/010 | Batch 100/938 | Cost: 0.3013\nEpoch: 003/010 | Batch 150/938 | Cost: 0.4706\nEpoch: 003/010 | Batch 200/938 | Cost: 0.1575\nEpoch: 003/010 | Batch 250/938 | Cost: 0.4558\nEpoch: 003/010 | Batch 300/938 | Cost: 0.2908\nEpoch: 003/010 | Batch 350/938 | Cost: 0.3058\nEpoch: 003/010 | Batch 400/938 | Cost: 0.2337\nEpoch: 003/010 | Batch 450/938 | Cost: 0.2159\nEpoch: 003/010 | Batch 500/938 | Cost: 0.2191\nEpoch: 003/010 | Batch 550/938 | Cost: 0.4747\nEpoch: 003/010 | Batch 600/938 | Cost: 0.3415\nEpoch: 003/010 | Batch 650/938 | Cost: 0.3577\nEpoch: 003/010 | Batch 700/938 | Cost: 0.2187\nEpoch: 003/010 | Batch 750/938 | Cost: 0.1672\nEpoch: 003/010 | Batch 800/938 | Cost: 0.3257\nEpoch: 003/010 | Batch 850/938 | Cost: 0.2648\nEpoch: 003/010 | Batch 900/938 | Cost: 0.3351\nEpoch: 003/010 training accuracy: 95.59%\nTime elapsed: 0.59 min\nEpoch: 004/010 | Batch 000/938 | Cost: 0.1487\nEpoch: 004/010 | Batch 050/938 | Cost: 0.1963\nEpoch: 004/010 | Batch 100/938 | Cost: 0.2214\nEpoch: 004/010 | Batch 150/938 | Cost: 0.6583\nEpoch: 004/010 | Batch 200/938 | Cost: 0.3592\nEpoch: 004/010 | Batch 250/938 | Cost: 0.3221\nEpoch: 004/010 | Batch 300/938 | Cost: 0.1054\nEpoch: 004/010 | Batch 350/938 | Cost: 0.3722\nEpoch: 004/010 | Batch 400/938 | Cost: 0.1705\nEpoch: 004/010 | Batch 450/938 | Cost: 0.3603\nEpoch: 004/010 | Batch 500/938 | Cost: 0.2723\nEpoch: 004/010 | Batch 550/938 | Cost: 0.2363\nEpoch: 004/010 | Batch 600/938 | Cost: 0.1208\nEpoch: 004/010 | Batch 650/938 | Cost: 0.1737\nEpoch: 004/010 | Batch 700/938 | Cost: 0.1604\nEpoch: 004/010 | Batch 750/938 | Cost: 0.1971\nEpoch: 004/010 | Batch 800/938 | Cost: 0.2254\nEpoch: 004/010 | Batch 850/938 | Cost: 0.2550\nEpoch: 004/010 | Batch 900/938 | Cost: 0.2315\nEpoch: 004/010 training accuracy: 96.10%\nTime elapsed: 0.79 min\nEpoch: 005/010 | Batch 000/938 | Cost: 0.2282\nEpoch: 005/010 | Batch 050/938 | Cost: 0.1649\nEpoch: 005/010 | Batch 100/938 | Cost: 0.1484\nEpoch: 005/010 | Batch 150/938 | Cost: 0.2720\nEpoch: 005/010 | Batch 200/938 | Cost: 0.1272\nEpoch: 005/010 | Batch 250/938 | Cost: 0.3142\nEpoch: 005/010 | Batch 300/938 | Cost: 0.3647\nEpoch: 005/010 | Batch 350/938 | Cost: 0.2304\nEpoch: 005/010 | Batch 400/938 | Cost: 0.1104\nEpoch: 005/010 | Batch 450/938 | Cost: 0.2052\nEpoch: 005/010 | Batch 500/938 | Cost: 0.2683\nEpoch: 005/010 | Batch 550/938 | Cost: 0.1135\nEpoch: 005/010 | Batch 600/938 | Cost: 0.3204\nEpoch: 005/010 | Batch 650/938 | Cost: 0.0348\nEpoch: 005/010 | Batch 700/938 | Cost: 0.1506\nEpoch: 005/010 | Batch 750/938 | Cost: 0.1751\nEpoch: 005/010 | Batch 800/938 | Cost: 0.2017\nEpoch: 005/010 | Batch 850/938 | Cost: 0.2273\nEpoch: 005/010 | Batch 900/938 | Cost: 0.2121\nEpoch: 005/010 training accuracy: 96.53%\nTime elapsed: 1.00 min\nEpoch: 006/010 | Batch 000/938 | Cost: 0.0714\nEpoch: 006/010 | Batch 050/938 | Cost: 0.1358\nEpoch: 006/010 | Batch 100/938 | Cost: 0.2653\nEpoch: 006/010 | Batch 150/938 | Cost: 0.2120\nEpoch: 006/010 | Batch 200/938 | Cost: 0.1561\nEpoch: 006/010 | Batch 250/938 | Cost: 0.3130\nEpoch: 006/010 | Batch 300/938 | Cost: 0.2677\nEpoch: 006/010 | Batch 350/938 | Cost: 0.1470\nEpoch: 006/010 | Batch 400/938 | Cost: 0.1511\nEpoch: 006/010 | Batch 450/938 | Cost: 0.3149\nEpoch: 006/010 | Batch 500/938 | Cost: 0.2736\nEpoch: 006/010 | Batch 550/938 | Cost: 0.4380\nEpoch: 006/010 | Batch 600/938 | Cost: 0.1402\nEpoch: 006/010 | Batch 650/938 | Cost: 0.3643\nEpoch: 006/010 | Batch 700/938 | Cost: 0.2778\nEpoch: 006/010 | Batch 750/938 | Cost: 0.0662\nEpoch: 006/010 | Batch 800/938 | Cost: 0.1593\nEpoch: 006/010 | Batch 850/938 | Cost: 0.1504\nEpoch: 006/010 | Batch 900/938 | Cost: 0.1792\nEpoch: 006/010 training accuracy: 96.67%\nTime elapsed: 1.20 min\nEpoch: 007/010 | Batch 000/938 | Cost: 0.1725\nEpoch: 007/010 | Batch 050/938 | Cost: 0.2474\nEpoch: 007/010 | Batch 100/938 | Cost: 0.2299\nEpoch: 007/010 | Batch 150/938 | Cost: 0.2051\nEpoch: 007/010 | Batch 200/938 | Cost: 0.2359\nEpoch: 007/010 | Batch 250/938 | Cost: 0.1752\nEpoch: 007/010 | Batch 300/938 | Cost: 0.0707\nEpoch: 007/010 | Batch 350/938 | Cost: 0.0822\nEpoch: 007/010 | Batch 400/938 | Cost: 0.2053\nEpoch: 007/010 | Batch 450/938 | Cost: 0.0897\nEpoch: 007/010 | Batch 500/938 | Cost: 0.2118\nEpoch: 007/010 | Batch 550/938 | Cost: 0.1087\nEpoch: 007/010 | Batch 600/938 | Cost: 0.2253\nEpoch: 007/010 | Batch 650/938 | Cost: 0.1586\nEpoch: 007/010 | Batch 700/938 | Cost: 0.0928\nEpoch: 007/010 | Batch 750/938 | Cost: 0.2163\nEpoch: 007/010 | Batch 800/938 | Cost: 0.1759\nEpoch: 007/010 | Batch 850/938 | Cost: 0.2281\nEpoch: 007/010 | Batch 900/938 | Cost: 0.1869\nEpoch: 007/010 training accuracy: 97.02%\nTime elapsed: 1.41 min\nEpoch: 008/010 | Batch 000/938 | Cost: 0.2616\nEpoch: 008/010 | Batch 050/938 | Cost: 0.2409\nEpoch: 008/010 | Batch 100/938 | Cost: 0.2549\nEpoch: 008/010 | Batch 150/938 | Cost: 0.5223\nEpoch: 008/010 | Batch 200/938 | Cost: 0.2176\nEpoch: 008/010 | Batch 250/938 | Cost: 0.3136\nEpoch: 008/010 | Batch 300/938 | Cost: 0.1583\nEpoch: 008/010 | Batch 350/938 | Cost: 0.2006\nEpoch: 008/010 | Batch 400/938 | Cost: 0.4412\nEpoch: 008/010 | Batch 450/938 | Cost: 0.1123\nEpoch: 008/010 | Batch 500/938 | Cost: 0.2570\nEpoch: 008/010 | Batch 550/938 | Cost: 0.1202\nEpoch: 008/010 | Batch 600/938 | Cost: 0.2085\nEpoch: 008/010 | Batch 650/938 | Cost: 0.3141\nEpoch: 008/010 | Batch 700/938 | Cost: 0.1205\nEpoch: 008/010 | Batch 750/938 | Cost: 0.2803\nEpoch: 008/010 | Batch 800/938 | Cost: 0.2043\nEpoch: 008/010 | Batch 850/938 | Cost: 0.1334\nEpoch: 008/010 | Batch 900/938 | Cost: 0.3415\nEpoch: 008/010 training accuracy: 97.27%\nTime elapsed: 1.62 min\nEpoch: 009/010 | Batch 000/938 | Cost: 0.2600\nEpoch: 009/010 | Batch 050/938 | Cost: 0.3505\nEpoch: 009/010 | Batch 100/938 | Cost: 0.2331\nEpoch: 009/010 | Batch 150/938 | Cost: 0.2523\nEpoch: 009/010 | Batch 200/938 | Cost: 0.0927\nEpoch: 009/010 | Batch 250/938 | Cost: 0.3717\nEpoch: 009/010 | Batch 300/938 | Cost: 0.3201\nEpoch: 009/010 | Batch 350/938 | Cost: 0.1708\nEpoch: 009/010 | Batch 400/938 | Cost: 0.0938\nEpoch: 009/010 | Batch 450/938 | Cost: 0.2731\nEpoch: 009/010 | Batch 500/938 | Cost: 0.3289\nEpoch: 009/010 | Batch 550/938 | Cost: 0.3740\nEpoch: 009/010 | Batch 600/938 | Cost: 0.2249\nEpoch: 009/010 | Batch 650/938 | Cost: 0.1317\nEpoch: 009/010 | Batch 700/938 | Cost: 0.3259\nEpoch: 009/010 | Batch 750/938 | Cost: 0.2565\nEpoch: 009/010 | Batch 800/938 | Cost: 0.3234\nEpoch: 009/010 | Batch 850/938 | Cost: 0.1639\nEpoch: 009/010 | Batch 900/938 | Cost: 0.1156\nEpoch: 009/010 training accuracy: 97.47%\nTime elapsed: 1.85 min\nEpoch: 010/010 | Batch 000/938 | Cost: 0.1539\nEpoch: 010/010 | Batch 050/938 | Cost: 0.1045\nEpoch: 010/010 | Batch 100/938 | Cost: 0.2116\nEpoch: 010/010 | Batch 150/938 | Cost: 0.3768\nEpoch: 010/010 | Batch 200/938 | Cost: 0.3471\nEpoch: 010/010 | Batch 250/938 | Cost: 0.0912\nEpoch: 010/010 | Batch 300/938 | Cost: 0.1305\nEpoch: 010/010 | Batch 350/938 | Cost: 0.2664\nEpoch: 010/010 | Batch 400/938 | Cost: 0.2165\nEpoch: 010/010 | Batch 450/938 | Cost: 0.0362\nEpoch: 010/010 | Batch 500/938 | Cost: 0.2475\nEpoch: 010/010 | Batch 550/938 | Cost: 0.2074\nEpoch: 010/010 | Batch 600/938 | Cost: 0.3340\nEpoch: 010/010 | Batch 650/938 | Cost: 0.2379\nEpoch: 010/010 | Batch 700/938 | Cost: 0.2233\nEpoch: 010/010 | Batch 750/938 | Cost: 0.2074\nEpoch: 010/010 | Batch 800/938 | Cost: 0.0887\nEpoch: 010/010 | Batch 850/938 | Cost: 0.2259\nEpoch: 010/010 | Batch 900/938 | Cost: 0.1635\nEpoch: 010/010 training accuracy: 97.56%\nTime elapsed: 2.11 min\nTotal Training Time: 2.11 min\n"
    }
   ],
   "source": [
    "def compute_accuracy(net, data_loader):\n",
    "    net.eval()\n",
    "    correct_pred, num_examples = 0, 0\n",
    "    with torch.no_grad():\n",
    "        for features, targets in data_loader:\n",
    "            features = features.view(-1, 28*28).to(device)\n",
    "            targets = targets.to(device)\n",
    "            logits, probas = net(features)\n",
    "            _, predicted_labels = torch.max(probas, 1)\n",
    "            num_examples += targets.size(0)\n",
    "            correct_pred += (predicted_labels == targets).sum()\n",
    "        return correct_pred.float()/num_examples * 100\n",
    "    \n",
    "\n",
    "start_time = time.time()\n",
    "for epoch in range(num_epochs):\n",
    "    model.train()\n",
    "    for batch_idx, (features, targets) in enumerate(train_loader):\n",
    "        \n",
    "        features = features.view(-1, 28*28).to(device)\n",
    "        targets = targets.to(device)\n",
    "            \n",
    "        ### FORWARD AND BACK PROP\n",
    "        logits, probas = model(features)\n",
    "        cost = F.cross_entropy(logits, targets)\n",
    "        optimizer.zero_grad()\n",
    "        \n",
    "        cost.backward()\n",
    "        \n",
    "        ### UPDATE MODEL PARAMETERS\n",
    "        optimizer.step()\n",
    "        \n",
    "        ### LOGGING\n",
    "        if not batch_idx % 50:\n",
    "            print ('Epoch: %03d/%03d | Batch %03d/%03d | Cost: %.4f' \n",
    "                   %(epoch+1, num_epochs, batch_idx, \n",
    "                     len(train_loader), cost))\n",
    "\n",
    "\n",
    "    print('Epoch: %03d/%03d training accuracy: %.2f%%' % (\n",
    "          epoch+1, num_epochs, \n",
    "          compute_accuracy(model, train_loader)))\n",
    "\n",
    "    print('Time elapsed: %.2f min' % ((time.time() - start_time)/60))\n",
    "    \n",
    "print('Total Training Time: %.2f min' % ((time.time() - start_time)/60))"
   ]
  },
  {
   "cell_type": "code",
   "execution_count": 6,
   "metadata": {},
   "outputs": [
    {
     "name": "stdout",
     "output_type": "stream",
     "text": "Test accuracy: 96.84%\n"
    }
   ],
   "source": [
    "print('Test accuracy: %.2f%%' % (compute_accuracy(model, test_loader)))"
   ]
  }
 ]
}