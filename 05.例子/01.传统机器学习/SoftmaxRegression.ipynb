{
 "nbformat": 4,
 "nbformat_minor": 2,
 "metadata": {
  "language_info": {
   "name": "python",
   "codemirror_mode": {
    "name": "ipython",
    "version": 3
   },
   "version": "3.6.9-final"
  },
  "orig_nbformat": 2,
  "file_extension": ".py",
  "mimetype": "text/x-python",
  "name": "python",
  "npconvert_exporter": "python",
  "pygments_lexer": "ipython3",
  "version": 3,
  "kernelspec": {
   "name": "python36964bitanaconda3virtualenv5d618e8c7b894374a565943176146b80",
   "display_name": "Python 3.6.9 64-bit ('anaconda3': virtualenv)"
  }
 },
 "cells": [
  {
   "cell_type": "markdown",
   "metadata": {},
   "source": [
    "Softmax回归\n",
    "==="
   ]
  },
  {
   "cell_type": "code",
   "execution_count": 1,
   "metadata": {},
   "outputs": [
    {
     "name": "stdout",
     "output_type": "stream",
     "text": "Sebastian Raschka \n\nCPython 3.6.9\nIPython 7.8.0\n\ntorch 1.2.0\n"
    }
   ],
   "source": [
    "%load_ext watermark\n",
    "%watermark -a 'Sebastian Raschka' -v -p torch"
   ]
  },
  {
   "cell_type": "code",
   "execution_count": 2,
   "metadata": {},
   "outputs": [],
   "source": [
    "from torchvision import datasets\n",
    "from torchvision import transforms\n",
    "from torch.utils.data import DataLoader\n",
    "import torch.nn.functional as F\n",
    "import torch"
   ]
  },
  {
   "cell_type": "markdown",
   "metadata": {},
   "source": [
    "# 1.导入数据集MNIST"
   ]
  },
  {
   "cell_type": "code",
   "execution_count": 14,
   "metadata": {},
   "outputs": [
    {
     "name": "stdout",
     "output_type": "stream",
     "text": "Image batch dimensions: torch.Size([256, 1, 28, 28])\nImage label dimensions: torch.Size([256])\n"
    }
   ],
   "source": [
    "# Device\n",
    "device = torch.device(\"cuda:0\" if torch.cuda.is_available() else \"cpu\")\n",
    "\n",
    "random_seed = 123\n",
    "learning_rate = 0.1\n",
    "num_epochs = 10\n",
    "batch_size = 256\n",
    "num_features = 784\n",
    "num_classes = 10\n",
    "\n",
    "train_dataset = datasets.MNIST(root='/Users/JJZHK/data/input/', \n",
    "                               train=True, \n",
    "                               transform=transforms.ToTensor(),  \n",
    "                               download=False)\n",
    "\n",
    "test_dataset = datasets.MNIST(root='/Users/JJZHK/data/input/', \n",
    "                              train=False, \n",
    "                              transform=transforms.ToTensor(),\n",
    "                              download=False)\n",
    "\n",
    "\n",
    "train_loader = DataLoader(dataset=train_dataset, \n",
    "                          batch_size=batch_size, \n",
    "                          shuffle=True)\n",
    "\n",
    "test_loader = DataLoader(dataset=test_dataset, \n",
    "                         batch_size=batch_size, \n",
    "                         shuffle=False)\n",
    "\n",
    "\n",
    "# Checking the dataset\n",
    "for images, labels in train_loader:  \n",
    "    print('Image batch dimensions:', images.shape)\n",
    "    print('Image label dimensions:', labels.shape)\n",
    "    break"
   ]
  },
  {
   "cell_type": "code",
   "execution_count": 15,
   "metadata": {},
   "outputs": [],
   "source": [
    "class SoftmaxRegression(torch.nn.Module):\n",
    "\n",
    "    def __init__(self, num_features, num_classes):\n",
    "        super(SoftmaxRegression, self).__init__()\n",
    "        self.linear = torch.nn.Linear(num_features, num_classes)\n",
    "        \n",
    "        self.linear.weight.detach().zero_()\n",
    "        self.linear.bias.detach().zero_()\n",
    "        \n",
    "    def forward(self, x):\n",
    "        logits = self.linear(x)\n",
    "        probas = F.softmax(logits, dim=1)\n",
    "        return logits, probas\n",
    "\n",
    "model = SoftmaxRegression(num_features=num_features,\n",
    "                          num_classes=num_classes)\n",
    "\n",
    "model.to(device)\n",
    "\n",
    "##########################\n",
    "### COST AND OPTIMIZER\n",
    "##########################\n",
    "\n",
    "optimizer = torch.optim.SGD(model.parameters(), lr=learning_rate)  "
   ]
  },
  {
   "cell_type": "code",
   "execution_count": 16,
   "metadata": {},
   "outputs": [
    {
     "name": "stdout",
     "output_type": "stream",
     "text": "Epoch: 001/010 | Batch 000/234 | Cost: 2.3026\nEpoch: 001/010 | Batch 050/234 | Cost: 0.7941\nEpoch: 001/010 | Batch 100/234 | Cost: 0.5651\nEpoch: 001/010 | Batch 150/234 | Cost: 0.4603\nEpoch: 001/010 | Batch 200/234 | Cost: 0.4822\nEpoch: 001/010 training accuracy: 88.04%\nEpoch: 002/010 | Batch 000/234 | Cost: 0.4105\nEpoch: 002/010 | Batch 050/234 | Cost: 0.4415\nEpoch: 002/010 | Batch 100/234 | Cost: 0.4367\nEpoch: 002/010 | Batch 150/234 | Cost: 0.4289\nEpoch: 002/010 | Batch 200/234 | Cost: 0.3926\nEpoch: 002/010 training accuracy: 89.37%\nEpoch: 003/010 | Batch 000/234 | Cost: 0.4112\nEpoch: 003/010 | Batch 050/234 | Cost: 0.3579\nEpoch: 003/010 | Batch 100/234 | Cost: 0.3013\nEpoch: 003/010 | Batch 150/234 | Cost: 0.3258\nEpoch: 003/010 | Batch 200/234 | Cost: 0.4254\nEpoch: 003/010 training accuracy: 89.98%\nEpoch: 004/010 | Batch 000/234 | Cost: 0.3988\nEpoch: 004/010 | Batch 050/234 | Cost: 0.3690\nEpoch: 004/010 | Batch 100/234 | Cost: 0.3459\nEpoch: 004/010 | Batch 150/234 | Cost: 0.4030\nEpoch: 004/010 | Batch 200/234 | Cost: 0.3240\nEpoch: 004/010 training accuracy: 90.35%\nEpoch: 005/010 | Batch 000/234 | Cost: 0.3265\nEpoch: 005/010 | Batch 050/234 | Cost: 0.3673\nEpoch: 005/010 | Batch 100/234 | Cost: 0.3085\nEpoch: 005/010 | Batch 150/234 | Cost: 0.3183\nEpoch: 005/010 | Batch 200/234 | Cost: 0.3316\nEpoch: 005/010 training accuracy: 90.64%\nEpoch: 006/010 | Batch 000/234 | Cost: 0.4518\nEpoch: 006/010 | Batch 050/234 | Cost: 0.3863\nEpoch: 006/010 | Batch 100/234 | Cost: 0.3620\nEpoch: 006/010 | Batch 150/234 | Cost: 0.3733\nEpoch: 006/010 | Batch 200/234 | Cost: 0.3289\nEpoch: 006/010 training accuracy: 90.86%\nEpoch: 007/010 | Batch 000/234 | Cost: 0.3450\nEpoch: 007/010 | Batch 050/234 | Cost: 0.2289\nEpoch: 007/010 | Batch 100/234 | Cost: 0.3073\nEpoch: 007/010 | Batch 150/234 | Cost: 0.2750\nEpoch: 007/010 | Batch 200/234 | Cost: 0.3456\nEpoch: 007/010 training accuracy: 91.00%\nEpoch: 008/010 | Batch 000/234 | Cost: 0.4900\nEpoch: 008/010 | Batch 050/234 | Cost: 0.3479\nEpoch: 008/010 | Batch 100/234 | Cost: 0.2343\nEpoch: 008/010 | Batch 150/234 | Cost: 0.3059\nEpoch: 008/010 | Batch 200/234 | Cost: 0.3684\nEpoch: 008/010 training accuracy: 91.22%\nEpoch: 009/010 | Batch 000/234 | Cost: 0.3762\nEpoch: 009/010 | Batch 050/234 | Cost: 0.2976\nEpoch: 009/010 | Batch 100/234 | Cost: 0.2690\nEpoch: 009/010 | Batch 150/234 | Cost: 0.2610\nEpoch: 009/010 | Batch 200/234 | Cost: 0.3140\nEpoch: 009/010 training accuracy: 91.34%\nEpoch: 010/010 | Batch 000/234 | Cost: 0.2790\nEpoch: 010/010 | Batch 050/234 | Cost: 0.3070\nEpoch: 010/010 | Batch 100/234 | Cost: 0.3300\nEpoch: 010/010 | Batch 150/234 | Cost: 0.2520\nEpoch: 010/010 | Batch 200/234 | Cost: 0.3301\nEpoch: 010/010 training accuracy: 91.40%\n"
    }
   ],
   "source": [
    "# Manual seed for deterministic data loader\n",
    "torch.manual_seed(random_seed)\n",
    "\n",
    "\n",
    "def compute_accuracy(model, data_loader):\n",
    "    correct_pred, num_examples = 0, 0\n",
    "    \n",
    "    for features, targets in data_loader:\n",
    "        features = features.view(-1, 28*28).to(device)\n",
    "        targets = targets.to(device)\n",
    "        logits, probas = model(features)\n",
    "        _, predicted_labels = torch.max(probas, 1)\n",
    "        num_examples += targets.size(0)\n",
    "        correct_pred += (predicted_labels == targets).sum()\n",
    "        \n",
    "    return correct_pred.float() / num_examples * 100\n",
    "    \n",
    "\n",
    "for epoch in range(num_epochs):\n",
    "    for batch_idx, (features, targets) in enumerate(train_loader):\n",
    "        \n",
    "        features = features.view(-1, 28*28).to(device)\n",
    "        targets = targets.to(device)\n",
    "            \n",
    "        ### FORWARD AND BACK PROP\n",
    "        logits, probas = model(features)\n",
    "        \n",
    "        # note that the PyTorch implementation of\n",
    "        # CrossEntropyLoss works with logits, not\n",
    "        # probabilities\n",
    "        cost = F.cross_entropy(logits, targets)\n",
    "        optimizer.zero_grad()\n",
    "        cost.backward()\n",
    "        \n",
    "        ### UPDATE MODEL PARAMETERS\n",
    "        optimizer.step()\n",
    "        \n",
    "        ### LOGGING\n",
    "        if not batch_idx % 50:\n",
    "            print ('Epoch: %03d/%03d | Batch %03d/%03d | Cost: %.4f' \n",
    "                   %(epoch+1, num_epochs, batch_idx, \n",
    "                     len(train_dataset)//batch_size, cost))\n",
    "            \n",
    "    with torch.set_grad_enabled(False):\n",
    "        print('Epoch: %03d/%03d training accuracy: %.2f%%' % (\n",
    "              epoch+1, num_epochs, \n",
    "              compute_accuracy(model, train_loader)))"
   ]
  },
  {
   "cell_type": "code",
   "execution_count": 17,
   "metadata": {},
   "outputs": [
    {
     "name": "stdout",
     "output_type": "stream",
     "text": "Test accuracy: 91.77%\n"
    }
   ],
   "source": [
    "print('Test accuracy: %.2f%%' % (compute_accuracy(model, test_loader)))"
   ]
  },
  {
   "cell_type": "code",
   "execution_count": null,
   "metadata": {},
   "outputs": [],
   "source": []
  },
  {
   "cell_type": "code",
   "execution_count": null,
   "metadata": {},
   "outputs": [],
   "source": []
  },
  {
   "cell_type": "code",
   "execution_count": null,
   "metadata": {},
   "outputs": [],
   "source": []
  }
 ]
}