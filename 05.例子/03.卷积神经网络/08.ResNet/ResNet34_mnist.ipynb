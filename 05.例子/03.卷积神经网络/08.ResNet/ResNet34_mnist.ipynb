{
 "cells": [
  {
   "cell_type": "markdown",
   "metadata": {},
   "source": [
    "使用ResNet34对MNIST进行分类\n",
    "==="
   ]
  },
  {
   "cell_type": "markdown",
   "metadata": {},
   "source": [
    "![Images](images/resnet34_mnist_001.png)"
   ]
  },
  {
   "cell_type": "code",
   "execution_count": 1,
   "metadata": {},
   "outputs": [],
   "source": [
    "import os\n",
    "import time\n",
    "\n",
    "import numpy as np\n",
    "import pandas as pd\n",
    "\n",
    "import torch\n",
    "import torch.nn as nn\n",
    "import torch.nn.functional as F\n",
    "from torch.utils.data import DataLoader\n",
    "\n",
    "from torchvision import datasets\n",
    "from torchvision import transforms\n",
    "\n",
    "import matplotlib.pyplot as plt\n",
    "from PIL import Image\n",
    "\n",
    "\n",
    "if torch.cuda.is_available():\n",
    "    torch.backends.cudnn.deterministic = True"
   ]
  },
  {
   "cell_type": "markdown",
   "metadata": {},
   "source": [
    "# 1.全局设置"
   ]
  },
  {
   "cell_type": "code",
   "execution_count": 2,
   "metadata": {},
   "outputs": [],
   "source": [
    "RANDOM_SEED = 1\n",
    "LEARNING_RATE = 0.001\n",
    "BATCH_SIZE = 128\n",
    "NUM_EPOCHS = 10\n",
    "\n",
    "# Architecture\n",
    "NUM_FEATURES = 28*28\n",
    "NUM_CLASSES = 10\n",
    "\n",
    "# Other\n",
    "DEVICE = \"cuda:0\"\n",
    "GRAYSCALE = True"
   ]
  },
  {
   "cell_type": "markdown",
   "metadata": {},
   "source": [
    "# 2.导入数据"
   ]
  },
  {
   "cell_type": "code",
   "execution_count": 3,
   "metadata": {},
   "outputs": [
    {
     "name": "stdout",
     "output_type": "stream",
     "text": [
      "Image batch dimensions: torch.Size([128, 1, 28, 28])\n",
      "Image label dimensions: torch.Size([128])\n"
     ]
    }
   ],
   "source": [
    "train_dataset = datasets.MNIST(root='/input/MNIST/', \n",
    "                               train=True, \n",
    "                               transform=transforms.ToTensor(),\n",
    "                               download=True)\n",
    "\n",
    "test_dataset = datasets.MNIST(root='/input/MNIST/', \n",
    "                              train=False, \n",
    "                              transform=transforms.ToTensor())\n",
    "\n",
    "\n",
    "train_loader = DataLoader(dataset=train_dataset, \n",
    "                          batch_size=BATCH_SIZE, \n",
    "                          shuffle=True)\n",
    "\n",
    "test_loader = DataLoader(dataset=test_dataset, \n",
    "                         batch_size=BATCH_SIZE, \n",
    "                         shuffle=False)\n",
    "\n",
    "# Checking the dataset\n",
    "for images, labels in train_loader:  \n",
    "    print('Image batch dimensions:', images.shape)\n",
    "    print('Image label dimensions:', labels.shape)\n",
    "    break"
   ]
  },
  {
   "cell_type": "markdown",
   "metadata": {},
   "source": [
    "# 3.模型"
   ]
  },
  {
   "cell_type": "code",
   "execution_count": 4,
   "metadata": {},
   "outputs": [],
   "source": [
    "device = torch.device(DEVICE)\n",
    "def conv3x3(in_planes, out_planes, stride=1):\n",
    "    \"\"\"3x3 convolution with padding\"\"\"\n",
    "    return nn.Conv2d(in_planes, out_planes, kernel_size=3, stride=stride,\n",
    "                     padding=1, bias=False)\n",
    "\n",
    "\n",
    "class BasicBlock(nn.Module):\n",
    "    expansion = 1\n",
    "\n",
    "    def __init__(self, inplanes, planes, stride=1, downsample=None):\n",
    "        super(BasicBlock, self).__init__()\n",
    "        self.conv1 = conv3x3(inplanes, planes, stride)\n",
    "        self.bn1 = nn.BatchNorm2d(planes)\n",
    "        self.relu = nn.ReLU(inplace=True)\n",
    "        self.conv2 = conv3x3(planes, planes)\n",
    "        self.bn2 = nn.BatchNorm2d(planes)\n",
    "        self.downsample = downsample\n",
    "        self.stride = stride\n",
    "\n",
    "    def forward(self, x):\n",
    "        residual = x\n",
    "\n",
    "        out = self.conv1(x)\n",
    "        out = self.bn1(out)\n",
    "        out = self.relu(out)\n",
    "\n",
    "        out = self.conv2(out)\n",
    "        out = self.bn2(out)\n",
    "\n",
    "        if self.downsample is not None:\n",
    "            residual = self.downsample(x)\n",
    "\n",
    "        out += residual\n",
    "        out = self.relu(out)\n",
    "\n",
    "        return out\n",
    "\n",
    "\n",
    "\n",
    "\n",
    "class ResNet(nn.Module):\n",
    "\n",
    "    def __init__(self, block, layers, num_classes, grayscale):\n",
    "        self.inplanes = 64\n",
    "        if grayscale:\n",
    "            in_dim = 1\n",
    "        else:\n",
    "            in_dim = 3\n",
    "        super(ResNet, self).__init__()\n",
    "        self.conv1 = nn.Conv2d(in_dim, 64, kernel_size=7, stride=2, padding=3,\n",
    "                               bias=False)\n",
    "        self.bn1 = nn.BatchNorm2d(64)\n",
    "        self.relu = nn.ReLU(inplace=True)\n",
    "        self.maxpool = nn.MaxPool2d(kernel_size=3, stride=2, padding=1)\n",
    "        self.layer1 = self._make_layer(block, 64, layers[0])\n",
    "        self.layer2 = self._make_layer(block, 128, layers[1], stride=2)\n",
    "        self.layer3 = self._make_layer(block, 256, layers[2], stride=2)\n",
    "        self.layer4 = self._make_layer(block, 512, layers[3], stride=2)\n",
    "        self.avgpool = nn.AvgPool2d(7, stride=1)\n",
    "        self.fc = nn.Linear(512 * block.expansion, num_classes)\n",
    "\n",
    "        for m in self.modules():\n",
    "            if isinstance(m, nn.Conv2d):\n",
    "                n = m.kernel_size[0] * m.kernel_size[1] * m.out_channels\n",
    "                m.weight.data.normal_(0, (2. / n)**.5)\n",
    "            elif isinstance(m, nn.BatchNorm2d):\n",
    "                m.weight.data.fill_(1)\n",
    "                m.bias.data.zero_()\n",
    "\n",
    "    def _make_layer(self, block, planes, blocks, stride=1):\n",
    "        downsample = None\n",
    "        if stride != 1 or self.inplanes != planes * block.expansion:\n",
    "            downsample = nn.Sequential(\n",
    "                nn.Conv2d(self.inplanes, planes * block.expansion,\n",
    "                          kernel_size=1, stride=stride, bias=False),\n",
    "                nn.BatchNorm2d(planes * block.expansion),\n",
    "            )\n",
    "\n",
    "        layers = []\n",
    "        layers.append(block(self.inplanes, planes, stride, downsample))\n",
    "        self.inplanes = planes * block.expansion\n",
    "        for i in range(1, blocks):\n",
    "            layers.append(block(self.inplanes, planes))\n",
    "\n",
    "        return nn.Sequential(*layers)\n",
    "\n",
    "    def forward(self, x):\n",
    "        x = self.conv1(x)\n",
    "        x = self.bn1(x)\n",
    "        x = self.relu(x)\n",
    "        x = self.maxpool(x)\n",
    "\n",
    "        x = self.layer1(x)\n",
    "        x = self.layer2(x)\n",
    "        x = self.layer3(x)\n",
    "        x = self.layer4(x)\n",
    "        # because MNIST is already 1x1 here:\n",
    "        # disable avg pooling\n",
    "        #x = self.avgpool(x)\n",
    "        \n",
    "        x = x.view(x.size(0), -1)\n",
    "        logits = self.fc(x)\n",
    "        probas = F.softmax(logits, dim=1)\n",
    "        return logits, probas\n",
    "\n",
    "\n",
    "\n",
    "def resnet34(num_classes):\n",
    "    \"\"\"Constructs a ResNet-34 model.\"\"\"\n",
    "    model = ResNet(block=BasicBlock, \n",
    "                   layers=[3, 4, 6, 3],\n",
    "                   num_classes=NUM_CLASSES,\n",
    "                   grayscale=GRAYSCALE)\n",
    "    return model"
   ]
  },
  {
   "cell_type": "code",
   "execution_count": 5,
   "metadata": {},
   "outputs": [],
   "source": [
    "torch.manual_seed(RANDOM_SEED)\n",
    "model = resnet34(NUM_CLASSES)\n",
    "model.to(DEVICE)\n",
    "\n",
    "optimizer = torch.optim.Adam(model.parameters(), lr=LEARNING_RATE)  "
   ]
  },
  {
   "cell_type": "markdown",
   "metadata": {},
   "source": [
    "# 4.训练"
   ]
  },
  {
   "cell_type": "code",
   "execution_count": 6,
   "metadata": {},
   "outputs": [
    {
     "name": "stdout",
     "output_type": "stream",
     "text": [
      "Epoch: 001/010 | Batch 0000/0469 | Cost: 2.8909\n",
      "Epoch: 001/010 | Batch 0050/0469 | Cost: 0.2889\n",
      "Epoch: 001/010 | Batch 0100/0469 | Cost: 0.0906\n",
      "Epoch: 001/010 | Batch 0150/0469 | Cost: 0.1174\n",
      "Epoch: 001/010 | Batch 0200/0469 | Cost: 0.0871\n",
      "Epoch: 001/010 | Batch 0250/0469 | Cost: 0.1060\n",
      "Epoch: 001/010 | Batch 0300/0469 | Cost: 0.1178\n",
      "Epoch: 001/010 | Batch 0350/0469 | Cost: 0.0914\n",
      "Epoch: 001/010 | Batch 0400/0469 | Cost: 0.1049\n",
      "Epoch: 001/010 | Batch 0450/0469 | Cost: 0.0141\n",
      "Epoch: 001/010 | Train: 97.958%\n",
      "Time elapsed: 0.85 min\n",
      "Epoch: 002/010 | Batch 0000/0469 | Cost: 0.1124\n",
      "Epoch: 002/010 | Batch 0050/0469 | Cost: 0.0814\n",
      "Epoch: 002/010 | Batch 0100/0469 | Cost: 0.1605\n",
      "Epoch: 002/010 | Batch 0150/0469 | Cost: 0.0224\n",
      "Epoch: 002/010 | Batch 0200/0469 | Cost: 0.0448\n",
      "Epoch: 002/010 | Batch 0250/0469 | Cost: 0.0998\n",
      "Epoch: 002/010 | Batch 0300/0469 | Cost: 0.0189\n",
      "Epoch: 002/010 | Batch 0350/0469 | Cost: 0.0880\n",
      "Epoch: 002/010 | Batch 0400/0469 | Cost: 0.0101\n",
      "Epoch: 002/010 | Batch 0450/0469 | Cost: 0.0360\n",
      "Epoch: 002/010 | Train: 98.280%\n",
      "Time elapsed: 1.67 min\n",
      "Epoch: 003/010 | Batch 0000/0469 | Cost: 0.1370\n",
      "Epoch: 003/010 | Batch 0050/0469 | Cost: 0.0190\n",
      "Epoch: 003/010 | Batch 0100/0469 | Cost: 0.0760\n",
      "Epoch: 003/010 | Batch 0150/0469 | Cost: 0.0076\n",
      "Epoch: 003/010 | Batch 0200/0469 | Cost: 0.0140\n",
      "Epoch: 003/010 | Batch 0250/0469 | Cost: 0.0090\n",
      "Epoch: 003/010 | Batch 0300/0469 | Cost: 0.0594\n",
      "Epoch: 003/010 | Batch 0350/0469 | Cost: 0.0586\n",
      "Epoch: 003/010 | Batch 0400/0469 | Cost: 0.0194\n",
      "Epoch: 003/010 | Batch 0450/0469 | Cost: 0.0154\n",
      "Epoch: 003/010 | Train: 98.638%\n",
      "Time elapsed: 2.48 min\n",
      "Epoch: 004/010 | Batch 0000/0469 | Cost: 0.0940\n",
      "Epoch: 004/010 | Batch 0050/0469 | Cost: 0.0326\n",
      "Epoch: 004/010 | Batch 0100/0469 | Cost: 0.0429\n",
      "Epoch: 004/010 | Batch 0150/0469 | Cost: 0.0516\n",
      "Epoch: 004/010 | Batch 0200/0469 | Cost: 0.0541\n",
      "Epoch: 004/010 | Batch 0250/0469 | Cost: 0.0032\n",
      "Epoch: 004/010 | Batch 0300/0469 | Cost: 0.0361\n",
      "Epoch: 004/010 | Batch 0350/0469 | Cost: 0.0285\n",
      "Epoch: 004/010 | Batch 0400/0469 | Cost: 0.0637\n",
      "Epoch: 004/010 | Batch 0450/0469 | Cost: 0.0178\n",
      "Epoch: 004/010 | Train: 99.203%\n",
      "Time elapsed: 3.29 min\n",
      "Epoch: 005/010 | Batch 0000/0469 | Cost: 0.0108\n",
      "Epoch: 005/010 | Batch 0050/0469 | Cost: 0.0474\n",
      "Epoch: 005/010 | Batch 0100/0469 | Cost: 0.0068\n",
      "Epoch: 005/010 | Batch 0150/0469 | Cost: 0.0030\n",
      "Epoch: 005/010 | Batch 0200/0469 | Cost: 0.0501\n",
      "Epoch: 005/010 | Batch 0250/0469 | Cost: 0.0198\n",
      "Epoch: 005/010 | Batch 0300/0469 | Cost: 0.0022\n",
      "Epoch: 005/010 | Batch 0350/0469 | Cost: 0.0944\n",
      "Epoch: 005/010 | Batch 0400/0469 | Cost: 0.0014\n",
      "Epoch: 005/010 | Batch 0450/0469 | Cost: 0.0012\n",
      "Epoch: 005/010 | Train: 98.438%\n",
      "Time elapsed: 4.10 min\n",
      "Epoch: 006/010 | Batch 0000/0469 | Cost: 0.0860\n",
      "Epoch: 006/010 | Batch 0050/0469 | Cost: 0.0086\n",
      "Epoch: 006/010 | Batch 0100/0469 | Cost: 0.0168\n",
      "Epoch: 006/010 | Batch 0150/0469 | Cost: 0.0318\n",
      "Epoch: 006/010 | Batch 0200/0469 | Cost: 0.0205\n",
      "Epoch: 006/010 | Batch 0250/0469 | Cost: 0.0065\n",
      "Epoch: 006/010 | Batch 0300/0469 | Cost: 0.0156\n",
      "Epoch: 006/010 | Batch 0350/0469 | Cost: 0.0193\n",
      "Epoch: 006/010 | Batch 0400/0469 | Cost: 0.0016\n",
      "Epoch: 006/010 | Batch 0450/0469 | Cost: 0.0542\n",
      "Epoch: 006/010 | Train: 97.860%\n",
      "Time elapsed: 4.93 min\n",
      "Epoch: 007/010 | Batch 0000/0469 | Cost: 0.0289\n",
      "Epoch: 007/010 | Batch 0050/0469 | Cost: 0.0092\n",
      "Epoch: 007/010 | Batch 0100/0469 | Cost: 0.0291\n",
      "Epoch: 007/010 | Batch 0150/0469 | Cost: 0.0048\n",
      "Epoch: 007/010 | Batch 0200/0469 | Cost: 0.0852\n",
      "Epoch: 007/010 | Batch 0250/0469 | Cost: 0.0631\n",
      "Epoch: 007/010 | Batch 0300/0469 | Cost: 0.0183\n",
      "Epoch: 007/010 | Batch 0350/0469 | Cost: 0.0027\n",
      "Epoch: 007/010 | Batch 0400/0469 | Cost: 0.0188\n",
      "Epoch: 007/010 | Batch 0450/0469 | Cost: 0.0161\n",
      "Epoch: 007/010 | Train: 99.600%\n",
      "Time elapsed: 5.75 min\n",
      "Epoch: 008/010 | Batch 0000/0469 | Cost: 0.0005\n",
      "Epoch: 008/010 | Batch 0050/0469 | Cost: 0.0102\n",
      "Epoch: 008/010 | Batch 0100/0469 | Cost: 0.0079\n",
      "Epoch: 008/010 | Batch 0150/0469 | Cost: 0.0016\n",
      "Epoch: 008/010 | Batch 0200/0469 | Cost: 0.0016\n",
      "Epoch: 008/010 | Batch 0250/0469 | Cost: 0.0331\n",
      "Epoch: 008/010 | Batch 0300/0469 | Cost: 0.0347\n",
      "Epoch: 008/010 | Batch 0350/0469 | Cost: 0.0367\n",
      "Epoch: 008/010 | Batch 0400/0469 | Cost: 0.0056\n",
      "Epoch: 008/010 | Batch 0450/0469 | Cost: 0.0039\n",
      "Epoch: 008/010 | Train: 99.438%\n",
      "Time elapsed: 6.55 min\n",
      "Epoch: 009/010 | Batch 0000/0469 | Cost: 0.0031\n",
      "Epoch: 009/010 | Batch 0050/0469 | Cost: 0.0029\n",
      "Epoch: 009/010 | Batch 0100/0469 | Cost: 0.0196\n",
      "Epoch: 009/010 | Batch 0150/0469 | Cost: 0.0466\n",
      "Epoch: 009/010 | Batch 0200/0469 | Cost: 0.0384\n",
      "Epoch: 009/010 | Batch 0250/0469 | Cost: 0.0151\n",
      "Epoch: 009/010 | Batch 0300/0469 | Cost: 0.0017\n",
      "Epoch: 009/010 | Batch 0350/0469 | Cost: 0.0570\n",
      "Epoch: 009/010 | Batch 0400/0469 | Cost: 0.0789\n",
      "Epoch: 009/010 | Batch 0450/0469 | Cost: 0.0082\n",
      "Epoch: 009/010 | Train: 99.652%\n",
      "Time elapsed: 7.37 min\n",
      "Epoch: 010/010 | Batch 0000/0469 | Cost: 0.0111\n",
      "Epoch: 010/010 | Batch 0050/0469 | Cost: 0.0807\n",
      "Epoch: 010/010 | Batch 0100/0469 | Cost: 0.0088\n",
      "Epoch: 010/010 | Batch 0150/0469 | Cost: 0.0921\n",
      "Epoch: 010/010 | Batch 0200/0469 | Cost: 0.0006\n",
      "Epoch: 010/010 | Batch 0250/0469 | Cost: 0.0402\n",
      "Epoch: 010/010 | Batch 0300/0469 | Cost: 0.0021\n",
      "Epoch: 010/010 | Batch 0350/0469 | Cost: 0.0067\n",
      "Epoch: 010/010 | Batch 0400/0469 | Cost: 0.0027\n",
      "Epoch: 010/010 | Batch 0450/0469 | Cost: 0.0030\n",
      "Epoch: 010/010 | Train: 99.088%\n",
      "Time elapsed: 8.19 min\n",
      "Total Training Time: 8.19 min\n"
     ]
    }
   ],
   "source": [
    "def compute_accuracy(model, data_loader, device):\n",
    "    correct_pred, num_examples = 0, 0\n",
    "    for i, (features, targets) in enumerate(data_loader):\n",
    "            \n",
    "        features = features.to(device)\n",
    "        targets = targets.to(device)\n",
    "\n",
    "        logits, probas = model(features)\n",
    "        _, predicted_labels = torch.max(probas, 1)\n",
    "        num_examples += targets.size(0)\n",
    "        correct_pred += (predicted_labels == targets).sum()\n",
    "    return correct_pred.float()/num_examples * 100\n",
    "    \n",
    "\n",
    "start_time = time.time()\n",
    "for epoch in range(NUM_EPOCHS):\n",
    "    \n",
    "    model.train()\n",
    "    for batch_idx, (features, targets) in enumerate(train_loader):\n",
    "        \n",
    "        features = features.to(DEVICE)\n",
    "        targets = targets.to(DEVICE)\n",
    "            \n",
    "        ### FORWARD AND BACK PROP\n",
    "        logits, probas = model(features)\n",
    "        cost = F.cross_entropy(logits, targets)\n",
    "        optimizer.zero_grad()\n",
    "        \n",
    "        cost.backward()\n",
    "        \n",
    "        ### UPDATE MODEL PARAMETERS\n",
    "        optimizer.step()\n",
    "        \n",
    "        ### LOGGING\n",
    "        if not batch_idx % 50:\n",
    "            print ('Epoch: %03d/%03d | Batch %04d/%04d | Cost: %.4f' \n",
    "                   %(epoch+1, NUM_EPOCHS, batch_idx, \n",
    "                     len(train_loader), cost))\n",
    "\n",
    "        \n",
    "\n",
    "    model.eval()\n",
    "    with torch.set_grad_enabled(False): # save memory during inference\n",
    "        print('Epoch: %03d/%03d | Train: %.3f%%' % (\n",
    "              epoch+1, NUM_EPOCHS, \n",
    "              compute_accuracy(model, train_loader, device=DEVICE)))\n",
    "        \n",
    "    print('Time elapsed: %.2f min' % ((time.time() - start_time)/60))\n",
    "    \n",
    "print('Total Training Time: %.2f min' % ((time.time() - start_time)/60))"
   ]
  },
  {
   "cell_type": "markdown",
   "metadata": {},
   "source": [
    "# 5.评估"
   ]
  },
  {
   "cell_type": "code",
   "execution_count": 7,
   "metadata": {},
   "outputs": [
    {
     "name": "stdout",
     "output_type": "stream",
     "text": [
      "Test accuracy: 98.59%\n"
     ]
    }
   ],
   "source": [
    "with torch.set_grad_enabled(False): # save memory during inference\n",
    "    print('Test accuracy: %.2f%%' % (compute_accuracy(model, test_loader, device=DEVICE)))"
   ]
  },
  {
   "cell_type": "code",
   "execution_count": 8,
   "metadata": {},
   "outputs": [
    {
     "data": {
      "image/png": "[encoded data removed]",
      "text/plain": [
       "<Figure size 432x288 with 1 Axes>"
      ]
     },
     "metadata": {
      "needs_background": "light"
     },
     "output_type": "display_data"
    }
   ],
   "source": [
    "for batch_idx, (features, targets) in enumerate(test_loader):\n",
    "\n",
    "    features = features\n",
    "    targets = targets\n",
    "    break\n",
    "    \n",
    "    \n",
    "nhwc_img = np.transpose(features[0], axes=(1, 2, 0))\n",
    "nhw_img = np.squeeze(nhwc_img.numpy(), axis=2)\n",
    "plt.imshow(nhw_img, cmap='Greys');"
   ]
  },
  {
   "cell_type": "code",
   "execution_count": 9,
   "metadata": {},
   "outputs": [
    {
     "name": "stdout",
     "output_type": "stream",
     "text": [
      "Probability 7 100.00%\n"
     ]
    }
   ],
   "source": [
    "model.eval()\n",
    "logits, probas = model(features.to(device)[0, None])\n",
    "print('Probability 7 %.2f%%' % (probas[0][7]*100))"
   ]
  }
 ],
 "metadata": {
  "kernelspec": {
   "display_name": "Python 3",
   "language": "python",
   "name": "python3"
  },
  "language_info": {
   "codemirror_mode": {
    "name": "ipython",
    "version": 3
   },
   "file_extension": ".py",
   "mimetype": "text/x-python",
   "name": "python",
   "nbconvert_exporter": "python",
   "pygments_lexer": "ipython3",
   "version": "3.6.6"
  }
 },
 "nbformat": 4,
 "nbformat_minor": 2
}
