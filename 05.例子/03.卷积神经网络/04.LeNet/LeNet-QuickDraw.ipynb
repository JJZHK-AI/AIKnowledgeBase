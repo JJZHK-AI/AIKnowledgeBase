{
 "cells": [
  {
   "cell_type": "markdown",
   "metadata": {},
   "source": [
    "使用LeNet网络对QuickDraw进行分类\n",
    "==="
   ]
  },
  {
   "cell_type": "code",
   "execution_count": 1,
   "metadata": {},
   "outputs": [],
   "source": [
    "import os\n",
    "import time\n",
    "\n",
    "import numpy as np\n",
    "import pandas as pd\n",
    "\n",
    "import torch\n",
    "import torch.nn as nn\n",
    "import torch.nn.functional as F\n",
    "from torch.utils.data import DataLoader\n",
    "from torch.utils.data import Dataset\n",
    "\n",
    "from torchvision import transforms\n",
    "\n",
    "import matplotlib.pyplot as plt\n",
    "from PIL import Image\n",
    "\n",
    "\n",
    "if torch.cuda.is_available():\n",
    "    torch.backends.cudnn.deterministic = True"
   ]
  },
  {
   "cell_type": "markdown",
   "metadata": {},
   "source": [
    "# 1.全局设置"
   ]
  },
  {
   "cell_type": "code",
   "execution_count": 2,
   "metadata": {},
   "outputs": [],
   "source": [
    "RANDOM_SEED = 1\n",
    "LEARNING_RATE = 0.001\n",
    "BATCH_SIZE = 128\n",
    "NUM_EPOCHS = 10\n",
    "\n",
    "# Architecture\n",
    "NUM_FEATURES = 28*28\n",
    "NUM_CLASSES = 10\n",
    "\n",
    "# Other\n",
    "DEVICE = \"cuda:0\"\n",
    "GRAYSCALE = True"
   ]
  },
  {
   "cell_type": "markdown",
   "metadata": {},
   "source": [
    "# 2.导入数据"
   ]
  },
  {
   "cell_type": "markdown",
   "metadata": {},
   "source": [
    "## 2.1.测试数据集"
   ]
  },
  {
   "cell_type": "code",
   "execution_count": 3,
   "metadata": {},
   "outputs": [
    {
     "name": "stdout",
     "output_type": "stream",
     "text": [
      "(28, 28)\n"
     ]
    },
    {
     "data": {
      "text/plain": [
       "<matplotlib.image.AxesImage at 0x7f82317734e0>"
      ]
     },
     "execution_count": 3,
     "metadata": {},
     "output_type": "execute_result"
    },
    {
     "data": {
      "image/png": "[encoded data removed]",
      "text/plain": [
       "<Figure size 432x288 with 1 Axes>"
      ]
     },
     "metadata": {
      "needs_background": "light"
     },
     "output_type": "display_data"
    }
   ],
   "source": [
    "DATA_ROOT = os.path.join(\"/input/QuickDraw\")\n",
    "CSV_FILE = os.path.join(DATA_ROOT, \"quickdraw_png_set1_train.csv\")\n",
    "IMAGE_FILE = os.path.join(DATA_ROOT, \"images\")\n",
    "\n",
    "df = pd.read_csv(CSV_FILE, index_col=0)\n",
    "df.head()\n",
    "\n",
    "main_dir = IMAGE_FILE\n",
    "\n",
    "img = Image.open(os.path.join(main_dir, df.index[99]))\n",
    "img = np.asarray(img, dtype=np.uint8)\n",
    "print(img.shape)\n",
    "plt.imshow(np.array(img), cmap='binary')"
   ]
  },
  {
   "cell_type": "markdown",
   "metadata": {},
   "source": [
    "## 2.2.自定义数据集并导入"
   ]
  },
  {
   "cell_type": "code",
   "execution_count": 4,
   "metadata": {},
   "outputs": [],
   "source": [
    "class QuickdrawDataset(Dataset):\n",
    "    \"\"\"Custom Dataset for loading Quickdraw images\"\"\"\n",
    "\n",
    "    def __init__(self, txt_path, img_dir, transform=None):\n",
    "    \n",
    "        df = pd.read_csv(txt_path, sep=\",\", index_col=0)\n",
    "        self.img_dir = img_dir\n",
    "        self.txt_path = txt_path\n",
    "        self.img_names = df.index.values\n",
    "        self.y = df['Label'].values\n",
    "        self.transform = transform\n",
    "\n",
    "    def __getitem__(self, index):\n",
    "        img = Image.open(os.path.join(self.img_dir,\n",
    "                                      self.img_names[index]))\n",
    "        \n",
    "        if self.transform is not None:\n",
    "            img = self.transform(img)\n",
    "        \n",
    "        label = self.y[index]\n",
    "        return img, label\n",
    "\n",
    "    def __len__(self):\n",
    "        return self.y.shape[0]"
   ]
  },
  {
   "cell_type": "code",
   "execution_count": 5,
   "metadata": {},
   "outputs": [],
   "source": [
    "BATCH_SIZE = 128\n",
    "\n",
    "custom_transform = transforms.Compose([#transforms.Lambda(lambda x: x/255.),\n",
    "                                       transforms.ToTensor()])\n",
    "\n",
    "train_dataset = QuickdrawDataset(txt_path=CSV_FILE,\n",
    "                                 img_dir=IMAGE_FILE,\n",
    "                                 transform=custom_transform)\n",
    "\n",
    "train_loader = DataLoader(dataset=train_dataset,\n",
    "                          batch_size=BATCH_SIZE,\n",
    "                          shuffle=True,\n",
    "                          num_workers=4) \n",
    "\n",
    "\n",
    "valid_dataset = QuickdrawDataset(txt_path=CSV_FILE,\n",
    "                                img_dir=IMAGE_FILE,\n",
    "                                transform=custom_transform)\n",
    "\n",
    "valid_loader = DataLoader(dataset=valid_dataset,\n",
    "                          batch_size=BATCH_SIZE,\n",
    "                          shuffle=False,\n",
    "                          num_workers=4) \n",
    "\n",
    "\n",
    "\n",
    "test_dataset = QuickdrawDataset(txt_path=CSV_FILE,\n",
    "                                img_dir=IMAGE_FILE,\n",
    "                                transform=custom_transform)\n",
    "\n",
    "test_loader = DataLoader(dataset=test_dataset,\n",
    "                         batch_size=BATCH_SIZE,\n",
    "                         shuffle=False,\n",
    "                         num_workers=4) "
   ]
  },
  {
   "cell_type": "markdown",
   "metadata": {},
   "source": [
    "# 3.模型"
   ]
  },
  {
   "cell_type": "code",
   "execution_count": 6,
   "metadata": {},
   "outputs": [],
   "source": [
    "device = torch.device(DEVICE if torch.cuda.is_available() else \"cpu\")\n",
    "class LeNet5(nn.Module):\n",
    "\n",
    "    def __init__(self, num_classes, grayscale=False):\n",
    "        super(LeNet5, self).__init__()\n",
    "        \n",
    "        self.grayscale = grayscale\n",
    "        self.num_classes = num_classes\n",
    "\n",
    "        if self.grayscale:\n",
    "            in_channels = 1\n",
    "        else:\n",
    "            in_channels = 3\n",
    "\n",
    "        self.features = nn.Sequential(\n",
    "            \n",
    "            nn.Conv2d(in_channels, 6, kernel_size=5),\n",
    "            nn.Tanh(),\n",
    "            nn.MaxPool2d(kernel_size=2),\n",
    "            nn.Conv2d(6, 16, kernel_size=5),\n",
    "            nn.Tanh(),\n",
    "            nn.MaxPool2d(kernel_size=2)\n",
    "        )\n",
    "\n",
    "        self.classifier = nn.Sequential(\n",
    "            nn.Linear(16*4*4, 120),\n",
    "            nn.Tanh(),\n",
    "            nn.Linear(120, 84),\n",
    "            nn.Tanh(),\n",
    "            nn.Linear(84, num_classes),\n",
    "        )\n",
    "\n",
    "\n",
    "    def forward(self, x):\n",
    "        x = self.features(x)\n",
    "        x = torch.flatten(x, 1)\n",
    "        logits = self.classifier(x)\n",
    "        probas = F.softmax(logits, dim=1)\n",
    "        return logits, probas"
   ]
  },
  {
   "cell_type": "code",
   "execution_count": 7,
   "metadata": {},
   "outputs": [],
   "source": [
    "torch.manual_seed(RANDOM_SEED)\n",
    "\n",
    "model = LeNet5(NUM_CLASSES, GRAYSCALE)\n",
    "model = model.to(DEVICE)\n",
    "\n",
    "optimizer = torch.optim.Adam(model.parameters(), lr=LEARNING_RATE)  "
   ]
  },
  {
   "cell_type": "code",
   "execution_count": 8,
   "metadata": {},
   "outputs": [],
   "source": [
    "def print_sizes(self, input, output):\n",
    "\n",
    "    print('Inside ' + self.__class__.__name__ + ' forward')\n",
    "    print('input size:', input[0].size())\n",
    "    print('output size:', output.data.size())"
   ]
  },
  {
   "cell_type": "markdown",
   "metadata": {},
   "source": [
    "# 4.训练"
   ]
  },
  {
   "cell_type": "code",
   "execution_count": 9,
   "metadata": {},
   "outputs": [
    {
     "name": "stdout",
     "output_type": "stream",
     "text": [
      "Epoch: 001/010 | Batch 0000/8290 | Cost: 2.3064\n",
      "Epoch: 001/010 | Batch 0500/8290 | Cost: 0.5008\n",
      "Epoch: 001/010 | Batch 1000/8290 | Cost: 0.6017\n",
      "Epoch: 001/010 | Batch 1500/8290 | Cost: 0.4216\n",
      "Epoch: 001/010 | Batch 2000/8290 | Cost: 0.4373\n",
      "Epoch: 001/010 | Batch 2500/8290 | Cost: 0.4212\n",
      "Epoch: 001/010 | Batch 3000/8290 | Cost: 0.3912\n",
      "Epoch: 001/010 | Batch 3500/8290 | Cost: 0.4013\n",
      "Epoch: 001/010 | Batch 4000/8290 | Cost: 0.4737\n",
      "Epoch: 001/010 | Batch 4500/8290 | Cost: 0.5046\n",
      "Epoch: 001/010 | Batch 5000/8290 | Cost: 0.3342\n",
      "Epoch: 001/010 | Batch 5500/8290 | Cost: 0.5237\n",
      "Epoch: 001/010 | Batch 6000/8290 | Cost: 0.3753\n",
      "Epoch: 001/010 | Batch 6500/8290 | Cost: 0.4355\n",
      "Epoch: 001/010 | Batch 7000/8290 | Cost: 0.4589\n",
      "Epoch: 001/010 | Batch 7500/8290 | Cost: 0.4232\n",
      "Epoch: 001/010 | Batch 8000/8290 | Cost: 0.2977\n",
      "Epoch: 001/010 | Train: 90.718% | Validation: 90.718%\n",
      "Time elapsed: 5.21 min\n",
      "Epoch: 002/010 | Batch 0000/8290 | Cost: 0.2151\n",
      "Epoch: 002/010 | Batch 0500/8290 | Cost: 0.1875\n",
      "Epoch: 002/010 | Batch 1000/8290 | Cost: 0.4253\n",
      "Epoch: 002/010 | Batch 1500/8290 | Cost: 0.3275\n",
      "Epoch: 002/010 | Batch 2000/8290 | Cost: 0.4079\n",
      "Epoch: 002/010 | Batch 2500/8290 | Cost: 0.3392\n",
      "Epoch: 002/010 | Batch 3000/8290 | Cost: 0.2814\n",
      "Epoch: 002/010 | Batch 3500/8290 | Cost: 0.3873\n",
      "Epoch: 002/010 | Batch 4000/8290 | Cost: 0.3102\n",
      "Epoch: 002/010 | Batch 4500/8290 | Cost: 0.2839\n",
      "Epoch: 002/010 | Batch 5000/8290 | Cost: 0.2944\n",
      "Epoch: 002/010 | Batch 5500/8290 | Cost: 0.4052\n",
      "Epoch: 002/010 | Batch 6000/8290 | Cost: 0.2659\n",
      "Epoch: 002/010 | Batch 6500/8290 | Cost: 0.1091\n",
      "Epoch: 002/010 | Batch 7000/8290 | Cost: 0.5208\n",
      "Epoch: 002/010 | Batch 7500/8290 | Cost: 0.2161\n",
      "Epoch: 002/010 | Batch 8000/8290 | Cost: 0.3900\n",
      "Epoch: 002/010 | Train: 91.609% | Validation: 91.609%\n",
      "Time elapsed: 10.02 min\n",
      "Epoch: 003/010 | Batch 0000/8290 | Cost: 0.2515\n",
      "Epoch: 003/010 | Batch 0500/8290 | Cost: 0.2009\n",
      "Epoch: 003/010 | Batch 1000/8290 | Cost: 0.2319\n",
      "Epoch: 003/010 | Batch 1500/8290 | Cost: 0.3935\n",
      "Epoch: 003/010 | Batch 2000/8290 | Cost: 0.2792\n",
      "Epoch: 003/010 | Batch 2500/8290 | Cost: 0.2759\n",
      "Epoch: 003/010 | Batch 3000/8290 | Cost: 0.2914\n",
      "Epoch: 003/010 | Batch 3500/8290 | Cost: 0.1874\n",
      "Epoch: 003/010 | Batch 4000/8290 | Cost: 0.3120\n",
      "Epoch: 003/010 | Batch 4500/8290 | Cost: 0.1726\n",
      "Epoch: 003/010 | Batch 5000/8290 | Cost: 0.2974\n",
      "Epoch: 003/010 | Batch 5500/8290 | Cost: 0.2256\n",
      "Epoch: 003/010 | Batch 6000/8290 | Cost: 0.2954\n",
      "Epoch: 003/010 | Batch 6500/8290 | Cost: 0.1576\n",
      "Epoch: 003/010 | Batch 7000/8290 | Cost: 0.1791\n",
      "Epoch: 003/010 | Batch 7500/8290 | Cost: 0.2693\n",
      "Epoch: 003/010 | Batch 8000/8290 | Cost: 0.2028\n",
      "Epoch: 003/010 | Train: 91.752% | Validation: 91.752%\n",
      "Time elapsed: 15.25 min\n",
      "Epoch: 004/010 | Batch 0000/8290 | Cost: 0.2204\n",
      "Epoch: 004/010 | Batch 0500/8290 | Cost: 0.2282\n",
      "Epoch: 004/010 | Batch 1000/8290 | Cost: 0.1545\n",
      "Epoch: 004/010 | Batch 1500/8290 | Cost: 0.1835\n",
      "Epoch: 004/010 | Batch 2000/8290 | Cost: 0.3613\n",
      "Epoch: 004/010 | Batch 2500/8290 | Cost: 0.1736\n",
      "Epoch: 004/010 | Batch 3000/8290 | Cost: 0.1302\n",
      "Epoch: 004/010 | Batch 3500/8290 | Cost: 0.3331\n",
      "Epoch: 004/010 | Batch 4000/8290 | Cost: 0.2517\n",
      "Epoch: 004/010 | Batch 4500/8290 | Cost: 0.2217\n",
      "Epoch: 004/010 | Batch 5000/8290 | Cost: 0.2774\n",
      "Epoch: 004/010 | Batch 5500/8290 | Cost: 0.3287\n",
      "Epoch: 004/010 | Batch 6000/8290 | Cost: 0.1891\n",
      "Epoch: 004/010 | Batch 6500/8290 | Cost: 0.2864\n",
      "Epoch: 004/010 | Batch 7000/8290 | Cost: 0.1760\n",
      "Epoch: 004/010 | Batch 7500/8290 | Cost: 0.4020\n",
      "Epoch: 004/010 | Batch 8000/8290 | Cost: 0.2542\n",
      "Epoch: 004/010 | Train: 92.327% | Validation: 92.327%\n",
      "Time elapsed: 20.33 min\n",
      "Epoch: 005/010 | Batch 0000/8290 | Cost: 0.1905\n",
      "Epoch: 005/010 | Batch 0500/8290 | Cost: 0.3119\n",
      "Epoch: 005/010 | Batch 1000/8290 | Cost: 0.3455\n",
      "Epoch: 005/010 | Batch 1500/8290 | Cost: 0.2246\n",
      "Epoch: 005/010 | Batch 2000/8290 | Cost: 0.2971\n",
      "Epoch: 005/010 | Batch 2500/8290 | Cost: 0.2810\n",
      "Epoch: 005/010 | Batch 3000/8290 | Cost: 0.3122\n",
      "Epoch: 005/010 | Batch 3500/8290 | Cost: 0.2902\n",
      "Epoch: 005/010 | Batch 4000/8290 | Cost: 0.2875\n",
      "Epoch: 005/010 | Batch 4500/8290 | Cost: 0.3532\n",
      "Epoch: 005/010 | Batch 5000/8290 | Cost: 0.2833\n",
      "Epoch: 005/010 | Batch 5500/8290 | Cost: 0.1738\n",
      "Epoch: 005/010 | Batch 6000/8290 | Cost: 0.2213\n",
      "Epoch: 005/010 | Batch 6500/8290 | Cost: 0.3340\n",
      "Epoch: 005/010 | Batch 7000/8290 | Cost: 0.2133\n",
      "Epoch: 005/010 | Batch 7500/8290 | Cost: 0.2290\n",
      "Epoch: 005/010 | Batch 8000/8290 | Cost: 0.1878\n",
      "Epoch: 005/010 | Train: 92.729% | Validation: 92.729%\n",
      "Time elapsed: 25.36 min\n",
      "Epoch: 006/010 | Batch 0000/8290 | Cost: 0.1680\n",
      "Epoch: 006/010 | Batch 0500/8290 | Cost: 0.1700\n",
      "Epoch: 006/010 | Batch 1000/8290 | Cost: 0.2040\n",
      "Epoch: 006/010 | Batch 1500/8290 | Cost: 0.2006\n",
      "Epoch: 006/010 | Batch 2000/8290 | Cost: 0.1541\n",
      "Epoch: 006/010 | Batch 2500/8290 | Cost: 0.3881\n",
      "Epoch: 006/010 | Batch 3000/8290 | Cost: 0.2276\n",
      "Epoch: 006/010 | Batch 3500/8290 | Cost: 0.3413\n",
      "Epoch: 006/010 | Batch 4000/8290 | Cost: 0.2334\n",
      "Epoch: 006/010 | Batch 4500/8290 | Cost: 0.1741\n",
      "Epoch: 006/010 | Batch 5000/8290 | Cost: 0.3108\n",
      "Epoch: 006/010 | Batch 5500/8290 | Cost: 0.3080\n",
      "Epoch: 006/010 | Batch 6000/8290 | Cost: 0.2302\n",
      "Epoch: 006/010 | Batch 6500/8290 | Cost: 0.2031\n",
      "Epoch: 006/010 | Batch 7000/8290 | Cost: 0.2326\n",
      "Epoch: 006/010 | Batch 7500/8290 | Cost: 0.1420\n",
      "Epoch: 006/010 | Batch 8000/8290 | Cost: 0.3012\n",
      "Epoch: 006/010 | Train: 92.689% | Validation: 92.689%\n",
      "Time elapsed: 30.29 min\n",
      "Epoch: 007/010 | Batch 0000/8290 | Cost: 0.2931\n",
      "Epoch: 007/010 | Batch 0500/8290 | Cost: 0.1975\n",
      "Epoch: 007/010 | Batch 1000/8290 | Cost: 0.1869\n",
      "Epoch: 007/010 | Batch 1500/8290 | Cost: 0.1846\n",
      "Epoch: 007/010 | Batch 2000/8290 | Cost: 0.2219\n",
      "Epoch: 007/010 | Batch 2500/8290 | Cost: 0.3618\n",
      "Epoch: 007/010 | Batch 3000/8290 | Cost: 0.2293\n",
      "Epoch: 007/010 | Batch 3500/8290 | Cost: 0.2782\n",
      "Epoch: 007/010 | Batch 4000/8290 | Cost: 0.2684\n",
      "Epoch: 007/010 | Batch 4500/8290 | Cost: 0.1990\n",
      "Epoch: 007/010 | Batch 5000/8290 | Cost: 0.3172\n",
      "Epoch: 007/010 | Batch 5500/8290 | Cost: 0.2420\n",
      "Epoch: 007/010 | Batch 6000/8290 | Cost: 0.1599\n",
      "Epoch: 007/010 | Batch 6500/8290 | Cost: 0.2775\n",
      "Epoch: 007/010 | Batch 7000/8290 | Cost: 0.1616\n",
      "Epoch: 007/010 | Batch 7500/8290 | Cost: 0.1668\n",
      "Epoch: 007/010 | Batch 8000/8290 | Cost: 0.4669\n",
      "Epoch: 007/010 | Train: 92.734% | Validation: 92.734%\n",
      "Time elapsed: 35.29 min\n",
      "Epoch: 008/010 | Batch 0000/8290 | Cost: 0.2844\n",
      "Epoch: 008/010 | Batch 0500/8290 | Cost: 0.1325\n",
      "Epoch: 008/010 | Batch 1000/8290 | Cost: 0.1825\n",
      "Epoch: 008/010 | Batch 1500/8290 | Cost: 0.2467\n",
      "Epoch: 008/010 | Batch 2000/8290 | Cost: 0.1242\n",
      "Epoch: 008/010 | Batch 2500/8290 | Cost: 0.2916\n",
      "Epoch: 008/010 | Batch 3000/8290 | Cost: 0.2593\n",
      "Epoch: 008/010 | Batch 3500/8290 | Cost: 0.1663\n",
      "Epoch: 008/010 | Batch 4000/8290 | Cost: 0.3879\n",
      "Epoch: 008/010 | Batch 4500/8290 | Cost: 0.3151\n",
      "Epoch: 008/010 | Batch 5000/8290 | Cost: 0.2750\n",
      "Epoch: 008/010 | Batch 5500/8290 | Cost: 0.1670\n",
      "Epoch: 008/010 | Batch 6000/8290 | Cost: 0.2397\n",
      "Epoch: 008/010 | Batch 6500/8290 | Cost: 0.1832\n",
      "Epoch: 008/010 | Batch 7000/8290 | Cost: 0.2878\n",
      "Epoch: 008/010 | Batch 7500/8290 | Cost: 0.1693\n",
      "Epoch: 008/010 | Batch 8000/8290 | Cost: 0.3241\n",
      "Epoch: 008/010 | Train: 92.968% | Validation: 92.968%\n",
      "Time elapsed: 40.22 min\n",
      "Epoch: 009/010 | Batch 0000/8290 | Cost: 0.2497\n",
      "Epoch: 009/010 | Batch 0500/8290 | Cost: 0.3211\n",
      "Epoch: 009/010 | Batch 1000/8290 | Cost: 0.2169\n",
      "Epoch: 009/010 | Batch 1500/8290 | Cost: 0.2684\n",
      "Epoch: 009/010 | Batch 2000/8290 | Cost: 0.1385\n",
      "Epoch: 009/010 | Batch 2500/8290 | Cost: 0.3107\n",
      "Epoch: 009/010 | Batch 3000/8290 | Cost: 0.2255\n",
      "Epoch: 009/010 | Batch 3500/8290 | Cost: 0.2646\n",
      "Epoch: 009/010 | Batch 4000/8290 | Cost: 0.2757\n",
      "Epoch: 009/010 | Batch 4500/8290 | Cost: 0.1493\n",
      "Epoch: 009/010 | Batch 5000/8290 | Cost: 0.3071\n",
      "Epoch: 009/010 | Batch 5500/8290 | Cost: 0.2165\n",
      "Epoch: 009/010 | Batch 6000/8290 | Cost: 0.3665\n",
      "Epoch: 009/010 | Batch 6500/8290 | Cost: 0.2713\n",
      "Epoch: 009/010 | Batch 7000/8290 | Cost: 0.2772\n",
      "Epoch: 009/010 | Batch 7500/8290 | Cost: 0.2975\n",
      "Epoch: 009/010 | Batch 8000/8290 | Cost: 0.2935\n",
      "Epoch: 009/010 | Train: 92.944% | Validation: 92.944%\n",
      "Time elapsed: 45.28 min\n",
      "Epoch: 010/010 | Batch 0000/8290 | Cost: 0.2626\n",
      "Epoch: 010/010 | Batch 0500/8290 | Cost: 0.2253\n",
      "Epoch: 010/010 | Batch 1000/8290 | Cost: 0.1903\n",
      "Epoch: 010/010 | Batch 1500/8290 | Cost: 0.2370\n"
     ]
    },
    {
     "name": "stdout",
     "output_type": "stream",
     "text": [
      "Epoch: 010/010 | Batch 2000/8290 | Cost: 0.2143\n",
      "Epoch: 010/010 | Batch 2500/8290 | Cost: 0.2201\n",
      "Epoch: 010/010 | Batch 3000/8290 | Cost: 0.1785\n",
      "Epoch: 010/010 | Batch 3500/8290 | Cost: 0.1711\n",
      "Epoch: 010/010 | Batch 4000/8290 | Cost: 0.2276\n",
      "Epoch: 010/010 | Batch 4500/8290 | Cost: 0.2888\n",
      "Epoch: 010/010 | Batch 5000/8290 | Cost: 0.1930\n",
      "Epoch: 010/010 | Batch 5500/8290 | Cost: 0.2556\n",
      "Epoch: 010/010 | Batch 6000/8290 | Cost: 0.3380\n",
      "Epoch: 010/010 | Batch 6500/8290 | Cost: 0.2052\n",
      "Epoch: 010/010 | Batch 7000/8290 | Cost: 0.2354\n",
      "Epoch: 010/010 | Batch 7500/8290 | Cost: 0.2767\n",
      "Epoch: 010/010 | Batch 8000/8290 | Cost: 0.2702\n",
      "Epoch: 010/010 | Train: 93.001% | Validation: 93.001%\n",
      "Time elapsed: 50.20 min\n",
      "Total Training Time: 50.20 min\n"
     ]
    }
   ],
   "source": [
    "def compute_accuracy(model, data_loader, device):\n",
    "    correct_pred, num_examples = 0, 0\n",
    "    for i, (features, targets) in enumerate(data_loader):\n",
    "            \n",
    "        features = features.to(device)\n",
    "        targets = targets.to(device)\n",
    "\n",
    "        logits, probas = model(features)\n",
    "        _, predicted_labels = torch.max(probas, 1)\n",
    "        num_examples += targets.size(0)\n",
    "        correct_pred += (predicted_labels == targets).sum()\n",
    "    return correct_pred.float()/num_examples * 100\n",
    "    \n",
    "\n",
    "start_time = time.time()\n",
    "for epoch in range(NUM_EPOCHS):\n",
    "    \n",
    "    model.train()\n",
    "    for batch_idx, (features, targets) in enumerate(train_loader):\n",
    "        \n",
    "        features = features.to(DEVICE)\n",
    "        targets = targets.to(DEVICE)\n",
    "            \n",
    "        ### FORWARD AND BACK PROP\n",
    "        logits, probas = model(features)\n",
    "        cost = F.cross_entropy(logits, targets)\n",
    "        optimizer.zero_grad()\n",
    "        \n",
    "        cost.backward()\n",
    "        \n",
    "        ### UPDATE MODEL PARAMETERS\n",
    "        optimizer.step()\n",
    "        \n",
    "        ### LOGGING\n",
    "        if not batch_idx % 500:\n",
    "            print ('Epoch: %03d/%03d | Batch %04d/%04d | Cost: %.4f' \n",
    "                   %(epoch+1, NUM_EPOCHS, batch_idx, \n",
    "                     len(train_loader), cost))\n",
    "\n",
    "\n",
    "    model.eval()\n",
    "    with torch.set_grad_enabled(False): # save memory during inference\n",
    "        print('Epoch: %03d/%03d | Train: %.3f%% | Validation: %.3f%%' % (\n",
    "              epoch+1, NUM_EPOCHS, \n",
    "              compute_accuracy(model, train_loader, device=DEVICE),\n",
    "              compute_accuracy(model, valid_loader, device=DEVICE) ))\n",
    "        \n",
    "    print('Time elapsed: %.2f min' % ((time.time() - start_time)/60))\n",
    "    \n",
    "print('Total Training Time: %.2f min' % ((time.time() - start_time)/60))"
   ]
  },
  {
   "cell_type": "markdown",
   "metadata": {},
   "source": [
    "# 5.评估"
   ]
  },
  {
   "cell_type": "code",
   "execution_count": 10,
   "metadata": {},
   "outputs": [
    {
     "name": "stdout",
     "output_type": "stream",
     "text": [
      "Test accuracy: 93.00%\n"
     ]
    }
   ],
   "source": [
    "with torch.set_grad_enabled(False): # save memory during inference\n",
    "    print('Test accuracy: %.2f%%' % (compute_accuracy(model, test_loader, device=DEVICE)))"
   ]
  },
  {
   "cell_type": "code",
   "execution_count": 11,
   "metadata": {},
   "outputs": [
    {
     "data": {
      "image/png": "[encoded data removed]",
      "text/plain": [
       "<Figure size 432x288 with 1 Axes>"
      ]
     },
     "metadata": {
      "needs_background": "light"
     },
     "output_type": "display_data"
    }
   ],
   "source": [
    "for batch_idx, (features, targets) in enumerate(test_loader):\n",
    "\n",
    "    features = features\n",
    "    targets = targets\n",
    "    break\n",
    "    \n",
    "nhwc_img = np.transpose(features[5], axes=(1, 2, 0))\n",
    "nhw_img = np.squeeze(nhwc_img.numpy(), axis=2)\n",
    "plt.imshow(nhw_img, cmap='Greys');"
   ]
  },
  {
   "cell_type": "code",
   "execution_count": 12,
   "metadata": {},
   "outputs": [
    {
     "name": "stdout",
     "output_type": "stream",
     "text": [
      "Probability Washing Machine 0.12%\n"
     ]
    }
   ],
   "source": [
    "model.eval()\n",
    "logits, probas = model(features.to(device)[0, None])\n",
    "print('Probability Washing Machine %.2f%%' % (probas[0][4]*100))"
   ]
  }
 ],
 "metadata": {
  "kernelspec": {
   "display_name": "Python 3",
   "language": "python",
   "name": "python3"
  },
  "language_info": {
   "codemirror_mode": {
    "name": "ipython",
    "version": 3
   },
   "file_extension": ".py",
   "mimetype": "text/x-python",
   "name": "python",
   "nbconvert_exporter": "python",
   "pygments_lexer": "ipython3",
   "version": "3.6.6"
  }
 },
 "nbformat": 4,
 "nbformat_minor": 2
}
