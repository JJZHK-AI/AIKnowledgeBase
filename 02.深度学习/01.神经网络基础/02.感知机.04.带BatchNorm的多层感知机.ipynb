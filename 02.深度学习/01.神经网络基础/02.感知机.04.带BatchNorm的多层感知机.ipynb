{
 "nbformat": 4,
 "nbformat_minor": 2,
 "metadata": {
  "language_info": {
   "name": "python",
   "codemirror_mode": {
    "name": "ipython",
    "version": 3
   },
   "version": "3.6.10-final"
  },
  "orig_nbformat": 2,
  "file_extension": ".py",
  "mimetype": "text/x-python",
  "name": "python",
  "npconvert_exporter": "python",
  "pygments_lexer": "ipython3",
  "version": 3,
  "kernelspec": {
   "name": "python36964bitanaconda3virtualenv5d618e8c7b894374a565943176146b80",
   "display_name": "Python 3.6.9 64-bit ('anaconda3': virtualenv)"
  }
 },
 "cells": [
  {
   "cell_type": "markdown",
   "metadata": {},
   "source": [
    "带BatchNorm的多层感知机\n",
    "==="
   ]
  },
  {
   "cell_type": "code",
   "execution_count": 1,
   "metadata": {},
   "outputs": [
    {
     "name": "stdout",
     "output_type": "stream",
     "text": "Sebastian Raschka \n\nCPython 3.6.10\nIPython 7.12.0\n\ntorch 1.3.1\n"
    }
   ],
   "source": [
    "%load_ext watermark\n",
    "%watermark -a 'Sebastian Raschka' -v -p torch"
   ]
  },
  {
   "cell_type": "code",
   "execution_count": 2,
   "metadata": {},
   "outputs": [],
   "source": [
    "import time\n",
    "import numpy as np\n",
    "from torchvision import datasets\n",
    "from torchvision import transforms\n",
    "from torch.utils.data import DataLoader\n",
    "import torch.nn.functional as F\n",
    "import torch\n",
    "\n",
    "if torch.cuda.is_available():\n",
    "    torch.backends.cudnn.deterministic = True"
   ]
  },
  {
   "cell_type": "markdown",
   "metadata": {},
   "source": [
    "# 1.导入数据"
   ]
  },
  {
   "cell_type": "code",
   "execution_count": 3,
   "metadata": {},
   "outputs": [
    {
     "name": "stdout",
     "output_type": "stream",
     "text": "Image batch dimensions: torch.Size([64, 1, 28, 28])\nImage label dimensions: torch.Size([64])\n"
    }
   ],
   "source": [
    "# Device\n",
    "device = torch.device(\"cuda:0\" if torch.cuda.is_available() else \"cpu\")\n",
    "\n",
    "# Hyperparameters\n",
    "random_seed = 1\n",
    "learning_rate = 0.1\n",
    "num_epochs = 10\n",
    "batch_size = 64\n",
    "\n",
    "# Architecture\n",
    "num_features = 784\n",
    "num_hidden_1 = 128\n",
    "num_hidden_2 = 256\n",
    "num_classes = 10\n",
    "\n",
    "train_dataset = datasets.MNIST(root='/Users/JJZHK/data/input/', \n",
    "                               train=True, \n",
    "                               transform=transforms.ToTensor(),\n",
    "                               download=True)\n",
    "\n",
    "test_dataset = datasets.MNIST(root='/Users/JJZHK/data/input/', \n",
    "                              train=False, \n",
    "                              transform=transforms.ToTensor())\n",
    "\n",
    "\n",
    "train_loader = DataLoader(dataset=train_dataset, \n",
    "                          batch_size=batch_size, \n",
    "                          shuffle=True)\n",
    "\n",
    "test_loader = DataLoader(dataset=test_dataset, \n",
    "                         batch_size=batch_size, \n",
    "                         shuffle=False)\n",
    "\n",
    "# Checking the dataset\n",
    "for images, labels in train_loader:  \n",
    "    print('Image batch dimensions:', images.shape)\n",
    "    print('Image label dimensions:', labels.shape)\n",
    "    break"
   ]
  },
  {
   "cell_type": "code",
   "execution_count": 4,
   "metadata": {},
   "outputs": [],
   "source": [
    "class MultilayerPerceptron(torch.nn.Module):\n",
    "\n",
    "    def __init__(self, num_features, num_classes):\n",
    "        super(MultilayerPerceptron, self).__init__()\n",
    "        \n",
    "        ### 1st hidden layer\n",
    "        self.linear_1 = torch.nn.Linear(num_features, num_hidden_1)\n",
    "        # The following to lones are not necessary, \n",
    "        # but used here to demonstrate how to access the weights\n",
    "        # and use a different weight initialization.\n",
    "        # By default, PyTorch uses Xavier/Glorot initialization, which\n",
    "        # should usually be preferred.\n",
    "        self.linear_1.weight.detach().normal_(0.0, 0.1)\n",
    "        self.linear_1.bias.detach().zero_()\n",
    "        self.linear_1_bn = torch.nn.BatchNorm1d(num_hidden_1)\n",
    "        \n",
    "        ### 2nd hidden layer\n",
    "        self.linear_2 = torch.nn.Linear(num_hidden_1, num_hidden_2)\n",
    "        self.linear_2.weight.detach().normal_(0.0, 0.1)\n",
    "        self.linear_2.bias.detach().zero_()\n",
    "        self.linear_2_bn = torch.nn.BatchNorm1d(num_hidden_2)\n",
    "        \n",
    "        ### Output layer\n",
    "        self.linear_out = torch.nn.Linear(num_hidden_2, num_classes)\n",
    "        self.linear_out.weight.detach().normal_(0.0, 0.1)\n",
    "        self.linear_out.bias.detach().zero_()\n",
    "        \n",
    "    def forward(self, x):\n",
    "        out = self.linear_1(x)\n",
    "        # note that batchnorm is in the classic\n",
    "        # sense placed before the activation\n",
    "        out = self.linear_1_bn(out)\n",
    "        out = F.relu(out)\n",
    "        \n",
    "        out = self.linear_2(out)\n",
    "        out = self.linear_2_bn(out)\n",
    "        out = F.relu(out)\n",
    "        \n",
    "        logits = self.linear_out(out)\n",
    "        probas = F.softmax(logits, dim=1)\n",
    "        return logits, probas\n",
    "\n",
    "    \n",
    "torch.manual_seed(random_seed)\n",
    "model = MultilayerPerceptron(num_features=num_features,\n",
    "                             num_classes=num_classes)\n",
    "\n",
    "model = model.to(device)\n",
    "\n",
    "optimizer = torch.optim.SGD(model.parameters(), lr=learning_rate)"
   ]
  },
  {
   "cell_type": "markdown",
   "metadata": {},
   "source": [
    "# 2.训练数据"
   ]
  },
  {
   "cell_type": "code",
   "execution_count": 5,
   "metadata": {},
   "outputs": [
    {
     "name": "stdout",
     "output_type": "stream",
     "text": "Epoch: 001/010 | Batch 000/938 | Cost: 2.5360\nEpoch: 001/010 | Batch 050/938 | Cost: 0.5556\nEpoch: 001/010 | Batch 100/938 | Cost: 0.2730\nEpoch: 001/010 | Batch 150/938 | Cost: 0.3793\nEpoch: 001/010 | Batch 200/938 | Cost: 0.3245\nEpoch: 001/010 | Batch 250/938 | Cost: 0.2207\nEpoch: 001/010 | Batch 300/938 | Cost: 0.3707\nEpoch: 001/010 | Batch 350/938 | Cost: 0.1886\nEpoch: 001/010 | Batch 400/938 | Cost: 0.0478\nEpoch: 001/010 | Batch 450/938 | Cost: 0.2331\nEpoch: 001/010 | Batch 500/938 | Cost: 0.2347\nEpoch: 001/010 | Batch 550/938 | Cost: 0.1798\nEpoch: 001/010 | Batch 600/938 | Cost: 0.2193\nEpoch: 001/010 | Batch 650/938 | Cost: 0.3885\nEpoch: 001/010 | Batch 700/938 | Cost: 0.1950\nEpoch: 001/010 | Batch 750/938 | Cost: 0.2173\nEpoch: 001/010 | Batch 800/938 | Cost: 0.1249\nEpoch: 001/010 | Batch 850/938 | Cost: 0.0855\nEpoch: 001/010 | Batch 900/938 | Cost: 0.2595\nEpoch: 001/010 training accuracy: 96.41%\nTime elapsed: 0.26 min\nEpoch: 002/010 | Batch 000/938 | Cost: 0.2569\nEpoch: 002/010 | Batch 050/938 | Cost: 0.2194\nEpoch: 002/010 | Batch 100/938 | Cost: 0.0515\nEpoch: 002/010 | Batch 150/938 | Cost: 0.1562\nEpoch: 002/010 | Batch 200/938 | Cost: 0.1553\nEpoch: 002/010 | Batch 250/938 | Cost: 0.1860\nEpoch: 002/010 | Batch 300/938 | Cost: 0.0972\nEpoch: 002/010 | Batch 350/938 | Cost: 0.1618\nEpoch: 002/010 | Batch 400/938 | Cost: 0.1162\nEpoch: 002/010 | Batch 450/938 | Cost: 0.0771\nEpoch: 002/010 | Batch 500/938 | Cost: 0.2106\nEpoch: 002/010 | Batch 550/938 | Cost: 0.1832\nEpoch: 002/010 | Batch 600/938 | Cost: 0.1107\nEpoch: 002/010 | Batch 650/938 | Cost: 0.1161\nEpoch: 002/010 | Batch 700/938 | Cost: 0.2124\nEpoch: 002/010 | Batch 750/938 | Cost: 0.0449\nEpoch: 002/010 | Batch 800/938 | Cost: 0.1676\nEpoch: 002/010 | Batch 850/938 | Cost: 0.1551\nEpoch: 002/010 | Batch 900/938 | Cost: 0.1623\nEpoch: 002/010 training accuracy: 97.75%\nTime elapsed: 0.52 min\nEpoch: 003/010 | Batch 000/938 | Cost: 0.0958\nEpoch: 003/010 | Batch 050/938 | Cost: 0.1173\nEpoch: 003/010 | Batch 100/938 | Cost: 0.0554\nEpoch: 003/010 | Batch 150/938 | Cost: 0.1687\nEpoch: 003/010 | Batch 200/938 | Cost: 0.0941\nEpoch: 003/010 | Batch 250/938 | Cost: 0.1725\nEpoch: 003/010 | Batch 300/938 | Cost: 0.0633\nEpoch: 003/010 | Batch 350/938 | Cost: 0.1217\nEpoch: 003/010 | Batch 400/938 | Cost: 0.0774\nEpoch: 003/010 | Batch 450/938 | Cost: 0.0738\nEpoch: 003/010 | Batch 500/938 | Cost: 0.0690\nEpoch: 003/010 | Batch 550/938 | Cost: 0.0576\nEpoch: 003/010 | Batch 600/938 | Cost: 0.2566\nEpoch: 003/010 | Batch 650/938 | Cost: 0.0813\nEpoch: 003/010 | Batch 700/938 | Cost: 0.2336\nEpoch: 003/010 | Batch 750/938 | Cost: 0.0483\nEpoch: 003/010 | Batch 800/938 | Cost: 0.0117\nEpoch: 003/010 | Batch 850/938 | Cost: 0.0142\nEpoch: 003/010 | Batch 900/938 | Cost: 0.0609\nEpoch: 003/010 training accuracy: 98.54%\nTime elapsed: 0.79 min\nEpoch: 004/010 | Batch 000/938 | Cost: 0.0085\nEpoch: 004/010 | Batch 050/938 | Cost: 0.0357\nEpoch: 004/010 | Batch 100/938 | Cost: 0.1066\nEpoch: 004/010 | Batch 150/938 | Cost: 0.0441\nEpoch: 004/010 | Batch 200/938 | Cost: 0.0440\nEpoch: 004/010 | Batch 250/938 | Cost: 0.1090\nEpoch: 004/010 | Batch 300/938 | Cost: 0.1162\nEpoch: 004/010 | Batch 350/938 | Cost: 0.0381\nEpoch: 004/010 | Batch 400/938 | Cost: 0.0522\nEpoch: 004/010 | Batch 450/938 | Cost: 0.1031\nEpoch: 004/010 | Batch 500/938 | Cost: 0.1278\nEpoch: 004/010 | Batch 550/938 | Cost: 0.1087\nEpoch: 004/010 | Batch 600/938 | Cost: 0.0615\nEpoch: 004/010 | Batch 650/938 | Cost: 0.0311\nEpoch: 004/010 | Batch 700/938 | Cost: 0.1460\nEpoch: 004/010 | Batch 750/938 | Cost: 0.1332\nEpoch: 004/010 | Batch 800/938 | Cost: 0.0967\nEpoch: 004/010 | Batch 850/938 | Cost: 0.0626\nEpoch: 004/010 | Batch 900/938 | Cost: 0.1456\nEpoch: 004/010 training accuracy: 98.83%\nTime elapsed: 1.05 min\nEpoch: 005/010 | Batch 000/938 | Cost: 0.0406\nEpoch: 005/010 | Batch 050/938 | Cost: 0.0138\nEpoch: 005/010 | Batch 100/938 | Cost: 0.1012\nEpoch: 005/010 | Batch 150/938 | Cost: 0.0417\nEpoch: 005/010 | Batch 200/938 | Cost: 0.0625\nEpoch: 005/010 | Batch 250/938 | Cost: 0.0812\nEpoch: 005/010 | Batch 300/938 | Cost: 0.0347\nEpoch: 005/010 | Batch 350/938 | Cost: 0.0546\nEpoch: 005/010 | Batch 400/938 | Cost: 0.0936\nEpoch: 005/010 | Batch 450/938 | Cost: 0.0233\nEpoch: 005/010 | Batch 500/938 | Cost: 0.0404\nEpoch: 005/010 | Batch 550/938 | Cost: 0.0308\nEpoch: 005/010 | Batch 600/938 | Cost: 0.0803\nEpoch: 005/010 | Batch 650/938 | Cost: 0.0211\nEpoch: 005/010 | Batch 700/938 | Cost: 0.0497\nEpoch: 005/010 | Batch 750/938 | Cost: 0.0416\nEpoch: 005/010 | Batch 800/938 | Cost: 0.0520\nEpoch: 005/010 | Batch 850/938 | Cost: 0.0990\nEpoch: 005/010 | Batch 900/938 | Cost: 0.0122\nEpoch: 005/010 training accuracy: 99.18%\nTime elapsed: 1.32 min\nEpoch: 006/010 | Batch 000/938 | Cost: 0.0388\nEpoch: 006/010 | Batch 050/938 | Cost: 0.1720\nEpoch: 006/010 | Batch 100/938 | Cost: 0.1284\nEpoch: 006/010 | Batch 150/938 | Cost: 0.0295\nEpoch: 006/010 | Batch 200/938 | Cost: 0.0367\nEpoch: 006/010 | Batch 250/938 | Cost: 0.0443\nEpoch: 006/010 | Batch 300/938 | Cost: 0.0523\nEpoch: 006/010 | Batch 350/938 | Cost: 0.0819\nEpoch: 006/010 | Batch 400/938 | Cost: 0.0958\nEpoch: 006/010 | Batch 450/938 | Cost: 0.0610\nEpoch: 006/010 | Batch 500/938 | Cost: 0.1876\nEpoch: 006/010 | Batch 550/938 | Cost: 0.1309\nEpoch: 006/010 | Batch 600/938 | Cost: 0.0870\nEpoch: 006/010 | Batch 650/938 | Cost: 0.0202\nEpoch: 006/010 | Batch 700/938 | Cost: 0.0678\nEpoch: 006/010 | Batch 750/938 | Cost: 0.1002\nEpoch: 006/010 | Batch 800/938 | Cost: 0.0560\nEpoch: 006/010 | Batch 850/938 | Cost: 0.0376\nEpoch: 006/010 | Batch 900/938 | Cost: 0.1664\nEpoch: 006/010 training accuracy: 99.40%\nTime elapsed: 1.59 min\nEpoch: 007/010 | Batch 000/938 | Cost: 0.0037\nEpoch: 007/010 | Batch 050/938 | Cost: 0.0977\nEpoch: 007/010 | Batch 100/938 | Cost: 0.0378\nEpoch: 007/010 | Batch 150/938 | Cost: 0.0959\nEpoch: 007/010 | Batch 200/938 | Cost: 0.0578\nEpoch: 007/010 | Batch 250/938 | Cost: 0.0281\nEpoch: 007/010 | Batch 300/938 | Cost: 0.0341\nEpoch: 007/010 | Batch 350/938 | Cost: 0.0732\nEpoch: 007/010 | Batch 400/938 | Cost: 0.0304\nEpoch: 007/010 | Batch 450/938 | Cost: 0.0098\nEpoch: 007/010 | Batch 500/938 | Cost: 0.0394\nEpoch: 007/010 | Batch 550/938 | Cost: 0.0401\nEpoch: 007/010 | Batch 600/938 | Cost: 0.0649\nEpoch: 007/010 | Batch 650/938 | Cost: 0.0529\nEpoch: 007/010 | Batch 700/938 | Cost: 0.0286\nEpoch: 007/010 | Batch 750/938 | Cost: 0.0397\nEpoch: 007/010 | Batch 800/938 | Cost: 0.0076\nEpoch: 007/010 | Batch 850/938 | Cost: 0.0463\nEpoch: 007/010 | Batch 900/938 | Cost: 0.0832\nEpoch: 007/010 training accuracy: 99.58%\nTime elapsed: 1.86 min\nEpoch: 008/010 | Batch 000/938 | Cost: 0.0195\nEpoch: 008/010 | Batch 050/938 | Cost: 0.0383\nEpoch: 008/010 | Batch 100/938 | Cost: 0.0273\nEpoch: 008/010 | Batch 150/938 | Cost: 0.0427\nEpoch: 008/010 | Batch 200/938 | Cost: 0.0135\nEpoch: 008/010 | Batch 250/938 | Cost: 0.0579\nEpoch: 008/010 | Batch 300/938 | Cost: 0.0164\nEpoch: 008/010 | Batch 350/938 | Cost: 0.0391\nEpoch: 008/010 | Batch 400/938 | Cost: 0.0281\nEpoch: 008/010 | Batch 450/938 | Cost: 0.0043\nEpoch: 008/010 | Batch 500/938 | Cost: 0.0106\nEpoch: 008/010 | Batch 550/938 | Cost: 0.0095\nEpoch: 008/010 | Batch 600/938 | Cost: 0.0196\nEpoch: 008/010 | Batch 650/938 | Cost: 0.0494\nEpoch: 008/010 | Batch 700/938 | Cost: 0.0179\nEpoch: 008/010 | Batch 750/938 | Cost: 0.0267\nEpoch: 008/010 | Batch 800/938 | Cost: 0.0325\nEpoch: 008/010 | Batch 850/938 | Cost: 0.0111\nEpoch: 008/010 | Batch 900/938 | Cost: 0.0363\nEpoch: 008/010 training accuracy: 99.66%\nTime elapsed: 2.13 min\nEpoch: 009/010 | Batch 000/938 | Cost: 0.0231\nEpoch: 009/010 | Batch 050/938 | Cost: 0.0866\nEpoch: 009/010 | Batch 100/938 | Cost: 0.0169\nEpoch: 009/010 | Batch 150/938 | Cost: 0.0065\nEpoch: 009/010 | Batch 200/938 | Cost: 0.0561\nEpoch: 009/010 | Batch 250/938 | Cost: 0.0152\nEpoch: 009/010 | Batch 300/938 | Cost: 0.0161\nEpoch: 009/010 | Batch 350/938 | Cost: 0.0065\nEpoch: 009/010 | Batch 400/938 | Cost: 0.0242\nEpoch: 009/010 | Batch 450/938 | Cost: 0.0194\nEpoch: 009/010 | Batch 500/938 | Cost: 0.0459\nEpoch: 009/010 | Batch 550/938 | Cost: 0.0183\nEpoch: 009/010 | Batch 600/938 | Cost: 0.0728\nEpoch: 009/010 | Batch 650/938 | Cost: 0.0551\nEpoch: 009/010 | Batch 700/938 | Cost: 0.0181\nEpoch: 009/010 | Batch 750/938 | Cost: 0.0603\nEpoch: 009/010 | Batch 800/938 | Cost: 0.0146\nEpoch: 009/010 | Batch 850/938 | Cost: 0.0955\nEpoch: 009/010 | Batch 900/938 | Cost: 0.0029\nEpoch: 009/010 training accuracy: 99.79%\nTime elapsed: 2.40 min\nEpoch: 010/010 | Batch 000/938 | Cost: 0.0085\nEpoch: 010/010 | Batch 050/938 | Cost: 0.0239\nEpoch: 010/010 | Batch 100/938 | Cost: 0.0272\nEpoch: 010/010 | Batch 150/938 | Cost: 0.0068\nEpoch: 010/010 | Batch 200/938 | Cost: 0.0230\nEpoch: 010/010 | Batch 250/938 | Cost: 0.0089\nEpoch: 010/010 | Batch 300/938 | Cost: 0.0117\nEpoch: 010/010 | Batch 350/938 | Cost: 0.0173\nEpoch: 010/010 | Batch 400/938 | Cost: 0.0031\nEpoch: 010/010 | Batch 450/938 | Cost: 0.0351\nEpoch: 010/010 | Batch 500/938 | Cost: 0.1315\nEpoch: 010/010 | Batch 550/938 | Cost: 0.0173\nEpoch: 010/010 | Batch 600/938 | Cost: 0.0166\nEpoch: 010/010 | Batch 650/938 | Cost: 0.0135\nEpoch: 010/010 | Batch 700/938 | Cost: 0.0123\nEpoch: 010/010 | Batch 750/938 | Cost: 0.0028\nEpoch: 010/010 | Batch 800/938 | Cost: 0.0105\nEpoch: 010/010 | Batch 850/938 | Cost: 0.0604\nEpoch: 010/010 | Batch 900/938 | Cost: 0.0151\nEpoch: 010/010 training accuracy: 99.77%\nTime elapsed: 2.67 min\nTotal Training Time: 2.67 min\n"
    }
   ],
   "source": [
    "def compute_accuracy(net, data_loader):\n",
    "    net.eval()\n",
    "    correct_pred, num_examples = 0, 0\n",
    "    with torch.no_grad():\n",
    "        for features, targets in data_loader:\n",
    "            features = features.view(-1, 28*28).to(device)\n",
    "            targets = targets.to(device)\n",
    "            logits, probas = net(features)\n",
    "            _, predicted_labels = torch.max(probas, 1)\n",
    "            num_examples += targets.size(0)\n",
    "            correct_pred += (predicted_labels == targets).sum()\n",
    "        return correct_pred.float()/num_examples * 100\n",
    "\n",
    "    \n",
    "start_time = time.time()\n",
    "for epoch in range(num_epochs):\n",
    "    model.train()\n",
    "    for batch_idx, (features, targets) in enumerate(train_loader):\n",
    "        \n",
    "        features = features.view(-1, 28*28).to(device)\n",
    "        targets = targets.to(device)\n",
    "            \n",
    "        ### FORWARD AND BACK PROP\n",
    "        logits, probas = model(features)\n",
    "        cost = F.cross_entropy(logits, targets)\n",
    "        optimizer.zero_grad()\n",
    "        \n",
    "        cost.backward()\n",
    "        \n",
    "        ### UPDATE MODEL PARAMETERS\n",
    "        optimizer.step()\n",
    "        \n",
    "        ### LOGGING\n",
    "        if not batch_idx % 50:\n",
    "            print ('Epoch: %03d/%03d | Batch %03d/%03d | Cost: %.4f' \n",
    "                   %(epoch+1, num_epochs, batch_idx, \n",
    "                     len(train_loader), cost))\n",
    "\n",
    "    print('Epoch: %03d/%03d training accuracy: %.2f%%' % (\n",
    "          epoch+1, num_epochs, \n",
    "          compute_accuracy(model, train_loader)))\n",
    "\n",
    "    print('Time elapsed: %.2f min' % ((time.time() - start_time)/60))\n",
    "    \n",
    "print('Total Training Time: %.2f min' % ((time.time() - start_time)/60))"
   ]
  },
  {
   "cell_type": "code",
   "execution_count": 6,
   "metadata": {},
   "outputs": [
    {
     "name": "stdout",
     "output_type": "stream",
     "text": "Test accuracy: 97.92%\n"
    }
   ],
   "source": [
    "print('Test accuracy: %.2f%%' % (compute_accuracy(model, test_loader)))"
   ]
  }
 ]
}